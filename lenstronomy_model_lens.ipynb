{
 "cells": [
  {
   "cell_type": "code",
   "execution_count": 1,
   "metadata": {
    "ExecuteTime": {
     "end_time": "2023-09-01T20:14:28.742482100Z",
     "start_time": "2023-09-01T20:14:28.719903400Z"
    },
    "collapsed": false
   },
   "outputs": [],
   "source": [
    "import os\n",
    "import sys\n",
    "\n",
    "path = os.getcwd()\n",
    "while os.path.basename(os.path.normpath(path)) != 'roman_tools':\n",
    "    path = os.path.dirname(path)\n",
    "repo_path = path\n",
    "if repo_path not in sys.path:\n",
    "    sys.path.append(repo_path)"
   ]
  },
  {
   "cell_type": "code",
   "execution_count": 2,
   "metadata": {
    "ExecuteTime": {
     "end_time": "2023-09-01T20:14:32.290592800Z",
     "start_time": "2023-09-01T20:14:28.728493400Z"
    },
    "collapsed": true
   },
   "outputs": [],
   "source": [
    "import matplotlib.pyplot as plt\n",
    "%matplotlib inline\n",
    "import numpy as np\n",
    "import math\n",
    "\n",
    "from lenstronomy.LightModel.Profiles.gaussian import GaussianEllipse\n",
    "gauss = GaussianEllipse()\n",
    "\n",
    "from lenstronomy.ImSim.image_model import ImageModel\n",
    "from lenstronomy.Data.pixel_grid import PixelGrid\n",
    "from lenstronomy.LensModel.lens_model import LensModel\n",
    "from lenstronomy.LightModel.light_model import LightModel\n",
    "from lenstronomy.Data.psf import PSF"
   ]
  },
  {
   "cell_type": "code",
   "execution_count": 3,
   "metadata": {
    "ExecuteTime": {
     "end_time": "2023-09-01T20:14:32.353975100Z",
     "start_time": "2023-09-01T20:14:32.297590300Z"
    },
    "collapsed": false
   },
   "outputs": [],
   "source": [
    "lens_model_list = ['SIE', 'SHEAR']\n",
    "\n",
    "kwargs_spemd = {'theta_E': 1.7, 'e1': 0.07, 'e2': -0.03, 'center_x': 0.05, 'center_y': -0.25}\n",
    "kwargs_shear = {'gamma1': 0.1, 'gamma2': -0.05}\n",
    "\n",
    "kwargs_lens = [kwargs_spemd, kwargs_shear]\n",
    "lens_model_class = LensModel(lens_model_list)\n",
    "\n",
    "lens_light_model_list = ['SERSIC_ELLIPSE']\n",
    "\n",
    "kwargs_sersic_lens = {'amp': 10, 'R_sersic': 0.6, 'n_sersic': 2, 'e1': -0.1, 'e2': 0.1, 'center_x': 0.05, 'center_y': 0}\n",
    "\n",
    "kwargs_lens_light = [kwargs_sersic_lens]\n",
    "lens_light_model_class = LightModel(lens_light_model_list)\n",
    "\n",
    "source_model_list = ['SERSIC_ELLIPSE']\n",
    "\n",
    "kwargs_sersic = {'amp': 10, 'R_sersic': 0.1, 'n_sersic': 1, 'e1': -0.1, 'e2': 0.1, 'center_x': 0.1, 'center_y': 0}\n",
    "\n",
    "kwargs_source_light = [kwargs_sersic]\n",
    "source_model_class = LightModel(source_model_list)"
   ]
  },
  {
   "cell_type": "code",
   "execution_count": 4,
   "metadata": {
    "ExecuteTime": {
     "end_time": "2023-09-01T20:14:32.367057200Z",
     "start_time": "2023-09-01T20:14:32.354974900Z"
    },
    "collapsed": false
   },
   "outputs": [],
   "source": [
    "num_pix = 45\n",
    "delta_pix = 0.11  # size of pixel in angular coordinates\n",
    "ra_at_xy_0, dec_at_xy_0 = -delta_pix * math.ceil(num_pix / 2), -delta_pix * math.ceil(num_pix / 2) # coordinate in angles (RA/DEC) at the position of the pixel edge (0,0)\n",
    "transform_pix2angle = np.array([[1, 0], [0, 1]]) * delta_pix  # linear translation matrix of a shift in pixel in a shift in coordinates\n",
    "\n",
    "kwargs_pixel = {'nx': num_pix, 'ny': num_pix,  # number of pixels per axis\n",
    "                'ra_at_xy_0': ra_at_xy_0,  # RA at pixel (0,0)\n",
    "                'dec_at_xy_0': dec_at_xy_0,  # DEC at pixel (0,0)\n",
    "                'transform_pix2angle': transform_pix2angle}\n",
    "pixel_grid = PixelGrid(**kwargs_pixel)\n",
    "\n",
    "kwargs_psf = {'psf_type': 'NONE'}\n",
    "psf_class = PSF(**kwargs_psf)"
   ]
  },
  {
   "cell_type": "code",
   "execution_count": 10,
   "metadata": {
    "ExecuteTime": {
     "end_time": "2023-09-01T20:14:33.007451Z",
     "start_time": "2023-09-01T20:14:32.373106800Z"
    },
    "collapsed": false
   },
   "outputs": [
    {
     "data": {
      "image/png": "[encoded data removed]",
      "text/plain": [
       "<Figure size 640x480 with 1 Axes>"
      ]
     },
     "metadata": {},
     "output_type": "display_data"
    }
   ],
   "source": [
    "kwargs_numerics = {'supersampling_factor': 1,\n",
    "                   'supersampling_convolution': False}\n",
    "\n",
    "imageModel = ImageModel(data_class=pixel_grid,\n",
    "                        psf_class=psf_class,\n",
    "                        lens_model_class=lens_model_class,\n",
    "                        source_model_class=source_model_class,\n",
    "                        lens_light_model_class=lens_light_model_class,\n",
    "                        kwargs_numerics=kwargs_numerics)\n",
    "\n",
    "kwargs_model = {'lens_model_list': lens_model_list,\n",
    "                'lens_light_model_list': lens_light_model_list,\n",
    "                'source_light_model_list': source_model_list}\n",
    "\n",
    "image = imageModel.image(kwargs_lens=kwargs_lens,\n",
    "                         kwargs_source=kwargs_source_light,\n",
    "                         kwargs_lens_light=kwargs_lens_light)\n",
    "\n",
    "plt.imshow(image, origin='lower')\n",
    "plt.title('Lenstronomy model with no PSF')\n",
    "plt.savefig('figures/model.png')\n",
    "plt.show()"
   ]
  },
  {
   "cell_type": "code",
   "execution_count": 6,
   "metadata": {},
   "outputs": [],
   "source": [
    "from astropy.io import fits\n",
    "\n",
    "hdul = fits.HDUList()\n",
    "hdul.append(fits.PrimaryHDU())\n",
    "hdul.append(fits.ImageHDU(data=image))\n",
    "\n",
    "hdul.writeto('output.fits', overwrite=True)"
   ]
  },
  {
   "cell_type": "code",
   "execution_count": 8,
   "metadata": {},
   "outputs": [],
   "source": [
    "np.save('model', image)"
   ]
  }
 ],
 "metadata": {
  "kernelspec": {
   "display_name": "Python 3",
   "language": "python",
   "name": "python3"
  },
  "language_info": {
   "codemirror_mode": {
    "name": "ipython",
    "version": 3
   },
   "file_extension": ".py",
   "mimetype": "text/x-python",
   "name": "python",
   "nbconvert_exporter": "python",
   "pygments_lexer": "ipython3",
   "version": "3.10.6"
  }
 },
 "nbformat": 4,
 "nbformat_minor": 0
}
