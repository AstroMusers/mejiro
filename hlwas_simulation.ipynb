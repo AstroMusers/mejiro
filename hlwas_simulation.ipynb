{
 "cells": [
  {
   "cell_type": "code",
   "execution_count": 1,
   "metadata": {},
   "outputs": [],
   "source": [
    "import numpy as np\n",
    "import os\n",
    "import matplotlib.pyplot as plt\n",
    "import astropy\n",
    "import speclite\n",
    "from astropy.cosmology import default_cosmology\n",
    "from astropy.units import Quantity\n",
    "from slsim.lens_pop import LensPop\n",
    "from slsim.Observations.roman_speclite import configure_roman_filters, filter_names\n",
    "from tqdm import tqdm\n",
    "\n",
    "from mejiro.helpers import survey_sim\n",
    "\n",
    "%matplotlib inline"
   ]
  },
  {
   "cell_type": "code",
   "execution_count": 2,
   "metadata": {},
   "outputs": [],
   "source": [
    "area_hlwas = 1700.\n",
    "cosmo = default_cosmology.get()\n",
    "\n",
    "survey_area = 0.1\n",
    "sky_area = Quantity(value=survey_area, unit='deg2')"
   ]
  },
  {
   "cell_type": "code",
   "execution_count": 3,
   "metadata": {},
   "outputs": [],
   "source": [
    "# load Roman WFI filters\n",
    "configure_roman_filters()\n",
    "roman_filters = filter_names()\n",
    "roman_filters.sort()\n",
    "_ = speclite.filters.load_filters(*roman_filters[:8])"
   ]
  },
  {
   "cell_type": "code",
   "execution_count": 4,
   "metadata": {},
   "outputs": [],
   "source": [
    "skypy_config = 'roman_hlwas.yml'\n",
    "\n",
    "# define cuts on the intrinsic deflector and source populations (in addition to the skypy config file)\n",
    "kwargs_deflector_cut = {'band': 'F106', 'band_max': 23, 'z_min': 0.01, 'z_max': 2.}\n",
    "kwargs_source_cut = {'band': 'F106', 'band_max': 24, 'z_min': 0.01, 'z_max': 5.}\n",
    "\n",
    "# create the lens population\n",
    "lens_pop = LensPop(deflector_type=\"elliptical\",  # elliptical, all-galaxies\n",
    "    source_type=\"galaxies\",\n",
    "    kwargs_deflector_cut=kwargs_deflector_cut,\n",
    "    kwargs_source_cut=kwargs_source_cut,\n",
    "    kwargs_mass2light=None,\n",
    "    skypy_config=skypy_config,\n",
    "    sky_area=sky_area,\n",
    "    cosmo=cosmo)"
   ]
  },
  {
   "cell_type": "code",
   "execution_count": 5,
   "metadata": {},
   "outputs": [
    {
     "name": "stdout",
     "output_type": "stream",
     "text": [
      "Number of deflectors: 1432, scaled to HLWAS (1700.0 sq deg): 24344000\n",
      "Number of sources: 231604, scaled to HLWAS (1700.0 sq deg): 3937268000\n"
     ]
    }
   ],
   "source": [
    "num_lenses = lens_pop.deflector_number()\n",
    "num_sources = lens_pop.source_number()\n",
    "\n",
    "print(f'Number of deflectors: {num_lenses}, scaled to HLWAS ({area_hlwas} sq deg): {int((area_hlwas / survey_area) * num_lenses)}')\n",
    "print(f'Number of sources: {num_sources}, scaled to HLWAS ({area_hlwas} sq deg): {int((area_hlwas / survey_area) * num_sources)}')"
   ]
  },
  {
   "cell_type": "code",
   "execution_count": 6,
   "metadata": {},
   "outputs": [
    {
     "ename": "TypingError",
     "evalue": "Failed in nopython mode pipeline (step: nopython frontend)\n\u001b[1m\u001b[1m\u001b[1m\u001b[1mFailed in nopython mode pipeline (step: nopython frontend)\n\u001b[1m\u001b[1mUse of unsupported NumPy function 'numpy.nan_to_num' or unsupported use of the function.\n\u001b[1m\nFile \"../../../data/bwedig/.conda/envs/mejiro/lib/python3.10/site-packages/lenstronomy/LensModel/Profiles/epl_numba.py\", line 190:\u001b[0m\n\u001b[1mdef alpha(x, y, b, q, t, Omega=None):\n    <source elided>\n    # TODO: check whether numba is active with np.nan_to_num instead of numba_util.nan_to_num\n\u001b[1m    alph = (2 * b) / (1 + q) * np.nan_to_num((b / R) ** t * R / b) * Omega\n\u001b[0m    \u001b[1m^\u001b[0m\u001b[0m\n\u001b[0m\n\u001b[0m\u001b[1mDuring: typing of get attribute at /data/bwedig/.conda/envs/mejiro/lib/python3.10/site-packages/lenstronomy/LensModel/Profiles/epl_numba.py (190)\u001b[0m\n\u001b[1m\nFile \"../../../data/bwedig/.conda/envs/mejiro/lib/python3.10/site-packages/lenstronomy/LensModel/Profiles/epl_numba.py\", line 190:\u001b[0m\n\u001b[1mdef alpha(x, y, b, q, t, Omega=None):\n    <source elided>\n    # TODO: check whether numba is active with np.nan_to_num instead of numba_util.nan_to_num\n\u001b[1m    alph = (2 * b) / (1 + q) * np.nan_to_num((b / R) ** t * R / b) * Omega\n\u001b[0m    \u001b[1m^\u001b[0m\u001b[0m\n\n\u001b[0m\u001b[1mDuring: resolving callee type: type(CPUDispatcher(<function alpha at 0x7f96f1fd53f0>))\u001b[0m\n\u001b[0m\u001b[1mDuring: typing of call at /data/bwedig/.conda/envs/mejiro/lib/python3.10/site-packages/lenstronomy/LensModel/Solver/epl_shear_solver.py (30)\n\u001b[0m\n\u001b[0m\u001b[1mDuring: resolving callee type: type(CPUDispatcher(<function alpha at 0x7f96f1fd53f0>))\u001b[0m\n\u001b[0m\u001b[1mDuring: typing of call at /data/bwedig/.conda/envs/mejiro/lib/python3.10/site-packages/lenstronomy/LensModel/Solver/epl_shear_solver.py (30)\n\u001b[0m\n\u001b[1m\nFile \"../../../data/bwedig/.conda/envs/mejiro/lib/python3.10/site-packages/lenstronomy/LensModel/Solver/epl_shear_solver.py\", line 30:\u001b[0m\n\u001b[1mdef _alpha_epl_shear(x, y, b, q, t=1, gamma1=0, gamma2=0, Omega=None):\n    <source elided>\n    return (\n\u001b[1m        alpha(x, y, b, q, t=t, Omega=Omega)\n\u001b[0m        \u001b[1m^\u001b[0m\u001b[0m\n",
     "output_type": "error",
     "traceback": [
      "\u001b[0;31m---------------------------------------------------------------------------\u001b[0m",
      "\u001b[0;31mTypingError\u001b[0m                               Traceback (most recent call last)",
      "Input \u001b[0;32mIn [6]\u001b[0m, in \u001b[0;36m<cell line: 7>\u001b[0;34m()\u001b[0m\n\u001b[1;32m      1\u001b[0m kwargs_lens_cut \u001b[38;5;241m=\u001b[39m {\n\u001b[1;32m      2\u001b[0m     \u001b[38;5;124m'\u001b[39m\u001b[38;5;124mmin_image_separation\u001b[39m\u001b[38;5;124m'\u001b[39m: \u001b[38;5;241m0.2\u001b[39m,\n\u001b[1;32m      3\u001b[0m     \u001b[38;5;124m'\u001b[39m\u001b[38;5;124mmax_image_separation\u001b[39m\u001b[38;5;124m'\u001b[39m: \u001b[38;5;241m5\u001b[39m,\n\u001b[1;32m      4\u001b[0m     \u001b[38;5;124m'\u001b[39m\u001b[38;5;124mmag_arc_limit\u001b[39m\u001b[38;5;124m'\u001b[39m: {\u001b[38;5;124m'\u001b[39m\u001b[38;5;124mF106\u001b[39m\u001b[38;5;124m'\u001b[39m: \u001b[38;5;241m25\u001b[39m},\n\u001b[1;32m      5\u001b[0m }\n\u001b[0;32m----> 7\u001b[0m lens_population \u001b[38;5;241m=\u001b[39m \u001b[43mlens_pop\u001b[49m\u001b[38;5;241;43m.\u001b[39;49m\u001b[43mdraw_population\u001b[49m\u001b[43m(\u001b[49m\u001b[43mkwargs_lens_cuts\u001b[49m\u001b[38;5;241;43m=\u001b[39;49m\u001b[43mkwargs_lens_cut\u001b[49m\u001b[43m)\u001b[49m\n",
      "File \u001b[0;32m/nfshome/bwedig/slsim/slsim/lens_pop.py:282\u001b[0m, in \u001b[0;36mLensPop.draw_population\u001b[0;34m(self, kwargs_lens_cuts)\u001b[0m\n\u001b[1;32m    274\u001b[0m gg_lens \u001b[38;5;241m=\u001b[39m Lens(\n\u001b[1;32m    275\u001b[0m     deflector_dict\u001b[38;5;241m=\u001b[39mlens,\n\u001b[1;32m    276\u001b[0m     source_dict\u001b[38;5;241m=\u001b[39msource,\n\u001b[0;32m   (...)\u001b[0m\n\u001b[1;32m    279\u001b[0m     source_type\u001b[38;5;241m=\u001b[39m\u001b[38;5;28mself\u001b[39m\u001b[38;5;241m.\u001b[39m_source_model_type,\n\u001b[1;32m    280\u001b[0m )\n\u001b[1;32m    281\u001b[0m \u001b[38;5;66;03m# Check the validity of the lens system\u001b[39;00m\n\u001b[0;32m--> 282\u001b[0m \u001b[38;5;28;01mif\u001b[39;00m \u001b[43mgg_lens\u001b[49m\u001b[38;5;241;43m.\u001b[39;49m\u001b[43mvalidity_test\u001b[49m\u001b[43m(\u001b[49m\u001b[38;5;241;43m*\u001b[39;49m\u001b[38;5;241;43m*\u001b[39;49m\u001b[43mkwargs_lens_cuts\u001b[49m\u001b[43m)\u001b[49m:\n\u001b[1;32m    283\u001b[0m     gg_lens_population\u001b[38;5;241m.\u001b[39mappend(gg_lens)\n\u001b[1;32m    284\u001b[0m     \u001b[38;5;66;03m# if a lens system passes the validity test, code should exit\u001b[39;00m\n\u001b[1;32m    285\u001b[0m     \u001b[38;5;66;03m# the loop. so, n should be greater or equal to\u001b[39;00m\n\u001b[1;32m    286\u001b[0m     \u001b[38;5;66;03m# num_sources_tested which will break the while loop\u001b[39;00m\n\u001b[1;32m    287\u001b[0m     \u001b[38;5;66;03m# (instead of this one can simply use break).\u001b[39;00m\n",
      "File \u001b[0;32m/nfshome/bwedig/slsim/slsim/lens.py:217\u001b[0m, in \u001b[0;36mLens.validity_test\u001b[0;34m(self, min_image_separation, max_image_separation, mag_arc_limit)\u001b[0m\n\u001b[1;32m    214\u001b[0m     \u001b[38;5;28;01mreturn\u001b[39;00m \u001b[38;5;28;01mFalse\u001b[39;00m\n\u001b[1;32m    216\u001b[0m \u001b[38;5;66;03m# Criteria 4: The lensing configuration must produce at least two SL images.\u001b[39;00m\n\u001b[0;32m--> 217\u001b[0m image_positions \u001b[38;5;241m=\u001b[39m \u001b[38;5;28;43mself\u001b[39;49m\u001b[38;5;241;43m.\u001b[39;49m\u001b[43mpoint_source_image_positions\u001b[49m\u001b[43m(\u001b[49m\u001b[43m)\u001b[49m\n\u001b[1;32m    218\u001b[0m \u001b[38;5;28;01mif\u001b[39;00m \u001b[38;5;28mlen\u001b[39m(image_positions[\u001b[38;5;241m0\u001b[39m]) \u001b[38;5;241m<\u001b[39m \u001b[38;5;241m2\u001b[39m:\n\u001b[1;32m    219\u001b[0m     \u001b[38;5;28;01mreturn\u001b[39;00m \u001b[38;5;28;01mFalse\u001b[39;00m\n",
      "File \u001b[0;32m/nfshome/bwedig/slsim/slsim/lens.py:166\u001b[0m, in \u001b[0;36mLens.point_source_image_positions\u001b[0;34m(self)\u001b[0m\n\u001b[1;32m    164\u001b[0m     \u001b[38;5;28;01melse\u001b[39;00m:\n\u001b[1;32m    165\u001b[0m         solver \u001b[38;5;241m=\u001b[39m \u001b[38;5;124m\"\u001b[39m\u001b[38;5;124mlenstronomy\u001b[39m\u001b[38;5;124m\"\u001b[39m\n\u001b[0;32m--> 166\u001b[0m     \u001b[38;5;28mself\u001b[39m\u001b[38;5;241m.\u001b[39m_point_image_positions \u001b[38;5;241m=\u001b[39m \u001b[43mlens_eq_solver\u001b[49m\u001b[38;5;241;43m.\u001b[39;49m\u001b[43mimage_position_from_source\u001b[49m\u001b[43m(\u001b[49m\n\u001b[1;32m    167\u001b[0m \u001b[43m        \u001b[49m\u001b[43mpoint_source_pos_x\u001b[49m\u001b[43m,\u001b[49m\n\u001b[1;32m    168\u001b[0m \u001b[43m        \u001b[49m\u001b[43mpoint_source_pos_y\u001b[49m\u001b[43m,\u001b[49m\n\u001b[1;32m    169\u001b[0m \u001b[43m        \u001b[49m\u001b[43mkwargs_lens\u001b[49m\u001b[43m,\u001b[49m\n\u001b[1;32m    170\u001b[0m \u001b[43m        \u001b[49m\u001b[43msolver\u001b[49m\u001b[38;5;241;43m=\u001b[39;49m\u001b[43msolver\u001b[49m\u001b[43m,\u001b[49m\n\u001b[1;32m    171\u001b[0m \u001b[43m        \u001b[49m\u001b[43msearch_window\u001b[49m\u001b[38;5;241;43m=\u001b[39;49m\u001b[38;5;28;43mself\u001b[39;49m\u001b[38;5;241;43m.\u001b[39;49m\u001b[43meinstein_radius\u001b[49m\u001b[43m \u001b[49m\u001b[38;5;241;43m*\u001b[39;49m\u001b[43m \u001b[49m\u001b[38;5;241;43m6\u001b[39;49m\u001b[43m,\u001b[49m\n\u001b[1;32m    172\u001b[0m \u001b[43m        \u001b[49m\u001b[43mmin_distance\u001b[49m\u001b[38;5;241;43m=\u001b[39;49m\u001b[38;5;28;43mself\u001b[39;49m\u001b[38;5;241;43m.\u001b[39;49m\u001b[43meinstein_radius\u001b[49m\u001b[43m \u001b[49m\u001b[38;5;241;43m*\u001b[39;49m\u001b[43m \u001b[49m\u001b[38;5;241;43m6\u001b[39;49m\u001b[43m \u001b[49m\u001b[38;5;241;43m/\u001b[39;49m\u001b[43m \u001b[49m\u001b[38;5;241;43m200\u001b[39;49m\u001b[43m,\u001b[49m\n\u001b[1;32m    173\u001b[0m \u001b[43m        \u001b[49m\u001b[43mmagnification_limit\u001b[49m\u001b[38;5;241;43m=\u001b[39;49m\u001b[38;5;28;43mself\u001b[39;49m\u001b[38;5;241;43m.\u001b[39;49m\u001b[43m_magnification_limit\u001b[49m\u001b[43m,\u001b[49m\n\u001b[1;32m    174\u001b[0m \u001b[43m    \u001b[49m\u001b[43m)\u001b[49m\n\u001b[1;32m    175\u001b[0m \u001b[38;5;28;01mreturn\u001b[39;00m \u001b[38;5;28mself\u001b[39m\u001b[38;5;241m.\u001b[39m_point_image_positions\n",
      "File \u001b[0;32m/data/bwedig/.conda/envs/mejiro/lib/python3.10/site-packages/lenstronomy/LensModel/Solver/lens_equation_solver.py:245\u001b[0m, in \u001b[0;36mLensEquationSolver.image_position_from_source\u001b[0;34m(self, sourcePos_x, sourcePos_y, kwargs_lens, solver, **kwargs)\u001b[0m\n\u001b[1;32m    241\u001b[0m     \u001b[38;5;28;01mreturn\u001b[39;00m \u001b[38;5;28mself\u001b[39m\u001b[38;5;241m.\u001b[39mimage_position_lenstronomy(\n\u001b[1;32m    242\u001b[0m         sourcePos_x, sourcePos_y, kwargs_lens, \u001b[38;5;241m*\u001b[39m\u001b[38;5;241m*\u001b[39mkwargs\n\u001b[1;32m    243\u001b[0m     )\n\u001b[1;32m    244\u001b[0m \u001b[38;5;28;01mif\u001b[39;00m solver \u001b[38;5;241m==\u001b[39m \u001b[38;5;124m\"\u001b[39m\u001b[38;5;124manalytical\u001b[39m\u001b[38;5;124m\"\u001b[39m:\n\u001b[0;32m--> 245\u001b[0m     \u001b[38;5;28;01mreturn\u001b[39;00m \u001b[38;5;28;43mself\u001b[39;49m\u001b[38;5;241;43m.\u001b[39;49m\u001b[43mimage_position_analytical\u001b[49m\u001b[43m(\u001b[49m\n\u001b[1;32m    246\u001b[0m \u001b[43m        \u001b[49m\u001b[43msourcePos_x\u001b[49m\u001b[43m,\u001b[49m\u001b[43m \u001b[49m\u001b[43msourcePos_y\u001b[49m\u001b[43m,\u001b[49m\u001b[43m \u001b[49m\u001b[43mkwargs_lens\u001b[49m\u001b[43m,\u001b[49m\u001b[43m \u001b[49m\u001b[38;5;241;43m*\u001b[39;49m\u001b[38;5;241;43m*\u001b[39;49m\u001b[43mkwargs\u001b[49m\n\u001b[1;32m    247\u001b[0m \u001b[43m    \u001b[49m\u001b[43m)\u001b[49m\n\u001b[1;32m    248\u001b[0m \u001b[38;5;28;01mif\u001b[39;00m solver \u001b[38;5;241m==\u001b[39m \u001b[38;5;124m\"\u001b[39m\u001b[38;5;124mstochastic\u001b[39m\u001b[38;5;124m\"\u001b[39m:\n\u001b[1;32m    249\u001b[0m     \u001b[38;5;28;01mreturn\u001b[39;00m \u001b[38;5;28mself\u001b[39m\u001b[38;5;241m.\u001b[39mimage_position_stochastic(\n\u001b[1;32m    250\u001b[0m         sourcePos_x, sourcePos_y, kwargs_lens, \u001b[38;5;241m*\u001b[39m\u001b[38;5;241m*\u001b[39mkwargs\n\u001b[1;32m    251\u001b[0m     )\n",
      "File \u001b[0;32m/data/bwedig/.conda/envs/mejiro/lib/python3.10/site-packages/lenstronomy/LensModel/Solver/lens_equation_solver.py:213\u001b[0m, in \u001b[0;36mLensEquationSolver.image_position_analytical\u001b[0;34m(self, x, y, kwargs_lens, arrival_time_sort, magnification_limit, **kwargs_solver)\u001b[0m\n\u001b[1;32m    209\u001b[0m \u001b[38;5;28;01mif\u001b[39;00m lens_model_list \u001b[38;5;129;01mnot\u001b[39;00m \u001b[38;5;129;01min\u001b[39;00m SUPPORTED_LENS_MODELS_ANALYTICAL:\n\u001b[1;32m    210\u001b[0m     \u001b[38;5;28;01mraise\u001b[39;00m \u001b[38;5;167;01mValueError\u001b[39;00m(\n\u001b[1;32m    211\u001b[0m         \u001b[38;5;124m\"\u001b[39m\u001b[38;5;124mOnly SIE, EPL, EPL_NUMBA (+shear +convergence) supported in the analytical solver for now.\u001b[39m\u001b[38;5;124m\"\u001b[39m\n\u001b[1;32m    212\u001b[0m     )\n\u001b[0;32m--> 213\u001b[0m x_mins, y_mins \u001b[38;5;241m=\u001b[39m \u001b[43msolve_lenseq_pemd\u001b[49m\u001b[43m(\u001b[49m\u001b[43m(\u001b[49m\u001b[43mx_\u001b[49m\u001b[43m,\u001b[49m\u001b[43m \u001b[49m\u001b[43my_\u001b[49m\u001b[43m)\u001b[49m\u001b[43m,\u001b[49m\u001b[43m \u001b[49m\u001b[43mkwargs_lens_\u001b[49m\u001b[43m,\u001b[49m\u001b[43m \u001b[49m\u001b[38;5;241;43m*\u001b[39;49m\u001b[38;5;241;43m*\u001b[39;49m\u001b[43mkwargs_solver\u001b[49m\u001b[43m)\u001b[49m\n\u001b[1;32m    215\u001b[0m \u001b[38;5;28;01mif\u001b[39;00m arrival_time_sort:\n\u001b[1;32m    216\u001b[0m     x_mins, y_mins \u001b[38;5;241m=\u001b[39m \u001b[38;5;28mself\u001b[39m\u001b[38;5;241m.\u001b[39msort_arrival_times(x_mins, y_mins, kwargs_lens)\n",
      "File \u001b[0;32m/data/bwedig/.conda/envs/mejiro/lib/python3.10/site-packages/lenstronomy/LensModel/Solver/epl_shear_solver.py:299\u001b[0m, in \u001b[0;36msolve_lenseq_pemd\u001b[0;34m(pos_, kwargs_lens, Nmeas, Nmeas_extra, **kwargs)\u001b[0m\n\u001b[1;32m    297\u001b[0m gamma \u001b[38;5;241m*\u001b[39m\u001b[38;5;241m=\u001b[39m rotfact\u001b[38;5;241m*\u001b[39m\u001b[38;5;241m*\u001b[39m\u001b[38;5;241m2\u001b[39m\n\u001b[1;32m    298\u001b[0m p \u001b[38;5;241m*\u001b[39m\u001b[38;5;241m=\u001b[39m rotfact\n\u001b[0;32m--> 299\u001b[0m res \u001b[38;5;241m=\u001b[39m \u001b[43msolvelenseq_majoraxis\u001b[49m\u001b[43m(\u001b[49m\n\u001b[1;32m    300\u001b[0m \u001b[43m    \u001b[49m\u001b[43m(\u001b[49m\u001b[43mb\u001b[49m\u001b[43m,\u001b[49m\u001b[43m \u001b[49m\u001b[43mt\u001b[49m\u001b[43m,\u001b[49m\u001b[43m \u001b[49m\u001b[43mp\u001b[49m\u001b[38;5;241;43m.\u001b[39;49m\u001b[43mreal\u001b[49m\u001b[43m,\u001b[49m\u001b[43m \u001b[49m\u001b[43mp\u001b[49m\u001b[38;5;241;43m.\u001b[39;49m\u001b[43mimag\u001b[49m\u001b[43m,\u001b[49m\u001b[43m \u001b[49m\u001b[43mq\u001b[49m\u001b[43m,\u001b[49m\u001b[43m \u001b[49m\u001b[43mgamma\u001b[49m\u001b[38;5;241;43m.\u001b[39;49m\u001b[43mreal\u001b[49m\u001b[43m,\u001b[49m\u001b[43m \u001b[49m\u001b[43mgamma\u001b[49m\u001b[38;5;241;43m.\u001b[39;49m\u001b[43mimag\u001b[49m\u001b[43m)\u001b[49m\u001b[43m,\u001b[49m\n\u001b[1;32m    301\u001b[0m \u001b[43m    \u001b[49m\u001b[43mNmeas\u001b[49m\u001b[38;5;241;43m=\u001b[39;49m\u001b[43mNmeas\u001b[49m\u001b[43m,\u001b[49m\n\u001b[1;32m    302\u001b[0m \u001b[43m    \u001b[49m\u001b[43mNmeas_extra\u001b[49m\u001b[38;5;241;43m=\u001b[39;49m\u001b[43mNmeas_extra\u001b[49m\u001b[43m,\u001b[49m\n\u001b[1;32m    303\u001b[0m \u001b[43m\u001b[49m\u001b[43m)\u001b[49m\n\u001b[1;32m    304\u001b[0m xsol, ysol \u001b[38;5;241m=\u001b[39m res\n\u001b[1;32m    305\u001b[0m x \u001b[38;5;241m=\u001b[39m np\u001b[38;5;241m.\u001b[39marray([(xs \u001b[38;5;241m+\u001b[39m \u001b[38;5;241m1\u001b[39mj \u001b[38;5;241m*\u001b[39m ys) \u001b[38;5;241m/\u001b[39m rotfact \u001b[38;5;241m+\u001b[39m cen \u001b[38;5;28;01mfor\u001b[39;00m xs, ys \u001b[38;5;129;01min\u001b[39;00m \u001b[38;5;28mzip\u001b[39m(xsol, ysol)])\n",
      "File \u001b[0;32m/data/bwedig/.conda/envs/mejiro/lib/python3.10/site-packages/lenstronomy/LensModel/Solver/epl_shear_solver.py:246\u001b[0m, in \u001b[0;36msolvelenseq_majoraxis\u001b[0;34m(args, Nmeas, Nmeas_extra)\u001b[0m\n\u001b[1;32m    239\u001b[0m Rs \u001b[38;5;241m=\u001b[39m np\u001b[38;5;241m.\u001b[39marray([_getr(theta, (b, t, y1, y2, q, gamma1, gamma2)) \u001b[38;5;28;01mfor\u001b[39;00m theta \u001b[38;5;129;01min\u001b[39;00m thetas])\n\u001b[1;32m    240\u001b[0m stuff \u001b[38;5;241m=\u001b[39m np\u001b[38;5;241m.\u001b[39marray(pol_to_cart(Rs[Rs \u001b[38;5;241m>\u001b[39m \u001b[38;5;241m0\u001b[39m], thetas[Rs \u001b[38;5;241m>\u001b[39m \u001b[38;5;241m0\u001b[39m]))\n\u001b[1;32m    241\u001b[0m diff \u001b[38;5;241m=\u001b[39m (\n\u001b[1;32m    242\u001b[0m     \u001b[38;5;241m-\u001b[39my1\n\u001b[1;32m    243\u001b[0m     \u001b[38;5;241m-\u001b[39m y2 \u001b[38;5;241m*\u001b[39m \u001b[38;5;241m1\u001b[39mj\n\u001b[1;32m    244\u001b[0m     \u001b[38;5;241m+\u001b[39m stuff[\u001b[38;5;241m0\u001b[39m]\n\u001b[1;32m    245\u001b[0m     \u001b[38;5;241m+\u001b[39m stuff[\u001b[38;5;241m1\u001b[39m] \u001b[38;5;241m*\u001b[39m \u001b[38;5;241m1\u001b[39mj\n\u001b[0;32m--> 246\u001b[0m     \u001b[38;5;241m-\u001b[39m \u001b[43m_alpha_epl_shear\u001b[49m\u001b[43m(\u001b[49m\u001b[43mstuff\u001b[49m\u001b[43m[\u001b[49m\u001b[38;5;241;43m0\u001b[39;49m\u001b[43m]\u001b[49m\u001b[43m,\u001b[49m\u001b[43m \u001b[49m\u001b[43mstuff\u001b[49m\u001b[43m[\u001b[49m\u001b[38;5;241;43m1\u001b[39;49m\u001b[43m]\u001b[49m\u001b[43m,\u001b[49m\u001b[43m \u001b[49m\u001b[43mb\u001b[49m\u001b[43m,\u001b[49m\u001b[43m \u001b[49m\u001b[43mq\u001b[49m\u001b[43m,\u001b[49m\u001b[43m \u001b[49m\u001b[43mt\u001b[49m\u001b[43m,\u001b[49m\u001b[43m \u001b[49m\u001b[43mgamma1\u001b[49m\u001b[38;5;241;43m=\u001b[39;49m\u001b[43mgamma1\u001b[49m\u001b[43m,\u001b[49m\u001b[43m \u001b[49m\u001b[43mgamma2\u001b[49m\u001b[38;5;241;43m=\u001b[39;49m\u001b[43mgamma2\u001b[49m\u001b[43m)\u001b[49m\n\u001b[1;32m    247\u001b[0m )\n\u001b[1;32m    248\u001b[0m goodones \u001b[38;5;241m=\u001b[39m np\u001b[38;5;241m.\u001b[39mabs(diff) \u001b[38;5;241m<\u001b[39m \u001b[38;5;241m1e-8\u001b[39m\n\u001b[1;32m    249\u001b[0m \u001b[38;5;28;01mreturn\u001b[39;00m findOverlap(\u001b[38;5;241m*\u001b[39mstuff[:, goodones], \u001b[38;5;241m1e-8\u001b[39m)\n",
      "File \u001b[0;32m/data/bwedig/.conda/envs/mejiro/lib/python3.10/site-packages/numba/core/dispatcher.py:468\u001b[0m, in \u001b[0;36m_DispatcherBase._compile_for_args\u001b[0;34m(self, *args, **kws)\u001b[0m\n\u001b[1;32m    464\u001b[0m         msg \u001b[38;5;241m=\u001b[39m (\u001b[38;5;124mf\u001b[39m\u001b[38;5;124m\"\u001b[39m\u001b[38;5;132;01m{\u001b[39;00m\u001b[38;5;28mstr\u001b[39m(e)\u001b[38;5;241m.\u001b[39mrstrip()\u001b[38;5;132;01m}\u001b[39;00m\u001b[38;5;124m \u001b[39m\u001b[38;5;130;01m\\n\u001b[39;00m\u001b[38;5;130;01m\\n\u001b[39;00m\u001b[38;5;124mThis error may have been caused \u001b[39m\u001b[38;5;124m\"\u001b[39m\n\u001b[1;32m    465\u001b[0m                \u001b[38;5;124mf\u001b[39m\u001b[38;5;124m\"\u001b[39m\u001b[38;5;124mby the following argument(s):\u001b[39m\u001b[38;5;130;01m\\n\u001b[39;00m\u001b[38;5;132;01m{\u001b[39;00margs_str\u001b[38;5;132;01m}\u001b[39;00m\u001b[38;5;130;01m\\n\u001b[39;00m\u001b[38;5;124m\"\u001b[39m)\n\u001b[1;32m    466\u001b[0m         e\u001b[38;5;241m.\u001b[39mpatch_message(msg)\n\u001b[0;32m--> 468\u001b[0m     \u001b[43merror_rewrite\u001b[49m\u001b[43m(\u001b[49m\u001b[43me\u001b[49m\u001b[43m,\u001b[49m\u001b[43m \u001b[49m\u001b[38;5;124;43m'\u001b[39;49m\u001b[38;5;124;43mtyping\u001b[39;49m\u001b[38;5;124;43m'\u001b[39;49m\u001b[43m)\u001b[49m\n\u001b[1;32m    469\u001b[0m \u001b[38;5;28;01mexcept\u001b[39;00m errors\u001b[38;5;241m.\u001b[39mUnsupportedError \u001b[38;5;28;01mas\u001b[39;00m e:\n\u001b[1;32m    470\u001b[0m     \u001b[38;5;66;03m# Something unsupported is present in the user code, add help info\u001b[39;00m\n\u001b[1;32m    471\u001b[0m     error_rewrite(e, \u001b[38;5;124m'\u001b[39m\u001b[38;5;124munsupported_error\u001b[39m\u001b[38;5;124m'\u001b[39m)\n",
      "File \u001b[0;32m/data/bwedig/.conda/envs/mejiro/lib/python3.10/site-packages/numba/core/dispatcher.py:409\u001b[0m, in \u001b[0;36m_DispatcherBase._compile_for_args.<locals>.error_rewrite\u001b[0;34m(e, issue_type)\u001b[0m\n\u001b[1;32m    407\u001b[0m     \u001b[38;5;28;01mraise\u001b[39;00m e\n\u001b[1;32m    408\u001b[0m \u001b[38;5;28;01melse\u001b[39;00m:\n\u001b[0;32m--> 409\u001b[0m     \u001b[38;5;28;01mraise\u001b[39;00m e\u001b[38;5;241m.\u001b[39mwith_traceback(\u001b[38;5;28;01mNone\u001b[39;00m)\n",
      "\u001b[0;31mTypingError\u001b[0m: Failed in nopython mode pipeline (step: nopython frontend)\n\u001b[1m\u001b[1m\u001b[1m\u001b[1mFailed in nopython mode pipeline (step: nopython frontend)\n\u001b[1m\u001b[1mUse of unsupported NumPy function 'numpy.nan_to_num' or unsupported use of the function.\n\u001b[1m\nFile \"../../../data/bwedig/.conda/envs/mejiro/lib/python3.10/site-packages/lenstronomy/LensModel/Profiles/epl_numba.py\", line 190:\u001b[0m\n\u001b[1mdef alpha(x, y, b, q, t, Omega=None):\n    <source elided>\n    # TODO: check whether numba is active with np.nan_to_num instead of numba_util.nan_to_num\n\u001b[1m    alph = (2 * b) / (1 + q) * np.nan_to_num((b / R) ** t * R / b) * Omega\n\u001b[0m    \u001b[1m^\u001b[0m\u001b[0m\n\u001b[0m\n\u001b[0m\u001b[1mDuring: typing of get attribute at /data/bwedig/.conda/envs/mejiro/lib/python3.10/site-packages/lenstronomy/LensModel/Profiles/epl_numba.py (190)\u001b[0m\n\u001b[1m\nFile \"../../../data/bwedig/.conda/envs/mejiro/lib/python3.10/site-packages/lenstronomy/LensModel/Profiles/epl_numba.py\", line 190:\u001b[0m\n\u001b[1mdef alpha(x, y, b, q, t, Omega=None):\n    <source elided>\n    # TODO: check whether numba is active with np.nan_to_num instead of numba_util.nan_to_num\n\u001b[1m    alph = (2 * b) / (1 + q) * np.nan_to_num((b / R) ** t * R / b) * Omega\n\u001b[0m    \u001b[1m^\u001b[0m\u001b[0m\n\n\u001b[0m\u001b[1mDuring: resolving callee type: type(CPUDispatcher(<function alpha at 0x7f96f1fd53f0>))\u001b[0m\n\u001b[0m\u001b[1mDuring: typing of call at /data/bwedig/.conda/envs/mejiro/lib/python3.10/site-packages/lenstronomy/LensModel/Solver/epl_shear_solver.py (30)\n\u001b[0m\n\u001b[0m\u001b[1mDuring: resolving callee type: type(CPUDispatcher(<function alpha at 0x7f96f1fd53f0>))\u001b[0m\n\u001b[0m\u001b[1mDuring: typing of call at /data/bwedig/.conda/envs/mejiro/lib/python3.10/site-packages/lenstronomy/LensModel/Solver/epl_shear_solver.py (30)\n\u001b[0m\n\u001b[1m\nFile \"../../../data/bwedig/.conda/envs/mejiro/lib/python3.10/site-packages/lenstronomy/LensModel/Solver/epl_shear_solver.py\", line 30:\u001b[0m\n\u001b[1mdef _alpha_epl_shear(x, y, b, q, t=1, gamma1=0, gamma2=0, Omega=None):\n    <source elided>\n    return (\n\u001b[1m        alpha(x, y, b, q, t=t, Omega=Omega)\n\u001b[0m        \u001b[1m^\u001b[0m\u001b[0m\n"
     ]
    }
   ],
   "source": [
    "kwargs_lens_cut = {\n",
    "    'min_image_separation': 0.2,\n",
    "    'max_image_separation': 5,\n",
    "    'mag_arc_limit': {'F106': 25},\n",
    "}\n",
    "\n",
    "lens_population = lens_pop.draw_population(kwargs_lens_cuts=kwargs_lens_cut)"
   ]
  },
  {
   "cell_type": "markdown",
   "metadata": {},
   "source": [
    "NB in the current version of `slsim`, `slsim.LensPop.draw_population` is using the method `slsim.lens.validity_test()` to filter out non-detectable lenses. Here, we want to add a few more filters:\n",
    "\n",
    "1. is the Einstein radius greater than the Sersic radius of the lensing galaxy and the lensing galaxy brighter than 15th magnitude (in F106)?\n",
    "2. is the SNR of lensed images greater than 10?"
   ]
  },
  {
   "cell_type": "code",
   "execution_count": null,
   "metadata": {},
   "outputs": [],
   "source": [
    "# set up dict to capture some information about which candidates got filtered out\n",
    "filtered_sample = {}\n",
    "filtered_sample['total'] = len(lens_population)\n",
    "num_samples = 100\n",
    "filter_1, filter_2 = 0, 0\n",
    "filtered_sample['filter_1'] = []\n",
    "filtered_sample['filter_2'] = []"
   ]
  },
  {
   "cell_type": "code",
   "execution_count": null,
   "metadata": {},
   "outputs": [],
   "source": [
    "limit = None\n",
    "detectable_gglenses = []\n",
    "\n",
    "for candidate in tqdm(lens_population):\n",
    "    # 1. Einstein radius and Sersic radius\n",
    "    _, kwargs_params = candidate.lenstronomy_kwargs(band='F106')\n",
    "    lens_mag = candidate.deflector_magnitude(band='F106')\n",
    "\n",
    "    if kwargs_params['kwargs_lens'][0]['theta_E'] < kwargs_params['kwargs_lens_light'][0]['R_sersic'] and lens_mag < 15:\n",
    "        filter_1 += 1\n",
    "        if filter_1 <= num_samples:\n",
    "            filtered_sample['filter_1'].append(candidate)\n",
    "        continue\n",
    "\n",
    "    # 2. SNR\n",
    "    snr = survey_sim.get_snr(candidate, 'F106')\n",
    "\n",
    "    if snr < 10:\n",
    "        filter_2 += 1\n",
    "        if filter_2 <= num_samples:\n",
    "            filtered_sample['filter_2'].append(candidate)\n",
    "        continue\n",
    "\n",
    "    # if both criteria satisfied, consider detectable\n",
    "    detectable_gglenses.append(candidate)\n",
    "\n",
    "    # if I've imposed a limit above this loop, exit the loop\n",
    "    if limit is not None and len(detectable_gglenses) == limit:\n",
    "        break\n",
    "\n",
    "print(f'{len(detectable_gglenses)} detectable lens(es)')"
   ]
  },
  {
   "cell_type": "code",
   "execution_count": null,
   "metadata": {},
   "outputs": [],
   "source": [
    "print('Retrieving lenstronomy parameters')\n",
    "dict_list = []\n",
    "for gglens in tqdm(detectable_gglenses):\n",
    "\n",
    "    # get lens params from gglens object\n",
    "    kwargs_model, kwargs_params = gglens.lenstronomy_kwargs(band='F106')\n",
    "\n",
    "    # build dicts for lens and source magnitudes\n",
    "    lens_mags, source_mags = {}, {}\n",
    "    for band in ['F106', 'F129', 'F184']:\n",
    "        lens_mags[band] = gglens.deflector_magnitude(band)\n",
    "        source_mags[band] = gglens.source_magnitude(band)\n",
    "\n",
    "    z_lens, z_source = gglens.lens_redshift, gglens.source_redshift\n",
    "    kwargs_lens = kwargs_params['kwargs_lens']\n",
    "\n",
    "    # add additional necessary key/value pairs to kwargs_model\n",
    "    kwargs_model['lens_redshift_list'] = [z_lens] * len(kwargs_lens)\n",
    "    kwargs_model['source_redshift_list'] = [z_source]\n",
    "    kwargs_model['cosmo'] = cosmo\n",
    "    kwargs_model['z_source'] = z_source\n",
    "    kwargs_model['z_source_convention'] = 5\n",
    "\n",
    "    # create dict to pickle\n",
    "    gglens_dict = {\n",
    "        'kwargs_model': kwargs_model,\n",
    "        'kwargs_params': kwargs_params,\n",
    "        'lens_mags': lens_mags,\n",
    "        'source_mags': source_mags,\n",
    "        'deflector_stellar_mass': gglens.deflector_stellar_mass(),\n",
    "        'deflector_velocity_dispersion': gglens.deflector_velocity_dispersion(),\n",
    "        'snr': gglens.snr\n",
    "    }\n",
    "\n",
    "    dict_list.append(gglens_dict)\n",
    "\n",
    "print('Pickling lenses...')\n",
    "for i, each in tqdm(enumerate(dict_list)):\n",
    "    with open(os.path.join(pickle_dir, f'skypy_output_{str(i).zfill(5)}_run{run}'), 'ab') as file:\n",
    "        pickle.dump(each, file)"
   ]
  },
  {
   "cell_type": "code",
   "execution_count": null,
   "metadata": {},
   "outputs": [],
   "source": [
    "# !jupyter nbconvert --to python hlwas_simulation.ipynb --TemplateExporter.exclude_markdown=True --TemplateExporter.exclude_output_prompt=True --TemplateExporter.exclude_input_prompt=True"
   ]
  }
 ],
 "metadata": {
  "kernelspec": {
   "display_name": "mejiro",
   "language": "python",
   "name": "python3"
  },
  "language_info": {
   "codemirror_mode": {
    "name": "ipython",
    "version": 3
   },
   "file_extension": ".py",
   "mimetype": "text/x-python",
   "name": "python",
   "nbconvert_exporter": "python",
   "pygments_lexer": "ipython3",
   "version": "3.10.6"
  }
 },
 "nbformat": 4,
 "nbformat_minor": 2
}
