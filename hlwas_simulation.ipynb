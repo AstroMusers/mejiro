{
 "cells": [
  {
   "cell_type": "code",
   "execution_count": 1,
   "metadata": {},
   "outputs": [],
   "source": [
    "import numpy as np\n",
    "import os\n",
    "import sys\n",
    "import matplotlib.pyplot as plt\n",
    "import astropy\n",
    "import speclite\n",
    "from astropy.cosmology import default_cosmology\n",
    "from astropy.units import Quantity\n",
    "from slsim.lens_pop import LensPop\n",
    "from slsim.Observations.roman_speclite import configure_roman_filters, filter_names\n",
    "from tqdm import tqdm\n",
    "from pprint import pprint\n",
    "import time\n",
    "import pandas as pd\n",
    "import datetime\n",
    "\n",
    "import mejiro\n",
    "from mejiro.helpers import survey_sim\n",
    "from mejiro.utils import util\n",
    "\n",
    "%matplotlib inline"
   ]
  },
  {
   "cell_type": "code",
   "execution_count": 2,
   "metadata": {},
   "outputs": [],
   "source": [
    "from hydra import initialize, compose\n",
    "\n",
    "# set paths to various directories based on the machine this code is being executed on\n",
    "with initialize(version_base=None, config_path='config'):\n",
    "    config = compose(config_name='config.yaml')  # overrides=['machine=uzay']\n",
    "\n",
    "array_dir, data_dir, figure_dir, pickle_dir, repo_dir  = config.machine.array_dir, config.machine.data_dir, config.machine.figure_dir, config.machine.pickle_dir, config.machine.repo_dir\n",
    "\n",
    "# enable use of local modules\n",
    "if repo_dir not in sys.path:\n",
    "    sys.path.append(repo_dir)"
   ]
  },
  {
   "cell_type": "code",
   "execution_count": 3,
   "metadata": {},
   "outputs": [],
   "source": [
    "# !jupyter nbconvert --to python hlwas_simulation.ipynb --TemplateExporter.exclude_markdown=True --TemplateExporter.exclude_output_prompt=True --TemplateExporter.exclude_input_prompt=True"
   ]
  },
  {
   "cell_type": "code",
   "execution_count": 4,
   "metadata": {},
   "outputs": [],
   "source": [
    "start = time.time()"
   ]
  },
  {
   "cell_type": "code",
   "execution_count": 5,
   "metadata": {},
   "outputs": [],
   "source": [
    "output_dir = os.path.join(data_dir, 'output', 'hlwas_sim')\n",
    "util.create_directory_if_not_exists(output_dir)\n",
    "util.clear_directory(output_dir)"
   ]
  },
  {
   "cell_type": "code",
   "execution_count": 6,
   "metadata": {},
   "outputs": [],
   "source": [
    "area_hlwas = 1700.\n",
    "cosmo = default_cosmology.get()\n",
    "\n",
    "bands_hlwas = ['F106', 'F129', 'F184']\n",
    "\n",
    "survey_area = 0.5\n",
    "sky_area = Quantity(value=survey_area, unit='deg2')"
   ]
  },
  {
   "cell_type": "code",
   "execution_count": 7,
   "metadata": {},
   "outputs": [],
   "source": [
    "# load Roman WFI filters\n",
    "configure_roman_filters()\n",
    "roman_filters = filter_names()\n",
    "roman_filters.sort()\n",
    "_ = speclite.filters.load_filters(*roman_filters[:8])"
   ]
  },
  {
   "cell_type": "code",
   "execution_count": 8,
   "metadata": {},
   "outputs": [],
   "source": [
    "module_path = os.path.dirname(mejiro.__file__)\n",
    "skypy_config = os.path.join(module_path, 'data', 'roman_hlwas.yml')\n",
    "\n",
    "# define cuts on the intrinsic deflector and source populations (in addition to the skypy config file)\n",
    "kwargs_deflector_cut = {'band': 'F106', 'band_max': 23, 'z_min': 0.01, 'z_max': 2.}\n",
    "kwargs_source_cut = {'band': 'F106', 'band_max': 24, 'z_min': 0.01, 'z_max': 5.}\n",
    "\n",
    "# create the lens population\n",
    "lens_pop = LensPop(deflector_type=\"all-galaxies\",  # elliptical, all-galaxies\n",
    "    source_type=\"galaxies\",\n",
    "    kwargs_deflector_cut=kwargs_deflector_cut,\n",
    "    kwargs_source_cut=kwargs_source_cut,\n",
    "    kwargs_mass2light=None,\n",
    "    skypy_config=skypy_config,\n",
    "    sky_area=sky_area,\n",
    "    cosmo=cosmo)"
   ]
  },
  {
   "cell_type": "code",
   "execution_count": 9,
   "metadata": {},
   "outputs": [
    {
     "name": "stdout",
     "output_type": "stream",
     "text": [
      "Number of deflectors: 29957, scaled to HLWAS (1700.0 sq deg): 101853800\n",
      "Number of sources: 1160901, scaled to HLWAS (1700.0 sq deg): 3947063400\n"
     ]
    }
   ],
   "source": [
    "num_lenses = lens_pop.deflector_number()\n",
    "num_sources = lens_pop.source_number()\n",
    "\n",
    "print(f'Number of deflectors: {num_lenses}, scaled to HLWAS ({area_hlwas} sq deg): {int((area_hlwas / survey_area) * num_lenses)}')\n",
    "print(f'Number of sources: {num_sources}, scaled to HLWAS ({area_hlwas} sq deg): {int((area_hlwas / survey_area) * num_sources)}')"
   ]
  },
  {
   "cell_type": "markdown",
   "metadata": {},
   "source": [
    "Need to grab parameters for the entire lens population"
   ]
  },
  {
   "cell_type": "code",
   "execution_count": 10,
   "metadata": {},
   "outputs": [
    {
     "name": "stdout",
     "output_type": "stream",
     "text": [
      "Number of total lenses: 3708\n"
     ]
    }
   ],
   "source": [
    "total_lens_population = lens_pop.draw_population(kwargs_lens_cuts={})\n",
    "print(f'Number of total lenses: {len(total_lens_population)}')"
   ]
  },
  {
   "cell_type": "code",
   "execution_count": 11,
   "metadata": {},
   "outputs": [
    {
     "name": "stderr",
     "output_type": "stream",
     "text": [
      "  0%|          | 12/3708 [00:00<00:32, 113.12it/s]"
     ]
    },
    {
     "name": "stderr",
     "output_type": "stream",
     "text": [
      "100%|██████████| 3708/3708 [00:30<00:00, 120.68it/s]\n",
      "  0%|          | 0/3708 [00:00<?, ?it/s]\n"
     ]
    },
    {
     "ename": "AttributeError",
     "evalue": "'Lens' object has no attribute 'lens_redshift'",
     "output_type": "error",
     "traceback": [
      "\u001b[0;31m---------------------------------------------------------------------------\u001b[0m",
      "\u001b[0;31mAttributeError\u001b[0m                            Traceback (most recent call last)",
      "Input \u001b[0;32mIn [11]\u001b[0m, in \u001b[0;36m<cell line: 10>\u001b[0;34m()\u001b[0m\n\u001b[1;32m      8\u001b[0m \u001b[38;5;66;03m# save other params to CSV\u001b[39;00m\n\u001b[1;32m      9\u001b[0m total_pop_csv \u001b[38;5;241m=\u001b[39m os\u001b[38;5;241m.\u001b[39mpath\u001b[38;5;241m.\u001b[39mjoin(output_dir, \u001b[38;5;124m'\u001b[39m\u001b[38;5;124mtotal_pop.csv\u001b[39m\u001b[38;5;124m'\u001b[39m)\n\u001b[0;32m---> 10\u001b[0m \u001b[43msurvey_sim\u001b[49m\u001b[38;5;241;43m.\u001b[39;49m\u001b[43mwrite_lens_pop_to_csv\u001b[49m\u001b[43m(\u001b[49m\u001b[43mtotal_pop_csv\u001b[49m\u001b[43m,\u001b[49m\u001b[43m \u001b[49m\u001b[43mtotal_lens_population\u001b[49m\u001b[43m,\u001b[49m\u001b[43m \u001b[49m\u001b[43mbands_hlwas\u001b[49m\u001b[43m)\u001b[49m\n",
      "File \u001b[0;32m/nfshome/bwedig/mejiro/mejiro/helpers/survey_sim.py:114\u001b[0m, in \u001b[0;36mwrite_lens_pop_to_csv\u001b[0;34m(output_path, gg_lenses, bands)\u001b[0m\n\u001b[1;32m    106\u001b[0m df \u001b[38;5;241m=\u001b[39m pd\u001b[38;5;241m.\u001b[39mDataFrame(columns\u001b[38;5;241m=\u001b[39mlistnamepara)\n\u001b[1;32m    108\u001b[0m \u001b[38;5;28;01mfor\u001b[39;00m i, gg_lens \u001b[38;5;129;01min\u001b[39;00m tqdm(\u001b[38;5;28menumerate\u001b[39m(gg_lenses), total\u001b[38;5;241m=\u001b[39m\u001b[38;5;28mlen\u001b[39m(gg_lenses)):\n\u001b[1;32m    109\u001b[0m     \u001b[38;5;28mdict\u001b[39m \u001b[38;5;241m=\u001b[39m {\n\u001b[1;32m    110\u001b[0m         \u001b[38;5;124m'\u001b[39m\u001b[38;5;124mvelodisp\u001b[39m\u001b[38;5;124m'\u001b[39m: gg_lens\u001b[38;5;241m.\u001b[39mdeflector_velocity_dispersion(),\n\u001b[1;32m    111\u001b[0m         \u001b[38;5;124m'\u001b[39m\u001b[38;5;124mmassstel\u001b[39m\u001b[38;5;124m'\u001b[39m: gg_lens\u001b[38;5;241m.\u001b[39mdeflector_stellar_mass() \u001b[38;5;241m*\u001b[39m \u001b[38;5;241m1e-12\u001b[39m, \n\u001b[1;32m    112\u001b[0m         \u001b[38;5;124m'\u001b[39m\u001b[38;5;124mangleins\u001b[39m\u001b[38;5;124m'\u001b[39m: gg_lens\u001b[38;5;241m.\u001b[39meinstein_radius, \n\u001b[1;32m    113\u001b[0m         \u001b[38;5;124m'\u001b[39m\u001b[38;5;124mredssour\u001b[39m\u001b[38;5;124m'\u001b[39m: gg_lens\u001b[38;5;241m.\u001b[39msource_redshift, \n\u001b[0;32m--> 114\u001b[0m         \u001b[38;5;124m'\u001b[39m\u001b[38;5;124mredslens\u001b[39m\u001b[38;5;124m'\u001b[39m: \u001b[43mgg_lens\u001b[49m\u001b[38;5;241;43m.\u001b[39;49m\u001b[43mlens_redshift\u001b[49m, \n\u001b[1;32m    115\u001b[0m         \u001b[38;5;124m'\u001b[39m\u001b[38;5;124mmagnsour\u001b[39m\u001b[38;5;124m'\u001b[39m: gg_lens\u001b[38;5;241m.\u001b[39mhost_magnification()\n\u001b[1;32m    116\u001b[0m         \u001b[38;5;66;03m# TODO add SNR?\u001b[39;00m\n\u001b[1;32m    117\u001b[0m     }\n\u001b[1;32m    119\u001b[0m     posiimag \u001b[38;5;241m=\u001b[39m gg_lens\u001b[38;5;241m.\u001b[39mget_image_positions()\n\u001b[1;32m    120\u001b[0m     \u001b[38;5;28mdict\u001b[39m[\u001b[38;5;124m'\u001b[39m\u001b[38;5;124mnumbimag\u001b[39m\u001b[38;5;124m'\u001b[39m] \u001b[38;5;241m=\u001b[39m \u001b[38;5;28mint\u001b[39m(posiimag[\u001b[38;5;241m0\u001b[39m]\u001b[38;5;241m.\u001b[39msize)\n",
      "\u001b[0;31mAttributeError\u001b[0m: 'Lens' object has no attribute 'lens_redshift'"
     ]
    }
   ],
   "source": [
    "# compute SNRs and save\n",
    "snr_list = []\n",
    "for candidate in tqdm(total_lens_population):\n",
    "    snr, _ = survey_sim.get_snr(candidate, 'F106')\n",
    "    snr_list.append(snr)\n",
    "np.save(os.path.join(output_dir, 'snr_list.npy'), snr_list)\n",
    "\n",
    "# save other params to CSV\n",
    "total_pop_csv = os.path.join(output_dir, 'total_pop.csv')\n",
    "survey_sim.write_lens_pop_to_csv(total_pop_csv, total_lens_population, bands_hlwas)"
   ]
  },
  {
   "cell_type": "markdown",
   "metadata": {},
   "source": [
    "Now, start to filter down to the detectable ones"
   ]
  },
  {
   "cell_type": "code",
   "execution_count": null,
   "metadata": {},
   "outputs": [],
   "source": [
    "kwargs_lens_cut = {\n",
    "    'min_image_separation': 0.2,\n",
    "    'max_image_separation': 5,\n",
    "    'mag_arc_limit': {'F106': 25},\n",
    "}\n",
    "\n",
    "lens_population = lens_pop.draw_population(kwargs_lens_cuts=kwargs_lens_cut)\n",
    "print(f'Number of valid lenses: {len(lens_population)}')"
   ]
  },
  {
   "cell_type": "markdown",
   "metadata": {},
   "source": [
    "NB in the current version of `slsim`, `slsim.LensPop.draw_population` is using the method `slsim.lens.validity_test()` to filter out non-detectable lenses. Here, we want to add a few more filters:\n",
    "\n",
    "1. is the Einstein radius greater than the Sersic radius of the lensing galaxy and the lensing galaxy brighter than 15th magnitude (in F106)?\n",
    "2. is the SNR of lensed images greater than 10?"
   ]
  },
  {
   "cell_type": "code",
   "execution_count": null,
   "metadata": {},
   "outputs": [],
   "source": [
    "# set up dict to capture some information about which candidates got filtered out\n",
    "filtered_sample = {}\n",
    "filtered_sample['total'] = len(lens_population)\n",
    "num_samples = 100\n",
    "filter_1, filter_2 = 0, 0\n",
    "filtered_sample['filter_1'] = []\n",
    "filtered_sample['filter_2'] = []"
   ]
  },
  {
   "cell_type": "code",
   "execution_count": null,
   "metadata": {},
   "outputs": [],
   "source": [
    "limit = None\n",
    "detectable_gglenses = []\n",
    "\n",
    "for candidate in tqdm(lens_population):\n",
    "    # 1. Einstein radius and Sersic radius\n",
    "    _, kwargs_params = candidate.lenstronomy_kwargs(band='F106')\n",
    "    lens_mag = candidate.deflector_magnitude(band='F106')\n",
    "\n",
    "    if kwargs_params['kwargs_lens'][0]['theta_E'] < kwargs_params['kwargs_lens_light'][0]['R_sersic'] and lens_mag < 15:\n",
    "        filter_1 += 1\n",
    "        if filter_1 <= num_samples:\n",
    "            filtered_sample['filter_1'].append(candidate)\n",
    "        continue\n",
    "\n",
    "    # 2. SNR\n",
    "    snr, _ = survey_sim.get_snr(candidate, 'F106')\n",
    "\n",
    "    if snr < 10:\n",
    "        filter_2 += 1\n",
    "        if filter_2 <= num_samples:\n",
    "            filtered_sample['filter_2'].append(candidate)\n",
    "        continue\n",
    "\n",
    "    # if both criteria satisfied, consider detectable\n",
    "    detectable_gglenses.append(candidate)\n",
    "\n",
    "    # if I've imposed a limit above this loop, exit the loop\n",
    "    if limit is not None and len(detectable_gglenses) == limit:\n",
    "        break\n",
    "\n",
    "filtered_sample['num_filter_1'] = filter_1\n",
    "filtered_sample['num_filter_2'] = filter_2\n",
    "\n",
    "print(f'{len(detectable_gglenses)} detectable lens(es)')"
   ]
  },
  {
   "cell_type": "code",
   "execution_count": null,
   "metadata": {},
   "outputs": [],
   "source": [
    "if len(detectable_gglenses) > 0:\n",
    "    pprint(filtered_sample['num_filter_1'], filtered_sample['num_filter_2'])"
   ]
  },
  {
   "cell_type": "code",
   "execution_count": null,
   "metadata": {},
   "outputs": [],
   "source": [
    "print('Retrieving lenstronomy parameters')\n",
    "dict_list = []\n",
    "for gglens in tqdm(detectable_gglenses):\n",
    "\n",
    "    # get lens params from gglens object\n",
    "    kwargs_model, kwargs_params = gglens.lenstronomy_kwargs(band='F106')\n",
    "\n",
    "    # build dicts for lens and source magnitudes\n",
    "    lens_mags, source_mags = {}, {}\n",
    "    for band in ['F106', 'F129', 'F184']:\n",
    "        lens_mags[band] = gglens.deflector_magnitude(band)\n",
    "        source_mags[band] = gglens.source_magnitude(band)\n",
    "\n",
    "    z_lens, z_source = gglens.lens_redshift, gglens.source_redshift\n",
    "    kwargs_lens = kwargs_params['kwargs_lens']\n",
    "\n",
    "    # add additional necessary key/value pairs to kwargs_model\n",
    "    kwargs_model['lens_redshift_list'] = [z_lens] * len(kwargs_lens)\n",
    "    kwargs_model['source_redshift_list'] = [z_source]\n",
    "    kwargs_model['cosmo'] = cosmo\n",
    "    kwargs_model['z_source'] = z_source\n",
    "    kwargs_model['z_source_convention'] = 5\n",
    "\n",
    "    # create dict to pickle\n",
    "    gglens_dict = {\n",
    "        'kwargs_model': kwargs_model,\n",
    "        'kwargs_params': kwargs_params,\n",
    "        'lens_mags': lens_mags,\n",
    "        'source_mags': source_mags,\n",
    "        'deflector_stellar_mass': gglens.deflector_stellar_mass(),\n",
    "        'deflector_velocity_dispersion': gglens.deflector_velocity_dispersion(),\n",
    "        'snr': gglens.snr\n",
    "    }\n",
    "\n",
    "    dict_list.append(gglens_dict)\n",
    "\n",
    "print('Pickling lenses...')\n",
    "for i, each in tqdm(enumerate(dict_list)):\n",
    "    save_path = os.path.join(data_dir, 'skypy', f'skypy_output_{str(i).zfill(5)}.pkl')\n",
    "    util.pickle(save_path, each)"
   ]
  },
  {
   "cell_type": "code",
   "execution_count": null,
   "metadata": {},
   "outputs": [],
   "source": [
    "detectable_pop_csv = os.path.join(output_dir, 'detectable_pop.csv')\n",
    "survey_sim.write_lens_pop_to_csv(detectable_pop_csv, detectable_gglenses, bands_hlwas)"
   ]
  },
  {
   "cell_type": "code",
   "execution_count": null,
   "metadata": {},
   "outputs": [],
   "source": [
    "stop = time.time()\n",
    "execution_time = str(datetime.timedelta(seconds=round(stop - start)))\n",
    "print(f'Execution time: {execution_time}')"
   ]
  }
 ],
 "metadata": {
  "kernelspec": {
   "display_name": "mejiro",
   "language": "python",
   "name": "python3"
  },
  "language_info": {
   "codemirror_mode": {
    "name": "ipython",
    "version": 3
   },
   "file_extension": ".py",
   "mimetype": "text/x-python",
   "name": "python",
   "nbconvert_exporter": "python",
   "pygments_lexer": "ipython3",
   "version": "3.10.6"
  }
 },
 "nbformat": 4,
 "nbformat_minor": 2
}
