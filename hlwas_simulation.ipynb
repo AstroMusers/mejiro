{
 "cells": [
  {
   "cell_type": "code",
   "execution_count": 1,
   "metadata": {},
   "outputs": [],
   "source": [
    "import numpy as np\n",
    "import os\n",
    "import sys\n",
    "import matplotlib.pyplot as plt\n",
    "import astropy\n",
    "import speclite\n",
    "from astropy.cosmology import default_cosmology\n",
    "from astropy.units import Quantity\n",
    "from slsim.lens_pop import LensPop\n",
    "from slsim.Observations.roman_speclite import configure_roman_filters, filter_names\n",
    "from tqdm import tqdm\n",
    "from pprint import pprint\n",
    "import time\n",
    "import pandas as pd\n",
    "import datetime\n",
    "\n",
    "import mejiro\n",
    "from mejiro.helpers import survey_sim\n",
    "from mejiro.utils import util\n",
    "\n",
    "%matplotlib inline"
   ]
  },
  {
   "cell_type": "code",
   "execution_count": 2,
   "metadata": {},
   "outputs": [],
   "source": [
    "from hydra import initialize, compose\n",
    "\n",
    "# set paths to various directories based on the machine this code is being executed on\n",
    "with initialize(version_base=None, config_path='config'):\n",
    "    config = compose(config_name='config.yaml')  # overrides=['machine=uzay']\n",
    "\n",
    "array_dir, data_dir, figure_dir, pickle_dir, repo_dir  = config.machine.array_dir, config.machine.data_dir, config.machine.figure_dir, config.machine.pickle_dir, config.machine.repo_dir\n",
    "\n",
    "# enable use of local modules\n",
    "if repo_dir not in sys.path:\n",
    "    sys.path.append(repo_dir)"
   ]
  },
  {
   "cell_type": "code",
   "execution_count": 3,
   "metadata": {},
   "outputs": [],
   "source": [
    "# !jupyter nbconvert --to python hlwas_simulation.ipynb --TemplateExporter.exclude_markdown=True --TemplateExporter.exclude_output_prompt=True --TemplateExporter.exclude_input_prompt=True"
   ]
  },
  {
   "cell_type": "code",
   "execution_count": 4,
   "metadata": {},
   "outputs": [],
   "source": [
    "start = time.time()"
   ]
  },
  {
   "cell_type": "code",
   "execution_count": 5,
   "metadata": {},
   "outputs": [],
   "source": [
    "output_dir = os.path.join(data_dir, 'output', 'hlwas_sim')\n",
    "util.create_directory_if_not_exists(output_dir)\n",
    "util.clear_directory(output_dir)"
   ]
  },
  {
   "cell_type": "code",
   "execution_count": 6,
   "metadata": {},
   "outputs": [],
   "source": [
    "area_hlwas = 1700.\n",
    "cosmo = default_cosmology.get()\n",
    "\n",
    "bands_hlwas = ['F106', 'F129', 'F184']\n",
    "\n",
    "survey_area = 0.5\n",
    "sky_area = Quantity(value=survey_area, unit='deg2')"
   ]
  },
  {
   "cell_type": "code",
   "execution_count": 7,
   "metadata": {},
   "outputs": [],
   "source": [
    "# load Roman WFI filters\n",
    "configure_roman_filters()\n",
    "roman_filters = filter_names()\n",
    "roman_filters.sort()\n",
    "_ = speclite.filters.load_filters(*roman_filters[:8])"
   ]
  },
  {
   "cell_type": "code",
   "execution_count": 8,
   "metadata": {},
   "outputs": [],
   "source": [
    "module_path = os.path.dirname(mejiro.__file__)\n",
    "skypy_config = os.path.join(module_path, 'data', 'roman_hlwas.yml')\n",
    "\n",
    "# define cuts on the intrinsic deflector and source populations (in addition to the skypy config file)\n",
    "kwargs_deflector_cut = {'band': 'F106', 'band_max': 23, 'z_min': 0.01, 'z_max': 2.}\n",
    "kwargs_source_cut = {'band': 'F106', 'band_max': 24, 'z_min': 0.01, 'z_max': 5.}\n",
    "\n",
    "# create the lens population\n",
    "lens_pop = LensPop(deflector_type=\"all-galaxies\",  # elliptical, all-galaxies\n",
    "    source_type=\"galaxies\",\n",
    "    kwargs_deflector_cut=kwargs_deflector_cut,\n",
    "    kwargs_source_cut=kwargs_source_cut,\n",
    "    kwargs_mass2light=None,\n",
    "    skypy_config=skypy_config,\n",
    "    sky_area=sky_area,\n",
    "    cosmo=cosmo)"
   ]
  },
  {
   "cell_type": "code",
   "execution_count": 9,
   "metadata": {},
   "outputs": [
    {
     "name": "stdout",
     "output_type": "stream",
     "text": [
      "Number of deflectors: 29449, scaled to HLWAS (1700.0 sq deg): 100126600\n",
      "Number of sources: 1161413, scaled to HLWAS (1700.0 sq deg): 3948804200\n"
     ]
    }
   ],
   "source": [
    "num_lenses = lens_pop.deflector_number()\n",
    "num_sources = lens_pop.source_number()\n",
    "\n",
    "print(f'Number of deflectors: {num_lenses}, scaled to HLWAS ({area_hlwas} sq deg): {int((area_hlwas / survey_area) * num_lenses)}')\n",
    "print(f'Number of sources: {num_sources}, scaled to HLWAS ({area_hlwas} sq deg): {int((area_hlwas / survey_area) * num_sources)}')"
   ]
  },
  {
   "cell_type": "markdown",
   "metadata": {},
   "source": [
    "Need to grab parameters for the entire lens population"
   ]
  },
  {
   "cell_type": "code",
   "execution_count": 10,
   "metadata": {},
   "outputs": [
    {
     "name": "stdout",
     "output_type": "stream",
     "text": [
      "Number of total lenses: 3893\n"
     ]
    }
   ],
   "source": [
    "total_lens_population = lens_pop.draw_population(kwargs_lens_cuts={})\n",
    "print(f'Number of total lenses: {len(total_lens_population)}')"
   ]
  },
  {
   "cell_type": "code",
   "execution_count": 11,
   "metadata": {},
   "outputs": [
    {
     "name": "stderr",
     "output_type": "stream",
     "text": [
      "  0%|          | 12/3893 [00:00<00:32, 117.82it/s]"
     ]
    },
    {
     "name": "stderr",
     "output_type": "stream",
     "text": [
      "100%|██████████| 3893/3893 [00:32<00:00, 120.74it/s]\n"
     ]
    }
   ],
   "source": [
    "# compute SNRs and save\n",
    "snr_list = []\n",
    "for candidate in tqdm(total_lens_population):\n",
    "    snr, _ = survey_sim.get_snr(candidate, 'F106')\n",
    "    snr_list.append(snr)\n",
    "np.save(os.path.join(output_dir, 'snr_list.npy'), snr_list)\n",
    "\n",
    "# save other params to CSV\n",
    "total_pop_csv = os.path.join(output_dir, 'total_pop.csv')\n",
    "# survey_sim.write_lens_pop_to_csv(total_pop_csv, total_lens_population, bands_hlwas)"
   ]
  },
  {
   "cell_type": "code",
   "execution_count": 15,
   "metadata": {},
   "outputs": [
    {
     "name": "stderr",
     "output_type": "stream",
     "text": [
      "  0%|          | 0/3893 [00:00<?, ?it/s]\n"
     ]
    },
    {
     "ename": "AttributeError",
     "evalue": "'Lens' object has no attribute '_center_source'",
     "output_type": "error",
     "traceback": [
      "\u001b[0;31m---------------------------------------------------------------------------\u001b[0m",
      "\u001b[0;31mAttributeError\u001b[0m                            Traceback (most recent call last)",
      "Input \u001b[0;32mIn [15]\u001b[0m, in \u001b[0;36m<cell line: 19>\u001b[0;34m()\u001b[0m\n\u001b[1;32m     37\u001b[0m \u001b[38;5;28mdict\u001b[39m[\u001b[38;5;124m'\u001b[39m\u001b[38;5;124mxposlens\u001b[39m\u001b[38;5;124m'\u001b[39m] \u001b[38;5;241m=\u001b[39m posilens[\u001b[38;5;241m0\u001b[39m]\n\u001b[1;32m     38\u001b[0m \u001b[38;5;28mdict\u001b[39m[\u001b[38;5;124m'\u001b[39m\u001b[38;5;124myposlens\u001b[39m\u001b[38;5;124m'\u001b[39m] \u001b[38;5;241m=\u001b[39m posilens[\u001b[38;5;241m1\u001b[39m]\n\u001b[0;32m---> 39\u001b[0m \u001b[38;5;28mdict\u001b[39m[\u001b[38;5;124m'\u001b[39m\u001b[38;5;124mxpossour\u001b[39m\u001b[38;5;124m'\u001b[39m] \u001b[38;5;241m=\u001b[39m \u001b[43mgg_lens\u001b[49m\u001b[38;5;241;43m.\u001b[39;49m\u001b[43m_center_source\u001b[49m[\u001b[38;5;241m0\u001b[39m]\n\u001b[1;32m     40\u001b[0m \u001b[38;5;28mdict\u001b[39m[\u001b[38;5;124m'\u001b[39m\u001b[38;5;124mypossour\u001b[39m\u001b[38;5;124m'\u001b[39m] \u001b[38;5;241m=\u001b[39m gg_lens\u001b[38;5;241m.\u001b[39m_center_source[\u001b[38;5;241m1\u001b[39m]  \u001b[38;5;66;03m# TODO otherwise, set with extended_source_position()\u001b[39;00m\n\u001b[1;32m     42\u001b[0m \u001b[38;5;28;01mfor\u001b[39;00m nameband \u001b[38;5;129;01min\u001b[39;00m bands:\n",
      "\u001b[0;31mAttributeError\u001b[0m: 'Lens' object has no attribute '_center_source'"
     ]
    }
   ],
   "source": [
    "output_path = total_pop_csv\n",
    "gg_lenses = total_lens_population\n",
    "bands = bands_hlwas\n",
    "\n",
    "dictparaggln = {}\n",
    "dictparaggln['Candidate'] = {}\n",
    "listnamepara = ['velodisp', 'massstel', 'angleins', 'redssour', 'redslens', 'xposlens', 'yposlens', 'xpossour',\n",
    "                'ypossour', 'numbimag', 'magnsour', 'maxmdistimag']\n",
    "for nameband in bands:\n",
    "    listnamepara += ['magtlens%s' % nameband]\n",
    "    listnamepara += ['magtsour%s' % nameband]\n",
    "    listnamepara += ['magtsourMagnified%s' % nameband]\n",
    "\n",
    "for namepara in listnamepara:\n",
    "    dictparaggln['Candidate'][namepara] = np.empty(len(gg_lenses))\n",
    "\n",
    "df = pd.DataFrame(columns=listnamepara)\n",
    "\n",
    "for i, gg_lens in tqdm(enumerate(gg_lenses), total=len(gg_lenses)):\n",
    "    dict = {\n",
    "        'velodisp': gg_lens.deflector_velocity_dispersion,\n",
    "        'massstel': gg_lens.deflector_stellar_mass() * 1e-12, \n",
    "        'angleins': gg_lens.einstein_radius, \n",
    "        'redssour': gg_lens.source_redshift, \n",
    "        'redslens': gg_lens.deflector_redshift, \n",
    "        'magnsour': gg_lens.extended_source_magnification\n",
    "        # TODO add SNR?\n",
    "    }\n",
    "\n",
    "    posiimag = gg_lens.point_source_image_positions()\n",
    "    dict['numbimag'] = int(posiimag[0].size)\n",
    "\n",
    "    dict['maxmdistimag'] = np.amax(np.sqrt((posiimag[0][:, None] - posiimag[0][None, :]) ** 2 + (posiimag[1][:, None] - posiimag[1][None, :]) ** 2))\n",
    "\n",
    "    posilens = gg_lens.deflector_position\n",
    "    # posisour = gg_lens.position_alignment()\n",
    "    dict['xposlens'] = posilens[0]\n",
    "    dict['yposlens'] = posilens[1]\n",
    "    dict['xpossour'] = gg_lens._center_source[0]\n",
    "    dict['ypossour'] = gg_lens._center_source[1]  # TODO otherwise, set with extended_source_position()\n",
    "\n",
    "    for nameband in bands:\n",
    "        dict['magtsour%s' % nameband] = gg_lens.source_magnitude(band=nameband)\n",
    "        dict['magtsourMagnified%s' % nameband] = gg_lens.source_magnitude(band=nameband, lensed=True)\n",
    "        dict['magtlens%s' % nameband] = gg_lens.deflector_magnitude(band=nameband)\n",
    "\n",
    "    df.loc[i] = pd.Series(dict)\n",
    "\n",
    "print('Writing to %s..' % output_path)\n",
    "if os.path.exists(output_path): \n",
    "    os.remove(output_path)\n",
    "df.to_csv(output_path, index=False)"
   ]
  },
  {
   "cell_type": "markdown",
   "metadata": {},
   "source": [
    "Now, start to filter down to the detectable ones"
   ]
  },
  {
   "cell_type": "code",
   "execution_count": null,
   "metadata": {},
   "outputs": [],
   "source": [
    "kwargs_lens_cut = {\n",
    "    'min_image_separation': 0.2,\n",
    "    'max_image_separation': 5,\n",
    "    'mag_arc_limit': {'F106': 25},\n",
    "}\n",
    "\n",
    "lens_population = lens_pop.draw_population(kwargs_lens_cuts=kwargs_lens_cut)\n",
    "print(f'Number of valid lenses: {len(lens_population)}')"
   ]
  },
  {
   "cell_type": "markdown",
   "metadata": {},
   "source": [
    "NB in the current version of `slsim`, `slsim.LensPop.draw_population` is using the method `slsim.lens.validity_test()` to filter out non-detectable lenses. Here, we want to add a few more filters:\n",
    "\n",
    "1. is the Einstein radius greater than the Sersic radius of the lensing galaxy and the lensing galaxy brighter than 15th magnitude (in F106)?\n",
    "2. is the SNR of lensed images greater than 10?"
   ]
  },
  {
   "cell_type": "code",
   "execution_count": null,
   "metadata": {},
   "outputs": [],
   "source": [
    "# set up dict to capture some information about which candidates got filtered out\n",
    "filtered_sample = {}\n",
    "filtered_sample['total'] = len(lens_population)\n",
    "num_samples = 100\n",
    "filter_1, filter_2 = 0, 0\n",
    "filtered_sample['filter_1'] = []\n",
    "filtered_sample['filter_2'] = []"
   ]
  },
  {
   "cell_type": "code",
   "execution_count": null,
   "metadata": {},
   "outputs": [],
   "source": [
    "limit = None\n",
    "detectable_gglenses = []\n",
    "\n",
    "for candidate in tqdm(lens_population):\n",
    "    # 1. Einstein radius and Sersic radius\n",
    "    _, kwargs_params = candidate.lenstronomy_kwargs(band='F106')\n",
    "    lens_mag = candidate.deflector_magnitude(band='F106')\n",
    "\n",
    "    if kwargs_params['kwargs_lens'][0]['theta_E'] < kwargs_params['kwargs_lens_light'][0]['R_sersic'] and lens_mag < 15:\n",
    "        filter_1 += 1\n",
    "        if filter_1 <= num_samples:\n",
    "            filtered_sample['filter_1'].append(candidate)\n",
    "        continue\n",
    "\n",
    "    # 2. SNR\n",
    "    snr, _ = survey_sim.get_snr(candidate, 'F106')\n",
    "\n",
    "    if snr < 10:\n",
    "        filter_2 += 1\n",
    "        if filter_2 <= num_samples:\n",
    "            filtered_sample['filter_2'].append(candidate)\n",
    "        continue\n",
    "\n",
    "    # if both criteria satisfied, consider detectable\n",
    "    detectable_gglenses.append(candidate)\n",
    "\n",
    "    # if I've imposed a limit above this loop, exit the loop\n",
    "    if limit is not None and len(detectable_gglenses) == limit:\n",
    "        break\n",
    "\n",
    "filtered_sample['num_filter_1'] = filter_1\n",
    "filtered_sample['num_filter_2'] = filter_2\n",
    "\n",
    "print(f'{len(detectable_gglenses)} detectable lens(es)')"
   ]
  },
  {
   "cell_type": "code",
   "execution_count": null,
   "metadata": {},
   "outputs": [],
   "source": [
    "if len(detectable_gglenses) > 0:\n",
    "    pprint(filtered_sample['num_filter_1'], filtered_sample['num_filter_2'])"
   ]
  },
  {
   "cell_type": "markdown",
   "metadata": {},
   "source": [
    "Now that we have our list of detectable lenses, pickle them for the image simulation part of the pipeline."
   ]
  },
  {
   "cell_type": "code",
   "execution_count": null,
   "metadata": {},
   "outputs": [],
   "source": [
    "print('Retrieving lenstronomy parameters')\n",
    "dict_list = []\n",
    "for gglens in tqdm(detectable_gglenses):\n",
    "\n",
    "    # get lens params from gglens object\n",
    "    kwargs_model, kwargs_params = gglens.lenstronomy_kwargs(band='F106')\n",
    "\n",
    "    # build dicts for lens and source magnitudes\n",
    "    lens_mags, source_mags = {}, {}\n",
    "    for band in ['F106', 'F129', 'F184']:\n",
    "        lens_mags[band] = gglens.deflector_magnitude(band)\n",
    "        source_mags[band] = gglens.source_magnitude(band)\n",
    "\n",
    "    z_lens, z_source = gglens.lens_redshift, gglens.source_redshift\n",
    "    kwargs_lens = kwargs_params['kwargs_lens']\n",
    "\n",
    "    # add additional necessary key/value pairs to kwargs_model\n",
    "    kwargs_model['lens_redshift_list'] = [z_lens] * len(kwargs_lens)\n",
    "    kwargs_model['source_redshift_list'] = [z_source]\n",
    "    kwargs_model['cosmo'] = cosmo\n",
    "    kwargs_model['z_source'] = z_source\n",
    "    kwargs_model['z_source_convention'] = 5\n",
    "\n",
    "    # create dict to pickle\n",
    "    gglens_dict = {\n",
    "        'kwargs_model': kwargs_model,\n",
    "        'kwargs_params': kwargs_params,\n",
    "        'lens_mags': lens_mags,\n",
    "        'source_mags': source_mags,\n",
    "        'deflector_stellar_mass': gglens.deflector_stellar_mass(),\n",
    "        'deflector_velocity_dispersion': gglens.deflector_velocity_dispersion(),\n",
    "        'snr': gglens.snr\n",
    "    }\n",
    "\n",
    "    dict_list.append(gglens_dict)\n",
    "\n",
    "print('Pickling lenses...')\n",
    "for i, each in tqdm(enumerate(dict_list)):\n",
    "    save_path = os.path.join(data_dir, 'skypy', f'skypy_output_{str(i).zfill(5)}.pkl')\n",
    "    util.pickle(save_path, each)"
   ]
  },
  {
   "cell_type": "code",
   "execution_count": null,
   "metadata": {},
   "outputs": [],
   "source": [
    "detectable_pop_csv = os.path.join(output_dir, 'detectable_pop.csv')\n",
    "survey_sim.write_lens_pop_to_csv(detectable_pop_csv, detectable_gglenses, bands_hlwas)"
   ]
  },
  {
   "cell_type": "code",
   "execution_count": null,
   "metadata": {},
   "outputs": [],
   "source": [
    "stop = time.time()\n",
    "execution_time = str(datetime.timedelta(seconds=round(stop - start)))\n",
    "print(f'Execution time: {execution_time}')"
   ]
  }
 ],
 "metadata": {
  "kernelspec": {
   "display_name": "mejiro",
   "language": "python",
   "name": "python3"
  },
  "language_info": {
   "codemirror_mode": {
    "name": "ipython",
    "version": 3
   },
   "file_extension": ".py",
   "mimetype": "text/x-python",
   "name": "python",
   "nbconvert_exporter": "python",
   "pygments_lexer": "ipython3",
   "version": "3.10.6"
  }
 },
 "nbformat": 4,
 "nbformat_minor": 2
}
