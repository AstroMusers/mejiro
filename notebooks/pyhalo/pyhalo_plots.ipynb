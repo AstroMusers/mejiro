{
 "cells": [
  {
   "cell_type": "code",
   "execution_count": 7,
   "metadata": {},
   "outputs": [],
   "source": [
    "import os\n",
    "import sys\n",
    "\n",
    "import numpy as np\n",
    "import matplotlib\n",
    "%matplotlib inline\n",
    "import matplotlib.pyplot as plt\n",
    "from matplotlib import colors\n",
    "from hydra import initialize, compose\n",
    "import pickle\n",
    "from glob import glob\n",
    "from pprint import pprint\n",
    "from tqdm import tqdm\n",
    "from copy import deepcopy\n",
    "from pyHalo.preset_models import CDM\n",
    "\n",
    "# set paths to various directories based on the machine this code is being executed on\n",
    "with initialize(version_base=None, config_path='config'):\n",
    "    config = compose(config_name='config.yaml')  # overrides=['machine=uzay']\n",
    "\n",
    "array_dir, data_dir, figure_dir, pickle_dir, repo_dir  = config.machine.array_dir, config.machine.data_dir, config.machine.figure_dir, config.machine.pickle_dir, config.machine.repo_dir\n",
    "\n",
    "# enable use of local modules\n",
    "if repo_dir not in sys.path:\n",
    "    sys.path.append(repo_dir)\n",
    "\n",
    "# set matplotlib style\n",
    "plt.style.use(f'{repo_dir}/mejiro/mplstyle/science.mplstyle')\n",
    "\n",
    "from mejiro.lenses.test import SampleStrongLens\n",
    "from mejiro.plots import diagnostic_plot, plot, plot_util, overplot\n",
    "from mejiro.analysis import stats\n",
    "from mejiro.utils import util\n",
    "from mejiro.helpers import gs"
   ]
  },
  {
   "cell_type": "code",
   "execution_count": 3,
   "metadata": {},
   "outputs": [],
   "source": [
    "lens = SampleStrongLens()"
   ]
  },
  {
   "cell_type": "code",
   "execution_count": 5,
   "metadata": {},
   "outputs": [
    {
     "name": "stdout",
     "output_type": "stream",
     "text": [
      "subhalo_cone: 10.0\n",
      "los_normalization: 0.0\n",
      "r_tidal: 0.5\n",
      "sigma_sub: 0.055\n",
      "log_mlow: 6\n",
      "log_mhigh: 10\n"
     ]
    }
   ],
   "source": [
    "pipeline_params = util.hydra_to_dict(config.pipeline)\n",
    "subhalo_cone = pipeline_params['subhalo_cone']\n",
    "los_normalization = pipeline_params['los_normalization']\n",
    "r_tidal = pipeline_params['r_tidal']\n",
    "sigma_sub = pipeline_params['sigma_sub']\n",
    "log_mlow = pipeline_params['log_mlow']\n",
    "log_mhigh = pipeline_params['log_mhigh']\n",
    "\n",
    "print(f\"subhalo_cone: {subhalo_cone}\")\n",
    "print(f\"los_normalization: {los_normalization}\")\n",
    "print(f\"r_tidal: {r_tidal}\")\n",
    "print(f\"sigma_sub: {sigma_sub}\")\n",
    "print(f\"log_mlow: {log_mlow}\")\n",
    "print(f\"log_mhigh: {log_mhigh}\")"
   ]
  },
  {
   "cell_type": "code",
   "execution_count": 4,
   "metadata": {},
   "outputs": [
    {
     "name": "stdout",
     "output_type": "stream",
     "text": [
      "log_m_host: 11.854955330626419\n",
      "{'H0': 67.66, 'Ob0': 0.04897, 'Om0': 0.30966}\n",
      "z_lens: 0.29, z_source: 0.59\n"
     ]
    }
   ],
   "source": [
    "log_m_host = np.log10(lens.main_halo_mass)\n",
    "print(f'log_m_host: {log_m_host}')\n",
    "\n",
    "kwargs_cosmo = util.get_kwargs_cosmo(lens.cosmo)\n",
    "pprint(kwargs_cosmo)\n",
    "\n",
    "# circumvent bug with pyhalo, sometimes fails when redshifts have more than 2 decimal places\n",
    "z_lens = round(lens.z_lens, 2)\n",
    "z_source = round(lens.z_source, 2)\n",
    "print(f'z_lens: {z_lens}, z_source: {z_source}')"
   ]
  },
  {
   "cell_type": "code",
   "execution_count": 12,
   "metadata": {},
   "outputs": [
    {
     "name": "stderr",
     "output_type": "stream",
     "text": [
      "100%|██████████| 100/100 [07:18<00:00,  4.38s/it]\n"
     ]
    }
   ],
   "source": [
    "num_realizations = 100\n",
    "\n",
    "lens_list = []\n",
    "stats_list = []\n",
    "\n",
    "for i in tqdm(range(num_realizations)):\n",
    "    lens_copy = deepcopy(lens)\n",
    "\n",
    "    realization = CDM(z_lens,\n",
    "                    z_source,\n",
    "                    sigma_sub=sigma_sub,\n",
    "                    log_mlow=log_mlow,\n",
    "                    log_mhigh=log_mhigh,\n",
    "                    log_m_host=log_m_host,\n",
    "                    r_tidal=r_tidal,\n",
    "                    cone_opening_angle_arcsec=subhalo_cone,\n",
    "                    LOS_normalization=los_normalization,\n",
    "                    kwargs_cosmo=kwargs_cosmo)\n",
    "\n",
    "    # add subhalos\n",
    "    stats_dict = lens_copy.add_subhalos(realization, return_stats=True)\n",
    "\n",
    "    lens_list.append(lens_copy)\n",
    "    stats_list.append(stats_dict)"
   ]
  },
  {
   "cell_type": "code",
   "execution_count": 10,
   "metadata": {},
   "outputs": [
    {
     "name": "stdout",
     "output_type": "stream",
     "text": [
      "{'adjusted_einstein_radius': 1.166685678477297,\n",
      " 'adjusted_lensing_mass': 430865890633.56934,\n",
      " 'effective_lensing_mass': 431898205024.59985,\n",
      " 'original_einstein_radius': 1.168082477232392,\n",
      " 'percent_change_einstein_radius': 0.11958049044656738,\n",
      " 'percent_change_lensing_mass': 0.2390179859561397,\n",
      " 'percent_subhalo_mass_within_einstein_radius': 4.4740771873644745,\n",
      " 'total_mass_subhalos_within_einstein_radius': 1032314391.030545,\n",
      " 'total_subhalo_mass': 23073236061.862537}\n"
     ]
    }
   ],
   "source": [
    "pprint(stats_dict)"
   ]
  },
  {
   "cell_type": "code",
   "execution_count": 16,
   "metadata": {},
   "outputs": [
    {
     "data": {
      "image/png": "[encoded data removed]",
      "text/plain": [
       "<Figure size 700x525 with 1 Axes>"
      ]
     },
     "metadata": {},
     "output_type": "display_data"
    }
   ],
   "source": [
    "f_sub_list = []\n",
    "\n",
    "for stats_dict in stats_list:\n",
    "    effective_lensing_mass = stats_dict['effective_lensing_mass']\n",
    "    total_mass_subhalos_within_einstein_radius = stats_dict['total_mass_subhalos_within_einstein_radius']\n",
    "    f_sub = total_mass_subhalos_within_einstein_radius / effective_lensing_mass\n",
    "    f_sub_list.append(f_sub)\n",
    "\n",
    "plt.hist(f_sub_list, bins=int(np.sqrt(num_realizations)))\n",
    "plt.show()"
   ]
  },
  {
   "cell_type": "code",
   "execution_count": 17,
   "metadata": {},
   "outputs": [],
   "source": [
    "realization_list = [l.realization for l in lens_list]"
   ]
  },
  {
   "cell_type": "code",
   "execution_count": 18,
   "metadata": {},
   "outputs": [
    {
     "data": {
      "image/png": "[encoded data removed]",
      "text/plain": [
       "<Figure size 700x525 with 1 Axes>"
      ]
     },
     "metadata": {},
     "output_type": "display_data"
    }
   ],
   "source": [
    "subhalo_count = [len(r.halos) for r in realization_list]\n",
    "\n",
    "plt.hist(subhalo_count, bins=int(np.sqrt(num_realizations)))\n",
    "plt.show()"
   ]
  }
 ],
 "metadata": {
  "kernelspec": {
   "display_name": "mejiro",
   "language": "python",
   "name": "python3"
  },
  "language_info": {
   "codemirror_mode": {
    "name": "ipython",
    "version": 3
   },
   "file_extension": ".py",
   "mimetype": "text/x-python",
   "name": "python",
   "nbconvert_exporter": "python",
   "pygments_lexer": "ipython3",
   "version": "3.11.7"
  }
 },
 "nbformat": 4,
 "nbformat_minor": 2
}
