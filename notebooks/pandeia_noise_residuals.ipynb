{
 "cells": [
  {
   "cell_type": "code",
   "execution_count": 1,
   "metadata": {},
   "outputs": [],
   "source": [
    "import os\n",
    "import sys\n",
    "\n",
    "path = os.getcwd()\n",
    "while os.path.basename(os.path.normpath(path)) != 'roman-pandeia':\n",
    "    path = os.path.dirname(path)\n",
    "repo_path = path\n",
    "if repo_path not in sys.path:\n",
    "    sys.path.append(repo_path)"
   ]
  },
  {
   "cell_type": "code",
   "execution_count": 2,
   "metadata": {},
   "outputs": [
    {
     "name": "stderr",
     "output_type": "stream",
     "text": [
      "/data/bwedig/.conda/envs/pandeia/lib/python3.9/site-packages/numba/core/decorators.py:262: NumbaDeprecationWarning: \u001b[1mnumba.generated_jit is deprecated. Please see the documentation at: https://numba.readthedocs.io/en/stable/reference/deprecation.html#deprecation-of-generated-jit for more information and advice on a suitable replacement.\u001b[0m\n",
      "  warnings.warn(msg, NumbaDeprecationWarning)\n"
     ]
    }
   ],
   "source": [
    "import numpy as np\n",
    "import time\n",
    "\n",
    "from copy import deepcopy\n",
    "from pprint import pprint\n",
    "from tqdm import tqdm\n",
    "\n",
    "import matplotlib\n",
    "import matplotlib.pyplot as plt\n",
    "\n",
    "matplotlib.rcParams['axes.grid'] = False\n",
    "matplotlib.rcParams['image.origin'] = 'lower'\n",
    "\n",
    "from pandeia.engine.perform_calculation import perform_calculation\n",
    "from pandeia.engine.calc_utils import build_default_calc, build_default_source\n",
    "from lenstronomy.Util import data_util\n",
    "from lenstronomy.SimulationAPI.ObservationConfig.Roman import Roman\n",
    "\n",
    "from package.helpers import test_physical_lens\n",
    "from package.pandeia import pandeia_input\n",
    "from package.plots import diagnostic_plot, plot"
   ]
  },
  {
   "cell_type": "code",
   "execution_count": 3,
   "metadata": {},
   "outputs": [],
   "source": [
    "figure_dir = os.path.join(repo_path, 'figures')\n",
    "array_dir = os.path.join(repo_path, 'output', 'arrays', 'pandeia_noise_residuals')"
   ]
  },
  {
   "cell_type": "code",
   "execution_count": 13,
   "metadata": {},
   "outputs": [
    {
     "name": "stderr",
     "output_type": "stream",
     "text": [
      "100%|██████████| 45/45 [00:00<00:00, 6170.31it/s]\n"
     ]
    },
    {
     "name": "stdout",
     "output_type": "stream",
     "text": [
      "Converting (45, 45) array to point sources...\n"
     ]
    },
    {
     "name": "stderr",
     "output_type": "stream",
     "text": [
      "  0%|          | 0/45 [00:00<?, ?it/s]"
     ]
    },
    {
     "name": "stderr",
     "output_type": "stream",
     "text": [
      "100%|██████████| 45/45 [00:12<00:00,  3.55it/s]"
     ]
    },
    {
     "name": "stdout",
     "output_type": "stream",
     "text": [
      "Point source conversion complete: 2025 point sources\n"
     ]
    },
    {
     "name": "stderr",
     "output_type": "stream",
     "text": [
      "\n"
     ]
    }
   ],
   "source": [
    "oversample_factor = 1\n",
    "\n",
    "pandeia = np.load(os.path.join(repo_path, 'output', 'arrays', 'diagnostics', 'pixel_density_test', f'detector_{oversample_factor}.npy'))\n",
    "\n",
    "physical_lens = test_physical_lens.TestPhysicalLens()\n",
    "model = physical_lens.get_array(num_pix=45 * oversample_factor)\n",
    "\n",
    "calc = pandeia_input.build_pandeia_calc(array=model, lens=physical_lens, band='f106', oversample_factor=oversample_factor)"
   ]
  },
  {
   "cell_type": "markdown",
   "metadata": {},
   "source": [
    "# Turn off cosmic ray noise"
   ]
  },
  {
   "cell_type": "code",
   "execution_count": 5,
   "metadata": {},
   "outputs": [
    {
     "name": "stdout",
     "output_type": "stream",
     "text": [
      "{'effects': {'saturation': True},\n",
      " 'noise': {'crs': False,\n",
      "           'dark': True,\n",
      "           'excess': False,\n",
      "           'ffnoise': True,\n",
      "           'readnoise': True,\n",
      "           'scatter': True}}\n",
      "Performing Pandeia calculation...\n"
     ]
    },
    {
     "name": "stderr",
     "output_type": "stream",
     "text": [
      "/data/bwedig/.conda/envs/pandeia/lib/python3.9/site-packages/pandeia/engine/report.py:1012: RuntimeWarning: divide by zero encountered in log\n",
      "  if np.log(abs(val)) < -1*precision and val != 0.0:\n"
     ]
    },
    {
     "name": "stdout",
     "output_type": "stream",
     "text": [
      "Pandeia calculation complete\n",
      "Execution time: 0:03:04\n"
     ]
    }
   ],
   "source": [
    "crs_off_calc = deepcopy(calc)\n",
    "\n",
    "calculation_dict = pandeia_input.get_calculation_dict(init=True)\n",
    "crs_off_dict = deepcopy(calculation_dict)\n",
    "\n",
    "crs_off_dict['noise']['crs'] = False\n",
    "pprint(crs_off_dict)\n",
    "\n",
    "crs_off_calc['calculation'] = crs_off_dict\n",
    "\n",
    "crs_off, execution_time = pandeia_input.get_pandeia_image(crs_off_calc)\n",
    "print(f'Execution time: {execution_time}')\n",
    "\n",
    "np.save(os.path.join(array_dir, 'crs_off.npy'), crs_off)"
   ]
  },
  {
   "cell_type": "markdown",
   "metadata": {},
   "source": [
    "# Turn off detector dark current noise"
   ]
  },
  {
   "cell_type": "code",
   "execution_count": 7,
   "metadata": {},
   "outputs": [
    {
     "name": "stdout",
     "output_type": "stream",
     "text": [
      "{'effects': {'saturation': True},\n",
      " 'noise': {'crs': True,\n",
      "           'dark': False,\n",
      "           'excess': False,\n",
      "           'ffnoise': True,\n",
      "           'readnoise': True,\n",
      "           'scatter': True}}\n",
      "Performing Pandeia calculation...\n",
      "Pandeia calculation complete\n",
      "Execution time: 0:03:07\n"
     ]
    }
   ],
   "source": [
    "dark_off_calc = deepcopy(calc)\n",
    "\n",
    "calculation_dict = pandeia_input.get_calculation_dict(init=True)\n",
    "dark_off_dict = deepcopy(calculation_dict)\n",
    "\n",
    "dark_off_dict['noise']['dark'] = False\n",
    "pprint(dark_off_dict)\n",
    "\n",
    "dark_off_calc['calculation'] = dark_off_dict\n",
    "\n",
    "dark_off, execution_time = pandeia_input.get_pandeia_image(dark_off_calc)\n",
    "print(f'Execution time: {execution_time}')\n",
    "\n",
    "np.save(os.path.join(array_dir, 'dark_off.npy'), dark_off)"
   ]
  },
  {
   "cell_type": "markdown",
   "metadata": {},
   "source": [
    "# Turn off flat-field noise"
   ]
  },
  {
   "cell_type": "code",
   "execution_count": 8,
   "metadata": {},
   "outputs": [
    {
     "name": "stdout",
     "output_type": "stream",
     "text": [
      "{'effects': {'saturation': True},\n",
      " 'noise': {'crs': True,\n",
      "           'dark': True,\n",
      "           'excess': False,\n",
      "           'ffnoise': False,\n",
      "           'readnoise': True,\n",
      "           'scatter': True}}\n",
      "Performing Pandeia calculation...\n",
      "Pandeia calculation complete\n",
      "Execution time: 0:03:01\n"
     ]
    }
   ],
   "source": [
    "ffnoise_off_calc = deepcopy(calc)\n",
    "\n",
    "calculation_dict = pandeia_input.get_calculation_dict(init=True)\n",
    "ffnoise_off_dict = deepcopy(calculation_dict)\n",
    "\n",
    "ffnoise_off_dict['noise']['ffnoise'] = False\n",
    "pprint(ffnoise_off_dict)\n",
    "\n",
    "ffnoise_off_calc['calculation'] = ffnoise_off_dict\n",
    "\n",
    "ffnoise_off, execution_time = pandeia_input.get_pandeia_image(ffnoise_off_calc)\n",
    "print(f'Execution time: {execution_time}')\n",
    "\n",
    "np.save(os.path.join(array_dir, 'ffnoise_off.npy'), ffnoise_off)"
   ]
  },
  {
   "cell_type": "markdown",
   "metadata": {},
   "source": [
    "# Turn off detector read noise"
   ]
  },
  {
   "cell_type": "code",
   "execution_count": 9,
   "metadata": {},
   "outputs": [
    {
     "name": "stdout",
     "output_type": "stream",
     "text": [
      "{'effects': {'saturation': True},\n",
      " 'noise': {'crs': True,\n",
      "           'dark': True,\n",
      "           'excess': False,\n",
      "           'ffnoise': True,\n",
      "           'readnoise': False,\n",
      "           'scatter': True}}\n",
      "Performing Pandeia calculation...\n",
      "Pandeia calculation complete\n",
      "Execution time: 0:03:02\n"
     ]
    }
   ],
   "source": [
    "readnoise_off_calc = deepcopy(calc)\n",
    "\n",
    "calculation_dict = pandeia_input.get_calculation_dict(init=True)\n",
    "readnoise_off_dict = deepcopy(calculation_dict)\n",
    "\n",
    "readnoise_off_dict['noise']['readnoise'] = False\n",
    "pprint(readnoise_off_dict)\n",
    "\n",
    "readnoise_off_calc['calculation'] = readnoise_off_dict\n",
    "\n",
    "readnoise_off, execution_time = pandeia_input.get_pandeia_image(readnoise_off_calc)\n",
    "print(f'Execution time: {execution_time}')\n",
    "\n",
    "np.save(os.path.join(array_dir, 'readnoise_off.npy'), readnoise_off)"
   ]
  },
  {
   "cell_type": "markdown",
   "metadata": {},
   "source": [
    "# Turn off Echelle scattering noise"
   ]
  },
  {
   "cell_type": "code",
   "execution_count": 10,
   "metadata": {},
   "outputs": [
    {
     "name": "stdout",
     "output_type": "stream",
     "text": [
      "{'effects': {'saturation': True},\n",
      " 'noise': {'crs': True,\n",
      "           'dark': True,\n",
      "           'excess': False,\n",
      "           'ffnoise': True,\n",
      "           'readnoise': True,\n",
      "           'scatter': False}}\n",
      "Performing Pandeia calculation...\n",
      "Pandeia calculation complete\n",
      "Execution time: 0:02:58\n"
     ]
    }
   ],
   "source": [
    "scatter_off_calc = deepcopy(calc)\n",
    "\n",
    "calculation_dict = pandeia_input.get_calculation_dict(init=True)\n",
    "scatter_off_dict = deepcopy(calculation_dict)\n",
    "\n",
    "scatter_off_dict['noise']['scatter'] = False\n",
    "pprint(scatter_off_dict)\n",
    "\n",
    "scatter_off_calc['calculation'] = scatter_off_dict\n",
    "\n",
    "scatter_off, execution_time = pandeia_input.get_pandeia_image(scatter_off_calc)\n",
    "print(f'Execution time: {execution_time}')\n",
    "\n",
    "np.save(os.path.join(array_dir, 'scatter_off.npy'), ffnoise_off)"
   ]
  },
  {
   "cell_type": "markdown",
   "metadata": {},
   "source": [
    "# Turn off pixel saturation effects"
   ]
  },
  {
   "cell_type": "code",
   "execution_count": 11,
   "metadata": {},
   "outputs": [
    {
     "name": "stdout",
     "output_type": "stream",
     "text": [
      "{'effects': {'saturation': False},\n",
      " 'noise': {'crs': True,\n",
      "           'dark': True,\n",
      "           'excess': False,\n",
      "           'ffnoise': True,\n",
      "           'readnoise': True,\n",
      "           'scatter': True}}\n",
      "Performing Pandeia calculation...\n",
      "Pandeia calculation complete\n",
      "Execution time: 0:02:55\n"
     ]
    }
   ],
   "source": [
    "saturation_off_calc = deepcopy(calc)\n",
    "\n",
    "calculation_dict = pandeia_input.get_calculation_dict(init=True)\n",
    "saturation_off_dict = deepcopy(calculation_dict)\n",
    "\n",
    "saturation_off_dict['effects']['saturation'] = False\n",
    "pprint(saturation_off_dict)\n",
    "\n",
    "saturation_off_calc['calculation'] = saturation_off_dict\n",
    "\n",
    "saturation_off, execution_time = pandeia_input.get_pandeia_image(saturation_off_calc)\n",
    "print(f'Execution time: {execution_time}')\n",
    "\n",
    "np.save(os.path.join(array_dir, 'saturation_off.npy'), saturation_off)"
   ]
  },
  {
   "cell_type": "markdown",
   "metadata": {},
   "source": [
    "# Plot residuals"
   ]
  },
  {
   "cell_type": "code",
   "execution_count": 25,
   "metadata": {},
   "outputs": [
    {
     "data": {
      "image/png": "[encoded data removed]",
      "text/plain": [
       "<Figure size 1500x800 with 7 Axes>"
      ]
     },
     "metadata": {},
     "output_type": "display_data"
    }
   ],
   "source": [
    "fig, axes = plt.subplots(nrows=2, ncols=3, figsize=(15, 8))\n",
    "\n",
    "im0 = axes[0,0].imshow(pandeia - crs_off, cmap='bwr')\n",
    "im1 = axes[0,1].imshow(pandeia - dark_off, cmap='bwr')\n",
    "im2 = axes[0,2].imshow(pandeia - ffnoise_off, cmap='bwr')\n",
    "im3 = axes[1,0].imshow(pandeia - readnoise_off, cmap='bwr')\n",
    "im4 = axes[1,1].imshow(pandeia - scatter_off, cmap='bwr')\n",
    "im5 = axes[1,2].imshow(pandeia - saturation_off, cmap='bwr')\n",
    "\n",
    "axes[0,0].set_title('Cosmic ray noise off')\n",
    "axes[0,1].set_title('Dark current noise off')\n",
    "axes[0,2].set_title('Flat-field noise off')\n",
    "axes[1,0].set_title('Read noise off')\n",
    "axes[1,1].set_title('Echelle scattering noise off')\n",
    "axes[1,2].set_title('Pixel saturation effects off')\n",
    "\n",
    "fig.colorbar(im1, ax=[axes[0,0], axes[0,1], axes[0,2], axes[1,0], axes[1,1], axes[1,2]])\n",
    "\n",
    "plt.show()"
   ]
  }
 ],
 "metadata": {
  "kernelspec": {
   "display_name": "pandeia",
   "language": "python",
   "name": "python3"
  },
  "language_info": {
   "codemirror_mode": {
    "name": "ipython",
    "version": 3
   },
   "file_extension": ".py",
   "mimetype": "text/x-python",
   "name": "python",
   "nbconvert_exporter": "python",
   "pygments_lexer": "ipython3",
   "version": "3.9.13"
  }
 },
 "nbformat": 4,
 "nbformat_minor": 2
}
