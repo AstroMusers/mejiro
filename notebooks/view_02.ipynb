{
 "cells": [
  {
   "cell_type": "code",
   "execution_count": 1,
   "metadata": {},
   "outputs": [],
   "source": [
    "import os\n",
    "import yaml\n",
    "from glob import glob\n",
    "from pprint import pprint\n",
    "\n",
    "from mejiro.utils import util\n",
    "\n",
    "# read configuration file\n",
    "import mejiro\n",
    "config_file = os.path.join(os.path.dirname(mejiro.__file__), 'data', 'mejiro_config', 'roman_test.yaml')\n",
    "with open(config_file, 'r') as f:\n",
    "    config = yaml.load(f, Loader=yaml.SafeLoader)\n",
    "\n",
    "if config['dev']:\n",
    "    config['pipeline_label'] += '_dev'"
   ]
  },
  {
   "cell_type": "code",
   "execution_count": 2,
   "metadata": {},
   "outputs": [
    {
     "name": "stdout",
     "output_type": "stream",
     "text": [
      "Found 772 system(s) in /data/bwedig/mejiro/roman_test_dev/02\n"
     ]
    }
   ],
   "source": [
    "data_dir = os.path.join(config['data_dir'], config['pipeline_label'], '02')\n",
    "\n",
    "pickles = sorted(glob(os.path.join(data_dir, '*', '*.pkl')))\n",
    "sample_lenses = [util.unpickle(f) for f in pickles]\n",
    "print(f'Found {len(sample_lenses)} system(s) in {data_dir}')"
   ]
  },
  {
   "cell_type": "code",
   "execution_count": 3,
   "metadata": {},
   "outputs": [
    {
     "name": "stdout",
     "output_type": "stream",
     "text": [
      "StrongLens(name=roman_test_00000000, coords=None, z_lens=0.8409999999999993, z_source=1.8406184273163735)\n"
     ]
    }
   ],
   "source": [
    "sample_lens = sample_lenses[0]\n",
    "\n",
    "print(sample_lens)"
   ]
  },
  {
   "cell_type": "code",
   "execution_count": 4,
   "metadata": {},
   "outputs": [
    {
     "name": "stdout",
     "output_type": "stream",
     "text": [
      "percentage of use_jax=True: 0.0% in 3088 flags\n"
     ]
    }
   ],
   "source": [
    "flags = []\n",
    "\n",
    "for l in sample_lenses:\n",
    "    if type(l.use_jax) is list:\n",
    "        flags.extend(l.use_jax)\n",
    "    else:\n",
    "        flags.append(l.use_jax)\n",
    "\n",
    "print(f'percentage of use_jax=True: {100*sum(flags)/len(flags):.1f}% in {len(flags)} flags')"
   ]
  },
  {
   "cell_type": "code",
   "execution_count": 5,
   "metadata": {},
   "outputs": [],
   "source": [
    "# from collections import Counter\n",
    "\n",
    "# galaxy_ids = [l.physical_params.get('galaxy_id') for l in sample_lenses]\n",
    "# repeat_list = []\n",
    "\n",
    "# counts = Counter(galaxy_ids)\n",
    "# for galaxy_id, count in counts.items():\n",
    "#     print(f'galaxy_id {galaxy_id} appears {count} times')\n",
    "#     repeat_list.append(count)"
   ]
  },
  {
   "cell_type": "code",
   "execution_count": 6,
   "metadata": {},
   "outputs": [],
   "source": [
    "# import matplotlib.pyplot as plt\n",
    "# import numpy as np\n",
    "\n",
    "# plt.figure(figsize=(6, 4))\n",
    "# plt.plot(np.linspace(0, len(repeat_list), len(repeat_list)), sorted(repeat_list, reverse=True))\n",
    "# plt.title(f'Repeated COSMOS Sources\\n{len(galaxy_ids)} Strong Lenses, {len(repeat_list)} Unique Sources')\n",
    "# plt.xlabel('Rank in Number of Repetitions')\n",
    "# plt.ylabel('Number of Repetitions')\n",
    "# plt.show()"
   ]
  },
  {
   "cell_type": "code",
   "execution_count": 7,
   "metadata": {},
   "outputs": [
    {
     "name": "stdout",
     "output_type": "stream",
     "text": [
      "{'coords': None,\n",
      " 'cosmo': FlatLambdaCDM(name='Planck18',\n",
      "                        H0=<Quantity 67.66 km / (Mpc s)>,\n",
      "                        Om0=0.30966,\n",
      "                        Tcmb0=<Quantity 2.7255 K>,\n",
      "                        Neff=3.046,\n",
      "                        m_nu=<Quantity [0.  , 0.  , 0.06] eV>,\n",
      "                        Ob0=0.04897),\n",
      " 'kwargs_lens_macromodel': None,\n",
      " 'kwargs_model': {'cosmo': FlatLambdaCDM(name='Planck18',\n",
      "                                         H0=<Quantity 67.66 km / (Mpc s)>,\n",
      "                                         Om0=0.30966,\n",
      "                                         Tcmb0=<Quantity 2.7255 K>,\n",
      "                                         Neff=3.046,\n",
      "                                         m_nu=<Quantity [0.  , 0.  , 0.06] eV>,\n",
      "                                         Ob0=0.04897),\n",
      "                  'lens_light_model_list': ['HERNQUIST_ELLIPSE'],\n",
      "                  'lens_model_list': ['NFW_ELLIPSE_CSE',\n",
      "                                      'HERNQUIST_ELLIPSE_CSE',\n",
      "                                      'SHEAR',\n",
      "                                      'CONVERGENCE'],\n",
      "                  'lens_redshift_list': [0.8409999999999993,\n",
      "                                         0.8409999999999993,\n",
      "                                         0.8409999999999993,\n",
      "                                         0.8409999999999993],\n",
      "                  'point_source_model_list': [],\n",
      "                  'source_light_model_list': ['INTERPOL'],\n",
      "                  'source_redshift_list': [1.8406184273163735],\n",
      "                  'z_source': 1.8406184273163735},\n",
      " 'kwargs_params': {'kwargs_lens': [{'Rs': 12.582079890311684,\n",
      "                                    'alpha_Rs': 2.6230092746185636,\n",
      "                                    'center_x': -0.011756600286803174,\n",
      "                                    'center_y': -0.01354464690653252,\n",
      "                                    'e1': -0.003935574300752734,\n",
      "                                    'e2': 0.01966567849058875},\n",
      "                                   {'Rs': 0.5898053282403437,\n",
      "                                    'center_x': -0.011756600286803174,\n",
      "                                    'center_y': -0.01354464690653252,\n",
      "                                    'e1': 0.057492351185435275,\n",
      "                                    'e2': -0.11848420139256527,\n",
      "                                    'sigma0': 0.8385841312984553},\n",
      "                                   {'dec_0': 0,\n",
      "                                    'gamma1': -0.0,\n",
      "                                    'gamma2': 0.0,\n",
      "                                    'ra_0': 0},\n",
      "                                   {'dec_0': 0, 'kappa': 0.0, 'ra_0': 0}],\n",
      "                   'kwargs_lens_light': [{'Rs': 0.5898053282403437,\n",
      "                                          'center_x': -0.011756600286803174,\n",
      "                                          'center_y': -0.01354464690653252,\n",
      "                                          'e1': 0.057492351185435275,\n",
      "                                          'e2': -0.11848420139256527,\n",
      "                                          'magnitude': 22.60446098970966}],\n",
      "                   'kwargs_ps': [],\n",
      "                   'kwargs_source': [{'center_x': 0.24599126113092792,\n",
      "                                      'center_y': 0.09204460086615569,\n",
      "                                      'image': array([[-2.0723506e-03, -5.5220444e-06,  8.4293762e-04, ...,\n",
      "         5.3596641e-03, -4.3906369e-03, -8.8805018e-04],\n",
      "       [-1.0942332e-03,  7.5783266e-04,  7.0049037e-04, ...,\n",
      "         4.7008088e-03, -3.5769944e-03,  2.2684694e-03],\n",
      "       [-4.8021495e-05, -6.8199961e-04, -1.7062830e-03, ...,\n",
      "        -1.0771012e-03, -8.4121042e-04, -8.9583208e-04],\n",
      "       ...,\n",
      "       [-2.2751242e-03, -9.6197508e-04, -2.0444117e-04, ...,\n",
      "        -1.2956688e-03, -3.8815683e-03, -2.5298952e-03],\n",
      "       [ 1.3233471e-03,  1.0833404e-03, -2.3560766e-03, ...,\n",
      "         2.9370328e-04, -1.5169965e-03, -1.9859103e-03],\n",
      "       [ 4.1454895e-03,  1.1899726e-03,  1.9748647e-04, ...,\n",
      "        -1.3674924e-03,  2.1467931e-03,  2.3860206e-04]], dtype=float32),\n",
      "                                      'magnitude': 28.67667841473336,\n",
      "                                      'phi_G': -0.2980267965520444,\n",
      "                                      'scale': 0.00882585796645718}]},\n",
      " 'lens_cosmo': None,\n",
      " 'lens_model_list_macromodel': None,\n",
      " 'lens_model_macromodel': None,\n",
      " 'lens_redshift_list_macromodel': None,\n",
      " 'name': 'roman_test_00000000',\n",
      " 'physical_params': {'einstein_radius': 1.4014968485952946,\n",
      "                     'galaxy_id': 77314,\n",
      "                     'lens_stellar_mass': 281917980164.95184,\n",
      "                     'lens_velocity_dispersion': 215.06695088282942,\n",
      "                     'magnification': 16.033863629547053,\n",
      "                     'magnitudes': {'lens': {'F062': 22.60446098970966,\n",
      "                                             'F087': 21.019091095450317,\n",
      "                                             'F106': 20.520562928846157,\n",
      "                                             'F129': 20.15595033515684,\n",
      "                                             'F146': 20.014567091630024,\n",
      "                                             'F158': 19.83290685727022,\n",
      "                                             'F184': 19.57971716627195,\n",
      "                                             'F213': 19.461488656829648},\n",
      "                                    'lensed_source': {'F062': 25.6640829508925,\n",
      "                                                      'F087': 25.115709918705946,\n",
      "                                                      'F106': 24.561231226856954,\n",
      "                                                      'F129': 23.99333566279998,\n",
      "                                                      'F146': 23.940339503398064,\n",
      "                                                      'F158': 23.740536598717128,\n",
      "                                                      'F184': 23.511950567987626,\n",
      "                                                      'F213': 23.427554704067305},\n",
      "                                    'source': {'F062': 28.67667841473336,\n",
      "                                               'F087': 28.128305382546806,\n",
      "                                               'F106': 27.573826690697814,\n",
      "                                               'F129': 27.00593112664084,\n",
      "                                               'F146': 26.952934967238924,\n",
      "                                               'F158': 26.753132062557988,\n",
      "                                               'F184': 26.524546031828486,\n",
      "                                               'F213': 26.440150167908165}},\n",
      "                     'main_halo_concentration': 5.923343890754902,\n",
      "                     'main_halo_mass': 56092948528566.26},\n",
      " 'realization': None,\n",
      " 'use_jax': [False, False, False, False],\n",
      " 'z_lens': 0.8409999999999993,\n",
      " 'z_source': 1.8406184273163735}\n"
     ]
    }
   ],
   "source": [
    "pprint(sample_lens.__dict__)"
   ]
  }
 ],
 "metadata": {
  "kernelspec": {
   "display_name": "mejiro-v2",
   "language": "python",
   "name": "python3"
  },
  "language_info": {
   "codemirror_mode": {
    "name": "ipython",
    "version": 3
   },
   "file_extension": ".py",
   "mimetype": "text/x-python",
   "name": "python",
   "nbconvert_exporter": "python",
   "pygments_lexer": "ipython3",
   "version": "3.10.6"
  }
 },
 "nbformat": 4,
 "nbformat_minor": 2
}
