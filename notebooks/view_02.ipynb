{
 "cells": [
  {
   "cell_type": "code",
   "execution_count": 1,
   "metadata": {},
   "outputs": [],
   "source": [
    "import os\n",
    "import yaml\n",
    "from glob import glob\n",
    "from pprint import pprint\n",
    "\n",
    "from mejiro.utils import util\n",
    "\n",
    "# read configuration file\n",
    "import mejiro\n",
    "config_file = os.path.join(os.path.dirname(mejiro.__file__), 'data', 'mejiro_config', 'roman_test.yaml')\n",
    "with open(config_file, 'r') as f:\n",
    "    config = yaml.load(f, Loader=yaml.SafeLoader)\n",
    "\n",
    "if config['dev']:\n",
    "    config['pipeline_label'] += '_dev'"
   ]
  },
  {
   "cell_type": "code",
   "execution_count": 2,
   "metadata": {},
   "outputs": [
    {
     "name": "stdout",
     "output_type": "stream",
     "text": [
      "Found 69 system(s) in /data/bwedig/mejiro/roman_test_dev/02\n"
     ]
    }
   ],
   "source": [
    "data_dir = os.path.join(config['data_dir'], config['pipeline_label'], '02')\n",
    "\n",
    "pickles = sorted(glob(os.path.join(data_dir, '*', '*.pkl')))\n",
    "sample_lenses = [util.unpickle(f) for f in pickles]\n",
    "print(f'Found {len(sample_lenses)} system(s) in {data_dir}')"
   ]
  },
  {
   "cell_type": "code",
   "execution_count": 3,
   "metadata": {},
   "outputs": [
    {
     "name": "stdout",
     "output_type": "stream",
     "text": [
      "StrongLens(name=roman_test_00000000, coords=None, z_lens=2.1700110864982527, z_source=6.599900078783053)\n"
     ]
    }
   ],
   "source": [
    "sample_lens = sample_lenses[0]\n",
    "\n",
    "print(sample_lens)"
   ]
  },
  {
   "cell_type": "code",
   "execution_count": 4,
   "metadata": {},
   "outputs": [],
   "source": [
    "# from collections import Counter\n",
    "\n",
    "# galaxy_ids = [l.physical_params.get('galaxy_id') for l in sample_lenses]\n",
    "# repeat_list = []\n",
    "\n",
    "# counts = Counter(galaxy_ids)\n",
    "# for galaxy_id, count in counts.items():\n",
    "#     print(f'galaxy_id {galaxy_id} appears {count} times')\n",
    "#     repeat_list.append(count)"
   ]
  },
  {
   "cell_type": "code",
   "execution_count": 5,
   "metadata": {},
   "outputs": [],
   "source": [
    "# import matplotlib.pyplot as plt\n",
    "# import numpy as np\n",
    "\n",
    "# plt.figure(figsize=(6, 4))\n",
    "# plt.plot(np.linspace(0, len(repeat_list), len(repeat_list)), sorted(repeat_list, reverse=True))\n",
    "# plt.title(f'Repeated COSMOS Sources\\n{len(galaxy_ids)} Strong Lenses, {len(repeat_list)} Unique Sources')\n",
    "# plt.xlabel('Rank in Number of Repetitions')\n",
    "# plt.ylabel('Number of Repetitions')\n",
    "# plt.show()"
   ]
  },
  {
   "cell_type": "code",
   "execution_count": 6,
   "metadata": {},
   "outputs": [
    {
     "name": "stdout",
     "output_type": "stream",
     "text": [
      "{'coords': None,\n",
      " 'cosmo': FlatLambdaCDM(name='Planck18',\n",
      "                        H0=<Quantity 67.66 km / (Mpc s)>,\n",
      "                        Om0=0.30966,\n",
      "                        Tcmb0=<Quantity 2.7255 K>,\n",
      "                        Neff=3.046,\n",
      "                        m_nu=<Quantity [0.  , 0.  , 0.06] eV>,\n",
      "                        Ob0=0.04897),\n",
      " 'kwargs_lens_macromodel': None,\n",
      " 'kwargs_model': {'cosmo': FlatLambdaCDM(name='Planck18',\n",
      "                                         H0=<Quantity 67.66 km / (Mpc s)>,\n",
      "                                         Om0=0.30966,\n",
      "                                         Tcmb0=<Quantity 2.7255 K>,\n",
      "                                         Neff=3.046,\n",
      "                                         m_nu=<Quantity [0.  , 0.  , 0.06] eV>,\n",
      "                                         Ob0=0.04897),\n",
      "                  'lens_light_model_list': ['SERSIC_ELLIPSE'],\n",
      "                  'lens_model_list': ['SIE', 'SHEAR', 'CONVERGENCE'],\n",
      "                  'lens_redshift_list': [2.1700110864982527,\n",
      "                                         2.1700110864982527,\n",
      "                                         2.1700110864982527],\n",
      "                  'point_source_model_list': [],\n",
      "                  'source_light_model_list': ['INTERPOL'],\n",
      "                  'source_redshift_list': [6.599900078783053],\n",
      "                  'z_source': 6.599900078783053},\n",
      " 'kwargs_params': {'kwargs_lens': [{'center_x': 0.030032189274215037,\n",
      "                                    'center_y': -0.04416180559514653,\n",
      "                                    'e1': 0.15324086866934283,\n",
      "                                    'e2': -0.025236152939027846,\n",
      "                                    'theta_E': 0.7784496033929543},\n",
      "                                   {'dec_0': 0,\n",
      "                                    'gamma1': -0.0,\n",
      "                                    'gamma2': -0.0,\n",
      "                                    'ra_0': 0},\n",
      "                                   {'dec_0': 0, 'kappa': 0.0, 'ra_0': 0}],\n",
      "                   'kwargs_lens_light': [{'R_sersic': 0.8169452986677479,\n",
      "                                          'center_x': 0.030032189274215037,\n",
      "                                          'center_y': -0.04416180559514653,\n",
      "                                          'e1': 0.027130814014370588,\n",
      "                                          'e2': -0.007193062811721316,\n",
      "                                          'magnitude': 27.138047208531404,\n",
      "                                          'n_sersic': 4.0}],\n",
      "                   'kwargs_ps': [],\n",
      "                   'kwargs_source': [{'center_x': -0.1743645933507925,\n",
      "                                      'center_y': 0.2791074400818332,\n",
      "                                      'image': array([[-3.8636592e-03, -5.8000308e-04,  1.7477771e-03, ...,\n",
      "        -4.4830423e-03, -4.0407628e-03, -8.2122203e-04],\n",
      "       [-3.5130186e-03,  1.5755967e-03,  3.3485265e-03, ...,\n",
      "        -4.1953721e-03, -4.2855935e-03,  8.3443697e-04],\n",
      "       [-5.4459050e-03,  3.8545253e-03,  2.8874911e-03, ...,\n",
      "        -4.4106687e-03, -5.6594741e-03,  3.5661119e-03],\n",
      "       ...,\n",
      "       [-2.1100929e-04,  1.2592984e-03,  4.9805723e-04, ...,\n",
      "        -1.3963202e-03, -5.2390678e-04,  7.6454645e-03],\n",
      "       [ 2.8551323e-05,  3.3313907e-03,  8.6489425e-04, ...,\n",
      "         2.2740150e-03,  4.7290241e-03,  8.5233524e-04],\n",
      "       [ 2.2515180e-03,  7.6125027e-04,  1.3041554e-03, ...,\n",
      "        -1.5413892e-04,  2.6707384e-03,  1.1065535e-03]], dtype=float32),\n",
      "                                      'magnitude': 27.620330012532087,\n",
      "                                      'phi_G': 0.6229154043638545,\n",
      "                                      'scale': 0.007565452848869861}]},\n",
      " 'lens_cosmo': None,\n",
      " 'lens_model_list_macromodel': None,\n",
      " 'lens_model_macromodel': None,\n",
      " 'lens_redshift_list_macromodel': None,\n",
      " 'name': 'roman_test_00000000',\n",
      " 'physical_params': {'einstein_radius': 0.7784496033929543,\n",
      "                     'galaxy_id': 143918,\n",
      "                     'lens_stellar_mass': 586016463436.6368,\n",
      "                     'lens_velocity_dispersion': 273.92073952102254,\n",
      "                     'magnification': 3.9445172418989696,\n",
      "                     'magnitudes': {'lens': {'F062': 27.138047208531404,\n",
      "                                             'F087': 25.69871013199444,\n",
      "                                             'F106': 24.30197159753611,\n",
      "                                             'F129': 23.151879820673237,\n",
      "                                             'F146': 22.591329702925123,\n",
      "                                             'F158': 22.18425681300009,\n",
      "                                             'F184': 21.776081642699857,\n",
      "                                             'F213': 21.501029389445918},\n",
      "                                    'lensed_source': {'F062': 26.130345365663825,\n",
      "                                                      'F087': 24.30147391087414,\n",
      "                                                      'F106': 24.167297505614915,\n",
      "                                                      'F129': 24.18824879567973,\n",
      "                                                      'F146': 24.13426532107548,\n",
      "                                                      'F158': 24.09773933316752,\n",
      "                                                      'F184': 24.111429324708002,\n",
      "                                                      'F213': 24.07933545125096},\n",
      "                                    'source': {'F062': 27.620330012532087,\n",
      "                                               'F087': 25.791458557742402,\n",
      "                                               'F106': 25.657282152483177,\n",
      "                                               'F129': 25.67823344254799,\n",
      "                                               'F146': 25.62424996794374,\n",
      "                                               'F158': 25.587723980035783,\n",
      "                                               'F184': 25.601413971576264,\n",
      "                                               'F213': 25.56932009811922}}},\n",
      " 'realization': None,\n",
      " 'use_jax': [True, True, True],\n",
      " 'z_lens': 2.1700110864982527,\n",
      " 'z_source': 6.599900078783053}\n"
     ]
    }
   ],
   "source": [
    "pprint(sample_lens.__dict__)"
   ]
  }
 ],
 "metadata": {
  "kernelspec": {
   "display_name": "mejiro-v2",
   "language": "python",
   "name": "python3"
  },
  "language_info": {
   "codemirror_mode": {
    "name": "ipython",
    "version": 3
   },
   "file_extension": ".py",
   "mimetype": "text/x-python",
   "name": "python",
   "nbconvert_exporter": "python",
   "pygments_lexer": "ipython3",
   "version": "3.10.6"
  }
 },
 "nbformat": 4,
 "nbformat_minor": 2
}
