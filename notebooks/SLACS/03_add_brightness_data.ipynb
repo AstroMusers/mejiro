{
 "cells": [
  {
   "cell_type": "code",
   "execution_count": 12,
   "metadata": {},
   "outputs": [],
   "source": [
    "import os\n",
    "import sys\n",
    "\n",
    "path = os.getcwd()\n",
    "while os.path.basename(os.path.normpath(path)) != 'roman-pandeia':\n",
    "    path = os.path.dirname(path)\n",
    "repo_path = path\n",
    "if repo_path not in sys.path:\n",
    "    sys.path.append(repo_path)"
   ]
  },
  {
   "cell_type": "code",
   "execution_count": 13,
   "metadata": {},
   "outputs": [],
   "source": [
    "import json\n",
    "from pprint import pprint\n",
    "\n",
    "from utils import csv_utils, utils"
   ]
  },
  {
   "cell_type": "code",
   "execution_count": 14,
   "metadata": {},
   "outputs": [],
   "source": [
    "collection_name = 'SLACS'\n",
    "\n",
    "brightness_csv_filepath = os.path.join(repo_path, 'data', collection_name, 'Bolton2008VizieR.csv')\n",
    "brightness_dataset_list = csv_utils.csv_to_dict_list(brightness_csv_filepath)\n",
    "\n",
    "csv_filepath = os.path.join(repo_path, 'data', 'SLACS', 'SLACS.csv')\n",
    "dataset_dict_list = csv_utils.csv_to_dict_list(csv_filepath)"
   ]
  },
  {
   "cell_type": "code",
   "execution_count": 15,
   "metadata": {},
   "outputs": [
    {
     "name": "stdout",
     "output_type": "stream",
     "text": [
      "111 matches of 192\n"
     ]
    }
   ],
   "source": [
    "i = 0\n",
    "\n",
    "for dataset in dataset_dict_list:\n",
    "    for row in brightness_dataset_list:\n",
    "        if 'SDSS' + row['Name'] == dataset['target_name']:\n",
    "            dataset.update(row)\n",
    "            i += 1\n",
    "\n",
    "print(str(i) + ' matches of ' + str(len(dataset_dict_list)))"
   ]
  },
  {
   "cell_type": "code",
   "execution_count": 17,
   "metadata": {},
   "outputs": [],
   "source": [
    "filtered_dataset_list = [d for d in dataset_dict_list if 'Name' in d.keys()]\n",
    "\n",
    "csv_utils.dict_list_to_csv(filtered_dataset_list, csv_filepath)"
   ]
  }
 ],
 "metadata": {
  "kernelspec": {
   "display_name": "lenstronomy",
   "language": "python",
   "name": "python3"
  },
  "language_info": {
   "codemirror_mode": {
    "name": "ipython",
    "version": 3
   },
   "file_extension": ".py",
   "mimetype": "text/x-python",
   "name": "python",
   "nbconvert_exporter": "python",
   "pygments_lexer": "ipython3",
   "version": "3.9.13"
  }
 },
 "nbformat": 4,
 "nbformat_minor": 2
}
