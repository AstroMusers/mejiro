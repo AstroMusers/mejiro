{
 "cells": [
  {
   "cell_type": "code",
   "execution_count": 21,
   "metadata": {},
   "outputs": [],
   "source": [
    "import os\n",
    "import sys\n",
    "\n",
    "path = os.getcwd()\n",
    "while os.path.basename(os.path.normpath(path)) != 'roman-pandeia':\n",
    "    path = os.path.dirname(path)\n",
    "repo_path = path\n",
    "if repo_path not in sys.path:\n",
    "    sys.path.append(repo_path)"
   ]
  },
  {
   "cell_type": "code",
   "execution_count": 22,
   "metadata": {},
   "outputs": [],
   "source": [
    "import numpy as np\n",
    "import matplotlib.pyplot as plt\n",
    "from matplotlib import colors\n",
    "from glob import glob\n",
    "import multiprocessing\n",
    "import pandas as pd\n",
    "from tqdm import tqdm\n",
    "import time\n",
    "from copy import deepcopy\n",
    "\n",
    "from package.helpers.test_physical_lens import TestPhysicalLens\n",
    "from package.helpers.lens import Lens\n",
    "from package.plots import diagnostic_plot, plot\n",
    "from package.utils import util\n",
    "from package.scripts import generate\n",
    "\n",
    "plt.style.use(f'{repo_path}/package/mplstyle/science.mplstyle')"
   ]
  },
  {
   "cell_type": "code",
   "execution_count": 23,
   "metadata": {},
   "outputs": [],
   "source": [
    "data_dir = os.path.join('/data','bwedig', 'roman-pandeia')\n",
    "array_dir = os.path.join(data_dir, 'output', 'arrays', 'multiprocessing')\n",
    "util.create_directory_if_not_exists(array_dir)\n",
    "\n",
    "# get path to Roman instrument params CSV\n",
    "roman_params_csv = os.path.join(repo_path, 'data', 'roman_spacecraft_and_instrument_parameters.csv')\n",
    "\n",
    "# get output of SkyPy pipeline\n",
    "df = pd.read_csv(os.path.join('/data','bwedig', 'roman-population', 'data', 'dictparaggln_Area00000010.csv'))"
   ]
  },
  {
   "cell_type": "code",
   "execution_count": 24,
   "metadata": {},
   "outputs": [],
   "source": [
    "limit = 2\n",
    "total = deepcopy(limit)\n",
    "lens_list = []"
   ]
  },
  {
   "cell_type": "code",
   "execution_count": 25,
   "metadata": {},
   "outputs": [
    {
     "name": "stderr",
     "output_type": "stream",
     "text": [
      "  0%|          | 0/2 [00:00<?, ?it/s]"
     ]
    },
    {
     "name": "stderr",
     "output_type": "stream",
     "text": [
      "100%|██████████| 2/2 [00:00<00:00, 57.71it/s]\n"
     ]
    }
   ],
   "source": [
    "# generate the lens objects\n",
    "for i, row in tqdm(df.iterrows(), total=total):\n",
    "    if i == limit:\n",
    "        break\n",
    "\n",
    "    # select only the cool ones lmao\n",
    "    # if row['numbimag'] == 1.0:\n",
    "    #     limit += 1\n",
    "    #     continue\n",
    "\n",
    "    lens = Lens(z_lens = row['redslens'], \n",
    "                z_source=row['redssour'], \n",
    "                sigma_v=row['velodisp'], \n",
    "                lens_x=row['xposlens'], \n",
    "                lens_y=row['yposlens'], \n",
    "                source_x=row['xpossour'], \n",
    "                source_y=row['ypossour'], \n",
    "                mag_lens=row['magtlensF106'], \n",
    "                mag_source=row['magtsourF106'])\n",
    "    \n",
    "    lens_list.append(list)"
   ]
  },
  {
   "cell_type": "code",
   "execution_count": 26,
   "metadata": {},
   "outputs": [],
   "source": [
    "# TODO testing for now\n",
    "lens_list = [TestPhysicalLens] * limit"
   ]
  },
  {
   "cell_type": "code",
   "execution_count": 27,
   "metadata": {},
   "outputs": [],
   "source": [
    "core_count = multiprocessing.cpu_count()"
   ]
  },
  {
   "cell_type": "code",
   "execution_count": 28,
   "metadata": {},
   "outputs": [],
   "source": [
    "from multiprocessing import Pool\n",
    "\n",
    "pool = Pool(processes=2)  # TODO core_count\n",
    "output = pool.map(generate.main, lens_list)"
   ]
  },
  {
   "cell_type": "code",
   "execution_count": null,
   "metadata": {},
   "outputs": [],
   "source": []
  },
  {
   "cell_type": "code",
   "execution_count": 20,
   "metadata": {},
   "outputs": [
    {
     "ename": "TypeError",
     "evalue": "'module' object is not callable",
     "output_type": "error",
     "traceback": [
      "\u001b[0;31m---------------------------------------------------------------------------\u001b[0m",
      "\u001b[0;31mTypeError\u001b[0m                                 Traceback (most recent call last)",
      "Input \u001b[0;32mIn [20]\u001b[0m, in \u001b[0;36m<cell line: 3>\u001b[0;34m()\u001b[0m\n\u001b[1;32m      1\u001b[0m process_list \u001b[38;5;241m=\u001b[39m []\n\u001b[1;32m      3\u001b[0m \u001b[38;5;28;01mfor\u001b[39;00m i \u001b[38;5;129;01min\u001b[39;00m \u001b[38;5;28mrange\u001b[39m(limit):\n\u001b[0;32m----> 4\u001b[0m     process_list\u001b[38;5;241m.\u001b[39mappend(multiprocessing\u001b[38;5;241m.\u001b[39mProcess(target\u001b[38;5;241m=\u001b[39m\u001b[43mgenerate\u001b[49m\u001b[43m(\u001b[49m\u001b[43mlens\u001b[49m\u001b[43m,\u001b[49m\u001b[43m \u001b[49m\u001b[43mroman_params_csv\u001b[49m\u001b[43m)\u001b[49m))\n",
      "\u001b[0;31mTypeError\u001b[0m: 'module' object is not callable"
     ]
    }
   ],
   "source": [
    "process_list = []\n",
    "\n",
    "for i in range(limit):\n",
    "    process_list.append(multiprocessing.Process(target=generate(lens, roman_params_csv)))"
   ]
  },
  {
   "cell_type": "code",
   "execution_count": null,
   "metadata": {},
   "outputs": [],
   "source": [
    "np.save(os.path.join(array_dir, f'skypy_output_{str(i).zfill(5)}'), image)"
   ]
  },
  {
   "cell_type": "code",
   "execution_count": null,
   "metadata": {},
   "outputs": [],
   "source": [
    "# save lists of execution times\n",
    "np.save(os.path.join(array_dir, 'skypy_output_lens_execution_times.npy'), lens_execution_times)\n",
    "np.save(os.path.join(array_dir, 'skypy_output_pandeia_execution_times.npy'), pandeia_execution_times)\n",
    "np.save(os.path.join(array_dir, 'skypy_output_estimated_times.npy'), estimated_times)"
   ]
  }
 ],
 "metadata": {
  "kernelspec": {
   "display_name": "pandeia",
   "language": "python",
   "name": "python3"
  },
  "language_info": {
   "codemirror_mode": {
    "name": "ipython",
    "version": 3
   },
   "file_extension": ".py",
   "mimetype": "text/x-python",
   "name": "python",
   "nbconvert_exporter": "python",
   "pygments_lexer": "ipython3",
   "version": "3.9.13"
  }
 },
 "nbformat": 4,
 "nbformat_minor": 2
}
