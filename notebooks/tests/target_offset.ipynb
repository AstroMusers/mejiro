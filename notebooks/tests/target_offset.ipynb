{
 "cells": [
  {
   "cell_type": "code",
   "execution_count": null,
   "metadata": {},
   "outputs": [],
   "source": [
    "import os\n",
    "import sys\n",
    "\n",
    "path = os.getcwd()\n",
    "while os.path.basename(os.path.normpath(path)) != 'mejiro':\n",
    "    path = os.path.dirname(path)\n",
    "repo_path = path\n",
    "if repo_path not in sys.path:\n",
    "    sys.path.append(repo_path)"
   ]
  },
  {
   "cell_type": "code",
   "execution_count": 1,
   "metadata": {},
   "outputs": [
    {
     "ename": "ModuleNotFoundError",
     "evalue": "No module named 'package'",
     "output_type": "error",
     "traceback": [
      "\u001b[0;31m---------------------------------------------------------------------------\u001b[0m",
      "\u001b[0;31mModuleNotFoundError\u001b[0m                       Traceback (most recent call last)",
      "Input \u001b[0;32mIn [1]\u001b[0m, in \u001b[0;36m<cell line: 4>\u001b[0;34m()\u001b[0m\n\u001b[1;32m      2\u001b[0m \u001b[38;5;28;01mimport\u001b[39;00m \u001b[38;5;21;01mnumpy\u001b[39;00m \u001b[38;5;28;01mas\u001b[39;00m \u001b[38;5;21;01mnp\u001b[39;00m\n\u001b[1;32m      3\u001b[0m \u001b[38;5;28;01mfrom\u001b[39;00m \u001b[38;5;21;01mpprint\u001b[39;00m \u001b[38;5;28;01mimport\u001b[39;00m pprint\n\u001b[0;32m----> 4\u001b[0m \u001b[38;5;28;01mfrom\u001b[39;00m \u001b[38;5;21;01mpackage\u001b[39;00m\u001b[38;5;21;01m.\u001b[39;00m\u001b[38;5;21;01mhelpers\u001b[39;00m \u001b[38;5;28;01mimport\u001b[39;00m test_lens, test_physical_lens\n\u001b[1;32m      5\u001b[0m \u001b[38;5;28;01mfrom\u001b[39;00m \u001b[38;5;21;01mpackage\u001b[39;00m\u001b[38;5;21;01m.\u001b[39;00m\u001b[38;5;21;01mplots\u001b[39;00m \u001b[38;5;28;01mimport\u001b[39;00m plot\n\u001b[1;32m      6\u001b[0m \u001b[38;5;28;01mfrom\u001b[39;00m \u001b[38;5;21;01mhydra\u001b[39;00m \u001b[38;5;28;01mimport\u001b[39;00m initialize, compose\n",
      "\u001b[0;31mModuleNotFoundError\u001b[0m: No module named 'package'"
     ]
    }
   ],
   "source": [
    "import matplotlib.pyplot as plt\n",
    "import numpy as np\n",
    "from pprint import pprint\n",
    "from mejiro.helpers import test_lens, test_physical_lens\n",
    "from mejiro.plots import plot\n",
    "from hydra import initialize, compose\n",
    "from glob import glob\n",
    "import multiprocessing\n",
    "\n",
    "from mejiro.plots import diagnostic_plot, plot\n",
    "from mejiro.utils import util\n",
    "from mejiro.helpers import test_physical_lens, pyhalo, roman_params\n",
    "from mejiro.pandiea import pandeia_input, pandeia_output\n",
    "\n",
    "plt.style.use(f'{repo_path}/mejiro/mplstyle/science.mplstyle')"
   ]
  },
  {
   "cell_type": "code",
   "execution_count": null,
   "metadata": {},
   "outputs": [],
   "source": [
    "with initialize(version_base=None, config_path='config'):\n",
    "    config = compose(config_name='config.yaml')  # overrides=['machine=uzay']\n",
    "\n",
    "array_dir, data_dir, repo_dir = config.machine.array_dir, config.machine.data_dir, config.machine.repo_dir\n",
    "\n",
    "figure_dir = os.path.join(repo_dir, 'figures')\n",
    "array_dir = os.path.join(array_dir, 'scenes_across_detectors')\n",
    "util.create_directory_if_not_exists(array_dir)\n",
    "\n",
    "# get Roman pixel scale\n",
    "csv = os.path.join(repo_dir, 'data', 'roman_spacecraft_and_instrument_parameters.csv')\n",
    "roman_pixel_scale = roman_params.RomanParameters(csv).get_pixel_scale()"
   ]
  },
  {
   "cell_type": "code",
   "execution_count": null,
   "metadata": {},
   "outputs": [],
   "source": [
    "offset_list = [(0, 0), (-1, -1), (-1, 1), (1, -1), (1, 1)]\n",
    "\n",
    "grid_oversample = 5\n",
    "num_samples = 10000\n",
    "\n",
    "pixel_buffer = 3\n",
    "num_pix = 45 + (2 * pixel_buffer)"
   ]
  },
  {
   "cell_type": "code",
   "execution_count": null,
   "metadata": {},
   "outputs": [],
   "source": [
    "# use test lens\n",
    "lens = test_physical_lens.TestPhysicalLens()\n",
    "\n",
    "# add CDM subhalos\n",
    "# lens.add_subhalos(*pyhalo.generate_CDM_halos(lens.z_lens, lens.z_source))\n",
    "\n",
    "model = lens.get_array(num_pix=num_pix * grid_oversample, side=5.61)"
   ]
  },
  {
   "cell_type": "code",
   "execution_count": null,
   "metadata": {},
   "outputs": [],
   "source": [
    "# build Pandeia input\n",
    "calc, _ = pandeia_input.build_pandeia_calc(csv=csv,\n",
    "                                        array=model, \n",
    "                                        lens=lens, \n",
    "                                        band='f106',\n",
    "                                        num_samples=num_samples)\n",
    "\n",
    "# do Pandeia calculation        \n",
    "image, execution_time = pandeia_input.get_pandeia_image(calc)\n",
    "\n",
    "# save detector image\n",
    "np.save(os.path.join(array_dir, f'test_physical_lens_image_{num_samples}'), image)"
   ]
  },
  {
   "cell_type": "code",
   "execution_count": null,
   "metadata": {},
   "outputs": [],
   "source": [
    "cpu_count = multiprocessing.cpu_count()\n",
    "generator = util.batch_list(lens_list, cpu_count)\n",
    "batches = list(generator)\n",
    "\n",
    "for batch in tqdm(batches):\n",
    "    pool = Pool(processes=cpu_count) \n",
    "    output = []\n",
    "    for each in pool.map(generate.main, batch):\n",
    "        output.append(each)"
   ]
  },
  {
   "cell_type": "code",
   "execution_count": null,
   "metadata": {},
   "outputs": [],
   "source": [
    "image_list, execution_times, num_point_sources = [], [], []\n",
    "\n",
    "for tuple in output:\n",
    "    (image, execution_time, num_ps) = tuple\n",
    "    image_list.append(image)\n",
    "    execution_times.append(execution_time)\n",
    "    num_point_sources.append(num_ps)"
   ]
  },
  {
   "cell_type": "code",
   "execution_count": null,
   "metadata": {},
   "outputs": [],
   "source": [
    "image_list = [i for i in image_list if i is not None]\n",
    "\n",
    "plot.plot_grid(image_list, side=16)"
   ]
  },
  {
   "cell_type": "code",
   "execution_count": null,
   "metadata": {},
   "outputs": [],
   "source": [
    "for image in image_list:\n",
    "    np.save(os.path.join(array_dir, f'skypy_output_{str(i).zfill(5)}'), image)"
   ]
  }
 ],
 "metadata": {
  "kernelspec": {
   "display_name": "pandeia",
   "language": "python",
   "name": "python3"
  },
  "language_info": {
   "codemirror_mode": {
    "name": "ipython",
    "version": 3
   },
   "file_extension": ".py",
   "mimetype": "text/x-python",
   "name": "python",
   "nbconvert_exporter": "python",
   "pygments_lexer": "ipython3",
   "version": "3.9.13"
  }
 },
 "nbformat": 4,
 "nbformat_minor": 2
}
