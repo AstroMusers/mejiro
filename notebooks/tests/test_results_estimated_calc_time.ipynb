{
 "cells": [
  {
   "cell_type": "code",
   "execution_count": 1,
   "metadata": {},
   "outputs": [],
   "source": [
    "import os\n",
    "import sys\n",
    "\n",
    "path = os.getcwd()\n",
    "while os.path.basename(os.path.normpath(path)) != 'roman-pandeia':\n",
    "    path = os.path.dirname(path)\n",
    "repo_path = path\n",
    "if repo_path not in sys.path:\n",
    "    sys.path.append(repo_path)"
   ]
  },
  {
   "cell_type": "code",
   "execution_count": 2,
   "metadata": {},
   "outputs": [],
   "source": [
    "import numpy as np\n",
    "import matplotlib.pyplot as plt\n",
    "from matplotlib import colors\n",
    "from glob import glob\n",
    "\n",
    "from package.helpers import test_physical_lens\n",
    "from package.plots import diagnostic_plot, plot\n",
    "\n",
    "plt.style.use(f'{repo_path}/package/mplstyle/science.mplstyle')"
   ]
  },
  {
   "cell_type": "code",
   "execution_count": 3,
   "metadata": {},
   "outputs": [],
   "source": [
    "array_dir_grid = os.path.join(repo_path, 'output', 'arrays', 'diagnostics', 'grid_oversampling')\n",
    "array_dir_samples = os.path.join(repo_path, 'output', 'arrays', 'diagnostics', 'num_samples')\n",
    "\n",
    "figure_dir_grid = os.path.join(repo_path, 'figures', 'diagnostics', 'grid_oversampling')\n",
    "figure_dir_samples = os.path.join(repo_path, 'figures', 'diagnostics', 'num_samples')\n",
    "\n",
    "grid_estimate = np.load(os.path.join(array_dir_grid, 'estimated_time_grid_oversampling.npy'))\n",
    "samples_estimate = np.load(os.path.join(array_dir_samples, 'estimated_time_num_samples.npy'))\n",
    "\n",
    "grid_actual = np.load(os.path.join(array_dir_grid, 'execution_times_grid_oversampling.npy'))\n",
    "samples_actual = np.load(os.path.join(array_dir_samples, 'execution_times_num_samples.npy'))"
   ]
  },
  {
   "cell_type": "code",
   "execution_count": 4,
   "metadata": {},
   "outputs": [
    {
     "name": "stdout",
     "output_type": "stream",
     "text": [
      "['0:02:20' '0:12:56' '0:25:20' '0:37:53' '0:49:30' '0:59:37']\n",
      "['0:02:31' '0:14:06' '0:28:32' '0:40:32' '0:53:27' '1:04:27']\n"
     ]
    }
   ],
   "source": [
    "print(grid_estimate)\n",
    "print(grid_actual)"
   ]
  },
  {
   "cell_type": "code",
   "execution_count": 5,
   "metadata": {},
   "outputs": [
    {
     "name": "stdout",
     "output_type": "stream",
     "text": [
      "['-1 day, 23:59:05' '0:03:47' '0:08:52' '0:34:10' '0:51:33' '1:41:16'\n",
      " '2:07:51']\n",
      "['0:01:09' '0:05:18' '0:09:42' '0:32:06' '0:47:28' '1:31:47' '1:58:20']\n"
     ]
    }
   ],
   "source": [
    "print(samples_estimate)\n",
    "print(samples_actual)"
   ]
  }
 ],
 "metadata": {
  "kernelspec": {
   "display_name": "pandeia",
   "language": "python",
   "name": "python3"
  },
  "language_info": {
   "codemirror_mode": {
    "name": "ipython",
    "version": 3
   },
   "file_extension": ".py",
   "mimetype": "text/x-python",
   "name": "python",
   "nbconvert_exporter": "python",
   "pygments_lexer": "ipython3",
   "version": "3.9.13"
  }
 },
 "nbformat": 4,
 "nbformat_minor": 2
}
