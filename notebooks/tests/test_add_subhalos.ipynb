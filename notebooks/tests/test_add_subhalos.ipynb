{
 "cells": [
  {
   "cell_type": "code",
   "execution_count": 13,
   "metadata": {
    "ExecuteTime": {
     "end_time": "2024-03-13T01:46:37.399369Z",
     "start_time": "2024-03-13T01:46:37.345895Z"
    }
   },
   "outputs": [],
   "source": [
    "\n",
    "import numpy as np\n",
    "import sys\n",
    "%matplotlib inline\n",
    "import matplotlib.pyplot as plt\n",
    "from hydra import initialize, compose\n",
    "from pyHalo.preset_models import CDM\n",
    "\n",
    "# set paths to various directories based on the machine this code is being executed on\n",
    "with initialize(version_base=None, config_path='config'):\n",
    "    config = compose(config_name='config.yaml', overrides=['machine=local'])  # \n",
    "\n",
    "array_dir, data_dir, figure_dir, pickle_dir, repo_dir = config.machine.array_dir, config.machine.data_dir, config.machine.figure_dir, config.machine.pickle_dir, config.machine.repo_dir\n",
    "\n",
    "# enable use of local modules\n",
    "if repo_dir not in sys.path:\n",
    "    sys.path.append(repo_dir)\n",
    "\n",
    "# set matplotlib style\n",
    "plt.style.use(f'{repo_dir}/mejiro/mplstyle/science.mplstyle')\n",
    "\n",
    "from mejiro.lenses.test import SampleStrongLens\n",
    "from mejiro.utils import util"
   ]
  },
  {
   "cell_type": "code",
   "outputs": [
    {
     "name": "stdout",
     "output_type": "stream",
     "text": [
      "Lens redshift: 0.643971, source redshift: 1.627633\n"
     ]
    }
   ],
   "source": [
    "lens = SampleStrongLens()\n",
    "\n",
    "print(f'Lens redshift: {lens.z_lens}, source redshift: {lens.z_source}')\n",
    "\n",
    "log_m_host = np.log10(lens.get_main_halo_mass())"
   ],
   "metadata": {
    "collapsed": false,
    "ExecuteTime": {
     "end_time": "2024-03-13T01:46:37.404391Z",
     "start_time": "2024-03-13T01:46:37.400896Z"
    }
   },
   "execution_count": 14
  },
  {
   "cell_type": "code",
   "outputs": [],
   "source": [
    "pipeline_params = util.hydra_to_dict(config.pipeline)\n",
    "subhalo_cone = pipeline_params['subhalo_cone']\n",
    "los_normalization = pipeline_params['los_normalization']\n",
    "\n",
    "# circumvent bug with pyhalo, sometimes fails when redshifts have more than 2 decimal places\n",
    "z_lens_rounded = round(lens.z_lens, 2)\n",
    "z_source_rounded = round(lens.z_source, 2)\n",
    "\n",
    "# generate subhalos\n",
    "cdm_realization = CDM(z_lens_rounded, z_source_rounded, log_m_host=log_m_host, r_tidal=0.25,\n",
    "                      cone_opening_angle_arcsec=subhalo_cone,\n",
    "                      LOS_normalization=los_normalization)"
   ],
   "metadata": {
    "collapsed": false,
    "ExecuteTime": {
     "end_time": "2024-03-13T01:46:37.697861Z",
     "start_time": "2024-03-13T01:46:37.405849Z"
    }
   },
   "execution_count": 15
  },
  {
   "cell_type": "code",
   "outputs": [
    {
     "name": "stdout",
     "output_type": "stream",
     "text": [
      "Main halo mass (10^12 solar masses): 0.578 / Einstein radius: 0.975908\n",
      "Total subhalo mass: 24211567019.493935\n",
      "Subhalos are 4.2% of total mass\n",
      "Adjusted main halo mass: 0.554 / Adjusted Einstein radius: 0.9552553289219334\n"
     ]
    }
   ],
   "source": [
    "# add subhalos\n",
    "lens.add_subhalos(cdm_realization, suppress_output=False)"
   ],
   "metadata": {
    "collapsed": false,
    "ExecuteTime": {
     "end_time": "2024-03-13T01:46:39.098073Z",
     "start_time": "2024-03-13T01:46:37.699748Z"
    }
   },
   "execution_count": 16
  }
 ],
 "metadata": {
  "kernelspec": {
   "display_name": "mejiro",
   "language": "python",
   "name": "python3"
  },
  "language_info": {
   "codemirror_mode": {
    "name": "ipython",
    "version": 3
   },
   "file_extension": ".py",
   "mimetype": "text/x-python",
   "name": "python",
   "nbconvert_exporter": "python",
   "pygments_lexer": "ipython3",
   "version": "3.10.6"
  }
 },
 "nbformat": 4,
 "nbformat_minor": 2
}
