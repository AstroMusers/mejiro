{
 "cells": [
  {
   "cell_type": "code",
   "execution_count": 13,
   "metadata": {},
   "outputs": [],
   "source": [
    "import os\n",
    "import sys\n",
    "\n",
    "import numpy as np\n",
    "import matplotlib\n",
    "import matplotlib.pyplot as plt\n",
    "from matplotlib import colors\n",
    "from hydra import initialize, compose\n",
    "import pickle\n",
    "from glob import glob\n",
    "from copy import deepcopy\n",
    "from pprint import pprint\n",
    "\n",
    "# set paths to various directories based on the machine this code is being executed on\n",
    "with initialize(version_base=None, config_path='config'):\n",
    "    config = compose(config_name='config.yaml')  # overrides=['machine=uzay']\n",
    "\n",
    "array_dir, data_dir, figure_dir, pickle_dir, repo_dir  = config.machine.array_dir, config.machine.data_dir, config.machine.figure_dir, config.machine.pickle_dir, config.machine.repo_dir\n",
    "\n",
    "# enable use of local modules\n",
    "if repo_dir not in sys.path:\n",
    "    sys.path.append(repo_dir)\n",
    "\n",
    "# set matplotlib style\n",
    "plt.style.use(f'{repo_dir}/mejiro/mplstyle/science.mplstyle')\n",
    "\n",
    "from mejiro.lenses.test import SampleSkyPyLens\n",
    "from mejiro.plots import diagnostic_plot, plot, plot_util, overplot\n",
    "from mejiro.analysis import stats\n",
    "from mejiro.utils import util\n",
    "from mejiro.helpers import pyhalo, pandeia_input"
   ]
  },
  {
   "cell_type": "code",
   "execution_count": 14,
   "metadata": {},
   "outputs": [],
   "source": [
    "output_dir = os.path.join(array_dir, 'change_background')\n",
    "util.create_directory_if_not_exists(output_dir)"
   ]
  },
  {
   "cell_type": "code",
   "execution_count": 15,
   "metadata": {},
   "outputs": [
    {
     "data": {
      "image/png": "[encoded data removed]",
      "text/plain": [
       "<Figure size 700x525 with 2 Axes>"
      ]
     },
     "metadata": {},
     "output_type": "display_data"
    }
   ],
   "source": [
    "lens = SampleSkyPyLens()\n",
    "model = lens.get_array(num_pix=45, side=4.95)\n",
    "\n",
    "plot.plot(title='Test lens model (no noise or PSF)',\n",
    "          array=model,\n",
    "          colorbar=True)"
   ]
  },
  {
   "cell_type": "code",
   "execution_count": 16,
   "metadata": {},
   "outputs": [],
   "source": [
    "num_samples = 10000"
   ]
  },
  {
   "cell_type": "code",
   "execution_count": 17,
   "metadata": {},
   "outputs": [
    {
     "name": "stderr",
     "output_type": "stream",
     "text": [
      "100%|██████████| 45/45 [00:00<00:00, 7393.59it/s]\n",
      "  2%|▏         | 16/1065 [00:00<00:06, 152.42it/s]"
     ]
    },
    {
     "name": "stderr",
     "output_type": "stream",
     "text": [
      "100%|██████████| 1065/1065 [00:06<00:00, 162.25it/s]"
     ]
    },
    {
     "name": "stdout",
     "output_type": "stream",
     "text": [
      "Point source conversion complete: placed 1065 point sources\n",
      "Estimated calculation time: 0:01:24\n"
     ]
    },
    {
     "name": "stderr",
     "output_type": "stream",
     "text": [
      "\n"
     ]
    }
   ],
   "source": [
    "calc, _ = pandeia_input.build_pandeia_calc(array=model, \n",
    "                                        lens=lens, \n",
    "                                        band='f106', \n",
    "                                        num_samples=num_samples)\n",
    "\n",
    "# turn all noise and effects off\n",
    "calculation_dict = pandeia_input.get_calculation_dict(init=False)\n",
    "calc['calculation'] = calculation_dict"
   ]
  },
  {
   "cell_type": "code",
   "execution_count": 18,
   "metadata": {},
   "outputs": [
    {
     "name": "stdout",
     "output_type": "stream",
     "text": [
      "'minzodi'\n",
      "'benchmark'\n",
      "{'effects': {'saturation': False},\n",
      " 'noise': {'crs': False,\n",
      "           'dark': False,\n",
      "           'excess': False,\n",
      "           'ffnoise': False,\n",
      "           'readnoise': False,\n",
      "           'scatter': False}}\n"
     ]
    }
   ],
   "source": [
    "pprint(calc['background'])\n",
    "pprint(calc['background_level'])\n",
    "pprint(calc['calculation'])"
   ]
  },
  {
   "cell_type": "markdown",
   "metadata": {},
   "source": [
    "# Does background change between images?"
   ]
  },
  {
   "cell_type": "code",
   "execution_count": 19,
   "metadata": {},
   "outputs": [
    {
     "name": "stdout",
     "output_type": "stream",
     "text": [
      "Performing Pandeia calculation...\n",
      "Pandeia calculation complete in 0:01:14\n",
      "Execution time: 0:01:14\n"
     ]
    }
   ],
   "source": [
    "minzodi_calc = deepcopy(calc)\n",
    "minzodi_calc['background'] = 'minzodi'\n",
    "minzodi_calc['background_level'] = 'medium'\n",
    "\n",
    "minzodi, execution_time = pandeia_input.get_pandeia_image(minzodi_calc)\n",
    "print(f'Execution time: {execution_time}')\n",
    "\n",
    "np.save(os.path.join(output_dir, f'minzodi_medium_{num_samples}.npy'), minzodi)"
   ]
  },
  {
   "cell_type": "code",
   "execution_count": 20,
   "metadata": {},
   "outputs": [
    {
     "name": "stdout",
     "output_type": "stream",
     "text": [
      "Performing Pandeia calculation...\n"
     ]
    },
    {
     "name": "stdout",
     "output_type": "stream",
     "text": [
      "Pandeia calculation complete in 0:01:15\n",
      "Execution time: 0:01:15\n"
     ]
    }
   ],
   "source": [
    "minzodi2_calc = deepcopy(calc)\n",
    "minzodi2_calc['background'] = 'minzodi'\n",
    "minzodi2_calc['background_level'] = 'medium'\n",
    "\n",
    "minzodi2, execution_time = pandeia_input.get_pandeia_image(minzodi2_calc)\n",
    "print(f'Execution time: {execution_time}')\n",
    "\n",
    "np.save(os.path.join(output_dir, f'minzodi2_medium_{num_samples}.npy'), minzodi2)"
   ]
  },
  {
   "cell_type": "code",
   "execution_count": 21,
   "metadata": {},
   "outputs": [
    {
     "name": "stdout",
     "output_type": "stream",
     "text": [
      "Performing Pandeia calculation...\n",
      "Pandeia calculation complete in 0:01:14\n",
      "Execution time: 0:01:14\n"
     ]
    }
   ],
   "source": [
    "minzodi3_calc = deepcopy(calc)\n",
    "minzodi3_calc['background'] = 'minzodi'\n",
    "minzodi3_calc['background_level'] = 'medium'\n",
    "\n",
    "minzodi3, execution_time = pandeia_input.get_pandeia_image(minzodi3_calc)\n",
    "print(f'Execution time: {execution_time}')\n",
    "\n",
    "np.save(os.path.join(output_dir, f'minzodi3_medium_{num_samples}.npy'), minzodi3)"
   ]
  },
  {
   "cell_type": "code",
   "execution_count": 22,
   "metadata": {},
   "outputs": [],
   "source": [
    "minzodi = np.load(os.path.join(output_dir, f'minzodi_medium_{num_samples}.npy'))\n",
    "minzodi2 = np.load(os.path.join(output_dir, f'minzodi2_medium_{num_samples}.npy'))\n",
    "minzodi3 = np.load(os.path.join(output_dir, f'minzodi3_medium_{num_samples}.npy'))"
   ]
  },
  {
   "cell_type": "code",
   "execution_count": 23,
   "metadata": {},
   "outputs": [
    {
     "name": "stdout",
     "output_type": "stream",
     "text": [
      "0\n",
      "0\n"
     ]
    }
   ],
   "source": [
    "print(np.count_nonzero(minzodi - minzodi2))\n",
    "print(np.count_nonzero(minzodi - minzodi3))"
   ]
  },
  {
   "cell_type": "markdown",
   "metadata": {},
   "source": [
    "# Change background types"
   ]
  },
  {
   "cell_type": "markdown",
   "metadata": {},
   "source": [
    "## Background: none"
   ]
  },
  {
   "cell_type": "code",
   "execution_count": null,
   "metadata": {},
   "outputs": [],
   "source": [
    "none_calc = deepcopy(calc)\n",
    "none_calc['background'] = 'none'\n",
    "\n",
    "none, execution_time = pandeia_input.get_pandeia_image(none_calc)\n",
    "print(f'Execution time: {execution_time}')\n",
    "\n",
    "np.save(os.path.join(output_dir, f'none_{num_samples}.npy'), none)"
   ]
  },
  {
   "cell_type": "markdown",
   "metadata": {},
   "source": [
    "## Background: minzodi (background_level: benchmark (default))"
   ]
  },
  {
   "cell_type": "code",
   "execution_count": null,
   "metadata": {},
   "outputs": [],
   "source": [
    "minzodi_calc = deepcopy(calc)\n",
    "minzodi_calc['background'] = 'minzodi'\n",
    "minzodi_calc['background_level'] = 'benchmark'\n",
    "\n",
    "minzodi, execution_time = pandeia_input.get_pandeia_image(minzodi_calc)\n",
    "print(f'Execution time: {execution_time}')\n",
    "\n",
    "np.save(os.path.join(output_dir, f'minzodi_{num_samples}.npy'), minzodi)"
   ]
  },
  {
   "cell_type": "markdown",
   "metadata": {},
   "source": [
    "## Background: ecliptic"
   ]
  },
  {
   "cell_type": "code",
   "execution_count": null,
   "metadata": {},
   "outputs": [],
   "source": [
    "ecliptic_calc = deepcopy(calc)\n",
    "ecliptic_calc['background'] = 'ecliptic'\n",
    "ecliptic_calc['background_level'] = 'medium'\n",
    "\n",
    "ecliptic, execution_time = pandeia_input.get_pandeia_image(ecliptic_calc)\n",
    "print(f'Execution time: {execution_time}')\n",
    "\n",
    "np.save(os.path.join(output_dir, f'ecliptic_{num_samples}.npy'), ecliptic)"
   ]
  },
  {
   "cell_type": "markdown",
   "metadata": {},
   "source": [
    "## Compare background types"
   ]
  },
  {
   "cell_type": "code",
   "execution_count": null,
   "metadata": {},
   "outputs": [],
   "source": [
    "none = np.load(os.path.join(output_dir, f'none_{num_samples}.npy'))\n",
    "minzodi = np.load(os.path.join(output_dir, f'minzodi_{num_samples}.npy'))\n",
    "ecliptic = np.load(os.path.join(output_dir, f'ecliptic_{num_samples}.npy'))"
   ]
  },
  {
   "cell_type": "code",
   "execution_count": null,
   "metadata": {},
   "outputs": [],
   "source": [
    "fig, ax = plt.subplots(nrows=2, ncols=3, figsize=(12, 8))\n",
    "\n",
    "# array_list = [pandeia - crs_off, pandeia - dark_off, pandeia - ffnoise_off, pandeia - readnoise_off, pandeia - scatter_off, pandeia - saturation_off]\n",
    "\n",
    "ax0 = ax[0,0].imshow(minzodi, cmap='viridis')\n",
    "ax[0,0].set_title('Minzodi (level: benchmark)')\n",
    "\n",
    "ax1 = ax[0,1].imshow(ecliptic, cmap='viridis')\n",
    "ax[0,1].set_title('Ecliptic (level: medium)')\n",
    "\n",
    "ax2 = ax[0,2].imshow(none, cmap='viridis')\n",
    "ax[0,2].set_title('None')\n",
    "\n",
    "ax3 = ax[1,0].imshow(none - minzodi, cmap='bwr')\n",
    "ax[1,0].set_title('Residuals: None - Minzodi')\n",
    "\n",
    "ax4 = ax[1,1].imshow(none - ecliptic, cmap='bwr')\n",
    "ax[1,1].set_title('Residuals: None - Ecliptic')\n",
    "\n",
    "ax[1,2].remove()\n",
    "\n",
    "# fig.colorbar(ax0, ax=[ax[0,0], ax[0,1], ax[0,2], ax[1,0], ax[1,1], ax[1,2]])\n",
    "\n",
    "# plt.savefig(os.path.join(figure_dir, 'noise_asinh.png'))\n",
    "plt.show()"
   ]
  },
  {
   "cell_type": "markdown",
   "metadata": {},
   "source": [
    "# Change background level (Minzodi)"
   ]
  },
  {
   "cell_type": "markdown",
   "metadata": {},
   "source": [
    "## Background level: benchmark (default)"
   ]
  },
  {
   "cell_type": "code",
   "execution_count": null,
   "metadata": {},
   "outputs": [],
   "source": [
    "# this was calculated above, so just load it below\n",
    "minzodi = np.load(os.path.join(output_dir, f'minzodi_{num_samples}.npy'))"
   ]
  },
  {
   "cell_type": "markdown",
   "metadata": {},
   "source": [
    "## Background level: high"
   ]
  },
  {
   "cell_type": "code",
   "execution_count": null,
   "metadata": {},
   "outputs": [],
   "source": [
    "minzodi_high_calc = deepcopy(calc)\n",
    "minzodi_high_calc['background'] = 'minzodi'\n",
    "minzodi_high_calc['background_level'] = 'high'\n",
    "\n",
    "minzodi_high, execution_time = pandeia_input.get_pandeia_image(minzodi_high_calc)\n",
    "print(f'Execution time: {execution_time}')\n",
    "\n",
    "np.save(os.path.join(output_dir, f'minzodi_high_{num_samples}.npy'), minzodi_high)"
   ]
  },
  {
   "cell_type": "markdown",
   "metadata": {},
   "source": [
    "## Background level: medium"
   ]
  },
  {
   "cell_type": "code",
   "execution_count": null,
   "metadata": {},
   "outputs": [],
   "source": [
    "minzodi_medium_calc = deepcopy(calc)\n",
    "minzodi_medium_calc['background'] = 'minzodi'\n",
    "minzodi_medium_calc['background_level'] = 'medium'\n",
    "\n",
    "minzodi_medium, execution_time = pandeia_input.get_pandeia_image(minzodi_medium_calc)\n",
    "print(f'Execution time: {execution_time}')\n",
    "\n",
    "np.save(os.path.join(output_dir, f'minzodi_medium_{num_samples}.npy'), minzodi_medium)"
   ]
  },
  {
   "cell_type": "markdown",
   "metadata": {},
   "source": [
    "## Background level: low"
   ]
  },
  {
   "cell_type": "code",
   "execution_count": null,
   "metadata": {},
   "outputs": [],
   "source": [
    "minzodi_low_calc = deepcopy(calc)\n",
    "minzodi_low_calc['background'] = 'minzodi'\n",
    "minzodi_low_calc['background_level'] = 'low'\n",
    "\n",
    "minzodi_low, execution_time = pandeia_input.get_pandeia_image(minzodi_low_calc)\n",
    "print(f'Execution time: {execution_time}')\n",
    "\n",
    "np.save(os.path.join(output_dir, f'minzodi_low_{num_samples}.npy'), minzodi_low)"
   ]
  },
  {
   "cell_type": "markdown",
   "metadata": {},
   "source": [
    "## Compare background levels"
   ]
  },
  {
   "cell_type": "code",
   "execution_count": null,
   "metadata": {},
   "outputs": [],
   "source": [
    "minzodi_benchmark = np.load(os.path.join(output_dir, f'minzodi_{num_samples}.npy'))\n",
    "minzodi_high = np.load(os.path.join(output_dir, f'minzodi_high_{num_samples}.npy'))\n",
    "minzodi_medium = np.load(os.path.join(output_dir, f'minzodi_medium_{num_samples}.npy'))\n",
    "minzodi_low = np.load(os.path.join(output_dir, f'minzodi_low_{num_samples}.npy'))"
   ]
  },
  {
   "cell_type": "code",
   "execution_count": null,
   "metadata": {},
   "outputs": [],
   "source": [
    "fig, ax = plt.subplots(nrows=1, ncols=4, figsize=(20, 4))\n",
    "\n",
    "ax0 = ax[0].imshow(minzodi_benchmark, cmap='viridis')\n",
    "ax[0].set_title('Benchmark')\n",
    "\n",
    "ax1 = ax[1].imshow(minzodi_high, cmap='viridis')\n",
    "ax[1].set_title('High')\n",
    "\n",
    "ax2 = ax[2].imshow(minzodi_medium, cmap='viridis')\n",
    "ax[2].set_title('Medium')\n",
    "\n",
    "ax3 = ax[3].imshow(minzodi_low, cmap='viridis')\n",
    "ax[3].set_title('Low')\n",
    "\n",
    "# fig.colorbar(ax0, ax=[ax[0,0], ax[0,1], ax[0,2], ax[1,0], ax[1,1], ax[1,2]])\n",
    "\n",
    "# plt.savefig(os.path.join(figure_dir, 'noise_asinh.png'))\n",
    "plt.show()"
   ]
  }
 ],
 "metadata": {
  "kernelspec": {
   "display_name": "pandeia",
   "language": "python",
   "name": "python3"
  },
  "language_info": {
   "codemirror_mode": {
    "name": "ipython",
    "version": 3
   },
   "file_extension": ".py",
   "mimetype": "text/x-python",
   "name": "python",
   "nbconvert_exporter": "python",
   "pygments_lexer": "ipython3",
   "version": "3.10.6"
  }
 },
 "nbformat": 4,
 "nbformat_minor": 2
}
