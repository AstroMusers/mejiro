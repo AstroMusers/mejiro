{
 "cells": [
  {
   "cell_type": "code",
   "execution_count": 2,
   "metadata": {
    "ExecuteTime": {
     "end_time": "2023-11-16T20:28:51.427324100Z",
     "start_time": "2023-11-16T20:28:51.394451400Z"
    }
   },
   "outputs": [],
   "source": [
    "import os\n",
    "import sys\n",
    "\n",
    "path = os.getcwd()\n",
    "while os.path.basename(os.path.normpath(path)) != 'roman-pandeia':\n",
    "    path = os.path.dirname(path)\n",
    "repo_path = path\n",
    "if repo_path not in sys.path:\n",
    "    sys.path.append(repo_path)"
   ]
  },
  {
   "cell_type": "code",
   "execution_count": 3,
   "metadata": {
    "ExecuteTime": {
     "end_time": "2023-11-16T20:28:51.458324500Z",
     "start_time": "2023-11-16T20:28:51.401506700Z"
    }
   },
   "outputs": [
    {
     "name": "stderr",
     "output_type": "stream",
     "text": [
      "/data/bwedig/.conda/envs/pandeia/lib/python3.9/site-packages/numba/core/decorators.py:262: NumbaDeprecationWarning: \u001b[1mnumba.generated_jit is deprecated. Please see the documentation at: https://numba.readthedocs.io/en/stable/reference/deprecation.html#deprecation-of-generated-jit for more information and advice on a suitable replacement.\u001b[0m\n",
      "  warnings.warn(msg, NumbaDeprecationWarning)\n"
     ]
    }
   ],
   "source": [
    "import numpy as np\n",
    "import time\n",
    "\n",
    "from pprint import pprint\n",
    "from tqdm import tqdm\n",
    "\n",
    "import matplotlib\n",
    "import matplotlib.pyplot as plt\n",
    "\n",
    "matplotlib.rcParams['axes.grid'] = False\n",
    "matplotlib.rcParams['image.origin'] = 'lower'\n",
    "\n",
    "from pandeia.engine.perform_calculation import perform_calculation\n",
    "from pandeia.engine.calc_utils import build_default_calc, build_default_source\n",
    "from lenstronomy.Util import data_util\n",
    "from lenstronomy.SimulationAPI.ObservationConfig.Roman import Roman\n",
    "\n",
    "from package.helpers import test_physical_lens\n",
    "from package.plots import plot, diagnostic_plot"
   ]
  },
  {
   "cell_type": "code",
   "execution_count": 4,
   "metadata": {
    "ExecuteTime": {
     "end_time": "2023-11-16T20:28:51.458324500Z",
     "start_time": "2023-11-16T20:28:51.416647800Z"
    },
    "collapsed": false
   },
   "outputs": [],
   "source": [
    "oversample_factor_list = [1, 3, 5, 7, 9]\n",
    "execution_time = []\n",
    "\n",
    "figure_dir = os.path.join(repo_path, 'figures', 'diagnostics', 'pixel_density_test')\n",
    "array_dir = os.path.join(repo_path, 'output', 'arrays', 'diagnostics', 'pixel_density_test')\n",
    "\n",
    "lens = test_physical_lens.TestPhysicalLens()"
   ]
  },
  {
   "cell_type": "code",
   "execution_count": 5,
   "metadata": {},
   "outputs": [],
   "source": [
    "lenstronomy_roman_config = Roman(band='F106', psf_type='PIXEL', survey_mode='wide_area').kwargs_single_band()\n",
    "magnitude_zero_point = lenstronomy_roman_config.get('magnitude_zero_point')"
   ]
  },
  {
   "cell_type": "code",
   "execution_count": 15,
   "metadata": {
    "ExecuteTime": {
     "end_time": "2023-11-16T20:28:52.126189Z",
     "start_time": "2023-11-16T20:28:51.431323700Z"
    }
   },
   "outputs": [
    {
     "name": "stderr",
     "output_type": "stream",
     "text": [
      "100%|██████████| 45/45 [00:00<00:00, 11883.38it/s]\n"
     ]
    },
    {
     "name": "stdout",
     "output_type": "stream",
     "text": [
      "Converting to point sources...\n"
     ]
    },
    {
     "name": "stderr",
     "output_type": "stream",
     "text": [
      "45it [00:13,  3.41it/s]\n"
     ]
    },
    {
     "name": "stdout",
     "output_type": "stream",
     "text": [
      "Point source conversion complete\n",
      "Performing Pandeia calculation...\n"
     ]
    },
    {
     "name": "stderr",
     "output_type": "stream",
     "text": [
      "/data/bwedig/.conda/envs/pandeia/lib/python3.9/site-packages/pandeia/engine/report.py:1012: RuntimeWarning: divide by zero encountered in log\n",
      "  if np.log(abs(val)) < -1*precision and val != 0.0:\n",
      " 20%|██        | 1/5 [03:10<12:43, 190.93s/it]"
     ]
    },
    {
     "name": "stdout",
     "output_type": "stream",
     "text": [
      "Pandeia calculation complete\n"
     ]
    },
    {
     "name": "stderr",
     "output_type": "stream",
     "text": [
      "100%|██████████| 135/135 [00:00<00:00, 3593.82it/s]\n"
     ]
    },
    {
     "name": "stdout",
     "output_type": "stream",
     "text": [
      "Converting to point sources...\n"
     ]
    },
    {
     "name": "stderr",
     "output_type": "stream",
     "text": [
      "135it [01:51,  1.21it/s]\n"
     ]
    },
    {
     "name": "stdout",
     "output_type": "stream",
     "text": [
      "Point source conversion complete\n",
      "Performing Pandeia calculation...\n"
     ]
    },
    {
     "name": "stderr",
     "output_type": "stream",
     "text": [
      " 40%|████      | 2/5 [30:56<52:54, 1058.20s/it]"
     ]
    },
    {
     "name": "stdout",
     "output_type": "stream",
     "text": [
      "Pandeia calculation complete\n"
     ]
    },
    {
     "name": "stderr",
     "output_type": "stream",
     "text": [
      "100%|██████████| 225/225 [00:00<00:00, 2287.63it/s]\n"
     ]
    },
    {
     "name": "stdout",
     "output_type": "stream",
     "text": [
      "Converting to point sources...\n"
     ]
    },
    {
     "name": "stderr",
     "output_type": "stream",
     "text": [
      "225it [05:35,  1.49s/it]\n"
     ]
    },
    {
     "name": "stdout",
     "output_type": "stream",
     "text": [
      "Point source conversion complete\n",
      "Performing Pandeia calculation...\n"
     ]
    },
    {
     "name": "stderr",
     "output_type": "stream",
     "text": [
      " 60%|██████    | 3/5 [1:51:05<1:32:22, 2771.17s/it]"
     ]
    },
    {
     "name": "stdout",
     "output_type": "stream",
     "text": [
      "Pandeia calculation complete\n"
     ]
    },
    {
     "name": "stderr",
     "output_type": "stream",
     "text": [
      "100%|██████████| 315/315 [00:00<00:00, 1675.94it/s]\n"
     ]
    },
    {
     "name": "stdout",
     "output_type": "stream",
     "text": [
      "Converting to point sources...\n"
     ]
    },
    {
     "name": "stderr",
     "output_type": "stream",
     "text": [
      "315it [11:35,  2.21s/it]\n"
     ]
    },
    {
     "name": "stdout",
     "output_type": "stream",
     "text": [
      "Point source conversion complete\n",
      "Performing Pandeia calculation...\n",
      "Pandeia calculation complete\n"
     ]
    },
    {
     "name": "stderr",
     "output_type": "stream",
     "text": [
      "100%|██████████| 405/405 [00:00<00:00, 1355.99it/s]\n"
     ]
    },
    {
     "name": "stdout",
     "output_type": "stream",
     "text": [
      "Converting to point sources...\n"
     ]
    },
    {
     "name": "stderr",
     "output_type": "stream",
     "text": [
      "405it [20:07,  2.98s/it]\n"
     ]
    },
    {
     "name": "stdout",
     "output_type": "stream",
     "text": [
      "Point source conversion complete\n",
      "Performing Pandeia calculation...\n"
     ]
    },
    {
     "name": "stderr",
     "output_type": "stream",
     "text": [
      "100%|██████████| 5/5 [8:40:40<00:00, 6248.03s/it]  "
     ]
    },
    {
     "name": "stdout",
     "output_type": "stream",
     "text": [
      "Pandeia calculation complete\n"
     ]
    },
    {
     "name": "stderr",
     "output_type": "stream",
     "text": [
      "\n"
     ]
    }
   ],
   "source": [
    "for oversample_factor in oversample_factor_list:\n",
    "    side = 5\n",
    "    num_pix = 45 * oversample_factor\n",
    "\n",
    "    image = lens.get_array(num_pix, side)\n",
    "\n",
    "    plot.plot(filepath=os.path.join(figure_dir, f'model_{oversample_factor}.png'),\n",
    "              title=f'Lenstronomy model\\nOversampling factor {oversample_factor}', \n",
    "              array=image,\n",
    "              colorbar=True)\n",
    "    np.save(os.path.join(array_dir, f'model_{oversample_factor}'), image)\n",
    "\n",
    "    print(f'Starting calculation for oversample factor {oversample_factor}')\n",
    "\n",
    "    # start timer\n",
    "    start = time.time()\n",
    "\n",
    "    calc = build_default_calc('roman', 'wfi', 'imaging')\n",
    "\n",
    "    # scene size settings\n",
    "    calc['configuration']['dynamic_scene'] = True\n",
    "    calc['configuration']['max_scene_size'] = 5\n",
    "\n",
    "    # change filter\n",
    "    calc['configuration']['instrument']['filter'] = 'f106'\n",
    "\n",
    "    # convert brightnesses\n",
    "    j = 0\n",
    "    side, _ = image.shape\n",
    "    mag_array = np.zeros(image.shape)\n",
    "\n",
    "    for row_number, row in tqdm(enumerate(image), total=side):\n",
    "        for item_number, item in enumerate(row):\n",
    "            mag_array[row_number][item_number] = data_util.cps2magnitude(item, magnitude_zero_point)\n",
    "            j += 1\n",
    "\n",
    "    i = 0\n",
    "    print('Converting to point sources...')\n",
    "    for row_number, row in tqdm(enumerate(mag_array)):\n",
    "        for item_number, item in enumerate(row):\n",
    "            if i != 0:\n",
    "                calc['scene'].append(build_default_source(geometry='point', telescope='roman'))\n",
    "\n",
    "            # set brightness\n",
    "            calc['scene'][i]['spectrum']['normalization']['norm_flux'] = item\n",
    "            calc['scene'][i]['spectrum']['normalization']['norm_fluxunit'] = 'abmag'\n",
    "            calc['scene'][i]['spectrum']['normalization']['norm_wave'] = 1.06\n",
    "            calc['scene'][i]['spectrum']['normalization']['norm_waveunit'] = 'microns'\n",
    "            calc['scene'][i]['spectrum']['normalization']['type'] = 'at_lambda'\n",
    "\n",
    "            # set position\n",
    "            calc['scene'][i]['position']['x_offset'] = (item_number * (1 / 9) * (\n",
    "                        1 / oversample_factor)) + lens.ra_at_xy_0  # arcsec\n",
    "            calc['scene'][i]['position']['y_offset'] = (row_number * (1 / 9) * (\n",
    "                        1 / oversample_factor)) + lens.dec_at_xy_0  # arcsec\n",
    "\n",
    "            i += 1\n",
    "    print('Point source conversion complete')\n",
    "\n",
    "    print('Performing Pandeia calculation...')\n",
    "    results = perform_calculation(calc)\n",
    "    print('Pandeia calculation complete')\n",
    "\n",
    "    # stop timer\n",
    "    stop = time.time()\n",
    "    execution_time.append(stop - start)\n",
    "\n",
    "    detector = results['2d']['detector']\n",
    "\n",
    "    # TODO TEMP! flip image\n",
    "    detector = np.flipud(detector)\n",
    "    # detector = np.fliplr(detector)\n",
    "\n",
    "    # save this numpy array\n",
    "    np.save(os.path.join(array_dir, f'detector_{oversample_factor}'), detector)\n",
    "\n",
    "    print(f'Finished calculation for oversample factor {oversample_factor}')\n",
    "\n",
    "# save execution times\n",
    "np.save(os.path.join(array_dir, 'execution_time'), execution_time)"
   ]
  },
  {
   "cell_type": "code",
   "execution_count": 18,
   "metadata": {
    "ExecuteTime": {
     "end_time": "2023-11-16T20:28:52.140186300Z",
     "start_time": "2023-11-16T20:28:52.131189200Z"
    }
   },
   "outputs": [
    {
     "name": "stdout",
     "output_type": "stream",
     "text": [
      "       2\n",
      "191.7 x - 20.3 x + 23.57\n"
     ]
    },
    {
     "data": {
      "image/png": "[encoded data removed]",
      "text/plain": [
       "<Figure size 640x480 with 1 Axes>"
      ]
     },
     "metadata": {},
     "output_type": "display_data"
    }
   ],
   "source": [
    "execution_time = np.load(os.path.join(array_dir, 'execution_time.npy'))\n",
    "x = np.linspace(1, 9, len(execution_time))\n",
    "\n",
    "# https://numpy.org/doc/stable/reference/generated/numpy.polyfit.html\n",
    "model = np.poly1d(np.polyfit(x, execution_time, 2))\n",
    "poly_x = np.linspace(1, 9, 100)\n",
    "\n",
    "print(model)\n",
    "\n",
    "plt.scatter(x, execution_time)\n",
    "plt.plot(poly_x, model(poly_x))\n",
    "plt.title('Execution time versus oversampling factor')\n",
    "plt.show()"
   ]
  },
  {
   "cell_type": "code",
   "execution_count": 19,
   "metadata": {},
   "outputs": [],
   "source": [
    "one = np.load(os.path.join(array_dir, 'detector_1.npy'))\n",
    "three = np.load(os.path.join(array_dir, 'detector_3.npy'))\n",
    "five = np.load(os.path.join(array_dir, 'detector_5.npy'))\n",
    "seven = np.load(os.path.join(array_dir, 'detector_7.npy'))\n",
    "nine = np.load(os.path.join(array_dir, 'detector_9.npy'))"
   ]
  },
  {
   "cell_type": "code",
   "execution_count": 20,
   "metadata": {},
   "outputs": [],
   "source": [
    "plot.plot(os.path.join(figure_dir, 'pandeia_1.png'), 'Pandeia simulation\\nOversampling factor: 1', one, colorbar=True, colorbar_label='Counts/sec')\n"
   ]
  },
  {
   "cell_type": "code",
   "execution_count": 21,
   "metadata": {},
   "outputs": [],
   "source": [
    "plot.plot(os.path.join(figure_dir, 'pandeia_3.png'), 'Pandeia simulation\\nOversampling factor: 3', three, colorbar=True, colorbar_label='Counts/sec')"
   ]
  },
  {
   "cell_type": "code",
   "execution_count": 22,
   "metadata": {},
   "outputs": [],
   "source": [
    "plot.plot(os.path.join(figure_dir, 'pandeia_5.png'), 'Pandeia simulation\\nOversampling factor: 5', five, colorbar=True, colorbar_label='Counts/sec')"
   ]
  },
  {
   "cell_type": "code",
   "execution_count": 23,
   "metadata": {},
   "outputs": [],
   "source": [
    "plot.plot(os.path.join(figure_dir, 'pandeia_7.png'), 'Pandeia simulation\\nOversampling factor: 7', seven, colorbar=True, colorbar_label='Counts/sec')"
   ]
  },
  {
   "cell_type": "code",
   "execution_count": 24,
   "metadata": {},
   "outputs": [],
   "source": [
    "plot.plot(os.path.join(figure_dir, 'pandeia_9.png'), 'Pandeia simulation\\nOversampling factor: 9', nine, colorbar=True, colorbar_label='Counts/sec')"
   ]
  },
  {
   "cell_type": "code",
   "execution_count": 25,
   "metadata": {},
   "outputs": [],
   "source": [
    "from glob import glob\n",
    "from package.utils import image_util\n",
    "\n",
    "image_list = glob(os.path.join(figure_dir, 'pandeia*.png'))\n",
    "image_util.combine_images(3, 0, image_list, os.path.join(figure_dir, 'collage.png'))"
   ]
  }
 ],
 "metadata": {
  "kernelspec": {
   "display_name": "stips",
   "language": "python",
   "name": "python3"
  },
  "language_info": {
   "codemirror_mode": {
    "name": "ipython",
    "version": 3
   },
   "file_extension": ".py",
   "mimetype": "text/x-python",
   "name": "python",
   "nbconvert_exporter": "python",
   "pygments_lexer": "ipython3",
   "version": "3.9.13"
  }
 },
 "nbformat": 4,
 "nbformat_minor": 2
}
