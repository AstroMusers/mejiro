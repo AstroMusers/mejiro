{
 "cells": [
  {
   "cell_type": "code",
   "execution_count": 1,
   "metadata": {
    "ExecuteTime": {
     "end_time": "2023-11-16T20:28:51.427324100Z",
     "start_time": "2023-11-16T20:28:51.394451400Z"
    }
   },
   "outputs": [],
   "source": [
    "import os\n",
    "import sys\n",
    "\n",
    "path = os.getcwd()\n",
    "while os.path.basename(os.path.normpath(path)) != 'roman-pandeia':\n",
    "    path = os.path.dirname(path)\n",
    "repo_path = path\n",
    "if repo_path not in sys.path:\n",
    "    sys.path.append(repo_path)"
   ]
  },
  {
   "cell_type": "code",
   "execution_count": 2,
   "metadata": {
    "ExecuteTime": {
     "end_time": "2023-11-16T20:28:51.458324500Z",
     "start_time": "2023-11-16T20:28:51.401506700Z"
    }
   },
   "outputs": [],
   "source": [
    "import os\n",
    "\n",
    "from tqdm import tqdm\n",
    "import matplotlib\n",
    "import matplotlib.pyplot as plt\n",
    "\n",
    "matplotlib.rcParams['axes.grid'] = False\n",
    "matplotlib.rcParams['image.origin'] = 'lower'\n",
    "import numpy as np\n",
    "\n",
    "from pandeia.engine.perform_calculation import perform_calculation\n",
    "from pandeia.engine.calc_utils import build_default_calc, build_default_source\n",
    "\n",
    "import time\n",
    "\n",
    "from package.helpers import test_lens\n",
    "from package.plots import plot, diagnostic_plot"
   ]
  },
  {
   "cell_type": "code",
   "execution_count": 3,
   "metadata": {
    "ExecuteTime": {
     "end_time": "2023-11-16T20:28:51.458324500Z",
     "start_time": "2023-11-16T20:28:51.416647800Z"
    },
    "collapsed": false
   },
   "outputs": [],
   "source": [
    "oversample_factor_list = [1, 3]\n",
    "execution_time = []\n",
    "\n",
    "figure_dir = os.path.join(repo_path, 'figures', 'diagnostics', 'pixel_density_test')\n",
    "array_dir = os.path.join(repo_path, 'output', 'arrays', 'diagnostics', 'pixel_density_test')\n",
    "\n",
    "lens = test_lens.TestLens()"
   ]
  },
  {
   "cell_type": "code",
   "execution_count": 10,
   "metadata": {
    "ExecuteTime": {
     "end_time": "2023-11-16T20:28:52.126189Z",
     "start_time": "2023-11-16T20:28:51.431323700Z"
    }
   },
   "outputs": [
    {
     "name": "stderr",
     "output_type": "stream",
     "text": [
      "  0%|          | 0/2 [00:00<?, ?it/s]"
     ]
    },
    {
     "name": "stdout",
     "output_type": "stream",
     "text": [
      "Converting to point sources...\n"
     ]
    },
    {
     "name": "stderr",
     "output_type": "stream",
     "text": [
      "45it [00:10,  4.39it/s]\n"
     ]
    },
    {
     "name": "stdout",
     "output_type": "stream",
     "text": [
      "Point source conversion complete\n",
      "Performing Pandeia calculation...\n"
     ]
    },
    {
     "name": "stderr",
     "output_type": "stream",
     "text": [
      "WARNING: Source spectrum will be extrapolated (at constant value for empirical model). [synphot.observation]\n"
     ]
    },
    {
     "name": "stdout",
     "output_type": "stream",
     "text": [
      "Pandeia calculation complete\n"
     ]
    },
    {
     "name": "stderr",
     "output_type": "stream",
     "text": [
      " 50%|█████     | 1/2 [03:07<03:07, 187.42s/it]"
     ]
    },
    {
     "name": "stdout",
     "output_type": "stream",
     "text": [
      "Converting to point sources...\n"
     ]
    },
    {
     "name": "stderr",
     "output_type": "stream",
     "text": [
      "135it [01:31,  1.47it/s]\n"
     ]
    },
    {
     "name": "stdout",
     "output_type": "stream",
     "text": [
      "Point source conversion complete\n",
      "Performing Pandeia calculation...\n"
     ]
    },
    {
     "name": "stderr",
     "output_type": "stream",
     "text": [
      "WARNING: Source spectrum will be extrapolated (at constant value for empirical model). [synphot.observation]\n"
     ]
    },
    {
     "name": "stdout",
     "output_type": "stream",
     "text": [
      "Pandeia calculation complete\n"
     ]
    },
    {
     "name": "stderr",
     "output_type": "stream",
     "text": [
      "100%|██████████| 2/2 [31:03<00:00, 931.53s/it] \n"
     ]
    }
   ],
   "source": [
    "for oversample_factor in tqdm(oversample_factor_list):\n",
    "    side = 5\n",
    "    num_pix = 45 * oversample_factor\n",
    "\n",
    "    image = lens.get_array(num_pix, side)\n",
    "\n",
    "    plot.plot(filepath=os.path.join(figure_dir, f'model_{oversample_factor}.png'),\n",
    "              title=f'Lenstronomy model\\nOversampling factor {oversample_factor}', \n",
    "              array=image,\n",
    "              colorbar=True)\n",
    "    np.save(os.path.join(array_dir, f'model_{oversample_factor}'), image)\n",
    "\n",
    "    # start timer\n",
    "    start = time.time()\n",
    "\n",
    "    calc = build_default_calc('roman', 'wfi', 'imaging')\n",
    "\n",
    "    # scene size settings\n",
    "    calc['configuration']['dynamic_scene'] = True\n",
    "    calc['configuration']['max_scene_size'] = 5\n",
    "\n",
    "    # change filter\n",
    "    calc['configuration']['instrument']['filter'] = 'f106'\n",
    "\n",
    "    # normalize (np.interp for now)\n",
    "    max = np.max(image)\n",
    "    min = np.min(image)\n",
    "    image = np.interp(image, (min, max), (0.00001, 0.001))\n",
    "\n",
    "    i = 0\n",
    "    print('Converting to point sources...')\n",
    "    for row_number, row in tqdm(enumerate(image)):\n",
    "        for item_number, item in enumerate(row):\n",
    "            if i != 0:\n",
    "                calc['scene'].append(build_default_source(geometry=\"point\"))\n",
    "            calc['scene'][i]['position']['x_offset'] = (item_number * (1 / 9) * (\n",
    "                        1 / oversample_factor)) + lens.ra_at_xy_0  # arcsec\n",
    "            calc['scene'][i]['position']['y_offset'] = (row_number * (1 / 9) * (\n",
    "                        1 / oversample_factor)) + lens.dec_at_xy_0  # arcsec\n",
    "            calc['scene'][i]['spectrum']['normalization']['norm_flux'] = item\n",
    "\n",
    "            i += 1\n",
    "    print('Point source conversion complete')\n",
    "\n",
    "    print('Performing Pandeia calculation...')\n",
    "    results = perform_calculation(calc)\n",
    "    print('Pandeia calculation complete')\n",
    "\n",
    "    # stop timer\n",
    "    stop = time.time()\n",
    "    execution_time.append(stop - start)\n",
    "\n",
    "    detector = results['2d']['detector']\n",
    "\n",
    "    # TODO TEMP! flip image\n",
    "    detector = np.flipud(detector)\n",
    "    # detector = np.fliplr(detector)\n",
    "\n",
    "    plot.plot(filepath=os.path.join(figure_dir, f'pandeia_{oversample_factor}.png'),\n",
    "              title=f'Pandeia simulation\\nOversampling factor {oversample_factor}', \n",
    "              array=detector,\n",
    "              colorbar=True)\n",
    "\n",
    "    # save this numpy array\n",
    "    np.save(os.path.join(array_dir, f'detector_{oversample_factor}'), detector)"
   ]
  },
  {
   "cell_type": "code",
   "execution_count": 11,
   "metadata": {
    "ExecuteTime": {
     "end_time": "2023-11-16T20:28:52.140186300Z",
     "start_time": "2023-11-16T20:28:52.131189200Z"
    }
   },
   "outputs": [
    {
     "data": {
      "image/png": "[encoded data removed]",
      "text/plain": [
       "<Figure size 640x480 with 1 Axes>"
      ]
     },
     "metadata": {},
     "output_type": "display_data"
    }
   ],
   "source": [
    "plt.scatter(oversample_factor_list, execution_time)\n",
    "plt.show()"
   ]
  },
  {
   "cell_type": "code",
   "execution_count": 4,
   "metadata": {},
   "outputs": [],
   "source": [
    "one = np.load(os.path.join(array_dir, 'detector_1.npy'))\n",
    "three = np.load(os.path.join(array_dir, 'detector_3.npy'))"
   ]
  },
  {
   "cell_type": "code",
   "execution_count": 5,
   "metadata": {},
   "outputs": [
    {
     "data": {
      "image/png": "[encoded data removed]",
      "text/plain": [
       "<Figure size 640x480 with 2 Axes>"
      ]
     },
     "metadata": {},
     "output_type": "display_data"
    }
   ],
   "source": [
    "plot.plot(None, None, one, colorbar=True)"
   ]
  },
  {
   "cell_type": "code",
   "execution_count": 6,
   "metadata": {},
   "outputs": [
    {
     "data": {
      "image/png": "[encoded data removed]",
      "text/plain": [
       "<Figure size 640x480 with 2 Axes>"
      ]
     },
     "metadata": {},
     "output_type": "display_data"
    }
   ],
   "source": [
    "plot.plot(None, None, three, colorbar=True)"
   ]
  },
  {
   "cell_type": "code",
   "execution_count": 7,
   "metadata": {},
   "outputs": [
    {
     "data": {
      "image/png": "[encoded data removed]",
      "text/plain": [
       "<Figure size 640x480 with 2 Axes>"
      ]
     },
     "metadata": {},
     "output_type": "display_data"
    }
   ],
   "source": [
    "diagnostic_plot.residual(None, None, one, three)"
   ]
  }
 ],
 "metadata": {
  "kernelspec": {
   "display_name": "stips",
   "language": "python",
   "name": "python3"
  },
  "language_info": {
   "codemirror_mode": {
    "name": "ipython",
    "version": 3
   },
   "file_extension": ".py",
   "mimetype": "text/x-python",
   "name": "python",
   "nbconvert_exporter": "python",
   "pygments_lexer": "ipython3",
   "version": "3.10.6"
  }
 },
 "nbformat": 4,
 "nbformat_minor": 2
}
