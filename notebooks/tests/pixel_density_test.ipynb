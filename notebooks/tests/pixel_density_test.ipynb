{
 "cells": [
  {
   "cell_type": "code",
   "execution_count": 13,
   "metadata": {
    "ExecuteTime": {
     "end_time": "2023-11-16T20:28:51.427324100Z",
     "start_time": "2023-11-16T20:28:51.394451400Z"
    }
   },
   "outputs": [],
   "source": [
    "import os\n",
    "import sys\n",
    "\n",
    "path = os.getcwd()\n",
    "while os.path.basename(os.path.normpath(path)) != 'roman-pandeia':\n",
    "    path = os.path.dirname(path)\n",
    "repo_path = path\n",
    "if repo_path not in sys.path:\n",
    "    sys.path.append(repo_path)"
   ]
  },
  {
   "cell_type": "code",
   "execution_count": 14,
   "metadata": {
    "ExecuteTime": {
     "end_time": "2023-11-16T20:28:51.458324500Z",
     "start_time": "2023-11-16T20:28:51.401506700Z"
    }
   },
   "outputs": [],
   "source": [
    "import os\n",
    "\n",
    "from tqdm import tqdm\n",
    "import matplotlib\n",
    "import matplotlib.pyplot as plt\n",
    "\n",
    "matplotlib.rcParams['axes.grid'] = False\n",
    "matplotlib.rcParams['image.origin'] = 'lower'\n",
    "import numpy as np\n",
    "\n",
    "from pandeia.engine.perform_calculation import perform_calculation\n",
    "from pandeia.engine.calc_utils import build_default_calc, build_default_source\n",
    "\n",
    "import time\n",
    "\n",
    "from package.helpers import test_lens\n",
    "from package.plots import plot"
   ]
  },
  {
   "cell_type": "code",
   "execution_count": 15,
   "outputs": [],
   "source": [
    "oversample_factor_list = [1, 3]\n",
    "execution_time = []\n",
    "\n",
    "figure_dir = os.path.join(repo_path, 'figures', 'diagnostics', 'pixel_density_test')\n",
    "array_dir = os.path.join(repo_path, 'output', 'arrays', 'diagnostics', 'pixel_density_test')\n",
    "\n",
    "lens = test_lens.TestLens()"
   ],
   "metadata": {
    "collapsed": false,
    "ExecuteTime": {
     "end_time": "2023-11-16T20:28:51.458324500Z",
     "start_time": "2023-11-16T20:28:51.416647800Z"
    }
   }
  },
  {
   "cell_type": "code",
   "execution_count": 16,
   "metadata": {
    "ExecuteTime": {
     "end_time": "2023-11-16T20:28:52.126189Z",
     "start_time": "2023-11-16T20:28:51.431323700Z"
    }
   },
   "outputs": [
    {
     "name": "stderr",
     "output_type": "stream",
     "text": [
      "  0%|          | 0/2 [00:00<?, ?it/s]\n"
     ]
    },
    {
     "ename": "TypeError",
     "evalue": "expected str, bytes or os.PathLike object, not NoneType",
     "output_type": "error",
     "traceback": [
      "\u001B[1;31m---------------------------------------------------------------------------\u001B[0m",
      "\u001B[1;31mTypeError\u001B[0m                                 Traceback (most recent call last)",
      "Cell \u001B[1;32mIn[16], line 14\u001B[0m\n\u001B[0;32m     11\u001B[0m \u001B[38;5;66;03m# start timer\u001B[39;00m\n\u001B[0;32m     12\u001B[0m start \u001B[38;5;241m=\u001B[39m time\u001B[38;5;241m.\u001B[39mtime()\n\u001B[1;32m---> 14\u001B[0m calc \u001B[38;5;241m=\u001B[39m \u001B[43mbuild_default_calc\u001B[49m\u001B[43m(\u001B[49m\u001B[38;5;124;43m'\u001B[39;49m\u001B[38;5;124;43mroman\u001B[39;49m\u001B[38;5;124;43m'\u001B[39;49m\u001B[43m,\u001B[49m\u001B[43m \u001B[49m\u001B[38;5;124;43m'\u001B[39;49m\u001B[38;5;124;43mwfi\u001B[39;49m\u001B[38;5;124;43m'\u001B[39;49m\u001B[43m,\u001B[49m\u001B[43m \u001B[49m\u001B[38;5;124;43m'\u001B[39;49m\u001B[38;5;124;43mimaging\u001B[39;49m\u001B[38;5;124;43m'\u001B[39;49m\u001B[43m)\u001B[49m\n\u001B[0;32m     16\u001B[0m \u001B[38;5;66;03m# scene size settings\u001B[39;00m\n\u001B[0;32m     17\u001B[0m calc[\u001B[38;5;124m'\u001B[39m\u001B[38;5;124mconfiguration\u001B[39m\u001B[38;5;124m'\u001B[39m][\u001B[38;5;124m'\u001B[39m\u001B[38;5;124mdynamic_scene\u001B[39m\u001B[38;5;124m'\u001B[39m] \u001B[38;5;241m=\u001B[39m \u001B[38;5;28;01mTrue\u001B[39;00m\n",
      "File \u001B[1;32m~\\miniconda3\\envs\\pandeia\\Lib\\site-packages\\pandeia\\engine\\calc_utils.py:165\u001B[0m, in \u001B[0;36mbuild_default_calc\u001B[1;34m(telescope, instrument, mode, **kwargs)\u001B[0m\n\u001B[0;32m    162\u001B[0m calc \u001B[38;5;241m=\u001B[39m \u001B[38;5;28mdict\u001B[39m()\n\u001B[0;32m    163\u001B[0m ex_args \u001B[38;5;241m=\u001B[39m \u001B[38;5;28mdict\u001B[39m(\u001B[38;5;241m*\u001B[39m\u001B[38;5;241m*\u001B[39mkwargs)\n\u001B[1;32m--> 165\u001B[0m ins_config \u001B[38;5;241m=\u001B[39m \u001B[43mget_instrument_config\u001B[49m\u001B[43m(\u001B[49m\u001B[43mtelescope\u001B[49m\u001B[38;5;241;43m=\u001B[39;49m\u001B[43mtelescope\u001B[49m\u001B[43m,\u001B[49m\u001B[43m \u001B[49m\u001B[43minstrument\u001B[49m\u001B[38;5;241;43m=\u001B[39;49m\u001B[43minstrument\u001B[49m\u001B[43m)\u001B[49m\n\u001B[0;32m    166\u001B[0m \u001B[38;5;28;01mif\u001B[39;00m mode \u001B[38;5;129;01mis\u001B[39;00m \u001B[38;5;28;01mNone\u001B[39;00m \u001B[38;5;129;01mor\u001B[39;00m mode \u001B[38;5;129;01mnot\u001B[39;00m \u001B[38;5;129;01min\u001B[39;00m ins_config[\u001B[38;5;124m'\u001B[39m\u001B[38;5;124mmodes\u001B[39m\u001B[38;5;124m'\u001B[39m]:\n\u001B[0;32m    167\u001B[0m     mode \u001B[38;5;241m=\u001B[39m ins_config[\u001B[38;5;124m'\u001B[39m\u001B[38;5;124mdefaults\u001B[39m\u001B[38;5;124m'\u001B[39m][\u001B[38;5;124m'\u001B[39m\u001B[38;5;124mmode\u001B[39m\u001B[38;5;124m'\u001B[39m]\n",
      "File \u001B[1;32m~\\miniconda3\\envs\\pandeia\\Lib\\site-packages\\pandeia\\engine\\calc_utils.py:69\u001B[0m, in \u001B[0;36mget_instrument_config\u001B[1;34m(telescope, instrument)\u001B[0m\n\u001B[0;32m     52\u001B[0m \u001B[38;5;28;01mdef\u001B[39;00m \u001B[38;5;21mget_instrument_config\u001B[39m(telescope, instrument):\n\u001B[0;32m     53\u001B[0m \u001B[38;5;250m    \u001B[39m\u001B[38;5;124;03m\"\"\"\u001B[39;00m\n\u001B[0;32m     54\u001B[0m \u001B[38;5;124;03m    Get the instrument configuration.\u001B[39;00m\n\u001B[0;32m     55\u001B[0m \u001B[38;5;124;03m    Must have the pandeia_refdata env variable set and pointing to the reference data\u001B[39;00m\n\u001B[1;32m   (...)\u001B[0m\n\u001B[0;32m     67\u001B[0m \u001B[38;5;124;03m        Instrument configuration data\u001B[39;00m\n\u001B[0;32m     68\u001B[0m \u001B[38;5;124;03m    \"\"\"\u001B[39;00m\n\u001B[1;32m---> 69\u001B[0m     config_file \u001B[38;5;241m=\u001B[39m \u001B[43mos\u001B[49m\u001B[38;5;241;43m.\u001B[39;49m\u001B[43mpath\u001B[49m\u001B[38;5;241;43m.\u001B[39;49m\u001B[43mjoin\u001B[49m\u001B[43m(\u001B[49m\u001B[43mdefault_refdata_directory\u001B[49m\u001B[43m,\u001B[49m\u001B[43m \u001B[49m\u001B[43mtelescope\u001B[49m\u001B[43m,\u001B[49m\u001B[43m \u001B[49m\u001B[43minstrument\u001B[49m\u001B[43m,\u001B[49m\u001B[43m \u001B[49m\u001B[38;5;124;43m'\u001B[39;49m\u001B[38;5;124;43mconfig.json\u001B[39;49m\u001B[38;5;124;43m'\u001B[39;49m\u001B[43m)\u001B[49m\n\u001B[0;32m     70\u001B[0m     config \u001B[38;5;241m=\u001B[39m read_json(config_file, raise_except\u001B[38;5;241m=\u001B[39m\u001B[38;5;28;01mTrue\u001B[39;00m)\n\u001B[0;32m     71\u001B[0m     strip_meta(config)\n",
      "File \u001B[1;32m<frozen ntpath>:108\u001B[0m, in \u001B[0;36mjoin\u001B[1;34m(path, *paths)\u001B[0m\n",
      "\u001B[1;31mTypeError\u001B[0m: expected str, bytes or os.PathLike object, not NoneType"
     ]
    }
   ],
   "source": [
    "for oversample_factor in tqdm(oversample_factor_list):\n",
    "    side = 5\n",
    "    num_pix = 45 * oversample_factor\n",
    "\n",
    "    image = lens.get_array(num_pix, side)\n",
    "\n",
    "    plot.plot(filepath=os.path.join(figure_dir, f'model_{oversample_factor}.png'),\n",
    "              title=f'Lenstronomy model\\nOversampling factor {oversample_factor}', array=image)\n",
    "    np.save(os.path.join(array_dir, f'model_{oversample_factor}'), image)\n",
    "\n",
    "    # start timer\n",
    "    start = time.time()\n",
    "\n",
    "    calc = build_default_calc('roman', 'wfi', 'imaging')\n",
    "\n",
    "    # scene size settings\n",
    "    calc['configuration']['dynamic_scene'] = True\n",
    "    calc['configuration']['max_scene_size'] = 5\n",
    "\n",
    "    # change filter\n",
    "    calc['configuration']['instrument']['filter'] = 'f106'\n",
    "\n",
    "    # normalize (np.interp for now)\n",
    "    max = np.max(image)\n",
    "    min = np.min(image)\n",
    "    image = np.interp(image, (min, max), (0.00001, 0.001))\n",
    "\n",
    "    i = 0\n",
    "    print('Converting to point sources...')\n",
    "    for row_number, row in tqdm(enumerate(image)):\n",
    "        for item_number, item in enumerate(row):\n",
    "            if i != 0:\n",
    "                calc['scene'].append(build_default_source(geometry=\"point\"))\n",
    "            calc['scene'][i]['position']['x_offset'] = (item_number * (1 / 9) * (\n",
    "                        1 / oversample_factor)) + lens.ra_at_xy_0  # arcsec\n",
    "            calc['scene'][i]['position']['y_offset'] = (row_number * (1 / 9) * (\n",
    "                        1 / oversample_factor)) + lens.dec_at_xy_0  # arcsec\n",
    "            calc['scene'][i]['spectrum']['normalization']['norm_flux'] = item\n",
    "\n",
    "            i += 1\n",
    "    print('Point source conversion complete')\n",
    "\n",
    "    print('Performing Pandeia calculation...')\n",
    "    results = perform_calculation(calc)\n",
    "    print('Pandeia calculation complete')\n",
    "\n",
    "    # stop timer\n",
    "    stop = time.time()\n",
    "    execution_time.append(stop - start)\n",
    "\n",
    "    detector = results['2d']['detector']\n",
    "\n",
    "    # TODO TEMP! flip image\n",
    "    detector = np.flipud(detector)\n",
    "    # detector = np.fliplr(detector)\n",
    "\n",
    "    plt.imshow(detector)\n",
    "    plt.title('Pandeia simulation\\nOversampling factor ' + str(oversample_factor))\n",
    "    plt.show()\n",
    "    plt.savefig(os.path.join(figure_dir, f'pandeia_{oversample_factor}.png'))\n",
    "\n",
    "    # save this numpy array\n",
    "    np.save(os.path.join(array_dir, f'detector_{oversample_factor}'), detector)"
   ]
  },
  {
   "cell_type": "code",
   "execution_count": null,
   "metadata": {
    "ExecuteTime": {
     "end_time": "2023-11-16T20:28:52.140186300Z",
     "start_time": "2023-11-16T20:28:52.131189200Z"
    }
   },
   "outputs": [],
   "source": [
    "plt.scatter(oversample_factor_list, execution_time)\n",
    "plt.show()"
   ]
  }
 ],
 "metadata": {
  "kernelspec": {
   "display_name": "stips",
   "language": "python",
   "name": "python3"
  },
  "language_info": {
   "codemirror_mode": {
    "name": "ipython",
    "version": 3
   },
   "file_extension": ".py",
   "mimetype": "text/x-python",
   "name": "python",
   "nbconvert_exporter": "python",
   "pygments_lexer": "ipython3",
   "version": "3.10.6"
  }
 },
 "nbformat": 4,
 "nbformat_minor": 2
}
