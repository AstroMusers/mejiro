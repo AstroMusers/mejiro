{
 "cells": [
  {
   "cell_type": "code",
   "execution_count": 1,
   "metadata": {},
   "outputs": [],
   "source": [
    "from pprint import pprint\n",
    "import pandeia.engine\n",
    "from pandeia.engine.perform_calculation import perform_calculation\n",
    "from pandeia.engine.calc_utils import build_default_calc, build_default_source"
   ]
  },
  {
   "cell_type": "code",
   "execution_count": 2,
   "metadata": {},
   "outputs": [
    {
     "name": "stdout",
     "output_type": "stream",
     "text": [
      "Pandeia Engine version:  2024.9.1\n",
      "Pandeia RefData version:  3.1\n",
      "Synphot Data:  /data/bwedig/STScI/ref_data/grp/redcat/trds\n"
     ]
    }
   ],
   "source": [
    "pandeia.engine.pandeia_version()"
   ]
  },
  {
   "cell_type": "code",
   "execution_count": 3,
   "metadata": {},
   "outputs": [
    {
     "name": "stdout",
     "output_type": "stream",
     "text": [
      "{'background': 'minzodi',\n",
      " 'background_level': 'benchmark',\n",
      " 'calculation': {'effects': {'saturation': None},\n",
      "                 'noise': {'crs': None,\n",
      "                           'dark': None,\n",
      "                           'excess': None,\n",
      "                           'ffnoise': None,\n",
      "                           'readnoise': None,\n",
      "                           'scatter': None}},\n",
      " 'configuration': {'detector': {'ma_table_name': 'hlwas_imaging',\n",
      "                                'nexp': 1,\n",
      "                                'nresultants': 5,\n",
      "                                'subarray': 'full'},\n",
      "                   'instrument': {'aperture': 'imaging',\n",
      "                                  'disperser': None,\n",
      "                                  'filter': 'f087',\n",
      "                                  'instrument': 'wfi',\n",
      "                                  'mode': 'imaging'}},\n",
      " 'scene': [{'position': {'orientation': 0.0, 'x_offset': 0.0, 'y_offset': 0.0},\n",
      "            'shape': {'geometry': 'point'},\n",
      "            'spectrum': {'extinction': {'bandpass': 'j',\n",
      "                                        'law': 'mw_rv_31',\n",
      "                                        'unit': 'mag',\n",
      "                                        'value': 0.0},\n",
      "                         'extinction_first': True,\n",
      "                         'lines': [],\n",
      "                         'name': 'generic source',\n",
      "                         'normalization': {'norm_flux': 0.001,\n",
      "                                           'norm_fluxunit': 'mjy',\n",
      "                                           'norm_wave': 2.0,\n",
      "                                           'norm_waveunit': 'microns',\n",
      "                                           'type': 'at_lambda'},\n",
      "                         'redshift': 0.0,\n",
      "                         'sed': {'sed_type': 'flat',\n",
      "                                 'unit': 'fnu',\n",
      "                                 'z': 0.0}}}],\n",
      " 'strategy': {'aperture_size': 0.2,\n",
      "              'background_subtraction': True,\n",
      "              'display_string': 'Imaging Aperture Photometry',\n",
      "              'is_aperture_ee': False,\n",
      "              'method': 'imagingapphot',\n",
      "              'sky_annulus': [0.4, 0.6],\n",
      "              'target_source': '1',\n",
      "              'target_type': 'coords',\n",
      "              'target_xy': [0.0, 0.0],\n",
      "              'units': 'arcsec'}}\n"
     ]
    }
   ],
   "source": [
    "calc = build_default_calc('roman','wfi','imaging')\n",
    "pprint(calc)"
   ]
  },
  {
   "cell_type": "code",
   "execution_count": 4,
   "metadata": {},
   "outputs": [],
   "source": [
    "# pprint(build_default_source(geometry='point', telescope='roman'))"
   ]
  },
  {
   "cell_type": "code",
   "execution_count": 5,
   "metadata": {},
   "outputs": [],
   "source": [
    "calc['calculation']['noise']['crs'] = False"
   ]
  },
  {
   "cell_type": "code",
   "execution_count": 6,
   "metadata": {},
   "outputs": [],
   "source": [
    "report = perform_calculation(calc)"
   ]
  },
  {
   "cell_type": "code",
   "execution_count": 7,
   "metadata": {},
   "outputs": [
    {
     "name": "stdout",
     "output_type": "stream",
     "text": [
      "{'calc_type': 'image',\n",
      " 'exposure_specification': {'all_dithers_time': 97.32,\n",
      "                            'duty_cycle': 0.9683518290176737,\n",
      "                            'exposure_time': 97.32,\n",
      "                            'exposures': 1,\n",
      "                            'ma_table_name': 'hlwas_imaging',\n",
      "                            'max_resultants': 8,\n",
      "                            'max_samples': 30,\n",
      "                            'max_total_samples': 46,\n",
      "                            'measurement_time': 82.08,\n",
      "                            'min_resultants': 1,\n",
      "                            'nexp': 1,\n",
      "                            'nramps': 1,\n",
      "                            'nreference': 1,\n",
      "                            'nreset': 1,\n",
      "                            'nresultants': 5,\n",
      "                            'readout_pattern': [[1, 2, 3, 4, 5, 6],\n",
      "                                                [7, 8, 9, 10, 11, 12],\n",
      "                                                [13, 14, 15, 16, 17, 18],\n",
      "                                                [19, 20, 21, 22, 23, 24],\n",
      "                                                [25, 26, 27, 28, 29, 30]],\n",
      "                            'reference_downlink': False,\n",
      "                            'reset_downlink': False,\n",
      "                            'saturation_time': 94.24,\n",
      "                            'subarray': 'full',\n",
      "                            'tframe': 3.04,\n",
      "                            'total_exposure_time': 97.32,\n",
      "                            'total_integrations': 1,\n",
      "                            'treset': 3.08,\n",
      "                            'webapp': True}}\n"
     ]
    }
   ],
   "source": [
    "pprint(report['information'])"
   ]
  }
 ],
 "metadata": {
  "kernelspec": {
   "display_name": "mejiro",
   "language": "python",
   "name": "python3"
  },
  "language_info": {
   "codemirror_mode": {
    "name": "ipython",
    "version": 3
   },
   "file_extension": ".py",
   "mimetype": "text/x-python",
   "name": "python",
   "nbconvert_exporter": "python",
   "pygments_lexer": "ipython3",
   "version": "3.10.6"
  }
 },
 "nbformat": 4,
 "nbformat_minor": 2
}
