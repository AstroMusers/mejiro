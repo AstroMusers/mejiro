{
 "cells": [
  {
   "cell_type": "code",
   "execution_count": 1,
   "metadata": {},
   "outputs": [],
   "source": [
    "import pandeia.engine\n",
    "from pandeia.engine.calc_utils import build_default_calc, build_default_source\n",
    "from pandeia.engine.perform_calculation import perform_calculation\n",
    "from pprint import pprint"
   ]
  },
  {
   "cell_type": "code",
   "execution_count": 2,
   "metadata": {},
   "outputs": [
    {
     "name": "stdout",
     "output_type": "stream",
     "text": [
      "Pandeia Engine version:  3.1\n",
      "Pandeia RefData version:  3.1\n",
      "Synphot Data:  /data/bwedig/STScI/ref_data/grp/redcat/trds\n"
     ]
    }
   ],
   "source": [
    "pandeia.engine.pandeia_version()"
   ]
  },
  {
   "cell_type": "code",
   "execution_count": 3,
   "metadata": {},
   "outputs": [],
   "source": [
    "calc = build_default_calc('roman', 'wfi', 'imaging')\n",
    "# pprint(calc)"
   ]
  },
  {
   "cell_type": "code",
   "execution_count": 4,
   "metadata": {},
   "outputs": [],
   "source": [
    "calc['calculation']['noise']['crs'] = False"
   ]
  },
  {
   "cell_type": "code",
   "execution_count": 5,
   "metadata": {},
   "outputs": [
    {
     "ename": "IndexError",
     "evalue": "list index out of range",
     "output_type": "error",
     "traceback": [
      "\u001B[0;31m---------------------------------------------------------------------------\u001B[0m",
      "\u001B[0;31mIndexError\u001B[0m                                Traceback (most recent call last)",
      "Input \u001B[0;32mIn [5]\u001B[0m, in \u001B[0;36m<cell line: 1>\u001B[0;34m()\u001B[0m\n\u001B[0;32m----> 1\u001B[0m report \u001B[38;5;241m=\u001B[39m \u001B[43mperform_calculation\u001B[49m\u001B[43m(\u001B[49m\u001B[43mcalc\u001B[49m\u001B[43m)\u001B[49m\n",
      "File \u001B[0;32m/data/bwedig/.conda/envs/mejiro/lib/python3.10/site-packages/pandeia/engine/perform_calculation.py:35\u001B[0m, in \u001B[0;36mperform_calculation\u001B[0;34m(calc_input, dict_report, webapp, validate)\u001B[0m\n\u001B[1;32m     33\u001B[0m snr \u001B[38;5;241m=\u001B[39m calc_input[\u001B[38;5;124m'\u001B[39m\u001B[38;5;124mconfiguration\u001B[39m\u001B[38;5;124m'\u001B[39m][\u001B[38;5;124m'\u001B[39m\u001B[38;5;124mdetector\u001B[39m\u001B[38;5;124m'\u001B[39m]\u001B[38;5;241m.\u001B[39mget(\u001B[38;5;124m'\u001B[39m\u001B[38;5;124mcalculate_snr\u001B[39m\u001B[38;5;124m'\u001B[39m, \u001B[38;5;28;01mTrue\u001B[39;00m)\n\u001B[1;32m     34\u001B[0m \u001B[38;5;28;01mif\u001B[39;00m snr:\n\u001B[0;32m---> 35\u001B[0m     report \u001B[38;5;241m=\u001B[39m \u001B[43mcalculate_sn\u001B[49m\u001B[43m(\u001B[49m\u001B[43mcalc_input\u001B[49m\u001B[43m,\u001B[49m\u001B[43m \u001B[49m\u001B[43mwebapp\u001B[49m\u001B[38;5;241;43m=\u001B[39;49m\u001B[43mwebapp\u001B[49m\u001B[43m,\u001B[49m\u001B[43m \u001B[49m\u001B[43mvalidate\u001B[49m\u001B[38;5;241;43m=\u001B[39;49m\u001B[43mvalidate\u001B[49m\u001B[43m)\u001B[49m\n\u001B[1;32m     36\u001B[0m \u001B[38;5;28;01melse\u001B[39;00m:\n\u001B[1;32m     37\u001B[0m     report \u001B[38;5;241m=\u001B[39m calculate_exposure_time(calc_input, webapp\u001B[38;5;241m=\u001B[39mwebapp, validate\u001B[38;5;241m=\u001B[39mvalidate)\n",
      "File \u001B[0;32m/data/bwedig/.conda/envs/mejiro/lib/python3.10/site-packages/pandeia/engine/etc3D.py:229\u001B[0m, in \u001B[0;36mcalculate_sn\u001B[0;34m(calc_input, webapp, validate)\u001B[0m\n\u001B[1;32m    226\u001B[0m     scene \u001B[38;5;241m=\u001B[39m Scene(instrument\u001B[38;5;241m.\u001B[39mtelescope\u001B[38;5;241m.\u001B[39mtel_name, config\u001B[38;5;241m=\u001B[39mscene_configuration, webapp\u001B[38;5;241m=\u001B[39mwebapp)\n\u001B[1;32m    227\u001B[0m     warnings\u001B[38;5;241m.\u001B[39mupdate(scene\u001B[38;5;241m.\u001B[39mwarnings)\n\u001B[0;32m--> 229\u001B[0m my_detector_signal_list, my_detector_noise_list, my_detector_saturation_list, obs \u001B[38;5;241m=\u001B[39m \u001B[43mmake_observation\u001B[49m\u001B[43m(\u001B[49m\u001B[43mcalc_config\u001B[49m\u001B[43m,\u001B[49m\u001B[43m \u001B[49m\u001B[43minstrument\u001B[49m\u001B[43m,\u001B[49m\u001B[43m \u001B[49m\n\u001B[1;32m    230\u001B[0m \u001B[43m                                                                   \u001B[49m\u001B[43mstrategy\u001B[49m\u001B[43m,\u001B[49m\u001B[43m \u001B[49m\u001B[43mscene\u001B[49m\u001B[43m,\u001B[49m\u001B[43m \u001B[49m\u001B[43mbackground\u001B[49m\u001B[43m,\u001B[49m\u001B[43m \u001B[49m\u001B[43mbackground_level\u001B[49m\u001B[43m,\u001B[49m\u001B[43m \u001B[49m\u001B[43mwebapp\u001B[49m\u001B[38;5;241;43m=\u001B[39;49m\u001B[43mwebapp\u001B[49m\u001B[43m,\u001B[49m\u001B[43m \u001B[49m\u001B[43mvalidate\u001B[49m\u001B[43m \u001B[49m\u001B[38;5;241;43m=\u001B[39;49m\u001B[43m \u001B[49m\u001B[43mvalidate\u001B[49m\u001B[43m)\u001B[49m\n\u001B[1;32m    231\u001B[0m \u001B[38;5;28;01mif\u001B[39;00m strategy\u001B[38;5;241m.\u001B[39mmethod\u001B[38;5;241m==\u001B[39m\u001B[38;5;124m\"\u001B[39m\u001B[38;5;124mtaspec\u001B[39m\u001B[38;5;124m\"\u001B[39m:\n\u001B[1;32m    232\u001B[0m     \u001B[38;5;66;03m# The TASpec strategy uses one DetectorSignal and DetectorNoise, but \u001B[39;00m\n\u001B[1;32m    233\u001B[0m     \u001B[38;5;66;03m# multiple extraction boxes. We need to make copies of the DetectorSignals.\u001B[39;00m\n\u001B[1;32m    234\u001B[0m     my_detector_signal_list \u001B[38;5;241m*\u001B[39m\u001B[38;5;241m=\u001B[39m strategy\u001B[38;5;241m.\u001B[39mnum_segments\n",
      "File \u001B[0;32m/data/bwedig/.conda/envs/mejiro/lib/python3.10/site-packages/pandeia/engine/etc3D.py:137\u001B[0m, in \u001B[0;36mmake_observation\u001B[0;34m(calc_config, instrument, strategy, scene, background, background_level, webapp, validate)\u001B[0m\n\u001B[1;32m    134\u001B[0m \u001B[38;5;28;01melse\u001B[39;00m:\n\u001B[1;32m    135\u001B[0m     my_detector_signal \u001B[38;5;241m=\u001B[39m DetectorSignal(o, calc_config\u001B[38;5;241m=\u001B[39mcalc_config, webapp\u001B[38;5;241m=\u001B[39mwebapp, validate\u001B[38;5;241m=\u001B[39mvalidate, order\u001B[38;5;241m=\u001B[39m\u001B[38;5;28;01mNone\u001B[39;00m)\n\u001B[0;32m--> 137\u001B[0m my_detector_noise \u001B[38;5;241m=\u001B[39m \u001B[43mDetectorNoise\u001B[49m\u001B[43m(\u001B[49m\u001B[43mmy_detector_signal\u001B[49m\u001B[43m,\u001B[49m\u001B[43m \u001B[49m\u001B[43mo\u001B[49m\u001B[43m,\u001B[49m\u001B[43m \u001B[49m\u001B[43mvalidate\u001B[49m\u001B[38;5;241;43m=\u001B[39;49m\u001B[43mvalidate\u001B[49m\u001B[43m)\u001B[49m\n\u001B[1;32m    139\u001B[0m \u001B[38;5;66;03m# Every dither has a saturation map\u001B[39;00m\n\u001B[1;32m    140\u001B[0m my_detector_saturation \u001B[38;5;241m=\u001B[39m my_detector_signal\u001B[38;5;241m.\u001B[39mget_saturation_mask()\n",
      "File \u001B[0;32m/data/bwedig/.conda/envs/mejiro/lib/python3.10/site-packages/pandeia/engine/noise.py:80\u001B[0m, in \u001B[0;36mDetectorNoise.__init__\u001B[0;34m(self, obs_signal, observation, validate)\u001B[0m\n\u001B[1;32m     78\u001B[0m     \u001B[38;5;28mself\u001B[39m\u001B[38;5;241m.\u001B[39mvar_pix_list, \u001B[38;5;28mself\u001B[39m\u001B[38;5;241m.\u001B[39mstdev_pix_list, \u001B[38;5;28mself\u001B[39m\u001B[38;5;241m.\u001B[39mrn_var_pix_list, \u001B[38;5;28mself\u001B[39m\u001B[38;5;241m.\u001B[39mff_pix_list \u001B[38;5;241m=\u001B[39m \u001B[38;5;28mself\u001B[39m\u001B[38;5;241m.\u001B[39mbasic_source_noise(obs_signal)\n\u001B[1;32m     79\u001B[0m \u001B[38;5;28;01melse\u001B[39;00m:\n\u001B[0;32m---> 80\u001B[0m     \u001B[38;5;28mself\u001B[39m\u001B[38;5;241m.\u001B[39mvar_pix_list, \u001B[38;5;28mself\u001B[39m\u001B[38;5;241m.\u001B[39mstdev_pix_list, \u001B[38;5;28mself\u001B[39m\u001B[38;5;241m.\u001B[39mrn_var_pix_list \u001B[38;5;241m=\u001B[39m \u001B[38;5;28;43mself\u001B[39;49m\u001B[38;5;241;43m.\u001B[39;49m\u001B[43mbasic_source_noise\u001B[49m\u001B[43m(\u001B[49m\u001B[43mobs_signal\u001B[49m\u001B[43m)\u001B[49m\n\u001B[1;32m     82\u001B[0m \u001B[38;5;28;01mif\u001B[39;00m \u001B[38;5;28mself\u001B[39m\u001B[38;5;241m.\u001B[39mvalidate:\n\u001B[1;32m     83\u001B[0m     \u001B[38;5;28mself\u001B[39m\u001B[38;5;241m.\u001B[39mvar_pix, \u001B[38;5;28mself\u001B[39m\u001B[38;5;241m.\u001B[39mstdev_pix, \u001B[38;5;28mself\u001B[39m\u001B[38;5;241m.\u001B[39mvar_rn_pix, \u001B[38;5;28mself\u001B[39m\u001B[38;5;241m.\u001B[39mff_pix \u001B[38;5;241m=\u001B[39m \u001B[38;5;28mself\u001B[39m\u001B[38;5;241m.\u001B[39mon_detector()\n",
      "File \u001B[0;32m/data/bwedig/.conda/envs/mejiro/lib/python3.10/site-packages/pandeia/engine/noise.py:154\u001B[0m, in \u001B[0;36mDetectorNoise.basic_source_noise\u001B[0;34m(self, obs_signal)\u001B[0m\n\u001B[1;32m    151\u001B[0m ffnoise_pix_list \u001B[38;5;241m=\u001B[39m []\n\u001B[1;32m    153\u001B[0m \u001B[38;5;28;01mfor\u001B[39;00m rate_plus_bg \u001B[38;5;129;01min\u001B[39;00m obs_signal\u001B[38;5;241m.\u001B[39mrate_plus_bg_list:\n\u001B[0;32m--> 154\u001B[0m     slope_var_pix, slope_rn_var_pix \u001B[38;5;241m=\u001B[39m \u001B[38;5;28;43mself\u001B[39;49m\u001B[38;5;241;43m.\u001B[39;49m\u001B[43mget_slope_variance\u001B[49m\u001B[43m(\u001B[49m\u001B[43mrate_plus_bg\u001B[49m\u001B[43m)\u001B[49m\n\u001B[1;32m    155\u001B[0m     rate_per_pix \u001B[38;5;241m=\u001B[39m rate_plus_bg[\u001B[38;5;124m'\u001B[39m\u001B[38;5;124mfp_pix\u001B[39m\u001B[38;5;124m'\u001B[39m]\n\u001B[1;32m    156\u001B[0m \u001B[38;5;250m    \u001B[39m\u001B[38;5;124;03m\"\"\"\u001B[39;00m\n\u001B[1;32m    157\u001B[0m \u001B[38;5;124;03m    The flat field error is a division by ~1 (the flat field is normalized), with\u001B[39;00m\n\u001B[1;32m    158\u001B[0m \u001B[38;5;124;03m    a variance of 1/ff_electrons. Note that the value of the flat field response\u001B[39;00m\n\u001B[0;32m   (...)\u001B[0m\n\u001B[1;32m    168\u001B[0m \u001B[38;5;124;03m    s^2(R/FF) = s^2(R) + R^2/FF_electrons\u001B[39;00m\n\u001B[1;32m    169\u001B[0m \u001B[38;5;124;03m    \"\"\"\u001B[39;00m\n",
      "File \u001B[0;32m/data/bwedig/.conda/envs/mejiro/lib/python3.10/site-packages/pandeia/engine/noise.py:234\u001B[0m, in \u001B[0;36mDetectorNoise.get_slope_variance\u001B[0;34m(self, rate)\u001B[0m\n\u001B[1;32m    230\u001B[0m \u001B[38;5;28;01mif\u001B[39;00m (\u001B[38;5;28mself\u001B[39m\u001B[38;5;241m.\u001B[39mcalculation_config\u001B[38;5;241m.\u001B[39mnoise[\u001B[38;5;124m'\u001B[39m\u001B[38;5;124mcrs\u001B[39m\u001B[38;5;124m'\u001B[39m] \u001B[38;5;28;01mif\u001B[39;00m \u001B[38;5;28mself\u001B[39m\u001B[38;5;241m.\u001B[39mcalculation_config\u001B[38;5;241m.\u001B[39mnoise[\u001B[38;5;124m'\u001B[39m\u001B[38;5;124mcrs\u001B[39m\u001B[38;5;124m'\u001B[39m] \u001B[38;5;129;01mis\u001B[39;00m \u001B[38;5;129;01mnot\u001B[39;00m \u001B[38;5;28;01mNone\u001B[39;00m \u001B[38;5;28;01melse\u001B[39;00m \u001B[38;5;28mself\u001B[39m\u001B[38;5;241m.\u001B[39mthe_detector\u001B[38;5;241m.\u001B[39mcrs):\n\u001B[1;32m    231\u001B[0m     unsat_ngroups \u001B[38;5;241m=\u001B[39m np\u001B[38;5;241m.\u001B[39mvectorize(\u001B[38;5;28mself\u001B[39m\u001B[38;5;241m.\u001B[39mthe_detector\u001B[38;5;241m.\u001B[39mcalc_cr_loss)(unsat_ngroups, \u001B[38;5;28mself\u001B[39m\u001B[38;5;241m.\u001B[39mpix_cr_rate)\n\u001B[0;32m--> 234\u001B[0m slope_var, slope_rn_var \u001B[38;5;241m=\u001B[39m \u001B[38;5;28;43mself\u001B[39;49m\u001B[38;5;241;43m.\u001B[39;49m\u001B[43mthe_detector\u001B[49m\u001B[38;5;241;43m.\u001B[39;49m\u001B[43mget_slope_variance\u001B[49m\u001B[43m(\u001B[49m\u001B[43mrate\u001B[49m\u001B[43m,\u001B[49m\u001B[43m \u001B[49m\u001B[43munsat_ngroups\u001B[49m\u001B[43m)\u001B[49m\n\u001B[1;32m    236\u001B[0m \u001B[38;5;28;01mreturn\u001B[39;00m slope_var, slope_rn_var\n",
      "File \u001B[0;32m/data/bwedig/.conda/envs/mejiro/lib/python3.10/site-packages/pandeia/engine/detector.py:839\u001B[0m, in \u001B[0;36mDetector_UnevenMultiAccum.get_slope_variance\u001B[0;34m(self, rate, unsat)\u001B[0m\n\u001B[1;32m    838\u001B[0m \u001B[38;5;28;01mdef\u001B[39;00m \u001B[38;5;21mget_slope_variance\u001B[39m(\u001B[38;5;28mself\u001B[39m, rate, unsat):\n\u001B[0;32m--> 839\u001B[0m     slope_var, slope_rn_var \u001B[38;5;241m=\u001B[39m \u001B[38;5;28;43mself\u001B[39;49m\u001B[38;5;241;43m.\u001B[39;49m\u001B[43mslope_variance\u001B[49m\u001B[43m(\u001B[49m\u001B[43mrate\u001B[49m\u001B[43m,\u001B[49m\u001B[43m \u001B[49m\u001B[43munsat\u001B[49m\u001B[43m)\u001B[49m\n\u001B[1;32m    841\u001B[0m     \u001B[38;5;28;01mreturn\u001B[39;00m slope_var, slope_rn_var\n",
      "File \u001B[0;32m/data/bwedig/.conda/envs/mejiro/lib/python3.10/site-packages/pandeia/engine/detector.py:636\u001B[0m, in \u001B[0;36mDetector_UnevenMultiAccum.slope_variance\u001B[0;34m(self, rate, unsat_nframes, weights)\u001B[0m\n\u001B[1;32m    631\u001B[0m ntotal \u001B[38;5;241m=\u001B[39m np\u001B[38;5;241m.\u001B[39masarray(np\u001B[38;5;241m.\u001B[39mtile(np\u001B[38;5;241m.\u001B[39mreshape(\u001B[38;5;28mself\u001B[39m\u001B[38;5;241m.\u001B[39mexposure_spec\u001B[38;5;241m.\u001B[39mntotal, (\u001B[38;5;241m-\u001B[39m\u001B[38;5;241m1\u001B[39m, \u001B[38;5;241m1\u001B[39m, \u001B[38;5;241m1\u001B[39m)), unsat_nresultants\u001B[38;5;241m.\u001B[39mshape), dtype\u001B[38;5;241m=\u001B[39m\u001B[38;5;28mfloat\u001B[39m)\n\u001B[1;32m    633\u001B[0m \u001B[38;5;66;03m# This portion of the code is not from Casertano 2022 or RomanISIM (which handles cosmic rays by explicitly fitting partial ramps \u001B[39;00m\n\u001B[1;32m    634\u001B[0m \u001B[38;5;66;03m# with custom Cython code)\u001B[39;00m\n\u001B[1;32m    635\u001B[0m \u001B[38;5;66;03m# Handle cosmic rays - they should not wipe out entire resultants, just make each one a little shorter.\u001B[39;00m\n\u001B[0;32m--> 636\u001B[0m excess \u001B[38;5;241m=\u001B[39m \u001B[43mnp\u001B[49m\u001B[38;5;241;43m.\u001B[39;49m\u001B[43mvectorize\u001B[49m\u001B[43m(\u001B[49m\u001B[38;5;28;43;01mlambda\u001B[39;49;00m\u001B[43m \u001B[49m\u001B[43ma\u001B[49m\u001B[43m,\u001B[49m\u001B[43m \u001B[49m\u001B[43mb\u001B[49m\u001B[43m:\u001B[49m\u001B[43m \u001B[49m\u001B[38;5;28;43mself\u001B[39;49m\u001B[38;5;241;43m.\u001B[39;49m\u001B[43mexposure_spec\u001B[49m\u001B[38;5;241;43m.\u001B[39;49m\u001B[43mlastframe\u001B[49m\u001B[43m[\u001B[49m\u001B[43ma\u001B[49m\u001B[43m]\u001B[49m\u001B[43m \u001B[49m\u001B[38;5;241;43m-\u001B[39;49m\u001B[43m \u001B[49m\u001B[43mb\u001B[49m\u001B[43m)\u001B[49m\u001B[43m(\u001B[49m\u001B[43munsat_nresultants\u001B[49m\u001B[43m,\u001B[49m\u001B[43m \u001B[49m\u001B[43munsat_nframes\u001B[49m\u001B[43m)\u001B[49m\u001B[38;5;241m/\u001B[39m\u001B[38;5;28mself\u001B[39m\u001B[38;5;241m.\u001B[39mexposure_spec\u001B[38;5;241m.\u001B[39mnresultants\n\u001B[1;32m    637\u001B[0m \u001B[38;5;28;01mif\u001B[39;00m excess\u001B[38;5;241m.\u001B[39many() \u001B[38;5;241m>\u001B[39m \u001B[38;5;241m0\u001B[39m:\n\u001B[1;32m    638\u001B[0m     unsat_nresultants \u001B[38;5;241m+\u001B[39m\u001B[38;5;241m=\u001B[39m \u001B[38;5;241m1\u001B[39m\n",
      "File \u001B[0;32m/data/bwedig/.conda/envs/mejiro/lib/python3.10/site-packages/numpy/lib/function_base.py:2328\u001B[0m, in \u001B[0;36mvectorize.__call__\u001B[0;34m(self, *args, **kwargs)\u001B[0m\n\u001B[1;32m   2325\u001B[0m     vargs \u001B[38;5;241m=\u001B[39m [args[_i] \u001B[38;5;28;01mfor\u001B[39;00m _i \u001B[38;5;129;01min\u001B[39;00m inds]\n\u001B[1;32m   2326\u001B[0m     vargs\u001B[38;5;241m.\u001B[39mextend([kwargs[_n] \u001B[38;5;28;01mfor\u001B[39;00m _n \u001B[38;5;129;01min\u001B[39;00m names])\n\u001B[0;32m-> 2328\u001B[0m \u001B[38;5;28;01mreturn\u001B[39;00m \u001B[38;5;28;43mself\u001B[39;49m\u001B[38;5;241;43m.\u001B[39;49m\u001B[43m_vectorize_call\u001B[49m\u001B[43m(\u001B[49m\u001B[43mfunc\u001B[49m\u001B[38;5;241;43m=\u001B[39;49m\u001B[43mfunc\u001B[49m\u001B[43m,\u001B[49m\u001B[43m \u001B[49m\u001B[43margs\u001B[49m\u001B[38;5;241;43m=\u001B[39;49m\u001B[43mvargs\u001B[49m\u001B[43m)\u001B[49m\n",
      "File \u001B[0;32m/data/bwedig/.conda/envs/mejiro/lib/python3.10/site-packages/numpy/lib/function_base.py:2406\u001B[0m, in \u001B[0;36mvectorize._vectorize_call\u001B[0;34m(self, func, args)\u001B[0m\n\u001B[1;32m   2404\u001B[0m     res \u001B[38;5;241m=\u001B[39m func()\n\u001B[1;32m   2405\u001B[0m \u001B[38;5;28;01melse\u001B[39;00m:\n\u001B[0;32m-> 2406\u001B[0m     ufunc, otypes \u001B[38;5;241m=\u001B[39m \u001B[38;5;28;43mself\u001B[39;49m\u001B[38;5;241;43m.\u001B[39;49m\u001B[43m_get_ufunc_and_otypes\u001B[49m\u001B[43m(\u001B[49m\u001B[43mfunc\u001B[49m\u001B[38;5;241;43m=\u001B[39;49m\u001B[43mfunc\u001B[49m\u001B[43m,\u001B[49m\u001B[43m \u001B[49m\u001B[43margs\u001B[49m\u001B[38;5;241;43m=\u001B[39;49m\u001B[43margs\u001B[49m\u001B[43m)\u001B[49m\n\u001B[1;32m   2408\u001B[0m     \u001B[38;5;66;03m# Convert args to object arrays first\u001B[39;00m\n\u001B[1;32m   2409\u001B[0m     inputs \u001B[38;5;241m=\u001B[39m [asanyarray(a, dtype\u001B[38;5;241m=\u001B[39m\u001B[38;5;28mobject\u001B[39m) \u001B[38;5;28;01mfor\u001B[39;00m a \u001B[38;5;129;01min\u001B[39;00m args]\n",
      "File \u001B[0;32m/data/bwedig/.conda/envs/mejiro/lib/python3.10/site-packages/numpy/lib/function_base.py:2366\u001B[0m, in \u001B[0;36mvectorize._get_ufunc_and_otypes\u001B[0;34m(self, func, args)\u001B[0m\n\u001B[1;32m   2362\u001B[0m     \u001B[38;5;28;01mraise\u001B[39;00m \u001B[38;5;167;01mValueError\u001B[39;00m(\u001B[38;5;124m'\u001B[39m\u001B[38;5;124mcannot call `vectorize` on size 0 inputs \u001B[39m\u001B[38;5;124m'\u001B[39m\n\u001B[1;32m   2363\u001B[0m                      \u001B[38;5;124m'\u001B[39m\u001B[38;5;124munless `otypes` is set\u001B[39m\u001B[38;5;124m'\u001B[39m)\n\u001B[1;32m   2365\u001B[0m inputs \u001B[38;5;241m=\u001B[39m [arg\u001B[38;5;241m.\u001B[39mflat[\u001B[38;5;241m0\u001B[39m] \u001B[38;5;28;01mfor\u001B[39;00m arg \u001B[38;5;129;01min\u001B[39;00m args]\n\u001B[0;32m-> 2366\u001B[0m outputs \u001B[38;5;241m=\u001B[39m \u001B[43mfunc\u001B[49m\u001B[43m(\u001B[49m\u001B[38;5;241;43m*\u001B[39;49m\u001B[43minputs\u001B[49m\u001B[43m)\u001B[49m\n\u001B[1;32m   2368\u001B[0m \u001B[38;5;66;03m# Performance note: profiling indicates that -- for simple\u001B[39;00m\n\u001B[1;32m   2369\u001B[0m \u001B[38;5;66;03m# functions at least -- this wrapping can almost double the\u001B[39;00m\n\u001B[1;32m   2370\u001B[0m \u001B[38;5;66;03m# execution time.\u001B[39;00m\n\u001B[1;32m   2371\u001B[0m \u001B[38;5;66;03m# Hence we make it optional.\u001B[39;00m\n\u001B[1;32m   2372\u001B[0m \u001B[38;5;28;01mif\u001B[39;00m \u001B[38;5;28mself\u001B[39m\u001B[38;5;241m.\u001B[39mcache:\n",
      "File \u001B[0;32m/data/bwedig/.conda/envs/mejiro/lib/python3.10/site-packages/pandeia/engine/detector.py:636\u001B[0m, in \u001B[0;36mDetector_UnevenMultiAccum.slope_variance.<locals>.<lambda>\u001B[0;34m(a, b)\u001B[0m\n\u001B[1;32m    631\u001B[0m ntotal \u001B[38;5;241m=\u001B[39m np\u001B[38;5;241m.\u001B[39masarray(np\u001B[38;5;241m.\u001B[39mtile(np\u001B[38;5;241m.\u001B[39mreshape(\u001B[38;5;28mself\u001B[39m\u001B[38;5;241m.\u001B[39mexposure_spec\u001B[38;5;241m.\u001B[39mntotal, (\u001B[38;5;241m-\u001B[39m\u001B[38;5;241m1\u001B[39m, \u001B[38;5;241m1\u001B[39m, \u001B[38;5;241m1\u001B[39m)), unsat_nresultants\u001B[38;5;241m.\u001B[39mshape), dtype\u001B[38;5;241m=\u001B[39m\u001B[38;5;28mfloat\u001B[39m)\n\u001B[1;32m    633\u001B[0m \u001B[38;5;66;03m# This portion of the code is not from Casertano 2022 or RomanISIM (which handles cosmic rays by explicitly fitting partial ramps \u001B[39;00m\n\u001B[1;32m    634\u001B[0m \u001B[38;5;66;03m# with custom Cython code)\u001B[39;00m\n\u001B[1;32m    635\u001B[0m \u001B[38;5;66;03m# Handle cosmic rays - they should not wipe out entire resultants, just make each one a little shorter.\u001B[39;00m\n\u001B[0;32m--> 636\u001B[0m excess \u001B[38;5;241m=\u001B[39m np\u001B[38;5;241m.\u001B[39mvectorize(\u001B[38;5;28;01mlambda\u001B[39;00m a, b: \u001B[38;5;28;43mself\u001B[39;49m\u001B[38;5;241;43m.\u001B[39;49m\u001B[43mexposure_spec\u001B[49m\u001B[38;5;241;43m.\u001B[39;49m\u001B[43mlastframe\u001B[49m\u001B[43m[\u001B[49m\u001B[43ma\u001B[49m\u001B[43m]\u001B[49m \u001B[38;5;241m-\u001B[39m b)(unsat_nresultants, unsat_nframes)\u001B[38;5;241m/\u001B[39m\u001B[38;5;28mself\u001B[39m\u001B[38;5;241m.\u001B[39mexposure_spec\u001B[38;5;241m.\u001B[39mnresultants\n\u001B[1;32m    637\u001B[0m \u001B[38;5;28;01mif\u001B[39;00m excess\u001B[38;5;241m.\u001B[39many() \u001B[38;5;241m>\u001B[39m \u001B[38;5;241m0\u001B[39m:\n\u001B[1;32m    638\u001B[0m     unsat_nresultants \u001B[38;5;241m+\u001B[39m\u001B[38;5;241m=\u001B[39m \u001B[38;5;241m1\u001B[39m\n",
      "\u001B[0;31mIndexError\u001B[0m: list index out of range"
     ]
    }
   ],
   "source": [
    "report = perform_calculation(calc)"
   ]
  }
 ],
 "metadata": {
  "kernelspec": {
   "display_name": "pandeia",
   "language": "python",
   "name": "python3"
  },
  "language_info": {
   "codemirror_mode": {
    "name": "ipython",
    "version": 3
   },
   "file_extension": ".py",
   "mimetype": "text/x-python",
   "name": "python",
   "nbconvert_exporter": "python",
   "pygments_lexer": "ipython3",
   "version": "3.10.6"
  }
 },
 "nbformat": 4,
 "nbformat_minor": 2
}
