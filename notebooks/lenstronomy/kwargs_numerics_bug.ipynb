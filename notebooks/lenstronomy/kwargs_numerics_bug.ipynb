{
 "cells": [
  {
   "cell_type": "code",
   "execution_count": 1,
   "metadata": {},
   "outputs": [
    {
     "name": "stderr",
     "output_type": "stream",
     "text": [
      "**WARNING**: LOCAL JWST PRD VERSION PRDOPSSOC-065 DOESN'T MATCH THE CURRENT ONLINE VERSION PRDOPSSOC-068\n",
      "Please consider updating pysiaf, e.g. pip install --upgrade pysiaf or conda update pysiaf\n"
     ]
    }
   ],
   "source": [
    "import os\n",
    "import sys\n",
    "\n",
    "import numpy as np\n",
    "import matplotlib\n",
    "%matplotlib inline\n",
    "import matplotlib.pyplot as plt\n",
    "from matplotlib import colors\n",
    "from hydra import initialize, compose\n",
    "import pickle\n",
    "from glob import glob\n",
    "from pprint import pprint\n",
    "from tqdm import tqdm\n",
    "import galsim\n",
    "from copy import deepcopy\n",
    "import time\n",
    "\n",
    "# set paths to various directories based on the machine this code is being executed on\n",
    "try:\n",
    "    with initialize(version_base=None, config_path='config'):  \n",
    "        config = compose(config_name='config.yaml')  # overrides=['machine=uzay']\n",
    "except:\n",
    "    with initialize(version_base=None, config_path='../../config'):  \n",
    "        config = compose(config_name='config.yaml')  # overrides=['machine=uzay']\n",
    "\n",
    "array_dir, data_dir, figure_dir, pickle_dir, repo_dir  = config.machine.array_dir, config.machine.data_dir, config.machine.figure_dir, config.machine.pickle_dir, config.machine.repo_dir\n",
    "\n",
    "# enable use of local modules\n",
    "if repo_dir not in sys.path:\n",
    "    sys.path.append(repo_dir)\n",
    "\n",
    "# set matplotlib style\n",
    "plt.style.use(f'{repo_dir}/mejiro/mplstyle/science.mplstyle')\n",
    "\n",
    "from mejiro.lenses.test import SampleStrongLens\n",
    "from mejiro.plots import diagnostic_plot, plot, plot_util, overplot\n",
    "from mejiro.analysis import stats\n",
    "from mejiro.utils import util\n",
    "from mejiro.helpers import gs\n",
    "from mejiro.lenses import lens_util\n",
    "from mejiro.instruments.roman import Roman\n",
    "from mejiro.instruments.hwo import HWO\n",
    "from mejiro.synthetic_image import SyntheticImage\n",
    "from mejiro.utils import util"
   ]
  },
  {
   "cell_type": "code",
   "execution_count": 2,
   "metadata": {},
   "outputs": [],
   "source": [
    "strong_lens = SampleStrongLens()\n",
    "instrument = Roman()"
   ]
  },
  {
   "cell_type": "code",
   "execution_count": 3,
   "metadata": {},
   "outputs": [
    {
     "name": "stdout",
     "output_type": "stream",
     "text": [
      "Computing on pixel grid of size 225x225 (4.95\"x4.95\") with pixel scale 0.022 arcsec/pixel (natively 0.11 arcsec/pixel oversampled by factor 5)\n",
      "Building adaptive grid\n",
      "Computing with 'adaptive' mode and supersampling factor 3\n",
      "Adaptive grid: (225, 225)\n",
      "Initialized SyntheticImage for StrongLens SAMPLE by Roman in F129 band\n"
     ]
    }
   ],
   "source": [
    "synthetic_image = SyntheticImage(strong_lens=strong_lens,\n",
    "                                    instrument=instrument,\n",
    "                                    band='F129',\n",
    "                                    arcsec=4.95,\n",
    "                                    oversample=5,\n",
    "                                    verbose=True)\n",
    "assert synthetic_image.arcsec == 4.95\n",
    "assert synthetic_image.num_pix == 225"
   ]
  },
  {
   "cell_type": "code",
   "execution_count": 4,
   "metadata": {},
   "outputs": [
    {
     "name": "stdout",
     "output_type": "stream",
     "text": [
      "Computing on pixel grid of size 235x235 (5.17\"x5.17\") with pixel scale 0.022 arcsec/pixel (natively 0.11 arcsec/pixel oversampled by factor 5)\n",
      "Building adaptive grid\n",
      "Computing with 'adaptive' mode and supersampling factor 3\n",
      "Adaptive grid: (235, 235)\n",
      "Initialized SyntheticImage for StrongLens SAMPLE by Roman in F129 band\n"
     ]
    }
   ],
   "source": [
    "synthetic_image = SyntheticImage(strong_lens=strong_lens,\n",
    "                                    instrument=instrument,\n",
    "                                    band='F129',\n",
    "                                    arcsec=5.0,\n",
    "                                    oversample=5,\n",
    "                                    verbose=True)\n",
    "\n",
    "assert synthetic_image.arcsec == 5.17\n",
    "assert synthetic_image.num_pix == 235"
   ]
  }
 ],
 "metadata": {
  "kernelspec": {
   "display_name": "mejiro_dev",
   "language": "python",
   "name": "python3"
  },
  "language_info": {
   "codemirror_mode": {
    "name": "ipython",
    "version": 3
   },
   "file_extension": ".py",
   "mimetype": "text/x-python",
   "name": "python",
   "nbconvert_exporter": "python",
   "pygments_lexer": "ipython3",
   "version": "3.10.6"
  }
 },
 "nbformat": 4,
 "nbformat_minor": 2
}
