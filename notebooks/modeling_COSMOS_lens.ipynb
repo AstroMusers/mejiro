{
 "cells": [
  {
   "cell_type": "code",
   "execution_count": 1,
   "metadata": {
    "ExecuteTime": {
     "end_time": "2023-09-01T20:14:28.742482100Z",
     "start_time": "2023-09-01T20:14:28.719903400Z"
    },
    "collapsed": false
   },
   "outputs": [],
   "source": [
    "import os\n",
    "import sys\n",
    "\n",
    "path = os.getcwd()\n",
    "while os.path.basename(os.path.normpath(path)) != 'roman-pandeia':\n",
    "    path = os.path.dirname(path)\n",
    "repo_path = path\n",
    "if repo_path not in sys.path:\n",
    "    sys.path.append(repo_path)"
   ]
  },
  {
   "cell_type": "code",
   "execution_count": 9,
   "metadata": {
    "ExecuteTime": {
     "end_time": "2023-09-01T20:14:32.290592800Z",
     "start_time": "2023-09-01T20:14:28.728493400Z"
    },
    "collapsed": true
   },
   "outputs": [],
   "source": [
    "import matplotlib.pyplot as plt\n",
    "%matplotlib inline\n",
    "import numpy as np\n",
    "import math\n",
    "from pprint import pprint\n",
    "\n",
    "from astropy.io import fits\n",
    "from astropy.table import Table\n",
    "from astropy.wcs import WCS\n",
    "\n",
    "from lenstronomy.LightModel.Profiles.gaussian import GaussianEllipse\n",
    "gauss = GaussianEllipse()\n",
    "from lenstronomy.ImSim.image_model import ImageModel\n",
    "from lenstronomy.Data.pixel_grid import PixelGrid\n",
    "from lenstronomy.LensModel.lens_model import LensModel\n",
    "from lenstronomy.LightModel.light_model import LightModel\n",
    "from lenstronomy.Data.psf import PSF"
   ]
  },
  {
   "cell_type": "markdown",
   "metadata": {},
   "source": [
    "# Modeling COSMOS0018+3845"
   ]
  },
  {
   "cell_type": "code",
   "execution_count": 14,
   "metadata": {},
   "outputs": [
    {
     "name": "stdout",
     "output_type": "stream",
     "text": [
      "Filename: /nfshome/bwedig/roman-pandeia/data/lens.fit\n",
      "No.    Name      Ver    Type      Cards   Dimensions   Format\n",
      "  0  PRIMARY       1 PrimaryHDU      42   ()      \n",
      "  1  J_ApJS_176_19_table4    1 TableHDU        50   16R x 10C   [A9, F5.2, F5.2, F5.2, F5.1, F5.2, F5.2, F5.1, A9, A6]   \n"
     ]
    }
   ],
   "source": [
    "lens_table_path = os.path.join(repo_path, 'data', 'lens.fit')\n",
    "\n",
    "with fits.open(lens_table_path) as hdu_list:\n",
    "    hdu_list.verify()\n",
    "    hdu_list.info()\n",
    "    lens_table = Table(hdu_list[1].data)"
   ]
  },
  {
   "cell_type": "code",
   "execution_count": 15,
   "metadata": {},
   "outputs": [
    {
     "name": "stdout",
     "output_type": "stream",
     "text": [
      "Filename: /nfshome/bwedig/roman-pandeia/data/table4.fit\n",
      "No.    Name      Ver    Type      Cards   Dimensions   Format\n",
      "  0  PRIMARY       1 PrimaryHDU      43   ()      \n",
      "  1  J_ApJS_176_19_lens    1 TableHDU        85   67R x 19C   [A1, A9, A1, A10, A9, F5.2, F5.2, F5.2, F5.2, F5.2, F4.1, F5.2, F5.2, F5.2, F5.1, F5.2, F4.1, A1, I8]   \n"
     ]
    }
   ],
   "source": [
    "table_4_path = os.path.join(repo_path, 'data', 'table4.fit')\n",
    "\n",
    "with fits.open(table_4_path) as hdu_list:\n",
    "    hdu_list.verify()\n",
    "    hdu_list.info()\n",
    "    table_4 = Table(hdu_list[1].data)"
   ]
  },
  {
   "cell_type": "code",
   "execution_count": 16,
   "metadata": {},
   "outputs": [
    {
     "data": {
      "text/html": [
       "<i>Table length=16</i>\n",
       "<table id=\"table140623140397520-797147\" class=\"table-striped table-bordered table-condensed\">\n",
       "<thead><tr><th>idx</th><th>COSMOS</th><th>zl</th><th>zs</th><th>chi2</th><th>sigV</th><th>Erad</th><th>gamma</th><th>theta</th><th>Images</th><th>Mult</th></tr></thead>\n",
       "<tr><td>0</td><td>0012+2015</td><td>0.41</td><td>0.95</td><td>0.01</td><td>215.3</td><td>0.67</td><td>0.0</td><td>0.0</td><td>no</td><td>Double</td></tr>\n",
       "<tr><td>1</td><td>0018+3845</td><td>0.71</td><td>1.93</td><td>1.9</td><td>303.1</td><td>1.32</td><td>0.28</td><td>47.5</td><td>no</td><td>Triple</td></tr>\n",
       "<tr><td>2</td><td>0038+4133</td><td>0.89</td><td>2.7</td><td>0.08</td><td>225.3</td><td>0.73</td><td>0.06</td><td>179.1</td><td>no</td><td>Ring</td></tr>\n",
       "<tr><td>3</td><td>0047+5023</td><td>0.85</td><td>2.51</td><td>1.4</td><td>313.0</td><td>1.41</td><td>0.23</td><td>174.1</td><td>no</td><td>Triple</td></tr>\n",
       "<tr><td>4</td><td>0049+5128</td><td>0.33</td><td>0.74</td><td>0.0</td><td>380.0</td><td>2.09</td><td>0.0</td><td>0.0</td><td>no (1,2)</td><td>Ring</td></tr>\n",
       "<tr><td>5</td><td>0050+4901</td><td>1.01</td><td>3.34</td><td>3.4</td><td>342.3</td><td>1.69</td><td>0.23</td><td>76.1</td><td>no (2,3)</td><td>Quad</td></tr>\n",
       "<tr><td>6</td><td>0056+1226</td><td>0.44</td><td>1.03</td><td>1.3</td><td>337.4</td><td>1.64</td><td>0.0</td><td>0.0</td><td>no</td><td>Double</td></tr>\n",
       "<tr><td>7</td><td>0124+5121</td><td>0.84</td><td>2.47</td><td>0.0</td><td>245.0</td><td>0.86</td><td>0.0</td><td>0.0</td><td>no (1)</td><td>Ring</td></tr>\n",
       "<tr><td>8</td><td>0211+1139</td><td>0.9</td><td>2.76</td><td>0.01</td><td>466.3</td><td>3.14</td><td>0.0</td><td>0.0</td><td>no (2)</td><td>Double</td></tr>\n",
       "<tr><td>9</td><td>0216+2955</td><td>0.67</td><td>1.77</td><td>0.06</td><td>348.5</td><td>1.75</td><td>0.0</td><td>0.0</td><td>no (2)</td><td>Double</td></tr>\n",
       "<tr><td>10</td><td>0227+0451</td><td>0.89</td><td>2.7</td><td>20.0</td><td>428.3</td><td>2.64</td><td>0.0</td><td>0.0</td><td>yes (2,3)</td><td>Double</td></tr>\n",
       "<tr><td>11</td><td>5857+5949</td><td>0.39</td><td>0.89</td><td>16.2</td><td>398.1</td><td>2.28</td><td>0.0</td><td>0.0</td><td>yes (2,3)</td><td>Double</td></tr>\n",
       "<tr><td>12</td><td>5914+1219</td><td>1.05</td><td>3.57</td><td>1.2</td><td>338.6</td><td>1.65</td><td>0.28</td><td>68.8</td><td>yes (2)</td><td>Triple</td></tr>\n",
       "<tr><td>13</td><td>5921+0638</td><td>0.45</td><td>1.06</td><td>0.48</td><td>221.0</td><td>0.7</td><td>0.09</td><td>100.5</td><td>no</td><td>Quad</td></tr>\n",
       "<tr><td>14</td><td>5941+3628</td><td>0.9</td><td>2.76</td><td>0.0</td><td>285.0</td><td>1.17</td><td>0.0</td><td>0.0</td><td>no (1)</td><td>Ring</td></tr>\n",
       "<tr><td>15</td><td>5947+4752</td><td>0.28</td><td>0.61</td><td>0.0</td><td>370.0</td><td>1.97</td><td>0.0</td><td>0.0</td><td>no (1)</td><td>Ring</td></tr>\n",
       "</table><style>table.dataTable {clear: both; width: auto !important; margin: 0 !important;}\n",
       ".dataTables_info, .dataTables_length, .dataTables_filter, .dataTables_paginate{\n",
       "display: inline-block; margin-right: 1em; }\n",
       ".paginate_button { margin-right: 5px; }\n",
       "</style>\n",
       "<script>\n",
       "\n",
       "var astropy_sort_num = function(a, b) {\n",
       "    var a_num = parseFloat(a);\n",
       "    var b_num = parseFloat(b);\n",
       "\n",
       "    if (isNaN(a_num) && isNaN(b_num))\n",
       "        return ((a < b) ? -1 : ((a > b) ? 1 : 0));\n",
       "    else if (!isNaN(a_num) && !isNaN(b_num))\n",
       "        return ((a_num < b_num) ? -1 : ((a_num > b_num) ? 1 : 0));\n",
       "    else\n",
       "        return isNaN(a_num) ? -1 : 1;\n",
       "}\n",
       "\n",
       "require.config({paths: {\n",
       "    datatables: 'https://cdn.datatables.net/1.10.12/js/jquery.dataTables.min'\n",
       "}});\n",
       "require([\"datatables\"], function(){\n",
       "    console.log(\"$('#table140623140397520-797147').dataTable()\");\n",
       "    \n",
       "jQuery.extend( jQuery.fn.dataTableExt.oSort, {\n",
       "    \"optionalnum-asc\": astropy_sort_num,\n",
       "    \"optionalnum-desc\": function (a,b) { return -astropy_sort_num(a, b); }\n",
       "});\n",
       "\n",
       "    $('#table140623140397520-797147').dataTable({\n",
       "        order: [],\n",
       "        pageLength: 50,\n",
       "        lengthMenu: [[10, 25, 50, 100, 500, 1000, -1], [10, 25, 50, 100, 500, 1000, 'All']],\n",
       "        pagingType: \"full_numbers\",\n",
       "        columnDefs: [{targets: [0, 2, 3, 4, 5, 6, 7, 8], type: \"optionalnum\"}]\n",
       "    });\n",
       "});\n",
       "</script>\n"
      ],
      "text/plain": [
       "<IPython.core.display.HTML object>"
      ]
     },
     "execution_count": 16,
     "metadata": {},
     "output_type": "execute_result"
    }
   ],
   "source": [
    "lens_table.show_in_notebook()"
   ]
  },
  {
   "cell_type": "code",
   "execution_count": 17,
   "metadata": {},
   "outputs": [
    {
     "data": {
      "text/html": [
       "<i>Table length=67</i>\n",
       "<table id=\"table140616607620336-717059\" class=\"table-striped table-bordered table-condensed\">\n",
       "<thead><tr><th>idx</th><th>n_COSMOS</th><th>COSMOS</th><th>f_COSMOS</th><th>RAJ2000</th><th>DEJ2000</th><th>zph</th><th>E_zph</th><th>e_zph_lc</th><th>r</th><th>reff</th><th>n</th><th>F814W</th><th>E_F814W</th><th>e_f814w_lc</th><th>PA</th><th>Ell</th><th>sb814W</th><th>C</th><th>recno</th></tr></thead>\n",
       "<tr><td>0</td><td>B</td><td>0012+2015</td><td></td><td>10 00 12.6</td><td>+02 20 15</td><td>0.41</td><td>0.03</td><td>0.05</td><td>0.9</td><td>0.53</td><td>8.1</td><td>19.28</td><td>0.01</td><td>0.01</td><td>-10.2</td><td>0.25</td><td>21.6</td><td>C</td><td>1</td></tr>\n",
       "<tr><td>1</td><td>b</td><td>0013+2249</td><td></td><td>10 00 13.9</td><td>+02 22 49</td><td>0.38</td><td>0.06</td><td>0.02</td><td>1.65</td><td>0.9</td><td>3.9</td><td>18.89</td><td>0.01</td><td>0.01</td><td>38.2</td><td>0.16</td><td>22.4</td><td>C</td><td>2</td></tr>\n",
       "<tr><td>2</td><td>B</td><td>0018+3845</td><td>f</td><td>10 00 18.4</td><td>+02 38 45</td><td>0.71</td><td>0.02</td><td>0.13</td><td>0.4</td><td>0.29</td><td>5.6</td><td>23.6</td><td>0.01</td><td>0.01</td><td>-21.8</td><td>0.23</td><td>22.7</td><td>C</td><td>3</td></tr>\n",
       "<tr><td>3</td><td>B</td><td>0038+4133</td><td></td><td>10 00 38.2</td><td>+02 41 33</td><td>0.89</td><td>0.05</td><td>0.03</td><td>0.74</td><td>0.72</td><td>5.2</td><td>20.39</td><td>0.05</td><td>0.05</td><td>-2.9</td><td>0.26</td><td>20.5</td><td>C</td><td>4</td></tr>\n",
       "<tr><td>4</td><td>B</td><td>0047+5023</td><td></td><td>10 00 47.6</td><td>+01 50 23</td><td>0.85</td><td>0.07</td><td>0.05</td><td>0.7</td><td>0.72</td><td>1.9</td><td>20.65</td><td>0.01</td><td>0.01</td><td>33.4</td><td>0.05</td><td>22.8</td><td>C</td><td>5</td></tr>\n",
       "<tr><td>5</td><td>B</td><td>0049+5128</td><td></td><td>10 00 49.2</td><td>+01 51 28</td><td>0.33</td><td>0.03</td><td>0.05</td><td>2.22</td><td>1.07</td><td>1.2</td><td>19.61</td><td>0.01</td><td>0.01</td><td>-24.6</td><td>0.22</td><td>23.3</td><td>C</td><td>6</td></tr>\n",
       "<tr><td>6</td><td>B</td><td>0050+4901</td><td>f</td><td>10 00 50.6</td><td>+02 49 01</td><td>1.01</td><td>0.07</td><td>0.05</td><td>1.9</td><td>0.36</td><td>2.9</td><td>21.72</td><td>0.02</td><td>0.03</td><td>26.6</td><td>0.39</td><td>22.7</td><td>C</td><td>7</td></tr>\n",
       "<tr><td>7</td><td>B</td><td>0056+1226</td><td></td><td>10 00 56.7</td><td>+02 12 26</td><td>0.44</td><td>0.04</td><td>0.04</td><td>1.2</td><td>0.96</td><td>4.6</td><td>18.7</td><td>0.03</td><td>0.0</td><td>40.3</td><td>0.0</td><td>23.3</td><td>C</td><td>8</td></tr>\n",
       "<tr><td>8</td><td>B</td><td>0124+5121</td><td></td><td>10 01 24.5</td><td>+01 51 21</td><td>0.84</td><td>0.04</td><td>0.04</td><td>0.84</td><td>0.24</td><td>2.4</td><td>22.43</td><td>0.15</td><td>0.05</td><td>-51.4</td><td>0.25</td><td>23.2</td><td>C</td><td>9</td></tr>\n",
       "<tr><td>9</td><td>B</td><td>0211+1139</td><td></td><td>10 02 11.2</td><td>+02 11 39</td><td>0.9</td><td>0.06</td><td>0.04</td><td>3.2</td><td>0.74</td><td>4.1</td><td>21.09</td><td>0.06</td><td>0.09</td><td>11.0</td><td>0.35</td><td>21.6</td><td>C</td><td>10</td></tr>\n",
       "<tr><td>10</td><td>B</td><td>0216+2955</td><td></td><td>10 02 16.8</td><td>+02 29 55</td><td>0.67</td><td>0.05</td><td>0.03</td><td>1.96</td><td>0.9</td><td>6.1</td><td>19.98</td><td>0.01</td><td>0.01</td><td>-16.6</td><td>0.06</td><td>22.0</td><td>C</td><td>11</td></tr>\n",
       "<tr><td>11</td><td>B</td><td>0227+0451</td><td>f</td><td>10 02 27.5</td><td>+02 04 51</td><td>0.89</td><td>0.03</td><td>0.05</td><td>1.62</td><td>0.3</td><td>6.3</td><td>21.94</td><td>0.03</td><td>0.03</td><td>80.9</td><td>0.33</td><td>22.3</td><td>C</td><td>12</td></tr>\n",
       "<tr><td>12</td><td>b</td><td>0254+1430</td><td></td><td>10 02 54.0</td><td>+02 14 30</td><td>0.0</td><td>0.0</td><td>0.0</td><td>1.54</td><td>0.0</td><td>0.0</td><td>0.0</td><td>0.0</td><td>0.0</td><td>-56.5</td><td>0.4</td><td>22.1</td><td>C</td><td>13</td></tr>\n",
       "<tr><td>13</td><td>b</td><td>5737+3424</td><td>f</td><td>09 57 37.0</td><td>+02 34 24</td><td>0.0</td><td>0.0</td><td>0.0</td><td>12.0</td><td>0.0</td><td>0.0</td><td>0.0</td><td>0.0</td><td>0.0</td><td>0.0</td><td>0.0</td><td>0.0</td><td>C</td><td>14</td></tr>\n",
       "<tr><td>14</td><td>b</td><td>5758+1525</td><td>f</td><td>09 57 58.6</td><td>+02 15 25</td><td>0.0</td><td>0.0</td><td>0.0</td><td>0.35</td><td>0.0</td><td>0.0</td><td>0.0</td><td>0.0</td><td>0.0</td><td>0.0</td><td>0.0</td><td>21.7</td><td>C</td><td>15</td></tr>\n",
       "<tr><td>15</td><td>B</td><td>5857+5949</td><td></td><td>09 58 57.0</td><td>+01 59 49</td><td>0.39</td><td>0.03</td><td>0.05</td><td>2.15</td><td>0.61</td><td>1.4</td><td>20.05</td><td>0.01</td><td>0.01</td><td>-32.8</td><td>0.36</td><td>21.9</td><td>C</td><td>16</td></tr>\n",
       "<tr><td>16</td><td>B</td><td>5914+1219</td><td></td><td>09 59 14.7</td><td>+02 12 19</td><td>1.05</td><td>0.05</td><td>0.07</td><td>1.86</td><td>0.27</td><td>3.9</td><td>23.25</td><td>0.8</td><td>0.04</td><td>14.4</td><td>0.08</td><td>22.8</td><td>C</td><td>17</td></tr>\n",
       "<tr><td>17</td><td>B</td><td>5921+0638</td><td></td><td>09 59 21.7</td><td>+02 06 38</td><td>0.45</td><td>0.03</td><td>0.05</td><td>0.8</td><td>0.49</td><td>6.8</td><td>20.34</td><td>0.02</td><td>0.02</td><td>29.9</td><td>0.08</td><td>20.6</td><td>C</td><td>18</td></tr>\n",
       "<tr><td>18</td><td>B</td><td>5941+3628</td><td></td><td>09 59 41.3</td><td>+02 36 28</td><td>0.9</td><td>0.06</td><td>0.02</td><td>1.21</td><td>0.76</td><td>1.0</td><td>20.91</td><td>0.02</td><td>0.02</td><td>-5.4</td><td>0.08</td><td>22.8</td><td>C</td><td>19</td></tr>\n",
       "<tr><td>19</td><td>B</td><td>5947+4752</td><td></td><td>09 59 47.8</td><td>+02 47 52</td><td>0.28</td><td>0.04</td><td>0.04</td><td>2.55</td><td>0.51</td><td>1.6</td><td>19.83</td><td>0.0</td><td>0.0</td><td>4.1</td><td>0.07</td><td>22.8</td><td>C</td><td>20</td></tr>\n",
       "<tr><td>20</td><td>a</td><td>0009+2455</td><td></td><td>10 00 09.7</td><td>+02 24 55</td><td>0.39</td><td>0.04</td><td>0.04</td><td>2.63</td><td>0.7</td><td>3.7</td><td>19.49</td><td>0.01</td><td>0.01</td><td>-2.5</td><td>0.31</td><td>22.6</td><td>C</td><td>21</td></tr>\n",
       "<tr><td>21</td><td>a</td><td>0028+1919</td><td></td><td>10 00 28.6</td><td>+02 19 19</td><td>0.61</td><td>0.03</td><td>0.05</td><td>1.87</td><td>0.45</td><td>1.7</td><td>20.34</td><td>0.01</td><td>0.03</td><td>34.9</td><td>0.13</td><td>22.6</td><td>C</td><td>22</td></tr>\n",
       "<tr><td>22</td><td>a</td><td>0029+4018</td><td></td><td>10 00 29.6</td><td>+02 40 18</td><td>0.83</td><td>0.05</td><td>0.07</td><td>2.99</td><td>0.83</td><td>2.6</td><td>18.94</td><td>0.02</td><td>0.02</td><td>47.4</td><td>0.0</td><td>22.7</td><td>C</td><td>23</td></tr>\n",
       "<tr><td>23</td><td>a</td><td>0047+2931</td><td></td><td>10 00 47.1</td><td>+02 29 31</td><td>0.32</td><td>0.04</td><td>0.04</td><td>2.0</td><td>0.73</td><td>2.3</td><td>19.56</td><td>0.01</td><td>0.01</td><td>-38.4</td><td>0.29</td><td>21.6</td><td>C</td><td>24</td></tr>\n",
       "<tr><td>24</td><td>a</td><td>0050+0357</td><td></td><td>10 00 50.8</td><td>+02 03 57</td><td>0.84</td><td>0.04</td><td>0.04</td><td>0.66</td><td>0.31</td><td>2.8</td><td>22.31</td><td>0.02</td><td>0.02</td><td>-44.7</td><td>0.4</td><td>22.5</td><td>C</td><td>25</td></tr>\n",
       "<tr><td>25</td><td>a</td><td>0055+3821</td><td></td><td>10 00 55.7</td><td>+01 38 21</td><td>0.66</td><td>0.06</td><td>0.04</td><td>1.05</td><td>0.4</td><td>2.4</td><td>20.86</td><td>0.01</td><td>0.01</td><td>10.3</td><td>0.14</td><td>21.8</td><td>C</td><td>26</td></tr>\n",
       "<tr><td>26</td><td>a</td><td>0056+2106</td><td></td><td>10 00 56.7</td><td>+02 21 06</td><td>0.65</td><td>0.03</td><td>0.05</td><td>1.75</td><td>0.34</td><td>3.4</td><td>21.21</td><td>0.04</td><td>0.04</td><td>84.7</td><td>0.02</td><td>23.3</td><td>C</td><td>27</td></tr>\n",
       "<tr><td>27</td><td>a</td><td>0104+2046</td><td></td><td>10 01 04.9</td><td>+02 20 46</td><td>0.94</td><td>0.1</td><td>0.1</td><td>3.54</td><td>0.11</td><td>3.8</td><td>24.27</td><td>0.2</td><td>0.05</td><td>-0.7</td><td>0.31</td><td>21.9</td><td>C</td><td>28</td></tr>\n",
       "<tr><td>28</td><td>a</td><td>0104+2501</td><td></td><td>10 01 04.6</td><td>+02 25 01</td><td>0.22</td><td>0.06</td><td>0.02</td><td>3.26</td><td>0.0</td><td>0.0</td><td>0.0</td><td>0.0</td><td>0.0</td><td>0.0</td><td>0.0</td><td>21.8</td><td>C</td><td>29</td></tr>\n",
       "<tr><td>29</td><td>a</td><td>0105+4531</td><td></td><td>10 01 05.3</td><td>+02 45 31</td><td>0.44</td><td>0.04</td><td>0.04</td><td>1.0</td><td>0.47</td><td>3.4</td><td>20.38</td><td>0.01</td><td>0.01</td><td>15.9</td><td>0.0</td><td>22.3</td><td>C</td><td>30</td></tr>\n",
       "<tr><td>30</td><td>a</td><td>0107+0533</td><td></td><td>10 01 07.9</td><td>+02 05 33</td><td>0.9</td><td>0.06</td><td>0.06</td><td>1.71</td><td>0.24</td><td>3.2</td><td>21.83</td><td>0.01</td><td>0.07</td><td>-70.4</td><td>0.04</td><td>22.7</td><td>C</td><td>31</td></tr>\n",
       "<tr><td>31</td><td>a</td><td>0108+5606</td><td></td><td>10 01 08.0</td><td>+01 56 06</td><td>0.97</td><td>0.07</td><td>0.05</td><td>1.25</td><td>0.2</td><td>1.8</td><td>22.81</td><td>0.02</td><td>0.02</td><td>-61.5</td><td>0.24</td><td>23.4</td><td>C</td><td>32</td></tr>\n",
       "<tr><td>32</td><td>a</td><td>0120+4551</td><td></td><td>10 01 20.2</td><td>+01 45 51</td><td>0.82</td><td>0.06</td><td>0.06</td><td>1.28</td><td>0.0</td><td>0.0</td><td>0.0</td><td>0.0</td><td>0.0</td><td>0.0</td><td>0.0</td><td>22.9</td><td>C</td><td>33</td></tr>\n",
       "<tr><td>33</td><td>a</td><td>0148+2325</td><td></td><td>10 01 48.1</td><td>+02 23 25</td><td>0.4</td><td>0.04</td><td>0.04</td><td>1.43</td><td>1.27</td><td>2.9</td><td>18.81</td><td>0.01</td><td>0.01</td><td>-35.1</td><td>0.0</td><td>22.0</td><td>C</td><td>34</td></tr>\n",
       "<tr><td>34</td><td>a</td><td>0208+1422</td><td></td><td>10 02 08.5</td><td>+02 14 22</td><td>0.41</td><td>0.04</td><td>0.04</td><td>1.59</td><td>0.45</td><td>7.7</td><td>20.06</td><td>0.07</td><td>0.05</td><td>-52.0</td><td>0.0</td><td>22.0</td><td>C</td><td>35</td></tr>\n",
       "<tr><td>35</td><td>a</td><td>0220+2335</td><td></td><td>10 02 20.2</td><td>+02 23 35</td><td>0.65</td><td>0.03</td><td>0.05</td><td>1.04</td><td>0.6</td><td>1.7</td><td>20.99</td><td>0.01</td><td>0.08</td><td>87.2</td><td>0.0</td><td>21.8</td><td>C</td><td>36</td></tr>\n",
       "<tr><td>36</td><td>a</td><td>0221+3440</td><td></td><td>10 02 21.1</td><td>+02 34 40</td><td>0.41</td><td>0.03</td><td>0.05</td><td>1.57</td><td>1.06</td><td>5.5</td><td>19.35</td><td>0.01</td><td>0.01</td><td>-22.7</td><td>0.04</td><td>22.3</td><td>C</td><td>37</td></tr>\n",
       "<tr><td>37</td><td>a</td><td>0236+4807</td><td></td><td>10 02 36.0</td><td>+02 48 07</td><td>0.34</td><td>0.06</td><td>0.06</td><td>1.27</td><td>0.68</td><td>1.8</td><td>20.15</td><td>0.01</td><td>0.01</td><td>22.0</td><td>0.11</td><td>23.2</td><td>C</td><td>38</td></tr>\n",
       "<tr><td>38</td><td>a</td><td>0248+1422</td><td></td><td>10 02 48.4</td><td>+02 14 22</td><td>0.6</td><td>0.04</td><td>0.04</td><td>1.38</td><td>0.22</td><td>5.5</td><td>21.72</td><td>0.11</td><td>0.05</td><td>18.8</td><td>0.24</td><td>22.8</td><td>C</td><td>39</td></tr>\n",
       "<tr><td>39</td><td>a</td><td>5748+5524</td><td></td><td>09 57 48.0</td><td>+01 55 24</td><td>0.93</td><td>0.07</td><td>0.05</td><td>2.21</td><td>0.33</td><td>1.4</td><td>22.15</td><td>0.02</td><td>0.02</td><td>89.9</td><td>0.0</td><td>21.6</td><td>C</td><td>40</td></tr>\n",
       "<tr><td>40</td><td>a</td><td>5750+5619</td><td></td><td>09 57 50.7</td><td>+01 56 19</td><td>0.28</td><td>0.04</td><td>0.04</td><td>0.73</td><td>0.0</td><td>0.0</td><td>0.0</td><td>0.0</td><td>0.0</td><td>0.0</td><td>0.0</td><td>21.8</td><td>C</td><td>41</td></tr>\n",
       "<tr><td>41</td><td>a</td><td>5752+2057</td><td></td><td>09 57 52.1</td><td>+02 20 57</td><td>0.44</td><td>0.04</td><td>0.04</td><td>0.98</td><td>0.51</td><td>1.0</td><td>20.27</td><td>0.01</td><td>0.01</td><td>3.8</td><td>0.14</td><td>21.6</td><td>C</td><td>42</td></tr>\n",
       "<tr><td>42</td><td>a</td><td>5754+5952</td><td></td><td>09 57 54.1</td><td>+01 59 52</td><td>0.9</td><td>0.06</td><td>0.02</td><td>1.33</td><td>0.22</td><td>6.9</td><td>22.23</td><td>0.2</td><td>0.05</td><td>-16.5</td><td>0.43</td><td>22.6</td><td>C</td><td>43</td></tr>\n",
       "<tr><td>43</td><td>a</td><td>5805+0413</td><td></td><td>09 58 05.6</td><td>+02 04 13</td><td>0.88</td><td>0.04</td><td>0.04</td><td>1.61</td><td>0.12</td><td>4.8</td><td>23.0</td><td>0.04</td><td>0.02</td><td>-81.6</td><td>0.16</td><td>22.8</td><td>C</td><td>44</td></tr>\n",
       "<tr><td>44</td><td>a</td><td>5806+5809</td><td></td><td>09 58 06.8</td><td>+01 58 09</td><td>0.32</td><td>0.04</td><td>0.04</td><td>1.5</td><td>0.43</td><td>2.9</td><td>19.14</td><td>0.02</td><td>0.08</td><td>-13.6</td><td>0.0</td><td>21.7</td><td>C</td><td>45</td></tr>\n",
       "<tr><td>45</td><td>a</td><td>5821+4437</td><td>f</td><td>09 58 21.4</td><td>+01 44 37</td><td>0.67</td><td>0.05</td><td>0.03</td><td>1.4</td><td>0.21</td><td>3.5</td><td>21.84</td><td>0.07</td><td>0.11</td><td>0.0</td><td>0.28</td><td>22.9</td><td>C</td><td>46</td></tr>\n",
       "<tr><td>46</td><td>a</td><td>5829+3734</td><td>f</td><td>09 58 29.9</td><td>+01 37 34</td><td>0.51</td><td>0.05</td><td>0.03</td><td>2.97</td><td>0.46</td><td>1.6</td><td>19.95</td><td>0.0</td><td>0.03</td><td>-0.1</td><td>1.15</td><td>22.3</td><td>C</td><td>47</td></tr>\n",
       "<tr><td>47</td><td>a</td><td>5831+4332</td><td>f</td><td>09 58 31.0</td><td>+01 43 32</td><td>0.0</td><td>0.0</td><td>0.0</td><td>1.17</td><td>0.0</td><td>0.0</td><td>0.0</td><td>0.0</td><td>0.0</td><td>0.0</td><td>0.0</td><td>21.0</td><td>C</td><td>48</td></tr>\n",
       "<tr><td>48</td><td>a</td><td>5841+4646</td><td></td><td>09 58 41.4</td><td>+02 46 46</td><td>0.36</td><td>0.04</td><td>0.04</td><td>0.93</td><td>0.47</td><td>0.9</td><td>19.65</td><td>0.01</td><td>0.01</td><td>21.1</td><td>0.12</td><td>21.0</td><td>C</td><td>49</td></tr>\n",
       "<tr><td>49</td><td>a</td><td>5851+1813</td><td></td><td>09 58 51.9</td><td>+02 18 13</td><td>0.29</td><td>0.03</td><td>0.05</td><td>2.57</td><td>0.0</td><td>0.0</td><td>0.0</td><td>0.0</td><td>0.0</td><td>0.0</td><td>0.0</td><td>21.9</td><td>C</td><td>50</td></tr>\n",
       "<tr><td>50</td><td>a</td><td>5856+4755</td><td></td><td>09 58 56.1</td><td>+02 47 55</td><td>0.32</td><td>0.04</td><td>0.04</td><td>2.97</td><td>0.17</td><td>1.1</td><td>19.54</td><td>0.01</td><td>0.01</td><td>48.8</td><td>0.39</td><td>22.9</td><td>C</td><td>51</td></tr>\n",
       "<tr><td>51</td><td>a</td><td>5906+4524</td><td></td><td>09 59 06.5</td><td>+02 45 24</td><td>0.37</td><td>0.03</td><td>0.05</td><td>1.5</td><td>0.0</td><td>0.0</td><td>0.0</td><td>0.0</td><td>0.0</td><td>0.0</td><td>0.0</td><td>21.6</td><td>C</td><td>52</td></tr>\n",
       "<tr><td>52</td><td>a</td><td>5919+3853</td><td></td><td>09 59 19.4</td><td>+01 38 53</td><td>0.4</td><td>0.04</td><td>0.04</td><td>2.35</td><td>0.26</td><td>1.9</td><td>20.59</td><td>0.01</td><td>0.02</td><td>-15.7</td><td>0.08</td><td>22.7</td><td>C</td><td>53</td></tr>\n",
       "<tr><td>53</td><td>a</td><td>5924+0852</td><td></td><td>09 59 24.7</td><td>+02 08 52</td><td>0.93</td><td>0.07</td><td>0.05</td><td>0.97</td><td>0.17</td><td>1.6</td><td>23.09</td><td>0.27</td><td>0.02</td><td>-9.8</td><td>0.01</td><td>22.7</td><td>C</td><td>54</td></tr>\n",
       "<tr><td>54</td><td>a</td><td>5925+3039</td><td></td><td>09 59 25.8</td><td>+02 30 39</td><td>0.91</td><td>0.07</td><td>0.05</td><td>0.98</td><td>0.15</td><td>1.2</td><td>23.16</td><td>0.05</td><td>0.04</td><td>89.9</td><td>0.38</td><td>23.2</td><td>C</td><td>55</td></tr>\n",
       "<tr><td>55</td><td>a</td><td>5929+1352</td><td></td><td>09 59 29.9</td><td>+02 13 52</td><td>0.36</td><td>0.04</td><td>0.04</td><td>2.46</td><td>0.0</td><td>0.0</td><td>0.0</td><td>0.0</td><td>0.0</td><td>0.0</td><td>0.0</td><td>22.0</td><td>C</td><td>56</td></tr>\n",
       "<tr><td>56</td><td>a</td><td>5929+4553</td><td></td><td>09 59 29.0</td><td>+01 45 53</td><td>0.54</td><td>0.06</td><td>0.02</td><td>1.56</td><td>0.67</td><td>2.1</td><td>19.99</td><td>0.01</td><td>0.01</td><td>-23.2</td><td>0.06</td><td>22.3</td><td>C</td><td>57</td></tr>\n",
       "<tr><td>57</td><td>a</td><td>5931+0229</td><td></td><td>09 59 31.1</td><td>+02 02 29</td><td>0.32</td><td>0.04</td><td>0.04</td><td>1.48</td><td>0.81</td><td>1.9</td><td>19.2</td><td>0.0</td><td>0.02</td><td>89.9</td><td>0.01</td><td>21.6</td><td>C</td><td>58</td></tr>\n",
       "<tr><td>58</td><td>a</td><td>5932+1018</td><td></td><td>09 59 32.0</td><td>+02 10 18</td><td>0.92</td><td>0.04</td><td>0.06</td><td>0.68</td><td>0.4</td><td>1.2</td><td>21.92</td><td>0.12</td><td>0.03</td><td>19.9</td><td>0.22</td><td>22.6</td><td>C</td><td>59</td></tr>\n",
       "<tr><td>59</td><td>a</td><td>5936+3621</td><td></td><td>09 59 36.7</td><td>+02 36 21</td><td>0.25</td><td>0.03</td><td>0.05</td><td>2.4</td><td>0.71</td><td>0.9</td><td>19.14</td><td>0.02</td><td>0.01</td><td>-42.4</td><td>0.15</td><td>22.1</td><td>C</td><td>60</td></tr>\n",
       "<tr><td>60</td><td>a</td><td>5939+3044</td><td></td><td>09 59 39.1</td><td>+02 30 44</td><td>0.73</td><td>0.03</td><td>0.05</td><td>0.7</td><td>0.58</td><td>1.7</td><td>20.08</td><td>0.01</td><td>0.05</td><td>76.9</td><td>0.0</td><td>22.9</td><td>C</td><td>61</td></tr>\n",
       "<tr><td>61</td><td>a</td><td>5940+3253</td><td></td><td>09 59 40.4</td><td>+02 32 53</td><td>0.41</td><td>0.03</td><td>0.05</td><td>1.53</td><td>0.51</td><td>1.4</td><td>19.45</td><td>0.01</td><td>0.01</td><td>58.4</td><td>0.4</td><td>22.5</td><td>C</td><td>62</td></tr>\n",
       "<tr><td>62</td><td>a</td><td>5940+5012</td><td></td><td>09 59 40.0</td><td>+02 50 12</td><td>0.36</td><td>0.04</td><td>0.04</td><td>1.97</td><td>0.0</td><td>0.0</td><td>0.0</td><td>0.0</td><td>0.0</td><td>0.0</td><td>0.0</td><td>21.8</td><td>C</td><td>63</td></tr>\n",
       "<tr><td>63</td><td>a</td><td>5942+2829</td><td></td><td>09 59 42.7</td><td>+02 28 29</td><td>0.72</td><td>0.04</td><td>0.04</td><td>1.39</td><td>0.31</td><td>1.6</td><td>21.88</td><td>0.03</td><td>0.05</td><td>34.0</td><td>0.04</td><td>22.8</td><td>C</td><td>64</td></tr>\n",
       "<tr><td>64</td><td>a</td><td>5943+2816</td><td></td><td>09 59 43.1</td><td>+02 28 16</td><td>0.39</td><td>0.05</td><td>0.03</td><td>1.64</td><td>0.69</td><td>1.3</td><td>19.43</td><td>0.01</td><td>0.01</td><td>79.9</td><td>0.01</td><td>22.4</td><td>C</td><td>65</td></tr>\n",
       "<tr><td>65</td><td>a</td><td>5951+1236</td><td></td><td>09 59 51.0</td><td>+02 12 36</td><td>0.46</td><td>0.06</td><td>0.02</td><td>1.53</td><td>1.21</td><td>2.2</td><td>18.66</td><td>0.01</td><td>0.01</td><td>20.9</td><td>0.29</td><td>21.9</td><td>C</td><td>66</td></tr>\n",
       "<tr><td>66</td><td>a</td><td>5959+0348</td><td></td><td>09 59 59.7</td><td>+02 03 48</td><td>0.82</td><td>0.06</td><td>0.06</td><td>1.2</td><td>0.2</td><td>3.5</td><td>21.62</td><td>0.04</td><td>0.04</td><td>-49.2</td><td>0.2</td><td>22.8</td><td>C</td><td>67</td></tr>\n",
       "</table><style>table.dataTable {clear: both; width: auto !important; margin: 0 !important;}\n",
       ".dataTables_info, .dataTables_length, .dataTables_filter, .dataTables_paginate{\n",
       "display: inline-block; margin-right: 1em; }\n",
       ".paginate_button { margin-right: 5px; }\n",
       "</style>\n",
       "<script>\n",
       "\n",
       "var astropy_sort_num = function(a, b) {\n",
       "    var a_num = parseFloat(a);\n",
       "    var b_num = parseFloat(b);\n",
       "\n",
       "    if (isNaN(a_num) && isNaN(b_num))\n",
       "        return ((a < b) ? -1 : ((a > b) ? 1 : 0));\n",
       "    else if (!isNaN(a_num) && !isNaN(b_num))\n",
       "        return ((a_num < b_num) ? -1 : ((a_num > b_num) ? 1 : 0));\n",
       "    else\n",
       "        return isNaN(a_num) ? -1 : 1;\n",
       "}\n",
       "\n",
       "require.config({paths: {\n",
       "    datatables: 'https://cdn.datatables.net/1.10.12/js/jquery.dataTables.min'\n",
       "}});\n",
       "require([\"datatables\"], function(){\n",
       "    console.log(\"$('#table140616607620336-717059').dataTable()\");\n",
       "    \n",
       "jQuery.extend( jQuery.fn.dataTableExt.oSort, {\n",
       "    \"optionalnum-asc\": astropy_sort_num,\n",
       "    \"optionalnum-desc\": function (a,b) { return -astropy_sort_num(a, b); }\n",
       "});\n",
       "\n",
       "    $('#table140616607620336-717059').dataTable({\n",
       "        order: [],\n",
       "        pageLength: 50,\n",
       "        lengthMenu: [[10, 25, 50, 100, 500, 1000, -1], [10, 25, 50, 100, 500, 1000, 'All']],\n",
       "        pagingType: \"full_numbers\",\n",
       "        columnDefs: [{targets: [0, 6, 7, 8, 9, 10, 11, 12, 13, 14, 15, 16, 17, 19], type: \"optionalnum\"}]\n",
       "    });\n",
       "});\n",
       "</script>\n"
      ],
      "text/plain": [
       "<IPython.core.display.HTML object>"
      ]
     },
     "execution_count": 17,
     "metadata": {},
     "output_type": "execute_result"
    }
   ],
   "source": [
    "table_4.show_in_notebook()"
   ]
  },
  {
   "cell_type": "markdown",
   "metadata": {},
   "source": [
    "* ra (h:m:s) 10:00:18.4\n",
    "* dec (d:':\") +02:38:45\n",
    "* limiting magnitude F814W 26.5 mag\n",
    "* output grid pixel size 0.03\"\n",
    "* size postage stamp 10\"x10\"\n",
    "* "
   ]
  },
  {
   "cell_type": "code",
   "execution_count": 3,
   "metadata": {},
   "outputs": [],
   "source": [
    "z_lens = 0.71\n",
    "z_source = 1.93\n",
    "theta_E = 1.32\n",
    "shear = 0.28\n",
    "shear_orientation = 47.5\n",
    "\n",
    "# lens light\n",
    "r_eff = 0.29\n",
    "n = 5.6\n",
    "f814w_mag_lens = 23.60\n",
    "position_angle = -21.8\n",
    "ellipticity = 0.23\n",
    "\n",
    "# image light\n",
    "f814w_mag_source = 22.7"
   ]
  },
  {
   "cell_type": "code",
   "execution_count": 4,
   "metadata": {
    "ExecuteTime": {
     "end_time": "2023-09-01T20:14:32.353975100Z",
     "start_time": "2023-09-01T20:14:32.297590300Z"
    },
    "collapsed": false
   },
   "outputs": [],
   "source": [
    "lens_model_list = ['SIE', 'SHEAR']\n",
    "\n",
    "kwargs_spemd = {'theta_E': theta_E, 'e1': 0., 'e2': 0., 'center_x': 0., 'center_y': 0.}\n",
    "kwargs_shear = {'gamma1': shear, 'gamma2': 0.}\n",
    "\n",
    "kwargs_lens = [kwargs_spemd, kwargs_shear]\n",
    "lens_model_class = LensModel(lens_model_list)\n",
    "\n",
    "lens_light_model_list = ['SERSIC_ELLIPSE']\n",
    "\n",
    "kwargs_sersic_lens = {'amp': 10, 'R_sersic': r_eff, 'n_sersic': n, 'e1': ellipticity, 'e2': 0., 'center_x': 0., 'center_y': 0.}\n",
    "\n",
    "kwargs_lens_light = [kwargs_sersic_lens]\n",
    "lens_light_model_class = LightModel(lens_light_model_list)\n",
    "\n",
    "source_model_list = ['SERSIC_ELLIPSE']\n",
    "\n",
    "kwargs_sersic = {'amp': 10, 'R_sersic': 0.1, 'n_sersic': 1, 'e1': 0., 'e2': 0., 'center_x': 0., 'center_y': 0.}\n",
    "\n",
    "kwargs_source_light = [kwargs_sersic]\n",
    "source_model_class = LightModel(source_model_list)"
   ]
  },
  {
   "cell_type": "code",
   "execution_count": 5,
   "metadata": {
    "ExecuteTime": {
     "end_time": "2023-09-01T20:14:32.367057200Z",
     "start_time": "2023-09-01T20:14:32.354974900Z"
    },
    "collapsed": false
   },
   "outputs": [],
   "source": [
    "num_pix = 45\n",
    "delta_pix = 0.11  # size of pixel in angular coordinates\n",
    "ra_at_xy_0, dec_at_xy_0 = -delta_pix * math.ceil(num_pix / 2), -delta_pix * math.ceil(num_pix / 2) # coordinate in angles (RA/DEC) at the position of the pixel edge (0,0)\n",
    "transform_pix2angle = np.array([[1, 0], [0, 1]]) * delta_pix  # linear translation matrix of a shift in pixel in a shift in coordinates\n",
    "\n",
    "kwargs_pixel = {'nx': num_pix, 'ny': num_pix,  # number of pixels per axis\n",
    "                'ra_at_xy_0': ra_at_xy_0,  # RA at pixel (0,0)\n",
    "                'dec_at_xy_0': dec_at_xy_0,  # DEC at pixel (0,0)\n",
    "                'transform_pix2angle': transform_pix2angle}\n",
    "pixel_grid = PixelGrid(**kwargs_pixel)\n",
    "\n",
    "kwargs_psf = {'psf_type': 'NONE'}\n",
    "psf_class = PSF(**kwargs_psf)"
   ]
  },
  {
   "cell_type": "code",
   "execution_count": 6,
   "metadata": {
    "ExecuteTime": {
     "end_time": "2023-09-01T20:14:33.007451Z",
     "start_time": "2023-09-01T20:14:32.373106800Z"
    },
    "collapsed": false
   },
   "outputs": [
    {
     "data": {
      "image/png": "[encoded data removed]",
      "text/plain": [
       "<Figure size 640x480 with 1 Axes>"
      ]
     },
     "metadata": {},
     "output_type": "display_data"
    }
   ],
   "source": [
    "kwargs_numerics = {'supersampling_factor': 1,\n",
    "                   'supersampling_convolution': False}\n",
    "\n",
    "imageModel = ImageModel(data_class=pixel_grid,\n",
    "                        psf_class=psf_class,\n",
    "                        lens_model_class=lens_model_class,\n",
    "                        source_model_class=source_model_class,\n",
    "                        lens_light_model_class=lens_light_model_class,\n",
    "                        kwargs_numerics=kwargs_numerics)\n",
    "\n",
    "kwargs_model = {'lens_model_list': lens_model_list,\n",
    "                'lens_light_model_list': lens_light_model_list,\n",
    "                'source_light_model_list': source_model_list}\n",
    "\n",
    "image = imageModel.image(kwargs_lens=kwargs_lens,\n",
    "                         kwargs_source=kwargs_source_light,\n",
    "                         kwargs_lens_light=kwargs_lens_light)\n",
    "\n",
    "plt.imshow(image, origin='lower')\n",
    "plt.title('Lenstronomy model')\n",
    "# plt.savefig('figures/model.png')\n",
    "plt.show()"
   ]
  },
  {
   "cell_type": "code",
   "execution_count": 7,
   "metadata": {},
   "outputs": [],
   "source": [
    "# np.save('model', image)"
   ]
  }
 ],
 "metadata": {
  "kernelspec": {
   "display_name": "Python 3",
   "language": "python",
   "name": "python3"
  },
  "language_info": {
   "codemirror_mode": {
    "name": "ipython",
    "version": 3
   },
   "file_extension": ".py",
   "mimetype": "text/x-python",
   "name": "python",
   "nbconvert_exporter": "python",
   "pygments_lexer": "ipython3",
   "version": "3.10.6"
  }
 },
 "nbformat": 4,
 "nbformat_minor": 0
}
