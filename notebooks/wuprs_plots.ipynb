{
 "cells": [
  {
   "cell_type": "code",
   "execution_count": 37,
   "metadata": {},
   "outputs": [],
   "source": [
    "import os\n",
    "import sys\n",
    "\n",
    "path = os.getcwd()\n",
    "while os.path.basename(os.path.normpath(path)) != 'roman-pandeia':\n",
    "        path = os.path.dirname(path)\n",
    "repo_path = path\n",
    "if repo_path not in sys.path:\n",
    "    sys.path.append(repo_path)\n",
    "\n",
    "import time\n",
    "from datetime import timedelta\n",
    "from pprint import pprint\n",
    "import corner\n",
    "import numpy as np\n",
    "import pickle\n",
    "import math\n",
    "\n",
    "import matplotlib\n",
    "import matplotlib.pyplot as plt\n",
    "%matplotlib inline\n",
    "matplotlib.rcParams['axes.grid'] = False\n",
    "matplotlib.rcParams['image.origin'] = 'lower'\n",
    "\n",
    "from astropy.io import fits\n",
    "from astropy import units as u\n",
    "from astropy.coordinates import SkyCoord\n",
    "from astropy.nddata.utils import Cutout2D\n",
    "from astropy.wcs import WCS\n",
    "\n",
    "from lenstronomy.LightModel.Profiles.gaussian import GaussianEllipse\n",
    "gauss = GaussianEllipse()\n",
    "import lenstronomy.Plots.plot_util as plot_util\n",
    "from lenstronomy.SimulationAPI.sim_api import SimAPI\n",
    "from lenstronomy.ImSim.image_model import ImageModel\n",
    "from lenstronomy.Data.pixel_grid import PixelGrid\n",
    "from lenstronomy.LensModel.lens_model import LensModel\n",
    "from lenstronomy.LightModel.light_model import LightModel\n",
    "from lenstronomy.Data.psf import PSF\n",
    "from lenstronomy.SimulationAPI.ObservationConfig.Roman import Roman\n",
    "from lenstronomy.Util import data_util\n",
    "from lenstronomy.Plots import lens_plot\n",
    "from lenstronomy.LensModel.Solver.lens_equation_solver import LensEquationSolver\n",
    "\n",
    "from utils import csv_utils"
   ]
  }
 ],
 "metadata": {
  "kernelspec": {
   "display_name": "lenstronomy",
   "language": "python",
   "name": "python3"
  },
  "language_info": {
   "codemirror_mode": {
    "name": "ipython",
    "version": 3
   },
   "file_extension": ".py",
   "mimetype": "text/x-python",
   "name": "python",
   "nbconvert_exporter": "python",
   "pygments_lexer": "ipython3",
   "version": "3.9.13"
  }
 },
 "nbformat": 4,
 "nbformat_minor": 2
}
