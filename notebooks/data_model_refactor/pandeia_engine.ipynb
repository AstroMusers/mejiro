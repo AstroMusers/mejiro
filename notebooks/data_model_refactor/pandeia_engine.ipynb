{
 "cells": [
  {
   "cell_type": "code",
   "execution_count": 1,
   "metadata": {},
   "outputs": [],
   "source": [
    "import os\n",
    "import sys\n",
    "\n",
    "import numpy as np\n",
    "import matplotlib\n",
    "%matplotlib inline\n",
    "import matplotlib.pyplot as plt\n",
    "from matplotlib import colors\n",
    "from hydra import initialize, compose\n",
    "import pickle\n",
    "from glob import glob\n",
    "from pprint import pprint\n",
    "from tqdm import tqdm\n",
    "import galsim\n",
    "from copy import deepcopy\n",
    "\n",
    "# set paths to various directories based on the machine this code is being executed on\n",
    "try:\n",
    "    with initialize(version_base=None, config_path='config'):  \n",
    "        config = compose(config_name='config.yaml')  # overrides=['machine=uzay']\n",
    "except:\n",
    "    with initialize(version_base=None, config_path='../../config'):  \n",
    "        config = compose(config_name='config.yaml')  # overrides=['machine=uzay']\n",
    "\n",
    "array_dir, data_dir, figure_dir, pickle_dir, repo_dir  = config.machine.array_dir, config.machine.data_dir, config.machine.figure_dir, config.machine.pickle_dir, config.machine.repo_dir\n",
    "\n",
    "# enable use of local modules\n",
    "if repo_dir not in sys.path:\n",
    "    sys.path.append(repo_dir)\n",
    "\n",
    "# set matplotlib style\n",
    "plt.style.use(f'{repo_dir}/mejiro/mplstyle/science.mplstyle')\n",
    "\n",
    "from mejiro.instruments.roman import Roman\n",
    "from mejiro.synthetic_image import SyntheticImage\n",
    "from mejiro.lenses.test import SampleStrongLens\n",
    "from mejiro.exposure import Exposure\n",
    "from mejiro.plots import diagnostic_plot, plot, plot_util, overplot\n",
    "from mejiro.analysis import stats\n",
    "from mejiro.utils import util\n",
    "from mejiro.helpers import gs"
   ]
  },
  {
   "cell_type": "code",
   "execution_count": 3,
   "metadata": {},
   "outputs": [
    {
     "name": "stdout",
     "output_type": "stream",
     "text": [
      "{'background': 'minzodi',\n",
      " 'background_level': 'medium',\n",
      " 'calculation': {'effects': {'saturation': True},\n",
      "                 'noise': {'crs': True,\n",
      "                           'dark': True,\n",
      "                           'excess': False,\n",
      "                           'ffnoise': True,\n",
      "                           'readnoise': True,\n",
      "                           'scatter': False}},\n",
      " 'num_samples': 10000}\n"
     ]
    }
   ],
   "source": [
    "from mejiro.engines import pandeia_engine\n",
    "\n",
    "pprint(pandeia_engine.default_roman_engine_params())"
   ]
  },
  {
   "cell_type": "code",
   "execution_count": 5,
   "metadata": {},
   "outputs": [
    {
     "name": "stdout",
     "output_type": "stream",
     "text": [
      "Computing on pixel grid of size 47x47 (5.17\"x5.17\") with pixel scale 0.11 arcsec/pixel (natively 0.11 arcsec/pixel oversampled by factor 1)\n",
      "Computing with kwargs_numerics: {'supersampling_factor': 3, 'compute_mode': 'adaptive', 'supersampled_indexes': array([[False, False, False, ..., False, False, False],\n",
      "       [False, False, False, ..., False, False, False],\n",
      "       [False, False, False, ..., False, False, False],\n",
      "       ...,\n",
      "       [False, False, False, ..., False, False, False],\n",
      "       [False, False, False, ..., False, False, False],\n",
      "       [False, False, False, ..., False, False, False]])}\n",
      "Initialized SyntheticImage for StrongLens SAMPLE by Roman in F184 band\n"
     ]
    },
    {
     "ename": "MemoryError",
     "evalue": "Unable to allocate 74.5 GiB for an array with shape (10000000000,) and data type int64",
     "output_type": "error",
     "traceback": [
      "\u001b[0;31m---------------------------------------------------------------------------\u001b[0m",
      "\u001b[0;31mMemoryError\u001b[0m                               Traceback (most recent call last)",
      "Input \u001b[0;32mIn [5]\u001b[0m, in \u001b[0;36m<cell line: 29>\u001b[0;34m()\u001b[0m\n\u001b[1;32m     26\u001b[0m synth \u001b[38;5;241m=\u001b[39m SyntheticImage(lens, roman, band, arcsec\u001b[38;5;241m=\u001b[39mscene_size, oversample\u001b[38;5;241m=\u001b[39moversample, pieces\u001b[38;5;241m=\u001b[39m\u001b[38;5;28;01mFalse\u001b[39;00m, verbose\u001b[38;5;241m=\u001b[39m\u001b[38;5;28;01mTrue\u001b[39;00m, instrument_params\u001b[38;5;241m=\u001b[39minstrument_params)\n\u001b[1;32m     27\u001b[0m \u001b[38;5;66;03m# psf = np.load('/grad/bwedig/mejiro/tests/test_data/F106_1_2048_2048_1_47.npy')\u001b[39;00m\n\u001b[0;32m---> 29\u001b[0m exposure \u001b[38;5;241m=\u001b[39m \u001b[43mExposure\u001b[49m\u001b[43m(\u001b[49m\u001b[43msynth\u001b[49m\u001b[43m,\u001b[49m\u001b[43m \u001b[49m\u001b[43mexposure_time\u001b[49m\u001b[38;5;241;43m=\u001b[39;49m\u001b[43mexposure_time\u001b[49m\u001b[43m,\u001b[49m\u001b[43m \u001b[49m\u001b[43mengine\u001b[49m\u001b[38;5;241;43m=\u001b[39;49m\u001b[38;5;124;43m'\u001b[39;49m\u001b[38;5;124;43mpandeia\u001b[39;49m\u001b[38;5;124;43m'\u001b[39;49m\u001b[43m,\u001b[49m\u001b[43m \u001b[49m\u001b[43mengine_params\u001b[49m\u001b[38;5;241;43m=\u001b[39;49m\u001b[43mengine_params\u001b[49m\u001b[43m,\u001b[49m\u001b[43m \u001b[49m\u001b[43mpsf\u001b[49m\u001b[38;5;241;43m=\u001b[39;49m\u001b[38;5;28;43;01mNone\u001b[39;49;00m\u001b[43m,\u001b[49m\u001b[43m \u001b[49m\u001b[43mverbose\u001b[49m\u001b[38;5;241;43m=\u001b[39;49m\u001b[38;5;28;43;01mTrue\u001b[39;49;00m\u001b[43m)\u001b[49m\n\u001b[1;32m     31\u001b[0m _, ax \u001b[38;5;241m=\u001b[39m plt\u001b[38;5;241m.\u001b[39msubplots(\u001b[38;5;241m1\u001b[39m, \u001b[38;5;241m4\u001b[39m, figsize\u001b[38;5;241m=\u001b[39m(\u001b[38;5;241m12\u001b[39m, \u001b[38;5;241m3\u001b[39m), constrained_layout\u001b[38;5;241m=\u001b[39m\u001b[38;5;28;01mTrue\u001b[39;00m)\n\u001b[1;32m     32\u001b[0m ax0 \u001b[38;5;241m=\u001b[39m ax[\u001b[38;5;241m0\u001b[39m]\u001b[38;5;241m.\u001b[39mimshow(synth\u001b[38;5;241m.\u001b[39mimage)\n",
      "File \u001b[0;32m/nfshome/bwedig/mejiro/mejiro/exposure.py:91\u001b[0m, in \u001b[0;36mExposure.__init__\u001b[0;34m(self, synthetic_image, exposure_time, engine, engine_params, psf, verbose, **kwargs)\u001b[0m\n\u001b[1;32m     88\u001b[0m     engine_params \u001b[38;5;241m=\u001b[39m pandeia_engine\u001b[38;5;241m.\u001b[39mvalidate_roman_engine_params(engine_params)\n\u001b[1;32m     90\u001b[0m \u001b[38;5;66;03m# get exposure\u001b[39;00m\n\u001b[0;32m---> 91\u001b[0m results, \u001b[38;5;28mself\u001b[39m\u001b[38;5;241m.\u001b[39mpsf, \u001b[38;5;28mself\u001b[39m\u001b[38;5;241m.\u001b[39mnoise \u001b[38;5;241m=\u001b[39m \u001b[43mpandeia_engine\u001b[49m\u001b[38;5;241;43m.\u001b[39;49m\u001b[43mget_roman_exposure\u001b[49m\u001b[43m(\u001b[49m\u001b[43msynthetic_image\u001b[49m\u001b[43m,\u001b[49m\u001b[43m \u001b[49m\u001b[43mexposure_time\u001b[49m\u001b[43m,\u001b[49m\u001b[43m \u001b[49m\u001b[43mpsf\u001b[49m\u001b[43m,\u001b[49m\u001b[43m \u001b[49m\u001b[43mengine_params\u001b[49m\u001b[43m,\u001b[49m\u001b[43m \u001b[49m\u001b[38;5;28;43mself\u001b[39;49m\u001b[38;5;241;43m.\u001b[39;49m\u001b[43mverbose\u001b[49m\u001b[43m,\u001b[49m\u001b[43m \u001b[49m\u001b[38;5;241;43m*\u001b[39;49m\u001b[38;5;241;43m*\u001b[39;49m\u001b[43mkwargs\u001b[49m\u001b[43m)\u001b[49m\n\u001b[1;32m     93\u001b[0m \u001b[38;5;66;03m# TODO temporarily set noise to zeros until pandeia noise is implemented\u001b[39;00m\n\u001b[1;32m     94\u001b[0m \u001b[38;5;28mself\u001b[39m\u001b[38;5;241m.\u001b[39mnoise \u001b[38;5;241m=\u001b[39m np\u001b[38;5;241m.\u001b[39mzeros_like(\u001b[38;5;28mself\u001b[39m\u001b[38;5;241m.\u001b[39msynthetic_image\u001b[38;5;241m.\u001b[39mimage)\n",
      "File \u001b[0;32m/nfshome/bwedig/mejiro/mejiro/engines/pandeia_engine.py:64\u001b[0m, in \u001b[0;36mget_roman_exposure\u001b[0;34m(synthetic_image, exposure_time, psf, engine_params, verbose, **kwargs)\u001b[0m\n\u001b[1;32m     61\u001b[0m calc[\u001b[38;5;124m'\u001b[39m\u001b[38;5;124mbackground_level\u001b[39m\u001b[38;5;124m'\u001b[39m] \u001b[38;5;241m=\u001b[39m engine_params[\u001b[38;5;124m'\u001b[39m\u001b[38;5;124mbackground_level\u001b[39m\u001b[38;5;124m'\u001b[39m]\n\u001b[1;32m     63\u001b[0m \u001b[38;5;66;03m# convert array from amp to counts/sec\u001b[39;00m\n\u001b[0;32m---> 64\u001b[0m cps_array \u001b[38;5;241m=\u001b[39m \u001b[43m_get_cps_array\u001b[49m\u001b[43m(\u001b[49m\u001b[43mstrong_lens\u001b[49m\u001b[43m,\u001b[49m\u001b[43m \u001b[49m\u001b[43mimage\u001b[49m\u001b[43m,\u001b[49m\u001b[43m \u001b[49m\u001b[43mnum_samples\u001b[49m\u001b[43m,\u001b[49m\u001b[43m \u001b[49m\u001b[43mband\u001b[49m\u001b[43m,\u001b[49m\u001b[43m \u001b[49m\u001b[43mbackground\u001b[49m\u001b[38;5;241;43m=\u001b[39;49m\u001b[38;5;28;43;01mNone\u001b[39;49;00m\u001b[43m)\u001b[49m\n\u001b[1;32m     66\u001b[0m \u001b[38;5;66;03m# convert array from counts/sec to astronomical magnitude\u001b[39;00m\n\u001b[1;32m     67\u001b[0m mag_array \u001b[38;5;241m=\u001b[39m _convert_cps_to_magnitude(cps_array, band, synthetic_image\u001b[38;5;241m.\u001b[39mmagnitude_zero_point)\n",
      "File \u001b[0;32m/nfshome/bwedig/mejiro/mejiro/engines/pandeia_engine.py:182\u001b[0m, in \u001b[0;36m_get_cps_array\u001b[0;34m(lens, array, num_samples, band, background)\u001b[0m\n\u001b[1;32m    180\u001b[0m \u001b[38;5;66;03m# turn array into probability distribution function and sample from it\u001b[39;00m\n\u001b[1;32m    181\u001b[0m flattened \u001b[38;5;241m=\u001b[39m normalized_array\u001b[38;5;241m.\u001b[39mflatten()\n\u001b[0;32m--> 182\u001b[0m sample_indices \u001b[38;5;241m=\u001b[39m \u001b[43mnp\u001b[49m\u001b[38;5;241;43m.\u001b[39;49m\u001b[43mrandom\u001b[49m\u001b[38;5;241;43m.\u001b[39;49m\u001b[43mchoice\u001b[49m\u001b[43m(\u001b[49m\u001b[43ma\u001b[49m\u001b[38;5;241;43m=\u001b[39;49m\u001b[43mflattened\u001b[49m\u001b[38;5;241;43m.\u001b[39;49m\u001b[43msize\u001b[49m\u001b[43m,\u001b[49m\u001b[43m \u001b[49m\u001b[43mp\u001b[49m\u001b[38;5;241;43m=\u001b[39;49m\u001b[43mflattened\u001b[49m\u001b[43m,\u001b[49m\u001b[43m \u001b[49m\u001b[43msize\u001b[49m\u001b[38;5;241;43m=\u001b[39;49m\u001b[43mnum_samples\u001b[49m\u001b[43m)\u001b[49m\n\u001b[1;32m    183\u001b[0m adjusted_indices \u001b[38;5;241m=\u001b[39m np\u001b[38;5;241m.\u001b[39munravel_index(sample_indices, normalized_array\u001b[38;5;241m.\u001b[39mshape)\n\u001b[1;32m    184\u001b[0m adjusted_indices \u001b[38;5;241m=\u001b[39m np\u001b[38;5;241m.\u001b[39marray(\u001b[38;5;28mlist\u001b[39m(\u001b[38;5;28mzip\u001b[39m(\u001b[38;5;241m*\u001b[39madjusted_indices)))\n",
      "File \u001b[0;32mmtrand.pyx:960\u001b[0m, in \u001b[0;36mnumpy.random.mtrand.RandomState.choice\u001b[0;34m()\u001b[0m\n",
      "\u001b[0;31mMemoryError\u001b[0m: Unable to allocate 74.5 GiB for an array with shape (10000000000,) and data type int64"
     ]
    }
   ],
   "source": [
    "lens = SampleStrongLens()\n",
    "roman = Roman()\n",
    "band = 'F184'\n",
    "scene_size = 5  # arcsec\n",
    "oversample = 1\n",
    "exposure_time = 146\n",
    "instrument_params = {\n",
    "    'detector': 1,\n",
    "    'detector_position': (2048, 2048)\n",
    "}\n",
    "engine_params = {\n",
    "    'background': 'minzodi',\n",
    "    'background_level': 'medium',\n",
    "    'calculation': {\n",
    "        'effects': \n",
    "            {'saturation': True},\n",
    "        'noise': {'crs': True,\n",
    "                'dark': True,\n",
    "                'excess': False,\n",
    "                'ffnoise': True,\n",
    "                'readnoise': True,\n",
    "                'scatter': False}},\n",
    "    'num_samples': int(1e10)\n",
    "}\n",
    "\n",
    "synth = SyntheticImage(lens, roman, band, arcsec=scene_size, oversample=oversample, pieces=False, verbose=True, instrument_params=instrument_params)\n",
    "# psf = np.load('/grad/bwedig/mejiro/tests/test_data/F106_1_2048_2048_1_47.npy')\n",
    "\n",
    "exposure = Exposure(synth, exposure_time=exposure_time, engine='pandeia', engine_params=engine_params, psf=None, verbose=True)\n",
    "\n",
    "_, ax = plt.subplots(1, 4, figsize=(12, 3), constrained_layout=True)\n",
    "ax0 = ax[0].imshow(synth.image)\n",
    "ax1 = ax[1].imshow(exposure.exposure)\n",
    "ax2 = ax[2].imshow(np.log10(exposure.exposure))\n",
    "# ax3 = ax[3].imshow(exposure.noise)\n",
    "ax[3].axis('off')\n",
    "\n",
    "plt.colorbar(ax0, ax=ax[0])\n",
    "plt.colorbar(ax1, ax=ax[1])\n",
    "plt.colorbar(ax2, ax=ax[2])\n",
    "# plt.colorbar(ax3, ax=ax[3])\n",
    "\n",
    "ax[0].set_title('Synthetic')\n",
    "ax[1].set_title('Exposure')\n",
    "ax[2].set_title('Log10 Exposure')\n",
    "ax[3].set_title('Noise')\n",
    "\n",
    "plt.show()"
   ]
  }
 ],
 "metadata": {
  "kernelspec": {
   "display_name": "mejiro",
   "language": "python",
   "name": "python3"
  },
  "language_info": {
   "codemirror_mode": {
    "name": "ipython",
    "version": 3
   },
   "file_extension": ".py",
   "mimetype": "text/x-python",
   "name": "python",
   "nbconvert_exporter": "python",
   "pygments_lexer": "ipython3",
   "version": "3.10.6"
  }
 },
 "nbformat": 4,
 "nbformat_minor": 2
}
