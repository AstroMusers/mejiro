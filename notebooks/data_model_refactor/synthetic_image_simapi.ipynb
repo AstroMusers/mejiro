{
 "cells": [
  {
   "cell_type": "code",
   "execution_count": 139,
   "metadata": {},
   "outputs": [],
   "source": [
    "import os\n",
    "import sys\n",
    "\n",
    "import numpy as np\n",
    "import matplotlib\n",
    "%matplotlib inline\n",
    "import matplotlib.pyplot as plt\n",
    "from matplotlib import colors\n",
    "from hydra import initialize, compose\n",
    "import pickle\n",
    "from glob import glob\n",
    "from pprint import pprint\n",
    "from tqdm import tqdm\n",
    "\n",
    "from lenstronomy.SimulationAPI.sim_api import SimAPI\n",
    "from lenstronomy.SimulationAPI.ObservationConfig.Roman import Roman as RomanLenstronomy\n",
    "from lenstronomy.Util import data_util\n",
    "\n",
    "# set paths to various directories based on the machine this code is being executed on\n",
    "try:\n",
    "    with initialize(version_base=None, config_path='config'):  \n",
    "        config = compose(config_name='config.yaml')  # overrides=['machine=uzay']\n",
    "except:\n",
    "    with initialize(version_base=None, config_path='../../config'):  \n",
    "        config = compose(config_name='config.yaml')  # overrides=['machine=uzay']\n",
    "\n",
    "array_dir, data_dir, figure_dir, pickle_dir, repo_dir  = config.machine.array_dir, config.machine.data_dir, config.machine.figure_dir, config.machine.pickle_dir, config.machine.repo_dir\n",
    "\n",
    "# enable use of local modules\n",
    "if repo_dir not in sys.path:\n",
    "    sys.path.append(repo_dir)\n",
    "\n",
    "# set matplotlib style\n",
    "plt.style.use(f'{repo_dir}/mejiro/mplstyle/science.mplstyle')\n",
    "\n",
    "from mejiro.utils import util\n",
    "from mejiro.instruments.roman import Roman\n",
    "from mejiro.synthetic_image import SyntheticImage\n",
    "from mejiro.lenses.test import SampleStrongLens"
   ]
  },
  {
   "cell_type": "code",
   "execution_count": 140,
   "metadata": {},
   "outputs": [],
   "source": [
    "roman = Roman()\n",
    "lens = SampleStrongLens()\n",
    "lens._set_classes()\n",
    "\n",
    "band = 'F129'\n",
    "arcsec = 5.\n",
    "oversample = 1\n",
    "exposure_time = 146"
   ]
  },
  {
   "cell_type": "code",
   "execution_count": 141,
   "metadata": {},
   "outputs": [
    {
     "name": "stdout",
     "output_type": "stream",
     "text": [
      "{'ccd_gain': 1,\n",
      " 'exposure_time': 146,\n",
      " 'magnitude_zero_point': 26.4,\n",
      " 'num_exposures': 128,\n",
      " 'pixel_scale': 0.11,\n",
      " 'psf_type': 'GAUSSIAN',\n",
      " 'read_noise': 15.5,\n",
      " 'seeing': 0.105,\n",
      " 'sky_brightness': 22.99}\n"
     ]
    }
   ],
   "source": [
    "roman_lenstronomy = RomanLenstronomy(band=band)\n",
    "kwargs_single_band = roman_lenstronomy.kwargs_single_band()\n",
    "pprint(kwargs_single_band)"
   ]
  },
  {
   "cell_type": "code",
   "execution_count": 142,
   "metadata": {},
   "outputs": [],
   "source": [
    "kwargs_single_band = {\n",
    "    'ccd_gain': 1,\n",
    "    'exposure_time': 1,\n",
    "    'magnitude_zero_point': zp_mag,\n",
    "    'num_exposures': 1,\n",
    "    'pixel_scale': 0.11,\n",
    "    'psf_type': 'NONE',\n",
    "    'read_noise': 0,\n",
    "    # 'seeing': 0.105,\n",
    "    'sky_brightness': 0\n",
    "}"
   ]
  },
  {
   "cell_type": "code",
   "execution_count": 143,
   "metadata": {},
   "outputs": [],
   "source": [
    "sim_api = SimAPI(\n",
    "        numpix=47,\n",
    "        kwargs_single_band=kwargs_single_band,\n",
    "        kwargs_model=lens.kwargs_model,\n",
    "    )"
   ]
  },
  {
   "cell_type": "code",
   "execution_count": 144,
   "metadata": {},
   "outputs": [],
   "source": [
    "kwargs_numerics = {\n",
    "        \"point_source_supersampling_factor\": 1,\n",
    "        \"supersampling_factor\": 1,\n",
    "    }\n",
    "\n",
    "image_model = sim_api.image_model_class(kwargs_numerics)"
   ]
  },
  {
   "cell_type": "code",
   "execution_count": 145,
   "metadata": {},
   "outputs": [
    {
     "name": "stdout",
     "output_type": "stream",
     "text": [
      "[{'center_x': -0.007876281728887604,\n",
      "  'center_y': 0.010633393703246008,\n",
      "  'e1': 0.004858808997848661,\n",
      "  'e2': 0.0075210751726143355,\n",
      "  'theta_E': 1.168082477232392},\n",
      " {'dec_0': 0,\n",
      "  'gamma1': -0.03648819840013156,\n",
      "  'gamma2': -0.06511863424492038,\n",
      "  'ra_0': 0},\n",
      " {'dec_0': 0, 'kappa': 0.06020941823541971, 'ra_0': 0}]\n"
     ]
    }
   ],
   "source": [
    "pprint(lens.kwargs_lens)"
   ]
  },
  {
   "cell_type": "code",
   "execution_count": 146,
   "metadata": {},
   "outputs": [
    {
     "name": "stdout",
     "output_type": "stream",
     "text": [
      "{'R_sersic': 0.1651633078964498,\n",
      " 'center_x': 0.30298310338567075,\n",
      " 'center_y': -0.3505004565139597,\n",
      " 'e1': -0.06350855238708408,\n",
      " 'e2': -0.08420760408362458,\n",
      " 'magnitude': 21.121205893763328,\n",
      " 'n_sersic': 1.0}\n"
     ]
    }
   ],
   "source": [
    "pprint(lens.kwargs_source_dict[band])"
   ]
  },
  {
   "cell_type": "code",
   "execution_count": 147,
   "metadata": {},
   "outputs": [
    {
     "name": "stdout",
     "output_type": "stream",
     "text": [
      "[{'R_sersic': 0.1651633078964498,\n",
      "  'amp': 367.19169824710224,\n",
      "  'center_x': 0.30298310338567075,\n",
      "  'center_y': -0.3505004565139597,\n",
      "  'e1': -0.06350855238708408,\n",
      "  'e2': -0.08420760408362458,\n",
      "  'n_sersic': 1.0}]\n",
      "[{'R_sersic': 0.5300707454127908,\n",
      "  'amp': 653.1736698551683,\n",
      "  'center_x': -0.007876281728887604,\n",
      "  'center_y': 0.010633393703246008,\n",
      "  'e1': 0.023377277902774978,\n",
      "  'e2': 0.05349948216860632,\n",
      "  'n_sersic': 4.0}]\n"
     ]
    }
   ],
   "source": [
    "kwargs_source_amp_dict = {}\n",
    "\n",
    "zp_mag = roman.zp_dict['SCA01'][band]\n",
    "\n",
    "kwargs_source_amp = data_util.magnitude2amplitude(lens.source_model_class, [lens.kwargs_source_dict[band]], zp_mag)\n",
    "pprint(kwargs_source_amp)\n",
    "\n",
    "kwargs_lens_light_amp = data_util.magnitude2amplitude(lens.lens_light_model_class, [lens.kwargs_lens_light_dict[band]], zp_mag)\n",
    "pprint(kwargs_lens_light_amp)"
   ]
  },
  {
   "cell_type": "code",
   "execution_count": 151,
   "metadata": {},
   "outputs": [
    {
     "data": {
      "image/png": "[encoded data removed]",
      "text/plain": [
       "<Figure size 700x525 with 2 Axes>"
      ]
     },
     "metadata": {},
     "output_type": "display_data"
    }
   ],
   "source": [
    "array = image_model.image(\n",
    "        kwargs_lens=lens.kwargs_lens,\n",
    "        kwargs_source=kwargs_source_amp,\n",
    "        kwargs_lens_light=kwargs_lens_light_amp,\n",
    "        kwargs_ps=None,\n",
    "        unconvolved=True,\n",
    "        source_add=True,\n",
    "        lens_light_add=True,\n",
    "    )\n",
    "\n",
    "plt.imshow(np.log10(array))\n",
    "plt.colorbar()\n",
    "plt.title(f'Sum={np.sum(array):.2f}')\n",
    "plt.show()"
   ]
  },
  {
   "cell_type": "code",
   "execution_count": 152,
   "metadata": {},
   "outputs": [
    {
     "data": {
      "text/plain": [
       "7.59089144640277"
      ]
     },
     "execution_count": 152,
     "metadata": {},
     "output_type": "execute_result"
    },
    {
     "name": "stdout",
     "output_type": "stream",
     "text": [
      "The history saving thread hit an unexpected error (OperationalError('unable to open database file')).History will not be written to the database.\n"
     ]
    }
   ],
   "source": [
    "util.percent_difference(4826.4, 4473.43)"
   ]
  }
 ],
 "metadata": {
  "kernelspec": {
   "display_name": "mejiro",
   "language": "python",
   "name": "python3"
  },
  "language_info": {
   "codemirror_mode": {
    "name": "ipython",
    "version": 3
   },
   "file_extension": ".py",
   "mimetype": "text/x-python",
   "name": "python",
   "nbconvert_exporter": "python",
   "pygments_lexer": "ipython3",
   "version": "3.10.6"
  }
 },
 "nbformat": 4,
 "nbformat_minor": 2
}
