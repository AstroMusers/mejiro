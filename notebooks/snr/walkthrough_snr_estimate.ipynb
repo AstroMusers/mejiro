{
 "cells": [
  {
   "cell_type": "code",
   "execution_count": null,
   "metadata": {},
   "outputs": [],
   "source": [
    "import os\n",
    "import sys\n",
    "\n",
    "import numpy as np\n",
    "%matplotlib inline\n",
    "import matplotlib.pyplot as plt\n",
    "from hydra import initialize, compose\n",
    "\n",
    "# set paths to various directories based on the machine this code is being executed on\n",
    "with initialize(version_base=None, config_path='config'):\n",
    "    config = compose(config_name='config.yaml')  # overrides=['machine=uzay']\n",
    "\n",
    "array_dir, data_dir, figure_dir, pickle_dir, repo_dir  = config.machine.array_dir, config.machine.data_dir, config.machine.figure_dir, config.machine.pickle_dir, config.machine.repo_dir\n",
    "\n",
    "# enable use of local modules\n",
    "if repo_dir not in sys.path:\n",
    "    sys.path.append(repo_dir)\n",
    "\n",
    "# set matplotlib style\n",
    "plt.style.use(f'{repo_dir}/mejiro/mplstyle/science.mplstyle')\n",
    "\n",
    "from mejiro.helpers import survey_sim, gs"
   ]
  },
  {
   "cell_type": "code",
   "execution_count": null,
   "metadata": {},
   "outputs": [],
   "source": [
    "detectable_lenses = survey_sim.collect_all_detectable_lenses(config.machine.dir_01)\n",
    "print(f'{len(detectable_lenses)} detectable lens(es)')"
   ]
  },
  {
   "cell_type": "code",
   "execution_count": null,
   "metadata": {},
   "outputs": [],
   "source": [
    "band = 'F129'\n",
    "num_pix = 45\n",
    "side = 4.95\n",
    "oversample = 1\n",
    "\n",
    "sample_lens = detectable_lenses[4]"
   ]
  },
  {
   "cell_type": "code",
   "execution_count": null,
   "metadata": {},
   "outputs": [],
   "source": [
    "model, lens_sb, source_sb = sample_lens.get_array(num_pix * oversample, side, band, return_pieces=True)\n",
    "\n",
    "f, ax = plt.subplots(1, 4, figsize=(20, 5))\n",
    "ax[0].imshow(np.log10(model))\n",
    "ax[0].set_title('Model (log10)')\n",
    "ax[1].imshow(model)\n",
    "ax[1].set_title('Model')\n",
    "ax[2].imshow(lens_sb)\n",
    "ax[2].set_title('Lens')\n",
    "ax[3].imshow(source_sb)\n",
    "ax[3].set_title('Source')\n",
    "for a in ax: a.axis('off')\n",
    "plt.show()"
   ]
  },
  {
   "cell_type": "code",
   "execution_count": null,
   "metadata": {},
   "outputs": [],
   "source": [
    "results, lenses, sources, execution_time = gs.get_images(sample_lens, [model], [band], num_pix, num_pix, oversample, oversample,\n",
    "               lens_surface_brightness=[lens_sb], source_surface_brightness=[source_sb], detector=1, detector_pos=(2048, 2048),\n",
    "               exposure_time=146, ra=30, dec=-30, seed=42, validate=False, suppress_output=False, check_cache=True)\n",
    "\n",
    "f, ax = plt.subplots(1, 4, figsize=(20, 5))\n",
    "ax[0].imshow(np.log10(results[0]))\n",
    "ax[0].set_title('Total (log10)')\n",
    "ax[1].imshow(results[0])\n",
    "ax[1].set_title('Total')\n",
    "ax[2].imshow(lenses[0])\n",
    "ax[2].set_title('Lens')\n",
    "ax[3].imshow(sources[0])\n",
    "ax[3].set_title('Source')\n",
    "for a in ax: a.axis('off')\n",
    "plt.show()"
   ]
  },
  {
   "cell_type": "code",
   "execution_count": null,
   "metadata": {},
   "outputs": [],
   "source": [
    "# put back into units of counts\n",
    "total = results[0] * 146\n",
    "lens = lenses[0] * 146\n",
    "source = sources[0] * 146"
   ]
  },
  {
   "cell_type": "code",
   "execution_count": null,
   "metadata": {},
   "outputs": [],
   "source": [
    "noise = total - (lens + source)\n",
    "\n",
    "plt.imshow(noise)\n",
    "plt.colorbar()\n",
    "plt.show()"
   ]
  },
  {
   "cell_type": "markdown",
   "metadata": {},
   "source": [
    "# Bryce's first thought that turns out to be bad but seemed reasonable at the time\n",
    "\n",
    "1. Consider the region where the lensed source is brightest\n",
    "2. Calculate SNR in that region"
   ]
  },
  {
   "cell_type": "code",
   "execution_count": null,
   "metadata": {},
   "outputs": [],
   "source": [
    "mask_mult = 1.\n",
    "\n",
    "# calculate threshold that will define masked region\n",
    "stdev = np.std(source)\n",
    "mean = np.mean(source)\n",
    "threshold_stdev = mean + (mask_mult * stdev)\n",
    "\n",
    "# mask source\n",
    "masked_source = np.ma.masked_where(source < threshold_stdev, source)\n",
    "source_counts = masked_source.compressed().sum()\n",
    "\n",
    "# mask lens\n",
    "masked_lens = np.ma.masked_where(source < threshold_stdev, lens)\n",
    "lens_counts = masked_lens.compressed().sum()\n",
    "\n",
    "# mask noise\n",
    "masked_noise = np.ma.masked_where(source < threshold_stdev, noise)\n",
    "noise_counts = masked_noise.compressed().sum()\n",
    "\n",
    "# calculate estimated SNR\n",
    "snr = source_counts / np.sqrt(source_counts + lens_counts + noise_counts)\n",
    "print(f'SNR: {snr}')"
   ]
  },
  {
   "cell_type": "code",
   "execution_count": null,
   "metadata": {},
   "outputs": [],
   "source": [
    "f, ax = plt.subplots(1, 5, figsize=(20, 4))\n",
    "\n",
    "ax[0].imshow(source)\n",
    "ax[1].imshow(masked_source)\n",
    "ax[2].imshow(noise)\n",
    "ax[3].imshow(total)\n",
    "ax[4].imshow(np.ma.masked_where(source < threshold_stdev, total))\n",
    "\n",
    "ax[0].set_title('Source')\n",
    "ax[1].set_title('Masked Source')\n",
    "ax[2].set_title('Noise')\n",
    "ax[3].set_title('Total Image')\n",
    "ax[4].set_title('Masked Total')\n",
    "\n",
    "for a in ax: a.axis('off')\n",
    "\n",
    "plt.show()"
   ]
  },
  {
   "cell_type": "code",
   "execution_count": null,
   "metadata": {},
   "outputs": [],
   "source": [
    "# calculate threshold that will define masked region\n",
    "threshold_quantile = np.quantile(source, 0.98)\n",
    "\n",
    "# mask source\n",
    "masked_source = np.ma.masked_where(source < threshold_quantile, source)\n",
    "source_counts = masked_source.compressed().sum()\n",
    "\n",
    "# mask lens\n",
    "masked_lens = np.ma.masked_where(source < threshold_quantile, lens)\n",
    "lens_counts = masked_lens.compressed().sum()\n",
    "\n",
    "# mask noise\n",
    "masked_noise = np.ma.masked_where(source < threshold_quantile, noise)\n",
    "noise_counts = masked_noise.compressed().sum()\n",
    "\n",
    "# calculate estimated SNR\n",
    "snr = source_counts / np.sqrt(source_counts + lens_counts + noise_counts)\n",
    "print(f'SNR: {snr}')"
   ]
  },
  {
   "cell_type": "code",
   "execution_count": null,
   "metadata": {},
   "outputs": [],
   "source": [
    "plt.hist(source.flatten(), bins=100)\n",
    "plt.yscale('log')\n",
    "plt.axvline(mean, label='Mean', color='k')\n",
    "plt.axvline(threshold_stdev, color='r', label=r'Threshold $\\mu + \\sigma$', linestyle='--')\n",
    "plt.axvline(threshold_quantile, color='g', label=r'Threshold (brightest 2\\%)', linestyle='--')\n",
    "plt.legend()\n",
    "plt.show()"
   ]
  },
  {
   "cell_type": "code",
   "execution_count": null,
   "metadata": {},
   "outputs": [],
   "source": [
    "f, ax = plt.subplots(1, 5, figsize=(20, 4))\n",
    "\n",
    "ax[0].imshow(source)\n",
    "ax[1].imshow(masked_source)\n",
    "ax[2].imshow(noise)\n",
    "ax[3].imshow(total)\n",
    "ax[4].imshow(np.ma.masked_where(source < threshold_stdev, total))\n",
    "\n",
    "ax[0].set_title('Source')\n",
    "ax[1].set_title('Masked Source')\n",
    "ax[2].set_title('Noise')\n",
    "ax[3].set_title('Total Image')\n",
    "ax[4].set_title('Masked Total')\n",
    "\n",
    "for a in ax: a.axis('off')\n",
    "\n",
    "plt.show()"
   ]
  },
  {
   "cell_type": "code",
   "execution_count": null,
   "metadata": {},
   "outputs": [],
   "source": [
    "lens_subtracted = total - lens\n",
    "\n",
    "masked_lens_subtracted_image = np.ma.masked_where(source < threshold_stdev, lens_subtracted)\n",
    "total_lens_subtracted_counts = masked_lens_subtracted_image.compressed().sum()\n",
    "\n",
    "snr_lens_subtracted = source_counts / np.sqrt(total_lens_subtracted_counts)\n",
    "print(f'Lens-subtracted SNR: {snr_lens_subtracted}')"
   ]
  },
  {
   "cell_type": "markdown",
   "metadata": {},
   "source": [
    "The problem: the lensing galaxies are much brighter than the lensed images (our signal), and since light from the lensing galaxy is noise, we need to take it into account."
   ]
  },
  {
   "cell_type": "markdown",
   "metadata": {},
   "source": [
    "# A better way\n",
    "\n",
    "1. Calculate SNR in each pixel\n",
    "2. Consider the pixels where SNR > 1\n",
    "3. Adjacent pixels form regions, and if any one region has combined SNR > 20, strong lens is detectable\n",
    "\n",
    "The pixels where SNR > 1 does a really good job of identifying the lensed images. Then, selecting the region with the best SNR reflects how detection algorithms are looking for any lensed images, where any one is enough (at least for a first pass) to consider the strong lens detectable."
   ]
  },
  {
   "cell_type": "code",
   "execution_count": null,
   "metadata": {},
   "outputs": [],
   "source": [
    "snr_array = source / np.sqrt(total)\n",
    "\n",
    "plt.imshow(snr_array)\n",
    "plt.title('SNR in each pixel')\n",
    "plt.colorbar()\n",
    "plt.show()"
   ]
  },
  {
   "cell_type": "code",
   "execution_count": null,
   "metadata": {},
   "outputs": [],
   "source": [
    "if np.any(snr_array > 1):\n",
    "    print('There are regions with SNR > 1')\n",
    "else:\n",
    "    print('There are no regions with SNR > 1')\n",
    "\n",
    "regions = np.ma.masked_where(snr_array <= 1, snr_array)\n",
    "\n",
    "plt.imshow(regions)\n",
    "plt.title(r'Regions with SNR $>$ 1')\n",
    "plt.colorbar()\n",
    "plt.show()"
   ]
  },
  {
   "cell_type": "code",
   "execution_count": null,
   "metadata": {},
   "outputs": [],
   "source": [
    "# mask source\n",
    "masked_source = np.ma.masked_where(snr_array <= 1, source)\n",
    "source_counts = masked_source.compressed().sum()\n",
    "\n",
    "# mask lens\n",
    "masked_lens = np.ma.masked_where(snr_array <= 1, lens)\n",
    "lens_counts = masked_lens.compressed().sum()\n",
    "\n",
    "# mask noise\n",
    "masked_noise = np.ma.masked_where(snr_array <= 1, noise)\n",
    "noise_counts = masked_noise.compressed().sum()\n",
    "\n",
    "f, ax = plt.subplots(1, 3)\n",
    "ax[0].imshow(masked_source)\n",
    "ax[0].set_title(f'source counts: {source_counts:.0f}')\n",
    "ax[1].imshow(masked_lens)\n",
    "ax[1].set_title(f'lens counts: {lens_counts:.0f}')\n",
    "ax[2].imshow(masked_noise)\n",
    "ax[2].set_title(f'noise counts: {noise_counts:.0f}')\n",
    "for a in ax: a.axis('off')\n",
    "plt.show()"
   ]
  },
  {
   "cell_type": "code",
   "execution_count": null,
   "metadata": {},
   "outputs": [],
   "source": [
    "# calculate estimated SNR\n",
    "snr = source_counts / np.sqrt(source_counts + lens_counts + noise_counts)\n",
    "print(f'SNR: {snr}')"
   ]
  },
  {
   "cell_type": "code",
   "execution_count": null,
   "metadata": {},
   "outputs": [],
   "source": [
    "# indices = np.transpose(np.nonzero(masked_source))\n",
    "\n",
    "# numerator, denominator = 0, 0\n",
    "# for i, j in indices:\n",
    "#     numerator += masked_source[i, j]\n",
    "#     denominator += masked_source[i, j] + masked_lens[i, j] + masked_noise[i, j]\n",
    "\n",
    "# snr = numerator / np.sqrt(denominator)\n",
    "# print(f'SNR: {snr}')"
   ]
  },
  {
   "cell_type": "code",
   "execution_count": null,
   "metadata": {},
   "outputs": [],
   "source": [
    "regions = []\n",
    "already_checked = set()\n",
    "\n",
    "for i, j in np.transpose(np.nonzero(masked_source)):\n",
    "    region = set()\n",
    "\n",
    "    if (i, j) in already_checked:\n",
    "        continue\n",
    "    \n",
    "    # check left neighbor\n",
    "    if j != 0 and not masked_source.mask[i, j - 1]:\n",
    "        region.add((i, j - 1))\n",
    "    else:\n",
    "        already_checked.add((i, j - 1))\n",
    "    # check right neighbor\n",
    "    if j != masked_source.shape[0]:\n",
    "        region.add((i, j + 1))\n",
    "    else:\n",
    "        already_checked.add((i, j + 1))\n",
    "    # check bottom neighbor\n",
    "    if i != 0 and not masked_source.mask[i - 1, j]:\n",
    "        region.add((i - 1, j))\n",
    "    else:\n",
    "        already_checked.add((i - 1, j))\n",
    "    # check top neighbor\n",
    "    if i != masked_source.shape[1]:\n",
    "        region.add((i + 1, j))\n",
    "    else:\n",
    "        already_checked.add((i + 1, j))\n",
    "\n",
    "    # TODO should move on to one of the neighbors instead of the next nonzero element, so that I can stay within one region and define it before moving on to the next region. something needs to prevent me from defining a region prematurely\n",
    "\n",
    "    # if all neighbors have already been checked, append region and go on to defining next region\n",
    "    regions.append(region)"
   ]
  },
  {
   "cell_type": "code",
   "execution_count": null,
   "metadata": {},
   "outputs": [],
   "source": [
    "print(len(regions))"
   ]
  }
 ],
 "metadata": {
  "kernelspec": {
   "display_name": "mejiro",
   "language": "python",
   "name": "python3"
  },
  "language_info": {
   "codemirror_mode": {
    "name": "ipython",
    "version": 3
   },
   "file_extension": ".py",
   "mimetype": "text/x-python",
   "name": "python",
   "nbconvert_exporter": "python",
   "pygments_lexer": "ipython3",
   "version": "3.10.6"
  }
 },
 "nbformat": 4,
 "nbformat_minor": 2
}
