{
 "cells": [
  {
   "cell_type": "code",
   "execution_count": 1,
   "metadata": {},
   "outputs": [],
   "source": [
    "import os\n",
    "import sys\n",
    "\n",
    "path = os.getcwd()\n",
    "while os.path.basename(os.path.normpath(path)) != 'roman-pandeia':\n",
    "    path = os.path.dirname(path)\n",
    "repo_path = path\n",
    "if repo_path not in sys.path:\n",
    "    sys.path.append(repo_path)"
   ]
  },
  {
   "cell_type": "code",
   "execution_count": 2,
   "metadata": {},
   "outputs": [],
   "source": [
    "import numpy as np\n",
    "import time\n",
    "import pickle\n",
    "from pprint import pprint\n",
    "from tqdm import tqdm\n",
    "import pandas as pd\n",
    "import matplotlib.pyplot as plt\n",
    "\n",
    "from package.plots import diagnostic_plot, plot, lens_plot\n",
    "from package.helpers.lens import Lens\n",
    "from package.helpers import pyhalo\n",
    "\n",
    "import datetime\n",
    "import time\n",
    "\n",
    "import numpy as np\n",
    "from lenstronomy.SimulationAPI.ObservationConfig.Roman import Roman\n",
    "from lenstronomy.Util import data_util\n",
    "from pandeia.engine.calc_utils import build_default_calc, build_default_source\n",
    "from pandeia.engine.perform_calculation import perform_calculation\n",
    "from tqdm import tqdm\n",
    "\n",
    "from package.helpers.roman_params import RomanParameters\n",
    "from package.pandeia import pandeia_input, pandeia_output\n",
    "\n",
    "plt.style.use(f'{repo_path}/package/mplstyle/science.mplstyle')"
   ]
  },
  {
   "cell_type": "code",
   "execution_count": 3,
   "metadata": {},
   "outputs": [],
   "source": [
    "csv = os.path.join(repo_path, 'data', 'roman_spacecraft_and_instrument_parameters.csv')\n",
    "array_dir = os.path.join(repo_path, 'output', 'arrays', 'skypy_test')\n",
    "data_dir = os.path.join('/data','bwedig', 'roman-population', 'data')\n",
    "figure_dir = os.path.join(repo_path, 'figures')\n",
    "csv_path = os.path.join(data_dir, 'dictparaggln_Area00000010.csv')\n",
    "df = pd.read_csv(csv_path)"
   ]
  },
  {
   "cell_type": "code",
   "execution_count": 4,
   "metadata": {},
   "outputs": [],
   "source": [
    "index = 3\n",
    "row = df.iloc[index]\n",
    "\n",
    "lens = Lens(z_lens=row['redslens'], \n",
    "            z_source=row['redssour'], \n",
    "            sigma_v=row['velodisp'], \n",
    "            lens_x=row['xposlens'], \n",
    "            lens_y=row['yposlens'], \n",
    "            source_x=row['xpossour'], \n",
    "            source_y=row['ypossour'], \n",
    "            mag_lens=row['magtlensF106'], \n",
    "            mag_source=row['magtsourF106'])\n",
    "\n",
    "# add CDM subhalos\n",
    "lens.add_subhalos(*pyhalo.generate_CDM_halos(lens.z_lens, lens.z_source))\n",
    "\n",
    "array = lens.get_array(num_pix=90, side=10.)"
   ]
  },
  {
   "cell_type": "code",
   "execution_count": 5,
   "metadata": {},
   "outputs": [],
   "source": [
    "band = 'f106'\n",
    "\n",
    "calc = build_default_calc('roman', 'wfi', 'imaging')\n",
    "\n",
    "# set scene size settings\n",
    "calc['configuration']['dynamic_scene'] = True\n",
    "# calc['configuration']['max_scene_size'] = 5\n",
    "\n",
    "# set filter\n",
    "calc['configuration']['instrument']['filter'] = band.lower()  # e.g. 'f106'\n",
    "\n",
    "# turn on noise sources\n",
    "calc['calculation'] = pandeia_input.get_calculation_dict(init=True)"
   ]
  },
  {
   "cell_type": "markdown",
   "metadata": {},
   "source": [
    "Convert magnitudes"
   ]
  },
  {
   "cell_type": "code",
   "execution_count": 6,
   "metadata": {},
   "outputs": [
    {
     "ename": "TypeError",
     "evalue": "'list' object cannot be interpreted as an integer",
     "output_type": "error",
     "traceback": [
      "\u001b[0;31m---------------------------------------------------------------------------\u001b[0m",
      "\u001b[0;31mTypeError\u001b[0m                                 Traceback (most recent call last)",
      "\u001b[1;32m/grad/bwedig/roman-pandeia/notebooks/phonion_sampling.ipynb Cell 7\u001b[0m line \u001b[0;36m<cell line: 4>\u001b[0;34m()\u001b[0m\n\u001b[1;32m      <a href='vscode-notebook-cell://ssh-remote%2Bzenobia/grad/bwedig/roman-pandeia/notebooks/phonion_sampling.ipynb#X11sdnNjb2RlLXJlbW90ZQ%3D%3D?line=0'>1</a>\u001b[0m source_flux_cps \u001b[39m=\u001b[39m lens\u001b[39m.\u001b[39msource_model_class\u001b[39m.\u001b[39mtotal_flux(lens\u001b[39m.\u001b[39mkwargs_source_amp)\n\u001b[1;32m      <a href='vscode-notebook-cell://ssh-remote%2Bzenobia/grad/bwedig/roman-pandeia/notebooks/phonion_sampling.ipynb#X11sdnNjb2RlLXJlbW90ZQ%3D%3D?line=1'>2</a>\u001b[0m lens_flux_cps \u001b[39m=\u001b[39m lens\u001b[39m.\u001b[39mlens_light_model_class\u001b[39m.\u001b[39mtotal_flux(lens\u001b[39m.\u001b[39mkwargs_lens_light_amp)\n\u001b[0;32m----> <a href='vscode-notebook-cell://ssh-remote%2Bzenobia/grad/bwedig/roman-pandeia/notebooks/phonion_sampling.ipynb#X11sdnNjb2RlLXJlbW90ZQ%3D%3D?line=3'>4</a>\u001b[0m total_flux_cps \u001b[39m=\u001b[39m np\u001b[39m.\u001b[39;49msum(source_flux_cps, lens_flux_cps)\n",
      "File \u001b[0;32m<__array_function__ internals>:180\u001b[0m, in \u001b[0;36msum\u001b[0;34m(*args, **kwargs)\u001b[0m\n",
      "File \u001b[0;32m/data/bwedig/.conda/envs/pandeia/lib/python3.9/site-packages/numpy/core/fromnumeric.py:2298\u001b[0m, in \u001b[0;36msum\u001b[0;34m(a, axis, dtype, out, keepdims, initial, where)\u001b[0m\n\u001b[1;32m   2295\u001b[0m         \u001b[39mreturn\u001b[39;00m out\n\u001b[1;32m   2296\u001b[0m     \u001b[39mreturn\u001b[39;00m res\n\u001b[0;32m-> 2298\u001b[0m \u001b[39mreturn\u001b[39;00m _wrapreduction(a, np\u001b[39m.\u001b[39;49madd, \u001b[39m'\u001b[39;49m\u001b[39msum\u001b[39;49m\u001b[39m'\u001b[39;49m, axis, dtype, out, keepdims\u001b[39m=\u001b[39;49mkeepdims,\n\u001b[1;32m   2299\u001b[0m                       initial\u001b[39m=\u001b[39;49minitial, where\u001b[39m=\u001b[39;49mwhere)\n",
      "File \u001b[0;32m/data/bwedig/.conda/envs/pandeia/lib/python3.9/site-packages/numpy/core/fromnumeric.py:86\u001b[0m, in \u001b[0;36m_wrapreduction\u001b[0;34m(obj, ufunc, method, axis, dtype, out, **kwargs)\u001b[0m\n\u001b[1;32m     83\u001b[0m         \u001b[39melse\u001b[39;00m:\n\u001b[1;32m     84\u001b[0m             \u001b[39mreturn\u001b[39;00m reduction(axis\u001b[39m=\u001b[39maxis, out\u001b[39m=\u001b[39mout, \u001b[39m*\u001b[39m\u001b[39m*\u001b[39mpasskwargs)\n\u001b[0;32m---> 86\u001b[0m \u001b[39mreturn\u001b[39;00m ufunc\u001b[39m.\u001b[39;49mreduce(obj, axis, dtype, out, \u001b[39m*\u001b[39;49m\u001b[39m*\u001b[39;49mpasskwargs)\n",
      "\u001b[0;31mTypeError\u001b[0m: 'list' object cannot be interpreted as an integer"
     ]
    }
   ],
   "source": [
    "source_flux_cps = lens.source_model_class.total_flux(lens.kwargs_source_amp)\n",
    "lens_flux_cps = lens.lens_light_model_class.total_flux(lens.kwargs_lens_light_amp)\n",
    "\n",
    "total_flux_cps = np.sum(source_flux_cps, lens_flux_cps)"
   ]
  },
  {
   "cell_type": "code",
   "execution_count": null,
   "metadata": {},
   "outputs": [],
   "source": [
    "# do Pandeia calculation        \n",
    "results, execution_time = pandeia_input.get_pandeia_results(calc)\n",
    "\n",
    "pandeia_output = pandeia_output.PandeiaOutput(results)"
   ]
  }
 ],
 "metadata": {
  "kernelspec": {
   "display_name": "pandeia",
   "language": "python",
   "name": "python3"
  },
  "language_info": {
   "codemirror_mode": {
    "name": "ipython",
    "version": 3
   },
   "file_extension": ".py",
   "mimetype": "text/x-python",
   "name": "python",
   "nbconvert_exporter": "python",
   "pygments_lexer": "ipython3",
   "version": "3.9.13"
  }
 },
 "nbformat": 4,
 "nbformat_minor": 2
}
