{
 "cells": [
  {
   "cell_type": "code",
   "execution_count": 1,
   "metadata": {},
   "outputs": [],
   "source": [
    "import os\n",
    "import sys\n",
    "\n",
    "import numpy as np\n",
    "import matplotlib\n",
    "%matplotlib inline\n",
    "import matplotlib.pyplot as plt\n",
    "from matplotlib import colors\n",
    "from hydra import initialize, compose\n",
    "import pickle\n",
    "from glob import glob\n",
    "from pprint import pprint\n",
    "from tqdm import tqdm\n",
    "\n",
    "from lenstronomy.LensModel.lens_model import LensModel\n",
    "from lenstronomy.LightModel.light_model import LightModel\n",
    "from lenstronomy.Util import data_util\n",
    "from lenstronomy.Util import util as len_util\n",
    "from lenstronomy.SimulationAPI.ObservationConfig import Roman\n",
    "from lenstronomy.Data.pixel_grid import PixelGrid\n",
    "from lenstronomy.Data.psf import PSF\n",
    "from lenstronomy.ImSim.image_model import ImageModel\n",
    "\n",
    "# set paths to various directories based on the machine this code is being executed on\n",
    "with initialize(version_base=None, config_path='config'):\n",
    "    config = compose(config_name='config.yaml')  # overrides=['machine=uzay']\n",
    "\n",
    "array_dir, data_dir, figure_dir, pickle_dir, repo_dir  = config.machine.array_dir, config.machine.data_dir, config.machine.figure_dir, config.machine.pickle_dir, config.machine.repo_dir\n",
    "\n",
    "# enable use of local modules\n",
    "if repo_dir not in sys.path:\n",
    "    sys.path.append(repo_dir)\n",
    "\n",
    "# set matplotlib style\n",
    "plt.style.use(f'{repo_dir}/mejiro/mplstyle/science.mplstyle')\n",
    "\n",
    "from mejiro.lenses.test import SampleStrongLens\n",
    "from mejiro.plots import diagnostic_plot, plot, plot_util, overplot\n",
    "from mejiro.analysis import stats\n",
    "from mejiro.utils import util\n",
    "from mejiro.helpers import gs"
   ]
  },
  {
   "cell_type": "code",
   "execution_count": 2,
   "metadata": {},
   "outputs": [
    {
     "name": "stdout",
     "output_type": "stream",
     "text": [
      "40 detectable lens(es)\n"
     ]
    }
   ],
   "source": [
    "pickle_path = os.path.join(data_dir, 'sample_detectable_gglenses.pkl')\n",
    "detectable_gglenses = util.unpickle(pickle_path)\n",
    "\n",
    "print(f'{len(detectable_gglenses)} detectable lens(es)')"
   ]
  },
  {
   "cell_type": "code",
   "execution_count": 3,
   "metadata": {},
   "outputs": [],
   "source": [
    "snr_dict = dict()"
   ]
  },
  {
   "cell_type": "code",
   "execution_count": 4,
   "metadata": {},
   "outputs": [
    {
     "name": "stderr",
     "output_type": "stream",
     "text": [
      "100%|██████████| 8/8 [00:01<00:00,  6.03it/s]\n"
     ]
    }
   ],
   "source": [
    "masks = np.arange(0.1, 4.1, 0.5)\n",
    "\n",
    "for mask_factor in tqdm(masks):\n",
    "    snrs = []\n",
    "\n",
    "    for gglens in detectable_gglenses:\n",
    "        kwargs_model, kwargs_params = gglens.lenstronomy_kwargs(band='F106')\n",
    "\n",
    "        magnitude_zero_point = Roman.F106_band_obs['magnitude_zero_point']\n",
    "        lens_model = LensModel(kwargs_model['lens_model_list'])\n",
    "        source_light_model = LightModel(kwargs_model['source_light_model_list'])\n",
    "        lens_light_model = LightModel(kwargs_model['lens_light_model_list'])\n",
    "        kwargs_lens = kwargs_params['kwargs_lens']\n",
    "        kwargs_source = kwargs_params['kwargs_source']\n",
    "        kwargs_lens_light = kwargs_params['kwargs_lens_light']\n",
    "        kwargs_source_amp = data_util.magnitude2amplitude(source_light_model, kwargs_source, magnitude_zero_point)\n",
    "        kwargs_lens_light_amp = data_util.magnitude2amplitude(lens_light_model, kwargs_lens_light, magnitude_zero_point)\n",
    "\n",
    "        # set up image\n",
    "        num_pix = 45  # at 0.11 pixels/\", 10.01\"\n",
    "        psf_class = PSF(**{'psf_type': 'GAUSSIAN', 'fwhm': 0.087})\n",
    "        kwargs_numerics = {\n",
    "                'supersampling_factor': 1,\n",
    "                'supersampling_convolution': False\n",
    "            }\n",
    "        _, _, ra_at_xy_0, dec_at_xy_0, _, _, Mpix2coord, Mcoord2pix = len_util.make_grid_with_coordtransform(\n",
    "                numPix=num_pix,\n",
    "                deltapix=0.11,\n",
    "                subgrid_res=1,\n",
    "                left_lower=False,\n",
    "                inverse=False)\n",
    "        kwargs_pixel = {'nx': num_pix, 'ny': num_pix,  # number of pixels per axis\n",
    "                            'ra_at_xy_0': ra_at_xy_0,\n",
    "                            'dec_at_xy_0': dec_at_xy_0,\n",
    "                            'transform_pix2angle': Mpix2coord}\n",
    "        pixel_grid = PixelGrid(**kwargs_pixel)\n",
    "        image_model = ImageModel(data_class=pixel_grid,\n",
    "                                    psf_class=psf_class,\n",
    "                                    lens_model_class=lens_model,\n",
    "                                    source_model_class=source_light_model,\n",
    "                                    lens_light_model_class=lens_light_model,\n",
    "                                    kwargs_numerics=kwargs_numerics)\n",
    "\n",
    "        # get surface brightness arrays\n",
    "        lens_surface_brightness = image_model.lens_surface_brightness(kwargs_lens_light_amp)\n",
    "        source_surface_brightness = image_model.source_surface_brightness(kwargs_source_amp, kwargs_lens)\n",
    "        total_image = image_model.image(kwargs_lens=kwargs_lens,\n",
    "                                    kwargs_source=kwargs_source_amp,\n",
    "                                    kwargs_lens_light=kwargs_lens_light_amp)\n",
    "        \n",
    "        # calculate region for source surface brightness array and count signal\n",
    "        stdev = np.std(source_surface_brightness)\n",
    "        mean = np.mean(source_surface_brightness)\n",
    "        mask = source_surface_brightness < mean + (mask_factor * stdev)\n",
    "        masked_source = np.ma.masked_array(source_surface_brightness, mask=mask)\n",
    "        sum_source_counts = np.sum(masked_source)\n",
    "        \n",
    "        # estimate and add background\n",
    "        min_zodiacal_light_f106 = 0.29\n",
    "        thermal_background_f106 = 0\n",
    "        estimated_background = (min_zodiacal_light_f106 * 1.5) + thermal_background_f106  # in counts/pixel\n",
    "        estimated_background *= np.ones(total_image.shape)\n",
    "        total_image += estimated_background\n",
    "\n",
    "        # estimated total noise in 180s from https://roman.gsfc.nasa.gov/science/WFI_technical.html\n",
    "        noise_180s = 5.5  # e- RMS\n",
    "        noise_rms = noise_180s * (146 / 180)\n",
    "        noise_array = np.random.poisson(noise_rms, total_image.shape)\n",
    "        total_image += noise_array\n",
    "        \n",
    "        # count total signal\n",
    "        masked_total = np.ma.masked_array(total_image, mask=mask)\n",
    "        sum_total_counts = np.sum(masked_total)\n",
    "        \n",
    "        # calculate estimated SNR\n",
    "        snr = sum_source_counts / np.sqrt(sum_total_counts)\n",
    "        snrs.append(snr)\n",
    "\n",
    "    snr_dict[mask_factor] = snrs\n",
    "\n",
    "    # _, ax = plt.subplots(1, 6)\n",
    "\n",
    "    # ax[0].imshow(lens_surface_brightness)\n",
    "    # ax[1].imshow(source_surface_brightness)\n",
    "    # ax[2].imshow(total_image)\n",
    "    # ax[3].imshow(mask)\n",
    "    # ax[4].imshow(masked_source)\n",
    "    # ax[5].imshow(masked_total)\n",
    "\n",
    "    # ax[1].set_title(f'SNR: {np.round(snr, 2)}')\n",
    "    # ax[4].set_title(f'{np.round(sum_source_counts)} counts')\n",
    "    # ax[5].set_title(f'{np.round(sum_total_counts)} counts')\n",
    "\n",
    "    # for each in ax:\n",
    "    #     each.set_axis_off()\n",
    "\n",
    "    # plt.hist(source_surface_brightness)\n",
    "    # # plt.imshow(mask)\n",
    "    # # plt.colorbar()\n",
    "    # plt.show()"
   ]
  },
  {
   "cell_type": "code",
   "execution_count": 5,
   "metadata": {},
   "outputs": [
    {
     "data": {
      "image/png": "[encoded data removed]",
      "text/plain": [
       "<Figure size 700x525 with 1 Axes>"
      ]
     },
     "metadata": {},
     "output_type": "display_data"
    }
   ],
   "source": [
    "for i, mask in enumerate(masks):\n",
    "    plt.hist(snr_dict[mask], label=f'SNR={mask}', alpha=0.5)\n",
    "\n",
    "plt.legend()\n",
    "plt.show()"
   ]
  }
 ],
 "metadata": {
  "kernelspec": {
   "display_name": "mejiro",
   "language": "python",
   "name": "python3"
  },
  "language_info": {
   "codemirror_mode": {
    "name": "ipython",
    "version": 3
   },
   "file_extension": ".py",
   "mimetype": "text/x-python",
   "name": "python",
   "nbconvert_exporter": "python",
   "pygments_lexer": "ipython3",
   "version": "3.10.6"
  }
 },
 "nbformat": 4,
 "nbformat_minor": 2
}
