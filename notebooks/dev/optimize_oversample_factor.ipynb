{
 "cells": [
  {
   "cell_type": "code",
   "execution_count": 2,
   "metadata": {},
   "outputs": [],
   "source": [
    "import os\n",
    "import sys\n",
    "\n",
    "import numpy as np\n",
    "import matplotlib\n",
    "%matplotlib inline\n",
    "import matplotlib.pyplot as plt\n",
    "from matplotlib import colors\n",
    "from hydra import initialize, compose\n",
    "import pickle\n",
    "from glob import glob\n",
    "from pprint import pprint\n",
    "from tqdm import tqdm\n",
    "import galsim\n",
    "from copy import deepcopy\n",
    "\n",
    "# set paths to various directories based on the machine this code is being executed on\n",
    "try:\n",
    "    with initialize(version_base=None, config_path='config'):  \n",
    "        config = compose(config_name='config.yaml')  # overrides=['machine=uzay']\n",
    "except:\n",
    "    with initialize(version_base=None, config_path='../../config'):  \n",
    "        config = compose(config_name='config.yaml')  # overrides=['machine=uzay']\n",
    "\n",
    "array_dir, data_dir, figure_dir, pickle_dir, repo_dir  = config.machine.array_dir, config.machine.data_dir, config.machine.figure_dir, config.machine.pickle_dir, config.machine.repo_dir\n",
    "\n",
    "# enable use of local modules\n",
    "if repo_dir not in sys.path:\n",
    "    sys.path.append(repo_dir)\n",
    "\n",
    "# set matplotlib style\n",
    "plt.style.use(f'{repo_dir}/mejiro/mplstyle/science.mplstyle')\n",
    "\n",
    "from mejiro.lenses.test import SampleStrongLens\n",
    "from mejiro.plots import diagnostic_plot, plot, plot_util, overplot\n",
    "from mejiro.analysis import stats\n",
    "from mejiro.utils import util\n",
    "from mejiro.helpers import gs\n",
    "from mejiro.instruments.roman import Roman\n",
    "from mejiro.synthetic_image import SyntheticImage\n",
    "from mejiro.lenses.test import SampleStrongLens\n",
    "from mejiro.exposure import Exposure"
   ]
  },
  {
   "cell_type": "code",
   "execution_count": 5,
   "metadata": {},
   "outputs": [
    {
     "name": "stdout",
     "output_type": "stream",
     "text": [
      "Computing on pixel grid of size 47x47 (5.17\"x5.17\") with pixel scale 0.11 arcsec/pixel (natively 0.11 arcsec/pixel oversampled by factor 1)\n",
      "Initialized SyntheticImage for StrongLens SAMPLE by Roman in F106 band\n"
     ]
    },
    {
     "ename": "ValueError",
     "evalue": "Negative pixel values in final image",
     "output_type": "error",
     "traceback": [
      "\u001b[0;31m---------------------------------------------------------------------------\u001b[0m",
      "\u001b[0;31mValueError\u001b[0m                                Traceback (most recent call last)",
      "Input \u001b[0;32mIn [5]\u001b[0m, in \u001b[0;36m<cell line: 16>\u001b[0;34m()\u001b[0m\n\u001b[1;32m     10\u001b[0m engine_params \u001b[38;5;241m=\u001b[39m {\n\u001b[1;32m     11\u001b[0m     \u001b[38;5;124m'\u001b[39m\u001b[38;5;124msky_background\u001b[39m\u001b[38;5;124m'\u001b[39m: \u001b[38;5;28;01mFalse\u001b[39;00m,\n\u001b[1;32m     12\u001b[0m     \u001b[38;5;124m'\u001b[39m\u001b[38;5;124mdetector_effects\u001b[39m\u001b[38;5;124m'\u001b[39m: \u001b[38;5;28;01mFalse\u001b[39;00m,\n\u001b[1;32m     13\u001b[0m }\n\u001b[1;32m     15\u001b[0m synth_1 \u001b[38;5;241m=\u001b[39m SyntheticImage(lens, roman, band, arcsec\u001b[38;5;241m=\u001b[39mscene_size, oversample\u001b[38;5;241m=\u001b[39m\u001b[38;5;241m1\u001b[39m, pieces\u001b[38;5;241m=\u001b[39m\u001b[38;5;28;01mFalse\u001b[39;00m, verbose\u001b[38;5;241m=\u001b[39m\u001b[38;5;28;01mTrue\u001b[39;00m, instrument_params\u001b[38;5;241m=\u001b[39minstrument_params)\n\u001b[0;32m---> 16\u001b[0m exposure_1 \u001b[38;5;241m=\u001b[39m \u001b[43mExposure\u001b[49m\u001b[43m(\u001b[49m\u001b[43msynth_1\u001b[49m\u001b[43m,\u001b[49m\u001b[43m \u001b[49m\u001b[43mexposure_time\u001b[49m\u001b[38;5;241;43m=\u001b[39;49m\u001b[43mexposure_time\u001b[49m\u001b[43m,\u001b[49m\u001b[43m \u001b[49m\u001b[43mengine\u001b[49m\u001b[38;5;241;43m=\u001b[39;49m\u001b[38;5;124;43m'\u001b[39;49m\u001b[38;5;124;43mgalsim\u001b[39;49m\u001b[38;5;124;43m'\u001b[39;49m\u001b[43m,\u001b[49m\u001b[43m \u001b[49m\u001b[43mengine_params\u001b[49m\u001b[38;5;241;43m=\u001b[39;49m\u001b[43mengine_params\u001b[49m\u001b[43m,\u001b[49m\u001b[43m \u001b[49m\u001b[43mpsf\u001b[49m\u001b[38;5;241;43m=\u001b[39;49m\u001b[38;5;28;43;01mNone\u001b[39;49;00m\u001b[43m,\u001b[49m\u001b[43m \u001b[49m\u001b[43mverbose\u001b[49m\u001b[38;5;241;43m=\u001b[39;49m\u001b[38;5;28;43;01mTrue\u001b[39;49;00m\u001b[43m)\u001b[49m\n",
      "File \u001b[0;32m/nfshome/bwedig/mejiro/mejiro/exposure.py:43\u001b[0m, in \u001b[0;36mExposure.__init__\u001b[0;34m(self, synthetic_image, exposure_time, engine, engine_params, psf, verbose, **kwargs)\u001b[0m\n\u001b[1;32m     41\u001b[0m Exposure\u001b[38;5;241m.\u001b[39mcrop_edge_effects(exposure)  \u001b[38;5;66;03m# crop off edge effects (e.g., IPC)\u001b[39;00m\n\u001b[1;32m     42\u001b[0m \u001b[38;5;28;01mif\u001b[39;00m np\u001b[38;5;241m.\u001b[39many(exposure \u001b[38;5;241m<\u001b[39m \u001b[38;5;241m0\u001b[39m):\n\u001b[0;32m---> 43\u001b[0m     \u001b[38;5;28;01mraise\u001b[39;00m \u001b[38;5;167;01mValueError\u001b[39;00m(\u001b[38;5;124m'\u001b[39m\u001b[38;5;124mNegative pixel values in final image\u001b[39m\u001b[38;5;124m'\u001b[39m)\n\u001b[1;32m     44\u001b[0m \u001b[38;5;28mself\u001b[39m\u001b[38;5;241m.\u001b[39mexposure \u001b[38;5;241m=\u001b[39m exposure\n\u001b[1;32m     46\u001b[0m \u001b[38;5;28;01mif\u001b[39;00m \u001b[38;5;28mself\u001b[39m\u001b[38;5;241m.\u001b[39msynthetic_image\u001b[38;5;241m.\u001b[39mpieces:\n",
      "\u001b[0;31mValueError\u001b[0m: Negative pixel values in final image"
     ]
    }
   ],
   "source": [
    "lens = SampleStrongLens()\n",
    "roman = Roman()\n",
    "band = 'F106'\n",
    "scene_size = 5  # arcsec\n",
    "exposure_time = 146\n",
    "instrument_params = {\n",
    "    'detector': 1,\n",
    "    'detector_position': (2048, 2048)\n",
    "}\n",
    "engine_params = {\n",
    "    'sky_background': False,\n",
    "    'detector_effects': False,\n",
    "}\n",
    "\n",
    "synth_1 = SyntheticImage(lens, roman, band, arcsec=scene_size, oversample=1, pieces=False, verbose=True, instrument_params=instrument_params)\n",
    "exposure_1 = Exposure(synth_1, exposure_time=exposure_time, engine='galsim', engine_params=engine_params, psf=None, verbose=True)"
   ]
  },
  {
   "cell_type": "code",
   "execution_count": 6,
   "metadata": {},
   "outputs": [
    {
     "name": "stdout",
     "output_type": "stream",
     "text": [
      "Computing on pixel grid of size 141x141 (5.17\"x5.17\") with pixel scale 0.03666666666666667 arcsec/pixel (natively 0.11 arcsec/pixel oversampled by factor 3)\n",
      "Initialized SyntheticImage for StrongLens SAMPLE by Roman in F106 band\n"
     ]
    }
   ],
   "source": [
    "synth_3 = SyntheticImage(lens, roman, band, arcsec=scene_size, oversample=3, pieces=False, verbose=True, instrument_params=instrument_params)\n",
    "exposure_3 = Exposure(synth_3, exposure_time=exposure_time, engine='galsim', engine_params=engine_params, psf=None, verbose=True)"
   ]
  },
  {
   "cell_type": "code",
   "execution_count": 7,
   "metadata": {},
   "outputs": [
    {
     "name": "stdout",
     "output_type": "stream",
     "text": [
      "Computing on pixel grid of size 235x235 (5.17\"x5.17\") with pixel scale 0.022 arcsec/pixel (natively 0.11 arcsec/pixel oversampled by factor 5)\n",
      "Initialized SyntheticImage for StrongLens SAMPLE by Roman in F106 band\n"
     ]
    }
   ],
   "source": [
    "synth_5 = SyntheticImage(lens, roman, band, arcsec=scene_size, oversample=5, pieces=False, verbose=True, instrument_params=instrument_params)\n",
    "exposure_5 = Exposure(synth_5, exposure_time=exposure_time, engine='galsim', engine_params=engine_params, psf=None, verbose=True)"
   ]
  },
  {
   "cell_type": "code",
   "execution_count": 8,
   "metadata": {},
   "outputs": [
    {
     "name": "stdout",
     "output_type": "stream",
     "text": [
      "Computing on pixel grid of size 329x329 (5.17\"x5.17\") with pixel scale 0.015714285714285715 arcsec/pixel (natively 0.11 arcsec/pixel oversampled by factor 7)\n",
      "Initialized SyntheticImage for StrongLens SAMPLE by Roman in F106 band\n"
     ]
    }
   ],
   "source": [
    "synth_7 = SyntheticImage(lens, roman, band, arcsec=scene_size, oversample=7, pieces=False, verbose=True, instrument_params=instrument_params)\n",
    "exposure_7 = Exposure(synth_7, exposure_time=exposure_time, engine='galsim', engine_params=engine_params, psf=None, verbose=True)"
   ]
  },
  {
   "cell_type": "code",
   "execution_count": 9,
   "metadata": {},
   "outputs": [
    {
     "name": "stdout",
     "output_type": "stream",
     "text": [
      "Computing on pixel grid of size 423x423 (5.17\"x5.17\") with pixel scale 0.012222222222222223 arcsec/pixel (natively 0.11 arcsec/pixel oversampled by factor 9)\n",
      "Initialized SyntheticImage for StrongLens SAMPLE by Roman in F106 band\n"
     ]
    }
   ],
   "source": [
    "synth_9 = SyntheticImage(lens, roman, band, arcsec=scene_size, oversample=9, pieces=False, verbose=True, instrument_params=instrument_params)\n",
    "exposure_9 = Exposure(synth_9, exposure_time=exposure_time, engine='galsim', engine_params=engine_params, psf=None, verbose=True)"
   ]
  },
  {
   "cell_type": "code",
   "execution_count": 10,
   "metadata": {},
   "outputs": [
    {
     "name": "stdout",
     "output_type": "stream",
     "text": [
      "Computing on pixel grid of size 517x517 (5.17\"x5.17\") with pixel scale 0.01 arcsec/pixel (natively 0.11 arcsec/pixel oversampled by factor 11)\n",
      "Initialized SyntheticImage for StrongLens SAMPLE by Roman in F106 band\n"
     ]
    }
   ],
   "source": [
    "synth_11 = SyntheticImage(lens, roman, band, arcsec=scene_size, oversample=11, pieces=False, verbose=True, instrument_params=instrument_params)\n",
    "exposure_11 = Exposure(synth_11, exposure_time=exposure_time, engine='galsim', engine_params=engine_params, psf=None, verbose=True)"
   ]
  },
  {
   "cell_type": "code",
   "execution_count": 12,
   "metadata": {},
   "outputs": [],
   "source": [
    "dif_9 = exposure_11.exposure - exposure_9.exposure\n",
    "dif_7 = exposure_11.exposure - exposure_7.exposure\n",
    "dif_5 = exposure_11.exposure - exposure_5.exposure\n",
    "dif_3 = exposure_11.exposure - exposure_3.exposure\n",
    "# dif_1 = exposure_11.exposure - exposure_1.exposure\n",
    "\n",
    "chi_9 = stats.chi_square(exposure_9.exposure, exposure_11.exposure)\n",
    "chi_7 = stats.chi_square(exposure_7.exposure, exposure_11.exposure)\n",
    "chi_5 = stats.chi_square(exposure_5.exposure, exposure_11.exposure)\n",
    "chi_3 = stats.chi_square(exposure_3.exposure, exposure_11.exposure)\n",
    "# chi_1 = stats.chi_square(exposure_1.exposure, exposure_11.exposure)"
   ]
  },
  {
   "cell_type": "code",
   "execution_count": 14,
   "metadata": {},
   "outputs": [
    {
     "data": {
      "image/png": "[encoded data removed]",
      "text/plain": [
       "<Figure size 1600x400 with 4 Axes>"
      ]
     },
     "metadata": {},
     "output_type": "display_data"
    }
   ],
   "source": [
    "v = plot_util.get_v([dif_3, dif_5, dif_7, dif_9])\n",
    "\n",
    "f, ax = plt.subplots(1, 4, figsize=(16, 4))\n",
    "ax[0].imshow(dif_9, vmin=-v, vmax=v, cmap='bwr')\n",
    "ax[1].imshow(dif_7, vmin=-v, vmax=v, cmap='bwr')\n",
    "ax[2].imshow(dif_5, vmin=-v, vmax=v, cmap='bwr')\n",
    "ax[3].imshow(dif_3, vmin=-v, vmax=v, cmap='bwr')\n",
    "\n",
    "ax[0].set_title(f'9 vs 11\\n$\\chi^2$ = {chi_9:.2f}')\n",
    "ax[1].set_title(f'7 vs 11\\n$\\chi^2$ = {chi_7:.2f}')\n",
    "ax[2].set_title(f'5 vs 11\\n$\\chi^2$ = {chi_5:.2f}')\n",
    "ax[3].set_title(f'3 vs 11\\n$\\chi^2$ = {chi_3:.2f}')\n",
    "\n",
    "for a in ax:\n",
    "    a.axis('off')\n",
    "\n",
    "plt.show()"
   ]
  },
  {
   "cell_type": "code",
   "execution_count": 15,
   "metadata": {},
   "outputs": [
    {
     "data": {
      "image/png": "[encoded data removed]",
      "text/plain": [
       "<Figure size 1600x400 with 4 Axes>"
      ]
     },
     "metadata": {},
     "output_type": "display_data"
    }
   ],
   "source": [
    "f, ax = plt.subplots(1, 4, figsize=(16, 4))\n",
    "ax[0].imshow(dif_9)\n",
    "ax[1].imshow(dif_7)\n",
    "ax[2].imshow(dif_5)\n",
    "ax[3].imshow(dif_3)\n",
    "\n",
    "ax[0].set_title(f'9 vs 11\\n$\\chi^2$ = {chi_9:.2f}')\n",
    "ax[1].set_title(f'7 vs 11\\n$\\chi^2$ = {chi_7:.2f}')\n",
    "ax[2].set_title(f'5 vs 11\\n$\\chi^2$ = {chi_5:.2f}')\n",
    "ax[3].set_title(f'3 vs 11\\n$\\chi^2$ = {chi_3:.2f}')\n",
    "\n",
    "for a in ax:\n",
    "    a.axis('off')\n",
    "\n",
    "plt.show()"
   ]
  },
  {
   "cell_type": "code",
   "execution_count": 16,
   "metadata": {},
   "outputs": [
    {
     "data": {
      "image/png": "[encoded data removed]",
      "text/plain": [
       "<Figure size 700x525 with 2 Axes>"
      ]
     },
     "metadata": {},
     "output_type": "display_data"
    }
   ],
   "source": [
    "plt.imshow(dif_9)\n",
    "plt.colorbar()\n",
    "plt.show()"
   ]
  }
 ],
 "metadata": {
  "kernelspec": {
   "display_name": "mejiro",
   "language": "python",
   "name": "python3"
  },
  "language_info": {
   "codemirror_mode": {
    "name": "ipython",
    "version": 3
   },
   "file_extension": ".py",
   "mimetype": "text/x-python",
   "name": "python",
   "nbconvert_exporter": "python",
   "pygments_lexer": "ipython3",
   "version": "3.10.6"
  }
 },
 "nbformat": 4,
 "nbformat_minor": 2
}
