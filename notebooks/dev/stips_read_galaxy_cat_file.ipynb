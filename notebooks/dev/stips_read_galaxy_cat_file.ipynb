{
 "cells": [
  {
   "cell_type": "code",
   "execution_count": 1,
   "metadata": {},
   "outputs": [],
   "source": [
    "import matplotlib\n",
    "import matplotlib.pyplot as plt\n",
    "%matplotlib inline\n",
    "import numpy as np\n",
    "\n",
    "from astropy.io import fits\n",
    "from astropy.table import Table\n",
    "from astropy.wcs import WCS"
   ]
  },
  {
   "cell_type": "code",
   "execution_count": 2,
   "metadata": {},
   "outputs": [
    {
     "name": "stdout",
     "output_type": "stream",
     "text": [
      "Filename: /data/bwedig/STIPS/nb_gals_000.fits\n",
      "No.    Name      Ver    Type      Cards   Dimensions   Format\n",
      "  0  PRIMARY       1 PrimaryHDU       4   ()      \n",
      "  1                1 BinTableHDU     33   5R x 12C   [K, D, D, D, D, D, 6A, D, D, D, D, 1A]   \n"
     ]
    }
   ],
   "source": [
    "with fits.open('/data/bwedig/STIPS/nb_gals_000.fits') as hdu_list:\n",
    "    hdu_list.verify()\n",
    "    hdu_list.info()\n",
    "    primary_data = hdu_list['PRIMARY'].data\n",
    "    bin_table_data = hdu_list[1].data\n",
    "    primary_header = hdu_list['PRIMARY'].header\n",
    "    bin_table_header = hdu_list[1].header"
   ]
  },
  {
   "cell_type": "code",
   "execution_count": 3,
   "metadata": {},
   "outputs": [
    {
     "name": "stdout",
     "output_type": "stream",
     "text": [
      "SIMPLE  =                    T / conforms to FITS standard                      \n",
      "BITPIX  =                    8 / array data type                                \n",
      "NAXIS   =                    0 / number of array dimensions                     \n",
      "EXTEND  =                    T                                                  \n",
      "---------------------------------------------\n",
      "XTENSION= 'BINTABLE'           / binary table extension                         \n",
      "BITPIX  =                    8 / array data type                                \n",
      "NAXIS   =                    2 / number of array dimensions                     \n",
      "NAXIS1  =                   87 / length of dimension 1                          \n",
      "NAXIS2  =                    5 / length of dimension 2                          \n",
      "PCOUNT  =                    0 / number of group parameters                     \n",
      "GCOUNT  =                    1 / number of groups                               \n",
      "TFIELDS =                   12 / number of table fields                         \n",
      "TTYPE1  = 'id      '                                                            \n",
      "TFORM1  = 'K       '                                                            \n",
      "TTYPE2  = 'ra      '                                                            \n",
      "TFORM2  = 'D       '                                                            \n",
      "TTYPE3  = 'dec     '                                                            \n",
      "TFORM3  = 'D       '                                                            \n",
      "TTYPE4  = 'F106    '                                                            \n",
      "TFORM4  = 'D       '                                                            \n",
      "TTYPE5  = 'F129    '                                                            \n",
      "TFORM5  = 'D       '                                                            \n",
      "TTYPE6  = 'F184    '                                                            \n",
      "TFORM6  = 'D       '                                                            \n",
      "TTYPE7  = 'type    '                                                            \n",
      "TFORM7  = '6A      '                                                            \n",
      "TTYPE8  = 'n       '                                                            \n",
      "TFORM8  = 'D       '                                                            \n",
      "TTYPE9  = 're      '                                                            \n",
      "TFORM9  = 'D       '                                                            \n",
      "TTYPE10 = 'phi     '                                                            \n",
      "TFORM10 = 'D       '                                                            \n",
      "TTYPE11 = 'ratio   '                                                            \n",
      "TFORM11 = 'D       '                                                            \n",
      "TTYPE12 = 'notes   '                                                            \n",
      "TFORM12 = '1A      '                                                            \n",
      "TYPE    = 'multifilter'                                                         \n"
     ]
    }
   ],
   "source": [
    "from pprint import pprint\n",
    "pprint(primary_header)\n",
    "print('---------------------------------------------')\n",
    "pprint(bin_table_header)"
   ]
  },
  {
   "cell_type": "code",
   "execution_count": 4,
   "metadata": {},
   "outputs": [
    {
     "data": {
      "text/html": [
       "<i>Table length=5</i>\n",
       "<table id=\"table140588967440256-351937\" class=\"table-striped table-bordered table-condensed\">\n",
       "<thead><tr><th>idx</th><th>id</th><th>ra</th><th>dec</th><th>F106</th><th>F129</th><th>F184</th><th>type</th><th>n</th><th>re</th><th>phi</th><th>ratio</th><th>notes</th></tr></thead>\n",
       "<tr><td>0</td><td>26202</td><td>30.005430758587863</td><td>-30.053504935307565</td><td>0.12945614328852523</td><td>0.21612367453270548</td><td>0.3909394175339039</td><td>sersic</td><td>1.3336733171059336</td><td>0.21582940060566883</td><td>264.25593649669514</td><td>0.8180568899615356</td><td></td></tr>\n",
       "<tr><td>1</td><td>36535</td><td>30.038228688351783</td><td>-30.05608969286047</td><td>16.69948036608155</td><td>37.25431135592708</td><td>52.20047205475938</td><td>sersic</td><td>3.1116171655390636</td><td>0.503046136343846</td><td>47.36842127308814</td><td>0.8281202495812375</td><td></td></tr>\n",
       "<tr><td>2</td><td>10710</td><td>29.96356848425402</td><td>-30.025019124010516</td><td>0.12100833765040918</td><td>0.18733405029921976</td><td>0.20632981379909043</td><td>sersic</td><td>1.0601307675852198</td><td>0.16345002150406285</td><td>327.561444575155</td><td>0.8366494878158032</td><td></td></tr>\n",
       "<tr><td>3</td><td>13942</td><td>29.957283825553574</td><td>-30.00671374178636</td><td>1.0405532395005153</td><td>1.101041509003248</td><td>1.1695764527769394</td><td>sersic</td><td>1.061491182883941</td><td>0.4153468902563256</td><td>29.408867612993582</td><td>0.8027992850127909</td><td></td></tr>\n",
       "<tr><td>4</td><td>35322</td><td>29.960487232833106</td><td>-29.975513534815676</td><td>2.5113496673358884</td><td>2.7955385920244553</td><td>2.2842764482432854</td><td>sersic</td><td>0.9502216562474055</td><td>0.11617260324743933</td><td>85.5609905025587</td><td>0.865710970291946</td><td></td></tr>\n",
       "</table><style>table.dataTable {clear: both; width: auto !important; margin: 0 !important;}\n",
       ".dataTables_info, .dataTables_length, .dataTables_filter, .dataTables_paginate{\n",
       "display: inline-block; margin-right: 1em; }\n",
       ".paginate_button { margin-right: 5px; }\n",
       "</style>\n",
       "<script>\n",
       "\n",
       "var astropy_sort_num = function(a, b) {\n",
       "    var a_num = parseFloat(a);\n",
       "    var b_num = parseFloat(b);\n",
       "\n",
       "    if (isNaN(a_num) && isNaN(b_num))\n",
       "        return ((a < b) ? -1 : ((a > b) ? 1 : 0));\n",
       "    else if (!isNaN(a_num) && !isNaN(b_num))\n",
       "        return ((a_num < b_num) ? -1 : ((a_num > b_num) ? 1 : 0));\n",
       "    else\n",
       "        return isNaN(a_num) ? -1 : 1;\n",
       "}\n",
       "\n",
       "require.config({paths: {\n",
       "    datatables: 'https://cdn.datatables.net/1.10.12/js/jquery.dataTables.min'\n",
       "}});\n",
       "require([\"datatables\"], function(){\n",
       "    console.log(\"$('#table140588967440256-351937').dataTable()\");\n",
       "    \n",
       "jQuery.extend( jQuery.fn.dataTableExt.oSort, {\n",
       "    \"optionalnum-asc\": astropy_sort_num,\n",
       "    \"optionalnum-desc\": function (a,b) { return -astropy_sort_num(a, b); }\n",
       "});\n",
       "\n",
       "    $('#table140588967440256-351937').dataTable({\n",
       "        order: [],\n",
       "        pageLength: 50,\n",
       "        lengthMenu: [[10, 25, 50, 100, 500, 1000, -1], [10, 25, 50, 100, 500, 1000, 'All']],\n",
       "        pagingType: \"full_numbers\",\n",
       "        columnDefs: [{targets: [0, 1, 2, 3, 4, 5, 6, 8, 9, 10, 11], type: \"optionalnum\"}]\n",
       "    });\n",
       "});\n",
       "</script>\n"
      ],
      "text/plain": [
       "<IPython.core.display.HTML object>"
      ]
     },
     "execution_count": 4,
     "metadata": {},
     "output_type": "execute_result"
    }
   ],
   "source": [
    "bin_table = Table(bin_table_data)\n",
    "bin_table.show_in_notebook()"
   ]
  },
  {
   "cell_type": "code",
   "execution_count": 8,
   "metadata": {},
   "outputs": [
    {
     "name": "stdout",
     "output_type": "stream",
     "text": [
      "Filename: /data/bwedig/STIPS/nb_gals_000_01_conv_F106.fits\n",
      "No.    Name      Ver    Type      Cards   Dimensions   Format\n",
      "  0  PRIMARY       1 PrimaryHDU       4   ()      \n",
      "  1                1 BinTableHDU     31   5R x 10C   [D, D, D, 6A, D, D, D, D, K, 1A]   \n"
     ]
    }
   ],
   "source": [
    "with fits.open('/data/bwedig/STIPS/nb_gals_000_01_conv_F106.fits') as hdu_list:\n",
    "    hdu_list.verify()\n",
    "    hdu_list.info()\n",
    "    primary_data = hdu_list['PRIMARY'].data\n",
    "    bin_table_data = hdu_list[1].data\n",
    "    primary_header = hdu_list['PRIMARY'].header\n",
    "    bin_table_header = hdu_list[1].header"
   ]
  },
  {
   "cell_type": "code",
   "execution_count": 9,
   "metadata": {},
   "outputs": [
    {
     "data": {
      "text/html": [
       "<i>Table length=5</i>\n",
       "<table id=\"table140588930966160-435122\" class=\"table-striped table-bordered table-condensed\">\n",
       "<thead><tr><th>idx</th><th>ra</th><th>dec</th><th>flux</th><th>type</th><th>n</th><th>re</th><th>phi</th><th>ratio</th><th>id</th><th>notes</th></tr></thead>\n",
       "<tr><td>0</td><td>30.005430758587863</td><td>-30.053504935307565</td><td>0.12945614328852523</td><td>sersic</td><td>1.3336733171059336</td><td>1.9620854600515347</td><td>264.25593649669514</td><td>0.8180568899615356</td><td>26202</td><td>N</td></tr>\n",
       "<tr><td>1</td><td>30.038228688351783</td><td>-30.05608969286047</td><td>16.69948036608155</td><td>sersic</td><td>3.1116171655390636</td><td>4.573146694034963</td><td>47.36842127308814</td><td>0.8281202495812375</td><td>36535</td><td>N</td></tr>\n",
       "<tr><td>2</td><td>29.96356848425402</td><td>-30.025019124010516</td><td>0.12100833765040918</td><td>sersic</td><td>1.0601307675852198</td><td>1.4859092864005714</td><td>327.561444575155</td><td>0.8366494878158032</td><td>10710</td><td>N</td></tr>\n",
       "<tr><td>3</td><td>29.957283825553574</td><td>-30.00671374178636</td><td>1.0405532395005153</td><td>sersic</td><td>1.061491182883941</td><td>3.7758808205120507</td><td>29.408867612993582</td><td>0.8027992850127909</td><td>13942</td><td>N</td></tr>\n",
       "<tr><td>4</td><td>29.960487232833106</td><td>-29.975513534815676</td><td>2.5113496673358884</td><td>sersic</td><td>0.9502216562474055</td><td>1.0561145749767211</td><td>85.5609905025587</td><td>0.865710970291946</td><td>35322</td><td>N</td></tr>\n",
       "</table><style>table.dataTable {clear: both; width: auto !important; margin: 0 !important;}\n",
       ".dataTables_info, .dataTables_length, .dataTables_filter, .dataTables_paginate{\n",
       "display: inline-block; margin-right: 1em; }\n",
       ".paginate_button { margin-right: 5px; }\n",
       "</style>\n",
       "<script>\n",
       "\n",
       "var astropy_sort_num = function(a, b) {\n",
       "    var a_num = parseFloat(a);\n",
       "    var b_num = parseFloat(b);\n",
       "\n",
       "    if (isNaN(a_num) && isNaN(b_num))\n",
       "        return ((a < b) ? -1 : ((a > b) ? 1 : 0));\n",
       "    else if (!isNaN(a_num) && !isNaN(b_num))\n",
       "        return ((a_num < b_num) ? -1 : ((a_num > b_num) ? 1 : 0));\n",
       "    else\n",
       "        return isNaN(a_num) ? -1 : 1;\n",
       "}\n",
       "\n",
       "require.config({paths: {\n",
       "    datatables: 'https://cdn.datatables.net/1.10.12/js/jquery.dataTables.min'\n",
       "}});\n",
       "require([\"datatables\"], function(){\n",
       "    console.log(\"$('#table140588930966160-435122').dataTable()\");\n",
       "    \n",
       "jQuery.extend( jQuery.fn.dataTableExt.oSort, {\n",
       "    \"optionalnum-asc\": astropy_sort_num,\n",
       "    \"optionalnum-desc\": function (a,b) { return -astropy_sort_num(a, b); }\n",
       "});\n",
       "\n",
       "    $('#table140588930966160-435122').dataTable({\n",
       "        order: [],\n",
       "        pageLength: 50,\n",
       "        lengthMenu: [[10, 25, 50, 100, 500, 1000, -1], [10, 25, 50, 100, 500, 1000, 'All']],\n",
       "        pagingType: \"full_numbers\",\n",
       "        columnDefs: [{targets: [0, 1, 2, 3, 5, 6, 7, 8, 9], type: \"optionalnum\"}]\n",
       "    });\n",
       "});\n",
       "</script>\n"
      ],
      "text/plain": [
       "<IPython.core.display.HTML object>"
      ]
     },
     "execution_count": 9,
     "metadata": {},
     "output_type": "execute_result"
    }
   ],
   "source": [
    "bin_table = Table(bin_table_data)\n",
    "bin_table.show_in_notebook()"
   ]
  }
 ],
 "metadata": {
  "kernelspec": {
   "display_name": "stips_dev",
   "language": "python",
   "name": "python3"
  },
  "language_info": {
   "codemirror_mode": {
    "name": "ipython",
    "version": 3
   },
   "file_extension": ".py",
   "mimetype": "text/x-python",
   "name": "python",
   "nbconvert_exporter": "python",
   "pygments_lexer": "ipython3",
   "version": "3.10.6"
  },
  "orig_nbformat": 4
 },
 "nbformat": 4,
 "nbformat_minor": 2
}
