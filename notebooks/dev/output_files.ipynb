{
 "cells": [
  {
   "cell_type": "code",
   "execution_count": 1,
   "metadata": {},
   "outputs": [],
   "source": [
    "import os\n",
    "import sys\n",
    "\n",
    "import numpy as np\n",
    "import matplotlib\n",
    "%matplotlib inline\n",
    "import matplotlib.pyplot as plt\n",
    "from matplotlib import colors\n",
    "from hydra import initialize, compose\n",
    "import pickle\n",
    "from glob import glob\n",
    "from pprint import pprint\n",
    "from tqdm import tqdm\n",
    "import h5py\n",
    "import csv\n",
    "\n",
    "# set paths to various directories based on the machine this code is being executed on\n",
    "with initialize(version_base=None, config_path='config'):\n",
    "    config = compose(config_name='config.yaml')  # overrides=['machine=uzay']\n",
    "\n",
    "array_dir, data_dir, figure_dir, pickle_dir, repo_dir  = config.machine.array_dir, config.machine.data_dir, config.machine.figure_dir, config.machine.pickle_dir, config.machine.repo_dir\n",
    "\n",
    "# enable use of local modules\n",
    "if repo_dir not in sys.path:\n",
    "    sys.path.append(repo_dir)\n",
    "\n",
    "# set matplotlib style\n",
    "plt.style.use(f'{repo_dir}/mejiro/mplstyle/science.mplstyle')\n",
    "\n",
    "from mejiro.lenses.test import SampleStrongLens\n",
    "from mejiro.lenses.strong_lens import StrongLens\n",
    "from mejiro.plots import diagnostic_plot, plot, plot_util, overplot\n",
    "from mejiro.analysis import stats\n",
    "from mejiro.utils import util\n",
    "from mejiro.helpers import gs"
   ]
  },
  {
   "cell_type": "markdown",
   "metadata": {},
   "source": [
    "# generate `.hdf5` file"
   ]
  },
  {
   "cell_type": "code",
   "execution_count": null,
   "metadata": {},
   "outputs": [],
   "source": [
    "output_file = os.path.join(repo_dir, 'data.hdf5')"
   ]
  },
  {
   "cell_type": "code",
   "execution_count": 26,
   "metadata": {},
   "outputs": [],
   "source": [
    "image_paths = glob(f'{config.machine.dir_05}/*.npy')\n",
    "subhalo_paths = glob(f'{config.machine.dir_02}/subhalos/*')\n",
    "\n",
    "image_paths.sort()\n",
    "subhalo_paths.sort()\n",
    "\n",
    "images = [np.load(f) for f in image_paths]\n",
    "subhalos = [util.unpickle(f) for f in subhalo_paths]"
   ]
  },
  {
   "cell_type": "code",
   "execution_count": 29,
   "metadata": {},
   "outputs": [],
   "source": [
    "with h5py.File(output_file, 'w') as hf:\n",
    "    image_dataset = hf.create_dataset('images', data=images)\n",
    "    # subhalo_dataset = hf.create_dataset('subhalos', data=subhalos)\n",
    "\n",
    "    # set attributes\n",
    "    hf.attrs['n_images'] = len(images)\n",
    "    \n",
    "    for key, value in util.hydra_to_dict(config.pipeline).items():\n",
    "        hf.attrs[key] = value"
   ]
  },
  {
   "cell_type": "code",
   "execution_count": 32,
   "metadata": {},
   "outputs": [
    {
     "name": "stdout",
     "output_type": "stream",
     "text": [
      "['images']\n",
      "['band', 'exposure_time', 'final_pixel_side', 'grid_oversample', 'los_normalization', 'max_scene_size', 'n_images', 'num_pix', 'num_samples', 'seed', 'side', 'subhalo_cone', 'suppress_output']\n"
     ]
    }
   ],
   "source": [
    "with h5py.File(output_file, 'r') as hf:\n",
    "    print(list(hf.keys()))\n",
    "    print(list(hf.attrs))"
   ]
  },
  {
   "cell_type": "markdown",
   "metadata": {},
   "source": [
    "# generate `.csv`"
   ]
  },
  {
   "cell_type": "code",
   "execution_count": 2,
   "metadata": {},
   "outputs": [],
   "source": [
    "output_csv = os.path.join(repo_dir, 'data.csv')"
   ]
  },
  {
   "cell_type": "code",
   "execution_count": 3,
   "metadata": {},
   "outputs": [],
   "source": [
    "lens_paths = glob(f'{config.machine.dir_03}/lens_*')\n",
    "lens_paths.sort()"
   ]
  },
  {
   "cell_type": "code",
   "execution_count": 4,
   "metadata": {},
   "outputs": [
    {
     "name": "stderr",
     "output_type": "stream",
     "text": [
      "  0%|          | 0/1019 [00:00<?, ?it/s]"
     ]
    },
    {
     "name": "stderr",
     "output_type": "stream",
     "text": [
      "100%|██████████| 1019/1019 [00:10<00:00, 97.07it/s]\n"
     ]
    }
   ],
   "source": [
    "with open(output_csv, 'w') as f:\n",
    "    writer = csv.writer(f)\n",
    "    writer.writerow(StrongLens.get_csv_headers())\n",
    "\n",
    "    for lens_path in tqdm(lens_paths):\n",
    "        lens = util.unpickle(lens_path)\n",
    "        writer.writerow(lens.csv_row())"
   ]
  }
 ],
 "metadata": {
  "kernelspec": {
   "display_name": "mejiro",
   "language": "python",
   "name": "python3"
  },
  "language_info": {
   "codemirror_mode": {
    "name": "ipython",
    "version": 3
   },
   "file_extension": ".py",
   "mimetype": "text/x-python",
   "name": "python",
   "nbconvert_exporter": "python",
   "pygments_lexer": "ipython3",
   "version": "3.10.6"
  }
 },
 "nbformat": 4,
 "nbformat_minor": 2
}
