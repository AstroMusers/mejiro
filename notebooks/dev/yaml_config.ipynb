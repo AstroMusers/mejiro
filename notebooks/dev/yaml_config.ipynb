{
 "cells": [
  {
   "cell_type": "code",
   "execution_count": 4,
   "metadata": {},
   "outputs": [],
   "source": [
    "import matplotlib\n",
    "import numpy as np\n",
    "import os\n",
    "import sys\n",
    "%matplotlib inline\n",
    "import matplotlib.pyplot as plt\n",
    "from matplotlib import colors\n",
    "from hydra import initialize, compose\n",
    "import pickle\n",
    "from glob import glob\n",
    "from pprint import pprint\n",
    "from tqdm import tqdm\n",
    "\n",
    "# set paths to various directories based on the machine this code is being executed on\n",
    "with initialize(version_base=None, config_path='config'):\n",
    "    config = compose(config_name='config.yaml')  # overrides=['machine=uzay']\n",
    "\n",
    "array_dir, data_dir, figure_dir, pickle_dir, repo_dir = config.machine.array_dir, config.machine.data_dir, config.machine.figure_dir, config.machine.pickle_dir, config.machine.repo_dir\n",
    "\n",
    "# enable use of local modules\n",
    "if repo_dir not in sys.path:\n",
    "    sys.path.append(repo_dir)\n",
    "\n",
    "# set matplotlib style\n",
    "plt.style.use(f'{repo_dir}/mejiro/mplstyle/science.mplstyle')\n",
    "\n",
    "from mejiro.lenses.test import SampleStrongLens\n",
    "from mejiro.plots import diagnostic_plot, plot, plot_util, overplot\n",
    "from mejiro.analysis import stats\n",
    "from mejiro.utils import util\n",
    "from mejiro.helpers import gs"
   ]
  },
  {
   "cell_type": "code",
   "execution_count": 14,
   "metadata": {},
   "outputs": [],
   "source": [
    "import yaml\n",
    "\n",
    "config_path = os.path.join(repo_dir, 'config', 'config_test.yaml')\n",
    "\n",
    "with open(config_path) as f:\n",
    "    cfg = yaml.load(f, Loader=yaml.FullLoader)\n",
    "\n",
    "    machine = cfg['machine']\n",
    "    dir_config_path = os.path.join(repo_dir, 'config', 'machine', f'{machine}.yaml')\n",
    "    with open(dir_config_path) as g:\n",
    "        dir_cfg = yaml.load(g, Loader=yaml.FullLoader)"
   ]
  },
  {
   "cell_type": "code",
   "execution_count": 15,
   "metadata": {},
   "outputs": [
    {
     "name": "stdout",
     "output_type": "stream",
     "text": [
      "{'array_dir': '${machine.data_dir}/output/arrays',\n",
      " 'data_dir': '/data/bwedig/mejiro',\n",
      " 'dir_00': '${machine.pipeline_dir}/00',\n",
      " 'dir_01': '${machine.pipeline_dir}/01',\n",
      " 'dir_02': '${machine.pipeline_dir}/02',\n",
      " 'dir_03': '${machine.pipeline_dir}/03',\n",
      " 'dir_04': '${machine.pipeline_dir}/04',\n",
      " 'dir_05': '${machine.pipeline_dir}/05',\n",
      " 'figure_dir': '${machine.repo_dir}/figures',\n",
      " 'headroom_cores': 4,\n",
      " 'pickle_dir': '${machine.data_dir}/output/pickles',\n",
      " 'pipeline_dir': '${machine.data_dir}/pipeline',\n",
      " 'repo_dir': '/nfshome/bwedig/mejiro'}\n"
     ]
    }
   ],
   "source": [
    "pprint(dir_cfg)"
   ]
  },
  {
   "cell_type": "code",
   "execution_count": 16,
   "metadata": {},
   "outputs": [
    {
     "name": "stdout",
     "output_type": "stream",
     "text": [
      "{'machine': 'hpc',\n",
      " 'pipeline': {'bands': ['F106', 'F129', 'F184'],\n",
      "              'exposure_time': 146,\n",
      "              'final_pixel_side': 90,\n",
      "              'grid_oversample': 5,\n",
      "              'limit': None,\n",
      "              'log_mhigh': 10,\n",
      "              'log_mlow': 6,\n",
      "              'los_normalization': 0.0,\n",
      "              'max_scene_size': 10.0,\n",
      "              'num_pix': 96,\n",
      "              'num_samples': 100000,\n",
      "              'pieces': False,\n",
      "              'r_tidal': 0.5,\n",
      "              'rgb_bands': ['F184', 'F129', 'F106'],\n",
      "              'seed': 42,\n",
      "              'side': 10.56,\n",
      "              'sigma_sub': 0.055,\n",
      "              'subhalo_cone': 10.0,\n",
      "              'suppress_output': True,\n",
      "              'survey_sim_runs': 36},\n",
      " 'survey': {'deflector_cut_band': 'F184',\n",
      "            'deflector_cut_band_max': 24,\n",
      "            'deflector_z_max': 2.0,\n",
      "            'deflector_z_min': 0.01,\n",
      "            'large_lens_band': 'F184',\n",
      "            'large_lens_mag_max': 14,\n",
      "            'mag_arc_limit': 25,\n",
      "            'mag_arc_limit_band': 'F184',\n",
      "            'max_image_separation': 10.0,\n",
      "            'min_image_separation': 0.2,\n",
      "            'snr_band': 'F129',\n",
      "            'snr_mask_multiplier': 1.0,\n",
      "            'snr_threshold': 10,\n",
      "            'source_cut_band': 'F184',\n",
      "            'source_cut_band_max': 27,\n",
      "            'source_z_max': 5.0,\n",
      "            'source_z_min': 0.01,\n",
      "            'zodi_multiplier': 1.5}}\n"
     ]
    }
   ],
   "source": [
    "pprint(cfg)"
   ]
  },
  {
   "cell_type": "code",
   "execution_count": 17,
   "metadata": {},
   "outputs": [
    {
     "name": "stdout",
     "output_type": "stream",
     "text": [
      "<class 'dict'>\n"
     ]
    }
   ],
   "source": [
    "print(type(cfg))"
   ]
  },
  {
   "cell_type": "code",
   "execution_count": 18,
   "metadata": {},
   "outputs": [
    {
     "name": "stdout",
     "output_type": "stream",
     "text": [
      "['F184', 'F129', 'F106']\n"
     ]
    }
   ],
   "source": [
    "pprint(cfg['pipeline']['rgb_bands'])"
   ]
  }
 ],
 "metadata": {
  "kernelspec": {
   "display_name": "mejiro",
   "language": "python",
   "name": "python3"
  },
  "language_info": {
   "codemirror_mode": {
    "name": "ipython",
    "version": 3
   },
   "file_extension": ".py",
   "mimetype": "text/x-python",
   "name": "python",
   "nbconvert_exporter": "python",
   "pygments_lexer": "ipython3",
   "version": "3.10.6"
  }
 },
 "nbformat": 4,
 "nbformat_minor": 2
}
