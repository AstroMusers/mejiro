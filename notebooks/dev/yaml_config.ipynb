{
 "cells": [
  {
   "cell_type": "code",
   "execution_count": 18,
   "metadata": {},
   "outputs": [],
   "source": [
    "import sys\n",
    "from pprint import pprint\n",
    "\n",
    "import yaml\n",
    "with open('../../config.yaml', 'r') as f:\n",
    "    data = yaml.load(f, Loader=yaml.SafeLoader)\n",
    "repo_dir = data['repo_dir']\n",
    "\n",
    "# enable use of local modules\n",
    "if repo_dir not in sys.path:\n",
    "    sys.path.append(repo_dir)"
   ]
  },
  {
   "cell_type": "code",
   "execution_count": 19,
   "metadata": {},
   "outputs": [
    {
     "name": "stdout",
     "output_type": "stream",
     "text": [
      "{'data_dir': '/Users/brycewedig/Documents/gh_data/mejiro',\n",
      " 'dir_00': '${pipeline_dir}/00',\n",
      " 'dir_01': '${pipeline_dir}/01',\n",
      " 'dir_02': '${pipeline_dir}/02',\n",
      " 'dir_03': '${pipeline_dir}/03',\n",
      " 'dir_04': '${pipeline_dir}/04',\n",
      " 'dir_05': '${pipeline_dir}/05',\n",
      " 'figure_dir': '${machine.repo_dir}/figures',\n",
      " 'pipeline': {'headroom_cores': 8,\n",
      "              'limit': 'None',\n",
      "              'nice': 19,\n",
      "              'seed': 42,\n",
      "              'survey': {'area': 0.5,\n",
      "                         'bands': ['F062',\n",
      "                                   'F087',\n",
      "                                   'F106',\n",
      "                                   'F129',\n",
      "                                   'F158',\n",
      "                                   'F184',\n",
      "                                   'F213',\n",
      "                                   'F146'],\n",
      "                         'deflector_cut_band': 'F129',\n",
      "                         'deflector_cut_band_max': 27,\n",
      "                         'deflector_z_max': 3.0,\n",
      "                         'deflector_z_min': 0.01,\n",
      "                         'imaging': {'bands': ['F106', 'F129', 'F158', 'F184'],\n",
      "                                     'exposure_time': 146,\n",
      "                                     'pieces': False,\n",
      "                                     'rgb_bands': ['F184', 'F129', 'F106'],\n",
      "                                     'rgb_q': 3,\n",
      "                                     'rgb_stretch': 3},\n",
      "                         'large_lens_band': 'F129',\n",
      "                         'large_lens_mag_max': 12,\n",
      "                         'mag_arc_limit': 25,\n",
      "                         'mag_arc_limit_band': 'F129',\n",
      "                         'magnification': 3,\n",
      "                         'max_image_separation': 10.0,\n",
      "                         'min_image_separation': 0.3,\n",
      "                         'runs': 540,\n",
      "                         'scas': [1,\n",
      "                                  2,\n",
      "                                  3,\n",
      "                                  4,\n",
      "                                  5,\n",
      "                                  6,\n",
      "                                  7,\n",
      "                                  8,\n",
      "                                  9,\n",
      "                                  10,\n",
      "                                  11,\n",
      "                                  12,\n",
      "                                  13,\n",
      "                                  14,\n",
      "                                  15,\n",
      "                                  16,\n",
      "                                  17,\n",
      "                                  18],\n",
      "                         'snr_adaptive_pad': 40,\n",
      "                         'snr_add_subhalos': False,\n",
      "                         'snr_band': 'F129',\n",
      "                         'snr_exposure_time': 146,\n",
      "                         'snr_input_num_pix': 97,\n",
      "                         'snr_output_num_pix': 91,\n",
      "                         'snr_oversample': 5,\n",
      "                         'snr_side': 10.67,\n",
      "                         'snr_subtract_lens': False,\n",
      "                         'snr_supersampling_compute_mode': 'adaptive',\n",
      "                         'snr_supersampling_factor': 3,\n",
      "                         'snr_supersampling_radius': 2.0,\n",
      "                         'snr_threshold': 20,\n",
      "                         'source_cut_band': 'F129',\n",
      "                         'source_cut_band_max': 27,\n",
      "                         'source_z_max': 6.0,\n",
      "                         'source_z_min': 0.01,\n",
      "                         'subhalos': {'log_mhigh': 10,\n",
      "                                      'log_mlow': 6,\n",
      "                                      'los_normalization': 0.0,\n",
      "                                      'r_tidal': 0.5,\n",
      "                                      'sigma_sub': 0.055,\n",
      "                                      'subhalo_cone': 10.0},\n",
      "                         'synthetic_image': {'side': 5,\n",
      "                                             'supersampling_compute_mode': 'adaptive',\n",
      "                                             'supersampling_factor': 1,\n",
      "                                             'supersampling_radius': 3.0},\n",
      "                         'total_population': True},\n",
      "              'verbose': True},\n",
      " 'pipeline_dir': '${data_dir}/pipeline',\n",
      " 'repo_dir': '/Users/brycewedig/Documents/GitHub/mejiro'}\n"
     ]
    }
   ],
   "source": [
    "pprint(data)"
   ]
  },
  {
   "cell_type": "code",
   "execution_count": 20,
   "metadata": {},
   "outputs": [
    {
     "name": "stdout",
     "output_type": "stream",
     "text": [
      "540\n",
      "<class 'int'>\n"
     ]
    }
   ],
   "source": [
    "runs = data['pipeline']['survey']['runs']\n",
    "\n",
    "print(runs)\n",
    "print(type(runs))"
   ]
  },
  {
   "cell_type": "code",
   "execution_count": 21,
   "metadata": {},
   "outputs": [
    {
     "name": "stdout",
     "output_type": "stream",
     "text": [
      "0.5\n",
      "<class 'float'>\n"
     ]
    }
   ],
   "source": [
    "area = data['pipeline']['survey']['area']\n",
    "\n",
    "print(area)\n",
    "print(type(area))"
   ]
  },
  {
   "cell_type": "code",
   "execution_count": 22,
   "metadata": {},
   "outputs": [
    {
     "name": "stdout",
     "output_type": "stream",
     "text": [
      "[1, 2, 3, 4, 5, 6, 7, 8, 9, 10, 11, 12, 13, 14, 15, 16, 17, 18]\n",
      "<class 'list'>\n"
     ]
    }
   ],
   "source": [
    "scas = data['pipeline']['survey']['scas']\n",
    "\n",
    "print(scas)\n",
    "print(type(scas))"
   ]
  },
  {
   "cell_type": "code",
   "execution_count": 23,
   "metadata": {},
   "outputs": [
    {
     "name": "stdout",
     "output_type": "stream",
     "text": [
      "F129\n",
      "<class 'str'>\n"
     ]
    }
   ],
   "source": [
    "deflector_cut_band = data['pipeline']['survey']['deflector_cut_band']\n",
    "\n",
    "print(deflector_cut_band)\n",
    "print(type(deflector_cut_band))"
   ]
  },
  {
   "cell_type": "code",
   "execution_count": 24,
   "metadata": {},
   "outputs": [
    {
     "name": "stdout",
     "output_type": "stream",
     "text": [
      "True\n",
      "<class 'bool'>\n"
     ]
    }
   ],
   "source": [
    "total_population = data['pipeline']['survey']['total_population']\n",
    "\n",
    "print(total_population)\n",
    "print(type(total_population))"
   ]
  }
 ],
 "metadata": {
  "kernelspec": {
   "display_name": "mejiro",
   "language": "python",
   "name": "python3"
  },
  "language_info": {
   "codemirror_mode": {
    "name": "ipython",
    "version": 3
   },
   "file_extension": ".py",
   "mimetype": "text/x-python",
   "name": "python",
   "nbconvert_exporter": "python",
   "pygments_lexer": "ipython3",
   "version": "3.11.11"
  }
 },
 "nbformat": 4,
 "nbformat_minor": 2
}
