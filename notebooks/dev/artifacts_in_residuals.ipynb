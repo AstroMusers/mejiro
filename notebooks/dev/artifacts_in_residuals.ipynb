{
 "cells": [
  {
   "cell_type": "code",
   "execution_count": 27,
   "metadata": {},
   "outputs": [],
   "source": [
    "import os\n",
    "import sys\n",
    "\n",
    "import numpy as np\n",
    "import matplotlib\n",
    "%matplotlib inline\n",
    "import matplotlib.pyplot as plt\n",
    "from hydra import initialize, compose\n",
    "from glob import glob\n",
    "from pprint import pprint\n",
    "\n",
    "# set paths to various directories based on the machine this code is being executed on\n",
    "with initialize(version_base=None, config_path='config'):  # ../../\n",
    "    config = compose(config_name='config.yaml')  # overrides=['machine=uzay']\n",
    "\n",
    "array_dir, data_dir, figure_dir, pickle_dir, repo_dir  = config.machine.array_dir, config.machine.data_dir, config.machine.figure_dir, config.machine.pickle_dir, config.machine.repo_dir\n",
    "\n",
    "# enable use of local modules\n",
    "if repo_dir not in sys.path:\n",
    "    sys.path.append(repo_dir)\n",
    "\n",
    "# set matplotlib style\n",
    "plt.style.use(f'{repo_dir}/mejiro/mplstyle/science.mplstyle')\n",
    "\n",
    "from mejiro.lenses.test import SampleStrongLens\n",
    "from mejiro.plots import diagnostic_plot, plot, plot_util, overplot\n",
    "from mejiro.analysis import stats\n",
    "from mejiro.utils import util\n",
    "from mejiro.helpers import gs, psf"
   ]
  },
  {
   "cell_type": "code",
   "execution_count": 28,
   "metadata": {},
   "outputs": [],
   "source": [
    "ps_dir = os.path.join(array_dir, 'power_spectra')"
   ]
  },
  {
   "cell_type": "code",
   "execution_count": 29,
   "metadata": {},
   "outputs": [],
   "source": [
    "num_lenses = len(glob(os.path.join(config.machine.dir_05, '*')))\n",
    "images_list = []\n",
    "\n",
    "for j in range(num_lenses):\n",
    "    uid = str(j).zfill(8)\n",
    "    images = [np.load(i) for i in sorted(glob(os.path.join(ps_dir, f'im_subs_*_{uid}.npy')))]\n",
    "    images_list.append(images)\n",
    "\n",
    "images_list = images_list[:100]"
   ]
  },
  {
   "cell_type": "code",
   "execution_count": null,
   "metadata": {},
   "outputs": [],
   "source": [
    "for images in images_list:\n",
    "    f, ax = plt.subplots(2, 4, figsize=(8, 4), constrained_layout=True)\n",
    "\n",
    "    res_array = [images[3] - images[i] for i in range(4)]\n",
    "    v = plot_util.get_v(res_array)\n",
    "\n",
    "    for i in range(4):\n",
    "        axis = ax[0][i].imshow(images[i])\n",
    "        ax[0][i].set_axis_off()\n",
    "\n",
    "    cbar = f.colorbar(axis, ax=ax[0])\n",
    "    cbar.set_label('Counts/sec', rotation=90)\n",
    "\n",
    "    for i in range(4):\n",
    "        axis = ax[1][i].imshow(images[3] - images[i], cmap='bwr', vmin=-v, vmax=v)\n",
    "        ax[1][i].set_axis_off()\n",
    "\n",
    "    cbar = f.colorbar(axis, ax=ax[1])\n",
    "    cbar.set_label('Counts/sec', rotation=90)\n",
    "\n",
    "    ax[0][0].set_title('$\\geq 10^6$ M$_\\odot$')\n",
    "    ax[0][1].set_title('$\\geq 10^7$ M$_\\odot$')\n",
    "    ax[0][2].set_title('$\\geq 10^8$ M$_\\odot$')\n",
    "    ax[0][3].set_title('No millilensing')\n",
    "\n",
    "    # plt.savefig(os.path.join(repo_dir, 'figures', 'artifacts.png'))\n",
    "    plt.show()"
   ]
  },
  {
   "cell_type": "code",
   "execution_count": 30,
   "metadata": {},
   "outputs": [],
   "source": [
    "residuals = []\n",
    "\n",
    "for images in images_list:\n",
    "    residuals += [images[3] - images[i] for i in range(4)]"
   ]
  },
  {
   "cell_type": "code",
   "execution_count": 31,
   "metadata": {},
   "outputs": [
    {
     "data": {
      "image/png": "[encoded data removed]",
      "text/plain": [
       "<Figure size 700x525 with 1 Axes>"
      ]
     },
     "metadata": {},
     "output_type": "display_data"
    }
   ],
   "source": [
    "mean_list = [np.max(res) for res in residuals]\n",
    "\n",
    "plt.hist(mean_list)\n",
    "plt.show()"
   ]
  }
 ],
 "metadata": {
  "kernelspec": {
   "display_name": "pandeia",
   "language": "python",
   "name": "python3"
  },
  "language_info": {
   "codemirror_mode": {
    "name": "ipython",
    "version": 3
   },
   "file_extension": ".py",
   "mimetype": "text/x-python",
   "name": "python",
   "nbconvert_exporter": "python",
   "pygments_lexer": "ipython3",
   "version": "3.11.7"
  }
 },
 "nbformat": 4,
 "nbformat_minor": 2
}
