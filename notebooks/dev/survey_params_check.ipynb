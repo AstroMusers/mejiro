{
 "cells": [
  {
   "cell_type": "code",
   "execution_count": 1,
   "metadata": {},
   "outputs": [],
   "source": [
    "import os\n",
    "import sys\n",
    "\n",
    "import numpy as np\n",
    "import matplotlib\n",
    "%matplotlib inline\n",
    "import matplotlib.pyplot as plt\n",
    "from matplotlib import colors\n",
    "from hydra import initialize, compose\n",
    "import pickle\n",
    "from glob import glob\n",
    "from pprint import pprint\n",
    "from tqdm import tqdm\n",
    "\n",
    "# set paths to various directories based on the machine this code is being executed on\n",
    "with initialize(version_base=None, config_path='config'):\n",
    "    config = compose(config_name='config.yaml')  # overrides=['machine=uzay']\n",
    "\n",
    "array_dir, data_dir, figure_dir, pickle_dir, repo_dir  = config.machine.array_dir, config.machine.data_dir, config.machine.figure_dir, config.machine.pickle_dir, config.machine.repo_dir\n",
    "\n",
    "# enable use of local modules\n",
    "if repo_dir not in sys.path:\n",
    "    sys.path.append(repo_dir)\n",
    "\n",
    "# set matplotlib style\n",
    "plt.style.use(f'{repo_dir}/mejiro/mplstyle/science.mplstyle')\n",
    "\n",
    "from mejiro.lenses.test import SampleStrongLens\n",
    "from mejiro.plots import diagnostic_plot, plot, plot_util, overplot\n",
    "from mejiro.analysis import stats\n",
    "from mejiro.utils import util\n",
    "from mejiro.helpers import gs"
   ]
  },
  {
   "cell_type": "code",
   "execution_count": 22,
   "metadata": {},
   "outputs": [
    {
     "name": "stdout",
     "output_type": "stream",
     "text": [
      "Processing run 1 of 16\n",
      "Processing run 2 of 16\n",
      "Processing run 3 of 16\n",
      "Processing run 4 of 16\n",
      "Processing run 5 of 16\n",
      "Processing run 6 of 16\n",
      "Processing run 7 of 16\n",
      "Processing run 8 of 16\n",
      "Processing run 9 of 16\n",
      "Processing run 10 of 16\n",
      "Processing run 11 of 16\n",
      "Processing run 12 of 16\n",
      "Processing run 13 of 16\n",
      "Processing run 14 of 16\n",
      "Processing run 15 of 16\n",
      "Processing run 16 of 16\n"
     ]
    }
   ],
   "source": [
    "deflector_cut_band_max_list = [21, 23, 25, 27]\n",
    "source_cut_band_max_list = [22, 24, 26, 28]\n",
    "total_runs = len(deflector_cut_band_max_list) * len(source_cut_band_max_list)\n",
    "\n",
    "snr_array = np.empty((len(deflector_cut_band_max_list), len(source_cut_band_max_list)), dtype=object)\n",
    "det_array = np.empty((len(deflector_cut_band_max_list), len(source_cut_band_max_list)), dtype=object)\n",
    "num_det_array = np.empty((len(deflector_cut_band_max_list), len(source_cut_band_max_list)))\n",
    "num_tot_array = np.empty((len(deflector_cut_band_max_list), len(source_cut_band_max_list)))\n",
    "\n",
    "for i, deflector_cut in enumerate(deflector_cut_band_max_list):\n",
    "    for j, source_cut in enumerate(source_cut_band_max_list):\n",
    "        print(f'Processing run {(len(source_cut_band_max_list) * i) + (j + 1)} of {total_runs}')\n",
    "\n",
    "        output_dir = os.path.join(config.machine.dir_00, f'deflector_{deflector_cut}_source_{source_cut}')\n",
    "\n",
    "        pickles_detectable_gglenses = glob(f'{output_dir}/detectable_gglenses_*.pkl')\n",
    "        detectable_gglenses = []\n",
    "\n",
    "        for p in pickles_detectable_gglenses:\n",
    "            gglenses = util.unpickle(p)\n",
    "            detectable_gglenses.extend(gglenses)\n",
    "\n",
    "        # print(f'{len(detectable_gglenses)} detectable lens(es)')\n",
    "\n",
    "        det_array[i, j] = detectable_gglenses\n",
    "        num_det_array[i, j] = len(detectable_gglenses)\n",
    "\n",
    "        pickles_complete_snr_lists = glob(f'{output_dir}/complete_snr_list_*.pkl')\n",
    "        complete_snr_lists = []\n",
    "\n",
    "        for p in pickles_complete_snr_lists:\n",
    "            snr_list = util.unpickle(p)\n",
    "            complete_snr_lists.extend(snr_list)\n",
    "\n",
    "        snr_array[i, j] = complete_snr_lists\n",
    "        num_tot_array[i, j] = len(complete_snr_lists)"
   ]
  },
  {
   "cell_type": "code",
   "execution_count": 23,
   "metadata": {},
   "outputs": [
    {
     "name": "stdout",
     "output_type": "stream",
     "text": [
      "array([[392., 345.,   0.,   0.],\n",
      "       [  0.,   0.,   0.,   0.],\n",
      "       [  0.,   0.,   0.,   0.],\n",
      "       [  0.,   0.,   0.,   0.]])\n"
     ]
    }
   ],
   "source": [
    "pprint(num_det_array)"
   ]
  },
  {
   "cell_type": "code",
   "execution_count": 24,
   "metadata": {},
   "outputs": [
    {
     "name": "stdout",
     "output_type": "stream",
     "text": [
      "array([[1.14185843, 0.12551982,        nan,        nan],\n",
      "       [       nan,        nan,        nan,        nan],\n",
      "       [       nan,        nan,        nan,        nan],\n",
      "       [       nan,        nan,        nan,        nan]])\n"
     ]
    }
   ],
   "source": [
    "percent_det = np.divide(num_det_array, num_tot_array) * 100\n",
    "\n",
    "pprint(percent_det)"
   ]
  }
 ],
 "metadata": {
  "kernelspec": {
   "display_name": "mejiro",
   "language": "python",
   "name": "python3"
  },
  "language_info": {
   "codemirror_mode": {
    "name": "ipython",
    "version": 3
   },
   "file_extension": ".py",
   "mimetype": "text/x-python",
   "name": "python",
   "nbconvert_exporter": "python",
   "pygments_lexer": "ipython3",
   "version": "3.10.6"
  }
 },
 "nbformat": 4,
 "nbformat_minor": 2
}
