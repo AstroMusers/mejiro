{
 "cells": [
  {
   "cell_type": "code",
   "execution_count": 1,
   "metadata": {},
   "outputs": [
    {
     "name": "stderr",
     "output_type": "stream",
     "text": [
      "**WARNING**: LOCAL JWST PRD VERSION PRDOPSSOC-065 DOESN'T MATCH THE CURRENT ONLINE VERSION PRDOPSSOC-067\n",
      "Please consider updating pysiaf, e.g. pip install --upgrade pysiaf or conda update pysiaf\n"
     ]
    }
   ],
   "source": [
    "import os\n",
    "import sys\n",
    "\n",
    "import numpy as np\n",
    "import matplotlib\n",
    "%matplotlib inline\n",
    "import matplotlib.pyplot as plt\n",
    "from matplotlib import colors\n",
    "from hydra import initialize, compose\n",
    "import pickle\n",
    "from glob import glob\n",
    "from pprint import pprint\n",
    "from tqdm import tqdm\n",
    "import galsim\n",
    "from copy import deepcopy\n",
    "import random\n",
    "\n",
    "# set paths to various directories based on the machine this code is being executed on\n",
    "try:\n",
    "    with initialize(version_base=None, config_path='config'):  \n",
    "        config = compose(config_name='config.yaml')  # overrides=['machine=uzay']\n",
    "except:\n",
    "    with initialize(version_base=None, config_path='../../config'):  \n",
    "        config = compose(config_name='config.yaml')  # overrides=['machine=uzay']\n",
    "\n",
    "array_dir, data_dir, figure_dir, pickle_dir, repo_dir  = config.machine.array_dir, config.machine.data_dir, config.machine.figure_dir, config.machine.pickle_dir, config.machine.repo_dir\n",
    "\n",
    "# enable use of local modules\n",
    "if repo_dir not in sys.path:\n",
    "    sys.path.append(repo_dir)\n",
    "\n",
    "# set matplotlib style\n",
    "plt.style.use(f'{repo_dir}/mejiro/mplstyle/science.mplstyle')\n",
    "\n",
    "from mejiro.lenses.test import SampleStrongLens\n",
    "from mejiro.plots import diagnostic_plot, plot, plot_util, overplot\n",
    "from mejiro.analysis import stats\n",
    "from mejiro.utils import util\n",
    "from mejiro.helpers import gs\n",
    "from mejiro.lenses import lens_util"
   ]
  },
  {
   "cell_type": "markdown",
   "metadata": {},
   "source": [
    "# the solution: default behavior of `np.random.choice` is `replace=True` i.e. same system can be selected multiple times"
   ]
  },
  {
   "cell_type": "code",
   "execution_count": 2,
   "metadata": {},
   "outputs": [
    {
     "name": "stderr",
     "output_type": "stream",
     "text": [
      "100%|██████████| 1000/1000 [00:36<00:00, 27.67it/s]\n"
     ]
    }
   ],
   "source": [
    "pipeline_params = util.hydra_to_dict(config.pipeline)\n",
    "# debugging = pipeline_params['debugging']\n",
    "debugging = False  # TODO TEMP\n",
    "\n",
    "if debugging:\n",
    "    pipeline_dir = f'{config.machine.pipeline_dir}_dev'\n",
    "else:\n",
    "    pipeline_dir = config.machine.pipeline_dir\n",
    "\n",
    "detectable_lenses = lens_util.get_detectable_lenses(pipeline_dir, with_subhalos=True, verbose=True, limit=1000, exposure=True)"
   ]
  },
  {
   "cell_type": "code",
   "execution_count": 3,
   "metadata": {},
   "outputs": [
    {
     "name": "stdout",
     "output_type": "stream",
     "text": [
      "'No duplicate UIDs found.'\n"
     ]
    }
   ],
   "source": [
    "uids = [lens.uid for lens in detectable_lenses]\n",
    "duplicate_uids = set([uid for uid in uids if uids.count(uid) > 1])\n",
    "\n",
    "if duplicate_uids:\n",
    "    pprint(f\"Duplicate UIDs found: {duplicate_uids}\")\n",
    "else:\n",
    "    pprint(\"No duplicate UIDs found.\")"
   ]
  },
  {
   "cell_type": "code",
   "execution_count": 4,
   "metadata": {},
   "outputs": [
    {
     "name": "stdout",
     "output_type": "stream",
     "text": [
      "Number of duplicate lenses: 0\n"
     ]
    }
   ],
   "source": [
    "duplicate_lenses = [lens for lens in detectable_lenses if uids.count(lens.uid) > 1]\n",
    "print(f\"Number of duplicate lenses: {len(duplicate_lenses)}\")"
   ]
  },
  {
   "cell_type": "code",
   "execution_count": 5,
   "metadata": {},
   "outputs": [
    {
     "name": "stdout",
     "output_type": "stream",
     "text": [
      "Number of sample duplicates: 0\n"
     ]
    }
   ],
   "source": [
    "sample_duplicates = [lens for lens in detectable_lenses if lens.uid == '00004050']\n",
    "print(f\"Number of sample duplicates: {len(sample_duplicates)}\")"
   ]
  },
  {
   "cell_type": "code",
   "execution_count": 7,
   "metadata": {},
   "outputs": [],
   "source": [
    "# print(sample_duplicates[0].detector)"
   ]
  },
  {
   "cell_type": "code",
   "execution_count": null,
   "metadata": {},
   "outputs": [
    {
     "name": "stdout",
     "output_type": "stream",
     "text": [
      "['/data/bwedig/mejiro/pipeline/03/sca05/lens_00004050.pkl']\n"
     ]
    }
   ],
   "source": [
    "files = sorted(glob(os.path.join(pipeline_dir, '03', '**', f'lens_{str(4050).zfill(8)}.pkl')))\n",
    "pprint(files)"
   ]
  },
  {
   "cell_type": "code",
   "execution_count": null,
   "metadata": {},
   "outputs": [
    {
     "name": "stdout",
     "output_type": "stream",
     "text": [
      "Number of files: 14706\n"
     ]
    }
   ],
   "source": [
    "print(f\"Number of files: {len(glob(os.path.join(pipeline_dir, '03', '**', f'lens_*.pkl')))}\")"
   ]
  },
  {
   "cell_type": "code",
   "execution_count": null,
   "metadata": {},
   "outputs": [
    {
     "name": "stderr",
     "output_type": "stream",
     "text": [
      "100%|██████████| 14706/14706 [09:24<00:00, 26.07it/s] \n"
     ]
    }
   ],
   "source": [
    "for f in tqdm(glob(os.path.join(pipeline_dir, '03', '**', f'lens_*.pkl'))):\n",
    "    uid_from_file = f.split('/')[-1].split('_')[-1].split('.')[0]\n",
    "    # print(uid_from_file)\n",
    "    lens = util.unpickle(f)\n",
    "    # print(lens.uid)\n",
    "    if lens.uid != uid_from_file:\n",
    "        print(f\"UID mismatch: {lens.uid} != {uid_from_file}\")"
   ]
  }
 ],
 "metadata": {
  "kernelspec": {
   "display_name": "mejiro_dev",
   "language": "python",
   "name": "python3"
  },
  "language_info": {
   "codemirror_mode": {
    "name": "ipython",
    "version": 3
   },
   "file_extension": ".py",
   "mimetype": "text/x-python",
   "name": "python",
   "nbconvert_exporter": "python",
   "pygments_lexer": "ipython3",
   "version": "3.10.6"
  }
 },
 "nbformat": 4,
 "nbformat_minor": 2
}
