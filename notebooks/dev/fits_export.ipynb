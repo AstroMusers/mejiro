{
 "cells": [
  {
   "cell_type": "code",
   "execution_count": 12,
   "metadata": {},
   "outputs": [],
   "source": [
    "import os\n",
    "import sys\n",
    "\n",
    "import numpy as np\n",
    "import matplotlib\n",
    "%matplotlib inline\n",
    "import matplotlib.pyplot as plt\n",
    "from matplotlib import colors\n",
    "from hydra import initialize, compose\n",
    "import pickle\n",
    "from glob import glob\n",
    "from pprint import pprint\n",
    "from tqdm import tqdm\n",
    "from astropy.io import fits\n",
    "\n",
    "# set paths to various directories based on the machine this code is being executed on\n",
    "try:\n",
    "    with initialize(version_base=None, config_path='config'):  \n",
    "        config = compose(config_name='config.yaml')  # overrides=['machine=uzay']\n",
    "except:\n",
    "    with initialize(version_base=None, config_path='../../config'):  \n",
    "        config = compose(config_name='config.yaml')  # overrides=['machine=uzay']\n",
    "\n",
    "array_dir, data_dir, figure_dir, pickle_dir, repo_dir  = config.machine.array_dir, config.machine.data_dir, config.machine.figure_dir, config.machine.pickle_dir, config.machine.repo_dir\n",
    "\n",
    "# enable use of local modules\n",
    "if repo_dir not in sys.path:\n",
    "    sys.path.append(repo_dir)\n",
    "\n",
    "# set matplotlib style\n",
    "plt.style.use(f'{repo_dir}/mejiro/mplstyle/science.mplstyle')\n",
    "\n",
    "from mejiro.lenses.test import SampleStrongLens\n",
    "from mejiro.plots import diagnostic_plot, plot, plot_util, overplot\n",
    "from mejiro.analysis import stats\n",
    "from mejiro.utils import util\n",
    "from mejiro.helpers import gs\n",
    "from mejiro.lenses import lens_util"
   ]
  },
  {
   "cell_type": "code",
   "execution_count": 13,
   "metadata": {},
   "outputs": [
    {
     "name": "stdout",
     "output_type": "stream",
     "text": [
      "pipeline_dir: /data/bwedig/mejiro/pipeline\n"
     ]
    }
   ],
   "source": [
    "survey_params = util.hydra_to_dict(config.survey)\n",
    "snr_band = survey_params['snr_band']\n",
    "\n",
    "pipeline_params = util.hydra_to_dict(config.pipeline)\n",
    "# debugging = pipeline_params['debugging']\n",
    "debugging = False\n",
    "\n",
    "if debugging:\n",
    "    pipeline_dir = f'{config.machine.pipeline_dir}_dev'\n",
    "else:\n",
    "    pipeline_dir = config.machine.pipeline_dir\n",
    "\n",
    "print(f'pipeline_dir: {pipeline_dir}')"
   ]
  },
  {
   "cell_type": "code",
   "execution_count": 14,
   "metadata": {},
   "outputs": [
    {
     "name": "stderr",
     "output_type": "stream",
     "text": [
      "  0%|          | 27/10245 [00:00<00:38, 263.21it/s]"
     ]
    },
    {
     "name": "stderr",
     "output_type": "stream",
     "text": [
      "100%|██████████| 10245/10245 [03:20<00:00, 51.04it/s] \n"
     ]
    }
   ],
   "source": [
    "all_lenses = lens_util.get_detectable_lenses(pipeline_dir, with_subhalos=True, verbose=True)"
   ]
  },
  {
   "cell_type": "code",
   "execution_count": 15,
   "metadata": {},
   "outputs": [
    {
     "name": "stdout",
     "output_type": "stream",
     "text": [
      "uid: 00000971\n",
      "/nfshome/bwedig/mejiro/strong_lens_00000971.fits\n"
     ]
    }
   ],
   "source": [
    "import random\n",
    "\n",
    "lens = random.choice(all_lenses)\n",
    "uid = lens.uid\n",
    "print(f'uid: {uid}')\n",
    "\n",
    "fits_path = os.path.join(repo_dir, f'strong_lens_{str(uid).zfill(8)}.fits')\n",
    "print(fits_path)"
   ]
  },
  {
   "cell_type": "code",
   "execution_count": 16,
   "metadata": {},
   "outputs": [],
   "source": [
    "arrays = []\n",
    "glob_path = f'{pipeline_dir}/03/**/array_{str(uid).zfill(8)}_*.npy'\n",
    "# print(glob_path)\n",
    "array_paths = sorted(glob(glob_path))\n",
    "# print(array_paths)\n",
    "\n",
    "assert len(array_paths) == len(pipeline_params['bands']), 'Could not find an array for each band'\n",
    "\n",
    "for array_path in array_paths:\n",
    "    arrays.append(np.load(array_path))"
   ]
  },
  {
   "cell_type": "code",
   "execution_count": 17,
   "metadata": {},
   "outputs": [],
   "source": [
    "images = []\n",
    "glob_path = f'{pipeline_dir}/04/**/galsim_{str(uid).zfill(8)}_*.npy'\n",
    "# print(glob_path)\n",
    "image_paths = sorted(glob(glob_path))\n",
    "# print(image_paths)\n",
    "\n",
    "assert len(image_paths) == len(pipeline_params['bands']), 'Could not find an image for each band'\n",
    "\n",
    "for image_path in image_paths:\n",
    "    images.append(np.load(image_path))"
   ]
  },
  {
   "cell_type": "code",
   "execution_count": 18,
   "metadata": {},
   "outputs": [
    {
     "name": "stdout",
     "output_type": "stream",
     "text": [
      "{'F087': 22.60419341029887,\n",
      " 'F106': 21.98131471147577,\n",
      " 'F129': 21.703222400018348,\n",
      " 'F158': 21.430428296012046,\n",
      " 'F184': 21.26342508765314}\n",
      "{'F087': 23.039265684732985,\n",
      " 'F106': 22.64781493981005,\n",
      " 'F129': 22.325824958009736,\n",
      " 'F158': 21.992020451324,\n",
      " 'F184': 21.75233963291085}\n"
     ]
    }
   ],
   "source": [
    "pprint(lens.source_mags)\n",
    "pprint(lens.lens_mags)"
   ]
  },
  {
   "cell_type": "code",
   "execution_count": 19,
   "metadata": {},
   "outputs": [],
   "source": [
    "# TODO TEMP\n",
    "lens.detector = 'SCA01'\n",
    "lens.detector_position = (2048, 2048)"
   ]
  },
  {
   "cell_type": "code",
   "execution_count": 26,
   "metadata": {},
   "outputs": [],
   "source": [
    "primary_header = fits.Header()\n",
    "\n",
    "# mejiro metadata\n",
    "import mejiro\n",
    "primary_header['VERSION'] = (mejiro.__version__, 'mejiro version')\n",
    "\n",
    "import getpass\n",
    "import platform\n",
    "primary_header['AUTHOR'] = (f'{getpass.getuser()}@{platform.node()}', 'username@host for calculation')\n",
    "\n",
    "from datetime import datetime\n",
    "now_string = datetime.now().strftime(\"%Y_%m_%d-%I_%M_%S_%p\")\n",
    "primary_header['CREATED'] = (now_string, 'Date of calculation')\n",
    "\n",
    "primary_header['UID'] = (lens.uid, 'UID for system assigned by mejiro')\n",
    "\n",
    "# lens params\n",
    "primary_header['ZSOURCE'] = (lens.z_source, 'Source galaxy redshift')\n",
    "primary_header['ZLENS'] = (lens.z_lens, 'Lens galaxy redshift')\n",
    "primary_header['DS'] = (lens.d_s, 'Comoving distance to source galaxy [Gpc]')\n",
    "primary_header['DL'] = (lens.d_l, 'Comoving distance to lens galaxy [Gpc]')\n",
    "primary_header['DLS'] = (lens.d_ls, 'Comoving distance between lens and source [Gpc]')\n",
    "primary_header['HALOMASS'] = (lens.main_halo_mass, 'Lens galaxy main halo mass [M_sun]')\n",
    "primary_header['THETAE'] = (lens.get_einstein_radius(), 'Einstein radius [arcsec]')\n",
    "primary_header['SIGMAV'] = (lens.lens_vel_disp, 'Lens galaxy velocity dispersion [km/s]')\n",
    "primary_header['MU'] = (lens.magnification, 'Flux-weighted magnification of source')\n",
    "primary_header['NUMIMAGE'] = (lens.num_images, 'Number of images formed by the system')\n",
    "primary_header['SNR'] = (lens.snr, f'Signal-to-noise ratio in {snr_band} band')\n",
    "\n",
    "# subhalo params\n",
    "primary_header['LOGMLOW'] = (pipeline_params['log_mlow'], 'Lower mass limit for subhalos [log10(M_sun)]')\n",
    "primary_header['LOGMHIGH'] = (pipeline_params['log_mhigh'], 'Upper mass limit for subhalos [log10(M_sun)]')\n",
    "primary_header['RTIDAL'] = (pipeline_params['r_tidal'], 'See pyHalo documentation')\n",
    "primary_header['SIGMASUB'] = (pipeline_params['sigma_sub'], 'See pyHalo documentation')\n",
    "primary_header['NUMSUB'] = (lens.num_subhalos, 'Number of subhalos')\n",
    "\n",
    "\n",
    "primary_hdu = fits.PrimaryHDU(None, primary_header)\n",
    "hdul = fits.HDUList([primary_hdu])\n",
    "\n",
    "for band, image in zip(pipeline_params['bands'], images):\n",
    "    header = fits.Header()\n",
    "    header['INSTRUME'] = ('WFI', 'Instrument')\n",
    "    header['FILTER'] = (band, 'Filter')\n",
    "    header['EXPOSURE'] = (pipeline_params['exposure_time'], 'Exposure time [seconds]')\n",
    "    header['OVERSAMP'] = (pipeline_params['grid_oversample'], 'Oversampling used in calculation')\n",
    "    header['PIXELSCL'] = (0.11, 'Pixel scale [arcsec/pixel]')\n",
    "    header['FOV'] = (0.11 * pipeline_params['final_pixel_side'], 'Field of view [arcsec]')\n",
    "    header['DETECTOR'] = (lens.detector, 'Detector')\n",
    "    header['DET_X'] = (lens.detector_position[0], 'Detector X position')\n",
    "    header['DET_Y'] = (lens.detector_position[1], 'Detector Y position')\n",
    "\n",
    "    # lens params\n",
    "    header['SOURCMAG'] = (lens.source_mags[band], 'Unlensed source galaxy AB magnitude')\n",
    "    header['MAGNMAG'] = (lens.lensed_source_mags[band], 'Lensed source galaxy AB magnitude')\n",
    "    header['LENSMAG'] = (lens.lens_mags[band], 'Lens galaxy AB magnitude')\n",
    "\n",
    "    image_hdu = fits.ImageHDU(image, header, name=band)\n",
    "    hdul.append(image_hdu)\n",
    "\n",
    "hdul.writeto(fits_path, overwrite=True)"
   ]
  },
  {
   "cell_type": "code",
   "execution_count": 27,
   "metadata": {},
   "outputs": [
    {
     "name": "stdout",
     "output_type": "stream",
     "text": [
      "Filename: /nfshome/bwedig/mejiro/strong_lens_00000971.fits\n",
      "No.    Name      Ver    Type      Cards   Dimensions   Format\n",
      "  0  PRIMARY       1 PrimaryHDU      24   ()      \n",
      "  1  F087          1 ImageHDU        20   (90, 90)   float32   \n",
      "  2  F106          1 ImageHDU        20   (90, 90)   float32   \n",
      "  3  F129          1 ImageHDU        20   (90, 90)   float32   \n",
      "  4  F158          1 ImageHDU        20   (90, 90)   float32   \n",
      "  5  F184          1 ImageHDU        20   (90, 90)   float32   \n"
     ]
    }
   ],
   "source": [
    "fits.info(fits_path)"
   ]
  },
  {
   "cell_type": "code",
   "execution_count": 28,
   "metadata": {},
   "outputs": [
    {
     "name": "stdout",
     "output_type": "stream",
     "text": [
      "SIMPLE  =                    T / conforms to FITS standard                      \n",
      "BITPIX  =                    8 / array data type                                \n",
      "NAXIS   =                    0 / number of array dimensions                     \n",
      "EXTEND  =                    T                                                  \n",
      "VERSION = '0.1     '           / mejiro version                                 \n",
      "AUTHOR  = 'bwedig@rosemary.physics.wustl.edu' / username@host for calculation   \n",
      "CREATED = '2024_10_21-04_51_04_PM' / Date of calculation                        \n",
      "UID     = '00000971'           / UID for system assigned by mejiro              \n",
      "ZSOURCE =   1.4021943913609833 / Source galaxy redshift                         \n",
      "ZLENS   =   0.7308084499279041 / Lens galaxy redshift                           \n",
      "DS      =     4.28843628908031 / Comoving distance to source galaxy [Gpc]       \n",
      "DL      =   2.6700071480133047 / Comoving distance to lens galaxy [Gpc]         \n",
      "DLS     =    1.618429141067005 / Comoving distance between lens and source [Gpc]\n",
      "HALOMASS=   1823733417575.1445 / Lens galaxy main halo mass [M_sun]             \n",
      "THETAE  =  0.39546100068134044 / Einstein radius [arcsec]                       \n",
      "SIGMAV  =   190.61526235994342 / Lens galaxy velocity dispersion [km/s]         \n",
      "MU      =   1.8764612014079596 / Flux-weighted magnification of source          \n",
      "NUMIMAGE=                    2 / Number of images formed by the system          \n",
      "SNR     =    71.56242132147847 / Signal-to-noise ratio in F129 band             \n",
      "LOGMLOW =                    6 / Lower mass limit for subhalos [log10(M_sun)]   \n",
      "LOGMHIGH=                   10 / Upper mass limit for subhalos [log10(M_sun)]   \n",
      "RTIDAL  =                  0.5 / See pyHalo documentation                       \n",
      "SIGMASUB=                0.055 / See pyHalo documentation                       \n",
      "NUMSUB  =                  110 / Number of subhalos                             \n",
      "\n",
      "\n",
      "XTENSION= 'IMAGE   '           / Image extension                                \n",
      "BITPIX  =                  -32 / array data type                                \n",
      "NAXIS   =                    2 / number of array dimensions                     \n",
      "NAXIS1  =                   90                                                  \n",
      "NAXIS2  =                   90                                                  \n",
      "PCOUNT  =                    0 / number of parameters                           \n",
      "GCOUNT  =                    1 / number of groups                               \n",
      "INSTRUME= 'WFI     '           / Instrument                                     \n",
      "FILTER  = 'F087    '           / Filter                                         \n",
      "EXPOSURE=                  146 / Exposure time [seconds]                        \n",
      "OVERSAMP=                    5 / Oversampling used in calculation               \n",
      "PIXELSCL=                 0.11 / Pixel scale [arcsec/pixel]                     \n",
      "FOV     =                10.01 / Field of view [arcsec]                         \n",
      "DETECTOR= 'SCA01   '           / Detector                                       \n",
      "DET_X   =                 2048 / Detector X position                            \n",
      "DET_Y   =                 2048 / Detector Y position                            \n",
      "SOURCMAG=    22.60419341029887 / Unlensed source galaxy AB magnitude            \n",
      "MAGNMAG =   21.920844437385117 / Lensed source galaxy AB magnitude              \n",
      "LENSMAG =   23.039265684732985 / Lens galaxy AB magnitude                       \n",
      "EXTNAME = 'F087    '           / extension name                                 \n",
      "\n",
      "\n",
      "XTENSION= 'IMAGE   '           / Image extension                                \n",
      "BITPIX  =                  -32 / array data type                                \n",
      "NAXIS   =                    2 / number of array dimensions                     \n",
      "NAXIS1  =                   90                                                  \n",
      "NAXIS2  =                   90                                                  \n",
      "PCOUNT  =                    0 / number of parameters                           \n",
      "GCOUNT  =                    1 / number of groups                               \n",
      "INSTRUME= 'WFI     '           / Instrument                                     \n",
      "FILTER  = 'F106    '           / Filter                                         \n",
      "EXPOSURE=                  146 / Exposure time [seconds]                        \n",
      "OVERSAMP=                    5 / Oversampling used in calculation               \n",
      "PIXELSCL=                 0.11 / Pixel scale [arcsec/pixel]                     \n",
      "FOV     =                10.01 / Field of view [arcsec]                         \n",
      "DETECTOR= 'SCA01   '           / Detector                                       \n",
      "DET_X   =                 2048 / Detector X position                            \n",
      "DET_Y   =                 2048 / Detector Y position                            \n",
      "SOURCMAG=    21.98131471147577 / Unlensed source galaxy AB magnitude            \n",
      "MAGNMAG =   21.297965738562016 / Lensed source galaxy AB magnitude              \n",
      "LENSMAG =    22.64781493981005 / Lens galaxy AB magnitude                       \n",
      "EXTNAME = 'F106    '           / extension name                                 \n",
      "\n",
      "\n",
      "XTENSION= 'IMAGE   '           / Image extension                                \n",
      "BITPIX  =                  -32 / array data type                                \n",
      "NAXIS   =                    2 / number of array dimensions                     \n",
      "NAXIS1  =                   90                                                  \n",
      "NAXIS2  =                   90                                                  \n",
      "PCOUNT  =                    0 / number of parameters                           \n",
      "GCOUNT  =                    1 / number of groups                               \n",
      "INSTRUME= 'WFI     '           / Instrument                                     \n",
      "FILTER  = 'F129    '           / Filter                                         \n",
      "EXPOSURE=                  146 / Exposure time [seconds]                        \n",
      "OVERSAMP=                    5 / Oversampling used in calculation               \n",
      "PIXELSCL=                 0.11 / Pixel scale [arcsec/pixel]                     \n",
      "FOV     =                10.01 / Field of view [arcsec]                         \n",
      "DETECTOR= 'SCA01   '           / Detector                                       \n",
      "DET_X   =                 2048 / Detector X position                            \n",
      "DET_Y   =                 2048 / Detector Y position                            \n",
      "SOURCMAG=   21.703222400018348 / Unlensed source galaxy AB magnitude            \n",
      "MAGNMAG =   21.019873427104596 / Lensed source galaxy AB magnitude              \n",
      "LENSMAG =   22.325824958009736 / Lens galaxy AB magnitude                       \n",
      "EXTNAME = 'F129    '           / extension name                                 \n",
      "\n",
      "\n"
     ]
    }
   ],
   "source": [
    "for i in range(4):\n",
    "    pprint(fits.getheader(fits_path, ext=i))\n",
    "    print('\\n')"
   ]
  }
 ],
 "metadata": {
  "kernelspec": {
   "display_name": "mejiro",
   "language": "python",
   "name": "python3"
  },
  "language_info": {
   "codemirror_mode": {
    "name": "ipython",
    "version": 3
   },
   "file_extension": ".py",
   "mimetype": "text/x-python",
   "name": "python",
   "nbconvert_exporter": "python",
   "pygments_lexer": "ipython3",
   "version": "3.10.6"
  }
 },
 "nbformat": 4,
 "nbformat_minor": 2
}
