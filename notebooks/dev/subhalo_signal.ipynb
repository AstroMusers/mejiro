{
 "cells": [
  {
   "cell_type": "code",
   "execution_count": 1,
   "metadata": {},
   "outputs": [],
   "source": [
    "import os\n",
    "import sys\n",
    "\n",
    "import numpy as np\n",
    "import matplotlib\n",
    "%matplotlib inline\n",
    "import matplotlib.pyplot as plt\n",
    "from matplotlib import colors\n",
    "from hydra import initialize, compose\n",
    "import pickle\n",
    "from glob import glob\n",
    "from pprint import pprint\n",
    "from tqdm import tqdm\n",
    "import random\n",
    "from pyHalo.preset_models import CDM\n",
    "from copy import deepcopy\n",
    "\n",
    "# set paths to various directories based on the machine this code is being executed on\n",
    "with initialize(version_base=None, config_path='../../config'):\n",
    "    config = compose(config_name='config.yaml')  # overrides=['machine=uzay']\n",
    "\n",
    "array_dir, data_dir, figure_dir, pickle_dir, repo_dir  = config.machine.array_dir, config.machine.data_dir, config.machine.figure_dir, config.machine.pickle_dir, config.machine.repo_dir\n",
    "\n",
    "# enable use of local modules\n",
    "if repo_dir not in sys.path:\n",
    "    sys.path.append(repo_dir)\n",
    "\n",
    "# set matplotlib style\n",
    "plt.style.use(f'{repo_dir}/mejiro/mplstyle/science.mplstyle')\n",
    "\n",
    "from mejiro.lenses.test import SampleStrongLens\n",
    "from mejiro.lenses import lens_util\n",
    "from mejiro.plots import diagnostic_plot, plot, plot_util, overplot\n",
    "from mejiro.analysis import stats\n",
    "from mejiro.utils import util\n",
    "from mejiro.helpers import gs"
   ]
  },
  {
   "cell_type": "code",
   "execution_count": 2,
   "metadata": {},
   "outputs": [],
   "source": [
    "# pickled_lens_list = os.path.join(config.machine.dir_01, '01_hlwas_sim_detectable_lens_list.pkl')\n",
    "# lens_list = util.unpickle(pickled_lens_list)\n",
    "# lens = random.choice(lens_list)"
   ]
  },
  {
   "cell_type": "code",
   "execution_count": 3,
   "metadata": {},
   "outputs": [
    {
     "name": "stdout",
     "output_type": "stream",
     "text": [
      "Collecting 100 lenses...\n",
      "Collected 100 lens(es).\n"
     ]
    }
   ],
   "source": [
    "num_lenses = 100\n",
    "print(f'Collecting {num_lenses} lenses...')\n",
    "pickled_lens_list = os.path.join(config.machine.dir_01, '01_hlwas_sim_detectable_lens_list.pkl')\n",
    "lens_list = util.unpickle(pickled_lens_list)[:num_lenses]\n",
    "print(f'Collected {len(lens_list)} lens(es).')"
   ]
  },
  {
   "cell_type": "code",
   "execution_count": 4,
   "metadata": {},
   "outputs": [],
   "source": [
    "subhalo_params = {\n",
    "    'r_tidal': 0.5,\n",
    "    'sigma_sub': 0.055,\n",
    "    'subhalo_cone': 5,\n",
    "    'los_normalization': 0\n",
    "}\n",
    "imaging_params = {\n",
    "    'bands': ['F106'],\n",
    "    'oversample': 5,\n",
    "    'num_pix': 45,\n",
    "    'side': 4.95\n",
    "}\n",
    "\n",
    "r_tidal = subhalo_params['r_tidal']\n",
    "sigma_sub = subhalo_params['sigma_sub']\n",
    "subhalo_cone = subhalo_params['subhalo_cone']\n",
    "los_normalization = subhalo_params['los_normalization']\n",
    "bands = imaging_params['bands']\n",
    "oversample = imaging_params['oversample']\n",
    "num_pix = imaging_params['num_pix']\n",
    "side = imaging_params['side']"
   ]
  },
  {
   "cell_type": "code",
   "execution_count": 5,
   "metadata": {},
   "outputs": [],
   "source": [
    "# get sample lens\n",
    "lens = np.random.choice(lens_list)\n",
    "lens._set_classes()"
   ]
  },
  {
   "cell_type": "code",
   "execution_count": 6,
   "metadata": {},
   "outputs": [],
   "source": [
    "without_subhalo = lens.get_array(45, 4.95, 'F106')"
   ]
  },
  {
   "cell_type": "code",
   "execution_count": 7,
   "metadata": {},
   "outputs": [
    {
     "name": "stdout",
     "output_type": "stream",
     "text": [
      "Generated cut_8 population after 310 iterations.\n"
     ]
    }
   ],
   "source": [
    "z_lens = round(lens.z_lens, 2)\n",
    "z_source = round(lens.z_source, 2)\n",
    "log_m_host = np.log10(lens.main_halo_mass)\n",
    "\n",
    "cut_8_good = False\n",
    "i = 0\n",
    "\n",
    "while not cut_8_good:\n",
    "    cut_8 = CDM(z_lens,\n",
    "                z_source,\n",
    "                sigma_sub=sigma_sub,\n",
    "                log_mlow=8.,\n",
    "                log_mhigh=10.,\n",
    "                log_m_host=log_m_host,\n",
    "                r_tidal=r_tidal,\n",
    "                cone_opening_angle_arcsec=subhalo_cone,\n",
    "                LOS_normalization=los_normalization)\n",
    "    cut_8_good, halo = lens_util.check_halo_image_alignment(lens, cut_8, halo_mass=1e6, halo_sort_massive_first=False, return_halo=True)\n",
    "    i += 1\n",
    "print(f'Generated cut_8 population after {i} iterations.')"
   ]
  },
  {
   "cell_type": "code",
   "execution_count": 8,
   "metadata": {},
   "outputs": [
    {
     "name": "stdout",
     "output_type": "stream",
     "text": [
      "2.622336392314406\n"
     ]
    }
   ],
   "source": [
    "pprint(halo.mass * 1e-8)"
   ]
  },
  {
   "cell_type": "code",
   "execution_count": 9,
   "metadata": {},
   "outputs": [
    {
     "name": "stdout",
     "output_type": "stream",
     "text": [
      "{'r200': 4.650340172671358,\n",
      " 'r_trunc_kpc': 0.14019570020019909,\n",
      " 'rhos': 16988106.687313892,\n",
      " 'rs': 1.1444231711287913}\n"
     ]
    }
   ],
   "source": [
    "pprint(halo.params_physical)"
   ]
  },
  {
   "cell_type": "code",
   "execution_count": 10,
   "metadata": {},
   "outputs": [
    {
     "name": "stdout",
     "output_type": "stream",
     "text": [
      "([{'Rs': 1.3295670308,\n",
      "   'alpha_Rs': 0.0008009087,\n",
      "   'center_x': -0.2981,\n",
      "   'center_y': 0.0317,\n",
      "   'r_trunc': 0.058430480638796654}],\n",
      " None)\n"
     ]
    }
   ],
   "source": [
    "pprint(halo.lenstronomy_params)"
   ]
  },
  {
   "cell_type": "code",
   "execution_count": 11,
   "metadata": {},
   "outputs": [
    {
     "data": {
      "text/plain": [
       "['TNFW']"
      ]
     },
     "execution_count": 11,
     "metadata": {},
     "output_type": "execute_result"
    }
   ],
   "source": [
    "halo.lenstronomy_ID"
   ]
  },
  {
   "cell_type": "code",
   "execution_count": 12,
   "metadata": {},
   "outputs": [],
   "source": [
    "lens.kwargs_lens.append(halo.lenstronomy_params[0][0])\n",
    "lens.lens_redshift_list += halo.z\n",
    "lens.lens_model_list += halo.lenstronomy_ID\n",
    "\n",
    "from lenstronomy.LensModel.lens_model import LensModel\n",
    "lens.lens_model_class = LensModel(lens.lens_model_list)"
   ]
  },
  {
   "cell_type": "code",
   "execution_count": 13,
   "metadata": {},
   "outputs": [
    {
     "name": "stdout",
     "output_type": "stream",
     "text": [
      "[{'center_x': 0.05610736457883662,\n",
      "  'center_y': 0.020053973955505938,\n",
      "  'e1': 0.31895676995452815,\n",
      "  'e2': -0.47957972106252555,\n",
      "  'gamma': 2,\n",
      "  'theta_E': 0.7535174375794983},\n",
      " {'dec_0': 0,\n",
      "  'gamma1': 0.003750641129686577,\n",
      "  'gamma2': -0.004889091148466559,\n",
      "  'ra_0': 0},\n",
      " {'dec_0': 0, 'kappa': -0.025400566253103354, 'ra_0': 0},\n",
      " {'Rs': 1.3295670308,\n",
      "  'alpha_Rs': 0.0008009087,\n",
      "  'center_x': -0.2981,\n",
      "  'center_y': 0.0317,\n",
      "  'r_trunc': 0.058430480638796654}]\n"
     ]
    }
   ],
   "source": [
    "pprint(lens.kwargs_lens)"
   ]
  },
  {
   "cell_type": "code",
   "execution_count": 14,
   "metadata": {},
   "outputs": [],
   "source": [
    "with_subhalo = lens.get_array(45, 4.95, 'F106')"
   ]
  },
  {
   "cell_type": "code",
   "execution_count": 15,
   "metadata": {},
   "outputs": [
    {
     "data": {
      "image/png": "[encoded data removed]",
      "text/plain": [
       "<Figure size 1500x500 with 4 Axes>"
      ]
     },
     "metadata": {},
     "output_type": "display_data"
    }
   ],
   "source": [
    "residual = with_subhalo - without_subhalo\n",
    "\n",
    "f, ax = plt.subplots(1, 3, figsize=(15, 5))\n",
    "ax[0].imshow(without_subhalo)\n",
    "ax[0].set_title('Without Subhalo')\n",
    "ax[1].imshow(with_subhalo)\n",
    "ax[1].set_title('With Subhalo')\n",
    "axis = ax[2].imshow(residual, cmap='bwr', vmin=-np.max(np.abs(residual)), vmax=np.max(np.abs(residual)))\n",
    "ax[2].set_title('Residual')\n",
    "\n",
    "cbar = f.colorbar(axis, ax=ax)\n",
    "\n",
    "coords = lens_util.get_coords(45, delta_pix=0.11)\n",
    "for a in ax:\n",
    "    a.scatter(*coords.map_coord2pix(halo.x, halo.y), s=100, facecolors='none', edgecolors='black')\n",
    "\n",
    "plt.show()"
   ]
  }
 ],
 "metadata": {
  "kernelspec": {
   "display_name": "mejiro",
   "language": "python",
   "name": "python3"
  },
  "language_info": {
   "codemirror_mode": {
    "name": "ipython",
    "version": 3
   },
   "file_extension": ".py",
   "mimetype": "text/x-python",
   "name": "python",
   "nbconvert_exporter": "python",
   "pygments_lexer": "ipython3",
   "version": "3.11.7"
  }
 },
 "nbformat": 4,
 "nbformat_minor": 2
}
