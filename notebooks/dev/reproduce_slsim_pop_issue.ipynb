{
 "cells": [
  {
   "cell_type": "code",
   "execution_count": 1,
   "metadata": {},
   "outputs": [],
   "source": [
    "import numpy as np\n",
    "import os\n",
    "import matplotlib.pyplot as plt\n",
    "import slsim\n",
    "from slsim.lens_pop import LensPop\n",
    "from slsim.Observations.roman_speclite import configure_roman_filters\n",
    "from slsim.Observations.roman_speclite import filter_names\n",
    "import speclite\n",
    "from astropy.cosmology import FlatLambdaCDM\n",
    "from astropy.units import Quantity\n",
    "from tqdm import tqdm"
   ]
  },
  {
   "cell_type": "code",
   "execution_count": 2,
   "metadata": {},
   "outputs": [],
   "source": [
    "path = os.path.dirname(slsim.__file__)\n",
    "module_path, _ = os.path.split(path)\n",
    "skypy_config = os.path.join(module_path, \"data/SkyPy/roman-like.yml\")\n",
    "\n",
    "configure_roman_filters()\n",
    "\n",
    "roman_filters = filter_names()\n",
    "\n",
    "_ = speclite.filters.load_filters(\n",
    "    roman_filters[0],\n",
    "    roman_filters[1],\n",
    "    roman_filters[2],\n",
    "    roman_filters[3],\n",
    "    roman_filters[4],\n",
    "    roman_filters[5],\n",
    "    roman_filters[6],\n",
    "    roman_filters[7],\n",
    ")"
   ]
  },
  {
   "cell_type": "code",
   "execution_count": 3,
   "metadata": {},
   "outputs": [],
   "source": [
    "cosmo = FlatLambdaCDM(H0=70, Om0=0.3)\n",
    "\n",
    "sky_area = Quantity(value=5., unit=\"deg2\")"
   ]
  },
  {
   "cell_type": "markdown",
   "metadata": {},
   "source": [
    "Place stricter magnitude cuts on the second `LensPop`"
   ]
  },
  {
   "cell_type": "code",
   "execution_count": 4,
   "metadata": {},
   "outputs": [],
   "source": [
    "kwargs_deflector_cut_1 = {\"band\": \"F062\", \"band_max\": 25, \"z_min\": 0.01, \"z_max\": 3.0}\n",
    "kwargs_source_cut_1 = {\"band\": \"F062\", \"band_max\": 28, \"z_min\": 0.01, \"z_max\": 5.0}\n",
    "\n",
    "lens_pop_1 = LensPop(\n",
    "    deflector_type=\"all-galaxies\",\n",
    "    source_type=\"galaxies\",\n",
    "    kwargs_deflector_cut=kwargs_deflector_cut_1,\n",
    "    kwargs_source_cut=kwargs_source_cut_1,\n",
    "    kwargs_mass2light=None,\n",
    "    skypy_config=skypy_config,\n",
    "    sky_area=sky_area,\n",
    "    cosmo=cosmo,\n",
    ")"
   ]
  },
  {
   "cell_type": "code",
   "execution_count": 5,
   "metadata": {},
   "outputs": [],
   "source": [
    "kwargs_deflector_cut_2 = {\"band\": \"F062\", \"band_max\": 22, \"z_min\": 0.01, \"z_max\": 3.0}\n",
    "kwargs_source_cut_2 = {\"band\": \"F062\", \"band_max\": 23, \"z_min\": 0.01, \"z_max\": 5.0}\n",
    "\n",
    "lens_pop_2 = LensPop(\n",
    "    deflector_type=\"all-galaxies\",\n",
    "    source_type=\"galaxies\",\n",
    "    kwargs_deflector_cut=kwargs_deflector_cut_2,\n",
    "    kwargs_source_cut=kwargs_source_cut_2,\n",
    "    kwargs_mass2light=None,\n",
    "    skypy_config=skypy_config,\n",
    "    sky_area=sky_area,\n",
    "    cosmo=cosmo,\n",
    ")"
   ]
  },
  {
   "cell_type": "code",
   "execution_count": 6,
   "metadata": {},
   "outputs": [
    {
     "name": "stdout",
     "output_type": "stream",
     "text": [
      "Number of lenses: 57257\n"
     ]
    }
   ],
   "source": [
    "kwargs_lens_cut = {\n",
    "    \"min_image_separation\": 0.2,\n",
    "    \"max_image_separation\": 10,\n",
    "    \"mag_arc_limit\": {\"F158\": 25, \"F106\": 25, \"F062\": 25},\n",
    "}\n",
    "\n",
    "lens_population_1 = lens_pop_1.draw_population(kwargs_lens_cuts=kwargs_lens_cut)\n",
    "\n",
    "print(\"Number of lenses:\", len(lens_population_1))"
   ]
  },
  {
   "cell_type": "code",
   "execution_count": 7,
   "metadata": {},
   "outputs": [
    {
     "name": "stdout",
     "output_type": "stream",
     "text": [
      "Number of lenses: 431\n"
     ]
    }
   ],
   "source": [
    "lens_population_2 = lens_pop_2.draw_population(kwargs_lens_cuts=kwargs_lens_cut)\n",
    "\n",
    "print(\"Number of lenses:\", len(lens_population_2))"
   ]
  },
  {
   "cell_type": "markdown",
   "metadata": {},
   "source": [
    "So far, this makes sense: there are fewer systems in the second population with stricter filters on magnitudes."
   ]
  },
  {
   "cell_type": "markdown",
   "metadata": {},
   "source": [
    "Define some methods to estimate SNR of lensed source in F106"
   ]
  },
  {
   "cell_type": "code",
   "execution_count": 8,
   "metadata": {},
   "outputs": [],
   "source": [
    "from lenstronomy.Data.pixel_grid import PixelGrid\n",
    "from lenstronomy.Data.psf import PSF\n",
    "from lenstronomy.ImSim.image_model import ImageModel\n",
    "from lenstronomy.LensModel.lens_model import LensModel\n",
    "from lenstronomy.LightModel.light_model import LightModel\n",
    "from lenstronomy.SimulationAPI.ObservationConfig import Roman\n",
    "from lenstronomy.Util import data_util, util\n",
    "\n",
    "\n",
    "def get_snr(gglens, band):\n",
    "    total_image, lens_surface_brightness, source_surface_brightness = get_image(gglens, band)\n",
    "\n",
    "    # calculate region for source surface brightness array and count signal\n",
    "    stdev = np.std(source_surface_brightness)\n",
    "    mean = np.mean(source_surface_brightness)\n",
    "    mask = source_surface_brightness < mean + (1 * stdev)\n",
    "    masked_source = np.ma.masked_array(source_surface_brightness, mask=mask)\n",
    "    sum_source_counts = np.sum(masked_source)\n",
    "\n",
    "    # estimate and add background\n",
    "    min_zodiacal_light_f106 = 0.29\n",
    "    thermal_background_f106 = 0\n",
    "    estimated_background = (min_zodiacal_light_f106 * 1.5) + thermal_background_f106  # in counts/pixel\n",
    "    estimated_background *= np.ones(total_image.shape)\n",
    "    total_image += estimated_background\n",
    "\n",
    "    # estimated total noise in 180s from https://roman.gsfc.nasa.gov/science/WFI_technical.html\n",
    "    noise_180s = 5.5  # e- RMS\n",
    "    noise_rms = noise_180s * (146 / 180)\n",
    "    noise_array = np.random.poisson(noise_rms, total_image.shape)\n",
    "    total_image += noise_array\n",
    "\n",
    "    # count total signal\n",
    "    masked_total = np.ma.masked_array(total_image, mask=mask)\n",
    "    sum_total_counts = np.sum(masked_total)\n",
    "\n",
    "    # calculate estimated SNR\n",
    "    return sum_source_counts / np.sqrt(sum_total_counts), total_image\n",
    "\n",
    "\n",
    "def get_image(gglens, band):\n",
    "    kwargs_model, kwargs_params = gglens.lenstronomy_kwargs(band=band)\n",
    "\n",
    "    magnitude_zero_point = Roman.F106_band_obs['magnitude_zero_point']\n",
    "    lens_model = LensModel(kwargs_model['lens_model_list'])\n",
    "    source_light_model = LightModel(kwargs_model['source_light_model_list'])\n",
    "    lens_light_model = LightModel(kwargs_model['lens_light_model_list'])\n",
    "    kwargs_lens = kwargs_params['kwargs_lens']\n",
    "    kwargs_source = kwargs_params['kwargs_source']\n",
    "    kwargs_lens_light = kwargs_params['kwargs_lens_light']\n",
    "    kwargs_source_amp = data_util.magnitude2amplitude(source_light_model, kwargs_source, magnitude_zero_point)\n",
    "    kwargs_lens_light_amp = data_util.magnitude2amplitude(lens_light_model, kwargs_lens_light, magnitude_zero_point)\n",
    "\n",
    "    # set up image\n",
    "    num_pix = 45  # at 0.11 pixels/\", 10.01\"\n",
    "    psf_class = PSF(**{'psf_type': 'GAUSSIAN', 'fwhm': 0.087})\n",
    "    kwargs_numerics = {\n",
    "        'supersampling_factor': 1,\n",
    "        'supersampling_convolution': False\n",
    "    }\n",
    "    _, _, ra_at_xy_0, dec_at_xy_0, _, _, Mpix2coord, Mcoord2pix = util.make_grid_with_coordtransform(\n",
    "        numPix=num_pix,\n",
    "        deltapix=0.11,\n",
    "        subgrid_res=1,\n",
    "        left_lower=False,\n",
    "        inverse=False)\n",
    "    kwargs_pixel = {'nx': num_pix, 'ny': num_pix,  # number of pixels per axis\n",
    "                    'ra_at_xy_0': ra_at_xy_0,\n",
    "                    'dec_at_xy_0': dec_at_xy_0,\n",
    "                    'transform_pix2angle': Mpix2coord}\n",
    "    pixel_grid = PixelGrid(**kwargs_pixel)\n",
    "    image_model = ImageModel(data_class=pixel_grid,\n",
    "                             psf_class=psf_class,\n",
    "                             lens_model_class=lens_model,\n",
    "                             source_model_class=source_light_model,\n",
    "                             lens_light_model_class=lens_light_model,\n",
    "                             kwargs_numerics=kwargs_numerics)\n",
    "\n",
    "    # get surface brightness arrays\n",
    "    lens_surface_brightness = image_model.lens_surface_brightness(kwargs_lens_light_amp)\n",
    "    source_surface_brightness = image_model.source_surface_brightness(kwargs_source_amp, kwargs_lens)\n",
    "    total_image = image_model.image(kwargs_lens=kwargs_lens,\n",
    "                                    kwargs_source=kwargs_source_amp,\n",
    "                                    kwargs_lens_light=kwargs_lens_light_amp)\n",
    "\n",
    "    return total_image, lens_surface_brightness, source_surface_brightness"
   ]
  },
  {
   "cell_type": "code",
   "execution_count": 9,
   "metadata": {},
   "outputs": [
    {
     "name": "stderr",
     "output_type": "stream",
     "text": [
      " 21%|██        | 11991/57257 [00:27<01:39, 456.39it/s]"
     ]
    },
    {
     "name": "stderr",
     "output_type": "stream",
     "text": [
      "100%|██████████| 57257/57257 [02:08<00:00, 446.11it/s]\n"
     ]
    }
   ],
   "source": [
    "detectable_gglenses_1, snr_1 = [], []\n",
    "for candidate in tqdm(lens_population_1):\n",
    "    # 1. Einstein radius and Sersic radius\n",
    "    _, kwargs_params = candidate.lenstronomy_kwargs(band='F106')\n",
    "    lens_mag = candidate.deflector_magnitude(band='F106')\n",
    "\n",
    "    if kwargs_params['kwargs_lens'][0]['theta_E'] < kwargs_params['kwargs_lens_light'][0][\n",
    "        'R_sersic'] and lens_mag < 15:\n",
    "        continue\n",
    "\n",
    "    # 2. SNR\n",
    "    snr, _ = get_snr(candidate, 'F106')\n",
    "    snr_1.append(snr)\n",
    "\n",
    "    if snr < 10:\n",
    "        continue\n",
    "\n",
    "    # if both criteria satisfied, consider detectable\n",
    "    detectable_gglenses_1.append(candidate)"
   ]
  },
  {
   "cell_type": "code",
   "execution_count": 10,
   "metadata": {},
   "outputs": [
    {
     "name": "stderr",
     "output_type": "stream",
     "text": [
      " 73%|███████▎  | 313/431 [00:00<00:00, 450.71it/s]"
     ]
    },
    {
     "name": "stderr",
     "output_type": "stream",
     "text": [
      "100%|██████████| 431/431 [00:00<00:00, 438.54it/s]\n"
     ]
    }
   ],
   "source": [
    "detectable_gglenses_2, snr_2 = [], []\n",
    "for candidate in tqdm(lens_population_2):\n",
    "    # 1. Einstein radius and Sersic radius\n",
    "    _, kwargs_params = candidate.lenstronomy_kwargs(band='F106')\n",
    "    lens_mag = candidate.deflector_magnitude(band='F106')\n",
    "\n",
    "    if kwargs_params['kwargs_lens'][0]['theta_E'] < kwargs_params['kwargs_lens_light'][0][\n",
    "        'R_sersic'] and lens_mag < 15:\n",
    "        continue\n",
    "\n",
    "    # 2. SNR\n",
    "    snr, _ = get_snr(candidate, 'F106')\n",
    "    snr_2.append(snr)\n",
    "\n",
    "    if snr < 10:\n",
    "        continue\n",
    "\n",
    "    # if both criteria satisfied, consider detectable\n",
    "    detectable_gglenses_2.append(candidate)"
   ]
  },
  {
   "cell_type": "code",
   "execution_count": 11,
   "metadata": {},
   "outputs": [
    {
     "data": {
      "image/png": "[encoded data removed]",
      "text/plain": [
       "<Figure size 640x480 with 1 Axes>"
      ]
     },
     "metadata": {},
     "output_type": "display_data"
    }
   ],
   "source": [
    "plt.hist(snr_1, label='Population 1 (Less strict magnitude cuts)', alpha=0.5)\n",
    "plt.hist(snr_2, label='Population 2 (Stricter magnitude cuts)', alpha=0.5)\n",
    "plt.xlabel('SNR')\n",
    "plt.ylabel('Count')\n",
    "plt.yscale('log')\n",
    "plt.axvline(10, color='r', linestyle='--', label='SNR cutoff')\n",
    "plt.legend()\n",
    "plt.show()"
   ]
  },
  {
   "cell_type": "code",
   "execution_count": 12,
   "metadata": {},
   "outputs": [
    {
     "name": "stdout",
     "output_type": "stream",
     "text": [
      "Number of detectable lenses in the population 1: 4\n",
      "Percentage detectable in population 1: 0.01%\n"
     ]
    }
   ],
   "source": [
    "print(f'Number of detectable lenses in the population 1: {len(detectable_gglenses_1)}')\n",
    "print(f'Percentage detectable in population 1: {len(detectable_gglenses_1) / len(lens_population_1) * 100:.2f}%')"
   ]
  },
  {
   "cell_type": "code",
   "execution_count": 13,
   "metadata": {},
   "outputs": [
    {
     "name": "stdout",
     "output_type": "stream",
     "text": [
      "Number of detectable lenses in population 2: 7\n",
      "Percentage detectable in population 2: 1.62%\n"
     ]
    }
   ],
   "source": [
    "print(f'Number of detectable lenses in population 2: {len(detectable_gglenses_2)}')\n",
    "print(f'Percentage detectable in population 2: {len(detectable_gglenses_2) / len(lens_population_2) * 100:.2f}%')"
   ]
  }
 ],
 "metadata": {
  "kernelspec": {
   "display_name": "slsim",
   "language": "python",
   "name": "python3"
  },
  "language_info": {
   "codemirror_mode": {
    "name": "ipython",
    "version": 3
   },
   "file_extension": ".py",
   "mimetype": "text/x-python",
   "name": "python",
   "nbconvert_exporter": "python",
   "pygments_lexer": "ipython3",
   "version": "3.11.7"
  }
 },
 "nbformat": 4,
 "nbformat_minor": 1
}
