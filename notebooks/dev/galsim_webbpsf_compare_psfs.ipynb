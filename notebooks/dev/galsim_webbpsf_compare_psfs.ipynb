{
 "cells": [
  {
   "cell_type": "code",
   "execution_count": 1,
   "metadata": {},
   "outputs": [],
   "source": [
    "import datetime\n",
    "import os\n",
    "import sys\n",
    "import time\n",
    "\n",
    "import numpy as np\n",
    "import matplotlib\n",
    "import matplotlib.pyplot as plt\n",
    "from matplotlib import colors\n",
    "from hydra import initialize, compose\n",
    "import pickle\n",
    "from glob import glob\n",
    "from pprint import pprint\n",
    "import webbpsf\n",
    "import galsim\n",
    "from galsim import roman\n",
    "from galsim import InterpolatedImage, Image\n",
    "\n",
    "# set paths to various directories based on the machine this code is being executed on\n",
    "with initialize(version_base=None, config_path='config'):\n",
    "    config = compose(config_name='config.yaml')  # overrides=['machine=uzay']\n",
    "\n",
    "array_dir, data_dir, figure_dir, pickle_dir, repo_dir  = config.machine.array_dir, config.machine.data_dir, config.machine.figure_dir, config.machine.pickle_dir, config.machine.repo_dir\n",
    "\n",
    "# enable use of local modules\n",
    "if repo_dir not in sys.path:\n",
    "    sys.path.append(repo_dir)\n",
    "\n",
    "# set matplotlib style\n",
    "plt.style.use(f'{repo_dir}/mejiro/mplstyle/science.mplstyle')\n",
    "\n",
    "from mejiro.lenses.test import SampleStrongLens\n",
    "from mejiro.plots import diagnostic_plot, plot, plot_util, overplot\n",
    "from mejiro.analysis import stats\n",
    "from mejiro.utils import util\n",
    "from mejiro.helpers import pyhalo, psf"
   ]
  },
  {
   "cell_type": "code",
   "execution_count": 3,
   "metadata": {},
   "outputs": [
    {
     "ename": "AttributeError",
     "evalue": "'LensCosmo' object has no attribute '_z_infall_pdf'",
     "output_type": "error",
     "traceback": [
      "\u001b[0;31m---------------------------------------------------------------------------\u001b[0m",
      "\u001b[0;31mAttributeError\u001b[0m                            Traceback (most recent call last)",
      "Input \u001b[0;32mIn [3]\u001b[0m, in \u001b[0;36m<cell line: 10>\u001b[0;34m()\u001b[0m\n\u001b[1;32m      7\u001b[0m lens \u001b[38;5;241m=\u001b[39m SampleStrongLens()\n\u001b[1;32m      9\u001b[0m \u001b[38;5;66;03m# add CDM subhalos; NB same subhalo population for all\u001b[39;00m\n\u001b[0;32m---> 10\u001b[0m \u001b[43mlens\u001b[49m\u001b[38;5;241;43m.\u001b[39;49m\u001b[43madd_subhalos\u001b[49m\u001b[43m(\u001b[49m\u001b[43mutil\u001b[49m\u001b[38;5;241;43m.\u001b[39;49m\u001b[43munpickle\u001b[49m\u001b[43m(\u001b[49m\u001b[43mos\u001b[49m\u001b[38;5;241;43m.\u001b[39;49m\u001b[43mpath\u001b[49m\u001b[38;5;241;43m.\u001b[39;49m\u001b[43mjoin\u001b[49m\u001b[43m(\u001b[49m\u001b[43mpickle_dir\u001b[49m\u001b[43m,\u001b[49m\u001b[43m \u001b[49m\u001b[38;5;124;43m'\u001b[39;49m\u001b[38;5;124;43mcdm_subhalos_for_sample\u001b[39;49m\u001b[38;5;124;43m'\u001b[39;49m\u001b[43m)\u001b[49m\u001b[43m)\u001b[49m\u001b[43m)\u001b[49m\n\u001b[1;32m     12\u001b[0m \u001b[38;5;66;03m# generate synthetic image\u001b[39;00m\n\u001b[1;32m     13\u001b[0m model \u001b[38;5;241m=\u001b[39m lens\u001b[38;5;241m.\u001b[39mget_array(num_pix\u001b[38;5;241m=\u001b[39mnum_pix \u001b[38;5;241m*\u001b[39m oversample, side\u001b[38;5;241m=\u001b[39mside, band\u001b[38;5;241m=\u001b[39mband)\n",
      "File \u001b[0;32m/nfshome/bwedig/mejiro/mejiro/lenses/strong_lens.py:129\u001b[0m, in \u001b[0;36mStrongLens.add_subhalos\u001b[0;34m(self, realization, suppress_output)\u001b[0m\n\u001b[1;32m    126\u001b[0m \u001b[38;5;28mself\u001b[39m\u001b[38;5;241m.\u001b[39mnum_subhalos \u001b[38;5;241m=\u001b[39m \u001b[38;5;28mlen\u001b[39m(realization\u001b[38;5;241m.\u001b[39mhalos)\n\u001b[1;32m    128\u001b[0m \u001b[38;5;66;03m# generate lenstronomy objects\u001b[39;00m\n\u001b[0;32m--> 129\u001b[0m halo_lens_model_list, halo_redshift_list, kwargs_halos, _ \u001b[38;5;241m=\u001b[39m \u001b[43mrealization\u001b[49m\u001b[38;5;241;43m.\u001b[39;49m\u001b[43mlensing_quantities\u001b[49m\u001b[43m(\u001b[49m\u001b[43m)\u001b[49m\n\u001b[1;32m    131\u001b[0m \u001b[38;5;66;03m# for some reason, halo_lens_model_list and kwargs_halos are lists, but halo_redshift_list is ndarray\u001b[39;00m\n\u001b[1;32m    132\u001b[0m halo_redshift_list \u001b[38;5;241m=\u001b[39m halo_redshift_list\u001b[38;5;241m.\u001b[39mtolist()\n",
      "File \u001b[0;32m/data/bwedig/.conda/envs/mejiro/lib/python3.10/site-packages/pyHalo/single_realization.py:400\u001b[0m, in \u001b[0;36mRealization.lensing_quantities\u001b[0;34m(self, add_mass_sheet_correction, kwargs_mass_sheet)\u001b[0m\n\u001b[1;32m    397\u001b[0m \u001b[38;5;28;01mfor\u001b[39;00m i, halo \u001b[38;5;129;01min\u001b[39;00m \u001b[38;5;28menumerate\u001b[39m(\u001b[38;5;28mself\u001b[39m\u001b[38;5;241m.\u001b[39mhalos):\n\u001b[1;32m    399\u001b[0m     lens_model_name \u001b[38;5;241m=\u001b[39m halo\u001b[38;5;241m.\u001b[39mlenstronomy_ID\n\u001b[0;32m--> 400\u001b[0m     kwargs_halo, interp_class \u001b[38;5;241m=\u001b[39m \u001b[43mhalo\u001b[49m\u001b[38;5;241;43m.\u001b[39;49m\u001b[43mlenstronomy_params\u001b[49m\n\u001b[1;32m    401\u001b[0m     lens_model_list \u001b[38;5;241m+\u001b[39m\u001b[38;5;241m=\u001b[39m lens_model_name\n\u001b[1;32m    402\u001b[0m     kwargs_lens \u001b[38;5;241m+\u001b[39m\u001b[38;5;241m=\u001b[39m kwargs_halo\n",
      "File \u001b[0;32m/data/bwedig/.conda/envs/mejiro/lib/python3.10/site-packages/pyHalo/Halos/HaloModels/TNFW.py:78\u001b[0m, in \u001b[0;36mTNFWFieldHalo.lenstronomy_params\u001b[0;34m(self)\u001b[0m\n\u001b[1;32m     73\u001b[0m \u001b[38;5;250m\u001b[39m\u001b[38;5;124;03m\"\"\"\u001b[39;00m\n\u001b[1;32m     74\u001b[0m \u001b[38;5;124;03mSee documentation in base class (Halos/halo_base.py)\u001b[39;00m\n\u001b[1;32m     75\u001b[0m \u001b[38;5;124;03m\"\"\"\u001b[39;00m\n\u001b[1;32m     76\u001b[0m \u001b[38;5;28;01mif\u001b[39;00m \u001b[38;5;129;01mnot\u001b[39;00m \u001b[38;5;28mhasattr\u001b[39m(\u001b[38;5;28mself\u001b[39m, \u001b[38;5;124m'\u001b[39m\u001b[38;5;124m_kwargs_lenstronomy\u001b[39m\u001b[38;5;124m'\u001b[39m):\n\u001b[0;32m---> 78\u001b[0m     [concentration, rt] \u001b[38;5;241m=\u001b[39m \u001b[38;5;28;43mself\u001b[39;49m\u001b[38;5;241;43m.\u001b[39;49m\u001b[43mprofile_args\u001b[49m\n\u001b[1;32m     79\u001b[0m     Rs_angle, theta_Rs \u001b[38;5;241m=\u001b[39m \u001b[38;5;28mself\u001b[39m\u001b[38;5;241m.\u001b[39m_lens_cosmo\u001b[38;5;241m.\u001b[39mnfw_physical2angle(\u001b[38;5;28mself\u001b[39m\u001b[38;5;241m.\u001b[39mmass, concentration, \u001b[38;5;28mself\u001b[39m\u001b[38;5;241m.\u001b[39mz)\n\u001b[1;32m     81\u001b[0m     x, y \u001b[38;5;241m=\u001b[39m np\u001b[38;5;241m.\u001b[39mround(\u001b[38;5;28mself\u001b[39m\u001b[38;5;241m.\u001b[39mx, \u001b[38;5;241m4\u001b[39m), np\u001b[38;5;241m.\u001b[39mround(\u001b[38;5;28mself\u001b[39m\u001b[38;5;241m.\u001b[39my, \u001b[38;5;241m4\u001b[39m)\n",
      "File \u001b[0;32m/data/bwedig/.conda/envs/mejiro/lib/python3.10/site-packages/pyHalo/Halos/HaloModels/TNFW.py:102\u001b[0m, in \u001b[0;36mTNFWFieldHalo.profile_args\u001b[0;34m(self)\u001b[0m\n\u001b[1;32m    100\u001b[0m \u001b[38;5;28;01mif\u001b[39;00m \u001b[38;5;129;01mnot\u001b[39;00m \u001b[38;5;28mhasattr\u001b[39m(\u001b[38;5;28mself\u001b[39m, \u001b[38;5;124m'\u001b[39m\u001b[38;5;124m_profile_args\u001b[39m\u001b[38;5;124m'\u001b[39m):\n\u001b[1;32m    101\u001b[0m     truncation_radius_kpc \u001b[38;5;241m=\u001b[39m \u001b[38;5;28mself\u001b[39m\u001b[38;5;241m.\u001b[39m_truncation_class\u001b[38;5;241m.\u001b[39mtruncation_radius_halo(\u001b[38;5;28mself\u001b[39m)\n\u001b[0;32m--> 102\u001b[0m     \u001b[38;5;28mself\u001b[39m\u001b[38;5;241m.\u001b[39m_profile_args \u001b[38;5;241m=\u001b[39m (\u001b[38;5;28;43mself\u001b[39;49m\u001b[38;5;241;43m.\u001b[39;49m\u001b[43mc\u001b[49m, truncation_radius_kpc)\n\u001b[1;32m    103\u001b[0m \u001b[38;5;28;01mreturn\u001b[39;00m \u001b[38;5;28mself\u001b[39m\u001b[38;5;241m.\u001b[39m_profile_args\n",
      "File \u001b[0;32m/data/bwedig/.conda/envs/mejiro/lib/python3.10/site-packages/pyHalo/Halos/HaloModels/TNFW.py:55\u001b[0m, in \u001b[0;36mTNFWFieldHalo.c\u001b[0;34m(self)\u001b[0m\n\u001b[1;32m     50\u001b[0m \u001b[38;5;250m\u001b[39m\u001b[38;5;124;03m\"\"\"\u001b[39;00m\n\u001b[1;32m     51\u001b[0m \u001b[38;5;124;03mComputes the halo concentration (once)\u001b[39;00m\n\u001b[1;32m     52\u001b[0m \u001b[38;5;124;03m\"\"\"\u001b[39;00m\n\u001b[1;32m     54\u001b[0m \u001b[38;5;28;01mif\u001b[39;00m \u001b[38;5;129;01mnot\u001b[39;00m \u001b[38;5;28mhasattr\u001b[39m(\u001b[38;5;28mself\u001b[39m, \u001b[38;5;124m'\u001b[39m\u001b[38;5;124m_c\u001b[39m\u001b[38;5;124m'\u001b[39m):\n\u001b[0;32m---> 55\u001b[0m     \u001b[38;5;28mself\u001b[39m\u001b[38;5;241m.\u001b[39m_c \u001b[38;5;241m=\u001b[39m \u001b[38;5;28mself\u001b[39m\u001b[38;5;241m.\u001b[39m_concentration_class\u001b[38;5;241m.\u001b[39mnfw_concentration(\u001b[38;5;28mself\u001b[39m\u001b[38;5;241m.\u001b[39mmass, \u001b[38;5;28;43mself\u001b[39;49m\u001b[38;5;241;43m.\u001b[39;49m\u001b[43mz_eval\u001b[49m)\n\u001b[1;32m     56\u001b[0m \u001b[38;5;28;01mreturn\u001b[39;00m \u001b[38;5;28mself\u001b[39m\u001b[38;5;241m.\u001b[39m_c\n",
      "File \u001b[0;32m/data/bwedig/.conda/envs/mejiro/lib/python3.10/site-packages/pyHalo/Halos/halo_base.py:182\u001b[0m, in \u001b[0;36mHalo.z_eval\u001b[0;34m(self)\u001b[0m\n\u001b[1;32m    180\u001b[0m         \u001b[38;5;28mself\u001b[39m\u001b[38;5;241m.\u001b[39m_zeval \u001b[38;5;241m=\u001b[39m \u001b[38;5;28mself\u001b[39m\u001b[38;5;241m.\u001b[39mz\n\u001b[1;32m    181\u001b[0m     \u001b[38;5;28;01melse\u001b[39;00m:\n\u001b[0;32m--> 182\u001b[0m         \u001b[38;5;28mself\u001b[39m\u001b[38;5;241m.\u001b[39m_zeval \u001b[38;5;241m=\u001b[39m \u001b[38;5;28;43mself\u001b[39;49m\u001b[38;5;241;43m.\u001b[39;49m\u001b[43mz_infall\u001b[49m\n\u001b[1;32m    183\u001b[0m \u001b[38;5;28;01melse\u001b[39;00m:\n\u001b[1;32m    184\u001b[0m     \u001b[38;5;28mself\u001b[39m\u001b[38;5;241m.\u001b[39m_zeval \u001b[38;5;241m=\u001b[39m \u001b[38;5;28mself\u001b[39m\u001b[38;5;241m.\u001b[39mz\n",
      "File \u001b[0;32m/data/bwedig/.conda/envs/mejiro/lib/python3.10/site-packages/pyHalo/Halos/halo_base.py:113\u001b[0m, in \u001b[0;36mHalo.z_infall\u001b[0;34m(self)\u001b[0m\n\u001b[1;32m    106\u001b[0m \u001b[38;5;250m\u001b[39m\u001b[38;5;124;03m\"\"\"\u001b[39;00m\n\u001b[1;32m    107\u001b[0m \u001b[38;5;124;03mEvaluate the infall redshift using a PDF generated by galacticus.\u001b[39;00m\n\u001b[1;32m    108\u001b[0m \u001b[38;5;124;03mNote: This routine is meaningless and therefore not used for LOS halos\u001b[39;00m\n\u001b[1;32m    109\u001b[0m \u001b[38;5;124;03m:return: the infall redshift of a halo assuming it is in a host halo at redshift self.z\u001b[39;00m\n\u001b[1;32m    110\u001b[0m \u001b[38;5;124;03m\"\"\"\u001b[39;00m\n\u001b[1;32m    112\u001b[0m \u001b[38;5;28;01mif\u001b[39;00m \u001b[38;5;129;01mnot\u001b[39;00m \u001b[38;5;28mhasattr\u001b[39m(\u001b[38;5;28mself\u001b[39m, \u001b[38;5;124m'\u001b[39m\u001b[38;5;124m_z_infall\u001b[39m\u001b[38;5;124m'\u001b[39m):\n\u001b[0;32m--> 113\u001b[0m     \u001b[38;5;28mself\u001b[39m\u001b[38;5;241m.\u001b[39m_z_infall \u001b[38;5;241m=\u001b[39m \u001b[38;5;28;43mself\u001b[39;49m\u001b[38;5;241;43m.\u001b[39;49m\u001b[43mlens_cosmo\u001b[49m\u001b[38;5;241;43m.\u001b[39;49m\u001b[43mz_accreted_from_zlens\u001b[49m\u001b[43m(\u001b[49m\u001b[38;5;28;43mself\u001b[39;49m\u001b[38;5;241;43m.\u001b[39;49m\u001b[43mmass\u001b[49m\u001b[43m,\u001b[49m\u001b[43m \u001b[49m\u001b[38;5;28;43mself\u001b[39;49m\u001b[38;5;241;43m.\u001b[39;49m\u001b[43mz\u001b[49m\u001b[43m)\u001b[49m\n\u001b[1;32m    115\u001b[0m \u001b[38;5;28;01mreturn\u001b[39;00m \u001b[38;5;28mself\u001b[39m\u001b[38;5;241m.\u001b[39m_z_infall\n",
      "File \u001b[0;32m/data/bwedig/.conda/envs/mejiro/lib/python3.10/site-packages/pyHalo/Halos/lens_cosmo.py:72\u001b[0m, in \u001b[0;36mLensCosmo.z_accreted_from_zlens\u001b[0;34m(self, mass, z_lens)\u001b[0m\n\u001b[1;32m     64\u001b[0m \u001b[38;5;28;01mdef\u001b[39;00m \u001b[38;5;21mz_accreted_from_zlens\u001b[39m(\u001b[38;5;28mself\u001b[39m, mass, z_lens):\n\u001b[1;32m     65\u001b[0m \u001b[38;5;250m    \u001b[39m\u001b[38;5;124;03m\"\"\"\u001b[39;00m\n\u001b[1;32m     66\u001b[0m \u001b[38;5;124;03m    Returns the redshift a subhalo was accreted. Note that in the current implementation this is\u001b[39;00m\n\u001b[1;32m     67\u001b[0m \u001b[38;5;124;03m    independent of infall mass\u001b[39;00m\n\u001b[0;32m   (...)\u001b[0m\n\u001b[1;32m     70\u001b[0m \u001b[38;5;124;03m    :return: accretion redshift\u001b[39;00m\n\u001b[1;32m     71\u001b[0m \u001b[38;5;124;03m    \"\"\"\u001b[39;00m\n\u001b[0;32m---> 72\u001b[0m     \u001b[38;5;28;01mreturn\u001b[39;00m \u001b[38;5;28;43mself\u001b[39;49m\u001b[38;5;241;43m.\u001b[39;49m\u001b[43m_z_infall_pdf\u001b[49m\u001b[38;5;241m.\u001b[39mz_accreted_from_zlens(z_lens)\n",
      "\u001b[0;31mAttributeError\u001b[0m: 'LensCosmo' object has no attribute '_z_infall_pdf'"
     ]
    }
   ],
   "source": [
    "band = 'F184'\n",
    "exposure_time = 146\n",
    "oversample = 5\n",
    "num_pix = 45\n",
    "side = 4.95\n",
    "\n",
    "lens = SampleStrongLens()\n",
    "\n",
    "# add CDM subhalos; NB same subhalo population for all\n",
    "lens.add_subhalos(util.unpickle(os.path.join(pickle_dir, 'cdm_subhalos_for_sample')))\n",
    "\n",
    "# generate synthetic image\n",
    "model = lens.get_array(num_pix=num_pix * oversample, side=side, band=band)"
   ]
  },
  {
   "cell_type": "code",
   "execution_count": null,
   "metadata": {},
   "outputs": [],
   "source": [
    "plt.imshow(model)\n",
    "plt.title(model.shape)\n",
    "plt.colorbar()\n",
    "plt.show()"
   ]
  },
  {
   "cell_type": "code",
   "execution_count": null,
   "metadata": {},
   "outputs": [],
   "source": [
    "total_flux_cps = lens.get_total_flux_cps(band)\n",
    "\n",
    "interp = galsim.InterpolatedImage(galsim.Image(model, xmin=0, ymin=0), \n",
    "                           scale=0.11 / oversample,\n",
    "                           flux=total_flux_cps * exposure_time)"
   ]
  },
  {
   "cell_type": "code",
   "execution_count": null,
   "metadata": {},
   "outputs": [
    {
     "data": {
      "image/png": "[encoded data removed]",
      "text/plain": [
       "<Figure size 700x525 with 1 Axes>"
      ]
     },
     "metadata": {},
     "output_type": "display_data"
    }
   ],
   "source": [
    "\n",
    "plt.imshow(galsim_final.array - final_image.array, cmap='bwr', vmin=-10, vmax=10)\n",
    "plt.colorbar()\n",
    "plt.show()"
   ]
  }
 ],
 "metadata": {
  "kernelspec": {
   "display_name": "mejiro",
   "language": "python",
   "name": "python3"
  },
  "language_info": {
   "codemirror_mode": {
    "name": "ipython",
    "version": 3
   },
   "file_extension": ".py",
   "mimetype": "text/x-python",
   "name": "python",
   "nbconvert_exporter": "python",
   "pygments_lexer": "ipython3",
   "version": "3.10.6"
  }
 },
 "nbformat": 4,
 "nbformat_minor": 2
}
