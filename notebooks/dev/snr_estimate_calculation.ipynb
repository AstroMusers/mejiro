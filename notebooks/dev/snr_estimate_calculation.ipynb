{
 "cells": [
  {
   "cell_type": "code",
   "execution_count": null,
   "metadata": {},
   "outputs": [],
   "source": [
    "import os\n",
    "import sys\n",
    "\n",
    "import numpy as np\n",
    "import matplotlib\n",
    "%matplotlib inline\n",
    "import matplotlib.pyplot as plt\n",
    "from matplotlib import colors\n",
    "from hydra import initialize, compose\n",
    "import pickle\n",
    "from glob import glob\n",
    "from pprint import pprint\n",
    "from tqdm import tqdm\n",
    "from astropy.cosmology import default_cosmology\n",
    "\n",
    "from lenstronomy.Data.pixel_grid import PixelGrid\n",
    "from lenstronomy.Data.psf import PSF\n",
    "from lenstronomy.ImSim.image_model import ImageModel\n",
    "from lenstronomy.LensModel.lens_model import LensModel\n",
    "from lenstronomy.LightModel.light_model import LightModel\n",
    "from lenstronomy.SimulationAPI.ObservationConfig import Roman\n",
    "from lenstronomy.Util import data_util\n",
    "\n",
    "# set paths to various directories based on the machine this code is being executed on\n",
    "with initialize(version_base=None, config_path='config'):\n",
    "    config = compose(config_name='config.yaml')  # overrides=['machine=uzay']\n",
    "\n",
    "array_dir, data_dir, figure_dir, pickle_dir, repo_dir  = config.machine.array_dir, config.machine.data_dir, config.machine.figure_dir, config.machine.pickle_dir, config.machine.repo_dir\n",
    "\n",
    "# enable use of local modules\n",
    "if repo_dir not in sys.path:\n",
    "    sys.path.append(repo_dir)\n",
    "\n",
    "# set matplotlib style\n",
    "plt.style.use(f'{repo_dir}/mejiro/mplstyle/science.mplstyle')\n",
    "\n",
    "from mejiro.lenses.test import SampleStrongLens\n",
    "from mejiro.lenses import lens_util\n",
    "from mejiro.plots import diagnostic_plot, plot, plot_util, overplot\n",
    "from mejiro.analysis import stats\n",
    "from mejiro.utils import util\n",
    "from mejiro.helpers import lenstronomy_sim, survey_sim"
   ]
  },
  {
   "cell_type": "code",
   "execution_count": null,
   "metadata": {},
   "outputs": [],
   "source": [
    "pickle_path = os.path.join(config.machine.dir_00, 'detectable_gglenses_00.pkl')  # detectable_gglenses_01\n",
    "detectable_gglenses = util.unpickle(pickle_path)\n",
    "\n",
    "print(f'{len(detectable_gglenses)} detectable lens(es)')"
   ]
  },
  {
   "cell_type": "code",
   "execution_count": null,
   "metadata": {},
   "outputs": [],
   "source": [
    "band='F106'\n",
    "\n",
    "# sample_gglens = np.random.choice(detectable_gglenses)\n",
    "sample_gglens = detectable_gglenses[0]\n",
    "sample_lens = lens_util.slsim_lens_to_mejiro(sample_gglens, bands=[band], cosmo=default_cosmology.get())\n",
    "\n",
    "pprint(sample_lens.lens_mags)\n",
    "pprint(sample_lens.source_mags)"
   ]
  },
  {
   "cell_type": "code",
   "execution_count": null,
   "metadata": {},
   "outputs": [],
   "source": [
    "import mejiro\n",
    "from mejiro.helpers.roman_params import RomanParameters\n",
    "\n",
    "module_path = os.path.dirname(mejiro.__file__)\n",
    "csv_path = os.path.join(module_path, 'data', 'roman_spacecraft_and_instrument_parameters.csv')\n",
    "roman_params = RomanParameters(csv_path)"
   ]
  },
  {
   "cell_type": "code",
   "execution_count": null,
   "metadata": {},
   "outputs": [],
   "source": [
    "gglens = sample_gglens\n",
    "\n",
    "kwargs_model, kwargs_params = gglens.lenstronomy_kwargs(band=band)\n",
    "\n",
    "pprint(kwargs_params)\n",
    "# pprint(kwargs_model)"
   ]
  },
  {
   "cell_type": "code",
   "execution_count": null,
   "metadata": {},
   "outputs": [],
   "source": [
    "from copy import deepcopy\n",
    "\n",
    "from lenstronomy.SimulationAPI.ObservationConfig import Roman\n",
    "from lenstronomy.SimulationAPI.sim_api import SimAPI\n",
    "\n",
    "gglens = sample_gglens\n",
    "side = 4.95\n",
    "\n",
    "kwargs_model, kwargs_params = gglens.lenstronomy_kwargs(band=band)\n",
    "\n",
    "Roman_r = Roman.Roman(band='F106', psf_type='PIXEL', survey_mode='wide_area')\n",
    "# pprint(Roman_r.obs)\n",
    "Roman_r.obs['num_exposures'] = 1\n",
    "kwargs_r_band = Roman_r.kwargs_single_band()\n",
    "pprint(Roman_r.obs)\n",
    "\n",
    "sim_r = SimAPI(numpix=int(side / 0.11), kwargs_single_band=kwargs_r_band, kwargs_model=kwargs_model)\n",
    "\n",
    "kwargs_numerics = {'point_source_supersampling_factor': 1, 'supersampling_factor': 3}\n",
    "imSim_r = sim_r.image_model_class(kwargs_numerics)\n",
    "\n",
    "kwargs_lens = kwargs_params['kwargs_lens']\n",
    "kwargs_lens_light = kwargs_params['kwargs_lens_light']\n",
    "kwargs_source = kwargs_params['kwargs_source']\n",
    "\n",
    "kwargs_lens_light_r, kwargs_source_r, _ = sim_r.magnitude2amplitude(kwargs_lens_light, kwargs_source)\n",
    "\n",
    "# set lens light to 0 for source image\n",
    "source_kwargs_lens_light_r = deepcopy(kwargs_lens_light_r)\n",
    "source_kwargs_lens_light_r[0]['amp'] = 0\n",
    "source_surface_brightness = imSim_r.image(kwargs_lens, kwargs_source_r, source_kwargs_lens_light_r, None)\n",
    "\n",
    "# set source light to 0 for lens image\n",
    "lens_kwargs_source_r = deepcopy(kwargs_source_r)\n",
    "lens_kwargs_source_r[0]['amp'] = 0\n",
    "lens_surface_brightness = imSim_r.image(kwargs_lens, lens_kwargs_source_r, kwargs_lens_light_r, None)\n",
    "\n",
    "total_image = imSim_r.image(kwargs_lens, kwargs_source_r, kwargs_lens_light_r, None)\n",
    "# total_image += sim_r.noise_for_model(model=total_image)"
   ]
  },
  {
   "cell_type": "code",
   "execution_count": null,
   "metadata": {},
   "outputs": [],
   "source": [
    "mask_mult = 1.\n",
    "zodi_mult = 1.5\n",
    "\n",
    "# calculate region for source surface brightness array and count signal\n",
    "stdev = np.std(source_surface_brightness)\n",
    "mean = np.mean(source_surface_brightness)\n",
    "mask = source_surface_brightness < mean + (mask_mult * stdev)\n",
    "masked_source = np.ma.masked_array(source_surface_brightness, mask=mask)\n",
    "sum_source_counts = np.sum(masked_source)\n",
    "\n",
    "# get min zodiacal light and thermal background for given band\n",
    "min_zodiacal_light = roman_params.get_min_zodi_count_rate(band)\n",
    "thermal_background = roman_params.get_thermal_bkg(band)\n",
    "\n",
    "# estimate and add background\n",
    "estimated_background = (min_zodiacal_light * zodi_mult) + thermal_background  # in counts/pixel\n",
    "estimated_background *= np.ones(total_image.shape)\n",
    "total_image += estimated_background\n",
    "\n",
    "# add noise\n",
    "noise = sim_r.noise_for_model(model=total_image)\n",
    "total_image += noise\n",
    "\n",
    "# count total signal\n",
    "masked_total = np.ma.masked_array(total_image, mask=mask)\n",
    "sum_total_counts = np.sum(masked_total)\n",
    "\n",
    "# calculate estimated SNR\n",
    "snr = sum_source_counts / np.sqrt(sum_total_counts)\n",
    "print(f'SNR: {snr}')"
   ]
  },
  {
   "cell_type": "code",
   "execution_count": null,
   "metadata": {},
   "outputs": [],
   "source": [
    "f, ax = plt.subplots(1, 5, figsize=(20, 4))\n",
    "\n",
    "ax[0].imshow(source_surface_brightness)\n",
    "ax[1].imshow(masked_source)\n",
    "ax[2].imshow(noise)\n",
    "ax[3].imshow(total_image)\n",
    "ax[4].imshow(masked_total)\n",
    "\n",
    "ax[0].set_title('Source Surface Brightness')\n",
    "ax[1].set_title('Masked Source')\n",
    "ax[2].set_title('Noise')\n",
    "ax[3].set_title('Total Image')\n",
    "ax[4].set_title('Masked Total')\n",
    "\n",
    "plt.show()"
   ]
  },
  {
   "cell_type": "code",
   "execution_count": null,
   "metadata": {},
   "outputs": [],
   "source": [
    "# get mejiro image\n",
    "image_path = os.path.join(config.machine.dir_04, 'galsim_00000000_F106.npy')\n",
    "mejiro_image = np.load(image_path)\n",
    "mejiro_image = util.center_crop_image(mejiro_image, (45, 45))\n",
    "\n",
    "plt.imshow(mejiro_image)\n",
    "plt.colorbar()\n",
    "plt.show()"
   ]
  },
  {
   "cell_type": "code",
   "execution_count": null,
   "metadata": {},
   "outputs": [],
   "source": [
    "from mejiro.helpers import survey_sim\n",
    "\n",
    "total_image, _, source_surface_brightness, sim_api = survey_sim.get_image(sample_gglens, band, side=side)\n",
    "\n",
    "plt.imshow(total_image)\n",
    "plt.colorbar()\n",
    "plt.show()"
   ]
  },
  {
   "cell_type": "markdown",
   "metadata": {},
   "source": [
    "check that the units of the array from lenstronomy simapi are counts/sec/pixel by checking against noiseless image sum of array"
   ]
  },
  {
   "cell_type": "code",
   "execution_count": null,
   "metadata": {},
   "outputs": [],
   "source": [
    "lens_flux_cps = sample_lens.get_lens_flux_cps(band)\n",
    "source_flux_cps = sample_lens.get_source_flux_cps(band)\n",
    "total_flux_cps = sample_lens.get_total_flux_cps(band)\n",
    "\n",
    "print(lens_flux_cps, source_flux_cps)\n",
    "print(total_flux_cps)\n",
    "print(np.sum(total_image))\n",
    "\n",
    "assert np.allclose(total_flux_cps, np.sum(total_image)) == True"
   ]
  },
  {
   "cell_type": "code",
   "execution_count": null,
   "metadata": {},
   "outputs": [],
   "source": [
    "snr, total_image_with_noise = survey_sim.get_snr(sample_gglens, band)\n",
    "\n",
    "plt.imshow(total_image_with_noise)\n",
    "plt.title(f'SNR: {snr}')\n",
    "plt.colorbar()\n",
    "plt.show()"
   ]
  },
  {
   "cell_type": "code",
   "execution_count": null,
   "metadata": {},
   "outputs": [],
   "source": [
    "plt.imshow(total_image_with_noise - total_image)\n",
    "plt.colorbar()\n",
    "plt.show()"
   ]
  }
 ],
 "metadata": {
  "kernelspec": {
   "display_name": "mejiro",
   "language": "python",
   "name": "python3"
  },
  "language_info": {
   "codemirror_mode": {
    "name": "ipython",
    "version": 3
   },
   "file_extension": ".py",
   "mimetype": "text/x-python",
   "name": "python",
   "nbconvert_exporter": "python",
   "pygments_lexer": "ipython3",
   "version": "3.10.6"
  }
 },
 "nbformat": 4,
 "nbformat_minor": 2
}
