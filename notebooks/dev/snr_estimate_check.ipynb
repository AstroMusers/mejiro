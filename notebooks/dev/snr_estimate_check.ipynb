{
 "cells": [
  {
   "cell_type": "code",
   "execution_count": 1,
   "metadata": {},
   "outputs": [],
   "source": [
    "import os\n",
    "import sys\n",
    "\n",
    "import numpy as np\n",
    "import matplotlib\n",
    "%matplotlib inline\n",
    "import matplotlib.pyplot as plt\n",
    "from matplotlib import colors\n",
    "from hydra import initialize, compose\n",
    "import pickle\n",
    "from glob import glob\n",
    "from pprint import pprint\n",
    "from tqdm import tqdm\n",
    "from astropy.cosmology import default_cosmology\n",
    "\n",
    "from lenstronomy.Data.pixel_grid import PixelGrid\n",
    "from lenstronomy.Data.psf import PSF\n",
    "from lenstronomy.ImSim.image_model import ImageModel\n",
    "from lenstronomy.LensModel.lens_model import LensModel\n",
    "from lenstronomy.LightModel.light_model import LightModel\n",
    "from lenstronomy.SimulationAPI.ObservationConfig import Roman\n",
    "from lenstronomy.Util import data_util\n",
    "\n",
    "# set paths to various directories based on the machine this code is being executed on\n",
    "with initialize(version_base=None, config_path='config'):\n",
    "    config = compose(config_name='config.yaml')  # overrides=['machine=uzay']\n",
    "\n",
    "array_dir, data_dir, figure_dir, pickle_dir, repo_dir  = config.machine.array_dir, config.machine.data_dir, config.machine.figure_dir, config.machine.pickle_dir, config.machine.repo_dir\n",
    "\n",
    "# enable use of local modules\n",
    "if repo_dir not in sys.path:\n",
    "    sys.path.append(repo_dir)\n",
    "\n",
    "# set matplotlib style\n",
    "plt.style.use(f'{repo_dir}/mejiro/mplstyle/science.mplstyle')\n",
    "\n",
    "from mejiro.lenses.test import SampleStrongLens\n",
    "from mejiro.lenses import lens_util\n",
    "from mejiro.plots import diagnostic_plot, plot, plot_util, overplot\n",
    "from mejiro.analysis import stats\n",
    "from mejiro.utils import util\n",
    "from mejiro.helpers import lenstronomy_sim, survey_sim"
   ]
  },
  {
   "cell_type": "code",
   "execution_count": 2,
   "metadata": {},
   "outputs": [
    {
     "name": "stderr",
     "output_type": "stream",
     "text": [
      "  0%|          | 0/36 [00:00<?, ?it/s]"
     ]
    },
    {
     "name": "stderr",
     "output_type": "stream",
     "text": [
      "100%|██████████| 36/36 [00:57<00:00,  1.61s/it]"
     ]
    },
    {
     "name": "stdout",
     "output_type": "stream",
     "text": [
      "235 detectable lens(es)\n"
     ]
    },
    {
     "name": "stderr",
     "output_type": "stream",
     "text": [
      "\n"
     ]
    }
   ],
   "source": [
    "pickles = glob(f'{config.machine.dir_00}/detectable_gglenses_*.pkl')\n",
    "detectable_gglenses = []\n",
    "\n",
    "for p in tqdm(pickles):\n",
    "    gglenses = util.unpickle(p)\n",
    "    detectable_gglenses.extend(gglenses)\n",
    "\n",
    "print(f'{len(detectable_gglenses)} detectable lens(es)')"
   ]
  },
  {
   "cell_type": "code",
   "execution_count": 6,
   "metadata": {},
   "outputs": [],
   "source": [
    "# limit\n",
    "detectable_gglenses = detectable_gglenses[:25]"
   ]
  },
  {
   "cell_type": "code",
   "execution_count": 7,
   "metadata": {},
   "outputs": [],
   "source": [
    "figure_output_dir = os.path.join(data_dir, 'snr_estimate')\n",
    "util.create_directory_if_not_exists(figure_output_dir)\n",
    "util.clear_directory(figure_output_dir)"
   ]
  },
  {
   "cell_type": "code",
   "execution_count": 9,
   "metadata": {},
   "outputs": [
    {
     "name": "stderr",
     "output_type": "stream",
     "text": [
      "  0%|          | 0/25 [00:00<?, ?it/s]"
     ]
    },
    {
     "name": "stderr",
     "output_type": "stream",
     "text": [
      "100%|██████████| 25/25 [01:34<00:00,  3.78s/it]\n",
      "100%|██████████| 25/25 [01:24<00:00,  3.39s/it]\n",
      "100%|██████████| 25/25 [01:11<00:00,  2.87s/it]\n"
     ]
    }
   ],
   "source": [
    "for band in ['F106', 'F129', 'F184']:\n",
    "    for i, gglens in tqdm(enumerate(detectable_gglenses), total=len(detectable_gglenses)):\n",
    "        total_image, lens_surface_brightness, source_surface_brightness, sim_r = survey_sim.get_image(gglens, band)\n",
    "\n",
    "        snr, total_image_with_noise = survey_sim.get_snr(gglens, band, mask_mult=1, zodi_mult=1.5, total_image=total_image, source_surface_brightness=source_surface_brightness, sim_api=sim_r)\n",
    "\n",
    "        f, ax = plt.subplots(1, 5, figsize=(20, 4))\n",
    "\n",
    "        ax[0].imshow(source_surface_brightness)\n",
    "        ax[1].imshow(lens_surface_brightness)\n",
    "        ax[2].imshow(total_image_with_noise - total_image)\n",
    "        ax[3].imshow(np.log10(total_image))\n",
    "        ax[4].imshow(total_image_with_noise)\n",
    "\n",
    "        ax[0].set_title('Source Surface Brightness')\n",
    "        ax[1].set_title('Lens Surface Brightness')\n",
    "        ax[2].set_title('Noise')\n",
    "        ax[3].set_title('Total Image (log10)')\n",
    "        ax[4].set_title('Total Image with Noise')\n",
    "        plt.suptitle(f'SNR: {snr}')\n",
    "\n",
    "        plt.savefig(f'{figure_output_dir}/{str(i).zfill(4)}_{band}_snr_estimate.jpg')\n",
    "        plt.close()"
   ]
  }
 ],
 "metadata": {
  "kernelspec": {
   "display_name": "mejiro",
   "language": "python",
   "name": "python3"
  },
  "language_info": {
   "codemirror_mode": {
    "name": "ipython",
    "version": 3
   },
   "file_extension": ".py",
   "mimetype": "text/x-python",
   "name": "python",
   "nbconvert_exporter": "python",
   "pygments_lexer": "ipython3",
   "version": "3.10.6"
  }
 },
 "nbformat": 4,
 "nbformat_minor": 2
}
