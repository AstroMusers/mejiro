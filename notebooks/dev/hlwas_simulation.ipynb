{
 "cells": [
  {
   "cell_type": "code",
   "execution_count": 1,
   "metadata": {},
   "outputs": [],
   "source": [
    "import numpy as np\n",
    "import os\n",
    "import sys\n",
    "import matplotlib.pyplot as plt\n",
    "import astropy\n",
    "import speclite\n",
    "from astropy.cosmology import default_cosmology\n",
    "from astropy.units import Quantity\n",
    "from slsim.lens_pop import LensPop\n",
    "from slsim.Observations.roman_speclite import configure_roman_filters, filter_names\n",
    "from tqdm import tqdm\n",
    "from pprint import pprint\n",
    "import time\n",
    "import pandas as pd\n",
    "import datetime\n",
    "\n",
    "import mejiro\n",
    "from mejiro.helpers import survey_sim\n",
    "from mejiro.utils import util\n",
    "\n",
    "%matplotlib inline"
   ]
  },
  {
   "cell_type": "code",
   "execution_count": 2,
   "metadata": {},
   "outputs": [],
   "source": [
    "from hydra import initialize, compose\n",
    "\n",
    "# set paths to various directories based on the machine this code is being executed on\n",
    "with initialize(version_base=None, config_path='config'):\n",
    "    config = compose(config_name='config.yaml')  # overrides=['machine=uzay']\n",
    "\n",
    "array_dir, data_dir, figure_dir, pickle_dir, repo_dir  = config.machine.array_dir, config.machine.data_dir, config.machine.figure_dir, config.machine.pickle_dir, config.machine.repo_dir\n",
    "\n",
    "# enable use of local modules\n",
    "if repo_dir not in sys.path:\n",
    "    sys.path.append(repo_dir)"
   ]
  },
  {
   "cell_type": "code",
   "execution_count": 3,
   "metadata": {},
   "outputs": [],
   "source": [
    "# !jupyter nbconvert --to python hlwas_simulation.ipynb --TemplateExporter.exclude_markdown=True --TemplateExporter.exclude_output_prompt=True --TemplateExporter.exclude_input_prompt=True"
   ]
  },
  {
   "cell_type": "code",
   "execution_count": 4,
   "metadata": {},
   "outputs": [],
   "source": [
    "start = time.time()"
   ]
  },
  {
   "cell_type": "code",
   "execution_count": 5,
   "metadata": {},
   "outputs": [],
   "source": [
    "output_dir = os.path.join(data_dir, 'output', 'hlwas_sim')\n",
    "util.create_directory_if_not_exists(output_dir)\n",
    "util.clear_directory(output_dir)"
   ]
  },
  {
   "cell_type": "code",
   "execution_count": 6,
   "metadata": {},
   "outputs": [],
   "source": [
    "area_hlwas = 1700.\n",
    "cosmo = default_cosmology.get()\n",
    "\n",
    "bands_hlwas = ['F106', 'F129', 'F184']\n",
    "\n",
    "survey_area = 0.5\n",
    "sky_area = Quantity(value=survey_area, unit='deg2')"
   ]
  },
  {
   "cell_type": "code",
   "execution_count": 7,
   "metadata": {},
   "outputs": [],
   "source": [
    "# load Roman WFI filters\n",
    "configure_roman_filters()\n",
    "roman_filters = filter_names()\n",
    "roman_filters.sort()\n",
    "_ = speclite.filters.load_filters(*roman_filters[:8])"
   ]
  },
  {
   "cell_type": "code",
   "execution_count": 8,
   "metadata": {},
   "outputs": [],
   "source": [
    "module_path = os.path.dirname(mejiro.__file__)\n",
    "skypy_config = os.path.join(module_path, 'data', 'roman_hlwas.yml')\n",
    "\n",
    "# define cuts on the intrinsic deflector and source populations (in addition to the skypy config file)\n",
    "kwargs_deflector_cut = {'band': 'F106', 'band_max': 23, 'z_min': 0.01, 'z_max': 2.}\n",
    "kwargs_source_cut = {'band': 'F106', 'band_max': 24, 'z_min': 0.01, 'z_max': 5.}\n",
    "\n",
    "# create the lens population\n",
    "lens_pop = LensPop(deflector_type=\"all-galaxies\",  # elliptical, all-galaxies\n",
    "    source_type=\"galaxies\",\n",
    "    kwargs_deflector_cut=kwargs_deflector_cut,\n",
    "    kwargs_source_cut=kwargs_source_cut,\n",
    "    kwargs_mass2light=None,\n",
    "    skypy_config=skypy_config,\n",
    "    sky_area=sky_area,\n",
    "    cosmo=cosmo)"
   ]
  },
  {
   "cell_type": "code",
   "execution_count": 9,
   "metadata": {},
   "outputs": [
    {
     "name": "stdout",
     "output_type": "stream",
     "text": [
      "Number of deflectors: 30329, scaled to HLWAS (1700.0 sq deg): 103118600\n",
      "Number of sources: 1160190, scaled to HLWAS (1700.0 sq deg): 3944646000\n"
     ]
    }
   ],
   "source": [
    "num_lenses = lens_pop.deflector_number()\n",
    "num_sources = lens_pop.source_number()\n",
    "\n",
    "print(f'Number of deflectors: {num_lenses}, scaled to HLWAS ({area_hlwas} sq deg): {int((area_hlwas / survey_area) * num_lenses)}')\n",
    "print(f'Number of sources: {num_sources}, scaled to HLWAS ({area_hlwas} sq deg): {int((area_hlwas / survey_area) * num_sources)}')"
   ]
  },
  {
   "cell_type": "markdown",
   "metadata": {},
   "source": [
    "Need to grab parameters for the entire lens population"
   ]
  },
  {
   "cell_type": "code",
   "execution_count": 10,
   "metadata": {},
   "outputs": [
    {
     "name": "stdout",
     "output_type": "stream",
     "text": [
      "Number of total lenses: 3882\n"
     ]
    }
   ],
   "source": [
    "total_lens_population = lens_pop.draw_population(kwargs_lens_cuts={})\n",
    "print(f'Number of total lenses: {len(total_lens_population)}')"
   ]
  },
  {
   "cell_type": "code",
   "execution_count": 11,
   "metadata": {},
   "outputs": [
    {
     "name": "stderr",
     "output_type": "stream",
     "text": [
      "  1%|          | 21/3882 [00:00<00:19, 200.84it/s]"
     ]
    },
    {
     "name": "stderr",
     "output_type": "stream",
     "text": [
      "100%|██████████| 3882/3882 [00:18<00:00, 213.39it/s]\n",
      "100%|██████████| 3882/3882 [03:47<00:00, 17.07it/s]"
     ]
    },
    {
     "name": "stdout",
     "output_type": "stream",
     "text": [
      "Writing to /data/bwedig/mejiro/output/hlwas_sim/total_pop.csv..\n"
     ]
    },
    {
     "name": "stderr",
     "output_type": "stream",
     "text": [
      "\n"
     ]
    }
   ],
   "source": [
    "# compute SNRs and save\n",
    "print(f'Computing SNRs for {len(total_lens_population)} lenses')\n",
    "snr_list = []\n",
    "for candidate in tqdm(total_lens_population):\n",
    "    snr, _ = survey_sim.get_snr(candidate, 'F106')\n",
    "    snr_list.append(snr)\n",
    "np.save(os.path.join(output_dir, 'snr_list.npy'), snr_list)\n",
    "\n",
    "# save other params to CSV\n",
    "total_pop_csv = os.path.join(output_dir, 'total_pop.csv')\n",
    "print(f'Writing total population to {total_pop_csv}')\n",
    "survey_sim.write_lens_pop_to_csv(total_pop_csv, total_lens_population, bands_hlwas)"
   ]
  },
  {
   "cell_type": "markdown",
   "metadata": {},
   "source": [
    "Now, start to filter down to the detectable ones"
   ]
  },
  {
   "cell_type": "code",
   "execution_count": 12,
   "metadata": {},
   "outputs": [
    {
     "name": "stdout",
     "output_type": "stream",
     "text": [
      "Number of valid lenses: 3928\n"
     ]
    }
   ],
   "source": [
    "kwargs_lens_cut = {\n",
    "    'min_image_separation': 0.2,\n",
    "    'max_image_separation': 5,\n",
    "    'mag_arc_limit': {'F106': 25},\n",
    "}\n",
    "\n",
    "lens_population = lens_pop.draw_population(kwargs_lens_cuts=kwargs_lens_cut)\n",
    "print(f'Number of valid lenses: {len(lens_population)}')"
   ]
  },
  {
   "cell_type": "markdown",
   "metadata": {},
   "source": [
    "NB in the current version of `slsim`, `slsim.LensPop.draw_population` is using the method `slsim.lens.validity_test()` to filter out non-detectable lenses. Here, we want to add a few more filters:\n",
    "\n",
    "1. is the Einstein radius greater than the Sersic radius of the lensing galaxy and the lensing galaxy brighter than 15th magnitude (in F106)?\n",
    "2. is the SNR of lensed images greater than 10?"
   ]
  },
  {
   "cell_type": "code",
   "execution_count": 13,
   "metadata": {},
   "outputs": [],
   "source": [
    "# set up dict to capture some information about which candidates got filtered out\n",
    "filtered_sample = {}\n",
    "filtered_sample['total'] = len(lens_population)\n",
    "num_samples = 100\n",
    "filter_1, filter_2 = 0, 0\n",
    "filtered_sample['filter_1'] = []\n",
    "filtered_sample['filter_2'] = []"
   ]
  },
  {
   "cell_type": "code",
   "execution_count": 14,
   "metadata": {},
   "outputs": [
    {
     "name": "stderr",
     "output_type": "stream",
     "text": [
      "100%|██████████| 3928/3928 [00:18<00:00, 214.85it/s]"
     ]
    },
    {
     "name": "stdout",
     "output_type": "stream",
     "text": [
      "2 detectable lens(es)\n"
     ]
    },
    {
     "name": "stderr",
     "output_type": "stream",
     "text": [
      "\n"
     ]
    }
   ],
   "source": [
    "limit = None\n",
    "detectable_gglenses = []\n",
    "\n",
    "for candidate in tqdm(lens_population):\n",
    "    # 1. Einstein radius and Sersic radius\n",
    "    _, kwargs_params = candidate.lenstronomy_kwargs(band='F106')\n",
    "    lens_mag = candidate.deflector_magnitude(band='F106')\n",
    "\n",
    "    if kwargs_params['kwargs_lens'][0]['theta_E'] < kwargs_params['kwargs_lens_light'][0]['R_sersic'] and lens_mag < 15:\n",
    "        filter_1 += 1\n",
    "        if filter_1 <= num_samples:\n",
    "            filtered_sample['filter_1'].append(candidate)\n",
    "        continue\n",
    "\n",
    "    # 2. SNR\n",
    "    snr, _ = survey_sim.get_snr(candidate, 'F106')\n",
    "\n",
    "    if snr < 10:\n",
    "        filter_2 += 1\n",
    "        if filter_2 <= num_samples:\n",
    "            filtered_sample['filter_2'].append(candidate)\n",
    "        continue\n",
    "\n",
    "    # if both criteria satisfied, consider detectable\n",
    "    detectable_gglenses.append(candidate)\n",
    "\n",
    "    # if I've imposed a limit above this loop, exit the loop\n",
    "    if limit is not None and len(detectable_gglenses) == limit:\n",
    "        break\n",
    "\n",
    "filtered_sample['num_filter_1'] = filter_1\n",
    "filtered_sample['num_filter_2'] = filter_2\n",
    "\n",
    "print(f'{len(detectable_gglenses)} detectable lens(es)')"
   ]
  },
  {
   "cell_type": "code",
   "execution_count": 19,
   "metadata": {},
   "outputs": [
    {
     "name": "stdout",
     "output_type": "stream",
     "text": [
      "12\n",
      "3914\n"
     ]
    }
   ],
   "source": [
    "if len(detectable_gglenses) > 0:\n",
    "    print(filtered_sample['num_filter_1']) \n",
    "    print(filtered_sample['num_filter_2'])"
   ]
  },
  {
   "cell_type": "markdown",
   "metadata": {},
   "source": [
    "Now that we have our list of detectable lenses, pickle them for the image simulation part of the pipeline."
   ]
  },
  {
   "cell_type": "code",
   "execution_count": 22,
   "metadata": {},
   "outputs": [
    {
     "name": "stdout",
     "output_type": "stream",
     "text": [
      "Retrieving lenstronomy parameters\n"
     ]
    },
    {
     "name": "stderr",
     "output_type": "stream",
     "text": [
      "100%|██████████| 2/2 [00:00<00:00, 7847.15it/s]\n"
     ]
    },
    {
     "name": "stdout",
     "output_type": "stream",
     "text": [
      "Pickling lenses...\n"
     ]
    },
    {
     "name": "stderr",
     "output_type": "stream",
     "text": [
      "2it [00:00, 117.53it/s]\n"
     ]
    }
   ],
   "source": [
    "print('Retrieving lenstronomy parameters')\n",
    "dict_list = []\n",
    "for gglens in tqdm(detectable_gglenses):\n",
    "\n",
    "    # get lens params from gglens object\n",
    "    kwargs_model, kwargs_params = gglens.lenstronomy_kwargs(band='F106')\n",
    "\n",
    "    # build dicts for lens and source magnitudes\n",
    "    lens_mags, source_mags = {}, {}\n",
    "    for band in ['F106', 'F129', 'F184']:\n",
    "        lens_mags[band] = gglens.deflector_magnitude(band)\n",
    "        source_mags[band] = gglens.extended_source_magnitude(band)\n",
    "\n",
    "    z_lens, z_source = gglens.deflector_redshift, gglens.source_redshift\n",
    "    kwargs_lens = kwargs_params['kwargs_lens']\n",
    "\n",
    "    # add additional necessary key/value pairs to kwargs_model\n",
    "    kwargs_model['lens_redshift_list'] = [z_lens] * len(kwargs_lens)\n",
    "    kwargs_model['source_redshift_list'] = [z_source]\n",
    "    kwargs_model['cosmo'] = cosmo\n",
    "    kwargs_model['z_source'] = z_source\n",
    "    kwargs_model['z_source_convention'] = 5\n",
    "\n",
    "    # create dict to pickle\n",
    "    gglens_dict = {\n",
    "        'kwargs_model': kwargs_model,\n",
    "        'kwargs_params': kwargs_params,\n",
    "        'lens_mags': lens_mags,\n",
    "        'source_mags': source_mags,\n",
    "        'deflector_stellar_mass': gglens.deflector_stellar_mass(),\n",
    "        'deflector_velocity_dispersion': gglens.deflector_velocity_dispersion(),\n",
    "        # 'snr': gglens.snr\n",
    "    }\n",
    "\n",
    "    dict_list.append(gglens_dict)\n",
    "\n",
    "print('Pickling lenses...')\n",
    "for i, each in tqdm(enumerate(dict_list)):\n",
    "    save_path = os.path.join(data_dir, 'skypy', f'skypy_output_{str(i).zfill(5)}.pkl')\n",
    "    util.pickle(save_path, each)"
   ]
  },
  {
   "cell_type": "code",
   "execution_count": 23,
   "metadata": {},
   "outputs": [
    {
     "name": "stderr",
     "output_type": "stream",
     "text": [
      "100%|██████████| 2/2 [00:00<00:00, 13.22it/s]"
     ]
    },
    {
     "name": "stdout",
     "output_type": "stream",
     "text": [
      "Writing to /data/bwedig/mejiro/output/hlwas_sim/detectable_pop.csv..\n"
     ]
    },
    {
     "name": "stderr",
     "output_type": "stream",
     "text": [
      "\n"
     ]
    }
   ],
   "source": [
    "detectable_pop_csv = os.path.join(output_dir, 'detectable_pop.csv')\n",
    "survey_sim.write_lens_pop_to_csv(detectable_pop_csv, detectable_gglenses, bands_hlwas)"
   ]
  },
  {
   "cell_type": "code",
   "execution_count": 24,
   "metadata": {},
   "outputs": [
    {
     "name": "stdout",
     "output_type": "stream",
     "text": [
      "Execution time: 0:27:57\n"
     ]
    }
   ],
   "source": [
    "stop = time.time()\n",
    "execution_time = str(datetime.timedelta(seconds=round(stop - start)))\n",
    "print(f'Execution time: {execution_time}')"
   ]
  }
 ],
 "metadata": {
  "kernelspec": {
   "display_name": "mejiro",
   "language": "python",
   "name": "python3"
  },
  "language_info": {
   "codemirror_mode": {
    "name": "ipython",
    "version": 3
   },
   "file_extension": ".py",
   "mimetype": "text/x-python",
   "name": "python",
   "nbconvert_exporter": "python",
   "pygments_lexer": "ipython3",
   "version": "3.1.undefined"
  }
 },
 "nbformat": 4,
 "nbformat_minor": 2
}
