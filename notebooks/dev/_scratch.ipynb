{
 "cells": [
  {
   "cell_type": "code",
   "execution_count": 38,
   "metadata": {},
   "outputs": [],
   "source": [
    "import os\n",
    "import sys\n",
    "\n",
    "import numpy as np\n",
    "import matplotlib\n",
    "%matplotlib inline\n",
    "import matplotlib.pyplot as plt\n",
    "from matplotlib import colors\n",
    "from hydra import initialize, compose\n",
    "import pickle\n",
    "from glob import glob\n",
    "from pprint import pprint\n",
    "\n",
    "# set paths to various directories based on the machine this code is being executed on\n",
    "with initialize(version_base=None, config_path='config'):\n",
    "    config = compose(config_name='config.yaml')  # overrides=['machine=uzay']\n",
    "\n",
    "array_dir, data_dir, figure_dir, pickle_dir, repo_dir  = config.machine.array_dir, config.machine.data_dir, config.machine.figure_dir, config.machine.pickle_dir, config.machine.repo_dir\n",
    "\n",
    "# enable use of local modules\n",
    "if repo_dir not in sys.path:\n",
    "    sys.path.append(repo_dir)\n",
    "\n",
    "# set matplotlib style\n",
    "plt.style.use(f'{repo_dir}/mejiro/mplstyle/science.mplstyle')\n",
    "\n",
    "from mejiro.lenses.test import SampleStrongLens\n",
    "from mejiro.plots import diagnostic_plot, plot, plot_util, overplot\n",
    "from mejiro.analysis import stats\n",
    "from mejiro.utils import util\n",
    "from mejiro.helpers import pyhalo"
   ]
  },
  {
   "cell_type": "code",
   "execution_count": 39,
   "metadata": {},
   "outputs": [],
   "source": [
    "pipeline_params = util.hydra_to_dict(config.pipeline)"
   ]
  },
  {
   "cell_type": "code",
   "execution_count": 40,
   "metadata": {},
   "outputs": [],
   "source": [
    "bands = pipeline_params['bands']"
   ]
  },
  {
   "cell_type": "code",
   "execution_count": 41,
   "metadata": {},
   "outputs": [
    {
     "name": "stdout",
     "output_type": "stream",
     "text": [
      "['F087', 'F106', 'F129', 'F158', 'F184', 'F087', 'F106', 'F129', 'F158', 'F184', 'F087', 'F106', 'F129', 'F158', 'F184']\n"
     ]
    }
   ],
   "source": [
    "bands = bands * 3\n",
    "print(bands)"
   ]
  },
  {
   "cell_type": "code",
   "execution_count": 42,
   "metadata": {},
   "outputs": [],
   "source": [
    "results = [np.ones((45, 45))] * len(set(bands)) * 3"
   ]
  },
  {
   "cell_type": "code",
   "execution_count": 43,
   "metadata": {},
   "outputs": [
    {
     "name": "stdout",
     "output_type": "stream",
     "text": [
      "{'F158', 'F087', 'F129', 'F184', 'F106'}\n",
      "5\n"
     ]
    }
   ],
   "source": [
    "print(set(bands))\n",
    "print(len(set(bands)))"
   ]
  },
  {
   "cell_type": "code",
   "execution_count": 44,
   "metadata": {},
   "outputs": [
    {
     "name": "stdout",
     "output_type": "stream",
     "text": [
      "array\n",
      "array\n",
      "array\n",
      "array\n",
      "array\n",
      "lens\n",
      "lens\n",
      "lens\n",
      "lens\n",
      "lens\n",
      "source\n",
      "source\n",
      "source\n",
      "source\n",
      "source\n"
     ]
    }
   ],
   "source": [
    "j = 0\n",
    "for i, (band, result) in enumerate(zip(bands, results)):\n",
    "    if j == 0:\n",
    "        print('array')\n",
    "    elif j == 1:\n",
    "        print('lens')\n",
    "    elif j == 2:\n",
    "        print('source')\n",
    "    if i % len(set(bands)) == len(set(bands)) - 1:\n",
    "        j += 1\n",
    "    # np.save(os.path.join(output_dir, f'galsim_{lens.uid}_{band}.npy'), result)"
   ]
  }
 ],
 "metadata": {
  "kernelspec": {
   "display_name": "mejiro",
   "language": "python",
   "name": "python3"
  },
  "language_info": {
   "codemirror_mode": {
    "name": "ipython",
    "version": 3
   },
   "file_extension": ".py",
   "mimetype": "text/x-python",
   "name": "python",
   "nbconvert_exporter": "python",
   "pygments_lexer": "ipython3",
   "version": "3.11.7"
  }
 },
 "nbformat": 4,
 "nbformat_minor": 2
}
