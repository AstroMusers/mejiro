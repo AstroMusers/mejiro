{
 "cells": [
  {
   "cell_type": "code",
   "execution_count": 1,
   "metadata": {},
   "outputs": [],
   "source": [
    "import matplotlib\n",
    "import numpy as np\n",
    "import os\n",
    "import sys\n",
    "%matplotlib inline\n",
    "import matplotlib.pyplot as plt\n",
    "from matplotlib import colors\n",
    "import pickle\n",
    "from glob import glob\n",
    "from pprint import pprint\n",
    "\n",
    "repo_dir = '/grad/bwedig/mejiro'\n",
    "if repo_dir not in sys.path:\n",
    "    sys.path.append(repo_dir)\n",
    "\n",
    "# set matplotlib style\n",
    "plt.style.use(f'{repo_dir}/mejiro/mplstyle/science.mplstyle')\n",
    "\n",
    "from mejiro.lenses.test import SampleStrongLens\n",
    "from mejiro.plots import diagnostic_plot, plot, plot_util, overplot\n",
    "from mejiro.analysis import stats\n",
    "from mejiro.utils import util"
   ]
  },
  {
   "cell_type": "code",
   "execution_count": 2,
   "metadata": {},
   "outputs": [
    {
     "name": "stdout",
     "output_type": "stream",
     "text": [
      "/grad/bwedig/mejiro\n"
     ]
    }
   ],
   "source": [
    "import mejiro\n",
    "print(os.path.dirname(os.path.dirname(mejiro.__file__)))"
   ]
  },
  {
   "cell_type": "code",
   "execution_count": 5,
   "metadata": {},
   "outputs": [
    {
     "data": {
      "text/plain": [
       "'/grad/bwedig/.cache/matplotlib'"
      ]
     },
     "execution_count": 5,
     "metadata": {},
     "output_type": "execute_result"
    }
   ],
   "source": [
    "matplotlib.get_cachedir()"
   ]
  },
  {
   "cell_type": "code",
   "execution_count": 6,
   "metadata": {},
   "outputs": [
    {
     "data": {
      "text/plain": [
       "'/grad/bwedig/.config/matplotlib'"
      ]
     },
     "execution_count": 6,
     "metadata": {},
     "output_type": "execute_result"
    }
   ],
   "source": [
    "matplotlib.get_configdir()"
   ]
  },
  {
   "cell_type": "code",
   "execution_count": 5,
   "metadata": {},
   "outputs": [
    {
     "name": "stdout",
     "output_type": "stream",
     "text": [
      "Cached PSF to /grad/bwedig/mejiro/tests/test_data/F129_1_2048_2048_1_47.npy\n"
     ]
    }
   ],
   "source": [
    "from mejiro.engines import webbpsf_engine\n",
    "\n",
    "psf_id_string = webbpsf_engine.get_psf_id('F129', 1, (2048, 2048), 1, 47)\n",
    "webbpsf_engine.cache_psf(psf_id_string, '/grad/bwedig/mejiro/tests/test_data')"
   ]
  },
  {
   "cell_type": "code",
   "execution_count": 6,
   "metadata": {},
   "outputs": [
    {
     "data": {
      "image/png": "[encoded data removed]",
      "text/plain": [
       "<Figure size 700x525 with 2 Axes>"
      ]
     },
     "metadata": {},
     "output_type": "display_data"
    }
   ],
   "source": [
    "plt.imshow(np.log10(np.load('/grad/bwedig/mejiro/tests/test_data/F129_1_2048_2048_1_47.npy')))\n",
    "plt.colorbar()\n",
    "plt.show()"
   ]
  },
  {
   "cell_type": "code",
   "execution_count": 3,
   "metadata": {},
   "outputs": [
    {
     "data": {
      "text/plain": [
       "array([0.])"
      ]
     },
     "execution_count": 3,
     "metadata": {},
     "output_type": "execute_result"
    }
   ],
   "source": [
    "np.nan_to_num(np.array([0]) / np.array([0]))"
   ]
  },
  {
   "cell_type": "code",
   "execution_count": 4,
   "metadata": {},
   "outputs": [
    {
     "name": "stdout",
     "output_type": "stream",
     "text": [
      "[nan nan nan]\n"
     ]
    }
   ],
   "source": [
    "array = np.array([0, 0, 0])\n",
    "sum = np.sum(array)\n",
    "print(array / sum)"
   ]
  },
  {
   "cell_type": "code",
   "execution_count": 3,
   "metadata": {},
   "outputs": [
    {
     "name": "stdout",
     "output_type": "stream",
     "text": [
      "array([[0.00119146, 0.01444808, 0.00112571],\n",
      "       [0.01294733, 0.93820048, 0.01463627],\n",
      "       [0.00119188, 0.01513282, 0.00112597]])\n"
     ]
    }
   ],
   "source": [
    "ipc_kernel = np.array([[0.001269938, 0.015399776, 0.001199862], \\\n",
    "                       [0.013800177, 1.0, 0.015600367], \\\n",
    "                       [0.001270391, 0.016129619, 0.001200137]])\n",
    "ipc_kernel /= np.sum(ipc_kernel)\n",
    "\n",
    "pprint(ipc_kernel)"
   ]
  },
  {
   "cell_type": "code",
   "execution_count": 20,
   "metadata": {},
   "outputs": [],
   "source": [
    "survey_params = util.hydra_to_dict(config.survey)\n",
    "pipeline_params = util.hydra_to_dict(config.pipeline)"
   ]
  },
  {
   "cell_type": "code",
   "execution_count": 21,
   "metadata": {},
   "outputs": [],
   "source": [
    "bands = pipeline_params['bands']"
   ]
  },
  {
   "cell_type": "code",
   "execution_count": 22,
   "metadata": {},
   "outputs": [
    {
     "name": "stdout",
     "output_type": "stream",
     "text": [
      "[1, 2, 3, 4, 5, 6, 7, 8, 9, 10, 11, 12, 13, 14, 15, 16, 17, 18]\n"
     ]
    }
   ],
   "source": [
    "runs = survey_params['runs']\n",
    "scas = survey_params['scas']\n",
    "pprint(scas)"
   ]
  },
  {
   "cell_type": "code",
   "execution_count": 28,
   "metadata": {},
   "outputs": [
    {
     "name": "stdout",
     "output_type": "stream",
     "text": [
      "1\n",
      "2\n",
      "3\n",
      "4\n",
      "5\n",
      "6\n",
      "7\n",
      "8\n",
      "9\n",
      "10\n",
      "11\n",
      "12\n",
      "13\n",
      "14\n",
      "15\n",
      "16\n",
      "17\n",
      "18\n",
      "1\n",
      "2\n"
     ]
    }
   ],
   "source": [
    "for i in range(runs):\n",
    "    print(scas[i % len(scas)])"
   ]
  },
  {
   "cell_type": "code",
   "execution_count": 24,
   "metadata": {},
   "outputs": [
    {
     "name": "stdout",
     "output_type": "stream",
     "text": [
      "['F106', 'F129', 'F184', 'F106', 'F129', 'F184', 'F106', 'F129', 'F184']\n"
     ]
    }
   ],
   "source": [
    "bands = bands * 3\n",
    "print(bands)"
   ]
  },
  {
   "cell_type": "code",
   "execution_count": 25,
   "metadata": {},
   "outputs": [],
   "source": [
    "results = [np.ones((45, 45))] * len(set(bands)) * 3"
   ]
  },
  {
   "cell_type": "code",
   "execution_count": 26,
   "metadata": {},
   "outputs": [
    {
     "name": "stdout",
     "output_type": "stream",
     "text": [
      "{'F106', 'F184', 'F129'}\n",
      "3\n"
     ]
    }
   ],
   "source": [
    "print(set(bands))\n",
    "print(len(set(bands)))"
   ]
  },
  {
   "cell_type": "code",
   "execution_count": 27,
   "metadata": {},
   "outputs": [
    {
     "name": "stdout",
     "output_type": "stream",
     "text": [
      "array\n",
      "array\n",
      "array\n",
      "lens\n",
      "lens\n",
      "lens\n",
      "source\n",
      "source\n",
      "source\n"
     ]
    }
   ],
   "source": [
    "j = 0\n",
    "for i, (band, result) in enumerate(zip(bands, results)):\n",
    "    if j == 0:\n",
    "        print('array')\n",
    "    elif j == 1:\n",
    "        print('lens')\n",
    "    elif j == 2:\n",
    "        print('source')\n",
    "    if i % len(set(bands)) == len(set(bands)) - 1:\n",
    "        j += 1\n",
    "    # np.save(os.path.join(output_dir, f'galsim_{lens.uid}_{band}.npy'), result)"
   ]
  }
 ],
 "metadata": {
  "kernelspec": {
   "display_name": "mejiro-v2",
   "language": "python",
   "name": "python3"
  },
  "language_info": {
   "codemirror_mode": {
    "name": "ipython",
    "version": 3
   },
   "file_extension": ".py",
   "mimetype": "text/x-python",
   "name": "python",
   "nbconvert_exporter": "python",
   "pygments_lexer": "ipython3",
   "version": "3.11.11"
  }
 },
 "nbformat": 4,
 "nbformat_minor": 2
}
