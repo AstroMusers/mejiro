{
 "cells": [
  {
   "cell_type": "code",
   "execution_count": 1,
   "metadata": {},
   "outputs": [],
   "source": [
    "from pprint import pprint\n",
    "import pandeia.engine\n",
    "from pandeia.engine.perform_calculation import perform_calculation\n",
    "from pandeia.engine.calc_utils import build_default_calc, build_default_source"
   ]
  },
  {
   "cell_type": "code",
   "execution_count": 2,
   "metadata": {},
   "outputs": [
    {
     "name": "stdout",
     "output_type": "stream",
     "text": [
      "Pandeia Engine version:  3.1\n",
      "Pandeia RefData version:  3.1\n",
      "Synphot Data:  /data/bwedig/STScI/ref_data/grp/redcat/trds\n"
     ]
    }
   ],
   "source": [
    "pandeia.engine.pandeia_version()"
   ]
  },
  {
   "cell_type": "code",
   "execution_count": 3,
   "metadata": {},
   "outputs": [],
   "source": [
    "calc = build_default_calc('roman','wfi','imaging')\n",
    "# pprint(calc)"
   ]
  },
  {
   "cell_type": "code",
   "execution_count": 4,
   "metadata": {},
   "outputs": [],
   "source": [
    "calc['calculation']['noise']['crs'] = False"
   ]
  },
  {
   "cell_type": "code",
   "execution_count": 5,
   "metadata": {},
   "outputs": [
    {
     "ename": "IndexError",
     "evalue": "list index out of range",
     "output_type": "error",
     "traceback": [
      "\u001b[0;31m---------------------------------------------------------------------------\u001b[0m",
      "\u001b[0;31mIndexError\u001b[0m                                Traceback (most recent call last)",
      "Input \u001b[0;32mIn [5]\u001b[0m, in \u001b[0;36m<cell line: 1>\u001b[0;34m()\u001b[0m\n\u001b[0;32m----> 1\u001b[0m report \u001b[38;5;241m=\u001b[39m \u001b[43mperform_calculation\u001b[49m\u001b[43m(\u001b[49m\u001b[43mcalc\u001b[49m\u001b[43m)\u001b[49m\n",
      "File \u001b[0;32m/data/bwedig/.conda/envs/mejiro/lib/python3.10/site-packages/pandeia/engine/perform_calculation.py:35\u001b[0m, in \u001b[0;36mperform_calculation\u001b[0;34m(calc_input, dict_report, webapp, validate)\u001b[0m\n\u001b[1;32m     33\u001b[0m snr \u001b[38;5;241m=\u001b[39m calc_input[\u001b[38;5;124m'\u001b[39m\u001b[38;5;124mconfiguration\u001b[39m\u001b[38;5;124m'\u001b[39m][\u001b[38;5;124m'\u001b[39m\u001b[38;5;124mdetector\u001b[39m\u001b[38;5;124m'\u001b[39m]\u001b[38;5;241m.\u001b[39mget(\u001b[38;5;124m'\u001b[39m\u001b[38;5;124mcalculate_snr\u001b[39m\u001b[38;5;124m'\u001b[39m, \u001b[38;5;28;01mTrue\u001b[39;00m)\n\u001b[1;32m     34\u001b[0m \u001b[38;5;28;01mif\u001b[39;00m snr:\n\u001b[0;32m---> 35\u001b[0m     report \u001b[38;5;241m=\u001b[39m \u001b[43mcalculate_sn\u001b[49m\u001b[43m(\u001b[49m\u001b[43mcalc_input\u001b[49m\u001b[43m,\u001b[49m\u001b[43m \u001b[49m\u001b[43mwebapp\u001b[49m\u001b[38;5;241;43m=\u001b[39;49m\u001b[43mwebapp\u001b[49m\u001b[43m,\u001b[49m\u001b[43m \u001b[49m\u001b[43mvalidate\u001b[49m\u001b[38;5;241;43m=\u001b[39;49m\u001b[43mvalidate\u001b[49m\u001b[43m)\u001b[49m\n\u001b[1;32m     36\u001b[0m \u001b[38;5;28;01melse\u001b[39;00m:\n\u001b[1;32m     37\u001b[0m     report \u001b[38;5;241m=\u001b[39m calculate_exposure_time(calc_input, webapp\u001b[38;5;241m=\u001b[39mwebapp, validate\u001b[38;5;241m=\u001b[39mvalidate)\n",
      "File \u001b[0;32m/data/bwedig/.conda/envs/mejiro/lib/python3.10/site-packages/pandeia/engine/etc3D.py:229\u001b[0m, in \u001b[0;36mcalculate_sn\u001b[0;34m(calc_input, webapp, validate)\u001b[0m\n\u001b[1;32m    226\u001b[0m     scene \u001b[38;5;241m=\u001b[39m Scene(instrument\u001b[38;5;241m.\u001b[39mtelescope\u001b[38;5;241m.\u001b[39mtel_name, config\u001b[38;5;241m=\u001b[39mscene_configuration, webapp\u001b[38;5;241m=\u001b[39mwebapp)\n\u001b[1;32m    227\u001b[0m     warnings\u001b[38;5;241m.\u001b[39mupdate(scene\u001b[38;5;241m.\u001b[39mwarnings)\n\u001b[0;32m--> 229\u001b[0m my_detector_signal_list, my_detector_noise_list, my_detector_saturation_list, obs \u001b[38;5;241m=\u001b[39m \u001b[43mmake_observation\u001b[49m\u001b[43m(\u001b[49m\u001b[43mcalc_config\u001b[49m\u001b[43m,\u001b[49m\u001b[43m \u001b[49m\u001b[43minstrument\u001b[49m\u001b[43m,\u001b[49m\u001b[43m \u001b[49m\n\u001b[1;32m    230\u001b[0m \u001b[43m                                                                   \u001b[49m\u001b[43mstrategy\u001b[49m\u001b[43m,\u001b[49m\u001b[43m \u001b[49m\u001b[43mscene\u001b[49m\u001b[43m,\u001b[49m\u001b[43m \u001b[49m\u001b[43mbackground\u001b[49m\u001b[43m,\u001b[49m\u001b[43m \u001b[49m\u001b[43mbackground_level\u001b[49m\u001b[43m,\u001b[49m\u001b[43m \u001b[49m\u001b[43mwebapp\u001b[49m\u001b[38;5;241;43m=\u001b[39;49m\u001b[43mwebapp\u001b[49m\u001b[43m,\u001b[49m\u001b[43m \u001b[49m\u001b[43mvalidate\u001b[49m\u001b[43m \u001b[49m\u001b[38;5;241;43m=\u001b[39;49m\u001b[43m \u001b[49m\u001b[43mvalidate\u001b[49m\u001b[43m)\u001b[49m\n\u001b[1;32m    231\u001b[0m \u001b[38;5;28;01mif\u001b[39;00m strategy\u001b[38;5;241m.\u001b[39mmethod\u001b[38;5;241m==\u001b[39m\u001b[38;5;124m\"\u001b[39m\u001b[38;5;124mtaspec\u001b[39m\u001b[38;5;124m\"\u001b[39m:\n\u001b[1;32m    232\u001b[0m     \u001b[38;5;66;03m# The TASpec strategy uses one DetectorSignal and DetectorNoise, but \u001b[39;00m\n\u001b[1;32m    233\u001b[0m     \u001b[38;5;66;03m# multiple extraction boxes. We need to make copies of the DetectorSignals.\u001b[39;00m\n\u001b[1;32m    234\u001b[0m     my_detector_signal_list \u001b[38;5;241m*\u001b[39m\u001b[38;5;241m=\u001b[39m strategy\u001b[38;5;241m.\u001b[39mnum_segments\n",
      "File \u001b[0;32m/data/bwedig/.conda/envs/mejiro/lib/python3.10/site-packages/pandeia/engine/etc3D.py:137\u001b[0m, in \u001b[0;36mmake_observation\u001b[0;34m(calc_config, instrument, strategy, scene, background, background_level, webapp, validate)\u001b[0m\n\u001b[1;32m    134\u001b[0m \u001b[38;5;28;01melse\u001b[39;00m:\n\u001b[1;32m    135\u001b[0m     my_detector_signal \u001b[38;5;241m=\u001b[39m DetectorSignal(o, calc_config\u001b[38;5;241m=\u001b[39mcalc_config, webapp\u001b[38;5;241m=\u001b[39mwebapp, validate\u001b[38;5;241m=\u001b[39mvalidate, order\u001b[38;5;241m=\u001b[39m\u001b[38;5;28;01mNone\u001b[39;00m)\n\u001b[0;32m--> 137\u001b[0m my_detector_noise \u001b[38;5;241m=\u001b[39m \u001b[43mDetectorNoise\u001b[49m\u001b[43m(\u001b[49m\u001b[43mmy_detector_signal\u001b[49m\u001b[43m,\u001b[49m\u001b[43m \u001b[49m\u001b[43mo\u001b[49m\u001b[43m,\u001b[49m\u001b[43m \u001b[49m\u001b[43mvalidate\u001b[49m\u001b[38;5;241;43m=\u001b[39;49m\u001b[43mvalidate\u001b[49m\u001b[43m)\u001b[49m\n\u001b[1;32m    139\u001b[0m \u001b[38;5;66;03m# Every dither has a saturation map\u001b[39;00m\n\u001b[1;32m    140\u001b[0m my_detector_saturation \u001b[38;5;241m=\u001b[39m my_detector_signal\u001b[38;5;241m.\u001b[39mget_saturation_mask()\n",
      "File \u001b[0;32m/data/bwedig/.conda/envs/mejiro/lib/python3.10/site-packages/pandeia/engine/noise.py:80\u001b[0m, in \u001b[0;36mDetectorNoise.__init__\u001b[0;34m(self, obs_signal, observation, validate)\u001b[0m\n\u001b[1;32m     78\u001b[0m     \u001b[38;5;28mself\u001b[39m\u001b[38;5;241m.\u001b[39mvar_pix_list, \u001b[38;5;28mself\u001b[39m\u001b[38;5;241m.\u001b[39mstdev_pix_list, \u001b[38;5;28mself\u001b[39m\u001b[38;5;241m.\u001b[39mrn_var_pix_list, \u001b[38;5;28mself\u001b[39m\u001b[38;5;241m.\u001b[39mff_pix_list \u001b[38;5;241m=\u001b[39m \u001b[38;5;28mself\u001b[39m\u001b[38;5;241m.\u001b[39mbasic_source_noise(obs_signal)\n\u001b[1;32m     79\u001b[0m \u001b[38;5;28;01melse\u001b[39;00m:\n\u001b[0;32m---> 80\u001b[0m     \u001b[38;5;28mself\u001b[39m\u001b[38;5;241m.\u001b[39mvar_pix_list, \u001b[38;5;28mself\u001b[39m\u001b[38;5;241m.\u001b[39mstdev_pix_list, \u001b[38;5;28mself\u001b[39m\u001b[38;5;241m.\u001b[39mrn_var_pix_list \u001b[38;5;241m=\u001b[39m \u001b[38;5;28;43mself\u001b[39;49m\u001b[38;5;241;43m.\u001b[39;49m\u001b[43mbasic_source_noise\u001b[49m\u001b[43m(\u001b[49m\u001b[43mobs_signal\u001b[49m\u001b[43m)\u001b[49m\n\u001b[1;32m     82\u001b[0m \u001b[38;5;28;01mif\u001b[39;00m \u001b[38;5;28mself\u001b[39m\u001b[38;5;241m.\u001b[39mvalidate:\n\u001b[1;32m     83\u001b[0m     \u001b[38;5;28mself\u001b[39m\u001b[38;5;241m.\u001b[39mvar_pix, \u001b[38;5;28mself\u001b[39m\u001b[38;5;241m.\u001b[39mstdev_pix, \u001b[38;5;28mself\u001b[39m\u001b[38;5;241m.\u001b[39mvar_rn_pix, \u001b[38;5;28mself\u001b[39m\u001b[38;5;241m.\u001b[39mff_pix \u001b[38;5;241m=\u001b[39m \u001b[38;5;28mself\u001b[39m\u001b[38;5;241m.\u001b[39mon_detector()\n",
      "File \u001b[0;32m/data/bwedig/.conda/envs/mejiro/lib/python3.10/site-packages/pandeia/engine/noise.py:154\u001b[0m, in \u001b[0;36mDetectorNoise.basic_source_noise\u001b[0;34m(self, obs_signal)\u001b[0m\n\u001b[1;32m    151\u001b[0m ffnoise_pix_list \u001b[38;5;241m=\u001b[39m []\n\u001b[1;32m    153\u001b[0m \u001b[38;5;28;01mfor\u001b[39;00m rate_plus_bg \u001b[38;5;129;01min\u001b[39;00m obs_signal\u001b[38;5;241m.\u001b[39mrate_plus_bg_list:\n\u001b[0;32m--> 154\u001b[0m     slope_var_pix, slope_rn_var_pix \u001b[38;5;241m=\u001b[39m \u001b[38;5;28;43mself\u001b[39;49m\u001b[38;5;241;43m.\u001b[39;49m\u001b[43mget_slope_variance\u001b[49m\u001b[43m(\u001b[49m\u001b[43mrate_plus_bg\u001b[49m\u001b[43m)\u001b[49m\n\u001b[1;32m    155\u001b[0m     rate_per_pix \u001b[38;5;241m=\u001b[39m rate_plus_bg[\u001b[38;5;124m'\u001b[39m\u001b[38;5;124mfp_pix\u001b[39m\u001b[38;5;124m'\u001b[39m]\n\u001b[1;32m    156\u001b[0m \u001b[38;5;250m    \u001b[39m\u001b[38;5;124;03m\"\"\"\u001b[39;00m\n\u001b[1;32m    157\u001b[0m \u001b[38;5;124;03m    The flat field error is a division by ~1 (the flat field is normalized), with\u001b[39;00m\n\u001b[1;32m    158\u001b[0m \u001b[38;5;124;03m    a variance of 1/ff_electrons. Note that the value of the flat field response\u001b[39;00m\n\u001b[0;32m   (...)\u001b[0m\n\u001b[1;32m    168\u001b[0m \u001b[38;5;124;03m    s^2(R/FF) = s^2(R) + R^2/FF_electrons\u001b[39;00m\n\u001b[1;32m    169\u001b[0m \u001b[38;5;124;03m    \"\"\"\u001b[39;00m\n",
      "File \u001b[0;32m/data/bwedig/.conda/envs/mejiro/lib/python3.10/site-packages/pandeia/engine/noise.py:234\u001b[0m, in \u001b[0;36mDetectorNoise.get_slope_variance\u001b[0;34m(self, rate)\u001b[0m\n\u001b[1;32m    230\u001b[0m \u001b[38;5;28;01mif\u001b[39;00m (\u001b[38;5;28mself\u001b[39m\u001b[38;5;241m.\u001b[39mcalculation_config\u001b[38;5;241m.\u001b[39mnoise[\u001b[38;5;124m'\u001b[39m\u001b[38;5;124mcrs\u001b[39m\u001b[38;5;124m'\u001b[39m] \u001b[38;5;28;01mif\u001b[39;00m \u001b[38;5;28mself\u001b[39m\u001b[38;5;241m.\u001b[39mcalculation_config\u001b[38;5;241m.\u001b[39mnoise[\u001b[38;5;124m'\u001b[39m\u001b[38;5;124mcrs\u001b[39m\u001b[38;5;124m'\u001b[39m] \u001b[38;5;129;01mis\u001b[39;00m \u001b[38;5;129;01mnot\u001b[39;00m \u001b[38;5;28;01mNone\u001b[39;00m \u001b[38;5;28;01melse\u001b[39;00m \u001b[38;5;28mself\u001b[39m\u001b[38;5;241m.\u001b[39mthe_detector\u001b[38;5;241m.\u001b[39mcrs):\n\u001b[1;32m    231\u001b[0m     unsat_ngroups \u001b[38;5;241m=\u001b[39m np\u001b[38;5;241m.\u001b[39mvectorize(\u001b[38;5;28mself\u001b[39m\u001b[38;5;241m.\u001b[39mthe_detector\u001b[38;5;241m.\u001b[39mcalc_cr_loss)(unsat_ngroups, \u001b[38;5;28mself\u001b[39m\u001b[38;5;241m.\u001b[39mpix_cr_rate)\n\u001b[0;32m--> 234\u001b[0m slope_var, slope_rn_var \u001b[38;5;241m=\u001b[39m \u001b[38;5;28;43mself\u001b[39;49m\u001b[38;5;241;43m.\u001b[39;49m\u001b[43mthe_detector\u001b[49m\u001b[38;5;241;43m.\u001b[39;49m\u001b[43mget_slope_variance\u001b[49m\u001b[43m(\u001b[49m\u001b[43mrate\u001b[49m\u001b[43m,\u001b[49m\u001b[43m \u001b[49m\u001b[43munsat_ngroups\u001b[49m\u001b[43m)\u001b[49m\n\u001b[1;32m    236\u001b[0m \u001b[38;5;28;01mreturn\u001b[39;00m slope_var, slope_rn_var\n",
      "File \u001b[0;32m/data/bwedig/.conda/envs/mejiro/lib/python3.10/site-packages/pandeia/engine/detector.py:839\u001b[0m, in \u001b[0;36mDetector_UnevenMultiAccum.get_slope_variance\u001b[0;34m(self, rate, unsat)\u001b[0m\n\u001b[1;32m    838\u001b[0m \u001b[38;5;28;01mdef\u001b[39;00m \u001b[38;5;21mget_slope_variance\u001b[39m(\u001b[38;5;28mself\u001b[39m, rate, unsat):\n\u001b[0;32m--> 839\u001b[0m     slope_var, slope_rn_var \u001b[38;5;241m=\u001b[39m \u001b[38;5;28;43mself\u001b[39;49m\u001b[38;5;241;43m.\u001b[39;49m\u001b[43mslope_variance\u001b[49m\u001b[43m(\u001b[49m\u001b[43mrate\u001b[49m\u001b[43m,\u001b[49m\u001b[43m \u001b[49m\u001b[43munsat\u001b[49m\u001b[43m)\u001b[49m\n\u001b[1;32m    841\u001b[0m     \u001b[38;5;28;01mreturn\u001b[39;00m slope_var, slope_rn_var\n",
      "File \u001b[0;32m/data/bwedig/.conda/envs/mejiro/lib/python3.10/site-packages/pandeia/engine/detector.py:636\u001b[0m, in \u001b[0;36mDetector_UnevenMultiAccum.slope_variance\u001b[0;34m(self, rate, unsat_nframes, weights)\u001b[0m\n\u001b[1;32m    631\u001b[0m ntotal \u001b[38;5;241m=\u001b[39m np\u001b[38;5;241m.\u001b[39masarray(np\u001b[38;5;241m.\u001b[39mtile(np\u001b[38;5;241m.\u001b[39mreshape(\u001b[38;5;28mself\u001b[39m\u001b[38;5;241m.\u001b[39mexposure_spec\u001b[38;5;241m.\u001b[39mntotal, (\u001b[38;5;241m-\u001b[39m\u001b[38;5;241m1\u001b[39m, \u001b[38;5;241m1\u001b[39m, \u001b[38;5;241m1\u001b[39m)), unsat_nresultants\u001b[38;5;241m.\u001b[39mshape), dtype\u001b[38;5;241m=\u001b[39m\u001b[38;5;28mfloat\u001b[39m)\n\u001b[1;32m    633\u001b[0m \u001b[38;5;66;03m# This portion of the code is not from Casertano 2022 or RomanISIM (which handles cosmic rays by explicitly fitting partial ramps \u001b[39;00m\n\u001b[1;32m    634\u001b[0m \u001b[38;5;66;03m# with custom Cython code)\u001b[39;00m\n\u001b[1;32m    635\u001b[0m \u001b[38;5;66;03m# Handle cosmic rays - they should not wipe out entire resultants, just make each one a little shorter.\u001b[39;00m\n\u001b[0;32m--> 636\u001b[0m excess \u001b[38;5;241m=\u001b[39m \u001b[43mnp\u001b[49m\u001b[38;5;241;43m.\u001b[39;49m\u001b[43mvectorize\u001b[49m\u001b[43m(\u001b[49m\u001b[38;5;28;43;01mlambda\u001b[39;49;00m\u001b[43m \u001b[49m\u001b[43ma\u001b[49m\u001b[43m,\u001b[49m\u001b[43m \u001b[49m\u001b[43mb\u001b[49m\u001b[43m:\u001b[49m\u001b[43m \u001b[49m\u001b[38;5;28;43mself\u001b[39;49m\u001b[38;5;241;43m.\u001b[39;49m\u001b[43mexposure_spec\u001b[49m\u001b[38;5;241;43m.\u001b[39;49m\u001b[43mlastframe\u001b[49m\u001b[43m[\u001b[49m\u001b[43ma\u001b[49m\u001b[43m]\u001b[49m\u001b[43m \u001b[49m\u001b[38;5;241;43m-\u001b[39;49m\u001b[43m \u001b[49m\u001b[43mb\u001b[49m\u001b[43m)\u001b[49m\u001b[43m(\u001b[49m\u001b[43munsat_nresultants\u001b[49m\u001b[43m,\u001b[49m\u001b[43m \u001b[49m\u001b[43munsat_nframes\u001b[49m\u001b[43m)\u001b[49m\u001b[38;5;241m/\u001b[39m\u001b[38;5;28mself\u001b[39m\u001b[38;5;241m.\u001b[39mexposure_spec\u001b[38;5;241m.\u001b[39mnresultants\n\u001b[1;32m    637\u001b[0m \u001b[38;5;28;01mif\u001b[39;00m excess\u001b[38;5;241m.\u001b[39many() \u001b[38;5;241m>\u001b[39m \u001b[38;5;241m0\u001b[39m:\n\u001b[1;32m    638\u001b[0m     unsat_nresultants \u001b[38;5;241m+\u001b[39m\u001b[38;5;241m=\u001b[39m \u001b[38;5;241m1\u001b[39m\n",
      "File \u001b[0;32m/data/bwedig/.conda/envs/mejiro/lib/python3.10/site-packages/numpy/lib/function_base.py:2328\u001b[0m, in \u001b[0;36mvectorize.__call__\u001b[0;34m(self, *args, **kwargs)\u001b[0m\n\u001b[1;32m   2325\u001b[0m     vargs \u001b[38;5;241m=\u001b[39m [args[_i] \u001b[38;5;28;01mfor\u001b[39;00m _i \u001b[38;5;129;01min\u001b[39;00m inds]\n\u001b[1;32m   2326\u001b[0m     vargs\u001b[38;5;241m.\u001b[39mextend([kwargs[_n] \u001b[38;5;28;01mfor\u001b[39;00m _n \u001b[38;5;129;01min\u001b[39;00m names])\n\u001b[0;32m-> 2328\u001b[0m \u001b[38;5;28;01mreturn\u001b[39;00m \u001b[38;5;28;43mself\u001b[39;49m\u001b[38;5;241;43m.\u001b[39;49m\u001b[43m_vectorize_call\u001b[49m\u001b[43m(\u001b[49m\u001b[43mfunc\u001b[49m\u001b[38;5;241;43m=\u001b[39;49m\u001b[43mfunc\u001b[49m\u001b[43m,\u001b[49m\u001b[43m \u001b[49m\u001b[43margs\u001b[49m\u001b[38;5;241;43m=\u001b[39;49m\u001b[43mvargs\u001b[49m\u001b[43m)\u001b[49m\n",
      "File \u001b[0;32m/data/bwedig/.conda/envs/mejiro/lib/python3.10/site-packages/numpy/lib/function_base.py:2406\u001b[0m, in \u001b[0;36mvectorize._vectorize_call\u001b[0;34m(self, func, args)\u001b[0m\n\u001b[1;32m   2404\u001b[0m     res \u001b[38;5;241m=\u001b[39m func()\n\u001b[1;32m   2405\u001b[0m \u001b[38;5;28;01melse\u001b[39;00m:\n\u001b[0;32m-> 2406\u001b[0m     ufunc, otypes \u001b[38;5;241m=\u001b[39m \u001b[38;5;28;43mself\u001b[39;49m\u001b[38;5;241;43m.\u001b[39;49m\u001b[43m_get_ufunc_and_otypes\u001b[49m\u001b[43m(\u001b[49m\u001b[43mfunc\u001b[49m\u001b[38;5;241;43m=\u001b[39;49m\u001b[43mfunc\u001b[49m\u001b[43m,\u001b[49m\u001b[43m \u001b[49m\u001b[43margs\u001b[49m\u001b[38;5;241;43m=\u001b[39;49m\u001b[43margs\u001b[49m\u001b[43m)\u001b[49m\n\u001b[1;32m   2408\u001b[0m     \u001b[38;5;66;03m# Convert args to object arrays first\u001b[39;00m\n\u001b[1;32m   2409\u001b[0m     inputs \u001b[38;5;241m=\u001b[39m [asanyarray(a, dtype\u001b[38;5;241m=\u001b[39m\u001b[38;5;28mobject\u001b[39m) \u001b[38;5;28;01mfor\u001b[39;00m a \u001b[38;5;129;01min\u001b[39;00m args]\n",
      "File \u001b[0;32m/data/bwedig/.conda/envs/mejiro/lib/python3.10/site-packages/numpy/lib/function_base.py:2366\u001b[0m, in \u001b[0;36mvectorize._get_ufunc_and_otypes\u001b[0;34m(self, func, args)\u001b[0m\n\u001b[1;32m   2362\u001b[0m     \u001b[38;5;28;01mraise\u001b[39;00m \u001b[38;5;167;01mValueError\u001b[39;00m(\u001b[38;5;124m'\u001b[39m\u001b[38;5;124mcannot call `vectorize` on size 0 inputs \u001b[39m\u001b[38;5;124m'\u001b[39m\n\u001b[1;32m   2363\u001b[0m                      \u001b[38;5;124m'\u001b[39m\u001b[38;5;124munless `otypes` is set\u001b[39m\u001b[38;5;124m'\u001b[39m)\n\u001b[1;32m   2365\u001b[0m inputs \u001b[38;5;241m=\u001b[39m [arg\u001b[38;5;241m.\u001b[39mflat[\u001b[38;5;241m0\u001b[39m] \u001b[38;5;28;01mfor\u001b[39;00m arg \u001b[38;5;129;01min\u001b[39;00m args]\n\u001b[0;32m-> 2366\u001b[0m outputs \u001b[38;5;241m=\u001b[39m \u001b[43mfunc\u001b[49m\u001b[43m(\u001b[49m\u001b[38;5;241;43m*\u001b[39;49m\u001b[43minputs\u001b[49m\u001b[43m)\u001b[49m\n\u001b[1;32m   2368\u001b[0m \u001b[38;5;66;03m# Performance note: profiling indicates that -- for simple\u001b[39;00m\n\u001b[1;32m   2369\u001b[0m \u001b[38;5;66;03m# functions at least -- this wrapping can almost double the\u001b[39;00m\n\u001b[1;32m   2370\u001b[0m \u001b[38;5;66;03m# execution time.\u001b[39;00m\n\u001b[1;32m   2371\u001b[0m \u001b[38;5;66;03m# Hence we make it optional.\u001b[39;00m\n\u001b[1;32m   2372\u001b[0m \u001b[38;5;28;01mif\u001b[39;00m \u001b[38;5;28mself\u001b[39m\u001b[38;5;241m.\u001b[39mcache:\n",
      "File \u001b[0;32m/data/bwedig/.conda/envs/mejiro/lib/python3.10/site-packages/pandeia/engine/detector.py:636\u001b[0m, in \u001b[0;36mDetector_UnevenMultiAccum.slope_variance.<locals>.<lambda>\u001b[0;34m(a, b)\u001b[0m\n\u001b[1;32m    631\u001b[0m ntotal \u001b[38;5;241m=\u001b[39m np\u001b[38;5;241m.\u001b[39masarray(np\u001b[38;5;241m.\u001b[39mtile(np\u001b[38;5;241m.\u001b[39mreshape(\u001b[38;5;28mself\u001b[39m\u001b[38;5;241m.\u001b[39mexposure_spec\u001b[38;5;241m.\u001b[39mntotal, (\u001b[38;5;241m-\u001b[39m\u001b[38;5;241m1\u001b[39m, \u001b[38;5;241m1\u001b[39m, \u001b[38;5;241m1\u001b[39m)), unsat_nresultants\u001b[38;5;241m.\u001b[39mshape), dtype\u001b[38;5;241m=\u001b[39m\u001b[38;5;28mfloat\u001b[39m)\n\u001b[1;32m    633\u001b[0m \u001b[38;5;66;03m# This portion of the code is not from Casertano 2022 or RomanISIM (which handles cosmic rays by explicitly fitting partial ramps \u001b[39;00m\n\u001b[1;32m    634\u001b[0m \u001b[38;5;66;03m# with custom Cython code)\u001b[39;00m\n\u001b[1;32m    635\u001b[0m \u001b[38;5;66;03m# Handle cosmic rays - they should not wipe out entire resultants, just make each one a little shorter.\u001b[39;00m\n\u001b[0;32m--> 636\u001b[0m excess \u001b[38;5;241m=\u001b[39m np\u001b[38;5;241m.\u001b[39mvectorize(\u001b[38;5;28;01mlambda\u001b[39;00m a, b: \u001b[38;5;28;43mself\u001b[39;49m\u001b[38;5;241;43m.\u001b[39;49m\u001b[43mexposure_spec\u001b[49m\u001b[38;5;241;43m.\u001b[39;49m\u001b[43mlastframe\u001b[49m\u001b[43m[\u001b[49m\u001b[43ma\u001b[49m\u001b[43m]\u001b[49m \u001b[38;5;241m-\u001b[39m b)(unsat_nresultants, unsat_nframes)\u001b[38;5;241m/\u001b[39m\u001b[38;5;28mself\u001b[39m\u001b[38;5;241m.\u001b[39mexposure_spec\u001b[38;5;241m.\u001b[39mnresultants\n\u001b[1;32m    637\u001b[0m \u001b[38;5;28;01mif\u001b[39;00m excess\u001b[38;5;241m.\u001b[39many() \u001b[38;5;241m>\u001b[39m \u001b[38;5;241m0\u001b[39m:\n\u001b[1;32m    638\u001b[0m     unsat_nresultants \u001b[38;5;241m+\u001b[39m\u001b[38;5;241m=\u001b[39m \u001b[38;5;241m1\u001b[39m\n",
      "\u001b[0;31mIndexError\u001b[0m: list index out of range"
     ]
    }
   ],
   "source": [
    "report = perform_calculation(calc)"
   ]
  }
 ],
 "metadata": {
  "kernelspec": {
   "display_name": "pandeia",
   "language": "python",
   "name": "python3"
  },
  "language_info": {
   "codemirror_mode": {
    "name": "ipython",
    "version": 3
   },
   "file_extension": ".py",
   "mimetype": "text/x-python",
   "name": "python",
   "nbconvert_exporter": "python",
   "pygments_lexer": "ipython3",
   "version": "3.10.6"
  }
 },
 "nbformat": 4,
 "nbformat_minor": 2
}
