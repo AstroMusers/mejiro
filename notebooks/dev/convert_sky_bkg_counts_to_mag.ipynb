{
 "cells": [
  {
   "cell_type": "code",
   "execution_count": 25,
   "metadata": {},
   "outputs": [],
   "source": [
    "import matplotlib\n",
    "import numpy as np\n",
    "import os\n",
    "import sys\n",
    "%matplotlib inline\n",
    "import matplotlib.pyplot as plt\n",
    "from matplotlib import colors\n",
    "from hydra import initialize, compose\n",
    "import pickle\n",
    "from glob import glob\n",
    "from pprint import pprint\n",
    "from tqdm import tqdm\n",
    "import galsim\n",
    "from copy import deepcopy\n",
    "import speclite.filters\n",
    "from lenstronomy.Util import data_util\n",
    "\n",
    "# set paths to various directories based on the machine this code is being executed on\n",
    "try:\n",
    "    with initialize(version_base=None, config_path='config'):\n",
    "        config = compose(config_name='config.yaml')  # overrides=['machine=uzay']\n",
    "except:\n",
    "    with initialize(version_base=None, config_path='../../config'):\n",
    "        config = compose(config_name='config.yaml')  # overrides=['machine=uzay']\n",
    "\n",
    "array_dir, data_dir, figure_dir, pickle_dir, repo_dir = config.machine.array_dir, config.machine.data_dir, config.machine.figure_dir, config.machine.pickle_dir, config.machine.repo_dir\n",
    "\n",
    "# enable use of local modules\n",
    "if repo_dir not in sys.path:\n",
    "    sys.path.append(repo_dir)\n",
    "\n",
    "# set matplotlib style\n",
    "plt.style.use(f'{repo_dir}/mejiro/mplstyle/science.mplstyle')\n",
    "\n",
    "from mejiro.lenses.test import SampleStrongLens\n",
    "from mejiro.plots import diagnostic_plot, plot, plot_util, overplot\n",
    "from mejiro.analysis import stats\n",
    "from mejiro.utils import util\n",
    "from mejiro.helpers import gs\n",
    "from mejiro.instruments.hwo import HWO\n",
    "from mejiro.instruments.roman import Roman"
   ]
  },
  {
   "cell_type": "code",
   "execution_count": 26,
   "metadata": {},
   "outputs": [
    {
     "data": {
      "image/png": "[encoded data removed]",
      "text/plain": [
       "<Figure size 700x525 with 2 Axes>"
      ]
     },
     "metadata": {},
     "output_type": "display_data"
    }
   ],
   "source": [
    "roman = Roman()\n",
    "\n",
    "bkgs = roman.get_sky_bkgs(['F129'], 146, 45, 1)\n",
    "bkg = bkgs['F129']\n",
    "bkg_array = bkg.array\n",
    "sky_bkg_cps = np.mean(bkg_array)\n",
    "\n",
    "plt.imshow(bkg_array)\n",
    "plt.title(f'Sky background: {sky_bkg_cps:.2f} cps')\n",
    "plt.colorbar()\n",
    "plt.show()"
   ]
  },
  {
   "cell_type": "code",
   "execution_count": 27,
   "metadata": {},
   "outputs": [],
   "source": [
    "def get_zeropoint_magnitude(wavelength, response, effective_area=4.5 * 1e4):\n",
    "    '''\n",
    "    see Section 6.1 of [this paper](https://www.aanda.org/articles/aa/full_html/2022/06/aa42897-21/aa42897-21.html) by the Euclid collaboration for explanation of this function\n",
    "\n",
    "    Roman's collecting area (4.5 m^2) retrieved 16 August 2024 from https://roman-docs.stsci.edu/roman-instruments-home/wfi-imaging-mode-user-guide/introduction-to-wfi/wfi-quick-reference\n",
    "    '''\n",
    "    # effective area in cm^2\n",
    "\n",
    "    # assert that wavelength values are evenly spaced\n",
    "    assert np.allclose(np.diff(wavelength), np.diff(wavelength)[0])\n",
    "\n",
    "    dv = np.diff(wavelength)[0]\n",
    "    integral = 0\n",
    "    for wl, resp in zip(wavelength, response):\n",
    "        integral += (dv * (1 / wl) * resp)\n",
    "\n",
    "    return 8.9 + (2.5 * np.log10(((effective_area * 1e-23) / (6.602 * 1e-27)) * integral))"
   ]
  },
  {
   "cell_type": "markdown",
   "metadata": {},
   "source": [
    "calculate zeropoints from original Roman technical specifications filter response curves"
   ]
  },
  {
   "cell_type": "code",
   "execution_count": 28,
   "metadata": {},
   "outputs": [
    {
     "name": "stdout",
     "output_type": "stream",
     "text": [
      "{'F062': 26.732004045011998,\n",
      " 'F087': 26.39959321426133,\n",
      " 'F106': 26.45879071316798,\n",
      " 'F129': 26.474852624324505,\n",
      " 'F146': 27.705289628769542,\n",
      " 'F158': 26.509375840491877,\n",
      " 'F184': 26.057270612934154,\n",
      " 'F213': 26.014557989787512}\n"
     ]
    }
   ],
   "source": [
    "from slsim.Observations.roman_speclite import configure_roman_filters\n",
    "from slsim.Observations.roman_speclite import filter_names\n",
    "\n",
    "configure_roman_filters()\n",
    "roman_filters = filter_names()\n",
    "roman_filters.sort()\n",
    "og_roman_filters = [speclite.filters.load_filter(f) for f in roman_filters[:8]]\n",
    "\n",
    "original_zeropoints = {}\n",
    "for filter in og_roman_filters:\n",
    "    original_zeropoints[filter.name[-4:]] = get_zeropoint_magnitude(filter.wavelength, filter.response)\n",
    "pprint(original_zeropoints)"
   ]
  },
  {
   "cell_type": "markdown",
   "metadata": {},
   "source": [
    "zodiacal light and thermal background values from [Roman Technical Documentation](https://roman.gsfc.nasa.gov/science/WFI_technical.html)"
   ]
  },
  {
   "cell_type": "code",
   "execution_count": 29,
   "metadata": {},
   "outputs": [
    {
     "name": "stdout",
     "output_type": "stream",
     "text": [
      "{'F062': 0.25,\n",
      " 'F087': 0.251,\n",
      " 'F106': 0.277,\n",
      " 'F129': 0.267,\n",
      " 'F146': 0.781,\n",
      " 'F158': 0.244,\n",
      " 'F184': 0.141,\n",
      " 'F213': 0.118}\n"
     ]
    }
   ],
   "source": [
    "pprint(roman.min_zodi)"
   ]
  },
  {
   "cell_type": "code",
   "execution_count": 30,
   "metadata": {},
   "outputs": [
    {
     "name": "stdout",
     "output_type": "stream",
     "text": [
      "{'F062': 0.003,\n",
      " 'F087': 0.003,\n",
      " 'F106': 0.003,\n",
      " 'F129': 0.003,\n",
      " 'F146': 1.03,\n",
      " 'F158': 0.048,\n",
      " 'F184': 0.155,\n",
      " 'F213': 4.38}\n"
     ]
    }
   ],
   "source": [
    "pprint(roman.thermal_backgrounds)"
   ]
  },
  {
   "cell_type": "code",
   "execution_count": 31,
   "metadata": {},
   "outputs": [
    {
     "name": "stdout",
     "output_type": "stream",
     "text": [
      "{'F062': 0.253,\n",
      " 'F087': 0.254,\n",
      " 'F106': 0.28,\n",
      " 'F129': 0.27,\n",
      " 'F146': 1.811,\n",
      " 'F158': 0.292,\n",
      " 'F184': 0.296,\n",
      " 'F213': 4.498}\n"
     ]
    }
   ],
   "source": [
    "sky_bkg = {key: v1 + v2 for key, v1, v2 in\n",
    "           zip(roman.thermal_backgrounds.keys(), roman.thermal_backgrounds.values(), roman.min_zodi.values())}\n",
    "\n",
    "pprint(sky_bkg)"
   ]
  },
  {
   "cell_type": "markdown",
   "metadata": {},
   "source": [
    "convert sky backgrounds to magnitudes using original Roman technical specifications filter response curves"
   ]
  },
  {
   "cell_type": "code",
   "execution_count": 32,
   "metadata": {},
   "outputs": [
    {
     "name": "stdout",
     "output_type": "stream",
     "text": [
      "{'F062': 28.224202742072453,\n",
      " 'F087': 27.887508922711486,\n",
      " 'F106': 27.84089563481243,\n",
      " 'F129': 27.896443213927036,\n",
      " 'F146': 27.060493502984396,\n",
      " 'F158': 27.84591871187083,\n",
      " 'F184': 27.379041335286807,\n",
      " 'F213': 24.382009362038477}\n"
     ]
    }
   ],
   "source": [
    "sky_bkg_mags = {key: data_util.cps2magnitude(v, original_zeropoints[key]) for key, v in sky_bkg.items()}\n",
    "pprint(sky_bkg_mags)"
   ]
  },
  {
   "cell_type": "markdown",
   "metadata": {},
   "source": [
    "sanity check: convert back to counts"
   ]
  },
  {
   "cell_type": "code",
   "execution_count": 33,
   "metadata": {},
   "outputs": [
    {
     "name": "stdout",
     "output_type": "stream",
     "text": [
      "{'F062': 0.2529999999999999,\n",
      " 'F087': 0.2539999999999996,\n",
      " 'F106': 0.28000000000000014,\n",
      " 'F129': 0.2700000000000003,\n",
      " 'F146': 1.8109999999999988,\n",
      " 'F158': 0.2920000000000004,\n",
      " 'F184': 0.2960000000000001,\n",
      " 'F213': 4.4980000000000055}\n"
     ]
    }
   ],
   "source": [
    "sky_bkg_counts_check = {key: data_util.magnitude2cps(v, original_zeropoints[key]) for key, v in sky_bkg_mags.items()}\n",
    "pprint(sky_bkg_counts_check)"
   ]
  },
  {
   "cell_type": "markdown",
   "metadata": {},
   "source": [
    "convert sky backgrounds to counts for all SCAs"
   ]
  },
  {
   "cell_type": "code",
   "execution_count": 34,
   "metadata": {},
   "outputs": [
    {
     "name": "stdout",
     "output_type": "stream",
     "text": [
      "{'SCA01': {'F062': 26.573720976925344,\n",
      "           'F087': 26.22444439663539,\n",
      "           'F106': 26.31341612265568,\n",
      "           'F129': 26.31760383446462,\n",
      "           'F146': 27.53675269415519,\n",
      "           'F158': 26.320712182222806,\n",
      "           'F184': 25.852803745658825,\n",
      "           'F213': 25.81314064968742},\n",
      " 'SCA02': {'F062': 26.60507741847109,\n",
      "           'F087': 26.296320101527776,\n",
      "           'F106': 26.34987398221049,\n",
      "           'F129': 26.336812298907752,\n",
      "           'F146': 27.575796666083114,\n",
      "           'F158': 26.367562639862697,\n",
      "           'F184': 25.91108650516852,\n",
      "           'F213': 25.85540398669619},\n",
      " 'SCA03': {'F062': 26.599516508566303,\n",
      "           'F087': 26.28133844245408,\n",
      "           'F106': 26.334876598542735,\n",
      "           'F129': 26.332589280599407,\n",
      "           'F146': 27.564432481786795,\n",
      "           'F158': 26.35750871774671,\n",
      "           'F184': 25.908985300671034,\n",
      "           'F213': 25.852467634033083},\n",
      " 'SCA04': {'F062': 26.5394986263943,\n",
      "           'F087': 26.268491543081396,\n",
      "           'F106': 26.328254570431106,\n",
      "           'F129': 26.32693360502506,\n",
      "           'F146': 27.559986457904756,\n",
      "           'F158': 26.351673921617234,\n",
      "           'F184': 25.903197243134706,\n",
      "           'F213': 25.854714903917902},\n",
      " 'SCA05': {'F062': 26.602010592226286,\n",
      "           'F087': 26.315060362828525,\n",
      "           'F106': 26.358542746133807,\n",
      "           'F129': 26.358354442332534,\n",
      "           'F146': 27.58813425966899,\n",
      "           'F158': 26.379594626813187,\n",
      "           'F184': 25.912570521181976,\n",
      "           'F213': 25.859696359035247},\n",
      " 'SCA06': {'F062': 26.616279278423903,\n",
      "           'F087': 26.30009798591894,\n",
      "           'F106': 26.377718085555813,\n",
      "           'F129': 26.37577651922689,\n",
      "           'F146': 27.61261311746007,\n",
      "           'F158': 26.40908011301302,\n",
      "           'F184': 25.956431540537217,\n",
      "           'F213': 25.920525587051067},\n",
      " 'SCA07': {'F062': 26.600959078132263,\n",
      "           'F087': 26.278125659540713,\n",
      "           'F106': 26.34595299769508,\n",
      "           'F129': 26.347572665882808,\n",
      "           'F146': 27.572453486566864,\n",
      "           'F158': 26.3625354159768,\n",
      "           'F184': 25.89141837848001,\n",
      "           'F213': 25.841408478128507},\n",
      " 'SCA08': {'F062': 26.641461804424985,\n",
      "           'F087': 26.31697973921274,\n",
      "           'F106': 26.344661729988452,\n",
      "           'F129': 26.34142179766389,\n",
      "           'F146': 27.57143016104964,\n",
      "           'F158': 26.361453072288136,\n",
      "           'F184': 25.87471874939107,\n",
      "           'F213': 25.824057624570372},\n",
      " 'SCA09': {'F062': 26.616198161899227,\n",
      "           'F087': 26.332622915815904,\n",
      "           'F106': 26.37150815585649,\n",
      "           'F129': 26.373377835630635,\n",
      "           'F146': 27.602489188326636,\n",
      "           'F158': 26.396476565797585,\n",
      "           'F184': 25.915365920431235,\n",
      "           'F213': 25.865774608864648},\n",
      " 'SCA10': {'F062': 26.602056069253017,\n",
      "           'F087': 26.29096712759184,\n",
      "           'F106': 26.338815862571643,\n",
      "           'F129': 26.33132541369566,\n",
      "           'F146': 27.565004560371847,\n",
      "           'F158': 26.356599224069775,\n",
      "           'F184': 25.864619023454296,\n",
      "           'F213': 25.805209631266145},\n",
      " 'SCA11': {'F062': 26.613047750348613,\n",
      "           'F087': 26.315342880926487,\n",
      "           'F106': 26.33994871599782,\n",
      "           'F129': 26.340076623193234,\n",
      "           'F146': 27.57384664073721,\n",
      "           'F158': 26.370257837710135,\n",
      "           'F184': 25.912032825894926,\n",
      "           'F213': 25.856452236256047},\n",
      " 'SCA12': {'F062': 26.561836860407624,\n",
      "           'F087': 26.271771580464033,\n",
      "           'F106': 26.40007415004247,\n",
      "           'F129': 26.40204189871801,\n",
      "           'F146': 27.631033399683304,\n",
      "           'F158': 26.423483441275444,\n",
      "           'F184': 25.97852864069184,\n",
      "           'F213': 25.94532813261864},\n",
      " 'SCA13': {'F062': 26.59900315300549,\n",
      "           'F087': 26.29767610647854,\n",
      "           'F106': 26.31142499097225,\n",
      "           'F129': 26.30589045265728,\n",
      "           'F146': 27.543458519784586,\n",
      "           'F158': 26.33887507305557,\n",
      "           'F184': 25.888560958062413,\n",
      "           'F213': 25.831907979799254},\n",
      " 'SCA14': {'F062': 26.60296010747689,\n",
      "           'F087': 26.30503404203624,\n",
      "           'F106': 26.3587483957806,\n",
      "           'F129': 26.34883078938998,\n",
      "           'F146': 27.588807818325286,\n",
      "           'F158': 26.382044844836166,\n",
      "           'F184': 25.924273893812945,\n",
      "           'F213': 25.871775180221867},\n",
      " 'SCA15': {'F062': 26.663603581060862,\n",
      "           'F087': 26.314639939475562,\n",
      "           'F106': 26.317642454909162,\n",
      "           'F129': 26.315769253009115,\n",
      "           'F146': 27.55146767179299,\n",
      "           'F158': 26.347703984455663,\n",
      "           'F184': 25.898970316405496,\n",
      "           'F213': 25.840331495398118},\n",
      " 'SCA16': {'F062': 26.658035265743642,\n",
      "           'F087': 26.307974440492195,\n",
      "           'F106': 26.317092289025133,\n",
      "           'F129': 26.309970606407475,\n",
      "           'F146': 27.54789887449956,\n",
      "           'F158': 26.34217417969741,\n",
      "           'F184': 25.886643146252275,\n",
      "           'F213': 25.83922212779615},\n",
      " 'SCA17': {'F062': 26.719446820923963,\n",
      "           'F087': 26.361300477433254,\n",
      "           'F106': 26.401053396687658,\n",
      "           'F129': 26.39571027205983,\n",
      "           'F146': 27.626292422898764,\n",
      "           'F158': 26.413464744420544,\n",
      "           'F184': 25.93440621522273,\n",
      "           'F213': 25.89173067920757},\n",
      " 'SCA18': {'F062': 26.675450793236507,\n",
      "           'F087': 26.330228469194353,\n",
      "           'F106': 26.44118506162129,\n",
      "           'F129': 26.463563356382025,\n",
      "           'F146': 27.670458145746927,\n",
      "           'F158': 26.455085476766058,\n",
      "           'F184': 25.97586999731864,\n",
      "           'F213': 25.93801435779376}}\n"
     ]
    }
   ],
   "source": [
    "roman_zps = roman.zp_dict\n",
    "pprint(roman_zps)"
   ]
  },
  {
   "cell_type": "code",
   "execution_count": 35,
   "metadata": {},
   "outputs": [
    {
     "name": "stdout",
     "output_type": "stream",
     "text": [
      "{'SCA01': {'F062': 0.21867910811125002,\n",
      "           'F087': 0.21615943154279874,\n",
      "           'F106': 0.24491094561065574,\n",
      "           'F129': 0.23359537950198622,\n",
      "           'F146': 1.550613913276466,\n",
      "           'F158': 0.2454242023311866,\n",
      "           'F184': 0.24519124799285574,\n",
      "           'F213': 3.7363927013479326},\n",
      " 'SCA02': {'F062': 0.22508671893896293,\n",
      "           'F087': 0.23095345923818741,\n",
      "           'F106': 0.25327442552162943,\n",
      "           'F129': 0.23776484066558223,\n",
      "           'F146': 1.6073900114754978,\n",
      "           'F158': 0.2562462810995016,\n",
      "           'F184': 0.258712890354565,\n",
      "           'F213': 3.884703258382817},\n",
      " 'SCA03': {'F062': 0.22393681992331366,\n",
      "           'F087': 0.22778850689378216,\n",
      "           'F106': 0.24979997207703686,\n",
      "           'F129': 0.23684184013989606,\n",
      "           'F146': 1.5906535223743214,\n",
      "           'F158': 0.25388439181936173,\n",
      "           'F184': 0.2582126924171551,\n",
      "           'F213': 3.8742113471899975},\n",
      " 'SCA04': {'F062': 0.21189385087018095,\n",
      "           'F087': 0.2251090981891427,\n",
      "           'F106': 0.24828105049443008,\n",
      "           'F129': 0.2356113221943215,\n",
      "           'F146': 1.5841532109859753,\n",
      "           'F158': 0.25252366503974016,\n",
      "           'F184': 0.25683982370179326,\n",
      "           'F213': 3.8822385410643525},\n",
      " 'SCA05': {'F062': 0.2244518245325333,\n",
      "           'F087': 0.2349744144621066,\n",
      "           'F106': 0.2553047203168604,\n",
      "           'F129': 0.2425294552893881,\n",
      "           'F146': 1.6257595083113712,\n",
      "           'F158': 0.25910176175989286,\n",
      "           'F184': 0.2590667484798064,\n",
      "           'F213': 3.9000915240226726},\n",
      " 'SCA06': {'F062': 0.22742102602050698,\n",
      "           'F087': 0.23175847542176378,\n",
      "           'F106': 0.25985374503688347,\n",
      "           'F129': 0.24645255342724093,\n",
      "           'F146': 1.6628299791245365,\n",
      "           'F158': 0.2662346395357157,\n",
      "           'F184': 0.2697466638143502,\n",
      "           'F213': 4.124834138036461},\n",
      " 'SCA07': {'F062': 0.2242345525974153,\n",
      "           'F087': 0.22711545822251658,\n",
      "           'F106': 0.252361409948465,\n",
      "           'F129': 0.24013296362116412,\n",
      "           'F146': 1.6024481771896728,\n",
      "           'F158': 0.2550625408322768,\n",
      "           'F184': 0.254068496327969,\n",
      "           'F213': 3.834949474038395},\n",
      " 'SCA08': {'F062': 0.23275746841226072,\n",
      "           'F087': 0.23539017219429123,\n",
      "           'F106': 0.2520614545468773,\n",
      "           'F129': 0.23877641835439173,\n",
      "           'F146': 1.6009385530629443,\n",
      "           'F158': 0.2548084019591119,\n",
      "           'F184': 0.25019058675591793,\n",
      "           'F213': 3.774151288076322},\n",
      " 'SCA09': {'F062': 0.2274040357846788,\n",
      "           'F087': 0.2388061996032297,\n",
      "           'F106': 0.2583717390773985,\n",
      "           'F129': 0.2459086743914961,\n",
      "           'F146': 1.647397012754895,\n",
      "           'F158': 0.26316197772907396,\n",
      "           'F184': 0.2597346161154342,\n",
      "           'F213': 3.921986538792229},\n",
      " 'SCA10': {'F062': 0.22446122609375546,\n",
      "           'F087': 0.22981759840248142,\n",
      "           'F106': 0.2507079415491998,\n",
      "           'F129': 0.23656630138018303,\n",
      "           'F146': 1.591491864680841,\n",
      "           'F158': 0.2536718083549198,\n",
      "           'F184': 0.24787405714798785,\n",
      "           'F213': 3.709198775087206},\n",
      " 'SCA11': {'F062': 0.22674514837475618,\n",
      "           'F087': 0.23503556482443203,\n",
      "           'F106': 0.25096966587153163,\n",
      "           'F129': 0.2384807691443784,\n",
      "           'F146': 1.6045056661489472,\n",
      "           'F158': 0.25688316908082776,\n",
      "           'F184': 0.25893848115127527,\n",
      "           'F213': 3.888455647652563},\n",
      " 'SCA12': {'F062': 0.21629856955524826,\n",
      "           'F087': 0.22579018691937588,\n",
      "           'F106': 0.26525978060810407,\n",
      "           'F129': 0.2524872626371757,\n",
      "           'F146': 1.6912817348045717,\n",
      "           'F158': 0.269790027102794,\n",
      "           'F184': 0.27529284383035724,\n",
      "           'F213': 4.220146312663939},\n",
      " 'SCA13': {'F062': 0.22383096360373222,\n",
      "           'F087': 0.23124208338086572,\n",
      "           'F106': 0.24446221500382964,\n",
      "           'F129': 0.23108879899628107,\n",
      "           'F146': 1.5602205964556877,\n",
      "           'F158': 0.24956434858308874,\n",
      "           'F184': 0.25340072267154934,\n",
      "           'F213': 3.8015389722543844},\n",
      " 'SCA14': {'F062': 0.22464820155983248,\n",
      "           'F087': 0.23281451204325918,\n",
      "           'F106': 0.25535308224674524,\n",
      "           'F129': 0.24041138487615318,\n",
      "           'F146': 1.6267683943758844,\n",
      "           'F158': 0.2596871458460492,\n",
      "           'F184': 0.2618743868207756,\n",
      "           'F213': 3.943722309818022},\n",
      " 'SCA15': {'F062': 0.23755289946640426,\n",
      "           'F087': 0.23488344429225333,\n",
      "           'F106': 0.2458661428353701,\n",
      "           'F129': 0.23320100387881962,\n",
      "           'F146': 1.5717724330821898,\n",
      "           'F158': 0.25160201159425544,\n",
      "           'F184': 0.2558418533211507,\n",
      "           'F213': 3.8311473289348528},\n",
      " 'SCA16': {'F062': 0.2363377025785143,\n",
      "           'F087': 0.23344587649558965,\n",
      "           'F106': 0.24574158873315757,\n",
      "           'F129': 0.23195885536528943,\n",
      "           'F146': 1.5666145242155347,\n",
      "           'F158': 0.2503238254795428,\n",
      "           'F184': 0.2529535183291134,\n",
      "           'F213': 3.827234794640144},\n",
      " 'SCA17': {'F062': 0.25009075148454774,\n",
      "           'F087': 0.24519782973468726,\n",
      "           'F106': 0.2654991314958108,\n",
      "           'F129': 0.251019131860485,\n",
      "           'F146': 1.6839126828738291,\n",
      "           'F158': 0.2673119739975558,\n",
      "           'F184': 0.264329693251902,\n",
      "           'F213': 4.016876938753787},\n",
      " 'SCA18': {'F062': 0.24015919571581795,\n",
      "           'F087': 0.23828012463711093,\n",
      "           'F106': 0.27549630013002513,\n",
      "           'F129': 0.26720713895948073,\n",
      "           'F146': 1.7538233872687996,\n",
      "           'F158': 0.2777580828829252,\n",
      "           'F184': 0.2746195586310155,\n",
      "           'F213': 4.191813946909865}}\n"
     ]
    }
   ],
   "source": [
    "sky_bkg_cps_dict = {}\n",
    "\n",
    "for sca, zp_dict in roman_zps.items():\n",
    "    sky_bkg_cps_dict[sca] = {}\n",
    "    for filter, zp in zp_dict.items():\n",
    "        sky_bkg_cps_dict[sca][filter] = data_util.magnitude2cps(sky_bkg_mags[filter], zp)\n",
    "\n",
    "pprint(sky_bkg_cps_dict)"
   ]
  }
 ],
 "metadata": {
  "kernelspec": {
   "display_name": "mejiro",
   "language": "python",
   "name": "python3"
  },
  "language_info": {
   "codemirror_mode": {
    "name": "ipython",
    "version": 3
   },
   "file_extension": ".py",
   "mimetype": "text/x-python",
   "name": "python",
   "nbconvert_exporter": "python",
   "pygments_lexer": "ipython3",
   "version": "3.10.6"
  }
 },
 "nbformat": 4,
 "nbformat_minor": 2
}
