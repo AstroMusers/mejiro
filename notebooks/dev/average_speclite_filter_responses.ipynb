{
 "cells": [
  {
   "cell_type": "code",
   "execution_count": 34,
   "metadata": {},
   "outputs": [],
   "source": [
    "import os\n",
    "import sys\n",
    "\n",
    "import numpy as np\n",
    "import matplotlib\n",
    "%matplotlib inline\n",
    "import matplotlib.pyplot as plt\n",
    "from matplotlib import colors\n",
    "from hydra import initialize, compose\n",
    "import pickle\n",
    "from glob import glob\n",
    "from pprint import pprint\n",
    "from tqdm import tqdm\n",
    "import speclite.filters\n",
    "from astropy.io import ascii\n",
    "\n",
    "# set paths to various directories based on the machine this code is being executed on\n",
    "with initialize(version_base=None, config_path='config'):\n",
    "    config = compose(config_name='config.yaml')  # overrides=['machine=uzay']\n",
    "\n",
    "array_dir, data_dir, figure_dir, pickle_dir, repo_dir  = config.machine.array_dir, config.machine.data_dir, config.machine.figure_dir, config.machine.pickle_dir, config.machine.repo_dir\n",
    "\n",
    "# enable use of local modules\n",
    "if repo_dir not in sys.path:\n",
    "    sys.path.append(repo_dir)\n",
    "\n",
    "# set matplotlib style\n",
    "plt.style.use(f'{repo_dir}/mejiro/mplstyle/science.mplstyle')\n",
    "\n",
    "from mejiro.lenses.test import SampleStrongLens\n",
    "from mejiro.plots import diagnostic_plot, plot, plot_util, overplot\n",
    "from mejiro.analysis import stats\n",
    "from mejiro.utils import util\n",
    "from mejiro.helpers import gs, effarea\n",
    "import mejiro"
   ]
  },
  {
   "cell_type": "code",
   "execution_count": 57,
   "metadata": {},
   "outputs": [],
   "source": [
    "module_path = os.path.dirname(mejiro.__file__)\n",
    "filter_responses_dir = os.path.join(module_path, 'data', 'filter_responses')\n",
    "filter_response_files = sorted(glob(f'{filter_responses_dir}/*.ecsv'))"
   ]
  },
  {
   "cell_type": "code",
   "execution_count": 59,
   "metadata": {},
   "outputs": [],
   "source": [
    "for f in filter_response_files:\n",
    "    effarea.ecsv_to_csv(f)"
   ]
  },
  {
   "cell_type": "code",
   "execution_count": 36,
   "metadata": {},
   "outputs": [],
   "source": [
    "filter_names = effarea._filter_name_list"
   ]
  },
  {
   "cell_type": "code",
   "execution_count": 37,
   "metadata": {},
   "outputs": [],
   "source": [
    "filter = filter_names[0]"
   ]
  },
  {
   "cell_type": "code",
   "execution_count": 38,
   "metadata": {},
   "outputs": [],
   "source": [
    "filter_response_files = sorted(glob(f'{filter_responses_dir}/RomanSCA*-{filter}.ecsv'))\n",
    "\n",
    "data = ascii.read(filter_response_files[0])"
   ]
  },
  {
   "cell_type": "code",
   "execution_count": 39,
   "metadata": {},
   "outputs": [],
   "source": [
    "total_data = [ascii.read(f) for f in filter_response_files]"
   ]
  },
  {
   "cell_type": "code",
   "execution_count": 40,
   "metadata": {},
   "outputs": [],
   "source": [
    "wavelengths = []\n",
    "responses = []\n",
    "\n",
    "for file in filter_response_files:\n",
    "    data = ascii.read(file)\n",
    "    wavelengths.append(data['wavelength'])\n",
    "    responses.append(data['response'])"
   ]
  },
  {
   "cell_type": "code",
   "execution_count": 41,
   "metadata": {},
   "outputs": [
    {
     "name": "stdout",
     "output_type": "stream",
     "text": [
      "Min wave: 4710.0, Max wave: 7720.0\n"
     ]
    }
   ],
   "source": [
    "total_min = np.min([np.min(w.value) for w in wavelengths])\n",
    "total_max = np.max([np.max(w.value) for w in wavelengths])\n",
    "\n",
    "print(f'Min wave: {total_min}, Max wave: {total_max}')"
   ]
  },
  {
   "cell_type": "code",
   "execution_count": 42,
   "metadata": {},
   "outputs": [],
   "source": [
    "total_wavelengths = np.arange(total_min, total_max, 10)\n",
    "total_responses = []"
   ]
  },
  {
   "cell_type": "code",
   "execution_count": 55,
   "metadata": {},
   "outputs": [
    {
     "name": "stdout",
     "output_type": "stream",
     "text": [
      "[4728.]\n",
      "[4728.]\n",
      "[]\n",
      "[]\n"
     ]
    },
    {
     "ename": "TypeError",
     "evalue": "unhashable type: 'numpy.ndarray'",
     "output_type": "error",
     "traceback": [
      "\u001b[0;31m---------------------------------------------------------------------------\u001b[0m",
      "\u001b[0;31mTypeError\u001b[0m                                 Traceback (most recent call last)",
      "Input \u001b[0;32mIn [55]\u001b[0m, in \u001b[0;36m<cell line: 4>\u001b[0;34m()\u001b[0m\n\u001b[1;32m     16\u001b[0m     pad_after_vals \u001b[38;5;241m=\u001b[39m np\u001b[38;5;241m.\u001b[39mlinspace(\u001b[38;5;28mfloat\u001b[39m(\u001b[38;5;28mint\u001b[39m(\u001b[38;5;28mmin\u001b[39m) \u001b[38;5;241m-\u001b[39m pad_before), \u001b[38;5;28mfloat\u001b[39m(\u001b[38;5;28mmin\u001b[39m)\u001b[38;5;241m-\u001b[39m\u001b[38;5;241m10\u001b[39m, pad_before \u001b[38;5;241m-\u001b[39m \u001b[38;5;241m1\u001b[39m)\n\u001b[1;32m     17\u001b[0m     \u001b[38;5;28mprint\u001b[39m(pad_after_vals)\n\u001b[0;32m---> 19\u001b[0m     padded_wavelength \u001b[38;5;241m=\u001b[39m \u001b[43mnp\u001b[49m\u001b[38;5;241;43m.\u001b[39;49m\u001b[43mpad\u001b[49m\u001b[43m(\u001b[49m\u001b[43mwavelength\u001b[49m\u001b[43m,\u001b[49m\u001b[43m \u001b[49m\u001b[43mpad_width\u001b[49m\u001b[38;5;241;43m=\u001b[39;49m\u001b[43m(\u001b[49m\u001b[43mpad_before\u001b[49m\u001b[43m,\u001b[49m\u001b[43m \u001b[49m\u001b[43mpad_after\u001b[49m\u001b[43m)\u001b[49m\u001b[43m,\u001b[49m\u001b[43m \u001b[49m\u001b[43mmode\u001b[49m\u001b[38;5;241;43m=\u001b[39;49m\u001b[43m(\u001b[49m\u001b[43mpad_before_vals\u001b[49m\u001b[43m,\u001b[49m\u001b[43m \u001b[49m\u001b[43mpad_after_vals\u001b[49m\u001b[43m)\u001b[49m\u001b[43m)\u001b[49m\n\u001b[1;32m     20\u001b[0m     padded_response \u001b[38;5;241m=\u001b[39m np\u001b[38;5;241m.\u001b[39mpad(response, (pad_before, pad_after), mode\u001b[38;5;241m=\u001b[39m\u001b[38;5;124m'\u001b[39m\u001b[38;5;124mconstant\u001b[39m\u001b[38;5;124m'\u001b[39m, constant_values\u001b[38;5;241m=\u001b[39m(\u001b[38;5;241m0\u001b[39m, \u001b[38;5;241m0\u001b[39m))\n\u001b[1;32m     22\u001b[0m \u001b[38;5;66;03m# print(len(wavelength), len(padded))\u001b[39;00m\n",
      "File \u001b[0;32m<__array_function__ internals>:180\u001b[0m, in \u001b[0;36mpad\u001b[0;34m(*args, **kwargs)\u001b[0m\n",
      "File \u001b[0;32m/data/bwedig/.conda/envs/mejiro/lib/python3.10/site-packages/astropy/units/quantity.py:1852\u001b[0m, in \u001b[0;36mQuantity.__array_function__\u001b[0;34m(self, function, types, args, kwargs)\u001b[0m\n\u001b[1;32m   1849\u001b[0m     \u001b[38;5;28;01mexcept\u001b[39;00m \u001b[38;5;167;01mNotImplementedError\u001b[39;00m:\n\u001b[1;32m   1850\u001b[0m         \u001b[38;5;28;01mreturn\u001b[39;00m \u001b[38;5;28mself\u001b[39m\u001b[38;5;241m.\u001b[39m_not_implemented_or_raise(function, types)\n\u001b[0;32m-> 1852\u001b[0m     result \u001b[38;5;241m=\u001b[39m \u001b[38;5;28;43msuper\u001b[39;49m\u001b[43m(\u001b[49m\u001b[43m)\u001b[49m\u001b[38;5;241;43m.\u001b[39;49m\u001b[43m__array_function__\u001b[49m\u001b[43m(\u001b[49m\u001b[43mfunction\u001b[49m\u001b[43m,\u001b[49m\u001b[43m \u001b[49m\u001b[43mtypes\u001b[49m\u001b[43m,\u001b[49m\u001b[43m \u001b[49m\u001b[43margs\u001b[49m\u001b[43m,\u001b[49m\u001b[43m \u001b[49m\u001b[43mkwargs\u001b[49m\u001b[43m)\u001b[49m\n\u001b[1;32m   1853\u001b[0m     \u001b[38;5;66;03m# Fall through to return section\u001b[39;00m\n\u001b[1;32m   1855\u001b[0m \u001b[38;5;28;01melif\u001b[39;00m function \u001b[38;5;129;01min\u001b[39;00m DISPATCHED_FUNCTIONS:\n",
      "File \u001b[0;32m/data/bwedig/.conda/envs/mejiro/lib/python3.10/site-packages/numpy/lib/arraypad.py:781\u001b[0m, in \u001b[0;36mpad\u001b[0;34m(array, pad_width, mode, **kwargs)\u001b[0m\n\u001b[1;32m    769\u001b[0m allowed_kwargs \u001b[38;5;241m=\u001b[39m {\n\u001b[1;32m    770\u001b[0m     \u001b[38;5;124m'\u001b[39m\u001b[38;5;124mempty\u001b[39m\u001b[38;5;124m'\u001b[39m: [], \u001b[38;5;124m'\u001b[39m\u001b[38;5;124medge\u001b[39m\u001b[38;5;124m'\u001b[39m: [], \u001b[38;5;124m'\u001b[39m\u001b[38;5;124mwrap\u001b[39m\u001b[38;5;124m'\u001b[39m: [],\n\u001b[1;32m    771\u001b[0m     \u001b[38;5;124m'\u001b[39m\u001b[38;5;124mconstant\u001b[39m\u001b[38;5;124m'\u001b[39m: [\u001b[38;5;124m'\u001b[39m\u001b[38;5;124mconstant_values\u001b[39m\u001b[38;5;124m'\u001b[39m],\n\u001b[0;32m   (...)\u001b[0m\n\u001b[1;32m    778\u001b[0m     \u001b[38;5;124m'\u001b[39m\u001b[38;5;124msymmetric\u001b[39m\u001b[38;5;124m'\u001b[39m: [\u001b[38;5;124m'\u001b[39m\u001b[38;5;124mreflect_type\u001b[39m\u001b[38;5;124m'\u001b[39m],\n\u001b[1;32m    779\u001b[0m }\n\u001b[1;32m    780\u001b[0m \u001b[38;5;28;01mtry\u001b[39;00m:\n\u001b[0;32m--> 781\u001b[0m     unsupported_kwargs \u001b[38;5;241m=\u001b[39m \u001b[38;5;28mset\u001b[39m(kwargs) \u001b[38;5;241m-\u001b[39m \u001b[38;5;28mset\u001b[39m(\u001b[43mallowed_kwargs\u001b[49m\u001b[43m[\u001b[49m\u001b[43mmode\u001b[49m\u001b[43m]\u001b[49m)\n\u001b[1;32m    782\u001b[0m \u001b[38;5;28;01mexcept\u001b[39;00m \u001b[38;5;167;01mKeyError\u001b[39;00m:\n\u001b[1;32m    783\u001b[0m     \u001b[38;5;28;01mraise\u001b[39;00m \u001b[38;5;167;01mValueError\u001b[39;00m(\u001b[38;5;124m\"\u001b[39m\u001b[38;5;124mmode \u001b[39m\u001b[38;5;124m'\u001b[39m\u001b[38;5;132;01m{}\u001b[39;00m\u001b[38;5;124m'\u001b[39m\u001b[38;5;124m is not supported\u001b[39m\u001b[38;5;124m\"\u001b[39m\u001b[38;5;241m.\u001b[39mformat(mode)) \u001b[38;5;28;01mfrom\u001b[39;00m \u001b[38;5;28;01mNone\u001b[39;00m\n",
      "\u001b[0;31mTypeError\u001b[0m: unhashable type: 'numpy.ndarray'"
     ]
    }
   ],
   "source": [
    "pad_wave = []\n",
    "pad_response = []\n",
    "\n",
    "for wavelength, response in zip(wavelengths, responses):\n",
    "    min = np.min(wavelength).value\n",
    "    max = np.max(wavelength).value\n",
    "    # print(min, max)\n",
    "    pad_before = int((min - total_min) / 10)\n",
    "    pad_after = int((total_max - max) / 10)\n",
    "    # print(pad_before, pad_after)\n",
    "    \n",
    "    if pad_before != 0:\n",
    "        pad_before_vals = np.linspace(float(int(min) - pad_before), float(min)-10, pad_before - 1)\n",
    "        print(pad_before_vals)\n",
    "    if pad_after != 0:\n",
    "        pad_after_vals = np.linspace(float(int(min) - pad_before), float(min)-10, pad_before - 1)\n",
    "        print(pad_after_vals)\n",
    "\n",
    "        padded_wavelength = np.pad(wavelength, pad_width=(pad_before, pad_after), mode=(pad_before_vals, pad_after_vals))\n",
    "        padded_response = np.pad(response, (pad_before, pad_after), mode='constant', constant_values=(0, 0))\n",
    "\n",
    "    # print(len(wavelength), len(padded))\n",
    "    pad_wave.append(padded_wavelength)\n",
    "    pad_response.append(padded_response)"
   ]
  },
  {
   "cell_type": "code",
   "execution_count": 45,
   "metadata": {},
   "outputs": [
    {
     "name": "stdout",
     "output_type": "stream",
     "text": [
      "2365.0 Angstrom 7720.0 Angstrom\n",
      "2365.0 Angstrom 7720.0 Angstrom\n",
      "4720.0 Angstrom 0.0 Angstrom\n",
      "4720.0 Angstrom 0.0 Angstrom\n",
      "2365.0 Angstrom 0.0 Angstrom\n",
      "4720.0 Angstrom 0.0 Angstrom\n",
      "4720.0 Angstrom 0.0 Angstrom\n",
      "4720.0 Angstrom 0.0 Angstrom\n",
      "4720.0 Angstrom 0.0 Angstrom\n",
      "2365.0 Angstrom 7720.0 Angstrom\n",
      "2365.0 Angstrom 7720.0 Angstrom\n",
      "4720.0 Angstrom 0.0 Angstrom\n",
      "4720.0 Angstrom 7720.0 Angstrom\n",
      "4720.0 Angstrom 0.0 Angstrom\n",
      "4720.0 Angstrom 0.0 Angstrom\n",
      "4720.0 Angstrom 0.0 Angstrom\n",
      "4720.0 Angstrom 0.0 Angstrom\n",
      "4720.0 Angstrom 0.0 Angstrom\n"
     ]
    }
   ],
   "source": [
    "_ = [print(p[1], p[-1]) for p in pad_wave]"
   ]
  },
  {
   "cell_type": "code",
   "execution_count": 46,
   "metadata": {},
   "outputs": [
    {
     "data": {
      "text/html": [
       "<div><i>QTable length=299</i>\n",
       "<table id=\"table140637482147488\" class=\"table-striped table-bordered table-condensed\">\n",
       "<thead><tr><th>wavelength</th><th>response</th></tr></thead>\n",
       "<thead><tr><th>Angstrom</th><th></th></tr></thead>\n",
       "<thead><tr><th>float64</th><th>float64</th></tr></thead>\n",
       "<tr><td>4710.0</td><td>0.0</td></tr>\n",
       "<tr><td>4720.0</td><td>4.420970641441537e-05</td></tr>\n",
       "<tr><td>4730.0</td><td>0.0003094679449009076</td></tr>\n",
       "<tr><td>4740.0</td><td>0.0014589203116757072</td></tr>\n",
       "<tr><td>4750.0</td><td>0.005415689035765883</td></tr>\n",
       "<tr><td>4760.0</td><td>0.016247067107297647</td></tr>\n",
       "<tr><td>4770.0</td><td>0.039700316360145003</td></tr>\n",
       "<tr><td>4780.0</td><td>0.07982062493122695</td></tr>\n",
       "<tr><td>4790.0</td><td>0.13406593470171463</td></tr>\n",
       "<tr><td>...</td><td>...</td></tr>\n",
       "<tr><td>7600.0</td><td>0.10121812283580399</td></tr>\n",
       "<tr><td>7610.0</td><td>0.05678736788931655</td></tr>\n",
       "<tr><td>7620.0</td><td>0.028316316958433042</td></tr>\n",
       "<tr><td>7630.0</td><td>0.012489242062072343</td></tr>\n",
       "<tr><td>7640.0</td><td>0.004840962852378483</td></tr>\n",
       "<tr><td>7650.0</td><td>0.0016578639905405763</td></tr>\n",
       "<tr><td>7660.0</td><td>0.0004863067705585691</td></tr>\n",
       "<tr><td>7670.0</td><td>0.0001326291192432461</td></tr>\n",
       "<tr><td>7680.0</td><td>2.2104853207207685e-05</td></tr>\n",
       "<tr><td>7690.0</td><td>0.0</td></tr>\n",
       "</table></div>"
      ],
      "text/plain": [
       "<QTable length=299>\n",
       "wavelength        response       \n",
       " Angstrom                        \n",
       " float64          float64        \n",
       "---------- ----------------------\n",
       "    4710.0                    0.0\n",
       "    4720.0  4.420970641441537e-05\n",
       "    4730.0  0.0003094679449009076\n",
       "    4740.0  0.0014589203116757072\n",
       "    4750.0   0.005415689035765883\n",
       "    4760.0   0.016247067107297647\n",
       "    4770.0   0.039700316360145003\n",
       "    4780.0    0.07982062493122695\n",
       "    4790.0    0.13406593470171463\n",
       "       ...                    ...\n",
       "    7600.0    0.10121812283580399\n",
       "    7610.0    0.05678736788931655\n",
       "    7620.0   0.028316316958433042\n",
       "    7630.0   0.012489242062072343\n",
       "    7640.0   0.004840962852378483\n",
       "    7650.0  0.0016578639905405763\n",
       "    7660.0  0.0004863067705585691\n",
       "    7670.0  0.0001326291192432461\n",
       "    7680.0 2.2104853207207685e-05\n",
       "    7690.0                    0.0"
      ]
     },
     "execution_count": 46,
     "metadata": {},
     "output_type": "execute_result"
    }
   ],
   "source": [
    "data"
   ]
  },
  {
   "cell_type": "code",
   "execution_count": 47,
   "metadata": {},
   "outputs": [],
   "source": [
    "for filter in filter_names:\n",
    "    filter_response_files = sorted(glob(f'{filter_responses_dir}/RomanSCA*-{filter}.ecsv'))"
   ]
  }
 ],
 "metadata": {
  "kernelspec": {
   "display_name": "mejiro",
   "language": "python",
   "name": "python3"
  },
  "language_info": {
   "codemirror_mode": {
    "name": "ipython",
    "version": 3
   },
   "file_extension": ".py",
   "mimetype": "text/x-python",
   "name": "python",
   "nbconvert_exporter": "python",
   "pygments_lexer": "ipython3",
   "version": "3.10.6"
  }
 },
 "nbformat": 4,
 "nbformat_minor": 2
}
