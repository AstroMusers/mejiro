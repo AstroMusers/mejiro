{
 "cells": [
  {
   "cell_type": "code",
   "execution_count": 8,
   "metadata": {},
   "outputs": [],
   "source": [
    "import os\n",
    "import sys\n",
    "\n",
    "import numpy as np\n",
    "import matplotlib\n",
    "%matplotlib inline\n",
    "import matplotlib.pyplot as plt\n",
    "from matplotlib import colors\n",
    "from hydra import initialize, compose\n",
    "import pickle\n",
    "from glob import glob\n",
    "from pprint import pprint\n",
    "from tqdm import tqdm\n",
    "import speclite.filters\n",
    "from astropy.io import ascii\n",
    "\n",
    "# set paths to various directories based on the machine this code is being executed on\n",
    "with initialize(version_base=None, config_path='config'):\n",
    "    config = compose(config_name='config.yaml')  # overrides=['machine=uzay']\n",
    "\n",
    "array_dir, data_dir, figure_dir, pickle_dir, repo_dir  = config.machine.array_dir, config.machine.data_dir, config.machine.figure_dir, config.machine.pickle_dir, config.machine.repo_dir\n",
    "\n",
    "# enable use of local modules\n",
    "if repo_dir not in sys.path:\n",
    "    sys.path.append(repo_dir)\n",
    "\n",
    "# set matplotlib style\n",
    "plt.style.use(f'{repo_dir}/mejiro/mplstyle/science.mplstyle')\n",
    "\n",
    "from mejiro.lenses.test import SampleStrongLens\n",
    "from mejiro.plots import diagnostic_plot, plot, plot_util, overplot\n",
    "from mejiro.analysis import stats\n",
    "from mejiro.utils import util\n",
    "from mejiro.helpers import gs, effarea\n",
    "import mejiro"
   ]
  },
  {
   "cell_type": "code",
   "execution_count": 9,
   "metadata": {},
   "outputs": [],
   "source": [
    "\n",
    "module_path = os.path.dirname(mejiro.__file__)\n",
    "filter_responses_dir = os.path.join(module_path, 'data', 'filter_responses')\n",
    "filter_response_files = sorted(glob(f'{filter_responses_dir}/*.ecsv'))"
   ]
  },
  {
   "cell_type": "code",
   "execution_count": 10,
   "metadata": {},
   "outputs": [],
   "source": [
    "filter_names = effarea._filter_name_list"
   ]
  },
  {
   "cell_type": "code",
   "execution_count": 13,
   "metadata": {},
   "outputs": [],
   "source": [
    "filter = filter_names[0]"
   ]
  },
  {
   "cell_type": "code",
   "execution_count": 14,
   "metadata": {},
   "outputs": [],
   "source": [
    "filter_response_files = sorted(glob(f'{filter_responses_dir}/RomanSCA*-{filter}.ecsv'))\n",
    "\n",
    "data = ascii.read(filter_response_files[0])"
   ]
  },
  {
   "cell_type": "code",
   "execution_count": 27,
   "metadata": {},
   "outputs": [],
   "source": [
    "total_data = [ascii.read(f) for f in filter_response_files]"
   ]
  },
  {
   "cell_type": "code",
   "execution_count": 18,
   "metadata": {},
   "outputs": [],
   "source": [
    "wavelengths = []\n",
    "responses = []\n",
    "\n",
    "for file in filter_response_files:\n",
    "    data = ascii.read(file)\n",
    "    wavelengths.append(data['wavelength'])\n",
    "    responses.append(data['response'])"
   ]
  },
  {
   "cell_type": "code",
   "execution_count": 25,
   "metadata": {},
   "outputs": [
    {
     "name": "stdout",
     "output_type": "stream",
     "text": [
      "Min wave: 9880.0, Max wave: 19470.0\n"
     ]
    }
   ],
   "source": [
    "min_wave = np.min([np.min(w.value) for w in wavelengths])\n",
    "max_wave = np.max([np.max(w.value) for w in wavelengths])\n",
    "\n",
    "print(f'Min wave: {min_wave}, Max wave: {max_wave}')"
   ]
  },
  {
   "cell_type": "code",
   "execution_count": null,
   "metadata": {},
   "outputs": [],
   "source": [
    "total_wavelengths = np.arange(min_wave, max_wave, 10)\n",
    "total_responses = []"
   ]
  },
  {
   "cell_type": "code",
   "execution_count": 20,
   "metadata": {},
   "outputs": [
    {
     "name": "stdout",
     "output_type": "stream",
     "text": [
      "953\n",
      "952\n",
      "949\n",
      "952\n",
      "949\n",
      "949\n",
      "948\n",
      "949\n",
      "947\n",
      "953\n",
      "952\n",
      "949\n",
      "951\n",
      "951\n",
      "948\n",
      "949\n",
      "949\n",
      "950\n"
     ]
    }
   ],
   "source": [
    "for wavelength in wavelengths:\n",
    "    print(len(wavelength))"
   ]
  },
  {
   "cell_type": "code",
   "execution_count": 15,
   "metadata": {},
   "outputs": [
    {
     "data": {
      "text/html": [
       "<div><i>QTable length=300</i>\n",
       "<table id=\"table140426319070400\" class=\"table-striped table-bordered table-condensed\">\n",
       "<thead><tr><th>wavelength</th><th>response</th></tr></thead>\n",
       "<thead><tr><th>Angstrom</th><th></th></tr></thead>\n",
       "<thead><tr><th>float64</th><th>float64</th></tr></thead>\n",
       "<tr><td>4730.0</td><td>0.0</td></tr>\n",
       "<tr><td>4740.0</td><td>2.2104853207207685e-05</td></tr>\n",
       "<tr><td>4750.0</td><td>0.00011052426603603843</td></tr>\n",
       "<tr><td>4760.0</td><td>0.0006189358898018152</td></tr>\n",
       "<tr><td>4770.0</td><td>0.002586267825243299</td></tr>\n",
       "<tr><td>4780.0</td><td>0.008598787897603788</td></tr>\n",
       "<tr><td>4790.0</td><td>0.023254305573982486</td></tr>\n",
       "<tr><td>4800.0</td><td>0.05143799341317228</td></tr>\n",
       "<tr><td>4810.0</td><td>0.09376878730497501</td></tr>\n",
       "<tr><td>...</td><td>...</td></tr>\n",
       "<tr><td>7630.0</td><td>0.10734116717420052</td></tr>\n",
       "<tr><td>7640.0</td><td>0.060567297787749066</td></tr>\n",
       "<tr><td>7650.0</td><td>0.030062600361802454</td></tr>\n",
       "<tr><td>7660.0</td><td>0.013063968245459742</td></tr>\n",
       "<tr><td>7670.0</td><td>0.004951487118414521</td></tr>\n",
       "<tr><td>7680.0</td><td>0.0016357591373333687</td></tr>\n",
       "<tr><td>7690.0</td><td>0.00046420191735136135</td></tr>\n",
       "<tr><td>7700.0</td><td>0.00011052426603603843</td></tr>\n",
       "<tr><td>7710.0</td><td>2.2104853207207685e-05</td></tr>\n",
       "<tr><td>7720.0</td><td>0.0</td></tr>\n",
       "</table></div>"
      ],
      "text/plain": [
       "<QTable length=300>\n",
       "wavelength        response       \n",
       " Angstrom                        \n",
       " float64          float64        \n",
       "---------- ----------------------\n",
       "    4730.0                    0.0\n",
       "    4740.0 2.2104853207207685e-05\n",
       "    4750.0 0.00011052426603603843\n",
       "    4760.0  0.0006189358898018152\n",
       "    4770.0   0.002586267825243299\n",
       "    4780.0   0.008598787897603788\n",
       "    4790.0   0.023254305573982486\n",
       "    4800.0    0.05143799341317228\n",
       "    4810.0    0.09376878730497501\n",
       "       ...                    ...\n",
       "    7630.0    0.10734116717420052\n",
       "    7640.0   0.060567297787749066\n",
       "    7650.0   0.030062600361802454\n",
       "    7660.0   0.013063968245459742\n",
       "    7670.0   0.004951487118414521\n",
       "    7680.0  0.0016357591373333687\n",
       "    7690.0 0.00046420191735136135\n",
       "    7700.0 0.00011052426603603843\n",
       "    7710.0 2.2104853207207685e-05\n",
       "    7720.0                    0.0"
      ]
     },
     "execution_count": 15,
     "metadata": {},
     "output_type": "execute_result"
    }
   ],
   "source": [
    "data"
   ]
  },
  {
   "cell_type": "code",
   "execution_count": 16,
   "metadata": {},
   "outputs": [],
   "source": [
    "for filter in filter_names:\n",
    "    filter_response_files = sorted(glob(f'{filter_responses_dir}/RomanSCA*-{filter}.ecsv'))"
   ]
  }
 ],
 "metadata": {
  "kernelspec": {
   "display_name": "mejiro",
   "language": "python",
   "name": "python3"
  },
  "language_info": {
   "codemirror_mode": {
    "name": "ipython",
    "version": 3
   },
   "file_extension": ".py",
   "mimetype": "text/x-python",
   "name": "python",
   "nbconvert_exporter": "python",
   "pygments_lexer": "ipython3",
   "version": "3.10.6"
  }
 },
 "nbformat": 4,
 "nbformat_minor": 2
}
