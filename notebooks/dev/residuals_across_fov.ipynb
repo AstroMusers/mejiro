{
 "cells": [
  {
   "cell_type": "code",
   "execution_count": 4,
   "metadata": {},
   "outputs": [],
   "source": [
    "import os\n",
    "import pickle\n",
    "import sys\n",
    "import datetime\n",
    "import matplotlib\n",
    "%matplotlib inline\n",
    "import matplotlib.pyplot as plt\n",
    "import numpy as np\n",
    "from pprint import pprint\n",
    "from hydra import initialize, compose\n",
    "from glob import glob\n",
    "from copy import deepcopy\n",
    "from tqdm import tqdm\n",
    "from galsim import InterpolatedImage, Image\n",
    "\n",
    "# set paths to various directories based on the machine this code is being executed on\n",
    "with initialize(version_base=None, config_path='config'):  # ../../\n",
    "    config = compose(config_name='config.yaml')  # overrides=['machine=uzay']\n",
    "\n",
    "array_dir, data_dir, figure_dir, pickle_dir, repo_dir  = config.machine.array_dir, config.machine.data_dir, config.machine.figure_dir, config.machine.pickle_dir, config.machine.repo_dir\n",
    "\n",
    "# enable use of local modules\n",
    "if repo_dir not in sys.path:\n",
    "    sys.path.append(repo_dir)\n",
    "\n",
    "# set matplotlib style\n",
    "plt.style.use(f'{repo_dir}/mejiro/mplstyle/science.mplstyle')\n",
    "\n",
    "from mejiro.lenses.test import SampleStrongLens\n",
    "from mejiro.plots import diagnostic_plot, plot, plot_util, overplot\n",
    "from mejiro.analysis import stats\n",
    "from mejiro.utils import util\n",
    "from mejiro.helpers import pyhalo, pandeia_input, psf, gs"
   ]
  },
  {
   "cell_type": "code",
   "execution_count": 5,
   "metadata": {},
   "outputs": [],
   "source": [
    "lens = SampleStrongLens()\n",
    "\n",
    "num_pix = 45\n",
    "side = 4.95\n",
    "bands = ['F106', 'F129', 'F184']\n",
    "oversample = 5"
   ]
  },
  {
   "cell_type": "code",
   "execution_count": 6,
   "metadata": {},
   "outputs": [],
   "source": [
    "# add CDM subhalos\n",
    "lens.add_subhalos(util.unpickle(os.path.join(pickle_dir, 'cdm_subhalos_for_sample.pkl')))\n",
    "\n",
    "models = [lens.get_array(num_pix=45 * oversample, side=4.95, band=band) for band in bands]\n",
    "np.save(os.path.join(array_dir, 'residuals_across_fov_models.npy'), models)"
   ]
  },
  {
   "cell_type": "code",
   "execution_count": 12,
   "metadata": {},
   "outputs": [
    {
     "ename": "FileNotFoundError",
     "evalue": "[Errno 2] No such file or directory: '/data/bwedig/mejiro/output/arrays/residuals_across_fov_models.npy'",
     "output_type": "error",
     "traceback": [
      "\u001b[0;31m---------------------------------------------------------------------------\u001b[0m",
      "\u001b[0;31mFileNotFoundError\u001b[0m                         Traceback (most recent call last)",
      "Input \u001b[0;32mIn [12]\u001b[0m, in \u001b[0;36m<cell line: 1>\u001b[0;34m()\u001b[0m\n\u001b[0;32m----> 1\u001b[0m models \u001b[38;5;241m=\u001b[39m \u001b[43mnp\u001b[49m\u001b[38;5;241;43m.\u001b[39;49m\u001b[43mload\u001b[49m\u001b[43m(\u001b[49m\u001b[43mos\u001b[49m\u001b[38;5;241;43m.\u001b[39;49m\u001b[43mpath\u001b[49m\u001b[38;5;241;43m.\u001b[39;49m\u001b[43mjoin\u001b[49m\u001b[43m(\u001b[49m\u001b[43marray_dir\u001b[49m\u001b[43m,\u001b[49m\u001b[43m \u001b[49m\u001b[38;5;124;43m'\u001b[39;49m\u001b[38;5;124;43mresiduals_across_fov_models.npy\u001b[39;49m\u001b[38;5;124;43m'\u001b[39;49m\u001b[43m)\u001b[49m\u001b[43m)\u001b[49m\n",
      "File \u001b[0;32m/data/bwedig/.conda/envs/mejiro/lib/python3.10/site-packages/numpy/lib/npyio.py:405\u001b[0m, in \u001b[0;36mload\u001b[0;34m(file, mmap_mode, allow_pickle, fix_imports, encoding, max_header_size)\u001b[0m\n\u001b[1;32m    403\u001b[0m     own_fid \u001b[38;5;241m=\u001b[39m \u001b[38;5;28;01mFalse\u001b[39;00m\n\u001b[1;32m    404\u001b[0m \u001b[38;5;28;01melse\u001b[39;00m:\n\u001b[0;32m--> 405\u001b[0m     fid \u001b[38;5;241m=\u001b[39m stack\u001b[38;5;241m.\u001b[39menter_context(\u001b[38;5;28;43mopen\u001b[39;49m\u001b[43m(\u001b[49m\u001b[43mos_fspath\u001b[49m\u001b[43m(\u001b[49m\u001b[43mfile\u001b[49m\u001b[43m)\u001b[49m\u001b[43m,\u001b[49m\u001b[43m \u001b[49m\u001b[38;5;124;43m\"\u001b[39;49m\u001b[38;5;124;43mrb\u001b[39;49m\u001b[38;5;124;43m\"\u001b[39;49m\u001b[43m)\u001b[49m)\n\u001b[1;32m    406\u001b[0m     own_fid \u001b[38;5;241m=\u001b[39m \u001b[38;5;28;01mTrue\u001b[39;00m\n\u001b[1;32m    408\u001b[0m \u001b[38;5;66;03m# Code to distinguish from NumPy binary files and pickles.\u001b[39;00m\n",
      "\u001b[0;31mFileNotFoundError\u001b[0m: [Errno 2] No such file or directory: '/data/bwedig/mejiro/output/arrays/residuals_across_fov_models.npy'"
     ]
    }
   ],
   "source": [
    "models = np.load(os.path.join(array_dir, 'residuals_across_fov_models.npy'))"
   ]
  },
  {
   "cell_type": "code",
   "execution_count": 7,
   "metadata": {},
   "outputs": [],
   "source": [
    "# plot.plot(model[0], colorbar=True, title=model.shape)"
   ]
  },
  {
   "cell_type": "code",
   "execution_count": 8,
   "metadata": {},
   "outputs": [
    {
     "data": {
      "image/png": "[encoded data removed]",
      "text/plain": [
       "<Figure size 700x525 with 2 Axes>"
      ]
     },
     "metadata": {},
     "output_type": "display_data"
    }
   ],
   "source": [
    "from skimage import draw\n",
    "model = np.zeros((225, 225))\n",
    "rr, cc = draw.circle_perimeter(112, 112, radius=40, shape=model.shape)\n",
    "model[rr, cc] = 1\n",
    "\n",
    "plt.imshow(model)\n",
    "plt.colorbar()\n",
    "plt.show()"
   ]
  },
  {
   "cell_type": "code",
   "execution_count": 9,
   "metadata": {},
   "outputs": [
    {
     "name": "stderr",
     "output_type": "stream",
     "text": [
      "100%|██████████| 18/18 [05:25<00:00, 18.09s/it]\n",
      "100%|██████████| 18/18 [05:02<00:00, 16.80s/it]\n",
      "100%|██████████| 18/18 [05:10<00:00, 17.26s/it]\n"
     ]
    }
   ],
   "source": [
    "detectors = [i + 1 for i in range(18)]\n",
    "images = []\n",
    "\n",
    "for band, model in zip(bands, models):\n",
    "    total_flux_cps = lens.get_total_flux_cps(band)\n",
    "    interp = InterpolatedImage(Image(model, xmin=0, ymin=0), scale=0.11 / oversample, flux=total_flux_cps * 146)\n",
    "\n",
    "    interpolated_images = [interp] * 18\n",
    "\n",
    "    for detector, interp in tqdm(zip(detectors, interpolated_images), total=len(detectors)):\n",
    "        detector_pos = (2048, 2048)\n",
    "\n",
    "        # generate PSF\n",
    "        psf_kernel = psf.get_webbpsf_psf(band, detector, detector_pos, oversample)\n",
    "\n",
    "        # convolve image with PSF\n",
    "        convolved = gs.convolve(interp, psf_kernel, num_pix)\n",
    "\n",
    "        # quantize\n",
    "        convolved.quantize()\n",
    "\n",
    "        # get array\n",
    "        final_array = convolved.array\n",
    "\n",
    "        # divide through by exposure time to get in units of counts/sec/pixel\n",
    "        final_array /= 146\n",
    "\n",
    "        images.append(final_array)\n",
    "    \n",
    "np.save(os.path.join(array_dir, 'residuals_across_fov_images.npy'), images)"
   ]
  },
  {
   "cell_type": "code",
   "execution_count": 11,
   "metadata": {},
   "outputs": [],
   "source": [
    "images = np.load(os.path.join(array_dir, 'residuals_across_fov_images.npy'))"
   ]
  },
  {
   "cell_type": "code",
   "execution_count": null,
   "metadata": {},
   "outputs": [],
   "source": [
    "mean_residual_counts = []\n",
    "\n",
    "for detector in tqdm(detectors):\n",
    "    ref_sca = detector\n",
    "\n",
    "    residuals = []\n",
    "    for i, image in enumerate(images):\n",
    "        if i + 1 == ref_sca:\n",
    "            continue\n",
    "        else:\n",
    "            residuals.append(images[ref_sca - 1] - image)\n",
    "\n",
    "    mean_residual_counts.append(np.mean(np.abs(residuals)))\n",
    "\n",
    "    v = plot_util.get_v(residuals) \n",
    "\n",
    "    residuals.insert(ref_sca - 1, images[ref_sca - 1])\n",
    "\n",
    "    to_plot = residuals\n",
    "\n",
    "    show_sca_id = True\n",
    "    savefig = True\n",
    "    savepath = os.path.join(figure_dir, 'residuals_across_fov', f'residuals_across_fov_wrt_SCA{str(ref_sca).zfill(2)}.png')\n",
    "    clabel = None\n",
    "    title = None\n",
    "\n",
    "    detector = plt.figure(figsize=(10,6),dpi=300)\n",
    "    nrows, ncols = 55,91\n",
    "    grid = detector.add_gridspec(nrows=nrows,ncols=ncols,figure=detector, \n",
    "                                    width_ratios=[1]*ncols, height_ratios=[1]*nrows,\n",
    "                                    hspace=0,wspace=0.1)\n",
    "    row_begins = np.array([10,3,0,0,3,10])\n",
    "    row_ends = np.array([x+14 for x in row_begins])\n",
    "    col_begins = np.arange(0,ncols,14)\n",
    "    col_ends = np.array([x+14 for x in col_begins])\n",
    "    add_distance = [15,16,16]\n",
    "\n",
    "    axs = []\n",
    "    for row in add_distance:\n",
    "        for i in range(len(row_begins)):\n",
    "            ax = detector.add_subplot(grid[row_begins[i]:row_ends[i],col_begins[i]+1:col_ends[i]])\n",
    "            ax.tick_params(bottom=False, labelbottom=False, left=False, labelleft=False)\n",
    "            axs.append(ax)\n",
    "\n",
    "        row_begins += row\n",
    "        row_ends += row\n",
    "\n",
    "    # Argument data_array should be an array of len(N SCAs) containing arrays:\n",
    "    # data_array = np.array([np.random.rand(14,14)]*len(axs))  # TODO this is fake data\n",
    "    # data_array = np.array(np.log10(images))  # rgb_images\n",
    "    data_array = np.array(to_plot)\n",
    "    # vmin = np.nanmin(data_array.ravel())\n",
    "    # vmax = np.nanmax(data_array.ravel())\n",
    "\n",
    "    # sortidx = sca_order.argsort()\n",
    "    # sca_order = sca_order[sortidx]\n",
    "    # data_array = data_array[sortidx]\n",
    "    imsim_sca_order = np.array([9,6,3,12,15,18,8,5,2,11,14,17,7,4,1,10,13,16])-1\n",
    "\n",
    "    for i, sca in enumerate(imsim_sca_order):\n",
    "        if sca == ref_sca - 1:\n",
    "            im = axs[i].imshow(data_array[sca])  # , cmap='plasma', vmin=vmin,vmax=vmax\n",
    "        else:\n",
    "            im = axs[i].imshow(data_array[sca], cmap='bwr', vmin=-0.5, vmax=0.5)\n",
    "            \n",
    "        if show_sca_id:\n",
    "            axs[i].annotate(sca+1, xy=(0,2), fontsize=12)\n",
    "\n",
    "    # cbar_ax = detector.add_subplot(grid[:,-4:-1])\n",
    "    # cbar = plt.colorbar(im, cax=cbar_ax)\n",
    "    # if clabel is not None:\n",
    "    #     cbar.set_label(clabel, labelpad=20, fontsize=18, rotation=270)\n",
    "    if title is not None:\n",
    "        plt.suptitle(title, y=0.93, fontsize=18)\n",
    "    if savefig:\n",
    "        plt.savefig(savepath, dpi=300, bbox_inches='tight')\n",
    "\n",
    "    plt.close()"
   ]
  },
  {
   "cell_type": "code",
   "execution_count": null,
   "metadata": {},
   "outputs": [],
   "source": [
    "for i, mean in enumerate(mean_residual_counts):\n",
    "    print(f\"Mean residual counts for SCA{str(i+1).zfill(2)}: {np.abs(mean):.6f}\")"
   ]
  },
  {
   "cell_type": "code",
   "execution_count": null,
   "metadata": {},
   "outputs": [],
   "source": [
    "to_plot = [np.ones((14, 14)) * u for u in mean_residual_counts]\n",
    "\n",
    "vmin = np.min(mean_residual_counts)\n",
    "vmax = np.max(mean_residual_counts)"
   ]
  },
  {
   "cell_type": "code",
   "execution_count": null,
   "metadata": {},
   "outputs": [],
   "source": [
    "show_sca_id = True\n",
    "savefig = True\n",
    "savepath = os.path.join(figure_dir, 'residuals_across_fov', 'abs_error.png')\n",
    "clabel = None\n",
    "title = None\n",
    "\n",
    "detector = plt.figure(figsize=(10,6),dpi=300)\n",
    "nrows, ncols = 55,91\n",
    "grid = detector.add_gridspec(nrows=nrows,ncols=ncols,figure=detector, \n",
    "                                width_ratios=[1]*ncols, height_ratios=[1]*nrows,\n",
    "                                hspace=0,wspace=0.1)\n",
    "row_begins = np.array([10,3,0,0,3,10])\n",
    "row_ends = np.array([x+14 for x in row_begins])\n",
    "col_begins = np.arange(0,ncols,14)\n",
    "col_ends = np.array([x+14 for x in col_begins])\n",
    "add_distance = [15,16,16]\n",
    "\n",
    "axs = []\n",
    "for row in add_distance:\n",
    "    for i in range(len(row_begins)):\n",
    "        ax = detector.add_subplot(grid[row_begins[i]:row_ends[i],col_begins[i]+1:col_ends[i]])\n",
    "        ax.tick_params(bottom=False, labelbottom=False, left=False, labelleft=False)\n",
    "        axs.append(ax)\n",
    "\n",
    "    row_begins += row\n",
    "    row_ends += row\n",
    "\n",
    "# Argument data_array should be an array of len(N SCAs) containing arrays:\n",
    "# data_array = np.array([np.random.rand(14,14)]*len(axs))  # TODO this is fake data\n",
    "# data_array = np.array(np.log10(images))  # rgb_images\n",
    "data_array = np.array(to_plot)\n",
    "# vmin = np.nanmin(data_array.ravel())\n",
    "# vmax = np.nanmax(data_array.ravel())\n",
    "\n",
    "# sortidx = sca_order.argsort()\n",
    "# sca_order = sca_order[sortidx]\n",
    "# data_array = data_array[sortidx]\n",
    "imsim_sca_order = np.array([9,6,3,12,15,18,8,5,2,11,14,17,7,4,1,10,13,16])-1\n",
    "\n",
    "for i, sca in enumerate(imsim_sca_order):\n",
    "    im = axs[i].imshow(data_array[sca], vmin=vmin, vmax=vmax)  # , cmap='plasma', vmin=vmin,vmax=vmax\n",
    "        \n",
    "    if show_sca_id:\n",
    "        axs[i].annotate(sca+1, xy=(0,2), fontsize=12)\n",
    "\n",
    "cbar_ax = detector.add_subplot(grid[:,-4:-1])\n",
    "cbar = plt.colorbar(im, cax=cbar_ax)\n",
    "# if clabel is not None:\n",
    "#     cbar.set_label(clabel, labelpad=20, fontsize=18, rotation=270)\n",
    "if title is not None:\n",
    "    plt.suptitle(title, y=0.93, fontsize=18)\n",
    "if savefig:\n",
    "    plt.savefig(savepath, dpi=300, bbox_inches='tight')\n",
    "\n",
    "plt.show()"
   ]
  }
 ],
 "metadata": {
  "kernelspec": {
   "display_name": "mejiro",
   "language": "python",
   "name": "python3"
  },
  "language_info": {
   "codemirror_mode": {
    "name": "ipython",
    "version": 3
   },
   "file_extension": ".py",
   "mimetype": "text/x-python",
   "name": "python",
   "nbconvert_exporter": "python",
   "pygments_lexer": "ipython3",
   "version": "3.10.6"
  }
 },
 "nbformat": 4,
 "nbformat_minor": 2
}
