{
 "cells": [
  {
   "cell_type": "code",
   "execution_count": 1,
   "metadata": {
    "ExecuteTime": {
     "end_time": "2024-03-12T19:25:30.551260Z",
     "start_time": "2024-03-12T19:25:29.637611Z"
    }
   },
   "outputs": [],
   "source": [
    "\n",
    "import matplotlib.pyplot as plt\n",
    "import numpy as np\n",
    "import sys\n",
    "%matplotlib inline\n",
    "from hydra import initialize, compose\n",
    "\n",
    "import astropy.cosmology as astropy_cosmo\n",
    "import astropy.units as u\n",
    "import astropy.cosmology.units as cu\n",
    "\n",
    "# set paths to various directories based on the machine this code is being executed on\n",
    "with initialize(version_base=None, config_path='config'):\n",
    "    config = compose(config_name='config.yaml', overrides=['machine=local'])  # \n",
    "\n",
    "array_dir, data_dir, figure_dir, pickle_dir, repo_dir = config.machine.array_dir, config.machine.data_dir, config.machine.figure_dir, config.machine.pickle_dir, config.machine.repo_dir\n",
    "\n",
    "# enable use of local modules\n",
    "if repo_dir not in sys.path:\n",
    "    sys.path.append(repo_dir)\n",
    "\n",
    "# set matplotlib style\n",
    "plt.style.use(f'{repo_dir}/mejiro/mplstyle/science.mplstyle')"
   ]
  },
  {
   "cell_type": "code",
   "execution_count": 2,
   "metadata": {
    "ExecuteTime": {
     "end_time": "2024-03-12T19:25:30.564068Z",
     "start_time": "2024-03-12T19:25:30.552910Z"
    }
   },
   "outputs": [],
   "source": [
    "cosmo = astropy_cosmo.default_cosmology.get()\n",
    "\n",
    "# calculate comoving distance to lens in Mpc\n",
    "z_l = 0.5 * cu.redshift\n",
    "d_l = z_l.to(u.Gpc, cu.redshift_distance(cosmo, kind='comoving')).value\n",
    "\n",
    "# calculate comoving distance to source in Mpc\n",
    "z_s = 2. * cu.redshift\n",
    "d_s = z_s.to(u.Gpc, cu.redshift_distance(cosmo, kind='comoving')).value\n",
    "\n",
    "# calculate comoving distance between source and lens in Mpc\n",
    "d_ls = d_s - d_l"
   ]
  },
  {
   "cell_type": "code",
   "outputs": [],
   "source": [
    "def get_einstein_radius(m, d_l, d_s, d_ls):\n",
    "    return np.sqrt(m / 10 ** 11.09) * np.sqrt(d_ls / (d_l * d_s))"
   ],
   "metadata": {
    "collapsed": false,
    "ExecuteTime": {
     "end_time": "2024-03-12T19:25:30.566897Z",
     "start_time": "2024-03-12T19:25:30.564512Z"
    }
   },
   "execution_count": 3
  },
  {
   "cell_type": "code",
   "outputs": [
    {
     "name": "stdout",
     "output_type": "stream",
     "text": [
      "0.2928776100165746\n"
     ]
    }
   ],
   "source": [
    "mass = 0.03243293350855620 * 10 ** 12  # 10 ** 11\n",
    "theta_E = get_einstein_radius(mass, d_l, d_s, d_ls)\n",
    "print(theta_E)"
   ],
   "metadata": {
    "collapsed": false,
    "ExecuteTime": {
     "end_time": "2024-03-12T19:25:30.569659Z",
     "start_time": "2024-03-12T19:25:30.567215Z"
    }
   },
   "execution_count": 4
  },
  {
   "cell_type": "code",
   "outputs": [],
   "source": [
    "def get_stellar_mass(theta_E, d_l, d_s, d_ls):\n",
    "    return ((d_l * d_s) / d_ls) * (theta_E ** 2) * (10 ** 11.09)"
   ],
   "metadata": {
    "collapsed": false,
    "ExecuteTime": {
     "end_time": "2024-03-12T19:25:30.574436Z",
     "start_time": "2024-03-12T19:25:30.570982Z"
    }
   },
   "execution_count": 5
  },
  {
   "cell_type": "code",
   "outputs": [
    {
     "name": "stdout",
     "output_type": "stream",
     "text": [
      "32432933508.5562\n"
     ]
    }
   ],
   "source": [
    "stellar_mass = get_stellar_mass(theta_E, d_l, d_s, d_ls)\n",
    "print(stellar_mass)"
   ],
   "metadata": {
    "collapsed": false,
    "ExecuteTime": {
     "end_time": "2024-03-12T19:25:30.593649Z",
     "start_time": "2024-03-12T19:25:30.573927Z"
    }
   },
   "execution_count": 6
  }
 ],
 "metadata": {
  "kernelspec": {
   "display_name": "mejiro",
   "language": "python",
   "name": "python3"
  },
  "language_info": {
   "codemirror_mode": {
    "name": "ipython",
    "version": 3
   },
   "file_extension": ".py",
   "mimetype": "text/x-python",
   "name": "python",
   "nbconvert_exporter": "python",
   "pygments_lexer": "ipython3",
   "version": "3.10.6"
  }
 },
 "nbformat": 4,
 "nbformat_minor": 2
}
