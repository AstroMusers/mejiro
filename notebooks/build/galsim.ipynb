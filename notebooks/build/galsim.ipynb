{
 "cells": [
  {
   "cell_type": "code",
   "execution_count": 6,
   "metadata": {},
   "outputs": [],
   "source": [
    "import datetime\n",
    "import os\n",
    "import sys\n",
    "\n",
    "import numpy as np\n",
    "import matplotlib\n",
    "import matplotlib.pyplot as plt\n",
    "from matplotlib import colors\n",
    "from hydra import initialize, compose\n",
    "import pickle\n",
    "from glob import glob\n",
    "\n",
    "# set paths to various directories based on the machine this code is being executed on\n",
    "with initialize(version_base=None, config_path='../../config'):\n",
    "    config = compose(config_name='config.yaml')  # overrides=['machine=uzay']\n",
    "\n",
    "array_dir, data_dir, figure_dir, pickle_dir, repo_dir  = config.machine.array_dir, config.machine.data_dir, config.machine.figure_dir, config.machine.pickle_dir, config.machine.repo_dir\n",
    "\n",
    "# enable use of local modules\n",
    "if repo_dir not in sys.path:\n",
    "    sys.path.append(repo_dir)\n",
    "\n",
    "# set matplotlib style\n",
    "plt.style.use(f'{repo_dir}/mejiro/mplstyle/science.mplstyle')\n",
    "\n",
    "from mejiro.lenses.test import SampleSkyPyLens\n",
    "from mejiro.plots import diagnostic_plot, plot, plot_util, overplot\n",
    "from mejiro.analysis import stats\n",
    "from mejiro.utils import util\n",
    "from mejiro.helpers import pyhalo"
   ]
  },
  {
   "cell_type": "code",
   "execution_count": 92,
   "metadata": {},
   "outputs": [],
   "source": [
    "index = 0\n",
    "band = 'f106'\n",
    "filter_name = 'Y106'\n",
    "\n",
    "path = os.path.join(config.machine.dir_03, f'lens_dict_{str(index).zfill(8)}_{band.lower()}')\n",
    "lens_dict = util.unpickle(path)\n",
    "\n",
    "lens = lens_dict['lens']\n",
    "# model = lens_dict['model']\n",
    "model = lens.get_array(num_pix=45, side=4.95)"
   ]
  },
  {
   "cell_type": "code",
   "execution_count": 93,
   "metadata": {},
   "outputs": [
    {
     "name": "stdout",
     "output_type": "stream",
     "text": [
      "(45, 45)\n"
     ]
    },
    {
     "data": {
      "image/png": "[encoded data removed]",
      "text/plain": [
       "<Figure size 700x525 with 2 Axes>"
      ]
     },
     "metadata": {},
     "output_type": "display_data"
    }
   ],
   "source": [
    "print(model.shape)\n",
    "plot.plot(model, colorbar=True)"
   ]
  },
  {
   "cell_type": "code",
   "execution_count": 94,
   "metadata": {},
   "outputs": [],
   "source": [
    "import galsim\n",
    "from galsim import roman\n",
    "from galsim import InterpolatedImage"
   ]
  },
  {
   "cell_type": "code",
   "execution_count": 95,
   "metadata": {},
   "outputs": [],
   "source": [
    "roman_filters = roman.getBandpasses(AB_zeropoint=True)\n",
    "bandpass = roman_filters[filter_name]\n",
    "\n",
    "use_SCA = 1\n",
    "\n",
    "ra_targ = galsim.Angle.from_hms('16:01:41.01257')\n",
    "dec_targ = galsim.Angle.from_dms('66:48:10.1312')\n",
    "targ_pos = galsim.CelestialCoord(ra=ra_targ, dec=dec_targ)\n",
    "\n",
    "date = datetime.datetime(2025, 5, 16)\n",
    "\n",
    "wcs_dict = roman.getWCS(world_pos=targ_pos, SCAs=use_SCA, date=date)\n",
    "wcs = wcs_dict[use_SCA]"
   ]
  },
  {
   "cell_type": "code",
   "execution_count": 96,
   "metadata": {},
   "outputs": [],
   "source": [
    "pixel_side, _ = model.shape"
   ]
  },
  {
   "cell_type": "code",
   "execution_count": 97,
   "metadata": {},
   "outputs": [],
   "source": [
    "full_image = galsim.Image(model * 100, scale=0.03667, copy=True)\n",
    "# full_image = galsim.InterpolatedImage(galsim.Image(model), scale = 0.03667, flux = 1000)"
   ]
  },
  {
   "cell_type": "code",
   "execution_count": 98,
   "metadata": {},
   "outputs": [],
   "source": [
    "# Create the PSF\n",
    "# We are ignoring the position-dependence of the PSF within each SCA, just using the PSF\n",
    "# at the center of the sensor.\n",
    "# Note: pupil_bin=8 is faster at the expense of lower resolution for the diffraction spikes.\n",
    "# The n_waves keyword calculates this many PSF models in advance at different wavelengths\n",
    "# which we can interpolate between when drawing the galaxies.  For more accuracy w.r.t.\n",
    "# the chromaticity, you can increase this value of `n_waves`.\n",
    "# Note: Removing n_waves parameter would actually be both slower and less accurate, since\n",
    "# the OpticalPSF model would redo the wavefront calculation for each object, and then\n",
    "# would still make an approximation that would be similar to n_waves=3.\n",
    "psf = roman.getPSF(use_SCA, filter_name, n_waves=10, wcs=wcs, pupil_bin=8)\n",
    "\n",
    "# Set up the full image for the galaxies\n",
    "# full_image = galsim.ImageF(pixel_side, pixel_side, wcs=wcs)\n",
    "\n",
    "# Also separately build up the sky image, which we need to get the noise right,\n",
    "# even though we'll subtract off the expectation of the sky image.\n",
    "sky_image = galsim.ImageF(pixel_side, pixel_side, wcs=wcs)\n",
    "\n",
    "# We have one rng for image-level stuff, and two others for the stars and galaxies.\n",
    "# There are simpler ways to do this in a python script (e.g. probably only need 2\n",
    "# rngs, not 3), but this way of setting it up matches the way the config file initializes\n",
    "# the random number generators.\n",
    "# Also, note that the second seed given in the config file, doesn't get the\n",
    "# BaseDeviate(...).raw() treatment.  Only the first item, which parses as an int.\n",
    "# When a random_seed config item is already a dict, GalSim leaves it as is.\n",
    "image_rng = galsim.UniformDeviate(42)\n",
    "\n",
    "# Start with the flux from the sky. This is a little easier to do first before adding\n",
    "# the light from the objects, since we will have to apply Poisson noise to the sky flux\n",
    "# manually, but the photon shooting will automatically include Poisson noise for the\n",
    "# objects.\n",
    "\n",
    "# First we get the amount of zodaical light for a position corresponding to the center of\n",
    "# this SCA.  The results are provided in units of e-/arcsec^2, using the default Roman\n",
    "# exposure time since we did not explicitly specify one.  Then we multiply this by a factor\n",
    "# >1 to account for the amount of stray light that is expected.  If we do not provide a date\n",
    "# for the observation, then it will assume that it's the vernal equinox (sun at (0,0) in\n",
    "# ecliptic coordinates) in 2025.\n",
    "SCA_cent_pos = wcs.toWorld(sky_image.true_center)\n",
    "sky_level = roman.getSkyLevel(bandpass, world_pos=SCA_cent_pos)\n",
    "sky_level *= (1.0 + roman.stray_light_fraction)\n",
    "\n",
    "# Note that makeSkyImage() takes a bit of time. If you do not care about the variable pixel\n",
    "# scale, you could simply compute an approximate sky level in e-/pix by multiplying\n",
    "# sky_level by roman.pixel_scale**2, and add that to sky_image.\n",
    "wcs.makeSkyImage(sky_image, sky_level)\n",
    "\n",
    "# The other background is the expected thermal backgrounds in this band.\n",
    "# These are provided in e-/pix/s, so we have to multiply by the exposure time.\n",
    "sky_image += roman.thermal_backgrounds[filter_name] * roman.exptime"
   ]
  },
  {
   "cell_type": "code",
   "execution_count": 99,
   "metadata": {},
   "outputs": [
    {
     "name": "stdout",
     "output_type": "stream",
     "text": [
      "Included reciprocity failure in Y106-band image\n",
      "Applied nonlinearity to Y106-band image\n",
      "Applied interpixel capacitance to Y106-band image\n",
      "Added readnoise to Y106-band image\n"
     ]
    }
   ],
   "source": [
    "# At this point in the image generation process, an integer number of photons gets\n",
    "# detected.  Because of how GalSim's photon shooting works for InterpolatedImage\n",
    "# (used implicitly in the PSF implementation), the image has non-integral values at this\n",
    "# point.  So the first thing we do is quantize that to an integer number of photons.\n",
    "full_image.quantize()\n",
    "\n",
    "# Add the sky image.  Note: the galaxies already have Poisson noise because we are photon\n",
    "# shooting, but the sky image does not.  We want to preserve the expectation value of the\n",
    "# sky image (to subtract it off below), so we need a copy, which we can add noise to.\n",
    "poisson_noise = galsim.PoissonNoise(image_rng)\n",
    "sky_image_realized = sky_image.copy()\n",
    "sky_image_realized.addNoise(poisson_noise)\n",
    "full_image += sky_image_realized\n",
    "\n",
    "# Now that all sources of signal (from astronomical objects and background) have been added\n",
    "# to the image, we can start adding noise and detector effects.  There is a utility,\n",
    "# galsim.roman.allDetectorEffects(), that can apply ALL implemented noise and detector\n",
    "# effects in the proper order.  Here we step through the process and explain these in a bit\n",
    "# more detail without using that utility.\n",
    "\n",
    "# The subsequent steps account for the non-ideality of the detectors.\n",
    "\n",
    "# 1) Reciprocity failure:\n",
    "# Reciprocity, in the context of photography, is the inverse relationship between the\n",
    "# incident flux (I) of a source object and the exposure time (t) required to produce a given\n",
    "# response(p) in the detector, i.e., p = I*t. However, in NIR detectors, this relation does\n",
    "# not hold always. The pixel response to a high flux is larger than its response to a low\n",
    "# flux. This flux-dependent non-linearity is known as 'reciprocity failure', and the\n",
    "# approximate amount of reciprocity failure for the Roman detectors is known, so we can\n",
    "# include this detector effect in our images.\n",
    "\n",
    "# If we had wanted to, we could have specified a different exposure time than the default\n",
    "# one for Roman, but otherwise the following routine does not take any arguments.\n",
    "roman.addReciprocityFailure(full_image)\n",
    "print('Included reciprocity failure in {0}-band image'.format(filter_name))\n",
    "\n",
    "# 2) Adding dark current to the image:\n",
    "# Even when the detector is unexposed to any radiation, the electron-hole pairs that\n",
    "# are generated within the depletion region due to finite temperature are swept by the\n",
    "# high electric field at the junction of the photodiode. This small reverse bias\n",
    "# leakage current is referred to as 'dark current'. It is specified by the average\n",
    "# number of electrons reaching the detectors per unit time and has an associated\n",
    "# Poisson noise since it is a random event.\n",
    "dark_current = roman.dark_current*roman.exptime\n",
    "dark_noise = galsim.DeviateNoise(galsim.PoissonDeviate(image_rng, dark_current))\n",
    "full_image.addNoise(dark_noise)\n",
    "sky_image += dark_current # (also want to subtract this expectation value along with sky)\n",
    "\n",
    "# NOTE: Sky level and dark current might appear like a constant background that can be\n",
    "# simply subtracted. However, these contribute to the shot noise and matter for the\n",
    "# non-linear effects that follow. Hence, these must be included at this stage of the\n",
    "# image generation process. We subtract these backgrounds in the end.\n",
    "\n",
    "# 3) Applying a quadratic non-linearity:\n",
    "# In order to convert the units from electrons to ADU, we must use the gain factor. The gain\n",
    "# has a weak dependency on the charge present in each pixel. This dependency is accounted\n",
    "# for by changing the pixel values (in electrons) and applying a constant nominal gain\n",
    "# later, which is unity in our demo.\n",
    "\n",
    "# Apply the Roman nonlinearity routine, which knows all about the nonlinearity expected in\n",
    "# the Roman detectors.\n",
    "roman.applyNonlinearity(full_image)\n",
    "\n",
    "# Note that users who wish to apply some other nonlinearity function (perhaps for other NIR\n",
    "# detectors, or for CCDs) can use the more general nonlinearity routine, which uses the\n",
    "# following syntax:\n",
    "# full_image.applyNonlinearity(NLfunc=NLfunc)\n",
    "# with NLfunc being a callable function that specifies how the output image pixel values\n",
    "# should relate to the input ones.\n",
    "print('Applied nonlinearity to {0}-band image'.format(filter_name))\n",
    "\n",
    "# 4) Including Interpixel capacitance:\n",
    "# The voltage read at a given pixel location is influenced by the charges present in the\n",
    "# neighboring pixel locations due to capacitive coupling of sense nodes. This interpixel\n",
    "# capacitance effect is modeled as a linear effect that is described as a convolution of a\n",
    "# 3x3 kernel with the image.  The Roman IPC routine knows about the kernel already, so the\n",
    "# user does not have to supply it.\n",
    "roman.applyIPC(full_image)\n",
    "print('Applied interpixel capacitance to {0}-band image'.format(filter_name))\n",
    "\n",
    "# 5) Adding read noise:\n",
    "# Read noise is the noise due to the on-chip amplifier that converts the charge into an\n",
    "# analog voltage.  We already applied the Poisson noise due to the sky level, so read noise\n",
    "# should just be added as Gaussian noise:\n",
    "read_noise = galsim.GaussianNoise(image_rng, sigma=roman.read_noise)\n",
    "full_image.addNoise(read_noise)\n",
    "print('Added readnoise to {0}-band image'.format(filter_name))\n",
    "\n",
    "# We divide by the gain to convert from e- to ADU. Currently, the gain value in the Roman\n",
    "# module is just set to 1, since we don't know what the exact gain will be, although it is\n",
    "# expected to be approximately 1. Eventually, this may change when the camera is assembled,\n",
    "# and there may be a different value for each SCA. For now, there is just a single number,\n",
    "# which is equal to 1.\n",
    "full_image /= roman.gain\n",
    "sky_image /= roman.gain\n",
    "\n",
    "# Finally, the analog-to-digital converter reads in an integer value.\n",
    "full_image.quantize()\n",
    "sky_image.quantize()\n",
    "# Note that the image type after this step is still a float.  If we want to actually\n",
    "# get integer values, we can do new_img = galsim.Image(full_image, dtype=int)"
   ]
  },
  {
   "cell_type": "code",
   "execution_count": 100,
   "metadata": {},
   "outputs": [
    {
     "data": {
      "image/png": "[encoded data removed]",
      "text/plain": [
       "<Figure size 700x525 with 2 Axes>"
      ]
     },
     "metadata": {},
     "output_type": "display_data"
    }
   ],
   "source": [
    "plot.plot(full_image.array, colorbar=True)"
   ]
  },
  {
   "cell_type": "code",
   "execution_count": 101,
   "metadata": {},
   "outputs": [
    {
     "data": {
      "image/png": "[encoded data removed]",
      "text/plain": [
       "<Figure size 700x525 with 2 Axes>"
      ]
     },
     "metadata": {},
     "output_type": "display_data"
    }
   ],
   "source": [
    "plot.plot(sky_image.array, colorbar=True)"
   ]
  },
  {
   "cell_type": "code",
   "execution_count": 102,
   "metadata": {},
   "outputs": [],
   "source": [
    "# # Write the final image to a file.\n",
    "# out_filename = 'demo13_{0}.fits'.format(filter_name)\n",
    "# full_image.write(out_filename)"
   ]
  }
 ],
 "metadata": {
  "kernelspec": {
   "display_name": "mejiro",
   "language": "python",
   "name": "python3"
  },
  "language_info": {
   "codemirror_mode": {
    "name": "ipython",
    "version": 3
   },
   "file_extension": ".py",
   "mimetype": "text/x-python",
   "name": "python",
   "nbconvert_exporter": "python",
   "pygments_lexer": "ipython3",
   "version": "3.10.6"
  }
 },
 "nbformat": 4,
 "nbformat_minor": 2
}
