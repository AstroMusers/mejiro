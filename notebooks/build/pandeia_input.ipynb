{
 "cells": [
  {
   "cell_type": "code",
   "execution_count": 1,
   "metadata": {},
   "outputs": [],
   "source": [
    "import os\n",
    "import sys\n",
    "\n",
    "path = os.getcwd()\n",
    "while os.path.basename(os.path.normpath(path)) != 'roman-pandeia':\n",
    "    path = os.path.dirname(path)\n",
    "repo_path = path\n",
    "if repo_path not in sys.path:\n",
    "    sys.path.append(repo_path)"
   ]
  },
  {
   "cell_type": "code",
   "execution_count": 2,
   "metadata": {},
   "outputs": [
    {
     "name": "stderr",
     "output_type": "stream",
     "text": [
      "/data/bwedig/.conda/envs/pandeia/lib/python3.9/site-packages/numba/core/decorators.py:262: NumbaDeprecationWarning: \u001b[1mnumba.generated_jit is deprecated. Please see the documentation at: https://numba.readthedocs.io/en/stable/reference/deprecation.html#deprecation-of-generated-jit for more information and advice on a suitable replacement.\u001b[0m\n",
      "  warnings.warn(msg, NumbaDeprecationWarning)\n"
     ]
    }
   ],
   "source": [
    "import numpy as np\n",
    "import time\n",
    "import pickle\n",
    "from pprint import pprint\n",
    "from tqdm import tqdm\n",
    "import matplotlib.pyplot as plt\n",
    "from pandeia.engine.perform_calculation import perform_calculation\n",
    "from pandeia.engine.calc_utils import build_default_calc, build_default_source\n",
    "from lenstronomy.Util import data_util\n",
    "from lenstronomy.SimulationAPI.ObservationConfig.Roman import Roman\n",
    "\n",
    "from package.helpers import test_physical_lens\n",
    "from package.pandeia import pandeia_input\n",
    "from package.pandeia.pandeia_output import PandeiaOutput\n",
    "from package.plots import diagnostic_plot, plot\n",
    "\n",
    "plt.style.use(f'{repo_path}/package/mplstyle/science.mplstyle')"
   ]
  },
  {
   "cell_type": "code",
   "execution_count": 3,
   "metadata": {},
   "outputs": [
    {
     "name": "stdout",
     "output_type": "stream",
     "text": [
      "{'background': 'minzodi',\n",
      " 'background_level': 'benchmark',\n",
      " 'calculation': {'effects': {'saturation': None},\n",
      "                 'noise': {'crs': None,\n",
      "                           'dark': None,\n",
      "                           'excess': None,\n",
      "                           'ffnoise': None,\n",
      "                           'readnoise': None,\n",
      "                           'scatter': None}},\n",
      " 'configuration': {'detector': {'nexp': 1,\n",
      "                                'ngroup': 10,\n",
      "                                'nint': 1,\n",
      "                                'readout_pattern': 'deep2',\n",
      "                                'subarray': 'imaging'},\n",
      "                   'instrument': {'aperture': 'imaging',\n",
      "                                  'disperser': None,\n",
      "                                  'filter': 'f087',\n",
      "                                  'instrument': 'wfi',\n",
      "                                  'mode': 'imaging'}},\n",
      " 'scene': [{'position': {'orientation': 0.0, 'x_offset': 0.0, 'y_offset': 0.0},\n",
      "            'shape': {'geometry': 'point'},\n",
      "            'spectrum': {'extinction': {'bandpass': 'j',\n",
      "                                        'law': 'mw_rv_31',\n",
      "                                        'unit': 'mag',\n",
      "                                        'value': 0.0},\n",
      "                         'lines': [],\n",
      "                         'name': 'generic source',\n",
      "                         'normalization': {'norm_flux': 0.001,\n",
      "                                           'norm_fluxunit': 'mjy',\n",
      "                                           'norm_wave': 2.0,\n",
      "                                           'norm_waveunit': 'microns',\n",
      "                                           'type': 'at_lambda'},\n",
      "                         'redshift': 0.0,\n",
      "                         'sed': {'sed_type': 'flat',\n",
      "                                 'unit': 'fnu',\n",
      "                                 'z': 0.0}}}],\n",
      " 'strategy': {'aperture_size': 0.2,\n",
      "              'background_subtraction': True,\n",
      "              'display_string': 'Imaging Aperture Photometry',\n",
      "              'is_aperture_ee': False,\n",
      "              'method': 'imagingapphot',\n",
      "              'sky_annulus': [0.4, 0.6],\n",
      "              'target_source': '1',\n",
      "              'target_type': 'coords',\n",
      "              'target_xy': [0.0, 0.0],\n",
      "              'units': 'arcsec'}}\n"
     ]
    }
   ],
   "source": [
    "calc = build_default_calc('roman','wfi','imaging')\n",
    "pprint(calc)"
   ]
  },
  {
   "cell_type": "code",
   "execution_count": 4,
   "metadata": {},
   "outputs": [
    {
     "name": "stdout",
     "output_type": "stream",
     "text": [
      "{'position': {'orientation': 0.0, 'x_offset': 0.0, 'y_offset': 0.0},\n",
      " 'shape': {'geometry': 'point'},\n",
      " 'spectrum': {'extinction': {'bandpass': 'j',\n",
      "                             'law': 'mw_rv_31',\n",
      "                             'unit': 'mag',\n",
      "                             'value': 0.0},\n",
      "              'lines': [],\n",
      "              'name': 'generic source',\n",
      "              'normalization': {'norm_flux': 0.001,\n",
      "                                'norm_fluxunit': 'mjy',\n",
      "                                'norm_wave': 2.0,\n",
      "                                'norm_waveunit': 'microns',\n",
      "                                'type': 'at_lambda'},\n",
      "              'redshift': 0.0,\n",
      "              'sed': {'sed_type': 'flat', 'unit': 'fnu', 'z': 0.0}}}\n"
     ]
    }
   ],
   "source": [
    "pprint(build_default_source(geometry='point', telescope='roman'))"
   ]
  }
 ],
 "metadata": {
  "kernelspec": {
   "display_name": "pandeia",
   "language": "python",
   "name": "python3"
  },
  "language_info": {
   "codemirror_mode": {
    "name": "ipython",
    "version": 3
   },
   "file_extension": ".py",
   "mimetype": "text/x-python",
   "name": "python",
   "nbconvert_exporter": "python",
   "pygments_lexer": "ipython3",
   "version": "3.9.13"
  }
 },
 "nbformat": 4,
 "nbformat_minor": 2
}
