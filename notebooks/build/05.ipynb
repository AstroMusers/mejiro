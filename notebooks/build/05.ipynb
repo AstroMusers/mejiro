{
 "cells": [
  {
   "cell_type": "code",
   "execution_count": 8,
   "metadata": {},
   "outputs": [],
   "source": [
    "import os\n",
    "import sys\n",
    "\n",
    "import numpy as np\n",
    "import matplotlib\n",
    "import matplotlib.pyplot as plt\n",
    "from matplotlib import colors\n",
    "from hydra import initialize, compose\n",
    "import pickle\n",
    "from glob import glob\n",
    "\n",
    "# set paths to various directories based on the machine this code is being executed on\n",
    "with initialize(version_base=None, config_path='../../config'):\n",
    "    config = compose(config_name='config.yaml')  # overrides=['machine=uzay']\n",
    "\n",
    "array_dir, data_dir, figure_dir, pickle_dir, repo_dir  = config.machine.array_dir, config.machine.data_dir, config.machine.figure_dir, config.machine.pickle_dir, config.machine.repo_dir\n",
    "\n",
    "# enable use of local modules\n",
    "if repo_dir not in sys.path:\n",
    "    sys.path.append(repo_dir)\n",
    "\n",
    "# set matplotlib style\n",
    "plt.style.use(f'{repo_dir}/mejiro/mplstyle/science.mplstyle')\n",
    "\n",
    "from mejiro.lenses.test import SampleSkyPyLens\n",
    "from mejiro.plots import diagnostic_plot, plot, plot_util, overplot\n",
    "from mejiro.analysis import stats\n",
    "from mejiro.utils import util\n",
    "from mejiro.helpers import pyhalo"
   ]
  },
  {
   "cell_type": "code",
   "execution_count": 9,
   "metadata": {},
   "outputs": [],
   "source": [
    "array_dir, repo_dir, pickle_dir = config.machine.array_dir, config.machine.repo_dir, config.machine.pickle_dir\n",
    "\n",
    "# enable use of local packages\n",
    "if repo_dir not in sys.path:\n",
    "    sys.path.append(repo_dir)\n",
    "from mejiro.utils import util\n",
    "\n",
    "# directory to write the output to\n",
    "output_dir = os.path.join(array_dir, '05_color')\n",
    "util.create_directory_if_not_exists(output_dir)\n",
    "util.clear_directory(output_dir)\n",
    "\n",
    "# open pandeia arrays\n",
    "input_dir = config.machine.pandeia_dir\n",
    "file_list = glob(input_dir + '/*.npy')\n",
    "num = int(len(file_list) / 4 - 100)  # TODO TEMP\n",
    "pandeia_list = []\n",
    "for i in range(num):\n",
    "    f106 = np.load(input_dir + f'/pandeia_{str(i).zfill(8)}_f106.npy')\n",
    "    f129 = np.load(input_dir + f'/pandeia_{str(i).zfill(8)}_f129.npy')\n",
    "    f158 = np.load(input_dir + f'/pandeia_{str(i).zfill(8)}_f158.npy')\n",
    "    f184 = np.load(input_dir + f'/pandeia_{str(i).zfill(8)}_f184.npy')\n",
    "    rgb_tuple = (f106, f129, f184, output_dir, str(i).zfill(8))\n",
    "    pandeia_list.append(rgb_tuple)"
   ]
  }
 ],
 "metadata": {
  "kernelspec": {
   "display_name": "pandeia",
   "language": "python",
   "name": "python3"
  },
  "language_info": {
   "codemirror_mode": {
    "name": "ipython",
    "version": 3
   },
   "file_extension": ".py",
   "mimetype": "text/x-python",
   "name": "python",
   "nbconvert_exporter": "python",
   "pygments_lexer": "ipython3",
   "version": "3.10.6"
  }
 },
 "nbformat": 4,
 "nbformat_minor": 2
}
