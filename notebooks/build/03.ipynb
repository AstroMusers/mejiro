{
 "cells": [
  {
   "cell_type": "code",
   "execution_count": 1,
   "metadata": {},
   "outputs": [],
   "source": [
    "import os\n",
    "import sys\n",
    "\n",
    "path = os.getcwd()\n",
    "while os.path.basename(os.path.normpath(path)) != 'roman-pandeia':\n",
    "    path = os.path.dirname(path)\n",
    "repo_path = path\n",
    "if repo_path not in sys.path:\n",
    "    sys.path.append(repo_path)"
   ]
  },
  {
   "cell_type": "code",
   "execution_count": 2,
   "metadata": {},
   "outputs": [],
   "source": [
    "import os\n",
    "import sys\n",
    "import numpy as np\n",
    "import matplotlib.pyplot as plt\n",
    "from matplotlib import colors\n",
    "from glob import glob\n",
    "import multiprocessing\n",
    "import pandas as pd\n",
    "from tqdm import tqdm\n",
    "import time\n",
    "from copy import deepcopy\n",
    "from multiprocessing import Pool\n",
    "from hydra import initialize, compose\n",
    "import pickle\n",
    "\n",
    "from package.helpers.test_physical_lens import TestPhysicalLens\n",
    "from package.helpers.lens import Lens\n",
    "from package.plots import diagnostic_plot, plot\n",
    "from package.utils import util\n",
    "from package.scripts import generate\n",
    "from package.helpers import pyhalo\n"
   ]
  },
  {
   "cell_type": "code",
   "execution_count": 3,
   "metadata": {},
   "outputs": [],
   "source": [
    "def get_model(lens):\n",
    "    return lens.get_array(num_pix=51, side=5.61)"
   ]
  },
  {
   "cell_type": "code",
   "execution_count": 4,
   "metadata": {},
   "outputs": [],
   "source": [
    "with initialize(version_base=None, config_path='../../config'):\n",
    "    config = compose(config_name='config.yaml')  # overrides=['machine=uzay']\n",
    "\n",
    "array_dir, data_dir, repo_dir, pickle_dir = config.machine.array_dir, config.machine.data_dir, config.machine.repo_dir, config.machine.pickle_dir\n",
    "array_dir = os.path.join(array_dir, 'skypy_output')\n",
    "util.create_directory_if_not_exists(array_dir)"
   ]
  },
  {
   "cell_type": "code",
   "execution_count": 5,
   "metadata": {},
   "outputs": [],
   "source": [
    "# open pickled lens list\n",
    "with open(os.path.join(pickle_dir, 'skypy_output_lens_list_with_subhalos'), 'rb') as results_file:\n",
    "    lens_list = pickle.load(results_file)"
   ]
  },
  {
   "cell_type": "code",
   "execution_count": 6,
   "metadata": {},
   "outputs": [],
   "source": [
    "# split up the lenses into batches based on core count\n",
    "cpu_count = multiprocessing.cpu_count()\n",
    "process_count = int(cpu_count / 2)  # TODO consider making this larger, but using all CPUs has crashed\n",
    "generator = util.batch_list(lens_list, process_count)\n",
    "batches = list(generator)"
   ]
  },
  {
   "cell_type": "code",
   "execution_count": 11,
   "metadata": {},
   "outputs": [
    {
     "name": "stderr",
     "output_type": "stream",
     "text": [
      "100%|██████████| 5/5 [00:04<00:00,  1.22it/s]\n"
     ]
    }
   ],
   "source": [
    "i = 0\n",
    "\n",
    "# process the batches\n",
    "for batch in tqdm(batches):\n",
    "    pool = Pool(processes=process_count) \n",
    "    for output in pool.map(get_model, batch):\n",
    "        (model) = output\n",
    "        np.save(os.path.join(array_dir, f'skypy_output_{str(i).zfill(8)}.npy'), model)\n",
    "        i += 1"
   ]
  }
 ],
 "metadata": {
  "kernelspec": {
   "display_name": "pandeia",
   "language": "python",
   "name": "python3"
  },
  "language_info": {
   "codemirror_mode": {
    "name": "ipython",
    "version": 3
   },
   "file_extension": ".py",
   "mimetype": "text/x-python",
   "name": "python",
   "nbconvert_exporter": "python",
   "pygments_lexer": "ipython3",
   "version": "3.9.13"
  }
 },
 "nbformat": 4,
 "nbformat_minor": 2
}
