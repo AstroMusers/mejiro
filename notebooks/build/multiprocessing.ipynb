{
 "cells": [
  {
   "cell_type": "code",
   "execution_count": null,
   "metadata": {},
   "outputs": [],
   "source": [
    "import os\n",
    "import sys\n",
    "\n",
    "path = os.getcwd()\n",
    "while os.path.basename(os.path.normpath(path)) != 'roman-pandeia':\n",
    "    path = os.path.dirname(path)\n",
    "repo_path = path\n",
    "if repo_path not in sys.path:\n",
    "    sys.path.append(repo_path)"
   ]
  },
  {
   "cell_type": "code",
   "execution_count": null,
   "metadata": {},
   "outputs": [],
   "source": [
    "import numpy as np\n",
    "import matplotlib.pyplot as plt\n",
    "from matplotlib import colors\n",
    "from glob import glob\n",
    "import multiprocessing\n",
    "import pandas as pd\n",
    "from tqdm import tqdm\n",
    "import time\n",
    "from copy import deepcopy\n",
    "from multiprocessing import Pool\n",
    "\n",
    "from package.helpers.test_physical_lens import TestPhysicalLens\n",
    "from package.helpers.lens import Lens\n",
    "from package.plots import diagnostic_plot, plot\n",
    "from package.utils import util\n",
    "from package.scripts import generate\n",
    "from package.helpers import pyhalo\n",
    "\n",
    "plt.style.use(f'{repo_path}/package/mplstyle/science.mplstyle')"
   ]
  },
  {
   "cell_type": "code",
   "execution_count": null,
   "metadata": {},
   "outputs": [],
   "source": [
    "data_dir = os.path.join('/data','bwedig', 'roman-pandeia')\n",
    "array_dir = os.path.join(data_dir, 'output', 'arrays', 'multiprocessing')\n",
    "util.create_directory_if_not_exists(array_dir)\n",
    "\n",
    "# get path to Roman instrument params CSV\n",
    "roman_params_csv = os.path.join(repo_path, 'data', 'roman_spacecraft_and_instrument_parameters.csv')\n",
    "\n",
    "# get output of SkyPy pipeline\n",
    "df = pd.read_csv(os.path.join('/data','bwedig', 'roman-population', 'data', 'dictparaggln_Area00000010.csv'))"
   ]
  },
  {
   "cell_type": "code",
   "execution_count": null,
   "metadata": {},
   "outputs": [],
   "source": [
    "limit = 200\n",
    "total = deepcopy(limit)\n",
    "lens_list = []"
   ]
  },
  {
   "cell_type": "code",
   "execution_count": null,
   "metadata": {},
   "outputs": [],
   "source": [
    "# generate the lens objects\n",
    "for i, row in tqdm(df.iterrows(), total=total):\n",
    "    if i == limit:\n",
    "        break\n",
    "\n",
    "    # select only the cool ones lmao\n",
    "    # if row['numbimag'] == 1.0:\n",
    "    #     limit += 1\n",
    "    #     continue\n",
    "\n",
    "    lens = Lens(z_lens = row['redslens'], \n",
    "                z_source=row['redssour'], \n",
    "                sigma_v=row['velodisp'], \n",
    "                lens_x=row['xposlens'], \n",
    "                lens_y=row['yposlens'], \n",
    "                source_x=row['xpossour'], \n",
    "                source_y=row['ypossour'], \n",
    "                mag_lens=row['magtlensF106'], \n",
    "                mag_source=row['magtsourF106'])\n",
    "    \n",
    "    # add CDM subhalos\n",
    "    lens.add_subhalos(*pyhalo.generate_CDM_halos(lens.z_lens, lens.z_source))\n",
    "    \n",
    "    lens_list.append(lens)"
   ]
  },
  {
   "cell_type": "code",
   "execution_count": null,
   "metadata": {},
   "outputs": [],
   "source": [
    "cpu_count = multiprocessing.cpu_count()\n",
    "generator = util.batch_list(lens_list, cpu_count)\n",
    "batches = list(generator)"
   ]
  },
  {
   "cell_type": "code",
   "execution_count": null,
   "metadata": {},
   "outputs": [],
   "source": [
    "for batch in tqdm(batches):\n",
    "    pool = Pool(processes=cpu_count) \n",
    "    output = []\n",
    "    for each in pool.map(generate.main, batch):\n",
    "        output.append(each)"
   ]
  },
  {
   "cell_type": "code",
   "execution_count": null,
   "metadata": {},
   "outputs": [],
   "source": [
    "image_list, execution_times, num_point_sources = [], [], []\n",
    "\n",
    "for tuple in output:\n",
    "    (image, execution_time, num_ps) = tuple\n",
    "    image_list.append(image)\n",
    "    execution_times.append(execution_time)\n",
    "    num_point_sources.append(num_ps)"
   ]
  },
  {
   "cell_type": "code",
   "execution_count": null,
   "metadata": {},
   "outputs": [],
   "source": [
    "image_list = [i for i in image_list if i is not None]\n",
    "\n",
    "plot.plot_grid(image_list, side=16)"
   ]
  },
  {
   "cell_type": "code",
   "execution_count": null,
   "metadata": {},
   "outputs": [],
   "source": [
    "for image in image_list:\n",
    "    np.save(os.path.join(array_dir, f'skypy_output_{str(i).zfill(5)}'), image)"
   ]
  },
  {
   "cell_type": "code",
   "execution_count": null,
   "metadata": {},
   "outputs": [],
   "source": [
    "# save lists of execution times\n",
    "np.save(os.path.join(array_dir, 'skypy_output_execution_times.npy'), execution_times)\n",
    "np.save(os.path.join(array_dir, 'skypy_output_num_point_sources.npy'), num_point_sources)"
   ]
  }
 ],
 "metadata": {
  "kernelspec": {
   "display_name": "pandeia",
   "language": "python",
   "name": "python3"
  },
  "language_info": {
   "codemirror_mode": {
    "name": "ipython",
    "version": 3
   },
   "file_extension": ".py",
   "mimetype": "text/x-python",
   "name": "python",
   "nbconvert_exporter": "python",
   "pygments_lexer": "ipython3",
   "version": "3.9.13"
  }
 },
 "nbformat": 4,
 "nbformat_minor": 2
}
