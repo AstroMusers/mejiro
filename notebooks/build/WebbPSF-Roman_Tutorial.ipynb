{
 "cells": [
  {
   "cell_type": "markdown",
   "metadata": {},
   "source": [
    "# Calculating a PSF for Roman Wide Field Instrument (WFI)\n",
    "\n",
    "This demonstration notebook offers a graphical interface to the basic functionality of WebbPSF-Roman, as well an example of performing a calculation with the Python scripting interface suited for more advanced calculations.\n",
    "\n",
    "## Background and boilerplate\n",
    "\n",
    "Before we can do a calculation, we must set up the notebook by importing the packages we use and setting up logging output so we can follow the progress of the calculations. The cell below imports WebbPSF and standard scientific Python tools, and configures some options to make plots prettier.\n",
    "\n",
    "**You shouldn't need to edit anything in the next cell, just go ahead and run it.**\n",
    "\n",
    "*(Note: click in a cell and use **Shift + Enter** or click the play button <i class=\"fa-step-forward fa\"></i> above to run it)*"
   ]
  },
  {
   "cell_type": "code",
   "execution_count": 1,
   "metadata": {
    "ExecuteTime": {
     "end_time": "2023-12-31T22:05:49.466778Z",
     "start_time": "2023-12-31T22:05:47.836551Z"
    }
   },
   "outputs": [],
   "source": [
    "%matplotlib inline\n",
    "import matplotlib\n",
    "matplotlib.rcParams['figure.figsize'] = (16, 7)  # make the default figure size larger\n",
    "matplotlib.rcParams['image.interpolation'] = 'nearest'  # don't blur/smooth image plots\n",
    "from matplotlib import pyplot as plt\n",
    "import webbpsf\n",
    "import webbpsf.roman"
   ]
  },
  {
   "cell_type": "markdown",
   "metadata": {},
   "source": [
    "The next cell tells WebbPSF to log information about what it is doing so that we can watch the progress of the calculation:"
   ]
  },
  {
   "cell_type": "code",
   "execution_count": 2,
   "metadata": {
    "ExecuteTime": {
     "end_time": "2023-12-31T22:05:49.468468Z",
     "start_time": "2023-12-31T22:05:49.445135Z"
    }
   },
   "outputs": [
    {
     "name": "stdout",
     "output_type": "stream",
     "text": [
      "WebbPSF log messages of level INFO and above will be shown.\n",
      "WebbPSF log outputs will be directed to the screen.\n"
     ]
    }
   ],
   "source": [
    "webbpsf.setup_logging()"
   ]
  },
  {
   "cell_type": "markdown",
   "metadata": {},
   "source": [
    "**Note:** As you explore in this notebook, you may see certain warnings that look like this:\n",
    "\n",
    "<div class=\"output_subarea output_stderr\" style=\"font-family: monospace; margin: 1em\">Warning: something happened! </div>\n",
    "\n",
    "For the most part, warnings are safe to ignore. In particular, warnings referencing the matplotlib plotting library or the FITS library in Astropy don't indicate anything that could affect the accuracy of the calculations."
   ]
  },
  {
   "cell_type": "markdown",
   "metadata": {},
   "source": [
    "# Using the WFI model in WebbPSF\n",
    "\n",
    "Each instrument in WebbPSF is represented as a Python `class`, and the Wide Field Instrument model is in `webbpsf.roman.WFI`. We can to instantiate one to work with, in the same was as any of the JWST instruments."
   ]
  },
  {
   "cell_type": "code",
   "execution_count": 3,
   "metadata": {
    "ExecuteTime": {
     "end_time": "2023-12-31T22:05:49.563011Z",
     "start_time": "2023-12-31T22:05:49.448536Z"
    }
   },
   "outputs": [
    {
     "name": "stdout",
     "output_type": "stream",
     "text": [
      "[webbpsf] Using pupil mask 'SKINNY' and detector 'SCA01'.\n"
     ]
    }
   ],
   "source": [
    "wfi = webbpsf.roman.WFI()"
   ]
  },
  {
   "cell_type": "markdown",
   "metadata": {},
   "source": [
    "## Using the notebook interface\n",
    "\n",
    "There's a notebook-friendly interface for the Wide Field Instrument PSF model. Bring it up in your notebook by running the following cell, then experiment with the different options, or read on for more explanation.  \n",
    "\n",
    "Note that the calculations will typically take several seconds to run. "
   ]
  },
  {
   "cell_type": "code",
   "execution_count": 4,
   "metadata": {
    "scrolled": false,
    "ExecuteTime": {
     "end_time": "2023-12-31T22:05:49.811428Z",
     "start_time": "2023-12-31T22:05:49.559632Z"
    }
   },
   "outputs": [
    {
     "name": "stdout",
     "output_type": "stream",
     "text": [
      "[webbpsf] Using pupil mask 'SKINNY' and detector 'SCA01'.\n"
     ]
    },
    {
     "ename": "ImportError",
     "evalue": "cannot import name 'MatplotlibDeprecationWarning' from 'matplotlib.cbook' (/Users/brycewedig/miniconda3/envs/webbpsf/lib/python3.12/site-packages/matplotlib/cbook.py)",
     "output_type": "error",
     "traceback": [
      "\u001B[0;31m---------------------------------------------------------------------------\u001B[0m",
      "\u001B[0;31mImportError\u001B[0m                               Traceback (most recent call last)",
      "Cell \u001B[0;32mIn[4], line 1\u001B[0m\n\u001B[0;32m----> 1\u001B[0m \u001B[43mwebbpsf\u001B[49m\u001B[38;5;241;43m.\u001B[39;49m\u001B[43mshow_notebook_interface\u001B[49m\u001B[43m(\u001B[49m\u001B[38;5;124;43m'\u001B[39;49m\u001B[38;5;124;43mwfi\u001B[39;49m\u001B[38;5;124;43m'\u001B[39;49m\u001B[43m)\u001B[49m\n",
      "File \u001B[0;32m~/miniconda3/envs/webbpsf/lib/python3.12/site-packages/webbpsf/jupyter_gui.py:28\u001B[0m, in \u001B[0;36mshow_notebook_interface\u001B[0;34m(instrumentname)\u001B[0m\n\u001B[1;32m     26\u001B[0m \u001B[38;5;28;01mif\u001B[39;00m instrumentname\u001B[38;5;241m.\u001B[39mupper()\u001B[38;5;241m==\u001B[39m\u001B[38;5;124m'\u001B[39m\u001B[38;5;124mWFI\u001B[39m\u001B[38;5;124m'\u001B[39m:\n\u001B[1;32m     27\u001B[0m     instrument \u001B[38;5;241m=\u001B[39m roman\u001B[38;5;241m.\u001B[39mWFI()\n\u001B[0;32m---> 28\u001B[0m     \u001B[43mshow_notebook_interface_wfi\u001B[49m\u001B[43m(\u001B[49m\u001B[43minstrument\u001B[49m\u001B[43m)\u001B[49m\n\u001B[1;32m     29\u001B[0m \u001B[38;5;28;01melse\u001B[39;00m:\n\u001B[1;32m     30\u001B[0m     instrument \u001B[38;5;241m=\u001B[39m webbpsf_core\u001B[38;5;241m.\u001B[39minstrument(instrumentname)\n",
      "File \u001B[0;32m~/miniconda3/envs/webbpsf/lib/python3.12/site-packages/webbpsf/jupyter_gui.py:50\u001B[0m, in \u001B[0;36mshow_notebook_interface_wfi\u001B[0;34m(instrument)\u001B[0m\n\u001B[1;32m     48\u001B[0m \u001B[38;5;66;03m# Clean up some warnings we know about so as not to scare the users\u001B[39;00m\n\u001B[1;32m     49\u001B[0m \u001B[38;5;28;01mimport\u001B[39;00m \u001B[38;5;21;01mwarnings\u001B[39;00m\n\u001B[0;32m---> 50\u001B[0m \u001B[38;5;28;01mfrom\u001B[39;00m \u001B[38;5;21;01mmatplotlib\u001B[39;00m\u001B[38;5;21;01m.\u001B[39;00m\u001B[38;5;21;01mcbook\u001B[39;00m \u001B[38;5;28;01mimport\u001B[39;00m MatplotlibDeprecationWarning\n\u001B[1;32m     51\u001B[0m warnings\u001B[38;5;241m.\u001B[39msimplefilter(\u001B[38;5;124m'\u001B[39m\u001B[38;5;124mignore\u001B[39m\u001B[38;5;124m'\u001B[39m, MatplotlibDeprecationWarning)\n\u001B[1;32m     52\u001B[0m warnings\u001B[38;5;241m.\u001B[39msimplefilter(\u001B[38;5;124m'\u001B[39m\u001B[38;5;124mignore\u001B[39m\u001B[38;5;124m'\u001B[39m, fits\u001B[38;5;241m.\u001B[39mverify\u001B[38;5;241m.\u001B[39mVerifyWarning)\n",
      "\u001B[0;31mImportError\u001B[0m: cannot import name 'MatplotlibDeprecationWarning' from 'matplotlib.cbook' (/Users/brycewedig/miniconda3/envs/webbpsf/lib/python3.12/site-packages/matplotlib/cbook.py)"
     ]
    }
   ],
   "source": [
    "webbpsf.show_notebook_interface('wfi')"
   ]
  },
  {
   "cell_type": "markdown",
   "metadata": {},
   "source": [
    "### Calculate PSF\n",
    "\n",
    "When you click the \"Calculate PSF\" button, you will see some output as the calculation progresses. When it completes, it will show a plot showing four panels (counting left-to-right, top-to-bottom) representing the optical planes in the model:\n",
    "\n",
    "  1. The entrance pupil transmission in black and white, and the phase ranging from red to blue to show the wavefront error. We include here a plausible estimate for wavefront error due to mirror polishing variations. (This is currently approximated by a map of high-frequency errors in the Hubble primary, since such data is not yet available for the Roman primary mirror.)\n",
    "  2. The exit pupil, showing the same data but with a change in coordinate system due to passing through focus. This is the pupil orientation as seen by the WFI looking outwards at the sky. \n",
    "  3. The same transmission and phase map with the addition of the phase term due to field-dependent optical aberrations and intermediate instrument optics. (Specifically, this is based on Zernike coefficients derived from the Cycle 5 optical modeling effort at GSFC.)\n",
    "  4. The final oversampled detector plane, with log-scaled intensity\n",
    "\n",
    "Below that, you will see a side-by-side comparison of the oversampled PSF, and the PSF binned down to detector pixels.\n",
    "\n",
    "Also, a button labeled \"Download FITS image from last calculation\" will appear below the \"Calculate PSF\" button. Click that to download the oversampled and detector-pixel-binned images as a multi-extension FITS file. (WebbPSF also offers tools to analyze PSFs within the notebook or your own scripts, which are described in the next section.)\n",
    "\n",
    "### Display Optical System\n",
    "\n",
    "This shows a 2 x 2 grid of plots. The left hand side shows transmission (e.g. pupil or mask shape), and the right side shows optical path difference (which is converted to phase across the pupil). The first row represents the pupil plane at the primary mirror, the second row is the telescope exit pupil as seen by the instrument, and the third row is the notional pupil plane after all the field dependent aberrations have been applied to the wavefront, but before the final propagation to a detector or image plane.\n",
    "\n",
    "### Clear Output\n",
    "\n",
    "The output from the calculation process can be pretty verbose, so this button is here to clear both text output and plots."
   ]
  },
  {
   "cell_type": "markdown",
   "metadata": {},
   "source": [
    "## Using the Python programming interface\n",
    "\n",
    "Alternatively, you can configure the WFI instance yourself in Python. A more detailed example is presented in the [WebbPSF-Roman documentation page](https://pythonhosted.org/webbpsf/roman.html), but here we will just show a simple monochromatic calculation at the default field position.\n",
    "\n",
    "The `wfi.calcPSF()` method returns a [FITS HDUList object](http://docs.astropy.org/en/stable/io/fits/index.html), which you can then write out to a file or analyze further in the notebook."
   ]
  },
  {
   "cell_type": "code",
   "execution_count": null,
   "metadata": {
    "ExecuteTime": {
     "end_time": "2023-12-31T22:05:49.816247Z",
     "start_time": "2023-12-31T22:05:49.812464Z"
    }
   },
   "outputs": [],
   "source": [
    "plt.figure(figsize=(8,10))\n",
    "mono_psf = wfi.calc_psf(monochromatic=1.2e-6, display=True)"
   ]
  },
  {
   "cell_type": "markdown",
   "metadata": {},
   "source": [
    "Now you have the calculation result in the `mono_psf` variable, and can use various utility functions in WebbPSF to analyze it. The FITS object has an extension called `OVERSAMP` with each pixel split according to the default oversampling factor (4), and an extension called `DET_SAMP` with that image binned down to detector pixels."
   ]
  },
  {
   "cell_type": "code",
   "execution_count": null,
   "metadata": {
    "ExecuteTime": {
     "start_time": "2023-12-31T22:05:49.813907Z"
    }
   },
   "outputs": [],
   "source": [
    "mono_psf.info()"
   ]
  },
  {
   "cell_type": "markdown",
   "metadata": {},
   "source": [
    "Let's plot the PSF in detector pixels:"
   ]
  },
  {
   "cell_type": "code",
   "execution_count": null,
   "metadata": {
    "ExecuteTime": {
     "start_time": "2023-12-31T22:05:49.815526Z"
    }
   },
   "outputs": [],
   "source": [
    "webbpsf.display_psf(mono_psf, ext='DET_SAMP')"
   ]
  },
  {
   "cell_type": "markdown",
   "metadata": {},
   "source": [
    "WebbPSF also includes functions for measuring EE, profiles, and centroids (described in the [WebbPSF documentation](http://pythonhosted.org/webbpsf/api_reference.html#functions) and the [POPPY documentation](http://pythonhosted.org/poppy/api.html#functions)). Below we measure the radial profile and encircled energy curve for the monochromatic PSF. (Note that the FWHM is also computed and labeled on the radial profile plot.)"
   ]
  },
  {
   "cell_type": "code",
   "execution_count": null,
   "metadata": {
    "ExecuteTime": {
     "end_time": "2023-12-31T22:05:49.817589Z",
     "start_time": "2023-12-31T22:05:49.817004Z"
    }
   },
   "outputs": [],
   "source": [
    "plt.figure(figsize=(8, 6))\n",
    "webbpsf.display_profiles(mono_psf)"
   ]
  },
  {
   "cell_type": "markdown",
   "metadata": {},
   "source": [
    "If you want, the FITS object containing the PSF can be written out to a file and downloaded to your computer. This can be useful if you need it as an input to another tool."
   ]
  },
  {
   "cell_type": "code",
   "execution_count": null,
   "metadata": {
    "ExecuteTime": {
     "end_time": "2023-12-31T22:05:49.818772Z",
     "start_time": "2023-12-31T22:05:49.818542Z"
    }
   },
   "outputs": [],
   "source": [
    "mono_psf.writeto('./mono_psf_1.2um.fits', overwrite=True)"
   ]
  },
  {
   "cell_type": "markdown",
   "metadata": {},
   "source": [
    "After you run the previous cell, this link will take you to download the FITS image: <a href=\"files/mono_psf_1.2um.fits\">Download mono_psf_1.2um.fits</a>\n",
    "\n",
    "How that works is a little tricky: when you write `./mono_psf_1.2um.fits`, you're saying you want to save the file in the current working directory for the *Python* process. If you're working locally, that's just the directory where you started the `jupyter notebook` command. If you're working on a remote server, files saved from the notebook will be available at the URL `files/your_filename.fits` relative to this page.\n",
    "\n",
    "For example, if you're viewing this notebook at `https://example.com/user/janedoe/notebooks/WebbPSF-Roman_Tutorial.ipynb`, your file will be at `https://example.com/user/janedoe/notebooks/`**files/mono_psf_1.2um.fits**."
   ]
  },
  {
   "cell_type": "markdown",
   "metadata": {},
   "source": [
    "## Some more options"
   ]
  },
  {
   "cell_type": "markdown",
   "metadata": {},
   "source": [
    "A list of available WFI filters can be output:"
   ]
  },
  {
   "cell_type": "code",
   "execution_count": null,
   "metadata": {
    "ExecuteTime": {
     "start_time": "2023-12-31T22:05:49.819832Z"
    }
   },
   "outputs": [],
   "source": [
    "wfi.filter_list"
   ]
  },
  {
   "cell_type": "code",
   "execution_count": null,
   "metadata": {
    "ExecuteTime": {
     "start_time": "2023-12-31T22:05:49.820627Z"
    }
   },
   "outputs": [],
   "source": [
    "wfi = webbpsf.roman.WFI()\n",
    "\n",
    "wfi.filter = 'GRISM1'\n",
    "wfi.detector = 'SCA14'\n",
    "\n",
    "plt.figure(figsize=(8,10))\n",
    "poly_psf =  wfi.calc_psf(nlambda=10, display=True)"
   ]
  },
  {
   "cell_type": "code",
   "execution_count": null,
   "metadata": {
    "ExecuteTime": {
     "start_time": "2023-12-31T22:05:49.821349Z"
    }
   },
   "outputs": [],
   "source": [
    "webbpsf.display_psf(poly_psf, ext='DET_SAMP')"
   ]
  },
  {
   "cell_type": "markdown",
   "metadata": {},
   "source": [
    "# What next?\n",
    "\n",
    "Keep working in this notebook, if you like! For reference, there's always a [pristine copy of this notebook](https://github.com/spacetelescope/webbpsf/blob/master/notebooks/WebbPSF-Roman_Tutorial.ipynb) to refer back to in the  [WebbPSF GitHub repository](https://github.com/spacetelescope/webbpsf).  If you have not previously used this notebook interface to Python, the Help menu available above has a tutorial and a useful list of keyboard shortcuts. \n",
    "\n",
    "  * **Review the [WebbPSF documentation](https://pythonhosted.org/webbpsf/) and the [POPPY documentation](https://pythonhosted.org/poppy/)**\n",
    "  * **Report any issues to us on GitHub** — \n",
    "    WebbPSF and POPPY are developed on GitHub: [spacetelescope/webbpsf](https://github.com/spacetelescope/webbpsf) and [spacetelescope/poppy](https://github.com/spacetelescope/poppy) respectively.\n",
    "    The best way to report bugs is through the GitHub issue trackers: [WebbPSF](https://github.com/spacetelescope/webbpsf/issues) or [POPPY](https://github.com/spacetelescope/poppy/issues). (We also welcome pull requests from the community, if there's functionality you think should be included!)\n",
    "  * **Contact us through the STScI helpdesk** — You can always email your questions to <a href=\"mailto:help@stsci.edu\">help@stsci.edu</a>, and our helpdesk people will make sure your request gets to the right person\n",
    "  * **Sign up for WebbPSF update announcements** —\n",
    "    This is entirely optional, but you may wish to sign up to the mailing list webbpsf-users@stsci.edu. This is a low-traffic moderated announce-only list, to which we will periodically post announcements of updates to this software. To subscribe, visit the [maillist.stsci.edu](http://maillist.stsci.edu) server"
   ]
  },
  {
   "cell_type": "code",
   "execution_count": null,
   "metadata": {
    "ExecuteTime": {
     "start_time": "2023-12-31T22:05:49.822013Z"
    }
   },
   "outputs": [],
   "source": []
  }
 ],
 "metadata": {
  "kernelspec": {
   "display_name": "Python 3 (ipykernel)",
   "language": "python",
   "name": "python3"
  },
  "language_info": {
   "codemirror_mode": {
    "name": "ipython",
    "version": 3
   },
   "file_extension": ".py",
   "mimetype": "text/x-python",
   "name": "python",
   "nbconvert_exporter": "python",
   "pygments_lexer": "ipython3",
   "version": "3.10.6"
  }
 },
 "nbformat": 4,
 "nbformat_minor": 1
}
