{
 "cells": [
  {
   "cell_type": "code",
   "execution_count": 11,
   "metadata": {},
   "outputs": [],
   "source": [
    "import os\n",
    "import sys\n",
    "\n",
    "import numpy as np\n",
    "import matplotlib\n",
    "import matplotlib.pyplot as plt\n",
    "from matplotlib import colors\n",
    "from hydra import initialize, compose\n",
    "import pickle\n",
    "from glob import glob\n",
    "\n",
    "from pandeia.engine.calc_utils import build_default_calc, build_default_source\n",
    "from pandeia.engine.perform_calculation import perform_calculation\n",
    "\n",
    "# set paths to various directories based on the machine this code is being executed on\n",
    "with initialize(version_base=None, config_path='../../config'):\n",
    "    config = compose(config_name='config.yaml')  # overrides=['machine=uzay']\n",
    "\n",
    "array_dir, data_dir, figure_dir, pickle_dir, repo_dir  = config.machine.array_dir, config.machine.data_dir, config.machine.figure_dir, config.machine.pickle_dir, config.machine.repo_dir\n",
    "\n",
    "# enable use of local modules\n",
    "if repo_dir not in sys.path:\n",
    "    sys.path.append(repo_dir)\n",
    "\n",
    "# set matplotlib style\n",
    "plt.style.use(f'{repo_dir}/mejiro/mplstyle/science.mplstyle')\n",
    "\n",
    "from mejiro.lenses.test import SampleSkyPyLens\n",
    "from mejiro.plots import diagnostic_plot, plot, plot_util, overplot\n",
    "from mejiro.analysis import stats\n",
    "from mejiro.utils import util\n",
    "from mejiro.helpers import pyhalo, lenstronomy_sim, pandeia_input"
   ]
  },
  {
   "cell_type": "code",
   "execution_count": 12,
   "metadata": {},
   "outputs": [],
   "source": [
    "bands = util.hydra_to_dict(config.pipeline)['band']"
   ]
  },
  {
   "cell_type": "code",
   "execution_count": 13,
   "metadata": {},
   "outputs": [],
   "source": [
    "lens = SampleSkyPyLens()\n",
    "model = lens.get_array(num_pix=97, side=10.67)"
   ]
  },
  {
   "cell_type": "code",
   "execution_count": 14,
   "metadata": {},
   "outputs": [],
   "source": [
    "images = []"
   ]
  },
  {
   "cell_type": "code",
   "execution_count": 15,
   "metadata": {},
   "outputs": [
    {
     "name": "stdout",
     "output_type": "stream",
     "text": [
      "{'name': 'generic source', 'redshift': 0.0, 'lines': [], 'sed': {'sed_type': 'flat', 'unit': 'fnu', 'z': 0.0}, 'normalization': {'type': 'at_lambda', 'norm_wave': 1.06, 'norm_flux': 0.001, 'norm_fluxunit': 'mjy', 'norm_waveunit': 'microns'}, 'extinction': {'law': 'mw_rv_31', 'unit': 'mag', 'bandpass': 'j', 'value': 0.0}}\n",
      "Performing Pandeia calculation...\n",
      "Pandeia calculation complete in 0:00:01\n",
      "{'name': 'generic source', 'redshift': 0.0, 'lines': [], 'sed': {'sed_type': 'flat', 'unit': 'fnu', 'z': 0.0}, 'normalization': {'type': 'at_lambda', 'norm_wave': 1.293, 'norm_flux': 0.001, 'norm_fluxunit': 'mjy', 'norm_waveunit': 'microns'}, 'extinction': {'law': 'mw_rv_31', 'unit': 'mag', 'bandpass': 'j', 'value': 0.0}}\n",
      "Performing Pandeia calculation...\n",
      "Pandeia calculation complete in 0:00:01\n",
      "{'name': 'generic source', 'redshift': 0.0, 'lines': [], 'sed': {'sed_type': 'flat', 'unit': 'fnu', 'z': 0.0}, 'normalization': {'type': 'at_lambda', 'norm_wave': 1.577, 'norm_flux': 0.001, 'norm_fluxunit': 'mjy', 'norm_waveunit': 'microns'}, 'extinction': {'law': 'mw_rv_31', 'unit': 'mag', 'bandpass': 'j', 'value': 0.0}}\n",
      "Performing Pandeia calculation...\n",
      "Pandeia calculation complete in 0:00:01\n",
      "{'name': 'generic source', 'redshift': 0.0, 'lines': [], 'sed': {'sed_type': 'flat', 'unit': 'fnu', 'z': 0.0}, 'normalization': {'type': 'at_lambda', 'norm_wave': 1.842, 'norm_flux': 0.001, 'norm_fluxunit': 'mjy', 'norm_waveunit': 'microns'}, 'extinction': {'law': 'mw_rv_31', 'unit': 'mag', 'bandpass': 'j', 'value': 0.0}}\n",
      "Performing Pandeia calculation...\n",
      "Pandeia calculation complete in 0:00:01\n"
     ]
    }
   ],
   "source": [
    "for band in bands:\n",
    "    calc = build_default_calc('roman', 'wfi', 'imaging')\n",
    "    calc['scene'][0]['spectrum']['normalization']['norm_wave'] = pandeia_input._get_norm_wave(band.lower())\n",
    "    calc['scene'][0]['spectrum']['normalization']['norm_fluxunit'] = 'mjy'\n",
    "    calc['scene'][0]['spectrum']['normalization']['norm_waveunit'] = 'microns'\n",
    "    calc['scene'][0]['spectrum']['normalization']['type'] = 'at_lambda'\n",
    "\n",
    "    print(calc['scene'][0]['spectrum'])\n",
    "\n",
    "    # set scene size settings\n",
    "    calc['configuration']['max_scene_size'] = 5.\n",
    "\n",
    "    # set instrument\n",
    "    calc['configuration']['instrument']['filter'] = band.lower()  # e.g. 'f106'\n",
    "\n",
    "    # set detector\n",
    "    calc['configuration']['detector']['ma_table_name'] = 'hlwas_imaging'\n",
    "\n",
    "    # turn off noise sources\n",
    "    calc['calculation'] = pandeia_input.get_calculation_dict(init=False)\n",
    "\n",
    "    # add an extra point source far out to force maximum scene size\n",
    "    calc['scene'].append(build_default_source(geometry='point', telescope='roman'))\n",
    "    calc['scene'][1]['position']['x_offset'] = 100\n",
    "    calc['scene'][1]['position']['y_offset'] = 100\n",
    "\n",
    "    image, _ = pandeia_input.get_pandeia_image(calc)\n",
    "    images.append(image)"
   ]
  },
  {
   "cell_type": "code",
   "execution_count": 16,
   "metadata": {},
   "outputs": [
    {
     "data": {
      "image/png": "[encoded data removed]",
      "text/plain": [
       "<Figure size 700x525 with 2 Axes>"
      ]
     },
     "metadata": {},
     "output_type": "display_data"
    }
   ],
   "source": [
    "plot.plot(image, colorbar=True, title=f'{image.shape}')"
   ]
  },
  {
   "cell_type": "code",
   "execution_count": 17,
   "metadata": {},
   "outputs": [
    {
     "name": "stdout",
     "output_type": "stream",
     "text": [
      "[4.765629510460322, 4.009278614169467, 3.227044734375456, 1.9691718210052678]\n"
     ]
    }
   ],
   "source": [
    "maxes = [np.max(i) for i in images]\n",
    "print(maxes)"
   ]
  },
  {
   "cell_type": "code",
   "execution_count": 19,
   "metadata": {},
   "outputs": [
    {
     "name": "stdout",
     "output_type": "stream",
     "text": [
      "[4765.629510460321, 4009.2786141694673, 3227.044734375456, 1969.1718210052677]\n",
      "[0.00020983586697309335, 0.0002494214286993753, 0.0003098810466888475, 0.000507827701642357]\n"
     ]
    }
   ],
   "source": [
    "mjy_to_counts, counts_to_mjy = [], []\n",
    "for i, max in enumerate(maxes):\n",
    "    mjy_to_counts.append(maxes[i] / 0.001)\n",
    "    counts_to_mjy.append(0.001 / maxes[i])\n",
    "\n",
    "print(mjy_to_counts)\n",
    "print(counts_to_mjy)"
   ]
  }
 ],
 "metadata": {
  "kernelspec": {
   "display_name": "mejiro",
   "language": "python",
   "name": "python3"
  },
  "language_info": {
   "codemirror_mode": {
    "name": "ipython",
    "version": 3
   },
   "file_extension": ".py",
   "mimetype": "text/x-python",
   "name": "python",
   "nbconvert_exporter": "python",
   "pygments_lexer": "ipython3",
   "version": "3.10.6"
  }
 },
 "nbformat": 4,
 "nbformat_minor": 2
}
