{
 "cells": [
  {
   "cell_type": "code",
   "execution_count": 1,
   "metadata": {},
   "outputs": [],
   "source": [
    "import matplotlib.pyplot as plt\n",
    "import numpy as np\n",
    "import os\n",
    "import slsim\n",
    "import speclite\n",
    "from astropy.cosmology import FlatLambdaCDM\n",
    "from astropy.units import Quantity\n",
    "from slsim.Observations.roman_speclite import configure_roman_filters\n",
    "from slsim.Observations.roman_speclite import filter_names\n",
    "from slsim.lens_pop import LensPop\n",
    "from tqdm import tqdm\n",
    "\n",
    "from mejiro.helpers import survey_sim"
   ]
  },
  {
   "cell_type": "code",
   "execution_count": 2,
   "metadata": {},
   "outputs": [],
   "source": [
    "path = os.path.dirname(slsim.__file__)\n",
    "module_path, _ = os.path.split(path)\n",
    "skypy_config = os.path.join(module_path, \"data/SkyPy/roman-like.yml\")\n",
    "\n",
    "configure_roman_filters()\n",
    "\n",
    "roman_filters = filter_names()\n",
    "\n",
    "_ = speclite.filters.load_filters(\n",
    "    roman_filters[0],\n",
    "    roman_filters[1],\n",
    "    roman_filters[2],\n",
    "    roman_filters[3],\n",
    "    roman_filters[4],\n",
    "    roman_filters[5],\n",
    "    roman_filters[6],\n",
    "    roman_filters[7],\n",
    ")"
   ]
  },
  {
   "cell_type": "code",
   "execution_count": 3,
   "metadata": {},
   "outputs": [],
   "source": [
    "cosmo = FlatLambdaCDM(H0=70, Om0=0.3)\n",
    "\n",
    "sky_area = Quantity(value=5., unit=\"deg2\")"
   ]
  },
  {
   "cell_type": "markdown",
   "metadata": {},
   "source": [
    "Place stricter magnitude cuts on the second `LensPop`"
   ]
  },
  {
   "cell_type": "code",
   "execution_count": 4,
   "metadata": {},
   "outputs": [],
   "source": [
    "kwargs_deflector_cut_1 = {\"band\": \"F062\", \"band_max\": 25, \"z_min\": 0.01, \"z_max\": 3.0}\n",
    "kwargs_source_cut_1 = {\"band\": \"F062\", \"band_max\": 28, \"z_min\": 0.01, \"z_max\": 5.0}\n",
    "\n",
    "lens_pop_1 = LensPop(\n",
    "    deflector_type=\"all-galaxies\",\n",
    "    source_type=\"galaxies\",\n",
    "    kwargs_deflector_cut=kwargs_deflector_cut_1,\n",
    "    kwargs_source_cut=kwargs_source_cut_1,\n",
    "    kwargs_mass2light=None,\n",
    "    skypy_config=skypy_config,\n",
    "    sky_area=sky_area,\n",
    "    cosmo=cosmo,\n",
    ")"
   ]
  },
  {
   "cell_type": "code",
   "execution_count": 5,
   "metadata": {},
   "outputs": [],
   "source": [
    "kwargs_deflector_cut_2 = {\"band\": \"F062\", \"band_max\": 22, \"z_min\": 0.01, \"z_max\": 3.0}\n",
    "kwargs_source_cut_2 = {\"band\": \"F062\", \"band_max\": 23, \"z_min\": 0.01, \"z_max\": 5.0}\n",
    "\n",
    "lens_pop_2 = LensPop(\n",
    "    deflector_type=\"all-galaxies\",\n",
    "    source_type=\"galaxies\",\n",
    "    kwargs_deflector_cut=kwargs_deflector_cut_2,\n",
    "    kwargs_source_cut=kwargs_source_cut_2,\n",
    "    kwargs_mass2light=None,\n",
    "    skypy_config=skypy_config,\n",
    "    sky_area=sky_area,\n",
    "    cosmo=cosmo,\n",
    ")"
   ]
  },
  {
   "cell_type": "code",
   "execution_count": 6,
   "metadata": {},
   "outputs": [
    {
     "name": "stdout",
     "output_type": "stream",
     "text": [
      "Number of lenses: 56596\n"
     ]
    }
   ],
   "source": [
    "kwargs_lens_cut = {\n",
    "    \"min_image_separation\": 0.2,\n",
    "    \"max_image_separation\": 10,\n",
    "    \"mag_arc_limit\": {\"F158\": 25, \"F106\": 25, \"F062\": 25},\n",
    "}\n",
    "\n",
    "lens_population_1 = lens_pop_1.draw_population(kwargs_lens_cuts=kwargs_lens_cut)\n",
    "\n",
    "print(\"Number of lenses:\", len(lens_population_1))"
   ]
  },
  {
   "cell_type": "code",
   "execution_count": 7,
   "metadata": {},
   "outputs": [
    {
     "name": "stdout",
     "output_type": "stream",
     "text": [
      "Number of lenses: 416\n"
     ]
    }
   ],
   "source": [
    "lens_population_2 = lens_pop_2.draw_population(kwargs_lens_cuts=kwargs_lens_cut)\n",
    "\n",
    "print(\"Number of lenses:\", len(lens_population_2))"
   ]
  },
  {
   "cell_type": "markdown",
   "metadata": {},
   "source": [
    "So far, this makes sense: there are fewer systems in the second population with stricter filters on magnitudes."
   ]
  },
  {
   "cell_type": "code",
   "execution_count": 8,
   "metadata": {},
   "outputs": [
    {
     "name": "stderr",
     "output_type": "stream",
     "text": [
      "  0%|          | 6/56596 [00:00<17:37, 53.51it/s]"
     ]
    },
    {
     "name": "stderr",
     "output_type": "stream",
     "text": [
      "100%|██████████| 56596/56596 [18:34<00:00, 50.76it/s]\n"
     ]
    }
   ],
   "source": [
    "detectable_gglenses_1, snr_1 = [], []\n",
    "for candidate in tqdm(lens_population_1):\n",
    "    # 1. Einstein radius and Sersic radius\n",
    "    _, kwargs_params = candidate.lenstronomy_kwargs(band='F106')\n",
    "    lens_mag = candidate.deflector_magnitude(band='F106')\n",
    "\n",
    "    if kwargs_params['kwargs_lens'][0]['theta_E'] < kwargs_params['kwargs_lens_light'][0][\n",
    "        'R_sersic'] and lens_mag < 15:\n",
    "        continue\n",
    "\n",
    "    # 2. SNR\n",
    "    snr, _ = survey_sim.get_snr(candidate, 'F106')\n",
    "    snr_1.append(snr)\n",
    "\n",
    "    if snr < 10:\n",
    "        continue\n",
    "\n",
    "    # if both criteria satisfied, consider detectable\n",
    "    detectable_gglenses_1.append(candidate)"
   ]
  },
  {
   "cell_type": "code",
   "execution_count": 9,
   "metadata": {},
   "outputs": [
    {
     "name": "stderr",
     "output_type": "stream",
     "text": [
      "100%|██████████| 416/416 [00:08<00:00, 51.53it/s]\n"
     ]
    }
   ],
   "source": [
    "detectable_gglenses_2, snr_2 = [], []\n",
    "for candidate in tqdm(lens_population_2):\n",
    "    # 1. Einstein radius and Sersic radius\n",
    "    _, kwargs_params = candidate.lenstronomy_kwargs(band='F106')\n",
    "    lens_mag = candidate.deflector_magnitude(band='F106')\n",
    "\n",
    "    if kwargs_params['kwargs_lens'][0]['theta_E'] < kwargs_params['kwargs_lens_light'][0][\n",
    "        'R_sersic'] and lens_mag < 15:\n",
    "        continue\n",
    "\n",
    "    # 2. SNR\n",
    "    snr, _ = survey_sim.get_snr(candidate, 'F106')\n",
    "    snr_2.append(snr)\n",
    "\n",
    "    if snr < 10:\n",
    "        continue\n",
    "\n",
    "    # if both criteria satisfied, consider detectable\n",
    "    detectable_gglenses_2.append(candidate)"
   ]
  },
  {
   "cell_type": "code",
   "execution_count": 10,
   "metadata": {},
   "outputs": [
    {
     "data": {
      "image/png": "[encoded data removed]",
      "text/plain": [
       "<Figure size 640x480 with 1 Axes>"
      ]
     },
     "metadata": {},
     "output_type": "display_data"
    }
   ],
   "source": [
    "plt.hist(snr_1, label='Population 1 (Less strict magnitude cuts)', alpha=0.5)\n",
    "plt.hist(snr_2, label='Population 2 (Stricter magnitude cuts)', alpha=0.5)\n",
    "plt.xlabel('SNR')\n",
    "plt.ylabel('Count')\n",
    "plt.yscale('log')\n",
    "plt.axvline(10, color='r', linestyle='--', label='SNR cutoff')\n",
    "plt.legend()\n",
    "plt.show()"
   ]
  },
  {
   "cell_type": "code",
   "execution_count": 11,
   "metadata": {},
   "outputs": [
    {
     "name": "stdout",
     "output_type": "stream",
     "text": [
      "Number of detectable lenses in the population 1: 9\n",
      "Percentage detectable in population 1: 0.02%\n"
     ]
    }
   ],
   "source": [
    "print(f'Number of detectable lenses in the population 1: {len(detectable_gglenses_1)}')\n",
    "print(f'Percentage detectable in population 1: {len(detectable_gglenses_1) / len(lens_population_1) * 100:.2f}%')"
   ]
  },
  {
   "cell_type": "code",
   "execution_count": 12,
   "metadata": {},
   "outputs": [
    {
     "name": "stdout",
     "output_type": "stream",
     "text": [
      "Number of detectable lenses in population 2: 11\n",
      "Percentage detectable in population 2: 2.64%\n"
     ]
    }
   ],
   "source": [
    "print(f'Number of detectable lenses in population 2: {len(detectable_gglenses_2)}')\n",
    "print(f'Percentage detectable in population 2: {len(detectable_gglenses_2) / len(lens_population_2) * 100:.2f}%')"
   ]
  }
 ],
 "metadata": {
  "kernelspec": {
   "display_name": "slsim",
   "language": "python",
   "name": "python3"
  },
  "language_info": {
   "codemirror_mode": {
    "name": "ipython",
    "version": 3
   },
   "file_extension": ".py",
   "mimetype": "text/x-python",
   "name": "python",
   "nbconvert_exporter": "python",
   "pygments_lexer": "ipython3",
   "version": "3.10.6"
  }
 },
 "nbformat": 4,
 "nbformat_minor": 1
}
