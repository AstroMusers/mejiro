{
 "cells": [
  {
   "cell_type": "code",
   "execution_count": 1,
   "metadata": {},
   "outputs": [],
   "source": [
    "import numpy as np\n",
    "import os\n",
    "import matplotlib.pyplot as plt\n",
    "import slsim\n",
    "from slsim.lens_pop import LensPop\n",
    "from slsim.Observations.roman_speclite import configure_roman_filters\n",
    "from slsim.Observations.roman_speclite import filter_names\n",
    "import speclite\n",
    "from astropy.cosmology import FlatLambdaCDM\n",
    "from astropy.units import Quantity\n",
    "from tqdm import tqdm"
   ]
  },
  {
   "cell_type": "code",
   "execution_count": 2,
   "metadata": {},
   "outputs": [],
   "source": [
    "path = os.path.dirname(slsim.__file__)\n",
    "module_path, _ = os.path.split(path)\n",
    "skypy_config = os.path.join(module_path, \"data/SkyPy/roman-like.yml\")\n",
    "\n",
    "configure_roman_filters()\n",
    "\n",
    "roman_filters = filter_names()\n",
    "\n",
    "_ = speclite.filters.load_filters(\n",
    "    roman_filters[0],\n",
    "    roman_filters[1],\n",
    "    roman_filters[2],\n",
    "    roman_filters[3],\n",
    "    roman_filters[4],\n",
    "    roman_filters[5],\n",
    "    roman_filters[6],\n",
    "    roman_filters[7],\n",
    ")"
   ]
  },
  {
   "cell_type": "code",
   "execution_count": 3,
   "metadata": {},
   "outputs": [],
   "source": [
    "cosmo = FlatLambdaCDM(H0=70, Om0=0.3)\n",
    "\n",
    "sky_area = Quantity(value=5., unit=\"deg2\")"
   ]
  },
  {
   "cell_type": "markdown",
   "metadata": {},
   "source": [
    "Define magnitude pairs to test"
   ]
  },
  {
   "cell_type": "code",
   "execution_count": 4,
   "metadata": {},
   "outputs": [],
   "source": [
    "deflector_mag_cuts = [20, 22, 24, 26, 28]  # \n",
    "source_mag_cuts = [21, 23, 25, 27, 29]  # "
   ]
  },
  {
   "cell_type": "markdown",
   "metadata": {},
   "source": [
    "Test these parameters and count the number of detectable lenses for each run"
   ]
  },
  {
   "cell_type": "code",
   "execution_count": 5,
   "metadata": {},
   "outputs": [
    {
     "name": "stderr",
     "output_type": "stream",
     "text": [
      "100%|██████████| 2/2 [02:06<00:00, 63.06s/it]\n"
     ]
    }
   ],
   "source": [
    "detectable_counts = []\n",
    "\n",
    "for deflector_mag_cut, source_mag_cut in tqdm(zip(deflector_mag_cuts, source_mag_cuts), total=len(deflector_mag_cuts)):\n",
    "\n",
    "    kwargs_deflector_cut = {\"band\": \"F062\", \"band_max\": deflector_mag_cut, \"z_min\": 0.01, \"z_max\": 3.0}\n",
    "    kwargs_source_cut = {\"band\": \"F062\", \"band_max\": source_mag_cut, \"z_min\": 0.01, \"z_max\": 5.0}\n",
    "\n",
    "    lens_pop = LensPop(\n",
    "        deflector_type=\"all-galaxies\",\n",
    "        source_type=\"galaxies\",\n",
    "        kwargs_deflector_cut=kwargs_deflector_cut,\n",
    "        kwargs_source_cut=kwargs_source_cut,\n",
    "        kwargs_mass2light=None,\n",
    "        skypy_config=skypy_config,\n",
    "        sky_area=sky_area,\n",
    "        cosmo=cosmo,\n",
    "    )\n",
    "\n",
    "    kwargs_lens_cut = {\n",
    "        \"min_image_separation\": 0.2,\n",
    "        \"max_image_separation\": 10,\n",
    "        \"mag_arc_limit\": {\"F158\": 25, \"F106\": 25, \"F062\": 25},\n",
    "    }\n",
    "\n",
    "    lens_population = lens_pop.draw_population(kwargs_lens_cuts=kwargs_lens_cut)\n",
    "    detectable_counts.append(len(lens_population))"
   ]
  },
  {
   "cell_type": "code",
   "execution_count": 6,
   "metadata": {},
   "outputs": [
    {
     "name": "stdout",
     "output_type": "stream",
     "text": [
      "[0, 68]\n"
     ]
    }
   ],
   "source": [
    "print(detectable_counts)"
   ]
  }
 ],
 "metadata": {
  "kernelspec": {
   "display_name": "slsim",
   "language": "python",
   "name": "python3"
  },
  "language_info": {
   "codemirror_mode": {
    "name": "ipython",
    "version": 3
   },
   "file_extension": ".py",
   "mimetype": "text/x-python",
   "name": "python",
   "nbconvert_exporter": "python",
   "pygments_lexer": "ipython3",
   "version": "3.10.6"
  }
 },
 "nbformat": 4,
 "nbformat_minor": 1
}
