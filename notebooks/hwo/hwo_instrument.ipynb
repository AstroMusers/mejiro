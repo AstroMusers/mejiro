{
 "cells": [
  {
   "cell_type": "code",
   "execution_count": 1,
   "metadata": {},
   "outputs": [
    {
     "name": "stderr",
     "output_type": "stream",
     "text": [
      "**WARNING**: LOCAL JWST PRD VERSION PRDOPSSOC-065 DOESN'T MATCH THE CURRENT ONLINE VERSION PRDOPSSOC-068\n",
      "Please consider updating pysiaf, e.g. pip install --upgrade pysiaf or conda update pysiaf\n"
     ]
    },
    {
     "name": "stdout",
     "output_type": "stream",
     "text": [
      "Warning, 5 of 20000 bins contained negative fluxes; they have been set to zero.\n",
      "Warning, 3590 of 20000 bins contained negative fluxes; they have been set to zero.\n",
      "Warning, 293 of 2920 bins contained negative fluxes; they have been set to zero.\n"
     ]
    }
   ],
   "source": [
    "import numpy as np\n",
    "import os, sys\n",
    "import matplotlib.pyplot as plt\n",
    "import slsim\n",
    "from slsim.lens_pop import LensPop\n",
    "import speclite\n",
    "from astropy.cosmology import default_cosmology\n",
    "from astropy.units import Quantity\n",
    "from tqdm import tqdm\n",
    "from hydra import initialize, compose\n",
    "from pprint import pprint\n",
    "from glob import glob\n",
    "import pandas as pd\n",
    "\n",
    "# set paths to various directories based on the machine this code is being executed on\n",
    "try:\n",
    "    with initialize(version_base=None, config_path='config'):  \n",
    "        config = compose(config_name='config.yaml')  # overrides=['machine=uzay']\n",
    "except:\n",
    "    with initialize(version_base=None, config_path='../../config'):  \n",
    "        config = compose(config_name='config.yaml')  # overrides=['machine=uzay']\n",
    "\n",
    "array_dir, data_dir, figure_dir, pickle_dir, repo_dir  = config.machine.array_dir, config.machine.data_dir, config.machine.figure_dir, config.machine.pickle_dir, config.machine.repo_dir\n",
    "\n",
    "# enable use of local modules\n",
    "if repo_dir not in sys.path:\n",
    "    sys.path.append(repo_dir)\n",
    "\n",
    "# set matplotlib style\n",
    "# plt.style.use(f'{repo_dir}/mejiro/mplstyle/science.mplstyle')\n",
    "\n",
    "from mejiro.utils import util\n",
    "from mejiro.helpers import survey_sim\n",
    "from mejiro.instruments.hwo import HWO"
   ]
  },
  {
   "cell_type": "code",
   "execution_count": 2,
   "metadata": {},
   "outputs": [
    {
     "name": "stdout",
     "output_type": "stream",
     "text": [
      "Setting Telescope to:  EAC1\n"
     ]
    }
   ],
   "source": [
    "hwo = HWO()"
   ]
  },
  {
   "cell_type": "code",
   "execution_count": 3,
   "metadata": {},
   "outputs": [
    {
     "name": "stdout",
     "output_type": "stream",
     "text": [
      "{'B': 95.0,\n",
      " 'FUV': 45.0,\n",
      " 'H': 320.0,\n",
      " 'I': 170.0,\n",
      " 'J': 252.0,\n",
      " 'K': 444.0,\n",
      " 'NUV': 55.0,\n",
      " 'R': 155.0,\n",
      " 'U': 67.2,\n",
      " 'V': 121.2}\n"
     ]
    }
   ],
   "source": [
    "pprint(hwo.derived_bandpass)"
   ]
  },
  {
   "cell_type": "code",
   "execution_count": 4,
   "metadata": {},
   "outputs": [
    {
     "data": {
      "text/plain": [
       "{'_tracked_attributes': ['name',\n",
       "  'aperture',\n",
       "  'temperature',\n",
       "  'ota_emissivity',\n",
       "  'diff_limit_wavelength',\n",
       "  'unobscured_fraction'],\n",
       " 'name': 'HWO-EAC-1',\n",
       " 'aperture': <Quantity 6. m>,\n",
       " 'temperature': <Quantity 270. K>,\n",
       " 'ota_emissivity': ['JsonUnit', OrderedDict([('value', 0.24), ('unit', '')])],\n",
       " 'diff_limit_wavelength': ['JsonUnit',\n",
       "  OrderedDict([('value', 500.0), ('unit', 'nm')])],\n",
       " 'unobscured_fraction': 1.0,\n",
       " '_current_protocol': 'json',\n",
       " 'load_profile': <bound method JSON.load of <syotools.persistence.json_protocol.JSON object at 0x7f17a41de650>>,\n",
       " 'save_profile': <bound method JSON.save of <syotools.persistence.json_protocol.JSON object at 0x7f17a41de650>>,\n",
       " 'diff_limited_wavelength': <Quantity 500. nm>}"
      ]
     },
     "execution_count": 4,
     "metadata": {},
     "output_type": "execute_result"
    }
   ],
   "source": [
    "hwo.telescope.__dict__"
   ]
  },
  {
   "cell_type": "code",
   "execution_count": 5,
   "metadata": {},
   "outputs": [
    {
     "name": "stdout",
     "output_type": "stream",
     "text": [
      "Setting Telescope to:  EAC1\n",
      "Building adaptive grid\n",
      "Unexpected exception formatting exception. Falling back to standard exception\n"
     ]
    },
    {
     "name": "stderr",
     "output_type": "stream",
     "text": [
      "Traceback (most recent call last):\n",
      "  File \"/data/bwedig/.conda/envs/mejiro/lib/python3.10/site-packages/IPython/core/interactiveshell.py\", line 3398, in run_code\n",
      "    exec(code_obj, self.user_global_ns, self.user_ns)\n",
      "  File \"/tmp/ipykernel_1224525/2204246831.py\", line 27, in <cell line: 26>\n",
      "    test_band(b)\n",
      "  File \"/tmp/ipykernel_1224525/2204246831.py\", line 14, in test_band\n",
      "    synthetic_image = SyntheticImage(strong_lens=lens,\n",
      "  File \"/nfshome/bwedig/mejiro/mejiro/synthetic_image.py\", line 52, in __init__\n",
      "    self._calculate_surface_brightness(kwargs_numerics, pieces)\n",
      "  File \"/nfshome/bwedig/mejiro/mejiro/synthetic_image.py\", line 168, in _calculate_surface_brightness\n",
      "    self._convert_magnitudes_to_lenstronomy_amps()\n",
      "  File \"/nfshome/bwedig/mejiro/mejiro/synthetic_image.py\", line 190, in _convert_magnitudes_to_lenstronomy_amps\n",
      "    self.magnitude_zero_point = self.instrument.get_zeropoint_magnitude(self.band)\n",
      "  File \"/nfshome/bwedig/mejiro/mejiro/instruments/hwo.py\", line 116, in get_zeropoint_magnitude\n",
      "KeyError: 3\n",
      "\n",
      "During handling of the above exception, another exception occurred:\n",
      "\n",
      "Traceback (most recent call last):\n",
      "  File \"/data/bwedig/.conda/envs/mejiro/lib/python3.10/site-packages/IPython/core/interactiveshell.py\", line 1993, in showtraceback\n",
      "    stb = self.InteractiveTB.structured_traceback(\n",
      "  File \"/data/bwedig/.conda/envs/mejiro/lib/python3.10/site-packages/IPython/core/ultratb.py\", line 1118, in structured_traceback\n",
      "    return FormattedTB.structured_traceback(\n",
      "  File \"/data/bwedig/.conda/envs/mejiro/lib/python3.10/site-packages/IPython/core/ultratb.py\", line 1012, in structured_traceback\n",
      "    return VerboseTB.structured_traceback(\n",
      "  File \"/data/bwedig/.conda/envs/mejiro/lib/python3.10/site-packages/IPython/core/ultratb.py\", line 865, in structured_traceback\n",
      "    formatted_exception = self.format_exception_as_a_whole(etype, evalue, etb, number_of_lines_of_context,\n",
      "  File \"/data/bwedig/.conda/envs/mejiro/lib/python3.10/site-packages/IPython/core/ultratb.py\", line 818, in format_exception_as_a_whole\n",
      "    frames.append(self.format_record(r))\n",
      "  File \"/data/bwedig/.conda/envs/mejiro/lib/python3.10/site-packages/IPython/core/ultratb.py\", line 736, in format_record\n",
      "    result += ''.join(_format_traceback_lines(frame_info.lines, Colors, self.has_colors, lvals))\n",
      "  File \"/data/bwedig/.conda/envs/mejiro/lib/python3.10/site-packages/stack_data/utils.py\", line 144, in cached_property_wrapper\n",
      "    value = obj.__dict__[self.func.__name__] = self.func(obj)\n",
      "  File \"/data/bwedig/.conda/envs/mejiro/lib/python3.10/site-packages/stack_data/core.py\", line 720, in lines\n",
      "    pieces = self.included_pieces\n",
      "  File \"/data/bwedig/.conda/envs/mejiro/lib/python3.10/site-packages/stack_data/utils.py\", line 144, in cached_property_wrapper\n",
      "    value = obj.__dict__[self.func.__name__] = self.func(obj)\n",
      "  File \"/data/bwedig/.conda/envs/mejiro/lib/python3.10/site-packages/stack_data/core.py\", line 667, in included_pieces\n",
      "    pos = scope_pieces.index(self.executing_piece)\n",
      "  File \"/data/bwedig/.conda/envs/mejiro/lib/python3.10/site-packages/stack_data/utils.py\", line 144, in cached_property_wrapper\n",
      "    value = obj.__dict__[self.func.__name__] = self.func(obj)\n",
      "  File \"/data/bwedig/.conda/envs/mejiro/lib/python3.10/site-packages/stack_data/core.py\", line 646, in executing_piece\n",
      "    return only(\n",
      "  File \"/data/bwedig/.conda/envs/mejiro/lib/python3.10/site-packages/executing/executing.py\", line 190, in only\n",
      "    raise NotOneValueFound('Expected one value, found 0')\n",
      "executing.executing.NotOneValueFound: Expected one value, found 0\n"
     ]
    }
   ],
   "source": [
    "from mejiro.exposure import Exposure\n",
    "from mejiro.instruments.hwo import HWO\n",
    "from mejiro.lenses.test import SampleStrongLens\n",
    "from mejiro.synthetic_image import SyntheticImage\n",
    "\n",
    "\n",
    "def test_band(band):\n",
    "    hwo = HWO()\n",
    "    lens = SampleStrongLens()\n",
    "    scene_size = 5  # arcsec\n",
    "    oversample = 5\n",
    "    exposure_time = 100\n",
    "\n",
    "    synthetic_image = SyntheticImage(strong_lens=lens,\n",
    "                                     instrument=hwo,\n",
    "                                     band=band,\n",
    "                                     arcsec=scene_size,\n",
    "                                     oversample=oversample,\n",
    "                                     verbose=False)\n",
    "\n",
    "    exposure = Exposure(synthetic_image,\n",
    "                        exposure_time=exposure_time,\n",
    "                        verbose=False)\n",
    "    \n",
    "band = ['B', 'FUV', 'H', 'I', 'J', 'K', 'NUV', 'R', 'U', 'V']\n",
    "for b in band:\n",
    "    test_band(b)\n"
   ]
  }
 ],
 "metadata": {
  "kernelspec": {
   "display_name": "mejiro",
   "language": "python",
   "name": "python3"
  },
  "language_info": {
   "codemirror_mode": {
    "name": "ipython",
    "version": 3
   },
   "file_extension": ".py",
   "mimetype": "text/x-python",
   "name": "python",
   "nbconvert_exporter": "python",
   "pygments_lexer": "ipython3",
   "version": "3.10.6"
  }
 },
 "nbformat": 4,
 "nbformat_minor": 1
}
