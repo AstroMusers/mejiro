{
 "cells": [
  {
   "cell_type": "code",
   "execution_count": 1,
   "metadata": {},
   "outputs": [
    {
     "name": "stdout",
     "output_type": "stream",
     "text": [
      "Warning, 5 of 20000 bins contained negative fluxes; they have been set to zero.\n"
     ]
    },
    {
     "name": "stderr",
     "output_type": "stream",
     "text": [
      "/data/bwedig/.conda/envs/mejiro/lib/python3.10/site-packages/pysynphot/units.py:824: RuntimeWarning: divide by zero encountered in log\n",
      "  return -1.085736 * N.log(arg) + ABZERO\n"
     ]
    },
    {
     "name": "stdout",
     "output_type": "stream",
     "text": [
      "Warning, 3590 of 20000 bins contained negative fluxes; they have been set to zero.\n",
      "Warning, 293 of 2920 bins contained negative fluxes; they have been set to zero.\n"
     ]
    },
    {
     "name": "stderr",
     "output_type": "stream",
     "text": [
      "**WARNING**: LOCAL JWST PRD VERSION PRDOPSSOC-065 DOESN'T MATCH THE CURRENT ONLINE VERSION PRDOPSSOC-068\n",
      "Please consider updating pysiaf, e.g. pip install --upgrade pysiaf or conda update pysiaf\n"
     ]
    }
   ],
   "source": [
    "import os\n",
    "import sys\n",
    "\n",
    "import numpy as np\n",
    "import matplotlib\n",
    "%matplotlib inline\n",
    "import matplotlib.pyplot as plt\n",
    "from matplotlib import colors\n",
    "from hydra import initialize, compose\n",
    "import pickle\n",
    "from glob import glob\n",
    "from pprint import pprint\n",
    "from tqdm import tqdm\n",
    "import galsim\n",
    "from copy import deepcopy\n",
    "import random\n",
    "\n",
    "from syotools.models import Camera, Telescope, Spectrograph, PhotometricExposure, SpectrographicExposure\n",
    "from syotools.utils.jsonunit import str_jsunit\n",
    "\n",
    "# set paths to various directories based on the machine this code is being executed on\n",
    "try:\n",
    "    with initialize(version_base=None, config_path='config'):  \n",
    "        config = compose(config_name='config.yaml')  # overrides=['machine=uzay']\n",
    "except:\n",
    "    with initialize(version_base=None, config_path='../../config'):  \n",
    "        config = compose(config_name='config.yaml')  # overrides=['machine=uzay']\n",
    "\n",
    "array_dir, data_dir, figure_dir, pickle_dir, repo_dir  = config.machine.array_dir, config.machine.data_dir, config.machine.figure_dir, config.machine.pickle_dir, config.machine.repo_dir\n",
    "\n",
    "# enable use of local modules\n",
    "if repo_dir not in sys.path:\n",
    "    sys.path.append(repo_dir)\n",
    "\n",
    "# set matplotlib style\n",
    "plt.style.use(f'{repo_dir}/mejiro/mplstyle/science.mplstyle')\n",
    "\n",
    "from mejiro.lenses.test import SampleStrongLens\n",
    "from mejiro.plots import diagnostic_plot, plot, plot_util, overplot\n",
    "from mejiro.analysis import stats\n",
    "from mejiro.utils import util\n",
    "from mejiro.helpers import gs\n",
    "from mejiro.lenses import lens_util"
   ]
  },
  {
   "cell_type": "code",
   "execution_count": 2,
   "metadata": {},
   "outputs": [],
   "source": [
    "# pipeline_params = util.hydra_to_dict(config.pipeline)\n",
    "# debugging = pipeline_params['debugging']\n",
    "# # debugging = True  # TODO TEMP\n",
    "\n",
    "# if debugging:\n",
    "#     pipeline_dir = f'{config.machine.pipeline_dir}_dev'\n",
    "# else:\n",
    "#     pipeline_dir = config.machine.pipeline_dir\n",
    "\n",
    "# detectable_lenses = lens_util.get_detectable_lenses(pipeline_dir, with_subhalos=False, verbose=True)"
   ]
  },
  {
   "cell_type": "code",
   "execution_count": 3,
   "metadata": {},
   "outputs": [
    {
     "name": "stdout",
     "output_type": "stream",
     "text": [
      "Setting Telescope to:  EAC1\n"
     ]
    }
   ],
   "source": [
    "c, t = Camera(), Telescope()\n",
    "t.set_from_json('EAC1')"
   ]
  },
  {
   "cell_type": "code",
   "execution_count": 4,
   "metadata": {},
   "outputs": [],
   "source": [
    "t.add_camera(c)"
   ]
  },
  {
   "cell_type": "code",
   "execution_count": 5,
   "metadata": {},
   "outputs": [
    {
     "name": "stdout",
     "output_type": "stream",
     "text": [
      "name: HWO-EAC-1\n",
      "aperture: 6.0 m\n",
      "temperature: 270.0 K\n",
      "ota_emissivity: 0.24\n",
      "diff_limit_wavelength: 500.0 nm\n",
      "unobscured_fraction: 1.0\n"
     ]
    }
   ],
   "source": [
    "for attr in t._tracked_attributes:\n",
    "    print('{}: {}'.format(attr, str_jsunit(getattr(t,attr))))"
   ]
  },
  {
   "cell_type": "code",
   "execution_count": 6,
   "metadata": {},
   "outputs": [],
   "source": [
    "from astropy import units as u\n",
    "\n",
    "assert t.aperture.unit == u.m"
   ]
  },
  {
   "cell_type": "code",
   "execution_count": 7,
   "metadata": {},
   "outputs": [
    {
     "name": "stdout",
     "output_type": "stream",
     "text": [
      "6.0 m\n",
      "<class 'astropy.units.quantity.Quantity'>\n"
     ]
    }
   ],
   "source": [
    "print(t.aperture)\n",
    "print(type(t.aperture))"
   ]
  },
  {
   "cell_type": "code",
   "execution_count": 8,
   "metadata": {},
   "outputs": [
    {
     "data": {
      "text/plain": [
       "{'_tracked_attributes': ['name',\n",
       "  'pivotwave',\n",
       "  'bandnames',\n",
       "  'channels',\n",
       "  'fiducials',\n",
       "  'total_qe',\n",
       "  'ap_corr',\n",
       "  'bandpass_r',\n",
       "  'dark_current',\n",
       "  'detector_rn',\n",
       "  'sky_sigma'],\n",
       " 'name': 'HDI',\n",
       " 'pivotwave': ['JsonUnit',\n",
       "  OrderedDict([('value',\n",
       "                [225.0,\n",
       "                 275.0,\n",
       "                 336.0,\n",
       "                 475.0,\n",
       "                 606.0,\n",
       "                 775.0,\n",
       "                 850.0,\n",
       "                 1260.0,\n",
       "                 1600.0,\n",
       "                 2220.0]),\n",
       "               ('unit', 'nm')])],\n",
       " 'bandnames': ['FUV', 'NUV', 'U', 'B', 'V', 'R', 'I', 'J', 'H', 'K'],\n",
       " 'channels': [[0, 1], [2, 3, 4, 5, 6], [7, 8, 9]],\n",
       " 'fiducials': ['JsonUnit',\n",
       "  OrderedDict([('value', [400.0, 400.0, 1200.0]), ('unit', 'nm')])],\n",
       " 'total_qe': ['JsonUnit',\n",
       "  OrderedDict([('value',\n",
       "                [0.1,\n",
       "                 0.112,\n",
       "                 0.175,\n",
       "                 0.211,\n",
       "                 0.211,\n",
       "                 0.211,\n",
       "                 0.145,\n",
       "                 0.342,\n",
       "                 0.342,\n",
       "                 0.335]),\n",
       "               ('unit', 'electron / ph')])],\n",
       " 'ap_corr': ['JsonUnit',\n",
       "  OrderedDict([('value', [1.0, 1.0, 1.0, 1.0, 1.0, 1.0, 1.0, 1.0, 1.0, 1.0]),\n",
       "               ('unit', '')])],\n",
       " 'bandpass_r': ['JsonUnit',\n",
       "  OrderedDict([('value', [5.0, 5.0, 5.0, 5.0, 5.0, 5.0, 5.0, 5.0, 5.0, 5.0]),\n",
       "               ('unit', '')])],\n",
       " 'dark_current': ['JsonUnit',\n",
       "  OrderedDict([('value',\n",
       "                [0.002,\n",
       "                 0.002,\n",
       "                 0.002,\n",
       "                 0.002,\n",
       "                 0.002,\n",
       "                 0.002,\n",
       "                 0.002,\n",
       "                 0.002,\n",
       "                 0.002,\n",
       "                 0.002]),\n",
       "               ('unit', 'electron / (pix s)')])],\n",
       " 'detector_rn': ['JsonUnit',\n",
       "  OrderedDict([('value', [2.5, 2.5, 2.5, 2.5, 2.5, 2.5, 2.5, 2.5, 2.5, 2.5]),\n",
       "               ('unit', 'electron(1/2) / pix(1/2)')])],\n",
       " 'sky_sigma': ['JsonUnit',\n",
       "  OrderedDict([('value',\n",
       "                [24.56,\n",
       "                 26.27,\n",
       "                 23.38,\n",
       "                 22.8,\n",
       "                 22.41,\n",
       "                 22.2,\n",
       "                 22.11,\n",
       "                 22.32,\n",
       "                 22.53,\n",
       "                 22.88]),\n",
       "               ('unit', '')])],\n",
       " '_current_protocol': 'json',\n",
       " 'load_profile': <bound method JSON.load of <syotools.persistence.json_protocol.JSON object at 0x7f48b4296710>>,\n",
       " 'save_profile': <bound method JSON.save of <syotools.persistence.json_protocol.JSON object at 0x7f48b4296710>>,\n",
       " 'telescope': <syotools.models.telescope.Telescope at 0x7f48b4295330>}"
      ]
     },
     "execution_count": 8,
     "metadata": {},
     "output_type": "execute_result"
    }
   ],
   "source": [
    "c.__dict__"
   ]
  },
  {
   "cell_type": "code",
   "execution_count": 10,
   "metadata": {},
   "outputs": [],
   "source": [
    "# for attr in c._tracked_attributes:\n",
    "    # print('{}: {}, ({})'.format(attr, str_jsunit(getattr(c,attr))))"
   ]
  },
  {
   "cell_type": "code",
   "execution_count": 11,
   "metadata": {},
   "outputs": [
    {
     "data": {
      "text/plain": [
       "array([1., 1., 1., 1., 1., 1., 1., 1., 1., 1.])"
      ]
     },
     "execution_count": 11,
     "metadata": {},
     "output_type": "execute_result"
    }
   ],
   "source": [
    "c.recover('ap_corr').value"
   ]
  },
  {
   "cell_type": "code",
   "execution_count": 12,
   "metadata": {},
   "outputs": [
    {
     "name": "stdout",
     "output_type": "stream",
     "text": [
      "<class 'list'>\n"
     ]
    }
   ],
   "source": [
    "print(type(c.bandnames))"
   ]
  },
  {
   "cell_type": "code",
   "execution_count": 13,
   "metadata": {},
   "outputs": [
    {
     "data": {
      "text/plain": [
       "10"
      ]
     },
     "execution_count": 13,
     "metadata": {},
     "output_type": "execute_result"
    }
   ],
   "source": [
    "len(c.recover('dark_current'))"
   ]
  },
  {
   "cell_type": "code",
   "execution_count": 14,
   "metadata": {},
   "outputs": [
    {
     "name": "stdout",
     "output_type": "stream",
     "text": [
      "['JsonUnit', OrderedDict([('value', [0.002, 0.002, 0.002, 0.002, 0.002, 0.002, 0.002, 0.002, 0.002, 0.002]), ('unit', 'electron / (pix s)')])]\n",
      "<class 'list'>\n"
     ]
    }
   ],
   "source": [
    "print(c.dark_current)\n",
    "print(type(c.dark_current))"
   ]
  },
  {
   "cell_type": "code",
   "execution_count": 21,
   "metadata": {},
   "outputs": [
    {
     "data": {
      "text/plain": [
       "['FUV', 'NUV', 'U', 'B', 'V', 'R', 'I', 'J', 'H', 'K']"
      ]
     },
     "execution_count": 21,
     "metadata": {},
     "output_type": "execute_result"
    }
   ],
   "source": [
    "c.bandnames"
   ]
  },
  {
   "cell_type": "code",
   "execution_count": 20,
   "metadata": {},
   "outputs": [
    {
     "data": {
      "text/plain": [
       "OrderedDict([('value',\n",
       "              [225.0,\n",
       "               275.0,\n",
       "               336.0,\n",
       "               475.0,\n",
       "               606.0,\n",
       "               775.0,\n",
       "               850.0,\n",
       "               1260.0,\n",
       "               1600.0,\n",
       "               2220.0]),\n",
       "             ('unit', 'nm')])"
      ]
     },
     "execution_count": 20,
     "metadata": {},
     "output_type": "execute_result"
    }
   ],
   "source": [
    "c.pivotwave[1]"
   ]
  },
  {
   "cell_type": "code",
   "execution_count": 15,
   "metadata": {},
   "outputs": [
    {
     "name": "stdout",
     "output_type": "stream",
     "text": [
      "[0.002 0.002 0.002 0.002 0.002 0.002 0.002 0.002 0.002 0.002] electron / (pix s)\n",
      "<class 'astropy.units.quantity.Quantity'>\n"
     ]
    }
   ],
   "source": [
    "print(c.recover('dark_current'))\n",
    "print(type(c.recover('dark_current')))"
   ]
  },
  {
   "cell_type": "code",
   "execution_count": 16,
   "metadata": {},
   "outputs": [
    {
     "name": "stdout",
     "output_type": "stream",
     "text": [
      "[0.002 0.002 0.002 0.002 0.002 0.002 0.002 0.002 0.002 0.002]\n",
      "<class 'numpy.ndarray'>\n"
     ]
    }
   ],
   "source": [
    "print(c.recover('dark_current').value)\n",
    "print(type(c.recover('dark_current').value))"
   ]
  },
  {
   "cell_type": "code",
   "execution_count": 17,
   "metadata": {},
   "outputs": [
    {
     "name": "stdout",
     "output_type": "stream",
     "text": [
      "electron / (pix s)\n"
     ]
    }
   ],
   "source": [
    "dark_current = c.recover('dark_current')\n",
    "print(dark_current.unit)"
   ]
  }
 ],
 "metadata": {
  "kernelspec": {
   "display_name": "mejiro",
   "language": "python",
   "name": "python3"
  },
  "language_info": {
   "codemirror_mode": {
    "name": "ipython",
    "version": 3
   },
   "file_extension": ".py",
   "mimetype": "text/x-python",
   "name": "python",
   "nbconvert_exporter": "python",
   "pygments_lexer": "ipython3",
   "version": "3.10.6"
  }
 },
 "nbformat": 4,
 "nbformat_minor": 2
}
