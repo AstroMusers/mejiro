{
 "cells": [
  {
   "cell_type": "code",
   "execution_count": 1,
   "metadata": {},
   "outputs": [
    {
     "name": "stdout",
     "output_type": "stream",
     "text": [
      "Warning, 5 of 20000 bins contained negative fluxes; they have been set to zero.\n"
     ]
    },
    {
     "name": "stderr",
     "output_type": "stream",
     "text": [
      "/data/bwedig/.conda/envs/mejiro/lib/python3.10/site-packages/pysynphot/units.py:824: RuntimeWarning: divide by zero encountered in log\n",
      "  return -1.085736 * N.log(arg) + ABZERO\n"
     ]
    },
    {
     "name": "stdout",
     "output_type": "stream",
     "text": [
      "Warning, 3590 of 20000 bins contained negative fluxes; they have been set to zero.\n",
      "Warning, 293 of 2920 bins contained negative fluxes; they have been set to zero.\n"
     ]
    },
    {
     "name": "stderr",
     "output_type": "stream",
     "text": [
      "**WARNING**: LOCAL JWST PRD VERSION PRDOPSSOC-065 DOESN'T MATCH THE CURRENT ONLINE VERSION PRDOPSSOC-068\n",
      "Please consider updating pysiaf, e.g. pip install --upgrade pysiaf or conda update pysiaf\n"
     ]
    }
   ],
   "source": [
    "import os\n",
    "import sys\n",
    "\n",
    "import numpy as np\n",
    "import matplotlib\n",
    "%matplotlib inline\n",
    "import matplotlib.pyplot as plt\n",
    "from matplotlib import colors\n",
    "from hydra import initialize, compose\n",
    "import pickle\n",
    "from glob import glob\n",
    "from pprint import pprint\n",
    "from tqdm import tqdm\n",
    "import galsim\n",
    "from copy import deepcopy\n",
    "import random\n",
    "\n",
    "from syotools.models import Camera, Telescope, Spectrograph, PhotometricExposure, SpectrographicExposure\n",
    "from syotools.utils.jsonunit import str_jsunit\n",
    "\n",
    "# set paths to various directories based on the machine this code is being executed on\n",
    "try:\n",
    "    with initialize(version_base=None, config_path='config'):  \n",
    "        config = compose(config_name='config.yaml')  # overrides=['machine=uzay']\n",
    "except:\n",
    "    with initialize(version_base=None, config_path='../../config'):  \n",
    "        config = compose(config_name='config.yaml')  # overrides=['machine=uzay']\n",
    "\n",
    "array_dir, data_dir, figure_dir, pickle_dir, repo_dir  = config.machine.array_dir, config.machine.data_dir, config.machine.figure_dir, config.machine.pickle_dir, config.machine.repo_dir\n",
    "\n",
    "# enable use of local modules\n",
    "if repo_dir not in sys.path:\n",
    "    sys.path.append(repo_dir)\n",
    "\n",
    "# set matplotlib style\n",
    "plt.style.use(f'{repo_dir}/mejiro/mplstyle/science.mplstyle')\n",
    "\n",
    "from mejiro.lenses.test import SampleStrongLens\n",
    "from mejiro.plots import diagnostic_plot, plot, plot_util, overplot\n",
    "from mejiro.analysis import stats\n",
    "from mejiro.utils import util\n",
    "from mejiro.helpers import gs\n",
    "from mejiro.lenses import lens_util"
   ]
  },
  {
   "cell_type": "code",
   "execution_count": 2,
   "metadata": {},
   "outputs": [],
   "source": [
    "# pipeline_params = util.hydra_to_dict(config.pipeline)\n",
    "# debugging = pipeline_params['debugging']\n",
    "# # debugging = True  # TODO TEMP\n",
    "\n",
    "# if debugging:\n",
    "#     pipeline_dir = f'{config.machine.pipeline_dir}_dev'\n",
    "# else:\n",
    "#     pipeline_dir = config.machine.pipeline_dir\n",
    "\n",
    "# detectable_lenses = lens_util.get_detectable_lenses(pipeline_dir, with_subhalos=False, verbose=True)"
   ]
  },
  {
   "cell_type": "code",
   "execution_count": 3,
   "metadata": {},
   "outputs": [
    {
     "name": "stdout",
     "output_type": "stream",
     "text": [
      "Setting Telescope to:  EAC2\n"
     ]
    }
   ],
   "source": [
    "c, t = Camera(), Telescope()\n",
    "t.set_from_json('EAC2')"
   ]
  },
  {
   "cell_type": "code",
   "execution_count": 4,
   "metadata": {},
   "outputs": [],
   "source": [
    "t.add_camera(c)"
   ]
  },
  {
   "cell_type": "code",
   "execution_count": 5,
   "metadata": {},
   "outputs": [
    {
     "name": "stdout",
     "output_type": "stream",
     "text": [
      "name: HWO-EAC-2\n",
      "aperture: 6.0 m\n",
      "temperature: 270.0 K\n",
      "ota_emissivity: 0.24\n",
      "diff_limit_wavelength: 500.0 nm\n",
      "unobscured_fraction: 1.0\n"
     ]
    }
   ],
   "source": [
    "for attr in t._tracked_attributes:\n",
    "    print('{}: {}'.format(attr, str_jsunit(getattr(t,attr))))"
   ]
  },
  {
   "cell_type": "code",
   "execution_count": 9,
   "metadata": {},
   "outputs": [],
   "source": [
    "from astropy import units as u\n",
    "\n",
    "assert t.aperture.unit == u.m"
   ]
  },
  {
   "cell_type": "code",
   "execution_count": 8,
   "metadata": {},
   "outputs": [
    {
     "name": "stdout",
     "output_type": "stream",
     "text": [
      "6.0 m\n",
      "<class 'astropy.units.quantity.Quantity'>\n"
     ]
    }
   ],
   "source": [
    "print(t.aperture)\n",
    "print(type(t.aperture))"
   ]
  },
  {
   "cell_type": "code",
   "execution_count": null,
   "metadata": {},
   "outputs": [
    {
     "name": "stdout",
     "output_type": "stream",
     "text": [
      "name: HDI\n",
      "pivotwave: [ 225.  275.  336.  475.  606.  775.  850. 1260. 1600. 2220.] nm\n",
      "bandnames: ['FUV', 'NUV', 'U', 'B', 'V', 'R', 'I', 'J', 'H', 'K']\n",
      "channels: [[0, 1], [2, 3, 4, 5, 6], [7, 8, 9]]\n",
      "fiducials: [ 400.  400. 1200.] nm\n",
      "total_qe: [0.1   0.112 0.175 0.211 0.211 0.211 0.145 0.342 0.342 0.335] electron / ph\n",
      "ap_corr: [1. 1. 1. 1. 1. 1. 1. 1. 1. 1.] \n",
      "bandpass_r: [5. 5. 5. 5. 5. 5. 5. 5. 5. 5.] \n",
      "dark_current: [0.002 0.002 0.002 0.002 0.002 0.002 0.002 0.002 0.002 0.002] electron / (pix s)\n",
      "detector_rn: [2.5 2.5 2.5 2.5 2.5 2.5 2.5 2.5 2.5 2.5] electron(1/2) / pix(1/2)\n",
      "sky_sigma: [24.56 26.27 23.38 22.8  22.41 22.2  22.11 22.32 22.53 22.88] \n"
     ]
    }
   ],
   "source": [
    "for attr in c._tracked_attributes:\n",
    "    print('{}: {}, ({})'.format(attr, str_jsunit(getattr(c,attr))))"
   ]
  },
  {
   "cell_type": "code",
   "execution_count": 22,
   "metadata": {},
   "outputs": [
    {
     "data": {
      "text/plain": [
       "array([1., 1., 1., 1., 1., 1., 1., 1., 1., 1.])"
      ]
     },
     "execution_count": 22,
     "metadata": {},
     "output_type": "execute_result"
    }
   ],
   "source": [
    "c.recover('ap_corr').value"
   ]
  },
  {
   "cell_type": "code",
   "execution_count": 15,
   "metadata": {},
   "outputs": [
    {
     "name": "stdout",
     "output_type": "stream",
     "text": [
      "<class 'list'>\n"
     ]
    }
   ],
   "source": [
    "print(type(c.bandnames))"
   ]
  },
  {
   "cell_type": "code",
   "execution_count": 19,
   "metadata": {},
   "outputs": [
    {
     "data": {
      "text/plain": [
       "10"
      ]
     },
     "execution_count": 19,
     "metadata": {},
     "output_type": "execute_result"
    }
   ],
   "source": [
    "len(c.recover('dark_current'))"
   ]
  },
  {
   "cell_type": "code",
   "execution_count": 10,
   "metadata": {},
   "outputs": [
    {
     "name": "stdout",
     "output_type": "stream",
     "text": [
      "['JsonUnit', OrderedDict([('value', [0.002, 0.002, 0.002, 0.002, 0.002, 0.002, 0.002, 0.002, 0.002, 0.002]), ('unit', 'electron / (pix s)')])]\n",
      "<class 'list'>\n"
     ]
    }
   ],
   "source": [
    "print(c.dark_current)\n",
    "print(type(c.dark_current))"
   ]
  },
  {
   "cell_type": "code",
   "execution_count": 13,
   "metadata": {},
   "outputs": [
    {
     "name": "stdout",
     "output_type": "stream",
     "text": [
      "[0.002 0.002 0.002 0.002 0.002 0.002 0.002 0.002 0.002 0.002] electron / (pix s)\n",
      "<class 'astropy.units.quantity.Quantity'>\n"
     ]
    }
   ],
   "source": [
    "print(c.recover('dark_current'))\n",
    "print(type(c.recover('dark_current')))"
   ]
  },
  {
   "cell_type": "code",
   "execution_count": 20,
   "metadata": {},
   "outputs": [
    {
     "name": "stdout",
     "output_type": "stream",
     "text": [
      "[0.002 0.002 0.002 0.002 0.002 0.002 0.002 0.002 0.002 0.002]\n",
      "<class 'numpy.ndarray'>\n"
     ]
    }
   ],
   "source": [
    "print(c.recover('dark_current').value)\n",
    "print(type(c.recover('dark_current').value))"
   ]
  },
  {
   "cell_type": "code",
   "execution_count": 14,
   "metadata": {},
   "outputs": [
    {
     "name": "stdout",
     "output_type": "stream",
     "text": [
      "electron / (pix s)\n"
     ]
    }
   ],
   "source": [
    "dark_current = c.recover('dark_current')\n",
    "print(dark_current.unit)"
   ]
  }
 ],
 "metadata": {
  "kernelspec": {
   "display_name": "mejiro",
   "language": "python",
   "name": "python3"
  },
  "language_info": {
   "codemirror_mode": {
    "name": "ipython",
    "version": 3
   },
   "file_extension": ".py",
   "mimetype": "text/x-python",
   "name": "python",
   "nbconvert_exporter": "python",
   "pygments_lexer": "ipython3",
   "version": "3.10.6"
  }
 },
 "nbformat": 4,
 "nbformat_minor": 2
}
