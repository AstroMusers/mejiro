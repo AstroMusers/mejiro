{
 "cells": [
  {
   "cell_type": "code",
   "execution_count": 1,
   "metadata": {},
   "outputs": [],
   "source": [
    "import os\n",
    "import sys\n",
    "\n",
    "import numpy as np\n",
    "import matplotlib\n",
    "import matplotlib.pyplot as plt\n",
    "from matplotlib import colors\n",
    "from hydra import initialize, compose\n",
    "import pickle\n",
    "from glob import glob\n",
    "\n",
    "# set paths to various directories based on the machine this code is being executed on\n",
    "with initialize(version_base=None, config_path='../config'):\n",
    "    config = compose(config_name='config.yaml')  # overrides=['machine=uzay']\n",
    "\n",
    "array_dir, data_dir, figure_dir, pickle_dir, repo_dir  = config.machine.array_dir, config.machine.data_dir, config.machine.figure_dir, config.machine.pickle_dir, config.machine.repo_dir\n",
    "\n",
    "# enable use of local modules\n",
    "if repo_dir not in sys.path:\n",
    "    sys.path.append(repo_dir)\n",
    "\n",
    "# set matplotlib style\n",
    "plt.style.use(f'{repo_dir}/mejiro/mplstyle/science.mplstyle')\n",
    "\n",
    "from mejiro.lenses.test import SampleSkyPyLens\n",
    "from mejiro.plots import diagnostic_plot, plot, plot_util, overplot\n",
    "from mejiro.analysis import stats\n",
    "from mejiro.utils import util\n",
    "from mejiro.helpers import pyhalo"
   ]
  },
  {
   "cell_type": "code",
   "execution_count": 2,
   "metadata": {},
   "outputs": [],
   "source": [
    "array_dir = os.path.join(array_dir, 'sample_skypy_lens')\n",
    "\n",
    "grid_1_files = glob(array_dir + '/sample_skypy_lens_1_*')\n",
    "grid_3_files = glob(array_dir + '/sample_skypy_lens_3_*')\n",
    "grid_5_files = glob(array_dir + '/sample_skypy_lens_5_*')\n",
    "\n",
    "grid_1 = [np.load(i) for i in grid_1_files]\n",
    "grid_3 = [np.load(i) for i in grid_3_files]\n",
    "grid_5 = [np.load(i) for i in grid_5_files]"
   ]
  },
  {
   "cell_type": "code",
   "execution_count": 10,
   "metadata": {},
   "outputs": [],
   "source": [
    "def get_residual_list(array_list):\n",
    "    last_array = array_list[-1]\n",
    "    return [(last_array - i) for i in array_list]"
   ]
  },
  {
   "cell_type": "code",
   "execution_count": 12,
   "metadata": {},
   "outputs": [
    {
     "name": "stdout",
     "output_type": "stream",
     "text": [
      "(45, 45)\n",
      "(51, 51)\n",
      "(51, 51)\n",
      "(51, 51)\n",
      "(51, 51)\n",
      "(51, 51)\n",
      "(51, 51)\n"
     ]
    }
   ],
   "source": [
    "for each in grid_1:\n",
    "    print(each.shape)"
   ]
  },
  {
   "cell_type": "code",
   "execution_count": 11,
   "metadata": {},
   "outputs": [
    {
     "ename": "ValueError",
     "evalue": "operands could not be broadcast together with shapes (51,51) (45,45) ",
     "output_type": "error",
     "traceback": [
      "\u001b[0;31m---------------------------------------------------------------------------\u001b[0m",
      "\u001b[0;31mValueError\u001b[0m                                Traceback (most recent call last)",
      "Input \u001b[0;32mIn [11]\u001b[0m, in \u001b[0;36m<cell line: 1>\u001b[0;34m()\u001b[0m\n\u001b[0;32m----> 1\u001b[0m grid_1_residuals \u001b[38;5;241m=\u001b[39m \u001b[43mget_residual_list\u001b[49m\u001b[43m(\u001b[49m\u001b[43mgrid_1\u001b[49m\u001b[43m)\u001b[49m\n\u001b[1;32m      2\u001b[0m title_1_list \u001b[38;5;241m=\u001b[39m [os\u001b[38;5;241m.\u001b[39mpath\u001b[38;5;241m.\u001b[39mbasename(i) \u001b[38;5;28;01mfor\u001b[39;00m i \u001b[38;5;129;01min\u001b[39;00m grid_1_files]\n\u001b[1;32m      4\u001b[0m fig, ax \u001b[38;5;241m=\u001b[39m plt\u001b[38;5;241m.\u001b[39msubplots(nrows\u001b[38;5;241m=\u001b[39m\u001b[38;5;241m1\u001b[39m, ncols\u001b[38;5;241m=\u001b[39m\u001b[38;5;28mlen\u001b[39m(grid_1_residuals), figsize\u001b[38;5;241m=\u001b[39m(\u001b[38;5;28mlen\u001b[39m(grid_1_residuals) \u001b[38;5;241m*\u001b[39m \u001b[38;5;241m4\u001b[39m, \u001b[38;5;241m3\u001b[39m))\n",
      "Input \u001b[0;32mIn [10]\u001b[0m, in \u001b[0;36mget_residual_list\u001b[0;34m(array_list)\u001b[0m\n\u001b[1;32m      1\u001b[0m \u001b[38;5;28;01mdef\u001b[39;00m \u001b[38;5;21mget_residual_list\u001b[39m(array_list):\n\u001b[1;32m      2\u001b[0m     last_array \u001b[38;5;241m=\u001b[39m array_list[\u001b[38;5;241m-\u001b[39m\u001b[38;5;241m1\u001b[39m]\n\u001b[0;32m----> 3\u001b[0m     \u001b[38;5;28;01mreturn\u001b[39;00m [(last_array \u001b[38;5;241m-\u001b[39m i) \u001b[38;5;28;01mfor\u001b[39;00m i \u001b[38;5;129;01min\u001b[39;00m array_list]\n",
      "Input \u001b[0;32mIn [10]\u001b[0m, in \u001b[0;36m<listcomp>\u001b[0;34m(.0)\u001b[0m\n\u001b[1;32m      1\u001b[0m \u001b[38;5;28;01mdef\u001b[39;00m \u001b[38;5;21mget_residual_list\u001b[39m(array_list):\n\u001b[1;32m      2\u001b[0m     last_array \u001b[38;5;241m=\u001b[39m array_list[\u001b[38;5;241m-\u001b[39m\u001b[38;5;241m1\u001b[39m]\n\u001b[0;32m----> 3\u001b[0m     \u001b[38;5;28;01mreturn\u001b[39;00m [(\u001b[43mlast_array\u001b[49m\u001b[43m \u001b[49m\u001b[38;5;241;43m-\u001b[39;49m\u001b[43m \u001b[49m\u001b[43mi\u001b[49m) \u001b[38;5;28;01mfor\u001b[39;00m i \u001b[38;5;129;01min\u001b[39;00m array_list]\n",
      "\u001b[0;31mValueError\u001b[0m: operands could not be broadcast together with shapes (51,51) (45,45) "
     ]
    }
   ],
   "source": [
    "grid_1_residuals = get_residual_list(grid_1)\n",
    "title_1_list = [os.path.basename(i) for i in grid_1_files]\n",
    "\n",
    "fig, ax = plt.subplots(nrows=1, ncols=len(grid_1_residuals), figsize=(len(grid_1_residuals) * 4, 3))\n",
    "axis = diagnostic_plot.residual_compare(ax, grid_1_residuals, title_1_list, linear_width=0.005)\n",
    "\n",
    "fig.colorbar(axis, ax=ax, ticks=[-0.01, -0.001, 0, 0.001, 0.01])"
   ]
  }
 ],
 "metadata": {
  "kernelspec": {
   "display_name": "pandeia",
   "language": "python",
   "name": "python3"
  },
  "language_info": {
   "codemirror_mode": {
    "name": "ipython",
    "version": 3
   },
   "file_extension": ".py",
   "mimetype": "text/x-python",
   "name": "python",
   "nbconvert_exporter": "python",
   "pygments_lexer": "ipython3",
   "version": "3.10.6"
  }
 },
 "nbformat": 4,
 "nbformat_minor": 2
}
