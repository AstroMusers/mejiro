{
 "cells": [
  {
   "cell_type": "code",
   "execution_count": 32,
   "metadata": {},
   "outputs": [],
   "source": [
    "import matplotlib\n",
    "import numpy as np\n",
    "import os\n",
    "import sys\n",
    "%matplotlib inline\n",
    "import matplotlib.pyplot as plt\n",
    "from matplotlib import colors\n",
    "from hydra import initialize, compose\n",
    "import pickle\n",
    "from glob import glob\n",
    "from pprint import pprint\n",
    "from tqdm import tqdm\n",
    "import galsim\n",
    "\n",
    "# set paths to various directories based on the machine this code is being executed on\n",
    "with initialize(version_base=None, config_path='config'):\n",
    "    config = compose(config_name='config.yaml')  # overrides=['machine=uzay']\n",
    "\n",
    "array_dir, data_dir, figure_dir, pickle_dir, repo_dir = config.machine.array_dir, config.machine.data_dir, config.machine.figure_dir, config.machine.pickle_dir, config.machine.repo_dir\n",
    "\n",
    "# enable use of local modules\n",
    "if repo_dir not in sys.path:\n",
    "    sys.path.append(repo_dir)\n",
    "\n",
    "# set matplotlib style\n",
    "plt.style.use(f'{repo_dir}/mejiro/mplstyle/science.mplstyle')\n",
    "\n",
    "from mejiro.lenses.test import SampleStrongLens\n",
    "from mejiro.plots import diagnostic_plot, plot, plot_util, overplot\n",
    "from mejiro.analysis import stats\n",
    "from mejiro.utils import util\n",
    "from mejiro.helpers import gs"
   ]
  },
  {
   "cell_type": "code",
   "execution_count": 33,
   "metadata": {},
   "outputs": [],
   "source": [
    "num_pix = 45\n",
    "exposure_time = 146\n",
    "detector = 1\n",
    "band = 'F129'"
   ]
  },
  {
   "cell_type": "code",
   "execution_count": 34,
   "metadata": {},
   "outputs": [],
   "source": [
    "# ra = random.uniform(15, 45)\n",
    "# dec = random.uniform(-45, -15)\n",
    "# date = datetime.datetime(year=2027, month=7, day=7, hour=0, minute=0, second=0)"
   ]
  },
  {
   "cell_type": "code",
   "execution_count": 35,
   "metadata": {},
   "outputs": [
    {
     "name": "stdout",
     "output_type": "stream",
     "text": [
      "19165.80 e-/arcsec^2\n"
     ]
    }
   ],
   "source": [
    "ra = 30\n",
    "dec = -30\n",
    "\n",
    "wcs_dict = gs.get_wcs(ra, dec, date=None)\n",
    "\n",
    "# get bandpass object\n",
    "bandpass = gs.get_bandpass(band)\n",
    "\n",
    "# get wcs\n",
    "wcs = wcs_dict[detector]\n",
    "\n",
    "# build Image\n",
    "sky_image = galsim.ImageF(num_pix, num_pix, wcs=wcs)\n",
    "\n",
    "sca_cent_pos = wcs.toWorld(sky_image.true_center)\n",
    "sky_level = galsim.roman.getSkyLevel(bandpass, world_pos=sca_cent_pos, exptime=exposure_time)\n",
    "print(f'{sky_level:.2f} e-/arcsec^2')"
   ]
  },
  {
   "cell_type": "markdown",
   "metadata": {},
   "source": [
    "convert this sky level I've been defaulting to for SNR calculation to something I can compare to Roman technical specifications\n",
    "\n",
    "Roman technical specifications gives count rates per pixel for zodiacal light, which is what sky background is\n",
    "\n",
    "as of June 3, 2024, https://roman.gsfc.nasa.gov/science/WFI_technical.html says 0.267 counts/pixel for F129"
   ]
  },
  {
   "cell_type": "code",
   "execution_count": 36,
   "metadata": {},
   "outputs": [
    {
     "name": "stdout",
     "output_type": "stream",
     "text": [
      "131.27263545784015 e-/arcsec^2/sec\n",
      "1.5883988890398657\n"
     ]
    }
   ],
   "source": [
    "sky_level /= exposure_time\n",
    "print(f'{sky_level} e-/arcsec^2/sec')\n",
    "sky_level *= 0.11 ** 2\n",
    "print(f'{sky_level} e-/pixel/sec')"
   ]
  },
  {
   "cell_type": "code",
   "execution_count": 37,
   "metadata": {},
   "outputs": [
    {
     "name": "stdout",
     "output_type": "stream",
     "text": [
      "0.40 e-/pixel/sec\n",
      "119.45% difference, factor 3.97\n"
     ]
    }
   ],
   "source": [
    "expected_sky_level = 0.267 * 1.5\n",
    "print(f'{expected_sky_level:.2f} e-/pixel/sec')\n",
    "print(\n",
    "    f'{util.percent_difference(expected_sky_level, sky_level):.2f}% difference, factor {sky_level / expected_sky_level:.2f}')"
   ]
  },
  {
   "cell_type": "code",
   "execution_count": 38,
   "metadata": {},
   "outputs": [
    {
     "name": "stderr",
     "output_type": "stream",
     "text": [
      "  0%|          | 0/10 [00:00<?, ?it/s]"
     ]
    },
    {
     "name": "stderr",
     "output_type": "stream",
     "text": [
      "100%|██████████| 10/10 [00:05<00:00,  1.76it/s]\n"
     ]
    }
   ],
   "source": [
    "points = 10\n",
    "sky_level_array = np.empty((points, points))\n",
    "\n",
    "for i, ra in tqdm(enumerate(np.linspace(15, 45, points)), total=points):\n",
    "    for j, dec in enumerate(np.linspace(-45, -15, points)):\n",
    "        wcs_dict = gs.get_wcs(ra, dec, date=None)\n",
    "        wcs = wcs_dict[detector]\n",
    "        sky_image = galsim.ImageF(num_pix, num_pix, wcs=wcs)\n",
    "        sca_cent_pos = wcs.toWorld(sky_image.true_center)\n",
    "        sky_level = galsim.roman.getSkyLevel(bandpass, world_pos=sca_cent_pos, exptime=exposure_time)\n",
    "        sky_level /= exposure_time\n",
    "        sky_level *= 0.11 ** 2\n",
    "        sky_level_array[i][j] = sky_level"
   ]
  },
  {
   "cell_type": "code",
   "execution_count": 39,
   "metadata": {},
   "outputs": [
    {
     "data": {
      "image/png": "[encoded data removed]",
      "text/plain": [
       "<Figure size 700x525 with 2 Axes>"
      ]
     },
     "metadata": {},
     "output_type": "display_data"
    }
   ],
   "source": [
    "plt.imshow(sky_level_array)\n",
    "plt.colorbar()\n",
    "plt.show()"
   ]
  },
  {
   "cell_type": "code",
   "execution_count": 40,
   "metadata": {},
   "outputs": [
    {
     "name": "stdout",
     "output_type": "stream",
     "text": [
      "0.1\n"
     ]
    }
   ],
   "source": [
    "sky_level *= (1. + galsim.roman.stray_light_fraction)\n",
    "wcs.makeSkyImage(sky_image, sky_level)\n",
    "print(galsim.roman.stray_light_fraction)"
   ]
  },
  {
   "cell_type": "code",
   "execution_count": 41,
   "metadata": {},
   "outputs": [
    {
     "name": "stdout",
     "output_type": "stream",
     "text": [
      "0.0\n"
     ]
    }
   ],
   "source": [
    "thermal_bkg = galsim.roman.thermal_backgrounds[gs.get_bandpass_key(band)] * exposure_time\n",
    "print(thermal_bkg)\n",
    "sky_image += thermal_bkg"
   ]
  },
  {
   "cell_type": "code",
   "execution_count": 42,
   "metadata": {},
   "outputs": [
    {
     "data": {
      "image/png": "[encoded data removed]",
      "text/plain": [
       "<Figure size 700x525 with 2 Axes>"
      ]
     },
     "metadata": {},
     "output_type": "display_data"
    }
   ],
   "source": [
    "plt.imshow(sky_image.array)\n",
    "plt.colorbar()\n",
    "plt.show()"
   ]
  },
  {
   "cell_type": "code",
   "execution_count": 45,
   "metadata": {},
   "outputs": [],
   "source": [
    "from mejiro.instruments.roman import Roman\n",
    "\n",
    "roman_params = Roman()\n",
    "\n",
    "bands = ['F106', 'F129', 'F158', 'F184']\n",
    "\n",
    "bkgs = {}\n",
    "for band in bands:\n",
    "    # build Image\n",
    "    sky_image = galsim.ImageF(num_pix, num_pix)\n",
    "\n",
    "    # get minimum zodiacal light in this band in counts/pixel/sec\n",
    "    sky_level = roman_params.get_min_zodi(band)\n",
    "\n",
    "    # \"For observations at high galactic latitudes, the Zodi intensity is typically ~1.5x the minimum\" (https://roman.gsfc.nasa.gov/science/WFI_technical.html)\n",
    "    sky_level *= 1.5\n",
    "\n",
    "    # the stray light level is currently set in GalSim to a pessimistic 10% of sky level\n",
    "    sky_level *= (1. + galsim.roman.stray_light_fraction)\n",
    "\n",
    "    # get thermal background in this band in counts/pixel/sec\n",
    "    thermal_bkg = roman_params.get_thermal_bkg(band)\n",
    "\n",
    "    # combine the two backgrounds (still counts/pixel/sec)\n",
    "    sky_image += sky_level\n",
    "    sky_image += thermal_bkg\n",
    "\n",
    "    # convert to counts/pixel\n",
    "    sky_image *= exposure_time\n",
    "\n",
    "    bkgs[band] = sky_image"
   ]
  },
  {
   "cell_type": "code",
   "execution_count": 47,
   "metadata": {},
   "outputs": [
    {
     "data": {
      "image/png": "[encoded data removed]",
      "text/plain": [
       "<Figure size 2000x500 with 4 Axes>"
      ]
     },
     "metadata": {},
     "output_type": "display_data"
    }
   ],
   "source": [
    "_, ax = plt.subplots(1, 4, figsize=(20, 5))\n",
    "\n",
    "for i, band in enumerate(bands):\n",
    "    ax[i].imshow(bkgs[band].array)\n",
    "    ax[i].set_title(f'{band}: {bkgs[band].array.mean():.2f} avg counts/pixel in 146s exposure')\n",
    "\n",
    "plt.show()"
   ]
  }
 ],
 "metadata": {
  "kernelspec": {
   "display_name": "mejiro",
   "language": "python",
   "name": "python3"
  },
  "language_info": {
   "codemirror_mode": {
    "name": "ipython",
    "version": 3
   },
   "file_extension": ".py",
   "mimetype": "text/x-python",
   "name": "python",
   "nbconvert_exporter": "python",
   "pygments_lexer": "ipython3",
   "version": "3.10.6"
  }
 },
 "nbformat": 4,
 "nbformat_minor": 2
}
