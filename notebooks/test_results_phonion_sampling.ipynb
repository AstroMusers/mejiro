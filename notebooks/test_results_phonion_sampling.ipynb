{
 "cells": [
  {
   "cell_type": "code",
   "execution_count": null,
   "metadata": {},
   "outputs": [],
   "source": [
    "import os\n",
    "import sys\n",
    "\n",
    "path = os.getcwd()\n",
    "while os.path.basename(os.path.normpath(path)) != 'roman-pandeia':\n",
    "    path = os.path.dirname(path)\n",
    "repo_path = path\n",
    "if repo_path not in sys.path:\n",
    "    sys.path.append(repo_path)"
   ]
  },
  {
   "cell_type": "code",
   "execution_count": null,
   "metadata": {},
   "outputs": [],
   "source": [
    "import numpy as np\n",
    "import matplotlib.pyplot as plt\n",
    "from matplotlib import colors\n",
    "from glob import glob\n",
    "\n",
    "from package.helpers import test_physical_lens\n",
    "from package.plots import diagnostic_plot, plot\n",
    "\n",
    "plt.style.use(f'{repo_path}/package/mplstyle/science.mplstyle')"
   ]
  },
  {
   "cell_type": "code",
   "execution_count": null,
   "metadata": {},
   "outputs": [],
   "source": [
    "array_dir_grid = os.path.join(repo_path, 'output', 'arrays', 'diagnostics', 'grid_oversampling')\n",
    "array_dir_samples = os.path.join(repo_path, 'output', 'arrays', 'diagnostics', 'num_samples')\n",
    "\n",
    "figure_dir_grid = os.path.join(repo_path, 'figures', 'diagnostics', 'grid_oversampling')\n",
    "figure_dir_samples = os.path.join(repo_path, 'figures', 'diagnostics', 'num_samples')\n",
    "\n",
    "grid_list = glob(array_dir_grid + '/grid_oversampling_*.npy')\n",
    "samples_list = glob(array_dir_samples + '/num_samples_*.npy')"
   ]
  },
  {
   "cell_type": "code",
   "execution_count": null,
   "metadata": {},
   "outputs": [],
   "source": [
    "fig, ax = plt.subplots(nrows=1, ncols=len(grid_list), figsize=(24, 4))\n",
    "\n",
    "title_list = [os.path.basename(i) for i in grid_list]\n",
    "\n",
    "for i, file in enumerate(grid_list):\n",
    "    array = np.load(file)\n",
    "    axis = ax[i].imshow(array)\n",
    "    # ax[i].set_title(title_list[i])\n",
    "    ax[i].set_axis_off()\n",
    "\n",
    "# fig.colorbar(axis, ax=ax, ticks=[-0.1, -0.01, -0.001, 0, 0.001, 0.01, 0.1])\n",
    "\n",
    "plt.savefig(os.path.join(figure_dir_grid, 'grid_oversampling.png'))\n",
    "plt.show()"
   ]
  },
  {
   "cell_type": "code",
   "execution_count": null,
   "metadata": {},
   "outputs": [],
   "source": [
    "fig, ax = plt.subplots(nrows=1, ncols=len(samples_list), figsize=(24, 4))\n",
    "\n",
    "title_list = [os.path.basename(i) for i in samples_list]\n",
    "\n",
    "for i, file in enumerate(samples_list):\n",
    "    array = np.load(file)\n",
    "    axis = ax[i].imshow(array)\n",
    "    # ax[i].set_title(title_list[i])\n",
    "    ax[i].set_axis_off()\n",
    "\n",
    "# fig.colorbar(axis, ax=ax, ticks=[-0.1, -0.01, -0.001, 0, 0.001, 0.01, 0.1])\n",
    "\n",
    "plt.savefig(os.path.join(figure_dir_samples, 'num_samples.png'))\n",
    "plt.show()"
   ]
  }
 ],
 "metadata": {
  "language_info": {
   "name": "python"
  }
 },
 "nbformat": 4,
 "nbformat_minor": 2
}
