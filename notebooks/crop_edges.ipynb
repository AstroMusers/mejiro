{
 "cells": [
  {
   "cell_type": "code",
   "execution_count": 39,
   "metadata": {},
   "outputs": [],
   "source": [
    "import os\n",
    "import sys\n",
    "\n",
    "path = os.getcwd()\n",
    "while os.path.basename(os.path.normpath(path)) != 'roman-pandeia':\n",
    "    path = os.path.dirname(path)\n",
    "repo_path = path\n",
    "if repo_path not in sys.path:\n",
    "    sys.path.append(repo_path)"
   ]
  },
  {
   "cell_type": "code",
   "execution_count": 62,
   "metadata": {},
   "outputs": [],
   "source": [
    "import numpy as np\n",
    "import time\n",
    "\n",
    "from pprint import pprint\n",
    "from tqdm import tqdm\n",
    "\n",
    "import matplotlib\n",
    "import matplotlib.pyplot as plt\n",
    "\n",
    "from pandeia.engine.perform_calculation import perform_calculation\n",
    "from pandeia.engine.calc_utils import build_default_calc, build_default_source\n",
    "from lenstronomy.Util import data_util\n",
    "from lenstronomy.SimulationAPI.ObservationConfig.Roman import Roman\n",
    "\n",
    "from package.pandeia import pandeia_input\n",
    "from package.helpers import test_physical_lens, test_physical_lens_2\n",
    "from package.plots import plot, diagnostic_plot\n",
    "\n",
    "plt.style.use(f'{repo_path}/package/mplstyle/science.mplstyle')"
   ]
  },
  {
   "cell_type": "code",
   "execution_count": 54,
   "metadata": {},
   "outputs": [],
   "source": [
    "oversample_factor_list = [1, 3, 5, 7, 9]\n",
    "execution_time = []\n",
    "\n",
    "csv = os.path.join(repo_path, 'data', 'roman_spacecraft_and_instrument_parameters.csv')\n",
    "figure_dir = os.path.join(repo_path, 'figures')\n",
    "array_dir = os.path.join(repo_path, 'output', 'arrays')\n",
    "\n",
    "lens = test_physical_lens.TestPhysicalLens()\n",
    "lens_2 = test_physical_lens_2.TestPhysicalLens2()"
   ]
  },
  {
   "cell_type": "code",
   "execution_count": 42,
   "metadata": {},
   "outputs": [],
   "source": [
    "lenstronomy_roman_config = Roman(band='F106', psf_type='PIXEL', survey_mode='wide_area').kwargs_single_band()\n",
    "magnitude_zero_point = lenstronomy_roman_config.get('magnitude_zero_point')"
   ]
  },
  {
   "cell_type": "code",
   "execution_count": 43,
   "metadata": {},
   "outputs": [],
   "source": [
    "# TODO for testing\n",
    "oversample_factor = oversample_factor_list[0]"
   ]
  },
  {
   "cell_type": "code",
   "execution_count": 44,
   "metadata": {},
   "outputs": [
    {
     "name": "stderr",
     "output_type": "stream",
     "text": [
      "100%|██████████| 45/45 [00:00<00:00, 5564.05it/s]\n"
     ]
    },
    {
     "name": "stdout",
     "output_type": "stream",
     "text": [
      "Converting (45, 45) array to point sources...\n"
     ]
    },
    {
     "name": "stderr",
     "output_type": "stream",
     "text": [
      "  0%|          | 0/45 [00:00<?, ?it/s]"
     ]
    },
    {
     "name": "stderr",
     "output_type": "stream",
     "text": [
      "100%|██████████| 45/45 [00:27<00:00,  1.66it/s]"
     ]
    },
    {
     "name": "stdout",
     "output_type": "stream",
     "text": [
      "Point source conversion complete: 2025 point sources\n"
     ]
    },
    {
     "name": "stderr",
     "output_type": "stream",
     "text": [
      "\n"
     ]
    }
   ],
   "source": [
    "physical_lens = test_physical_lens.TestPhysicalLens()\n",
    "model = physical_lens.get_array(num_pix=45 * oversample_factor, side=5.2)\n",
    "\n",
    "calc = pandeia_input.build_pandeia_calc(csv=csv, array=model, lens=physical_lens, band='f106', oversample_factor=oversample_factor)"
   ]
  },
  {
   "cell_type": "code",
   "execution_count": 45,
   "metadata": {},
   "outputs": [
    {
     "name": "stdout",
     "output_type": "stream",
     "text": [
      "Performing Pandeia calculation...\n"
     ]
    },
    {
     "name": "stderr",
     "output_type": "stream",
     "text": [
      "/data/bwedig/.conda/envs/pandeia/lib/python3.9/site-packages/pandeia/engine/report.py:1012: RuntimeWarning: divide by zero encountered in log\n",
      "  if np.log(abs(val)) < -1*precision and val != 0.0:\n"
     ]
    },
    {
     "name": "stdout",
     "output_type": "stream",
     "text": [
      "Pandeia calculation complete\n"
     ]
    }
   ],
   "source": [
    "detector, execution_time = pandeia_input.get_pandeia_image(calc)"
   ]
  },
  {
   "cell_type": "code",
   "execution_count": 46,
   "metadata": {},
   "outputs": [
    {
     "name": "stdout",
     "output_type": "stream",
     "text": [
      "(53, 53)\n"
     ]
    }
   ],
   "source": [
    "print(detector.shape)"
   ]
  },
  {
   "cell_type": "code",
   "execution_count": 63,
   "metadata": {},
   "outputs": [
    {
     "data": {
      "image/png": "[encoded data removed]",
      "text/plain": [
       "<Figure size 700x525 with 1 Axes>"
      ]
     },
     "metadata": {},
     "output_type": "display_data"
    }
   ],
   "source": [
    "plot.plot(None, None, detector)"
   ]
  }
 ],
 "metadata": {
  "kernelspec": {
   "display_name": "pandeia",
   "language": "python",
   "name": "python3"
  },
  "language_info": {
   "codemirror_mode": {
    "name": "ipython",
    "version": 3
   },
   "file_extension": ".py",
   "mimetype": "text/x-python",
   "name": "python",
   "nbconvert_exporter": "python",
   "pygments_lexer": "ipython3",
   "version": "3.9.13"
  }
 },
 "nbformat": 4,
 "nbformat_minor": 2
}
