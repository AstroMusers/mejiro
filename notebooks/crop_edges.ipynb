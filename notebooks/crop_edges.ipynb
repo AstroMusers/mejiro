{
 "cells": [
  {
   "cell_type": "code",
   "execution_count": null,
   "metadata": {},
   "outputs": [],
   "source": [
    "import os\n",
    "import sys\n",
    "\n",
    "path = os.getcwd()\n",
    "while os.path.basename(os.path.normpath(path)) != 'roman-pandeia':\n",
    "    path = os.path.dirname(path)\n",
    "repo_path = path\n",
    "if repo_path not in sys.path:\n",
    "    sys.path.append(repo_path)"
   ]
  },
  {
   "cell_type": "code",
   "execution_count": null,
   "metadata": {},
   "outputs": [],
   "source": [
    "import numpy as np\n",
    "import time\n",
    "\n",
    "from pprint import pprint\n",
    "from tqdm import tqdm\n",
    "\n",
    "import matplotlib\n",
    "import matplotlib.pyplot as plt\n",
    "\n",
    "matplotlib.rcParams['axes.grid'] = False\n",
    "matplotlib.rcParams['image.origin'] = 'lower'\n",
    "\n",
    "from pandeia.engine.perform_calculation import perform_calculation\n",
    "from pandeia.engine.calc_utils import build_default_calc, build_default_source\n",
    "from lenstronomy.Util import data_util\n",
    "from lenstronomy.SimulationAPI.ObservationConfig.Roman import Roman\n",
    "\n",
    "from package.pandeia import pandeia_input\n",
    "from package.helpers import test_physical_lens, test_physical_lens_2\n",
    "from package.plots import plot, diagnostic_plot"
   ]
  },
  {
   "cell_type": "code",
   "execution_count": null,
   "metadata": {},
   "outputs": [],
   "source": [
    "oversample_factor_list = [1, 3, 5, 7, 9]\n",
    "execution_time = []\n",
    "\n",
    "figure_dir = os.path.join(repo_path, 'figures')\n",
    "array_dir = os.path.join(repo_path, 'output', 'arrays')\n",
    "\n",
    "lens = test_physical_lens.TestPhysicalLens()\n",
    "lens_2 = test_physical_lens_2.TestPhysicalLens2()"
   ]
  },
  {
   "cell_type": "code",
   "execution_count": null,
   "metadata": {},
   "outputs": [],
   "source": [
    "lenstronomy_roman_config = Roman(band='F106', psf_type='PIXEL', survey_mode='wide_area').kwargs_single_band()\n",
    "magnitude_zero_point = lenstronomy_roman_config.get('magnitude_zero_point')"
   ]
  },
  {
   "cell_type": "code",
   "execution_count": null,
   "metadata": {},
   "outputs": [],
   "source": [
    "# TODO for testing\n",
    "oversample_factor = oversample_factor_list[0]"
   ]
  },
  {
   "cell_type": "code",
   "execution_count": null,
   "metadata": {},
   "outputs": [],
   "source": [
    "physical_lens = test_physical_lens.TestPhysicalLens()\n",
    "model = physical_lens.get_array(num_pix=45 * oversample_factor, side=5.2)\n",
    "\n",
    "calc = pandeia_input.build_pandeia_calc(array=model, lens=physical_lens, band='f106', oversample_factor=oversample_factor)"
   ]
  }
 ],
 "metadata": {
  "language_info": {
   "name": "python"
  }
 },
 "nbformat": 4,
 "nbformat_minor": 2
}
