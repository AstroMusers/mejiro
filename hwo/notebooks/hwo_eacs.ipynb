{
 "cells": [
  {
   "cell_type": "code",
   "execution_count": 1,
   "metadata": {},
   "outputs": [
    {
     "name": "stdout",
     "output_type": "stream",
     "text": [
      "Warning, 5 of 20000 bins contained negative fluxes; they have been set to zero.\n",
      "Warning, 3590 of 20000 bins contained negative fluxes; they have been set to zero.\n",
      "Warning, 293 of 2920 bins contained negative fluxes; they have been set to zero.\n",
      "Warning, 5 of 20000 bins contained negative fluxes; they have been set to zero.\n",
      "Warning, 3590 of 20000 bins contained negative fluxes; they have been set to zero.\n",
      "Warning, 293 of 2920 bins contained negative fluxes; they have been set to zero.\n"
     ]
    }
   ],
   "source": [
    "import os\n",
    "import sys\n",
    "import random\n",
    "from glob import glob\n",
    "from copy import deepcopy\n",
    "from pprint import pprint\n",
    "\n",
    "import numpy as np\n",
    "import matplotlib.pyplot as plt\n",
    "import matplotlib\n",
    "from tqdm import tqdm\n",
    "\n",
    "# enable use of local modules\n",
    "repo_dir = '/grad/bwedig/mejiro'\n",
    "if repo_dir not in sys.path:\n",
    "    sys.path.append(repo_dir)\n",
    "\n",
    "from mejiro.instruments.hwo import HWO\n",
    "from mejiro.synthetic_image import SyntheticImage\n",
    "from mejiro.galaxy_galaxy import GalaxyGalaxy, SampleGG, SampleBELLS, SampleSL2S\n",
    "from mejiro.exposure import Exposure\n",
    "from mejiro.utils import util\n",
    "\n",
    "# set matplotlib style\n",
    "plt.style.use(f'{repo_dir}/mejiro/mplstyle/science.mplstyle')\n",
    "\n",
    "# set HWO directory\n",
    "hwo_dir = os.path.join(repo_dir, 'hwo')"
   ]
  },
  {
   "cell_type": "code",
   "execution_count": 3,
   "metadata": {},
   "outputs": [
    {
     "name": "stdout",
     "output_type": "stream",
     "text": [
      "'aperture: 7.2 m'\n",
      "'effective aperture: 7.2 m'\n",
      "(\"pixel scale: {'FUV': <Quantity 0.00572958 arcsec / pix>, 'NUV': <Quantity \"\n",
      " \"0.00572958 arcsec / pix>, 'U': <Quantity 0.00572958 arcsec / pix>, 'B': \"\n",
      " \"<Quantity 0.00572958 arcsec / pix>, 'V': <Quantity 0.00572958 arcsec / pix>, \"\n",
      " \"'R': <Quantity 0.00572958 arcsec / pix>, 'I': <Quantity 0.00572958 arcsec / \"\n",
      " \"pix>, 'J': <Quantity 0.01718873 arcsec / pix>, 'H': <Quantity 0.01718873 \"\n",
      " \"arcsec / pix>, 'K': <Quantity 0.01718873 arcsec / pix>}\")\n",
      "(\"psf fwhm: {'FUV': <Quantity 0.01475366 arcsec>, 'NUV': <Quantity 0.01475366 \"\n",
      " \"arcsec>, 'U': <Quantity 0.01475366 arcsec>, 'B': <Quantity 0.01475366 \"\n",
      " \"arcsec>, 'V': <Quantity 0.01788144 arcsec>, 'R': <Quantity 0.02286818 \"\n",
      " \"arcsec>, 'I': <Quantity 0.02508123 arcsec>, 'J': <Quantity 0.03717923 \"\n",
      " \"arcsec>, 'H': <Quantity 0.04721172 arcsec>, 'K': <Quantity 0.06550626 \"\n",
      " 'arcsec>}')\n"
     ]
    }
   ],
   "source": [
    "eac1 = HWO('EAC1')\n",
    "\n",
    "pprint(f'aperture: {eac1.aperture}')\n",
    "pprint(f'effective aperture: {eac1.effective_aperture}')\n",
    "pprint(f'pixel scale: {eac1.pixel_scale}')\n",
    "pprint(f'psf fwhm: {eac1.psf_fwhm}')"
   ]
  },
  {
   "cell_type": "code",
   "execution_count": 4,
   "metadata": {},
   "outputs": [
    {
     "name": "stdout",
     "output_type": "stream",
     "text": [
      "'aperture: 6.0 m'\n",
      "'effective aperture: 6.0 m'\n",
      "(\"pixel scale: {'FUV': <Quantity 0.00687549 arcsec / pix>, 'NUV': <Quantity \"\n",
      " \"0.00687549 arcsec / pix>, 'U': <Quantity 0.00687549 arcsec / pix>, 'B': \"\n",
      " \"<Quantity 0.00687549 arcsec / pix>, 'V': <Quantity 0.00687549 arcsec / pix>, \"\n",
      " \"'R': <Quantity 0.00687549 arcsec / pix>, 'I': <Quantity 0.00687549 arcsec / \"\n",
      " \"pix>, 'J': <Quantity 0.02062648 arcsec / pix>, 'H': <Quantity 0.02062648 \"\n",
      " \"arcsec / pix>, 'K': <Quantity 0.02062648 arcsec / pix>}\")\n",
      "(\"psf fwhm: {'FUV': <Quantity 0.0177044 arcsec>, 'NUV': <Quantity 0.0177044 \"\n",
      " \"arcsec>, 'U': <Quantity 0.0177044 arcsec>, 'B': <Quantity 0.0177044 arcsec>, \"\n",
      " \"'V': <Quantity 0.02145773 arcsec>, 'R': <Quantity 0.02744181 arcsec>, 'I': \"\n",
      " \"<Quantity 0.03009747 arcsec>, 'J': <Quantity 0.04461508 arcsec>, 'H': \"\n",
      " \"<Quantity 0.05665407 arcsec>, 'K': <Quantity 0.07860752 arcsec>}\")\n"
     ]
    }
   ],
   "source": [
    "eac2 = HWO('EAC2')\n",
    "\n",
    "pprint(f'aperture: {eac2.aperture}')\n",
    "pprint(f'effective aperture: {eac2.effective_aperture}')\n",
    "pprint(f'pixel scale: {eac2.pixel_scale}')\n",
    "pprint(f'psf fwhm: {eac2.psf_fwhm}')"
   ]
  },
  {
   "cell_type": "code",
   "execution_count": 5,
   "metadata": {},
   "outputs": [
    {
     "name": "stdout",
     "output_type": "stream",
     "text": [
      "'aperture: 8.0 m'\n",
      "'effective aperture: 7.58946638440411 m'\n",
      "(\"pixel scale: {'FUV': <Quantity 0.00515662 arcsec / pix>, 'NUV': <Quantity \"\n",
      " \"0.00515662 arcsec / pix>, 'U': <Quantity 0.00515662 arcsec / pix>, 'B': \"\n",
      " \"<Quantity 0.00515662 arcsec / pix>, 'V': <Quantity 0.00515662 arcsec / pix>, \"\n",
      " \"'R': <Quantity 0.00515662 arcsec / pix>, 'I': <Quantity 0.00515662 arcsec / \"\n",
      " \"pix>, 'J': <Quantity 0.01546986 arcsec / pix>, 'H': <Quantity 0.01546986 \"\n",
      " \"arcsec / pix>, 'K': <Quantity 0.01546986 arcsec / pix>}\")\n",
      "(\"psf fwhm: {'FUV': <Quantity 0.0132783 arcsec>, 'NUV': <Quantity 0.0132783 \"\n",
      " \"arcsec>, 'U': <Quantity 0.0132783 arcsec>, 'B': <Quantity 0.0132783 arcsec>, \"\n",
      " \"'V': <Quantity 0.0160933 arcsec>, 'R': <Quantity 0.02058136 arcsec>, 'I': \"\n",
      " \"<Quantity 0.0225731 arcsec>, 'J': <Quantity 0.03346131 arcsec>, 'H': \"\n",
      " \"<Quantity 0.04249055 arcsec>, 'K': <Quantity 0.05895564 arcsec>}\")\n"
     ]
    }
   ],
   "source": [
    "eac3 = HWO('EAC3')\n",
    "\n",
    "pprint(f'aperture: {eac3.aperture}')\n",
    "pprint(f'effective aperture: {eac3.effective_aperture}')\n",
    "pprint(f'pixel scale: {eac3.pixel_scale}')\n",
    "pprint(f'psf fwhm: {eac3.psf_fwhm}')"
   ]
  },
  {
   "cell_type": "code",
   "execution_count": 9,
   "metadata": {},
   "outputs": [
    {
     "data": {
      "text/plain": [
       "{'FUV': <Quantity 0.01475366 arcsec>,\n",
       " 'NUV': <Quantity 0.01475366 arcsec>,\n",
       " 'U': <Quantity 0.01475366 arcsec>,\n",
       " 'B': <Quantity 0.01475366 arcsec>,\n",
       " 'V': <Quantity 0.01788144 arcsec>,\n",
       " 'R': <Quantity 0.02286818 arcsec>,\n",
       " 'I': <Quantity 0.02508123 arcsec>,\n",
       " 'J': <Quantity 0.03717923 arcsec>,\n",
       " 'H': <Quantity 0.04721172 arcsec>,\n",
       " 'K': <Quantity 0.06550626 arcsec>}"
      ]
     },
     "execution_count": 9,
     "metadata": {},
     "output_type": "execute_result"
    }
   ],
   "source": [
    "eac1.psf_fwhm"
   ]
  },
  {
   "cell_type": "code",
   "execution_count": 33,
   "metadata": {},
   "outputs": [
    {
     "data": {
      "image/png": "[encoded data removed]",
      "text/plain": [
       "<Figure size 700x300 with 2 Axes>"
      ]
     },
     "metadata": {},
     "output_type": "display_data"
    }
   ],
   "source": [
    "_, ax = plt.subplots(1, 2, figsize=(7, 3), constrained_layout=True)\n",
    "\n",
    "ax[0].bar('EAC1', eac1.aperture)\n",
    "ax[0].bar('EAC2', eac2.aperture)\n",
    "ax[0].bar('EAC3', eac3.aperture)\n",
    "ax[0].bar('JWST', 6.5)\n",
    "ax[0].bar('HST,\\nRoman', 2.4)\n",
    "ax[0].set_ylabel('Aperture [m]')\n",
    "ax[0].set_title('Aperture')\n",
    "\n",
    "plot_kwargs = {\n",
    "    'linestyle': 'None',\n",
    "    'marker': 'o',\n",
    "    'markersize': 5,\n",
    "}\n",
    "\n",
    "x_positions = np.arange(len(eac1.psf_fwhm))\n",
    "ax[1].plot(x_positions, [v.value for _, v in eac1.psf_fwhm.items()], label='EAC1', **plot_kwargs)\n",
    "ax[1].plot(x_positions, [v.value for _, v in eac2.psf_fwhm.items()], label='EAC2', **plot_kwargs)\n",
    "ax[1].plot(x_positions, [v.value for _, v in eac3.psf_fwhm.items()], label='EAC3', **plot_kwargs)\n",
    "ax[1].set_xticks(x_positions, list(eac1.psf_fwhm.keys()))\n",
    "ax[1].set_ylabel('PSF FWHM [arcsec]')\n",
    "ax[1].set_xlabel('HWO HRI Band')\n",
    "ax[1].set_title('PSF FWHM')\n",
    "ax[1].legend()\n",
    "\n",
    "plt.savefig(os.path.join(hwo_dir, 'figures', 'eacs.png'))\n",
    "plt.show()"
   ]
  }
 ],
 "metadata": {
  "kernelspec": {
   "display_name": "mejiro-dev",
   "language": "python",
   "name": "python3"
  },
  "language_info": {
   "codemirror_mode": {
    "name": "ipython",
    "version": 3
   },
   "file_extension": ".py",
   "mimetype": "text/x-python",
   "name": "python",
   "nbconvert_exporter": "python",
   "pygments_lexer": "ipython3",
   "version": "3.10.6"
  }
 },
 "nbformat": 4,
 "nbformat_minor": 2
}
