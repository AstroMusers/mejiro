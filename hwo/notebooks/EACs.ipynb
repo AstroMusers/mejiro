{
 "cells": [
  {
   "cell_type": "code",
   "execution_count": 1,
   "metadata": {},
   "outputs": [
    {
     "name": "stdout",
     "output_type": "stream",
     "text": [
      "Warning, 5 of 20000 bins contained negative fluxes; they have been set to zero.\n"
     ]
    },
    {
     "name": "stderr",
     "output_type": "stream",
     "text": [
      "/data/bwedig/.conda/envs/mejiro-v2/lib/python3.11/site-packages/pysynphot/units.py:824: RuntimeWarning: divide by zero encountered in log\n",
      "  return -1.085736 * N.log(arg) + ABZERO\n"
     ]
    },
    {
     "name": "stdout",
     "output_type": "stream",
     "text": [
      "Warning, 3590 of 20000 bins contained negative fluxes; they have been set to zero.\n",
      "Warning, 293 of 2920 bins contained negative fluxes; they have been set to zero.\n"
     ]
    }
   ],
   "source": [
    "import os\n",
    "import sys\n",
    "import random\n",
    "from glob import glob\n",
    "from copy import deepcopy\n",
    "from pprint import pprint\n",
    "\n",
    "import numpy as np\n",
    "import matplotlib.pyplot as plt\n",
    "import matplotlib\n",
    "from tqdm import tqdm\n",
    "\n",
    "# enable use of local modules\n",
    "repo_dir = '/grad/bwedig/mejiro'\n",
    "if repo_dir not in sys.path:\n",
    "    sys.path.append(repo_dir)\n",
    "\n",
    "from mejiro.instruments.hwo import HWO\n",
    "from mejiro.synthetic_image import SyntheticImage\n",
    "from mejiro.lenses.test import SampleStrongLens\n",
    "from mejiro.exposure import Exposure\n",
    "from mejiro.utils import util\n",
    "\n",
    "# set matplotlib style\n",
    "plt.style.use(f'{repo_dir}/mejiro/mplstyle/science.mplstyle')\n",
    "\n",
    "# set HWO directory\n",
    "hwo_dir = os.path.join(repo_dir, 'hwo')"
   ]
  },
  {
   "cell_type": "code",
   "execution_count": 2,
   "metadata": {},
   "outputs": [],
   "source": [
    "strong_lens = SampleStrongLens()"
   ]
  },
  {
   "cell_type": "code",
   "execution_count": 3,
   "metadata": {},
   "outputs": [
    {
     "name": "stdout",
     "output_type": "stream",
     "text": [
      "Computing on pixel grid of size 229x229 (5.04229788616365\"x5.04229788616365\") with pixel scale 0.02201876806185 arcsec/pixel (natively 0.02201876806185 arcsec/pixel oversampled by factor 1)\n",
      "Building adaptive grid\n",
      "Computing with 'adaptive' mode and supersampling factor 3\n",
      "Adaptive grid: (229, 229)\n",
      "Initialized SyntheticImage for StrongLens SAMPLE by HWO in J band\n",
      "Exposure calculation time with galsim engine: 0:00:00\n"
     ]
    }
   ],
   "source": [
    "hwo_eac1 = HWO(eac='EAC1')\n",
    "\n",
    "synthetic_image_eac1 = SyntheticImage(strong_lens=strong_lens,\n",
    "                                     instrument=hwo_eac1,\n",
    "                                     band='J',\n",
    "                                     arcsec=5,\n",
    "                                     oversample=1,\n",
    "                                     verbose=True)\n",
    "\n",
    "engine_params = {\n",
    "    'rng_seed': 42,\n",
    "    'sky_background': False,\n",
    "    'detector_effects': False,\n",
    "    'poisson_noise': False,\n",
    "    'dark_noise': False,\n",
    "    'read_noise': False,\n",
    "}\n",
    "\n",
    "exposure_eac1 = Exposure(synthetic_image_eac1,\n",
    "                        exposure_time=100,\n",
    "                        engine_params=engine_params,\n",
    "                        verbose=True)"
   ]
  },
  {
   "cell_type": "code",
   "execution_count": 4,
   "metadata": {},
   "outputs": [
    {
     "name": "stdout",
     "output_type": "stream",
     "text": [
      "Computing on pixel grid of size 191x191 (5.04670163977602\"x5.04670163977602\") with pixel scale 0.02642252167422 arcsec/pixel (natively 0.02642252167422 arcsec/pixel oversampled by factor 1)\n",
      "Building adaptive grid\n",
      "Computing with 'adaptive' mode and supersampling factor 3\n",
      "Adaptive grid: (191, 191)\n",
      "Initialized SyntheticImage for StrongLens SAMPLE by HWO in J band\n",
      "Exposure calculation time with galsim engine: 0:00:00\n"
     ]
    }
   ],
   "source": [
    "hwo_eac2 = HWO(eac='EAC2')\n",
    "\n",
    "synthetic_image_eac2 = SyntheticImage(strong_lens=strong_lens,\n",
    "                                     instrument=hwo_eac2,\n",
    "                                     band='J',\n",
    "                                     arcsec=5,\n",
    "                                     oversample=1,\n",
    "                                     verbose=True)\n",
    "\n",
    "engine_params = {\n",
    "    'rng_seed': 42,\n",
    "    'sky_background': False,\n",
    "    'detector_effects': False,\n",
    "    'poisson_noise': False,\n",
    "    'dark_noise': False,\n",
    "    'read_noise': False,\n",
    "}\n",
    "\n",
    "exposure_eac2 = Exposure(synthetic_image_eac2,\n",
    "                        exposure_time=100,\n",
    "                        engine_params=engine_params,\n",
    "                        verbose=True)"
   ]
  },
  {
   "cell_type": "code",
   "execution_count": 5,
   "metadata": {},
   "outputs": [
    {
     "name": "stdout",
     "output_type": "stream",
     "text": [
      "Computing on pixel grid of size 253x253 (5.013673487683245\"x5.013673487683245\") with pixel scale 0.019816891255665 arcsec/pixel (natively 0.019816891255665 arcsec/pixel oversampled by factor 1)\n",
      "Building adaptive grid\n",
      "Computing with 'adaptive' mode and supersampling factor 3\n",
      "Adaptive grid: (253, 253)\n",
      "Initialized SyntheticImage for StrongLens SAMPLE by HWO in J band\n",
      "Exposure calculation time with galsim engine: 0:00:00\n"
     ]
    }
   ],
   "source": [
    "hwo_eac3 = HWO(eac='EAC3')\n",
    "\n",
    "synthetic_image_eac3 = SyntheticImage(strong_lens=strong_lens,\n",
    "                                     instrument=hwo_eac3,\n",
    "                                     band='J',\n",
    "                                     arcsec=5,\n",
    "                                     oversample=1,\n",
    "                                     verbose=True)\n",
    "\n",
    "engine_params = {\n",
    "    'rng_seed': 42,\n",
    "    'sky_background': False,\n",
    "    'detector_effects': False,\n",
    "    'poisson_noise': False,\n",
    "    'dark_noise': False,\n",
    "    'read_noise': False,\n",
    "}\n",
    "\n",
    "exposure_eac3 = Exposure(synthetic_image_eac3,\n",
    "                        exposure_time=100,\n",
    "                        engine_params=engine_params,\n",
    "                        verbose=True)"
   ]
  },
  {
   "cell_type": "code",
   "execution_count": 8,
   "metadata": {},
   "outputs": [
    {
     "data": {
      "image/png": "[encoded data removed]",
      "text/plain": [
       "<Figure size 1500x500 with 3 Axes>"
      ]
     },
     "metadata": {},
     "output_type": "display_data"
    }
   ],
   "source": [
    "_, ax = plt.subplots(1, 3, figsize=(15, 5))\n",
    "\n",
    "ax[0].imshow(exposure_eac1.exposure)\n",
    "ax[0].set_title('EAC1')\n",
    "\n",
    "ax[1].imshow(exposure_eac2.exposure)\n",
    "ax[1].set_title('EAC2')\n",
    "\n",
    "ax[2].imshow(exposure_eac3.exposure)\n",
    "ax[2].set_title('EAC3')\n",
    "\n",
    "plt.show()"
   ]
  }
 ],
 "metadata": {
  "kernelspec": {
   "display_name": "mejiro-v2",
   "language": "python",
   "name": "python3"
  },
  "language_info": {
   "codemirror_mode": {
    "name": "ipython",
    "version": 3
   },
   "file_extension": ".py",
   "mimetype": "text/x-python",
   "name": "python",
   "nbconvert_exporter": "python",
   "pygments_lexer": "ipython3",
   "version": "3.11.11"
  }
 },
 "nbformat": 4,
 "nbformat_minor": 2
}
