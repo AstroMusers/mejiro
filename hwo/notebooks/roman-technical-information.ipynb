{
 "cells": [
  {
   "cell_type": "code",
   "execution_count": 2,
   "metadata": {},
   "outputs": [],
   "source": [
    "import os\n",
    "import sys\n",
    "import random\n",
    "from glob import glob\n",
    "from copy import deepcopy\n",
    "from pprint import pprint\n",
    "\n",
    "import numpy as np\n",
    "import matplotlib.pyplot as plt\n",
    "import matplotlib\n",
    "from tqdm import tqdm\n",
    "\n",
    "# enable use of local modules\n",
    "repo_dir = '/grad/bwedig/mejiro'\n",
    "if repo_dir not in sys.path:\n",
    "    sys.path.append(repo_dir)\n",
    "\n",
    "from mejiro.instruments.new_roman import Roman\n",
    "\n",
    "# set matplotlib style\n",
    "plt.style.use(f'{repo_dir}/mejiro/mplstyle/science.mplstyle')\n",
    "\n",
    "# set HWO directory\n",
    "hwo_dir = os.path.join(repo_dir, 'hwo')\n",
    "\n",
    "RTI_PATH = '/nfsdata1/bwedig/STScI/roman-technical-information'\n",
    "\n",
    "import yaml\n",
    "from astropy.table import Table\n",
    "from astropy.table import QTable"
   ]
  },
  {
   "cell_type": "code",
   "execution_count": 3,
   "metadata": {},
   "outputs": [
    {
     "name": "stdout",
     "output_type": "stream",
     "text": [
      "1.1.0\n"
     ]
    }
   ],
   "source": [
    "roman = Roman(RTI_PATH)\n",
    "\n",
    "print(roman.version)"
   ]
  },
  {
   "cell_type": "code",
   "execution_count": 4,
   "metadata": {},
   "outputs": [
    {
     "name": "stdout",
     "output_type": "stream",
     "text": [
      "<QTable length=144>\n",
      "detector element ...        PHOTLAM                 PHOTNU        \n",
      "  str5     str4  ...        float64                float64        \n",
      "-------- ------- ... ---------------------- ----------------------\n",
      "   WFI01    F062 ... 2.0375262991355374e-08 2.6986623522593194e-19\n",
      "   WFI01    F087 ... 2.0259717908486147e-08   5.16463511448471e-19\n",
      "   WFI01    F106 ... 1.5315888250549722e-08  5.799004796850561e-19\n",
      "   WFI01    F129 ... 1.2634213997778904e-08    6.9758520127122e-19\n",
      "   WFI01    F158 ... 1.0235625974669392e-08  8.561392375116519e-19\n",
      "   WFI01    F184 ... 1.3531084213521828e-08 1.5333911823680173e-18\n",
      "   WFI01    F146 ...   3.68394379042415e-09  2.532289793883505e-19\n",
      "   WFI01    F213 ... 1.2105169413721794e-08 1.8439331134306342e-18\n",
      "   WFI02    F062 ...  1.986156833584717e-08  2.613082259154974e-19\n",
      "     ...     ... ...                    ...                    ...\n",
      "   WFI17    F146 ...  3.403257660461184e-09    2.3243406949755e-19\n",
      "   WFI17    F213 ... 1.1308229016831969e-08 1.7078487899398899e-18\n",
      "   WFI18    F062 ... 1.8631485364761764e-08 2.4469237754036053e-19\n",
      "   WFI18    F087 ... 1.8466565231588952e-08  4.662938153064506e-19\n",
      "   WFI18    F106 ... 1.3672174899447746e-08   5.13384674897821e-19\n",
      "   WFI18    F129 ... 1.1097520314573924e-08  6.069486101298137e-19\n",
      "   WFI18    F158 ...   9.09235988296197e-09  7.524602396038472e-19\n",
      "   WFI18    F184 ... 1.2140352622391494e-08 1.3623894000738972e-18\n",
      "   WFI18    F146 ... 3.2723821554969863e-09 2.2284250034318664e-19\n",
      "   WFI18    F213 ...  1.084474827843425e-08 1.6353005880821982e-18\n"
     ]
    }
   ],
   "source": [
    "ZEROPOINT_PATH = 'data/WideFieldInstrument/Imaging/ZeroPoints/Roman_zeropoints_20240301.ecsv'\n",
    "\n",
    "zeropoints = QTable.read(os.path.join(RTI_PATH, ZEROPOINT_PATH))\n",
    "pprint(zeropoints)"
   ]
  },
  {
   "cell_type": "code",
   "execution_count": 5,
   "metadata": {},
   "outputs": [
    {
     "name": "stdout",
     "output_type": "stream",
     "text": [
      "<QTable length=8>\n",
      "filter   rate  \n",
      "       ct / pix\n",
      " str4  float64 \n",
      "------ --------\n",
      "  F062     0.25\n",
      "  F087    0.251\n",
      "  F106    0.277\n",
      "  F129    0.267\n",
      "  F158    0.244\n",
      "  F184    0.141\n",
      "  F213    0.118\n",
      "  F146    0.781\n"
     ]
    }
   ],
   "source": [
    "ZODIACAL_LIGHT_PATH = 'data/WideFieldInstrument/Imaging/ZodiacalLight/zodiacal_light.ecsv'\n",
    "\n",
    "zodi = QTable.read(os.path.join(RTI_PATH, ZODIACAL_LIGHT_PATH))\n",
    "pprint(zodi)"
   ]
  },
  {
   "cell_type": "code",
   "execution_count": 8,
   "metadata": {},
   "outputs": [
    {
     "name": "stdout",
     "output_type": "stream",
     "text": [
      "0.25 ct / pix\n"
     ]
    }
   ],
   "source": [
    "rate_f062 = zodi[zodi['filter'] == 'F062']['rate'][0]\n",
    "print(rate_f062)"
   ]
  }
 ],
 "metadata": {
  "kernelspec": {
   "display_name": "mejiro-dev",
   "language": "python",
   "name": "python3"
  },
  "language_info": {
   "codemirror_mode": {
    "name": "ipython",
    "version": 3
   },
   "file_extension": ".py",
   "mimetype": "text/x-python",
   "name": "python",
   "nbconvert_exporter": "python",
   "pygments_lexer": "ipython3",
   "version": "3.10.6"
  }
 },
 "nbformat": 4,
 "nbformat_minor": 2
}
