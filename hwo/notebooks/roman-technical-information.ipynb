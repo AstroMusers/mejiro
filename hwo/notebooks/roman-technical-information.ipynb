{
 "cells": [
  {
   "cell_type": "code",
   "execution_count": 10,
   "metadata": {},
   "outputs": [],
   "source": [
    "import os\n",
    "import sys\n",
    "import random\n",
    "from glob import glob\n",
    "from copy import deepcopy\n",
    "from pprint import pprint\n",
    "\n",
    "import numpy as np\n",
    "import matplotlib.pyplot as plt\n",
    "import matplotlib\n",
    "from tqdm import tqdm\n",
    "\n",
    "# enable use of local modules\n",
    "repo_dir = '/grad/bwedig/mejiro'\n",
    "if repo_dir not in sys.path:\n",
    "    sys.path.append(repo_dir)\n",
    "\n",
    "from mejiro.instruments.roman import Roman\n",
    "\n",
    "# set matplotlib style\n",
    "plt.style.use(f'{repo_dir}/mejiro/mplstyle/science.mplstyle')\n",
    "\n",
    "# set HWO directory\n",
    "hwo_dir = os.path.join(repo_dir, 'hwo')\n",
    "\n",
    "RTI_PATH = '/nfsdata1/bwedig/STScI/roman-technical-information'\n",
    "\n",
    "import yaml\n",
    "from astropy.table import Table\n",
    "from astropy.table import QTable"
   ]
  },
  {
   "cell_type": "code",
   "execution_count": 11,
   "metadata": {},
   "outputs": [
    {
     "name": "stdout",
     "output_type": "stream",
     "text": [
      "1.1.0\n"
     ]
    }
   ],
   "source": [
    "roman = Roman(RTI_PATH)\n",
    "\n",
    "print(roman.version)"
   ]
  },
  {
   "cell_type": "code",
   "execution_count": 12,
   "metadata": {},
   "outputs": [
    {
     "name": "stdout",
     "output_type": "stream",
     "text": [
      "<TableColumns names=('detector','element','VegaMag','ABMag','STMag','FLAM','FNU','PHOTLAM','PHOTNU')>\n"
     ]
    }
   ],
   "source": [
    "ZEROPOINT_PATH = 'data/WideFieldInstrument/Imaging/ZeroPoints/Roman_zeropoints_20240301.ecsv'\n",
    "\n",
    "zeropoints = QTable.read(os.path.join(RTI_PATH, ZEROPOINT_PATH))\n",
    "pprint(zeropoints.columns)"
   ]
  },
  {
   "cell_type": "code",
   "execution_count": 13,
   "metadata": {},
   "outputs": [
    {
     "data": {
      "text/html": [
       "&lt;Column name=&apos;ABMag&apos; dtype=&apos;float64&apos; length=1&gt;\n",
       "<table>\n",
       "<tr><td>26.57551933086481</td></tr>\n",
       "</table>"
      ],
      "text/plain": [
       "<Column name='ABMag' dtype='float64' length=1>\n",
       "26.57551933086481"
      ]
     },
     "execution_count": 13,
     "metadata": {},
     "output_type": "execute_result"
    }
   ],
   "source": [
    "roman.get_zeropoint_magnitude('F062', 'SCA01')"
   ]
  },
  {
   "cell_type": "code",
   "execution_count": 14,
   "metadata": {},
   "outputs": [
    {
     "data": {
      "text/html": [
       "<div><i>QTable length=8</i>\n",
       "<table id=\"table140350022604000\" class=\"table-striped table-bordered table-condensed\">\n",
       "<thead><tr><th>filter</th><th>rate</th></tr></thead>\n",
       "<thead><tr><th></th><th>ct / pix</th></tr></thead>\n",
       "<thead><tr><th>str4</th><th>float64</th></tr></thead>\n",
       "<tr><td>F062</td><td>0.25</td></tr>\n",
       "<tr><td>F087</td><td>0.251</td></tr>\n",
       "<tr><td>F106</td><td>0.277</td></tr>\n",
       "<tr><td>F129</td><td>0.267</td></tr>\n",
       "<tr><td>F158</td><td>0.244</td></tr>\n",
       "<tr><td>F184</td><td>0.141</td></tr>\n",
       "<tr><td>F213</td><td>0.118</td></tr>\n",
       "<tr><td>F146</td><td>0.781</td></tr>\n",
       "</table></div>"
      ],
      "text/plain": [
       "<QTable length=8>\n",
       "filter   rate  \n",
       "       ct / pix\n",
       " str4  float64 \n",
       "------ --------\n",
       "  F062     0.25\n",
       "  F087    0.251\n",
       "  F106    0.277\n",
       "  F129    0.267\n",
       "  F158    0.244\n",
       "  F184    0.141\n",
       "  F213    0.118\n",
       "  F146    0.781"
      ]
     },
     "execution_count": 14,
     "metadata": {},
     "output_type": "execute_result"
    }
   ],
   "source": [
    "ZODIACAL_LIGHT_PATH = 'data/WideFieldInstrument/Imaging/ZodiacalLight/zodiacal_light.ecsv'\n",
    "\n",
    "zodi = QTable.read(os.path.join(RTI_PATH, ZODIACAL_LIGHT_PATH))\n",
    "zodi"
   ]
  },
  {
   "cell_type": "code",
   "execution_count": 15,
   "metadata": {},
   "outputs": [
    {
     "name": "stdout",
     "output_type": "stream",
     "text": [
      "0.25 ct / pix\n"
     ]
    }
   ],
   "source": [
    "rate_f062 = zodi[zodi['filter'] == 'F062']['rate'][0]\n",
    "print(rate_f062)"
   ]
  },
  {
   "cell_type": "code",
   "execution_count": 16,
   "metadata": {},
   "outputs": [
    {
     "data": {
      "text/html": [
       "<div><i>QTable length=8</i>\n",
       "<table id=\"table140350022614656\" class=\"table-striped table-bordered table-condensed\">\n",
       "<thead><tr><th>filter</th><th>rate</th></tr></thead>\n",
       "<thead><tr><th></th><th>ct / pix</th></tr></thead>\n",
       "<thead><tr><th>str4</th><th>float64</th></tr></thead>\n",
       "<tr><td>F062</td><td>0.003</td></tr>\n",
       "<tr><td>F087</td><td>0.003</td></tr>\n",
       "<tr><td>F106</td><td>0.003</td></tr>\n",
       "<tr><td>F129</td><td>0.003</td></tr>\n",
       "<tr><td>F158</td><td>0.048</td></tr>\n",
       "<tr><td>F184</td><td>0.155</td></tr>\n",
       "<tr><td>F213</td><td>4.38</td></tr>\n",
       "<tr><td>F146</td><td>1.03</td></tr>\n",
       "</table></div>"
      ],
      "text/plain": [
       "<QTable length=8>\n",
       "filter   rate  \n",
       "       ct / pix\n",
       " str4  float64 \n",
       "------ --------\n",
       "  F062    0.003\n",
       "  F087    0.003\n",
       "  F106    0.003\n",
       "  F129    0.003\n",
       "  F158    0.048\n",
       "  F184    0.155\n",
       "  F213     4.38\n",
       "  F146     1.03"
      ]
     },
     "execution_count": 16,
     "metadata": {},
     "output_type": "execute_result"
    }
   ],
   "source": [
    "THERMAL_BACKGROUND_PATH = 'data/WideFieldInstrument/Imaging/Backgrounds/internal_thermal_backgrounds.ecsv'\n",
    "\n",
    "thermal = QTable.read(os.path.join(RTI_PATH, THERMAL_BACKGROUND_PATH))\n",
    "thermal"
   ]
  },
  {
   "cell_type": "code",
   "execution_count": 17,
   "metadata": {},
   "outputs": [
    {
     "data": {
      "text/html": [
       "<div><i>QTable length=8</i>\n",
       "<table id=\"table140350032763904\" class=\"table-striped table-bordered table-condensed\">\n",
       "<thead><tr><th>filter</th><th>wavelength_min</th><th>wavelength_max</th><th>wavelength_center</th><th>width</th><th>PSF_FWHM</th><th>corner_PSF_n_eff_pixel</th><th>corner_PSF_peak_flux</th><th>center_PSF_n_eff_pixel</th><th>center_PSF_peak_flux</th></tr></thead>\n",
       "<thead><tr><th></th><th>um</th><th>um</th><th>um</th><th>um</th><th>arcsec</th><th>pix</th><th>dimensionless</th><th>pix</th><th>dimensionless</th></tr></thead>\n",
       "<thead><tr><th>str4</th><th>float64</th><th>float64</th><th>float64</th><th>float64</th><th>float64</th><th>float64</th><th>float64</th><th>float64</th><th>float64</th></tr></thead>\n",
       "<tr><td>F062</td><td>0.48</td><td>0.76</td><td>0.62</td><td>0.28</td><td>0.058</td><td>7.35</td><td>0.20341</td><td>3.8</td><td>0.49536</td></tr>\n",
       "<tr><td>F087</td><td>0.76</td><td>0.977</td><td>0.869</td><td>0.217</td><td>0.073</td><td>9.35</td><td>0.16517</td><td>4.04</td><td>0.4838</td></tr>\n",
       "<tr><td>F106</td><td>0.927</td><td>1.192</td><td>1.06</td><td>0.265</td><td>0.087</td><td>10.96</td><td>0.1506</td><td>4.83</td><td>0.44004</td></tr>\n",
       "<tr><td>F129</td><td>1.131</td><td>1.454</td><td>1.293</td><td>0.323</td><td>0.106</td><td>11.79</td><td>0.14863</td><td>6.63</td><td>0.36874</td></tr>\n",
       "<tr><td>F158</td><td>1.38</td><td>1.774</td><td>1.577</td><td>0.394</td><td>0.128</td><td>12.63</td><td>0.14343</td><td>9.65</td><td>0.29081</td></tr>\n",
       "<tr><td>F184</td><td>1.683</td><td>2.0</td><td>1.842</td><td>0.317</td><td>0.146</td><td>17.15</td><td>0.11953</td><td>15.52</td><td>0.21361</td></tr>\n",
       "<tr><td>F213</td><td>1.95</td><td>2.3</td><td>2.125</td><td>0.35</td><td>0.169</td><td>20.38</td><td>0.10831</td><td>20.14</td><td>0.17052</td></tr>\n",
       "<tr><td>F146</td><td>0.927</td><td>2.0</td><td>1.464</td><td>1.03</td><td>0.105</td><td>12.18</td><td>0.14521</td><td>7.37</td><td>0.34546</td></tr>\n",
       "</table></div>"
      ],
      "text/plain": [
       "<QTable length=8>\n",
       "filter wavelength_min ... center_PSF_n_eff_pixel center_PSF_peak_flux\n",
       "             um       ...          pix              dimensionless    \n",
       " str4     float64     ...        float64               float64       \n",
       "------ -------------- ... ---------------------- --------------------\n",
       "  F062           0.48 ...                    3.8              0.49536\n",
       "  F087           0.76 ...                   4.04               0.4838\n",
       "  F106          0.927 ...                   4.83              0.44004\n",
       "  F129          1.131 ...                   6.63              0.36874\n",
       "  F158           1.38 ...                   9.65              0.29081\n",
       "  F184          1.683 ...                  15.52              0.21361\n",
       "  F213           1.95 ...                  20.14              0.17052\n",
       "  F146          0.927 ...                   7.37              0.34546"
      ]
     },
     "execution_count": 17,
     "metadata": {},
     "output_type": "execute_result"
    }
   ],
   "source": [
    "FILTER_PARAMS_PATH = 'data/WideFieldInstrument/Imaging/FiltersSummary/filter_parameters.ecsv'\n",
    "\n",
    "filters = QTable.read(os.path.join(RTI_PATH, FILTER_PARAMS_PATH))\n",
    "filters"
   ]
  },
  {
   "cell_type": "code",
   "execution_count": 18,
   "metadata": {},
   "outputs": [
    {
     "name": "stdout",
     "output_type": "stream",
     "text": [
      "      ABMag      \n",
      "-----------------\n",
      "26.57551933086481\n",
      "[0.003] ct / pix\n",
      "[0.25] ct / pix\n",
      "[0.058] arcsec\n"
     ]
    }
   ],
   "source": [
    "print(roman.get_zeropoint_magnitude('F062', 'SCA01'))\n",
    "print(roman.get_thermal_background('F062'))\n",
    "print(roman.get_minimum_zodiacal_light('F062'))\n",
    "print(roman.get_psf_fwhm('F062'))"
   ]
  }
 ],
 "metadata": {
  "kernelspec": {
   "display_name": "mejiro-dev",
   "language": "python",
   "name": "python3"
  },
  "language_info": {
   "codemirror_mode": {
    "name": "ipython",
    "version": 3
   },
   "file_extension": ".py",
   "mimetype": "text/x-python",
   "name": "python",
   "nbconvert_exporter": "python",
   "pygments_lexer": "ipython3",
   "version": "3.10.6"
  }
 },
 "nbformat": 4,
 "nbformat_minor": 2
}
