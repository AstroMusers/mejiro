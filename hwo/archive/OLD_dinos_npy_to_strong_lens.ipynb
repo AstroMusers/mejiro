{
 "cells": [
  {
   "cell_type": "code",
   "execution_count": 20,
   "metadata": {},
   "outputs": [],
   "source": [
    "import os\n",
    "import sys\n",
    "import yaml\n",
    "from glob import glob\n",
    "from pprint import pprint\n",
    "\n",
    "import numpy as np\n",
    "import matplotlib.pyplot as plt\n",
    "import astropy.cosmology as astropy_cosmo\n",
    "import pandas as pd\n",
    "from tqdm import tqdm\n",
    "\n",
    "# enable use of local modules\n",
    "repo_dir = '/grad/bwedig/mejiro'\n",
    "if repo_dir not in sys.path:\n",
    "    sys.path.append(repo_dir)\n",
    "\n",
    "from mejiro.lenses.strong_lens import StrongLens\n",
    "\n",
    "# set matplotlib style\n",
    "plt.style.use(f'{repo_dir}/mejiro/mplstyle/science.mplstyle')\n",
    "\n",
    "# set HWO directory\n",
    "hwo_dir = os.path.join(repo_dir, 'hwo')"
   ]
  },
  {
   "cell_type": "code",
   "execution_count": 21,
   "metadata": {},
   "outputs": [],
   "source": [
    "Double_SLACS = ['SDSSJ0029-0055', 'SDSSJ0037-0942', 'SDSSJ0819+4534', 'SDSSJ0903+4116', 'SDSSJ0936+0913',\n",
    "                'SDSSJ0959+0410', 'SDSSJ1134+6027', 'SDSSJ1204+0358', 'SDSSJ1213+6708', 'SDSSJ1218+0830',\n",
    "                'SDSSJ1531-0105', 'SDSSJ1621+3931', 'SDSSJ1627-0053', 'SDSSJ2302-0840']\n",
    "\n",
    "Single_SLACS = ['SDSSJ0008-0004', 'SDSSJ0252+0039', 'SDSSJ0330-0020', 'SDSSJ0728+3835', 'SDSSJ0737+3216',\n",
    "                'SDSSJ0912+0029', 'SDSSJ1023+4230', 'SDSSJ1100+5329', 'SDSSJ1112+0826', 'SDSSJ1250+0523',\n",
    "                'SDSSJ1306+0600', 'SDSSJ1313+4615', 'SDSSJ1402+6321', 'SDSSJ1630+4520', 'SDSSJ1636+4707',\n",
    "                'SDSSJ2238-0754', 'SDSSJ2300+0022', 'SDSSJ2303+1422', 'SDSSJ2343-0030', 'SDSSJ2347-0005']\n",
    "\n",
    "Double_SL2S = ['SL2SJ0208-0714', 'SL2SJ0219-0829', 'SL2SJ1427+5516']\n",
    "Single_SL2S = ['SL2SJ0214-0405', 'SL2SJ0217-0513', 'SL2SJ0225-0454', 'SL2SJ0226-0406', 'SL2SJ0226-0420',\n",
    "               'SL2SJ0232-0408', 'SL2SJ0849-0251', 'SL2SJ0849-0412', 'SL2SJ0858-0143', 'SL2SJ0901-0259',\n",
    "               'SL2SJ0904-0059', 'SL2SJ0959+0206', 'SL2SJ1358+5459', 'SL2SJ1359+5535', 'SL2SJ1401+5544',\n",
    "               'SL2SJ1402+5505', 'SL2SJ1405+5243', 'SL2SJ1406+5226', 'SL2SJ1411+5651', 'SL2SJ1420+5630',\n",
    "               'SL2SJ2214-1807']\n",
    "\n",
    "Double_BELLS = ['SDSSJ0801+4727', 'SDSSJ0944-0147', 'SDSSJ1234-0241', 'SDSSJ1349+3612', 'SDSSJ1542+1629',\n",
    "                'SDSSJ1631+1854', 'SDSSJ2125+0411']\n",
    "Single_BELLS = ['SDSSJ0151+0049', 'SDSSJ0747+5055', 'SDSSJ0830+5116', 'SDSSJ1159-0007', 'SDSSJ1215+0047',\n",
    "                'SDSSJ1221+3806', 'SDSSJ1318-0104', 'SDSSJ1337+3620', 'SDSSJ1352+3216', 'SDSSJ1545+2748',\n",
    "                'SDSSJ1601+2138', 'SDSSJ2303+0037']\n",
    "\n",
    "slacs = Double_SLACS + Single_SLACS\n",
    "sl2s = Double_SL2S + Single_SL2S\n",
    "bells = Double_BELLS + Single_BELLS"
   ]
  },
  {
   "cell_type": "code",
   "execution_count": 22,
   "metadata": {},
   "outputs": [
    {
     "name": "stdout",
     "output_type": "stream",
     "text": [
      "Percentage of valid systems: 100.00%\n"
     ]
    }
   ],
   "source": [
    "valid_systems = []\n",
    "invalid_systems = []\n",
    "\n",
    "for system in slacs + sl2s + bells:\n",
    "    files = glob(os.path.join(hwo_dir, 'data', 'dinos_I_tan_et_al_2024', f'*{system}*'))\n",
    "    if len(files) == 2:\n",
    "        valid_systems.append(system)\n",
    "    else:\n",
    "        invalid_systems.append(system)\n",
    "\n",
    "print(f'Percentage of valid systems: {len(valid_systems) / (len(valid_systems) + len(invalid_systems)) * 100:.2f}%')"
   ]
  },
  {
   "cell_type": "code",
   "execution_count": 23,
   "metadata": {},
   "outputs": [],
   "source": [
    "dinos_df = pd.read_csv(os.path.join(hwo_dir, 'data', 'dinos_I_tan_et_al_2024', 'dinos_I.csv'))"
   ]
  },
  {
   "cell_type": "code",
   "execution_count": 24,
   "metadata": {},
   "outputs": [],
   "source": [
    "system_name = slacs[0]\n",
    "\n",
    "# get system information from CSV\n",
    "row = dinos_df[dinos_df['Lens system'] == system_name].iloc[0]\n",
    "\n",
    "# get modeling input params from config yaml (lens models)\n",
    "with open(glob(os.path.join(hwo_dir, 'data', 'dinos_I_tan_et_al_2024', f'{system_name}_config.yml'))[0], 'r') as file:\n",
    "    dinos_input = yaml.safe_load(file)\n",
    "\n",
    "# get modeling output params from npy\n",
    "f = glob(os.path.join(repo_dir, 'hwo', 'data', 'dinos_I_tan_et_al_2024', f'image_{system_name}_*..npy'))[0]\n",
    "dinos_output = np.load(f, allow_pickle=True)"
   ]
  },
  {
   "cell_type": "code",
   "execution_count": 25,
   "metadata": {},
   "outputs": [
    {
     "name": "stdout",
     "output_type": "stream",
     "text": [
      "Lens system            SDSSJ0029-0055\n",
      "Survey                          SLACS\n",
      "theta_E                         0.945\n",
      "sig_theta_E_up                  0.003\n",
      "sig_theta_E_low                 0.003\n",
      "gamma                            2.69\n",
      "sig_gamma_up                     0.04\n",
      "sig_gamma_low                    0.05\n",
      "sig_gamma_sys                    0.25\n",
      "q_m                              0.66\n",
      "sig_q_m_up                       0.04\n",
      "sig_q_m_low                      0.04\n",
      "phi_m                              64\n",
      "sig_phi_m_up                        2\n",
      "sig_phi_m_low                       1\n",
      "gamma_shear                     0.009\n",
      "sig_gamma_shear_up              0.005\n",
      "sig_gamma_shear_low             0.005\n",
      "phi_shear                         -26\n",
      "sig_phi_shear_hi                   10\n",
      "sig_phi_shear_low                   9\n",
      "q_L                             0.837\n",
      "sig_q_L_up                      0.001\n",
      "sig_q_L_low                     0.002\n",
      "phi_L                            63.5\n",
      "sig_phi_L_up                      0.2\n",
      "sig_phi_L_low                     0.3\n",
      "R_eff                           2.386\n",
      "sig_R_eff_up                    0.005\n",
      "sig_R_eff_low                   0.005\n",
      "z_lens                           0.23\n",
      "z_source                         0.93\n",
      "sigma_los                         215\n",
      "sig_sigma_los                      14\n",
      "slit_shape                   Circular\n",
      "slit radius                       1.5\n",
      "slit_width                         --\n",
      "slit_length                        --\n",
      "seeing                            1.4\n",
      "Name: 1, dtype: object\n"
     ]
    }
   ],
   "source": [
    "print(row)"
   ]
  },
  {
   "cell_type": "code",
   "execution_count": 26,
   "metadata": {},
   "outputs": [
    {
     "name": "stdout",
     "output_type": "stream",
     "text": [
      "{'band': ['F606W', 'F814W'],\n",
      " 'fitting': {'mcmc_settings': {'burnin_step': 0,\n",
      "                               'iteration_step': 3000,\n",
      "                               'walker_ratio': 16},\n",
      "             'psf_iteration': False,\n",
      "             'psf_iteration_settings': {'block_neighbor': 0.0,\n",
      "                                        'psf_iteration_factor': 0.5,\n",
      "                                        'psf_iteration_num': 50,\n",
      "                                        'psf_symmetry': 4},\n",
      "             'pso': True,\n",
      "             'pso_settings': {'num_iteration': 150, 'num_particle': 192},\n",
      "             'sampler': 'MCMC',\n",
      "             'sampling': True},\n",
      " 'guess_params': {'lens': {0: {'theta_E': 0.96}}},\n",
      " 'kwargs_constraints': {'joint_lens_light_with_lens_light': [[0,\n",
      "                                                              1,\n",
      "                                                              ['e1',\n",
      "                                                               'e2',\n",
      "                                                               'center_x',\n",
      "                                                               'center_y']],\n",
      "                                                             [0,\n",
      "                                                              2,\n",
      "                                                              ['e1',\n",
      "                                                               'e2',\n",
      "                                                               'R_sersic',\n",
      "                                                               'center_x',\n",
      "                                                               'center_y']],\n",
      "                                                             [0,\n",
      "                                                              3,\n",
      "                                                              ['e1',\n",
      "                                                               'e2',\n",
      "                                                               'center_x',\n",
      "                                                               'center_y']],\n",
      "                                                             [1,\n",
      "                                                              3,\n",
      "                                                              ['R_sersic']]],\n",
      "                        'joint_lens_with_light': [[0,\n",
      "                                                   0,\n",
      "                                                   ['center_x', 'center_y']]],\n",
      "                        'joint_source_with_source': [[0,\n",
      "                                                      1,\n",
      "                                                      ['center_x', 'center_y']],\n",
      "                                                     [0,\n",
      "                                                      2,\n",
      "                                                      ['center_x', 'center_y']],\n",
      "                                                     [0,\n",
      "                                                      3,\n",
      "                                                      ['center_x', 'center_y']],\n",
      "                                                     [1,\n",
      "                                                      3,\n",
      "                                                      ['e1',\n",
      "                                                       'e2',\n",
      "                                                       'R_sersic']]]},\n",
      " 'lens_light_option': {'fix': {0: {'n_sersic': 4.0},\n",
      "                               1: {'n_sersic': 1.0},\n",
      "                               2: {'n_sersic': 4.0},\n",
      "                               3: {'n_sersic': 1.0}}},\n",
      " 'lens_option': {'centroid_init': [0.0, 0.0],\n",
      "                 'constrain_position_angle_from_lens_light': 15},\n",
      " 'mask': {'centroid_offset': [[0.1388, 0.0068], [0.096, -0.0235]],\n",
      "          'custom_mask': [None, None],\n",
      "          'dec_at_xy_0': [-1.8107046286010773, 3.334447825865894],\n",
      "          'extra_regions': [[[0.1388, 0.0068, 0.4]], [[0.096, -0.0235, 0.4]]],\n",
      "          'ra_at_xy_0': [-4.581994071312591, 2.001568924368538],\n",
      "          'radius': [2.25, 2.25],\n",
      "          'size': [140, 110],\n",
      "          'transform_matrix': [[[0.019765904380306384, 0.04569115378130206],\n",
      "                                [0.045638345145862416, -0.019771136165847025]],\n",
      "                               [[0.01211728389592831, -0.04850944615717445],\n",
      "                                [-0.04850892029430201,\n",
      "                                 -0.012117403812350602]]]},\n",
      " 'model': {'lens': ['PEMD', 'SHEAR_GAMMA_PSI'],\n",
      "           'lens_light': ['SERSIC_ELLIPSE',\n",
      "                          'SERSIC_ELLIPSE',\n",
      "                          'SERSIC_ELLIPSE',\n",
      "                          'SERSIC_ELLIPSE'],\n",
      "           'lens_light_band_indices': [0, 0, 1, 1],\n",
      "           'point_source': [],\n",
      "           'source_light': ['SHAPELETS',\n",
      "                            'SERSIC_ELLIPSE',\n",
      "                            'SHAPELETS',\n",
      "                            'SERSIC_ELLIPSE'],\n",
      "           'source_light_band_indices': [0, 0, 1, 1]},\n",
      " 'numeric_option': {'supersampling_factor': [2]},\n",
      " 'pixel_size': 0.04,\n",
      " 'point_source_option': {'bound': 0.0, 'dec_init': [], 'ra_init': []},\n",
      " 'source_light_option': {'n_max': [6, 6],\n",
      "                         'shapelet_scale_logarithmic_prior': True},\n",
      " 'system_name': 'SDSSJ0029-0055'}\n"
     ]
    }
   ],
   "source": [
    "pprint(dinos_input)"
   ]
  },
  {
   "cell_type": "code",
   "execution_count": 27,
   "metadata": {},
   "outputs": [
    {
     "name": "stdout",
     "output_type": "stream",
     "text": [
      "array([{'background_rms': 0.00029631189324636365, 'dec_at_xy_0': -1.8107046286010773, 'dec_shift': -0.0068, 'exposure_time': array([[30800., 30800., 30800., ..., 30800., 30800., 30800.],\n",
      "              [30800., 30800., 30800., ..., 30800., 30800., 30800.],\n",
      "              [30800., 30800., 30800., ..., 30800., 30800., 30800.],\n",
      "              ...,\n",
      "              [30800., 30800., 30800., ..., 30800., 30800., 30800.],\n",
      "              [30800., 30800., 30800., ..., 30800., 30800., 30800.],\n",
      "              [30800., 30800., 30800., ..., 30800., 30800., 30800.]]), 'image_data': array([[0.00056534, 0.001007  , 0.00135763, ..., 0.00086305, 0.00059139,\n",
      "               0.00058405],\n",
      "              [0.00062454, 0.00061791, 0.00055961, ..., 0.00083507, 0.00062346,\n",
      "               0.00070767],\n",
      "              [0.0004354 , 0.00045868, 0.00060496, ..., 0.00030431, 0.00010423,\n",
      "               0.00010778],\n",
      "              ...,\n",
      "              [0.00065608, 0.00108768, 0.00040198, ..., 0.00106857, 0.0010554 ,\n",
      "               0.00065057],\n",
      "              [0.00047581, 0.00082561, 0.00053352, ..., 0.00105867, 0.00106942,\n",
      "               0.00071893],\n",
      "              [0.00062836, 0.00108539, 0.00101208, ..., 0.00127683, 0.00074554,\n",
      "               0.0008067 ]], dtype=float32), 'ra_at_xy_0': -4.581994071312591, 'ra_shift': -0.1388, 'transform_pix2angle': array([[ 0.0197659 ,  0.04569115],\n",
      "              [ 0.04563835, -0.01977114]]), 'lens_light_subtracted_image_data': array([[ 2.77766734e-04,  6.71565417e-04,  9.87286715e-04, ...,\n",
      "                4.97939556e-04,  2.68878451e-04,  3.27302597e-04],\n",
      "              [ 2.85079137e-04,  2.17565961e-04,  1.13182615e-04, ...,\n",
      "                3.93361753e-04,  2.34472235e-04,  3.98478007e-04],\n",
      "              [ 6.16106038e-05,  1.24779512e-05,  1.07468531e-04, ...,\n",
      "               -1.88555244e-04, -3.31614229e-04, -2.37536674e-04],\n",
      "              ...,\n",
      "              [ 2.63154440e-04,  6.13205528e-04, -1.29617326e-04, ...,\n",
      "                4.86017532e-04,  5.35709553e-04,  2.35103728e-04],\n",
      "              [ 1.27808190e-04,  4.03623907e-04,  5.85122418e-05, ...,\n",
      "                5.34697591e-04,  5.97487568e-04,  3.34579372e-04],\n",
      "              [ 3.46374636e-04,  7.40789102e-04,  6.26886000e-04, ...,\n",
      "                8.51177971e-04,  3.55088328e-04,  4.78911725e-04]])}                                                                                                                      ,\n",
      "       {'kernel_point_source': array([[4.3833388e-06, 3.1888887e-06, 2.8946927e-06, ..., 5.2168198e-06,\n",
      "               4.9511596e-06, 3.8389380e-06],\n",
      "              [3.7649743e-06, 4.6320056e-06, 3.4755642e-06, ..., 5.4977886e-06,\n",
      "               4.2839124e-06, 3.2140779e-06],\n",
      "              [4.0981527e-06, 4.1187513e-06, 5.5885453e-06, ..., 4.9815117e-06,\n",
      "               3.2300820e-06, 3.5945891e-06],\n",
      "              ...,\n",
      "              [5.3058102e-06, 4.3537334e-06, 4.6896457e-06, ..., 6.0472835e-06,\n",
      "               5.0576778e-06, 4.8996812e-06],\n",
      "              [4.1428711e-06, 4.0259938e-06, 3.9922129e-06, ..., 4.6727787e-06,\n",
      "               5.4992638e-06, 4.7803960e-06],\n",
      "              [3.5211540e-06, 3.6201834e-06, 2.6663295e-06, ..., 4.5919824e-06,\n",
      "               4.4237772e-06, 5.5182500e-06]], dtype=float32), 'psf_type': 'PIXEL', 'kernel_point_source_init': array([[4.3833388e-06, 3.1888887e-06, 2.8946927e-06, ..., 5.2168198e-06,\n",
      "               4.9511596e-06, 3.8389380e-06],\n",
      "              [3.7649743e-06, 4.6320056e-06, 3.4755642e-06, ..., 5.4977886e-06,\n",
      "               4.2839124e-06, 3.2140779e-06],\n",
      "              [4.0981527e-06, 4.1187513e-06, 5.5885453e-06, ..., 4.9815117e-06,\n",
      "               3.2300820e-06, 3.5945891e-06],\n",
      "              ...,\n",
      "              [5.3058102e-06, 4.3537334e-06, 4.6896457e-06, ..., 6.0472835e-06,\n",
      "               5.0576778e-06, 4.8996812e-06],\n",
      "              [4.1428711e-06, 4.0259938e-06, 3.9922129e-06, ..., 4.6727787e-06,\n",
      "               5.4992638e-06, 4.7803960e-06],\n",
      "              [3.5211540e-06, 3.6201834e-06, 2.6663295e-06, ..., 4.5919824e-06,\n",
      "               4.4237772e-06, 5.5182500e-06]], dtype=float32)}                                                                                                                          ,\n",
      "       {'supersampling_factor': 3, 'supersampling_convolution': False, 'supersampling_kernel_size': 3, 'flux_evaluate_indexes': None, 'point_source_supersampling_factor': 1, 'compute_mode': 'regular'},\n",
      "       {'mask': array([[0., 0., 0., ..., 0., 0., 0.],\n",
      "              [0., 0., 0., ..., 0., 0., 0.],\n",
      "              [0., 0., 0., ..., 0., 0., 0.],\n",
      "              ...,\n",
      "              [0., 0., 0., ..., 0., 0., 0.],\n",
      "              [0., 0., 0., ..., 0., 0., 0.],\n",
      "              [0., 0., 0., ..., 0., 0., 0.]]), 'band': ['F606W', 'F814W'], 'kwargs_result': {'kwargs_lens': [{'theta_E': 0.9436753999311065, 'gamma': 2.667879754070831, 'e1': -0.12110457621118777, 'e2': 0.1558830493903703, 'center_x': 0.0057191207462888, 'center_y': 0.0008977770532772498}, {'gamma_ext': 0.012221908500621211, 'psi_ext': -0.5105336085300802, 'ra_0': 0, 'dec_0': 0}], 'kwargs_source': [{'amp': 1, 'n_max': 6, 'beta': 0.0764860564946229, 'center_x': -0.0875017312059857, 'center_y': -0.17167618691340158}, {'amp': 1, 'R_sersic': 0.05234297346483262, 'n_sersic': 6.5563679384012845, 'e1': -0.28749332544773737, 'e2': 0.47950603973792255, 'center_x': -0.0875017312059857, 'center_y': -0.17167618691340158}, {'amp': 1, 'n_max': 6, 'beta': 0.101185910293657, 'center_x': -0.0875017312059857, 'center_y': -0.17167618691340158}, {'amp': 1, 'R_sersic': 0.05234297346483262, 'n_sersic': 7.438415482370113, 'e1': -0.28749332544773737, 'e2': 0.47950603973792255, 'center_x': -0.0875017312059857, 'center_y': -0.17167618691340158}], 'kwargs_lens_light': [{'amp': 1, 'R_sersic': 3.4469319150573257, 'n_sersic': 4.0, 'e1': -0.054110677673533315, 'e2': 0.07056241490969933, 'center_x': 0.0057191207462888, 'center_y': 0.0008977770532772498}, {'amp': 1, 'R_sersic': 0.1926278446206916, 'n_sersic': 1.0, 'e1': -0.054110677673533315, 'e2': 0.07056241490969933, 'center_x': 0.0057191207462888, 'center_y': 0.0008977770532772498}, {'amp': 1, 'R_sersic': 3.4469319150573257, 'n_sersic': 4.0, 'e1': -0.054110677673533315, 'e2': 0.07056241490969933, 'center_x': 0.0057191207462888, 'center_y': 0.0008977770532772498}, {'amp': 1, 'R_sersic': 0.1926278446206916, 'n_sersic': 1.0, 'e1': -0.054110677673533315, 'e2': 0.07056241490969933, 'center_x': 0.0057191207462888, 'center_y': 0.0008977770532772498}], 'kwargs_ps': [], 'kwargs_special': {}, 'kwargs_extinction': []}}],\n",
      "      dtype=object)\n"
     ]
    }
   ],
   "source": [
    "pprint(dinos_output)"
   ]
  },
  {
   "cell_type": "code",
   "execution_count": 32,
   "metadata": {},
   "outputs": [
    {
     "name": "stdout",
     "output_type": "stream",
     "text": [
      "Item 0:\n",
      "  background_rms\n",
      "  dec_at_xy_0\n",
      "  dec_shift\n",
      "  exposure_time\n",
      "  image_data\n",
      "  ra_at_xy_0\n",
      "  ra_shift\n",
      "  transform_pix2angle\n",
      "  lens_light_subtracted_image_data\n",
      "Item 1:\n",
      "  kernel_point_source\n",
      "  psf_type\n",
      "  kernel_point_source_init\n",
      "Item 2:\n",
      "  supersampling_factor\n",
      "  supersampling_convolution\n",
      "  supersampling_kernel_size\n",
      "  flux_evaluate_indexes\n",
      "  point_source_supersampling_factor\n",
      "  compute_mode\n",
      "Item 3:\n",
      "  mask\n",
      "  band\n",
      "  kwargs_result\n"
     ]
    }
   ],
   "source": [
    "for i, item in enumerate(dinos_output):\n",
    "    print(f\"Item {i}:\")\n",
    "    if isinstance(item, dict):\n",
    "        for key in item.keys():\n",
    "            print(f\"  {key}\")\n",
    "    else:\n",
    "        print(f\"  {item}\")"
   ]
  },
  {
   "cell_type": "code",
   "execution_count": 34,
   "metadata": {},
   "outputs": [
    {
     "data": {
      "image/png": "[encoded data removed]",
      "text/plain": [
       "<Figure size 700x525 with 2 Axes>"
      ]
     },
     "metadata": {},
     "output_type": "display_data"
    }
   ],
   "source": [
    "plt.imshow(dinos_output[0]['image_data'])\n",
    "plt.colorbar()\n",
    "plt.show()"
   ]
  },
  {
   "cell_type": "code",
   "execution_count": 28,
   "metadata": {},
   "outputs": [
    {
     "name": "stdout",
     "output_type": "stream",
     "text": [
      "{'lens': ['PEMD', 'SHEAR_GAMMA_PSI'],\n",
      " 'lens_light': ['SERSIC_ELLIPSE',\n",
      "                'SERSIC_ELLIPSE',\n",
      "                'SERSIC_ELLIPSE',\n",
      "                'SERSIC_ELLIPSE'],\n",
      " 'lens_light_band_indices': [0, 0, 1, 1],\n",
      " 'point_source': [],\n",
      " 'source_light': ['SHAPELETS', 'SERSIC_ELLIPSE', 'SHAPELETS', 'SERSIC_ELLIPSE'],\n",
      " 'source_light_band_indices': [0, 0, 1, 1]}\n"
     ]
    }
   ],
   "source": [
    "pprint(dinos_input['model'])"
   ]
  },
  {
   "cell_type": "code",
   "execution_count": 29,
   "metadata": {},
   "outputs": [
    {
     "name": "stdout",
     "output_type": "stream",
     "text": [
      "{'kwargs_extinction': [],\n",
      " 'kwargs_lens': [{'center_x': 0.0057191207462888,\n",
      "                  'center_y': 0.0008977770532772498,\n",
      "                  'e1': -0.12110457621118777,\n",
      "                  'e2': 0.1558830493903703,\n",
      "                  'gamma': 2.667879754070831,\n",
      "                  'theta_E': 0.9436753999311065},\n",
      "                 {'dec_0': 0,\n",
      "                  'gamma_ext': 0.012221908500621211,\n",
      "                  'psi_ext': -0.5105336085300802,\n",
      "                  'ra_0': 0}],\n",
      " 'kwargs_lens_light': [{'R_sersic': 3.4469319150573257,\n",
      "                        'amp': 1,\n",
      "                        'center_x': 0.0057191207462888,\n",
      "                        'center_y': 0.0008977770532772498,\n",
      "                        'e1': -0.054110677673533315,\n",
      "                        'e2': 0.07056241490969933,\n",
      "                        'n_sersic': 4.0},\n",
      "                       {'R_sersic': 0.1926278446206916,\n",
      "                        'amp': 1,\n",
      "                        'center_x': 0.0057191207462888,\n",
      "                        'center_y': 0.0008977770532772498,\n",
      "                        'e1': -0.054110677673533315,\n",
      "                        'e2': 0.07056241490969933,\n",
      "                        'n_sersic': 1.0},\n",
      "                       {'R_sersic': 3.4469319150573257,\n",
      "                        'amp': 1,\n",
      "                        'center_x': 0.0057191207462888,\n",
      "                        'center_y': 0.0008977770532772498,\n",
      "                        'e1': -0.054110677673533315,\n",
      "                        'e2': 0.07056241490969933,\n",
      "                        'n_sersic': 4.0},\n",
      "                       {'R_sersic': 0.1926278446206916,\n",
      "                        'amp': 1,\n",
      "                        'center_x': 0.0057191207462888,\n",
      "                        'center_y': 0.0008977770532772498,\n",
      "                        'e1': -0.054110677673533315,\n",
      "                        'e2': 0.07056241490969933,\n",
      "                        'n_sersic': 1.0}],\n",
      " 'kwargs_ps': [],\n",
      " 'kwargs_source': [{'amp': 1,\n",
      "                    'beta': 0.0764860564946229,\n",
      "                    'center_x': -0.0875017312059857,\n",
      "                    'center_y': -0.17167618691340158,\n",
      "                    'n_max': 6},\n",
      "                   {'R_sersic': 0.05234297346483262,\n",
      "                    'amp': 1,\n",
      "                    'center_x': -0.0875017312059857,\n",
      "                    'center_y': -0.17167618691340158,\n",
      "                    'e1': -0.28749332544773737,\n",
      "                    'e2': 0.47950603973792255,\n",
      "                    'n_sersic': 6.5563679384012845},\n",
      "                   {'amp': 1,\n",
      "                    'beta': 0.101185910293657,\n",
      "                    'center_x': -0.0875017312059857,\n",
      "                    'center_y': -0.17167618691340158,\n",
      "                    'n_max': 6},\n",
      "                   {'R_sersic': 0.05234297346483262,\n",
      "                    'amp': 1,\n",
      "                    'center_x': -0.0875017312059857,\n",
      "                    'center_y': -0.17167618691340158,\n",
      "                    'e1': -0.28749332544773737,\n",
      "                    'e2': 0.47950603973792255,\n",
      "                    'n_sersic': 7.438415482370113}],\n",
      " 'kwargs_special': {}}\n"
     ]
    }
   ],
   "source": [
    "pprint(dinos_output[3]['kwargs_result'])"
   ]
  },
  {
   "cell_type": "code",
   "execution_count": 30,
   "metadata": {},
   "outputs": [],
   "source": [
    "z_lens = float(row['z_lens'])\n",
    "z_source = float(row['z_source'])\n",
    "\n",
    "lens_mags = {\n",
    "    'J': 17.5664222662219\n",
    "}\n",
    "\n",
    "source_mags = {\n",
    "    'J': 21.434711611915137\n",
    "}\n",
    "\n",
    "kwargs_lens = dinos_output[3]['kwargs_result']['kwargs_lens']\n",
    "kwargs_lens_light = dinos_output[3]['kwargs_result']['kwargs_lens_light']\n",
    "kwargs_source = dinos_output[3]['kwargs_result']['kwargs_source']\n",
    "\n",
    "kwargs_params = {\n",
    "    'kwargs_lens': kwargs_lens,\n",
    "    'kwargs_lens_light': kwargs_lens_light,\n",
    "    'kwargs_source': kwargs_source\n",
    "}\n",
    "\n",
    "kwargs_model = {\n",
    "    'cosmo': astropy_cosmo.default_cosmology.get(),\n",
    "    'lens_light_model_list': dinos_input['model']['lens_light'],\n",
    "    'lens_model_list': dinos_input['model']['lens'],\n",
    "    'lens_redshift_list': [z_lens] * len(kwargs_lens),\n",
    "    'source_light_model_list': dinos_input['model']['source_light'],\n",
    "    'source_redshift_list': [z_source] * len(kwargs_source),\n",
    "    'z_source': z_source,\n",
    "    'z_source_convention': 5.\n",
    "}\n",
    "assert len(kwargs_model['lens_model_list']) == len(kwargs_model['lens_redshift_list'])\n",
    "assert len(kwargs_model['source_light_model_list']) == len(kwargs_model['source_redshift_list'])\n",
    "\n",
    "strong_lens = StrongLens(kwargs_model=kwargs_model,\n",
    "                         kwargs_params=kwargs_params,\n",
    "                         lens_mags=lens_mags,\n",
    "                         source_mags=source_mags,\n",
    "                         uid=system_name)"
   ]
  },
  {
   "cell_type": "code",
   "execution_count": 31,
   "metadata": {},
   "outputs": [
    {
     "name": "stdout",
     "output_type": "stream",
     "text": [
      "0.93\n"
     ]
    }
   ],
   "source": [
    "print(strong_lens.z_source)"
   ]
  }
 ],
 "metadata": {
  "kernelspec": {
   "display_name": "mejiro-dev",
   "language": "python",
   "name": "python3"
  },
  "language_info": {
   "codemirror_mode": {
    "name": "ipython",
    "version": 3
   },
   "file_extension": ".py",
   "mimetype": "text/x-python",
   "name": "python",
   "nbconvert_exporter": "python",
   "pygments_lexer": "ipython3",
   "version": "3.10.6"
  }
 },
 "nbformat": 4,
 "nbformat_minor": 2
}
