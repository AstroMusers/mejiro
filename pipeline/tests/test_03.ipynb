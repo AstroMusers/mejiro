{
 "cells": [
  {
   "cell_type": "code",
   "execution_count": 1,
   "metadata": {},
   "outputs": [],
   "source": [
    "import math\n",
    "import matplotlib\n",
    "import matplotlib.pyplot as plt\n",
    "import numpy as np\n",
    "import os\n",
    "import pickle\n",
    "import sys\n",
    "from glob import glob\n",
    "from hydra import initialize, compose\n",
    "from matplotlib import colors\n",
    "from pprint import pprint\n",
    "\n",
    "# set paths to various directories based on the machine this code is being executed on\n",
    "with initialize(version_base=None, config_path='config'):\n",
    "    config = compose(config_name='config.yaml')  # overrides=['machine=uzay']\n",
    "\n",
    "array_dir, data_dir, figure_dir, pickle_dir, repo_dir = config.machine.array_dir, config.machine.data_dir, config.machine.figure_dir, config.machine.pickle_dir, config.machine.repo_dir\n",
    "\n",
    "# enable use of local modules\n",
    "if repo_dir not in sys.path:\n",
    "    sys.path.append(repo_dir)\n",
    "\n",
    "# set matplotlib style\n",
    "plt.style.use(f'{repo_dir}/mejiro/mplstyle/science.mplstyle')\n",
    "\n",
    "from mejiro.lenses.test import SampleStrongLens\n",
    "from mejiro.plots import diagnostic_plot, plot, plot_util, overplot\n",
    "from mejiro.analysis import stats\n",
    "from mejiro.utils import util\n",
    "from mejiro.helpers import pyhalo, pandeia_input"
   ]
  },
  {
   "cell_type": "code",
   "execution_count": 2,
   "metadata": {},
   "outputs": [],
   "source": [
    "input_dir = config.machine.dir_03"
   ]
  },
  {
   "cell_type": "code",
   "execution_count": 3,
   "metadata": {},
   "outputs": [],
   "source": [
    "pipeline_params = util.hydra_to_dict(config.pipeline)\n",
    "bands = pipeline_params['bands']\n",
    "pieces = pipeline_params['pieces']"
   ]
  },
  {
   "cell_type": "code",
   "execution_count": 4,
   "metadata": {},
   "outputs": [],
   "source": [
    "lens_pickles = sorted(glob(config.machine.dir_02 + '/lens_with_subhalos_*.pkl'))\n",
    "lens_uids = [int(os.path.basename(i).split('_')[3].split('.')[0]) for i in lens_pickles]\n",
    "uid = lens_uids[0]\n",
    "lens = util.unpickle(os.path.join(input_dir, f'lens_{str(uid).zfill(8)}.pkl'))"
   ]
  },
  {
   "cell_type": "code",
   "execution_count": 5,
   "metadata": {},
   "outputs": [
    {
     "name": "stdout",
     "output_type": "stream",
     "text": [
      "['/data/scratch/btwedig/mejiro/pipeline/03/array_00000000_F087.npy',\n",
      " '/data/scratch/btwedig/mejiro/pipeline/03/array_00000000_F106.npy',\n",
      " '/data/scratch/btwedig/mejiro/pipeline/03/array_00000000_F129.npy',\n",
      " '/data/scratch/btwedig/mejiro/pipeline/03/array_00000000_F158.npy',\n",
      " '/data/scratch/btwedig/mejiro/pipeline/03/array_00000000_lens_F087.npy',\n",
      " '/data/scratch/btwedig/mejiro/pipeline/03/array_00000000_lens_F106.npy',\n",
      " '/data/scratch/btwedig/mejiro/pipeline/03/array_00000000_lens_F129.npy',\n",
      " '/data/scratch/btwedig/mejiro/pipeline/03/array_00000000_lens_F158.npy',\n",
      " '/data/scratch/btwedig/mejiro/pipeline/03/array_00000000_source_F087.npy',\n",
      " '/data/scratch/btwedig/mejiro/pipeline/03/array_00000000_source_F106.npy',\n",
      " '/data/scratch/btwedig/mejiro/pipeline/03/array_00000000_source_F129.npy',\n",
      " '/data/scratch/btwedig/mejiro/pipeline/03/array_00000000_source_F158.npy']\n"
     ]
    }
   ],
   "source": [
    "pprint(sorted(glob(f'{input_dir}/array_{lens.uid}_*.npy')))"
   ]
  },
  {
   "cell_type": "code",
   "execution_count": 6,
   "metadata": {},
   "outputs": [],
   "source": [
    "arrays = [np.load(f'{input_dir}/array_{lens.uid}_{band}.npy') for band in bands]\n",
    "if pieces:\n",
    "    lens_sbs = [np.load(f'{input_dir}/array_{lens.uid}_lens_{band}.npy') for band in bands]\n",
    "    source_sbs = [np.load(f'{input_dir}/array_{lens.uid}_source_{band}.npy') for band in bands]\n",
    "    arrays += lens_sbs\n",
    "    arrays += source_sbs\n",
    "    bands = bands * 3"
   ]
  },
  {
   "cell_type": "code",
   "execution_count": 8,
   "metadata": {},
   "outputs": [],
   "source": [
    "# print(len(lens_sbs), len(source_sbs))"
   ]
  },
  {
   "cell_type": "code",
   "execution_count": 9,
   "metadata": {},
   "outputs": [
    {
     "name": "stdout",
     "output_type": "stream",
     "text": [
      "array\n",
      "array\n",
      "array\n",
      "array\n"
     ]
    }
   ],
   "source": [
    "j = 0\n",
    "for i, (band, arrays) in enumerate(zip(bands, arrays)):\n",
    "    if j == 0:\n",
    "        print('array')\n",
    "    elif j == 1:\n",
    "        print('lens')\n",
    "    elif j == 2:\n",
    "        print('source')\n",
    "    if i % len(set(bands)) == len(set(bands)) - 1:\n",
    "        j += 1"
   ]
  }
 ],
 "metadata": {
  "kernelspec": {
   "display_name": "mejiro",
   "language": "python",
   "name": "python3"
  },
  "language_info": {
   "codemirror_mode": {
    "name": "ipython",
    "version": 3
   },
   "file_extension": ".py",
   "mimetype": "text/x-python",
   "name": "python",
   "nbconvert_exporter": "python",
   "pygments_lexer": "ipython3",
   "version": "3.11.7"
  }
 },
 "nbformat": 4,
 "nbformat_minor": 2
}
