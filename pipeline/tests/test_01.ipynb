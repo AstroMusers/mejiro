{
 "cells": [
  {
   "cell_type": "code",
   "execution_count": 1,
   "metadata": {},
   "outputs": [],
   "source": [
    "import matplotlib\n",
    "import matplotlib.pyplot as plt\n",
    "import numpy as np\n",
    "import os\n",
    "import pickle\n",
    "import sys\n",
    "from glob import glob\n",
    "from hydra import initialize, compose\n",
    "from matplotlib import colors\n",
    "from pyHalo.preset_models import CDM\n",
    "from tqdm import tqdm\n",
    "\n",
    "# set paths to various directories based on the machine this code is being executed on\n",
    "with initialize(version_base=None, config_path='config'):\n",
    "    config = compose(config_name='config.yaml')  # overrides=['machine=uzay']\n",
    "\n",
    "array_dir, data_dir, figure_dir, pickle_dir, repo_dir = config.machine.array_dir, config.machine.data_dir, config.machine.figure_dir, config.machine.pickle_dir, config.machine.repo_dir\n",
    "\n",
    "# enable use of local modules\n",
    "if repo_dir not in sys.path:\n",
    "    sys.path.append(repo_dir)\n",
    "\n",
    "# set matplotlib style\n",
    "plt.style.use(f'{repo_dir}/mejiro/mplstyle/science.mplstyle')\n",
    "\n",
    "from mejiro.utils import util\n",
    "from mejiro.lenses import lens_util"
   ]
  },
  {
   "cell_type": "code",
   "execution_count": 2,
   "metadata": {},
   "outputs": [],
   "source": [
    "pickles = glob(os.path.join(config.machine.dir_01, '01_hlwas_sim_detectable_lenses_sca*.pkl'))\n",
    "scas = [int(f.split('_')[-1].split('.')[0][3:]) for f in pickles]\n",
    "scas = sorted([str(sca).zfill(2) for sca in scas])\n",
    "sca_dict = {}\n",
    "total = 0\n",
    "for sca in scas:\n",
    "    pickle_path = os.path.join(config.machine.dir_01, f'01_hlwas_sim_detectable_lenses_sca{sca}.pkl')\n",
    "    lens_list = util.unpickle(pickle_path)\n",
    "    assert len(lens_list) != 0, f'No pickled lenses found. Check {pickle_path}.'\n",
    "    sca_dict[sca] = lens_list\n",
    "    total += len(lens_list)\n",
    "count = total"
   ]
  },
  {
   "cell_type": "code",
   "execution_count": 3,
   "metadata": {},
   "outputs": [],
   "source": [
    "for sca in scas:\n",
    "    print(f'SCA {sca}: {len(sca_dict[sca])} lenses')"
   ]
  },
  {
   "cell_type": "code",
   "execution_count": 4,
   "metadata": {},
   "outputs": [
    {
     "name": "stderr",
     "output_type": "stream",
     "text": [
      "0it [00:00, ?it/s]\n"
     ]
    }
   ],
   "source": [
    "output_files = glob(config.machine.dir_00 + '/detectable_pop_*.csv')\n",
    "\n",
    "uid = 0\n",
    "dict_list = []\n",
    "for sca_id in tqdm(scas):\n",
    "    sca_id = str(sca_id).zfill(2)\n",
    "\n",
    "    csvs = [f for f in output_files if f'sca{sca_id}' in f]\n",
    "\n",
    "    if len(csvs) == 0:\n",
    "        continue\n",
    "\n",
    "    # get all runs associated with this SCA\n",
    "    runs = [int(f.split('_')[-2]) for f in\n",
    "            csvs]  # TODO I don't love string parsing that relies on file naming conventions\n",
    "\n",
    "    lens_list = []\n",
    "    for _, run in enumerate(runs):\n",
    "        # unpickle the lenses from the population survey and create lens objects\n",
    "        lens_paths = glob(\n",
    "            config.machine.dir_00 + f'/run_{str(run).zfill(4)}_sca{sca_id}/detectable_lens_{str(run).zfill(4)}_*.pkl')\n",
    "\n",
    "        if len(lens_paths) == 0:\n",
    "            continue\n",
    "\n",
    "        for _, lens_path in enumerate(lens_paths):\n",
    "            lens_dict = util.unpickle(lens_path)\n",
    "            dict_list.append(lens_dict)\n",
    "            # lens = lens_util.unpickle_lens(lens, str(uid).zfill(8))\n",
    "            # uid += 1\n",
    "            # lens_list.append(lens)"
   ]
  },
  {
   "cell_type": "code",
   "execution_count": 7,
   "metadata": {},
   "outputs": [
    {
     "name": "stdout",
     "output_type": "stream",
     "text": [
      "{'deflector_stellar_mass': 9900414985.46622,\n",
      " 'deflector_velocity_dispersion': 177.21094480478806,\n",
      " 'kwargs_model': {'cosmo': FlatLambdaCDM(name=\"Planck18\", H0=67.66 km / (Mpc s), Om0=0.30966, Tcmb0=2.7255 K, Neff=3.046, m_nu=[0.   0.   0.06] eV, Ob0=0.04897),\n",
      "                  'lens_light_model_list': ['SERSIC_ELLIPSE'],\n",
      "                  'lens_model_list': ['SIE', 'SHEAR', 'CONVERGENCE'],\n",
      "                  'lens_redshift_list': [1.0028630097305802,\n",
      "                                         1.0028630097305802,\n",
      "                                         1.0028630097305802],\n",
      "                  'source_light_model_list': ['SERSIC_ELLIPSE'],\n",
      "                  'source_redshift_list': [1.4340984967692338],\n",
      "                  'z_source': 1.4340984967692338,\n",
      "                  'z_source_convention': 6.0},\n",
      " 'kwargs_params': {'kwargs_lens': [{'center_x': -0.03579819240710826,\n",
      "                                    'center_y': 0.04357057874790285,\n",
      "                                    'e1': -0.619215980465589,\n",
      "                                    'e2': -0.2551239298505353,\n",
      "                                    'theta_E': 0.197399117412134},\n",
      "                                   {'dec_0': 0,\n",
      "                                    'gamma1': -0.0025392217147425936,\n",
      "                                    'gamma2': 0.012867948251647918,\n",
      "                                    'ra_0': 0},\n",
      "                                   {'dec_0': 0,\n",
      "                                    'kappa': 0.02350016808221986,\n",
      "                                    'ra_0': 0}],\n",
      "                   'kwargs_lens_light': [{'R_sersic': 0.32144272701416093,\n",
      "                                          'center_x': -0.03579819240710826,\n",
      "                                          'center_y': 0.04357057874790285,\n",
      "                                          'e1': -0.33034268302323994,\n",
      "                                          'e2': -0.0874240948150104,\n",
      "                                          'magnitude': 24.11888430739276,\n",
      "                                          'n_sersic': 4.0}],\n",
      "                   'kwargs_ps': None,\n",
      "                   'kwargs_source': [{'R_sersic': 0.8900285320834538,\n",
      "                                      'center_x': -0.13663028332614865,\n",
      "                                      'center_y': -0.027092182569912873,\n",
      "                                      'e1': 0.3914464708916044,\n",
      "                                      'e2': 0.15839976940556924,\n",
      "                                      'magnitude': 22.079225112160078,\n",
      "                                      'n_sersic': 1.0}]},\n",
      " 'lens_mags': {'F106': 24.11888430739276,\n",
      "               'F129': 23.867911725227025,\n",
      "               'F158': 23.651737897372875,\n",
      "               'F184': 23.478118710399805},\n",
      " 'lensed_source_mags': {'F106': 21.846295476873344,\n",
      "                        'F129': 21.677987071956913,\n",
      "                        'F158': 21.44456765910674,\n",
      "                        'F184': 21.314801998842682},\n",
      " 'snr': 24.1144913793834,\n",
      " 'source_mags': {'F106': 22.079225112160078,\n",
      "                 'F129': 21.910916707243647,\n",
      "                 'F158': 21.677497294393472,\n",
      "                 'F184': 21.547731634129416}}\n"
     ]
    }
   ],
   "source": [
    "sample = util.unpickle('/data/bwedig/mejiro/pipeline_dev/run_0017_sca18/detectable_lens_0017_sca18_00000.pkl')\n",
    "\n",
    "from pprint import pprint\n",
    "\n",
    "pprint(sample)"
   ]
  }
 ],
 "metadata": {
  "kernelspec": {
   "display_name": "mejiro",
   "language": "python",
   "name": "python3"
  },
  "language_info": {
   "codemirror_mode": {
    "name": "ipython",
    "version": 3
   },
   "file_extension": ".py",
   "mimetype": "text/x-python",
   "name": "python",
   "nbconvert_exporter": "python",
   "pygments_lexer": "ipython3",
   "version": "3.10.6"
  }
 },
 "nbformat": 4,
 "nbformat_minor": 2
}
