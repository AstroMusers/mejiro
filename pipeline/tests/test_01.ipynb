{
 "cells": [
  {
   "cell_type": "code",
   "execution_count": 2,
   "metadata": {},
   "outputs": [],
   "source": [
    "import os\n",
    "import sys\n",
    "\n",
    "import numpy as np\n",
    "import matplotlib\n",
    "import matplotlib.pyplot as plt\n",
    "from matplotlib import colors\n",
    "from hydra import initialize, compose\n",
    "import pickle\n",
    "from glob import glob\n",
    "from pyHalo.preset_models import CDM\n",
    "from tqdm import tqdm\n",
    "\n",
    "# set paths to various directories based on the machine this code is being executed on\n",
    "with initialize(version_base=None, config_path='config'):\n",
    "    config = compose(config_name='config.yaml')  # overrides=['machine=uzay']\n",
    "\n",
    "array_dir, data_dir, figure_dir, pickle_dir, repo_dir  = config.machine.array_dir, config.machine.data_dir, config.machine.figure_dir, config.machine.pickle_dir, config.machine.repo_dir\n",
    "\n",
    "# enable use of local modules\n",
    "if repo_dir not in sys.path:\n",
    "    sys.path.append(repo_dir)\n",
    "\n",
    "# set matplotlib style\n",
    "plt.style.use(f'{repo_dir}/mejiro/mplstyle/science.mplstyle')\n",
    "\n",
    "from mejiro.utils import util"
   ]
  },
  {
   "cell_type": "code",
   "execution_count": 3,
   "metadata": {},
   "outputs": [],
   "source": [
    "pickles = glob(os.path.join(config.machine.dir_01, '01_hlwas_sim_detectable_lenses_sca*.pkl'))\n",
    "scas = [int(f.split('_')[-1].split('.')[0][3:]) for f in pickles]\n",
    "scas = sorted([str(sca).zfill(2) for sca in scas])\n",
    "sca_dict = {}\n",
    "total = 0\n",
    "for sca in scas:\n",
    "    pickle_path = os.path.join(config.machine.dir_01, f'01_hlwas_sim_detectable_lenses_sca{sca}.pkl')\n",
    "    lens_list = util.unpickle(pickle_path)\n",
    "    assert len(lens_list) != 0, f'No pickled lenses found. Check {pickle_path}.'\n",
    "    sca_dict[sca] = lens_list\n",
    "    total += len(lens_list)\n",
    "count = total"
   ]
  },
  {
   "cell_type": "code",
   "execution_count": 4,
   "metadata": {},
   "outputs": [
    {
     "name": "stdout",
     "output_type": "stream",
     "text": [
      "SCA 01: 57 lenses\n",
      "SCA 02: 53 lenses\n",
      "SCA 03: 54 lenses\n",
      "SCA 04: 59 lenses\n",
      "SCA 05: 50 lenses\n",
      "SCA 06: 44 lenses\n",
      "SCA 07: 60 lenses\n",
      "SCA 08: 61 lenses\n",
      "SCA 09: 59 lenses\n",
      "SCA 10: 66 lenses\n",
      "SCA 11: 59 lenses\n",
      "SCA 12: 56 lenses\n",
      "SCA 13: 53 lenses\n",
      "SCA 14: 56 lenses\n",
      "SCA 15: 53 lenses\n",
      "SCA 16: 47 lenses\n",
      "SCA 17: 59 lenses\n",
      "SCA 18: 72 lenses\n"
     ]
    }
   ],
   "source": [
    "for sca in scas:\n",
    "    print(f'SCA {sca}: {len(sca_dict[sca])} lenses')"
   ]
  }
 ],
 "metadata": {
  "kernelspec": {
   "display_name": "mejiro",
   "language": "python",
   "name": "python3"
  },
  "language_info": {
   "codemirror_mode": {
    "name": "ipython",
    "version": 3
   },
   "file_extension": ".py",
   "mimetype": "text/x-python",
   "name": "python",
   "nbconvert_exporter": "python",
   "pygments_lexer": "ipython3",
   "version": "3.11.7"
  }
 },
 "nbformat": 4,
 "nbformat_minor": 2
}
