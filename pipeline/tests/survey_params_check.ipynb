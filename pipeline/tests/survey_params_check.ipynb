{
 "cells": [
  {
   "cell_type": "code",
   "execution_count": 11,
   "metadata": {},
   "outputs": [],
   "source": [
    "import os\n",
    "import sys\n",
    "\n",
    "import numpy as np\n",
    "import matplotlib\n",
    "%matplotlib inline\n",
    "import matplotlib.pyplot as plt\n",
    "from matplotlib import colors\n",
    "from hydra import initialize, compose\n",
    "import pickle\n",
    "from glob import glob\n",
    "from pprint import pprint\n",
    "from tqdm import tqdm\n",
    "\n",
    "# set paths to various directories based on the machine this code is being executed on\n",
    "with initialize(version_base=None, config_path='config'):\n",
    "    config = compose(config_name='config.yaml')  # overrides=['machine=uzay']\n",
    "\n",
    "array_dir, data_dir, figure_dir, pickle_dir, repo_dir  = config.machine.array_dir, config.machine.data_dir, config.machine.figure_dir, config.machine.pickle_dir, config.machine.repo_dir\n",
    "\n",
    "# enable use of local modules\n",
    "if repo_dir not in sys.path:\n",
    "    sys.path.append(repo_dir)\n",
    "\n",
    "# set matplotlib style\n",
    "plt.style.use(f'{repo_dir}/mejiro/mplstyle/science.mplstyle')\n",
    "\n",
    "from mejiro.lenses.test import SampleStrongLens\n",
    "from mejiro.plots import diagnostic_plot, plot, plot_util, overplot\n",
    "from mejiro.analysis import stats\n",
    "from mejiro.utils import util\n",
    "from mejiro.helpers import gs"
   ]
  },
  {
   "cell_type": "code",
   "execution_count": 12,
   "metadata": {},
   "outputs": [
    {
     "name": "stderr",
     "output_type": "stream",
     "text": [
      "  0%|          | 0/18 [00:00<?, ?it/s]"
     ]
    },
    {
     "name": "stderr",
     "output_type": "stream",
     "text": [
      "100%|██████████| 18/18 [00:05<00:00,  3.26it/s]\n"
     ]
    }
   ],
   "source": [
    "deflector_source_pairs = [(21, 22), (21, 23), (21, 24), (23, 24), (23, 25), (23, 26), (24, 25), (24, 26), (24, 27), (25, 26), (25, 27), (25, 28), (26, 27), (26, 28), (26, 29), (27, 28), (27, 29), (27, 30)]\n",
    "\n",
    "snr_array, det_array, num_det_array, num_tot_array = [], [], [], []\n",
    "\n",
    "for deflector_cut, source_cut in tqdm(deflector_source_pairs):\n",
    "    output_dir = os.path.join(config.machine.data_dir, 'survey_params', f'deflector_{deflector_cut}_source_{source_cut}')\n",
    "\n",
    "    pickles_detectable_gglenses = glob(f'{output_dir}/detectable_gglenses_*.pkl')\n",
    "    detectable_gglenses = []\n",
    "\n",
    "    for p in pickles_detectable_gglenses:\n",
    "        gglenses = util.unpickle(p)\n",
    "        detectable_gglenses.extend(gglenses)\n",
    "\n",
    "    # print(f'{len(detectable_gglenses)} detectable lens(es)')\n",
    "\n",
    "    # det_array.append(detectable_gglenses)\n",
    "    num_det_array.append(len(detectable_gglenses))\n",
    "\n",
    "    pickles_complete_snr_lists = glob(f'{output_dir}/complete_snr_list_*.pkl')\n",
    "    complete_snr_lists = []\n",
    "\n",
    "    for p in pickles_complete_snr_lists:\n",
    "        snr_list = util.unpickle(p)\n",
    "        complete_snr_lists.extend(snr_list)\n",
    "\n",
    "    # snr_array.append(complete_snr_lists)\n",
    "    num_tot_array.append(len(complete_snr_lists))"
   ]
  },
  {
   "cell_type": "code",
   "execution_count": 13,
   "metadata": {},
   "outputs": [
    {
     "name": "stdout",
     "output_type": "stream",
     "text": [
      "(21, 22): 30 detectable lenses\n",
      "(21, 23): 29 detectable lenses\n",
      "(21, 24): 25 detectable lenses\n",
      "(23, 24): 40 detectable lenses\n",
      "(23, 25): 32 detectable lenses\n",
      "(23, 26): 21 detectable lenses\n",
      "(24, 25): 24 detectable lenses\n",
      "(24, 26): 20 detectable lenses\n",
      "(24, 27): 16 detectable lenses\n",
      "(25, 26): 23 detectable lenses\n",
      "(25, 27): 21 detectable lenses\n",
      "(25, 28): 19 detectable lenses\n",
      "(26, 27): 29 detectable lenses\n",
      "(26, 28): 0 detectable lenses\n",
      "(26, 29): 0 detectable lenses\n",
      "(27, 28): 0 detectable lenses\n",
      "(27, 29): 0 detectable lenses\n",
      "(27, 30): 0 detectable lenses\n"
     ]
    }
   ],
   "source": [
    "for pair, num_det in zip(deflector_source_pairs, num_det_array):\n",
    "    print(f'{pair}: {num_det} detectable lenses')"
   ]
  },
  {
   "cell_type": "code",
   "execution_count": 14,
   "metadata": {},
   "outputs": [
    {
     "name": "stdout",
     "output_type": "stream",
     "text": [
      "(21, 22): 30/487 = 6.16%\n",
      "(21, 23): 29/2435 = 1.19%\n",
      "(21, 24): 25/6186 = 0.40%\n",
      "(23, 24): 40/12165 = 0.33%\n",
      "(23, 25): 32/24427 = 0.13%\n",
      "(23, 26): 21/38315 = 0.05%\n",
      "(24, 25): 24/26501 = 0.09%\n",
      "(24, 26): 20/41584 = 0.05%\n",
      "(24, 27): 16/57475 = 0.03%\n",
      "(25, 26): 23/41882 = 0.05%\n",
      "(25, 27): 21/58776 = 0.04%\n",
      "(25, 28): 19/63850 = 0.03%\n",
      "(26, 27): 29/59221 = 0.05%\n"
     ]
    }
   ],
   "source": [
    "for pair, num_det, num_tot in zip(deflector_source_pairs, num_det_array, num_tot_array):\n",
    "    try:\n",
    "        print(f'{pair}: {num_det}/{num_tot} = {100 * num_det/num_tot:.2f}%')\n",
    "    except ZeroDivisionError:\n",
    "        pass"
   ]
  }
 ],
 "metadata": {
  "kernelspec": {
   "display_name": "mejiro",
   "language": "python",
   "name": "python3"
  },
  "language_info": {
   "codemirror_mode": {
    "name": "ipython",
    "version": 3
   },
   "file_extension": ".py",
   "mimetype": "text/x-python",
   "name": "python",
   "nbconvert_exporter": "python",
   "pygments_lexer": "ipython3",
   "version": "3.11.7"
  }
 },
 "nbformat": 4,
 "nbformat_minor": 2
}
