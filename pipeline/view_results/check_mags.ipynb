{
 "cells": [
  {
   "cell_type": "code",
   "execution_count": 1,
   "metadata": {},
   "outputs": [],
   "source": [
    "import os\n",
    "import sys\n",
    "\n",
    "import numpy as np\n",
    "import matplotlib.pyplot as plt\n",
    "from hydra import initialize, compose\n",
    "from glob import glob\n",
    "from pprint import pprint\n",
    "\n",
    "# set paths to various directories based on the machine this code is being executed on\n",
    "with initialize(version_base=None, config_path='config'):  \n",
    "    config = compose(config_name='config.yaml')  # overrides=['machine=uzay']\n",
    "\n",
    "array_dir, data_dir, figure_dir, pickle_dir, repo_dir  = config.machine.array_dir, config.machine.data_dir, config.machine.figure_dir, config.machine.pickle_dir, config.machine.repo_dir\n",
    "\n",
    "# enable use of local modules\n",
    "if repo_dir not in sys.path:\n",
    "    sys.path.append(repo_dir)\n",
    "\n",
    "# set matplotlib style\n",
    "plt.style.use(f'{repo_dir}/mejiro/mplstyle/science.mplstyle')\n",
    "\n",
    "from mejiro.plots import plot\n",
    "from mejiro.utils import util\n",
    "from mejiro.lenses import lens_util"
   ]
  },
  {
   "cell_type": "code",
   "execution_count": 2,
   "metadata": {},
   "outputs": [],
   "source": [
    "side = 16"
   ]
  },
  {
   "cell_type": "code",
   "execution_count": 5,
   "metadata": {},
   "outputs": [
    {
     "name": "stdout",
     "output_type": "stream",
     "text": [
      "StrongLens 19 not found in /data/bwedig/mejiro/pipeline/03.\n",
      "StrongLens 35 not found in /data/bwedig/mejiro/pipeline/03.\n",
      "StrongLens 195 not found in /data/bwedig/mejiro/pipeline/03.\n",
      "StrongLens 223 not found in /data/bwedig/mejiro/pipeline/03.\n",
      "Collected 285 samples of 256\n"
     ]
    }
   ],
   "source": [
    "tuple_list = []\n",
    "for i in range(0, (side + 1) ** 2):\n",
    "    try:\n",
    "        lens, f129, rgb_image = lens_util.get_sample(config.machine.pipeline_dir, i, band='f129', model=False)\n",
    "        tuple_list.append((lens, f129, rgb_image))\n",
    "    except Exception as e:\n",
    "        print(e)\n",
    "        pass\n",
    "\n",
    "print(f'Collected {len(tuple_list)} samples of {side ** 2}')"
   ]
  },
  {
   "cell_type": "code",
   "execution_count": 4,
   "metadata": {},
   "outputs": [
    {
     "ename": "SyntaxError",
     "evalue": "incomplete input (4110372362.py, line 2)",
     "output_type": "error",
     "traceback": [
      "\u001b[0;36m  Input \u001b[0;32mIn [4]\u001b[0;36m\u001b[0m\n\u001b[0;31m    \u001b[0m\n\u001b[0m    ^\u001b[0m\n\u001b[0;31mSyntaxError\u001b[0m\u001b[0;31m:\u001b[0m incomplete input\n"
     ]
    }
   ],
   "source": [
    "for lens, f129, rgb_image in tuple_list:\n",
    "    _, ax = plt.subplots(1, 2, figsize=(10, 5))\n",
    "    ax0 = ax[0].imshow(f129)\n",
    "    plt.colorbar(ax0, ax=ax[0])\n",
    "    ax[1].imshow(rgb_image)\n",
    "    plt.suptitle(f'Source: {lens.source_mags['F129']}, ')\n",
    "    plt.show()"
   ]
  }
 ],
 "metadata": {
  "kernelspec": {
   "display_name": "mejiro",
   "language": "python",
   "name": "python3"
  },
  "language_info": {
   "codemirror_mode": {
    "name": "ipython",
    "version": 3
   },
   "file_extension": ".py",
   "mimetype": "text/x-python",
   "name": "python",
   "nbconvert_exporter": "python",
   "pygments_lexer": "ipython3",
   "version": "3.10.6"
  }
 },
 "nbformat": 4,
 "nbformat_minor": 2
}
