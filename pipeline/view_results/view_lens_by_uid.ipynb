{
 "cells": [
  {
   "cell_type": "code",
   "execution_count": 6,
   "metadata": {},
   "outputs": [],
   "source": [
    "import os\n",
    "import sys\n",
    "\n",
    "import numpy as np\n",
    "import matplotlib.pyplot as plt\n",
    "from hydra import initialize, compose\n",
    "from glob import glob\n",
    "from pprint import pprint\n",
    "\n",
    "# set paths to various directories based on the machine this code is being executed on\n",
    "try:\n",
    "    with initialize(version_base=None, config_path='config'):  \n",
    "        config = compose(config_name='config.yaml')  # overrides=['machine=uzay']\n",
    "except:\n",
    "    with initialize(version_base=None, config_path='../../config'):  \n",
    "        config = compose(config_name='config.yaml')  # overrides=['machine=uzay']\n",
    "\n",
    "array_dir, data_dir, figure_dir, pickle_dir, repo_dir  = config.machine.array_dir, config.machine.data_dir, config.machine.figure_dir, config.machine.pickle_dir, config.machine.repo_dir\n",
    "\n",
    "# enable use of local modules\n",
    "if repo_dir not in sys.path:\n",
    "    sys.path.append(repo_dir)\n",
    "\n",
    "# set matplotlib style\n",
    "plt.style.use(f'{repo_dir}/mejiro/mplstyle/science.mplstyle')\n",
    "\n",
    "from mejiro.plots import plot\n",
    "from mejiro.lenses import lens_util\n",
    "from mejiro.utils import util"
   ]
  },
  {
   "cell_type": "code",
   "execution_count": 7,
   "metadata": {},
   "outputs": [
    {
     "name": "stdout",
     "output_type": "stream",
     "text": [
      "pipeline_dir='/data/bwedig/mejiro/pipeline_dev'\n"
     ]
    },
    {
     "name": "stderr",
     "output_type": "stream",
     "text": [
      "100%|██████████| 452/452 [00:04<00:00, 95.98it/s] \n"
     ]
    }
   ],
   "source": [
    "pipeline_params = util.hydra_to_dict(config.pipeline)\n",
    "debugging = pipeline_params['debugging']\n",
    "if debugging:\n",
    "    pipeline_dir = f'{config.machine.pipeline_dir}_dev'\n",
    "else:\n",
    "    pipeline_dir = config.machine.pipeline_dir\n",
    "print(f'{pipeline_dir=}')\n",
    "\n",
    "all_lenses = lens_util.get_detectable_lenses(pipeline_dir, with_subhalos=True, suppress_output=False)"
   ]
  },
  {
   "cell_type": "code",
   "execution_count": 8,
   "metadata": {},
   "outputs": [
    {
     "name": "stdout",
     "output_type": "stream",
     "text": [
      "{'F062': {'R_sersic': 0.5616318400228018,\n",
      "          'center_x': -0.07619496060637289,\n",
      "          'center_y': 0.1393039052098915,\n",
      "          'e1': 0.0031809392076124895,\n",
      "          'e2': 0.011476482320366231,\n",
      "          'magnitude': 23.174098315542757,\n",
      "          'n_sersic': 4.0},\n",
      " 'F087': {'R_sersic': 0.5616318400228018,\n",
      "          'center_x': -0.07619496060637289,\n",
      "          'center_y': 0.1393039052098915,\n",
      "          'e1': 0.0031809392076124895,\n",
      "          'e2': 0.011476482320366231,\n",
      "          'magnitude': 21.78457888686983,\n",
      "          'n_sersic': 4.0},\n",
      " 'F106': {'R_sersic': 0.5616318400228018,\n",
      "          'center_x': -0.07619496060637289,\n",
      "          'center_y': 0.1393039052098915,\n",
      "          'e1': 0.0031809392076124895,\n",
      "          'e2': 0.011476482320366231,\n",
      "          'magnitude': 21.20125360781848,\n",
      "          'n_sersic': 4.0}}\n"
     ]
    }
   ],
   "source": [
    "lens = np.random.choice(all_lenses)\n",
    "\n",
    "pprint(lens.kwargs_lens_light_dict)"
   ]
  },
  {
   "cell_type": "code",
   "execution_count": null,
   "metadata": {},
   "outputs": [],
   "source": [
    "lens = [l for l in all_lenses if l.uid == '00000478'][0]\n",
    "\n",
    "_, f106, rgb_image = lens_util.get_sample(pipeline_dir, index=lens.uid, model=False, band='F106')\n",
    "\n",
    "_, ax = plt.subplots(1, 2, figsize=(10, 5))\n",
    "ax[0].imshow(f106)\n",
    "ax[1].imshow(rgb_image)\n",
    "plt.show()"
   ]
  }
 ],
 "metadata": {
  "kernelspec": {
   "display_name": "mejiro",
   "language": "python",
   "name": "python3"
  },
  "language_info": {
   "codemirror_mode": {
    "name": "ipython",
    "version": 3
   },
   "file_extension": ".py",
   "mimetype": "text/x-python",
   "name": "python",
   "nbconvert_exporter": "python",
   "pygments_lexer": "ipython3",
   "version": "3.10.6"
  }
 },
 "nbformat": 4,
 "nbformat_minor": 2
}
