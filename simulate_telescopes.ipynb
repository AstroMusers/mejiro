{
 "cells": [
  {
   "cell_type": "code",
   "execution_count": 185,
   "metadata": {
    "ExecuteTime": {
     "end_time": "2023-10-05T17:29:01.560175700Z",
     "start_time": "2023-10-05T17:29:01.532030800Z"
    },
    "collapsed": false
   },
   "outputs": [],
   "source": [
    "import os\n",
    "import sys\n",
    "\n",
    "path = os.getcwd()\n",
    "while os.path.basename(os.path.normpath(path)) != 'roman_tools':\n",
    "    path = os.path.dirname(path)\n",
    "repo_path = path\n",
    "if repo_path not in sys.path:\n",
    "    sys.path.append(repo_path)"
   ]
  },
  {
   "cell_type": "code",
   "execution_count": 186,
   "metadata": {
    "ExecuteTime": {
     "end_time": "2023-10-05T17:29:01.609319600Z",
     "start_time": "2023-10-05T17:29:01.546622800Z"
    },
    "collapsed": true
   },
   "outputs": [],
   "source": [
    "import copy\n",
    "import matplotlib.pyplot as plt\n",
    "%matplotlib inline\n",
    "plt.rcParams[\"axes.grid\"] = False\n",
    "import numpy as np"
   ]
  },
  {
   "cell_type": "code",
   "execution_count": 187,
   "metadata": {
    "ExecuteTime": {
     "end_time": "2023-10-05T17:29:04.982278800Z",
     "start_time": "2023-10-05T17:29:01.582698400Z"
    },
    "collapsed": false
   },
   "outputs": [],
   "source": [
    "import lenstronomy.Plots.plot_util as plot_util\n",
    "from lenstronomy.SimulationAPI.sim_api import SimAPI\n",
    "from lenstronomy.LightModel.Profiles.gaussian import GaussianEllipse\n",
    "gauss = GaussianEllipse()"
   ]
  },
  {
   "cell_type": "markdown",
   "metadata": {
    "collapsed": false
   },
   "source": [
    "# Set up the model"
   ]
  },
  {
   "cell_type": "markdown",
   "metadata": {
    "collapsed": false
   },
   "source": [
    "## Simulate the main deflector\n",
    "\n",
    "Mass distribution given by a singular isothermal ellipsoid with a shear, then light with a sersic ellipse profile"
   ]
  },
  {
   "cell_type": "code",
   "execution_count": 188,
   "metadata": {
    "ExecuteTime": {
     "end_time": "2023-10-05T17:29:05.063769100Z",
     "start_time": "2023-10-05T17:29:04.982278800Z"
    },
    "collapsed": false
   },
   "outputs": [],
   "source": [
    "from lenstronomy.LensModel.lens_model import LensModel\n",
    "\n",
    "lens_model_list = ['SIE', 'SHEAR']\n",
    "\n",
    "kwargs_spemd = {'theta_E': 1.7, 'e1': 0.07, 'e2': -0.03, 'center_x': 0.05, 'center_y': -0.25}\n",
    "kwargs_shear = {'gamma1': 0.1, 'gamma2': -0.05}\n",
    "\n",
    "kwargs_lens = [kwargs_spemd, kwargs_shear]\n",
    "lens_model_class = LensModel(lens_model_list)\n",
    "\n",
    "from lenstronomy.LightModel.light_model import LightModel\n",
    "\n",
    "lens_light_model_list = ['SERSIC_ELLIPSE']\n",
    "\n",
    "kwargs_sersic_lens = {'amp': 10, 'R_sersic': 0.6, 'n_sersic': 2, 'e1': -0.1, 'e2': 0.1, 'center_x': 0.05, 'center_y': 0}\n",
    "\n",
    "kwargs_lens_light = [kwargs_sersic_lens]\n",
    "lens_light_model_class = LightModel(lens_light_model_list)"
   ]
  },
  {
   "cell_type": "markdown",
   "metadata": {
    "collapsed": false
   },
   "source": [
    "## Simulate the source\n",
    "\n",
    "Light with a sersic ellipse profile"
   ]
  },
  {
   "cell_type": "code",
   "execution_count": 189,
   "metadata": {
    "ExecuteTime": {
     "end_time": "2023-10-05T17:29:05.069127200Z",
     "start_time": "2023-10-05T17:29:05.037873800Z"
    },
    "collapsed": false
   },
   "outputs": [],
   "source": [
    "source_model_list = ['SERSIC_ELLIPSE']\n",
    "\n",
    "kwargs_sersic = {'amp': 10, 'R_sersic': 0.1, 'n_sersic': 1, 'e1': -0.1, 'e2': 0.1, 'center_x': 0.1, 'center_y': 0}\n",
    "\n",
    "kwargs_source = [kwargs_sersic]\n",
    "source_model_class = LightModel(source_model_list)"
   ]
  },
  {
   "cell_type": "markdown",
   "metadata": {
    "collapsed": false
   },
   "source": [
    "We don't need this yet, but we'll need it for the telescope images later (`SimulationAPI`)"
   ]
  },
  {
   "cell_type": "code",
   "execution_count": 190,
   "metadata": {
    "ExecuteTime": {
     "end_time": "2023-10-05T17:29:05.127578700Z",
     "start_time": "2023-10-05T17:29:05.050266300Z"
    },
    "collapsed": false
   },
   "outputs": [],
   "source": [
    "kwargs_model = {'lens_model_list': lens_model_list,\n",
    "                'lens_light_model_list': lens_light_model_list,\n",
    "                'source_light_model_list': source_model_list}"
   ]
  },
  {
   "cell_type": "markdown",
   "metadata": {
    "collapsed": false
   },
   "source": [
    "# Image the model"
   ]
  },
  {
   "cell_type": "markdown",
   "metadata": {
    "collapsed": false
   },
   "source": [
    "## Set up the coordinate-to-pixel transformation"
   ]
  },
  {
   "cell_type": "code",
   "execution_count": 191,
   "metadata": {
    "ExecuteTime": {
     "end_time": "2023-10-05T17:29:05.193014700Z",
     "start_time": "2023-10-05T17:29:05.083879300Z"
    },
    "collapsed": false
   },
   "outputs": [],
   "source": [
    "from lenstronomy.Data.pixel_grid import PixelGrid\n",
    "\n",
    "num_pix = 100\n",
    "delta_pix = 0.05  # size of pixel in angular coordinates\n",
    "ra_at_xy_0, dec_at_xy_0 = -2.5, -2.5 # coordinate in angles (RA/DEC) at the position of the pixel edge (0,0)\n",
    "transform_pix2angle = np.array([[1, 0], [0, 1]]) * delta_pix  # linear translation matrix of a shift in pixel in a shift in coordinates\n",
    "\n",
    "kwargs_pixel = {'nx': num_pix, 'ny': num_pix,  # number of pixels per axis\n",
    "                'ra_at_xy_0': ra_at_xy_0,  # RA at pixel (0,0)\n",
    "                'dec_at_xy_0': dec_at_xy_0,  # DEC at pixel (0,0)\n",
    "                'transform_pix2angle': transform_pix2angle}\n",
    "\n",
    "pixel_grid = PixelGrid(**kwargs_pixel)"
   ]
  },
  {
   "cell_type": "markdown",
   "metadata": {
    "collapsed": false
   },
   "source": [
    "## Set up the PSF"
   ]
  },
  {
   "cell_type": "code",
   "execution_count": 192,
   "metadata": {
    "ExecuteTime": {
     "end_time": "2023-10-05T17:29:05.195545100Z",
     "start_time": "2023-10-05T17:29:05.101376300Z"
    },
    "collapsed": false
   },
   "outputs": [],
   "source": [
    "from lenstronomy.Data.psf import PSF\n",
    "\n",
    "# kwargs_psf = {'psf_type': 'GAUSSIAN',\n",
    "#               'fwhm': 0.1,\n",
    "#               'pixel_size': delta_pix}\n",
    "\n",
    "kwargs_psf = {'psf_type': 'NONE'}\n",
    "\n",
    "psf_class = PSF(**kwargs_psf)"
   ]
  },
  {
   "cell_type": "markdown",
   "metadata": {
    "collapsed": false
   },
   "source": [
    "## Combine"
   ]
  },
  {
   "cell_type": "code",
   "execution_count": 193,
   "metadata": {
    "ExecuteTime": {
     "end_time": "2023-10-05T17:29:05.196391100Z",
     "start_time": "2023-10-05T17:29:05.110641900Z"
    },
    "collapsed": false
   },
   "outputs": [],
   "source": [
    "from lenstronomy.ImSim.image_model import ImageModel\n",
    "\n",
    "kwargs_numerics = {'supersampling_factor': 2,\n",
    "                   'supersampling_convolution': False}\n",
    "\n",
    "imageModel = ImageModel(data_class=pixel_grid,\n",
    "                        psf_class=psf_class,\n",
    "                        lens_model_class=lens_model_class,\n",
    "                        source_model_class=source_model_class,\n",
    "                        lens_light_model_class=lens_light_model_class,\n",
    "                        kwargs_numerics=kwargs_numerics)"
   ]
  },
  {
   "cell_type": "markdown",
   "metadata": {
    "collapsed": false
   },
   "source": [
    "## Look at the image"
   ]
  },
  {
   "cell_type": "code",
   "execution_count": 194,
   "metadata": {
    "ExecuteTime": {
     "end_time": "2023-10-05T17:29:06.214374Z",
     "start_time": "2023-10-05T17:29:05.126580100Z"
    },
    "collapsed": false
   },
   "outputs": [
    {
     "data": {
      "image/png": "[encoded data removed]",
      "text/plain": [
       "<Figure size 640x480 with 1 Axes>"
      ]
     },
     "metadata": {},
     "output_type": "display_data"
    }
   ],
   "source": [
    "image = imageModel.image(kwargs_lens=kwargs_lens,\n",
    "                         kwargs_source=kwargs_source,\n",
    "                         kwargs_lens_light=kwargs_lens_light)\n",
    "\n",
    "plt.imshow(image, origin='lower')\n",
    "plt.show()"
   ]
  },
  {
   "cell_type": "markdown",
   "metadata": {
    "collapsed": false
   },
   "source": [
    "# Observe with HST"
   ]
  },
  {
   "cell_type": "code",
   "execution_count": 195,
   "metadata": {
    "ExecuteTime": {
     "end_time": "2023-10-05T17:29:07.137418800Z",
     "start_time": "2023-10-05T17:29:06.729013800Z"
    },
    "collapsed": false
   },
   "outputs": [
    {
     "name": "stdout",
     "output_type": "stream",
     "text": [
      "HST's pixel scale: 0.08\n"
     ]
    },
    {
     "data": {
      "image/png": "[encoded data removed]",
      "text/plain": [
       "<Figure size 640x480 with 1 Axes>"
      ]
     },
     "metadata": {},
     "output_type": "display_data"
    }
   ],
   "source": [
    "from lenstronomy.SimulationAPI.ObservationConfig.HST import HST\n",
    "\n",
    "HST_wfc3_f160w = HST(band='WFC3_F160W', psf_type='GAUSSIAN', coadd_years=None)\n",
    "\n",
    "kwargs_wfc3_f160w = HST_wfc3_f160w.kwargs_single_band()\n",
    "\n",
    "hst_pixel_scale = HST_wfc3_f160w.kwargs_single_band().get('pixel_scale')\n",
    "print('HST\\'s pixel scale: ' + str(hst_pixel_scale))\n",
    "\n",
    "hst_num_pix = int(5 / hst_pixel_scale)\n",
    "\n",
    "sim_wfc3_f160w = SimAPI(numpix=hst_num_pix, kwargs_single_band=kwargs_wfc3_f160w, kwargs_model=kwargs_model)\n",
    "\n",
    "imSim_kwargs_wfc3_f160w = sim_wfc3_f160w.image_model_class(kwargs_numerics)\n",
    "\n",
    "# set magnitudes\n",
    "lens_light_mag_wfc3_f160w = 14.\n",
    "source_mag_wfc3_f160w = 19.\n",
    "\n",
    "# lens light (`kwargs_sersic_lens`)\n",
    "kwargs_lens_light_mag_wfc3_f160w = [copy.deepcopy(kwargs_sersic_lens)]\n",
    "del kwargs_lens_light_mag_wfc3_f160w[0]['amp']\n",
    "kwargs_lens_light_mag_wfc3_f160w[0]['magnitude'] = lens_light_mag_wfc3_f160w\n",
    "\n",
    "# source light (`kwargs_sersic`)\n",
    "kwargs_source_mag_wfc3_f160w = [copy.deepcopy(kwargs_sersic)]\n",
    "del kwargs_source_mag_wfc3_f160w[0]['amp']\n",
    "kwargs_source_mag_wfc3_f160w[0]['magnitude'] = source_mag_wfc3_f160w\n",
    "\n",
    "kwargs_lens_light_wfc3_f160w, kwargs_source_wfc3_f160w, _ = sim_wfc3_f160w.magnitude2amplitude(kwargs_lens_light_mag=kwargs_lens_light_mag_wfc3_f160w, kwargs_source_mag=kwargs_source_mag_wfc3_f160w)\n",
    "\n",
    "image_wfc3_f160w = imSim_kwargs_wfc3_f160w.image(kwargs_lens=kwargs_lens, kwargs_lens_light=kwargs_lens_light_wfc3_f160w, kwargs_source=kwargs_source_wfc3_f160w)\n",
    "\n",
    "# add noise\n",
    "image_wfc3_f160w += sim_wfc3_f160w.noise_for_model(model=image_wfc3_f160w)\n",
    "\n",
    "hst_image = np.zeros((image_wfc3_f160w.shape[0], image_wfc3_f160w.shape[1], 1), dtype=float)\n",
    "hst_image[:,:,0] = plot_util.sqrt(image_wfc3_f160w, scale_min=0, scale_max=10000)\n",
    "\n",
    "plt.imshow(hst_image, aspect='equal', origin='lower', cmap='gray')\n",
    "plt.show()"
   ]
  },
  {
   "cell_type": "markdown",
   "metadata": {
    "collapsed": false
   },
   "source": [
    "# Observe with Roman\n",
    "\n",
    "Use `lenstronomy` defaults"
   ]
  },
  {
   "cell_type": "code",
   "execution_count": 196,
   "metadata": {
    "ExecuteTime": {
     "end_time": "2023-10-05T17:29:07.164563700Z",
     "start_time": "2023-10-05T17:29:07.137418800Z"
    },
    "collapsed": false
   },
   "outputs": [],
   "source": [
    "from lenstronomy.SimulationAPI.ObservationConfig.Roman import Roman\n",
    "\n",
    "# Roman_F062 = Roman(band='F062', psf_type='GAUSSIAN', survey_mode='wide_area')\n",
    "# Roman_Z087 = Roman(band='F087', psf_type='GAUSSIAN', survey_mode='microlensing')\n",
    "Roman_Y106 = Roman(band='F106', psf_type='GAUSSIAN', survey_mode='wide_area')\n",
    "# Roman_J129 = Roman(band='F129', psf_type='GAUSSIAN', survey_mode='wide_area')\n",
    "# Roman_H158 = Roman(band='F158', psf_type='GAUSSIAN', survey_mode='wide_area')\n",
    "# Roman_F184 = Roman(band='F184', psf_type='GAUSSIAN', survey_mode='wide_area')\n",
    "# Roman_W146 = Roman(band='F146', psf_type='GAUSSIAN', survey_mode='microlensing')\n",
    "\n",
    "# kwargs_f062 = Roman_F062.kwargs_single_band()\n",
    "kwargs_f106 = Roman_Y106.kwargs_single_band()\n",
    "# kwargs_f129 = Roman_J129.kwargs_single_band()\n",
    "# kwargs_f158 = Roman_H158.kwargs_single_band()\n",
    "# kwargs_f184 = Roman_F184.kwargs_single_band()"
   ]
  },
  {
   "cell_type": "markdown",
   "metadata": {
    "collapsed": false
   },
   "source": [
    "Make an adjustment for the scale of the image based on the telescope's pixel scale. The model image is 5\"x5\"."
   ]
  },
  {
   "cell_type": "code",
   "execution_count": 197,
   "metadata": {
    "ExecuteTime": {
     "end_time": "2023-10-05T17:29:07.199962300Z",
     "start_time": "2023-10-05T17:29:07.153971500Z"
    },
    "collapsed": false
   },
   "outputs": [
    {
     "name": "stdout",
     "output_type": "stream",
     "text": [
      "Roman's pixel scale: 0.11\n"
     ]
    }
   ],
   "source": [
    "roman_pixel_scale = Roman_Y106.kwargs_single_band().get('pixel_scale')\n",
    "print('Roman\\'s pixel scale: ' + str(roman_pixel_scale))\n",
    "\n",
    "roman_num_pix = int(5 / roman_pixel_scale)"
   ]
  },
  {
   "cell_type": "markdown",
   "metadata": {
    "collapsed": false
   },
   "source": [
    "Build `SimAPI` objects"
   ]
  },
  {
   "cell_type": "code",
   "execution_count": 198,
   "metadata": {
    "ExecuteTime": {
     "end_time": "2023-10-05T17:29:07.199962300Z",
     "start_time": "2023-10-05T17:29:07.164563700Z"
    },
    "collapsed": false
   },
   "outputs": [],
   "source": [
    "# sim_f062 = SimAPI(numpix=roman_num_pix, kwargs_single_band=kwargs_f062, kwargs_model=kwargs_model)\n",
    "sim_f106 = SimAPI(numpix=roman_num_pix, kwargs_single_band=kwargs_f106, kwargs_model=kwargs_model)\n",
    "# sim_f129 = SimAPI(numpix=roman_num_pix, kwargs_single_band=kwargs_f129, kwargs_model=kwargs_model)\n",
    "# sim_f158 = SimAPI(numpix=roman_num_pix, kwargs_single_band=kwargs_f158, kwargs_model=kwargs_model)\n",
    "# sim_f184 = SimAPI(numpix=roman_num_pix, kwargs_single_band=kwargs_f184, kwargs_model=kwargs_model)\n",
    "\n",
    "# imSim_kwargs_f062 = sim_f062.image_model_class(kwargs_numerics)\n",
    "imSim_kwargs_f106 = sim_f106.image_model_class(kwargs_numerics)\n",
    "# imSim_kwargs_f129 = sim_f129.image_model_class(kwargs_numerics)\n",
    "# imSim_kwargs_f158 = sim_f158.image_model_class(kwargs_numerics)\n",
    "# imSim_kwargs_f184 = sim_f184.image_model_class(kwargs_numerics)"
   ]
  },
  {
   "cell_type": "markdown",
   "metadata": {
    "collapsed": false
   },
   "source": [
    "## Set up magnitudes of the lens and source light"
   ]
  },
  {
   "cell_type": "code",
   "execution_count": 199,
   "metadata": {
    "ExecuteTime": {
     "end_time": "2023-10-05T17:29:07.199962300Z",
     "start_time": "2023-10-05T17:29:07.195092500Z"
    },
    "collapsed": false
   },
   "outputs": [],
   "source": [
    "# set lens light magnitudes\n",
    "# lens_light_mag_f062 = 14.\n",
    "lens_light_mag_f106 = 22.5\n",
    "# lens_light_mag_f129 = 15.\n",
    "# lens_light_mag_f158 = 16.\n",
    "# lens_light_mag_f184 = 16.\n",
    "\n",
    "# set source light magnitudes\n",
    "# source_mag_f062 = 18.\n",
    "source_mag_f106 = 26.5\n",
    "# source_mag_f129 = 17.\n",
    "# source_mag_f158 = 16.\n",
    "# source_mag_f184 = 16."
   ]
  },
  {
   "cell_type": "code",
   "execution_count": 200,
   "metadata": {
    "ExecuteTime": {
     "end_time": "2023-10-05T17:29:07.245029400Z",
     "start_time": "2023-10-05T17:29:07.212073400Z"
    },
    "collapsed": false
   },
   "outputs": [],
   "source": [
    "# lens light (`kwargs_sersic_lens`)\n",
    "# kwargs_lens_light_mag_f062 = [copy.deepcopy(kwargs_sersic_lens)]\n",
    "# del kwargs_lens_light_mag_f062[0]['amp']\n",
    "# kwargs_lens_light_mag_f062[0]['magnitude'] = lens_light_mag_f062\n",
    "\n",
    "kwargs_lens_light_mag_f106 = [copy.deepcopy(kwargs_sersic_lens)]\n",
    "del kwargs_lens_light_mag_f106[0]['amp']\n",
    "kwargs_lens_light_mag_f106[0]['magnitude'] = lens_light_mag_f106\n",
    "\n",
    "# kwargs_lens_light_mag_f129 = [copy.deepcopy(kwargs_sersic_lens)]\n",
    "# del kwargs_lens_light_mag_f129[0]['amp']\n",
    "# kwargs_lens_light_mag_f129[0]['magnitude'] = lens_light_mag_f129\n",
    "\n",
    "# kwargs_lens_light_mag_f158 = [copy.deepcopy(kwargs_sersic_lens)]\n",
    "# del kwargs_lens_light_mag_f158[0]['amp']\n",
    "# kwargs_lens_light_mag_f158[0]['magnitude'] = lens_light_mag_f158\n",
    "\n",
    "# kwargs_lens_light_mag_f184 = [copy.deepcopy(kwargs_sersic_lens)]\n",
    "# del kwargs_lens_light_mag_f184[0]['amp']\n",
    "# kwargs_lens_light_mag_f184[0]['magnitude'] = lens_light_mag_f184\n",
    "\n",
    "# source light (`kwargs_sersic`)\n",
    "# kwargs_source_mag_f062 = [copy.deepcopy(kwargs_sersic)]\n",
    "# del kwargs_source_mag_f062[0]['amp']\n",
    "# kwargs_source_mag_f062[0]['magnitude'] = source_mag_f062\n",
    "\n",
    "kwargs_source_mag_f106 = [copy.deepcopy(kwargs_sersic)]\n",
    "del kwargs_source_mag_f106[0]['amp']\n",
    "kwargs_source_mag_f106[0]['magnitude'] = source_mag_f106\n",
    "\n",
    "# kwargs_source_mag_f129 = [copy.deepcopy(kwargs_sersic)]\n",
    "# del kwargs_source_mag_f129[0]['amp']\n",
    "# kwargs_source_mag_f129[0]['magnitude'] = source_mag_f129\n",
    "\n",
    "# kwargs_source_mag_f158 = [copy.deepcopy(kwargs_sersic)]\n",
    "# del kwargs_source_mag_f158[0]['amp']\n",
    "# kwargs_source_mag_f158[0]['magnitude'] = source_mag_f158\n",
    "\n",
    "# kwargs_source_mag_f184 = [copy.deepcopy(kwargs_sersic)]\n",
    "# del kwargs_source_mag_f184[0]['amp']\n",
    "# kwargs_source_mag_f184[0]['magnitude'] = source_mag_f184"
   ]
  },
  {
   "cell_type": "markdown",
   "metadata": {
    "collapsed": false
   },
   "source": [
    "Turn magnitude kwargs into amplitude kwargs"
   ]
  },
  {
   "cell_type": "code",
   "execution_count": 201,
   "metadata": {
    "ExecuteTime": {
     "end_time": "2023-10-05T17:29:07.360742Z",
     "start_time": "2023-10-05T17:29:07.218648400Z"
    },
    "collapsed": false
   },
   "outputs": [],
   "source": [
    "# kwargs_lens_light_f062, kwargs_source_f062, _ = sim_f062.magnitude2amplitude(kwargs_lens_light_mag=kwargs_lens_light_mag_f062, kwargs_source_mag=kwargs_source_mag_f062)\n",
    "kwargs_lens_light_f106, kwargs_source_f106, _ = sim_f106.magnitude2amplitude(kwargs_lens_light_mag=kwargs_lens_light_mag_f106, kwargs_source_mag=kwargs_source_mag_f106)\n",
    "# kwargs_lens_light_f129, kwargs_source_f129, _ = sim_f129.magnitude2amplitude(kwargs_lens_light_mag=kwargs_lens_light_mag_f129, kwargs_source_mag=kwargs_source_mag_f129)\n",
    "# kwargs_lens_light_f158, kwargs_source_f158, _ = sim_f158.magnitude2amplitude(kwargs_lens_light_mag=kwargs_lens_light_mag_f158, kwargs_source_mag=kwargs_source_mag_f158)\n",
    "# kwargs_lens_light_f184, kwargs_source_f184, _ = sim_f184.magnitude2amplitude(kwargs_lens_light_mag=kwargs_lens_light_mag_f184, kwargs_source_mag=kwargs_source_mag_f184)"
   ]
  },
  {
   "cell_type": "markdown",
   "metadata": {
    "collapsed": false
   },
   "source": [
    "## Simulate Roman image"
   ]
  },
  {
   "cell_type": "code",
   "execution_count": 202,
   "metadata": {
    "ExecuteTime": {
     "end_time": "2023-10-05T17:29:07.378535300Z",
     "start_time": "2023-10-05T17:29:07.231290300Z"
    },
    "collapsed": false
   },
   "outputs": [],
   "source": [
    "# image_f062 = imSim_kwargs_f062.image(kwargs_lens=kwargs_lens, kwargs_lens_light=kwargs_lens_light_f062, kwargs_source=kwargs_source_f062)\n",
    "image_f106 = imSim_kwargs_f106.image(kwargs_lens=kwargs_lens, kwargs_lens_light=kwargs_lens_light_f106, kwargs_source=kwargs_source_f106)\n",
    "# image_f129 = imSim_kwargs_f129.image(kwargs_lens=kwargs_lens, kwargs_lens_light=kwargs_lens_light_f129, kwargs_source=kwargs_source_f129)\n",
    "# image_f158 = imSim_kwargs_f158.image(kwargs_lens=kwargs_lens, kwargs_lens_light=kwargs_lens_light_f158, kwargs_source=kwargs_source_f158)\n",
    "# image_f/184 = imSim_kwargs_f184.image(kwargs_lens=kwargs_lens, kwargs_lens_light=kwargs_lens_light_f184, kwargs_source=kwargs_source_f184)\n",
    "\n",
    "# add noise\n",
    "# image_f062 += sim_f062.noise_for_model(model=image_f062)\n",
    "image_f106 += sim_f106.noise_for_model(model=image_f106)\n",
    "# image_f129 += sim_f129.noise_for_model(model=image_f129)\n",
    "# image_f158 += sim_f158.noise_for_model(model=image_f158)\n",
    "# image_f184 += sim_f184.noise_for_model(model=image_f184)\n",
    "\n",
    "# roman_image = np.zeros((image_f062.shape[0], image_f062.shape[1], 3), dtype=float)\n",
    "# print(roman_image.shape)\n",
    "# roman_image[:,:,0] = plot_util.sqrt(image_f062, scale_min=0, scale_max=10000)\n",
    "# roman_image[:,:,0] = plot_util.sqrt(image_f106, scale_min=0, scale_max=10000)\n",
    "# roman_image[:,:,1] = plot_util.sqrt(image_f129, scale_min=0, scale_max=10000)\n",
    "# roman_image[:,:,2] = plot_util.sqrt(image_f158, scale_min=0, scale_max=10000)\n",
    "# roman_image[:,:,2] = plot_util.sqrt(image_f184, scale_min=0, scale_max=10000)"
   ]
  },
  {
   "cell_type": "code",
   "execution_count": 203,
   "metadata": {
    "ExecuteTime": {
     "end_time": "2023-10-05T17:29:07.678333300Z",
     "start_time": "2023-10-05T17:29:07.279713900Z"
    },
    "collapsed": false
   },
   "outputs": [
    {
     "data": {
      "image/png": "[encoded data removed]",
      "text/plain": [
       "<Figure size 640x480 with 1 Axes>"
      ]
     },
     "metadata": {},
     "output_type": "display_data"
    }
   ],
   "source": [
    "plt.imshow(image_f106, aspect='equal', origin='lower')\n",
    "plt.title('Lenstronomy simulation (F106)')\n",
    "plt.savefig('figures/roman.png')\n",
    "plt.show()"
   ]
  },
  {
   "cell_type": "code",
   "execution_count": 204,
   "metadata": {},
   "outputs": [],
   "source": [
    "np.save('roman', image_f106)"
   ]
  }
 ],
 "metadata": {
  "kernelspec": {
   "display_name": "Python 3",
   "language": "python",
   "name": "python3"
  },
  "language_info": {
   "codemirror_mode": {
    "name": "ipython",
    "version": 3
   },
   "file_extension": ".py",
   "mimetype": "text/x-python",
   "name": "python",
   "nbconvert_exporter": "python",
   "pygments_lexer": "ipython3",
   "version": "3.10.6"
  }
 },
 "nbformat": 4,
 "nbformat_minor": 0
}
