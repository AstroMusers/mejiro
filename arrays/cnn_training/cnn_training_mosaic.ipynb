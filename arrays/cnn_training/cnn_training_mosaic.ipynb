{
 "cells": [
  {
   "cell_type": "code",
   "execution_count": 14,
   "metadata": {},
   "outputs": [],
   "source": [
    "import os\n",
    "import sys\n",
    "\n",
    "path = os.getcwd()\n",
    "while os.path.basename(os.path.normpath(path)) != 'roman-pandeia':\n",
    "        path = os.path.dirname(path)\n",
    "repo_path = path\n",
    "if repo_path not in sys.path:\n",
    "    sys.path.append(repo_path)\n",
    "    \n",
    "import time\n",
    "from pprint import pprint\n",
    "from tqdm import tqdm\n",
    "import matplotlib\n",
    "import matplotlib.pyplot as plt\n",
    "matplotlib.rcParams['axes.grid'] = False\n",
    "matplotlib.rcParams['image.origin'] = 'lower'\n",
    "import numpy as np\n",
    "from glob import glob\n",
    "\n",
    "from pandeia.engine.perform_calculation import perform_calculation\n",
    "from pandeia.engine.calc_utils import get_telescope_config, get_instrument_config, build_default_calc, build_default_source\n",
    "from pandeia.engine.io_utils import read_json, write_json\n",
    "\n",
    "from utils import image_utils\n",
    "\n",
    "cwd = os.getcwd()"
   ]
  },
  {
   "cell_type": "code",
   "execution_count": 18,
   "metadata": {},
   "outputs": [],
   "source": [
    "filename = os.path.join(cwd, 'lenstronomy_mosaic.png')\n",
    "if os.path.exists(filename):\n",
    "    os.remove(filename)\n",
    "\n",
    "images = glob(cwd + '/model_*.png')\n",
    "space = 0\n",
    "columns = 5\n",
    "\n",
    "image_utils.combine_images(columns, space, images, filename)"
   ]
  },
  {
   "cell_type": "code",
   "execution_count": 21,
   "metadata": {},
   "outputs": [
    {
     "name": "stdout",
     "output_type": "stream",
     "text": [
      "Converting to point sources...\n"
     ]
    },
    {
     "name": "stderr",
     "output_type": "stream",
     "text": [
      "100%|██████████| 45/45 [00:29<00:00,  1.54it/s]\n"
     ]
    },
    {
     "name": "stdout",
     "output_type": "stream",
     "text": [
      "Point source conversion complete\n",
      "Performing Pandeia calculation...\n"
     ]
    },
    {
     "name": "stderr",
     "output_type": "stream",
     "text": [
      "WARNING: Source spectrum will be extrapolated (at constant value for empirical model). [synphot.observation]\n"
     ]
    },
    {
     "name": "stdout",
     "output_type": "stream",
     "text": [
      "Pandeia calculation complete\n",
      "Converting to point sources...\n"
     ]
    },
    {
     "name": "stderr",
     "output_type": "stream",
     "text": [
      "100%|██████████| 45/45 [00:29<00:00,  1.52it/s]\n"
     ]
    },
    {
     "name": "stdout",
     "output_type": "stream",
     "text": [
      "Point source conversion complete\n",
      "Performing Pandeia calculation...\n",
      "Pandeia calculation complete\n",
      "Converting to point sources...\n"
     ]
    },
    {
     "name": "stderr",
     "output_type": "stream",
     "text": [
      "100%|██████████| 45/45 [00:28<00:00,  1.57it/s]\n"
     ]
    },
    {
     "name": "stdout",
     "output_type": "stream",
     "text": [
      "Point source conversion complete\n",
      "Performing Pandeia calculation...\n",
      "Pandeia calculation complete\n",
      "Converting to point sources...\n"
     ]
    },
    {
     "name": "stderr",
     "output_type": "stream",
     "text": [
      "100%|██████████| 45/45 [00:27<00:00,  1.61it/s]\n"
     ]
    },
    {
     "name": "stdout",
     "output_type": "stream",
     "text": [
      "Point source conversion complete\n",
      "Performing Pandeia calculation...\n",
      "Pandeia calculation complete\n",
      "Converting to point sources...\n"
     ]
    },
    {
     "name": "stderr",
     "output_type": "stream",
     "text": [
      "100%|██████████| 45/45 [00:27<00:00,  1.64it/s]\n"
     ]
    },
    {
     "name": "stdout",
     "output_type": "stream",
     "text": [
      "Point source conversion complete\n",
      "Performing Pandeia calculation...\n",
      "Pandeia calculation complete\n",
      "Converting to point sources...\n"
     ]
    },
    {
     "name": "stderr",
     "output_type": "stream",
     "text": [
      "100%|██████████| 45/45 [00:27<00:00,  1.62it/s]\n"
     ]
    },
    {
     "name": "stdout",
     "output_type": "stream",
     "text": [
      "Point source conversion complete\n",
      "Performing Pandeia calculation...\n",
      "Pandeia calculation complete\n",
      "Converting to point sources...\n"
     ]
    },
    {
     "name": "stderr",
     "output_type": "stream",
     "text": [
      "100%|██████████| 45/45 [00:27<00:00,  1.63it/s]\n"
     ]
    },
    {
     "name": "stdout",
     "output_type": "stream",
     "text": [
      "Point source conversion complete\n",
      "Performing Pandeia calculation...\n",
      "Pandeia calculation complete\n",
      "Converting to point sources...\n"
     ]
    },
    {
     "name": "stderr",
     "output_type": "stream",
     "text": [
      "100%|██████████| 45/45 [00:27<00:00,  1.64it/s]\n"
     ]
    },
    {
     "name": "stdout",
     "output_type": "stream",
     "text": [
      "Point source conversion complete\n",
      "Performing Pandeia calculation...\n",
      "Pandeia calculation complete\n",
      "Converting to point sources...\n"
     ]
    },
    {
     "name": "stderr",
     "output_type": "stream",
     "text": [
      "100%|██████████| 45/45 [00:27<00:00,  1.64it/s]\n"
     ]
    },
    {
     "name": "stdout",
     "output_type": "stream",
     "text": [
      "Point source conversion complete\n",
      "Performing Pandeia calculation...\n",
      "Pandeia calculation complete\n",
      "Converting to point sources...\n"
     ]
    },
    {
     "name": "stderr",
     "output_type": "stream",
     "text": [
      "100%|██████████| 45/45 [00:27<00:00,  1.63it/s]\n"
     ]
    },
    {
     "name": "stdout",
     "output_type": "stream",
     "text": [
      "Point source conversion complete\n",
      "Performing Pandeia calculation...\n",
      "Pandeia calculation complete\n",
      "Converting to point sources...\n"
     ]
    },
    {
     "name": "stderr",
     "output_type": "stream",
     "text": [
      "100%|██████████| 45/45 [00:27<00:00,  1.61it/s]\n"
     ]
    },
    {
     "name": "stdout",
     "output_type": "stream",
     "text": [
      "Point source conversion complete\n",
      "Performing Pandeia calculation...\n",
      "Pandeia calculation complete\n",
      "Converting to point sources...\n"
     ]
    },
    {
     "name": "stderr",
     "output_type": "stream",
     "text": [
      "100%|██████████| 45/45 [00:27<00:00,  1.63it/s]\n"
     ]
    },
    {
     "name": "stdout",
     "output_type": "stream",
     "text": [
      "Point source conversion complete\n",
      "Performing Pandeia calculation...\n",
      "Pandeia calculation complete\n",
      "Converting to point sources...\n"
     ]
    },
    {
     "name": "stderr",
     "output_type": "stream",
     "text": [
      "100%|██████████| 45/45 [00:29<00:00,  1.54it/s]\n"
     ]
    },
    {
     "name": "stdout",
     "output_type": "stream",
     "text": [
      "Point source conversion complete\n",
      "Performing Pandeia calculation...\n",
      "Pandeia calculation complete\n",
      "Converting to point sources...\n"
     ]
    },
    {
     "name": "stderr",
     "output_type": "stream",
     "text": [
      "100%|██████████| 45/45 [00:28<00:00,  1.59it/s]\n"
     ]
    },
    {
     "name": "stdout",
     "output_type": "stream",
     "text": [
      "Point source conversion complete\n",
      "Performing Pandeia calculation...\n",
      "Pandeia calculation complete\n",
      "Converting to point sources...\n"
     ]
    },
    {
     "name": "stderr",
     "output_type": "stream",
     "text": [
      "100%|██████████| 45/45 [00:27<00:00,  1.62it/s]\n"
     ]
    },
    {
     "name": "stdout",
     "output_type": "stream",
     "text": [
      "Point source conversion complete\n",
      "Performing Pandeia calculation...\n",
      "Pandeia calculation complete\n",
      "Converting to point sources...\n"
     ]
    },
    {
     "name": "stderr",
     "output_type": "stream",
     "text": [
      "100%|██████████| 45/45 [00:28<00:00,  1.57it/s]\n"
     ]
    },
    {
     "name": "stdout",
     "output_type": "stream",
     "text": [
      "Point source conversion complete\n",
      "Performing Pandeia calculation...\n",
      "Pandeia calculation complete\n",
      "Converting to point sources...\n"
     ]
    },
    {
     "name": "stderr",
     "output_type": "stream",
     "text": [
      "100%|██████████| 45/45 [00:28<00:00,  1.59it/s]\n"
     ]
    },
    {
     "name": "stdout",
     "output_type": "stream",
     "text": [
      "Point source conversion complete\n",
      "Performing Pandeia calculation...\n",
      "Pandeia calculation complete\n",
      "Converting to point sources...\n"
     ]
    },
    {
     "name": "stderr",
     "output_type": "stream",
     "text": [
      "100%|██████████| 45/45 [00:27<00:00,  1.62it/s]\n"
     ]
    },
    {
     "name": "stdout",
     "output_type": "stream",
     "text": [
      "Point source conversion complete\n",
      "Performing Pandeia calculation...\n",
      "Pandeia calculation complete\n",
      "Converting to point sources...\n"
     ]
    },
    {
     "name": "stderr",
     "output_type": "stream",
     "text": [
      "100%|██████████| 45/45 [00:28<00:00,  1.59it/s]\n"
     ]
    },
    {
     "name": "stdout",
     "output_type": "stream",
     "text": [
      "Point source conversion complete\n",
      "Performing Pandeia calculation...\n",
      "Pandeia calculation complete\n",
      "Converting to point sources...\n"
     ]
    },
    {
     "name": "stderr",
     "output_type": "stream",
     "text": [
      "100%|██████████| 45/45 [00:28<00:00,  1.59it/s]\n"
     ]
    },
    {
     "name": "stdout",
     "output_type": "stream",
     "text": [
      "Point source conversion complete\n",
      "Performing Pandeia calculation...\n",
      "Pandeia calculation complete\n",
      "Converting to point sources...\n"
     ]
    },
    {
     "name": "stderr",
     "output_type": "stream",
     "text": [
      "100%|██████████| 45/45 [00:28<00:00,  1.60it/s]\n"
     ]
    },
    {
     "name": "stdout",
     "output_type": "stream",
     "text": [
      "Point source conversion complete\n",
      "Performing Pandeia calculation...\n",
      "Pandeia calculation complete\n",
      "Converting to point sources...\n"
     ]
    },
    {
     "name": "stderr",
     "output_type": "stream",
     "text": [
      "100%|██████████| 45/45 [00:28<00:00,  1.61it/s]\n"
     ]
    },
    {
     "name": "stdout",
     "output_type": "stream",
     "text": [
      "Point source conversion complete\n",
      "Performing Pandeia calculation...\n",
      "Pandeia calculation complete\n",
      "Converting to point sources...\n"
     ]
    },
    {
     "name": "stderr",
     "output_type": "stream",
     "text": [
      "100%|██████████| 45/45 [00:30<00:00,  1.47it/s]\n"
     ]
    },
    {
     "name": "stdout",
     "output_type": "stream",
     "text": [
      "Point source conversion complete\n",
      "Performing Pandeia calculation...\n",
      "Pandeia calculation complete\n",
      "Converting to point sources...\n"
     ]
    },
    {
     "name": "stderr",
     "output_type": "stream",
     "text": [
      "100%|██████████| 45/45 [00:27<00:00,  1.62it/s]\n"
     ]
    },
    {
     "name": "stdout",
     "output_type": "stream",
     "text": [
      "Point source conversion complete\n",
      "Performing Pandeia calculation...\n",
      "Pandeia calculation complete\n",
      "Converting to point sources...\n"
     ]
    },
    {
     "name": "stderr",
     "output_type": "stream",
     "text": [
      "100%|██████████| 45/45 [00:28<00:00,  1.56it/s]\n"
     ]
    },
    {
     "name": "stdout",
     "output_type": "stream",
     "text": [
      "Point source conversion complete\n",
      "Performing Pandeia calculation...\n",
      "Pandeia calculation complete\n"
     ]
    },
    {
     "data": {
      "image/png": "[encoded data removed]",
      "text/plain": [
       "<Figure size 640x480 with 1 Axes>"
      ]
     },
     "metadata": {},
     "output_type": "display_data"
    }
   ],
   "source": [
    "data_set_list = glob(cwd + '/model_*.png')\n",
    "execution_times = []\n",
    "\n",
    "oversample_factor = 1\n",
    "\n",
    "for i, _ in enumerate(data_set_list):\n",
    "\n",
    "    execution_start_time = time.time()\n",
    "\n",
    "    # load lenstronomy model\n",
    "    model = np.load(f'{i}.npy')\n",
    "\n",
    "    calc = build_default_calc('roman','wfi','imaging')\n",
    "\n",
    "    # don't allow scene size to change\n",
    "    calc['configuration']['dynamic_scene'] = True\n",
    "    calc['configuration']['max_scene_size'] = 5\n",
    "\n",
    "    # change filter\n",
    "    calc['configuration']['instrument']['filter'] = 'f106'\n",
    "\n",
    "    # adjust brightness (np.interp for now)\n",
    "    max = np.max(model)\n",
    "    min = np.min(model)\n",
    "    model = np.interp(model, (min, max), (0.00001, 0.001))\n",
    "\n",
    "    j = 0\n",
    "    side, _ = model.shape\n",
    "\n",
    "    print('Converting to point sources...')\n",
    "    for row_number, row in tqdm(enumerate(model), total=side):\n",
    "        for item_number, item in enumerate(row):\n",
    "            if j != 0:\n",
    "                calc['scene'].append(build_default_source(geometry=\"point\"))\n",
    "\n",
    "            # set brightness\n",
    "            calc['scene'][j]['spectrum']['normalization']['norm_flux'] = item\n",
    "            \n",
    "            # set position\n",
    "            calc['scene'][j]['position']['x_offset'] = (item_number * (1 / 9) * (1 / oversample_factor)) + (-2.52)  # arcsec\n",
    "            calc['scene'][j]['position']['y_offset'] = (row_number * (1 / 9) * (1 / oversample_factor)) + (-2.52)  # arcsec\n",
    "\n",
    "            j += 1\n",
    "    print('Point source conversion complete')\n",
    "\n",
    "    print('Performing Pandeia calculation...')\n",
    "    results = perform_calculation(calc)\n",
    "    print('Pandeia calculation complete')\n",
    "\n",
    "    detector = results['2d']['detector']\n",
    "\n",
    "    # TODO TEMP! flip image\n",
    "    detector = np.flipud(detector)\n",
    "    # detector = np.fliplr(detector)\n",
    "\n",
    "    f, axes = plt.subplots(1, 1, figsize=(6, 6), sharex='none', sharey='none')\n",
    "    axes.matshow(detector, origin='lower')  # np.log10()\n",
    "    axes.get_xaxis().set_visible(False)\n",
    "    axes.get_yaxis().set_visible(False)\n",
    "    axes.autoscale(False)\n",
    "    f.savefig(os.path.join('sim', f'{i}_pandeia_{oversample_factor}.png'))\n",
    "    plt.close()\n",
    "\n",
    "    # save this numpy array\n",
    "    pandeia_array_path = os.path.join('sim', f'{i}_pandeia_{oversample_factor}.npy')\n",
    "    np.save(pandeia_array_path, detector)\n",
    "\n",
    "    execution_end_time = time.time()\n",
    "    execution_time = execution_end_time - execution_start_time\n",
    "    execution_times.append(execution_time)\n",
    "\n",
    "plt.scatter(np.arange(0, len(execution_times)), execution_times)\n",
    "plt.title('Simulation pipeline execution times')\n",
    "plt.show()\n",
    "# plt.savefig('simulation_pipeline_execution_times.png')\n",
    "np.save('simulation_pipeline_execution_times', execution_times)\n"
   ]
  },
  {
   "cell_type": "code",
   "execution_count": 22,
   "metadata": {},
   "outputs": [],
   "source": [
    "sim_dir = os.path.join(cwd, 'sim')\n",
    "filename = os.path.join(cwd, 'cnn_training_mosaic.png')\n",
    "images = glob(sim_dir + '/*.png')\n",
    "space = 0\n",
    "columns = 5\n",
    "\n",
    "image_utils.combine_images(columns, space, images, filename)"
   ]
  }
 ],
 "metadata": {
  "kernelspec": {
   "display_name": "stips",
   "language": "python",
   "name": "python3"
  },
  "language_info": {
   "codemirror_mode": {
    "name": "ipython",
    "version": 3
   },
   "file_extension": ".py",
   "mimetype": "text/x-python",
   "name": "python",
   "nbconvert_exporter": "python",
   "pygments_lexer": "ipython3",
   "version": "3.10.6"
  }
 },
 "nbformat": 4,
 "nbformat_minor": 2
}
