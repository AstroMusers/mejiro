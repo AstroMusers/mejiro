{
 "cells": [
  {
   "cell_type": "code",
   "execution_count": 8,
   "metadata": {},
   "outputs": [
    {
     "name": "stdout",
     "output_type": "stream",
     "text": [
      "['/nfshome/bwedig/roman-pandeia/arrays/cnn_training/0.png', '/nfshome/bwedig/roman-pandeia/arrays/cnn_training/1.png', '/nfshome/bwedig/roman-pandeia/arrays/cnn_training/2.png', '/nfshome/bwedig/roman-pandeia/arrays/cnn_training/3.png', '/nfshome/bwedig/roman-pandeia/arrays/cnn_training/4.png', '/nfshome/bwedig/roman-pandeia/arrays/cnn_training/5.png', '/nfshome/bwedig/roman-pandeia/arrays/cnn_training/6.png', '/nfshome/bwedig/roman-pandeia/arrays/cnn_training/7.png', '/nfshome/bwedig/roman-pandeia/arrays/cnn_training/8.png', '/nfshome/bwedig/roman-pandeia/arrays/cnn_training/9.png', '/nfshome/bwedig/roman-pandeia/arrays/cnn_training/10.png', '/nfshome/bwedig/roman-pandeia/arrays/cnn_training/11.png', '/nfshome/bwedig/roman-pandeia/arrays/cnn_training/12.png', '/nfshome/bwedig/roman-pandeia/arrays/cnn_training/13.png', '/nfshome/bwedig/roman-pandeia/arrays/cnn_training/14.png', '/nfshome/bwedig/roman-pandeia/arrays/cnn_training/15.png', '/nfshome/bwedig/roman-pandeia/arrays/cnn_training/16.png', '/nfshome/bwedig/roman-pandeia/arrays/cnn_training/17.png', '/nfshome/bwedig/roman-pandeia/arrays/cnn_training/18.png', '/nfshome/bwedig/roman-pandeia/arrays/cnn_training/19.png', '/nfshome/bwedig/roman-pandeia/arrays/cnn_training/20.png', '/nfshome/bwedig/roman-pandeia/arrays/cnn_training/21.png', '/nfshome/bwedig/roman-pandeia/arrays/cnn_training/22.png', '/nfshome/bwedig/roman-pandeia/arrays/cnn_training/23.png', '/nfshome/bwedig/roman-pandeia/arrays/cnn_training/24.png']\n",
      "Converting to point sources...\n"
     ]
    },
    {
     "name": "stderr",
     "output_type": "stream",
     "text": [
      "  0%|          | 0/45 [00:00<?, ?it/s]"
     ]
    },
    {
     "name": "stderr",
     "output_type": "stream",
     "text": [
      "100%|██████████| 45/45 [00:12<00:00,  3.74it/s]\n"
     ]
    },
    {
     "name": "stdout",
     "output_type": "stream",
     "text": [
      "Point source conversion complete\n",
      "Performing Pandeia calculation...\n"
     ]
    },
    {
     "name": "stderr",
     "output_type": "stream",
     "text": [
      "WARNING: Source spectrum will be extrapolated (at constant value for empirical model). [synphot.observation]\n"
     ]
    },
    {
     "name": "stdout",
     "output_type": "stream",
     "text": [
      "Pandeia calculation complete\n",
      "Converting to point sources...\n"
     ]
    },
    {
     "name": "stderr",
     "output_type": "stream",
     "text": [
      "100%|██████████| 45/45 [00:11<00:00,  4.03it/s]\n"
     ]
    },
    {
     "name": "stdout",
     "output_type": "stream",
     "text": [
      "Point source conversion complete\n",
      "Performing Pandeia calculation...\n",
      "Pandeia calculation complete\n",
      "Converting to point sources...\n"
     ]
    },
    {
     "name": "stderr",
     "output_type": "stream",
     "text": [
      "100%|██████████| 45/45 [00:11<00:00,  3.88it/s]\n"
     ]
    },
    {
     "name": "stdout",
     "output_type": "stream",
     "text": [
      "Point source conversion complete\n",
      "Performing Pandeia calculation...\n",
      "Pandeia calculation complete\n",
      "Converting to point sources...\n"
     ]
    },
    {
     "name": "stderr",
     "output_type": "stream",
     "text": [
      "100%|██████████| 45/45 [00:11<00:00,  3.95it/s]\n"
     ]
    },
    {
     "name": "stdout",
     "output_type": "stream",
     "text": [
      "Point source conversion complete\n",
      "Performing Pandeia calculation...\n",
      "Pandeia calculation complete\n",
      "Converting to point sources...\n"
     ]
    },
    {
     "name": "stderr",
     "output_type": "stream",
     "text": [
      "100%|██████████| 45/45 [00:11<00:00,  4.03it/s]\n"
     ]
    },
    {
     "name": "stdout",
     "output_type": "stream",
     "text": [
      "Point source conversion complete\n",
      "Performing Pandeia calculation...\n",
      "Pandeia calculation complete\n",
      "Converting to point sources...\n"
     ]
    },
    {
     "name": "stderr",
     "output_type": "stream",
     "text": [
      "100%|██████████| 45/45 [00:11<00:00,  3.97it/s]\n"
     ]
    },
    {
     "name": "stdout",
     "output_type": "stream",
     "text": [
      "Point source conversion complete\n",
      "Performing Pandeia calculation...\n",
      "Pandeia calculation complete\n",
      "Converting to point sources...\n"
     ]
    },
    {
     "name": "stderr",
     "output_type": "stream",
     "text": [
      "100%|██████████| 45/45 [00:11<00:00,  4.03it/s]\n"
     ]
    },
    {
     "name": "stdout",
     "output_type": "stream",
     "text": [
      "Point source conversion complete\n",
      "Performing Pandeia calculation...\n",
      "Pandeia calculation complete\n",
      "Converting to point sources...\n"
     ]
    },
    {
     "name": "stderr",
     "output_type": "stream",
     "text": [
      "100%|██████████| 45/45 [00:10<00:00,  4.28it/s]\n"
     ]
    },
    {
     "name": "stdout",
     "output_type": "stream",
     "text": [
      "Point source conversion complete\n",
      "Performing Pandeia calculation...\n",
      "Pandeia calculation complete\n",
      "Converting to point sources...\n"
     ]
    },
    {
     "name": "stderr",
     "output_type": "stream",
     "text": [
      "100%|██████████| 45/45 [00:11<00:00,  4.06it/s]\n"
     ]
    },
    {
     "name": "stdout",
     "output_type": "stream",
     "text": [
      "Point source conversion complete\n",
      "Performing Pandeia calculation...\n",
      "Pandeia calculation complete\n",
      "Converting to point sources...\n"
     ]
    },
    {
     "name": "stderr",
     "output_type": "stream",
     "text": [
      "100%|██████████| 45/45 [00:10<00:00,  4.20it/s]\n"
     ]
    },
    {
     "name": "stdout",
     "output_type": "stream",
     "text": [
      "Point source conversion complete\n",
      "Performing Pandeia calculation...\n",
      "Pandeia calculation complete\n",
      "Converting to point sources...\n"
     ]
    },
    {
     "name": "stderr",
     "output_type": "stream",
     "text": [
      "100%|██████████| 45/45 [00:10<00:00,  4.20it/s]\n"
     ]
    },
    {
     "name": "stdout",
     "output_type": "stream",
     "text": [
      "Point source conversion complete\n",
      "Performing Pandeia calculation...\n",
      "Pandeia calculation complete\n",
      "Converting to point sources...\n"
     ]
    },
    {
     "name": "stderr",
     "output_type": "stream",
     "text": [
      "100%|██████████| 45/45 [00:10<00:00,  4.21it/s]\n"
     ]
    },
    {
     "name": "stdout",
     "output_type": "stream",
     "text": [
      "Point source conversion complete\n",
      "Performing Pandeia calculation...\n",
      "Pandeia calculation complete\n",
      "Converting to point sources...\n"
     ]
    },
    {
     "name": "stderr",
     "output_type": "stream",
     "text": [
      "100%|██████████| 45/45 [00:11<00:00,  4.06it/s]\n"
     ]
    },
    {
     "name": "stdout",
     "output_type": "stream",
     "text": [
      "Point source conversion complete\n",
      "Performing Pandeia calculation...\n",
      "Pandeia calculation complete\n",
      "Converting to point sources...\n"
     ]
    },
    {
     "name": "stderr",
     "output_type": "stream",
     "text": [
      "100%|██████████| 45/45 [00:10<00:00,  4.23it/s]\n"
     ]
    },
    {
     "name": "stdout",
     "output_type": "stream",
     "text": [
      "Point source conversion complete\n",
      "Performing Pandeia calculation...\n",
      "Pandeia calculation complete\n",
      "Converting to point sources...\n"
     ]
    },
    {
     "name": "stderr",
     "output_type": "stream",
     "text": [
      "100%|██████████| 45/45 [00:10<00:00,  4.11it/s]\n"
     ]
    },
    {
     "name": "stdout",
     "output_type": "stream",
     "text": [
      "Point source conversion complete\n",
      "Performing Pandeia calculation...\n",
      "Pandeia calculation complete\n",
      "Converting to point sources...\n"
     ]
    },
    {
     "name": "stderr",
     "output_type": "stream",
     "text": [
      "100%|██████████| 45/45 [00:11<00:00,  4.02it/s]\n"
     ]
    },
    {
     "name": "stdout",
     "output_type": "stream",
     "text": [
      "Point source conversion complete\n",
      "Performing Pandeia calculation...\n",
      "Pandeia calculation complete\n",
      "Converting to point sources...\n"
     ]
    },
    {
     "name": "stderr",
     "output_type": "stream",
     "text": [
      "100%|██████████| 45/45 [00:10<00:00,  4.16it/s]\n"
     ]
    },
    {
     "name": "stdout",
     "output_type": "stream",
     "text": [
      "Point source conversion complete\n",
      "Performing Pandeia calculation...\n",
      "Pandeia calculation complete\n",
      "Converting to point sources...\n"
     ]
    },
    {
     "name": "stderr",
     "output_type": "stream",
     "text": [
      "100%|██████████| 45/45 [00:10<00:00,  4.25it/s]\n"
     ]
    },
    {
     "name": "stdout",
     "output_type": "stream",
     "text": [
      "Point source conversion complete\n",
      "Performing Pandeia calculation...\n",
      "Pandeia calculation complete\n",
      "Converting to point sources...\n"
     ]
    },
    {
     "name": "stderr",
     "output_type": "stream",
     "text": [
      "100%|██████████| 45/45 [00:10<00:00,  4.24it/s]\n"
     ]
    },
    {
     "name": "stdout",
     "output_type": "stream",
     "text": [
      "Point source conversion complete\n",
      "Performing Pandeia calculation...\n",
      "Pandeia calculation complete\n",
      "Converting to point sources...\n"
     ]
    },
    {
     "name": "stderr",
     "output_type": "stream",
     "text": [
      "100%|██████████| 45/45 [00:11<00:00,  4.08it/s]\n"
     ]
    },
    {
     "name": "stdout",
     "output_type": "stream",
     "text": [
      "Point source conversion complete\n",
      "Performing Pandeia calculation...\n",
      "Pandeia calculation complete\n",
      "Converting to point sources...\n"
     ]
    },
    {
     "name": "stderr",
     "output_type": "stream",
     "text": [
      "100%|██████████| 45/45 [00:10<00:00,  4.13it/s]\n"
     ]
    },
    {
     "name": "stdout",
     "output_type": "stream",
     "text": [
      "Point source conversion complete\n",
      "Performing Pandeia calculation...\n",
      "Pandeia calculation complete\n",
      "Converting to point sources...\n"
     ]
    },
    {
     "name": "stderr",
     "output_type": "stream",
     "text": [
      "100%|██████████| 45/45 [00:11<00:00,  4.04it/s]\n"
     ]
    },
    {
     "name": "stdout",
     "output_type": "stream",
     "text": [
      "Point source conversion complete\n",
      "Performing Pandeia calculation...\n",
      "Pandeia calculation complete\n",
      "Converting to point sources...\n"
     ]
    },
    {
     "name": "stderr",
     "output_type": "stream",
     "text": [
      "100%|██████████| 45/45 [00:11<00:00,  3.98it/s]\n"
     ]
    },
    {
     "name": "stdout",
     "output_type": "stream",
     "text": [
      "Point source conversion complete\n",
      "Performing Pandeia calculation...\n",
      "Pandeia calculation complete\n",
      "Converting to point sources...\n"
     ]
    },
    {
     "name": "stderr",
     "output_type": "stream",
     "text": [
      "100%|██████████| 45/45 [00:11<00:00,  3.93it/s]\n"
     ]
    },
    {
     "name": "stdout",
     "output_type": "stream",
     "text": [
      "Point source conversion complete\n",
      "Performing Pandeia calculation...\n",
      "Pandeia calculation complete\n",
      "Converting to point sources...\n"
     ]
    },
    {
     "name": "stderr",
     "output_type": "stream",
     "text": [
      "100%|██████████| 45/45 [00:11<00:00,  3.88it/s]\n"
     ]
    },
    {
     "name": "stdout",
     "output_type": "stream",
     "text": [
      "Point source conversion complete\n",
      "Performing Pandeia calculation...\n",
      "Pandeia calculation complete\n"
     ]
    }
   ],
   "source": [
    "import os\n",
    "import sys\n",
    "import json\n",
    "import math\n",
    "import time\n",
    "import pickle\n",
    "import copy\n",
    "import corner\n",
    "from datetime import timedelta\n",
    "from pprint import pprint\n",
    "from tqdm import tqdm\n",
    "import matplotlib\n",
    "import matplotlib.pyplot as plt\n",
    "matplotlib.rcParams['axes.grid'] = False\n",
    "matplotlib.rcParams['image.origin'] = 'lower'\n",
    "import numpy as np\n",
    "from glob import glob\n",
    "\n",
    "from astropy.io import fits\n",
    "from astropy.wcs import WCS\n",
    "from astropy.table import Table\n",
    "import astropy.wcs.utils\n",
    "from astropy import units as u\n",
    "from astropy.coordinates import SkyCoord\n",
    "from astropy.nddata.utils import Cutout2D\n",
    "\n",
    "from pandeia.engine.perform_calculation import perform_calculation\n",
    "from pandeia.engine.calc_utils import get_telescope_config, get_instrument_config, build_default_calc, build_default_source\n",
    "from pandeia.engine.io_utils import read_json, write_json\n",
    "\n",
    "from lenstronomy.LightModel.Profiles.gaussian import GaussianEllipse\n",
    "gauss = GaussianEllipse()\n",
    "import lenstronomy.Plots.plot_util as plot_util\n",
    "from lenstronomy.SimulationAPI.sim_api import SimAPI\n",
    "from lenstronomy.ImSim.image_model import ImageModel\n",
    "from lenstronomy.Data.pixel_grid import PixelGrid\n",
    "from lenstronomy.LensModel.lens_model import LensModel\n",
    "from lenstronomy.LightModel.light_model import LightModel\n",
    "from lenstronomy.Data.psf import PSF\n",
    "from lenstronomy.SimulationAPI.ObservationConfig.Roman import Roman\n",
    "from lenstronomy.SimulationAPI.ObservationConfig.HST import HST\n",
    "from lenstronomy.Util import data_util\n",
    "from lenstronomy.Plots import lens_plot\n",
    "from lenstronomy.LensModel.Solver.lens_equation_solver import LensEquationSolver\n",
    "\n",
    "repo_path = os.getcwd()\n",
    "\n",
    "data_set_list = glob(repo_path + '/*.png')\n",
    "print(data_set_list)\n",
    "execution_times = []\n",
    "\n",
    "oversample_factor = 1\n",
    "\n",
    "for i, _ in enumerate(data_set_list):\n",
    "\n",
    "    execution_start_time = time.time()\n",
    "\n",
    "    # load lenstronomy model\n",
    "    model = np.load(f'{i}.npy')\n",
    "\n",
    "    calc = build_default_calc('roman','wfi','imaging')\n",
    "\n",
    "    # don't allow scene size to change\n",
    "    calc['configuration']['dynamic_scene'] = True\n",
    "    calc['configuration']['max_scene_size'] = 5\n",
    "\n",
    "    # change filter\n",
    "    calc['configuration']['instrument']['filter'] = 'f106'\n",
    "\n",
    "    # adjust brightness (np.interp for now)\n",
    "    max = np.max(model)\n",
    "    min = np.min(model)\n",
    "    model = np.interp(model, (min, max), (0.00001, 0.001))\n",
    "\n",
    "    j = 0\n",
    "    side, _ = model.shape\n",
    "\n",
    "    print('Converting to point sources...')\n",
    "    for row_number, row in tqdm(enumerate(model), total=side):\n",
    "        for item_number, item in enumerate(row):\n",
    "            if j != 0:\n",
    "                calc['scene'].append(build_default_source(geometry=\"point\"))\n",
    "\n",
    "            # set brightness\n",
    "            calc['scene'][j]['spectrum']['normalization']['norm_flux'] = item\n",
    "            \n",
    "            # set position\n",
    "            calc['scene'][j]['position']['x_offset'] = (item_number * (1 / 9) * (1 / oversample_factor)) + (-2.52)  # arcsec\n",
    "            calc['scene'][j]['position']['y_offset'] = (row_number * (1 / 9) * (1 / oversample_factor)) + (-2.52)  # arcsec\n",
    "\n",
    "            j += 1\n",
    "    print('Point source conversion complete')\n",
    "\n",
    "    print('Performing Pandeia calculation...')\n",
    "    results = perform_calculation(calc)\n",
    "    print('Pandeia calculation complete')\n",
    "\n",
    "    detector = results['2d']['detector']\n",
    "\n",
    "    # TODO TEMP! flip image\n",
    "    detector = np.flipud(detector)\n",
    "    # detector = np.fliplr(detector)\n",
    "\n",
    "    f, axes = plt.subplots(1, 1, figsize=(6, 6), sharex='none', sharey='none')\n",
    "    axes.matshow(detector, origin='lower')  # np.log10()\n",
    "    axes.get_xaxis().set_visible(False)\n",
    "    axes.get_yaxis().set_visible(False)\n",
    "    axes.autoscale(False)\n",
    "    f.savefig(os.path.join('sim', f'{i}_pandeia_{oversample_factor}.png'))\n",
    "    plt.close()\n",
    "\n",
    "    # save this numpy array\n",
    "    pandeia_array_path = os.path.join('sim', f'{i}_pandeia_{oversample_factor}.npy')\n",
    "    np.save(pandeia_array_path, detector)\n",
    "\n",
    "    execution_end_time = time.time()\n",
    "    execution_time = execution_end_time - execution_start_time\n",
    "    execution_times.append(execution_time)\n",
    "\n",
    "# plt.scatter(np.arange(0, len(execution_times)), execution_times)\n",
    "# plt.title('Simulation pipeline execution times')\n",
    "# plt.savefig('simulation_pipeline_execution_times.png')\n",
    "# np.save('simulation_pipeline_execution_times', execution_times)\n"
   ]
  }
 ],
 "metadata": {
  "kernelspec": {
   "display_name": "stips",
   "language": "python",
   "name": "python3"
  },
  "language_info": {
   "codemirror_mode": {
    "name": "ipython",
    "version": 3
   },
   "file_extension": ".py",
   "mimetype": "text/x-python",
   "name": "python",
   "nbconvert_exporter": "python",
   "pygments_lexer": "ipython3",
   "version": "3.10.6"
  }
 },
 "nbformat": 4,
 "nbformat_minor": 2
}
