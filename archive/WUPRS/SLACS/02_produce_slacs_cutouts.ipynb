{
 "cells": [
  {
   "cell_type": "code",
   "execution_count": 1,
   "metadata": {
    "ExecuteTime": {
     "end_time": "2023-06-03T01:03:01.646657Z",
     "start_time": "2023-06-03T01:03:01.632613Z"
    }
   },
   "outputs": [],
   "source": [
    "import os\n",
    "import sys\n",
    "\n",
    "path = os.getcwd()\n",
    "while os.path.basename(os.path.normpath(path)) != 'roman-pandeia':\n",
    "    path = os.path.dirname(path)\n",
    "repo_path = path\n",
    "if repo_path not in sys.path:\n",
    "    sys.path.append(repo_path)"
   ]
  },
  {
   "cell_type": "code",
   "execution_count": 2,
   "metadata": {
    "ExecuteTime": {
     "end_time": "2023-06-03T01:03:01.646889Z",
     "start_time": "2023-06-03T01:03:01.635095Z"
    }
   },
   "outputs": [],
   "source": [
    "from pprint import pprint\n",
    "\n",
    "from helpers import cutout_helper\n",
    "from utils import csv_utils, json_utils"
   ]
  },
  {
   "cell_type": "code",
   "execution_count": 3,
   "metadata": {},
   "outputs": [],
   "source": [
    "collection_name = 'SLACS'\n",
    "\n",
    "data_path = '/data/bwedig/roman-pandeia/data'"
   ]
  },
  {
   "cell_type": "code",
   "execution_count": 4,
   "metadata": {
    "ExecuteTime": {
     "end_time": "2023-06-03T01:03:01.646959Z",
     "start_time": "2023-06-03T01:03:01.638551Z"
    }
   },
   "outputs": [],
   "source": [
    "# retrieve cutout configuration options, e.g. number of pixels\n",
    "cutout_config_filepath = os.path.join(repo_path, 'config', 'cutout-config.json')\n",
    "cutout_config = json_utils.json_to_dict(cutout_config_filepath)\n",
    "\n",
    "# set directory where original fits files were downloaded\n",
    "fits_directory = os.path.join(data_path, 'mastDownload', collection_name)\n",
    "\n",
    "# set filepath where resulting csv will be written to\n",
    "csv_filepath = os.path.join(repo_path, 'data', collection_name, collection_name + '.csv')\n",
    "\n",
    "# read in data\n",
    "dataset_list = csv_utils.csv_to_dict_list(csv_filepath)"
   ]
  },
  {
   "cell_type": "code",
   "execution_count": 5,
   "metadata": {
    "ExecuteTime": {
     "end_time": "2023-06-03T01:03:20.484363Z",
     "start_time": "2023-06-03T01:03:11.948268Z"
    }
   },
   "outputs": [
    {
     "name": "stdout",
     "output_type": "stream",
     "text": [
      "Cropping to 300 pixels\n"
     ]
    },
    {
     "name": "stderr",
     "output_type": "stream",
     "text": [
      "  0%|          | 0/192 [00:00<?, ?it/s]"
     ]
    },
    {
     "name": "stderr",
     "output_type": "stream",
     "text": [
      " 58%|█████▊    | 111/192 [00:24<00:20,  4.01it/s]/nfshome/bwedig/roman-pandeia/helpers/cutout_helper.py:68: UserWarning: an astropy.io.fits.HDUList is required for Lookup table distortion.\n",
      "  warnings.warn(str(e))\n",
      " 61%|██████    | 117/192 [00:26<00:19,  3.85it/s]/nfshome/bwedig/roman-pandeia/helpers/cutout_helper.py:68: UserWarning: an astropy.io.fits.HDUList is required for Lookup table distortion.\n",
      "  warnings.warn(str(e))\n",
      " 75%|███████▌  | 144/192 [00:30<00:07,  6.66it/s]/nfshome/bwedig/roman-pandeia/helpers/cutout_helper.py:68: UserWarning: an astropy.io.fits.HDUList is required for Lookup table distortion.\n",
      "  warnings.warn(str(e))\n",
      " 99%|█████████▉| 191/192 [00:37<00:00,  6.51it/s]/nfshome/bwedig/roman-pandeia/helpers/cutout_helper.py:68: UserWarning: an astropy.io.fits.HDUList is required for Lookup table distortion.\n",
      "  warnings.warn(str(e))\n",
      "100%|██████████| 192/192 [00:37<00:00,  5.10it/s]\n"
     ]
    }
   ],
   "source": [
    "num_pix = int(cutout_config.get('num_pix'))\n",
    "dataset_list = cutout_helper.produce_cutouts(collection_name, data_path, dataset_list, num_pix)"
   ]
  },
  {
   "cell_type": "code",
   "execution_count": 6,
   "metadata": {
    "ExecuteTime": {
     "end_time": "2023-06-03T01:03:20.487740Z",
     "start_time": "2023-06-03T01:03:20.484851Z"
    }
   },
   "outputs": [
    {
     "name": "stdout",
     "output_type": "stream",
     "text": [
      "{'actual_duration': '420.0',\n",
      " 'aper': 'WFC1',\n",
      " 'central_wavelength': '4329.1958',\n",
      " 'cutout': '',\n",
      " 'cutout_filepath': '/data/bwedig/roman-pandeia/data/cutouts/SLACS/cutout_WFC1_CLEAR1L;F435W_J93I30ITQ.fits',\n",
      " 'data_set_name': 'J93I30ITQ',\n",
      " 'data_uri': 'mast:HST/product/j93i30itq_drz.fits',\n",
      " 'dec': '-0.5881777777778',\n",
      " 'filename': 'j93i30itq_drz.fits',\n",
      " 'fits_filepath': '/data/bwedig/roman-pandeia/data/mastDownload/SLACS/j93i30itq_drz.fits',\n",
      " 'instrument': 'ACS   ',\n",
      " 'peak_value': '',\n",
      " 'preview_name': 'J93I30ITQ',\n",
      " 'ra': '156.463875',\n",
      " 'release_date': '2005-04-25T01:10:56',\n",
      " 'spec': 'CLEAR1L;F435W',\n",
      " 'start_time': '2004-10-23T19:35:48.977000',\n",
      " 'stop_time': '2004-10-23T19:42:50.023000',\n",
      " 'target_name': '0272-51941-151'}\n"
     ]
    }
   ],
   "source": [
    "pprint(dataset_list[0])"
   ]
  },
  {
   "attachments": {},
   "cell_type": "markdown",
   "metadata": {},
   "source": [
    "Write to CSV"
   ]
  },
  {
   "cell_type": "code",
   "execution_count": 7,
   "metadata": {
    "ExecuteTime": {
     "end_time": "2023-06-03T01:03:20.491064Z",
     "start_time": "2023-06-03T01:03:20.487931Z"
    }
   },
   "outputs": [],
   "source": [
    "csv_utils.dict_list_to_csv(dataset_list, csv_filepath)"
   ]
  }
 ],
 "metadata": {
  "kernelspec": {
   "display_name": "stenv",
   "language": "python",
   "name": "python3"
  },
  "language_info": {
   "codemirror_mode": {
    "name": "ipython",
    "version": 3
   },
   "file_extension": ".py",
   "mimetype": "text/x-python",
   "name": "python",
   "nbconvert_exporter": "python",
   "pygments_lexer": "ipython3",
   "version": "3.9.13"
  },
  "orig_nbformat": 4
 },
 "nbformat": 4,
 "nbformat_minor": 2
}
