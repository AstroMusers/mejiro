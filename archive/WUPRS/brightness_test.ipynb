{
 "cells": [
  {
   "cell_type": "code",
   "execution_count": 13,
   "metadata": {},
   "outputs": [],
   "source": [
    "import os\n",
    "import sys\n",
    "\n",
    "path = os.getcwd()\n",
    "while os.path.basename(os.path.normpath(path)) != 'roman-pandeia':\n",
    "        path = os.path.dirname(path)\n",
    "repo_path = path\n",
    "if repo_path not in sys.path:\n",
    "    sys.path.append(repo_path)\n",
    "\n",
    "import time\n",
    "from datetime import timedelta\n",
    "from pprint import pprint\n",
    "import corner\n",
    "import numpy as np\n",
    "import pickle\n",
    "import math\n",
    "import copy\n",
    "\n",
    "import matplotlib\n",
    "import matplotlib.pyplot as plt\n",
    "%matplotlib inline\n",
    "matplotlib.rcParams['axes.grid'] = False\n",
    "matplotlib.rcParams['image.origin'] = 'lower'\n",
    "\n",
    "from astropy.io import fits\n",
    "from astropy import units as u\n",
    "from astropy.coordinates import SkyCoord\n",
    "from astropy.nddata.utils import Cutout2D\n",
    "from astropy.wcs import WCS\n",
    "\n",
    "from lenstronomy.LightModel.Profiles.gaussian import GaussianEllipse\n",
    "gauss = GaussianEllipse()\n",
    "import lenstronomy.Plots.plot_util as plot_util\n",
    "from lenstronomy.SimulationAPI.sim_api import SimAPI\n",
    "from lenstronomy.ImSim.image_model import ImageModel\n",
    "from lenstronomy.Data.pixel_grid import PixelGrid\n",
    "from lenstronomy.LensModel.lens_model import LensModel\n",
    "from lenstronomy.LightModel.light_model import LightModel\n",
    "from lenstronomy.Data.psf import PSF\n",
    "from lenstronomy.SimulationAPI.ObservationConfig.Roman import Roman\n",
    "from lenstronomy.Util import data_util\n",
    "from lenstronomy.Plots import lens_plot\n",
    "from lenstronomy.LensModel.Solver.lens_equation_solver import LensEquationSolver\n",
    "from lenstronomy.SimulationAPI.ObservationConfig.HST import HST\n",
    "\n",
    "from acstools import acszpt\n",
    "\n",
    "from utils import csv_utils"
   ]
  },
  {
   "cell_type": "code",
   "execution_count": 14,
   "metadata": {},
   "outputs": [
    {
     "name": "stdout",
     "output_type": "stream",
     "text": [
      "{'AI': '0.15',\n",
      " 'Fiber': '614',\n",
      " 'Imag': '18.04',\n",
      " 'L(V555)': '55.8',\n",
      " 'Le2/LdV': '0.317',\n",
      " 'Lens': 'A',\n",
      " 'MJD': '52295',\n",
      " 'Mph': 'E',\n",
      " 'Mul': 'S',\n",
      " 'Name': 'J0252+0039',\n",
      " 'PA': '97.2',\n",
      " 'Plate': '807',\n",
      " 'Re': '1.39',\n",
      " 'SDSS': '025245.21+003958.4',\n",
      " '_DE': '0.66622',\n",
      " '_RA': '43.18837',\n",
      " 'actual_duration': '2088.0',\n",
      " 'aper': 'WFC1',\n",
      " 'b/a': '0.94',\n",
      " 'central_wavelength': '8045.1699',\n",
      " 'cutout': '',\n",
      " 'cutout_filepath': '/data/bwedig/roman-pandeia/data/cutouts/SLACS/cutout_WFC1_CLEAR1L;F814W_J9OP04010.fits',\n",
      " 'data_set_name': 'J9OP04010',\n",
      " 'data_uri': 'mast:HST/product/j9op04010_drz.fits',\n",
      " 'dec': '0.666212458955',\n",
      " 'e_sigma': '12',\n",
      " 'filename': 'j9op04010_drz.fits',\n",
      " 'fits_filepath': '/data/bwedig/roman-pandeia/data/mastDownload/SLACS/j9op04010_drz.fits',\n",
      " 'instrument': 'ACS   ',\n",
      " 'n_Imag': 'd',\n",
      " 'n_Lens': ' ',\n",
      " 'peak_value': '',\n",
      " 'preview_name': 'J9OP04010',\n",
      " 'ra': '43.18833963809',\n",
      " 'recno': '9',\n",
      " 'release_date': '2006-10-03T12:25:49',\n",
      " 'sigma': '164',\n",
      " 'spec': 'CLEAR1L;F814W',\n",
      " 'start_time': '2006-10-02T19:02:20.160000',\n",
      " 'stop_time': '2006-10-02T19:44:57.207000',\n",
      " 'target_name': 'SDSSJ0252+0039',\n",
      " 'zBG': '0.9818',\n",
      " 'zFG': '0.2803'}\n"
     ]
    }
   ],
   "source": [
    "data_set_name = 'J9OP04010'\n",
    "\n",
    "# J9OP02010 - complete\n",
    "# J9EM25AFQ - complete\n",
    "# J9OP04010 - complete\n",
    "\n",
    "oversample_factor = 3\n",
    "\n",
    "csv_filepath = os.path.join(repo_path, 'data', 'SLACS', 'SLACS.csv')\n",
    "dataset_dict_list = csv_utils.csv_to_dict_list(csv_filepath)\n",
    "\n",
    "dataset = [d for d in dataset_dict_list if d.get('data_set_name') == data_set_name][0]\n",
    "\n",
    "pprint(dataset)"
   ]
  },
  {
   "cell_type": "code",
   "execution_count": 15,
   "metadata": {},
   "outputs": [
    {
     "name": "stdout",
     "output_type": "stream",
     "text": [
      "Filter PHOTLAM             PHOTFLAM            STmag  VEGAmag  ABmag \n",
      "       Angstrom erg / (Angstrom cm2 electron) mag(ST)   mag   mag(AB)\n",
      "------ -------- ----------------------------- ------- ------- -------\n",
      " F814W   8045.2                    7.1304e-20  26.767    25.5  25.932\n"
     ]
    }
   ],
   "source": [
    "date = dataset.get('start_time')[:10]\n",
    "\n",
    "q = acszpt.Query(date=date, detector=\"WFC\", filt=\"F814W\")\n",
    "zpt_table = q.fetch()\n",
    "print(zpt_table)\n",
    "\n",
    "magnitude_zero_point = float(zpt_table['ABmag'].value)"
   ]
  },
  {
   "cell_type": "code",
   "execution_count": 16,
   "metadata": {},
   "outputs": [
    {
     "name": "stdout",
     "output_type": "stream",
     "text": [
      "0.9818 0.2803\n"
     ]
    }
   ],
   "source": [
    "# get position\n",
    "ra, dec = float(dataset.get('ra')), float(dataset.get('dec'))\n",
    "\n",
    "# get redshifts \n",
    "z_source, z_lens = float(dataset['zBG']), float(dataset['zFG'])\n",
    "print(z_source, z_lens)\n",
    "\n",
    "# tell lenstronomy that SIE and SHEAR are at same lens redshift\n",
    "lens_redshift_list = [z_lens, z_lens]"
   ]
  },
  {
   "cell_type": "code",
   "execution_count": 17,
   "metadata": {},
   "outputs": [
    {
     "name": "stdout",
     "output_type": "stream",
     "text": [
      "[{'R_sersic': 1.1392172362622266,\n",
      "  'amp': 47.35553098806822,\n",
      "  'center_x': 0.21573069498677366,\n",
      "  'center_y': 0.016354531591167887,\n",
      "  'e1': 0.023992854104837234,\n",
      "  'e2': -0.012264256133187653,\n",
      "  'n_sersic': 3.1774489999446014}]\n",
      "-------------------\n",
      "[{'R_sersic': 0.35648876674555796,\n",
      "  'amp': 10.866227156262546,\n",
      "  'center_x': 0.13292070140428686,\n",
      "  'center_y': 0.0038082996914711722,\n",
      "  'e1': 0.0774383231408842,\n",
      "  'e2': -0.11204907109646745,\n",
      "  'n_sersic': 1.9285291422576882}]\n"
     ]
    }
   ],
   "source": [
    "modeled_lenses_dir = os.path.join(repo_path, 'data', 'modeled_lenses')\n",
    "\n",
    "lens_file = open(os.path.join(modeled_lenses_dir, data_set_name + '_lens'), 'rb')\n",
    "kwargs_lens = pickle.load(lens_file)\n",
    "lens_file.close()\n",
    "\n",
    "lens_light_file = open(os.path.join(modeled_lenses_dir, data_set_name + '_lens_light'), 'rb')\n",
    "kwargs_lens_light = pickle.load(lens_light_file)\n",
    "lens_light_file.close()\n",
    "\n",
    "source_file = open(os.path.join(modeled_lenses_dir, data_set_name + '_source'), 'rb')\n",
    "kwargs_source_light = pickle.load(source_file)\n",
    "source_file.close()\n",
    "\n",
    "# pprint(kwargs_lens)\n",
    "# print('-------------------')\n",
    "pprint(kwargs_lens_light)\n",
    "print('-------------------')\n",
    "pprint(kwargs_source_light)"
   ]
  },
  {
   "cell_type": "code",
   "execution_count": 18,
   "metadata": {},
   "outputs": [],
   "source": [
    "# mass model\n",
    "lens_model_list = ['SIE', 'SHEAR']\n",
    "lens_model_class = LensModel(lens_model_list=lens_model_list, z_source=z_source, lens_redshift_list=lens_redshift_list, multi_plane=True)\n",
    "\n",
    "# light model\n",
    "lens_light_model_list = ['SERSIC_ELLIPSE']\n",
    "lens_light_model_class = LightModel(lens_light_model_list)\n",
    "\n",
    "# source model\n",
    "source_model_list = ['SERSIC_ELLIPSE']\n",
    "source_model_class = LightModel(source_model_list)\n",
    "\n",
    "kwargs_model = {'lens_model_list': lens_model_list,\n",
    "                    'lens_light_model_list': lens_light_model_list,\n",
    "                    'source_light_model_list': source_model_list}\n",
    "\n",
    "kwargs_psf = {'psf_type': 'NONE'}\n",
    "psf_class = PSF(**kwargs_psf)\n",
    "\n",
    "kwargs_numerics = {'supersampling_factor': 4,\n",
    "                'supersampling_convolution': False}"
   ]
  },
  {
   "cell_type": "code",
   "execution_count": 19,
   "metadata": {},
   "outputs": [
    {
     "name": "stdout",
     "output_type": "stream",
     "text": [
      "Amplitudes from fitting (lens/source): 47.35553098806822/10.866227156262546\n",
      "Lens magnitude from paper: 18.04\n",
      "Corrected amplitudes based on lens magnitude from paper (lens/source): 54.48234613417056/12.501550225446437\n"
     ]
    }
   ],
   "source": [
    "# grab amp values for lens and source from fitting\n",
    "lens_amp = kwargs_lens_light[0]['amp']\n",
    "source_amp = kwargs_source_light[0]['amp']\n",
    "ratio_amp_lens_to_source = lens_amp / source_amp\n",
    "print(f'Amplitudes from fitting (lens/source): {lens_amp}/{source_amp}')\n",
    "\n",
    "# set up new kwargs in terms of magnitude for conversion\n",
    "kwargs_lens_light_mag = copy.deepcopy(kwargs_lens_light)\n",
    "kwargs_source_light_mag = copy.deepcopy(kwargs_source_light)\n",
    "del kwargs_lens_light_mag[0]['amp']\n",
    "del kwargs_source_light_mag[0]['amp']\n",
    "\n",
    "# set magnitude of lens based on number from paper\n",
    "source_magnitude = float(dataset.get('Imag'))\n",
    "print(f'Lens magnitude from paper: {source_magnitude}')\n",
    "kwargs_lens_light[0]['magnitude'] = source_magnitude\n",
    "\n",
    "# use this value to convert to correct amplitude\n",
    "kwargs_lens_light_amp = data_util.magnitude2amplitude(lens_light_model_class, kwargs_lens_light, magnitude_zero_point)\n",
    "\n",
    "# get new kwargs in terms of amplitude for source\n",
    "kwargs_source_light_amp = copy.deepcopy(kwargs_source_light)\n",
    "\n",
    "# scale source light appropriately (this amp parameter is linear)\n",
    "lens_amp_corrected = kwargs_lens_light_amp[0]['amp']\n",
    "source_amp_corrected = lens_amp_corrected / ratio_amp_lens_to_source\n",
    "kwargs_source_light_amp[0]['amp'] = source_amp_corrected\n",
    "print(f'Corrected amplitudes based on lens magnitude from paper (lens/source): {lens_amp_corrected}/{source_amp_corrected}')\n",
    "\n",
    "# TODO I don't think I need to do this... we don't want anything in units of amplitude (e.g. the numpy arrays)\n",
    "# convert this corrected source amplitude to magnitude for HST simulation\n",
    "# kwargs_source_light[0]['magnitude'] = "
   ]
  },
  {
   "cell_type": "code",
   "execution_count": 25,
   "metadata": {},
   "outputs": [
    {
     "data": {
      "image/png": "[encoded data removed]",
      "text/plain": [
       "<Figure size 640x480 with 2 Axes>"
      ]
     },
     "metadata": {},
     "output_type": "display_data"
    }
   ],
   "source": [
    "side = 5  # arcseconds\n",
    "num_pix = 45 * oversample_factor\n",
    "delta_pix = side / num_pix  # size of pixel in angular coordinates\n",
    "\n",
    "ra_at_xy_0, dec_at_xy_0 = -delta_pix * math.ceil(num_pix / 2), -delta_pix * math.ceil(num_pix / 2) # coordinate in angles (RA/DEC) at the position of the pixel edge (0,0)\n",
    "transform_pix2angle = np.array([[1, 0], [0, 1]]) * delta_pix  # linear translation matrix of a shift in pixel in a shift in coordinates\n",
    "\n",
    "kwargs_pixel = {'nx': num_pix, 'ny': num_pix,  # number of pixels per axis\n",
    "                'ra_at_xy_0': ra_at_xy_0,  # RA at pixel (0,0)\n",
    "                'dec_at_xy_0': dec_at_xy_0,  # DEC at pixel (0,0)\n",
    "                'transform_pix2angle': transform_pix2angle}\n",
    "pixel_grid = PixelGrid(**kwargs_pixel)\n",
    "\n",
    "imageModel = ImageModel(data_class=pixel_grid,\n",
    "                        psf_class=psf_class,\n",
    "                        lens_model_class=lens_model_class,\n",
    "                        source_model_class=source_model_class,\n",
    "                        lens_light_model_class=lens_light_model_class,\n",
    "                        kwargs_numerics=kwargs_numerics)\n",
    "\n",
    "image = imageModel.image(kwargs_lens=kwargs_lens,\n",
    "                        kwargs_source=kwargs_source_light_amp,\n",
    "                        kwargs_lens_light=kwargs_lens_light_amp)\n",
    "\n",
    "# TODO correct for spreading counts across more pixels\n",
    "image = image / (oversample_factor ** 2)\n",
    "\n",
    "plt.imshow(image)\n",
    "plt.title('Lenstronomy model of '+ data_set_name)\n",
    "# plt.savefig(os.path.join('figures', 'pixel_density_test', 'model_' + str(oversample_factor) + '.png'))\n",
    "plt.colorbar()\n",
    "plt.show()\n",
    "\n",
    "model_array_path = os.path.join(repo_path, 'arrays', 'SLACS', data_set_name + '_hst_counts_' + str(oversample_factor) + '.npy')\n",
    "np.save(model_array_path, image)"
   ]
  },
  {
   "cell_type": "code",
   "execution_count": 21,
   "metadata": {},
   "outputs": [
    {
     "name": "stdout",
     "output_type": "stream",
     "text": [
      "HST's pixel scale: 0.08\n"
     ]
    },
    {
     "data": {
      "image/png": "[encoded data removed]",
      "text/plain": [
       "<Figure size 640x480 with 1 Axes>"
      ]
     },
     "metadata": {},
     "output_type": "display_data"
    }
   ],
   "source": [
    "HST_wfc3_f160w = HST(band='WFC3_F160W', psf_type='GAUSSIAN', coadd_years=None)\n",
    "\n",
    "kwargs_wfc3_f160w = HST_wfc3_f160w.kwargs_single_band()\n",
    "\n",
    "hst_pixel_scale = HST_wfc3_f160w.kwargs_single_band().get('pixel_scale')\n",
    "print('HST\\'s pixel scale: ' + str(hst_pixel_scale))\n",
    "\n",
    "hst_num_pix = int(5 / hst_pixel_scale)\n",
    "\n",
    "sim_wfc3_f160w = SimAPI(numpix=hst_num_pix, kwargs_single_band=kwargs_wfc3_f160w, kwargs_model=kwargs_model)\n",
    "\n",
    "imSim_kwargs_wfc3_f160w = sim_wfc3_f160w.image_model_class(kwargs_numerics)\n",
    "\n",
    "image_wfc3_f160w = imSim_kwargs_wfc3_f160w.image(kwargs_lens=kwargs_lens, kwargs_lens_light=kwargs_lens_light_amp, kwargs_source=kwargs_source_light_amp)\n",
    "\n",
    "# add noise\n",
    "image_wfc3_f160w += sim_wfc3_f160w.noise_for_model(model=image_wfc3_f160w)\n",
    "\n",
    "hst_image = np.zeros((image_wfc3_f160w.shape[0], image_wfc3_f160w.shape[1], 1), dtype=float)\n",
    "hst_image[:,:,0] = plot_util.sqrt(image_wfc3_f160w, scale_min=0, scale_max=10000)\n",
    "\n",
    "plt.imshow(hst_image, aspect='equal', cmap='cividis')\n",
    "plt.show()"
   ]
  }
 ],
 "metadata": {
  "kernelspec": {
   "display_name": "lenstronomy",
   "language": "python",
   "name": "python3"
  },
  "language_info": {
   "codemirror_mode": {
    "name": "ipython",
    "version": 3
   },
   "file_extension": ".py",
   "mimetype": "text/x-python",
   "name": "python",
   "nbconvert_exporter": "python",
   "pygments_lexer": "ipython3",
   "version": "3.10.6"
  }
 },
 "nbformat": 4,
 "nbformat_minor": 2
}
