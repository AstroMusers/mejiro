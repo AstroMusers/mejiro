{
 "cells": [
  {
   "cell_type": "code",
   "execution_count": 3,
   "id": "bf982430",
   "metadata": {},
   "outputs": [],
   "source": [
    "import os\n",
    "import sys\n",
    "import numpy as np\n",
    "import matplotlib.pyplot as plt\n",
    "from astropy.cosmology import default_cosmology\n",
    "from astropy.units import Quantity\n",
    "from slsim.Pipelines.skypy_pipeline import SkyPyPipeline\n",
    "from slsim.Pipelines.sl_hammocks_pipeline import SLHammocksPipeline\n",
    "from slsim.lens_pop import LensPop\n",
    "import slsim.Deflectors as deflectors\n",
    "import slsim.Sources as sources\n",
    "import corner\n",
    "from pprint import pprint\n",
    "    \n",
    "from mejiro.exposure import Exposure\n",
    "from mejiro.synthetic_image import SyntheticImage\n",
    "from mejiro.instruments.roman import Roman\n",
    "\n",
    "%matplotlib inline"
   ]
  },
  {
   "cell_type": "code",
   "execution_count": 2,
   "id": "fe6d5541",
   "metadata": {},
   "outputs": [],
   "source": [
    "# Import default Roman Space Telescope configuration\n",
    "skypy_config = \"roman-like.yml\"\n",
    "\n",
    "# Load Roman filters\n",
    "speclite_filters = Roman.load_speclite_filters(sca=1)"
   ]
  },
  {
   "cell_type": "code",
   "execution_count": 4,
   "id": "bdcf19c6",
   "metadata": {},
   "outputs": [],
   "source": [
    "# define a cosmology\n",
    "cosmo = default_cosmology.get()\n",
    "\n",
    "# define a sky area\n",
    "sky_area = Quantity(value=1., unit=\"deg2\")\n",
    "\n",
    "# run skypy pipeline and make galaxy-galaxy population class\n",
    "galaxy_simulation_pipeline = SkyPyPipeline(\n",
    "    skypy_config=skypy_config,\n",
    "    sky_area=sky_area,\n",
    "    filters=speclite_filters,\n",
    "    cosmo=cosmo\n",
    ")"
   ]
  },
  {
   "cell_type": "code",
   "execution_count": null,
   "id": "5185ea54",
   "metadata": {},
   "outputs": [],
   "source": [
    "# Generate halo galaxy population using SLHammock pipeline. Halo galaxies from this simulation\n",
    "# will be used as deflector population. One can specify minimum and maximum values for\n",
    "# redshift and log10 of halo mass.\n",
    "halo_galaxy_pipeline = SLHammocksPipeline(\n",
    "    slhammocks_config=None,\n",
    "    sky_area=sky_area,\n",
    "    # filters=speclite_filters,\n",
    "    cosmo=cosmo,\n",
    "    # z_min=0.01,\n",
    "    # z_max=2,\n",
    "    # loghm_min=13,\n",
    "    # loghm_max=16,\n",
    ")"
   ]
  },
  {
   "cell_type": "code",
   "execution_count": 12,
   "id": "edaaa978",
   "metadata": {},
   "outputs": [
    {
     "data": {
      "text/html": [
       "<div><i>Table length=323613</i>\n",
       "<table id=\"table139672771060272\" class=\"table-striped table-bordered table-condensed\">\n",
       "<thead><tr><th>z</th><th>halo_mass</th><th>halo_mass_acc</th><th>e_h</th><th>p_h</th><th>concentration</th><th>stellar_mass</th><th>ellipticity</th><th>p_g</th><th>tb</th><th>angular_size</th><th>vel_disp</th><th>mag_g</th><th>mag_r</th><th>mag_i</th><th>mag_z</th><th>mag_Y</th><th>e1_light</th><th>e2_light</th><th>e1_mass</th><th>e2_mass</th></tr></thead>\n",
       "<thead><tr><th>float64</th><th>float64</th><th>float64</th><th>float64</th><th>float64</th><th>float64</th><th>float64</th><th>float64</th><th>float64</th><th>float64</th><th>float64</th><th>float64</th><th>float64</th><th>float64</th><th>float64</th><th>float64</th><th>float64</th><th>float64</th><th>float64</th><th>float64</th><th>float64</th></tr></thead>\n",
       "<tr><td>0.01999999999999999</td><td>694791602867.4675</td><td>0.0</td><td>0.7067663632235568</td><td>-135.70639232536487</td><td>8.610360360483075</td><td>35101320731.23165</td><td>0.6315315439699243</td><td>-93.79623531165643</td><td>5.930033202633122</td><td>5.217715473811859e-05</td><td>-1.0</td><td>-1.0</td><td>-1.0</td><td>-1.0</td><td>-1.0</td><td>-1.0</td><td>-1.0</td><td>-1.0</td><td>-1.0</td><td>-1.0</td></tr>\n",
       "<tr><td>0.02099999999999999</td><td>436607404475.2233</td><td>0.0</td><td>0.05801650119904066</td><td>169.28464321850757</td><td>9.985437840144938</td><td>12012743482.486063</td><td>0.5124911428085256</td><td>154.5589458734267</td><td>10.035695128066061</td><td>8.830203806770858e-05</td><td>-1.0</td><td>-1.0</td><td>-1.0</td><td>-1.0</td><td>-1.0</td><td>-1.0</td><td>-1.0</td><td>-1.0</td><td>-1.0</td><td>-1.0</td></tr>\n",
       "<tr><td>0.03299999999999998</td><td>1444466374097.4253</td><td>0.0</td><td>0.2554613221796741</td><td>79.4042546391634</td><td>4.41999985921903</td><td>85358766175.61157</td><td>0.2842724185496868</td><td>97.7789201742155</td><td>5.286914068333569</td><td>4.651848042066407e-05</td><td>-1.0</td><td>-1.0</td><td>-1.0</td><td>-1.0</td><td>-1.0</td><td>-1.0</td><td>-1.0</td><td>-1.0</td><td>-1.0</td><td>-1.0</td></tr>\n",
       "<tr><td>0.035999999999999976</td><td>353423023489.2082</td><td>0.0</td><td>0.4000234160142594</td><td>157.6559204730321</td><td>8.982299307405654</td><td>8667622907.640635</td><td>0.12777727999530003</td><td>136.5792607816346</td><td>9.392742116542529</td><td>8.264482543073607e-05</td><td>-1.0</td><td>-1.0</td><td>-1.0</td><td>-1.0</td><td>-1.0</td><td>-1.0</td><td>-1.0</td><td>-1.0</td><td>-1.0</td><td>-1.0</td></tr>\n",
       "<tr><td>0.03899999999999998</td><td>291785155426.9099</td><td>0.0</td><td>0.20625510126917088</td><td>-129.90591897056248</td><td>5.912055939426572</td><td>9155274756.372576</td><td>0.368180674616726</td><td>-154.35334610667007</td><td>3.801258469628636</td><td>3.344649930144211e-05</td><td>-1.0</td><td>-1.0</td><td>-1.0</td><td>-1.0</td><td>-1.0</td><td>-1.0</td><td>-1.0</td><td>-1.0</td><td>-1.0</td><td>-1.0</td></tr>\n",
       "<tr><td>0.04399999999999998</td><td>217448736311.4261</td><td>0.0</td><td>0.43019704175511053</td><td>75.41347650767491</td><td>4.4714289965304</td><td>3355124880.952329</td><td>0.3551434587165091</td><td>86.20635168407523</td><td>2.2698528213216402</td><td>1.997197281092214e-05</td><td>-1.0</td><td>-1.0</td><td>-1.0</td><td>-1.0</td><td>-1.0</td><td>-1.0</td><td>-1.0</td><td>-1.0</td><td>-1.0</td><td>-1.0</td></tr>\n",
       "<tr><td>0.04499999999999997</td><td>7107771711723.727</td><td>0.0</td><td>0.29138116913046136</td><td>176.08799081974095</td><td>6.274899559066285</td><td>139545697735.39462</td><td>0.7375238005940139</td><td>107.53159061427294</td><td>1.2411147869035544</td><td>1.0920316307045181e-05</td><td>-1.0</td><td>-1.0</td><td>-1.0</td><td>-1.0</td><td>-1.0</td><td>-1.0</td><td>-1.0</td><td>-1.0</td><td>-1.0</td><td>-1.0</td></tr>\n",
       "<tr><td>0.04599999999999997</td><td>206271237142.06345</td><td>0.0</td><td>0.266527229233353</td><td>-107.70998559267785</td><td>9.11195520053984</td><td>2912965900.206084</td><td>0.3445639050481749</td><td>-98.873250877848</td><td>1.5501765608082467</td><td>1.3639687927679973e-05</td><td>-1.0</td><td>-1.0</td><td>-1.0</td><td>-1.0</td><td>-1.0</td><td>-1.0</td><td>-1.0</td><td>-1.0</td><td>-1.0</td><td>-1.0</td></tr>\n",
       "<tr><td>0.04599999999999997</td><td>223027512569.04236</td><td>0.0</td><td>0.2291915928466484</td><td>-96.23920305502014</td><td>9.085485523642193</td><td>2840957417.191611</td><td>0.36612215542850485</td><td>-92.9023619877346</td><td>1.4932513953624147</td><td>1.3138814987433817e-05</td><td>-1.0</td><td>-1.0</td><td>-1.0</td><td>-1.0</td><td>-1.0</td><td>-1.0</td><td>-1.0</td><td>-1.0</td><td>-1.0</td><td>-1.0</td></tr>\n",
       "<tr><td>...</td><td>...</td><td>...</td><td>...</td><td>...</td><td>...</td><td>...</td><td>...</td><td>...</td><td>...</td><td>...</td><td>...</td><td>...</td><td>...</td><td>...</td><td>...</td><td>...</td><td>...</td><td>...</td><td>...</td><td>...</td></tr>\n",
       "<tr><td>4.999999999999996</td><td>208880450136.37628</td><td>0.0</td><td>0.33665697967381375</td><td>117.6365219736846</td><td>6.5521130620598305</td><td>1287594512.5821989</td><td>0.6737505050284854</td><td>198.76042249216226</td><td>0.05913387539999342</td><td>5.203069294182113e-07</td><td>-1.0</td><td>-1.0</td><td>-1.0</td><td>-1.0</td><td>-1.0</td><td>-1.0</td><td>-1.0</td><td>-1.0</td><td>-1.0</td><td>-1.0</td></tr>\n",
       "<tr><td>4.999999999999996</td><td>220328301958.1432</td><td>0.0</td><td>0.36991816335362737</td><td>69.65196970206327</td><td>3.434751951493089</td><td>1225613304.0068762</td><td>0.2459502736307014</td><td>56.15769969387912</td><td>0.03374931760580955</td><td>2.96953373927539e-07</td><td>-1.0</td><td>-1.0</td><td>-1.0</td><td>-1.0</td><td>-1.0</td><td>-1.0</td><td>-1.0</td><td>-1.0</td><td>-1.0</td><td>-1.0</td></tr>\n",
       "<tr><td>4.999999999999996</td><td>235739990713.1072</td><td>0.0</td><td>0.15389531776450013</td><td>-21.665738263263247</td><td>3.2451240943092694</td><td>1336730562.2959342</td><td>0.28176373987513775</td><td>-1.2453818635905378</td><td>0.023448495319995252</td><td>2.0631853598124544e-07</td><td>-1.0</td><td>-1.0</td><td>-1.0</td><td>-1.0</td><td>-1.0</td><td>-1.0</td><td>-1.0</td><td>-1.0</td><td>-1.0</td><td>-1.0</td></tr>\n",
       "<tr><td>4.999999999999996</td><td>239672876315.78558</td><td>0.0</td><td>0.4287505303206588</td><td>-38.65620946113844</td><td>3.0263128233239067</td><td>1436409028.7234647</td><td>0.2896918945449409</td><td>-86.1839597897523</td><td>0.05992950782628756</td><td>5.273075371387517e-07</td><td>-1.0</td><td>-1.0</td><td>-1.0</td><td>-1.0</td><td>-1.0</td><td>-1.0</td><td>-1.0</td><td>-1.0</td><td>-1.0</td><td>-1.0</td></tr>\n",
       "<tr><td>4.999999999999996</td><td>301515286384.7887</td><td>0.0</td><td>0.3040385458582725</td><td>-29.041443591080835</td><td>4.755380975780595</td><td>2659576969.1852956</td><td>0.31290061917394385</td><td>-19.408349458183565</td><td>0.030193228662549743</td><td>2.656640713697403e-07</td><td>-1.0</td><td>-1.0</td><td>-1.0</td><td>-1.0</td><td>-1.0</td><td>-1.0</td><td>-1.0</td><td>-1.0</td><td>-1.0</td><td>-1.0</td></tr>\n",
       "<tr><td>4.999999999999996</td><td>335367735780.8708</td><td>0.0</td><td>0.16694145289726017</td><td>155.56859447856232</td><td>3.001680692708873</td><td>2347240715.5080066</td><td>0.2388039894772284</td><td>230.5913777124369</td><td>0.02885647835651256</td><td>2.5390227760215076e-07</td><td>-1.0</td><td>-1.0</td><td>-1.0</td><td>-1.0</td><td>-1.0</td><td>-1.0</td><td>-1.0</td><td>-1.0</td><td>-1.0</td><td>-1.0</td></tr>\n",
       "<tr><td>4.999999999999996</td><td>349632449806.47614</td><td>0.0</td><td>0.2775630827277803</td><td>32.720713606190785</td><td>5.540852077655704</td><td>2643787532.9212346</td><td>0.32298272505038716</td><td>64.97519977145026</td><td>0.0060745636897716225</td><td>5.344884906665164e-08</td><td>-1.0</td><td>-1.0</td><td>-1.0</td><td>-1.0</td><td>-1.0</td><td>-1.0</td><td>-1.0</td><td>-1.0</td><td>-1.0</td><td>-1.0</td></tr>\n",
       "<tr><td>4.999999999999996</td><td>419517778897.78174</td><td>0.0</td><td>0.18901431658108245</td><td>-86.45411653581667</td><td>2.417055509823921</td><td>5538679237.855628</td><td>0.3610643734913084</td><td>-72.16857911576759</td><td>0.03654078497818784</td><td>3.215149269674643e-07</td><td>-1.0</td><td>-1.0</td><td>-1.0</td><td>-1.0</td><td>-1.0</td><td>-1.0</td><td>-1.0</td><td>-1.0</td><td>-1.0</td><td>-1.0</td></tr>\n",
       "<tr><td>4.999999999999996</td><td>730216425863.449</td><td>0.0</td><td>0.2122087524968777</td><td>-32.43435405811888</td><td>3.5570362477123862</td><td>11460886844.885384</td><td>0.04825684687915089</td><td>-37.879714282845605</td><td>0.019903148671567502</td><td>1.7512375268843942e-07</td><td>-1.0</td><td>-1.0</td><td>-1.0</td><td>-1.0</td><td>-1.0</td><td>-1.0</td><td>-1.0</td><td>-1.0</td><td>-1.0</td><td>-1.0</td></tr>\n",
       "<tr><td>4.999999999999996</td><td>2087240625829.1025</td><td>0.0</td><td>0.21704512383656907</td><td>-46.36922306070628</td><td>4.3889304598113945</td><td>53544835997.76967</td><td>0.48382890703725273</td><td>-86.83794947682321</td><td>0.018334925835683694</td><td>1.613252792607649e-07</td><td>-1.0</td><td>-1.0</td><td>-1.0</td><td>-1.0</td><td>-1.0</td><td>-1.0</td><td>-1.0</td><td>-1.0</td><td>-1.0</td><td>-1.0</td></tr>\n",
       "</table></div>"
      ],
      "text/plain": [
       "<Table length=323613>\n",
       "         z               halo_mass      halo_mass_acc ... e1_mass e2_mass\n",
       "      float64             float64          float64    ... float64 float64\n",
       "-------------------- ------------------ ------------- ... ------- -------\n",
       " 0.01999999999999999  694791602867.4675           0.0 ...    -1.0    -1.0\n",
       " 0.02099999999999999  436607404475.2233           0.0 ...    -1.0    -1.0\n",
       " 0.03299999999999998 1444466374097.4253           0.0 ...    -1.0    -1.0\n",
       "0.035999999999999976  353423023489.2082           0.0 ...    -1.0    -1.0\n",
       " 0.03899999999999998  291785155426.9099           0.0 ...    -1.0    -1.0\n",
       " 0.04399999999999998  217448736311.4261           0.0 ...    -1.0    -1.0\n",
       " 0.04499999999999997  7107771711723.727           0.0 ...    -1.0    -1.0\n",
       " 0.04599999999999997 206271237142.06345           0.0 ...    -1.0    -1.0\n",
       " 0.04599999999999997 223027512569.04236           0.0 ...    -1.0    -1.0\n",
       "                 ...                ...           ... ...     ...     ...\n",
       "   4.999999999999996 208880450136.37628           0.0 ...    -1.0    -1.0\n",
       "   4.999999999999996  220328301958.1432           0.0 ...    -1.0    -1.0\n",
       "   4.999999999999996  235739990713.1072           0.0 ...    -1.0    -1.0\n",
       "   4.999999999999996 239672876315.78558           0.0 ...    -1.0    -1.0\n",
       "   4.999999999999996  301515286384.7887           0.0 ...    -1.0    -1.0\n",
       "   4.999999999999996  335367735780.8708           0.0 ...    -1.0    -1.0\n",
       "   4.999999999999996 349632449806.47614           0.0 ...    -1.0    -1.0\n",
       "   4.999999999999996 419517778897.78174           0.0 ...    -1.0    -1.0\n",
       "   4.999999999999996   730216425863.449           0.0 ...    -1.0    -1.0\n",
       "   4.999999999999996 2087240625829.1025           0.0 ...    -1.0    -1.0"
      ]
     },
     "execution_count": 12,
     "metadata": {},
     "output_type": "execute_result"
    }
   ],
   "source": [
    "halo_galaxy_pipeline._pipeline"
   ]
  },
  {
   "cell_type": "code",
   "execution_count": 11,
   "id": "cae5396d",
   "metadata": {},
   "outputs": [
    {
     "ename": "KeyError",
     "evalue": "'mag_F129'",
     "output_type": "error",
     "traceback": [
      "\u001b[0;31m---------------------------------------------------------------------------\u001b[0m",
      "\u001b[0;31mKeyError\u001b[0m                                  Traceback (most recent call last)",
      "Cell \u001b[0;32mIn[11], line 7\u001b[0m\n\u001b[1;32m      4\u001b[0m kwargs_source_cut \u001b[38;5;241m=\u001b[39m {\u001b[38;5;124m\"\u001b[39m\u001b[38;5;124mband\u001b[39m\u001b[38;5;124m\"\u001b[39m: \u001b[38;5;124m\"\u001b[39m\u001b[38;5;124mF129\u001b[39m\u001b[38;5;124m\"\u001b[39m, \u001b[38;5;124m\"\u001b[39m\u001b[38;5;124mband_max\u001b[39m\u001b[38;5;124m\"\u001b[39m: \u001b[38;5;241m28\u001b[39m, \u001b[38;5;124m\"\u001b[39m\u001b[38;5;124mz_min\u001b[39m\u001b[38;5;124m\"\u001b[39m: \u001b[38;5;241m0.1\u001b[39m, \u001b[38;5;124m\"\u001b[39m\u001b[38;5;124mz_max\u001b[39m\u001b[38;5;124m\"\u001b[39m: \u001b[38;5;241m5.\u001b[39m}\n\u001b[1;32m      6\u001b[0m \u001b[38;5;66;03m# Initiate deflector population class.\u001b[39;00m\n\u001b[0;32m----> 7\u001b[0m lens_galaxies \u001b[38;5;241m=\u001b[39m \u001b[43mdeflectors\u001b[49m\u001b[38;5;241;43m.\u001b[39;49m\u001b[43mCompoundLensHalosGalaxies\u001b[49m\u001b[43m(\u001b[49m\n\u001b[1;32m      8\u001b[0m \u001b[43m    \u001b[49m\u001b[43mhalo_galaxy_list\u001b[49m\u001b[38;5;241;43m=\u001b[39;49m\u001b[43mhalo_galaxy_pipeline\u001b[49m\u001b[38;5;241;43m.\u001b[39;49m\u001b[43m_pipeline\u001b[49m\u001b[43m,\u001b[49m\n\u001b[1;32m      9\u001b[0m \u001b[43m    \u001b[49m\u001b[43mkwargs_cut\u001b[49m\u001b[38;5;241;43m=\u001b[39;49m\u001b[43mkwargs_deflector_cut\u001b[49m\u001b[43m,\u001b[49m\n\u001b[1;32m     10\u001b[0m \u001b[43m    \u001b[49m\u001b[43mkwargs_mass2light\u001b[49m\u001b[38;5;241;43m=\u001b[39;49m\u001b[43m{\u001b[49m\u001b[43m}\u001b[49m\u001b[43m,\u001b[49m\n\u001b[1;32m     11\u001b[0m \u001b[43m    \u001b[49m\u001b[43mcosmo\u001b[49m\u001b[38;5;241;43m=\u001b[39;49m\u001b[43mcosmo\u001b[49m\u001b[43m,\u001b[49m\n\u001b[1;32m     12\u001b[0m \u001b[43m    \u001b[49m\u001b[43msky_area\u001b[49m\u001b[38;5;241;43m=\u001b[39;49m\u001b[43msky_area\u001b[49m\u001b[43m,\u001b[49m\n\u001b[1;32m     13\u001b[0m \u001b[43m)\u001b[49m\n\u001b[1;32m     15\u001b[0m \u001b[38;5;66;03m# Initiate source population class.\u001b[39;00m\n\u001b[1;32m     16\u001b[0m source_galaxies \u001b[38;5;241m=\u001b[39m sources\u001b[38;5;241m.\u001b[39mGalaxies(\n\u001b[1;32m     17\u001b[0m     galaxy_list\u001b[38;5;241m=\u001b[39mgalaxy_simulation_pipeline\u001b[38;5;241m.\u001b[39mblue_galaxies,\n\u001b[1;32m     18\u001b[0m     kwargs_cut\u001b[38;5;241m=\u001b[39mkwargs_source_cut,\n\u001b[0;32m   (...)\u001b[0m\n\u001b[1;32m     21\u001b[0m     catalog_type\u001b[38;5;241m=\u001b[39m\u001b[38;5;124m\"\u001b[39m\u001b[38;5;124mskypy\u001b[39m\u001b[38;5;124m\"\u001b[39m,\n\u001b[1;32m     22\u001b[0m )\n",
      "File \u001b[0;32m/data/bwedig/.conda/envs/mejiro-v2/lib/python3.10/site-packages/slsim/Deflectors/compound_lens_halos_galaxies.py:64\u001b[0m, in \u001b[0;36mCompoundLensHalosGalaxies.__init__\u001b[0;34m(self, halo_galaxy_list, kwargs_cut, kwargs_mass2light, cosmo, sky_area)\u001b[0m\n\u001b[1;32m     61\u001b[0m     halo_galaxy_list[\u001b[38;5;124m\"\u001b[39m\u001b[38;5;124me1_mass\u001b[39m\u001b[38;5;124m\"\u001b[39m] \u001b[38;5;241m=\u001b[39m \u001b[38;5;241m-\u001b[39mnp\u001b[38;5;241m.\u001b[39mones(n)\n\u001b[1;32m     62\u001b[0m     halo_galaxy_list[\u001b[38;5;124m\"\u001b[39m\u001b[38;5;124me2_mass\u001b[39m\u001b[38;5;124m\"\u001b[39m] \u001b[38;5;241m=\u001b[39m \u001b[38;5;241m-\u001b[39mnp\u001b[38;5;241m.\u001b[39mones(n)\n\u001b[0;32m---> 64\u001b[0m \u001b[38;5;28mself\u001b[39m\u001b[38;5;241m.\u001b[39m_galaxy_select \u001b[38;5;241m=\u001b[39m \u001b[43mobject_cut\u001b[49m\u001b[43m(\u001b[49m\u001b[43mhalo_galaxy_list\u001b[49m\u001b[43m,\u001b[49m\u001b[43m \u001b[49m\u001b[38;5;241;43m*\u001b[39;49m\u001b[38;5;241;43m*\u001b[39;49m\u001b[43mkwargs_cut\u001b[49m\u001b[43m)\u001b[49m\n\u001b[1;32m     65\u001b[0m \u001b[38;5;66;03m# Currently only supporting redshift cut\u001b[39;00m\n\u001b[1;32m     66\u001b[0m \u001b[38;5;28mself\u001b[39m\u001b[38;5;241m.\u001b[39m_num_select \u001b[38;5;241m=\u001b[39m \u001b[38;5;28mlen\u001b[39m(\u001b[38;5;28mself\u001b[39m\u001b[38;5;241m.\u001b[39m_galaxy_select)\n",
      "File \u001b[0;32m/data/bwedig/.conda/envs/mejiro-v2/lib/python3.10/site-packages/slsim/selection.py:37\u001b[0m, in \u001b[0;36mobject_cut\u001b[0;34m(galaxy_list, z_min, z_max, band, band_max, list_type, object_type)\u001b[0m\n\u001b[1;32m     32\u001b[0m         bool_cut \u001b[38;5;241m=\u001b[39m (galaxy_list[\u001b[38;5;124m\"\u001b[39m\u001b[38;5;124mz\u001b[39m\u001b[38;5;124m\"\u001b[39m] \u001b[38;5;241m>\u001b[39m z_min) \u001b[38;5;241m&\u001b[39m (galaxy_list[\u001b[38;5;124m\"\u001b[39m\u001b[38;5;124mz\u001b[39m\u001b[38;5;124m\"\u001b[39m] \u001b[38;5;241m<\u001b[39m z_max)\n\u001b[1;32m     33\u001b[0m     \u001b[38;5;28;01melse\u001b[39;00m:\n\u001b[1;32m     34\u001b[0m         bool_cut \u001b[38;5;241m=\u001b[39m (\n\u001b[1;32m     35\u001b[0m             (galaxy_list[\u001b[38;5;124m\"\u001b[39m\u001b[38;5;124mz\u001b[39m\u001b[38;5;124m\"\u001b[39m] \u001b[38;5;241m>\u001b[39m z_min)\n\u001b[1;32m     36\u001b[0m             \u001b[38;5;241m&\u001b[39m (galaxy_list[\u001b[38;5;124m\"\u001b[39m\u001b[38;5;124mz\u001b[39m\u001b[38;5;124m\"\u001b[39m] \u001b[38;5;241m<\u001b[39m z_max)\n\u001b[0;32m---> 37\u001b[0m             \u001b[38;5;241m&\u001b[39m (\u001b[43mgalaxy_list\u001b[49m\u001b[43m[\u001b[49m\u001b[43mmag_string\u001b[49m\u001b[43m \u001b[49m\u001b[38;5;241;43m+\u001b[39;49m\u001b[43m \u001b[49m\u001b[43mband\u001b[49m\u001b[43m]\u001b[49m \u001b[38;5;241m<\u001b[39m band_max)\n\u001b[1;32m     38\u001b[0m         )\n\u001b[1;32m     39\u001b[0m     galaxy_list_cut \u001b[38;5;241m=\u001b[39m galaxy_list[bool_cut]\n\u001b[1;32m     40\u001b[0m \u001b[38;5;28;01melse\u001b[39;00m:\n",
      "File \u001b[0;32m/data/bwedig/.conda/envs/mejiro-v2/lib/python3.10/site-packages/astropy/table/table.py:2093\u001b[0m, in \u001b[0;36mTable.__getitem__\u001b[0;34m(self, item)\u001b[0m\n\u001b[1;32m   2091\u001b[0m \u001b[38;5;28;01mdef\u001b[39;00m\u001b[38;5;250m \u001b[39m\u001b[38;5;21m__getitem__\u001b[39m(\u001b[38;5;28mself\u001b[39m, item):\n\u001b[1;32m   2092\u001b[0m     \u001b[38;5;28;01mif\u001b[39;00m \u001b[38;5;28misinstance\u001b[39m(item, \u001b[38;5;28mstr\u001b[39m):\n\u001b[0;32m-> 2093\u001b[0m         \u001b[38;5;28;01mreturn\u001b[39;00m \u001b[38;5;28;43mself\u001b[39;49m\u001b[38;5;241;43m.\u001b[39;49m\u001b[43mcolumns\u001b[49m\u001b[43m[\u001b[49m\u001b[43mitem\u001b[49m\u001b[43m]\u001b[49m\n\u001b[1;32m   2094\u001b[0m     \u001b[38;5;28;01melif\u001b[39;00m \u001b[38;5;28misinstance\u001b[39m(item, (\u001b[38;5;28mint\u001b[39m, np\u001b[38;5;241m.\u001b[39minteger)):\n\u001b[1;32m   2095\u001b[0m         \u001b[38;5;28;01mreturn\u001b[39;00m \u001b[38;5;28mself\u001b[39m\u001b[38;5;241m.\u001b[39mRow(\u001b[38;5;28mself\u001b[39m, item)\n",
      "File \u001b[0;32m/data/bwedig/.conda/envs/mejiro-v2/lib/python3.10/site-packages/astropy/table/table.py:267\u001b[0m, in \u001b[0;36mTableColumns.__getitem__\u001b[0;34m(self, item)\u001b[0m\n\u001b[1;32m    256\u001b[0m \u001b[38;5;250m\u001b[39m\u001b[38;5;124;03m\"\"\"Get items from a TableColumns object.\u001b[39;00m\n\u001b[1;32m    257\u001b[0m \n\u001b[1;32m    258\u001b[0m \u001b[38;5;124;03m::\u001b[39;00m\n\u001b[0;32m   (...)\u001b[0m\n\u001b[1;32m    264\u001b[0m \u001b[38;5;124;03m  tc[1:3] # <TableColumns names=('b', 'c')>\u001b[39;00m\n\u001b[1;32m    265\u001b[0m \u001b[38;5;124;03m\"\"\"\u001b[39;00m\n\u001b[1;32m    266\u001b[0m \u001b[38;5;28;01mif\u001b[39;00m \u001b[38;5;28misinstance\u001b[39m(item, \u001b[38;5;28mstr\u001b[39m):\n\u001b[0;32m--> 267\u001b[0m     \u001b[38;5;28;01mreturn\u001b[39;00m \u001b[43mOrderedDict\u001b[49m\u001b[38;5;241;43m.\u001b[39;49m\u001b[38;5;21;43m__getitem__\u001b[39;49m\u001b[43m(\u001b[49m\u001b[38;5;28;43mself\u001b[39;49m\u001b[43m,\u001b[49m\u001b[43m \u001b[49m\u001b[43mitem\u001b[49m\u001b[43m)\u001b[49m\n\u001b[1;32m    268\u001b[0m \u001b[38;5;28;01melif\u001b[39;00m \u001b[38;5;28misinstance\u001b[39m(item, (\u001b[38;5;28mint\u001b[39m, np\u001b[38;5;241m.\u001b[39minteger)):\n\u001b[1;32m    269\u001b[0m     \u001b[38;5;28;01mreturn\u001b[39;00m \u001b[38;5;28mlist\u001b[39m(\u001b[38;5;28mself\u001b[39m\u001b[38;5;241m.\u001b[39mvalues())[item]\n",
      "\u001b[0;31mKeyError\u001b[0m: 'mag_F129'"
     ]
    }
   ],
   "source": [
    "# define limits in the intrinsic deflector and source population (in addition to the skypy config\n",
    "# file)\n",
    "kwargs_deflector_cut = {\"band\": \"F129\", \"band_max\": 28, \"z_min\": 0.01, \"z_max\": 2.}\n",
    "kwargs_source_cut = {\"band\": \"F129\", \"band_max\": 28, \"z_min\": 0.1, \"z_max\": 5.}\n",
    "\n",
    "# Initiate deflector population class.\n",
    "lens_galaxies = deflectors.CompoundLensHalosGalaxies(\n",
    "    halo_galaxy_list=halo_galaxy_pipeline._pipeline,\n",
    "    kwargs_cut=kwargs_deflector_cut,\n",
    "    kwargs_mass2light={},\n",
    "    cosmo=cosmo,\n",
    "    sky_area=sky_area,\n",
    ")\n",
    "\n",
    "# Initiate source population class.\n",
    "source_galaxies = sources.Galaxies(\n",
    "    galaxy_list=galaxy_simulation_pipeline.blue_galaxies,\n",
    "    kwargs_cut=kwargs_source_cut,\n",
    "    cosmo=cosmo,\n",
    "    sky_area=sky_area,\n",
    "    catalog_type=\"skypy\",\n",
    ")\n",
    "\n",
    "# make galaxy-galaxy population class using LensPop\n",
    "gg_lens_pop = LensPop(\n",
    "    deflector_population=lens_galaxies,\n",
    "    source_population=source_galaxies,\n",
    "    cosmo=cosmo,\n",
    "    sky_area=sky_area,\n",
    ")"
   ]
  },
  {
   "cell_type": "code",
   "execution_count": null,
   "id": "e0f1e404",
   "metadata": {},
   "outputs": [],
   "source": [
    "kwargs_lens_cut = {\"min_image_separation\": 0.8, \"max_image_separation\": 10}\n",
    "lens_population = gg_lens_pop.draw_population(kwargs_lens_cuts=kwargs_lens_cut)"
   ]
  },
  {
   "cell_type": "code",
   "execution_count": null,
   "id": "1508de8f",
   "metadata": {},
   "outputs": [],
   "source": [
    "print(\"Number of lenses:\", len(lens_population))\n",
    "\n",
    "lens_samples = []\n",
    "labels = [\n",
    "    r\"$\\sigma_v$\",\n",
    "    r\"$\\log(M_{*})$\",\n",
    "    r\"$\\log(h_{m})$\",\n",
    "    r\"$\\theta_E$\",\n",
    "    r\"$z_{\\rm l}$\",\n",
    "    r\"$z_{\\rm s}$\",\n",
    "    r\"$m_{\\rm source}$\",\n",
    "    r\"$m_{\\rm lens}$\",\n",
    "]\n",
    "\n",
    "for gg_lens in lens_population:\n",
    "    vel_disp = gg_lens.deflector_velocity_dispersion()\n",
    "    m_star = gg_lens.deflector_stellar_mass()\n",
    "    halo_mass = gg_lens.deflector.halo_properties[0]\n",
    "    theta_e = gg_lens.einstein_radius[0]\n",
    "    zl = gg_lens.deflector_redshift\n",
    "    zs = gg_lens.source_redshift_list[0]\n",
    "    source_mag = gg_lens.extended_source_magnitude(band=\"i\", lensed=True)[0]\n",
    "    deflector_mag = gg_lens.deflector_magnitude(band=\"i\")\n",
    "    lens_samples.append(\n",
    "        [\n",
    "            vel_disp,\n",
    "            np.log10(m_star),\n",
    "            np.log10(halo_mass),\n",
    "            theta_e,\n",
    "            zl,\n",
    "            zs,\n",
    "            source_mag,\n",
    "            deflector_mag,\n",
    "        ]\n",
    "    )\n",
    "\n",
    "hist2dkwargs = {\n",
    "    \"plot_density\": False,\n",
    "    \"plot_contours\": False,\n",
    "    \"plot_datapoints\": True,\n",
    "    \"color\": \"b\",\n",
    "    \"data_kwargs\": {\"ms\": 5},\n",
    "}\n",
    "corner.corner(np.array(lens_samples), labels=labels, **hist2dkwargs)\n",
    "plt.show()"
   ]
  }
 ],
 "metadata": {
  "kernelspec": {
   "display_name": "mejiro-v2",
   "language": "python",
   "name": "python3"
  },
  "language_info": {
   "codemirror_mode": {
    "name": "ipython",
    "version": 3
   },
   "file_extension": ".py",
   "mimetype": "text/x-python",
   "name": "python",
   "nbconvert_exporter": "python",
   "pygments_lexer": "ipython3",
   "version": "3.10.6"
  }
 },
 "nbformat": 4,
 "nbformat_minor": 5
}
