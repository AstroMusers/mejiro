{
 "cells": [
  {
   "cell_type": "code",
   "execution_count": 1,
   "id": "bd278fed",
   "metadata": {},
   "outputs": [],
   "source": [
    "import datetime\n",
    "import json\n",
    "import os\n",
    "import yaml\n",
    "\n",
    "import numpy as np\n",
    "from corner import corner\n",
    "from pprint import pprint\n",
    "\n",
    "from mejiro.utils import util\n",
    "\n",
    "# read configuration file\n",
    "with open('roman_hlwas_medium.yaml', 'r') as f:\n",
    "    config = yaml.load(f, Loader=yaml.SafeLoader)"
   ]
  },
  {
   "cell_type": "code",
   "execution_count": 2,
   "id": "6ab57144",
   "metadata": {},
   "outputs": [
    {
     "name": "stdout",
     "output_type": "stream",
     "text": [
      "{'01': '6:18:17',\n",
      " '02': '0:24:26',\n",
      " '03': '7:47:15',\n",
      " '04': '3 days, 21:08:56',\n",
      " '05': '2:06:25'}\n"
     ]
    }
   ],
   "source": [
    "with open(os.path.join(config['data_dir'], config['pipeline_dir'], 'execution_times.json'), 'r') as f:\n",
    "    execution_times = json.load(f)\n",
    "\n",
    "pprint(execution_times)"
   ]
  },
  {
   "cell_type": "code",
   "execution_count": 3,
   "id": "0a394fba",
   "metadata": {},
   "outputs": [
    {
     "name": "stdout",
     "output_type": "stream",
     "text": [
      "Total pipeline execution time: 395119 seconds or 4 days, 13:45:19 (109.76 hours)\n"
     ]
    }
   ],
   "source": [
    "total_time = 0\n",
    "for script_name, times in execution_times.items():\n",
    "    h, m, s = times.split(':')\n",
    "    if 'days' in h:\n",
    "        d, h = h.split('days, ')\n",
    "        h = int(d) * 24 + int(h)\n",
    "    elif 'day' in h:\n",
    "        d, h = h.split('day, ')\n",
    "        h = int(d) * 24 + int(h)\n",
    "    time = (int(h) * 3600) + (int(m) * 60) + int(s)\n",
    "    total_time += time\n",
    "\n",
    "print(\n",
    "    f'Total pipeline execution time: {total_time} seconds or {datetime.timedelta(seconds=total_time)} ({total_time / 3600:.2f} hours)')"
   ]
  }
 ],
 "metadata": {
  "kernelspec": {
   "display_name": "mejiro-v2",
   "language": "python",
   "name": "python3"
  },
  "language_info": {
   "codemirror_mode": {
    "name": "ipython",
    "version": 3
   },
   "file_extension": ".py",
   "mimetype": "text/x-python",
   "name": "python",
   "nbconvert_exporter": "python",
   "pygments_lexer": "ipython3",
   "version": "3.10.6"
  }
 },
 "nbformat": 4,
 "nbformat_minor": 5
}
