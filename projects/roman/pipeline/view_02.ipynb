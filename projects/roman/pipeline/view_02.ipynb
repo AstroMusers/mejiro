{
 "cells": [
  {
   "cell_type": "code",
   "execution_count": null,
   "metadata": {},
   "outputs": [],
   "source": [
    "import os\n",
    "import yaml\n",
    "from glob import glob\n",
    "from pprint import pprint\n",
    "\n",
    "from mejiro.utils import util\n",
    "\n",
    "# read configuration file\n",
    "with open('roman_hlwas_medium.yaml', 'r') as f:\n",
    "    config = yaml.load(f, Loader=yaml.SafeLoader)"
   ]
  },
  {
   "cell_type": "code",
   "execution_count": 2,
   "metadata": {},
   "outputs": [],
   "source": [
    "if config['dev']:\n",
    "    config['pipeline_dir'] += '_dev'"
   ]
  },
  {
   "cell_type": "code",
   "execution_count": 3,
   "metadata": {},
   "outputs": [
    {
     "name": "stdout",
     "output_type": "stream",
     "text": [
      "Found 272 system(s) in /data/bwedig/mejiro/roman_hlwas_wide_dev/02\n"
     ]
    }
   ],
   "source": [
    "data_dir = os.path.join(config['data_dir'], config['pipeline_dir'], '02')\n",
    "\n",
    "pickles = sorted(glob(os.path.join(data_dir, '*', '*.pkl')))\n",
    "sample_lenses = [util.unpickle(f) for f in pickles]\n",
    "print(f'Found {len(sample_lenses)} system(s) in {data_dir}')"
   ]
  },
  {
   "cell_type": "code",
   "execution_count": 4,
   "metadata": {},
   "outputs": [
    {
     "name": "stdout",
     "output_type": "stream",
     "text": [
      "StrongLens(name=roman_hlwas_wide_00000000, coords=None, z_lens=1.3723205891235557, z_source=5.278835056986992)\n"
     ]
    }
   ],
   "source": [
    "sample_lens = sample_lenses[0]\n",
    "\n",
    "print(sample_lens)"
   ]
  },
  {
   "cell_type": "code",
   "execution_count": 5,
   "metadata": {},
   "outputs": [
    {
     "name": "stdout",
     "output_type": "stream",
     "text": [
      "{'coords': None,\n",
      " 'cosmo': FlatLambdaCDM(name='Planck18',\n",
      "                        H0=<Quantity 67.66 km / (Mpc s)>,\n",
      "                        Om0=0.30966,\n",
      "                        Tcmb0=<Quantity 2.7255 K>,\n",
      "                        Neff=3.046,\n",
      "                        m_nu=<Quantity [0.  , 0.  , 0.06] eV>,\n",
      "                        Ob0=0.04897),\n",
      " 'kwargs_model': {'cosmo': FlatLambdaCDM(name='Planck18',\n",
      "                                         H0=<Quantity 67.66 km / (Mpc s)>,\n",
      "                                         Om0=0.30966,\n",
      "                                         Tcmb0=<Quantity 2.7255 K>,\n",
      "                                         Neff=3.046,\n",
      "                                         m_nu=<Quantity [0.  , 0.  , 0.06] eV>,\n",
      "                                         Ob0=0.04897),\n",
      "                  'lens_light_model_list': ['SERSIC_ELLIPSE'],\n",
      "                  'lens_model_list': ['SIE', 'SHEAR', 'CONVERGENCE'],\n",
      "                  'lens_redshift_list': [1.3723205891235557,\n",
      "                                         1.3723205891235557,\n",
      "                                         1.3723205891235557],\n",
      "                  'source_light_model_list': ['SERSIC_ELLIPSE'],\n",
      "                  'source_redshift_list': [5.278835056986992],\n",
      "                  'z_source': 5.278835056986992},\n",
      " 'kwargs_params': {'kwargs_lens': [{'center_x': 0.0338877115273867,\n",
      "                                    'center_y': 0.03098044298696604,\n",
      "                                    'e1': 0.11519620040309793,\n",
      "                                    'e2': 0.12474167413258372,\n",
      "                                    'theta_E': 1.1962939376366328},\n",
      "                                   {'dec_0': 0,\n",
      "                                    'gamma1': 0.0,\n",
      "                                    'gamma2': -0.0,\n",
      "                                    'ra_0': 0},\n",
      "                                   {'dec_0': 0, 'kappa': 0.0, 'ra_0': 0}],\n",
      "                   'kwargs_lens_light': [{'R_sersic': 0.7752494644545211,\n",
      "                                          'center_x': 0.0338877115273867,\n",
      "                                          'center_y': 0.03098044298696604,\n",
      "                                          'e1': 0.15473548149381075,\n",
      "                                          'e2': 0.16887265472349308,\n",
      "                                          'magnitude': 23.580598439376892,\n",
      "                                          'n_sersic': 4.0}],\n",
      "                   'kwargs_ps': None,\n",
      "                   'kwargs_source': [{'R_sersic': 0.7513621408594476,\n",
      "                                      'center_x': -0.11116904588208693,\n",
      "                                      'center_y': -0.7663333023966314,\n",
      "                                      'e1': -0.21617980305653195,\n",
      "                                      'e2': 0.13417126114067643,\n",
      "                                      'magnitude': 24.46418114603219,\n",
      "                                      'n_sersic': 1.0}]},\n",
      " 'lens_cosmo': None,\n",
      " 'name': 'roman_hlwas_wide_00000000',\n",
      " 'physical_params': {'lens_stellar_mass': 607098918387.8116,\n",
      "                     'lens_velocity_dispersion': 294.78159939861877,\n",
      "                     'magnification': 3.0588890554773047,\n",
      "                     'magnitudes': {'lens': {'F062': 23.580598439376892,\n",
      "                                             'F087': 22.49975074624698,\n",
      "                                             'F106': 21.488253632179948,\n",
      "                                             'F129': 20.921184349116274,\n",
      "                                             'F146': 20.707417545583368,\n",
      "                                             'F158': 20.445306368190202,\n",
      "                                             'F184': 20.15214634795356,\n",
      "                                             'F213': 19.876796931411086},\n",
      "                                    'lensed_source': {'F062': 23.25027183201751,\n",
      "                                                      'F087': 22.543925919568345,\n",
      "                                                      'F106': 22.47868971246595,\n",
      "                                                      'F129': 22.308532727781348,\n",
      "                                                      'F146': 22.26947118174064,\n",
      "                                                      'F158': 22.220294645641225,\n",
      "                                                      'F184': 22.028828626615365,\n",
      "                                                      'F213': 21.866001172607838},\n",
      "                                    'source': {'F062': 24.46418114603219,\n",
      "                                               'F087': 23.757835233583023,\n",
      "                                               'F106': 23.69259902648063,\n",
      "                                               'F129': 23.522442041796026,\n",
      "                                               'F146': 23.48338049575532,\n",
      "                                               'F158': 23.434203959655903,\n",
      "                                               'F184': 23.242737940630043,\n",
      "                                               'F213': 23.079910486622516}}},\n",
      " 'realization': None,\n",
      " 'use_jax': [True, True, True],\n",
      " 'z_lens': 1.3723205891235557,\n",
      " 'z_source': 5.278835056986992}\n"
     ]
    }
   ],
   "source": [
    "pprint(sample_lens.__dict__)"
   ]
  }
 ],
 "metadata": {
  "kernelspec": {
   "display_name": "mejiro-v2",
   "language": "python",
   "name": "python3"
  },
  "language_info": {
   "codemirror_mode": {
    "name": "ipython",
    "version": 3
   },
   "file_extension": ".py",
   "mimetype": "text/x-python",
   "name": "python",
   "nbconvert_exporter": "python",
   "pygments_lexer": "ipython3",
   "version": "3.10.6"
  }
 },
 "nbformat": 4,
 "nbformat_minor": 2
}
