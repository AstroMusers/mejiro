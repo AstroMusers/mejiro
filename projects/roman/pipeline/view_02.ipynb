{
 "cells": [
  {
   "cell_type": "code",
   "execution_count": 9,
   "metadata": {},
   "outputs": [],
   "source": [
    "import os\n",
    "import yaml\n",
    "from glob import glob\n",
    "from pprint import pprint\n",
    "\n",
    "from mejiro.utils import util\n",
    "\n",
    "# read configuration file\n",
    "with open('roman_hlwas_wide.yaml', 'r') as f:\n",
    "    config = yaml.load(f, Loader=yaml.SafeLoader)"
   ]
  },
  {
   "cell_type": "code",
   "execution_count": 10,
   "metadata": {},
   "outputs": [],
   "source": [
    "if config['dev']:\n",
    "    config['pipeline_dir'] += '_dev'"
   ]
  },
  {
   "cell_type": "code",
   "execution_count": 18,
   "metadata": {},
   "outputs": [
    {
     "name": "stdout",
     "output_type": "stream",
     "text": [
      "Found 1226 system(s) in /data/bwedig/mejiro/roman_hlwas_wide_dev/02\n"
     ]
    }
   ],
   "source": [
    "data_dir = os.path.join(config['data_dir'], config['pipeline_dir'], '02')\n",
    "\n",
    "pickles = sorted(glob(os.path.join(data_dir, '*', '*.pkl')))\n",
    "sample_lenses = [util.unpickle(f) for f in pickles]\n",
    "print(f'Found {len(sample_lenses)} system(s) in {data_dir}')"
   ]
  },
  {
   "cell_type": "code",
   "execution_count": 19,
   "metadata": {},
   "outputs": [
    {
     "name": "stdout",
     "output_type": "stream",
     "text": [
      "StrongLens(name=roman_hlwas_wide_00000000, coords=None, z_lens=3.736802671839935, z_source=9.984366269828305)\n"
     ]
    }
   ],
   "source": [
    "sample_lens = sample_lenses[0]\n",
    "\n",
    "print(sample_lens)"
   ]
  },
  {
   "cell_type": "code",
   "execution_count": 20,
   "metadata": {},
   "outputs": [
    {
     "name": "stdout",
     "output_type": "stream",
     "text": [
      "{'coords': None,\n",
      " 'cosmo': FlatLambdaCDM(name='Planck18',\n",
      "                        H0=<Quantity 67.66 km / (Mpc s)>,\n",
      "                        Om0=0.30966,\n",
      "                        Tcmb0=<Quantity 2.7255 K>,\n",
      "                        Neff=3.046,\n",
      "                        m_nu=<Quantity [0.  , 0.  , 0.06] eV>,\n",
      "                        Ob0=0.04897),\n",
      " 'kwargs_model': {'cosmo': FlatLambdaCDM(name='Planck18',\n",
      "                                         H0=<Quantity 67.66 km / (Mpc s)>,\n",
      "                                         Om0=0.30966,\n",
      "                                         Tcmb0=<Quantity 2.7255 K>,\n",
      "                                         Neff=3.046,\n",
      "                                         m_nu=<Quantity [0.  , 0.  , 0.06] eV>,\n",
      "                                         Ob0=0.04897),\n",
      "                  'lens_light_model_list': ['SERSIC_ELLIPSE'],\n",
      "                  'lens_model_list': ['SIE', 'SHEAR', 'CONVERGENCE'],\n",
      "                  'lens_redshift_list': [3.736802671839935,\n",
      "                                         3.736802671839935,\n",
      "                                         3.736802671839935],\n",
      "                  'source_light_model_list': ['SERSIC_ELLIPSE'],\n",
      "                  'source_redshift_list': [9.984366269828305],\n",
      "                  'z_source': 9.984366269828305},\n",
      " 'kwargs_params': {'kwargs_lens': [{'center_x': 0.03559001493198126,\n",
      "                                    'center_y': 0.02656711759092284,\n",
      "                                    'e1': 0.2838247500843983,\n",
      "                                    'e2': -0.006400520960336145,\n",
      "                                    'theta_E': 1.9868347664196162},\n",
      "                                   {'dec_0': 0,\n",
      "                                    'gamma1': -0.0,\n",
      "                                    'gamma2': 0.0,\n",
      "                                    'ra_0': 0},\n",
      "                                   {'dec_0': 0, 'kappa': 0.0, 'ra_0': 0}],\n",
      "                   'kwargs_lens_light': [{'R_sersic': 3.7126486883163237,\n",
      "                                          'center_x': 0.03559001493198126,\n",
      "                                          'center_y': 0.02656711759092284,\n",
      "                                          'e1': 0.051417623046575864,\n",
      "                                          'e2': 0.023435550332673118,\n",
      "                                          'magnitude': 22.359104575600753,\n",
      "                                          'n_sersic': 4.0}],\n",
      "                   'kwargs_ps': None,\n",
      "                   'kwargs_source': [{'R_sersic': 1.2446271972626446,\n",
      "                                      'center_x': -0.35534664478014855,\n",
      "                                      'center_y': -0.6040865371475348,\n",
      "                                      'e1': 0.07029967722869615,\n",
      "                                      'e2': -0.17523307945801594,\n",
      "                                      'magnitude': 26.903098192302036,\n",
      "                                      'n_sersic': 1.0}]},\n",
      " 'lens_cosmo': None,\n",
      " 'name': 'roman_hlwas_wide_00000000',\n",
      " 'physical_params': {'lens_stellar_mass': 2498319033984.792,\n",
      "                     'lens_velocity_dispersion': 515.8541698671012,\n",
      "                     'magnification': 3.6120158069772814,\n",
      "                     'magnitudes': {'lens': {'F062': 22.359104575600753,\n",
      "                                             'F087': 22.129061702958538,\n",
      "                                             'F106': 22.005617228600705,\n",
      "                                             'F129': 21.839504569653634,\n",
      "                                             'F146': 21.567021237022168,\n",
      "                                             'F158': 21.503785869361785,\n",
      "                                             'F184': 21.018851767408435,\n",
      "                                             'F213': 20.60262559298414},\n",
      "                                    'lensed_source': {'F062': 25.50872408676703,\n",
      "                                                      'F087': 24.01736764952655,\n",
      "                                                      'F106': 21.741453319108714,\n",
      "                                                      'F129': 21.07584753198941,\n",
      "                                                      'F146': 21.1594483663143,\n",
      "                                                      'F158': 20.923976288947408,\n",
      "                                                      'F184': 20.87931586214635,\n",
      "                                                      'F213': 20.750483422283303},\n",
      "                                    'source': {'F062': 26.903098192302036,\n",
      "                                               'F087': 25.411741755061552,\n",
      "                                               'F106': 23.13582742464372,\n",
      "                                               'F129': 22.470221637524414,\n",
      "                                               'F146': 22.553822471849305,\n",
      "                                               'F158': 22.31835039448241,\n",
      "                                               'F184': 22.273689967681353,\n",
      "                                               'F213': 22.144857527818306}}},\n",
      " 'realization': None,\n",
      " 'use_jax': [True, True, True],\n",
      " 'z_lens': 3.736802671839935,\n",
      " 'z_source': 9.984366269828305}\n"
     ]
    }
   ],
   "source": [
    "pprint(sample_lens.__dict__)"
   ]
  }
 ],
 "metadata": {
  "kernelspec": {
   "display_name": "mejiro-v2",
   "language": "python",
   "name": "python3"
  },
  "language_info": {
   "codemirror_mode": {
    "name": "ipython",
    "version": 3
   },
   "file_extension": ".py",
   "mimetype": "text/x-python",
   "name": "python",
   "nbconvert_exporter": "python",
   "pygments_lexer": "ipython3",
   "version": "3.10.6"
  }
 },
 "nbformat": 4,
 "nbformat_minor": 2
}
