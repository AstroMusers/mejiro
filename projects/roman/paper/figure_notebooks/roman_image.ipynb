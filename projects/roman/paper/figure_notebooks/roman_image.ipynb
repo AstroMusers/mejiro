{
 "cells": [
  {
   "cell_type": "code",
   "execution_count": 1,
   "metadata": {},
   "outputs": [],
   "source": [
    "import matplotlib.colors as colors\n",
    "import matplotlib.pyplot as plt\n",
    "import numpy as np\n",
    "import os\n",
    "import sys\n",
    "from glob import glob\n",
    "from hydra import initialize, compose\n",
    "from lenstronomy.Plots import plot_util\n",
    "\n",
    "# set paths to various directories based on the machine this code is being executed on\n",
    "try:\n",
    "    with initialize(version_base=None, config_path='config'):\n",
    "        config = compose(config_name='config.yaml')  # overrides=['machine=uzay']\n",
    "except:\n",
    "    with initialize(version_base=None, config_path='../../config'):\n",
    "        config = compose(config_name='config.yaml')  # overrides=['machine=uzay']\n",
    "\n",
    "array_dir, data_dir, figure_dir, pickle_dir, repo_dir = config.machine.array_dir, config.machine.data_dir, config.machine.figure_dir, config.machine.pickle_dir, config.machine.repo_dir\n",
    "\n",
    "# enable use of local modules\n",
    "if repo_dir not in sys.path:\n",
    "    sys.path.append(repo_dir)\n",
    "\n",
    "# set matplotlib style\n",
    "plt.style.use(f'{repo_dir}/mejiro/mplstyle/science.mplstyle')\n",
    "\n",
    "from mejiro.plots import overplot, plot\n",
    "from mejiro.lenses import lens_util\n",
    "from mejiro.utils import util"
   ]
  },
  {
   "cell_type": "code",
   "execution_count": 2,
   "metadata": {},
   "outputs": [
    {
     "name": "stdout",
     "output_type": "stream",
     "text": [
      "pipeline_dir: /data/bwedig/mejiro/pipeline\n"
     ]
    }
   ],
   "source": [
    "pipeline_params = util.hydra_to_dict(config.pipeline)\n",
    "debugging = pipeline_params['debugging']\n",
    "\n",
    "if debugging:\n",
    "    pipeline_dir = f'{config.machine.pipeline_dir}_dev'\n",
    "else:\n",
    "    pipeline_dir = config.machine.pipeline_dir\n",
    "\n",
    "print(f'pipeline_dir: {pipeline_dir}')"
   ]
  },
  {
   "cell_type": "code",
   "execution_count": null,
   "metadata": {},
   "outputs": [],
   "source": [
    "lens, rgb_model, rgb_image = lens_util.get_sample(pipeline_dir, 52)\n",
    "\n",
    "plt.imshow(rgb_image)\n",
    "plt.title(rgb_image.shape)\n",
    "plt.show()"
   ]
  },
  {
   "cell_type": "code",
   "execution_count": null,
   "metadata": {},
   "outputs": [],
   "source": [
    "num_pix = 45\n",
    "coords = lens_util.get_coords(num_pix)\n",
    "\n",
    "r_image = rgb_image[:, :, 0]\n",
    "g_image = rgb_image[:, :, 1]\n",
    "b_image = rgb_image[:, :, 2]\n",
    "\n",
    "r_image = util.center_crop_image(r_image, (num_pix, num_pix))\n",
    "g_image = util.center_crop_image(g_image, (num_pix, num_pix))\n",
    "b_image = util.center_crop_image(b_image, (num_pix, num_pix))\n",
    "\n",
    "rgb_image = np.stack([r_image, g_image, b_image], axis=2)\n",
    "print(rgb_image.shape)"
   ]
  },
  {
   "cell_type": "code",
   "execution_count": null,
   "metadata": {},
   "outputs": [],
   "source": [
    "fig, ax = plt.subplots(figsize=(3.5, 3.5))\n",
    "\n",
    "ax.imshow(rgb_image, cmap='binary')\n",
    "\n",
    "overplot.source_position(ax, lens, coords, alpha=1, color='orange', size=7.5)\n",
    "overplot.lens_position(ax, lens, coords, alpha=1, color='red', size=7.5)\n",
    "overplot.caustics(ax, lens, coords, num_pix, delta_pix=0.11, linewidth=2.5, alpha=0.6, color='g')\n",
    "overplot.critical_curves(ax, lens, coords, num_pix, delta_pix=0.11, linewidth=2.5, alpha=0.6, color='b')\n",
    "\n",
    "plot_util.scale_bar(ax, d=rgb_image.shape[0], dist=1 / 0.11, text='1\"', color='w', flipped=True)\n",
    "# plot_util.coordinate_arrows(ax, d=lens.num_pix * .95, coords=lens.coords, color='w', font_size=15, arrow_size=0.02)\n",
    "\n",
    "plt.axis(False)\n",
    "# plt.legend(fontsize=12, bbox_to_anchor = (1.65, 0.5), loc='center right')\n",
    "\n",
    "plt.savefig(os.path.join(figure_dir, 'roman_image.png'))\n",
    "plt.show()"
   ]
  },
  {
   "cell_type": "code",
   "execution_count": null,
   "metadata": {},
   "outputs": [],
   "source": [
    "from lenstronomy.Plots import lens_plot\n",
    "\n",
    "f, axex = plt.subplots(1, 1, figsize=(5, 5))\n",
    "lens_plot.lens_model_plot(axex, lensModel=lens.lens_model_class, kwargs_lens=lens.kwargs_lens,\n",
    "                          sourcePos_x=lens.kwargs_source_dict['F106']['center_x'],\n",
    "                          sourcePos_y=lens.kwargs_source_dict['F106']['center_y'], point_source=True,\n",
    "                          with_caustics=True, fast_caustic=False, coord_inverse=False)"
   ]
  },
  {
   "cell_type": "markdown",
   "metadata": {},
   "source": [
    "[critical lines are confusing, but this looks right](https://www.researchgate.net/figure/Three-basic-configurations-of-quad-lenses-cusp-top-fold-middle-and-cross-bottom_fig2_301817913)"
   ]
  },
  {
   "cell_type": "code",
   "execution_count": 3,
   "metadata": {},
   "outputs": [
    {
     "name": "stdout",
     "output_type": "stream",
     "text": [
      "Computing on pixel grid of size 235x235 (5.17\"x5.17\") with pixel scale 0.022 arcsec/pixel (natively 0.11 arcsec/pixel oversampled by factor 5)\n",
      "Computing with kwargs_numerics: {'supersampling_factor': 3, 'compute_mode': 'adaptive', 'supersampled_indexes': array([[False, False, False, ..., False, False, False],\n",
      "       [False, False, False, ..., False, False, False],\n",
      "       [False, False, False, ..., False, False, False],\n",
      "       ...,\n",
      "       [False, False, False, ..., False, False, False],\n",
      "       [False, False, False, ..., False, False, False],\n",
      "       [False, False, False, ..., False, False, False]])}\n",
      "Initialized SyntheticImage for StrongLens SAMPLE by Roman in F106 band\n",
      "Loading cached PSF: /data/bwedig/mejiro/cached_psfs/F106_1_2048_2048_5_101.npy\n",
      "Exposure calculation time with galsim engine: 0:00:04\n",
      "Computing on pixel grid of size 235x235 (5.17\"x5.17\") with pixel scale 0.022 arcsec/pixel (natively 0.11 arcsec/pixel oversampled by factor 5)\n",
      "Computing with kwargs_numerics: {'supersampling_factor': 3, 'compute_mode': 'adaptive', 'supersampled_indexes': array([[False, False, False, ..., False, False, False],\n",
      "       [False, False, False, ..., False, False, False],\n",
      "       [False, False, False, ..., False, False, False],\n",
      "       ...,\n",
      "       [False, False, False, ..., False, False, False],\n",
      "       [False, False, False, ..., False, False, False],\n",
      "       [False, False, False, ..., False, False, False]])}\n",
      "Initialized SyntheticImage for StrongLens SAMPLE by Roman in F129 band\n",
      "Loading cached PSF: /data/bwedig/mejiro/cached_psfs/F129_1_2048_2048_5_101.npy\n",
      "Exposure calculation time with galsim engine: 0:00:00\n",
      "Computing on pixel grid of size 235x235 (5.17\"x5.17\") with pixel scale 0.022 arcsec/pixel (natively 0.11 arcsec/pixel oversampled by factor 5)\n",
      "Computing with kwargs_numerics: {'supersampling_factor': 3, 'compute_mode': 'adaptive', 'supersampled_indexes': array([[False, False, False, ..., False, False, False],\n",
      "       [False, False, False, ..., False, False, False],\n",
      "       [False, False, False, ..., False, False, False],\n",
      "       ...,\n",
      "       [False, False, False, ..., False, False, False],\n",
      "       [False, False, False, ..., False, False, False],\n",
      "       [False, False, False, ..., False, False, False]])}\n",
      "Initialized SyntheticImage for StrongLens SAMPLE by Roman in F184 band\n",
      "Loading cached PSF: /data/bwedig/mejiro/cached_psfs/F184_1_2048_2048_5_101.npy\n",
      "Exposure calculation time with galsim engine: 0:00:00\n"
     ]
    }
   ],
   "source": [
    "from mejiro.instruments.roman import Roman\n",
    "from mejiro.synthetic_image import SyntheticImage\n",
    "from mejiro.exposure import Exposure\n",
    "from mejiro.lenses.test import SampleStrongLens\n",
    "\n",
    "roman = Roman()\n",
    "lens = SampleStrongLens()\n",
    "bands = ['F106', 'F129', 'F184']\n",
    "scene_size = 5  # arcsec\n",
    "oversample = 5\n",
    "exposure_time = 146\n",
    "\n",
    "realization = lens.generate_cdm_subhalos()\n",
    "lens.add_subhalos(realization)\n",
    "\n",
    "exposures = []\n",
    "for band in bands:\n",
    "    synthetic_image = SyntheticImage(strong_lens=lens,\n",
    "                                     instrument=roman,\n",
    "                                     band=band,\n",
    "                                     arcsec=scene_size,\n",
    "                                     oversample=oversample)\n",
    "\n",
    "    exposure = Exposure(synthetic_image,\n",
    "                        exposure_time=exposure_time,\n",
    "                        check_cache=True)\n",
    "\n",
    "    exposures.append(exposure.exposure)"
   ]
  },
  {
   "cell_type": "code",
   "execution_count": 4,
   "metadata": {},
   "outputs": [
    {
     "data": {
      "image/png": "[encoded data removed]",
      "text/plain": [
       "<Figure size 1500x500 with 3 Axes>"
      ]
     },
     "metadata": {},
     "output_type": "display_data"
    }
   ],
   "source": [
    "exposures = [i / 146 for i in exposures]\n",
    "\n",
    "_, ax = plt.subplots(1, 3, figsize=(15, 5))\n",
    "\n",
    "for i, a in enumerate(ax):\n",
    "    a.imshow(exposures[i])"
   ]
  },
  {
   "cell_type": "code",
   "execution_count": 5,
   "metadata": {},
   "outputs": [
    {
     "name": "stdout",
     "output_type": "stream",
     "text": [
      "{'R_sersic': 0.1651633078964498,\n",
      " 'center_x': 0.30298310338567075,\n",
      " 'center_y': -0.3505004565139597,\n",
      " 'e1': -0.06350855238708408,\n",
      " 'e2': -0.08420760408362458,\n",
      " 'magnitude': 21.434711611915137,\n",
      " 'n_sersic': 1.0}\n"
     ]
    }
   ],
   "source": [
    "from pprint import pprint\n",
    "\n",
    "pprint(lens.kwargs_source_dict['F106'])"
   ]
  },
  {
   "cell_type": "code",
   "execution_count": 6,
   "metadata": {},
   "outputs": [],
   "source": [
    "# from lenstronomy.Plots import lens_plot\n",
    "# f, axex = plt.subplots(1, 1, figsize=(5, 5))\n",
    "# lens_plot.lens_model_plot(axex, lensModel=lens.lens_model_class, kwargs_lens=lens.kwargs_lens, sourcePos_x=lens.kwargs_source_dict['F106']['center_x'], sourcePos_y=lens.kwargs_source_dict['F106']['center_y'], point_source=True, with_caustics=True, fast_caustic=False, coord_inverse=False)"
   ]
  },
  {
   "cell_type": "code",
   "execution_count": 13,
   "metadata": {},
   "outputs": [
    {
     "data": {
      "image/png": "[encoded data removed]",
      "text/plain": [
       "<Figure size 350x350 with 1 Axes>"
      ]
     },
     "metadata": {},
     "output_type": "display_data"
    }
   ],
   "source": [
    "from mejiro.helpers import color\n",
    "\n",
    "rgb_image = color.get_rgb(image_b=exposures[0], image_g=exposures[1], image_r=exposures[2], stretch=4, Q=6)\n",
    "\n",
    "fig, ax = plt.subplots(figsize=(3.5, 3.5))\n",
    "\n",
    "ax.imshow(rgb_image, cmap='binary')\n",
    "\n",
    "coords = lens_util.get_coords(rgb_image.shape[0])\n",
    "overplot.source_position(ax, lens, coords, alpha=1, color='orange', size=7.5)\n",
    "overplot.lens_position(ax, lens, coords, alpha=1, color='red', size=7.5)\n",
    "overplot.caustics(ax, lens, coords, num_pix=synthetic_image.native_num_pix, delta_pix=0.11, linewidth=2.5, alpha=0.6,\n",
    "                  color='g')\n",
    "overplot.critical_curves(ax, lens, coords, num_pix=synthetic_image.native_num_pix, delta_pix=0.11, linewidth=2.5,\n",
    "                         alpha=0.6, color='b')\n",
    "\n",
    "plot_util.scale_bar(ax, d=rgb_image.shape[0], dist=1 / 0.11, text='1\"', color='w', flipped=True)\n",
    "# plot_util.coordinate_arrows(ax, d=lens.num_pix * .95, coords=lens.coords, color='w', font_size=15, arrow_size=0.02)\n",
    "\n",
    "plt.axis(False)\n",
    "# plt.legend(fontsize=12, bbox_to_anchor = (1.65, 0.5), loc='center right')\n",
    "\n",
    "plt.savefig(os.path.join(figure_dir, 'roman_image.png'))\n",
    "plt.show()"
   ]
  }
 ],
 "metadata": {
  "kernelspec": {
   "display_name": "mejiro",
   "language": "python",
   "name": "python3"
  },
  "language_info": {
   "codemirror_mode": {
    "name": "ipython",
    "version": 3
   },
   "file_extension": ".py",
   "mimetype": "text/x-python",
   "name": "python",
   "nbconvert_exporter": "python",
   "pygments_lexer": "ipython3",
   "version": "3.10.6"
  }
 },
 "nbformat": 4,
 "nbformat_minor": 2
}
