{
 "cells": [
  {
   "cell_type": "code",
   "execution_count": 1,
   "id": "bd278fed",
   "metadata": {},
   "outputs": [],
   "source": [
    "import datetime\n",
    "import json\n",
    "import os\n",
    "import yaml\n",
    "\n",
    "from glob import glob\n",
    "from pprint import pprint\n",
    "\n",
    "\n",
    "# read configuration file\n",
    "with open('roman_test.yaml', 'r') as f:\n",
    "    config = yaml.load(f, Loader=yaml.SafeLoader)\n",
    "\n",
    "if config['dev']:\n",
    "    config['pipeline_label'] += '_dev'"
   ]
  },
  {
   "cell_type": "code",
   "execution_count": 2,
   "id": "6ab57144",
   "metadata": {},
   "outputs": [
    {
     "name": "stdout",
     "output_type": "stream",
     "text": [
      "{'01': '0:31:57',\n",
      " '02': '0:00:32',\n",
      " '03': '0:07:41',\n",
      " '04': '2:14:56',\n",
      " '05': '0:01:43',\n",
      " 'snr': '0:00:15'}\n"
     ]
    }
   ],
   "source": [
    "with open(os.path.join(config['data_dir'], config['pipeline_label'], 'execution_times.json'), 'r') as f:\n",
    "    execution_times = json.load(f)\n",
    "\n",
    "pprint(execution_times)"
   ]
  },
  {
   "cell_type": "code",
   "execution_count": 3,
   "id": "0a394fba",
   "metadata": {},
   "outputs": [
    {
     "name": "stdout",
     "output_type": "stream",
     "text": [
      "Total pipeline execution time: 2:57:04, 10624 seconds, 2.95 hours\n"
     ]
    }
   ],
   "source": [
    "total_time = 0\n",
    "for script_name, times in execution_times.items():\n",
    "    h, m, s = times.split(':')\n",
    "    if 'days' in h:\n",
    "        d, h = h.split('days, ')\n",
    "        h = int(d) * 24 + int(h)\n",
    "    elif 'day' in h:\n",
    "        d, h = h.split('day, ')\n",
    "        h = int(d) * 24 + int(h)\n",
    "    time = (int(h) * 3600) + (int(m) * 60) + int(s)\n",
    "    total_time += time\n",
    "\n",
    "print(\n",
    "    f'Total pipeline execution time: {datetime.timedelta(seconds=total_time)}, {total_time} seconds, {total_time / 3600:.2f} hours')"
   ]
  },
  {
   "cell_type": "code",
   "execution_count": 4,
   "id": "aa85fe5b",
   "metadata": {},
   "outputs": [
    {
     "name": "stdout",
     "output_type": "stream",
     "text": [
      "Execution time per system: 2.383 seconds\n"
     ]
    }
   ],
   "source": [
    "data_dir = os.path.join(config['data_dir'], config['pipeline_label'], '05')\n",
    "\n",
    "pickles = sorted(glob(os.path.join(data_dir, 'sca*', 'Exposure_*.pkl')))\n",
    "# pickles = sorted(glob(os.path.join(data_dir, 'Exposure_*.pkl')))\n",
    "\n",
    "if len(pickles) > 0:\n",
    "    print(f'Execution time per system: {total_time / len(pickles):.3f} seconds')\n",
    "else:\n",
    "    raise ValueError(f'No pickled exposures found in {data_dir}')"
   ]
  }
 ],
 "metadata": {
  "kernelspec": {
   "display_name": "mejiro-v2",
   "language": "python",
   "name": "python3"
  },
  "language_info": {
   "codemirror_mode": {
    "name": "ipython",
    "version": 3
   },
   "file_extension": ".py",
   "mimetype": "text/x-python",
   "name": "python",
   "nbconvert_exporter": "python",
   "pygments_lexer": "ipython3",
   "version": "3.10.6"
  }
 },
 "nbformat": 4,
 "nbformat_minor": 5
}
