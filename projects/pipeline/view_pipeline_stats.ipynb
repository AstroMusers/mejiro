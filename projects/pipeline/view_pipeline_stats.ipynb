{
 "cells": [
  {
   "cell_type": "code",
   "execution_count": 1,
   "id": "bd278fed",
   "metadata": {},
   "outputs": [],
   "source": [
    "import datetime\n",
    "import json\n",
    "import os\n",
    "import yaml\n",
    "\n",
    "from pprint import pprint\n",
    "\n",
    "\n",
    "# read configuration file\n",
    "with open('roman_test.yaml', 'r') as f:\n",
    "    config = yaml.load(f, Loader=yaml.SafeLoader)"
   ]
  },
  {
   "cell_type": "code",
   "execution_count": 2,
   "id": "3d2a280a",
   "metadata": {},
   "outputs": [],
   "source": [
    "if config['dev']:\n",
    "    config['pipeline_label'] += '_dev'"
   ]
  },
  {
   "cell_type": "code",
   "execution_count": 3,
   "id": "6ab57144",
   "metadata": {},
   "outputs": [
    {
     "name": "stdout",
     "output_type": "stream",
     "text": [
      "{'01': '0:05:51',\n",
      " '02': '0:00:08',\n",
      " '03': '0:01:54',\n",
      " '04': '0:04:55',\n",
      " '05': '0:00:09'}\n"
     ]
    }
   ],
   "source": [
    "with open(os.path.join(config['data_dir'], config['pipeline_label'], 'execution_times.json'), 'r') as f:\n",
    "    execution_times = json.load(f)\n",
    "\n",
    "pprint(execution_times)"
   ]
  },
  {
   "cell_type": "code",
   "execution_count": 5,
   "id": "0a394fba",
   "metadata": {},
   "outputs": [
    {
     "name": "stdout",
     "output_type": "stream",
     "text": [
      "Total pipeline execution time: 0:12:57, 777 seconds, 0.22 hours\n"
     ]
    }
   ],
   "source": [
    "total_time = 0\n",
    "for script_name, times in execution_times.items():\n",
    "    h, m, s = times.split(':')\n",
    "    if 'days' in h:\n",
    "        d, h = h.split('days, ')\n",
    "        h = int(d) * 24 + int(h)\n",
    "    elif 'day' in h:\n",
    "        d, h = h.split('day, ')\n",
    "        h = int(d) * 24 + int(h)\n",
    "    time = (int(h) * 3600) + (int(m) * 60) + int(s)\n",
    "    total_time += time\n",
    "\n",
    "print(\n",
    "    f'Total pipeline execution time: {datetime.timedelta(seconds=total_time)}, {total_time} seconds, {total_time / 3600:.2f} hours')"
   ]
  }
 ],
 "metadata": {
  "kernelspec": {
   "display_name": "mejiro-v2",
   "language": "python",
   "name": "python3"
  },
  "language_info": {
   "codemirror_mode": {
    "name": "ipython",
    "version": 3
   },
   "file_extension": ".py",
   "mimetype": "text/x-python",
   "name": "python",
   "nbconvert_exporter": "python",
   "pygments_lexer": "ipython3",
   "version": "3.10.6"
  }
 },
 "nbformat": 4,
 "nbformat_minor": 5
}
