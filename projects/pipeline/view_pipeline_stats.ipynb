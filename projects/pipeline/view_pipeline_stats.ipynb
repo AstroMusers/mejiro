{
 "cells": [
  {
   "cell_type": "code",
   "execution_count": null,
   "id": "bd278fed",
   "metadata": {},
   "outputs": [],
   "source": [
    "import datetime\n",
    "import json\n",
    "import os\n",
    "import yaml\n",
    "\n",
    "from glob import glob\n",
    "from pprint import pprint\n",
    "\n",
    "\n",
    "# read configuration file\n",
    "with open('roman_test.yaml', 'r') as f:\n",
    "    config = yaml.load(f, Loader=yaml.SafeLoader)\n",
    "\n",
    "if config['dev']:\n",
    "    config['pipeline_label'] += '_dev'"
   ]
  },
  {
   "cell_type": "code",
   "execution_count": null,
   "id": "6ab57144",
   "metadata": {},
   "outputs": [],
   "source": [
    "with open(os.path.join(config['data_dir'], config['pipeline_label'], 'execution_times.json'), 'r') as f:\n",
    "    execution_times = json.load(f)\n",
    "\n",
    "pprint(execution_times)"
   ]
  },
  {
   "cell_type": "code",
   "execution_count": null,
   "id": "0a394fba",
   "metadata": {},
   "outputs": [],
   "source": [
    "total_time = 0\n",
    "for script_name, times in execution_times.items():\n",
    "    h, m, s = times.split(':')\n",
    "    if 'days' in h:\n",
    "        d, h = h.split('days, ')\n",
    "        h = int(d) * 24 + int(h)\n",
    "    elif 'day' in h:\n",
    "        d, h = h.split('day, ')\n",
    "        h = int(d) * 24 + int(h)\n",
    "    time = (int(h) * 3600) + (int(m) * 60) + int(s)\n",
    "    total_time += time\n",
    "\n",
    "print(\n",
    "    f'Total pipeline execution time: {datetime.timedelta(seconds=total_time)}, {total_time} seconds, {total_time / 3600:.2f} hours')"
   ]
  },
  {
   "cell_type": "code",
   "execution_count": null,
   "id": "aa85fe5b",
   "metadata": {},
   "outputs": [],
   "source": [
    "data_dir = os.path.join(config['data_dir'], config['pipeline_label'], '05')\n",
    "\n",
    "pickles = sorted(glob(os.path.join(data_dir, 'sca*', 'Exposure_*.pkl')))\n",
    "# pickles = sorted(glob(os.path.join(data_dir, 'Exposure_*.pkl')))\n",
    "\n",
    "if len(pickles) > 0:\n",
    "    print(f'Execution time per system: {total_time / len(pickles):.3f} seconds')\n",
    "else:\n",
    "    raise ValueError(f'No pickled exposures found in {data_dir}')"
   ]
  }
 ],
 "metadata": {
  "kernelspec": {
   "display_name": "mejiro-v2",
   "language": "python",
   "name": "python3"
  },
  "language_info": {
   "codemirror_mode": {
    "name": "ipython",
    "version": 3
   },
   "file_extension": ".py",
   "mimetype": "text/x-python",
   "name": "python",
   "nbconvert_exporter": "python",
   "pygments_lexer": "ipython3",
   "version": "3.10.6"
  }
 },
 "nbformat": 4,
 "nbformat_minor": 5
}
