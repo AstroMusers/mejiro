{
 "cells": [
  {
   "cell_type": "code",
   "execution_count": 7,
   "metadata": {},
   "outputs": [],
   "source": [
    "import os\n",
    "import yaml\n",
    "from glob import glob\n",
    "from pprint import pprint\n",
    "\n",
    "from mejiro.utils import util\n",
    "\n",
    "# read configuration file\n",
    "with open('roman_data_challenge_rung_1.yaml', 'r') as f:\n",
    "    config = yaml.load(f, Loader=yaml.SafeLoader)\n",
    "\n",
    "if config['dev']:\n",
    "    config['pipeline_label'] += '_dev'"
   ]
  },
  {
   "cell_type": "code",
   "execution_count": 8,
   "metadata": {},
   "outputs": [
    {
     "name": "stdout",
     "output_type": "stream",
     "text": [
      "Found 19 system(s) in /nfsdata1/bwedig/mejiro/roman_data_challenge_rung_1_dev/02\n"
     ]
    }
   ],
   "source": [
    "data_dir = os.path.join(config['data_dir'], config['pipeline_label'], '02')\n",
    "\n",
    "pickles = sorted(glob(os.path.join(data_dir, '*', '*.pkl')))\n",
    "sample_lenses = [util.unpickle(f) for f in pickles]\n",
    "print(f'Found {len(sample_lenses)} system(s) in {data_dir}')"
   ]
  },
  {
   "cell_type": "code",
   "execution_count": 9,
   "metadata": {},
   "outputs": [
    {
     "name": "stdout",
     "output_type": "stream",
     "text": [
      "StrongLens(name=roman_data_challenge_rung_1_00000000, coords=None, z_lens=0.8709999999999993, z_source=1.8509634329853615)\n"
     ]
    }
   ],
   "source": [
    "sample_lens = sample_lenses[0]\n",
    "\n",
    "print(sample_lens)"
   ]
  },
  {
   "cell_type": "code",
   "execution_count": 10,
   "metadata": {},
   "outputs": [],
   "source": [
    "# from collections import Counter\n",
    "\n",
    "# galaxy_ids = [l.physical_params.get('galaxy_id') for l in sample_lenses]\n",
    "# repeat_list = []\n",
    "\n",
    "# counts = Counter(galaxy_ids)\n",
    "# for galaxy_id, count in counts.items():\n",
    "#     print(f'galaxy_id {galaxy_id} appears {count} times')\n",
    "#     repeat_list.append(count)"
   ]
  },
  {
   "cell_type": "code",
   "execution_count": 11,
   "metadata": {},
   "outputs": [],
   "source": [
    "# import matplotlib.pyplot as plt\n",
    "# import numpy as np\n",
    "\n",
    "# plt.figure(figsize=(6, 4))\n",
    "# plt.plot(np.linspace(0, len(repeat_list), len(repeat_list)), sorted(repeat_list, reverse=True))\n",
    "# plt.title(f'Repeated COSMOS Sources\\n{len(galaxy_ids)} Strong Lenses, {len(repeat_list)} Unique Sources')\n",
    "# plt.xlabel('Rank in Number of Repetitions')\n",
    "# plt.ylabel('Number of Repetitions')\n",
    "# plt.show()"
   ]
  },
  {
   "cell_type": "code",
   "execution_count": 12,
   "metadata": {},
   "outputs": [
    {
     "name": "stdout",
     "output_type": "stream",
     "text": [
      "{'coords': None,\n",
      " 'cosmo': FlatLambdaCDM(name='Planck18',\n",
      "                        H0=<Quantity 67.66 km / (Mpc s)>,\n",
      "                        Om0=0.30966,\n",
      "                        Tcmb0=<Quantity 2.7255 K>,\n",
      "                        Neff=3.046,\n",
      "                        m_nu=<Quantity [0.  , 0.  , 0.06] eV>,\n",
      "                        Ob0=0.04897),\n",
      " 'kwargs_lens_macromodel': None,\n",
      " 'kwargs_model': {'cosmo': FlatLambdaCDM(name='Planck18',\n",
      "                                         H0=<Quantity 67.66 km / (Mpc s)>,\n",
      "                                         Om0=0.30966,\n",
      "                                         Tcmb0=<Quantity 2.7255 K>,\n",
      "                                         Neff=3.046,\n",
      "                                         m_nu=<Quantity [0.  , 0.  , 0.06] eV>,\n",
      "                                         Ob0=0.04897),\n",
      "                  'lens_light_model_list': ['HERNQUIST_ELLIPSE'],\n",
      "                  'lens_model_list': ['NFW_ELLIPSE_CSE',\n",
      "                                      'HERNQUIST_ELLIPSE_CSE',\n",
      "                                      'SHEAR',\n",
      "                                      'CONVERGENCE'],\n",
      "                  'lens_redshift_list': [0.8709999999999993,\n",
      "                                         0.8709999999999993,\n",
      "                                         0.8709999999999993,\n",
      "                                         0.8709999999999993],\n",
      "                  'point_source_model_list': [],\n",
      "                  'source_light_model_list': ['INTERPOL'],\n",
      "                  'source_redshift_list': [1.8509634329853615],\n",
      "                  'z_source': 1.8509634329853615},\n",
      " 'kwargs_params': {'kwargs_lens': [{'Rs': 9.123228588654994,\n",
      "                                    'alpha_Rs': 1.47828801158096,\n",
      "                                    'center_x': -0.011482739832824282,\n",
      "                                    'center_y': -0.01984479427682466,\n",
      "                                    'e1': 0.11174382979781,\n",
      "                                    'e2': 0.018720297631576},\n",
      "                                   {'Rs': 0.29663277105017843,\n",
      "                                    'center_x': -0.011482739832824282,\n",
      "                                    'center_y': -0.01984479427682466,\n",
      "                                    'e1': 0.1505432417273468,\n",
      "                                    'e2': 0.020012565978630506,\n",
      "                                    'sigma0': 1.8202413754487077},\n",
      "                                   {'dec_0': 0,\n",
      "                                    'gamma1': 0.0,\n",
      "                                    'gamma2': 0.0,\n",
      "                                    'ra_0': 0},\n",
      "                                   {'dec_0': 0, 'kappa': 0.0, 'ra_0': 0}],\n",
      "                   'kwargs_lens_light': [{'Rs': 0.29663277105017843,\n",
      "                                          'center_x': -0.011482739832824282,\n",
      "                                          'center_y': -0.01984479427682466,\n",
      "                                          'e1': 0.1505432417273468,\n",
      "                                          'e2': 0.020012565978630506,\n",
      "                                          'magnitude': 23.65398883863935}],\n",
      "                   'kwargs_ps': [],\n",
      "                   'kwargs_source': [{'center_x': -0.2000709790747104,\n",
      "                                      'center_y': -0.35836317108583066,\n",
      "                                      'image': array([[ 4.2558881e-03,  6.4493675e-04, -2.5631749e-04, ...,\n",
      "         2.8653506e-03,  7.6396288e-03,  2.1439851e-03],\n",
      "       [ 5.3211316e-03,  6.3440262e-04, -1.6888625e-03, ...,\n",
      "         2.7274857e-03,  8.6589428e-03,  2.8547002e-03],\n",
      "       [ 2.2637115e-03,  5.4984278e-04, -1.5186758e-03, ...,\n",
      "        -3.0950916e-03, -4.5634606e-03, -2.3418956e-03],\n",
      "       ...,\n",
      "       [-1.5418598e-03, -4.1512689e-03, -8.1538019e-06, ...,\n",
      "        -3.1160102e-03, -5.4323450e-03,  2.5764131e-03],\n",
      "       [ 1.7360771e-03,  5.1192794e-04,  2.3062560e-03, ...,\n",
      "         1.1053593e-03, -1.5671512e-03, -1.0075513e-05],\n",
      "       [-3.3503904e-03, -1.6753204e-04,  3.4993996e-03, ...,\n",
      "         1.5173375e-03, -4.6451925e-04, -7.7116420e-06]], dtype=float32),\n",
      "                                      'magnitude': 25.841035767455022,\n",
      "                                      'phi_G': 0.7843718387746765,\n",
      "                                      'scale': 0.005805565915806616}]},\n",
      " 'lens_cosmo': None,\n",
      " 'lens_model_list_macromodel': None,\n",
      " 'lens_model_macromodel': None,\n",
      " 'lens_redshift_list_macromodel': None,\n",
      " 'name': 'roman_data_challenge_rung_1_00000000',\n",
      " 'physical_params': {'einstein_radius': 0.8317927289264411,\n",
      "                     'galaxy_id': 183064,\n",
      "                     'lens_stellar_mass': 161999748034.05316,\n",
      "                     'lens_velocity_dispersion': 190.98440099362819,\n",
      "                     'magnification': 4.828767524868819,\n",
      "                     'magnitudes': {'lens': {'F062': 23.65398883863935,\n",
      "                                             'F087': 21.89647595464794,\n",
      "                                             'F106': 21.332962030952388,\n",
      "                                             'F129': 20.946316964063215,\n",
      "                                             'F146': 20.792956344790014,\n",
      "                                             'F158': 20.600981204735845,\n",
      "                                             'F184': 20.338394758355598,\n",
      "                                             'F213': 20.199954510856458},\n",
      "                                    'lensed_source': {'F062': 24.131445024143105,\n",
      "                                                      'F087': 23.849312967103224,\n",
      "                                                      'F106': 23.401084443785543,\n",
      "                                                      'F129': 22.922069930307224,\n",
      "                                                      'F146': 22.893254923744855,\n",
      "                                                      'F158': 22.74249976835509,\n",
      "                                                      'F184': 22.503355391850548,\n",
      "                                                      'F213': 22.46935696263361},\n",
      "                                    'source': {'F062': 25.841035767455022,\n",
      "                                               'F087': 25.55890371041514,\n",
      "                                               'F106': 25.11067518709746,\n",
      "                                               'F129': 24.63166067361914,\n",
      "                                               'F146': 24.602845667056773,\n",
      "                                               'F158': 24.452090511667006,\n",
      "                                               'F184': 24.212946135162465,\n",
      "                                               'F213': 24.17894770594553}},\n",
      "                     'main_halo_concentration': 6.043956505700721,\n",
      "                     'main_halo_mass': 24320123724135.04},\n",
      " 'realization': None,\n",
      " 'use_jax': [True, True, True, True],\n",
      " 'z_lens': 0.8709999999999993,\n",
      " 'z_source': 1.8509634329853615}\n"
     ]
    }
   ],
   "source": [
    "pprint(sample_lens.__dict__)"
   ]
  }
 ],
 "metadata": {
  "kernelspec": {
   "display_name": "mejiro-v2",
   "language": "python",
   "name": "python3"
  },
  "language_info": {
   "codemirror_mode": {
    "name": "ipython",
    "version": 3
   },
   "file_extension": ".py",
   "mimetype": "text/x-python",
   "name": "python",
   "nbconvert_exporter": "python",
   "pygments_lexer": "ipython3",
   "version": "3.10.6"
  }
 },
 "nbformat": 4,
 "nbformat_minor": 2
}
