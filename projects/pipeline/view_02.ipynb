{
 "cells": [
  {
   "cell_type": "code",
   "execution_count": 1,
   "metadata": {},
   "outputs": [],
   "source": [
    "import os\n",
    "import yaml\n",
    "from glob import glob\n",
    "from pprint import pprint\n",
    "\n",
    "from mejiro.utils import util\n",
    "\n",
    "# read configuration file\n",
    "with open('roman_data_challenge_rung_1.yaml', 'r') as f:\n",
    "    config = yaml.load(f, Loader=yaml.SafeLoader)\n",
    "\n",
    "if config['dev']:\n",
    "    config['pipeline_label'] += '_dev'"
   ]
  },
  {
   "cell_type": "code",
   "execution_count": 2,
   "metadata": {},
   "outputs": [
    {
     "name": "stdout",
     "output_type": "stream",
     "text": [
      "Found 2804 system(s) in /nfsdata1/bwedig/mejiro/roman_data_challenge_rung_1_dev/02\n"
     ]
    }
   ],
   "source": [
    "data_dir = os.path.join(config['data_dir'], config['pipeline_label'], '02')\n",
    "\n",
    "pickles = sorted(glob(os.path.join(data_dir, '*', '*.pkl')))\n",
    "sample_lenses = [util.unpickle(f) for f in pickles]\n",
    "print(f'Found {len(sample_lenses)} system(s) in {data_dir}')"
   ]
  },
  {
   "cell_type": "code",
   "execution_count": 3,
   "metadata": {},
   "outputs": [
    {
     "name": "stdout",
     "output_type": "stream",
     "text": [
      "StrongLens(name=roman_data_challenge_rung_1_00000000, coords=None, z_lens=0.6179999999999994, z_source=5.4245572756581995)\n"
     ]
    }
   ],
   "source": [
    "sample_lens = sample_lenses[0]\n",
    "\n",
    "print(sample_lens)"
   ]
  },
  {
   "cell_type": "code",
   "execution_count": 4,
   "metadata": {},
   "outputs": [],
   "source": [
    "# from collections import Counter\n",
    "\n",
    "# galaxy_ids = [l.physical_params.get('galaxy_id') for l in sample_lenses]\n",
    "# repeat_list = []\n",
    "\n",
    "# counts = Counter(galaxy_ids)\n",
    "# for galaxy_id, count in counts.items():\n",
    "#     print(f'galaxy_id {galaxy_id} appears {count} times')\n",
    "#     repeat_list.append(count)"
   ]
  },
  {
   "cell_type": "code",
   "execution_count": 5,
   "metadata": {},
   "outputs": [],
   "source": [
    "# import matplotlib.pyplot as plt\n",
    "# import numpy as np\n",
    "\n",
    "# plt.figure(figsize=(6, 4))\n",
    "# plt.plot(np.linspace(0, len(repeat_list), len(repeat_list)), sorted(repeat_list, reverse=True))\n",
    "# plt.title(f'Repeated COSMOS Sources\\n{len(galaxy_ids)} Strong Lenses, {len(repeat_list)} Unique Sources')\n",
    "# plt.xlabel('Rank in Number of Repetitions')\n",
    "# plt.ylabel('Number of Repetitions')\n",
    "# plt.show()"
   ]
  },
  {
   "cell_type": "code",
   "execution_count": 6,
   "metadata": {},
   "outputs": [
    {
     "name": "stdout",
     "output_type": "stream",
     "text": [
      "{'coords': None,\n",
      " 'cosmo': FlatLambdaCDM(name='Planck18',\n",
      "                        H0=<Quantity 67.66 km / (Mpc s)>,\n",
      "                        Om0=0.30966,\n",
      "                        Tcmb0=<Quantity 2.7255 K>,\n",
      "                        Neff=3.046,\n",
      "                        m_nu=<Quantity [0.  , 0.  , 0.06] eV>,\n",
      "                        Ob0=0.04897),\n",
      " 'kwargs_lens_macromodel': None,\n",
      " 'kwargs_model': {'cosmo': FlatLambdaCDM(name='Planck18',\n",
      "                                         H0=<Quantity 67.66 km / (Mpc s)>,\n",
      "                                         Om0=0.30966,\n",
      "                                         Tcmb0=<Quantity 2.7255 K>,\n",
      "                                         Neff=3.046,\n",
      "                                         m_nu=<Quantity [0.  , 0.  , 0.06] eV>,\n",
      "                                         Ob0=0.04897),\n",
      "                  'lens_light_model_list': ['HERNQUIST_ELLIPSE'],\n",
      "                  'lens_model_list': ['NFW_ELLIPSE_CSE',\n",
      "                                      'HERNQUIST_ELLIPSE_CSE',\n",
      "                                      'SHEAR',\n",
      "                                      'CONVERGENCE'],\n",
      "                  'lens_redshift_list': [0.6179999999999994,\n",
      "                                         0.6179999999999994,\n",
      "                                         0.6179999999999994,\n",
      "                                         0.6179999999999994],\n",
      "                  'point_source_model_list': [],\n",
      "                  'source_light_model_list': ['INTERPOL'],\n",
      "                  'source_redshift_list': [5.4245572756581995],\n",
      "                  'z_source': 5.4245572756581995},\n",
      " 'kwargs_params': {'kwargs_lens': [{'Rs': 3.849280915451282,\n",
      "                                    'alpha_Rs': 0.6032507129347583,\n",
      "                                    'center_x': 0.01375226145837075,\n",
      "                                    'center_y': -0.024123377683260706,\n",
      "                                    'e1': 0.1187866474421628,\n",
      "                                    'e2': -0.1292623425661113},\n",
      "                                   {'Rs': 0.14478737993366625,\n",
      "                                    'center_x': 0.01375226145837075,\n",
      "                                    'center_y': -0.024123377683260706,\n",
      "                                    'e1': 0.00801176477120695,\n",
      "                                    'e2': -0.008453825698990116,\n",
      "                                    'sigma0': 10.045366697877318},\n",
      "                                   {'dec_0': 0,\n",
      "                                    'gamma1': 0.0,\n",
      "                                    'gamma2': 0.0,\n",
      "                                    'ra_0': 0},\n",
      "                                   {'dec_0': 0, 'kappa': 0.0, 'ra_0': 0}],\n",
      "                   'kwargs_lens_light': [{'Rs': 0.14478737993366625,\n",
      "                                          'center_x': 0.01375226145837075,\n",
      "                                          'center_y': -0.024123377683260706,\n",
      "                                          'e1': 0.00801176477120695,\n",
      "                                          'e2': -0.008453825698990116,\n",
      "                                          'magnitude': 22.20704299400566}],\n",
      "                   'kwargs_ps': [],\n",
      "                   'kwargs_source': [{'center_x': 0.05226186677073452,\n",
      "                                      'center_y': 0.044609623405201755,\n",
      "                                      'image': array([[-0.00309401, -0.00337605, -0.0022831 , ..., -0.00101164,\n",
      "        -0.00178782,  0.00107802],\n",
      "       [-0.00331084, -0.00484527, -0.00336256, ..., -0.00043112,\n",
      "        -0.00210737,  0.00073949],\n",
      "       [-0.0002667 , -0.00099451, -0.00223751, ..., -0.00151997,\n",
      "        -0.00213618,  0.00026024],\n",
      "       ...,\n",
      "       [-0.00329137,  0.00233276,  0.00162725, ...,  0.00263357,\n",
      "         0.00541832,  0.00052859],\n",
      "       [ 0.00029569,  0.00197068,  0.00398253, ...,  0.00298195,\n",
      "         0.0013033 ,  0.00077176],\n",
      "       [ 0.00244787,  0.00234356,  0.00271218, ...,  0.00244733,\n",
      "         0.00077145,  0.00067716]], dtype=float32),\n",
      "                                      'magnitude': 26.274561436912883,\n",
      "                                      'phi_G': 1.2143697040240313,\n",
      "                                      'scale': 0.009726496617503516}]},\n",
      " 'lens_cosmo': None,\n",
      " 'lens_model_list_macromodel': None,\n",
      " 'lens_model_macromodel': None,\n",
      " 'lens_redshift_list_macromodel': None,\n",
      " 'name': 'roman_data_challenge_rung_1_00000000',\n",
      " 'physical_params': {'einstein_radius': 0.7813693640460339,\n",
      "                     'galaxy_id': 56534,\n",
      "                     'lens_stellar_mass': 104132688654.3287,\n",
      "                     'lens_velocity_dispersion': 207.63947188040262,\n",
      "                     'magnification': 8.028734256139378,\n",
      "                     'magnitudes': {'lens': {'F062': 22.20704299400566,\n",
      "                                             'F087': 21.03391949374206,\n",
      "                                             'F106': 20.64266789720125,\n",
      "                                             'F129': 20.356289475476352,\n",
      "                                             'F146': 20.232156197432317,\n",
      "                                             'F158': 20.03848992153366,\n",
      "                                             'F184': 19.894503328568597,\n",
      "                                             'F213': 19.81317083956864},\n",
      "                                    'lensed_source': {'F062': 24.012943728418207,\n",
      "                                                      'F087': 23.26732867699109,\n",
      "                                                      'F106': 23.24061844561667,\n",
      "                                                      'F129': 23.109073380835966,\n",
      "                                                      'F146': 23.102283889557455,\n",
      "                                                      'F158': 23.06308503485655,\n",
      "                                                      'F184': 22.945077389398108,\n",
      "                                                      'F213': 22.806118981803294},\n",
      "                                    'source': {'F062': 26.274561436912883,\n",
      "                                               'F087': 25.528946385485767,\n",
      "                                               'F106': 25.502236154111344,\n",
      "                                               'F129': 25.37069108933064,\n",
      "                                               'F146': 25.36390159805213,\n",
      "                                               'F158': 25.324702743351224,\n",
      "                                               'F184': 25.206695097892784,\n",
      "                                               'F213': 25.06773669029797}},\n",
      "                     'main_halo_concentration': 8.493054694278227,\n",
      "                     'main_halo_mass': 2536910017737.581},\n",
      " 'realization': None,\n",
      " 'use_jax': [True, True, True, True],\n",
      " 'z_lens': 0.6179999999999994,\n",
      " 'z_source': 5.4245572756581995}\n"
     ]
    }
   ],
   "source": [
    "pprint(sample_lens.__dict__)"
   ]
  }
 ],
 "metadata": {
  "kernelspec": {
   "display_name": "mejiro-v2",
   "language": "python",
   "name": "python3"
  },
  "language_info": {
   "codemirror_mode": {
    "name": "ipython",
    "version": 3
   },
   "file_extension": ".py",
   "mimetype": "text/x-python",
   "name": "python",
   "nbconvert_exporter": "python",
   "pygments_lexer": "ipython3",
   "version": "3.10.6"
  }
 },
 "nbformat": 4,
 "nbformat_minor": 2
}
