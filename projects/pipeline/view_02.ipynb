{
 "cells": [
  {
   "cell_type": "code",
   "execution_count": 1,
   "metadata": {},
   "outputs": [],
   "source": [
    "import os\n",
    "import yaml\n",
    "from glob import glob\n",
    "from pprint import pprint\n",
    "\n",
    "from mejiro.utils import util\n",
    "\n",
    "# read configuration file\n",
    "with open('roman_hlwas_medium.yaml', 'r') as f:\n",
    "    config = yaml.load(f, Loader=yaml.SafeLoader)"
   ]
  },
  {
   "cell_type": "code",
   "execution_count": 2,
   "metadata": {},
   "outputs": [],
   "source": [
    "if config['dev']:\n",
    "    config['pipeline_dir'] += '_dev'"
   ]
  },
  {
   "cell_type": "code",
   "execution_count": 3,
   "metadata": {},
   "outputs": [
    {
     "name": "stdout",
     "output_type": "stream",
     "text": [
      "Found 49531 system(s) in /data/bwedig/mejiro/roman_hlwas_medium/02\n"
     ]
    }
   ],
   "source": [
    "data_dir = os.path.join(config['data_dir'], config['pipeline_dir'], '02')\n",
    "\n",
    "pickles = sorted(glob(os.path.join(data_dir, '*', '*.pkl')))\n",
    "sample_lenses = [util.unpickle(f) for f in pickles]\n",
    "print(f'Found {len(sample_lenses)} system(s) in {data_dir}')"
   ]
  },
  {
   "cell_type": "code",
   "execution_count": 4,
   "metadata": {},
   "outputs": [
    {
     "name": "stdout",
     "output_type": "stream",
     "text": [
      "StrongLens(name=roman_hlwas_medium_00000000, coords=None, z_lens=1.217885203946894, z_source=5.534146995424136)\n"
     ]
    }
   ],
   "source": [
    "sample_lens = sample_lenses[0]\n",
    "\n",
    "print(sample_lens)"
   ]
  },
  {
   "cell_type": "code",
   "execution_count": 5,
   "metadata": {},
   "outputs": [
    {
     "name": "stdout",
     "output_type": "stream",
     "text": [
      "{'coords': None,\n",
      " 'cosmo': FlatLambdaCDM(name='Planck18',\n",
      "                        H0=<Quantity 67.66 km / (Mpc s)>,\n",
      "                        Om0=0.30966,\n",
      "                        Tcmb0=<Quantity 2.7255 K>,\n",
      "                        Neff=3.046,\n",
      "                        m_nu=<Quantity [0.  , 0.  , 0.06] eV>,\n",
      "                        Ob0=0.04897),\n",
      " 'kwargs_model': {'cosmo': FlatLambdaCDM(name='Planck18',\n",
      "                                         H0=<Quantity 67.66 km / (Mpc s)>,\n",
      "                                         Om0=0.30966,\n",
      "                                         Tcmb0=<Quantity 2.7255 K>,\n",
      "                                         Neff=3.046,\n",
      "                                         m_nu=<Quantity [0.  , 0.  , 0.06] eV>,\n",
      "                                         Ob0=0.04897),\n",
      "                  'lens_light_model_list': ['SERSIC_ELLIPSE'],\n",
      "                  'lens_model_list': ['SIE', 'SHEAR', 'CONVERGENCE'],\n",
      "                  'lens_redshift_list': [1.217885203946894,\n",
      "                                         1.217885203946894,\n",
      "                                         1.217885203946894],\n",
      "                  'source_light_model_list': ['SERSIC_ELLIPSE'],\n",
      "                  'source_redshift_list': [5.534146995424136],\n",
      "                  'z_source': 5.534146995424136},\n",
      " 'kwargs_params': {'kwargs_lens': [{'center_x': 0.018500697252861156,\n",
      "                                    'center_y': -0.020786757491644606,\n",
      "                                    'e1': -0.002716325481506455,\n",
      "                                    'e2': -0.03349911592523208,\n",
      "                                    'theta_E': 1.0059326130635613},\n",
      "                                   {'dec_0': 0,\n",
      "                                    'gamma1': 0.0,\n",
      "                                    'gamma2': -0.0,\n",
      "                                    'ra_0': 0},\n",
      "                                   {'dec_0': 0, 'kappa': 0.0, 'ra_0': 0}],\n",
      "                   'kwargs_lens_light': [{'R_sersic': 0.6768359857800375,\n",
      "                                          'center_x': 0.018500697252861156,\n",
      "                                          'center_y': -0.020786757491644606,\n",
      "                                          'e1': -0.009573779007530947,\n",
      "                                          'e2': -0.08366935433531889,\n",
      "                                          'magnitude': 24.057241186249083,\n",
      "                                          'n_sersic': 4.0}],\n",
      "                   'kwargs_ps': None,\n",
      "                   'kwargs_source': [{'R_sersic': 0.5982874992049523,\n",
      "                                      'center_x': 0.09599476887792764,\n",
      "                                      'center_y': 0.3023883865532513,\n",
      "                                      'e1': 0.18721871755944525,\n",
      "                                      'e2': -0.013738567542850659,\n",
      "                                      'magnitude': 24.099630183880876,\n",
      "                                      'n_sersic': 1.0}]},\n",
      " 'lens_cosmo': None,\n",
      " 'name': 'roman_hlwas_medium_00000000',\n",
      " 'physical_params': {'lens_stellar_mass': 540011267605.7316,\n",
      "                     'lens_velocity_dispersion': 257.81219123966514,\n",
      "                     'magnification': 4.064941635350926,\n",
      "                     'magnitudes': {'lens': {'F062': 24.057241186249083,\n",
      "                                             'F087': 22.223175449349558,\n",
      "                                             'F106': 21.216822770173987,\n",
      "                                             'F129': 20.71065290029475,\n",
      "                                             'F146': 20.553486801204233,\n",
      "                                             'F158': 20.314095269109277,\n",
      "                                             'F184': 20.075317681117358,\n",
      "                                             'F213': 19.829417434890058},\n",
      "                                    'lensed_source': {'F062': 22.576994398002153,\n",
      "                                                      'F087': 21.736933545513278,\n",
      "                                                      'F106': 21.662369632426024,\n",
      "                                                      'F129': 21.517846829247052,\n",
      "                                                      'F146': 21.463839060218728,\n",
      "                                                      'F158': 21.39597612057594,\n",
      "                                                      'F184': 21.22110505169187,\n",
      "                                                      'F213': 21.075084154669685},\n",
      "                                    'source': {'F062': 24.099630183880876,\n",
      "                                               'F087': 23.259569331392,\n",
      "                                               'F106': 23.185005418304748,\n",
      "                                               'F129': 23.040482615125775,\n",
      "                                               'F146': 22.98647484609745,\n",
      "                                               'F158': 22.918611906454665,\n",
      "                                               'F184': 22.74374083757059,\n",
      "                                               'F213': 22.59771994054841}}},\n",
      " 'realization': None,\n",
      " 'use_jax': [True, True, True],\n",
      " 'z_lens': 1.217885203946894,\n",
      " 'z_source': 5.534146995424136}\n"
     ]
    }
   ],
   "source": [
    "pprint(sample_lens.__dict__)"
   ]
  }
 ],
 "metadata": {
  "kernelspec": {
   "display_name": "mejiro-v2",
   "language": "python",
   "name": "python3"
  },
  "language_info": {
   "codemirror_mode": {
    "name": "ipython",
    "version": 3
   },
   "file_extension": ".py",
   "mimetype": "text/x-python",
   "name": "python",
   "nbconvert_exporter": "python",
   "pygments_lexer": "ipython3",
   "version": "3.10.6"
  }
 },
 "nbformat": 4,
 "nbformat_minor": 2
}
