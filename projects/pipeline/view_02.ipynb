{
 "cells": [
  {
   "cell_type": "code",
   "execution_count": 1,
   "metadata": {},
   "outputs": [],
   "source": [
    "import os\n",
    "import yaml\n",
    "from glob import glob\n",
    "from pprint import pprint\n",
    "\n",
    "from mejiro.utils import util\n",
    "\n",
    "# read configuration file\n",
    "with open('roman_test.yaml', 'r') as f:\n",
    "    config = yaml.load(f, Loader=yaml.SafeLoader)\n",
    "\n",
    "if config['dev']:\n",
    "    config['pipeline_label'] += '_dev'"
   ]
  },
  {
   "cell_type": "code",
   "execution_count": 2,
   "metadata": {},
   "outputs": [
    {
     "name": "stdout",
     "output_type": "stream",
     "text": [
      "Found 269 system(s) in /data/bwedig/mejiro/roman_test_dev/02\n"
     ]
    }
   ],
   "source": [
    "data_dir = os.path.join(config['data_dir'], config['pipeline_label'], '02')\n",
    "\n",
    "pickles = sorted(glob(os.path.join(data_dir, '*', '*.pkl')))\n",
    "sample_lenses = [util.unpickle(f) for f in pickles]\n",
    "print(f'Found {len(sample_lenses)} system(s) in {data_dir}')"
   ]
  },
  {
   "cell_type": "code",
   "execution_count": 3,
   "metadata": {},
   "outputs": [
    {
     "name": "stdout",
     "output_type": "stream",
     "text": [
      "StrongLens(name=roman_test_00000000, coords=None, z_lens=1.419170802525845, z_source=2.151215052489354)\n"
     ]
    }
   ],
   "source": [
    "sample_lens = sample_lenses[0]\n",
    "\n",
    "print(sample_lens)"
   ]
  },
  {
   "cell_type": "code",
   "execution_count": 4,
   "metadata": {},
   "outputs": [],
   "source": [
    "# from collections import Counter\n",
    "\n",
    "# galaxy_ids = [l.physical_params.get('galaxy_id') for l in sample_lenses]\n",
    "# repeat_list = []\n",
    "\n",
    "# counts = Counter(galaxy_ids)\n",
    "# for galaxy_id, count in counts.items():\n",
    "#     print(f'galaxy_id {galaxy_id} appears {count} times')\n",
    "#     repeat_list.append(count)"
   ]
  },
  {
   "cell_type": "code",
   "execution_count": 5,
   "metadata": {},
   "outputs": [],
   "source": [
    "# import matplotlib.pyplot as plt\n",
    "# import numpy as np\n",
    "\n",
    "# plt.figure(figsize=(6, 4))\n",
    "# plt.plot(np.linspace(0, len(repeat_list), len(repeat_list)), sorted(repeat_list, reverse=True))\n",
    "# plt.title(f'Repeated COSMOS Sources\\n{len(galaxy_ids)} Strong Lenses, {len(repeat_list)} Unique Sources')\n",
    "# plt.xlabel('Rank in Number of Repetitions')\n",
    "# plt.ylabel('Number of Repetitions')\n",
    "# plt.show()"
   ]
  },
  {
   "cell_type": "code",
   "execution_count": 6,
   "metadata": {},
   "outputs": [
    {
     "name": "stdout",
     "output_type": "stream",
     "text": [
      "{'coords': None,\n",
      " 'cosmo': FlatLambdaCDM(name='Planck18',\n",
      "                        H0=<Quantity 67.66 km / (Mpc s)>,\n",
      "                        Om0=0.30966,\n",
      "                        Tcmb0=<Quantity 2.7255 K>,\n",
      "                        Neff=3.046,\n",
      "                        m_nu=<Quantity [0.  , 0.  , 0.06] eV>,\n",
      "                        Ob0=0.04897),\n",
      " 'kwargs_lens_macromodel': None,\n",
      " 'kwargs_model': {'cosmo': FlatLambdaCDM(name='Planck18',\n",
      "                                         H0=<Quantity 67.66 km / (Mpc s)>,\n",
      "                                         Om0=0.30966,\n",
      "                                         Tcmb0=<Quantity 2.7255 K>,\n",
      "                                         Neff=3.046,\n",
      "                                         m_nu=<Quantity [0.  , 0.  , 0.06] eV>,\n",
      "                                         Ob0=0.04897),\n",
      "                  'lens_light_model_list': ['SERSIC_ELLIPSE'],\n",
      "                  'lens_model_list': ['SIE', 'SHEAR', 'CONVERGENCE'],\n",
      "                  'lens_redshift_list': [1.419170802525845,\n",
      "                                         1.419170802525845,\n",
      "                                         1.419170802525845],\n",
      "                  'point_source_model_list': [],\n",
      "                  'source_light_model_list': ['INTERPOL'],\n",
      "                  'source_redshift_list': [2.151215052489354],\n",
      "                  'z_source': 2.151215052489354},\n",
      " 'kwargs_params': {'kwargs_lens': [{'center_x': -0.031973529485393615,\n",
      "                                    'center_y': -0.02723107134297374,\n",
      "                                    'e1': -0.055007977606935994,\n",
      "                                    'e2': -0.3778393087203864,\n",
      "                                    'theta_E': 0.27168476618610604},\n",
      "                                   {'dec_0': 0,\n",
      "                                    'gamma1': -0.0,\n",
      "                                    'gamma2': -0.0,\n",
      "                                    'ra_0': 0},\n",
      "                                   {'dec_0': 0, 'kappa': 0.0, 'ra_0': 0}],\n",
      "                   'kwargs_lens_light': [{'R_sersic': 1.0629556230386699,\n",
      "                                          'center_x': -0.031973529485393615,\n",
      "                                          'center_y': -0.02723107134297374,\n",
      "                                          'e1': -0.09525568663430549,\n",
      "                                          'e2': -0.2823544873525284,\n",
      "                                          'magnitude': 22.62641324217856,\n",
      "                                          'n_sersic': 4.0}],\n",
      "                   'kwargs_ps': [],\n",
      "                   'kwargs_source': [{'center_x': -0.14348533790222004,\n",
      "                                      'center_y': -0.1474193322643298,\n",
      "                                      'image': array([[-3.1860950e-03, -2.3171753e-03,  2.0555619e-03, ...,\n",
      "         1.6054222e-03,  1.2816396e-03, -3.4250494e-04],\n",
      "       [-1.1728567e-03, -4.7290785e-05,  8.1229425e-04, ...,\n",
      "        -1.0501042e-03,  1.9551336e-03,  1.4019904e-03],\n",
      "       [ 6.1145397e-03,  3.7124527e-03,  1.2714767e-03, ...,\n",
      "        -2.1405877e-03, -2.7815895e-03, -1.2126435e-03],\n",
      "       ...,\n",
      "       [-2.8619843e-03, -3.7045511e-03,  6.2474998e-04, ...,\n",
      "         3.5435206e-03,  1.6814235e-03,  2.2769962e-03],\n",
      "       [-4.1598743e-03, -5.8134156e-03, -8.9739944e-04, ...,\n",
      "        -6.9872923e-03, -6.2137782e-03, -2.2124469e-03],\n",
      "       [-1.6339435e-03, -4.1489647e-04,  1.2844201e-04, ...,\n",
      "        -5.3225146e-03, -4.2913561e-03, -3.4375379e-03]], dtype=float32),\n",
      "                                      'magnitude': 25.659335135431427,\n",
      "                                      'phi_G': 2.069431224053911,\n",
      "                                      'scale': 0.018818055133278066}]},\n",
      " 'lens_cosmo': None,\n",
      " 'lens_model_list_macromodel': None,\n",
      " 'lens_model_macromodel': None,\n",
      " 'lens_redshift_list_macromodel': None,\n",
      " 'name': 'roman_test_00000000',\n",
      " 'physical_params': {'einstein_radius': 0.27168476618610604,\n",
      "                     'galaxy_id': 190409,\n",
      "                     'lens_stellar_mass': 324292291898.2165,\n",
      "                     'lens_velocity_dispersion': 208.13907361815765,\n",
      "                     'magnification': 3.3005176534003926,\n",
      "                     'magnitudes': {'lens': {'F062': 22.62641324217856,\n",
      "                                             'F087': 22.007772904026925,\n",
      "                                             'F106': 21.383045299905714,\n",
      "                                             'F129': 21.055078951537038,\n",
      "                                             'F146': 20.923919406024947,\n",
      "                                             'F158': 20.734586742680367,\n",
      "                                             'F184': 20.54076786986725,\n",
      "                                             'F213': 20.354310634209295},\n",
      "                                    'lensed_source': {'F062': 24.36287998544543,\n",
      "                                                      'F087': 23.75285869671839,\n",
      "                                                      'F106': 23.348112783134404,\n",
      "                                                      'F129': 22.713494546501067,\n",
      "                                                      'F146': 22.584294320258834,\n",
      "                                                      'F158': 22.3116062833665,\n",
      "                                                      'F184': 22.1304662060626,\n",
      "                                                      'F213': 21.95319626423756},\n",
      "                                    'source': {'F062': 25.659335135431427,\n",
      "                                               'F087': 25.049313846704386,\n",
      "                                               'F106': 24.6445679331204,\n",
      "                                               'F129': 24.009949696487062,\n",
      "                                               'F146': 23.88074947024483,\n",
      "                                               'F158': 23.608061433352496,\n",
      "                                               'F184': 23.426921356048595,\n",
      "                                               'F213': 23.249651414223557}}},\n",
      " 'realization': None,\n",
      " 'use_jax': [True, True, True],\n",
      " 'z_lens': 1.419170802525845,\n",
      " 'z_source': 2.151215052489354}\n"
     ]
    }
   ],
   "source": [
    "pprint(sample_lens.__dict__)"
   ]
  }
 ],
 "metadata": {
  "kernelspec": {
   "display_name": "mejiro-v2",
   "language": "python",
   "name": "python3"
  },
  "language_info": {
   "codemirror_mode": {
    "name": "ipython",
    "version": 3
   },
   "file_extension": ".py",
   "mimetype": "text/x-python",
   "name": "python",
   "nbconvert_exporter": "python",
   "pygments_lexer": "ipython3",
   "version": "3.10.6"
  }
 },
 "nbformat": 4,
 "nbformat_minor": 2
}
