{
 "cells": [
  {
   "cell_type": "code",
   "execution_count": 1,
   "metadata": {},
   "outputs": [],
   "source": [
    "import os\n",
    "import yaml\n",
    "from glob import glob\n",
    "from pprint import pprint\n",
    "\n",
    "from mejiro.utils import util\n",
    "\n",
    "# read configuration file\n",
    "with open('roman_reproduce.yaml', 'r') as f:\n",
    "    config = yaml.load(f, Loader=yaml.SafeLoader)"
   ]
  },
  {
   "cell_type": "code",
   "execution_count": 2,
   "metadata": {},
   "outputs": [],
   "source": [
    "if config['dev']:\n",
    "    config['pipeline_label'] += '_dev'"
   ]
  },
  {
   "cell_type": "code",
   "execution_count": 3,
   "metadata": {},
   "outputs": [
    {
     "name": "stdout",
     "output_type": "stream",
     "text": [
      "Found 169 system(s) in /data/bwedig/mejiro/roman_reproduce_dev/02\n"
     ]
    }
   ],
   "source": [
    "data_dir = os.path.join(config['data_dir'], config['pipeline_label'], '02')\n",
    "\n",
    "pickles = sorted(glob(os.path.join(data_dir, '*', '*.pkl')))\n",
    "sample_lenses = [util.unpickle(f) for f in pickles]\n",
    "print(f'Found {len(sample_lenses)} system(s) in {data_dir}')"
   ]
  },
  {
   "cell_type": "code",
   "execution_count": 4,
   "metadata": {},
   "outputs": [
    {
     "name": "stdout",
     "output_type": "stream",
     "text": [
      "StrongLens(name=roman_reproduce_00000000, coords=None, z_lens=2.346144592566982, z_source=4.511223852576114)\n"
     ]
    }
   ],
   "source": [
    "sample_lens = sample_lenses[0]\n",
    "\n",
    "print(sample_lens)"
   ]
  },
  {
   "cell_type": "code",
   "execution_count": 5,
   "metadata": {},
   "outputs": [
    {
     "name": "stdout",
     "output_type": "stream",
     "text": [
      "{'coords': None,\n",
      " 'cosmo': FlatLambdaCDM(name='Planck18',\n",
      "                        H0=<Quantity 67.66 km / (Mpc s)>,\n",
      "                        Om0=0.30966,\n",
      "                        Tcmb0=<Quantity 2.7255 K>,\n",
      "                        Neff=3.046,\n",
      "                        m_nu=<Quantity [0.  , 0.  , 0.06] eV>,\n",
      "                        Ob0=0.04897),\n",
      " 'kwargs_lens_macromodel': None,\n",
      " 'kwargs_model': {'cosmo': FlatLambdaCDM(name='Planck18',\n",
      "                                         H0=<Quantity 67.66 km / (Mpc s)>,\n",
      "                                         Om0=0.30966,\n",
      "                                         Tcmb0=<Quantity 2.7255 K>,\n",
      "                                         Neff=3.046,\n",
      "                                         m_nu=<Quantity [0.  , 0.  , 0.06] eV>,\n",
      "                                         Ob0=0.04897),\n",
      "                  'lens_light_model_list': ['SERSIC_ELLIPSE'],\n",
      "                  'lens_model_list': ['SIE', 'SHEAR', 'CONVERGENCE'],\n",
      "                  'lens_redshift_list': [2.346144592566982,\n",
      "                                         2.346144592566982,\n",
      "                                         2.346144592566982],\n",
      "                  'point_source_model_list': [],\n",
      "                  'source_light_model_list': ['SERSIC_ELLIPSE'],\n",
      "                  'source_redshift_list': [4.511223852576114],\n",
      "                  'z_source': 4.511223852576114},\n",
      " 'kwargs_params': {'kwargs_lens': [{'center_x': 0.05104043897910727,\n",
      "                                    'center_y': -0.02335561477434433,\n",
      "                                    'e1': 0.009124249440246224,\n",
      "                                    'e2': 0.2092043765352288,\n",
      "                                    'theta_E': 0.7976000783971606},\n",
      "                                   {'dec_0': 0,\n",
      "                                    'gamma1': -0.0,\n",
      "                                    'gamma2': -0.0,\n",
      "                                    'ra_0': 0},\n",
      "                                   {'dec_0': 0, 'kappa': 0.0, 'ra_0': 0}],\n",
      "                   'kwargs_lens_light': [{'R_sersic': 1.1026971371805159,\n",
      "                                          'center_x': 0.05104043897910727,\n",
      "                                          'center_y': -0.02335561477434433,\n",
      "                                          'e1': -0.006443828452354251,\n",
      "                                          'e2': 0.13097060146421372,\n",
      "                                          'magnitude': 22.549180972956535,\n",
      "                                          'n_sersic': 4.0}],\n",
      "                   'kwargs_ps': [],\n",
      "                   'kwargs_source': [{'R_sersic': 0.6272044112624784,\n",
      "                                      'center_x': 0.23059759984081088,\n",
      "                                      'center_y': 0.37572750834730334,\n",
      "                                      'e1': -0.23334951459483771,\n",
      "                                      'e2': 0.11607664028504393,\n",
      "                                      'magnitude': 23.782911149035947,\n",
      "                                      'n_sersic': 1.0}]},\n",
      " 'lens_cosmo': None,\n",
      " 'lens_model_list_macromodel': None,\n",
      " 'lens_model_macromodel': None,\n",
      " 'lens_redshift_list_macromodel': None,\n",
      " 'name': 'roman_reproduce_00000000',\n",
      " 'physical_params': {'lens_stellar_mass': 794898681660.7301,\n",
      "                     'lens_velocity_dispersion': 335.1713377296557,\n",
      "                     'magnification': 3.128277131057226,\n",
      "                     'magnitudes': {'lens': {'F062': 22.549180972956535,\n",
      "                                             'F087': 22.504468168803548,\n",
      "                                             'F106': 22.362700150378032,\n",
      "                                             'F129': 21.893013383201875,\n",
      "                                             'F146': 21.634660135392345,\n",
      "                                             'F158': 21.363516535524234,\n",
      "                                             'F184': 21.124254981469868,\n",
      "                                             'F213': 20.72618157670823},\n",
      "                                    'lensed_source': {'F062': 22.54464809948136,\n",
      "                                                      'F087': 22.267643359047266,\n",
      "                                                      'F106': 22.114737155920135,\n",
      "                                                      'F129': 22.01879078894107,\n",
      "                                                      'F146': 21.880217902423613,\n",
      "                                                      'F158': 21.78663942018571,\n",
      "                                                      'F184': 21.56671186118832,\n",
      "                                                      'F213': 21.12478238162745},\n",
      "                                    'source': {'F062': 23.782911149035947,\n",
      "                                               'F087': 23.505906408601852,\n",
      "                                               'F106': 23.35300020547472,\n",
      "                                               'F129': 23.257053838495658,\n",
      "                                               'F146': 23.1184809519782,\n",
      "                                               'F158': 23.024902469740297,\n",
      "                                               'F184': 22.804974910742907,\n",
      "                                               'F213': 22.363045431182037}}},\n",
      " 'realization': None,\n",
      " 'use_jax': [True, True, True],\n",
      " 'z_lens': 2.346144592566982,\n",
      " 'z_source': 4.511223852576114}\n"
     ]
    }
   ],
   "source": [
    "pprint(sample_lens.__dict__)"
   ]
  }
 ],
 "metadata": {
  "kernelspec": {
   "display_name": "mejiro-v2",
   "language": "python",
   "name": "python3"
  },
  "language_info": {
   "codemirror_mode": {
    "name": "ipython",
    "version": 3
   },
   "file_extension": ".py",
   "mimetype": "text/x-python",
   "name": "python",
   "nbconvert_exporter": "python",
   "pygments_lexer": "ipython3",
   "version": "3.10.6"
  }
 },
 "nbformat": 4,
 "nbformat_minor": 2
}
