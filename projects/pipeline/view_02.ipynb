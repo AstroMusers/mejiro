{
 "cells": [
  {
   "cell_type": "code",
   "execution_count": null,
   "metadata": {},
   "outputs": [],
   "source": [
    "import os\n",
    "import yaml\n",
    "from glob import glob\n",
    "from pprint import pprint\n",
    "\n",
    "from mejiro.utils import util\n",
    "\n",
    "# read configuration file\n",
    "with open('roman_test.yaml', 'r') as f:\n",
    "    config = yaml.load(f, Loader=yaml.SafeLoader)\n",
    "\n",
    "if config['dev']:\n",
    "    config['pipeline_label'] += '_dev'"
   ]
  },
  {
   "cell_type": "code",
   "execution_count": 9,
   "metadata": {},
   "outputs": [
    {
     "name": "stdout",
     "output_type": "stream",
     "text": [
      "Found 4687 system(s) in /data/bwedig/mejiro/roman_test_dev/02\n"
     ]
    }
   ],
   "source": [
    "data_dir = os.path.join(config['data_dir'], config['pipeline_label'], '02')\n",
    "\n",
    "pickles = sorted(glob(os.path.join(data_dir, '*', '*.pkl')))\n",
    "sample_lenses = [util.unpickle(f) for f in pickles]\n",
    "print(f'Found {len(sample_lenses)} system(s) in {data_dir}')"
   ]
  },
  {
   "cell_type": "code",
   "execution_count": 10,
   "metadata": {},
   "outputs": [
    {
     "name": "stdout",
     "output_type": "stream",
     "text": [
      "StrongLens(name=roman_test_00000000, coords=None, z_lens=0.9190089090438859, z_source=1.4508344419296977)\n"
     ]
    }
   ],
   "source": [
    "sample_lens = sample_lenses[0]\n",
    "\n",
    "print(sample_lens)"
   ]
  },
  {
   "cell_type": "code",
   "execution_count": 14,
   "metadata": {},
   "outputs": [],
   "source": [
    "# from collections import Counter\n",
    "\n",
    "# galaxy_ids = [l.physical_params.get('galaxy_id') for l in sample_lenses]\n",
    "# repeat_list = []\n",
    "\n",
    "# counts = Counter(galaxy_ids)\n",
    "# for galaxy_id, count in counts.items():\n",
    "#     print(f'galaxy_id {galaxy_id} appears {count} times')\n",
    "#     repeat_list.append(count)"
   ]
  },
  {
   "cell_type": "code",
   "execution_count": 16,
   "metadata": {},
   "outputs": [],
   "source": [
    "# import matplotlib.pyplot as plt\n",
    "# import numpy as np\n",
    "\n",
    "# plt.figure(figsize=(6, 4))\n",
    "# plt.plot(np.linspace(0, len(repeat_list), len(repeat_list)), sorted(repeat_list, reverse=True))\n",
    "# plt.title(f'Repeated COSMOS Sources\\n{len(galaxy_ids)} Strong Lenses, {len(repeat_list)} Unique Sources')\n",
    "# plt.xlabel('Rank in Number of Repetitions')\n",
    "# plt.ylabel('Number of Repetitions')\n",
    "# plt.show()"
   ]
  },
  {
   "cell_type": "code",
   "execution_count": 13,
   "metadata": {},
   "outputs": [
    {
     "name": "stdout",
     "output_type": "stream",
     "text": [
      "{'coords': None,\n",
      " 'cosmo': FlatLambdaCDM(name='Planck18',\n",
      "                        H0=<Quantity 67.66 km / (Mpc s)>,\n",
      "                        Om0=0.30966,\n",
      "                        Tcmb0=<Quantity 2.7255 K>,\n",
      "                        Neff=3.046,\n",
      "                        m_nu=<Quantity [0.  , 0.  , 0.06] eV>,\n",
      "                        Ob0=0.04897),\n",
      " 'kwargs_lens_macromodel': None,\n",
      " 'kwargs_model': {'cosmo': FlatLambdaCDM(name='Planck18',\n",
      "                                         H0=<Quantity 67.66 km / (Mpc s)>,\n",
      "                                         Om0=0.30966,\n",
      "                                         Tcmb0=<Quantity 2.7255 K>,\n",
      "                                         Neff=3.046,\n",
      "                                         m_nu=<Quantity [0.  , 0.  , 0.06] eV>,\n",
      "                                         Ob0=0.04897),\n",
      "                  'lens_light_model_list': ['SERSIC_ELLIPSE'],\n",
      "                  'lens_model_list': ['SIE', 'SHEAR', 'CONVERGENCE'],\n",
      "                  'lens_redshift_list': [0.9190089090438859,\n",
      "                                         0.9190089090438859,\n",
      "                                         0.9190089090438859],\n",
      "                  'point_source_model_list': [],\n",
      "                  'source_light_model_list': ['INTERPOL'],\n",
      "                  'source_redshift_list': [1.4508344419296977],\n",
      "                  'z_source': 1.4508344419296977},\n",
      " 'kwargs_params': {'kwargs_lens': [{'center_x': -0.0013829899329597178,\n",
      "                                    'center_y': -0.040630607822476524,\n",
      "                                    'e1': -0.014655248213857002,\n",
      "                                    'e2': -0.012255055320722281,\n",
      "                                    'theta_E': 0.3768539898266505},\n",
      "                                   {'dec_0': 0,\n",
      "                                    'gamma1': -0.0,\n",
      "                                    'gamma2': -0.0,\n",
      "                                    'ra_0': 0},\n",
      "                                   {'dec_0': 0, 'kappa': 0.0, 'ra_0': 0}],\n",
      "                   'kwargs_lens_light': [{'R_sersic': 0.7984869614189465,\n",
      "                                          'center_x': -0.0013829899329597178,\n",
      "                                          'center_y': -0.040630607822476524,\n",
      "                                          'e1': 0.09931659550443912,\n",
      "                                          'e2': 0.0701564710347216,\n",
      "                                          'magnitude': 21.950280959176972,\n",
      "                                          'n_sersic': 4.0}],\n",
      "                   'kwargs_ps': [],\n",
      "                   'kwargs_source': [{'center_x': -0.07042117689907833,\n",
      "                                      'center_y': 0.05146878327510692,\n",
      "                                      'image': array([[-1.2020202e-04,  1.4913763e-03, -1.9714879e-03, ...,\n",
      "         2.0157814e-03,  5.6029661e-03, -7.0102897e-04],\n",
      "       [-5.1392691e-04, -3.3113388e-03, -1.9914806e-03, ...,\n",
      "         2.6501659e-03,  1.9888761e-03, -7.2341703e-04],\n",
      "       [-2.2196616e-03,  1.5198029e-04,  6.3418434e-04, ...,\n",
      "         7.8535418e-04,  6.1406184e-04,  5.8449467e-04],\n",
      "       ...,\n",
      "       [-4.2753462e-03, -9.6579583e-04,  8.8316028e-04, ...,\n",
      "        -3.4905542e-03, -2.2823431e-03, -2.8333133e-03],\n",
      "       [-3.8217874e-03, -8.3736307e-04,  8.2874577e-03, ...,\n",
      "         2.2597215e-03,  1.4388283e-03, -3.7711754e-05],\n",
      "       [-2.3964569e-03, -4.2396882e-03,  3.6306335e-03, ...,\n",
      "         3.6395232e-03,  2.8159965e-03,  1.5898544e-03]], dtype=float32),\n",
      "                                      'magnitude': 25.791553760627927,\n",
      "                                      'phi_G': -0.9800286008992061,\n",
      "                                      'scale': 0.007473297075234947}]},\n",
      " 'lens_cosmo': None,\n",
      " 'lens_model_list_macromodel': None,\n",
      " 'lens_model_macromodel': None,\n",
      " 'lens_redshift_list_macromodel': None,\n",
      " 'name': 'roman_test_00000000',\n",
      " 'physical_params': {'galaxy_id': 54538,\n",
      "                     'lens_stellar_mass': 294035637482.58154,\n",
      "                     'lens_velocity_dispersion': 219.02154715710276,\n",
      "                     'magnification': 5.655062147349312,\n",
      "                     'magnitudes': {'lens': {'F062': 21.950280959176972,\n",
      "                                             'F087': 20.779658867926614,\n",
      "                                             'F106': 20.384215751270297,\n",
      "                                             'F129': 20.027132095762255,\n",
      "                                             'F146': 19.883649938628977,\n",
      "                                             'F158': 19.716995300288353,\n",
      "                                             'F184': 19.446838762092646,\n",
      "                                             'F213': 19.252099904516108},\n",
      "                                    'lensed_source': {'F062': 23.910460305510245,\n",
      "                                                      'F087': 23.424534086356754,\n",
      "                                                      'F106': 22.764253938095006,\n",
      "                                                      'F129': 22.38883015658404,\n",
      "                                                      'F146': 22.269115142489827,\n",
      "                                                      'F158': 22.062885913362738,\n",
      "                                                      'F184': 21.891290604211964,\n",
      "                                                      'F213': 21.7153418254229},\n",
      "                                    'source': {'F062': 25.791553760627927,\n",
      "                                               'F087': 25.305627541474436,\n",
      "                                               'F106': 24.64534739321269,\n",
      "                                               'F129': 24.26992361170172,\n",
      "                                               'F146': 24.15020859760751,\n",
      "                                               'F158': 23.94397936848042,\n",
      "                                               'F184': 23.772384059329646,\n",
      "                                               'F213': 23.596435280540582}}},\n",
      " 'realization': None,\n",
      " 'use_jax': [True, True, True],\n",
      " 'z_lens': 0.9190089090438859,\n",
      " 'z_source': 1.4508344419296977}\n"
     ]
    }
   ],
   "source": [
    "pprint(sample_lens.__dict__)"
   ]
  }
 ],
 "metadata": {
  "kernelspec": {
   "display_name": "mejiro-v2",
   "language": "python",
   "name": "python3"
  },
  "language_info": {
   "codemirror_mode": {
    "name": "ipython",
    "version": 3
   },
   "file_extension": ".py",
   "mimetype": "text/x-python",
   "name": "python",
   "nbconvert_exporter": "python",
   "pygments_lexer": "ipython3",
   "version": "3.10.6"
  }
 },
 "nbformat": 4,
 "nbformat_minor": 2
}
