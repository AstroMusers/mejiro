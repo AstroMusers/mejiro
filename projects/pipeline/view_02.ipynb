{
 "cells": [
  {
   "cell_type": "code",
   "execution_count": 1,
   "metadata": {},
   "outputs": [],
   "source": [
    "import os\n",
    "import yaml\n",
    "from glob import glob\n",
    "from pprint import pprint\n",
    "\n",
    "from mejiro.utils import util\n",
    "\n",
    "# read configuration file\n",
    "with open('roman_data_challenge_rung_1.yaml', 'r') as f:\n",
    "    config = yaml.load(f, Loader=yaml.SafeLoader)\n",
    "\n",
    "if config['dev']:\n",
    "    config['pipeline_label'] += '_dev'"
   ]
  },
  {
   "cell_type": "code",
   "execution_count": 2,
   "metadata": {},
   "outputs": [
    {
     "name": "stdout",
     "output_type": "stream",
     "text": [
      "Found 10658 system(s) in /nfsdata1/bwedig/mejiro/roman_data_challenge_rung_1_dev/02\n"
     ]
    }
   ],
   "source": [
    "data_dir = os.path.join(config['data_dir'], config['pipeline_label'], '02')\n",
    "\n",
    "pickles = sorted(glob(os.path.join(data_dir, '*', '*.pkl')))\n",
    "sample_lenses = [util.unpickle(f) for f in pickles]\n",
    "print(f'Found {len(sample_lenses)} system(s) in {data_dir}')"
   ]
  },
  {
   "cell_type": "code",
   "execution_count": 3,
   "metadata": {},
   "outputs": [
    {
     "name": "stdout",
     "output_type": "stream",
     "text": [
      "StrongLens(name=roman_data_challenge_rung_1_00000000, coords=None, z_lens=0.3069999999999998, z_source=3.1834657459216733)\n"
     ]
    }
   ],
   "source": [
    "sample_lens = sample_lenses[0]\n",
    "\n",
    "print(sample_lens)"
   ]
  },
  {
   "cell_type": "code",
   "execution_count": 4,
   "metadata": {},
   "outputs": [],
   "source": [
    "# from collections import Counter\n",
    "\n",
    "# galaxy_ids = [l.physical_params.get('galaxy_id') for l in sample_lenses]\n",
    "# repeat_list = []\n",
    "\n",
    "# counts = Counter(galaxy_ids)\n",
    "# for galaxy_id, count in counts.items():\n",
    "#     print(f'galaxy_id {galaxy_id} appears {count} times')\n",
    "#     repeat_list.append(count)"
   ]
  },
  {
   "cell_type": "code",
   "execution_count": 5,
   "metadata": {},
   "outputs": [],
   "source": [
    "# import matplotlib.pyplot as plt\n",
    "# import numpy as np\n",
    "\n",
    "# plt.figure(figsize=(6, 4))\n",
    "# plt.plot(np.linspace(0, len(repeat_list), len(repeat_list)), sorted(repeat_list, reverse=True))\n",
    "# plt.title(f'Repeated COSMOS Sources\\n{len(galaxy_ids)} Strong Lenses, {len(repeat_list)} Unique Sources')\n",
    "# plt.xlabel('Rank in Number of Repetitions')\n",
    "# plt.ylabel('Number of Repetitions')\n",
    "# plt.show()"
   ]
  },
  {
   "cell_type": "code",
   "execution_count": 6,
   "metadata": {},
   "outputs": [
    {
     "name": "stdout",
     "output_type": "stream",
     "text": [
      "{'coords': None,\n",
      " 'cosmo': FlatLambdaCDM(name='Planck18',\n",
      "                        H0=<Quantity 67.66 km / (Mpc s)>,\n",
      "                        Om0=0.30966,\n",
      "                        Tcmb0=<Quantity 2.7255 K>,\n",
      "                        Neff=3.046,\n",
      "                        m_nu=<Quantity [0.  , 0.  , 0.06] eV>,\n",
      "                        Ob0=0.04897),\n",
      " 'kwargs_lens_macromodel': None,\n",
      " 'kwargs_model': {'cosmo': FlatLambdaCDM(name='Planck18',\n",
      "                                         H0=<Quantity 67.66 km / (Mpc s)>,\n",
      "                                         Om0=0.30966,\n",
      "                                         Tcmb0=<Quantity 2.7255 K>,\n",
      "                                         Neff=3.046,\n",
      "                                         m_nu=<Quantity [0.  , 0.  , 0.06] eV>,\n",
      "                                         Ob0=0.04897),\n",
      "                  'lens_light_model_list': ['HERNQUIST_ELLIPSE'],\n",
      "                  'lens_model_list': ['NFW_ELLIPSE_CSE',\n",
      "                                      'HERNQUIST_ELLIPSE_CSE',\n",
      "                                      'SHEAR',\n",
      "                                      'CONVERGENCE'],\n",
      "                  'lens_redshift_list': [0.3069999999999998,\n",
      "                                         0.3069999999999998,\n",
      "                                         0.3069999999999998,\n",
      "                                         0.3069999999999998],\n",
      "                  'point_source_model_list': [],\n",
      "                  'source_light_model_list': ['INTERPOL'],\n",
      "                  'source_redshift_list': [3.1834657459216733],\n",
      "                  'z_source': 3.1834657459216733},\n",
      " 'kwargs_params': {'kwargs_lens': [{'Rs': 31.294316087277284,\n",
      "                                    'alpha_Rs': 4.910605282494582,\n",
      "                                    'center_x': -0.04524327527811793,\n",
      "                                    'center_y': -0.017507914972055918,\n",
      "                                    'e1': -0.16063862866957562,\n",
      "                                    'e2': 0.38328695428805837},\n",
      "                                   {'Rs': 1.0703049009288839,\n",
      "                                    'center_x': -0.04524327527811793,\n",
      "                                    'center_y': -0.017507914972055918,\n",
      "                                    'e1': -0.15823282430295693,\n",
      "                                    'e2': 0.3003298096873212,\n",
      "                                    'sigma0': 1.296600784015544},\n",
      "                                   {'dec_0': 0,\n",
      "                                    'gamma1': -0.0,\n",
      "                                    'gamma2': 0.0,\n",
      "                                    'ra_0': 0},\n",
      "                                   {'dec_0': 0, 'kappa': 0.0, 'ra_0': 0}],\n",
      "                   'kwargs_lens_light': [{'Rs': 1.0703049009288839,\n",
      "                                          'center_x': -0.04524327527811793,\n",
      "                                          'center_y': -0.017507914972055918,\n",
      "                                          'e1': -0.15823282430295693,\n",
      "                                          'e2': 0.3003298096873212,\n",
      "                                          'magnitude': 18.117437402883333}],\n",
      "                   'kwargs_ps': [],\n",
      "                   'kwargs_source': [{'center_x': 1.166392150969165,\n",
      "                                      'center_y': -0.9261501311678277,\n",
      "                                      'image': array([[-0.00015433, -0.00212312, -0.00410147, ...,  0.0062395 ,\n",
      "         0.00320451,  0.00432499],\n",
      "       [-0.00081812, -0.00255814, -0.00556052, ...,  0.00404358,\n",
      "         0.003803  ,  0.00174576],\n",
      "       [-0.00060333,  0.00065125, -0.00125165, ...,  0.00026922,\n",
      "         0.00263137, -0.00356033],\n",
      "       ...,\n",
      "       [-0.00020143, -0.0016114 , -0.00147871, ...,  0.00758977,\n",
      "         0.00262659,  0.00066016],\n",
      "       [-0.00105164, -0.00302873, -0.00338767, ...,  0.00543375,\n",
      "        -0.00099344, -0.00252272],\n",
      "       [-0.0052767 ,  0.00022285,  0.00273532, ..., -0.0004506 ,\n",
      "         0.00260488, -0.00010892]], dtype=float32),\n",
      "                                      'magnitude': 23.906044665926895,\n",
      "                                      'phi_G': -0.3247781310016173,\n",
      "                                      'scale': 0.019923491923441585}]},\n",
      " 'lens_cosmo': None,\n",
      " 'lens_model_list_macromodel': None,\n",
      " 'lens_model_macromodel': None,\n",
      " 'lens_redshift_list_macromodel': None,\n",
      " 'name': 'roman_data_challenge_rung_1_00000000',\n",
      " 'physical_params': {'einstein_radius': 2.3910665582424486,\n",
      "                     'galaxy_id': 32982,\n",
      "                     'lens_stellar_mass': 432955499415.13837,\n",
      "                     'lens_velocity_dispersion': 223.67201701693105,\n",
      "                     'magnification': 4.034866392201909,\n",
      "                     'magnitudes': {'lens': {'F062': 18.117437402883333,\n",
      "                                             'F087': 17.40147872940723,\n",
      "                                             'F106': 17.126760111117747,\n",
      "                                             'F129': 16.844258147032726,\n",
      "                                             'F146': 16.815676485615775,\n",
      "                                             'F158': 16.67187542352538,\n",
      "                                             'F184': 16.58800092104967,\n",
      "                                             'F213': 16.41826659143618},\n",
      "                                    'lensed_source': {'F062': 22.391471770010384,\n",
      "                                                      'F087': 22.102967372163924,\n",
      "                                                      'F106': 21.913372486183434,\n",
      "                                                      'F129': 21.608485699020108,\n",
      "                                                      'F146': 21.336043490081614,\n",
      "                                                      'F158': 21.163260263961675,\n",
      "                                                      'F184': 20.75753275592311,\n",
      "                                                      'F213': 20.583518892855963},\n",
      "                                    'source': {'F062': 23.906044665926895,\n",
      "                                               'F087': 23.617540268080436,\n",
      "                                               'F106': 23.427945382099946,\n",
      "                                               'F129': 23.12305859493662,\n",
      "                                               'F146': 22.850616385998126,\n",
      "                                               'F158': 22.677833159878187,\n",
      "                                               'F184': 22.27210565183962,\n",
      "                                               'F213': 22.098091788772475}},\n",
      "                     'main_halo_concentration': 5.448242211330085,\n",
      "                     'main_halo_mass': 74368501329612.03},\n",
      " 'realization': None,\n",
      " 'use_jax': [True, True, True, True],\n",
      " 'z_lens': 0.3069999999999998,\n",
      " 'z_source': 3.1834657459216733}\n"
     ]
    }
   ],
   "source": [
    "pprint(sample_lens.__dict__)"
   ]
  }
 ],
 "metadata": {
  "kernelspec": {
   "display_name": "mejiro-v2",
   "language": "python",
   "name": "python3"
  },
  "language_info": {
   "codemirror_mode": {
    "name": "ipython",
    "version": 3
   },
   "file_extension": ".py",
   "mimetype": "text/x-python",
   "name": "python",
   "nbconvert_exporter": "python",
   "pygments_lexer": "ipython3",
   "version": "3.10.6"
  }
 },
 "nbformat": 4,
 "nbformat_minor": 2
}
