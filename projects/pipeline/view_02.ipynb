{
 "cells": [
  {
   "cell_type": "code",
   "execution_count": 1,
   "metadata": {},
   "outputs": [],
   "source": [
    "import os\n",
    "import yaml\n",
    "from glob import glob\n",
    "from pprint import pprint\n",
    "\n",
    "from mejiro.utils import util\n",
    "\n",
    "# read configuration file\n",
    "with open('roman_test.yaml', 'r') as f:\n",
    "    config = yaml.load(f, Loader=yaml.SafeLoader)\n",
    "\n",
    "if config['dev']:\n",
    "    config['pipeline_label'] += '_dev'"
   ]
  },
  {
   "cell_type": "code",
   "execution_count": 2,
   "metadata": {},
   "outputs": [
    {
     "name": "stdout",
     "output_type": "stream",
     "text": [
      "Found 1325 system(s) in /data/bwedig/mejiro/roman_test_dev/02\n"
     ]
    }
   ],
   "source": [
    "data_dir = os.path.join(config['data_dir'], config['pipeline_label'], '02')\n",
    "\n",
    "pickles = sorted(glob(os.path.join(data_dir, '*', '*.pkl')))\n",
    "sample_lenses = [util.unpickle(f) for f in pickles]\n",
    "print(f'Found {len(sample_lenses)} system(s) in {data_dir}')"
   ]
  },
  {
   "cell_type": "code",
   "execution_count": 3,
   "metadata": {},
   "outputs": [
    {
     "name": "stdout",
     "output_type": "stream",
     "text": [
      "StrongLens(name=roman_test_00000000, coords=None, z_lens=1.211999999999999, z_source=2.389944287530023)\n"
     ]
    }
   ],
   "source": [
    "sample_lens = sample_lenses[0]\n",
    "\n",
    "print(sample_lens)"
   ]
  },
  {
   "cell_type": "code",
   "execution_count": 4,
   "metadata": {},
   "outputs": [],
   "source": [
    "# from collections import Counter\n",
    "\n",
    "# galaxy_ids = [l.physical_params.get('galaxy_id') for l in sample_lenses]\n",
    "# repeat_list = []\n",
    "\n",
    "# counts = Counter(galaxy_ids)\n",
    "# for galaxy_id, count in counts.items():\n",
    "#     print(f'galaxy_id {galaxy_id} appears {count} times')\n",
    "#     repeat_list.append(count)"
   ]
  },
  {
   "cell_type": "code",
   "execution_count": 5,
   "metadata": {},
   "outputs": [],
   "source": [
    "# import matplotlib.pyplot as plt\n",
    "# import numpy as np\n",
    "\n",
    "# plt.figure(figsize=(6, 4))\n",
    "# plt.plot(np.linspace(0, len(repeat_list), len(repeat_list)), sorted(repeat_list, reverse=True))\n",
    "# plt.title(f'Repeated COSMOS Sources\\n{len(galaxy_ids)} Strong Lenses, {len(repeat_list)} Unique Sources')\n",
    "# plt.xlabel('Rank in Number of Repetitions')\n",
    "# plt.ylabel('Number of Repetitions')\n",
    "# plt.show()"
   ]
  },
  {
   "cell_type": "code",
   "execution_count": 6,
   "metadata": {},
   "outputs": [
    {
     "name": "stdout",
     "output_type": "stream",
     "text": [
      "{'coords': None,\n",
      " 'cosmo': FlatLambdaCDM(name='Planck18',\n",
      "                        H0=<Quantity 67.66 km / (Mpc s)>,\n",
      "                        Om0=0.30966,\n",
      "                        Tcmb0=<Quantity 2.7255 K>,\n",
      "                        Neff=3.046,\n",
      "                        m_nu=<Quantity [0.  , 0.  , 0.06] eV>,\n",
      "                        Ob0=0.04897),\n",
      " 'kwargs_lens_macromodel': None,\n",
      " 'kwargs_model': {'cosmo': FlatLambdaCDM(name='Planck18',\n",
      "                                         H0=<Quantity 67.66 km / (Mpc s)>,\n",
      "                                         Om0=0.30966,\n",
      "                                         Tcmb0=<Quantity 2.7255 K>,\n",
      "                                         Neff=3.046,\n",
      "                                         m_nu=<Quantity [0.  , 0.  , 0.06] eV>,\n",
      "                                         Ob0=0.04897),\n",
      "                  'lens_light_model_list': ['HERNQUIST_ELLIPSE'],\n",
      "                  'lens_model_list': ['NFW_ELLIPSE_CSE',\n",
      "                                      'HERNQUIST_ELLIPSE_CSE',\n",
      "                                      'SHEAR',\n",
      "                                      'CONVERGENCE'],\n",
      "                  'lens_redshift_list': [1.211999999999999,\n",
      "                                         1.211999999999999,\n",
      "                                         1.211999999999999,\n",
      "                                         1.211999999999999],\n",
      "                  'point_source_model_list': [],\n",
      "                  'source_light_model_list': ['SERSIC_ELLIPSE'],\n",
      "                  'source_redshift_list': [2.389944287530023],\n",
      "                  'z_source': 2.389944287530023},\n",
      " 'kwargs_params': {'kwargs_lens': [{'Rs': 7.012223578646069,\n",
      "                                    'alpha_Rs': 1.1466021551163517,\n",
      "                                    'center_x': 0.0026399134976250486,\n",
      "                                    'center_y': -0.017743024409418183,\n",
      "                                    'e1': 0.029339144900229958,\n",
      "                                    'e2': 0.013533731043195255},\n",
      "                                   {'Rs': 0.09318945932463384,\n",
      "                                    'center_x': 0.0026399134976250486,\n",
      "                                    'center_y': -0.017743024409418183,\n",
      "                                    'e1': 0.18871896140752914,\n",
      "                                    'e2': 0.04071203210235908,\n",
      "                                    'sigma0': 14.948627334868357},\n",
      "                                   {'dec_0': 0,\n",
      "                                    'gamma1': -0.0,\n",
      "                                    'gamma2': 0.0,\n",
      "                                    'ra_0': 0},\n",
      "                                   {'dec_0': 0, 'kappa': 0.0, 'ra_0': 0}],\n",
      "                   'kwargs_lens_light': [{'Rs': 0.09318945932463384,\n",
      "                                          'center_x': 0.0026399134976250486,\n",
      "                                          'center_y': -0.017743024409418183,\n",
      "                                          'e1': 0.18871896140752914,\n",
      "                                          'e2': 0.04071203210235908,\n",
      "                                          'magnitude': 24.081374928063926}],\n",
      "                   'kwargs_ps': [],\n",
      "                   'kwargs_source': [{'R_sersic': 0.14439379039967784,\n",
      "                                      'center_x': -0.013944588232434916,\n",
      "                                      'center_y': -0.20974605646399203,\n",
      "                                      'e1': -0.003557111310793432,\n",
      "                                      'e2': -0.042283462799644705,\n",
      "                                      'magnitude': 26.41782154727326,\n",
      "                                      'n_sersic': 1.0}]},\n",
      " 'lens_cosmo': None,\n",
      " 'lens_model_list_macromodel': None,\n",
      " 'lens_model_macromodel': None,\n",
      " 'lens_redshift_list_macromodel': None,\n",
      " 'name': 'roman_test_00000000',\n",
      " 'physical_params': {'einstein_radius': 0.8013660635527892,\n",
      "                     'lens_stellar_mass': 168395119933.88812,\n",
      "                     'lens_velocity_dispersion': 295.70933649536727,\n",
      "                     'magnification': 9.45879183088736,\n",
      "                     'magnitudes': {'lens': {'F062': 24.081374928063926,\n",
      "                                             'F087': 23.077601586141338,\n",
      "                                             'F106': 22.299628474693083,\n",
      "                                             'F129': 21.835361340187642,\n",
      "                                             'F146': 21.653440641193843,\n",
      "                                             'F158': 21.417526996405517,\n",
      "                                             'F184': 21.16375171564606,\n",
      "                                             'F213': 20.869466815281033},\n",
      "                                    'lensed_source': {'F062': 23.97823237822633,\n",
      "                                                      'F087': 23.876454456502714,\n",
      "                                                      'F106': 23.713737424272487,\n",
      "                                                      'F129': 23.317851830969957,\n",
      "                                                      'F146': 23.173211772912346,\n",
      "                                                      'F158': 22.91003151164741,\n",
      "                                                      'F184': 22.80433888620545,\n",
      "                                                      'F213': 22.56662330898554},\n",
      "                                    'source': {'F062': 26.41782154727326,\n",
      "                                               'F087': 26.316043625549643,\n",
      "                                               'F106': 26.153326593319417,\n",
      "                                               'F129': 25.757441000016886,\n",
      "                                               'F146': 25.612800941959275,\n",
      "                                               'F158': 25.34962068069434,\n",
      "                                               'F184': 25.24392805525238,\n",
      "                                               'F213': 25.00621247803247}},\n",
      "                     'main_halo_concentration': 5.807676358030793,\n",
      "                     'main_halo_mass': 18097963477587.637},\n",
      " 'realization': None,\n",
      " 'use_jax': [True, True, True, True],\n",
      " 'z_lens': 1.211999999999999,\n",
      " 'z_source': 2.389944287530023}\n"
     ]
    }
   ],
   "source": [
    "pprint(sample_lens.__dict__)"
   ]
  }
 ],
 "metadata": {
  "kernelspec": {
   "display_name": "mejiro-v2",
   "language": "python",
   "name": "python3"
  },
  "language_info": {
   "codemirror_mode": {
    "name": "ipython",
    "version": 3
   },
   "file_extension": ".py",
   "mimetype": "text/x-python",
   "name": "python",
   "nbconvert_exporter": "python",
   "pygments_lexer": "ipython3",
   "version": "3.10.6"
  }
 },
 "nbformat": 4,
 "nbformat_minor": 2
}
