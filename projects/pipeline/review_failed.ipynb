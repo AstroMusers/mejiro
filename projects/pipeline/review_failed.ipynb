{
 "cells": [
  {
   "cell_type": "code",
   "execution_count": null,
   "metadata": {},
   "outputs": [],
   "source": [
    "import numpy as np\n",
    "import os\n",
    "%matplotlib inline\n",
    "import matplotlib.pyplot as plt\n",
    "from matplotlib import colors\n",
    "import pickle\n",
    "from glob import glob\n",
    "from pprint import pprint\n",
    "\n",
    "# set matplotlib style\n",
    "# plt.style.use(f'{repo_dir}/mejiro/mplstyle/science.mplstyle')\n",
    "\n",
    "from mejiro.utils import util\n",
    "from mejiro.instruments.hwo import HWO\n",
    "from mejiro.instruments.roman import Roman\n",
    "from mejiro.synthetic_image import SyntheticImage\n",
    "from mejiro.galaxy_galaxy import SampleBELLS, SampleSL2S, SampleGG"
   ]
  },
  {
   "cell_type": "code",
   "execution_count": null,
   "metadata": {},
   "outputs": [],
   "source": [
    "lens = util.unpickle('/data/bwedig/mejiro/roman_test/04/sca07/failed_roman_test_00000033_F106.pkl')"
   ]
  },
  {
   "cell_type": "code",
   "execution_count": null,
   "metadata": {},
   "outputs": [],
   "source": [
    "instrument = Roman()\n",
    "\n",
    "kwargs_numerics = {\n",
    "    'supersampling_factor': 1,\n",
    "    'compute_mode': 'adaptive',  # 'adaptive' or 'regular'\n",
    "}\n",
    "synthetic_image = SyntheticImage(lens, instrument=instrument, band='F106', kwargs_numerics=kwargs_numerics)"
   ]
  },
  {
   "cell_type": "code",
   "execution_count": null,
   "metadata": {},
   "outputs": [],
   "source": [
    "synthetic_image.plot()"
   ]
  }
 ],
 "metadata": {
  "kernelspec": {
   "display_name": "mejiro-v2",
   "language": "python",
   "name": "python3"
  },
  "language_info": {
   "codemirror_mode": {
    "name": "ipython",
    "version": 3
   },
   "file_extension": ".py",
   "mimetype": "text/x-python",
   "name": "python",
   "nbconvert_exporter": "python",
   "pygments_lexer": "ipython3",
   "version": "3.10.6"
  }
 },
 "nbformat": 4,
 "nbformat_minor": 2
}
