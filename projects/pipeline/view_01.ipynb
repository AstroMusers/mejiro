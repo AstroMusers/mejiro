{
 "cells": [
  {
   "cell_type": "code",
   "execution_count": null,
   "metadata": {},
   "outputs": [],
   "source": [
    "import os\n",
    "import yaml\n",
    "\n",
    "import numpy as np\n",
    "from corner import corner\n",
    "\n",
    "from mejiro.utils import util\n",
    "\n",
    "# read configuration file\n",
    "with open('hwo.yaml', 'r') as f:  # roman_hlwas_medium\n",
    "    config = yaml.load(f, Loader=yaml.SafeLoader)"
   ]
  },
  {
   "cell_type": "code",
   "execution_count": null,
   "metadata": {},
   "outputs": [],
   "source": [
    "if config['dev']:\n",
    "    config['pipeline_dir'] += '_dev'\n",
    "\n",
    "total = config['survey']['total_population']"
   ]
  },
  {
   "cell_type": "code",
   "execution_count": null,
   "metadata": {},
   "outputs": [],
   "source": [
    "data_dir = os.path.join(config['data_dir'], config['pipeline_label'], '01')\n",
    "\n",
    "detectable_csv = os.path.join(data_dir, 'detectable_pop.csv')\n",
    "detectable_df = util.combine_all_csvs(data_dir, 'detectable', detectable_csv)\n",
    "\n",
    "if total:\n",
    "    total_csv = os.path.join(data_dir, 'total_pop.csv')\n",
    "    total_df = util.combine_all_csvs(data_dir, 'total', total_csv)"
   ]
  },
  {
   "cell_type": "code",
   "execution_count": null,
   "metadata": {},
   "outputs": [],
   "source": [
    "survey_area = config['survey']['area']\n",
    "runs = config['survey']['runs']\n",
    "total_area = survey_area * runs\n",
    "print(f'{runs} run(s) of {survey_area} sq. deg. each gives {total_area:.2f} sq. deg. total')\n",
    "\n",
    "print(f'{len(detectable_df)} detectable strong lenses')\n",
    "\n",
    "det_per_sq_deg = len(detectable_df) / total_area\n",
    "print(f'Detectable strong lenses per sq. deg.: {det_per_sq_deg:.2f}')\n",
    "\n",
    "det_per_exposure = det_per_sq_deg * 0.281\n",
    "print(f'Detectable strong lenses per exposure: {det_per_exposure:.2f}')\n",
    "\n",
    "snr_threshold = 200\n",
    "high_snr_df = detectable_df[detectable_df['snr'] > snr_threshold]\n",
    "high_snr_det_per_sq_deg = len(high_snr_df) / total_area\n",
    "# high_snr_det_per_exposure = high_snr_det_per_sq_deg * 0.281\n",
    "\n",
    "print(f'{len(high_snr_df)} characterizable strong lenses (SNR > {snr_threshold})')\n",
    "print(f'{high_snr_det_per_sq_deg:.2f} characterizable per sq. deg.')\n",
    "# print(f'Characterizable strong lenses per exposure: {high_snr_det_per_exposure:.2f}')"
   ]
  },
  {
   "cell_type": "code",
   "execution_count": null,
   "metadata": {},
   "outputs": [],
   "source": [
    "band = 'J'  # F129\n",
    "\n",
    "labels = [\n",
    "    r\"$\\sigma_v$\",\n",
    "    r\"$\\log(M_{*})$\",\n",
    "    r\"$\\theta_E$\",\n",
    "    r\"$z_{\\rm l}$\",\n",
    "    r\"$z_{\\rm s}$\",\n",
    "    r\"$m_{\\rm source}$\",\n",
    "    r\"$m_{\\rm lens}$\",\n",
    "    \"SNR\"\n",
    "]\n",
    "\n",
    "detectable_sample, total_sample = [], []\n",
    "\n",
    "for i, row in detectable_df.iterrows():\n",
    "    detectable_sample.append([\n",
    "        row['vel_disp'],\n",
    "        np.log10(row['m_star']),\n",
    "        row['theta_e'],\n",
    "        row['z_lens'],\n",
    "        row['z_source'],\n",
    "        row[f'mag_{band}_source'],\n",
    "        row[f'mag_{band}_lens'],\n",
    "        row['snr']\n",
    "    ])\n",
    "\n",
    "if total:\n",
    "    for i, row in total_df.iterrows():\n",
    "        total_sample.append([\n",
    "            row['vel_disp'],\n",
    "            np.log10(row['m_star']),\n",
    "            row['theta_e'],\n",
    "            row['z_lens'],\n",
    "            row['z_source'],\n",
    "            row[f'mag_{band}_source'],\n",
    "            row[f'mag_{band}_lens'],\n",
    "            row['snr']\n",
    "        ])"
   ]
  },
  {
   "cell_type": "code",
   "execution_count": null,
   "metadata": {},
   "outputs": [],
   "source": [
    "def weights(data):\n",
    "    return 1 / len(data) * np.ones(len(data))"
   ]
  },
  {
   "cell_type": "code",
   "execution_count": null,
   "metadata": {},
   "outputs": [],
   "source": [
    "if total:\n",
    "    total_corner = corner(np.array(total_sample), labels=labels, show_titles=True, weights=weights(total_sample))"
   ]
  },
  {
   "cell_type": "code",
   "execution_count": null,
   "metadata": {},
   "outputs": [],
   "source": [
    "# corner(np.array(detectable_sample), color='red', labels=labels, show_titles=True, fig=total_corner, density=True, weights=weights(detectable_sample))\n",
    "\n",
    "corner(np.array(detectable_sample), color='red', labels=labels, show_titles=True, density=True, weights=weights(detectable_sample))"
   ]
  }
 ],
 "metadata": {
  "kernelspec": {
   "display_name": "mejiro-v2",
   "language": "python",
   "name": "python3"
  },
  "language_info": {
   "codemirror_mode": {
    "name": "ipython",
    "version": 3
   },
   "file_extension": ".py",
   "mimetype": "text/x-python",
   "name": "python",
   "nbconvert_exporter": "python",
   "pygments_lexer": "ipython3",
   "version": "3.10.6"
  }
 },
 "nbformat": 4,
 "nbformat_minor": 2
}
