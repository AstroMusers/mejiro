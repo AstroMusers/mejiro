{
 "cells": [
  {
   "cell_type": "code",
   "execution_count": 17,
   "metadata": {},
   "outputs": [],
   "source": [
    "import os\n",
    "import yaml\n",
    "import matplotlib.pyplot as plt\n",
    "import numpy as np\n",
    "from glob import glob\n",
    "from pprint import pprint\n",
    "\n",
    "from mejiro.utils import util\n",
    "\n",
    "# read configuration file\n",
    "with open('roman_test.yaml', 'r') as f:\n",
    "    config = yaml.load(f, Loader=yaml.SafeLoader)\n",
    "\n",
    "if config['dev']:\n",
    "    config['pipeline_label'] += '_dev'"
   ]
  },
  {
   "cell_type": "code",
   "execution_count": 18,
   "metadata": {},
   "outputs": [
    {
     "name": "stdout",
     "output_type": "stream",
     "text": [
      "Found 25 system(s) in /data/bwedig/mejiro/roman_test_dev/02\n"
     ]
    }
   ],
   "source": [
    "data_dir = os.path.join(config['data_dir'], config['pipeline_label'], '02')\n",
    "\n",
    "pickles = sorted(glob(os.path.join(data_dir, '*', '*.pkl')))\n",
    "lenses = [util.unpickle(f) for f in pickles]\n",
    "print(f'Found {len(lenses)} system(s) in {data_dir}')"
   ]
  },
  {
   "cell_type": "code",
   "execution_count": 19,
   "metadata": {},
   "outputs": [
    {
     "name": "stdout",
     "output_type": "stream",
     "text": [
      "StrongLens(name=roman_test_00000000, coords=None, z_lens=0.7429999999999994, z_source=1.3155071275197323)\n"
     ]
    }
   ],
   "source": [
    "sample_lens = lenses[0]\n",
    "\n",
    "print(sample_lens)"
   ]
  },
  {
   "cell_type": "code",
   "execution_count": 20,
   "metadata": {},
   "outputs": [],
   "source": [
    "main_halo_masses = [l.get_main_halo_mass() for l in lenses]\n",
    "# np.save('main_halo_masses.npy', main_halo_masses)\n",
    "np.save('main_halo_masses_slhammocks.npy', main_halo_masses)"
   ]
  },
  {
   "cell_type": "code",
   "execution_count": 21,
   "metadata": {},
   "outputs": [
    {
     "data": {
      "image/png": "[encoded data removed]",
      "text/plain": [
       "<Figure size 700x500 with 1 Axes>"
      ]
     },
     "metadata": {},
     "output_type": "display_data"
    }
   ],
   "source": [
    "bins = np.logspace(np.log10(min(main_halo_masses)), np.log10(max(main_halo_masses)), int(np.sqrt(len(main_halo_masses))))\n",
    "plt.hist(main_halo_masses, bins=bins, alpha=0.7)\n",
    "plt.xscale('log')\n",
    "plt.xlabel(r'Main Halo Mass [$M_\\odot$]')\n",
    "plt.ylabel('Number of Systems')\n",
    "plt.title(f'Histogram of Main Halo Masses\\nMin: {min(main_halo_masses):.2e}, Max: {max(main_halo_masses):.2e}')\n",
    "plt.show()"
   ]
  },
  {
   "cell_type": "code",
   "execution_count": 5,
   "metadata": {},
   "outputs": [],
   "source": [
    "# slsim = np.load('main_halo_masses.npy')\n",
    "# slhammocks = np.load('main_halo_masses_slhammocks.npy')\n",
    "\n",
    "# plt.hist(slsim, bins=30, alpha=0.5, label='SLSim')\n",
    "# plt.hist(slhammocks, bins=30, alpha=0.5, label='SLHammocks')\n",
    "# plt.xlabel('Main Halo Mass (M_sun)')\n",
    "# plt.ylabel('Number of Systems')\n",
    "# plt.legend()\n",
    "# plt.show()"
   ]
  }
 ],
 "metadata": {
  "kernelspec": {
   "display_name": "mejiro-v2",
   "language": "python",
   "name": "python3"
  },
  "language_info": {
   "codemirror_mode": {
    "name": "ipython",
    "version": 3
   },
   "file_extension": ".py",
   "mimetype": "text/x-python",
   "name": "python",
   "nbconvert_exporter": "python",
   "pygments_lexer": "ipython3",
   "version": "3.10.6"
  }
 },
 "nbformat": 4,
 "nbformat_minor": 2
}
