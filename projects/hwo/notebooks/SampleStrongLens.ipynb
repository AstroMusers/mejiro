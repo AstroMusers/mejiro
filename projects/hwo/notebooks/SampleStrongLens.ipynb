{
 "cells": [
  {
   "cell_type": "code",
   "execution_count": 1,
   "metadata": {},
   "outputs": [
    {
     "name": "stdout",
     "output_type": "stream",
     "text": [
      "Warning, 5 of 20000 bins contained negative fluxes; they have been set to zero.\n"
     ]
    },
    {
     "name": "stderr",
     "output_type": "stream",
     "text": [
      "/data/bwedig/.conda/envs/mejiro-dev/lib/python3.10/site-packages/pysynphot/units.py:824: RuntimeWarning: divide by zero encountered in log\n",
      "  return -1.085736 * N.log(arg) + ABZERO\n"
     ]
    },
    {
     "name": "stdout",
     "output_type": "stream",
     "text": [
      "Warning, 3590 of 20000 bins contained negative fluxes; they have been set to zero.\n",
      "Warning, 293 of 2920 bins contained negative fluxes; they have been set to zero.\n"
     ]
    }
   ],
   "source": [
    "import os\n",
    "import sys\n",
    "import random\n",
    "from glob import glob\n",
    "from copy import deepcopy\n",
    "from pprint import pprint\n",
    "\n",
    "import numpy as np\n",
    "import matplotlib.pyplot as plt\n",
    "import matplotlib\n",
    "from tqdm import tqdm\n",
    "\n",
    "# enable use of local modules\n",
    "repo_dir = '/grad/bwedig/mejiro'\n",
    "if repo_dir not in sys.path:\n",
    "    sys.path.append(repo_dir)\n",
    "\n",
    "from mejiro.instruments.hwo import HWO\n",
    "from mejiro.synthetic_image import SyntheticImage\n",
    "from mejiro.lenses.test import SampleStrongLens\n",
    "from mejiro.exposure import Exposure\n",
    "from mejiro.utils import util\n",
    "\n",
    "# set matplotlib style\n",
    "plt.style.use(f'{repo_dir}/mejiro/mplstyle/science.mplstyle')\n",
    "\n",
    "# set HWO directory\n",
    "hwo_dir = os.path.join(repo_dir, 'hwo')"
   ]
  },
  {
   "cell_type": "code",
   "execution_count": 2,
   "metadata": {},
   "outputs": [],
   "source": [
    "strong_lens = SampleStrongLens()"
   ]
  },
  {
   "cell_type": "code",
   "execution_count": 5,
   "metadata": {},
   "outputs": [],
   "source": [
    "synthetic_image = SyntheticImage(strong_lens=strong_lens,\n",
    "                                     instrument=HWO(),\n",
    "                                     band='J',\n",
    "                                     arcsec=4.95,\n",
    "                                     oversample=1,\n",
    "                                     verbose=False)"
   ]
  },
  {
   "cell_type": "code",
   "execution_count": 6,
   "metadata": {},
   "outputs": [
    {
     "name": "stdout",
     "output_type": "stream",
     "text": [
      "{'J': {'R_sersic': 0.5300707454127908,\n",
      "       'amp': 11166.458364748934,\n",
      "       'center_x': -0.007876281728887604,\n",
      "       'center_y': 0.010633393703246008,\n",
      "       'e1': 0.023377277902774978,\n",
      "       'e2': 0.05349948216860632,\n",
      "       'n_sersic': 4.0}}\n"
     ]
    }
   ],
   "source": [
    "pprint(strong_lens.kwargs_lens_light_amp_dict)"
   ]
  }
 ],
 "metadata": {
  "kernelspec": {
   "display_name": "mejiro-dev",
   "language": "python",
   "name": "python3"
  },
  "language_info": {
   "codemirror_mode": {
    "name": "ipython",
    "version": 3
   },
   "file_extension": ".py",
   "mimetype": "text/x-python",
   "name": "python",
   "nbconvert_exporter": "python",
   "pygments_lexer": "ipython3",
   "version": "3.10.6"
  }
 },
 "nbformat": 4,
 "nbformat_minor": 2
}
