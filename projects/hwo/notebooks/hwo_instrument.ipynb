{
 "cells": [
  {
   "cell_type": "code",
   "execution_count": 1,
   "metadata": {},
   "outputs": [
    {
     "name": "stdout",
     "output_type": "stream",
     "text": [
      "Warning, 5 of 20000 bins contained negative fluxes; they have been set to zero.\n"
     ]
    },
    {
     "name": "stderr",
     "output_type": "stream",
     "text": [
      "/data/bwedig/.conda/envs/mejiro-v2/lib/python3.10/site-packages/pysynphot/units.py:824: RuntimeWarning: divide by zero encountered in log\n",
      "  return -1.085736 * N.log(arg) + ABZERO\n"
     ]
    },
    {
     "name": "stdout",
     "output_type": "stream",
     "text": [
      "Warning, 3590 of 20000 bins contained negative fluxes; they have been set to zero.\n",
      "Warning, 293 of 2920 bins contained negative fluxes; they have been set to zero.\n"
     ]
    }
   ],
   "source": [
    "import os\n",
    "import yaml\n",
    "from glob import glob\n",
    "from pprint import pprint\n",
    "\n",
    "import matplotlib.pyplot as plt\n",
    "import numpy as np\n",
    "\n",
    "from mejiro.utils import util\n",
    "from mejiro.instruments.hwo import HWO"
   ]
  },
  {
   "cell_type": "code",
   "execution_count": 2,
   "metadata": {},
   "outputs": [],
   "source": [
    "hwo = HWO()"
   ]
  },
  {
   "cell_type": "code",
   "execution_count": 3,
   "metadata": {},
   "outputs": [
    {
     "name": "stdout",
     "output_type": "stream",
     "text": [
      "FUV: 0.005729577951308233 arcsec / pix\n",
      "NUV: 0.005729577951308233 arcsec / pix\n",
      "U: 0.005729577951308233 arcsec / pix\n",
      "B: 0.005729577951308233 arcsec / pix\n",
      "V: 0.005729577951308233 arcsec / pix\n",
      "R: 0.005729577951308233 arcsec / pix\n",
      "I: 0.005729577951308233 arcsec / pix\n",
      "J: 0.017188733853924696 arcsec / pix\n",
      "H: 0.017188733853924696 arcsec / pix\n",
      "K: 0.017188733853924696 arcsec / pix\n"
     ]
    }
   ],
   "source": [
    "_ = [print(f'{band}: {hwo.get_pixel_scale(band)}') for band in hwo.bands]"
   ]
  },
  {
   "cell_type": "code",
   "execution_count": 4,
   "metadata": {},
   "outputs": [
    {
     "name": "stdout",
     "output_type": "stream",
     "text": [
      "FUV: 0.014753663224618697 arcsec2\n",
      "NUV: 0.014753663224618697 arcsec2\n",
      "U: 0.014753663224618697 arcsec2\n",
      "B: 0.014753663224618697 arcsec2\n",
      "V: 0.017881439828237866 arcsec2\n",
      "R: 0.022868177998158983 arcsec2\n",
      "I: 0.02508122748185179 arcsec2\n",
      "J: 0.03717923132603912 arcsec2\n",
      "H: 0.047211722318779833 arcsec2\n",
      "K: 0.06550626471730701 arcsec2\n"
     ]
    }
   ],
   "source": [
    "_ = [print(f'{band}: {hwo.get_psf_fwhm(band)}') for band in hwo.bands]"
   ]
  },
  {
   "cell_type": "code",
   "execution_count": 5,
   "metadata": {},
   "outputs": [
    {
     "data": {
      "text/plain": [
       "{'_tracked_attributes': ['name',\n",
       "  'aperture',\n",
       "  'temperature',\n",
       "  'ota_emissivity',\n",
       "  'diff_limit_wavelength',\n",
       "  'unobscured_fraction'],\n",
       " 'name': 'HWO-EAC-1',\n",
       " 'aperture': <Quantity 7.2 m>,\n",
       " 'temperature': <Quantity 270. K>,\n",
       " 'ota_emissivity': ['JsonUnit', OrderedDict([('value', 0.24), ('unit', '')])],\n",
       " 'diff_limit_wavelength': ['JsonUnit',\n",
       "  OrderedDict([('value', 500.0), ('unit', 'nm')])],\n",
       " 'unobscured_fraction': 1.0,\n",
       " '_current_protocol': 'json',\n",
       " 'load_profile': <bound method JSON.load of <syotools.persistence.json_protocol.JSON object at 0x7ff154c67e80>>,\n",
       " 'save_profile': <bound method JSON.save of <syotools.persistence.json_protocol.JSON object at 0x7ff154c67e80>>,\n",
       " 'diff_limited_wavelength': <Quantity 500. nm>}"
      ]
     },
     "execution_count": 5,
     "metadata": {},
     "output_type": "execute_result"
    }
   ],
   "source": [
    "hwo.telescope.__dict__"
   ]
  }
 ],
 "metadata": {
  "kernelspec": {
   "display_name": "mejiro-v2",
   "language": "python",
   "name": "python3"
  },
  "language_info": {
   "codemirror_mode": {
    "name": "ipython",
    "version": 3
   },
   "file_extension": ".py",
   "mimetype": "text/x-python",
   "name": "python",
   "nbconvert_exporter": "python",
   "pygments_lexer": "ipython3",
   "version": "3.10.6"
  }
 },
 "nbformat": 4,
 "nbformat_minor": 1
}
