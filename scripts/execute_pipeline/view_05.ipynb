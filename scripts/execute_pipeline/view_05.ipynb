{
 "cells": [
  {
   "cell_type": "code",
   "execution_count": 1,
   "metadata": {},
   "outputs": [],
   "source": [
    "import os\n",
    "import sys\n",
    "\n",
    "import numpy as np\n",
    "import matplotlib\n",
    "import matplotlib.pyplot as plt\n",
    "from matplotlib import colors\n",
    "from hydra import initialize, compose\n",
    "import pickle\n",
    "from glob import glob\n",
    "from pprint import pprint\n",
    "\n",
    "# set paths to various directories based on the machine this code is being executed on\n",
    "with initialize(version_base=None, config_path='../../config'):\n",
    "    config = compose(config_name='config.yaml')  # overrides=['machine=uzay']\n",
    "\n",
    "array_dir, data_dir, figure_dir, pickle_dir, repo_dir  = config.machine.array_dir, config.machine.data_dir, config.machine.figure_dir, config.machine.pickle_dir, config.machine.repo_dir\n",
    "\n",
    "# enable use of local modules\n",
    "if repo_dir not in sys.path:\n",
    "    sys.path.append(repo_dir)\n",
    "\n",
    "# set matplotlib style\n",
    "plt.style.use(f'{repo_dir}/mejiro/mplstyle/science.mplstyle')\n",
    "\n",
    "from mejiro.lenses.test import SampleStrongLens\n",
    "from mejiro.plots import diagnostic_plot, plot, plot_util, overplot\n",
    "from mejiro.analysis import stats\n",
    "from mejiro.utils import util\n",
    "from mejiro.helpers import pyhalo, pandeia_input"
   ]
  },
  {
   "cell_type": "code",
   "execution_count": 2,
   "metadata": {},
   "outputs": [],
   "source": [
    "output_dir = os.path.join(config.machine.pipeline_dir, '05_test')\n",
    "file_list = sorted(glob(output_dir + '/galsim_color_*.npy'))\n",
    "color_list = [np.load(i) for i in file_list]"
   ]
  },
  {
   "cell_type": "code",
   "execution_count": 3,
   "metadata": {},
   "outputs": [
    {
     "data": {
      "text/plain": [
       "False"
      ]
     },
     "execution_count": 3,
     "metadata": {},
     "output_type": "execute_result"
    }
   ],
   "source": [
    "np.isnan(np.min(color_list))"
   ]
  },
  {
   "cell_type": "code",
   "execution_count": 5,
   "metadata": {},
   "outputs": [
    {
     "data": {
      "text/plain": [
       "<matplotlib.image.AxesImage at 0x7ff7203c3d60>"
      ]
     },
     "execution_count": 5,
     "metadata": {},
     "output_type": "execute_result"
    },
    {
     "data": {
      "image/png": "[encoded data removed]",
      "text/plain": [
       "<Figure size 700x525 with 1 Axes>"
      ]
     },
     "metadata": {},
     "output_type": "display_data"
    }
   ],
   "source": [
    "plt.imshow(color_list[0])"
   ]
  },
  {
   "cell_type": "code",
   "execution_count": 4,
   "metadata": {},
   "outputs": [
    {
     "name": "stdout",
     "output_type": "stream",
     "text": [
      "array([[[10, 12,  6],\n",
      "        [ 2,  7,  9],\n",
      "        [10,  7, 13],\n",
      "        ...,\n",
      "        [ 9, 10, 17],\n",
      "        [ 4, 13, 11],\n",
      "        [ 3,  9, 12]],\n",
      "\n",
      "       [[11, 11,  7],\n",
      "        [ 2, 12,  7],\n",
      "        [ 8, 10, 15],\n",
      "        ...,\n",
      "        [ 2, 17, 10],\n",
      "        [ 2, 16, 13],\n",
      "        [ 5,  7, 14]],\n",
      "\n",
      "       [[10, 11, 17],\n",
      "        [10, 12,  9],\n",
      "        [ 9, 14, 15],\n",
      "        ...,\n",
      "        [ 6, 15, 15],\n",
      "        [ 5, 12, 15],\n",
      "        [ 5,  9, 18]],\n",
      "\n",
      "       ...,\n",
      "\n",
      "       [[11,  7, 10],\n",
      "        [ 7, 11, 15],\n",
      "        [ 7,  7,  9],\n",
      "        ...,\n",
      "        [ 8, 14, 11],\n",
      "        [ 7, 14, 12],\n",
      "        [ 6, 13, 13]],\n",
      "\n",
      "       [[ 3, 10, 12],\n",
      "        [ 8, 14, 10],\n",
      "        [ 8, 13, 10],\n",
      "        ...,\n",
      "        [ 4, 16, 12],\n",
      "        [ 3, 15, 14],\n",
      "        [ 4, 10,  6]],\n",
      "\n",
      "       [[ 7, 15, 13],\n",
      "        [ 7,  9, 11],\n",
      "        [ 8, 12, 13],\n",
      "        ...,\n",
      "        [ 4,  8, 12],\n",
      "        [ 7, 15, 10],\n",
      "        [ 5,  9,  7]]], dtype=uint8)\n"
     ]
    }
   ],
   "source": [
    "pprint(color_list[0])"
   ]
  }
 ],
 "metadata": {
  "kernelspec": {
   "display_name": "mejiro",
   "language": "python",
   "name": "python3"
  },
  "language_info": {
   "codemirror_mode": {
    "name": "ipython",
    "version": 3
   },
   "file_extension": ".py",
   "mimetype": "text/x-python",
   "name": "python",
   "nbconvert_exporter": "python",
   "pygments_lexer": "ipython3",
   "version": "3.10.6"
  }
 },
 "nbformat": 4,
 "nbformat_minor": 2
}
