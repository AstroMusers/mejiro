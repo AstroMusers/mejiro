{
 "cells": [
  {
   "cell_type": "markdown",
   "metadata": {},
   "source": [
    "# Example notebook 2: generate a color image\n",
    "\n",
    "This notebook walks through generating a color image. The process is essentially running the previous notebook for each filter, but taking care to hold certain properties constant e.g. subhalo population, location within the FOV, etc."
   ]
  },
  {
   "cell_type": "code",
   "execution_count": 1,
   "metadata": {},
   "outputs": [],
   "source": [
    "import os\n",
    "import sys\n",
    "\n",
    "import numpy as np\n",
    "import matplotlib.pyplot as plt\n",
    "from hydra import initialize, compose\n",
    "import astropy.cosmology as astropy_cosmo\n",
    "from pyHalo.preset_models import CDM\n",
    "from pprint import pprint\n",
    "\n",
    "# set paths to various directories based on the machine this code is being executed on\n",
    "with initialize(version_base=None, config_path='../config'):\n",
    "    config = compose(config_name='config.yaml')  # overrides=['machine=uzay']\n",
    "\n",
    "# enable use of local modules\n",
    "repo_dir  = config.machine.repo_dir\n",
    "if repo_dir not in sys.path:\n",
    "    sys.path.append(repo_dir)\n",
    "\n",
    "from mejiro.lenses.lens import Lens\n",
    "from mejiro.plots import plot\n",
    "from mejiro.helpers import pyhalo, pandeia_input, color\n",
    "from mejiro.utils import util\n",
    "\n",
    "# set matplotlib style\n",
    "plt.style.use(f'{repo_dir}/mejiro/mplstyle/science.mplstyle')"
   ]
  },
  {
   "cell_type": "markdown",
   "metadata": {},
   "source": [
    "# Load a sample strong lens from the survey simulation\n",
    "\n",
    "Here, we won't bother with setting up a strong lens from scratch. We've prepared a sample strong lens from the survey simulation. It has the appropriate magnitudes for each filter for source and lens, but all other parameters are the same."
   ]
  },
  {
   "cell_type": "code",
   "execution_count": 2,
   "metadata": {},
   "outputs": [],
   "source": [
    "f106_dict = util.unpickle(os.path.join(repo_dir, 'examples', '02_files', 'lens_dict_00000006_f106'))\n",
    "f129_dict = util.unpickle(os.path.join(repo_dir, 'examples', '02_files', 'lens_dict_00000006_f129'))\n",
    "f184_dict = util.unpickle(os.path.join(repo_dir, 'examples', '02_files', 'lens_dict_00000006_f184'))\n",
    "\n",
    "f106_lens = f106_dict['lens']\n",
    "f129_lens = f129_dict['lens']\n",
    "f184_lens = f184_dict['lens']"
   ]
  },
  {
   "cell_type": "markdown",
   "metadata": {},
   "source": [
    "Here are its parameters, where the magnitudes are for the F106 band."
   ]
  },
  {
   "cell_type": "code",
   "execution_count": 3,
   "metadata": {},
   "outputs": [
    {
     "name": "stdout",
     "output_type": "stream",
     "text": [
      "['EPL', 'SHEAR', 'CONVERGENCE']\n",
      "[{'center_x': -0.1775294316112599,\n",
      "  'center_y': -0.0037359973581077553,\n",
      "  'e1': -0.23865610012322203,\n",
      "  'e2': 0.1102364105825075,\n",
      "  'gamma': 2,\n",
      "  'theta_E': 1.3426264641545231},\n",
      " {'dec_0': 0,\n",
      "  'gamma1': 0.0016459259386161272,\n",
      "  'gamma2': 0.0024730631565065644,\n",
      "  'ra_0': 0},\n",
      " {'dec_0': 0, 'kappa': -0.021163892066223957, 'ra_0': 0}]\n",
      "['SERSIC_ELLIPSE']\n",
      "[{'R_sersic': 0.20470391829392354,\n",
      "  'center_x': -0.1775294316112599,\n",
      "  'center_y': -0.0037359973581077553,\n",
      "  'e1': -0.028164541371324858,\n",
      "  'e2': 0.011015578615197256,\n",
      "  'magnitude': 19.211774836860958,\n",
      "  'n_sersic': 1.0}]\n",
      "['SERSIC_ELLIPSE']\n",
      "[{'R_sersic': 0.338794254095208,\n",
      "  'center_x': 0.36839746284401154,\n",
      "  'center_y': -0.0178887523739449,\n",
      "  'e1': -0.02548823147717247,\n",
      "  'e2': 0.10090171468850867,\n",
      "  'magnitude': 21.99159234723656,\n",
      "  'n_sersic': 1.0}]\n"
     ]
    }
   ],
   "source": [
    "pprint(f106_lens.lens_model_list[:3])\n",
    "pprint(f106_lens.kwargs_lens[:3])\n",
    "pprint(f106_lens.lens_light_model_list)\n",
    "pprint(f106_lens.kwargs_lens_light)\n",
    "pprint(f106_lens.source_model_list)\n",
    "pprint(f106_lens.kwargs_source)"
   ]
  },
  {
   "cell_type": "markdown",
   "metadata": {},
   "source": [
    "# Generate synthetic RGB image\n",
    "\n",
    "Note that the `color.get_rgb` method is simply a wrapper for [`astropy.visualization.make_lupton_rgb`](https://docs.astropy.org/en/stable/api/astropy.visualization.make_lupton_rgb.html), so the arguments `minimum`, `stretch`, and `Q` are described in its documentation."
   ]
  },
  {
   "cell_type": "code",
   "execution_count": 4,
   "metadata": {},
   "outputs": [
    {
     "data": {
      "image/png": "[encoded data removed]",
      "text/plain": [
       "<Figure size 700x525 with 1 Axes>"
      ]
     },
     "metadata": {},
     "output_type": "display_data"
    }
   ],
   "source": [
    "image_b = f106_lens.get_array(51, 5.61)\n",
    "image_g = f129_lens.get_array(51, 5.61)\n",
    "image_r = f184_lens.get_array(51, 5.61)\n",
    "\n",
    "rgb_synthetic_image = color.get_rgb(image_b, image_g, image_r, minimum=None, stretch=3, Q=4)\n",
    "rgb_synthetic_image = util.center_crop_image(rgb_synthetic_image, (45, 45))\n",
    "\n",
    "plt.imshow(rgb_synthetic_image)\n",
    "plt.axis('off')\n",
    "plt.show()"
   ]
  },
  {
   "cell_type": "markdown",
   "metadata": {},
   "source": [
    "# Generate Pandeia images for each band"
   ]
  },
  {
   "cell_type": "code",
   "execution_count": 5,
   "metadata": {},
   "outputs": [
    {
     "name": "stderr",
     "output_type": "stream",
     "text": [
      "100%|██████████| 51/51 [00:00<00:00, 6657.21it/s]\n",
      "  2%|▏         | 18/903 [00:00<00:04, 177.89it/s]"
     ]
    },
    {
     "name": "stderr",
     "output_type": "stream",
     "text": [
      "100%|██████████| 903/903 [00:05<00:00, 168.77it/s]\n"
     ]
    },
    {
     "name": "stdout",
     "output_type": "stream",
     "text": [
      "Point source conversion complete: placed 903 point sources\n",
      "Estimated calculation time: 0:01:11\n",
      "Performing Pandeia calculation...\n",
      "Pandeia calculation complete in 0:01:03\n"
     ]
    },
    {
     "name": "stderr",
     "output_type": "stream",
     "text": [
      "100%|██████████| 51/51 [00:00<00:00, 6377.74it/s]\n",
      "100%|██████████| 865/865 [00:05<00:00, 171.65it/s]\n"
     ]
    },
    {
     "name": "stdout",
     "output_type": "stream",
     "text": [
      "Point source conversion complete: placed 865 point sources\n",
      "Estimated calculation time: 0:01:08\n",
      "Performing Pandeia calculation...\n",
      "Pandeia calculation complete in 0:01:00\n"
     ]
    },
    {
     "name": "stderr",
     "output_type": "stream",
     "text": [
      "100%|██████████| 51/51 [00:00<00:00, 4443.03it/s]\n",
      "100%|██████████| 928/928 [00:05<00:00, 170.84it/s]\n"
     ]
    },
    {
     "name": "stdout",
     "output_type": "stream",
     "text": [
      "Point source conversion complete: placed 928 point sources\n",
      "Estimated calculation time: 0:01:13\n",
      "Performing Pandeia calculation...\n",
      "Pandeia calculation complete in 0:01:05\n"
     ]
    }
   ],
   "source": [
    "bands = ['f106', 'f129', 'f184']\n",
    "arrays = [image_b, image_g, image_r]\n",
    "lenses = [f106_lens, f129_lens, f184_lens]\n",
    "pandeia_images = []\n",
    "\n",
    "for i, array in enumerate(arrays):\n",
    "    calc, _ = pandeia_input.build_pandeia_calc(array, lenses[i], background=True, band='f106', max_scene_size=5, noise=True, num_samples=10000,\n",
    "                       suppress_output=False)\n",
    "    image, _ = pandeia_input.get_pandeia_image(calc, suppress_output=False)\n",
    "    pandeia_images.append(image)"
   ]
  },
  {
   "cell_type": "code",
   "execution_count": 6,
   "metadata": {},
   "outputs": [
    {
     "data": {
      "image/png": "[encoded data removed]",
      "text/plain": [
       "<Figure size 700x525 with 1 Axes>"
      ]
     },
     "metadata": {},
     "output_type": "display_data"
    }
   ],
   "source": [
    "pandeia_rgb_image = color.get_rgb(pandeia_images[0], pandeia_images[1], pandeia_images[2], minimum=None, stretch=3, Q=4)\n",
    "\n",
    "plt.imshow(pandeia_rgb_image)\n",
    "plt.axis('off')\n",
    "plt.show()"
   ]
  },
  {
   "cell_type": "markdown",
   "metadata": {},
   "source": [
    "Compare the \"synthetic\" `lenstronomy` image (left) with the Pandeia simulation (right)."
   ]
  },
  {
   "cell_type": "code",
   "execution_count": 7,
   "metadata": {},
   "outputs": [
    {
     "data": {
      "image/png": "[encoded data removed]",
      "text/plain": [
       "<Figure size 700x525 with 2 Axes>"
      ]
     },
     "metadata": {},
     "output_type": "display_data"
    }
   ],
   "source": [
    "f, ax = plt.subplots(nrows=1, ncols=2, constrained_layout=True)\n",
    "\n",
    "ax[0].imshow(rgb_synthetic_image)\n",
    "ax[1].imshow(pandeia_rgb_image)\n",
    "\n",
    "ax[0].set_axis_off()\n",
    "ax[1].set_axis_off()\n",
    "\n",
    "plt.show()"
   ]
  }
 ],
 "metadata": {
  "kernelspec": {
   "display_name": "mejiro",
   "language": "python",
   "name": "python3"
  },
  "language_info": {
   "codemirror_mode": {
    "name": "ipython",
    "version": 3
   },
   "file_extension": ".py",
   "mimetype": "text/x-python",
   "name": "python",
   "nbconvert_exporter": "python",
   "pygments_lexer": "ipython3",
   "version": "3.10.6"
  }
 },
 "nbformat": 4,
 "nbformat_minor": 2
}
