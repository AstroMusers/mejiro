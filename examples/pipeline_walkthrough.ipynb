{
 "cells": [
  {
   "cell_type": "markdown",
   "metadata": {},
   "source": [
    "# Example notebook: pipeline walkthrough\n",
    "\n",
    "This notebook walks through the process of generating a Roman WFI image of a strong lens starting with its parameterization in `lenstronomy`."
   ]
  },
  {
   "cell_type": "code",
   "execution_count": null,
   "metadata": {},
   "outputs": [],
   "source": [
    "import astropy.cosmology as astropy_cosmo\n",
    "import matplotlib.pyplot as plt\n",
    "import numpy as np\n",
    "from pyHalo.preset_models import CDM\n",
    "\n",
    "from mejiro.lenses.strong_lens import StrongLens\n",
    "from mejiro.helpers import gs, color"
   ]
  },
  {
   "cell_type": "markdown",
   "metadata": {},
   "source": [
    "# Set up a strong lens in `lenstronomy`\n",
    "\n",
    "Below is a sample strong lens in `lenstronomy` format, based upon a strong lens from our Roman HLWAS survey simulation.\n",
    "\n",
    "The minimum requirements to generate an image with this pipeline are:\n",
    "* `kwargs_params`\n",
    "* `kwargs_model`\n",
    "    * While the redshift-related attributes are not always required to generate an image in `lenstronomy`, they are required for this pipeline (e.g. `pyHalo` generates redshift-dependent subhalo populations).\n",
    "    * The `cosmo` attribute should be set to `astropy_cosmo.default_cosmology.get()` which provides Plank18 cosmology. This is the cosmology used in other parts of the pipeline and this value is not passed through, so to be in agreement with the rest of the pipeline (both upstream in the `SkyPy`/`SLSim` survey simulation and downstream by `pyHalo`), this value should stay constant. This may be addressed in a future update.\n",
    "* AB Magnitude(s) of the source and lensing galaxies in at least one filter, stored in dictionaries `lens_mags` and `source_mags`"
   ]
  },
  {
   "cell_type": "code",
   "execution_count": null,
   "metadata": {},
   "outputs": [],
   "source": [
    "z_lens = 0.2902115249535011\n",
    "z_source = 0.5876899931818929\n",
    "\n",
    "lens_stellar_mass = 286796906929.3925  # solar masses\n",
    "lens_velocity_dispersion = 295.97270864848  # km/s\n",
    "\n",
    "kwargs_lens = [{'center_x': -0.007876281728887604,\n",
    "                'center_y': 0.010633393703246008,\n",
    "                'e1': 0.004858808997848661,\n",
    "                'e2': 0.0075210751726143355,\n",
    "                'theta_E': 1.168082477232392},\n",
    "               {'dec_0': 0,\n",
    "                'gamma1': -0.03648819840013156,\n",
    "                'gamma2': -0.06511863424492038,\n",
    "                'ra_0': 0},\n",
    "               {'dec_0': 0, 'kappa': 0.06020941823541971, 'ra_0': 0}]\n",
    "\n",
    "kwargs_lens_light = [{'R_sersic': 0.5300707454127908,\n",
    "                      'center_x': -0.007876281728887604,\n",
    "                      'center_y': 0.010633393703246008,\n",
    "                      'e1': 0.023377277902774978,\n",
    "                      'e2': 0.05349948216860632,\n",
    "                      'magnitude': 17.5664222662219,\n",
    "                      'n_sersic': 4.0}]\n",
    "\n",
    "kwargs_source = [{'R_sersic': 0.1651633078964498,\n",
    "                  'center_x': 0.30298310338567075,\n",
    "                  'center_y': -0.3505004565139597,\n",
    "                  'e1': -0.06350855238708408,\n",
    "                  'e2': -0.08420760408362458,\n",
    "                  'magnitude': 21.434711611915137,\n",
    "                  'n_sersic': 1.0}]\n",
    "\n",
    "hlwas_bands = ['F106', 'F129', 'F184']\n",
    "\n",
    "lens_mags = {\n",
    "    'F106': 17.5664222662219,\n",
    "    'F129': 17.269983557132853,\n",
    "    'F184': 17.00761457389914\n",
    "}\n",
    "\n",
    "source_mags = {\n",
    "    'F106': 21.434711611915137,\n",
    "    'F129': 21.121205893763328,\n",
    "    'F184': 20.542431041034558\n",
    "}\n",
    "\n",
    "kwargs_params = {\n",
    "    'kwargs_lens': kwargs_lens,\n",
    "    'kwargs_lens_light': kwargs_lens_light,\n",
    "    'kwargs_source': kwargs_source\n",
    "}\n",
    "\n",
    "kwargs_model = {\n",
    "    'cosmo': astropy_cosmo.default_cosmology.get(),\n",
    "    'lens_light_model_list': ['SERSIC_ELLIPSE'],\n",
    "    'lens_model_list': ['SIE', 'SHEAR', 'CONVERGENCE'],\n",
    "    'lens_redshift_list': [z_lens] * 3,\n",
    "    'source_light_model_list': ['SERSIC_ELLIPSE'],\n",
    "    'source_redshift_list': [z_source],\n",
    "    'z_source': z_source,\n",
    "    'z_source_convention': 5.\n",
    "}"
   ]
  },
  {
   "cell_type": "markdown",
   "metadata": {},
   "source": [
    "The `StrongLens` object below is simply a way to keep track of this strong lens, with associated attributes and methods."
   ]
  },
  {
   "cell_type": "code",
   "execution_count": null,
   "metadata": {},
   "outputs": [],
   "source": [
    "strong_lens = StrongLens(kwargs_model=kwargs_model,\n",
    "                         kwargs_params=kwargs_params,\n",
    "                         lens_mags=lens_mags,\n",
    "                         source_mags=source_mags,\n",
    "                         lens_stellar_mass=lens_stellar_mass,\n",
    "                         lens_vel_disp=lens_velocity_dispersion)"
   ]
  },
  {
   "cell_type": "markdown",
   "metadata": {},
   "source": [
    "# Add subhalos with `pyhalo`"
   ]
  },
  {
   "cell_type": "markdown",
   "metadata": {},
   "source": [
    "First, generate a population of CDM subhalos.\n",
    "\n",
    "Note that `pyhalo` supports a broad range of dark matter models (see its [example notebooks](https://github.com/dangilman/pyHalo/tree/master/example_notebooks)). For instance, once could replace the `CDM` preset model below with the `WDM` preset model to generate a population of warm dark matter subhalos."
   ]
  },
  {
   "cell_type": "code",
   "execution_count": null,
   "metadata": {},
   "outputs": [],
   "source": [
    "z_lens = round(strong_lens.z_lens, 2)\n",
    "z_source = round(strong_lens.z_source, 2)\n",
    "log_m_host = np.log10(strong_lens.main_halo_mass)\n",
    "print(\n",
    "    f'Generating CDM subhalos for lensing galaxy at z={z_lens} and source galaxy at z={z_source} with main halo mass {log_m_host:.2f}' + r' $\\log_{10}(M_\\odot)$')\n",
    "\n",
    "realization = CDM(z_lens,\n",
    "                  z_source,  # pyHalo wants to source redshift to generate line-of-sight halos\n",
    "                  sigma_sub=0.055,\n",
    "                  cone_opening_angle_arcsec=5.,\n",
    "                  LOS_normalization=0.,  # here's where we exclude line-of-sight halos\n",
    "                  log_mlow=6.,\n",
    "                  log_mhigh=10.,\n",
    "                  log_m_host=log_m_host,\n",
    "                  r_tidal=0.5)"
   ]
  },
  {
   "cell_type": "markdown",
   "metadata": {},
   "source": [
    "`pyhalo` has nice plotting routines to easily visualize the properties of this unique subhalo population - [from `pyhalo`'s \"Basic usage\" Jupyter notebook](https://github.com/dangilman/pyHalo/blob/master/example_notebooks/basic_usage.ipynb):"
   ]
  },
  {
   "cell_type": "code",
   "execution_count": null,
   "metadata": {},
   "outputs": [],
   "source": [
    "cdm_halo_masses = [halo.mass for halo in realization.halos]\n",
    "num_subhalos = len(cdm_halo_masses)\n",
    "N, m = np.histogram(cdm_halo_masses, bins=np.logspace(6, 10, 10))\n",
    "\n",
    "fig = plt.figure(1)\n",
    "ax = plt.subplot(111)\n",
    "ax.loglog(m[0:-1], N)\n",
    "ax.set_xlabel('Halo mass ' + r'$M_{\\odot}$', fontsize=16)\n",
    "ax.set_ylabel('n(M)', fontsize=16)\n",
    "ax.set_title(f'{num_subhalos} CDM Subhalos')\n",
    "\n",
    "fig = plt.figure(figsize=(14, 12))\n",
    "ax = plt.subplot(111, projection='3d')\n",
    "realization.plot(ax)"
   ]
  },
  {
   "cell_type": "markdown",
   "metadata": {},
   "source": [
    "Add this subhalo population to the strong lens model."
   ]
  },
  {
   "cell_type": "code",
   "execution_count": null,
   "metadata": {},
   "outputs": [],
   "source": [
    "strong_lens.add_subhalos(realization)"
   ]
  },
  {
   "cell_type": "markdown",
   "metadata": {},
   "source": [
    "# Produce the synthetic image\n",
    "\n",
    "This \"synthetic image\" has no PSF convolution or noise. An arbitrarily upsampled version can be rendered to create a more detailed input to `galsim`.\n",
    "\n",
    "Note that we will ultimately produce a 45x45 pixel (or 4.95\"x4.95\") image but here we render an image that's 51x51 pixels (or 5.61\"x5.61\"). Inputting a larger scene than what `mejiro` will output, with a 3 pixel (or 0.33\") buffer around the entire image, ensures any flux on the edges of the scene is rendered correctly in the final image (e.g., cutting off the border artificially created by the `galsim` method that applies the effect of intrapixel capacitance).\n",
    "\n",
    "Note also that this clunky method of synthetic image generation will be refactored in `mejiro`>=2.0.0."
   ]
  },
  {
   "cell_type": "code",
   "execution_count": null,
   "metadata": {},
   "outputs": [],
   "source": [
    "supersample = 5\n",
    "strong_lens.side = 5.61\n",
    "strong_lens.num_pix = 51 * supersample\n",
    "supersampled_indices = strong_lens.build_adaptive_grid(51 * supersample, pad=25)\n",
    "kwargs_numerics = {\n",
    "    'supersampling_factor': 3,\n",
    "    'compute_mode': 'adaptive',\n",
    "    'supersampled_indexes': supersampled_indices\n",
    "}\n",
    "\n",
    "models = [strong_lens.get_array(num_pix=51 * supersample, side=5.61, band=band, kwargs_numerics=kwargs_numerics) for\n",
    "          band in hlwas_bands]\n",
    "\n",
    "f, ax = plt.subplots(1, 3, figsize=(15, 5))\n",
    "for i, a in enumerate(ax):\n",
    "    a.imshow(np.log10(models[i]))\n",
    "    a.set_title(hlwas_bands[i])\n",
    "plt.show()"
   ]
  },
  {
   "cell_type": "markdown",
   "metadata": {},
   "source": [
    "The important pixels where the subhalo signal is are being further supersampled by a factor of three. This is being accomplished with the `kwargs_numerics` dict. Below, we can see which pixels are being further supersampled."
   ]
  },
  {
   "cell_type": "code",
   "execution_count": null,
   "metadata": {},
   "outputs": [],
   "source": [
    "plt.imshow(np.where(supersampled_indices, np.log10(models[0]), np.nan))\n",
    "plt.show()"
   ]
  },
  {
   "cell_type": "markdown",
   "metadata": {},
   "source": [
    "# Apply PSF convolution, sky background, and Roman detector effects\n",
    "\n",
    "First, determine the specific detector (SCA) and position on that detector that will define the center of the image. See the [WebbPSF documentation](https://webbpsf.readthedocs.io/en/latest/roman.html) for the details on what these numbers mean, where `detector` is fed into `wfi.detector` and `detector_pos` into `wfi.detector_position`."
   ]
  },
  {
   "cell_type": "code",
   "execution_count": null,
   "metadata": {},
   "outputs": [],
   "source": [
    "detector = gs.get_random_detector()\n",
    "detector_pos = gs.get_random_detector_pos(input_size=models[0].shape[0], oversample=supersample)"
   ]
  },
  {
   "cell_type": "markdown",
   "metadata": {},
   "source": [
    "The following code block requires WebbPSF data v1.4.0 and the environment variable `WEBBPSF_PATH` to point to it. \n",
    "```\n",
    "import os\n",
    "os.environ['WEBBPSF_PATH'] = \"/path/to/webbpsf-data\"\n",
    "```"
   ]
  },
  {
   "cell_type": "code",
   "execution_count": null,
   "metadata": {},
   "outputs": [],
   "source": [
    "results, execution_time = gs.get_images(strong_lens,\n",
    "                                        models,\n",
    "                                        hlwas_bands,\n",
    "                                        input_size=51,  # size of the input image, in pixels\n",
    "                                        output_size=45,  # size of the output image, in pixels\n",
    "                                        grid_oversample=supersample,\n",
    "                                        psf_oversample=supersample,\n",
    "                                        detector=detector,\n",
    "                                        detector_pos=detector_pos,\n",
    "                                        exposure_time=146,  # seconds\n",
    "                                        seed=np.random.randint(0, 2 ** 16 - 1),\n",
    "                                        check_cache=False)\n",
    "\n",
    "print(f'Generated image(s) in {execution_time}')\n",
    "\n",
    "f, ax = plt.subplots(1, 3, figsize=(15, 5))\n",
    "for i, a in enumerate(ax):\n",
    "    a.imshow(np.log10(results[i]))\n",
    "    a.set_title(hlwas_bands[i])\n",
    "plt.show()"
   ]
  },
  {
   "cell_type": "markdown",
   "metadata": {},
   "source": [
    "Note that a majority of the computation time of the cell above is WebbPSF generating the PSFs for each band at the specified location."
   ]
  },
  {
   "cell_type": "markdown",
   "metadata": {},
   "source": [
    "# Combine into a color image"
   ]
  },
  {
   "cell_type": "code",
   "execution_count": null,
   "metadata": {},
   "outputs": [],
   "source": [
    "rgb_image = color.get_rgb(image_b=results[0],\n",
    "                          image_g=results[1],\n",
    "                          image_r=results[2],\n",
    "                          stretch=8,\n",
    "                          Q=10)\n",
    "\n",
    "plt.imshow(rgb_image)\n",
    "plt.show()"
   ]
  }
 ],
 "metadata": {
  "kernelspec": {
   "display_name": "mejiro",
   "language": "python",
   "name": "python3"
  },
  "language_info": {
   "codemirror_mode": {
    "name": "ipython",
    "version": 3
   },
   "file_extension": ".py",
   "mimetype": "text/x-python",
   "name": "python",
   "nbconvert_exporter": "python",
   "pygments_lexer": "ipython3",
   "version": "3.10.6"
  }
 },
 "nbformat": 4,
 "nbformat_minor": 2
}
