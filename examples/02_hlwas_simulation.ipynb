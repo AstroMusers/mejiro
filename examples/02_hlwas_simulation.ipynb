{
 "cells": [
  {
   "cell_type": "markdown",
   "metadata": {},
   "source": [
    "# IN PROGRESS"
   ]
  },
  {
   "cell_type": "markdown",
   "metadata": {},
   "source": [
    "# Example notebook 2: simulating the HLWAS \n",
    "\n",
    "This notebook walks through the process of simulating strong lenses in Roman's HLWAS (High Latitude Wide Area Survey)."
   ]
  },
  {
   "cell_type": "code",
   "execution_count": 48,
   "metadata": {},
   "outputs": [],
   "source": [
    "import sys\n",
    "\n",
    "import numpy as np\n",
    "import matplotlib.pyplot as plt\n",
    "from hydra import initialize, compose\n",
    "import astropy.cosmology as astropy_cosmo\n",
    "from pyHalo.preset_models import CDM\n",
    "\n",
    "# set paths to various directories based on the machine this code is being executed on\n",
    "with initialize(version_base=None, config_path='config'):\n",
    "    config = compose(config_name='config.yaml')\n",
    "\n",
    "# enable use of local modules\n",
    "repo_dir  = config.machine.repo_dir\n",
    "if repo_dir not in sys.path:\n",
    "    sys.path.append(repo_dir)\n",
    "\n",
    "import mejiro\n",
    "from mejiro.helpers import survey_sim\n",
    "from mejiro.utils import util\n",
    "\n",
    "# set matplotlib style\n",
    "plt.style.use(f'{repo_dir}/mejiro/mplstyle/science.mplstyle')"
   ]
  },
  {
   "cell_type": "code",
   "execution_count": null,
   "metadata": {},
   "outputs": [],
   "source": [
    "roman_filters = sorted(glob(os.path.join(repo_dir, 'mejiro', 'data', 'avg_filter_responses', 'Roman-*.ecsv')))\n",
    "_ = speclite.filters.load_filters(*roman_filters[:8])\n",
    "if debugging:\n",
    "    print('Configured Roman filters. Loaded:')\n",
    "    pprint(roman_filters)"
   ]
  },
  {
   "cell_type": "code",
   "execution_count": null,
   "metadata": {},
   "outputs": [],
   "source": [
    "# load SkyPy config file\n",
    "    module_path = os.path.dirname(mejiro.__file__)\n",
    "    skypy_config = os.path.join(module_path, 'data', 'roman_hlwas.yml')\n",
    "    if debugging: print(f'Loaded SkyPy configuration file {skypy_config}')"
   ]
  },
  {
   "cell_type": "code",
   "execution_count": null,
   "metadata": {},
   "outputs": [],
   "source": [
    "# set HLWAS parameters\n",
    "    config_file = util.load_skypy_config(skypy_config)  # read skypy config file to get survey area\n",
    "    survey_area = float(config_file['fsky'][:-5])\n",
    "    sky_area = Quantity(value=survey_area, unit='deg2')\n",
    "    cosmo = default_cosmology.get()\n",
    "    bands = pipeline_params['bands']"
   ]
  },
  {
   "cell_type": "code",
   "execution_count": null,
   "metadata": {},
   "outputs": [],
   "source": [
    "# define cuts on the intrinsic deflector and source populations (in addition to the skypy config file)\n",
    "    kwargs_deflector_cut = {\n",
    "        'band': survey_params['deflector_cut_band'],\n",
    "        'band_max': survey_params['deflector_cut_band_max'],\n",
    "        'z_min': survey_params['deflector_z_min'],\n",
    "        'z_max': survey_params['deflector_z_max']\n",
    "    }\n",
    "    kwargs_source_cut = {\n",
    "        'band': survey_params['source_cut_band'],\n",
    "        'band_max': survey_params['source_cut_band_max'],\n",
    "        'z_min': survey_params['source_z_min'],\n",
    "        'z_max': survey_params['source_z_max']\n",
    "    }"
   ]
  },
  {
   "cell_type": "code",
   "execution_count": null,
   "metadata": {},
   "outputs": [],
   "source": [
    "# create the lens population\n",
    "    if debugging: print('Defining galaxy population...')\n",
    "    lens_pop = LensPop(deflector_type=\"all-galaxies\",\n",
    "                       source_type=\"galaxies\",\n",
    "                       kwargs_deflector_cut=kwargs_deflector_cut,\n",
    "                       kwargs_source_cut=kwargs_source_cut,\n",
    "                       kwargs_mass2light=None,\n",
    "                       skypy_config=skypy_config,\n",
    "                       sky_area=sky_area,\n",
    "                       cosmo=cosmo)\n",
    "    if debugging: print('Defined galaxy population')"
   ]
  },
  {
   "cell_type": "code",
   "execution_count": null,
   "metadata": {},
   "outputs": [],
   "source": [
    "# num_lenses = lens_pop.deflector_number()\n",
    "    # num_sources = lens_pop.source_number()\n",
    "    # print(f'Number of deflectors: {num_lenses}, scaled to HLWAS ({area_hlwas} sq deg): {int((area_hlwas / survey_area) * num_lenses)}')\n",
    "    # print(f'Number of sources: {num_sources}, scaled to HLWAS ({area_hlwas} sq deg): {int((area_hlwas / survey_area) * num_sources)}')"
   ]
  },
  {
   "cell_type": "code",
   "execution_count": null,
   "metadata": {},
   "outputs": [],
   "source": [
    "# draw the total lens population\n",
    "    if debugging: print('Identifying lenses...')\n",
    "    kwargs_lens_total_cut = {\n",
    "        'min_image_separation': 0,\n",
    "        'max_image_separation': 10,\n",
    "        'mag_arc_limit': None\n",
    "    }\n",
    "    total_lens_population = lens_pop.draw_population(kwargs_lens_cuts=kwargs_lens_total_cut)\n",
    "    if debugging: print(f'Number of total lenses: {len(total_lens_population)}')"
   ]
  },
  {
   "cell_type": "code",
   "execution_count": null,
   "metadata": {},
   "outputs": [],
   "source": [
    "# apply additional detectability criteria\n",
    "    limit = None\n",
    "    detectable_gglenses, snr_list = [], []\n",
    "    for candidate in tqdm(lens_population, disable=not debugging):\n",
    "        # 1. Einstein radius and Sersic radius\n",
    "        _, kwargs_params = candidate.lenstronomy_kwargs(band=survey_params['large_lens_band'])\n",
    "        lens_mag = candidate.deflector_magnitude(band=survey_params['large_lens_band'])\n",
    "\n",
    "        if kwargs_params['kwargs_lens'][0]['theta_E'] < kwargs_params['kwargs_lens_light'][0][\n",
    "            'R_sersic'] and lens_mag < survey_params['large_lens_mag_max']:\n",
    "            filter_1 += 1\n",
    "            if filter_1 <= num_samples:\n",
    "                filtered_sample['filter_1'].append(candidate)\n",
    "            continue\n",
    "\n",
    "        # 2. SNR\n",
    "        snr, _ = survey_sim.get_snr(candidate, survey_params['snr_band'],\n",
    "                                    mask_mult=survey_params['snr_mask_multiplier'])\n",
    "\n",
    "        if snr < survey_params['snr_threshold']:\n",
    "            snr_list.append(snr)\n",
    "            filter_2 += 1\n",
    "            if filter_2 <= num_samples:\n",
    "                filtered_sample['filter_2'].append(candidate)\n",
    "            continue\n",
    "\n",
    "        # if both criteria satisfied, consider detectable\n",
    "        detectable_gglenses.append(candidate)\n",
    "\n",
    "        # if I've imposed a limit above this loop, exit the loop\n",
    "        if limit is not None and len(detectable_gglenses) == limit:\n",
    "            break\n",
    "\n",
    "    if debugging: print(f'Run {str(run).zfill(2)}: {len(detectable_gglenses)} detectable lens(es)')"
   ]
  },
  {
   "cell_type": "code",
   "execution_count": null,
   "metadata": {},
   "outputs": [],
   "source": [
    "if debugging: print('Retrieving lenstronomy parameters...')\n",
    "    dict_list = []\n",
    "    for gglens, snr in tqdm(zip(detectable_gglenses, snr_list), disable=not debugging, total=len(detectable_gglenses)):\n",
    "\n",
    "        # get lens params from gglens object\n",
    "        kwargs_model, kwargs_params = gglens.lenstronomy_kwargs(band='F106')\n",
    "\n",
    "        # build dicts for lens and source magnitudes\n",
    "        lens_mags, source_mags = {}, {}\n",
    "        for band in bands:  # add F158\n",
    "            lens_mags[band] = gglens.deflector_magnitude(band)\n",
    "            source_mags[band] = gglens.extended_source_magnitude(band)\n",
    "\n",
    "        z_lens, z_source = gglens.deflector_redshift, gglens.source_redshift\n",
    "        kwargs_lens = kwargs_params['kwargs_lens']\n",
    "\n",
    "        # add additional necessary key/value pairs to kwargs_model\n",
    "        kwargs_model['lens_redshift_list'] = [z_lens] * len(kwargs_lens)\n",
    "        kwargs_model['source_redshift_list'] = [z_source]\n",
    "        kwargs_model['cosmo'] = cosmo\n",
    "        kwargs_model['z_source'] = z_source\n",
    "        kwargs_model['z_source_convention'] = 5\n",
    "\n",
    "        # create dict to pickle\n",
    "        gglens_dict = {\n",
    "            'kwargs_model': kwargs_model,\n",
    "            'kwargs_params': kwargs_params,\n",
    "            'lens_mags': lens_mags,\n",
    "            'source_mags': source_mags,\n",
    "            'deflector_stellar_mass': gglens.deflector_stellar_mass(),\n",
    "            'deflector_velocity_dispersion': gglens.deflector_velocity_dispersion(),\n",
    "            'snr': snr\n",
    "        }\n",
    "\n",
    "        dict_list.append(gglens_dict)\n",
    "\n",
    "    if debugging: print('Pickling lenses...')\n",
    "    for i, each in tqdm(enumerate(dict_list), disable=not debugging):\n",
    "        save_path = os.path.join(lens_output_dir, f'detectable_lens_{str(run).zfill(2)}_{str(i).zfill(5)}.pkl')\n",
    "        util.pickle(save_path, each)\n",
    "\n",
    "    detectable_pop_csv = os.path.join(output_dir, f'detectable_pop_{str(run).zfill(2)}.csv')\n",
    "    survey_sim.write_lens_pop_to_csv(detectable_pop_csv, detectable_gglenses, bands)"
   ]
  }
 ],
 "metadata": {
  "kernelspec": {
   "display_name": "mejiro",
   "language": "python",
   "name": "python3"
  },
  "language_info": {
   "codemirror_mode": {
    "name": "ipython",
    "version": 3
   },
   "file_extension": ".py",
   "mimetype": "text/x-python",
   "name": "python",
   "nbconvert_exporter": "python",
   "pygments_lexer": "ipython3",
   "version": "3.10.6"
  }
 },
 "nbformat": 4,
 "nbformat_minor": 2
}
