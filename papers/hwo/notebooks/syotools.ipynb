{
 "cells": [
  {
   "cell_type": "code",
   "execution_count": 2,
   "metadata": {},
   "outputs": [
    {
     "name": "stdout",
     "output_type": "stream",
     "text": [
      "Warning, 5 of 20000 bins contained negative fluxes; they have been set to zero.\n",
      "Warning, 3590 of 20000 bins contained negative fluxes; they have been set to zero.\n",
      "Warning, 293 of 2920 bins contained negative fluxes; they have been set to zero.\n",
      "Warning, 5 of 20000 bins contained negative fluxes; they have been set to zero.\n",
      "Warning, 3590 of 20000 bins contained negative fluxes; they have been set to zero.\n",
      "Warning, 293 of 2920 bins contained negative fluxes; they have been set to zero.\n"
     ]
    }
   ],
   "source": [
    "import os\n",
    "import sys\n",
    "import random\n",
    "from glob import glob\n",
    "from copy import deepcopy\n",
    "from pprint import pprint\n",
    "\n",
    "import numpy as np\n",
    "import matplotlib.pyplot as plt\n",
    "import matplotlib\n",
    "from tqdm import tqdm\n",
    "\n",
    "from syotools.models import Camera, Telescope, Spectrograph, PhotometricExposure, SpectrographicExposure\n",
    "from syotools.utils.jsonunit import str_jsunit\n",
    "\n",
    "# enable use of local modules\n",
    "repo_dir = '/grad/bwedig/mejiro'\n",
    "if repo_dir not in sys.path:\n",
    "    sys.path.append(repo_dir)\n",
    "\n",
    "from mejiro.instruments.hwo import HWO\n",
    "from mejiro.synthetic_image import SyntheticImage\n",
    "from mejiro.lenses.test import SampleStrongLens\n",
    "from mejiro.exposure import Exposure\n",
    "from mejiro.utils import util\n",
    "\n",
    "# set matplotlib style\n",
    "plt.style.use(f'{repo_dir}/mejiro/mplstyle/science.mplstyle')"
   ]
  },
  {
   "cell_type": "code",
   "execution_count": 3,
   "metadata": {},
   "outputs": [
    {
     "name": "stdout",
     "output_type": "stream",
     "text": [
      "{'syotools': '1.1.13'}\n"
     ]
    }
   ],
   "source": [
    "hwo = HWO()\n",
    "pprint(hwo.versions)"
   ]
  },
  {
   "cell_type": "code",
   "execution_count": 4,
   "metadata": {},
   "outputs": [
    {
     "name": "stdout",
     "output_type": "stream",
     "text": [
      "{'B': <Quantity 0.002 electron / (pix s)>,\n",
      " 'FUV': <Quantity 0.002 electron / (pix s)>,\n",
      " 'H': <Quantity 0.002 electron / (pix s)>,\n",
      " 'I': <Quantity 0.002 electron / (pix s)>,\n",
      " 'J': <Quantity 0.002 electron / (pix s)>,\n",
      " 'K': <Quantity 0.002 electron / (pix s)>,\n",
      " 'NUV': <Quantity 0.002 electron / (pix s)>,\n",
      " 'R': <Quantity 0.002 electron / (pix s)>,\n",
      " 'U': <Quantity 0.002 electron / (pix s)>,\n",
      " 'V': <Quantity 0.002 electron / (pix s)>}\n"
     ]
    }
   ],
   "source": [
    "pprint(hwo.dark_current)"
   ]
  },
  {
   "cell_type": "code",
   "execution_count": 5,
   "metadata": {},
   "outputs": [
    {
     "data": {
      "text/latex": [
       "$0.002 \\; \\mathrm{\\frac{e^{-}}{pix\\,s}}$"
      ],
      "text/plain": [
       "<Quantity 0.002 electron / (pix s)>"
      ]
     },
     "execution_count": 5,
     "metadata": {},
     "output_type": "execute_result"
    }
   ],
   "source": [
    "hwo.get_dark_current('FUV')"
   ]
  },
  {
   "cell_type": "code",
   "execution_count": 6,
   "metadata": {},
   "outputs": [],
   "source": [
    "camera, telescope = Camera(), Telescope()\n",
    "telescope.set_from_json('EAC1')\n",
    "telescope.add_camera(camera)"
   ]
  },
  {
   "cell_type": "code",
   "execution_count": null,
   "metadata": {},
   "outputs": [
    {
     "name": "stdout",
     "output_type": "stream",
     "text": [
      "{'B': <Quantity 11599.78947368 ph / (nm s cm2)>,\n",
      " 'FUV': <Quantity 24488.44444444 ph / (nm s cm2)>,\n",
      " 'H': <Quantity 3443.6875 ph / (nm s cm2)>,\n",
      " 'I': <Quantity 6482.23529412 ph / (nm s cm2)>,\n",
      " 'J': <Quantity 4372.93650794 ph / (nm s cm2)>,\n",
      " 'K': <Quantity 2481.93693694 ph / (nm s cm2)>,\n",
      " 'NUV': <Quantity 20036. ph / (nm s cm2)>,\n",
      " 'R': <Quantity 7109.5483871 ph / (nm s cm2)>,\n",
      " 'U': <Quantity 16398.51190476 ph / (nm s cm2)>,\n",
      " 'V': <Quantity 9092.24422442 ph / (nm s cm2)>}\n"
     ]
    }
   ],
   "source": [
    "flux_zp = {band: bp for band, bp in zip(hwo.bands, camera.recover('ab_zeropoint'))}\n",
    "pprint(flux_zp)"
   ]
  },
  {
   "cell_type": "code",
   "execution_count": 16,
   "metadata": {},
   "outputs": [
    {
     "name": "stdout",
     "output_type": "stream",
     "text": [
      "{'B': 95.0,\n",
      " 'FUV': 45.0,\n",
      " 'H': 320.0,\n",
      " 'I': 170.0,\n",
      " 'J': 252.0,\n",
      " 'K': 444.0,\n",
      " 'NUV': 55.0,\n",
      " 'R': 155.0,\n",
      " 'U': 67.2,\n",
      " 'V': 121.2}\n"
     ]
    }
   ],
   "source": [
    "bandwidth = {band: bp for band, bp in zip(hwo.bands, camera.recover('derived_bandpass'))}\n",
    "pprint(bandwidth)"
   ]
  },
  {
   "cell_type": "code",
   "execution_count": 11,
   "metadata": {},
   "outputs": [
    {
     "name": "stdout",
     "output_type": "stream",
     "text": [
      "720.0\n"
     ]
    }
   ],
   "source": [
    "from astropy import units as u\n",
    "\n",
    "aperture_cm = telescope.recover('aperture').to(u.cm).value\n",
    "print(aperture_cm)"
   ]
  },
  {
   "cell_type": "code",
   "execution_count": 20,
   "metadata": {},
   "outputs": [
    {
     "data": {
      "text/plain": [
       "{'FUV': 29.12982146685107,\n",
       " 'NUV': 29.12982146685107,\n",
       " 'U': 29.12982146685107,\n",
       " 'B': 29.12982146685107,\n",
       " 'V': 29.12982146685107,\n",
       " 'R': 29.12982146685107,\n",
       " 'I': 29.12982146685107,\n",
       " 'J': 29.12982146685107,\n",
       " 'H': 29.12982146685107,\n",
       " 'K': 29.12982146685107}"
      ]
     },
     "execution_count": 20,
     "metadata": {},
     "output_type": "execute_result"
    }
   ],
   "source": [
    "{band: (-1 / 0.4) * np.log10(4 / (np.pi * flux_zp[band].value * (aperture_cm ** 2) * bandwidth[band])) for band in hwo.bands}"
   ]
  },
  {
   "cell_type": "code",
   "execution_count": 13,
   "metadata": {},
   "outputs": [],
   "source": [
    "dark_current = camera.recover('dark_current')"
   ]
  },
  {
   "cell_type": "code",
   "execution_count": 7,
   "metadata": {},
   "outputs": [
    {
     "name": "stdout",
     "output_type": "stream",
     "text": [
      "<class 'list'>\n"
     ]
    }
   ],
   "source": [
    "print(type(dark_current))"
   ]
  },
  {
   "cell_type": "code",
   "execution_count": 19,
   "metadata": {},
   "outputs": [
    {
     "name": "stdout",
     "output_type": "stream",
     "text": [
      "[0.002 0.002 0.002 0.002 0.002 0.002 0.002 0.002 0.002 0.002] electron / (pix s)\n",
      "[0.002 0.002 0.002 0.002 0.002 0.002 0.002 0.002 0.002 0.002]\n",
      "electron / (pix s)\n"
     ]
    }
   ],
   "source": [
    "from astropy.units import Quantity\n",
    "\n",
    "dark_current_q = Quantity(dark_current[0], dark_current[1])\n",
    "print(dark_current_q)\n",
    "print(dark_current_q.value)\n",
    "print(dark_current_q.unit)"
   ]
  },
  {
   "cell_type": "code",
   "execution_count": 9,
   "metadata": {},
   "outputs": [
    {
     "name": "stdout",
     "output_type": "stream",
     "text": [
      "electron / (pix s)\n"
     ]
    }
   ],
   "source": [
    "print(dark_current[1])"
   ]
  },
  {
   "cell_type": "code",
   "execution_count": 17,
   "metadata": {},
   "outputs": [
    {
     "name": "stdout",
     "output_type": "stream",
     "text": [
      "return_quantity [<syotools.models.camera.Camera object at 0x7fcfe845c6a0>, 'dark_current']\n",
      "[[0.002, 0.002, 0.002, 0.002, 0.002, 0.002, 0.002, 0.002, 0.002, 0.002], 'electron / (pix s)']\n",
      "<class 'list'>\n"
     ]
    }
   ],
   "source": [
    "print(type(camera.return_quantity('dark_current')))"
   ]
  },
  {
   "cell_type": "code",
   "execution_count": 19,
   "metadata": {},
   "outputs": [
    {
     "name": "stdout",
     "output_type": "stream",
     "text": [
      "<class 'astropy.units.quantity.Quantity'>\n"
     ]
    }
   ],
   "source": [
    "print(type(camera.recover('pixel_size')))"
   ]
  },
  {
   "cell_type": "code",
   "execution_count": 18,
   "metadata": {},
   "outputs": [
    {
     "name": "stdout",
     "output_type": "stream",
     "text": [
      "return_quantity [<syotools.models.camera.Camera object at 0x7ff762ea76a0>, 'pixel_size']\n",
      "[0.00572958 0.00572958 0.00572958 0.00572958 0.00572958 0.00572958\n",
      " 0.00572958 0.01718873 0.01718873 0.01718873] arcsec / pix\n",
      "<class 'astropy.units.quantity.Quantity'>\n"
     ]
    }
   ],
   "source": [
    "print(type(camera.return_quantity('pixel_size')))"
   ]
  },
  {
   "cell_type": "code",
   "execution_count": 9,
   "metadata": {},
   "outputs": [
    {
     "name": "stdout",
     "output_type": "stream",
     "text": [
      "name: HWO-EAC-1\n",
      "aperture: 7.2 m\n",
      "temperature: 270.0 K\n",
      "ota_emissivity: [0.24, '']\n",
      "diff_limit_wavelength: [500.0, 'nm']\n",
      "unobscured_fraction: 1.0\n"
     ]
    }
   ],
   "source": [
    "for attr in telescope._tracked_attributes:\n",
    "    print('{}: {}'.format(attr, str_jsunit(getattr(telescope, attr))))"
   ]
  },
  {
   "cell_type": "code",
   "execution_count": 10,
   "metadata": {},
   "outputs": [
    {
     "data": {
      "text/latex": [
       "$0.014753663\\mathrm{{}^{\\prime\\prime}}$"
      ],
      "text/plain": [
       "<Quantity 0.01475366 arcsec>"
      ]
     },
     "execution_count": 10,
     "metadata": {},
     "output_type": "execute_result"
    }
   ],
   "source": [
    "telescope.diff_limit_fwhm"
   ]
  },
  {
   "cell_type": "code",
   "execution_count": 11,
   "metadata": {},
   "outputs": [
    {
     "data": {
      "text/latex": [
       "$7.2 \\; \\mathrm{m}$"
      ],
      "text/plain": [
       "<Quantity 7.2 m>"
      ]
     },
     "execution_count": 11,
     "metadata": {},
     "output_type": "execute_result"
    }
   ],
   "source": [
    "telescope.effective_aperture"
   ]
  },
  {
   "cell_type": "code",
   "execution_count": 12,
   "metadata": {},
   "outputs": [
    {
     "name": "stdout",
     "output_type": "stream",
     "text": [
      "name: HRI\n",
      "pivotwave: [[225.0, 275.0, 336.0, 475.0, 606.0, 775.0, 850.0, 1260.0, 1600.0, 2220.0], 'nm']\n",
      "bandnames: ['FUV', 'NUV', 'U', 'B', 'V', 'R', 'I', 'J', 'H', 'K']\n",
      "channels: [[0, 1], [2, 3, 4, 5, 6], [7, 8, 9]]\n",
      "fiducials: [[400.0, 400.0, 1200.0], 'nm']\n",
      "total_qe: [[0.1, 0.112, 0.175, 0.211, 0.211, 0.211, 0.145, 0.342, 0.342, 0.335], 'electron / ph']\n",
      "ap_corr: [[1.0, 1.0, 1.0, 1.0, 1.0, 1.0, 1.0, 1.0, 1.0, 1.0], '']\n",
      "bandpass_r: [[5.0, 5.0, 5.0, 5.0, 5.0, 5.0, 5.0, 5.0, 5.0, 5.0], '']\n",
      "dark_current: [[0.002, 0.002, 0.002, 0.002, 0.002, 0.002, 0.002, 0.002, 0.002, 0.002], 'electron / (pix s)']\n",
      "detector_rn: [[2.5, 2.5, 2.5, 2.5, 2.5, 2.5, 2.5, 2.5, 2.5, 2.5], 'electron(1/2) / pix(1/2)']\n",
      "sky_sigma: [[24.56, 26.27, 23.38, 22.8, 22.41, 22.2, 22.11, 22.32, 22.53, 22.88], '']\n"
     ]
    }
   ],
   "source": [
    "for attr in camera._tracked_attributes:\n",
    "    print('{}: {}'.format(attr, str_jsunit(getattr(camera,attr))))"
   ]
  },
  {
   "cell_type": "code",
   "execution_count": 13,
   "metadata": {},
   "outputs": [
    {
     "data": {
      "text/latex": [
       "$[24488.444,~20036,~16398.512,~11599.789,~9092.2442,~7109.5484,~6482.2353,~4372.9365,~3443.6875,~2481.9369] \\; \\mathrm{\\frac{ph}{nm\\,s\\,cm^{2}}}$"
      ],
      "text/plain": [
       "<Quantity [24488.44444444, 20036.        , 16398.51190476, 11599.78947368,\n",
       "            9092.24422442,  7109.5483871 ,  6482.23529412,  4372.93650794,\n",
       "            3443.6875    ,  2481.93693694] ph / (nm s cm2)>"
      ]
     },
     "execution_count": 13,
     "metadata": {},
     "output_type": "execute_result"
    }
   ],
   "source": [
    "camera.ab_zeropoint"
   ]
  },
  {
   "cell_type": "code",
   "execution_count": 14,
   "metadata": {},
   "outputs": [
    {
     "name": "stdout",
     "output_type": "stream",
     "text": [
      "[[0.002, 0.002, 0.002, 0.002, 0.002, 0.002, 0.002, 0.002, 0.002, 0.002], 'electron / (pix s)']\n",
      "<class 'list'>\n"
     ]
    }
   ],
   "source": [
    "print(camera.recover('dark_current'))\n",
    "print(type(camera.recover('dark_current')))"
   ]
  },
  {
   "cell_type": "code",
   "execution_count": 15,
   "metadata": {},
   "outputs": [
    {
     "name": "stdout",
     "output_type": "stream",
     "text": [
      "n_exp: 3\n",
      "exptime: [[1.0, 1.0, 1.0, 1.0, 1.0, 1.0, 1.0, 1.0, 1.0, 1.0], 'hr']\n",
      "snr: [[10.0, 10.0, 10.0, 10.0, 10.0, 10.0, 10.0, 10.0, 10.0, 10.0], '']\n",
      "magnitude: [0.] mag(AB)\n",
      "unknown: snr\n"
     ]
    }
   ],
   "source": [
    "from syotools.models import PhotometricExposure\n",
    "\n",
    "phot_exp = PhotometricExposure()\n",
    "\n",
    "for attr in phot_exp._tracked_attributes:\n",
    "    print('{}: {}'.format(attr, str_jsunit(getattr(phot_exp, attr))))"
   ]
  },
  {
   "cell_type": "code",
   "execution_count": null,
   "metadata": {},
   "outputs": [
    {
     "name": "stdout",
     "output_type": "stream",
     "text": [
      "0.0174752127475 1 / m\n"
     ]
    },
    {
     "ename": "TypeError",
     "evalue": "can't multiply sequence by non-int of type 'float'",
     "output_type": "error",
     "traceback": [
      "\u001b[0;31m---------------------------------------------------------------------------\u001b[0m",
      "\u001b[0;31mTypeError\u001b[0m                                 Traceback (most recent call last)",
      "Input \u001b[0;32mIn [17]\u001b[0m, in \u001b[0;36m<cell line: 10>\u001b[0;34m()\u001b[0m\n\u001b[1;32m      7\u001b[0m source_magnitudes \u001b[38;5;241m=\u001b[39m np\u001b[38;5;241m.\u001b[39marray([\u001b[38;5;241m1.\u001b[39m, \u001b[38;5;241m1.\u001b[39m, \u001b[38;5;241m1.\u001b[39m, \u001b[38;5;241m1.\u001b[39m, \u001b[38;5;241m1.\u001b[39m, \u001b[38;5;241m1.\u001b[39m, \u001b[38;5;241m1.\u001b[39m, \u001b[38;5;241m1.\u001b[39m, \u001b[38;5;241m1.\u001b[39m, \u001b[38;5;241m1.\u001b[39m]) \u001b[38;5;241m*\u001b[39m ab_magnitudes\n\u001b[1;32m      9\u001b[0m sky_brightness \u001b[38;5;241m=\u001b[39m np\u001b[38;5;241m.\u001b[39marray([\u001b[38;5;241m23.807\u001b[39m, \u001b[38;5;241m25.517\u001b[39m, \u001b[38;5;241m22.627\u001b[39m, \u001b[38;5;241m22.307\u001b[39m, \u001b[38;5;241m21.917\u001b[39m, \u001b[38;5;241m22.257\u001b[39m, \u001b[38;5;241m21.757\u001b[39m, \u001b[38;5;241m21.567\u001b[39m, \u001b[38;5;241m22.417\u001b[39m, \u001b[38;5;241m22.537\u001b[39m])\n\u001b[0;32m---> 10\u001b[0m fwhm_psf \u001b[38;5;241m=\u001b[39m \u001b[38;5;241;43m1.22\u001b[39;49m\u001b[43m \u001b[49m\u001b[38;5;241;43m*\u001b[39;49m\u001b[43m \u001b[49m\u001b[43mcamera\u001b[49m\u001b[38;5;241;43m.\u001b[39;49m\u001b[43mpivotwave\u001b[49m \u001b[38;5;241m*\u001b[39m \u001b[38;5;241m0.000000001\u001b[39m \u001b[38;5;241m*\u001b[39m \u001b[38;5;241m206264.8062\u001b[39m \u001b[38;5;241m/\u001b[39m telescope\u001b[38;5;241m.\u001b[39maperture\n\u001b[1;32m     11\u001b[0m fwhm_psf[fwhm_psf \u001b[38;5;241m<\u001b[39m diff_limit] \u001b[38;5;241m=\u001b[39m fwhm_psf[fwhm_psf \u001b[38;5;241m<\u001b[39m diff_limit] \u001b[38;5;241m*\u001b[39m \u001b[38;5;241m0.0\u001b[39m \u001b[38;5;241m+\u001b[39m diff_limit\n\u001b[1;32m     13\u001b[0m sn_box \u001b[38;5;241m=\u001b[39m np\u001b[38;5;241m.\u001b[39mround(\u001b[38;5;241m3.\u001b[39m \u001b[38;5;241m*\u001b[39m fwhm_psf \u001b[38;5;241m/\u001b[39m camera\u001b[38;5;241m.\u001b[39mpixel_size)\n",
      "\u001b[0;31mTypeError\u001b[0m: can't multiply sequence by non-int of type 'float'"
     ]
    }
   ],
   "source": [
    "ab_magnitudes = 25\n",
    "exposure_in_hours = 1\n",
    "\n",
    "diff_limit = 1.22*(500.*0.000000001)*206264.8062/telescope.aperture\n",
    "print(diff_limit)\n",
    "\n",
    "source_magnitudes = np.array([1., 1., 1., 1., 1., 1., 1., 1., 1., 1.]) * ab_magnitudes\n",
    "\n",
    "sky_brightness = np.array([23.807, 25.517, 22.627, 22.307, 21.917, 22.257, 21.757, 21.567, 22.417, 22.537])\n",
    "fwhm_psf = 1.22 * camera.pivotwave * 0.000000001 * 206264.8062 / telescope.aperture\n",
    "fwhm_psf[fwhm_psf < diff_limit] = fwhm_psf[fwhm_psf < diff_limit] * 0.0 + diff_limit\n",
    "\n",
    "sn_box = np.round(3. * fwhm_psf / camera.pixel_size)\n",
    "\n",
    "number_of_exposures = np.array([3., 3., 3., 3., 3., 3., 3., 3., 3., 3.])\n",
    "\n",
    "desired_exposure_time = np.array([1., 1., 1., 1., 1., 1., 1., 1., 1., 1.]) * exposure_in_hours * 3600.\n",
    "\n",
    "time_per_exposure = desired_exposure_time / number_of_exposures\n",
    "\n",
    "signal_counts = camera.total_qe * desired_exposure_time * camera.ab_zeropoint * camera.aperture_correction * (np.pi) / 4. * \\\n",
    "    (telescope.aperture  * 100.0)**2 * camera.derived_bandpass * 10.**(-0.4*ab_magnitudes)\n",
    "\n",
    "shot_noise_in_signal = signal_counts ** 0.5\n",
    "\n",
    "sky_counts = camera.total_qe * desired_exposure_time * camera.ab_zeropoint * np.pi / 4. * (telescope.aperture  * 100.0)**2 * \\\n",
    "    camera.derived_bandpass * 10.**(-0.4*sky_brightness) * (camera.pixel_size * sn_box)**2\n",
    "\n",
    "shot_noise_in_sky = sky_counts ** 0.5\n",
    "\n",
    "read_noise = camera.detector_read_noise * sn_box * number_of_exposures**0.5\n",
    "\n",
    "dark_noise = sn_box * (camera.dark_current * desired_exposure_time)**0.5\n",
    "\n",
    "# thermal_counts = desired_exposure_time * C_thermal(telescope, camera.pivotwave, camera.bandpass_r, sn_box**2, camera.pixel_size, camera.total_qe)"
   ]
  }
 ],
 "metadata": {
  "kernelspec": {
   "display_name": "mejiro-dev",
   "language": "python",
   "name": "python3"
  },
  "language_info": {
   "codemirror_mode": {
    "name": "ipython",
    "version": 3
   },
   "file_extension": ".py",
   "mimetype": "text/x-python",
   "name": "python",
   "nbconvert_exporter": "python",
   "pygments_lexer": "ipython3",
   "version": "3.10.6"
  }
 },
 "nbformat": 4,
 "nbformat_minor": 2
}
