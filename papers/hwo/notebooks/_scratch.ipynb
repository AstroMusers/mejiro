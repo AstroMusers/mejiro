{
 "cells": [
  {
   "cell_type": "code",
   "execution_count": 1,
   "metadata": {},
   "outputs": [
    {
     "name": "stdout",
     "output_type": "stream",
     "text": [
      "Warning, 5 of 20000 bins contained negative fluxes; they have been set to zero.\n"
     ]
    },
    {
     "name": "stderr",
     "output_type": "stream",
     "text": [
      "/data/bwedig/.conda/envs/mejiro-v2/lib/python3.10/site-packages/pysynphot/units.py:824: RuntimeWarning: divide by zero encountered in log\n",
      "  return -1.085736 * N.log(arg) + ABZERO\n"
     ]
    },
    {
     "name": "stdout",
     "output_type": "stream",
     "text": [
      "Warning, 3590 of 20000 bins contained negative fluxes; they have been set to zero.\n",
      "Warning, 293 of 2920 bins contained negative fluxes; they have been set to zero.\n"
     ]
    },
    {
     "data": {
      "text/plain": [
       "('JsonUnit',\n",
       " {'unit': 'arcsec2',\n",
       "  'value': [0.014753663224618697,\n",
       "   0.014753663224618697,\n",
       "   0.014753663224618697,\n",
       "   0.014753663224618697,\n",
       "   0.017881439828237866,\n",
       "   0.022868177998158983,\n",
       "   0.02508122748185179,\n",
       "   0.03717923132603912,\n",
       "   0.047211722318779833,\n",
       "   0.06550626471730701]})"
      ]
     },
     "execution_count": 1,
     "metadata": {},
     "output_type": "execute_result"
    }
   ],
   "source": [
    "from syotools.models import Camera, Telescope\n",
    "\n",
    "camera, telescope = Camera(), Telescope()\n",
    "telescope.set_from_json('EAC1')\n",
    "telescope.add_camera(camera)\n",
    "\n",
    "camera.fwhm_psf"
   ]
  },
  {
   "cell_type": "code",
   "execution_count": 3,
   "metadata": {},
   "outputs": [
    {
     "data": {
      "text/plain": [
       "{'_tracked_attributes': ['name',\n",
       "  'pivotwave',\n",
       "  'bandnames',\n",
       "  'channels',\n",
       "  'fiducials',\n",
       "  'total_qe',\n",
       "  'ap_corr',\n",
       "  'bandpass_r',\n",
       "  'dark_current',\n",
       "  'detector_rn',\n",
       "  'sky_sigma'],\n",
       " 'name': 'HDI',\n",
       " 'pivotwave': ['JsonUnit',\n",
       "  OrderedDict([('value',\n",
       "                [225.0,\n",
       "                 275.0,\n",
       "                 336.0,\n",
       "                 475.0,\n",
       "                 606.0,\n",
       "                 775.0,\n",
       "                 850.0,\n",
       "                 1260.0,\n",
       "                 1600.0,\n",
       "                 2220.0]),\n",
       "               ('unit', 'nm')])],\n",
       " 'bandnames': ['FUV', 'NUV', 'U', 'B', 'V', 'R', 'I', 'J', 'H', 'K'],\n",
       " 'channels': [[0, 1], [2, 3, 4, 5, 6], [7, 8, 9]],\n",
       " 'fiducials': ['JsonUnit',\n",
       "  OrderedDict([('value', [400.0, 400.0, 1200.0]), ('unit', 'nm')])],\n",
       " 'total_qe': ['JsonUnit',\n",
       "  OrderedDict([('value',\n",
       "                [0.1,\n",
       "                 0.112,\n",
       "                 0.175,\n",
       "                 0.211,\n",
       "                 0.211,\n",
       "                 0.211,\n",
       "                 0.145,\n",
       "                 0.342,\n",
       "                 0.342,\n",
       "                 0.335]),\n",
       "               ('unit', 'electron / ph')])],\n",
       " 'ap_corr': ['JsonUnit',\n",
       "  OrderedDict([('value', [1.0, 1.0, 1.0, 1.0, 1.0, 1.0, 1.0, 1.0, 1.0, 1.0]),\n",
       "               ('unit', '')])],\n",
       " 'bandpass_r': ['JsonUnit',\n",
       "  OrderedDict([('value', [5.0, 5.0, 5.0, 5.0, 5.0, 5.0, 5.0, 5.0, 5.0, 5.0]),\n",
       "               ('unit', '')])],\n",
       " 'dark_current': ['JsonUnit',\n",
       "  OrderedDict([('value',\n",
       "                [0.002,\n",
       "                 0.002,\n",
       "                 0.002,\n",
       "                 0.002,\n",
       "                 0.002,\n",
       "                 0.002,\n",
       "                 0.002,\n",
       "                 0.002,\n",
       "                 0.002,\n",
       "                 0.002]),\n",
       "               ('unit', 'electron / (pix s)')])],\n",
       " 'detector_rn': ['JsonUnit',\n",
       "  OrderedDict([('value', [2.5, 2.5, 2.5, 2.5, 2.5, 2.5, 2.5, 2.5, 2.5, 2.5]),\n",
       "               ('unit', 'electron(1/2) / pix(1/2)')])],\n",
       " 'sky_sigma': ['JsonUnit',\n",
       "  OrderedDict([('value',\n",
       "                [24.56,\n",
       "                 26.27,\n",
       "                 23.38,\n",
       "                 22.8,\n",
       "                 22.41,\n",
       "                 22.2,\n",
       "                 22.11,\n",
       "                 22.32,\n",
       "                 22.53,\n",
       "                 22.88]),\n",
       "               ('unit', '')])],\n",
       " '_current_protocol': 'json',\n",
       " 'load_profile': <bound method JSON.load of <syotools.persistence.json_protocol.JSON object at 0x7f0e74189f00>>,\n",
       " 'save_profile': <bound method JSON.save of <syotools.persistence.json_protocol.JSON object at 0x7f0e74189f00>>,\n",
       " 'telescope': <syotools.models.telescope.Telescope at 0x7f0e7418b310>}"
      ]
     },
     "execution_count": 3,
     "metadata": {},
     "output_type": "execute_result"
    }
   ],
   "source": [
    "camera.__dict__"
   ]
  },
  {
   "cell_type": "code",
   "execution_count": 2,
   "metadata": {},
   "outputs": [
    {
     "data": {
      "text/latex": [
       "$[0.014753663,~0.014753663,~0.014753663,~0.014753663,~0.01788144,~0.022868178,~0.025081227,~0.037179231,~0.047211722,~0.065506265]\\mathrm{{}^{\\prime\\prime}}$"
      ],
      "text/plain": [
       "<Quantity [0.01475366, 0.01475366, 0.01475366, 0.01475366, 0.01788144,\n",
       "           0.02286818, 0.02508123, 0.03717923, 0.04721172, 0.06550626] arcsec>"
      ]
     },
     "execution_count": 2,
     "metadata": {},
     "output_type": "execute_result"
    }
   ],
   "source": [
    "camera.recover('fwhm_psf')"
   ]
  },
  {
   "cell_type": "code",
   "execution_count": 6,
   "metadata": {},
   "outputs": [
    {
     "data": {
      "text/latex": [
       "$\\mathrm{\\frac{{}^{\\prime\\prime}}{pix}}$"
      ],
      "text/plain": [
       "Unit(\"arcsec / pix\")"
      ]
     },
     "execution_count": 6,
     "metadata": {},
     "output_type": "execute_result"
    }
   ],
   "source": [
    "camera.recover('pixel_size').unit"
   ]
  },
  {
   "cell_type": "code",
   "execution_count": 5,
   "metadata": {},
   "outputs": [
    {
     "name": "stdout",
     "output_type": "stream",
     "text": [
      "PSF width: 0.01, 0.01, 0.01, 0.01, 0.02, 0.02, 0.03, 0.04, 0.05, 0.07\n",
      "SN box width: 8.00, 8.00, 8.00, 8.00, 9.00, 12.00, 13.00, 6.00, 8.00, 11.00\n"
     ]
    },
    {
     "data": {
      "text/latex": [
       "$[64,~64,~64,~64,~81,~144,~169,~36,~64,~121] \\; \\mathrm{pix}$"
      ],
      "text/plain": [
       "<Quantity [ 64.,  64.,  64.,  64.,  81., 144., 169.,  36.,  64., 121.] pix>"
      ]
     },
     "execution_count": 5,
     "metadata": {},
     "output_type": "execute_result"
    }
   ],
   "source": [
    "camera._sn_box(True)"
   ]
  },
  {
   "cell_type": "code",
   "execution_count": 7,
   "metadata": {},
   "outputs": [
    {
     "name": "stdout",
     "output_type": "stream",
     "text": [
      "PSF width: 0.01, 0.01, 0.01, 0.01, 0.02, 0.02, 0.03, 0.04, 0.05, 0.07\n",
      "SN box width: 8.00, 8.00, 8.00, 8.00, 9.00, 12.00, 13.00, 6.00, 8.00, 11.00\n",
      "Planck spectrum: 0.00, 0.00, 0.00, 0.00, 0.00, 0.00, 0.00, 0.00, 0.39, 830.85\n",
      "QE * Planck / E_phot: 0.00, 0.00, 0.00, 0.00, 0.00, 0.00, 0.10, 34927992.02, 107450968071.85, 311060351960820.00\n",
      "E_phot: 0.00, 0.00, 0.00, 0.00, 0.00, 0.00, 0.00, 0.00, 0.00, 0.00\n",
      "Omega: 0.00, 0.00, 0.00, 0.00, 0.00, 0.00, 0.00, 0.00, 0.00, 0.00\n"
     ]
    },
    {
     "data": {
      "text/plain": [
       "('JsonUnit',\n",
       " {'unit': 'electron / s',\n",
       "  'value': [7.07027978996398e-89,\n",
       "   2.1795888305348185e-70,\n",
       "   3.5429353732269276e-55,\n",
       "   2.163480343409326e-35,\n",
       "   4.490761738845812e-25,\n",
       "   8.117741926416914e-17,\n",
       "   2.1406006865160015e-14,\n",
       "   2.1502070653761377e-05,\n",
       "   0.1493289147059827,\n",
       "   1134.0093185934866]})"
      ]
     },
     "execution_count": 7,
     "metadata": {},
     "output_type": "execute_result"
    }
   ],
   "source": [
    "camera.c_thermal(True)"
   ]
  }
 ],
 "metadata": {
  "kernelspec": {
   "display_name": "mejiro-v2",
   "language": "python",
   "name": "python3"
  },
  "language_info": {
   "codemirror_mode": {
    "name": "ipython",
    "version": 3
   },
   "file_extension": ".py",
   "mimetype": "text/x-python",
   "name": "python",
   "nbconvert_exporter": "python",
   "pygments_lexer": "ipython3",
   "version": "3.10.6"
  }
 },
 "nbformat": 4,
 "nbformat_minor": 2
}
