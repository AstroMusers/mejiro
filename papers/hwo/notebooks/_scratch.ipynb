{
 "cells": [
  {
   "cell_type": "code",
   "execution_count": 1,
   "metadata": {},
   "outputs": [
    {
     "name": "stdout",
     "output_type": "stream",
     "text": [
      "Warning, 5 of 20000 bins contained negative fluxes; they have been set to zero.\n",
      "Warning, 3590 of 20000 bins contained negative fluxes; they have been set to zero.\n",
      "Warning, 293 of 2920 bins contained negative fluxes; they have been set to zero.\n",
      "Warning, 5 of 20000 bins contained negative fluxes; they have been set to zero.\n",
      "Warning, 3590 of 20000 bins contained negative fluxes; they have been set to zero.\n",
      "Warning, 293 of 2920 bins contained negative fluxes; they have been set to zero.\n"
     ]
    },
    {
     "data": {
      "text/latex": [
       "$[0.014753663,~0.014753663,~0.014753663,~0.014753663,~0.01788144,~0.022868178,~0.025081227,~0.037179231,~0.047211722,~0.065506265]\\mathrm{{}^{\\prime\\prime}}$"
      ],
      "text/plain": [
       "<Quantity [0.01475366, 0.01475366, 0.01475366, 0.01475366, 0.01788144,\n",
       "           0.02286818, 0.02508123, 0.03717923, 0.04721172, 0.06550626] arcsec>"
      ]
     },
     "execution_count": 1,
     "metadata": {},
     "output_type": "execute_result"
    }
   ],
   "source": [
    "from syotools.models import Camera, Telescope\n",
    "\n",
    "camera, telescope = Camera(), Telescope()\n",
    "telescope.set_from_json('EAC1')\n",
    "telescope.add_camera(camera)\n",
    "\n",
    "camera.fwhm_psf"
   ]
  },
  {
   "cell_type": "code",
   "execution_count": 2,
   "metadata": {},
   "outputs": [
    {
     "data": {
      "text/latex": [
       "$[0.014753663,~0.014753663,~0.014753663,~0.014753663,~0.01788144,~0.022868178,~0.025081227,~0.037179231,~0.047211722,~0.065506265]\\mathrm{{}^{\\prime\\prime}}$"
      ],
      "text/plain": [
       "<Quantity [0.01475366, 0.01475366, 0.01475366, 0.01475366, 0.01788144,\n",
       "           0.02286818, 0.02508123, 0.03717923, 0.04721172, 0.06550626] arcsec>"
      ]
     },
     "execution_count": 2,
     "metadata": {},
     "output_type": "execute_result"
    }
   ],
   "source": [
    "camera.recover('fwhm_psf')"
   ]
  },
  {
   "cell_type": "code",
   "execution_count": 6,
   "metadata": {},
   "outputs": [
    {
     "data": {
      "text/latex": [
       "$\\mathrm{\\frac{{}^{\\prime\\prime}}{pix}}$"
      ],
      "text/plain": [
       "Unit(\"arcsec / pix\")"
      ]
     },
     "execution_count": 6,
     "metadata": {},
     "output_type": "execute_result"
    }
   ],
   "source": [
    "camera.recover('pixel_size').unit"
   ]
  },
  {
   "cell_type": "code",
   "execution_count": 5,
   "metadata": {},
   "outputs": [
    {
     "name": "stdout",
     "output_type": "stream",
     "text": [
      "PSF width: 0.01, 0.01, 0.01, 0.01, 0.02, 0.02, 0.03, 0.04, 0.05, 0.07\n",
      "SN box width: 8.00, 8.00, 8.00, 8.00, 9.00, 12.00, 13.00, 6.00, 8.00, 11.00\n"
     ]
    },
    {
     "data": {
      "text/latex": [
       "$[64,~64,~64,~64,~81,~144,~169,~36,~64,~121] \\; \\mathrm{pix}$"
      ],
      "text/plain": [
       "<Quantity [ 64.,  64.,  64.,  64.,  81., 144., 169.,  36.,  64., 121.] pix>"
      ]
     },
     "execution_count": 5,
     "metadata": {},
     "output_type": "execute_result"
    }
   ],
   "source": [
    "camera._sn_box(True)"
   ]
  },
  {
   "cell_type": "code",
   "execution_count": 7,
   "metadata": {},
   "outputs": [
    {
     "name": "stdout",
     "output_type": "stream",
     "text": [
      "PSF width: 0.01, 0.01, 0.01, 0.01, 0.02, 0.02, 0.03, 0.04, 0.05, 0.07\n",
      "SN box width: 8.00, 8.00, 8.00, 8.00, 9.00, 12.00, 13.00, 6.00, 8.00, 11.00\n",
      "Planck spectrum: 0.00, 0.00, 0.00, 0.00, 0.00, 0.00, 0.00, 0.00, 0.39, 830.85\n",
      "QE * Planck / E_phot: 0.00, 0.00, 0.00, 0.00, 0.00, 0.00, 0.10, 34927992.02, 107450968071.85, 311060351960820.00\n",
      "E_phot: 0.00, 0.00, 0.00, 0.00, 0.00, 0.00, 0.00, 0.00, 0.00, 0.00\n",
      "Omega: 0.00, 0.00, 0.00, 0.00, 0.00, 0.00, 0.00, 0.00, 0.00, 0.00\n"
     ]
    },
    {
     "data": {
      "text/plain": [
       "('JsonUnit',\n",
       " {'unit': 'electron / s',\n",
       "  'value': [7.07027978996398e-89,\n",
       "   2.1795888305348185e-70,\n",
       "   3.5429353732269276e-55,\n",
       "   2.163480343409326e-35,\n",
       "   4.490761738845812e-25,\n",
       "   8.117741926416914e-17,\n",
       "   2.1406006865160015e-14,\n",
       "   2.1502070653761377e-05,\n",
       "   0.1493289147059827,\n",
       "   1134.0093185934866]})"
      ]
     },
     "execution_count": 7,
     "metadata": {},
     "output_type": "execute_result"
    }
   ],
   "source": [
    "camera.c_thermal(True)"
   ]
  }
 ],
 "metadata": {
  "kernelspec": {
   "display_name": "mejiro-dev",
   "language": "python",
   "name": "python3"
  },
  "language_info": {
   "codemirror_mode": {
    "name": "ipython",
    "version": 3
   },
   "file_extension": ".py",
   "mimetype": "text/x-python",
   "name": "python",
   "nbconvert_exporter": "python",
   "pygments_lexer": "ipython3",
   "version": "3.10.6"
  }
 },
 "nbformat": 4,
 "nbformat_minor": 2
}
