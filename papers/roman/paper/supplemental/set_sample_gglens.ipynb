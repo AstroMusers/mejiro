{
 "cells": [
  {
   "cell_type": "code",
   "execution_count": 1,
   "metadata": {},
   "outputs": [],
   "source": [
    "import matplotlib\n",
    "import numpy as np\n",
    "import os\n",
    "import sys\n",
    "%matplotlib inline\n",
    "import matplotlib.pyplot as plt\n",
    "from matplotlib import colors\n",
    "from hydra import initialize, compose\n",
    "import pickle\n",
    "from glob import glob\n",
    "from pprint import pprint\n",
    "from tqdm import tqdm\n",
    "\n",
    "import speclite\n",
    "from astropy.cosmology import default_cosmology\n",
    "from astropy.units import Quantity\n",
    "from slsim.Observations.roman_speclite import configure_roman_filters, filter_names\n",
    "from slsim.lens_pop import LensPop\n",
    "from tqdm import tqdm\n",
    "\n",
    "# set paths to various directories based on the machine this code is being executed on\n",
    "with initialize(version_base=None, config_path='config'):\n",
    "    config = compose(config_name='config.yaml')  # overrides=['machine=uzay']\n",
    "\n",
    "array_dir, data_dir, figure_dir, pickle_dir, repo_dir = config.machine.array_dir, config.machine.data_dir, config.machine.figure_dir, config.machine.pickle_dir, config.machine.repo_dir\n",
    "\n",
    "# enable use of local modules\n",
    "if repo_dir not in sys.path:\n",
    "    sys.path.append(repo_dir)\n",
    "\n",
    "# set matplotlib style\n",
    "plt.style.use(f'{repo_dir}/mejiro/mplstyle/science.mplstyle')\n",
    "\n",
    "from mejiro.lenses.test import SampleStrongLens\n",
    "from mejiro.plots import diagnostic_plot, plot, plot_util, overplot\n",
    "from mejiro.analysis import stats\n",
    "from mejiro.utils import util\n",
    "from mejiro.helpers import gs\n",
    "import mejiro\n",
    "from mejiro.helpers import survey_sim"
   ]
  },
  {
   "cell_type": "code",
   "execution_count": 2,
   "metadata": {},
   "outputs": [
    {
     "name": "stdout",
     "output_type": "stream",
     "text": [
      "Configured Roman filters\n",
      "Loaded SkyPy configuration file /nfshome/bwedig/mejiro/mejiro/data/roman_hlwas.yml\n"
     ]
    }
   ],
   "source": [
    "# load Roman WFI filters\n",
    "configure_roman_filters()\n",
    "roman_filters = filter_names()\n",
    "roman_filters.sort()\n",
    "_ = speclite.filters.load_filters(*roman_filters[:8])\n",
    "print('Configured Roman filters')\n",
    "\n",
    "# load SkyPy config file\n",
    "module_path = os.path.dirname(mejiro.__file__)\n",
    "skypy_config = os.path.join(module_path, 'data', 'roman_hlwas.yml')\n",
    "print(f'Loaded SkyPy configuration file {skypy_config}')\n",
    "\n",
    "# set HLWAS parameters\n",
    "survey_area = float(util.load_skypy_config(skypy_config)['fsky'][:-5])\n",
    "sky_area = Quantity(value=survey_area, unit='deg2')\n",
    "cosmo = default_cosmology.get()\n",
    "pipeline_params = util.hydra_to_dict(config.pipeline)\n",
    "bands = pipeline_params['bands']"
   ]
  },
  {
   "cell_type": "code",
   "execution_count": 3,
   "metadata": {},
   "outputs": [],
   "source": [
    "# define cuts on the intrinsic deflector and source populations (in addition to the skypy config file)\n",
    "survey_params = util.hydra_to_dict(config.survey)\n",
    "\n",
    "kwargs_deflector_cut = {\n",
    "    'band': 'F106',\n",
    "    'band_max': survey_params['deflector_cut_band_max'],\n",
    "    'z_min': 0.01,\n",
    "    'z_max': 2.\n",
    "}\n",
    "kwargs_source_cut = {\n",
    "    'band': 'F106',\n",
    "    'band_max': survey_params['source_cut_band_max'],\n",
    "    'z_min': 0.01,\n",
    "    'z_max': 5.\n",
    "}"
   ]
  },
  {
   "cell_type": "code",
   "execution_count": 4,
   "metadata": {},
   "outputs": [
    {
     "name": "stdout",
     "output_type": "stream",
     "text": [
      "Defining galaxy population...\n"
     ]
    },
    {
     "name": "stdout",
     "output_type": "stream",
     "text": [
      "Defined galaxy population\n"
     ]
    }
   ],
   "source": [
    "# create the lens population\n",
    "print('Defining galaxy population...')\n",
    "lens_pop = LensPop(deflector_type=\"all-galaxies\",\n",
    "                   source_type=\"galaxies\",\n",
    "                   kwargs_deflector_cut=kwargs_deflector_cut,\n",
    "                   kwargs_source_cut=kwargs_source_cut,\n",
    "                   kwargs_mass2light=None,\n",
    "                   skypy_config=skypy_config,\n",
    "                   sky_area=sky_area,\n",
    "                   cosmo=cosmo)\n",
    "print('Defined galaxy population')"
   ]
  },
  {
   "cell_type": "code",
   "execution_count": 5,
   "metadata": {},
   "outputs": [
    {
     "name": "stdout",
     "output_type": "stream",
     "text": [
      "Identifying detectable lenses...\n"
     ]
    },
    {
     "name": "stdout",
     "output_type": "stream",
     "text": [
      "Number of detectable lenses from first set of criteria: 30934\n"
     ]
    }
   ],
   "source": [
    "# draw initial detectable lens population\n",
    "print('Identifying detectable lenses...')\n",
    "kwargs_lens_detectable_cut = {\n",
    "    'min_image_separation': 0.2,\n",
    "    'max_image_separation': 10,\n",
    "    'mag_arc_limit': {'F106': 25}\n",
    "}\n",
    "lens_population = lens_pop.draw_population(kwargs_lens_cuts=kwargs_lens_detectable_cut)\n",
    "print(f'Number of detectable lenses from first set of criteria: {len(lens_population)}')"
   ]
  },
  {
   "cell_type": "code",
   "execution_count": 10,
   "metadata": {},
   "outputs": [
    {
     "name": "stderr",
     "output_type": "stream",
     "text": [
      "100%|██████████| 30934/30934 [01:53<00:00, 271.37it/s]"
     ]
    },
    {
     "name": "stdout",
     "output_type": "stream",
     "text": [
      "40 detectable lens(es)\n"
     ]
    },
    {
     "name": "stderr",
     "output_type": "stream",
     "text": [
      "\n"
     ]
    }
   ],
   "source": [
    "# set up dict to capture some information about which candidates got filtered out\n",
    "filtered_sample = {}\n",
    "filtered_sample['total'] = len(lens_population)\n",
    "num_samples = 16\n",
    "filter_1, filter_2 = 0, 0\n",
    "filtered_sample['filter_1'] = []\n",
    "filtered_sample['filter_2'] = []\n",
    "\n",
    "# apply additional detectability criteria\n",
    "limit = None\n",
    "detectable_gglenses = []\n",
    "for candidate in tqdm(lens_population):\n",
    "    # 1. Einstein radius and Sersic radius\n",
    "    _, kwargs_params = candidate.lenstronomy_kwargs(band='F106')\n",
    "    lens_mag = candidate.deflector_magnitude(band='F106')\n",
    "\n",
    "    if kwargs_params['kwargs_lens'][0]['theta_E'] < kwargs_params['kwargs_lens_light'][0][\n",
    "        'R_sersic'] and lens_mag < 15:\n",
    "        filter_1 += 1\n",
    "        if filter_1 <= num_samples:\n",
    "            filtered_sample['filter_1'].append(candidate)\n",
    "        continue\n",
    "\n",
    "    # 2. SNR\n",
    "    snr, _ = survey_sim.get_snr(candidate, 'F106')\n",
    "\n",
    "    if snr < 5:\n",
    "        filter_2 += 1\n",
    "        if filter_2 <= num_samples:\n",
    "            filtered_sample['filter_2'].append(candidate)\n",
    "        continue\n",
    "\n",
    "    # if both criteria satisfied, consider detectable\n",
    "    detectable_gglenses.append(candidate)\n",
    "\n",
    "    # if I've imposed a limit above this loop, exit the loop\n",
    "    if limit is not None and len(detectable_gglenses) == limit:\n",
    "        break\n",
    "\n",
    "print(f'{len(detectable_gglenses)} detectable lens(es)')"
   ]
  },
  {
   "cell_type": "code",
   "execution_count": 15,
   "metadata": {},
   "outputs": [],
   "source": [
    "util.pickle(os.path.join(data_dir, 'sample_detectable_gglenses.pkl'), detectable_gglenses)"
   ]
  },
  {
   "cell_type": "code",
   "execution_count": 16,
   "metadata": {},
   "outputs": [],
   "source": [
    "sample_gglens = np.random.choice(detectable_gglenses, 1)\n",
    "util.pickle(os.path.join(data_dir, 'sample_gglens.pkl'), sample_gglens)"
   ]
  }
 ],
 "metadata": {
  "kernelspec": {
   "display_name": "mejiro",
   "language": "python",
   "name": "python3"
  },
  "language_info": {
   "codemirror_mode": {
    "name": "ipython",
    "version": 3
   },
   "file_extension": ".py",
   "mimetype": "text/x-python",
   "name": "python",
   "nbconvert_exporter": "python",
   "pygments_lexer": "ipython3",
   "version": "3.10.6"
  }
 },
 "nbformat": 4,
 "nbformat_minor": 2
}
