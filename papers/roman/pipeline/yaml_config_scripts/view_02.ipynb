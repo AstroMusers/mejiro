{
 "cells": [
  {
   "cell_type": "code",
   "execution_count": 1,
   "metadata": {},
   "outputs": [],
   "source": [
    "import os\n",
    "import sys\n",
    "import yaml\n",
    "from glob import glob\n",
    "from copy import deepcopy\n",
    "from pprint import pprint\n",
    "\n",
    "import numpy as np\n",
    "from corner import corner\n",
    "\n",
    "# enable use of local modules\n",
    "repo_dir = '/grad/bwedig/mejiro'\n",
    "if repo_dir not in sys.path:\n",
    "    sys.path.append(repo_dir)\n",
    "\n",
    "from mejiro.utils import util\n",
    "\n",
    "# read configuration file\n",
    "with open('config.yaml', 'r') as f:\n",
    "    config = yaml.load(f, Loader=yaml.SafeLoader)"
   ]
  },
  {
   "cell_type": "code",
   "execution_count": 2,
   "metadata": {},
   "outputs": [],
   "source": [
    "if config['dev']:\n",
    "    config['pipeline_dir'] += '_dev'"
   ]
  },
  {
   "cell_type": "code",
   "execution_count": 3,
   "metadata": {},
   "outputs": [
    {
     "name": "stdout",
     "output_type": "stream",
     "text": [
      "Found 18 pickle(s) in /data/bwedig/mejiro/roman_hlwas_dev/02\n"
     ]
    }
   ],
   "source": [
    "data_dir = os.path.join(config['data_dir'], config['pipeline_dir'], '02')\n",
    "\n",
    "pickles = sorted(glob(os.path.join(data_dir, '*.pkl')))\n",
    "print(f'Found {len(pickles)} pickle(s) in {data_dir}')"
   ]
  },
  {
   "cell_type": "code",
   "execution_count": 4,
   "metadata": {},
   "outputs": [
    {
     "name": "stdout",
     "output_type": "stream",
     "text": [
      "Found 57 system(s) in /data/bwedig/mejiro/roman_hlwas_dev/02/roman_hlwas_detectable_lenses_sca01.pkl\n"
     ]
    }
   ],
   "source": [
    "sample_lenses = util.unpickle(pickles[0])\n",
    "print(f'Found {len(sample_lenses)} system(s) in {pickles[0]}')"
   ]
  },
  {
   "cell_type": "code",
   "execution_count": 5,
   "metadata": {},
   "outputs": [
    {
     "name": "stdout",
     "output_type": "stream",
     "text": [
      "StrongLens(name=roman_hlwas_00000000, coords=None, z_lens=2.456119702248076, z_source=4.672011546254585)\n"
     ]
    }
   ],
   "source": [
    "sample_lens = sample_lenses[0]\n",
    "\n",
    "print(sample_lens)"
   ]
  },
  {
   "cell_type": "code",
   "execution_count": 6,
   "metadata": {},
   "outputs": [
    {
     "name": "stdout",
     "output_type": "stream",
     "text": [
      "{'coords': None,\n",
      " 'cosmo': FlatLambdaCDM(name='Planck18',\n",
      "                        H0=<Quantity 67.66 km / (Mpc s)>,\n",
      "                        Om0=0.30966,\n",
      "                        Tcmb0=<Quantity 2.7255 K>,\n",
      "                        Neff=3.046,\n",
      "                        m_nu=<Quantity [0.  , 0.  , 0.06] eV>,\n",
      "                        Ob0=0.04897),\n",
      " 'kwargs_model': {'cosmo': FlatLambdaCDM(name='Planck18',\n",
      "                                         H0=<Quantity 67.66 km / (Mpc s)>,\n",
      "                                         Om0=0.30966,\n",
      "                                         Tcmb0=<Quantity 2.7255 K>,\n",
      "                                         Neff=3.046,\n",
      "                                         m_nu=<Quantity [0.  , 0.  , 0.06] eV>,\n",
      "                                         Ob0=0.04897),\n",
      "                  'lens_light_model_list': ['SERSIC_ELLIPSE'],\n",
      "                  'lens_model_list': ['SIE', 'SHEAR', 'CONVERGENCE'],\n",
      "                  'lens_redshift_list': [2.456119702248076,\n",
      "                                         2.456119702248076,\n",
      "                                         2.456119702248076],\n",
      "                  'source_light_model_list': ['SERSIC_ELLIPSE'],\n",
      "                  'source_redshift_list': [4.672011546254585],\n",
      "                  'z_source': 4.672011546254585},\n",
      " 'kwargs_params': {'kwargs_lens': [{'center_x': -0.08342454743092029,\n",
      "                                    'center_y': -0.015367517910656006,\n",
      "                                    'e1': 0.02840688518327771,\n",
      "                                    'e2': 0.07162923907801166,\n",
      "                                    'theta_E': 0.994005399725853},\n",
      "                                   {'dec_0': 0,\n",
      "                                    'gamma1': -0.0,\n",
      "                                    'gamma2': 0.0,\n",
      "                                    'ra_0': 0},\n",
      "                                   {'dec_0': 0, 'kappa': 0.0, 'ra_0': 0}],\n",
      "                   'kwargs_lens_light': [{'R_sersic': 1.0676071559721392,\n",
      "                                          'center_x': -0.08342454743092029,\n",
      "                                          'center_y': -0.015367517910656006,\n",
      "                                          'e1': 0.03368277453780407,\n",
      "                                          'e2': 0.04789503406673223,\n",
      "                                          'magnitude': 25.50679698047587,\n",
      "                                          'n_sersic': 4.0}],\n",
      "                   'kwargs_ps': None,\n",
      "                   'kwargs_source': [{'R_sersic': 0.36528264489289164,\n",
      "                                      'center_x': -0.2881330714714254,\n",
      "                                      'center_y': -0.10750211049118139,\n",
      "                                      'e1': 0.5552692222368394,\n",
      "                                      'e2': -0.3044428296949457,\n",
      "                                      'magnitude': 24.581558516265527,\n",
      "                                      'n_sersic': 1.0}]},\n",
      " 'lens_cosmo': None,\n",
      " 'name': 'roman_hlwas_00000000',\n",
      " 'physical_params': {'lens_stellar_mass': 1555580828752.8508,\n",
      "                     'lens_velocity_dispersion': 380.5112353767499,\n",
      "                     'magnification': 5.816435057184484,\n",
      "                     'magnitudes': {'lens': {'F062': 25.50679698047587,\n",
      "                                             'F087': 25.003926147406965,\n",
      "                                             'F106': 23.74421570219276,\n",
      "                                             'F129': 22.710789628823534,\n",
      "                                             'F146': 21.978408658244646,\n",
      "                                             'F158': 21.55825414480573,\n",
      "                                             'F184': 21.10532452851009,\n",
      "                                             'F213': 20.758211731940442},\n",
      "                                    'lensed_source': {'F062': 22.669916307802065,\n",
      "                                                      'F087': 22.38502978601188,\n",
      "                                                      'F106': 22.302856147588034,\n",
      "                                                      'F129': 22.270842250219463,\n",
      "                                                      'F146': 22.255729140361378,\n",
      "                                                      'F158': 22.24893348580439,\n",
      "                                                      'F184': 22.17763063624221,\n",
      "                                                      'F213': 21.934005833702567},\n",
      "                                    'source': {'F062': 24.581558516265527,\n",
      "                                               'F087': 24.296671994475343,\n",
      "                                               'F106': 24.214498356051497,\n",
      "                                               'F129': 24.182484458682925,\n",
      "                                               'F146': 24.16737134882484,\n",
      "                                               'F158': 24.160575694267852,\n",
      "                                               'F184': 24.089272844705672,\n",
      "                                               'F213': 23.84564804216603}}},\n",
      " 'realization': None,\n",
      " 'use_jax': [True, True, True],\n",
      " 'z_lens': 2.456119702248076,\n",
      " 'z_source': 4.672011546254585}\n"
     ]
    }
   ],
   "source": [
    "pprint(sample_lens.__dict__)"
   ]
  }
 ],
 "metadata": {
  "kernelspec": {
   "display_name": "mejiro-v2",
   "language": "python",
   "name": "python3"
  },
  "language_info": {
   "codemirror_mode": {
    "name": "ipython",
    "version": 3
   },
   "file_extension": ".py",
   "mimetype": "text/x-python",
   "name": "python",
   "nbconvert_exporter": "python",
   "pygments_lexer": "ipython3",
   "version": "3.10.6"
  }
 },
 "nbformat": 4,
 "nbformat_minor": 2
}
