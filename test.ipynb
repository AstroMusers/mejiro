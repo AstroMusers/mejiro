{
 "cells": [
  {
   "cell_type": "code",
   "execution_count": 9,
   "metadata": {},
   "outputs": [],
   "source": [
    "%matplotlib inline\n",
    "%config InlineBackend.figure_format = 'svg'\n",
    "import sys\n",
    "import os\n",
    "import numpy as np\n",
    "import matplotlib\n",
    "from matplotlib import style\n",
    "#style.use('ggplot')  # see http://matplotlib.org/users/style_sheets.html\n",
    "                     # for info on matplotlib styles\n",
    "import json\n",
    "matplotlib.rcParams['axes.grid'] = False\n",
    "matplotlib.rcParams['image.origin'] = 'lower'\n",
    "import matplotlib.pyplot as plt\n",
    "\n",
    "# the first pandeia import is required to run calculations. the others are provided to allow setting up calculations and loading/saving of inputs or results.\n",
    "from pandeia.engine.perform_calculation import perform_calculation\n",
    "from pandeia.engine.calc_utils import get_telescope_config, get_instrument_config, build_default_calc, build_default_source\n",
    "from pandeia.engine.io_utils import read_json, write_json\n",
    "\n",
    "from pprint import pprint"
   ]
  },
  {
   "cell_type": "code",
   "execution_count": 10,
   "metadata": {},
   "outputs": [],
   "source": [
    "calc = build_default_calc('roman','wfi','imaging')"
   ]
  },
  {
   "cell_type": "code",
   "execution_count": 11,
   "metadata": {},
   "outputs": [
    {
     "name": "stdout",
     "output_type": "stream",
     "text": [
      "{'background': 'minzodi',\n",
      " 'background_level': 'benchmark',\n",
      " 'calculation': {'effects': {'saturation': None},\n",
      "                 'noise': {'crs': None,\n",
      "                           'dark': None,\n",
      "                           'excess': None,\n",
      "                           'ffnoise': None,\n",
      "                           'readnoise': None,\n",
      "                           'scatter': None}},\n",
      " 'configuration': {'detector': {'nexp': 1,\n",
      "                                'ngroup': 10,\n",
      "                                'nint': 1,\n",
      "                                'readout_pattern': 'deep2',\n",
      "                                'subarray': 'imaging'},\n",
      "                   'instrument': {'aperture': 'imaging',\n",
      "                                  'disperser': None,\n",
      "                                  'filter': 'f087',\n",
      "                                  'instrument': 'wfi',\n",
      "                                  'mode': 'imaging'}},\n",
      " 'scene': [{'position': {'orientation': 0.0, 'x_offset': 0.0, 'y_offset': 0.0},\n",
      "            'shape': {'geometry': 'point'},\n",
      "            'spectrum': {'extinction': {'bandpass': 'j',\n",
      "                                        'law': 'mw_rv_31',\n",
      "                                        'unit': 'mag',\n",
      "                                        'value': 0.0},\n",
      "                         'lines': [],\n",
      "                         'name': 'generic source',\n",
      "                         'normalization': {'norm_flux': 0.001,\n",
      "                                           'norm_fluxunit': 'mjy',\n",
      "                                           'norm_wave': 2.0,\n",
      "                                           'norm_waveunit': 'microns',\n",
      "                                           'type': 'at_lambda'},\n",
      "                         'redshift': 0.0,\n",
      "                         'sed': {'sed_type': 'flat',\n",
      "                                 'unit': 'fnu',\n",
      "                                 'z': 0.0}}}],\n",
      " 'strategy': {'aperture_size': 0.2,\n",
      "              'background_subtraction': True,\n",
      "              'display_string': 'Imaging Aperture Photometry',\n",
      "              'is_aperture_ee': False,\n",
      "              'method': 'imagingapphot',\n",
      "              'sky_annulus': [0.4, 0.6],\n",
      "              'target_source': '1',\n",
      "              'target_type': 'coords',\n",
      "              'target_xy': [0.0, 0.0],\n",
      "              'units': 'arcsec'}}\n"
     ]
    }
   ],
   "source": [
    "pprint(calc)"
   ]
  },
  {
   "cell_type": "code",
   "execution_count": 14,
   "metadata": {},
   "outputs": [
    {
     "name": "stdout",
     "output_type": "stream",
     "text": [
      "{'position': {'orientation': 0.0, 'x_offset': 0.0, 'y_offset': 0.0},\n",
      " 'shape': {'geometry': 'point'},\n",
      " 'spectrum': {'extinction': {'bandpass': 'j',\n",
      "                             'law': 'mw_rv_31',\n",
      "                             'unit': 'mag',\n",
      "                             'value': 0.0},\n",
      "              'lines': [],\n",
      "              'name': 'generic source',\n",
      "              'normalization': {'norm_flux': 0.001,\n",
      "                                'norm_fluxunit': 'mjy',\n",
      "                                'norm_wave': 2.0,\n",
      "                                'norm_waveunit': 'microns',\n",
      "                                'type': 'at_lambda'},\n",
      "              'redshift': 0.0,\n",
      "              'sed': {'sed_type': 'flat', 'unit': 'fnu', 'z': 0.0}}}\n"
     ]
    }
   ],
   "source": [
    "pprint(build_default_source(geometry='point', telescope='roman'))"
   ]
  }
 ],
 "metadata": {
  "kernelspec": {
   "display_name": "pandeia",
   "language": "python",
   "name": "python3"
  },
  "language_info": {
   "codemirror_mode": {
    "name": "ipython",
    "version": 3
   },
   "file_extension": ".py",
   "mimetype": "text/x-python",
   "name": "python",
   "nbconvert_exporter": "python",
   "pygments_lexer": "ipython3",
   "version": "3.9.13"
  }
 },
 "nbformat": 4,
 "nbformat_minor": 2
}
