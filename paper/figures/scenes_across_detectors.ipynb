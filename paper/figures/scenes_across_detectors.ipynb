{
 "cells": [
  {
   "cell_type": "code",
   "execution_count": null,
   "metadata": {},
   "outputs": [],
   "source": [
    "import os\n",
    "import pickle\n",
    "import sys\n",
    "\n",
    "import matplotlib.pyplot as plt\n",
    "import numpy as np\n",
    "from pprint import pprint\n",
    "from hydra import initialize, compose\n",
    "from glob import glob\n",
    "import multiprocessing\n",
    "\n",
    "# set paths to various directories based on the machine this code is being executed on\n",
    "with initialize(version_base=None, config_path='../../config'):\n",
    "    config = compose(config_name='config.yaml')  # overrides=['machine=uzay']\n",
    "\n",
    "array_dir, data_dir, figure_dir, pickle_dir, repo_dir  = config.machine.array_dir, config.machine.data_dir, config.machine.figure_dir, config.machine.pickle_dir, config.machine.repo_dir\n",
    "\n",
    "# enable use of local modules\n",
    "if repo_dir not in sys.path:\n",
    "    sys.path.append(repo_dir)\n",
    "\n",
    "# set matplotlib style\n",
    "plt.style.use(f'{repo_dir}/mejiro/mplstyle/science.mplstyle')\n",
    "\n",
    "from mejiro.plots import diagnostic_plot, plot\n",
    "from mejiro.utils import util\n",
    "from mejiro.helpers import pyhalo"
   ]
  },
  {
   "cell_type": "code",
   "execution_count": null,
   "metadata": {},
   "outputs": [],
   "source": [
    "array_dir = os.path.join(array_dir, 'scenes_across_detectors')\n",
    "util.create_directory_if_not_exists(array_dir)"
   ]
  },
  {
   "cell_type": "code",
   "execution_count": null,
   "metadata": {},
   "outputs": [],
   "source": [
    "offset_list = [(0, 0), (-1, -1), (-1, 1), (1, -1), (1, 1)]\n",
    "\n",
    "grid_oversample = 1\n",
    "num_samples = 1000"
   ]
  },
  {
   "cell_type": "code",
   "execution_count": null,
   "metadata": {},
   "outputs": [],
   "source": [
    "# use test lens\n",
    "lens = test_physical_lens.TestPhysicalLens()\n",
    "\n",
    "# add CDM subhalos; NB same subhalo population for all\n",
    "with open(os.path.join(pickle_dir, 'cdm_subhalos_for_sample_skypy_lens'), 'rb') as results_file:\n",
    "    realizationCDM = pickle.load(results_file)\n",
    "lens.add_subhalos(*pyhalo.realization_to_lensing_quantities(realizationCDM))\n",
    "\n",
    "model = lens.get_array(num_pix=num_pix * grid_oversample, side=side + buffer)"
   ]
  },
  {
   "cell_type": "code",
   "execution_count": null,
   "metadata": {},
   "outputs": [],
   "source": [
    "# build Pandeia input\n",
    "calc, _ = pandeia_input.build_pandeia_calc(csv=csv,\n",
    "                                        array=model, \n",
    "                                        lens=lens, \n",
    "                                        band='f106',\n",
    "                                        num_samples=num_samples)\n",
    "\n",
    "# do Pandeia calculation        \n",
    "image, execution_time = pandeia_input.get_pandeia_image(calc)\n",
    "\n",
    "# save detector image\n",
    "np.save(os.path.join(array_dir, f'test_physical_lens_image_{num_samples}'), image)"
   ]
  },
  {
   "cell_type": "code",
   "execution_count": null,
   "metadata": {},
   "outputs": [],
   "source": [
    "cpu_count = multiprocessing.cpu_count()\n",
    "generator = util.batch_list(lens_list, cpu_count)\n",
    "batches = list(generator)\n",
    "\n",
    "for batch in tqdm(batches):\n",
    "    pool = Pool(processes=cpu_count) \n",
    "    output = []\n",
    "    for each in pool.map(generate.main, batch):\n",
    "        output.append(each)"
   ]
  },
  {
   "cell_type": "code",
   "execution_count": null,
   "metadata": {},
   "outputs": [],
   "source": [
    "image_list, execution_times, num_point_sources = [], [], []\n",
    "\n",
    "for tuple in output:\n",
    "    (image, execution_time, num_ps) = tuple\n",
    "    image_list.append(image)\n",
    "    execution_times.append(execution_time)\n",
    "    num_point_sources.append(num_ps)"
   ]
  },
  {
   "cell_type": "code",
   "execution_count": null,
   "metadata": {},
   "outputs": [],
   "source": [
    "image_list = [i for i in image_list if i is not None]\n",
    "\n",
    "plot.plot_grid(image_list, side=16)"
   ]
  },
  {
   "cell_type": "code",
   "execution_count": null,
   "metadata": {},
   "outputs": [],
   "source": [
    "for image in image_list:\n",
    "    np.save(os.path.join(array_dir, f'skypy_output_{str(i).zfill(5)}'), image)"
   ]
  }
 ],
 "metadata": {
  "language_info": {
   "name": "python"
  }
 },
 "nbformat": 4,
 "nbformat_minor": 2
}
