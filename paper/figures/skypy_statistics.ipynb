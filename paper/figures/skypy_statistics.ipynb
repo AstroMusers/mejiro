{
 "cells": [
  {
   "cell_type": "code",
   "execution_count": null,
   "metadata": {},
   "outputs": [],
   "source": [
    "import os\n",
    "import sys\n",
    "import time\n",
    "\n",
    "import numpy as np\n",
    "import matplotlib.pyplot as plt\n",
    "from matplotlib import colors\n",
    "from glob import glob\n",
    "import multiprocessing\n",
    "import pandas as pd\n",
    "from tqdm import tqdm\n",
    "from copy import deepcopy\n",
    "from hydra import initialize, compose\n",
    "import matplotlib\n",
    "\n",
    "# set paths to various directories based on the machine this code is being executed on\n",
    "with initialize(version_base=None, config_path='../../config'):\n",
    "    config = compose(config_name='config.yaml')  # overrides=['machine=uzay']\n",
    "\n",
    "array_dir, data_dir, figure_dir, pickle_dir, repo_dir  = config.machine.array_dir, config.machine.data_dir, config.machine.figure_dir, config.machine.pickle_dir, config.machine.repo_dir\n",
    "\n",
    "# enable use of local modules\n",
    "if repo_dir not in sys.path:\n",
    "    sys.path.append(repo_dir)\n",
    "\n",
    "# set matplotlib style\n",
    "plt.style.use(f'{repo_dir}/mejiro/mplstyle/science.mplstyle')\n",
    "\n",
    "from mejiro.plots import diagnostic_plot, plot\n",
    "from mejiro.utils import util"
   ]
  },
  {
   "cell_type": "code",
   "execution_count": null,
   "metadata": {},
   "outputs": [],
   "source": [
    "csv_path = '/data/bwedig/mejiro/skypy/skypy_output_strict_5.csv'\n",
    "df = pd.read_csv(csv_path)\n",
    "\n",
    "df.columns"
   ]
  },
  {
   "cell_type": "markdown",
   "metadata": {},
   "source": [
    "select histograms to show"
   ]
  },
  {
   "cell_type": "code",
   "execution_count": null,
   "metadata": {},
   "outputs": [],
   "source": [
    "velocity_dispersions = df.loc[:,'velodisp']\n",
    "masses = df.loc[:,'massstel'] * 1e12\n",
    "source_redshifts = df.loc[:,'redssour']\n",
    "lens_redshifts = df.loc[:,'redslens']\n",
    "einstein_radii = df.loc[:,'angleins']\n",
    "num_images = df.loc[:,'numbimag']\n",
    "source_magnitudes = df.loc[:,'magtsourF106']\n",
    "lens_magnitudes = df.loc[:,'magtlensF106']\n",
    "source_x = df.loc[:,'xpossour']\n",
    "source_y = df.loc[:,'ypossour']\n",
    "lens_x = df.loc[:,'xposlens']\n",
    "lens_y = df.loc[:,'yposlens']"
   ]
  },
  {
   "cell_type": "code",
   "execution_count": null,
   "metadata": {},
   "outputs": [],
   "source": [
    "fig, ax = plt.subplots(nrows=2, ncols=3, figsize=(18, 10))  # , gridspec_kw={'hspace': 0.02, 'wspace': 0.02}\n",
    "\n",
    "fontsize = 24\n",
    "matplotlib.rcParams.update({'font.size': fontsize})\n",
    "\n",
    "bins = 20\n",
    "\n",
    "from matplotlib.ticker import MaxNLocator\n",
    "\n",
    "ax[0][0].hist(velocity_dispersions, bins=bins)\n",
    "ax[0][0].set_xlabel('$\\sigma$ (km/s)')\n",
    "ax[0][0].set_title('Lens velocity dispersions')\n",
    "ax[0][0].set_yscale('log')\n",
    "\n",
    "ax[0][1].hist(masses, bins=bins)\n",
    "ax[0][1].set_xlabel('$M_\\odot$')\n",
    "ax[0][1].set_title('Lens masses')\n",
    "ax[0][1].set_yscale('log')\n",
    "\n",
    "ax[0][2].hist(source_redshifts, label='Source', alpha=0.5, bins=bins)\n",
    "ax[0][2].hist(lens_redshifts, label='Lens', alpha=0.5, bins=bins)\n",
    "ax[0][2].set_xlabel('$z$')\n",
    "ax[0][2].set_title('Redshifts')\n",
    "ax[0][2].legend()\n",
    "\n",
    "ax[1][0].hist(einstein_radii, bins=bins)\n",
    "ax[1][0].set_xlabel(r'$\\theta_E$ (arcsec)')\n",
    "ax[1][0].set_title('Einstein radii')\n",
    "\n",
    "counts, edges, bars = ax[1][1].hist(num_images)\n",
    "ax[1][1].set_xlabel('Images')\n",
    "ax[1][1].set_title('Number of images')\n",
    "labels = [int(v) if v > 0 else '' for v in counts]\n",
    "ax[1][1].bar_label(bars, labels=labels, label_type='edge')\n",
    "# ax[1][1].bar_label(bars, fmt=lambda x: x if x > 0 else '')\n",
    "ax[1][1].set_ylim([0, 3.5e3])\n",
    "ax[1][1].xaxis.set_major_locator(MaxNLocator(integer=True))\n",
    "\n",
    "ax[1][2].hist(source_magnitudes, label='Source', alpha=0.5, bins=bins)\n",
    "ax[1][2].hist(lens_magnitudes, label='Lens', alpha=0.5, bins=bins)\n",
    "ax[1][2].set_xlabel('AB Magnitude (Roman F106)')\n",
    "ax[1][2].set_title('Magnitudes')\n",
    "ax[1][2].legend()\n",
    "ax[1][2].invert_xaxis()\n",
    "\n",
    "for each in ax.flatten()[2:]:  # skip the first two, which are on log scales\n",
    "    # each.get_yaxis().set_visible(False)\n",
    "    each.ticklabel_format(axis='y', style='sci', scilimits=(0,0))\n",
    "\n",
    "plt.tight_layout(w_pad=0.5, h_pad=0.)\n",
    "\n",
    "plt.savefig(os.path.join(figure_dir, 'skypy_pop_hist.png'))\n",
    "plt.show()"
   ]
  },
  {
   "cell_type": "code",
   "execution_count": null,
   "metadata": {},
   "outputs": [],
   "source": [
    "hist = df.hist(grid=False, figsize=(20, 20))\n",
    "# plt.savefig(os.path.join(figure_dir, 'skypy_pop_hist.png'))"
   ]
  }
 ],
 "metadata": {
  "kernelspec": {
   "display_name": "pandeia",
   "language": "python",
   "name": "python3"
  },
  "language_info": {
   "codemirror_mode": {
    "name": "ipython",
    "version": 3
   },
   "file_extension": ".py",
   "mimetype": "text/x-python",
   "name": "python",
   "nbconvert_exporter": "python",
   "pygments_lexer": "ipython3",
   "version": "3.10.6"
  }
 },
 "nbformat": 4,
 "nbformat_minor": 2
}
