{
 "cells": [
  {
   "cell_type": "code",
   "execution_count": 1,
   "metadata": {},
   "outputs": [
    {
     "ename": "ModuleNotFoundError",
     "evalue": "No module named 'colossus'",
     "output_type": "error",
     "traceback": [
      "\u001b[0;31m---------------------------------------------------------------------------\u001b[0m",
      "\u001b[0;31mModuleNotFoundError\u001b[0m                       Traceback (most recent call last)",
      "Input \u001b[0;32mIn [1]\u001b[0m, in \u001b[0;36m<cell line: 34>\u001b[0;34m()\u001b[0m\n\u001b[1;32m     31\u001b[0m \u001b[38;5;66;03m# set matplotlib style\u001b[39;00m\n\u001b[1;32m     32\u001b[0m plt\u001b[38;5;241m.\u001b[39mstyle\u001b[38;5;241m.\u001b[39muse(\u001b[38;5;124mf\u001b[39m\u001b[38;5;124m'\u001b[39m\u001b[38;5;132;01m{\u001b[39;00mrepo_dir\u001b[38;5;132;01m}\u001b[39;00m\u001b[38;5;124m/mejiro/mplstyle/science.mplstyle\u001b[39m\u001b[38;5;124m'\u001b[39m)\n\u001b[0;32m---> 34\u001b[0m \u001b[38;5;28;01mfrom\u001b[39;00m \u001b[38;5;21;01mmejiro\u001b[39;00m\u001b[38;5;21;01m.\u001b[39;00m\u001b[38;5;21;01mhelpers\u001b[39;00m \u001b[38;5;28;01mimport\u001b[39;00m pandeia_input, pyhalo\n\u001b[1;32m     35\u001b[0m \u001b[38;5;28;01mfrom\u001b[39;00m \u001b[38;5;21;01mmejiro\u001b[39;00m\u001b[38;5;21;01m.\u001b[39;00m\u001b[38;5;21;01mlenses\u001b[39;00m\u001b[38;5;21;01m.\u001b[39;00m\u001b[38;5;21;01msample_skypy_lens\u001b[39;00m \u001b[38;5;28;01mimport\u001b[39;00m SampleSkyPyLens\n\u001b[1;32m     36\u001b[0m \u001b[38;5;28;01mfrom\u001b[39;00m \u001b[38;5;21;01mmejiro\u001b[39;00m\u001b[38;5;21;01m.\u001b[39;00m\u001b[38;5;21;01mplots\u001b[39;00m \u001b[38;5;28;01mimport\u001b[39;00m diagnostic_plot, plot, plot_util, overplot\n",
      "File \u001b[0;32m/nfshome/bwedig/mejiro/mejiro/helpers/pyhalo.py:1\u001b[0m, in \u001b[0;36m<module>\u001b[0;34m\u001b[0m\n\u001b[0;32m----> 1\u001b[0m \u001b[38;5;28;01mfrom\u001b[39;00m \u001b[38;5;21;01mpyHalo\u001b[39;00m\u001b[38;5;21;01m.\u001b[39;00m\u001b[38;5;21;01mpreset_models\u001b[39;00m \u001b[38;5;28;01mimport\u001b[39;00m CDM\n\u001b[1;32m      2\u001b[0m \u001b[38;5;28;01mfrom\u001b[39;00m \u001b[38;5;21;01mpyHalo\u001b[39;00m\u001b[38;5;21;01m.\u001b[39;00m\u001b[38;5;21;01mCosmology\u001b[39;00m\u001b[38;5;21;01m.\u001b[39;00m\u001b[38;5;21;01mcosmology\u001b[39;00m \u001b[38;5;28;01mimport\u001b[39;00m Cosmology\n\u001b[1;32m      5\u001b[0m \u001b[38;5;28;01mdef\u001b[39;00m \u001b[38;5;21mgenerate_CDM_halos\u001b[39m(z_lens, z_source, cone_opening_angle_arcsec\u001b[38;5;241m=\u001b[39m\u001b[38;5;241m11\u001b[39m, LOS_normalization\u001b[38;5;241m=\u001b[39m\u001b[38;5;241m0.0\u001b[39m):\n",
      "File \u001b[0;32m/data/bwedig/.conda/envs/mejiro/lib/python3.10/site-packages/pyHalo/preset_models.py:7\u001b[0m, in \u001b[0;36m<module>\u001b[0;34m\u001b[0m\n\u001b[1;32m      1\u001b[0m \u001b[38;5;124;03m\"\"\"\u001b[39;00m\n\u001b[1;32m      2\u001b[0m \u001b[38;5;124;03mThese functions define some preset halo mass function models that can be specified instead of individually specifying\u001b[39;00m\n\u001b[1;32m      3\u001b[0m \u001b[38;5;124;03ma bunch of keyword arguments. This is intended for a quick and easy user interface. The definitions shown here can also\u001b[39;00m\n\u001b[1;32m      4\u001b[0m \u001b[38;5;124;03mact as a how-to guide if one wants to explore more complicated descriptions of the halo mass function, as the models\u001b[39;00m\n\u001b[1;32m      5\u001b[0m \u001b[38;5;124;03mpresented here show what each keyword argument accepted by pyHalo does.\u001b[39;00m\n\u001b[1;32m      6\u001b[0m \u001b[38;5;124;03m\"\"\"\u001b[39;00m\n\u001b[0;32m----> 7\u001b[0m \u001b[38;5;28;01mfrom\u001b[39;00m \u001b[38;5;21;01mpyHalo\u001b[39;00m\u001b[38;5;21;01m.\u001b[39;00m\u001b[38;5;21;01mPresetModels\u001b[39;00m\u001b[38;5;21;01m.\u001b[39;00m\u001b[38;5;21;01mcdm\u001b[39;00m \u001b[38;5;28;01mimport\u001b[39;00m CDM\n\u001b[1;32m      8\u001b[0m \u001b[38;5;28;01mfrom\u001b[39;00m \u001b[38;5;21;01mpyHalo\u001b[39;00m\u001b[38;5;21;01m.\u001b[39;00m\u001b[38;5;21;01mPresetModels\u001b[39;00m\u001b[38;5;21;01m.\u001b[39;00m\u001b[38;5;21;01mexternal\u001b[39;00m \u001b[38;5;28;01mimport\u001b[39;00m CDMFromEmulator, DMFromGalacticus\n\u001b[1;32m      9\u001b[0m \u001b[38;5;28;01mfrom\u001b[39;00m \u001b[38;5;21;01mpyHalo\u001b[39;00m\u001b[38;5;21;01m.\u001b[39;00m\u001b[38;5;21;01mPresetModels\u001b[39;00m\u001b[38;5;21;01m.\u001b[39;00m\u001b[38;5;21;01msidm\u001b[39;00m \u001b[38;5;28;01mimport\u001b[39;00m SIDM_core_collapse\n",
      "File \u001b[0;32m/data/bwedig/.conda/envs/mejiro/lib/python3.10/site-packages/pyHalo/PresetModels/cdm.py:4\u001b[0m, in \u001b[0;36m<module>\u001b[0;34m\u001b[0m\n\u001b[1;32m      1\u001b[0m \u001b[38;5;28;01mfrom\u001b[39;00m \u001b[38;5;21;01mcopy\u001b[39;00m \u001b[38;5;28;01mimport\u001b[39;00m copy\n\u001b[1;32m      3\u001b[0m \u001b[38;5;28;01mfrom\u001b[39;00m \u001b[38;5;21;01mpyHalo\u001b[39;00m\u001b[38;5;21;01m.\u001b[39;00m\u001b[38;5;21;01mCosmology\u001b[39;00m\u001b[38;5;21;01m.\u001b[39;00m\u001b[38;5;21;01mgeometry\u001b[39;00m \u001b[38;5;28;01mimport\u001b[39;00m Geometry\n\u001b[0;32m----> 4\u001b[0m \u001b[38;5;28;01mfrom\u001b[39;00m \u001b[38;5;21;01mpyHalo\u001b[39;00m\u001b[38;5;21;01m.\u001b[39;00m\u001b[38;5;21;01mRendering\u001b[39;00m\u001b[38;5;21;01m.\u001b[39;00m\u001b[38;5;21;01mMassFunctions\u001b[39;00m\u001b[38;5;21;01m.\u001b[39;00m\u001b[38;5;21;01mdensity_peaks\u001b[39;00m \u001b[38;5;28;01mimport\u001b[39;00m ShethTormen\n\u001b[1;32m      5\u001b[0m \u001b[38;5;28;01mfrom\u001b[39;00m \u001b[38;5;21;01mpyHalo\u001b[39;00m\u001b[38;5;21;01m.\u001b[39;00m\u001b[38;5;21;01mRendering\u001b[39;00m\u001b[38;5;21;01m.\u001b[39;00m\u001b[38;5;21;01mMassFunctions\u001b[39;00m\u001b[38;5;21;01m.\u001b[39;00m\u001b[38;5;21;01mmass_function_base\u001b[39;00m \u001b[38;5;28;01mimport\u001b[39;00m CDMPowerLaw\n\u001b[1;32m      6\u001b[0m \u001b[38;5;28;01mfrom\u001b[39;00m \u001b[38;5;21;01mpyHalo\u001b[39;00m\u001b[38;5;21;01m.\u001b[39;00m\u001b[38;5;21;01mRendering\u001b[39;00m\u001b[38;5;21;01m.\u001b[39;00m\u001b[38;5;21;01mSpatialDistributions\u001b[39;00m\u001b[38;5;21;01m.\u001b[39;00m\u001b[38;5;21;01mnfw\u001b[39;00m \u001b[38;5;28;01mimport\u001b[39;00m ProjectedNFW\n",
      "File \u001b[0;32m/data/bwedig/.conda/envs/mejiro/lib/python3.10/site-packages/pyHalo/Rendering/MassFunctions/density_peaks.py:3\u001b[0m, in \u001b[0;36m<module>\u001b[0;34m\u001b[0m\n\u001b[1;32m      1\u001b[0m \u001b[38;5;28;01mfrom\u001b[39;00m \u001b[38;5;21;01mcopy\u001b[39;00m \u001b[38;5;28;01mimport\u001b[39;00m deepcopy\n\u001b[1;32m      2\u001b[0m \u001b[38;5;28;01mimport\u001b[39;00m \u001b[38;5;21;01mnumpy\u001b[39;00m \u001b[38;5;28;01mas\u001b[39;00m \u001b[38;5;21;01mnp\u001b[39;00m\n\u001b[0;32m----> 3\u001b[0m \u001b[38;5;28;01mfrom\u001b[39;00m \u001b[38;5;21;01mpyHalo\u001b[39;00m\u001b[38;5;21;01m.\u001b[39;00m\u001b[38;5;21;01mRendering\u001b[39;00m\u001b[38;5;21;01m.\u001b[39;00m\u001b[38;5;21;01mMassFunctions\u001b[39;00m\u001b[38;5;21;01m.\u001b[39;00m\u001b[38;5;21;01mmass_function_base\u001b[39;00m \u001b[38;5;28;01mimport\u001b[39;00m CDMPowerLaw, WDMPowerLaw, MixedWDMPowerLaw\n\u001b[1;32m      4\u001b[0m \u001b[38;5;28;01mfrom\u001b[39;00m \u001b[38;5;21;01mcolossus\u001b[39;00m\u001b[38;5;21;01m.\u001b[39;00m\u001b[38;5;21;01mlss\u001b[39;00m\u001b[38;5;21;01m.\u001b[39;00m\u001b[38;5;21;01mmass_function\u001b[39;00m \u001b[38;5;28;01mimport\u001b[39;00m massFunction\n\u001b[1;32m      6\u001b[0m __all__ \u001b[38;5;241m=\u001b[39m [\u001b[38;5;124m'\u001b[39m\u001b[38;5;124mShethTormen\u001b[39m\u001b[38;5;124m'\u001b[39m, \u001b[38;5;124m'\u001b[39m\u001b[38;5;124mShethTormenMixedWDM\u001b[39m\u001b[38;5;124m'\u001b[39m, \u001b[38;5;124m'\u001b[39m\u001b[38;5;124mShethTormenTurnover\u001b[39m\u001b[38;5;124m'\u001b[39m]\n",
      "File \u001b[0;32m/data/bwedig/.conda/envs/mejiro/lib/python3.10/site-packages/pyHalo/Rendering/MassFunctions/mass_function_base.py:3\u001b[0m, in \u001b[0;36m<module>\u001b[0;34m\u001b[0m\n\u001b[1;32m      1\u001b[0m \u001b[38;5;28;01mimport\u001b[39;00m \u001b[38;5;21;01mnumpy\u001b[39;00m \u001b[38;5;28;01mas\u001b[39;00m \u001b[38;5;21;01mnp\u001b[39;00m\n\u001b[1;32m      2\u001b[0m \u001b[38;5;28;01mfrom\u001b[39;00m \u001b[38;5;21;01mpyHalo\u001b[39;00m\u001b[38;5;21;01m.\u001b[39;00m\u001b[38;5;21;01mRendering\u001b[39;00m\u001b[38;5;21;01m.\u001b[39;00m\u001b[38;5;21;01mMassFunctions\u001b[39;00m\u001b[38;5;21;01m.\u001b[39;00m\u001b[38;5;21;01mutil\u001b[39;00m \u001b[38;5;28;01mimport\u001b[39;00m integrate_power_law_analytic, integrate_power_law_quad\n\u001b[0;32m----> 3\u001b[0m \u001b[38;5;28;01mfrom\u001b[39;00m \u001b[38;5;21;01mpyHalo\u001b[39;00m\u001b[38;5;21;01m.\u001b[39;00m\u001b[38;5;21;01mutilities\u001b[39;00m \u001b[38;5;28;01mimport\u001b[39;00m inverse_transform_sampling\n\u001b[1;32m      4\u001b[0m \u001b[38;5;28;01mfrom\u001b[39;00m \u001b[38;5;21;01mscipy\u001b[39;00m\u001b[38;5;21;01m.\u001b[39;00m\u001b[38;5;21;01minterpolate\u001b[39;00m \u001b[38;5;28;01mimport\u001b[39;00m interp1d\n\u001b[1;32m      6\u001b[0m __all__ \u001b[38;5;241m=\u001b[39m [\u001b[38;5;124m'\u001b[39m\u001b[38;5;124mCDMPowerLaw\u001b[39m\u001b[38;5;124m'\u001b[39m, \u001b[38;5;124m'\u001b[39m\u001b[38;5;124mWDMPowerLaw\u001b[39m\u001b[38;5;124m'\u001b[39m, \u001b[38;5;124m'\u001b[39m\u001b[38;5;124mMixedWDMPowerLaw\u001b[39m\u001b[38;5;124m'\u001b[39m]\n",
      "File \u001b[0;32m/data/bwedig/.conda/envs/mejiro/lib/python3.10/site-packages/pyHalo/utilities.py:2\u001b[0m, in \u001b[0;36m<module>\u001b[0;34m\u001b[0m\n\u001b[1;32m      1\u001b[0m \u001b[38;5;28;01mimport\u001b[39;00m \u001b[38;5;21;01mnumpy\u001b[39;00m \u001b[38;5;28;01mas\u001b[39;00m \u001b[38;5;21;01mnp\u001b[39;00m\n\u001b[0;32m----> 2\u001b[0m \u001b[38;5;28;01mfrom\u001b[39;00m \u001b[38;5;21;01mpyHalo\u001b[39;00m\u001b[38;5;21;01m.\u001b[39;00m\u001b[38;5;21;01mdefaults\u001b[39;00m \u001b[38;5;28;01mimport\u001b[39;00m lenscone_default\n\u001b[1;32m      3\u001b[0m \u001b[38;5;28;01mfrom\u001b[39;00m \u001b[38;5;21;01mscipy\u001b[39;00m\u001b[38;5;21;01m.\u001b[39;00m\u001b[38;5;21;01minterpolate\u001b[39;00m \u001b[38;5;28;01mimport\u001b[39;00m interp1d\n\u001b[1;32m      4\u001b[0m \u001b[38;5;28;01mfrom\u001b[39;00m \u001b[38;5;21;01mpyHalo\u001b[39;00m\u001b[38;5;21;01m.\u001b[39;00m\u001b[38;5;21;01mCosmology\u001b[39;00m\u001b[38;5;21;01m.\u001b[39;00m\u001b[38;5;21;01mcosmology\u001b[39;00m \u001b[38;5;28;01mimport\u001b[39;00m Cosmology\n",
      "File \u001b[0;32m/data/bwedig/.conda/envs/mejiro/lib/python3.10/site-packages/pyHalo/defaults.py:4\u001b[0m, in \u001b[0;36m<module>\u001b[0;34m\u001b[0m\n\u001b[1;32m      1\u001b[0m \u001b[38;5;66;03m# \"\"\"\u001b[39;00m\n\u001b[1;32m      2\u001b[0m \u001b[38;5;66;03m# default parameters used to create realizations. This should be good for most applications\u001b[39;00m\n\u001b[1;32m      3\u001b[0m \u001b[38;5;66;03m# \"\"\"\u001b[39;00m\n\u001b[0;32m----> 4\u001b[0m \u001b[38;5;28;01mfrom\u001b[39;00m \u001b[38;5;21;01mpyHalo\u001b[39;00m\u001b[38;5;21;01m.\u001b[39;00m\u001b[38;5;21;01mHalos\u001b[39;00m\u001b[38;5;21;01m.\u001b[39;00m\u001b[38;5;21;01mconcentration\u001b[39;00m \u001b[38;5;28;01mimport\u001b[39;00m ConcentrationDiemerJoyce\n\u001b[1;32m      5\u001b[0m \u001b[38;5;28;01mfrom\u001b[39;00m \u001b[38;5;21;01mpyHalo\u001b[39;00m\u001b[38;5;21;01m.\u001b[39;00m\u001b[38;5;21;01mHalos\u001b[39;00m\u001b[38;5;21;01m.\u001b[39;00m\u001b[38;5;21;01mtidal_truncation\u001b[39;00m \u001b[38;5;28;01mimport\u001b[39;00m TruncationRN, TruncationRoche\n\u001b[1;32m      7\u001b[0m \u001b[38;5;28;01mclass\u001b[39;00m \u001b[38;5;21;01mCosmoDefaults\u001b[39;00m(\u001b[38;5;28mobject\u001b[39m):\n",
      "File \u001b[0;32m/data/bwedig/.conda/envs/mejiro/lib/python3.10/site-packages/pyHalo/Halos/concentration.py:2\u001b[0m, in \u001b[0;36m<module>\u001b[0;34m\u001b[0m\n\u001b[1;32m      1\u001b[0m \u001b[38;5;28;01mimport\u001b[39;00m \u001b[38;5;21;01mnumpy\u001b[39;00m \u001b[38;5;28;01mas\u001b[39;00m \u001b[38;5;21;01mnumpy\u001b[39;00m\n\u001b[0;32m----> 2\u001b[0m \u001b[38;5;28;01mfrom\u001b[39;00m \u001b[38;5;21;01mcolossus\u001b[39;00m\u001b[38;5;21;01m.\u001b[39;00m\u001b[38;5;21;01mhalo\u001b[39;00m\u001b[38;5;21;01m.\u001b[39;00m\u001b[38;5;21;01mconcentration\u001b[39;00m \u001b[38;5;28;01mimport\u001b[39;00m concentration, peaks\n\u001b[1;32m      3\u001b[0m \u001b[38;5;28;01mimport\u001b[39;00m \u001b[38;5;21;01mwarnings\u001b[39;00m\n\u001b[1;32m      4\u001b[0m warnings\u001b[38;5;241m.\u001b[39mfilterwarnings(\u001b[38;5;124m\"\u001b[39m\u001b[38;5;124mignore\u001b[39m\u001b[38;5;124m\"\u001b[39m)\n",
      "\u001b[0;31mModuleNotFoundError\u001b[0m: No module named 'colossus'"
     ]
    }
   ],
   "source": [
    "import os\n",
    "import sys\n",
    "\n",
    "import numpy as np\n",
    "import time\n",
    "from copy import deepcopy\n",
    "from pprint import pprint\n",
    "from tqdm import tqdm\n",
    "import matplotlib\n",
    "import matplotlib.pyplot as plt\n",
    "from matplotlib import rc\n",
    "import matplotlib.colors as colors\n",
    "from hydra import initialize, compose\n",
    "from glob import glob\n",
    "import pickle\n",
    "from pandeia.engine.perform_calculation import perform_calculation\n",
    "from pandeia.engine.calc_utils import build_default_calc, build_default_source\n",
    "from lenstronomy.Util import data_util\n",
    "from lenstronomy.SimulationAPI.ObservationConfig.Roman import Roman\n",
    "\n",
    "# set paths to various directories based on the machine this code is being executed on\n",
    "with initialize(version_base=None, config_path='../../config'):\n",
    "    config = compose(config_name='config.yaml')  # overrides=['machine=uzay']\n",
    "\n",
    "array_dir, data_dir, figure_dir, pickle_dir, repo_dir  = config.machine.array_dir, config.machine.data_dir, config.machine.figure_dir, config.machine.pickle_dir, config.machine.repo_dir\n",
    "\n",
    "# enable use of local modules\n",
    "if repo_dir not in sys.path:\n",
    "    sys.path.append(repo_dir)\n",
    "\n",
    "# set matplotlib style\n",
    "plt.style.use(f'{repo_dir}/mejiro/mplstyle/science.mplstyle')\n",
    "\n",
    "from mejiro.helpers import pandeia_input, pyhalo\n",
    "from mejiro.lenses.sample_skypy_lens import SampleSkyPyLens\n",
    "from mejiro.plots import diagnostic_plot, plot, plot_util, overplot\n",
    "from mejiro.utils import util\n",
    "from mejiro.analysis import stats"
   ]
  },
  {
   "cell_type": "code",
   "execution_count": null,
   "metadata": {},
   "outputs": [],
   "source": [
    "array_dir = os.path.join(array_dir, 'pandeia_noise_residuals')\n",
    "util.create_directory_if_not_exists(array_dir)\n",
    "\n",
    "pickle_dir = os.path.join(pickle_dir, 'pyhalo')"
   ]
  },
  {
   "cell_type": "code",
   "execution_count": null,
   "metadata": {},
   "outputs": [],
   "source": [
    "num_samples = 10000\n",
    "grid_oversample = 5\n",
    "\n",
    "lens = SampleSkyPyLens()\n",
    "\n",
    "# add CDM subhalos; NB same subhalo population for all\n",
    "with open(os.path.join(pickle_dir, 'cdm_subhalos_for_sample_skypy_lens'), 'rb') as results_file:\n",
    "    realizationCDM = pickle.load(results_file)\n",
    "lens.add_subhalos(*pyhalo.realization_to_lensing_quantities(realizationCDM))\n",
    "\n",
    "model = lens.get_array(num_pix=51 * grid_oversample, side=5.61)"
   ]
  },
  {
   "cell_type": "code",
   "execution_count": null,
   "metadata": {},
   "outputs": [
    {
     "name": "stderr",
     "output_type": "stream",
     "text": [
      "100%|██████████| 255/255 [00:00<00:00, 1160.19it/s]\n",
      "100%|██████████| 5924/5924 [00:43<00:00, 135.88it/s]"
     ]
    },
    {
     "name": "stdout",
     "output_type": "stream",
     "text": [
      "Point source conversion complete: placed 5924 point sources\n",
      "Estimated calculation time: 0:07:45\n"
     ]
    },
    {
     "name": "stderr",
     "output_type": "stream",
     "text": [
      "\n"
     ]
    }
   ],
   "source": [
    "calc, _ = pandeia_input.build_pandeia_calc(array=model, lens=lens, band='f106', num_samples=num_samples)"
   ]
  },
  {
   "cell_type": "code",
   "execution_count": null,
   "metadata": {},
   "outputs": [],
   "source": [
    "# TEMP\n",
    "from pandeia.engine.calc_utils import build_default_calc\n",
    "calc = build_default_calc('roman', 'wfi', 'imaging')\n",
    "calc['scene'].append(build_default_source(geometry='point', telescope='roman'))\n",
    "\n",
    "# calc['configuration']['detector']['ma_table_name'] = 'hlwas_imaging'\n",
    "# calc['configuration']['detector']['ngroup'] = 10\n",
    "# calc['configuration']['detector']['nint'] = 1\n",
    "# calc['configuration']['detector']['readout_pattern'] = ''"
   ]
  },
  {
   "cell_type": "code",
   "execution_count": null,
   "metadata": {},
   "outputs": [
    {
     "name": "stdout",
     "output_type": "stream",
     "text": [
      "{'background': 'minzodi',\n",
      " 'background_level': 'benchmark',\n",
      " 'calculation': {'effects': {'saturation': None},\n",
      "                 'noise': {'crs': None,\n",
      "                           'dark': None,\n",
      "                           'excess': None,\n",
      "                           'ffnoise': None,\n",
      "                           'readnoise': None,\n",
      "                           'scatter': None}},\n",
      " 'configuration': {'detector': {'ma_table_name': 'hlwas_imaging',\n",
      "                                'nexp': 1,\n",
      "                                'nresultants': 5,\n",
      "                                'subarray': 'full'},\n",
      "                   'instrument': {'aperture': 'imaging',\n",
      "                                  'disperser': None,\n",
      "                                  'filter': 'f087',\n",
      "                                  'instrument': 'wfi',\n",
      "                                  'mode': 'imaging'}},\n",
      " 'scene': [{'position': {'orientation': 0.0, 'x_offset': 0.0, 'y_offset': 0.0},\n",
      "            'shape': {'geometry': 'point'},\n",
      "            'spectrum': {'extinction': {'bandpass': 'j',\n",
      "                                        'law': 'mw_rv_31',\n",
      "                                        'unit': 'mag',\n",
      "                                        'value': 0.0},\n",
      "                         'extinction_first': True,\n",
      "                         'lines': [],\n",
      "                         'name': 'generic source',\n",
      "                         'normalization': {'norm_flux': 0.001,\n",
      "                                           'norm_fluxunit': 'mjy',\n",
      "                                           'norm_wave': 2.0,\n",
      "                                           'norm_waveunit': 'microns',\n",
      "                                           'type': 'at_lambda'},\n",
      "                         'redshift': 0.0,\n",
      "                         'sed': {'sed_type': 'flat', 'unit': 'fnu', 'z': 0.0}}},\n",
      "           {'position': {'orientation': 0.0, 'x_offset': 0.0, 'y_offset': 0.0},\n",
      "            'shape': {'geometry': 'point'},\n",
      "            'spectrum': {'extinction': {'bandpass': 'j',\n",
      "                                        'law': 'mw_rv_31',\n",
      "                                        'unit': 'mag',\n",
      "                                        'value': 0.0},\n",
      "                         'extinction_first': True,\n",
      "                         'lines': [],\n",
      "                         'name': 'generic source',\n",
      "                         'normalization': {'norm_flux': 0.001,\n",
      "                                           'norm_fluxunit': 'mjy',\n",
      "                                           'norm_wave': 2.0,\n",
      "                                           'norm_waveunit': 'microns',\n",
      "                                           'type': 'at_lambda'},\n",
      "                         'redshift': 0.0,\n",
      "                         'sed': {'sed_type': 'flat',\n",
      "                                 'unit': 'fnu',\n",
      "                                 'z': 0.0}}}],\n",
      " 'strategy': {'aperture_size': 0.2,\n",
      "              'background_subtraction': True,\n",
      "              'display_string': 'Imaging Aperture Photometry',\n",
      "              'is_aperture_ee': False,\n",
      "              'method': 'imagingapphot',\n",
      "              'sky_annulus': [0.4, 0.6],\n",
      "              'target_source': '1',\n",
      "              'target_type': 'coords',\n",
      "              'target_xy': [0.0, 0.0],\n",
      "              'units': 'arcsec'}}\n"
     ]
    }
   ],
   "source": [
    "pprint(calc)"
   ]
  },
  {
   "cell_type": "code",
   "execution_count": null,
   "metadata": {},
   "outputs": [
    {
     "name": "stdout",
     "output_type": "stream",
     "text": [
      "Performing Pandeia calculation...\n"
     ]
    },
    {
     "ename": "DataError",
     "evalue": "Missing required detector parameter ngroup from default configuration for WFI.",
     "output_type": "error",
     "traceback": [
      "\u001b[0;31m---------------------------------------------------------------------------\u001b[0m",
      "\u001b[0;31mDataError\u001b[0m                                 Traceback (most recent call last)",
      "Input \u001b[0;32mIn [22]\u001b[0m, in \u001b[0;36m<cell line: 1>\u001b[0;34m()\u001b[0m\n\u001b[0;32m----> 1\u001b[0m all_on, _ \u001b[38;5;241m=\u001b[39m \u001b[43mpandeia_input\u001b[49m\u001b[38;5;241;43m.\u001b[39;49m\u001b[43mget_pandeia_image\u001b[49m\u001b[43m(\u001b[49m\u001b[43mcalc\u001b[49m\u001b[43m)\u001b[49m\n",
      "File \u001b[0;32m/nfshome/bwedig/mejiro/mejiro/helpers/pandeia_input.py:68\u001b[0m, in \u001b[0;36mget_pandeia_image\u001b[0;34m(calc, suppress_output)\u001b[0m\n\u001b[1;32m     67\u001b[0m \u001b[38;5;28;01mdef\u001b[39;00m \u001b[38;5;21mget_pandeia_image\u001b[39m(calc, suppress_output\u001b[38;5;241m=\u001b[39m\u001b[38;5;28;01mFalse\u001b[39;00m):\n\u001b[0;32m---> 68\u001b[0m     results, execution_time \u001b[38;5;241m=\u001b[39m \u001b[43mget_pandeia_results\u001b[49m\u001b[43m(\u001b[49m\u001b[43mcalc\u001b[49m\u001b[43m,\u001b[49m\u001b[43m \u001b[49m\u001b[43msuppress_output\u001b[49m\u001b[43m)\u001b[49m\n\u001b[1;32m     70\u001b[0m     \u001b[38;5;28;01mreturn\u001b[39;00m results[\u001b[38;5;124m'\u001b[39m\u001b[38;5;124m2d\u001b[39m\u001b[38;5;124m'\u001b[39m][\u001b[38;5;124m'\u001b[39m\u001b[38;5;124mdetector\u001b[39m\u001b[38;5;124m'\u001b[39m], execution_time\n",
      "File \u001b[0;32m/nfshome/bwedig/mejiro/mejiro/helpers/pandeia_input.py:51\u001b[0m, in \u001b[0;36mget_pandeia_results\u001b[0;34m(calc, suppress_output)\u001b[0m\n\u001b[1;32m     49\u001b[0m \u001b[38;5;28;01mif\u001b[39;00m \u001b[38;5;129;01mnot\u001b[39;00m suppress_output:\n\u001b[1;32m     50\u001b[0m     \u001b[38;5;28mprint\u001b[39m(\u001b[38;5;124m'\u001b[39m\u001b[38;5;124mPerforming Pandeia calculation...\u001b[39m\u001b[38;5;124m'\u001b[39m)\n\u001b[0;32m---> 51\u001b[0m results \u001b[38;5;241m=\u001b[39m \u001b[43mperform_calculation\u001b[49m\u001b[43m(\u001b[49m\u001b[43mcalc\u001b[49m\u001b[43m)\u001b[49m\n\u001b[1;32m     53\u001b[0m stop \u001b[38;5;241m=\u001b[39m time\u001b[38;5;241m.\u001b[39mtime()\n\u001b[1;32m     54\u001b[0m execution_time \u001b[38;5;241m=\u001b[39m \u001b[38;5;28mstr\u001b[39m(datetime\u001b[38;5;241m.\u001b[39mtimedelta(seconds\u001b[38;5;241m=\u001b[39m\u001b[38;5;28mround\u001b[39m(stop \u001b[38;5;241m-\u001b[39m start)))\n",
      "File \u001b[0;32m/data/bwedig/.conda/envs/pandeia/lib/python3.9/site-packages/pandeia/engine/perform_calculation.py:35\u001b[0m, in \u001b[0;36mperform_calculation\u001b[0;34m(calc_input, dict_report, webapp, validate)\u001b[0m\n\u001b[1;32m     33\u001b[0m snr \u001b[38;5;241m=\u001b[39m calc_input[\u001b[38;5;124m'\u001b[39m\u001b[38;5;124mconfiguration\u001b[39m\u001b[38;5;124m'\u001b[39m][\u001b[38;5;124m'\u001b[39m\u001b[38;5;124mdetector\u001b[39m\u001b[38;5;124m'\u001b[39m]\u001b[38;5;241m.\u001b[39mget(\u001b[38;5;124m'\u001b[39m\u001b[38;5;124mcalculate_snr\u001b[39m\u001b[38;5;124m'\u001b[39m, \u001b[38;5;28;01mTrue\u001b[39;00m)\n\u001b[1;32m     34\u001b[0m \u001b[38;5;28;01mif\u001b[39;00m snr:\n\u001b[0;32m---> 35\u001b[0m     report \u001b[38;5;241m=\u001b[39m \u001b[43mcalculate_sn\u001b[49m\u001b[43m(\u001b[49m\u001b[43mcalc_input\u001b[49m\u001b[43m,\u001b[49m\u001b[43m \u001b[49m\u001b[43mwebapp\u001b[49m\u001b[38;5;241;43m=\u001b[39;49m\u001b[43mwebapp\u001b[49m\u001b[43m,\u001b[49m\u001b[43m \u001b[49m\u001b[43mvalidate\u001b[49m\u001b[38;5;241;43m=\u001b[39;49m\u001b[43mvalidate\u001b[49m\u001b[43m)\u001b[49m\n\u001b[1;32m     36\u001b[0m \u001b[38;5;28;01melse\u001b[39;00m:\n\u001b[1;32m     37\u001b[0m     report \u001b[38;5;241m=\u001b[39m calculate_exposure_time(calc_input, webapp\u001b[38;5;241m=\u001b[39mwebapp, validate\u001b[38;5;241m=\u001b[39mvalidate)\n",
      "File \u001b[0;32m/data/bwedig/.conda/envs/pandeia/lib/python3.9/site-packages/pandeia/engine/etc3D.py:209\u001b[0m, in \u001b[0;36mcalculate_sn\u001b[0;34m(calc_input, webapp, validate)\u001b[0m\n\u001b[1;32m    189\u001b[0m \u001b[38;5;28;01mdef\u001b[39;00m \u001b[38;5;21mcalculate_sn\u001b[39m(calc_input, webapp\u001b[38;5;241m=\u001b[39m\u001b[38;5;28;01mFalse\u001b[39;00m, validate\u001b[38;5;241m=\u001b[39m\u001b[38;5;28;01mFalse\u001b[39;00m):\n\u001b[1;32m    190\u001b[0m     \u001b[38;5;124;03m\"\"\"\u001b[39;00m\n\u001b[1;32m    191\u001b[0m \u001b[38;5;124;03m    This is a function to do the 'forward' exposure time calculation where, given a dict\u001b[39;00m\n\u001b[1;32m    192\u001b[0m \u001b[38;5;124;03m    in engine API input format, we calculate the resulting Signal/Noise and return a Report\u001b[39;00m\n\u001b[0;32m   (...)\u001b[0m\n\u001b[1;32m    206\u001b[0m \u001b[38;5;124;03m    report.Report instance\u001b[39;00m\n\u001b[1;32m    207\u001b[0m \u001b[38;5;124;03m    \"\"\"\u001b[39;00m\n\u001b[0;32m--> 209\u001b[0m     calc_config, instrument, strategy, scene_configuration, background, background_level, warnings \u001b[38;5;241m=\u001b[39m \u001b[43msetup\u001b[49m\u001b[43m(\u001b[49m\u001b[43mcalc_input\u001b[49m\u001b[43m,\u001b[49m\u001b[43m \u001b[49m\u001b[43mwebapp\u001b[49m\u001b[38;5;241;43m=\u001b[39;49m\u001b[43mwebapp\u001b[49m\u001b[43m,\u001b[49m\u001b[43m \u001b[49m\u001b[43mvalidate\u001b[49m\u001b[38;5;241;43m=\u001b[39;49m\u001b[43mvalidate\u001b[49m\u001b[43m)\u001b[49m\n\u001b[1;32m    211\u001b[0m     \u001b[38;5;66;03m# strategies can have different figures of interest that need to be calculated.\u001b[39;00m\n\u001b[1;32m    212\u001b[0m     \u001b[38;5;66;03m# in most cases, S/N is what is desired. However, for coronagraphy the figure of interest\u001b[39;00m\n\u001b[1;32m    213\u001b[0m     \u001b[38;5;66;03m# is sometimes the contrast that can be achieved. In this case, strategy.calc_type will be\u001b[39;00m\n\u001b[1;32m    214\u001b[0m     \u001b[38;5;66;03m# set to 'contrast' and we need to run calculate_contrast.\u001b[39;00m\n\u001b[1;32m    215\u001b[0m     contrast \u001b[38;5;241m=\u001b[39m \u001b[38;5;28;01mFalse\u001b[39;00m\n",
      "File \u001b[0;32m/data/bwedig/.conda/envs/pandeia/lib/python3.9/site-packages/pandeia/engine/etc3D.py:58\u001b[0m, in \u001b[0;36msetup\u001b[0;34m(calc_input, webapp, validate)\u001b[0m\n\u001b[1;32m     53\u001b[0m \u001b[38;5;66;03m# #### BEGIN calculation #### #\u001b[39;00m\n\u001b[1;32m     54\u001b[0m \u001b[38;5;124;03m\"\"\"\u001b[39;00m\n\u001b[1;32m     55\u001b[0m \u001b[38;5;124;03mThis section currently implements the Pandeia engine API.  As the engine's object model\u001b[39;00m\n\u001b[1;32m     56\u001b[0m \u001b[38;5;124;03mis refactored, this section will have to change accordingly.\u001b[39;00m\n\u001b[1;32m     57\u001b[0m \u001b[38;5;124;03m\"\"\"\u001b[39;00m\n\u001b[0;32m---> 58\u001b[0m instrument \u001b[38;5;241m=\u001b[39m \u001b[43mInstrumentFactory\u001b[49m\u001b[43m(\u001b[49m\u001b[43mconfig\u001b[49m\u001b[38;5;241;43m=\u001b[39;49m\u001b[43minstrument_configuration\u001b[49m\u001b[43m,\u001b[49m\u001b[43m \u001b[49m\u001b[43mwebapp\u001b[49m\u001b[38;5;241;43m=\u001b[39;49m\u001b[43mwebapp\u001b[49m\u001b[43m)\u001b[49m\n\u001b[1;32m     59\u001b[0m warnings\u001b[38;5;241m.\u001b[39mupdate(instrument\u001b[38;5;241m.\u001b[39mwarnings)\n\u001b[1;32m     61\u001b[0m \u001b[38;5;66;03m# check for empty scene configuration and set it up properly if it is empty.\u001b[39;00m\n",
      "File \u001b[0;32m/data/bwedig/.conda/envs/pandeia/lib/python3.9/site-packages/pandeia/engine/instrument_factory.py:49\u001b[0m, in \u001b[0;36mInstrumentFactory\u001b[0;34m(config, webapp, **kwargs)\u001b[0m\n\u001b[1;32m     47\u001b[0m     \u001b[38;5;28;01mraise\u001b[39;00m EngineInputError(value\u001b[38;5;241m=\u001b[39mmsg)\n\u001b[1;32m     48\u001b[0m \u001b[38;5;28;01melse\u001b[39;00m:\n\u001b[0;32m---> 49\u001b[0m     \u001b[38;5;28mcls\u001b[39m \u001b[38;5;241m=\u001b[39m \u001b[43minst_map\u001b[49m\u001b[43m[\u001b[49m\u001b[43minstrument\u001b[49m\u001b[43m]\u001b[49m\u001b[43m(\u001b[49m\u001b[43mmode\u001b[49m\u001b[38;5;241;43m=\u001b[39;49m\u001b[43mmode\u001b[49m\u001b[43m,\u001b[49m\u001b[43m \u001b[49m\u001b[43mconfig\u001b[49m\u001b[38;5;241;43m=\u001b[39;49m\u001b[43mconfig\u001b[49m\u001b[43m,\u001b[49m\u001b[43m \u001b[49m\u001b[43mwebapp\u001b[49m\u001b[38;5;241;43m=\u001b[39;49m\u001b[43mwebapp\u001b[49m\u001b[43m,\u001b[49m\u001b[43m \u001b[49m\u001b[38;5;241;43m*\u001b[39;49m\u001b[38;5;241;43m*\u001b[39;49m\u001b[43mkwargs\u001b[49m\u001b[43m)\u001b[49m\n\u001b[1;32m     50\u001b[0m     \u001b[38;5;28;01mreturn\u001b[39;00m \u001b[38;5;28mcls\u001b[39m\n",
      "File \u001b[0;32m/data/bwedig/.conda/envs/pandeia/lib/python3.9/site-packages/pandeia/engine/roman.py:47\u001b[0m, in \u001b[0;36mWFI.__init__\u001b[0;34m(self, mode, config, webapp, **kwargs)\u001b[0m\n\u001b[1;32m     45\u001b[0m \u001b[38;5;28;01mdef\u001b[39;00m \u001b[38;5;21m__init__\u001b[39m(\u001b[38;5;28mself\u001b[39m, mode\u001b[38;5;241m=\u001b[39m\u001b[38;5;28;01mNone\u001b[39;00m, config\u001b[38;5;241m=\u001b[39m{}, webapp\u001b[38;5;241m=\u001b[39m\u001b[38;5;28;01mFalse\u001b[39;00m, \u001b[38;5;241m*\u001b[39m\u001b[38;5;241m*\u001b[39mkwargs):\n\u001b[0;32m---> 47\u001b[0m     \u001b[43mRomanInstrument\u001b[49m\u001b[38;5;241;43m.\u001b[39;49m\u001b[38;5;21;43m__init__\u001b[39;49m\u001b[43m(\u001b[49m\u001b[38;5;28;43mself\u001b[39;49m\u001b[43m,\u001b[49m\u001b[43m \u001b[49m\u001b[43mmode\u001b[49m\u001b[38;5;241;43m=\u001b[39;49m\u001b[43mmode\u001b[49m\u001b[43m,\u001b[49m\u001b[43m \u001b[49m\u001b[43mconfig\u001b[49m\u001b[38;5;241;43m=\u001b[39;49m\u001b[43mconfig\u001b[49m\u001b[43m,\u001b[49m\u001b[43m \u001b[49m\u001b[43mwebapp\u001b[49m\u001b[38;5;241;43m=\u001b[39;49m\u001b[43mwebapp\u001b[49m\u001b[43m,\u001b[49m\u001b[43m \u001b[49m\u001b[38;5;241;43m*\u001b[39;49m\u001b[38;5;241;43m*\u001b[39;49m\u001b[43mkwargs\u001b[49m\u001b[43m)\u001b[49m\n\u001b[1;32m     48\u001b[0m     \u001b[38;5;28mself\u001b[39m\u001b[38;5;241m.\u001b[39m_loadpsfs()\n",
      "File \u001b[0;32m/data/bwedig/.conda/envs/pandeia/lib/python3.9/site-packages/pandeia/engine/roman.py:32\u001b[0m, in \u001b[0;36mRomanInstrument.__init__\u001b[0;34m(self, mode, config, **kwargs)\u001b[0m\n\u001b[1;32m     29\u001b[0m \u001b[38;5;66;03m# these are required for calculation, but ok to live with config file defaults\u001b[39;00m\n\u001b[1;32m     30\u001b[0m \u001b[38;5;28mself\u001b[39m\u001b[38;5;241m.\u001b[39mapi_ignore \u001b[38;5;241m=\u001b[39m [\u001b[38;5;124m'\u001b[39m\u001b[38;5;124mdynamic_scene\u001b[39m\u001b[38;5;124m'\u001b[39m, \u001b[38;5;124m'\u001b[39m\u001b[38;5;124mmax_scene_size\u001b[39m\u001b[38;5;124m'\u001b[39m, \u001b[38;5;124m'\u001b[39m\u001b[38;5;124mscene_size\u001b[39m\u001b[38;5;124m'\u001b[39m]\n\u001b[0;32m---> 32\u001b[0m \u001b[43mInstrument\u001b[49m\u001b[38;5;241;43m.\u001b[39;49m\u001b[38;5;21;43m__init__\u001b[39;49m\u001b[43m(\u001b[49m\u001b[38;5;28;43mself\u001b[39;49m\u001b[43m,\u001b[49m\u001b[43m \u001b[49m\u001b[43mtelescope\u001b[49m\u001b[38;5;241;43m=\u001b[39;49m\u001b[43mtelescope\u001b[49m\u001b[43m,\u001b[49m\u001b[43m \u001b[49m\u001b[43mmode\u001b[49m\u001b[38;5;241;43m=\u001b[39;49m\u001b[43mmode\u001b[49m\u001b[43m,\u001b[49m\u001b[43m \u001b[49m\u001b[43mconfig\u001b[49m\u001b[38;5;241;43m=\u001b[39;49m\u001b[43mconfig\u001b[49m\u001b[43m,\u001b[49m\u001b[43m \u001b[49m\u001b[38;5;241;43m*\u001b[39;49m\u001b[38;5;241;43m*\u001b[39;49m\u001b[43mkwargs\u001b[49m\u001b[43m)\u001b[49m\n",
      "File \u001b[0;32m/data/bwedig/.conda/envs/pandeia/lib/python3.9/site-packages/pandeia/engine/instrument.py:283\u001b[0m, in \u001b[0;36mInstrument.__init__\u001b[0;34m(self, telescope, mode, config, webapp, **kwargs)\u001b[0m\n\u001b[1;32m    281\u001b[0m \u001b[38;5;66;03m# make sure required parameters are defined and do strict API checking if webapp is true\u001b[39;00m\n\u001b[1;32m    282\u001b[0m all_config \u001b[38;5;241m=\u001b[39m merge_data(config, \u001b[38;5;28mdict\u001b[39m(\u001b[38;5;241m*\u001b[39m\u001b[38;5;241m*\u001b[39mkwargs))\n\u001b[0;32m--> 283\u001b[0m \u001b[38;5;28;43mself\u001b[39;49m\u001b[38;5;241;43m.\u001b[39;49m\u001b[43m_nested_api_checks\u001b[49m\u001b[43m(\u001b[49m\u001b[43mall_config\u001b[49m\u001b[43m,\u001b[49m\u001b[43m \u001b[49m\u001b[43mwebapp\u001b[49m\u001b[38;5;241;43m=\u001b[39;49m\u001b[43mwebapp\u001b[49m\u001b[43m)\u001b[49m\n\u001b[1;32m    285\u001b[0m \u001b[38;5;28mself\u001b[39m\u001b[38;5;241m.\u001b[39mread_detector()\n\u001b[1;32m    287\u001b[0m \u001b[38;5;28mself\u001b[39m\u001b[38;5;241m.\u001b[39mthe_detector \u001b[38;5;241m=\u001b[39m \u001b[38;5;28mself\u001b[39m\u001b[38;5;241m.\u001b[39mget_detector_pars()\n",
      "File \u001b[0;32m/data/bwedig/.conda/envs/pandeia/lib/python3.9/site-packages/pandeia/engine/instrument.py:330\u001b[0m, in \u001b[0;36mInstrument._nested_api_checks\u001b[0;34m(self, conf, webapp)\u001b[0m\n\u001b[1;32m    324\u001b[0m \u001b[38;5;28;01mif\u001b[39;00m p \u001b[38;5;129;01mnot\u001b[39;00m \u001b[38;5;129;01min\u001b[39;00m \u001b[38;5;28mgetattr\u001b[39m(\u001b[38;5;28mself\u001b[39m, section):\n\u001b[1;32m    325\u001b[0m     msg \u001b[38;5;241m=\u001b[39m \u001b[38;5;124m\"\u001b[39m\u001b[38;5;124mMissing required \u001b[39m\u001b[38;5;132;01m%s\u001b[39;00m\u001b[38;5;124m parameter \u001b[39m\u001b[38;5;132;01m%s\u001b[39;00m\u001b[38;5;124m from default configuration for \u001b[39m\u001b[38;5;132;01m%s\u001b[39;00m\u001b[38;5;124m.\u001b[39m\u001b[38;5;124m\"\u001b[39m \u001b[38;5;241m%\u001b[39m (\n\u001b[1;32m    326\u001b[0m         section,\n\u001b[1;32m    327\u001b[0m         p,\n\u001b[1;32m    328\u001b[0m         \u001b[38;5;28mself\u001b[39m\u001b[38;5;241m.\u001b[39m\u001b[38;5;18m__class__\u001b[39m\u001b[38;5;241m.\u001b[39m\u001b[38;5;18m__name__\u001b[39m\n\u001b[1;32m    329\u001b[0m     )\n\u001b[0;32m--> 330\u001b[0m     \u001b[38;5;28;01mraise\u001b[39;00m DataError(value\u001b[38;5;241m=\u001b[39mmsg)\n\u001b[1;32m    331\u001b[0m \u001b[38;5;66;03m# if we're doing API checking, make sure everything we need is specified by the inputs.\u001b[39;00m\n\u001b[1;32m    332\u001b[0m \u001b[38;5;28;01mif\u001b[39;00m webapp:\n",
      "\u001b[0;31mDataError\u001b[0m: Missing required detector parameter ngroup from default configuration for WFI."
     ]
    }
   ],
   "source": [
    "all_on, _ = pandeia_input.get_pandeia_image(calc)"
   ]
  },
  {
   "cell_type": "code",
   "execution_count": null,
   "metadata": {},
   "outputs": [],
   "source": [
    "np.save(os.path.join(array_dir, 'all_on'), all_on)"
   ]
  },
  {
   "cell_type": "code",
   "execution_count": null,
   "metadata": {},
   "outputs": [],
   "source": [
    "all_on = np.load(os.path.join(array_dir, 'all_on.npy'))"
   ]
  },
  {
   "cell_type": "markdown",
   "metadata": {},
   "source": [
    "# Turn off cosmic ray noise"
   ]
  },
  {
   "cell_type": "code",
   "execution_count": null,
   "metadata": {},
   "outputs": [],
   "source": [
    "crs_off_calc = deepcopy(calc)\n",
    "\n",
    "calculation_dict = pandeia_input.get_calculation_dict(init=True)\n",
    "crs_off_dict = deepcopy(calculation_dict)\n",
    "\n",
    "crs_off_dict['noise']['crs'] = False\n",
    "pprint(crs_off_dict)\n",
    "\n",
    "crs_off_calc['calculation'] = crs_off_dict\n",
    "\n",
    "crs_off, execution_time = pandeia_input.get_pandeia_image(crs_off_calc)\n",
    "print(f'Execution time: {execution_time}')\n",
    "\n",
    "np.save(os.path.join(array_dir, 'crs_off.npy'), crs_off)"
   ]
  },
  {
   "cell_type": "markdown",
   "metadata": {},
   "source": [
    "# Turn off detector dark current noise"
   ]
  },
  {
   "cell_type": "code",
   "execution_count": null,
   "metadata": {},
   "outputs": [],
   "source": [
    "dark_off_calc = deepcopy(calc)\n",
    "\n",
    "calculation_dict = pandeia_input.get_calculation_dict(init=True)\n",
    "dark_off_dict = deepcopy(calculation_dict)\n",
    "\n",
    "dark_off_dict['noise']['dark'] = False\n",
    "pprint(dark_off_dict)\n",
    "\n",
    "dark_off_calc['calculation'] = dark_off_dict\n",
    "\n",
    "dark_off, execution_time = pandeia_input.get_pandeia_image(dark_off_calc)\n",
    "print(f'Execution time: {execution_time}')\n",
    "\n",
    "np.save(os.path.join(array_dir, 'dark_off.npy'), dark_off)"
   ]
  },
  {
   "cell_type": "markdown",
   "metadata": {},
   "source": [
    "# Turn off flat-field noise"
   ]
  },
  {
   "cell_type": "code",
   "execution_count": null,
   "metadata": {},
   "outputs": [],
   "source": [
    "ffnoise_off_calc = deepcopy(calc)\n",
    "\n",
    "calculation_dict = pandeia_input.get_calculation_dict(init=True)\n",
    "ffnoise_off_dict = deepcopy(calculation_dict)\n",
    "\n",
    "ffnoise_off_dict['noise']['ffnoise'] = False\n",
    "pprint(ffnoise_off_dict)\n",
    "\n",
    "ffnoise_off_calc['calculation'] = ffnoise_off_dict\n",
    "\n",
    "ffnoise_off, execution_time = pandeia_input.get_pandeia_image(ffnoise_off_calc)\n",
    "print(f'Execution time: {execution_time}')\n",
    "\n",
    "np.save(os.path.join(array_dir, 'ffnoise_off.npy'), ffnoise_off)"
   ]
  },
  {
   "cell_type": "markdown",
   "metadata": {},
   "source": [
    "# Turn off detector read noise"
   ]
  },
  {
   "cell_type": "code",
   "execution_count": null,
   "metadata": {},
   "outputs": [],
   "source": [
    "readnoise_off_calc = deepcopy(calc)\n",
    "\n",
    "calculation_dict = pandeia_input.get_calculation_dict(init=True)\n",
    "readnoise_off_dict = deepcopy(calculation_dict)\n",
    "\n",
    "readnoise_off_dict['noise']['readnoise'] = False\n",
    "pprint(readnoise_off_dict)\n",
    "\n",
    "readnoise_off_calc['calculation'] = readnoise_off_dict\n",
    "\n",
    "readnoise_off, execution_time = pandeia_input.get_pandeia_image(readnoise_off_calc)\n",
    "print(f'Execution time: {execution_time}')\n",
    "\n",
    "np.save(os.path.join(array_dir, 'readnoise_off.npy'), readnoise_off)"
   ]
  },
  {
   "cell_type": "markdown",
   "metadata": {},
   "source": [
    "# Turn off Echelle scattering noise"
   ]
  },
  {
   "cell_type": "code",
   "execution_count": null,
   "metadata": {},
   "outputs": [],
   "source": [
    "scatter_off_calc = deepcopy(calc)\n",
    "\n",
    "calculation_dict = pandeia_input.get_calculation_dict(init=True)\n",
    "scatter_off_dict = deepcopy(calculation_dict)\n",
    "\n",
    "scatter_off_dict['noise']['scatter'] = False\n",
    "pprint(scatter_off_dict)\n",
    "\n",
    "scatter_off_calc['calculation'] = scatter_off_dict\n",
    "\n",
    "scatter_off, execution_time = pandeia_input.get_pandeia_image(scatter_off_calc)\n",
    "print(f'Execution time: {execution_time}')\n",
    "\n",
    "np.save(os.path.join(array_dir, 'scatter_off.npy'), scatter_off)"
   ]
  },
  {
   "cell_type": "markdown",
   "metadata": {},
   "source": [
    "# Turn off pixel saturation effects"
   ]
  },
  {
   "cell_type": "code",
   "execution_count": null,
   "metadata": {},
   "outputs": [],
   "source": [
    "saturation_off_calc = deepcopy(calc)\n",
    "\n",
    "calculation_dict = pandeia_input.get_calculation_dict(init=True)\n",
    "saturation_off_dict = deepcopy(calculation_dict)\n",
    "\n",
    "saturation_off_dict['effects']['saturation'] = False\n",
    "pprint(saturation_off_dict)\n",
    "\n",
    "saturation_off_calc['calculation'] = saturation_off_dict\n",
    "\n",
    "saturation_off, execution_time = pandeia_input.get_pandeia_image(saturation_off_calc)\n",
    "print(f'Execution time: {execution_time}')\n",
    "\n",
    "np.save(os.path.join(array_dir, 'saturation_off.npy'), saturation_off)"
   ]
  },
  {
   "cell_type": "markdown",
   "metadata": {},
   "source": [
    "# Plot residuals"
   ]
  },
  {
   "cell_type": "code",
   "execution_count": null,
   "metadata": {},
   "outputs": [],
   "source": [
    "crs_off = np.load(os.path.join(array_dir, 'crs_off.npy'))\n",
    "dark_off = np.load(os.path.join(array_dir, 'dark_off.npy'))\n",
    "ffnoise_off = np.load(os.path.join(array_dir, 'ffnoise_off.npy'))\n",
    "readnoise_off = np.load(os.path.join(array_dir, 'readnoise_off.npy'))\n",
    "scatter_off = np.load(os.path.join(array_dir, 'scatter_off.npy'))\n",
    "saturation_off = np.load(os.path.join(array_dir, 'saturation_off.npy'))"
   ]
  },
  {
   "cell_type": "code",
   "execution_count": null,
   "metadata": {},
   "outputs": [],
   "source": [
    "fig, ax = plt.subplots(nrows=2, ncols=3, figsize=(15, 8))\n",
    "\n",
    "array_list = [all_on - crs_off, all_on - dark_off, all_on - ffnoise_off, all_on - readnoise_off, all_on - scatter_off, all_on - saturation_off]\n",
    "\n",
    "norm = plot_util.get_norm(array_list, linear_width=0.00001)\n",
    "\n",
    "ax0 = ax[0,0].imshow(all_on - crs_off, cmap='bwr', norm=norm)\n",
    "ax[0,0].set_title('Cosmic ray noise off')\n",
    "\n",
    "ax1 = ax[0,1].imshow(all_on - dark_off, cmap='bwr', norm=norm)\n",
    "ax[0,1].set_title('Dark current noise off')\n",
    "\n",
    "ax2 = ax[0,2].imshow(all_on - ffnoise_off, cmap='bwr', norm=norm)\n",
    "ax[0,2].set_title('Flat-field noise off')\n",
    "\n",
    "ax3 = ax[1,0].imshow(all_on - readnoise_off, cmap='bwr', norm=norm)\n",
    "ax[1,0].set_title('Read noise off')\n",
    "\n",
    "ax4 = ax[1,1].imshow(all_on - scatter_off, cmap='bwr', norm=norm)\n",
    "ax[1,1].set_title('Echelle scattering noise off')\n",
    "\n",
    "ax5 = ax[1,2].imshow(all_on - saturation_off, cmap='bwr', norm=norm)\n",
    "ax[1,2].set_title('Pixel saturation effects off')\n",
    "\n",
    "fig.colorbar(ax0, ax=[ax[0,0], ax[0,1], ax[0,2], ax[1,0], ax[1,1], ax[1,2]])\n",
    "\n",
    "plt.savefig(os.path.join(figure_dir, 'noise_asinh.png'))\n",
    "plt.show()"
   ]
  },
  {
   "cell_type": "code",
   "execution_count": null,
   "metadata": {},
   "outputs": [],
   "source": [
    "fig, ax = plt.subplots(nrows=2, ncols=3, figsize=(15, 8))\n",
    "\n",
    "array_list = [pandeia - crs_off, pandeia - dark_off, pandeia - ffnoise_off, pandeia - readnoise_off, pandeia - scatter_off, pandeia - saturation_off]\n",
    "\n",
    "ax0 = ax[0,0].imshow(pandeia - crs_off, cmap='bwr')\n",
    "ax[0,0].set_title('Cosmic ray noise off')\n",
    "\n",
    "ax1 = ax[0,1].imshow(pandeia - dark_off, cmap='bwr')\n",
    "ax[0,1].set_title('Dark current noise off')\n",
    "\n",
    "ax2 = ax[0,2].imshow(pandeia - ffnoise_off, cmap='bwr')\n",
    "ax[0,2].set_title('Flat-field noise off')\n",
    "\n",
    "ax3 = ax[1,0].imshow(pandeia - readnoise_off, cmap='bwr')\n",
    "ax[1,0].set_title('Read noise off')\n",
    "\n",
    "ax4 = ax[1,1].imshow(pandeia - scatter_off, cmap='bwr')\n",
    "ax[1,1].set_title('Echelle scattering noise off')\n",
    "\n",
    "ax5 = ax[1,2].imshow(pandeia - saturation_off, cmap='bwr')\n",
    "ax[1,2].set_title('Pixel saturation effects off')\n",
    "\n",
    "plt.colorbar(ax0, ax=ax[0,0])\n",
    "plt.colorbar(ax1, ax=ax[0,1])\n",
    "plt.colorbar(ax2, ax=ax[0,2])\n",
    "plt.colorbar(ax3, ax=ax[1,0])\n",
    "plt.colorbar(ax4, ax=ax[1,1])\n",
    "plt.colorbar(ax5, ax=ax[1,2])\n",
    "\n",
    "plt.savefig(os.path.join(figure_dir, 'noise_own_colorbars.png'))\n",
    "plt.show()"
   ]
  },
  {
   "cell_type": "code",
   "execution_count": null,
   "metadata": {},
   "outputs": [],
   "source": [
    "print(np.count_nonzero(all_on - scatter_off))\n",
    "print(np.count_nonzero(all_on - saturation_off))"
   ]
  },
  {
   "cell_type": "code",
   "execution_count": null,
   "metadata": {},
   "outputs": [],
   "source": [
    "# import matplotlib\n",
    "# matplotlib.rcParams.update({'font.size': 20})"
   ]
  },
  {
   "cell_type": "code",
   "execution_count": null,
   "metadata": {},
   "outputs": [],
   "source": [
    "fig, ax = plt.subplots(nrows=1, ncols=4, figsize=(24, 5))\n",
    "\n",
    "array_list = [pandeia - crs_off, pandeia - dark_off, pandeia - ffnoise_off, pandeia - readnoise_off]\n",
    "title_list = ['Cosmic ray noise off', 'Dark current noise off', 'Flat-field noise off', 'Read noise off']\n",
    "\n",
    "for i, array in enumerate(array_list):\n",
    "    limit = plot_util.get_limit(array)\n",
    "    axis = ax[i].imshow(array, cmap='bwr', vmin=-limit, vmax=limit)\n",
    "    ax[i].set_title()\n",
    "    ax[i].set_axis_off()\n",
    "    plt.colorbar(axis, ax=ax[i])\n",
    "\n",
    "plt.savefig(os.path.join(figure_dir, 'noise_own_colorbars.png'))\n",
    "plt.show()"
   ]
  },
  {
   "cell_type": "code",
   "execution_count": null,
   "metadata": {},
   "outputs": [],
   "source": [
    "fontsize = 20\n",
    "matplotlib.rcParams.update({'font.size': fontsize})\n",
    "\n",
    "fig, ax = plt.subplots(nrows=1, ncols=4, figsize=(24, 5))\n",
    "\n",
    "array_list = [all_on - crs_off, all_on - dark_off, all_on - ffnoise_off, all_on - readnoise_off]\n",
    "title_list = ['Cosmic ray noise off', 'Dark current noise off', 'Flat-field noise off', 'Read noise off']\n",
    "\n",
    "norm = plot_util.get_norm(array_list, linear_width=0.00001)\n",
    "\n",
    "for i, array in enumerate(array_list):\n",
    "    axis = ax[i].imshow(array, cmap='bwr', norm=norm)\n",
    "    ax[i].set_title(title_list[i])\n",
    "    ax[i].set_axis_off()\n",
    "\n",
    "fig.colorbar(axis, ax=ax, ticks=[-0.1, -0.01, -0.001, -0.0001, 0, 0.0001, 0.001, 0.01, 0.1])\n",
    "\n",
    "chi_square_list = []\n",
    "chi_square_list.append(stats.chi_square(crs_off, all_on))\n",
    "chi_square_list.append(stats.chi_square(dark_off, all_on))\n",
    "chi_square_list.append(stats.chi_square(ffnoise_off, all_on))\n",
    "chi_square_list.append(stats.chi_square(readnoise_off, all_on))\n",
    "chi_square_list = ['$\\chi^2 = $' + util.scientific_notation_string(i) for i in chi_square_list]\n",
    "\n",
    "# create text boxes\n",
    "overplot.text_boxes(ax, chi_square_list, fontsize=fontsize, alpha=0.8)\n",
    "\n",
    "plt.savefig(os.path.join(figure_dir, 'noise_asinh.png'))\n",
    "plt.show()"
   ]
  }
 ],
 "metadata": {
  "kernelspec": {
   "display_name": "pandeia",
   "language": "python",
   "name": "python3"
  },
  "language_info": {
   "codemirror_mode": {
    "name": "ipython",
    "version": 3
   },
   "file_extension": ".py",
   "mimetype": "text/x-python",
   "name": "python",
   "nbconvert_exporter": "python",
   "pygments_lexer": "ipython3",
   "version": "3.10.6"
  }
 },
 "nbformat": 4,
 "nbformat_minor": 2
}
