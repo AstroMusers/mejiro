{
 "cells": [
  {
   "cell_type": "code",
   "execution_count": null,
   "metadata": {},
   "outputs": [],
   "source": [
    "import os\n",
    "import sys\n",
    "\n",
    "import numpy as np\n",
    "import time\n",
    "from copy import deepcopy\n",
    "from pprint import pprint\n",
    "from tqdm import tqdm\n",
    "import matplotlib\n",
    "import matplotlib.pyplot as plt\n",
    "from matplotlib import rc\n",
    "import matplotlib.colors as colors\n",
    "from hydra import initialize, compose\n",
    "from glob import glob\n",
    "import pickle\n",
    "from pandeia.engine.perform_calculation import perform_calculation\n",
    "from pandeia.engine.calc_utils import build_default_calc, build_default_source\n",
    "from lenstronomy.Util import data_util\n",
    "from lenstronomy.SimulationAPI.ObservationConfig.Roman import Roman\n",
    "\n",
    "# set paths to various directories based on the machine this code is being executed on\n",
    "with initialize(version_base=None, config_path='../../config'):\n",
    "    config = compose(config_name='config.yaml')  # overrides=['machine=uzay']\n",
    "\n",
    "array_dir, data_dir, figure_dir, pickle_dir, repo_dir  = config.machine.array_dir, config.machine.data_dir, config.machine.figure_dir, config.machine.pickle_dir, config.machine.repo_dir\n",
    "\n",
    "# enable use of local modules\n",
    "if repo_dir not in sys.path:\n",
    "    sys.path.append(repo_dir)\n",
    "\n",
    "# set matplotlib style\n",
    "plt.style.use(f'{repo_dir}/mejiro/mplstyle/science.mplstyle')\n",
    "\n",
    "from mejiro.helpers import pandeia_input, pyhalo\n",
    "from mejiro.lenses.sample_skypy_lens import SampleSkyPyLens\n",
    "from mejiro.plots import diagnostic_plot, plot, plot_util, overplot\n",
    "from mejiro.utils import util\n",
    "from mejiro.analysis import stats"
   ]
  },
  {
   "cell_type": "code",
   "execution_count": null,
   "metadata": {},
   "outputs": [],
   "source": [
    "array_dir = os.path.join(array_dir, 'pandeia_noise_residuals')\n",
    "util.create_directory_if_not_exists(array_dir)\n",
    "\n",
    "pickle_dir = os.path.join(pickle_dir, 'pyhalo')"
   ]
  },
  {
   "cell_type": "code",
   "execution_count": null,
   "metadata": {},
   "outputs": [],
   "source": [
    "num_samples = 10000\n",
    "grid_oversample = 5\n",
    "\n",
    "lens = SampleSkyPyLens()\n",
    "\n",
    "# add CDM subhalos; NB same subhalo population for all\n",
    "with open(os.path.join(pickle_dir, 'cdm_subhalos_for_sample_skypy_lens'), 'rb') as results_file:\n",
    "    realizationCDM = pickle.load(results_file)\n",
    "lens.add_subhalos(*pyhalo.realization_to_lensing_quantities(realizationCDM))\n",
    "\n",
    "model = lens.get_array(num_pix=51 * grid_oversample, side=5.61)"
   ]
  },
  {
   "cell_type": "code",
   "execution_count": null,
   "metadata": {},
   "outputs": [],
   "source": [
    "calc, _ = pandeia_input.build_pandeia_calc(array=model, lens=lens, band='f106', num_samples=num_samples)"
   ]
  },
  {
   "cell_type": "code",
   "execution_count": null,
   "metadata": {},
   "outputs": [],
   "source": [
    "all_on, _ = pandeia_input.get_pandeia_image(calc)"
   ]
  },
  {
   "cell_type": "code",
   "execution_count": null,
   "metadata": {},
   "outputs": [],
   "source": [
    "np.save(os.path.join(array_dir, 'all_on'), all_on)"
   ]
  },
  {
   "cell_type": "code",
   "execution_count": null,
   "metadata": {},
   "outputs": [],
   "source": [
    "all_on = np.load(os.path.join(array_dir, 'all_on.npy'))"
   ]
  },
  {
   "cell_type": "markdown",
   "metadata": {},
   "source": [
    "# Turn off cosmic ray noise"
   ]
  },
  {
   "cell_type": "code",
   "execution_count": null,
   "metadata": {},
   "outputs": [],
   "source": [
    "crs_off_calc = deepcopy(calc)\n",
    "\n",
    "calculation_dict = pandeia_input.get_calculation_dict(init=True)\n",
    "crs_off_dict = deepcopy(calculation_dict)\n",
    "\n",
    "crs_off_dict['noise']['crs'] = False\n",
    "pprint(crs_off_dict)\n",
    "\n",
    "crs_off_calc['calculation'] = crs_off_dict\n",
    "\n",
    "crs_off, execution_time = pandeia_input.get_pandeia_image(crs_off_calc)\n",
    "print(f'Execution time: {execution_time}')\n",
    "\n",
    "np.save(os.path.join(array_dir, 'crs_off.npy'), crs_off)"
   ]
  },
  {
   "cell_type": "markdown",
   "metadata": {},
   "source": [
    "# Turn off detector dark current noise"
   ]
  },
  {
   "cell_type": "code",
   "execution_count": null,
   "metadata": {},
   "outputs": [],
   "source": [
    "dark_off_calc = deepcopy(calc)\n",
    "\n",
    "calculation_dict = pandeia_input.get_calculation_dict(init=True)\n",
    "dark_off_dict = deepcopy(calculation_dict)\n",
    "\n",
    "dark_off_dict['noise']['dark'] = False\n",
    "pprint(dark_off_dict)\n",
    "\n",
    "dark_off_calc['calculation'] = dark_off_dict\n",
    "\n",
    "dark_off, execution_time = pandeia_input.get_pandeia_image(dark_off_calc)\n",
    "print(f'Execution time: {execution_time}')\n",
    "\n",
    "np.save(os.path.join(array_dir, 'dark_off.npy'), dark_off)"
   ]
  },
  {
   "cell_type": "markdown",
   "metadata": {},
   "source": [
    "# Turn off flat-field noise"
   ]
  },
  {
   "cell_type": "code",
   "execution_count": null,
   "metadata": {},
   "outputs": [],
   "source": [
    "ffnoise_off_calc = deepcopy(calc)\n",
    "\n",
    "calculation_dict = pandeia_input.get_calculation_dict(init=True)\n",
    "ffnoise_off_dict = deepcopy(calculation_dict)\n",
    "\n",
    "ffnoise_off_dict['noise']['ffnoise'] = False\n",
    "pprint(ffnoise_off_dict)\n",
    "\n",
    "ffnoise_off_calc['calculation'] = ffnoise_off_dict\n",
    "\n",
    "ffnoise_off, execution_time = pandeia_input.get_pandeia_image(ffnoise_off_calc)\n",
    "print(f'Execution time: {execution_time}')\n",
    "\n",
    "np.save(os.path.join(array_dir, 'ffnoise_off.npy'), ffnoise_off)"
   ]
  },
  {
   "cell_type": "markdown",
   "metadata": {},
   "source": [
    "# Turn off detector read noise"
   ]
  },
  {
   "cell_type": "code",
   "execution_count": null,
   "metadata": {},
   "outputs": [],
   "source": [
    "readnoise_off_calc = deepcopy(calc)\n",
    "\n",
    "calculation_dict = pandeia_input.get_calculation_dict(init=True)\n",
    "readnoise_off_dict = deepcopy(calculation_dict)\n",
    "\n",
    "readnoise_off_dict['noise']['readnoise'] = False\n",
    "pprint(readnoise_off_dict)\n",
    "\n",
    "readnoise_off_calc['calculation'] = readnoise_off_dict\n",
    "\n",
    "readnoise_off, execution_time = pandeia_input.get_pandeia_image(readnoise_off_calc)\n",
    "print(f'Execution time: {execution_time}')\n",
    "\n",
    "np.save(os.path.join(array_dir, 'readnoise_off.npy'), readnoise_off)"
   ]
  },
  {
   "cell_type": "markdown",
   "metadata": {},
   "source": [
    "# Turn off Echelle scattering noise"
   ]
  },
  {
   "cell_type": "code",
   "execution_count": null,
   "metadata": {},
   "outputs": [],
   "source": [
    "scatter_off_calc = deepcopy(calc)\n",
    "\n",
    "calculation_dict = pandeia_input.get_calculation_dict(init=True)\n",
    "scatter_off_dict = deepcopy(calculation_dict)\n",
    "\n",
    "scatter_off_dict['noise']['scatter'] = False\n",
    "pprint(scatter_off_dict)\n",
    "\n",
    "scatter_off_calc['calculation'] = scatter_off_dict\n",
    "\n",
    "scatter_off, execution_time = pandeia_input.get_pandeia_image(scatter_off_calc)\n",
    "print(f'Execution time: {execution_time}')\n",
    "\n",
    "np.save(os.path.join(array_dir, 'scatter_off.npy'), scatter_off)"
   ]
  },
  {
   "cell_type": "markdown",
   "metadata": {},
   "source": [
    "# Turn off pixel saturation effects"
   ]
  },
  {
   "cell_type": "code",
   "execution_count": null,
   "metadata": {},
   "outputs": [],
   "source": [
    "saturation_off_calc = deepcopy(calc)\n",
    "\n",
    "calculation_dict = pandeia_input.get_calculation_dict(init=True)\n",
    "saturation_off_dict = deepcopy(calculation_dict)\n",
    "\n",
    "saturation_off_dict['effects']['saturation'] = False\n",
    "pprint(saturation_off_dict)\n",
    "\n",
    "saturation_off_calc['calculation'] = saturation_off_dict\n",
    "\n",
    "saturation_off, execution_time = pandeia_input.get_pandeia_image(saturation_off_calc)\n",
    "print(f'Execution time: {execution_time}')\n",
    "\n",
    "np.save(os.path.join(array_dir, 'saturation_off.npy'), saturation_off)"
   ]
  },
  {
   "cell_type": "markdown",
   "metadata": {},
   "source": [
    "# Plot residuals"
   ]
  },
  {
   "cell_type": "code",
   "execution_count": null,
   "metadata": {},
   "outputs": [],
   "source": [
    "crs_off = np.load(os.path.join(array_dir, 'crs_off.npy'))\n",
    "dark_off = np.load(os.path.join(array_dir, 'dark_off.npy'))\n",
    "ffnoise_off = np.load(os.path.join(array_dir, 'ffnoise_off.npy'))\n",
    "readnoise_off = np.load(os.path.join(array_dir, 'readnoise_off.npy'))\n",
    "scatter_off = np.load(os.path.join(array_dir, 'scatter_off.npy'))\n",
    "saturation_off = np.load(os.path.join(array_dir, 'saturation_off.npy'))"
   ]
  },
  {
   "cell_type": "code",
   "execution_count": null,
   "metadata": {},
   "outputs": [],
   "source": [
    "fig, ax = plt.subplots(nrows=2, ncols=3, figsize=(15, 8))\n",
    "\n",
    "array_list = [all_on - crs_off, all_on - dark_off, all_on - ffnoise_off, all_on - readnoise_off, all_on - scatter_off, all_on - saturation_off]\n",
    "\n",
    "norm = plot_util.get_norm(array_list, linear_width=0.00001)\n",
    "\n",
    "ax0 = ax[0,0].imshow(all_on - crs_off, cmap='bwr', norm=norm)\n",
    "ax[0,0].set_title('Cosmic ray noise off')\n",
    "\n",
    "ax1 = ax[0,1].imshow(all_on - dark_off, cmap='bwr', norm=norm)\n",
    "ax[0,1].set_title('Dark current noise off')\n",
    "\n",
    "ax2 = ax[0,2].imshow(all_on - ffnoise_off, cmap='bwr', norm=norm)\n",
    "ax[0,2].set_title('Flat-field noise off')\n",
    "\n",
    "ax3 = ax[1,0].imshow(all_on - readnoise_off, cmap='bwr', norm=norm)\n",
    "ax[1,0].set_title('Read noise off')\n",
    "\n",
    "ax4 = ax[1,1].imshow(all_on - scatter_off, cmap='bwr', norm=norm)\n",
    "ax[1,1].set_title('Echelle scattering noise off')\n",
    "\n",
    "ax5 = ax[1,2].imshow(all_on - saturation_off, cmap='bwr', norm=norm)\n",
    "ax[1,2].set_title('Pixel saturation effects off')\n",
    "\n",
    "fig.colorbar(ax0, ax=[ax[0,0], ax[0,1], ax[0,2], ax[1,0], ax[1,1], ax[1,2]])\n",
    "\n",
    "plt.savefig(os.path.join(figure_dir, 'noise_asinh.png'))\n",
    "plt.show()"
   ]
  },
  {
   "cell_type": "code",
   "execution_count": null,
   "metadata": {},
   "outputs": [],
   "source": [
    "fig, ax = plt.subplots(nrows=2, ncols=3, figsize=(15, 8))\n",
    "\n",
    "array_list = [pandeia - crs_off, pandeia - dark_off, pandeia - ffnoise_off, pandeia - readnoise_off, pandeia - scatter_off, pandeia - saturation_off]\n",
    "\n",
    "ax0 = ax[0,0].imshow(pandeia - crs_off, cmap='bwr')\n",
    "ax[0,0].set_title('Cosmic ray noise off')\n",
    "\n",
    "ax1 = ax[0,1].imshow(pandeia - dark_off, cmap='bwr')\n",
    "ax[0,1].set_title('Dark current noise off')\n",
    "\n",
    "ax2 = ax[0,2].imshow(pandeia - ffnoise_off, cmap='bwr')\n",
    "ax[0,2].set_title('Flat-field noise off')\n",
    "\n",
    "ax3 = ax[1,0].imshow(pandeia - readnoise_off, cmap='bwr')\n",
    "ax[1,0].set_title('Read noise off')\n",
    "\n",
    "ax4 = ax[1,1].imshow(pandeia - scatter_off, cmap='bwr')\n",
    "ax[1,1].set_title('Echelle scattering noise off')\n",
    "\n",
    "ax5 = ax[1,2].imshow(pandeia - saturation_off, cmap='bwr')\n",
    "ax[1,2].set_title('Pixel saturation effects off')\n",
    "\n",
    "plt.colorbar(ax0, ax=ax[0,0])\n",
    "plt.colorbar(ax1, ax=ax[0,1])\n",
    "plt.colorbar(ax2, ax=ax[0,2])\n",
    "plt.colorbar(ax3, ax=ax[1,0])\n",
    "plt.colorbar(ax4, ax=ax[1,1])\n",
    "plt.colorbar(ax5, ax=ax[1,2])\n",
    "\n",
    "plt.savefig(os.path.join(figure_dir, 'noise_own_colorbars.png'))\n",
    "plt.show()"
   ]
  },
  {
   "cell_type": "code",
   "execution_count": null,
   "metadata": {},
   "outputs": [],
   "source": [
    "print(np.count_nonzero(all_on - scatter_off))\n",
    "print(np.count_nonzero(all_on - saturation_off))"
   ]
  },
  {
   "cell_type": "code",
   "execution_count": null,
   "metadata": {},
   "outputs": [],
   "source": [
    "# import matplotlib\n",
    "# matplotlib.rcParams.update({'font.size': 20})"
   ]
  },
  {
   "cell_type": "code",
   "execution_count": null,
   "metadata": {},
   "outputs": [],
   "source": [
    "fig, ax = plt.subplots(nrows=1, ncols=4, figsize=(24, 5))\n",
    "\n",
    "array_list = [pandeia - crs_off, pandeia - dark_off, pandeia - ffnoise_off, pandeia - readnoise_off]\n",
    "title_list = ['Cosmic ray noise off', 'Dark current noise off', 'Flat-field noise off', 'Read noise off']\n",
    "\n",
    "for i, array in enumerate(array_list):\n",
    "    limit = plot_util.get_limit(array)\n",
    "    axis = ax[i].imshow(array, cmap='bwr', vmin=-limit, vmax=limit)\n",
    "    ax[i].set_title()\n",
    "    ax[i].set_axis_off()\n",
    "    plt.colorbar(axis, ax=ax[i])\n",
    "\n",
    "plt.savefig(os.path.join(figure_dir, 'noise_own_colorbars.png'))\n",
    "plt.show()"
   ]
  },
  {
   "cell_type": "code",
   "execution_count": null,
   "metadata": {},
   "outputs": [],
   "source": [
    "fontsize = 20\n",
    "matplotlib.rcParams.update({'font.size': fontsize})\n",
    "\n",
    "fig, ax = plt.subplots(nrows=1, ncols=4, figsize=(24, 5))\n",
    "\n",
    "array_list = [all_on - crs_off, all_on - dark_off, all_on - ffnoise_off, all_on - readnoise_off]\n",
    "title_list = ['Cosmic ray noise off', 'Dark current noise off', 'Flat-field noise off', 'Read noise off']\n",
    "\n",
    "norm = plot_util.get_norm(array_list, linear_width=0.00001)\n",
    "\n",
    "for i, array in enumerate(array_list):\n",
    "    axis = ax[i].imshow(array, cmap='bwr', norm=norm)\n",
    "    ax[i].set_title(title_list[i])\n",
    "    ax[i].set_axis_off()\n",
    "\n",
    "fig.colorbar(axis, ax=ax, ticks=[-0.1, -0.01, -0.001, -0.0001, 0, 0.0001, 0.001, 0.01, 0.1])\n",
    "\n",
    "chi_square_list = []\n",
    "chi_square_list.append(stats.chi_square(crs_off, all_on))\n",
    "chi_square_list.append(stats.chi_square(dark_off, all_on))\n",
    "chi_square_list.append(stats.chi_square(ffnoise_off, all_on))\n",
    "chi_square_list.append(stats.chi_square(readnoise_off, all_on))\n",
    "chi_square_list = ['$\\chi^2 = $' + util.scientific_notation_string(i) for i in chi_square_list]\n",
    "\n",
    "# create text boxes\n",
    "overplot.text_boxes(ax, chi_square_list, fontsize=fontsize, alpha=0.8)\n",
    "\n",
    "plt.savefig(os.path.join(figure_dir, 'noise_asinh.png'))\n",
    "plt.show()"
   ]
  }
 ],
 "metadata": {
  "kernelspec": {
   "display_name": "pandeia",
   "language": "python",
   "name": "python3"
  },
  "language_info": {
   "codemirror_mode": {
    "name": "ipython",
    "version": 3
   },
   "file_extension": ".py",
   "mimetype": "text/x-python",
   "name": "python",
   "nbconvert_exporter": "python",
   "pygments_lexer": "ipython3",
   "version": "3.10.6"
  }
 },
 "nbformat": 4,
 "nbformat_minor": 2
}
