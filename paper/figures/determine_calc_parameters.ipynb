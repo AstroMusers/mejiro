{
 "cells": [
  {
   "cell_type": "code",
   "execution_count": 25,
   "metadata": {},
   "outputs": [],
   "source": [
    "import os\n",
    "import sys\n",
    "import datetime\n",
    "\n",
    "import numpy as np\n",
    "import matplotlib\n",
    "import matplotlib.pyplot as plt\n",
    "from matplotlib import colors\n",
    "from hydra import initialize, compose\n",
    "import pickle\n",
    "from glob import glob\n",
    "\n",
    "# set paths to various directories based on the machine this code is being executed on\n",
    "with initialize(version_base=None, config_path='../../config'):\n",
    "    config = compose(config_name='config.yaml')  # overrides=['machine=uzay']\n",
    "\n",
    "array_dir, data_dir, figure_dir, pickle_dir, repo_dir  = config.machine.array_dir, config.machine.data_dir, config.machine.figure_dir, config.machine.pickle_dir, config.machine.repo_dir\n",
    "\n",
    "# enable use of local modules\n",
    "if repo_dir not in sys.path:\n",
    "    sys.path.append(repo_dir)\n",
    "\n",
    "# set matplotlib style\n",
    "plt.style.use(f'{repo_dir}/mejiro/mplstyle/science.mplstyle')\n",
    "\n",
    "from mejiro.lenses.test import SampleSkyPyLens\n",
    "from mejiro.plots import diagnostic_plot, plot, plot_util, overplot\n",
    "from mejiro.analysis import stats\n",
    "from mejiro.utils import util\n",
    "from mejiro.helpers import pyhalo"
   ]
  },
  {
   "cell_type": "code",
   "execution_count": 26,
   "metadata": {},
   "outputs": [],
   "source": [
    "dir = os.path.join(array_dir, 'sample_skypy_lens')"
   ]
  },
  {
   "cell_type": "markdown",
   "metadata": {},
   "source": [
    "load all"
   ]
  },
  {
   "cell_type": "code",
   "execution_count": 27,
   "metadata": {},
   "outputs": [],
   "source": [
    "grid_oversample = [1, 3, 5]\n",
    "num_samples = [100, 1000, 10000, 100000, 1000000, 10000000]\n",
    "\n",
    "ideal = np.load(os.path.join(dir, 'sample_skypy_lens_5_10000000.npy'))\n",
    "\n",
    "all_files = glob(dir + '/sample_skypy_lens_*.npy')\n",
    "grid_1 = [np.load(i) for i in all_files if '_1_' in i]\n",
    "grid_3 = [np.load(i) for i in all_files if '_3_' in i]\n",
    "grid_5 = [np.load(i) for i in all_files if '_5_' in i]"
   ]
  },
  {
   "cell_type": "markdown",
   "metadata": {},
   "source": [
    "get $\\chi^2$"
   ]
  },
  {
   "cell_type": "code",
   "execution_count": 28,
   "metadata": {},
   "outputs": [],
   "source": [
    "chi_squared_1 = [stats.chi_square(i, ideal) for i in grid_1]\n",
    "chi_squared_3 = [stats.chi_square(i, ideal) for i in grid_3]\n",
    "chi_squared_5 = [stats.chi_square(i, ideal) for i in grid_5]\n",
    "\n",
    "chi_squared = np.concatenate([chi_squared_1, chi_squared_3, chi_squared_5])\n",
    "\n",
    "# print(chi_squared_1)\n",
    "# print(chi_squared_3)\n",
    "# print(chi_squared_5)"
   ]
  },
  {
   "cell_type": "code",
   "execution_count": 29,
   "metadata": {},
   "outputs": [],
   "source": [
    "# print(len(num_samples))\n",
    "# print(len(chi_squared_1), len(chi_squared_3), len(chi_squared_5))"
   ]
  },
  {
   "cell_type": "code",
   "execution_count": 30,
   "metadata": {},
   "outputs": [
    {
     "name": "stdout",
     "output_type": "stream",
     "text": [
      "[[       1      100]\n",
      " [       1     1000]\n",
      " [       1    10000]\n",
      " [       1   100000]\n",
      " [       1  1000000]\n",
      " [       1 10000000]\n",
      " [       3      100]\n",
      " [       3     1000]\n",
      " [       3    10000]\n",
      " [       3   100000]\n",
      " [       3  1000000]\n",
      " [       3 10000000]\n",
      " [       5      100]\n",
      " [       5     1000]\n",
      " [       5    10000]\n",
      " [       5   100000]\n",
      " [       5  1000000]\n",
      " [       5 10000000]]\n",
      "[  46.78640771  111.19118428  292.64212465  759.74505997 1547.50726509\n",
      " 1909.7716403    44.46815133  111.05647016  296.00301719  736.47531343\n",
      " 1500.6906991  1963.35851693   45.55870271  111.06459332  298.47347569\n",
      "  730.21777034 1597.93330121 2046.0866859 ]\n"
     ]
    }
   ],
   "source": [
    "execution_time = np.load(os.path.join(dir, 'execution_time.npy'))\n",
    "execution_time_x = np.load(os.path.join(dir, 'execution_time_x.npy'))\n",
    "\n",
    "print(execution_time_x)\n",
    "print(execution_time)"
   ]
  },
  {
   "cell_type": "code",
   "execution_count": 31,
   "metadata": {},
   "outputs": [
    {
     "ename": "IndexError",
     "evalue": "list index out of range",
     "output_type": "error",
     "traceback": [
      "\u001b[0;31m---------------------------------------------------------------------------\u001b[0m",
      "\u001b[0;31mIndexError\u001b[0m                                Traceback (most recent call last)",
      "Input \u001b[0;32mIn [31]\u001b[0m, in \u001b[0;36m<cell line: 5>\u001b[0;34m()\u001b[0m\n\u001b[1;32m      6\u001b[0m time_1\u001b[38;5;241m.\u001b[39mappend(execution_time[i])\n\u001b[1;32m      7\u001b[0m time_3\u001b[38;5;241m.\u001b[39mappend(execution_time[i \u001b[38;5;241m+\u001b[39m \u001b[38;5;28mlen\u001b[39m(execution_time) \u001b[38;5;241m-\u001b[39m \u001b[38;5;241m1\u001b[39m])\n\u001b[0;32m----> 8\u001b[0m time_5\u001b[38;5;241m.\u001b[39mappend(\u001b[43mexecution_time\u001b[49m\u001b[43m[\u001b[49m\u001b[43mi\u001b[49m\u001b[43m \u001b[49m\u001b[38;5;241;43m+\u001b[39;49m\u001b[43m \u001b[49m\u001b[43m(\u001b[49m\u001b[38;5;241;43m2\u001b[39;49m\u001b[43m \u001b[49m\u001b[38;5;241;43m*\u001b[39;49m\u001b[43m \u001b[49m\u001b[38;5;28;43mlen\u001b[39;49m\u001b[43m(\u001b[49m\u001b[43mexecution_time\u001b[49m\u001b[43m)\u001b[49m\u001b[43m)\u001b[49m\u001b[43m \u001b[49m\u001b[38;5;241;43m-\u001b[39;49m\u001b[43m \u001b[49m\u001b[38;5;241;43m1\u001b[39;49m\u001b[43m]\u001b[49m)\n",
      "\u001b[0;31mIndexError\u001b[0m: list index out of range"
     ]
    }
   ],
   "source": [
    "execution_time = [str(datetime.timedelta(seconds=round(i))) for i in execution_time]\n",
    "\n",
    "time_1, time_3, time_5 = [], [], []\n",
    "\n",
    "for i, _ in enumerate(execution_time):\n",
    "    time_1.append(execution_time[i])\n",
    "    time_3.append(execution_time[i + len(execution_time) - 1])\n",
    "    time_5.append(execution_time[i + (2 * len(execution_time)) - 1])"
   ]
  },
  {
   "cell_type": "code",
   "execution_count": null,
   "metadata": {},
   "outputs": [
    {
     "data": {
      "image/png": "[encoded data removed]",
      "text/plain": [
       "<Figure size 700x525 with 1 Axes>"
      ]
     },
     "metadata": {},
     "output_type": "display_data"
    }
   ],
   "source": [
    "f, ax = plt.subplots()  # figsize=(10,10)\n",
    "\n",
    "ax.plot(num_samples, chi_squared_1, linestyle='-', marker='o', label='No grid supersampling')\n",
    "ax.plot(num_samples, chi_squared_3, linestyle='-', marker='o', label='Three-times')\n",
    "ax.plot(num_samples[:-1], chi_squared_5[:-1], linestyle='-', marker='o', label='Five-times')\n",
    "plt.axhline(y=0.1, linestyle='--')\n",
    "plt.legend()\n",
    "plt.yscale('log')\n",
    "plt.xscale('log')\n",
    "plt.xlabel('Number of samples')\n",
    "plt.ylabel('Mean $\\chi^2$')\n",
    "\n",
    "for i, txt in enumerate(execution_time):\n",
    "    ax.annotate(txt, (num_samples[i], chi_squared[i]))\n",
    "\n",
    "plt.savefig(os.path.join(figure_dir, 'calc_params.png'))\n",
    "plt.show()"
   ]
  }
 ],
 "metadata": {
  "kernelspec": {
   "display_name": "mejiro",
   "language": "python",
   "name": "python3"
  },
  "language_info": {
   "codemirror_mode": {
    "name": "ipython",
    "version": 3
   },
   "file_extension": ".py",
   "mimetype": "text/x-python",
   "name": "python",
   "nbconvert_exporter": "python",
   "pygments_lexer": "ipython3",
   "version": "3.10.6"
  }
 },
 "nbformat": 4,
 "nbformat_minor": 2
}
