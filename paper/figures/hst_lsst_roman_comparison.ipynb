{
 "cells": [
  {
   "cell_type": "code",
   "execution_count": null,
   "metadata": {},
   "outputs": [],
   "source": [
    "import os\n",
    "import sys\n",
    "\n",
    "import numpy as np\n",
    "import matplotlib.pyplot as plt\n",
    "import matplotlib.colors as colors\n",
    "from hydra import initialize, compose\n",
    "from lenstronomy.Plots import plot_util\n",
    "\n",
    "# set paths to various directories based on the machine this code is being executed on\n",
    "with initialize(version_base=None, config_path='../../config'):\n",
    "    config = compose(config_name='config.yaml')  # overrides=['machine=uzay']\n",
    "\n",
    "array_dir, data_dir, figure_dir, pickle_dir, repo_dir  = config.machine.array_dir, config.machine.data_dir, config.machine.figure_dir, config.machine.pickle_dir, config.machine.repo_dir\n",
    "\n",
    "# enable use of local modules\n",
    "if repo_dir not in sys.path:\n",
    "    sys.path.append(repo_dir)\n",
    "\n",
    "# set matplotlib style\n",
    "plt.style.use(f'{repo_dir}/mejiro/mplstyle/science.mplstyle')\n",
    "\n",
    "from mejiro.plots import overplot, plot\n",
    "from mejiro.lenses import test\n",
    "from mejiro.lenses.test import SampleStrongLens\n",
    "from mejiro.helpers import lenstronomy_sim, pyhalo"
   ]
  },
  {
   "cell_type": "code",
   "execution_count": null,
   "metadata": {},
   "outputs": [],
   "source": [
    "array_dir = os.path.join(array_dir, 'sample_skypy_lens')\n",
    "pickle_dir = config.machine.dir_03"
   ]
  },
  {
   "cell_type": "code",
   "execution_count": null,
   "metadata": {},
   "outputs": [],
   "source": [
    "lens_dict, rgb_image, rgb_model = test.get_sample(config.machine.dir_03, config.machine.dir_05, 6)\n",
    "\n",
    "lens = lens_dict['lens']\n",
    "model = lens_dict['model']\n",
    "\n",
    "side = 10.01\n",
    "lens.update_model()"
   ]
  },
  {
   "cell_type": "code",
   "execution_count": null,
   "metadata": {},
   "outputs": [],
   "source": [
    "roman, _ = lenstronomy_sim.get_image(lens, 'roman', side)\n",
    "roman_rgb, _ = lenstronomy_sim.get_image(lens, 'roman_rgb', side)\n",
    "lsst, _ = lenstronomy_sim.get_image(lens, 'lsst', side)\n",
    "des, _ = lenstronomy_sim.get_image(lens, 'des', side)\n",
    "hst, _ = lenstronomy_sim.get_image(lens, 'hst', side)\n",
    "euclid, _ = lenstronomy_sim.get_image(lens, 'euclid', side)"
   ]
  },
  {
   "cell_type": "code",
   "execution_count": null,
   "metadata": {},
   "outputs": [],
   "source": [
    "scale_max = 50\n",
    "\n",
    "roman = plot_util.sqrt(roman, scale_min=0, scale_max=scale_max)\n",
    "roman_rgb = plot_util.sqrt(roman_rgb, scale_min=0, scale_max=scale_max)\n",
    "lsst = plot_util.sqrt(lsst, scale_min=0, scale_max=scale_max)\n",
    "des = plot_util.sqrt(des, scale_min=0, scale_max=scale_max)\n",
    "hst = plot_util.sqrt(hst, scale_min=0, scale_max=scale_max)\n",
    "euclid = plot_util.sqrt(euclid, scale_min=0, scale_max=scale_max)\n",
    "# rgb_image = plot_util.sqrt(rgb_image, scale_min=0, scale_max=scale_max)"
   ]
  },
  {
   "cell_type": "code",
   "execution_count": null,
   "metadata": {},
   "outputs": [],
   "source": [
    "plot.plot_list([roman, roman_rgb, lsst, des, hst, euclid]) "
   ]
  },
  {
   "cell_type": "code",
   "execution_count": null,
   "metadata": {},
   "outputs": [],
   "source": [
    "array_list = [rgb_image, lsst, euclid, hst]\n",
    "title_list = ['Roman\\n(F106, F129, F184)', 'LSST\\n(g, r, i)', 'Euclid\\n(VIS)', 'HST\\n(WFC3 F160W)']"
   ]
  },
  {
   "cell_type": "code",
   "execution_count": null,
   "metadata": {},
   "outputs": [],
   "source": [
    "plt.imshow(rgb_image)"
   ]
  },
  {
   "cell_type": "code",
   "execution_count": null,
   "metadata": {},
   "outputs": [],
   "source": [
    "side = 2\n",
    "\n",
    "fontsize = 18\n",
    "import matplotlib\n",
    "matplotlib.rcParams.update({'font.size': fontsize})\n",
    "\n",
    "fig, ax = plt.subplots(nrows=side, ncols=side, figsize=(8, 9), constrained_layout=True)\n",
    "\n",
    "for i, array in enumerate(array_list):\n",
    "    ax[i // side, i % side].imshow(array)\n",
    "    ax[i // side, i % side].get_xaxis().set_visible(False)\n",
    "    ax[i // side, i % side].get_yaxis().set_visible(False)\n",
    "    ax[i // side, i % side].set_title(title_list[i])\n",
    "\n",
    "plt.savefig(os.path.join(figure_dir, 'telescope_compare.png'))\n",
    "plt.show()"
   ]
  }
 ],
 "metadata": {
  "kernelspec": {
   "display_name": "pandeia",
   "language": "python",
   "name": "python3"
  },
  "language_info": {
   "codemirror_mode": {
    "name": "ipython",
    "version": 3
   },
   "file_extension": ".py",
   "mimetype": "text/x-python",
   "name": "python",
   "nbconvert_exporter": "python",
   "pygments_lexer": "ipython3",
   "version": "3.10.6"
  }
 },
 "nbformat": 4,
 "nbformat_minor": 2
}
