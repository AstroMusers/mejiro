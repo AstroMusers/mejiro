{
 "cells": [
  {
   "cell_type": "code",
   "execution_count": 2,
   "metadata": {},
   "outputs": [],
   "source": [
    "import os\n",
    "import sys\n",
    "\n",
    "import numpy as np\n",
    "import matplotlib\n",
    "%matplotlib inline\n",
    "import matplotlib.pyplot as plt\n",
    "from matplotlib import colors\n",
    "from hydra import initialize, compose\n",
    "import pickle\n",
    "from glob import glob\n",
    "from pprint import pprint\n",
    "from tqdm import tqdm\n",
    "\n",
    "# set paths to various directories based on the machine this code is being executed on\n",
    "with initialize(version_base=None, config_path='../../config'):\n",
    "    config = compose(config_name='config.yaml')  # overrides=['machine=uzay']\n",
    "\n",
    "array_dir, data_dir, figure_dir, pickle_dir, repo_dir  = config.machine.array_dir, config.machine.data_dir, config.machine.figure_dir, config.machine.pickle_dir, config.machine.repo_dir\n",
    "\n",
    "# enable use of local modules\n",
    "if repo_dir not in sys.path:\n",
    "    sys.path.append(repo_dir)\n",
    "\n",
    "# set matplotlib style\n",
    "plt.style.use(f'{repo_dir}/mejiro/mplstyle/science.mplstyle')\n",
    "\n",
    "from mejiro.lenses.test import SampleStrongLens\n",
    "from mejiro.plots import diagnostic_plot, plot, plot_util, overplot\n",
    "from mejiro.analysis import stats\n",
    "from mejiro.utils import util\n",
    "from mejiro.helpers import gs\n",
    "from mejiro.lenses import lens_util"
   ]
  },
  {
   "cell_type": "code",
   "execution_count": 3,
   "metadata": {},
   "outputs": [
    {
     "data": {
      "image/png": "[encoded data removed]",
      "text/plain": [
       "<Figure size 700x525 with 1 Axes>"
      ]
     },
     "metadata": {},
     "output_type": "display_data"
    }
   ],
   "source": [
    "color_dir = config.machine.dir_05\n",
    "pickle_dir = config.machine.dir_03\n",
    "lens, rgb_model, rgb_image = lens_util.get_sample(pickle_dir, color_dir, 80)\n",
    "\n",
    "plt.imshow(rgb_image)\n",
    "plt.title(rgb_image.shape)\n",
    "plt.show()"
   ]
  },
  {
   "cell_type": "code",
   "execution_count": 4,
   "metadata": {},
   "outputs": [
    {
     "name": "stdout",
     "output_type": "stream",
     "text": [
      "0.22317401821210708 0.7378049091107377\n"
     ]
    }
   ],
   "source": [
    "print(lens.z_lens, lens.z_source)"
   ]
  },
  {
   "cell_type": "code",
   "execution_count": 22,
   "metadata": {},
   "outputs": [
    {
     "name": "stdout",
     "output_type": "stream",
     "text": [
      "111558627652.49892 247.52630350114026 None\n"
     ]
    }
   ],
   "source": [
    "print(lens.lens_stellar_mass, lens.lens_vel_disp, lens.snr)"
   ]
  },
  {
   "cell_type": "code",
   "execution_count": 8,
   "metadata": {},
   "outputs": [
    {
     "name": "stdout",
     "output_type": "stream",
     "text": [
      "['SIE', 'SHEAR', 'CONVERGENCE', 'TNFW', 'TNFW', 'TNFW', 'TNFW', 'TNFW', 'TNFW', 'TNFW', 'TNFW', 'TNFW', 'TNFW', 'TNFW', 'TNFW', 'TNFW', 'TNFW', 'TNFW', 'TNFW', 'TNFW', 'TNFW', 'TNFW', 'TNFW', 'TNFW', 'TNFW', 'TNFW', 'TNFW', 'TNFW', 'TNFW', 'TNFW', 'TNFW', 'TNFW', 'TNFW', 'TNFW', 'TNFW', 'TNFW', 'TNFW', 'TNFW', 'TNFW', 'TNFW', 'TNFW', 'TNFW', 'TNFW', 'TNFW', 'TNFW', 'TNFW', 'TNFW', 'TNFW', 'TNFW', 'TNFW', 'TNFW', 'TNFW', 'TNFW', 'TNFW', 'TNFW', 'TNFW', 'TNFW', 'TNFW', 'TNFW', 'TNFW', 'TNFW', 'TNFW', 'TNFW', 'TNFW', 'TNFW', 'TNFW', 'TNFW', 'TNFW', 'TNFW', 'TNFW', 'TNFW', 'TNFW', 'TNFW', 'TNFW', 'TNFW', 'TNFW', 'TNFW', 'TNFW', 'TNFW', 'TNFW', 'TNFW', 'TNFW', 'TNFW', 'TNFW', 'TNFW', 'TNFW', 'TNFW', 'TNFW', 'TNFW', 'TNFW', 'TNFW', 'TNFW', 'TNFW', 'TNFW', 'TNFW', 'TNFW', 'TNFW', 'TNFW', 'TNFW', 'TNFW', 'TNFW', 'TNFW', 'TNFW', 'TNFW', 'TNFW', 'TNFW', 'TNFW', 'TNFW', 'TNFW', 'TNFW', 'TNFW', 'TNFW', 'TNFW', 'TNFW', 'TNFW', 'TNFW', 'TNFW', 'TNFW', 'TNFW', 'TNFW', 'TNFW', 'TNFW', 'TNFW', 'TNFW', 'TNFW', 'TNFW', 'TNFW', 'TNFW', 'TNFW', 'TNFW', 'TNFW', 'TNFW', 'TNFW', 'TNFW', 'TNFW', 'TNFW', 'TNFW', 'TNFW', 'TNFW', 'TNFW', 'TNFW', 'TNFW', 'TNFW', 'TNFW', 'TNFW', 'TNFW', 'TNFW', 'TNFW', 'TNFW', 'TNFW', 'TNFW', 'TNFW', 'TNFW', 'TNFW', 'TNFW', 'TNFW', 'TNFW', 'TNFW', 'TNFW', 'TNFW', 'TNFW', 'TNFW', 'TNFW', 'TNFW', 'TNFW', 'TNFW', 'TNFW', 'TNFW', 'TNFW', 'TNFW', 'TNFW', 'TNFW', 'TNFW', 'TNFW', 'TNFW', 'TNFW', 'TNFW', 'TNFW', 'TNFW', 'TNFW', 'TNFW', 'TNFW', 'TNFW', 'TNFW', 'TNFW', 'TNFW', 'TNFW', 'TNFW', 'TNFW', 'TNFW', 'TNFW', 'TNFW', 'TNFW', 'TNFW', 'TNFW', 'TNFW', 'TNFW', 'TNFW', 'TNFW', 'TNFW', 'TNFW', 'TNFW', 'TNFW', 'TNFW', 'TNFW', 'TNFW', 'TNFW', 'TNFW', 'TNFW', 'TNFW', 'TNFW', 'TNFW', 'TNFW', 'TNFW', 'TNFW', 'TNFW', 'TNFW', 'TNFW', 'TNFW', 'TNFW', 'TNFW', 'TNFW', 'TNFW', 'TNFW', 'TNFW', 'TNFW', 'TNFW', 'TNFW', 'TNFW', 'TNFW', 'TNFW', 'TNFW', 'TNFW', 'TNFW', 'TNFW', 'TNFW', 'TNFW', 'TNFW', 'TNFW', 'TNFW', 'TNFW', 'TNFW', 'TNFW', 'TNFW', 'TNFW', 'TNFW', 'TNFW', 'TNFW', 'TNFW', 'TNFW', 'TNFW', 'TNFW', 'TNFW', 'TNFW', 'TNFW', 'TNFW', 'TNFW', 'TNFW', 'TNFW', 'TNFW', 'TNFW', 'TNFW', 'TNFW', 'TNFW', 'TNFW', 'TNFW', 'TNFW', 'TNFW', 'TNFW', 'TNFW', 'TNFW', 'TNFW', 'TNFW', 'TNFW', 'TNFW', 'TNFW', 'TNFW', 'TNFW', 'TNFW', 'TNFW', 'TNFW', 'TNFW', 'TNFW', 'TNFW', 'TNFW', 'TNFW', 'TNFW', 'TNFW', 'TNFW', 'TNFW', 'TNFW', 'TNFW', 'TNFW', 'TNFW', 'TNFW', 'TNFW', 'TNFW', 'TNFW', 'TNFW', 'TNFW', 'TNFW', 'TNFW', 'TNFW', 'TNFW', 'TNFW', 'TNFW', 'TNFW', 'TNFW', 'TNFW', 'TNFW', 'TNFW', 'TNFW', 'TNFW', 'TNFW', 'TNFW', 'TNFW', 'TNFW', 'TNFW', 'TNFW', 'TNFW', 'TNFW', 'TNFW', 'TNFW', 'TNFW', 'TNFW', 'TNFW', 'TNFW', 'TNFW', 'TNFW', 'TNFW', 'TNFW', 'TNFW', 'TNFW', 'TNFW', 'TNFW', 'TNFW', 'TNFW', 'TNFW', 'TNFW', 'TNFW', 'TNFW', 'TNFW', 'TNFW', 'TNFW', 'TNFW', 'TNFW', 'TNFW', 'TNFW', 'TNFW', 'TNFW', 'TNFW', 'TNFW', 'TNFW', 'TNFW', 'TNFW', 'TNFW', 'TNFW', 'TNFW', 'TNFW', 'TNFW', 'TNFW', 'TNFW', 'TNFW', 'TNFW', 'TNFW', 'TNFW', 'TNFW', 'TNFW', 'TNFW', 'TNFW', 'TNFW', 'TNFW', 'TNFW', 'TNFW', 'TNFW', 'TNFW', 'TNFW', 'TNFW', 'TNFW', 'TNFW', 'TNFW', 'TNFW', 'TNFW', 'TNFW', 'TNFW', 'TNFW', 'TNFW', 'TNFW', 'TNFW', 'TNFW', 'TNFW', 'TNFW', 'TNFW', 'TNFW', 'TNFW', 'TNFW', 'TNFW', 'TNFW', 'TNFW', 'TNFW', 'TNFW', 'TNFW', 'TNFW', 'TNFW', 'TNFW', 'TNFW', 'TNFW', 'TNFW', 'TNFW', 'TNFW', 'TNFW', 'TNFW', 'TNFW', 'TNFW', 'TNFW', 'TNFW', 'TNFW', 'TNFW', 'TNFW', 'TNFW', 'TNFW', 'TNFW', 'TNFW', 'TNFW', 'TNFW', 'TNFW', 'TNFW', 'TNFW', 'TNFW', 'TNFW', 'TNFW', 'TNFW', 'TNFW', 'TNFW', 'TNFW', 'TNFW', 'TNFW', 'TNFW', 'TNFW', 'TNFW', 'TNFW', 'TNFW', 'TNFW', 'TNFW', 'TNFW', 'TNFW', 'TNFW', 'TNFW', 'TNFW', 'TNFW', 'TNFW', 'TNFW', 'TNFW', 'TNFW', 'TNFW', 'TNFW', 'TNFW', 'TNFW', 'TNFW', 'TNFW', 'TNFW', 'TNFW', 'TNFW', 'TNFW', 'TNFW', 'TNFW', 'TNFW', 'TNFW', 'TNFW', 'TNFW', 'TNFW', 'TNFW', 'TNFW', 'TNFW', 'TNFW', 'TNFW', 'TNFW', 'TNFW', 'TNFW', 'TNFW', 'TNFW', 'TNFW', 'TNFW', 'TNFW', 'TNFW', 'TNFW', 'TNFW', 'TNFW', 'TNFW', 'TNFW', 'TNFW', 'TNFW', 'TNFW', 'TNFW', 'TNFW', 'TNFW', 'TNFW', 'TNFW', 'TNFW', 'TNFW', 'TNFW', 'TNFW', 'TNFW', 'TNFW', 'TNFW', 'TNFW', 'TNFW', 'TNFW', 'TNFW', 'TNFW', 'TNFW', 'TNFW', 'TNFW', 'TNFW', 'TNFW', 'TNFW', 'TNFW', 'TNFW', 'TNFW', 'TNFW', 'TNFW', 'TNFW', 'TNFW', 'TNFW', 'TNFW', 'TNFW', 'TNFW', 'TNFW', 'TNFW', 'TNFW', 'TNFW', 'TNFW', 'TNFW', 'TNFW', 'TNFW', 'TNFW', 'TNFW', 'TNFW', 'TNFW', 'TNFW', 'TNFW', 'TNFW', 'TNFW', 'TNFW', 'TNFW', 'TNFW', 'TNFW', 'TNFW', 'TNFW', 'TNFW', 'TNFW', 'TNFW', 'TNFW', 'TNFW', 'TNFW', 'TNFW', 'TNFW', 'TNFW', 'TNFW', 'TNFW', 'TNFW', 'TNFW', 'TNFW', 'TNFW', 'TNFW', 'TNFW', 'TNFW', 'TNFW', 'TNFW', 'TNFW', 'TNFW', 'TNFW', 'TNFW', 'TNFW', 'TNFW', 'TNFW', 'TNFW', 'TNFW', 'TNFW', 'TNFW', 'TNFW', 'TNFW', 'TNFW', 'TNFW', 'TNFW', 'TNFW', 'TNFW', 'TNFW', 'TNFW', 'TNFW', 'TNFW', 'TNFW', 'TNFW', 'TNFW', 'TNFW', 'TNFW', 'TNFW', 'TNFW', 'TNFW', 'TNFW', 'TNFW', 'TNFW', 'TNFW', 'TNFW', 'TNFW', 'TNFW', 'TNFW', 'TNFW', 'TNFW', 'TNFW', 'TNFW', 'CONVERGENCE']\n",
      "[{'center_x': 0.07127939288109568,\n",
      "  'center_y': -0.07398780475667037,\n",
      "  'e1': -0.08292408735832754,\n",
      "  'e2': -0.37468629447706264,\n",
      "  'theta_E': 1.1506592065578651},\n",
      " {'dec_0': 0,\n",
      "  'gamma1': 0.004567952277500915,\n",
      "  'gamma2': 0.005010877988871916,\n",
      "  'ra_0': 0},\n",
      " {'dec_0': 0, 'kappa': 0.0736170546646533, 'ra_0': 0}]\n"
     ]
    }
   ],
   "source": [
    "print(lens.lens_model_list)\n",
    "pprint(lens.kwargs_lens[:3])"
   ]
  },
  {
   "cell_type": "code",
   "execution_count": 29,
   "metadata": {},
   "outputs": [
    {
     "name": "stdout",
     "output_type": "stream",
     "text": [
      "{'cosmo': FlatLambdaCDM(name=\"Planck18\", H0=67.66 km / (Mpc s), Om0=0.30966, Tcmb0=2.7255 K, Neff=3.046, m_nu=[0.   0.   0.06] eV, Ob0=0.04897),\n",
      " 'lens_light_model_list': ['SERSIC_ELLIPSE'],\n",
      " 'lens_model_list': ['SIE', 'SHEAR', 'CONVERGENCE'],\n",
      " 'lens_redshift_list': [0.22317401821210708,\n",
      "                        0.22317401821210708,\n",
      "                        0.22317401821210708],\n",
      " 'source_light_model_list': ['SERSIC_ELLIPSE'],\n",
      " 'source_redshift_list': [0.7378049091107377],\n",
      " 'z_source': 0.7378049091107377,\n",
      " 'z_source_convention': 5}\n"
     ]
    }
   ],
   "source": [
    "lens.kwargs_model['lens_model_list'] = lens.kwargs_model['lens_model_list'][:3]\n",
    "lens.kwargs_model['lens_redshift_list'] = lens.kwargs_model['lens_redshift_list'][:3]\n",
    "\n",
    "pprint(lens.kwargs_model)"
   ]
  },
  {
   "cell_type": "code",
   "execution_count": 23,
   "metadata": {},
   "outputs": [
    {
     "name": "stdout",
     "output_type": "stream",
     "text": [
      "{'F106': 17.933142571974678,\n",
      " 'F129': 17.641112131668187,\n",
      " 'F184': 17.368527542716492}\n"
     ]
    }
   ],
   "source": [
    "pprint(lens.lens_mags)"
   ]
  },
  {
   "cell_type": "code",
   "execution_count": 24,
   "metadata": {},
   "outputs": [
    {
     "name": "stdout",
     "output_type": "stream",
     "text": [
      "{'F106': 22.474901905252928,\n",
      " 'F129': 22.314280044141306,\n",
      " 'F184': 22.064682696345315}\n"
     ]
    }
   ],
   "source": [
    "pprint(lens.source_mags)"
   ]
  }
 ],
 "metadata": {
  "kernelspec": {
   "display_name": "mejiro",
   "language": "python",
   "name": "python3"
  },
  "language_info": {
   "codemirror_mode": {
    "name": "ipython",
    "version": 3
   },
   "file_extension": ".py",
   "mimetype": "text/x-python",
   "name": "python",
   "nbconvert_exporter": "python",
   "pygments_lexer": "ipython3",
   "version": "3.10.6"
  }
 },
 "nbformat": 4,
 "nbformat_minor": 2
}
