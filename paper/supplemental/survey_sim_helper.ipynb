{
 "cells": [
  {
   "cell_type": "code",
   "execution_count": 1,
   "metadata": {},
   "outputs": [],
   "source": [
    "import os\n",
    "import sys\n",
    "\n",
    "import numpy as np\n",
    "import matplotlib\n",
    "%matplotlib inline\n",
    "import matplotlib.pyplot as plt\n",
    "from matplotlib import colors\n",
    "from hydra import initialize, compose\n",
    "import pickle\n",
    "from glob import glob\n",
    "from pprint import pprint\n",
    "from tqdm import tqdm\n",
    "import galsim\n",
    "from copy import deepcopy\n",
    "import random\n",
    "\n",
    "# set paths to various directories based on the machine this code is being executed on\n",
    "try:\n",
    "    with initialize(version_base=None, config_path='config'):  \n",
    "        config = compose(config_name='config.yaml')  # overrides=['machine=uzay']\n",
    "except:\n",
    "    with initialize(version_base=None, config_path='../../config'):  \n",
    "        config = compose(config_name='config.yaml')  # overrides=['machine=uzay']\n",
    "\n",
    "array_dir, data_dir, figure_dir, pickle_dir, repo_dir  = config.machine.array_dir, config.machine.data_dir, config.machine.figure_dir, config.machine.pickle_dir, config.machine.repo_dir\n",
    "\n",
    "# enable use of local modules\n",
    "if repo_dir not in sys.path:\n",
    "    sys.path.append(repo_dir)\n",
    "\n",
    "# set matplotlib style\n",
    "plt.style.use(f'{repo_dir}/mejiro/mplstyle/science.mplstyle')\n",
    "\n",
    "from mejiro.utils import util"
   ]
  },
  {
   "cell_type": "markdown",
   "metadata": {},
   "source": [
    "Import current survey simulation configuration"
   ]
  },
  {
   "cell_type": "code",
   "execution_count": 2,
   "metadata": {},
   "outputs": [],
   "source": [
    "survey_params = util.hydra_to_dict(config.survey)"
   ]
  },
  {
   "cell_type": "markdown",
   "metadata": {},
   "source": [
    "Provide parameters"
   ]
  },
  {
   "cell_type": "code",
   "execution_count": 3,
   "metadata": {},
   "outputs": [],
   "source": [
    "# How many systems are expected to be detectable per square degree?\n",
    "det_rate = 38\n",
    "\n",
    "# How many detectable systems are desired?\n",
    "n_det = 10000"
   ]
  },
  {
   "cell_type": "markdown",
   "metadata": {},
   "source": [
    "Calculate number of runs necessary to achieve desired number of detections"
   ]
  },
  {
   "cell_type": "code",
   "execution_count": 5,
   "metadata": {},
   "outputs": [
    {
     "name": "stdout",
     "output_type": "stream",
     "text": [
      "Minimum survey area: 263.16 square degrees\n",
      "Minimum number of runs needed: 526.32\n",
      "Number of batches needed: 30\n",
      "Total number of runs: 540\n"
     ]
    }
   ],
   "source": [
    "# How many square degrees need to be surveyed?\n",
    "min_survey_area = n_det / det_rate\n",
    "print(f'Minimum survey area: {min_survey_area:.2f} square degrees')\n",
    "\n",
    "# How many runs are necessary at the specified run area\n",
    "run_area = survey_params['area']\n",
    "min_n_runs = min_survey_area / run_area\n",
    "print(f'Minimum number of runs needed: {min_n_runs:.2f}')\n",
    "\n",
    "# Batch into 18 runs so each SCA gets equal sky area\n",
    "n_batches = np.ceil(min_n_runs / 18).astype(int)\n",
    "print(f'Number of batches needed: {n_batches}')\n",
    "\n",
    "# Calculate number of runs required\n",
    "n_runs = n_batches * 18\n",
    "print(f'Total number of runs: {n_runs}')"
   ]
  }
 ],
 "metadata": {
  "kernelspec": {
   "display_name": "mejiro",
   "language": "python",
   "name": "python3"
  },
  "language_info": {
   "codemirror_mode": {
    "name": "ipython",
    "version": 3
   },
   "file_extension": ".py",
   "mimetype": "text/x-python",
   "name": "python",
   "nbconvert_exporter": "python",
   "pygments_lexer": "ipython3",
   "version": "3.10.6"
  }
 },
 "nbformat": 4,
 "nbformat_minor": 2
}
