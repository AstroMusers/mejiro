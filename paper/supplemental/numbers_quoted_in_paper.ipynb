{
 "cells": [
  {
   "cell_type": "code",
   "execution_count": 27,
   "metadata": {},
   "outputs": [],
   "source": [
    "import os\n",
    "import sys\n",
    "\n",
    "import numpy as np\n",
    "import matplotlib\n",
    "%matplotlib inline\n",
    "import matplotlib.pyplot as plt\n",
    "from matplotlib import colors\n",
    "from hydra import initialize, compose\n",
    "import pickle\n",
    "from glob import glob\n",
    "from pprint import pprint\n",
    "from tqdm import tqdm\n",
    "\n",
    "# set paths to various directories based on the machine this code is being executed on\n",
    "with initialize(version_base=None, config_path='config'):\n",
    "    config = compose(config_name='config.yaml')  # overrides=['machine=uzay']\n",
    "\n",
    "array_dir, data_dir, figure_dir, pickle_dir, repo_dir  = config.machine.array_dir, config.machine.data_dir, config.machine.figure_dir, config.machine.pickle_dir, config.machine.repo_dir\n",
    "\n",
    "# enable use of local modules\n",
    "if repo_dir not in sys.path:\n",
    "    sys.path.append(repo_dir)\n",
    "\n",
    "# set matplotlib style\n",
    "plt.style.use(f'{repo_dir}/mejiro/mplstyle/science.mplstyle')\n",
    "\n",
    "from mejiro.utils import util"
   ]
  },
  {
   "cell_type": "code",
   "execution_count": 28,
   "metadata": {},
   "outputs": [],
   "source": [
    "pickled_lens_list = os.path.join(config.machine.dir_01, '01_hlwas_sim_detectable_lens_list.pkl')\n",
    "lens_list = util.unpickle(pickled_lens_list)"
   ]
  },
  {
   "cell_type": "markdown",
   "metadata": {},
   "source": [
    "# Detectable and candidate lens counts\n",
    "\n",
    "Number of detectable strong lenses per square degree of simulated area, candidate strong lenses"
   ]
  },
  {
   "cell_type": "code",
   "execution_count": 29,
   "metadata": {},
   "outputs": [
    {
     "name": "stdout",
     "output_type": "stream",
     "text": [
      "Wrote combined CSV to /data/bwedig/mejiro/pipeline/00/total_pop.csv\n",
      "Wrote combined CSV to /data/bwedig/mejiro/pipeline/00/detectable_pop.csv\n"
     ]
    }
   ],
   "source": [
    "# combine CSVs from each run into one CSV\n",
    "data_dir = config.machine.dir_00\n",
    "total_csv = os.path.join(data_dir, 'total_pop.csv')\n",
    "detectable_csv = os.path.join(data_dir, 'detectable_pop.csv')\n",
    "util.delete_if_exists(total_csv)\n",
    "util.delete_if_exists(detectable_csv)\n",
    "total_df = util.combine_all_csvs(data_dir, 'total', total_csv)\n",
    "detectable_df = util.combine_all_csvs(data_dir, 'detectable', detectable_csv)"
   ]
  },
  {
   "cell_type": "code",
   "execution_count": 30,
   "metadata": {},
   "outputs": [
    {
     "name": "stdout",
     "output_type": "stream",
     "text": [
      "50 runs of 5 sq. deg. each gives 250 sq. deg. total\n"
     ]
    }
   ],
   "source": [
    "runs = len(glob(os.path.join(data_dir, \"total_pop_*.csv\")))\n",
    "total_area = 5 * runs\n",
    "print(f'{runs} runs of 5 sq. deg. each gives {total_area} sq. deg. total')"
   ]
  },
  {
   "cell_type": "code",
   "execution_count": 31,
   "metadata": {},
   "outputs": [
    {
     "name": "stdout",
     "output_type": "stream",
     "text": [
      "2249938 candidate strong lenses\n",
      "455 detectable strong lenses\n",
      "Fraction of candidate strong lenses that are detectable: 0.00020\n"
     ]
    }
   ],
   "source": [
    "print(f'{len(total_df)} candidate strong lenses')\n",
    "print(f'{len(detectable_df)} detectable strong lenses')\n",
    "\n",
    "fraction_detectable = len(detectable_df) / len(total_df)\n",
    "print(f'Fraction of candidate strong lenses that are detectable: {fraction_detectable:.5f}')"
   ]
  },
  {
   "cell_type": "code",
   "execution_count": 32,
   "metadata": {},
   "outputs": [
    {
     "name": "stdout",
     "output_type": "stream",
     "text": [
      "Candidate strong lenses per sq. deg.: 9000\n",
      "Detectable strong lenses per sq. deg.: 1.82\n"
     ]
    }
   ],
   "source": [
    "total_per_sq_deg = len(total_df) / total_area\n",
    "print(f'Candidate strong lenses per sq. deg.: {round(total_per_sq_deg)}')\n",
    "det_per_sq_deg = len(detectable_df) / total_area\n",
    "print(f'Detectable strong lenses per sq. deg.: {det_per_sq_deg:.2f}')"
   ]
  },
  {
   "cell_type": "code",
   "execution_count": 33,
   "metadata": {},
   "outputs": [
    {
     "name": "stdout",
     "output_type": "stream",
     "text": [
      "Detectable strong lenses per exposure: 0.51\n"
     ]
    }
   ],
   "source": [
    "det_per_exposure = det_per_sq_deg * 0.281\n",
    "print(f'Detectable strong lenses per exposure: {det_per_exposure:.2f}')"
   ]
  },
  {
   "cell_type": "markdown",
   "metadata": {},
   "source": [
    "# How much work are the various filters doing?\n",
    "\n",
    "`filter_1` is Einstein radius and half-light radius, and `filter_2` is SNR > 10. The other detectability criteria are combined into the difference between candidate and detectable."
   ]
  },
  {
   "cell_type": "code",
   "execution_count": 34,
   "metadata": {},
   "outputs": [
    {
     "name": "stdout",
     "output_type": "stream",
     "text": [
      "2493 (0.11%) candidate strong lenses caught in filter 1\n",
      "2238860 (99.51%) candidate strong lenses caught in filter 2\n"
     ]
    }
   ],
   "source": [
    "filters = util.unpickle_all(config.machine.dir_00, 'filtered_sample_')\n",
    "\n",
    "num_filter_1 = np.sum([d['num_filter_1'] for d in filters])\n",
    "num_filter_2 = np.sum([d['num_filter_2'] for d in filters])\n",
    "\n",
    "percent_filter_1 = num_filter_1 / len(total_df) * 100\n",
    "percent_filter_2 = num_filter_2 / len(total_df) * 100\n",
    "\n",
    "print(f'{num_filter_1} ({percent_filter_1:.2f}%) candidate strong lenses caught in filter 1')\n",
    "print(f'{num_filter_2} ({percent_filter_2:.2f}%) candidate strong lenses caught in filter 2')"
   ]
  },
  {
   "cell_type": "markdown",
   "metadata": {},
   "source": [
    "# Subhalo statistics"
   ]
  },
  {
   "cell_type": "code",
   "execution_count": 35,
   "metadata": {},
   "outputs": [],
   "source": [
    "stats_list = util.unpickle_all(os.path.join(config.machine.dir_02, 'stats'), 'subhalo_stats_')"
   ]
  },
  {
   "cell_type": "code",
   "execution_count": 36,
   "metadata": {},
   "outputs": [],
   "source": [
    "original_einstein_radii = [d['original_einstein_radius'] for d in stats_list]\n",
    "adjusted_einstein_radii = [d['adjusted_einstein_radius'] for d in stats_list]\n",
    "percent_change_einstein_radii = [d['percent_change_einstein_radius'] for d in stats_list]\n",
    "effective_lensing_masses = [d['effective_lensing_mass'] for d in stats_list]\n",
    "adjusted_lensing_masses = [d['adjusted_lensing_mass'] for d in stats_list]\n",
    "percent_change_lensing_masses = [d['percent_change_lensing_mass'] for d in stats_list]\n",
    "total_masses_subhalos_within_einstein_radius = [d['total_mass_subhalos_within_einstein_radius'] for d in stats_list]\n",
    "total_subhalo_masses = [d['total_subhalo_mass'] for d in stats_list]\n",
    "percent_subhalo_masses_within_einstein_radius = [d['percent_subhalo_mass_within_einstein_radius'] for d in stats_list]"
   ]
  },
  {
   "cell_type": "code",
   "execution_count": 37,
   "metadata": {},
   "outputs": [
    {
     "data": {
      "image/png": "[encoded data removed]",
      "text/plain": [
       "<Figure size 1200x300 with 3 Axes>"
      ]
     },
     "metadata": {},
     "output_type": "display_data"
    }
   ],
   "source": [
    "f, ax = plt.subplots(1, 3, figsize=(12, 3))\n",
    "ax[0].hist(percent_change_einstein_radii)\n",
    "ax[0].set_xlabel('Percent Change in Einstein Radius')\n",
    "ax[0].set_ylabel('Number of Lenses')\n",
    "ax[1].hist(percent_change_lensing_masses)\n",
    "ax[1].set_xlabel('Percent Change in Lensing Mass')\n",
    "ax[1].set_ylabel('Number of Lenses')\n",
    "ax[2].hist(percent_subhalo_masses_within_einstein_radius)\n",
    "ax[2].set_xlabel('Percent of Subhalo Mass within Einstein Radius')\n",
    "ax[2].set_ylabel('Number of Lenses')\n",
    "plt.tight_layout()\n",
    "plt.show()"
   ]
  },
  {
   "cell_type": "code",
   "execution_count": 38,
   "metadata": {},
   "outputs": [
    {
     "name": "stdout",
     "output_type": "stream",
     "text": [
      "Mean percent change in Einstein radius: 0.11\n",
      "Standard deviation of percent change in Einstein radius: 0.28\n"
     ]
    }
   ],
   "source": [
    "mean = np.mean(percent_change_einstein_radii)\n",
    "stdev = np.std(percent_change_einstein_radii)\n",
    "\n",
    "print(f'Mean percent change in Einstein radius: {mean:.2f}')\n",
    "print(f'Standard deviation of percent change in Einstein radius: {stdev:.2f}')"
   ]
  }
 ],
 "metadata": {
  "kernelspec": {
   "display_name": "mejiro",
   "language": "python",
   "name": "python3"
  },
  "language_info": {
   "codemirror_mode": {
    "name": "ipython",
    "version": 3
   },
   "file_extension": ".py",
   "mimetype": "text/x-python",
   "name": "python",
   "nbconvert_exporter": "python",
   "pygments_lexer": "ipython3",
   "version": "3.10.6"
  }
 },
 "nbformat": 4,
 "nbformat_minor": 2
}
