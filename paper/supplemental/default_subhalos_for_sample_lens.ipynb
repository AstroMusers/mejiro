{
 "cells": [
  {
   "cell_type": "code",
   "execution_count": null,
   "metadata": {},
   "outputs": [],
   "source": [
    "import os\n",
    "import pickle\n",
    "import sys\n",
    "import time\n",
    "\n",
    "import numpy as np\n",
    "from pprint import pprint\n",
    "from tqdm import tqdm\n",
    "import matplotlib\n",
    "import matplotlib.pyplot as plt\n",
    "from lenstronomy.Util import data_util\n",
    "from lenstronomy.SimulationAPI.ObservationConfig.Roman import Roman\n",
    "from hydra import initialize, compose\n",
    "from pyHalo.preset_models import CDM\n",
    "from pyHalo.plotting_routines import plot_multiplane_convergence\n",
    "\n",
    "# set paths to various directories based on the machine this code is being executed on\n",
    "with initialize(version_base=None, config_path='config'):  # ../../\n",
    "    config = compose(config_name='config.yaml')  # overrides=['machine=uzay']\n",
    "\n",
    "array_dir, data_dir, figure_dir, pickle_dir, repo_dir  = config.machine.array_dir, config.machine.data_dir, config.machine.figure_dir, config.machine.pickle_dir, config.machine.repo_dir\n",
    "\n",
    "# enable use of local modules\n",
    "if repo_dir not in sys.path:\n",
    "    sys.path.append(repo_dir)\n",
    "\n",
    "# set matplotlib style\n",
    "plt.style.use(f'{repo_dir}/mejiro/mplstyle/science.mplstyle')\n",
    "\n",
    "from mejiro.lenses.test import SampleStrongLens\n",
    "from mejiro.utils import util"
   ]
  },
  {
   "cell_type": "code",
   "execution_count": null,
   "metadata": {},
   "outputs": [],
   "source": [
    "lens = SampleStrongLens()\n",
    "\n",
    "z_lens = round(lens.z_lens, 2)\n",
    "z_source = round(lens.z_source, 2)\n",
    "log_m_host = np.log10(lens.get_main_halo_mass())\n",
    "r_tidal = 0.25\n",
    "\n",
    "subhalo_cone = 11\n",
    "los_normalization = 0."
   ]
  },
  {
   "cell_type": "code",
   "execution_count": null,
   "metadata": {},
   "outputs": [],
   "source": [
    "cdm_realization = CDM(z_lens, z_source, log_m_host=log_m_host, r_tidal=r_tidal,\n",
    "                          cone_opening_angle_arcsec=subhalo_cone,\n",
    "                          LOS_normalization=los_normalization)\n",
    "\n",
    "print(f'Realization contains {len(cdm_realization.halos)} halos.')"
   ]
  },
  {
   "cell_type": "code",
   "execution_count": null,
   "metadata": {},
   "outputs": [],
   "source": [
    "# pickle it\n",
    "with open(os.path.join(pickle_dir, 'cdm_subhalos_for_sample'), 'ab') as results_file:\n",
    "        pickle.dump(cdm_realization, results_file)"
   ]
  },
  {
   "cell_type": "code",
   "execution_count": null,
   "metadata": {},
   "outputs": [],
   "source": [
    "# unpickle to reproduce plots\n",
    "with open(os.path.join(pickle_dir, 'cdm_subhalos_for_sample'), 'rb') as results_file:\n",
    "        cdm_realization = pickle.load(results_file)"
   ]
  },
  {
   "cell_type": "code",
   "execution_count": null,
   "metadata": {},
   "outputs": [],
   "source": [
    "print(len(cdm_realization.halos))"
   ]
  },
  {
   "cell_type": "code",
   "execution_count": null,
   "metadata": {},
   "outputs": [],
   "source": [
    "plot_multiplane_convergence(cdm_realization, \n",
    "                                  npix=60,\n",
    "                             cone_opening_angle_arcsec=subhalo_cone, \n",
    "                             lens_model_list_macro=None, \n",
    "                             kwargs_lens_macro=None, \n",
    "                             redshift_list_macro=None,\n",
    "                                 show_critical_curve=False,\n",
    "                                 vmin_max=0.01)"
   ]
  },
  {
   "cell_type": "code",
   "execution_count": null,
   "metadata": {},
   "outputs": [],
   "source": [
    "cdm_halo_masses = [halo.mass for halo in cdm_realization.halos]\n",
    "N, m = np.histogram(cdm_halo_masses, bins=np.logspace(6, 10, 10))\n",
    "\n",
    "plt.loglog(m[0:-1], N)\n",
    "plt.xlabel('Subhalo mass ('+r'$M_{\\odot}$)')\n",
    "plt.ylabel('Number of subhalos')\n",
    "\n",
    "plt.savefig(os.path.join(figure_dir, 'shmf.png'))\n",
    "plt.show()"
   ]
  },
  {
   "cell_type": "code",
   "execution_count": null,
   "metadata": {},
   "outputs": [],
   "source": [
    "print(cdm_realization.astropy_instance)"
   ]
  }
 ],
 "metadata": {
  "kernelspec": {
   "display_name": "pandeia",
   "language": "python",
   "name": "python3"
  },
  "language_info": {
   "codemirror_mode": {
    "name": "ipython",
    "version": 3
   },
   "file_extension": ".py",
   "mimetype": "text/x-python",
   "name": "python",
   "nbconvert_exporter": "python",
   "pygments_lexer": "ipython3",
   "version": "3.10.6"
  }
 },
 "nbformat": 4,
 "nbformat_minor": 2
}
