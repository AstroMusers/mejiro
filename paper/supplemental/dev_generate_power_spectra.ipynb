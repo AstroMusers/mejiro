{
 "cells": [
  {
   "cell_type": "code",
   "execution_count": null,
   "metadata": {},
   "outputs": [],
   "source": [
    "import os\n",
    "import sys\n",
    "\n",
    "import numpy as np\n",
    "import matplotlib\n",
    "%matplotlib inline\n",
    "import matplotlib.pyplot as plt\n",
    "from matplotlib import colors\n",
    "from hydra import initialize, compose\n",
    "import pickle\n",
    "from glob import glob\n",
    "from pprint import pprint\n",
    "from tqdm import tqdm\n",
    "from pyHalo.preset_models import CDM\n",
    "from pyHalo import plotting_routines\n",
    "from copy import deepcopy\n",
    "from lenstronomy.Util.correlation import power_spectrum_1d\n",
    "\n",
    "# set paths to various directories based on the machine this code is being executed on\n",
    "with initialize(version_base=None, config_path='../../config'):  # ../../\n",
    "    config = compose(config_name='config.yaml')  # overrides=['machine=uzay']\n",
    "\n",
    "array_dir, data_dir, figure_dir, pickle_dir, repo_dir  = config.machine.array_dir, config.machine.data_dir, config.machine.figure_dir, config.machine.pickle_dir, config.machine.repo_dir\n",
    "\n",
    "# enable use of local modules\n",
    "if repo_dir not in sys.path:\n",
    "    sys.path.append(repo_dir)\n",
    "\n",
    "# set matplotlib style\n",
    "plt.style.use(f'{repo_dir}/mejiro/mplstyle/science.mplstyle')\n",
    "\n",
    "from mejiro.lenses.test import SampleStrongLens\n",
    "from mejiro.plots import diagnostic_plot, plot, plot_util, overplot\n",
    "from mejiro.analysis import ft\n",
    "from mejiro.utils import util\n",
    "from mejiro.helpers import gs"
   ]
  },
  {
   "cell_type": "markdown",
   "metadata": {},
   "source": [
    "Choose where to save"
   ]
  },
  {
   "cell_type": "code",
   "execution_count": null,
   "metadata": {},
   "outputs": [],
   "source": [
    "save_dir = os.path.join(array_dir, 'power_spectra')\n",
    "util.create_directory_if_not_exists(save_dir)\n",
    "util.clear_directory(save_dir)"
   ]
  },
  {
   "cell_type": "code",
   "execution_count": null,
   "metadata": {},
   "outputs": [],
   "source": [
    "def check_massive_subhalo_and_image_alignment(lens):\n",
    "    realization = lens.realization\n",
    "\n",
    "    # identify subhalos above 10 ** 8 solar masses"
   ]
  },
  {
   "cell_type": "code",
   "execution_count": null,
   "metadata": {},
   "outputs": [],
   "source": [
    "# collect lenses\n",
    "num_lenses = 32\n",
    "print(f'Collecting {num_lenses} lenses...')\n",
    "# pickled_lens_list = os.path.join(config.machine.dir_01, '01_hlwas_sim_detectable_lens_list.pkl')\n",
    "pickled_lens_list = '/data/bwedig/mejiro/archive/2024-04-22 pipeline/01/01_hlwas_sim_detectable_lens_list.pkl'\n",
    "lens_list = util.unpickle(pickled_lens_list)[:num_lenses]\n",
    "pprint(lens_list)\n",
    "print('Collected lenses.')"
   ]
  },
  {
   "cell_type": "code",
   "execution_count": null,
   "metadata": {},
   "outputs": [],
   "source": [
    "# set imaging params\n",
    "bands = ['F106']  # , 'F129', 'F184'\n",
    "oversample = 5\n",
    "num_pix = 45\n",
    "side = 4.95\n",
    "\n",
    "# set subhalo params\n",
    "r_tidal = 0.5\n",
    "sigma_sub = 0.055\n",
    "subhalo_cone = 5\n",
    "los_normalization = 0"
   ]
  },
  {
   "cell_type": "code",
   "execution_count": null,
   "metadata": {},
   "outputs": [],
   "source": [
    "for lens in lens_list:\n",
    "    print(f'Processing lens {lens.uid}...')\n",
    "    z_lens = round(lens.z_lens, 2)\n",
    "    z_source = round(lens.z_source, 2)\n",
    "    log_m_host = np.log10(lens.main_halo_mass)\n",
    "\n",
    "    cut_6 = CDM(z_lens,\n",
    "                z_source,\n",
    "                sigma_sub=sigma_sub,\n",
    "                log_mlow=6.,\n",
    "                log_mhigh=10.,\n",
    "                log_m_host=log_m_host,\n",
    "                r_tidal=r_tidal,\n",
    "                cone_opening_angle_arcsec=subhalo_cone,\n",
    "                LOS_normalization=los_normalization)\n",
    "\n",
    "    cut_7 = CDM(z_lens,\n",
    "                z_source,\n",
    "                sigma_sub=sigma_sub,\n",
    "                log_mlow=7.,\n",
    "                log_mhigh=10.,\n",
    "                log_m_host=log_m_host,\n",
    "                r_tidal=r_tidal,\n",
    "                cone_opening_angle_arcsec=subhalo_cone,\n",
    "                LOS_normalization=los_normalization)\n",
    "\n",
    "    cut_8 = CDM(z_lens,\n",
    "                z_source,\n",
    "                sigma_sub=sigma_sub,\n",
    "                log_mlow=8.,\n",
    "                log_mhigh=10.,\n",
    "                log_m_host=log_m_host,\n",
    "                r_tidal=r_tidal,\n",
    "                cone_opening_angle_arcsec=subhalo_cone,\n",
    "                LOS_normalization=los_normalization)\n",
    "\n",
    "    lens_cut_6 = deepcopy(lens)\n",
    "    lens_cut_7 = deepcopy(lens)\n",
    "    lens_cut_8 = deepcopy(lens)\n",
    "\n",
    "    lens_cut_6.add_subhalos(cut_6, suppress_output=True)\n",
    "    lens_cut_7.add_subhalos(cut_7, suppress_output=True)\n",
    "    lens_cut_8.add_subhalos(cut_8, suppress_output=True)\n",
    "\n",
    "    lenses = [lens, lens_cut_6, lens_cut_7, lens_cut_8]\n",
    "    titles = [f'lens_{lens.uid}_no_subhalos', f'lens_{lens.uid}_cut_6', f'lens_{lens.uid}_cut_7',\n",
    "                f'lens_{lens.uid}_cut_8']\n",
    "    models = [i.get_array(num_pix=num_pix * oversample, side=side, band='F106') for i in lenses]\n",
    "\n",
    "    for sl, model, title in zip(lenses, models, titles):\n",
    "        print(f'Processing model {title}...')\n",
    "        gs_images, _ = gs.get_images(sl, model, 'F106', input_size=num_pix, output_size=num_pix,\n",
    "                                    grid_oversample=oversample, psf_oversample=oversample,\n",
    "                                    detector=1, detector_pos=(2048, 2048), suppress_output=True)\n",
    "        ps, r = power_spectrum_1d(gs_images[0])\n",
    "        np.save(os.path.join(save_dir, f'im_subs_{title}.npy'), gs_images[0])\n",
    "        np.save(os.path.join(save_dir, f'ps_subs_{title}.npy'), ps)\n",
    "    np.save(os.path.join(save_dir, 'r.npy'), r)\n",
    "\n",
    "    # for sl, model, title in zip(lenses, models, titles):\n",
    "    #     print(f'    Processing model {title} kappa...')\n",
    "    # # generate convergence maps\n",
    "    #     if sl.realization is None:\n",
    "    #         kappa = sl.get_macrolens_kappa(num_pix, subhalo_cone)\n",
    "    #     else:\n",
    "    #         kappa = sl.get_kappa(num_pix, subhalo_cone)\n",
    "    #     kappa_power_spectrum, kappa_r = power_spectrum_1d(kappa)\n",
    "    #     np.save(os.path.join(save_dir, f'kappa_ps_{title}.npy'), kappa_power_spectrum)\n",
    "    #     np.save(os.path.join(save_dir, f'kappa_im_{title}.npy'), kappa)\n",
    "    # np.save(os.path.join(save_dir, 'kappa_r.npy'), kappa_r)"
   ]
  },
  {
   "cell_type": "code",
   "execution_count": null,
   "metadata": {},
   "outputs": [],
   "source": [
    "for lens in lens_list:\n",
    "    print(f'Processing lens {lens.uid}...')\n",
    "    z_lens = round(lens.z_lens, 2)\n",
    "    z_source = round(lens.z_source, 2)\n",
    "    log_m_host = np.log10(lens.main_halo_mass)\n",
    "\n",
    "    cut_6 = CDM(z_lens,\n",
    "                z_source,\n",
    "                sigma_sub=sigma_sub,\n",
    "                log_mlow=6.,\n",
    "                log_mhigh=10.,\n",
    "                log_m_host=log_m_host,\n",
    "                r_tidal=r_tidal,\n",
    "                cone_opening_angle_arcsec=subhalo_cone,\n",
    "                LOS_normalization=los_normalization)\n",
    "    \n",
    "    lens_cut_6.add_subhalos(cut_6, suppress_output=True)\n",
    "    \n",
    "    detectors = [4, 1, 9, 17]\n",
    "    detector_positions = [(4, 4092), (2048, 2048), (4, 4), (4092, 4092)]\n",
    "\n",
    "    for detector, detector_pos in zip(detectors, detector_positions):\n",
    "        print(f'Processing detector {detector}, {detector_pos}...')\n",
    "        gs_images, _ = gs.get_images(sl, model, 'F106', input_size=num_pix, output_size=num_pix,\n",
    "                                    grid_oversample=oversample, psf_oversample=oversample,\n",
    "                                    detector=detector, detector_pos=detector_pos, suppress_output=True)\n",
    "        ps, r = power_spectrum_1d(gs_images[0])\n",
    "        np.save(os.path.join(save_dir, f'im_det_{detector}.npy'), gs_images[0])\n",
    "        np.save(os.path.join(save_dir, f'ps_det_{detector}.npy'), ps)"
   ]
  },
  {
   "cell_type": "code",
   "execution_count": null,
   "metadata": {},
   "outputs": [],
   "source": [
    "plt.loglog(r, ps)\n",
    "plt.show()"
   ]
  },
  {
   "cell_type": "code",
   "execution_count": null,
   "metadata": {},
   "outputs": [],
   "source": [
    "plt.loglog(kappa_r, kappa_power_spectrum)\n",
    "plt.show()"
   ]
  }
 ],
 "metadata": {
  "kernelspec": {
   "display_name": "mejiro",
   "language": "python",
   "name": "python3"
  },
  "language_info": {
   "codemirror_mode": {
    "name": "ipython",
    "version": 3
   },
   "file_extension": ".py",
   "mimetype": "text/x-python",
   "name": "python",
   "nbconvert_exporter": "python",
   "pygments_lexer": "ipython3",
   "version": "3.10.6"
  }
 },
 "nbformat": 4,
 "nbformat_minor": 2
}
