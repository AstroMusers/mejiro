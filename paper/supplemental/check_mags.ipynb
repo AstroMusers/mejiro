{
 "cells": [
  {
   "cell_type": "code",
   "execution_count": null,
   "metadata": {},
   "outputs": [],
   "source": [
    "import matplotlib.pyplot as plt\n",
    "import numpy as np\n",
    "import os\n",
    "import sys\n",
    "from glob import glob\n",
    "from hydra import initialize, compose\n",
    "from pprint import pprint\n",
    "\n",
    "# set paths to various directories based on the machine this code is being executed on\n",
    "with initialize(version_base=None, config_path='config'):\n",
    "    config = compose(config_name='config.yaml')  # overrides=['machine=uzay']\n",
    "\n",
    "array_dir, data_dir, figure_dir, pickle_dir, repo_dir = config.machine.array_dir, config.machine.data_dir, config.machine.figure_dir, config.machine.pickle_dir, config.machine.repo_dir\n",
    "\n",
    "# enable use of local modules\n",
    "if repo_dir not in sys.path:\n",
    "    sys.path.append(repo_dir)\n",
    "\n",
    "# set matplotlib style\n",
    "plt.style.use(f'{repo_dir}/mejiro/mplstyle/science.mplstyle')\n",
    "\n",
    "from mejiro.plots import plot\n",
    "from mejiro.utils import util\n",
    "from mejiro.lenses import lens_util"
   ]
  },
  {
   "cell_type": "code",
   "execution_count": null,
   "metadata": {},
   "outputs": [],
   "source": [
    "pipeline_params = util.hydra_to_dict(config.pipeline)\n",
    "debugging = pipeline_params['debugging']\n",
    "if debugging:\n",
    "    pipeline_dir = f'{config.machine.pipeline_dir}_dev'\n",
    "else:\n",
    "    pipeline_dir = config.machine.pipeline_dir"
   ]
  },
  {
   "cell_type": "code",
   "execution_count": null,
   "metadata": {},
   "outputs": [],
   "source": [
    "tuple_list = []\n",
    "for i in range(0, 608):\n",
    "    try:\n",
    "        lens, f129, rgb_image = lens_util.get_sample(pipeline_dir, i, band='f129', model=False)\n",
    "        f129 *= 146\n",
    "        tuple_list.append((lens, f129, rgb_image))\n",
    "    except Exception as e:\n",
    "        print(e)\n",
    "        pass\n",
    "\n",
    "print(f'Collected {len(tuple_list)} samples')"
   ]
  },
  {
   "cell_type": "code",
   "execution_count": null,
   "metadata": {},
   "outputs": [],
   "source": [
    "source_mags = [l.source_mags['F129'] for l, _, _ in tuple_list]\n",
    "lensed_source_mags = [l.lensed_source_mags['F129'] for l, _, _ in tuple_list]\n",
    "lens_mags = [l.lens_mags['F129'] for l, _, _ in tuple_list]\n",
    "\n",
    "plt.hist(source_mags, bins=20, label='source', histtype='step')\n",
    "plt.hist(lensed_source_mags, bins=20, label='lensed source', histtype='step')\n",
    "plt.hist(lens_mags, bins=20, label='lens', histtype='step')\n",
    "plt.legend()\n",
    "plt.show()"
   ]
  },
  {
   "cell_type": "code",
   "execution_count": null,
   "metadata": {},
   "outputs": [],
   "source": [
    "indices = np.random.randint(0, len(tuple_list), 10)\n",
    "selection = [tuple_list[i] for i in indices]\n",
    "\n",
    "for lens, f129, rgb_image in selection:\n",
    "    _, ax = plt.subplots(1, 2, figsize=(12, 5), constrained_layout=True)\n",
    "    ax0 = ax[0].imshow(f129)\n",
    "    plt.colorbar(ax0, ax=ax[0])\n",
    "    ax[1].imshow(rgb_image)\n",
    "    source_mag = lens.source_mags['F129']\n",
    "    lensed_source_mag = lens.lensed_source_mags['F129']\n",
    "    lens_mag = lens.lens_mags['F129']\n",
    "    plt.suptitle(f'Source: {source_mag:.2f}, Lensed source: {lensed_source_mag:.2f}, Lens: {lens_mag:.2f}')\n",
    "    plt.show()"
   ]
  },
  {
   "cell_type": "code",
   "execution_count": null,
   "metadata": {},
   "outputs": [],
   "source": [
    "limit = 10\n",
    "i = 0\n",
    "for lens, f129, rgb_image in tuple_list:\n",
    "    _, ax = plt.subplots(1, 2, figsize=(12, 5), constrained_layout=True)\n",
    "    ax0 = ax[0].imshow(f129)\n",
    "    plt.colorbar(ax0, ax=ax[0])\n",
    "    ax[1].imshow(rgb_image)\n",
    "    source_mag = lens.source_mags['F129']\n",
    "    lensed_source_mag = lens.lensed_source_mags['F129']\n",
    "    lens_mag = lens.lens_mags['F129']\n",
    "    if lens_mag > 23.5:\n",
    "        plt.suptitle(f'Source: {source_mag:.2f}, Lensed source: {lensed_source_mag:.2f}, Lens: {lens_mag:.2f}')\n",
    "        plt.show()\n",
    "        i += 1\n",
    "        if i > limit:\n",
    "            break\n",
    "    else:\n",
    "        continue"
   ]
  }
 ],
 "metadata": {
  "kernelspec": {
   "display_name": "mejiro",
   "language": "python",
   "name": "python3"
  },
  "language_info": {
   "codemirror_mode": {
    "name": "ipython",
    "version": 3
   },
   "file_extension": ".py",
   "mimetype": "text/x-python",
   "name": "python",
   "nbconvert_exporter": "python",
   "pygments_lexer": "ipython3",
   "version": "3.10.6"
  }
 },
 "nbformat": 4,
 "nbformat_minor": 2
}
