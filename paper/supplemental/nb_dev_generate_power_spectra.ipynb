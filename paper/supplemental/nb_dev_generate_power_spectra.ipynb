{
 "cells": [
  {
   "cell_type": "code",
   "execution_count": 7,
   "metadata": {},
   "outputs": [],
   "source": [
    "import os\n",
    "import sys\n",
    "\n",
    "import numpy as np\n",
    "import matplotlib\n",
    "%matplotlib inline\n",
    "import matplotlib.pyplot as plt\n",
    "from matplotlib import colors\n",
    "from hydra import initialize, compose\n",
    "import pickle\n",
    "from glob import glob\n",
    "from pprint import pprint\n",
    "from tqdm import tqdm\n",
    "from pyHalo.preset_models import CDM\n",
    "from pyHalo import plotting_routines\n",
    "from copy import deepcopy\n",
    "from lenstronomy.Util.correlation import power_spectrum_1d\n",
    "from lenstronomy.LensModel.Solver.lens_equation_solver import LensEquationSolver\n",
    "\n",
    "# set paths to various directories based on the machine this code is being executed on\n",
    "with initialize(version_base=None, config_path='config'):  # ../../\n",
    "    config = compose(config_name='config.yaml')  # overrides=['machine=uzay']\n",
    "\n",
    "array_dir, data_dir, figure_dir, pickle_dir, repo_dir  = config.machine.array_dir, config.machine.data_dir, config.machine.figure_dir, config.machine.pickle_dir, config.machine.repo_dir\n",
    "\n",
    "# enable use of local modules\n",
    "if repo_dir not in sys.path:\n",
    "    sys.path.append(repo_dir)\n",
    "\n",
    "# set matplotlib style\n",
    "plt.style.use(f'{repo_dir}/mejiro/mplstyle/science.mplstyle')\n",
    "\n",
    "from mejiro.lenses.test import SampleStrongLens\n",
    "from mejiro.plots import diagnostic_plot, plot, plot_util, overplot\n",
    "from mejiro.analysis import ft\n",
    "from mejiro.utils import util\n",
    "from mejiro.helpers import gs"
   ]
  },
  {
   "cell_type": "markdown",
   "metadata": {},
   "source": [
    "Choose where to save"
   ]
  },
  {
   "cell_type": "code",
   "execution_count": 8,
   "metadata": {},
   "outputs": [],
   "source": [
    "save_dir = os.path.join(array_dir, 'power_spectra')\n",
    "util.create_directory_if_not_exists(save_dir)\n",
    "util.clear_directory(save_dir)"
   ]
  },
  {
   "cell_type": "code",
   "execution_count": 9,
   "metadata": {},
   "outputs": [
    {
     "name": "stdout",
     "output_type": "stream",
     "text": [
      "Collecting 100 lenses...\n",
      "Collected lenses.\n"
     ]
    }
   ],
   "source": [
    "# collect lenses\n",
    "num_lenses = 100\n",
    "print(f'Collecting {num_lenses} lenses...')\n",
    "pickled_lens_list = os.path.join(config.machine.dir_01, '01_hlwas_sim_detectable_lens_list.pkl')\n",
    "# pickled_lens_list = '/data/bwedig/mejiro/archive/2024-04-22 pipeline/01/01_hlwas_sim_detectable_lens_list.pkl'\n",
    "lens_list = util.unpickle(pickled_lens_list)[:num_lenses]\n",
    "# pprint(lens_list)\n",
    "print('Collected lenses.')"
   ]
  },
  {
   "cell_type": "code",
   "execution_count": 10,
   "metadata": {},
   "outputs": [],
   "source": [
    "# set imaging params\n",
    "bands = ['F106']  # , 'F129', 'F184'\n",
    "oversample = 5\n",
    "num_pix = 45\n",
    "side = 4.95\n",
    "\n",
    "# set subhalo params\n",
    "r_tidal = 0.5\n",
    "sigma_sub = 0.055\n",
    "subhalo_cone = 5\n",
    "los_normalization = 0"
   ]
  },
  {
   "cell_type": "code",
   "execution_count": 11,
   "metadata": {},
   "outputs": [],
   "source": [
    "def check_halo_image_alignment(lens, realization):\n",
    "    sorted_halos = sorted(realization.halos, key=lambda x: x.mass, reverse=True)\n",
    "\n",
    "    # get image position\n",
    "    source_x = lens.kwargs_source_dict['F106']['center_x']\n",
    "    source_y = lens.kwargs_source_dict['F106']['center_y']\n",
    "    solver = LensEquationSolver(lens.lens_model_class)\n",
    "    image_x, image_y = solver.image_position_from_source(sourcePos_x=source_x, sourcePos_y=source_y, kwargs_lens=lens.kwargs_lens)\n",
    "\n",
    "    for halo in sorted_halos:\n",
    "        if halo.mass < 1e8:\n",
    "            break\n",
    "        \n",
    "        # calculate distances\n",
    "        for x, y in zip(image_x, image_y):\n",
    "            dist = np.sqrt(np.power(halo.x - x, 2) + np.power(halo.y - y, 2))\n",
    "\n",
    "            # check if halo is within 0.1 arcsec of the image\n",
    "            if dist < 0.1:\n",
    "                return True\n",
    "    \n",
    "    return False\n"
   ]
  },
  {
   "cell_type": "code",
   "execution_count": 12,
   "metadata": {},
   "outputs": [
    {
     "name": "stderr",
     "output_type": "stream",
     "text": [
      "  0%|          | 0/100 [00:00<?, ?it/s]"
     ]
    },
    {
     "name": "stdout",
     "output_type": "stream",
     "text": [
      "Processing lens 00000000...\n"
     ]
    },
    {
     "name": "stdout",
     "output_type": "stream",
     "text": [
      "Generated cut_8 population after 8 iterations.\n",
      "Processing model no_subhalos_00000000...\n",
      "Loading cached PSF: /home/btwedig/mejiro/mejiro/data/cached_psfs/F106_1_2048_2048_5.pkl\n",
      "Processing model cut_6_00000000...\n",
      "Loading cached PSF: /home/btwedig/mejiro/mejiro/data/cached_psfs/F106_1_2048_2048_5.pkl\n",
      "Processing model cut_7_00000000...\n",
      "Loading cached PSF: /home/btwedig/mejiro/mejiro/data/cached_psfs/F106_1_2048_2048_5.pkl\n",
      "Processing model cut_8_00000000...\n",
      "Loading cached PSF: /home/btwedig/mejiro/mejiro/data/cached_psfs/F106_1_2048_2048_5.pkl\n",
      "Processing detector 4, (4, 4092)...\n",
      "Loading cached PSF: /home/btwedig/mejiro/mejiro/data/cached_psfs/F106_4_4_4092_5.pkl\n",
      "Processing detector 1, (2048, 2048)...\n",
      "Loading cached PSF: /home/btwedig/mejiro/mejiro/data/cached_psfs/F106_1_2048_2048_5.pkl\n",
      "Processing detector 9, (4, 4)...\n",
      "Loading cached PSF: /home/btwedig/mejiro/mejiro/data/cached_psfs/F106_9_4_4_5.pkl\n",
      "Processing detector 17, (4092, 4092)...\n"
     ]
    },
    {
     "name": "stderr",
     "output_type": "stream",
     "text": [
      "  1%|          | 1/100 [00:09<15:53,  9.63s/it]"
     ]
    },
    {
     "name": "stdout",
     "output_type": "stream",
     "text": [
      "Loading cached PSF: /home/btwedig/mejiro/mejiro/data/cached_psfs/F106_17_4092_4092_5.pkl\n",
      "Processing lens 00000001...\n",
      "Generated cut_8 population after 71 iterations.\n",
      "Processing model no_subhalos_00000001...\n",
      "Loading cached PSF: /home/btwedig/mejiro/mejiro/data/cached_psfs/F106_1_2048_2048_5.pkl\n",
      "Processing model cut_6_00000001...\n",
      "Loading cached PSF: /home/btwedig/mejiro/mejiro/data/cached_psfs/F106_1_2048_2048_5.pkl\n",
      "Processing model cut_7_00000001...\n",
      "Loading cached PSF: /home/btwedig/mejiro/mejiro/data/cached_psfs/F106_1_2048_2048_5.pkl\n",
      "Processing model cut_8_00000001...\n",
      "Loading cached PSF: /home/btwedig/mejiro/mejiro/data/cached_psfs/F106_1_2048_2048_5.pkl\n",
      "Processing detector 4, (4, 4092)...\n",
      "Loading cached PSF: /home/btwedig/mejiro/mejiro/data/cached_psfs/F106_4_4_4092_5.pkl\n",
      "Processing detector 1, (2048, 2048)...\n",
      "Loading cached PSF: /home/btwedig/mejiro/mejiro/data/cached_psfs/F106_1_2048_2048_5.pkl\n",
      "Processing detector 9, (4, 4)...\n",
      "Loading cached PSF: /home/btwedig/mejiro/mejiro/data/cached_psfs/F106_9_4_4_5.pkl\n",
      "Processing detector 17, (4092, 4092)...\n"
     ]
    },
    {
     "name": "stderr",
     "output_type": "stream",
     "text": [
      "  2%|▏         | 2/100 [00:48<43:21, 26.55s/it]"
     ]
    },
    {
     "name": "stdout",
     "output_type": "stream",
     "text": [
      "Loading cached PSF: /home/btwedig/mejiro/mejiro/data/cached_psfs/F106_17_4092_4092_5.pkl\n",
      "Processing lens 00000002...\n",
      "Generated cut_8 population after 38 iterations.\n",
      "Processing model no_subhalos_00000002...\n",
      "Loading cached PSF: /home/btwedig/mejiro/mejiro/data/cached_psfs/F106_1_2048_2048_5.pkl\n",
      "Processing model cut_6_00000002...\n",
      "Loading cached PSF: /home/btwedig/mejiro/mejiro/data/cached_psfs/F106_1_2048_2048_5.pkl\n",
      "Processing model cut_7_00000002...\n",
      "Loading cached PSF: /home/btwedig/mejiro/mejiro/data/cached_psfs/F106_1_2048_2048_5.pkl\n",
      "Processing model cut_8_00000002...\n",
      "Loading cached PSF: /home/btwedig/mejiro/mejiro/data/cached_psfs/F106_1_2048_2048_5.pkl\n",
      "Processing detector 4, (4, 4092)...\n",
      "Loading cached PSF: /home/btwedig/mejiro/mejiro/data/cached_psfs/F106_4_4_4092_5.pkl\n",
      "Processing detector 1, (2048, 2048)...\n",
      "Loading cached PSF: /home/btwedig/mejiro/mejiro/data/cached_psfs/F106_1_2048_2048_5.pkl\n",
      "Processing detector 9, (4, 4)...\n",
      "Loading cached PSF: /home/btwedig/mejiro/mejiro/data/cached_psfs/F106_9_4_4_5.pkl\n",
      "Processing detector 17, (4092, 4092)...\n"
     ]
    },
    {
     "name": "stderr",
     "output_type": "stream",
     "text": [
      "  3%|▎         | 3/100 [01:07<37:46, 23.36s/it]"
     ]
    },
    {
     "name": "stdout",
     "output_type": "stream",
     "text": [
      "Loading cached PSF: /home/btwedig/mejiro/mejiro/data/cached_psfs/F106_17_4092_4092_5.pkl\n",
      "Processing lens 00000003...\n",
      "Generated cut_8 population after 46 iterations.\n",
      "Processing model no_subhalos_00000003...\n",
      "Loading cached PSF: /home/btwedig/mejiro/mejiro/data/cached_psfs/F106_1_2048_2048_5.pkl\n",
      "Processing model cut_6_00000003...\n",
      "Loading cached PSF: /home/btwedig/mejiro/mejiro/data/cached_psfs/F106_1_2048_2048_5.pkl\n",
      "Processing model cut_7_00000003...\n",
      "Loading cached PSF: /home/btwedig/mejiro/mejiro/data/cached_psfs/F106_1_2048_2048_5.pkl\n",
      "Processing model cut_8_00000003...\n",
      "Loading cached PSF: /home/btwedig/mejiro/mejiro/data/cached_psfs/F106_1_2048_2048_5.pkl\n",
      "Processing detector 4, (4, 4092)...\n",
      "Loading cached PSF: /home/btwedig/mejiro/mejiro/data/cached_psfs/F106_4_4_4092_5.pkl\n",
      "Processing detector 1, (2048, 2048)...\n",
      "Loading cached PSF: /home/btwedig/mejiro/mejiro/data/cached_psfs/F106_1_2048_2048_5.pkl\n",
      "Processing detector 9, (4, 4)...\n",
      "Loading cached PSF: /home/btwedig/mejiro/mejiro/data/cached_psfs/F106_9_4_4_5.pkl\n",
      "Processing detector 17, (4092, 4092)...\n"
     ]
    },
    {
     "name": "stderr",
     "output_type": "stream",
     "text": [
      "  4%|▍         | 4/100 [01:31<37:53, 23.68s/it]"
     ]
    },
    {
     "name": "stdout",
     "output_type": "stream",
     "text": [
      "Loading cached PSF: /home/btwedig/mejiro/mejiro/data/cached_psfs/F106_17_4092_4092_5.pkl\n",
      "Processing lens 00000004...\n",
      "Generated cut_8 population after 97 iterations.\n",
      "Processing model no_subhalos_00000004...\n",
      "Loading cached PSF: /home/btwedig/mejiro/mejiro/data/cached_psfs/F106_1_2048_2048_5.pkl\n",
      "Processing model cut_6_00000004...\n",
      "Loading cached PSF: /home/btwedig/mejiro/mejiro/data/cached_psfs/F106_1_2048_2048_5.pkl\n",
      "Processing model cut_7_00000004...\n",
      "Loading cached PSF: /home/btwedig/mejiro/mejiro/data/cached_psfs/F106_1_2048_2048_5.pkl\n",
      "Processing model cut_8_00000004...\n",
      "Loading cached PSF: /home/btwedig/mejiro/mejiro/data/cached_psfs/F106_1_2048_2048_5.pkl\n",
      "Processing detector 4, (4, 4092)...\n",
      "Loading cached PSF: /home/btwedig/mejiro/mejiro/data/cached_psfs/F106_4_4_4092_5.pkl\n",
      "Processing detector 1, (2048, 2048)...\n",
      "Loading cached PSF: /home/btwedig/mejiro/mejiro/data/cached_psfs/F106_1_2048_2048_5.pkl\n",
      "Processing detector 9, (4, 4)...\n",
      "Loading cached PSF: /home/btwedig/mejiro/mejiro/data/cached_psfs/F106_9_4_4_5.pkl\n",
      "Processing detector 17, (4092, 4092)...\n"
     ]
    },
    {
     "name": "stderr",
     "output_type": "stream",
     "text": [
      "  5%|▌         | 5/100 [02:20<51:42, 32.66s/it]"
     ]
    },
    {
     "name": "stdout",
     "output_type": "stream",
     "text": [
      "Loading cached PSF: /home/btwedig/mejiro/mejiro/data/cached_psfs/F106_17_4092_4092_5.pkl\n",
      "Processing lens 00000005...\n",
      "Generated cut_8 population after 1415 iterations.\n",
      "Processing model no_subhalos_00000005...\n",
      "Loading cached PSF: /home/btwedig/mejiro/mejiro/data/cached_psfs/F106_1_2048_2048_5.pkl\n",
      "Processing model cut_6_00000005...\n",
      "Loading cached PSF: /home/btwedig/mejiro/mejiro/data/cached_psfs/F106_1_2048_2048_5.pkl\n",
      "Processing model cut_7_00000005...\n",
      "Loading cached PSF: /home/btwedig/mejiro/mejiro/data/cached_psfs/F106_1_2048_2048_5.pkl\n",
      "Processing model cut_8_00000005...\n",
      "Loading cached PSF: /home/btwedig/mejiro/mejiro/data/cached_psfs/F106_1_2048_2048_5.pkl\n",
      "Processing detector 4, (4, 4092)...\n",
      "Loading cached PSF: /home/btwedig/mejiro/mejiro/data/cached_psfs/F106_4_4_4092_5.pkl\n",
      "Processing detector 1, (2048, 2048)...\n",
      "Loading cached PSF: /home/btwedig/mejiro/mejiro/data/cached_psfs/F106_1_2048_2048_5.pkl\n",
      "Processing detector 9, (4, 4)...\n",
      "Loading cached PSF: /home/btwedig/mejiro/mejiro/data/cached_psfs/F106_9_4_4_5.pkl\n",
      "Processing detector 17, (4092, 4092)...\n"
     ]
    },
    {
     "name": "stderr",
     "output_type": "stream",
     "text": [
      "  6%|▌         | 6/100 [11:21<5:22:13, 205.68s/it]"
     ]
    },
    {
     "name": "stdout",
     "output_type": "stream",
     "text": [
      "Loading cached PSF: /home/btwedig/mejiro/mejiro/data/cached_psfs/F106_17_4092_4092_5.pkl\n",
      "Processing lens 00000006...\n",
      "Generated cut_8 population after 168 iterations.\n",
      "Processing model no_subhalos_00000006...\n",
      "Loading cached PSF: /home/btwedig/mejiro/mejiro/data/cached_psfs/F106_1_2048_2048_5.pkl\n",
      "Processing model cut_6_00000006...\n",
      "Loading cached PSF: /home/btwedig/mejiro/mejiro/data/cached_psfs/F106_1_2048_2048_5.pkl\n",
      "Processing model cut_7_00000006...\n",
      "Loading cached PSF: /home/btwedig/mejiro/mejiro/data/cached_psfs/F106_1_2048_2048_5.pkl\n",
      "Processing model cut_8_00000006...\n",
      "Loading cached PSF: /home/btwedig/mejiro/mejiro/data/cached_psfs/F106_1_2048_2048_5.pkl\n",
      "Processing detector 4, (4, 4092)...\n",
      "Loading cached PSF: /home/btwedig/mejiro/mejiro/data/cached_psfs/F106_4_4_4092_5.pkl\n",
      "Processing detector 1, (2048, 2048)...\n",
      "Loading cached PSF: /home/btwedig/mejiro/mejiro/data/cached_psfs/F106_1_2048_2048_5.pkl\n",
      "Processing detector 9, (4, 4)...\n",
      "Loading cached PSF: /home/btwedig/mejiro/mejiro/data/cached_psfs/F106_9_4_4_5.pkl\n",
      "Processing detector 17, (4092, 4092)...\n"
     ]
    },
    {
     "name": "stderr",
     "output_type": "stream",
     "text": [
      "  7%|▋         | 7/100 [12:34<4:11:28, 162.25s/it]"
     ]
    },
    {
     "name": "stdout",
     "output_type": "stream",
     "text": [
      "Loading cached PSF: /home/btwedig/mejiro/mejiro/data/cached_psfs/F106_17_4092_4092_5.pkl\n",
      "Processing lens 00000007...\n",
      "Generated cut_8 population after 10 iterations.\n",
      "Processing model no_subhalos_00000007...\n",
      "Loading cached PSF: /home/btwedig/mejiro/mejiro/data/cached_psfs/F106_1_2048_2048_5.pkl\n",
      "Processing model cut_6_00000007...\n",
      "Loading cached PSF: /home/btwedig/mejiro/mejiro/data/cached_psfs/F106_1_2048_2048_5.pkl\n",
      "Processing model cut_7_00000007...\n",
      "Loading cached PSF: /home/btwedig/mejiro/mejiro/data/cached_psfs/F106_1_2048_2048_5.pkl\n",
      "Processing model cut_8_00000007...\n",
      "Loading cached PSF: /home/btwedig/mejiro/mejiro/data/cached_psfs/F106_1_2048_2048_5.pkl\n",
      "Processing detector 4, (4, 4092)...\n",
      "Loading cached PSF: /home/btwedig/mejiro/mejiro/data/cached_psfs/F106_4_4_4092_5.pkl\n",
      "Processing detector 1, (2048, 2048)...\n",
      "Loading cached PSF: /home/btwedig/mejiro/mejiro/data/cached_psfs/F106_1_2048_2048_5.pkl\n",
      "Processing detector 9, (4, 4)...\n",
      "Loading cached PSF: /home/btwedig/mejiro/mejiro/data/cached_psfs/F106_9_4_4_5.pkl\n",
      "Processing detector 17, (4092, 4092)...\n"
     ]
    },
    {
     "name": "stderr",
     "output_type": "stream",
     "text": [
      "  8%|▊         | 8/100 [12:49<2:56:45, 115.28s/it]"
     ]
    },
    {
     "name": "stdout",
     "output_type": "stream",
     "text": [
      "Loading cached PSF: /home/btwedig/mejiro/mejiro/data/cached_psfs/F106_17_4092_4092_5.pkl\n",
      "Processing lens 00000008...\n",
      "Generated cut_8 population after 1 iterations.\n",
      "Processing model no_subhalos_00000008...\n",
      "Loading cached PSF: /home/btwedig/mejiro/mejiro/data/cached_psfs/F106_1_2048_2048_5.pkl\n",
      "Processing model cut_6_00000008...\n",
      "Loading cached PSF: /home/btwedig/mejiro/mejiro/data/cached_psfs/F106_1_2048_2048_5.pkl\n",
      "Processing model cut_7_00000008...\n",
      "Loading cached PSF: /home/btwedig/mejiro/mejiro/data/cached_psfs/F106_1_2048_2048_5.pkl\n",
      "Processing model cut_8_00000008...\n",
      "Loading cached PSF: /home/btwedig/mejiro/mejiro/data/cached_psfs/F106_1_2048_2048_5.pkl\n",
      "Processing detector 4, (4, 4092)...\n",
      "Loading cached PSF: /home/btwedig/mejiro/mejiro/data/cached_psfs/F106_4_4_4092_5.pkl\n",
      "Processing detector 1, (2048, 2048)...\n",
      "Loading cached PSF: /home/btwedig/mejiro/mejiro/data/cached_psfs/F106_1_2048_2048_5.pkl\n",
      "Processing detector 9, (4, 4)...\n",
      "Loading cached PSF: /home/btwedig/mejiro/mejiro/data/cached_psfs/F106_9_4_4_5.pkl\n",
      "Processing detector 17, (4092, 4092)...\n"
     ]
    },
    {
     "name": "stderr",
     "output_type": "stream",
     "text": [
      "  9%|▉         | 9/100 [12:56<2:03:25, 81.38s/it] "
     ]
    },
    {
     "name": "stdout",
     "output_type": "stream",
     "text": [
      "Loading cached PSF: /home/btwedig/mejiro/mejiro/data/cached_psfs/F106_17_4092_4092_5.pkl\n",
      "Processing lens 00000009...\n",
      "Generated cut_8 population after 46 iterations.\n",
      "Processing model no_subhalos_00000009...\n",
      "Loading cached PSF: /home/btwedig/mejiro/mejiro/data/cached_psfs/F106_1_2048_2048_5.pkl\n",
      "Processing model cut_6_00000009...\n",
      "Loading cached PSF: /home/btwedig/mejiro/mejiro/data/cached_psfs/F106_1_2048_2048_5.pkl\n",
      "Processing model cut_7_00000009...\n",
      "Loading cached PSF: /home/btwedig/mejiro/mejiro/data/cached_psfs/F106_1_2048_2048_5.pkl\n",
      "Processing model cut_8_00000009...\n",
      "Loading cached PSF: /home/btwedig/mejiro/mejiro/data/cached_psfs/F106_1_2048_2048_5.pkl\n",
      "Processing detector 4, (4, 4092)...\n",
      "Loading cached PSF: /home/btwedig/mejiro/mejiro/data/cached_psfs/F106_4_4_4092_5.pkl\n",
      "Processing detector 1, (2048, 2048)...\n",
      "Loading cached PSF: /home/btwedig/mejiro/mejiro/data/cached_psfs/F106_1_2048_2048_5.pkl\n",
      "Processing detector 9, (4, 4)...\n",
      "Loading cached PSF: /home/btwedig/mejiro/mejiro/data/cached_psfs/F106_9_4_4_5.pkl\n",
      "Processing detector 17, (4092, 4092)...\n"
     ]
    },
    {
     "name": "stderr",
     "output_type": "stream",
     "text": [
      " 10%|█         | 10/100 [13:17<1:34:24, 62.94s/it]"
     ]
    },
    {
     "name": "stdout",
     "output_type": "stream",
     "text": [
      "Loading cached PSF: /home/btwedig/mejiro/mejiro/data/cached_psfs/F106_17_4092_4092_5.pkl\n",
      "Processing lens 00000010...\n",
      "Generated cut_8 population after 551 iterations.\n",
      "Processing model no_subhalos_00000010...\n",
      "Loading cached PSF: /home/btwedig/mejiro/mejiro/data/cached_psfs/F106_1_2048_2048_5.pkl\n",
      "Processing model cut_6_00000010...\n",
      "Loading cached PSF: /home/btwedig/mejiro/mejiro/data/cached_psfs/F106_1_2048_2048_5.pkl\n",
      "Processing model cut_7_00000010...\n",
      "Loading cached PSF: /home/btwedig/mejiro/mejiro/data/cached_psfs/F106_1_2048_2048_5.pkl\n",
      "Processing model cut_8_00000010...\n",
      "Loading cached PSF: /home/btwedig/mejiro/mejiro/data/cached_psfs/F106_1_2048_2048_5.pkl\n",
      "Processing detector 4, (4, 4092)...\n",
      "Loading cached PSF: /home/btwedig/mejiro/mejiro/data/cached_psfs/F106_4_4_4092_5.pkl\n",
      "Processing detector 1, (2048, 2048)...\n",
      "Loading cached PSF: /home/btwedig/mejiro/mejiro/data/cached_psfs/F106_1_2048_2048_5.pkl\n",
      "Processing detector 9, (4, 4)...\n",
      "Loading cached PSF: /home/btwedig/mejiro/mejiro/data/cached_psfs/F106_9_4_4_5.pkl\n",
      "Processing detector 17, (4092, 4092)...\n"
     ]
    },
    {
     "name": "stderr",
     "output_type": "stream",
     "text": [
      " 11%|█         | 11/100 [16:38<2:35:55, 105.12s/it]"
     ]
    },
    {
     "name": "stdout",
     "output_type": "stream",
     "text": [
      "Loading cached PSF: /home/btwedig/mejiro/mejiro/data/cached_psfs/F106_17_4092_4092_5.pkl\n",
      "Processing lens 00000011...\n",
      "Generated cut_8 population after 319 iterations.\n",
      "Processing model no_subhalos_00000011...\n",
      "Loading cached PSF: /home/btwedig/mejiro/mejiro/data/cached_psfs/F106_1_2048_2048_5.pkl\n",
      "Processing model cut_6_00000011...\n",
      "Loading cached PSF: /home/btwedig/mejiro/mejiro/data/cached_psfs/F106_1_2048_2048_5.pkl\n",
      "Processing model cut_7_00000011...\n",
      "Loading cached PSF: /home/btwedig/mejiro/mejiro/data/cached_psfs/F106_1_2048_2048_5.pkl\n",
      "Processing model cut_8_00000011...\n",
      "Loading cached PSF: /home/btwedig/mejiro/mejiro/data/cached_psfs/F106_1_2048_2048_5.pkl\n",
      "Processing detector 4, (4, 4092)...\n",
      "Loading cached PSF: /home/btwedig/mejiro/mejiro/data/cached_psfs/F106_4_4_4092_5.pkl\n",
      "Processing detector 1, (2048, 2048)...\n",
      "Loading cached PSF: /home/btwedig/mejiro/mejiro/data/cached_psfs/F106_1_2048_2048_5.pkl\n",
      "Processing detector 9, (4, 4)...\n",
      "Loading cached PSF: /home/btwedig/mejiro/mejiro/data/cached_psfs/F106_9_4_4_5.pkl\n",
      "Processing detector 17, (4092, 4092)...\n"
     ]
    },
    {
     "name": "stderr",
     "output_type": "stream",
     "text": [
      " 12%|█▏        | 12/100 [18:47<2:44:53, 112.42s/it]"
     ]
    },
    {
     "name": "stdout",
     "output_type": "stream",
     "text": [
      "Loading cached PSF: /home/btwedig/mejiro/mejiro/data/cached_psfs/F106_17_4092_4092_5.pkl\n",
      "Processing lens 00000012...\n",
      "Generated cut_8 population after 462 iterations.\n",
      "Processing model no_subhalos_00000012...\n",
      "Loading cached PSF: /home/btwedig/mejiro/mejiro/data/cached_psfs/F106_1_2048_2048_5.pkl\n",
      "Processing model cut_6_00000012...\n",
      "Loading cached PSF: /home/btwedig/mejiro/mejiro/data/cached_psfs/F106_1_2048_2048_5.pkl\n",
      "Processing model cut_7_00000012...\n",
      "Loading cached PSF: /home/btwedig/mejiro/mejiro/data/cached_psfs/F106_1_2048_2048_5.pkl\n",
      "Processing model cut_8_00000012...\n",
      "Loading cached PSF: /home/btwedig/mejiro/mejiro/data/cached_psfs/F106_1_2048_2048_5.pkl\n",
      "Processing detector 4, (4, 4092)...\n",
      "Loading cached PSF: /home/btwedig/mejiro/mejiro/data/cached_psfs/F106_4_4_4092_5.pkl\n",
      "Processing detector 1, (2048, 2048)...\n",
      "Loading cached PSF: /home/btwedig/mejiro/mejiro/data/cached_psfs/F106_1_2048_2048_5.pkl\n",
      "Processing detector 9, (4, 4)...\n",
      "Loading cached PSF: /home/btwedig/mejiro/mejiro/data/cached_psfs/F106_9_4_4_5.pkl\n",
      "Processing detector 17, (4092, 4092)...\n"
     ]
    },
    {
     "name": "stderr",
     "output_type": "stream",
     "text": [
      " 13%|█▎        | 13/100 [21:50<3:13:45, 133.62s/it]"
     ]
    },
    {
     "name": "stdout",
     "output_type": "stream",
     "text": [
      "Loading cached PSF: /home/btwedig/mejiro/mejiro/data/cached_psfs/F106_17_4092_4092_5.pkl\n",
      "Processing lens 00000013...\n",
      "Generated cut_8 population after 48 iterations.\n",
      "Processing model no_subhalos_00000013...\n",
      "Loading cached PSF: /home/btwedig/mejiro/mejiro/data/cached_psfs/F106_1_2048_2048_5.pkl\n",
      "Processing model cut_6_00000013...\n",
      "Loading cached PSF: /home/btwedig/mejiro/mejiro/data/cached_psfs/F106_1_2048_2048_5.pkl\n",
      "Processing model cut_7_00000013...\n",
      "Loading cached PSF: /home/btwedig/mejiro/mejiro/data/cached_psfs/F106_1_2048_2048_5.pkl\n",
      "Processing model cut_8_00000013...\n",
      "Loading cached PSF: /home/btwedig/mejiro/mejiro/data/cached_psfs/F106_1_2048_2048_5.pkl\n",
      "Processing detector 4, (4, 4092)...\n",
      "Loading cached PSF: /home/btwedig/mejiro/mejiro/data/cached_psfs/F106_4_4_4092_5.pkl\n",
      "Processing detector 1, (2048, 2048)...\n",
      "Loading cached PSF: /home/btwedig/mejiro/mejiro/data/cached_psfs/F106_1_2048_2048_5.pkl\n",
      "Processing detector 9, (4, 4)...\n",
      "Loading cached PSF: /home/btwedig/mejiro/mejiro/data/cached_psfs/F106_9_4_4_5.pkl\n",
      "Processing detector 17, (4092, 4092)...\n"
     ]
    },
    {
     "name": "stderr",
     "output_type": "stream",
     "text": [
      " 14%|█▍        | 14/100 [22:13<2:23:42, 100.26s/it]"
     ]
    },
    {
     "name": "stdout",
     "output_type": "stream",
     "text": [
      "Loading cached PSF: /home/btwedig/mejiro/mejiro/data/cached_psfs/F106_17_4092_4092_5.pkl\n",
      "Processing lens 00000014...\n",
      "Generated cut_8 population after 46 iterations.\n",
      "Processing model no_subhalos_00000014...\n",
      "Loading cached PSF: /home/btwedig/mejiro/mejiro/data/cached_psfs/F106_1_2048_2048_5.pkl\n",
      "Processing model cut_6_00000014...\n",
      "Loading cached PSF: /home/btwedig/mejiro/mejiro/data/cached_psfs/F106_1_2048_2048_5.pkl\n",
      "Processing model cut_7_00000014...\n",
      "Loading cached PSF: /home/btwedig/mejiro/mejiro/data/cached_psfs/F106_1_2048_2048_5.pkl\n",
      "Processing model cut_8_00000014...\n",
      "Loading cached PSF: /home/btwedig/mejiro/mejiro/data/cached_psfs/F106_1_2048_2048_5.pkl\n",
      "Processing detector 4, (4, 4092)...\n",
      "Loading cached PSF: /home/btwedig/mejiro/mejiro/data/cached_psfs/F106_4_4_4092_5.pkl\n",
      "Processing detector 1, (2048, 2048)...\n",
      "Loading cached PSF: /home/btwedig/mejiro/mejiro/data/cached_psfs/F106_1_2048_2048_5.pkl\n",
      "Processing detector 9, (4, 4)...\n",
      "Loading cached PSF: /home/btwedig/mejiro/mejiro/data/cached_psfs/F106_9_4_4_5.pkl\n",
      "Processing detector 17, (4092, 4092)...\n"
     ]
    },
    {
     "name": "stderr",
     "output_type": "stream",
     "text": [
      " 15%|█▌        | 15/100 [22:39<1:50:17, 77.85s/it] "
     ]
    },
    {
     "name": "stdout",
     "output_type": "stream",
     "text": [
      "Loading cached PSF: /home/btwedig/mejiro/mejiro/data/cached_psfs/F106_17_4092_4092_5.pkl\n",
      "Processing lens 00000015...\n"
     ]
    },
    {
     "name": "stderr",
     "output_type": "stream",
     "text": [
      " 15%|█▌        | 15/100 [39:54<3:46:10, 159.65s/it]\n"
     ]
    },
    {
     "ename": "KeyboardInterrupt",
     "evalue": "",
     "output_type": "error",
     "traceback": [
      "\u001b[0;31m---------------------------------------------------------------------------\u001b[0m",
      "\u001b[0;31mKeyboardInterrupt\u001b[0m                         Traceback (most recent call last)",
      "Cell \u001b[0;32mIn[12], line 14\u001b[0m\n\u001b[1;32m     11\u001b[0m i \u001b[38;5;241m=\u001b[39m \u001b[38;5;241m0\u001b[39m\n\u001b[1;32m     13\u001b[0m \u001b[38;5;28;01mwhile\u001b[39;00m \u001b[38;5;129;01mnot\u001b[39;00m cut_8_good:\n\u001b[0;32m---> 14\u001b[0m     cut_8 \u001b[38;5;241m=\u001b[39m \u001b[43mCDM\u001b[49m\u001b[43m(\u001b[49m\u001b[43mz_lens\u001b[49m\u001b[43m,\u001b[49m\n\u001b[1;32m     15\u001b[0m \u001b[43m                \u001b[49m\u001b[43mz_source\u001b[49m\u001b[43m,\u001b[49m\n\u001b[1;32m     16\u001b[0m \u001b[43m                \u001b[49m\u001b[43msigma_sub\u001b[49m\u001b[38;5;241;43m=\u001b[39;49m\u001b[43msigma_sub\u001b[49m\u001b[43m,\u001b[49m\n\u001b[1;32m     17\u001b[0m \u001b[43m                \u001b[49m\u001b[43mlog_mlow\u001b[49m\u001b[38;5;241;43m=\u001b[39;49m\u001b[38;5;241;43m8.\u001b[39;49m\u001b[43m,\u001b[49m\n\u001b[1;32m     18\u001b[0m \u001b[43m                \u001b[49m\u001b[43mlog_mhigh\u001b[49m\u001b[38;5;241;43m=\u001b[39;49m\u001b[38;5;241;43m10.\u001b[39;49m\u001b[43m,\u001b[49m\n\u001b[1;32m     19\u001b[0m \u001b[43m                \u001b[49m\u001b[43mlog_m_host\u001b[49m\u001b[38;5;241;43m=\u001b[39;49m\u001b[43mlog_m_host\u001b[49m\u001b[43m,\u001b[49m\n\u001b[1;32m     20\u001b[0m \u001b[43m                \u001b[49m\u001b[43mr_tidal\u001b[49m\u001b[38;5;241;43m=\u001b[39;49m\u001b[43mr_tidal\u001b[49m\u001b[43m,\u001b[49m\n\u001b[1;32m     21\u001b[0m \u001b[43m                \u001b[49m\u001b[43mcone_opening_angle_arcsec\u001b[49m\u001b[38;5;241;43m=\u001b[39;49m\u001b[43msubhalo_cone\u001b[49m\u001b[43m,\u001b[49m\n\u001b[1;32m     22\u001b[0m \u001b[43m                \u001b[49m\u001b[43mLOS_normalization\u001b[49m\u001b[38;5;241;43m=\u001b[39;49m\u001b[43mlos_normalization\u001b[49m\u001b[43m)\u001b[49m\n\u001b[1;32m     23\u001b[0m     cut_8_good \u001b[38;5;241m=\u001b[39m check_halo_image_alignment(lens, cut_8)\n\u001b[1;32m     24\u001b[0m     i \u001b[38;5;241m+\u001b[39m\u001b[38;5;241m=\u001b[39m \u001b[38;5;241m1\u001b[39m\n",
      "File \u001b[0;32m/data/scratch/btwedig/.conda/envs/mejiro/lib/python3.11/site-packages/pyHalo/PresetModels/cdm.py:149\u001b[0m, in \u001b[0;36mCDM\u001b[0;34m(z_lens, z_source, sigma_sub, log_mlow, log_mhigh, log10_sigma_sub, concentration_model_subhalos, kwargs_concentration_model_subhalos, concentration_model_fieldhalos, kwargs_concentration_model_fieldhalos, truncation_model_subhalos, kwargs_truncation_model_subhalos, truncation_model_fieldhalos, kwargs_truncation_model_fieldhalos, shmf_log_slope, cone_opening_angle_arcsec, log_m_host, r_tidal, LOS_normalization, two_halo_contribution, delta_power_law_index, geometry_type, kwargs_cosmo, host_scaling_factor, redshift_scaling_factor)\u001b[0m\n\u001b[1;32m    141\u001b[0m     mass_function_class_list \u001b[38;5;241m+\u001b[39m\u001b[38;5;241m=\u001b[39m [ShethTormen]\n\u001b[1;32m    143\u001b[0m kwargs_halo_model \u001b[38;5;241m=\u001b[39m {\u001b[38;5;124m'\u001b[39m\u001b[38;5;124mtruncation_model_subhalos\u001b[39m\u001b[38;5;124m'\u001b[39m: truncation_model_subhalos,\n\u001b[1;32m    144\u001b[0m                      \u001b[38;5;124m'\u001b[39m\u001b[38;5;124mconcentration_model_subhalos\u001b[39m\u001b[38;5;124m'\u001b[39m: concentration_model_subhalos,\n\u001b[1;32m    145\u001b[0m                      \u001b[38;5;124m'\u001b[39m\u001b[38;5;124mtruncation_model_field_halos\u001b[39m\u001b[38;5;124m'\u001b[39m: truncation_model_fieldhalos,\n\u001b[1;32m    146\u001b[0m                      \u001b[38;5;124m'\u001b[39m\u001b[38;5;124mconcentration_model_field_halos\u001b[39m\u001b[38;5;124m'\u001b[39m: concentration_model_fieldhalos,\n\u001b[1;32m    147\u001b[0m                      \u001b[38;5;124m'\u001b[39m\u001b[38;5;124mkwargs_density_profile\u001b[39m\u001b[38;5;124m'\u001b[39m: {}}\n\u001b[0;32m--> 149\u001b[0m realization_list \u001b[38;5;241m=\u001b[39m \u001b[43mpyhalo\u001b[49m\u001b[38;5;241;43m.\u001b[39;49m\u001b[43mrender\u001b[49m\u001b[43m(\u001b[49m\u001b[43mpopulation_model_list\u001b[49m\u001b[43m,\u001b[49m\u001b[43m \u001b[49m\u001b[43mmass_function_class_list\u001b[49m\u001b[43m,\u001b[49m\u001b[43m \u001b[49m\u001b[43mkwargs_mass_function_list\u001b[49m\u001b[43m,\u001b[49m\n\u001b[1;32m    150\u001b[0m \u001b[43m                                      \u001b[49m\u001b[43mspatial_distribution_class_list\u001b[49m\u001b[43m,\u001b[49m\u001b[43m \u001b[49m\u001b[43mkwargs_spatial_distribution_list\u001b[49m\u001b[43m,\u001b[49m\n\u001b[1;32m    151\u001b[0m \u001b[43m                                      \u001b[49m\u001b[43mgeometry\u001b[49m\u001b[43m,\u001b[49m\u001b[43m \u001b[49m\u001b[43mmdef_subhalos\u001b[49m\u001b[43m,\u001b[49m\u001b[43m \u001b[49m\u001b[43mmdef_field_halos\u001b[49m\u001b[43m,\u001b[49m\u001b[43m \u001b[49m\u001b[43mkwargs_halo_model\u001b[49m\u001b[43m,\u001b[49m\u001b[43m \u001b[49m\u001b[43mnrealizations\u001b[49m\u001b[38;5;241;43m=\u001b[39;49m\u001b[38;5;241;43m1\u001b[39;49m\u001b[43m)\u001b[49m\n\u001b[1;32m    152\u001b[0m \u001b[38;5;28;01mreturn\u001b[39;00m realization_list[\u001b[38;5;241m0\u001b[39m]\n",
      "File \u001b[0;32m/data/scratch/btwedig/.conda/envs/mejiro/lib/python3.11/site-packages/pyHalo/pyhalo.py:61\u001b[0m, in \u001b[0;36mpyHalo.render\u001b[0;34m(self, population_model_list, mass_function_class_list, kwargs_mass_function_list, spatial_distribution_class_list, kwargs_spatial_distribution_list, geometry_class, mdef_subhalos, mdef_field_halos, kwargs_halo_model, nrealizations)\u001b[0m\n\u001b[1;32m     59\u001b[0m realization_list \u001b[38;5;241m=\u001b[39m []\n\u001b[1;32m     60\u001b[0m \u001b[38;5;28;01mfor\u001b[39;00m i \u001b[38;5;129;01min\u001b[39;00m \u001b[38;5;28mrange\u001b[39m(\u001b[38;5;241m0\u001b[39m, nrealizations):\n\u001b[0;32m---> 61\u001b[0m     masses, x_arcsec, y_arcsec, r3d, redshifts, subhalo_flag, rendering_classes \u001b[38;5;241m=\u001b[39m \u001b[38;5;28;43mself\u001b[39;49m\u001b[38;5;241;43m.\u001b[39;49m\u001b[43mrender_masses_positions\u001b[49m\u001b[43m(\u001b[49m\u001b[43mpopulation_model_list\u001b[49m\u001b[43m,\u001b[49m\n\u001b[1;32m     62\u001b[0m \u001b[43m                        \u001b[49m\u001b[43mmass_function_class_list\u001b[49m\u001b[43m,\u001b[49m\n\u001b[1;32m     63\u001b[0m \u001b[43m                        \u001b[49m\u001b[43mkwargs_mass_function_list\u001b[49m\u001b[43m,\u001b[49m\n\u001b[1;32m     64\u001b[0m \u001b[43m                        \u001b[49m\u001b[43mspatial_distribution_class_list\u001b[49m\u001b[43m,\u001b[49m\n\u001b[1;32m     65\u001b[0m \u001b[43m                        \u001b[49m\u001b[43mkwargs_spatial_distribution_list\u001b[49m\u001b[43m,\u001b[49m\n\u001b[1;32m     66\u001b[0m \u001b[43m                        \u001b[49m\u001b[43mgeometry_class\u001b[49m\u001b[43m)\u001b[49m\n\u001b[1;32m     67\u001b[0m     realization_list\u001b[38;5;241m.\u001b[39mappend(\u001b[38;5;28mself\u001b[39m\u001b[38;5;241m.\u001b[39mcreate_realization(masses, x_arcsec, y_arcsec, r3d, redshifts, subhalo_flag, rendering_classes,\n\u001b[1;32m     68\u001b[0m                                                     geometry_class, mdef_subhalos, mdef_field_halos, kwargs_halo_model))\n\u001b[1;32m     69\u001b[0m \u001b[38;5;28;01mreturn\u001b[39;00m realization_list\n",
      "File \u001b[0;32m/data/scratch/btwedig/.conda/envs/mejiro/lib/python3.11/site-packages/pyHalo/pyhalo.py:99\u001b[0m, in \u001b[0;36mpyHalo.render_masses_positions\u001b[0;34m(self, population_model_list, mass_function_class_list, kwargs_mass_function, spatial_distribution_class_list, kwargs_spatial_distribution, geometry_class)\u001b[0m\n\u001b[1;32m     89\u001b[0m plane_redshifts, redshift_spacing \u001b[38;5;241m=\u001b[39m generate_lens_plane_redshifts(\u001b[38;5;28mself\u001b[39m\u001b[38;5;241m.\u001b[39mzlens, \u001b[38;5;28mself\u001b[39m\u001b[38;5;241m.\u001b[39mzsource)\n\u001b[1;32m     90\u001b[0m population_model \u001b[38;5;241m=\u001b[39m HaloPopulation(population_model_list,\n\u001b[1;32m     91\u001b[0m                                       mass_function_class_list,\n\u001b[1;32m     92\u001b[0m                                       kwargs_mass_function,\n\u001b[0;32m   (...)\u001b[0m\n\u001b[1;32m     97\u001b[0m                                       plane_redshifts,\n\u001b[1;32m     98\u001b[0m                                       redshift_spacing)\n\u001b[0;32m---> 99\u001b[0m masses, x_arcsec, y_arcsec, r3d, redshifts, subhalo_flag \u001b[38;5;241m=\u001b[39m \u001b[43mpopulation_model\u001b[49m\u001b[38;5;241;43m.\u001b[39;49m\u001b[43mrender\u001b[49m\u001b[43m(\u001b[49m\u001b[43m)\u001b[49m\n\u001b[1;32m    100\u001b[0m \u001b[38;5;28;01mreturn\u001b[39;00m masses, x_arcsec, y_arcsec, r3d, redshifts, subhalo_flag, population_model\u001b[38;5;241m.\u001b[39mrendering_classes\n",
      "File \u001b[0;32m/data/scratch/btwedig/.conda/envs/mejiro/lib/python3.11/site-packages/pyHalo/Rendering/halo_population.py:83\u001b[0m, in \u001b[0;36mHaloPopulation.render\u001b[0;34m(self)\u001b[0m\n\u001b[1;32m     79\u001b[0m is_subhalo_flag \u001b[38;5;241m=\u001b[39m []\n\u001b[1;32m     81\u001b[0m \u001b[38;5;28;01mfor\u001b[39;00m model \u001b[38;5;129;01min\u001b[39;00m \u001b[38;5;28mself\u001b[39m\u001b[38;5;241m.\u001b[39mrendering_classes:\n\u001b[0;32m---> 83\u001b[0m     m, _x, _y, _r3d, _z, sub_flag \u001b[38;5;241m=\u001b[39m \u001b[43mmodel\u001b[49m\u001b[38;5;241;43m.\u001b[39;49m\u001b[43mrender\u001b[49m\u001b[43m(\u001b[49m\u001b[43m)\u001b[49m\n\u001b[1;32m     84\u001b[0m     masses \u001b[38;5;241m=\u001b[39m np\u001b[38;5;241m.\u001b[39mappend(masses, m)\n\u001b[1;32m     85\u001b[0m     x \u001b[38;5;241m=\u001b[39m np\u001b[38;5;241m.\u001b[39mappend(x, _x)\n",
      "File \u001b[0;32m/data/scratch/btwedig/.conda/envs/mejiro/lib/python3.11/site-packages/pyHalo/Rendering/subhalos.py:36\u001b[0m, in \u001b[0;36mSubhalos.render\u001b[0;34m(self)\u001b[0m\n\u001b[1;32m     34\u001b[0m mfunc_model \u001b[38;5;241m=\u001b[39m \u001b[38;5;28mself\u001b[39m\u001b[38;5;241m.\u001b[39m_get_mass_function_model()\n\u001b[1;32m     35\u001b[0m m \u001b[38;5;241m=\u001b[39m mfunc_model\u001b[38;5;241m.\u001b[39mdraw()\n\u001b[0;32m---> 36\u001b[0m x, y, r3d_kpc \u001b[38;5;241m=\u001b[39m \u001b[38;5;28;43mself\u001b[39;49m\u001b[38;5;241;43m.\u001b[39;49m\u001b[43mrender_positions_at_z\u001b[49m\u001b[43m(\u001b[49m\u001b[38;5;28;43mlen\u001b[39;49m\u001b[43m(\u001b[49m\u001b[43mm\u001b[49m\u001b[43m)\u001b[49m\u001b[43m)\u001b[49m\n\u001b[1;32m     37\u001b[0m z \u001b[38;5;241m=\u001b[39m np\u001b[38;5;241m.\u001b[39marray([\u001b[38;5;28mself\u001b[39m\u001b[38;5;241m.\u001b[39m_lens_cosmo\u001b[38;5;241m.\u001b[39mz_lens] \u001b[38;5;241m*\u001b[39m \u001b[38;5;28mlen\u001b[39m(m))\n\u001b[1;32m     38\u001b[0m subhalo_flag \u001b[38;5;241m=\u001b[39m [\u001b[38;5;28;01mTrue\u001b[39;00m] \u001b[38;5;241m*\u001b[39m \u001b[38;5;28mlen\u001b[39m(m)\n",
      "File \u001b[0;32m/data/scratch/btwedig/.conda/envs/mejiro/lib/python3.11/site-packages/pyHalo/Rendering/subhalos.py:49\u001b[0m, in \u001b[0;36mSubhalos.render_positions_at_z\u001b[0;34m(self, nhalos)\u001b[0m\n\u001b[1;32m     41\u001b[0m \u001b[38;5;28;01mdef\u001b[39;00m \u001b[38;5;21mrender_positions_at_z\u001b[39m(\u001b[38;5;28mself\u001b[39m, nhalos):\n\u001b[1;32m     43\u001b[0m \u001b[38;5;250m    \u001b[39m\u001b[38;5;124;03m\"\"\"\u001b[39;00m\n\u001b[1;32m     44\u001b[0m \u001b[38;5;124;03m    :param nhalos: number of halos or objects to generate\u001b[39;00m\n\u001b[1;32m     45\u001b[0m \u001b[38;5;124;03m    :return: the x, y coordinate of objects in arcsec, and a 3 dimensional coordinate in kpc\u001b[39;00m\n\u001b[1;32m     46\u001b[0m \u001b[38;5;124;03m    The 3d coordinate only has a clear physical interpretation for subhalos, and is used to compute truncation raddi.\u001b[39;00m\n\u001b[1;32m     47\u001b[0m \u001b[38;5;124;03m    For line of sight halos it is set to None.\u001b[39;00m\n\u001b[1;32m     48\u001b[0m \u001b[38;5;124;03m    \"\"\"\u001b[39;00m\n\u001b[0;32m---> 49\u001b[0m     out \u001b[38;5;241m=\u001b[39m \u001b[38;5;28;43mself\u001b[39;49m\u001b[38;5;241;43m.\u001b[39;49m\u001b[43m_spatial_distribution_model\u001b[49m\u001b[38;5;241;43m.\u001b[39;49m\u001b[43mdraw\u001b[49m\u001b[43m(\u001b[49m\u001b[43mnhalos\u001b[49m\u001b[43m,\u001b[49m\u001b[43m \u001b[49m\u001b[38;5;28;43mself\u001b[39;49m\u001b[38;5;241;43m.\u001b[39;49m\u001b[43m_lens_cosmo\u001b[49m\u001b[38;5;241;43m.\u001b[39;49m\u001b[43mz_lens\u001b[49m\u001b[43m)\u001b[49m\n\u001b[1;32m     50\u001b[0m     \u001b[38;5;28;01mif\u001b[39;00m \u001b[38;5;28mself\u001b[39m\u001b[38;5;241m.\u001b[39m_spatial_distribution_model\u001b[38;5;241m.\u001b[39mname \u001b[38;5;129;01min\u001b[39;00m [\u001b[38;5;124m'\u001b[39m\u001b[38;5;124mUNIFORM\u001b[39m\u001b[38;5;124m'\u001b[39m, \u001b[38;5;124m'\u001b[39m\u001b[38;5;124mLENS_CONE_UNIFORM\u001b[39m\u001b[38;5;124m'\u001b[39m]:\n\u001b[1;32m     51\u001b[0m         x_kpc, y_kpc \u001b[38;5;241m=\u001b[39m out[\u001b[38;5;241m0\u001b[39m], out[\u001b[38;5;241m1\u001b[39m]\n",
      "File \u001b[0;32m/data/scratch/btwedig/.conda/envs/mejiro/lib/python3.11/site-packages/pyHalo/Rendering/SpatialDistributions/nfw.py:80\u001b[0m, in \u001b[0;36mProjectedNFW.draw\u001b[0;34m(self, N, z_plane)\u001b[0m\n\u001b[1;32m     78\u001b[0m rho3d_integral \u001b[38;5;241m=\u001b[39m [rho3d[i] \u001b[38;5;241m*\u001b[39m (x3d[i\u001b[38;5;241m+\u001b[39m\u001b[38;5;241m1\u001b[39m]\u001b[38;5;241m*\u001b[39m\u001b[38;5;241m*\u001b[39m\u001b[38;5;241m3\u001b[39m \u001b[38;5;241m-\u001b[39m x3d[i]\u001b[38;5;241m*\u001b[39m\u001b[38;5;241m*\u001b[39m\u001b[38;5;241m3\u001b[39m) \u001b[38;5;28;01mfor\u001b[39;00m i \u001b[38;5;129;01min\u001b[39;00m \u001b[38;5;28mrange\u001b[39m(\u001b[38;5;241m0\u001b[39m, \u001b[38;5;28mlen\u001b[39m(x3d)\u001b[38;5;241m-\u001b[39m\u001b[38;5;241m1\u001b[39m)]\n\u001b[1;32m     79\u001b[0m function_3d \u001b[38;5;241m=\u001b[39m interp1d(x3d[\u001b[38;5;241m0\u001b[39m:\u001b[38;5;241m-\u001b[39m\u001b[38;5;241m1\u001b[39m], rho3d_integral)\n\u001b[0;32m---> 80\u001b[0m r3d_arcsec \u001b[38;5;241m=\u001b[39m \u001b[43minverse_transform_sampling\u001b[49m\u001b[43m(\u001b[49m\u001b[43mx3d\u001b[49m\u001b[43m[\u001b[49m\u001b[38;5;241;43m0\u001b[39;49m\u001b[43m:\u001b[49m\u001b[38;5;241;43m-\u001b[39;49m\u001b[38;5;241;43m1\u001b[39;49m\u001b[43m]\u001b[49m\u001b[43m,\u001b[49m\u001b[43m \u001b[49m\u001b[43mfunction_3d\u001b[49m\u001b[43m,\u001b[49m\u001b[43m \u001b[49m\u001b[43m(\u001b[49m\u001b[43m)\u001b[49m\u001b[43m,\u001b[49m\u001b[43m \u001b[49m\u001b[43mN\u001b[49m\u001b[43m)\u001b[49m\n\u001b[1;32m     81\u001b[0m r3d_kpc \u001b[38;5;241m=\u001b[39m r3d_arcsec \u001b[38;5;241m*\u001b[39m \u001b[38;5;28mself\u001b[39m\u001b[38;5;241m.\u001b[39m_arcsec_to_kpc\n\u001b[1;32m     83\u001b[0m \u001b[38;5;28;01mreturn\u001b[39;00m x_kpc, y_kpc, r3d_kpc\n",
      "File \u001b[0;32m/data/scratch/btwedig/.conda/envs/mejiro/lib/python3.11/site-packages/pyHalo/utilities.py:61\u001b[0m, in \u001b[0;36minverse_transform_sampling\u001b[0;34m(x, function, args, n_samples)\u001b[0m\n\u001b[1;32m     59\u001b[0m y \u001b[38;5;241m=\u001b[39m function(x, \u001b[38;5;241m*\u001b[39margs)\n\u001b[1;32m     60\u001b[0m cdf \u001b[38;5;241m=\u001b[39m np\u001b[38;5;241m.\u001b[39mcumsum(y)\n\u001b[0;32m---> 61\u001b[0m \u001b[38;5;28;01mreturn\u001b[39;00m \u001b[43minverse_transform_sampling_from_cdf\u001b[49m\u001b[43m(\u001b[49m\u001b[43mx\u001b[49m\u001b[43m,\u001b[49m\u001b[43m \u001b[49m\u001b[43mcdf\u001b[49m\u001b[43m,\u001b[49m\u001b[43m \u001b[49m\u001b[43mn_samples\u001b[49m\u001b[43m)\u001b[49m\n",
      "File \u001b[0;32m/data/scratch/btwedig/.conda/envs/mejiro/lib/python3.11/site-packages/pyHalo/utilities.py:72\u001b[0m, in \u001b[0;36minverse_transform_sampling_from_cdf\u001b[0;34m(x, cdf, n_samples)\u001b[0m\n\u001b[1;32m     64\u001b[0m \u001b[38;5;250m\u001b[39m\u001b[38;5;124;03m\"\"\"\u001b[39;00m\n\u001b[1;32m     65\u001b[0m \n\u001b[1;32m     66\u001b[0m \u001b[38;5;124;03m:param x: the domain of the function across which you want to obtain samples\u001b[39;00m\n\u001b[0;32m   (...)\u001b[0m\n\u001b[1;32m     69\u001b[0m \u001b[38;5;124;03m:return: samples from the probability density that corresponds to cdf\u001b[39;00m\n\u001b[1;32m     70\u001b[0m \u001b[38;5;124;03m\"\"\"\u001b[39;00m\n\u001b[1;32m     71\u001b[0m cdf \u001b[38;5;241m=\u001b[39m cdf \u001b[38;5;241m*\u001b[39m \u001b[38;5;28mfloat\u001b[39m(np\u001b[38;5;241m.\u001b[39mmax(cdf)) \u001b[38;5;241m*\u001b[39m\u001b[38;5;241m*\u001b[39m \u001b[38;5;241m-\u001b[39m\u001b[38;5;241m1\u001b[39m\n\u001b[0;32m---> 72\u001b[0m cdf_inverse \u001b[38;5;241m=\u001b[39m \u001b[43minterp1d\u001b[49m\u001b[43m(\u001b[49m\u001b[43mcdf\u001b[49m\u001b[43m,\u001b[49m\u001b[43m \u001b[49m\u001b[43mx\u001b[49m\u001b[43m)\u001b[49m\n\u001b[1;32m     73\u001b[0m u \u001b[38;5;241m=\u001b[39m np\u001b[38;5;241m.\u001b[39mrandom\u001b[38;5;241m.\u001b[39muniform(cdf[\u001b[38;5;241m0\u001b[39m], cdf[\u001b[38;5;241m-\u001b[39m\u001b[38;5;241m1\u001b[39m], n_samples)\n\u001b[1;32m     74\u001b[0m \u001b[38;5;28;01mreturn\u001b[39;00m cdf_inverse(u)\n",
      "\u001b[0;31mKeyboardInterrupt\u001b[0m: "
     ]
    }
   ],
   "source": [
    "for lens in tqdm(lens_list):\n",
    "    print(f'Processing lens {lens.uid}...')\n",
    "\n",
    "    lens._set_classes()\n",
    "    \n",
    "    z_lens = round(lens.z_lens, 2)\n",
    "    z_source = round(lens.z_source, 2)\n",
    "    log_m_host = np.log10(lens.main_halo_mass)\n",
    "\n",
    "    cut_8_good = False\n",
    "    i = 0\n",
    "\n",
    "    while not cut_8_good:\n",
    "        cut_8 = CDM(z_lens,\n",
    "                    z_source,\n",
    "                    sigma_sub=sigma_sub,\n",
    "                    log_mlow=8.,\n",
    "                    log_mhigh=10.,\n",
    "                    log_m_host=log_m_host,\n",
    "                    r_tidal=r_tidal,\n",
    "                    cone_opening_angle_arcsec=subhalo_cone,\n",
    "                    LOS_normalization=los_normalization)\n",
    "        cut_8_good = check_halo_image_alignment(lens, cut_8)\n",
    "        i += 1\n",
    "    print(f'Generated cut_8 population after {i} iterations.')\n",
    "\n",
    "    med = CDM(z_lens,\n",
    "            z_source,\n",
    "            sigma_sub=sigma_sub,\n",
    "            log_mlow=7.,\n",
    "            log_mhigh=8.,\n",
    "            log_m_host=log_m_host,\n",
    "            r_tidal=r_tidal,\n",
    "            cone_opening_angle_arcsec=subhalo_cone,\n",
    "            LOS_normalization=los_normalization)\n",
    "    \n",
    "    smol = CDM(z_lens,\n",
    "            z_source,\n",
    "            sigma_sub=sigma_sub,\n",
    "            log_mlow=6.,\n",
    "            log_mhigh=7.,\n",
    "            log_m_host=log_m_host,\n",
    "            r_tidal=r_tidal,\n",
    "            cone_opening_angle_arcsec=subhalo_cone,\n",
    "            LOS_normalization=los_normalization)\n",
    "\n",
    "    cut_7 = cut_8.join(med)\n",
    "    cut_6 = cut_7.join(smol)\n",
    "\n",
    "    util.pickle(os.path.join(save_dir, f'realization_{lens.uid}_cut_8.pkl'), cut_8)\n",
    "    util.pickle(os.path.join(save_dir, f'realization_{lens.uid}_cut_7.pkl'), cut_7)\n",
    "    util.pickle(os.path.join(save_dir, f'realization_{lens.uid}_cut_6.pkl'), cut_6)\n",
    "\n",
    "    lens_cut_6 = deepcopy(lens)\n",
    "    lens_cut_7 = deepcopy(lens)\n",
    "    lens_cut_8 = deepcopy(lens)\n",
    "\n",
    "    lens_cut_6.add_subhalos(cut_6, suppress_output=True)\n",
    "    lens_cut_7.add_subhalos(cut_7, suppress_output=True)\n",
    "    lens_cut_8.add_subhalos(cut_8, suppress_output=True)\n",
    "\n",
    "    lenses = [lens, lens_cut_6, lens_cut_7, lens_cut_8]\n",
    "    titles = [f'no_subhalos_{lens.uid}', f'cut_6_{lens.uid}', f'cut_7_{lens.uid}',\n",
    "                f'cut_8_{lens.uid}']\n",
    "    models = [i.get_array(num_pix=num_pix * oversample, side=side, band='F106') for i in lenses]\n",
    "\n",
    "    for sl, model, title in zip(lenses, models, titles):\n",
    "        print(f'Processing model {title}...')\n",
    "        gs_images, _ = gs.get_images(sl, [model], ['F106'], input_size=num_pix, output_size=num_pix,\n",
    "                                    grid_oversample=oversample, psf_oversample=oversample,\n",
    "                                    detector=1, detector_pos=(2048, 2048), suppress_output=False, validate=False, check_cache=True)\n",
    "        ps, r = power_spectrum_1d(gs_images[0])\n",
    "        np.save(os.path.join(save_dir, f'im_subs_{title}.npy'), gs_images[0])\n",
    "        np.save(os.path.join(save_dir, f'ps_subs_{title}.npy'), ps)\n",
    "    np.save(os.path.join(save_dir, 'r.npy'), r)\n",
    "\n",
    "    detectors = [4, 1, 9, 17]\n",
    "    detector_positions = [(4, 4092), (2048, 2048), (4, 4), (4092, 4092)]\n",
    "\n",
    "    for detector, detector_pos in zip(detectors, detector_positions):\n",
    "        print(f'Processing detector {detector}, {detector_pos}...')\n",
    "        gs_images, _ = gs.get_images(lens_cut_6, [model], ['F106'], input_size=num_pix, output_size=num_pix,\n",
    "                                    grid_oversample=oversample, psf_oversample=oversample,\n",
    "                                    detector=detector, detector_pos=detector_pos, suppress_output=False, validate=False, check_cache=True)\n",
    "        ps, r = power_spectrum_1d(gs_images[0])\n",
    "        np.save(os.path.join(save_dir, f'im_det_{detector}_{lens.uid}.npy'), gs_images[0])\n",
    "        np.save(os.path.join(save_dir, f'ps_det_{detector}_{lens.uid}.npy'), ps)"
   ]
  }
 ],
 "metadata": {
  "kernelspec": {
   "display_name": "mejiro",
   "language": "python",
   "name": "python3"
  },
  "language_info": {
   "codemirror_mode": {
    "name": "ipython",
    "version": 3
   },
   "file_extension": ".py",
   "mimetype": "text/x-python",
   "name": "python",
   "nbconvert_exporter": "python",
   "pygments_lexer": "ipython3",
   "version": "3.11.7"
  }
 },
 "nbformat": 4,
 "nbformat_minor": 2
}
