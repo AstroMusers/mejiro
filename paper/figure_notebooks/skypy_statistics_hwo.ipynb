{
 "cells": [
  {
   "cell_type": "code",
   "execution_count": 10,
   "metadata": {},
   "outputs": [],
   "source": [
    "import os\n",
    "import sys\n",
    "\n",
    "import numpy as np\n",
    "import matplotlib.pyplot as plt\n",
    "from matplotlib import colors\n",
    "from glob import glob\n",
    "import pandas as pd\n",
    "from copy import deepcopy\n",
    "from hydra import initialize, compose\n",
    "import itertools\n",
    "from matplotlib.ticker import MaxNLocator\n",
    "\n",
    "# set paths to various directories based on the machine this code is being executed on\n",
    "with initialize(version_base=None, config_path='config'):  # ../../\n",
    "    config = compose(config_name='config.yaml')  # overrides=['machine=uzay']\n",
    "\n",
    "array_dir, data_dir, figure_dir, pickle_dir, repo_dir  = config.machine.array_dir, config.machine.data_dir, config.machine.figure_dir, config.machine.pickle_dir, config.machine.repo_dir\n",
    "\n",
    "# enable use of local modules\n",
    "if repo_dir not in sys.path:\n",
    "    sys.path.append(repo_dir)\n",
    "\n",
    "# set matplotlib style\n",
    "plt.style.use(f'{repo_dir}/mejiro/mplstyle/science.mplstyle')\n",
    "\n",
    "from mejiro.utils import util"
   ]
  },
  {
   "cell_type": "code",
   "execution_count": 11,
   "metadata": {},
   "outputs": [
    {
     "name": "stdout",
     "output_type": "stream",
     "text": [
      "Wrote combined CSV to /data/bwedig/mejiro/pipeline/00/total_pop.csv\n",
      "Wrote combined CSV to /data/bwedig/mejiro/pipeline/00/detectable_pop.csv\n"
     ]
    }
   ],
   "source": [
    "# combine CSVs from each run into one CSV\n",
    "roman_data_dir = config.machine.dir_00\n",
    "roman_total_csv = os.path.join(roman_data_dir, 'total_pop.csv')\n",
    "roman_detectable_csv = os.path.join(roman_data_dir, 'detectable_pop.csv')\n",
    "util.delete_if_exists(roman_total_csv)\n",
    "util.delete_if_exists(roman_detectable_csv)\n",
    "roman_total_df = util.combine_all_csvs(roman_data_dir, 'total', roman_total_csv)\n",
    "roman_detectable_df = util.combine_all_csvs(roman_data_dir, 'detectable', roman_detectable_csv)"
   ]
  },
  {
   "cell_type": "code",
   "execution_count": 12,
   "metadata": {},
   "outputs": [
    {
     "name": "stdout",
     "output_type": "stream",
     "text": [
      "Wrote combined CSV to /data/bwedig/mejiro/hwo/total_pop.csv\n",
      "Wrote combined CSV to /data/bwedig/mejiro/hwo/detectable_pop.csv\n"
     ]
    }
   ],
   "source": [
    "# combine CSVs from each run into one CSV\n",
    "hwo_data_dir = os.path.join(config.machine.data_dir, 'hwo')\n",
    "hwo_total_csv = os.path.join(hwo_data_dir, 'total_pop.csv')\n",
    "hwo_detectable_csv = os.path.join(hwo_data_dir, 'detectable_pop.csv')\n",
    "util.delete_if_exists(hwo_total_csv)\n",
    "util.delete_if_exists(hwo_detectable_csv)\n",
    "hwo_total_df = util.combine_all_csvs(hwo_data_dir, 'total', hwo_total_csv)\n",
    "hwo_detectable_df = util.combine_all_csvs(hwo_data_dir, 'detectable', hwo_detectable_csv)"
   ]
  },
  {
   "cell_type": "code",
   "execution_count": 13,
   "metadata": {},
   "outputs": [
    {
     "data": {
      "text/plain": [
       "Index(['velodisp', 'massstel', 'angleins', 'redssour', 'redslens', 'magnsour',\n",
       "       'numbimag', 'maxmdistimag', 'magtlenshdi', 'magtsourhdi',\n",
       "       'magtsourMagnifiedhdi'],\n",
       "      dtype='object')"
      ]
     },
     "execution_count": 13,
     "metadata": {},
     "output_type": "execute_result"
    }
   ],
   "source": [
    "hwo_total_df.columns"
   ]
  },
  {
   "cell_type": "markdown",
   "metadata": {},
   "source": [
    "select histograms to show"
   ]
  },
  {
   "cell_type": "code",
   "execution_count": 14,
   "metadata": {},
   "outputs": [],
   "source": [
    "roman_velocity_dispersions = roman_detectable_df.loc[:,'velodisp']\n",
    "roman_masses = roman_detectable_df.loc[:,'massstel'] * 1e12\n",
    "roman_source_redshifts = roman_detectable_df.loc[:,'redssour']\n",
    "roman_lens_redshifts = roman_detectable_df.loc[:,'redslens']\n",
    "roman_einstein_radii = roman_detectable_df.loc[:,'angleins']\n",
    "roman_num_images = roman_detectable_df.loc[:,'numbimag']\n",
    "roman_source_magnitudes = roman_detectable_df.loc[:,'magtsourF106']\n",
    "roman_lens_magnitudes = roman_detectable_df.loc[:,'magtlensF106']\n",
    "\n",
    "roman_total_velocity_dispersions = roman_total_df.loc[:,'velodisp']\n",
    "roman_total_masses = roman_total_df.loc[:,'massstel'] * 1e12\n",
    "roman_total_source_redshifts = roman_total_df.loc[:,'redssour']\n",
    "roman_total_lens_redshifts = roman_total_df.loc[:,'redslens']\n",
    "roman_total_einstein_radii = roman_total_df.loc[:,'angleins']\n",
    "roman_total_num_images = roman_total_df.loc[:,'numbimag']\n",
    "roman_total_source_magnitudes = roman_total_df.loc[:,'magtsourF106']\n",
    "roman_total_lens_magnitudes = roman_total_df.loc[:,'magtlensF106']"
   ]
  },
  {
   "cell_type": "code",
   "execution_count": 15,
   "metadata": {},
   "outputs": [],
   "source": [
    "hwo_velocity_dispersions = hwo_detectable_df.loc[:,'velodisp']\n",
    "hwo_masses = hwo_detectable_df.loc[:,'massstel'] * 1e12\n",
    "hwo_source_redshifts = hwo_detectable_df.loc[:,'redssour']\n",
    "hwo_lens_redshifts = hwo_detectable_df.loc[:,'redslens']\n",
    "hwo_einstein_radii = hwo_detectable_df.loc[:,'angleins']\n",
    "hwo_num_images = hwo_detectable_df.loc[:,'numbimag']\n",
    "hwo_source_magnitudes = hwo_detectable_df.loc[:,'magtsourhdi']\n",
    "hwo_lens_magnitudes = hwo_detectable_df.loc[:,'magtlenshdi']\n",
    "\n",
    "hwo_total_velocity_dispersions = hwo_total_df.loc[:,'velodisp']\n",
    "hwo_total_masses = hwo_total_df.loc[:,'massstel'] * 1e12\n",
    "hwo_total_source_redshifts = hwo_total_df.loc[:,'redssour']\n",
    "hwo_total_lens_redshifts = hwo_total_df.loc[:,'redslens']\n",
    "hwo_total_einstein_radii = hwo_total_df.loc[:,'angleins']\n",
    "hwo_total_num_images = hwo_total_df.loc[:,'numbimag']\n",
    "hwo_total_source_magnitudes = hwo_total_df.loc[:,'magtsourhdi']\n",
    "hwo_total_lens_magnitudes = hwo_total_df.loc[:,'magtlenshdi']"
   ]
  },
  {
   "cell_type": "code",
   "execution_count": 16,
   "metadata": {},
   "outputs": [
    {
     "name": "stdout",
     "output_type": "stream",
     "text": [
      "110734\n",
      "252503\n",
      "5\n",
      "36\n"
     ]
    }
   ],
   "source": [
    "print(len(hwo_total_df))\n",
    "print(len(roman_total_df))\n",
    "print(len(hwo_detectable_df))\n",
    "print(len(roman_detectable_df))"
   ]
  },
  {
   "cell_type": "code",
   "execution_count": 17,
   "metadata": {},
   "outputs": [],
   "source": [
    "roman_snr_files = glob(f'{roman_data_dir}/snr_list_*.npy')\n",
    "roman_snr_list = list(itertools.chain.from_iterable([np.load(f) for f in roman_snr_files]))\n",
    "\n",
    "hwo_snr_files = glob(f'{hwo_data_dir}/snr_list_*.npy')\n",
    "hwo_snr_list = list(itertools.chain.from_iterable([np.load(f) for f in hwo_snr_files]))"
   ]
  },
  {
   "cell_type": "code",
   "execution_count": 18,
   "metadata": {},
   "outputs": [
    {
     "data": {
      "image/png": "[encoded data removed]",
      "text/plain": [
       "<Figure size 700x300 with 6 Axes>"
      ]
     },
     "metadata": {},
     "output_type": "display_data"
    }
   ],
   "source": [
    "f, ax = plt.subplots(nrows=2, ncols=3, figsize=(7, 3), constrained_layout=True)\n",
    "# bins = 10\n",
    "\n",
    "ax[0][0].hist(roman_velocity_dispersions, label='Roman Detectable', alpha=0.5)\n",
    "ax[0][0].hist(hwo_velocity_dispersions, label='HWO Detectable', alpha=0.5)\n",
    "# ax[0][0].hist(roman_total_velocity_dispersions, label='Roman Total', histtype='step', color='purple')\n",
    "# ax[0][0].hist(hwo_total_velocity_dispersions, label='HWO Total', alpha=0.5, color='y')\n",
    "ax[0][0].set_xlabel('$\\sigma_v$ [km/s]')\n",
    "ax[0][0].set_yscale('log')\n",
    "\n",
    "ax[0][1].hist(roman_source_redshifts, label='Roman Source', alpha=0.5)\n",
    "ax[0][1].hist(roman_lens_redshifts, label='Roman Lens', alpha=0.5)\n",
    "# ax[0][1].hist(roman_total_source_redshifts, label='Candidate Source', histtype='step', color='purple')\n",
    "# ax[0][1].hist(roman_total_lens_redshifts, label='Candidate Lens', histtype='step', color='orange')\n",
    "ax[0][1].hist(hwo_source_redshifts, label='HWO Source', alpha=0.5, color='y')\n",
    "ax[0][1].hist(hwo_lens_redshifts, label='HWO Lens', alpha=0.5, color='r')\n",
    "# ax[0][1].hist(hwo_total_source_redshifts, label='Candidate Source', histtype='step', color='purple')\n",
    "# ax[0][1].hist(hwo_total_lens_redshifts, label='Candidate Lens', histtype='step', color='orange')\n",
    "# ax[0][1].axvline(5, color='purple', linestyle='--')\n",
    "# ax[0][1].axvline(2, color='orange', linestyle='--')\n",
    "ax[0][1].set_yscale('log')\n",
    "ax[0][1].set_xlabel('Redshifts')\n",
    "\n",
    "# x1, x2, y1, y2 = 0, 1.2, 0.5, 1e3\n",
    "# zoom_axes = ax[0][1].inset_axes(bounds=[0.475,0.3,0.425,0.45], xlim=(x1, x2), ylim=(y1, y2))\n",
    "# zoom_axes.hist(roman_source_redshifts, label='Roman Source', alpha=0.75)\n",
    "# zoom_axes.hist(roman_lens_redshifts, label='Roman Lens', alpha=0.75)\n",
    "# zoom_axes.hist(hwo_source_redshifts, label='HWO Source', alpha=0.5, color='y')\n",
    "# zoom_axes.hist(hwo_lens_redshifts, label='HWO Lens', alpha=0.5, color='r')\n",
    "# zoom_axes.set_yscale('log')\n",
    "# zoom_axes.tick_params(axis='y', which='both', left=False, labelleft=False)\n",
    "# zoom_axes.set_xticks([0, 1.5])\n",
    "# ax[0][1].indicate_inset_zoom(zoom_axes, edgecolor=\"black\")\n",
    "\n",
    "ax[0][2].hist(roman_source_magnitudes, label='Roman Source', alpha=0.5)\n",
    "ax[0][2].hist(hwo_source_magnitudes, label='HWO Source', alpha=0.5)\n",
    "ax[0][2].hist(roman_lens_magnitudes, label='Roman Lens', alpha=0.5)\n",
    "ax[0][2].hist(hwo_lens_magnitudes, label='HWO Lens', alpha=0.5)\n",
    "# ax[0][2].hist(total_source_magnitudes, label='Total Source', histtype='step', color='purple')\n",
    "# ax[0][2].hist(total_lens_magnitudes, label='Total Lens', histtype='step', color='orange')\n",
    "# ax[0][2].axvline(survey_params['source_cut_band_max'], color='purple', linestyle='--')\n",
    "# ax[0][2].axvline(survey_params['deflector_cut_band_max'], color='orange', linestyle='--')\n",
    "# ax[0][2].set_ylim([0, 250])\n",
    "ax[0][2].set_yscale('log')\n",
    "ax[0][2].set_xlabel('AB Magnitude (F106)')\n",
    "ax[0][2].invert_xaxis()\n",
    "\n",
    "ax[1][0].hist(roman_einstein_radii, label='Roman Detectable', alpha=0.5, align='right')\n",
    "ax[1][0].hist(hwo_einstein_radii, label='HWO Detectable', alpha=0.5, color='y')\n",
    "# ax[1][0].hist(roman_total_einstein_radii, label='Roman Total', histtype='step', color='purple')\n",
    "# ax[1][0].hist(hwo_total_einstein_radii, label='HWO Total', histtype='step', color='purple')\n",
    "# ax[1][0].axvline(0.22, color='r', linestyle='--')  # this should be at 0.4, but bins are aligned funky\n",
    "# ax[1][0].axvline(5 / 2, color='r', linestyle='--')\n",
    "ax[1][0].set_xlabel(r'$\\theta_E$ [arcsec]')\n",
    "ax[1][0].set_yscale('log')\n",
    "# ax[1][0].set_xlim([0,2])\n",
    "\n",
    "counts, edges, bars = ax[1][1].hist(roman_num_images, label='Roman Detectable', alpha=0.5)\n",
    "# ax[1][1].axvline(1, color='r', linestyle='--')\n",
    "# counts_t, edges_t, bars_t = ax[1][0].hist(total_num_images, histtype='step')\n",
    "ax[1][1].set_xlabel('Number of Images')\n",
    "labels = [int(v) if v > 0 else '' for v in counts]\n",
    "ax[1][1].bar_label(bars, labels=labels, label_type='edge')\n",
    "# labels_t = [int(v) if v > 0 else '' for v in counts_t]\n",
    "# ax[1][0].bar_label(bars_t, labels=labels_t, label_type='edge')\n",
    "# ax[1][0].set_yscale('log')\n",
    "# ax[1][1].set_ylim([0., 2.3e3])  # make some space for the bar labels\n",
    "ax[1][1].set_xlim([0.8, 4.8])  # make some space for the bar labels\n",
    "ax[1][1].xaxis.set_major_locator(MaxNLocator(integer=True))\n",
    "# ax[1][0].ticklabel_format(axis='y', style='plain', scilimits=(0,0))\n",
    "\n",
    "ax[1][2].hist(roman_snr_list, label='Roman Detectable', alpha=0.5)\n",
    "ax[1][2].hist(hwo_snr_list, label='HWO Detectable', alpha=0.5)\n",
    "# ax[1][2].hist(roman_snr_list, label='Roman Total', histtype='step', color='purple')\n",
    "# ax[1][2].hist(hwo_snr_list, label='HWO Total', histtype='step', color='purple')\n",
    "# ax[1][2].axvline(x=10, color='r', linestyle='--')\n",
    "ax[1][2].set_xlabel('SNR')\n",
    "ax[1][2].set_yscale('log')\n",
    "# ax[1][0].set_xlim([0,2])\n",
    "\n",
    "handles, labels = ax[0][1].get_legend_handles_labels()\n",
    "f.legend(handles, labels, loc='upper center', ncols=3, bbox_to_anchor=(0.52, 1.2))\n",
    "\n",
    "plt.savefig(os.path.join(figure_dir, 'survey_compare_roman_hwo.png'))\n",
    "plt.show()"
   ]
  }
 ],
 "metadata": {
  "kernelspec": {
   "display_name": "pandeia",
   "language": "python",
   "name": "python3"
  },
  "language_info": {
   "codemirror_mode": {
    "name": "ipython",
    "version": 3
   },
   "file_extension": ".py",
   "mimetype": "text/x-python",
   "name": "python",
   "nbconvert_exporter": "python",
   "pygments_lexer": "ipython3",
   "version": "3.10.6"
  }
 },
 "nbformat": 4,
 "nbformat_minor": 2
}
