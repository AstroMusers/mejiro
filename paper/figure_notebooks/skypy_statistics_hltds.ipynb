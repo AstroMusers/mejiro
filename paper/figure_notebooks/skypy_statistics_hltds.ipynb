{
 "cells": [
  {
   "cell_type": "code",
   "execution_count": 1,
   "metadata": {},
   "outputs": [],
   "source": [
    "SURVEY = 'hltds_deep'"
   ]
  },
  {
   "cell_type": "code",
   "execution_count": 2,
   "metadata": {},
   "outputs": [],
   "source": [
    "import os\n",
    "import sys\n",
    "\n",
    "import numpy as np\n",
    "import matplotlib.pyplot as plt\n",
    "from matplotlib import colors\n",
    "from glob import glob\n",
    "import pandas as pd\n",
    "from copy import deepcopy\n",
    "from hydra import initialize, compose\n",
    "import itertools\n",
    "from matplotlib.ticker import MaxNLocator\n",
    "from pprint import pprint\n",
    "from astropy.table import Table\n",
    "\n",
    "# set paths to various directories based on the machine this code is being executed on\n",
    "try:\n",
    "    with initialize(version_base=None, config_path='config'):  \n",
    "        config = compose(config_name=f'config_{SURVEY}.yaml')  # overrides=['machine=uzay']\n",
    "except:\n",
    "    with initialize(version_base=None, config_path='../../config'):  \n",
    "        config = compose(config_name=f'config_{SURVEY}.yaml')  # overrides=['machine=uzay']\n",
    "\n",
    "array_dir, data_dir, figure_dir, pickle_dir, repo_dir  = config.machine.array_dir, config.machine.data_dir, config.machine.figure_dir, config.machine.pickle_dir, config.machine.repo_dir\n",
    "\n",
    "# enable use of local modules\n",
    "if repo_dir not in sys.path:\n",
    "    sys.path.append(repo_dir)\n",
    "\n",
    "# set matplotlib style\n",
    "plt.style.use(f'{repo_dir}/mejiro/mplstyle/science.mplstyle')\n",
    "\n",
    "from mejiro.utils import util\n",
    "from mejiro.plots import plot_util"
   ]
  },
  {
   "cell_type": "code",
   "execution_count": 3,
   "metadata": {},
   "outputs": [
    {
     "name": "stdout",
     "output_type": "stream",
     "text": [
      "pipeline_dir: /data/bwedig/mejiro/pipeline_hltds_deep\n"
     ]
    }
   ],
   "source": [
    "pipeline_params = util.hydra_to_dict(config.pipeline)\n",
    "debugging = pipeline_params['debugging']\n",
    "# debugging = False\n",
    "total = True\n",
    "\n",
    "if debugging:\n",
    "    pipeline_dir = f'{config.machine.pipeline_dir}_{SURVEY}'\n",
    "else:\n",
    "    pipeline_dir = config.machine.pipeline_dir\n",
    "\n",
    "print(f'pipeline_dir: {pipeline_dir}')"
   ]
  },
  {
   "cell_type": "code",
   "execution_count": 4,
   "metadata": {},
   "outputs": [
    {
     "name": "stdout",
     "output_type": "stream",
     "text": [
      "Wrote combined CSV to /data/bwedig/mejiro/pipeline_hltds_deep/00/detectable_pop.csv\n",
      "Wrote combined CSV to /data/bwedig/mejiro/pipeline_hltds_deep/00/total_pop.csv\n"
     ]
    }
   ],
   "source": [
    "# combine CSVs from each run into one CSV\n",
    "data_dir = os.path.join(pipeline_dir, '00')\n",
    "\n",
    "rebuild = True\n",
    "\n",
    "detectable_csv = os.path.join(data_dir, 'detectable_pop.csv')\n",
    "if rebuild:\n",
    "    util.delete_if_exists(detectable_csv)\n",
    "    detectable_df = util.combine_all_csvs(data_dir, 'detectable', detectable_csv)\n",
    "else: \n",
    "    detectable_df = pd.read_csv(detectable_csv)\n",
    "\n",
    "if total:\n",
    "    total_csv = os.path.join(data_dir, 'total_pop.csv')\n",
    "    if rebuild:\n",
    "        util.delete_if_exists(total_csv)\n",
    "        total_df = util.combine_all_csvs(data_dir, 'total', total_csv)\n",
    "    else:\n",
    "        total_df = pd.read_csv(total_csv)"
   ]
  },
  {
   "cell_type": "code",
   "execution_count": 5,
   "metadata": {},
   "outputs": [],
   "source": [
    "# total_df.columns\n",
    "# hist = total_df.hist(grid=False, figsize=(20, 20))\n",
    "\n",
    "# detectable_df.columns\n",
    "# hist = detectable_df.hist(grid=False, figsize=(20, 20))\n",
    "\n",
    "# slacs_df.columns\n",
    "# hist = slacs_df.hist(grid=False, figsize=(20, 20))\n",
    "# plt.savefig(os.path.join(figure_dir, 'slacs_hist.png'))"
   ]
  },
  {
   "cell_type": "code",
   "execution_count": 6,
   "metadata": {},
   "outputs": [],
   "source": [
    "survey_params = util.hydra_to_dict(config.survey)\n",
    "# pprint(survey_params)\n",
    "\n",
    "source_cut_band = survey_params['source_cut_band']\n",
    "deflector_cut_band = survey_params['deflector_cut_band']\n",
    "snr_threshold = survey_params['snr_threshold']\n",
    "\n",
    "# OVERRIDES\n",
    "# source_cut_band = 'F129'\n",
    "# deflector_cut_band = 'F129'\n",
    "# snr_threshold = 20"
   ]
  },
  {
   "cell_type": "markdown",
   "metadata": {},
   "source": [
    "select histograms to show"
   ]
  },
  {
   "cell_type": "code",
   "execution_count": 7,
   "metadata": {},
   "outputs": [],
   "source": [
    "# detectable lenses\n",
    "velocity_dispersions = detectable_df.loc[:,'velodisp']\n",
    "masses = detectable_df.loc[:,'massstel'] * 1e12\n",
    "source_redshifts = detectable_df.loc[:,'redssour']\n",
    "lens_redshifts = detectable_df.loc[:,'redslens']\n",
    "einstein_radii = detectable_df.loc[:,'angleins']\n",
    "num_images = detectable_df.loc[:,'numbimag']\n",
    "source_magnitudes = detectable_df.loc[:,f'magtsour{source_cut_band}']\n",
    "lens_magnitudes = detectable_df.loc[:,f'magtlens{deflector_cut_band}']\n",
    "\n",
    "# total lenses\n",
    "if total:\n",
    "    total_velocity_dispersions = total_df.loc[:,'velodisp']\n",
    "    total_masses = total_df.loc[:,'massstel'] * 1e12\n",
    "    total_source_redshifts = total_df.loc[:,'redssour']\n",
    "    total_lens_redshifts = total_df.loc[:,'redslens']\n",
    "    total_einstein_radii = total_df.loc[:,'angleins']\n",
    "    total_num_images = total_df.loc[:,'numbimag']\n",
    "    total_source_magnitudes = total_df.loc[:,f'magtsour{source_cut_band}']\n",
    "    total_lens_magnitudes = total_df.loc[:,f'magtlens{deflector_cut_band}']"
   ]
  },
  {
   "cell_type": "markdown",
   "metadata": {},
   "source": [
    "normalize number of images"
   ]
  },
  {
   "cell_type": "code",
   "execution_count": 8,
   "metadata": {},
   "outputs": [],
   "source": [
    "num_2 = len(num_images[num_images == 2])\n",
    "num_3 = len(num_images[num_images == 3])\n",
    "num_4 = len(num_images[num_images == 4])\n",
    "total = len(num_images)\n",
    "\n",
    "normalized_num_2 = num_2 / total\n",
    "normalized_num_3 = num_3 / total\n",
    "normalized_num_4 = num_4 / total"
   ]
  },
  {
   "cell_type": "markdown",
   "metadata": {},
   "source": [
    "get SNRs"
   ]
  },
  {
   "cell_type": "code",
   "execution_count": 9,
   "metadata": {},
   "outputs": [],
   "source": [
    "snr_files = glob(f'{data_dir}/snr_list_*.npy')\n",
    "snr_list = list(itertools.chain.from_iterable([np.load(f) for f in snr_files]))"
   ]
  },
  {
   "cell_type": "code",
   "execution_count": 10,
   "metadata": {},
   "outputs": [
    {
     "name": "stdout",
     "output_type": "stream",
     "text": [
      "Maximum Einstein radius: 2.679219454039586\n"
     ]
    }
   ],
   "source": [
    "# largest Einstein radius\n",
    "max_einstein_radius = max(einstein_radii)\n",
    "print(f'Maximum Einstein radius: {max_einstein_radius}')"
   ]
  },
  {
   "cell_type": "code",
   "execution_count": 11,
   "metadata": {},
   "outputs": [
    {
     "name": "stdout",
     "output_type": "stream",
     "text": [
      "Number of total lens redshifts >= 1: 305\n",
      "In total HLWAS, 1920\n"
     ]
    }
   ],
   "source": [
    "count_lens_redshifts_ge_1 = (lens_redshifts >= 1).sum()\n",
    "print(f'Number of total lens redshifts >= 1: {count_lens_redshifts_ge_1}')\n",
    "print(f'In total HLWAS, {round(count_lens_redshifts_ge_1 * (1700 / 270))}')"
   ]
  },
  {
   "cell_type": "code",
   "execution_count": 12,
   "metadata": {},
   "outputs": [
    {
     "data": {
      "image/png": "[encoded data removed]",
      "text/plain": [
       "<Figure size 700x300 with 6 Axes>"
      ]
     },
     "metadata": {},
     "output_type": "display_data"
    }
   ],
   "source": [
    "f, ax = plt.subplots(nrows=2, ncols=3, figsize=(7, 3), constrained_layout=True)\n",
    "\n",
    "# colors\n",
    "color_lens = 'C0'\n",
    "color_source = 'C1'\n",
    "color_slacs_lens = 'C2'\n",
    "color_slacs_source = 'C3'\n",
    "color_else = 'C5'\n",
    "\n",
    "alpha_detectable_lens = 1.\n",
    "alpha_detectable_source = 0.5\n",
    "alpha_hst_lens = 1\n",
    "alpha_hst_source = 1\n",
    "\n",
    "binwidth = 15\n",
    "bins = np.arange(min(total_velocity_dispersions), max(total_velocity_dispersions) + binwidth, binwidth)\n",
    "if total: ax[0][0].hist(total_velocity_dispersions, label='Total', histtype='step', color=color_lens, bins=bins)\n",
    "ax[0][0].hist(velocity_dispersions, label='Detectable', alpha=alpha_detectable_lens, color=color_lens, bins=bins)\n",
    "ax[0][0].set_xlabel(r'$\\sigma_\\textrm{v}$ [km s$^{-1}$]')\n",
    "ax[0][0].set_yscale('log')\n",
    "\n",
    "binwidth = 0.2\n",
    "bins = np.arange(0, max(total_source_redshifts) + binwidth, binwidth)\n",
    "if total: ax[0][1].hist(total_lens_redshifts, label='Candidate Lens', histtype='step', color=color_lens, bins=bins)  # , align='left'\n",
    "if total: ax[0][1].hist(total_source_redshifts, label='Candidate Source', histtype='step', color=color_source, bins=bins)  # , align='left'\n",
    "ax[0][1].hist(lens_redshifts, label='Detectable Lens', alpha=alpha_detectable_lens, color=color_lens, bins=bins)\n",
    "ax[0][1].hist(source_redshifts, label='Detectable Source', alpha=alpha_detectable_source, color=color_source, bins=bins)\n",
    "ax[0][1].axvline(survey_params['source_z_max'], color=color_source, linestyle='--')\n",
    "ax[0][1].axvline(survey_params['deflector_z_max'], color=color_lens, linestyle='--')\n",
    "ax[0][1].set_yscale('log')\n",
    "ax[0][1].set_xlabel('Redshift')\n",
    "\n",
    "# x1, x2, y1, y2 = 0, 2.25, 0.5, 1e3\n",
    "# zoom_axes = ax[0][1].inset_axes(bounds=[0.475,0.3,0.425,0.45], xlim=(x1, x2), ylim=(y1, y2))\n",
    "# zoom_axes.hist(source_redshifts, label='Detectable Source', alpha=0.75)\n",
    "# zoom_axes.hist(lens_redshifts, label='Detectable Lens', alpha=0.75)\n",
    "# zoom_axes.hist(slacs_source_redshifts, label='SLACS Source', alpha=0.5, color='y')\n",
    "# zoom_axes.hist(slacs_lens_redshifts, label='SLACS Lens', alpha=0.5, color='r')\n",
    "# zoom_axes.set_yscale('log')\n",
    "# zoom_axes.tick_params(axis='y', which='both', left=False, labelleft=False)\n",
    "# zoom_axes.set_xticks([0, 1.5])\n",
    "# ax[0][1].indicate_inset_zoom(zoom_axes, edgecolor=\"black\")\n",
    "\n",
    "binwidth = 0.5\n",
    "bins = np.arange(min(total_lens_magnitudes), max(total_lens_magnitudes) + (binwidth / 2), binwidth)\n",
    "if total: ax[0][2].hist(total_lens_magnitudes, histtype='step', color=color_lens, bins=bins)\n",
    "if total: ax[0][2].hist(total_source_magnitudes, histtype='step', color=color_source, bins=bins)\n",
    "ax[0][2].hist(lens_magnitudes, alpha=alpha_detectable_lens, color=color_lens, bins=bins)\n",
    "ax[0][2].hist(source_magnitudes, alpha=alpha_detectable_source, color=color_source, bins=bins)\n",
    "ax[0][2].axvline(survey_params['source_cut_band_max'], linestyle='-.', color=color_source)\n",
    "ax[0][2].axvline(survey_params['deflector_cut_band_max'], linestyle='--', color=color_lens)\n",
    "ax[0][2].set_yscale('log')\n",
    "assert source_cut_band == deflector_cut_band, 'Source and deflector cut bands must be the same for the label on this plot to be true'\n",
    "ax[0][2].set_xlabel(r'$m_{%s}$' % source_cut_band)\n",
    "# ax[0][2].invert_xaxis()\n",
    "\n",
    "binwidth = 0.1\n",
    "bins = np.arange(0, max(total_einstein_radii) + binwidth, binwidth)\n",
    "if total: ax[1][0].hist(total_einstein_radii, histtype='step', color=color_lens, bins=bins)\n",
    "ax[1][0].hist(einstein_radii, alpha=alpha_detectable_lens, color=color_lens, bins=bins)\n",
    "ax[1][0].axvline(survey_params['min_image_separation'] / 2, linestyle='--', color=color_else)\n",
    "ax[1][0].set_xlabel(r'$\\theta_E$ [arcsec]')\n",
    "ax[1][0].set_yscale('log')\n",
    "# ax[1][0].set_xlim([0,2])\n",
    "\n",
    "labels, counts = np.unique(num_images, return_counts=True)\n",
    "bars = ax[1][1].bar(labels, counts, label='Detectable', alpha=alpha_detectable_source, color=color_source, width=0.25)\n",
    "# counts, edges, bars = ax[1][1].hist(num_images, label='Detectable', alpha=alpha_detectable_source, color=color_source)\n",
    "# bar_2 = ax[1][1].bar(2, normalized_num_2, label='Detectable', alpha=0.5, color=color_source, width=0.25)\n",
    "# bar_3 = ax[1][1].bar(3, normalized_num_3, alpha=0.5, color=color_source, width=0.25)\n",
    "# bar_4 = ax[1][1].bar(4, normalized_num_4, alpha=0.5, color=color_source, width=0.25)\n",
    "ax[1][1].axvline(1, linestyle='--', color=color_else)\n",
    "ax[1][1].set_xlabel('Number of Images')\n",
    "labels = [int(v) if v > 0 else '' for v in counts]\n",
    "ax[1][1].bar_label(bars, labels=labels, label_type='edge')\n",
    "# ax[1][1].bar_label(bar_2, labels=[f'{normalized_num_2:.2f}'], label_type='edge')\n",
    "# ax[1][1].bar_label(bar_3, labels=[f'{normalized_num_3:.2f}'], label_type='edge')\n",
    "# ax[1][1].bar_label(bar_4, labels=[f'{normalized_num_4:.2f}'], label_type='edge')\n",
    "ax[1][1].set_xlim([0.8, 4.8])  # make some horizontal space for the bar labels\n",
    "ax[1][1].set_ylim([0, 1.25 * counts[0]])  # make some vertical space for the bar labels\n",
    "ax[1][1].xaxis.set_major_locator(MaxNLocator(integer=True))\n",
    "# ax[1][0].ticklabel_format(axis='y', style='plain', scilimits=(0,0))\n",
    "\n",
    "bin_width = snr_threshold / 2\n",
    "snr_list = [snr for snr in snr_list]\n",
    "bins = np.arange(min(snr_list), max(snr_list) + bin_width, bin_width)\n",
    "_, bins, _ = ax[1][2].hist(snr_list, bins=bins, label='Total', histtype='step', color=color_source)\n",
    "detectable_snrs = [i for i in snr_list if i > snr_threshold]\n",
    "ax[1][2].hist(detectable_snrs, bins=bins[1:], label='Detectable', alpha=alpha_detectable_source, color=color_source)\n",
    "ax[1][2].axvline(x=snr_threshold, linestyle='--', color=color_else)\n",
    "ax[1][2].set_xlabel('SNR')\n",
    "ax[1][2].set_yscale('log')\n",
    "\n",
    "# create legend using colors and labels from the redshift panel\n",
    "handles, labels = ax[0][1].get_legend_handles_labels()\n",
    "f.legend(handles, labels, loc='upper center', ncols=3, bbox_to_anchor=(0.52, 1.2))\n",
    "\n",
    "plt.savefig(os.path.join(figure_dir, f'skypy_pop_hist_{SURVEY}.png'))\n",
    "plt.show()"
   ]
  }
 ],
 "metadata": {
  "kernelspec": {
   "display_name": "mejiro",
   "language": "python",
   "name": "python3"
  },
  "language_info": {
   "codemirror_mode": {
    "name": "ipython",
    "version": 3
   },
   "file_extension": ".py",
   "mimetype": "text/x-python",
   "name": "python",
   "nbconvert_exporter": "python",
   "pygments_lexer": "ipython3",
   "version": "3.10.6"
  }
 },
 "nbformat": 4,
 "nbformat_minor": 2
}
