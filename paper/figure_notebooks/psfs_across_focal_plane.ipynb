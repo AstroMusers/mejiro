{
 "cells": [
  {
   "cell_type": "code",
   "execution_count": 2,
   "metadata": {},
   "outputs": [],
   "source": [
    "import os\n",
    "import sys\n",
    "from hydra import initialize, compose\n",
    "import matplotlib.pyplot as plt\n",
    "import pysiaf\n",
    "from pysiaf.utils.rotations import attitude\n",
    "from pprint import pprint\n",
    "import numpy as np\n",
    "import webbpsf\n",
    "import matplotlib.patches as patches\n",
    "import matplotlib\n",
    "from mpl_toolkits.axes_grid1 import make_axes_locatable\n",
    "from matplotlib import transforms\n",
    "\n",
    "# set paths to various directories based on the machine this code is being executed on\n",
    "with initialize(version_base=None, config_path='config'):\n",
    "    config = compose(config_name='config.yaml')  # overrides=['machine=uzay']\n",
    "\n",
    "array_dir, data_dir, figure_dir, pickle_dir, repo_dir  = config.machine.array_dir, config.machine.data_dir, config.machine.figure_dir, config.machine.pickle_dir, config.machine.repo_dir\n",
    "\n",
    "# enable use of local modules\n",
    "if repo_dir not in sys.path:\n",
    "    sys.path.append(repo_dir)\n",
    "\n",
    "# set matplotlib style\n",
    "plt.style.use(f'{repo_dir}/mejiro/mplstyle/science.mplstyle')\n",
    "\n",
    "from mejiro.lenses.test import SampleStrongLens\n",
    "from mejiro.plots import diagnostic_plot, plot, plot_util, overplot\n",
    "from mejiro.analysis import stats\n",
    "from mejiro.utils import util\n",
    "from mejiro.helpers import pyhalo, pandeia_input, psf, gs"
   ]
  },
  {
   "cell_type": "code",
   "execution_count": 3,
   "metadata": {},
   "outputs": [],
   "source": [
    "zernikes = np.load(os.path.join(config.machine.data_dir, 'output', 'zernikes', 'sum_z4_z22.npy'))"
   ]
  },
  {
   "cell_type": "code",
   "execution_count": 4,
   "metadata": {},
   "outputs": [
    {
     "name": "stdout",
     "output_type": "stream",
     "text": [
      "WFI01 Xsci Ref: 2044.5\n",
      "WFI01 Ysci Ref: 2044.5\n",
      "WFI01 V2 Ref: 1312.9491452484797\n",
      "WFI01 V3 Ref: -1040.7853726755036\n"
     ]
    }
   ],
   "source": [
    "# Read in the Roman SIAF\n",
    "rsiaf = pysiaf.Siaf('Roman')\n",
    " \n",
    "# Print information about the WFI01_FULL aperture\n",
    "wfi01 = rsiaf['WFI01_FULL']\n",
    "print(f'WFI01 Xsci Ref: {wfi01.XSciRef}')\n",
    "print(f'WFI01 Ysci Ref: {wfi01.YSciRef}')\n",
    "print(f'WFI01 V2 Ref: {wfi01.V2Ref}')\n",
    "print(f'WFI01 V3 Ref: {wfi01.V3Ref}')"
   ]
  },
  {
   "cell_type": "code",
   "execution_count": 5,
   "metadata": {},
   "outputs": [],
   "source": [
    "# Plot the Roman apertures on the telescope (\"V\") frame\n",
    "aperture_labels = [f'WFI{i + 1:02}_FULL' for i in range(18)]\n",
    "roman_apertures = [rsiaf[rap] for rap in aperture_labels]\n",
    "# roman_apertures.append('CGI_CEN')\n",
    "\n",
    "labels = [f'SCA{str(i + 1).zfill(2)}' for i in range(18)]"
   ]
  },
  {
   "cell_type": "code",
   "execution_count": 6,
   "metadata": {},
   "outputs": [
    {
     "name": "stdout",
     "output_type": "stream",
     "text": [
      "Loading cached PSF kernels\n"
     ]
    }
   ],
   "source": [
    "band = 'F184'\n",
    "oversample = 5\n",
    "\n",
    "positions = [(4, 4092), (4, 4092), (2048, 2048), (1024, 3072), (3072, 1024)]\n",
    "detectors = [4, 17, 1, 7, 15]\n",
    "\n",
    "save_dir = os.path.join(data_dir, 'output', 'pysaif')\n",
    "util.create_directory_if_not_exists(save_dir)\n",
    "kernel_save = os.path.join(save_dir, 'kernels.npy')\n",
    "if not os.path.exists(kernel_save):\n",
    "    kernels = [psf.get_psf_kernel(band, det, pos, oversample=oversample) for det, pos in zip(detectors, positions)]\n",
    "    np.save(kernel_save, kernels)\n",
    "else:\n",
    "    print('Loading cached PSF kernels')\n",
    "    kernels = np.load(kernel_save, allow_pickle=True)"
   ]
  },
  {
   "cell_type": "code",
   "execution_count": 7,
   "metadata": {},
   "outputs": [],
   "source": [
    "residuals = [kernels[0] - i for i in kernels[1:]]\n",
    "images = [kernels[0]] + residuals"
   ]
  },
  {
   "cell_type": "code",
   "execution_count": 19,
   "metadata": {},
   "outputs": [
    {
     "data": {
      "image/png": "[encoded data removed]",
      "text/plain": [
       "<Figure size 700x700 with 2 Axes>"
      ]
     },
     "metadata": {},
     "output_type": "display_data"
    }
   ],
   "source": [
    "f, ax = plt.subplots(figsize=(7, 7))\n",
    " \n",
    "for i, ap in enumerate(roman_apertures[:1]):\n",
    "    ap.plot(frame='tel', label=False, units='arcsec', color='black')\n",
    "\n",
    "    # label centers\n",
    "    v2_ref = ap.V2Ref\n",
    "    v3_ref = ap.V3Ref\n",
    "    ax.text(v2_ref, v3_ref, labels[i], ha='center', va='center')\n",
    "\n",
    "    # mark corners\n",
    "    x_list, y_list = ap.corners('tel')\n",
    "    coords = [(x, y) for x, y in zip(x_list, y_list)]\n",
    "    colors = ['red', 'yellow', 'green', 'blue']\n",
    "    for c, color in zip(coords, colors):\n",
    "        ax.plot(c[0], c[1], marker='o', color=color, markersize=5)\n",
    "\n",
    "    # plot\n",
    "    tr = transforms.Affine2D().rotate_deg(-60)\n",
    "    ax_inset = f.add_axes([0.2, 0.4, 0.1, 0.1], anchor='NE', zorder=0)\n",
    "    ax_inset.imshow(zernikes[i], cmap='bwr', alpha=0.5, transform=tr + ax_inset.transData) \n",
    "    ax_inset.set_axis_off()\n",
    "    \n",
    "# mark PSF locations\n",
    "marker_and_line_color = 'black'\n",
    "inset_locations = [[0.9,0.35,0.2,0.2], [0.65,0.8,0.2,0.2], [0.9,0.6,0.2,0.2], [0.9,0.1,0.2,0.2], [0.575,0.575,0.2,0.2]]\n",
    "patch_locations = [[(0,0), (44, 0)], [(0,0), (44, 0)], [(0,0), (44, 0)], [(0,0), (44, 0)], [(0,0), (44, 0)]]\n",
    "\n",
    "# get v\n",
    "v = plot_util.get_v(residuals)\n",
    "norm = plot_util.get_norm(residuals, linear_width=1e-5)\n",
    "\n",
    "# for i, (det, pos, image, inset_location, patch_location) in enumerate(zip(detectors, positions, images, inset_locations, patch_locations)):\n",
    "#     v2, v3 = roman_apertures[det - 1].convert(*pos, from_frame='sci', to_frame='tel')\n",
    "#     circ_coords = (v2, v3)\n",
    "#     circ = patches.Circle(circ_coords, radius=20, color=marker_and_line_color)\n",
    "#     _ = ax.add_patch(circ)\n",
    "#     ax_inset = f.add_axes(inset_location, anchor='NE', zorder=1)\n",
    "\n",
    "#     if i == 0:\n",
    "#         im = ax_inset.imshow(np.log10(image))\n",
    "#     else:\n",
    "#         im = ax_inset.imshow(image, cmap='bwr', norm=norm)\n",
    "\n",
    "#         # divider = make_axes_locatable(ax_inset)\n",
    "#         # cax = divider.append_axes('right', size='5%', pad=0.05)\n",
    "#         # f.colorbar(im, cax=cax, orientation='vertical', ticks=[-10 ** -4, -10 ** -5, 0, 10 ** -5, 10 ** -4])\n",
    "\n",
    "#     ax_inset.spines[:].set_linewidth(2.)\n",
    "#     ax_inset.spines[:].set_color(marker_and_line_color)\n",
    "#     ax_inset.set_xticks([])\n",
    "#     ax_inset.set_yticks([])\n",
    "#     con_b = patches.ConnectionPatch(xyA=patch_location[0], coordsA=ax_inset.transData, xyB=circ_coords, coordsB=ax.transData, linewidth=2, color=marker_and_line_color)\n",
    "#     con_t = patches.ConnectionPatch(xyA=patch_location[1], coordsA=ax_inset.transData, xyB=circ_coords, coordsB=ax.transData, linewidth=2, color=marker_and_line_color)\n",
    "#     ax.add_artist(con_b)\n",
    "#     # ax.add_artist(con_t)\n",
    " \n",
    "# Add guide lines for boresight (V2, V3) = (0, 0)\n",
    "ax.axvline(0, color='black', linestyle=':', alpha=0.3)\n",
    "ax.axhline(0, color='black', linestyle=':', alpha=0.3)\n",
    " \n",
    "# invert the X-axis such that V2 is positive to the left\n",
    "ax.invert_xaxis()\n",
    "\n",
    "ax.set_xlabel('V2 [arcsec]')\n",
    "ax.set_ylabel('V3 [arcsec]')\n",
    "\n",
    "plt.savefig(os.path.join(figure_dir, 'psfs_across_focal_plane.png'))\n",
    "plt.show()"
   ]
  }
 ],
 "metadata": {
  "kernelspec": {
   "display_name": "pysiaf",
   "language": "python",
   "name": "python3"
  },
  "language_info": {
   "codemirror_mode": {
    "name": "ipython",
    "version": 3
   },
   "file_extension": ".py",
   "mimetype": "text/x-python",
   "name": "python",
   "nbconvert_exporter": "python",
   "pygments_lexer": "ipython3",
   "version": "3.11.7"
  }
 },
 "nbformat": 4,
 "nbformat_minor": 2
}
