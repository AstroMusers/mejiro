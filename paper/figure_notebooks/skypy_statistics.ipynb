{
 "cells": [
  {
   "cell_type": "code",
   "execution_count": 1,
   "metadata": {},
   "outputs": [],
   "source": [
    "import os\n",
    "import sys\n",
    "\n",
    "import numpy as np\n",
    "import matplotlib.pyplot as plt\n",
    "from matplotlib import colors\n",
    "from glob import glob\n",
    "import pandas as pd\n",
    "from copy import deepcopy\n",
    "from hydra import initialize, compose\n",
    "import itertools\n",
    "from matplotlib.ticker import MaxNLocator\n",
    "\n",
    "# set paths to various directories based on the machine this code is being executed on\n",
    "with initialize(version_base=None, config_path='config'):  # ../../\n",
    "    config = compose(config_name='config.yaml')  # , overrides=['machine=uzay']\n",
    "\n",
    "array_dir, data_dir, figure_dir, pickle_dir, repo_dir  = config.machine.array_dir, config.machine.data_dir, config.machine.figure_dir, config.machine.pickle_dir, config.machine.repo_dir\n",
    "\n",
    "# enable use of local modules\n",
    "if repo_dir not in sys.path:\n",
    "    sys.path.append(repo_dir)\n",
    "\n",
    "# set matplotlib style\n",
    "plt.style.use(f'{repo_dir}/mejiro/mplstyle/science.mplstyle')\n",
    "\n",
    "from mejiro.utils import util"
   ]
  },
  {
   "cell_type": "code",
   "execution_count": 2,
   "metadata": {},
   "outputs": [
    {
     "name": "stdout",
     "output_type": "stream",
     "text": [
      "Wrote combined CSV to /data/scratch/btwedig/mejiro/pipeline/00/total_pop.csv\n",
      "Wrote combined CSV to /data/scratch/btwedig/mejiro/pipeline/00/detectable_pop.csv\n"
     ]
    }
   ],
   "source": [
    "# combine CSVs from each run into one CSV\n",
    "data_dir = config.machine.dir_00\n",
    "total_csv = os.path.join(data_dir, 'total_pop.csv')\n",
    "detectable_csv = os.path.join(data_dir, 'detectable_pop.csv')\n",
    "util.delete_if_exists(total_csv)\n",
    "util.delete_if_exists(detectable_csv)\n",
    "total_df = util.combine_all_csvs(data_dir, 'total', total_csv)\n",
    "detectable_df = util.combine_all_csvs(data_dir, 'detectable', detectable_csv)"
   ]
  },
  {
   "cell_type": "code",
   "execution_count": 3,
   "metadata": {},
   "outputs": [],
   "source": [
    "# total_df.columns"
   ]
  },
  {
   "cell_type": "code",
   "execution_count": 4,
   "metadata": {},
   "outputs": [],
   "source": [
    "# hist = total_df.hist(grid=False, figsize=(20, 20))"
   ]
  },
  {
   "cell_type": "code",
   "execution_count": 5,
   "metadata": {},
   "outputs": [],
   "source": [
    "# detectable_df.columns"
   ]
  },
  {
   "cell_type": "code",
   "execution_count": 6,
   "metadata": {},
   "outputs": [],
   "source": [
    "# hist = detectable_df.hist(grid=False, figsize=(20, 20))"
   ]
  },
  {
   "cell_type": "code",
   "execution_count": 7,
   "metadata": {},
   "outputs": [],
   "source": [
    "slacs4_path = os.path.join(repo_dir, 'paper', 'supplemental', 'Bolton2008_Table4.csv')\n",
    "slacs4_df = pd.read_csv(slacs4_path)\n",
    "\n",
    "slacs5_path = os.path.join(repo_dir, 'paper', 'supplemental', 'Bolton2008_Table5.csv')\n",
    "slacs5_df = pd.read_csv(slacs5_path)"
   ]
  },
  {
   "cell_type": "code",
   "execution_count": 8,
   "metadata": {},
   "outputs": [],
   "source": [
    "# slacs_df.columns"
   ]
  },
  {
   "cell_type": "code",
   "execution_count": 9,
   "metadata": {},
   "outputs": [],
   "source": [
    "# hist = slacs_df.hist(grid=False, figsize=(20, 20))\n",
    "# plt.savefig(os.path.join(figure_dir, 'slacs_hist.png'))"
   ]
  },
  {
   "cell_type": "code",
   "execution_count": 10,
   "metadata": {},
   "outputs": [],
   "source": [
    "# from pprint import pprint\n",
    "survey_params = util.hydra_to_dict(config.survey)\n",
    "# pprint(survey_params)\n",
    "\n",
    "source_cut_band = survey_params['source_cut_band']\n",
    "deflector_cut_band = survey_params['deflector_cut_band']"
   ]
  },
  {
   "cell_type": "markdown",
   "metadata": {},
   "source": [
    "select histograms to show"
   ]
  },
  {
   "cell_type": "code",
   "execution_count": 11,
   "metadata": {},
   "outputs": [],
   "source": [
    "# detectable lenses\n",
    "velocity_dispersions = detectable_df.loc[:,'velodisp']\n",
    "masses = detectable_df.loc[:,'massstel'] * 1e12\n",
    "source_redshifts = detectable_df.loc[:,'redssour']\n",
    "lens_redshifts = detectable_df.loc[:,'redslens']\n",
    "einstein_radii = detectable_df.loc[:,'angleins']\n",
    "num_images = detectable_df.loc[:,'numbimag']\n",
    "source_magnitudes = detectable_df.loc[:,f'magtsour{source_cut_band}']\n",
    "lens_magnitudes = detectable_df.loc[:,f'magtlens{deflector_cut_band}']\n",
    "# source_x = detectable_df.loc[:,'xpossour']\n",
    "# source_y = detectable_df.loc[:,'ypossour']\n",
    "# lens_x = detectable_df.loc[:,'xposlens']\n",
    "# lens_y = detectable_df.loc[:,'yposlens']\n",
    "\n",
    "# total lenses\n",
    "total_velocity_dispersions = total_df.loc[:,'velodisp']\n",
    "total_masses = total_df.loc[:,'massstel'] * 1e12\n",
    "total_source_redshifts = total_df.loc[:,'redssour']\n",
    "total_lens_redshifts = total_df.loc[:,'redslens']\n",
    "total_einstein_radii = total_df.loc[:,'angleins']\n",
    "total_num_images = total_df.loc[:,'numbimag']\n",
    "total_source_magnitudes = total_df.loc[:,f'magtsour{source_cut_band}']\n",
    "total_lens_magnitudes = total_df.loc[:,f'magtlens{deflector_cut_band}']\n",
    "# total_source_x = total_df.loc[:,'xpossour']\n",
    "# total_source_y = total_df.loc[:,'ypossour']\n",
    "# total_lens_x = total_df.loc[:,'xposlens']\n",
    "# total_lens_y = total_df.loc[:,'yposlens']\n",
    "\n",
    "# SLACS\n",
    "slacs_velocity_dispersions = slacs4_df.loc[:,'sigma']\n",
    "slacs_source_redshifts = slacs4_df.loc[:,'zBG']\n",
    "slacs_lens_redshifts = slacs4_df.loc[:,'zFG']\n",
    "slacs_einstein_radii = slacs5_df.loc[:,'bSIE']"
   ]
  },
  {
   "cell_type": "code",
   "execution_count": 12,
   "metadata": {},
   "outputs": [],
   "source": [
    "snr_files = glob(f'{config.machine.dir_00}/snr_list_*.npy')\n",
    "snr_list = list(itertools.chain.from_iterable([np.load(f) for f in snr_files]))"
   ]
  },
  {
   "cell_type": "code",
   "execution_count": 13,
   "metadata": {},
   "outputs": [
    {
     "data": {
      "image/png": "[encoded data removed]",
      "text/plain": [
       "<Figure size 700x300 with 6 Axes>"
      ]
     },
     "metadata": {},
     "output_type": "display_data"
    }
   ],
   "source": [
    "f, ax = plt.subplots(nrows=2, ncols=3, figsize=(7, 3), constrained_layout=True)\n",
    "# bins = 10\n",
    "\n",
    "ax[0][0].hist(velocity_dispersions, label='Detectable', alpha=0.75)\n",
    "ax[0][0].hist(total_velocity_dispersions, label='Total', histtype='step', color='purple')  # weights=scale_total_det*np.ones_like(total_velocity_dispersions)\n",
    "ax[0][0].hist(slacs_velocity_dispersions, label='SLACS', alpha=0.5, color='y')\n",
    "ax[0][0].set_xlabel('$\\sigma_v$ [km/s]')\n",
    "ax[0][0].set_yscale('log')\n",
    "# ax[0][0].set_ylim([0.5, 4e3])\n",
    "\n",
    "# ax[0][1].hist(masses, label='Detectable', alpha=0.75)  # , bins=bins\n",
    "# ax[0][1].hist(total_masses, label='Total', histtype='step', color='purple')\n",
    "# ax[0][1].set_xlabel(r'$M_{\\textrm{stellar}}$ [$M_\\odot$]')\n",
    "# ax[0][1].set_yscale('log')\n",
    "\n",
    "ax[0][1].hist(source_redshifts, label='Detectable/Detectable Source', alpha=0.75)\n",
    "ax[0][1].hist(lens_redshifts, label='Detectable Lens', alpha=0.75)\n",
    "ax[0][1].hist(total_source_redshifts, label='Candidate Source', histtype='step', color='purple')\n",
    "ax[0][1].hist(total_lens_redshifts, label='Candidate Lens', histtype='step', color='orange')\n",
    "ax[0][1].hist(slacs_source_redshifts, label='SLACS/SLACS Source', alpha=0.5, color='y')\n",
    "ax[0][1].hist(slacs_lens_redshifts, label='SLACS Lens', alpha=0.5, color='r')\n",
    "ax[0][1].axvline(survey_params['source_z_max'], color='purple', linestyle='--')  # TODO get from config\n",
    "ax[0][1].axvline(survey_params['deflector_z_max'], color='orange', linestyle='--')  # TODO get from config\n",
    "ax[0][1].set_yscale('log')\n",
    "# ax[0][1].set_xscale('log')\n",
    "ax[0][1].set_xlabel('Redshifts')\n",
    "# ax[0][1].set_xlim([0, 2])\n",
    "\n",
    "# x1, x2, y1, y2 = 0, 2.25, 0.5, 1e3\n",
    "# zoom_axes = ax[0][1].inset_axes(bounds=[0.475,0.3,0.425,0.45], xlim=(x1, x2), ylim=(y1, y2))\n",
    "# zoom_axes.hist(source_redshifts, label='Detectable Source', alpha=0.75)\n",
    "# zoom_axes.hist(lens_redshifts, label='Detectable Lens', alpha=0.75)\n",
    "# zoom_axes.hist(slacs_source_redshifts, label='SLACS Source', alpha=0.5, color='y')\n",
    "# zoom_axes.hist(slacs_lens_redshifts, label='SLACS Lens', alpha=0.5, color='r')\n",
    "# zoom_axes.set_yscale('log')\n",
    "# zoom_axes.tick_params(axis='y', which='both', left=False, labelleft=False)\n",
    "# zoom_axes.set_xticks([0, 1.5])\n",
    "# ax[0][1].indicate_inset_zoom(zoom_axes, edgecolor=\"black\")\n",
    "\n",
    "ax[0][2].hist(source_magnitudes, label='Source', alpha=0.75)\n",
    "ax[0][2].hist(lens_magnitudes, label='Lens', alpha=0.75)\n",
    "ax[0][2].hist(total_source_magnitudes, label='Total Source', histtype='step', color='purple')\n",
    "ax[0][2].hist(total_lens_magnitudes, label='Total Lens', histtype='step', color='orange')\n",
    "ax[0][2].axvline(survey_params['source_cut_band_max'], color='purple', linestyle='--')\n",
    "ax[0][2].axvline(survey_params['deflector_cut_band_max'], color='orange', linestyle='--')\n",
    "# ax[0][2].set_ylim([0, 250])\n",
    "ax[0][2].set_yscale('log')\n",
    "assert source_cut_band == deflector_cut_band, 'Source and deflector cut bands must be the same for the label on this plot to be true'\n",
    "ax[0][2].set_xlabel(f'AB Magnitude ({source_cut_band})')\n",
    "ax[0][2].invert_xaxis()\n",
    "\n",
    "ax[1][0].hist(einstein_radii, label='Detectable', alpha=0.75, align='right')\n",
    "ax[1][0].hist(total_einstein_radii, label='Total', histtype='step', color='purple')\n",
    "ax[1][0].hist(slacs_einstein_radii, label='SLACS', alpha=0.5, color='y')\n",
    "ax[1][0].axvline(0.2, color='r', linestyle='--')  # this should be at 0.4, but bins are aligned funky\n",
    "# ax[1][0].axvline(5 / 2, color='r', linestyle='--')\n",
    "ax[1][0].set_xlabel(r'$\\theta_E$ [arcsec]')\n",
    "ax[1][0].set_yscale('log')\n",
    "# ax[1][0].set_xlim([0,2])\n",
    "\n",
    "counts, edges, bars = ax[1][1].hist(num_images, label='Detectable', alpha=0.75)\n",
    "ax[1][1].axvline(1, color='r', linestyle='--')\n",
    "# counts_t, edges_t, bars_t = ax[1][0].hist(total_num_images, histtype='step')\n",
    "ax[1][1].set_xlabel('Number of Images')\n",
    "labels = [int(v) if v > 0 else '' for v in counts]\n",
    "ax[1][1].bar_label(bars, labels=labels, label_type='edge')\n",
    "# labels_t = [int(v) if v > 0 else '' for v in counts_t]\n",
    "# ax[1][0].bar_label(bars_t, labels=labels_t, label_type='edge')\n",
    "ax[1][1].set_ylim([0., 1.5e3])  # make some space for the bar labels\n",
    "ax[1][1].set_xlim([0.8, 4.8])  # make some space for the bar labels\n",
    "ax[1][1].xaxis.set_major_locator(MaxNLocator(integer=True))\n",
    "# ax[1][0].ticklabel_format(axis='y', style='plain', scilimits=(0,0))\n",
    "\n",
    "# TODO it'd be nice if the histogram step and filled in line up better -- look into this\n",
    "ax[1][2].hist([i for i in snr_list if i > survey_params['snr_threshold']], label='Detectable', alpha=0.75)\n",
    "ax[1][2].hist(snr_list, label='Total', histtype='step', color='purple')\n",
    "ax[1][2].axvline(x=survey_params['snr_threshold'], color='r', linestyle='--')\n",
    "ax[1][2].set_xlabel('SNR')\n",
    "ax[1][2].set_yscale('log')\n",
    "# ax[1][0].set_xlim([0,2])\n",
    "\n",
    "handles, labels = ax[0][1].get_legend_handles_labels()\n",
    "f.legend(handles, labels, loc='upper center', ncols=3, bbox_to_anchor=(0.52, 1.2))\n",
    "\n",
    "# plt.legend(loc='upper center', ncols=3)\n",
    "plt.savefig(os.path.join(figure_dir, 'skypy_pop_hist.png'))\n",
    "plt.show()"
   ]
  }
 ],
 "metadata": {
  "kernelspec": {
   "display_name": "pandeia",
   "language": "python",
   "name": "python3"
  },
  "language_info": {
   "codemirror_mode": {
    "name": "ipython",
    "version": 3
   },
   "file_extension": ".py",
   "mimetype": "text/x-python",
   "name": "python",
   "nbconvert_exporter": "python",
   "pygments_lexer": "ipython3",
   "version": "3.11.7"
  }
 },
 "nbformat": 4,
 "nbformat_minor": 2
}
