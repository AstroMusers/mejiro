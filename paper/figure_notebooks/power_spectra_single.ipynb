{
 "cells": [
  {
   "cell_type": "code",
   "execution_count": 1,
   "metadata": {},
   "outputs": [],
   "source": [
    "import os\n",
    "import sys\n",
    "\n",
    "import numpy as np\n",
    "import matplotlib\n",
    "%matplotlib inline\n",
    "import matplotlib.pyplot as plt\n",
    "from matplotlib import colors\n",
    "from hydra import initialize, compose\n",
    "import pickle\n",
    "from glob import glob\n",
    "from pprint import pprint\n",
    "import galsim\n",
    "from pyHalo.preset_models import CDM\n",
    "from copy import deepcopy\n",
    "from lenstronomy.Util.correlation import power_spectrum_1d\n",
    "from matplotlib.lines import Line2D\n",
    "from lenstronomy.Plots import plot_util as len_plot_util\n",
    "\n",
    "# set paths to various directories based on the machine this code is being executed on\n",
    "with initialize(version_base=None, config_path='config'):  # ../../\n",
    "    config = compose(config_name='config.yaml')  # overrides=['machine=uzay']\n",
    "\n",
    "array_dir, data_dir, figure_dir, pickle_dir, repo_dir  = config.machine.array_dir, config.machine.data_dir, config.machine.figure_dir, config.machine.pickle_dir, config.machine.repo_dir\n",
    "\n",
    "# enable use of local modules\n",
    "if repo_dir not in sys.path:\n",
    "    sys.path.append(repo_dir)\n",
    "\n",
    "# set matplotlib style\n",
    "plt.style.use(f'{repo_dir}/mejiro/mplstyle/science.mplstyle')\n",
    "\n",
    "from mejiro.plots import plot_util\n",
    "from mejiro.utils import util"
   ]
  },
  {
   "cell_type": "code",
   "execution_count": 2,
   "metadata": {},
   "outputs": [],
   "source": [
    "ps_dir = os.path.join(data_dir, 'output', 'power_spectra_parallelized')\n",
    "r = np.load(os.path.join(ps_dir, 'r.npy'))"
   ]
  },
  {
   "cell_type": "code",
   "execution_count": 5,
   "metadata": {},
   "outputs": [
    {
     "name": "stdout",
     "output_type": "stream",
     "text": [
      "run: 058\n"
     ]
    }
   ],
   "source": [
    "run = str(np.random.randint(0, 100)).zfill(3)\n",
    "print(f'run: {run}')\n",
    "\n",
    "# load\n",
    "r = np.load(os.path.join(ps_dir, 'r.npy'))\n",
    "kappa_r = np.load(os.path.join(ps_dir, 'kappa_r.npy'))\n",
    "wdm_realization = util.unpickle(os.path.join(ps_dir, f'wdm_realization_*_run{run}.pkl'))\n",
    "mdm_realization = util.unpickle(os.path.join(ps_dir, f'mdm_realization_*_run{run}.pkl'))\n",
    "cdm_realization = util.unpickle(os.path.join(ps_dir, f'cdm_realization_*_run{run}.pkl'))\n",
    "kappa_ps_wdm = np.load(glob(os.path.join(ps_dir, f'ps_kappa_wdm_*_run{run}.npy'))[0])\n",
    "kappa_ps_mdm = np.load(glob(os.path.join(ps_dir, f'ps_kappa_mdm_*_run{run}.npy'))[0])\n",
    "kappa_ps_cdm = np.load(glob(os.path.join(ps_dir, f'ps_kappa_cdm_*_run{run}.npy'))[0])\n",
    "res_ps_wdm = np.load(glob(os.path.join(ps_dir, f'res_ps_wdm_*_run{run}.npy'))[0])\n",
    "res_ps_mdm = np.load(glob(os.path.join(ps_dir, f'res_ps_mdm_*_run{run}.npy'))[0])\n",
    "res_ps_pos_1 = np.load(glob(os.path.join(ps_dir, f'res_ps_pos_1_*_run{run}.npy'))[0])\n",
    "res_ps_pos_2 = np.load(glob(os.path.join(ps_dir, f'res_ps_pos_2_*_run{run}.npy'))[0])\n",
    "res_ps_pos_3 = np.load(glob(os.path.join(ps_dir, f'res_ps_pos_3_*_run{run}.npy'))[0])\n",
    "res_ps_pos_4 = np.load(glob(os.path.join(ps_dir, f'res_ps_pos_4_*_run{run}.npy'))[0])\n",
    "res_ps_pos_5 = np.load(glob(os.path.join(ps_dir, f'res_ps_pos_5_*_run{run}.npy'))[0])\n",
    "res_ps_pos_6 = np.load(glob(os.path.join(ps_dir, f'res_ps_pos_6_*_run{run}.npy'))[0])\n",
    "res_ps_pos_7 = np.load(glob(os.path.join(ps_dir, f'res_ps_pos_7_*_run{run}.npy'))[0])\n",
    "res_ps_pos_8 = np.load(glob(os.path.join(ps_dir, f'res_ps_pos_8_*_run{run}.npy'))[0])\n",
    "res_ps_pos_9 = np.load(glob(os.path.join(ps_dir, f'res_ps_pos_9_*_run{run}.npy'))[0])\n",
    "res_ps_pos_10 = np.load(glob(os.path.join(ps_dir, f'res_ps_pos_10_*_run{run}.npy'))[0])\n",
    "res_ps_pos_11 = np.load(glob(os.path.join(ps_dir, f'res_ps_pos_11_*_run{run}.npy'))[0])\n",
    "res_ps_pos_12 = np.load(glob(os.path.join(ps_dir, f'res_ps_pos_12_*_run{run}.npy'))[0])\n",
    "res_ps_pos_13 = np.load(glob(os.path.join(ps_dir, f'res_ps_pos_13_*_run{run}.npy'))[0])\n",
    "res_ps_pos_14 = np.load(glob(os.path.join(ps_dir, f'res_ps_pos_14_*_run{run}.npy'))[0])\n",
    "res_ps_pos_15 = np.load(glob(os.path.join(ps_dir, f'res_ps_pos_15_*_run{run}.npy'))[0])\n",
    "res_ps_pos_16 = np.load(glob(os.path.join(ps_dir, f'res_ps_pos_16_*_run{run}.npy'))[0])\n",
    "res_ps_pos_17 = np.load(glob(os.path.join(ps_dir, f'res_ps_pos_17_*_run{run}.npy'))[0])\n",
    "res_ps_pos_18 = np.load(glob(os.path.join(ps_dir, f'res_ps_pos_18_*_run{run}.npy'))[0])"
   ]
  },
  {
   "cell_type": "markdown",
   "metadata": {},
   "source": [
    "Plot"
   ]
  },
  {
   "cell_type": "code",
   "execution_count": 8,
   "metadata": {},
   "outputs": [
    {
     "data": {
      "image/png": "[encoded data removed]",
      "text/plain": [
       "<Figure size 350x300 with 1 Axes>"
      ]
     },
     "metadata": {},
     "output_type": "display_data"
    }
   ],
   "source": [
    "_, ax = plt.subplots(figsize=(3.5, 3), constrained_layout=True)\n",
    "\n",
    "ax.plot(r, res_ps_wdm, color='C0', label='WDM')\n",
    "ax.plot(r, res_ps_mdm, color='C1', label='MDM')\n",
    "ax.plot(r, res_ps_pos_1, color='C2', label='Position 1')\n",
    "ax.plot(r, res_ps_pos_2, color='C3', label='Position 2')\n",
    "ax.plot(r, res_ps_pos_3, color='C4', label='Position 3')\n",
    "\n",
    "ax.set_xscale('log')\n",
    "\n",
    "plt.legend()\n",
    "plt.savefig(os.path.join(figure_dir, 'power_spectra_single.png'), dpi=1200)\n",
    "plt.show()"
   ]
  }
 ],
 "metadata": {
  "kernelspec": {
   "display_name": "pandeia",
   "language": "python",
   "name": "python3"
  },
  "language_info": {
   "codemirror_mode": {
    "name": "ipython",
    "version": 3
   },
   "file_extension": ".py",
   "mimetype": "text/x-python",
   "name": "python",
   "nbconvert_exporter": "python",
   "pygments_lexer": "ipython3",
   "version": "3.10.6"
  }
 },
 "nbformat": 4,
 "nbformat_minor": 2
}
