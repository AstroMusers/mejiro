{
 "cells": [
  {
   "cell_type": "code",
   "execution_count": 1,
   "metadata": {},
   "outputs": [],
   "source": [
    "import os\n",
    "import sys\n",
    "\n",
    "import numpy as np\n",
    "import matplotlib\n",
    "%matplotlib inline\n",
    "import matplotlib.pyplot as plt\n",
    "from matplotlib import colors\n",
    "from hydra import initialize, compose\n",
    "import pickle\n",
    "from glob import glob\n",
    "from pprint import pprint\n",
    "from tqdm import tqdm\n",
    "\n",
    "# set paths to various directories based on the machine this code is being executed on\n",
    "with initialize(version_base=None, config_path='config'):\n",
    "    config = compose(config_name='config.yaml')  # overrides=['machine=uzay']\n",
    "\n",
    "array_dir, data_dir, figure_dir, pickle_dir, repo_dir  = config.machine.array_dir, config.machine.data_dir, config.machine.figure_dir, config.machine.pickle_dir, config.machine.repo_dir\n",
    "\n",
    "# enable use of local modules\n",
    "if repo_dir not in sys.path:\n",
    "    sys.path.append(repo_dir)\n",
    "\n",
    "# set matplotlib style\n",
    "# plt.style.use(f'{repo_dir}/mejiro/mplstyle/science.mplstyle')\n",
    "\n",
    "from mejiro.lenses.test import SampleStrongLens\n",
    "from mejiro.plots import diagnostic_plot, plot, plot_util, overplot\n",
    "from mejiro.analysis import stats\n",
    "from mejiro.utils import util\n",
    "from mejiro.helpers import gs"
   ]
  },
  {
   "cell_type": "code",
   "execution_count": 2,
   "metadata": {},
   "outputs": [],
   "source": [
    "# open pickled lens list\n",
    "pickles = glob(os.path.join(config.machine.dir_01, '01_hlwas_sim_detectable_lenses_sca*.pkl'))\n",
    "scas = [int(f.split('_')[-1].split('.')[0][3:]) for f in pickles]\n",
    "scas = sorted([str(sca).zfill(2) for sca in scas])\n",
    "sca_dict = {}\n",
    "total = 0\n",
    "for sca in scas:\n",
    "    pickle_path = os.path.join(config.machine.dir_01, f'01_hlwas_sim_detectable_lenses_sca{sca}.pkl')\n",
    "    lens_list = util.unpickle(pickle_path)\n",
    "    sca_dict[sca] = lens_list\n",
    "    total += len(lens_list)\n",
    "count = total\n",
    "assert total != 0, f'No pickled lenses found. Check {config.machine.dir_01}.'"
   ]
  },
  {
   "cell_type": "code",
   "execution_count": 3,
   "metadata": {},
   "outputs": [
    {
     "name": "stdout",
     "output_type": "stream",
     "text": [
      "SCA 01: 2 lenses\n",
      "SCA 02: 4 lenses\n",
      "SCA 03: 7 lenses\n",
      "SCA 04: 1 lenses\n",
      "SCA 05: 4 lenses\n",
      "SCA 06: 5 lenses\n",
      "SCA 07: 3 lenses\n",
      "SCA 08: 1 lenses\n",
      "SCA 09: 2 lenses\n",
      "SCA 10: 1 lenses\n",
      "SCA 11: 4 lenses\n",
      "SCA 12: 2 lenses\n",
      "SCA 13: 2 lenses\n",
      "SCA 14: 1 lenses\n",
      "SCA 15: 2 lenses\n",
      "SCA 16: 2 lenses\n",
      "SCA 17: 3 lenses\n",
      "SCA 18: 3 lenses\n"
     ]
    }
   ],
   "source": [
    "array_list = []\n",
    "for sca, lens_list in sca_dict.items():\n",
    "    print(f'SCA {sca}: {len(lens_list)} lenses')\n",
    "\n",
    "    array_list.append(len(lens_list) * np.ones((100, 100)))"
   ]
  },
  {
   "cell_type": "code",
   "execution_count": 4,
   "metadata": {},
   "outputs": [],
   "source": [
    "count_dict = {}\n",
    "detectable = []\n",
    "characterizable = []\n",
    "\n",
    "for sca, lens_list in sca_dict.items():\n",
    "    detectable.append(len(lens_list))\n",
    "    characterizable.append(len([l for l in lens_list if l.snr > 25]))\n",
    "\n",
    "count_dict['Detectable'] = detectable\n",
    "count_dict['Characterizable'] = characterizable"
   ]
  },
  {
   "cell_type": "code",
   "execution_count": 12,
   "metadata": {},
   "outputs": [
    {
     "data": {
      "image/png": "[encoded data removed]",
      "text/plain": [
       "<Figure size 700x300 with 1 Axes>"
      ]
     },
     "metadata": {},
     "output_type": "display_data"
    }
   ],
   "source": [
    "f, ax = plt.subplots(figsize=(7, 3))\n",
    "\n",
    "x = np.arange(1, len(scas) + 1)\n",
    "width = 0.4\n",
    "multiplier = 0\n",
    "\n",
    "for type, count in count_dict.items():\n",
    "    offset = width * multiplier\n",
    "    ax.bar(x + offset, count, width, label=type, yerr=np.sqrt(count))\n",
    "    multiplier += 1\n",
    "\n",
    "ax.xaxis.set_ticks_position('none')\n",
    "ax.set_xticks(x + (width / 2), scas)\n",
    "ax.yaxis.set_ticks_position('none')\n",
    "ax.set_ylabel('Count')\n",
    "ax.set_xlabel('SCA')\n",
    "ax.legend()\n",
    "\n",
    "plt.savefig(os.path.join(figure_dir, 'detectable_by_sca.png'))\n",
    "plt.show()"
   ]
  }
 ],
 "metadata": {
  "kernelspec": {
   "display_name": "mejiro",
   "language": "python",
   "name": "python3"
  },
  "language_info": {
   "codemirror_mode": {
    "name": "ipython",
    "version": 3
   },
   "file_extension": ".py",
   "mimetype": "text/x-python",
   "name": "python",
   "nbconvert_exporter": "python",
   "pygments_lexer": "ipython3",
   "version": "3.10.6"
  }
 },
 "nbformat": 4,
 "nbformat_minor": 2
}
