{
 "cells": [
  {
   "cell_type": "code",
   "execution_count": 1,
   "metadata": {},
   "outputs": [],
   "source": [
    "import os\n",
    "import sys\n",
    "\n",
    "from astroquery.mast import Observations\n",
    "import numpy as np\n",
    "import matplotlib.pyplot as plt\n",
    "from datetime import timedelta\n",
    "from hydra import initialize, compose\n",
    "\n",
    "# set paths to various directories based on the machine this code is being executed on\n",
    "try:\n",
    "    with initialize(version_base=None, config_path='config'):  \n",
    "        config = compose(config_name='config.yaml')  # overrides=['machine=uzay']\n",
    "except:\n",
    "    with initialize(version_base=None, config_path='../../config'):  \n",
    "        config = compose(config_name='config.yaml')  # overrides=['machine=uzay']\n",
    "\n",
    "array_dir, data_dir, figure_dir, pickle_dir, repo_dir  = config.machine.array_dir, config.machine.data_dir, config.machine.figure_dir, config.machine.pickle_dir, config.machine.repo_dir\n",
    "\n",
    "# enable use of local modules\n",
    "if repo_dir not in sys.path:\n",
    "    sys.path.append(repo_dir)\n",
    "\n",
    "# set matplotlib style\n",
    "plt.style.use(f'{repo_dir}/mejiro/mplstyle/science.mplstyle')"
   ]
  },
  {
   "cell_type": "markdown",
   "metadata": {},
   "source": [
    "First, calculate how much time HST spent on strong lens science. We'll take this to be the amount of observing time for the Sloan Lens ACS Survey ([Bolton et al. 2008](https://iopscience.iop.org/article/10.1086/589327)), CASTLES ([Munoz et al. 1998](https://ui.adsabs.harvard.edu/abs/1998Ap%26SS.263...51M/abstract), [Falco et al. 1999](https://ui.adsabs.harvard.edu/abs/1999astro.ph.10025F/abstract)), and BELLS GALLERY ([Shu et al. 2016](https://ui.adsabs.harvard.edu/abs/2016ApJ...824...86S/abstract)). The associated HST proposals are listed below:\n",
    "\n",
    "* [Dark-matter halos and evolution of high-z early-type galaxies\n",
    "HST Proposal 10174](https://archive.stsci.edu/proposal_search.php?id=10174&mission=hst)\n",
    "* [Imaging the mass structure of distant lens galaxies\n",
    "HST Proposal 10494](https://archive.stsci.edu/proposal_search.php?id=10494&mission=hst)\n",
    "* [Dark Halos and Substructure from Arcs & Einstein Rings\n",
    "HST Proposal 10798](https://archive.stsci.edu/proposal_search.php?id=10798&mission=hst)\n",
    "* [Measuring the Mass Dependence of Early-Type Galaxy Structure\n",
    "HST Proposal 10587](https://archive.stsci.edu/proposal_search.php?id=10587&mission=hst)\n",
    "* [The Sloan Lens ACS Survey: Towards 100 New Strong Lenses\n",
    "HST Proposal 10886](https://archive.stsci.edu/proposal_search.php?id=10886&mission=hst)\n",
    "* [Quantifying Cold Dark Matter Substructure with a Qualitatively New Gravitational Lens Sample HST Proposal 14189](https://www.stsci.edu/cgi-bin/get-proposal-info?id=14189&observatory=HST)\n",
    "* [Survey of Gravitational Lenses as Cosmological Tools HST Proposal 7495](https://www.stsci.edu/cgi-bin/get-proposal-info?id=7495&observatory=HST)\n",
    "* [A Survey of Gravitational Lenses as Cosmological Tools II HST Proposal 7887](https://www.stsci.edu/cgi-bin/get-proposal-info?id=7887&observatory=HST)"
   ]
  },
  {
   "cell_type": "code",
   "execution_count": 2,
   "metadata": {},
   "outputs": [],
   "source": [
    "proposal_ids = ['10174', '10494', '10587', '10798', '10886', '14189', '7495', '7887']"
   ]
  },
  {
   "cell_type": "markdown",
   "metadata": {},
   "source": [
    "Then, we can query the MAST API for all of the observations associated with these HST Proposal IDs and sum the exposure times."
   ]
  },
  {
   "cell_type": "code",
   "execution_count": 3,
   "metadata": {},
   "outputs": [],
   "source": [
    "proposal_dict = {}\n",
    "\n",
    "for proposal_id in proposal_ids:\n",
    "    obs_table = Observations.query_criteria(proposal_id=proposal_id)\n",
    "    proposal_dict[proposal_id] = obs_table"
   ]
  },
  {
   "cell_type": "code",
   "execution_count": 4,
   "metadata": {},
   "outputs": [
    {
     "name": "stdout",
     "output_type": "stream",
     "text": [
      "Proposal ID 10174: 196560.00 seconds or 2 days, 6:36:00\n",
      "Proposal ID 10494: 537177.00 seconds or 6 days, 5:12:57.004655\n",
      "Proposal ID 10587: 160440.00 seconds or 1 day, 20:34:00\n",
      "Proposal ID 10798: 760948.44 seconds or 8 days, 19:22:28.439560\n",
      "Proposal ID 10886: 573381.00 seconds or 6 days, 15:16:21\n",
      "Proposal ID 14189: 262224.00 seconds or 3 days, 0:50:24\n",
      "Proposal ID 7495: 531510.00 seconds or 6 days, 3:38:29.999824\n",
      "Proposal ID 7887: 146167.36 seconds or 1 day, 16:36:07.360000\n",
      "\n",
      "Total time: 3168407.804039219 seconds or 36 days, 16:06:47.804039\n"
     ]
    }
   ],
   "source": [
    "exposure_time_dict = {}\n",
    "total = 0\n",
    "\n",
    "for proposal_id, obs_table in proposal_dict.items():\n",
    "    exposure_times = obs_table['t_exptime']\n",
    "    total_exposure_time = np.nansum(exposure_times)\n",
    "    exposure_time_dict[proposal_id] = total_exposure_time\n",
    "    converted = str(timedelta(seconds=total_exposure_time))\n",
    "    print(f'Proposal ID {proposal_id}: {total_exposure_time:.2f} seconds or {converted}')\n",
    "    total += total_exposure_time\n",
    "\n",
    "print(f'\\nTotal time: {total} seconds or {timedelta(seconds=total)}')"
   ]
  },
  {
   "cell_type": "markdown",
   "metadata": {},
   "source": [
    "The Design Reference Mission allocates 283.6 days to the imaging component of the High Latitude Wide Area Survey."
   ]
  },
  {
   "cell_type": "code",
   "execution_count": 5,
   "metadata": {},
   "outputs": [
    {
     "name": "stdout",
     "output_type": "stream",
     "text": [
      "Design Reference Mission: 283.6 days or 283 days, 14:24:00\n"
     ]
    }
   ],
   "source": [
    "hlis_days = 283.6\n",
    "hlis_sec = hlis_days * 86400\n",
    "\n",
    "print(f'Design Reference Mission: {hlis_days} days or {str(timedelta(seconds=hlis_sec))}')"
   ]
  },
  {
   "cell_type": "markdown",
   "metadata": {},
   "source": [
    "From the [Science Requirements Document](https://asd.gsfc.nasa.gov/romancaa/docs2/RST-SYS-REQ-0020C_SRD.docx), requirement HLIS 2.0.1 says that the high-latitude imaging survey (HLIS) should achive a certain constraint on weak lensing in 1.07 years of observing time. So we interpret this to be the minimum observing time for the HLIS."
   ]
  },
  {
   "cell_type": "code",
   "execution_count": 6,
   "metadata": {},
   "outputs": [],
   "source": [
    "# min_hlis_years = 1.07\n",
    "# min_hlis_sec = min_hlis_years * 31556952\n",
    "\n",
    "# print(f'Science Requirement Minimum: {min_hlis_years} years or {str(timedelta(seconds=min_hlis_sec))}')"
   ]
  },
  {
   "cell_type": "markdown",
   "metadata": {},
   "source": [
    "Convert all to hours"
   ]
  },
  {
   "cell_type": "code",
   "execution_count": 7,
   "metadata": {},
   "outputs": [],
   "source": [
    "for proposal_id, exposure_time in exposure_time_dict.items():\n",
    "    exposure_time_dict[proposal_id] = exposure_time / 3600\n",
    "\n",
    "hlis_hours = hlis_sec / 3600\n",
    "# min_hlis_hours = min_hlis_sec / 3600"
   ]
  },
  {
   "cell_type": "markdown",
   "metadata": {},
   "source": [
    "Collect into surveys"
   ]
  },
  {
   "cell_type": "code",
   "execution_count": 8,
   "metadata": {},
   "outputs": [],
   "source": [
    "slacs_exposure_time = 0\n",
    "bells_gallery_exposure_time = 0\n",
    "castles_exposure_time = 0\n",
    "survey_dict = {}\n",
    "\n",
    "for proposal_id, exposure_time in exposure_time_dict.items():\n",
    "    if proposal_id in ['10174', '10494', '10587', '10798', '10886']:\n",
    "        slacs_exposure_time += exposure_time\n",
    "    elif proposal_id in ['14189']:\n",
    "        bells_gallery_exposure_time += exposure_time\n",
    "    elif proposal_id in ['7495', '7887']:\n",
    "        castles_exposure_time += exposure_time\n",
    "\n",
    "survey_dict['CASTLES'] = castles_exposure_time\n",
    "survey_dict['SLACS'] = slacs_exposure_time\n",
    "survey_dict['BELLS GALLERY'] = bells_gallery_exposure_time"
   ]
  },
  {
   "cell_type": "code",
   "execution_count": 9,
   "metadata": {},
   "outputs": [
    {
     "data": {
      "text/plain": [
       "(619.0295678375, 72.84, 188.24371106228298)"
      ]
     },
     "execution_count": 9,
     "metadata": {},
     "output_type": "execute_result"
    }
   ],
   "source": [
    "slacs_exposure_time, bells_gallery_exposure_time, castles_exposure_time"
   ]
  },
  {
   "cell_type": "markdown",
   "metadata": {},
   "source": [
    "# Plot"
   ]
  },
  {
   "cell_type": "code",
   "execution_count": 11,
   "metadata": {},
   "outputs": [
    {
     "data": {
      "image/png": "[encoded data removed]",
      "text/plain": [
       "<Figure size 350x300 with 1 Axes>"
      ]
     },
     "metadata": {},
     "output_type": "display_data"
    }
   ],
   "source": [
    "fig, ax = plt.subplots(figsize=(3.5, 3))\n",
    "width = 0.4\n",
    "bottom = 0\n",
    "\n",
    "ax.bar('Design Reference Mission\\n' + r'$\\textit{Roman}$ HLWAS', hlis_hours, width)\n",
    "ax.text('Design Reference Mission\\n' + r'$\\textit{Roman}$ HLWAS', hlis_hours + 100, round(hlis_hours), ha='center')\n",
    "\n",
    "# ax.bar('Science Requirement Minimum', min_hlis_hours, width)\n",
    "\n",
    "hst_bar = (r'$\\textit{HST}$')\n",
    "for survey, exposure_time in survey_dict.items():\n",
    "    p = ax.bar(hst_bar, exposure_time, width, label=survey, bottom=bottom)\n",
    "    bottom += exposure_time\n",
    "ax.text(r'$\\textit{HST}$', (total / 3600) + 100, round(total / 3600), ha='center')\n",
    "\n",
    "ax.legend(loc='upper right')  # , prop={'size': 24}\n",
    "ax.set_ylabel('Exposure Time [Hours]')\n",
    "ax.set_yticks([2000, 4000, 6000])\n",
    "ax.set_ylim([0, 7750])\n",
    "\n",
    "plt.savefig(os.path.join(figure_dir, 'exposure_time_comparison.png'))\n",
    "plt.show()"
   ]
  }
 ],
 "metadata": {
  "kernelspec": {
   "display_name": "mejiro_dev",
   "language": "python",
   "name": "python3"
  },
  "language_info": {
   "codemirror_mode": {
    "name": "ipython",
    "version": 3
   },
   "file_extension": ".py",
   "mimetype": "text/x-python",
   "name": "python",
   "nbconvert_exporter": "python",
   "pygments_lexer": "ipython3",
   "version": "3.10.6"
  }
 },
 "nbformat": 4,
 "nbformat_minor": 2
}
