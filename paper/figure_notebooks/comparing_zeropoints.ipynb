{
 "cells": [
  {
   "cell_type": "code",
   "execution_count": 1,
   "metadata": {},
   "outputs": [],
   "source": [
    "import os\n",
    "import sys\n",
    "\n",
    "import numpy as np\n",
    "import matplotlib\n",
    "%matplotlib inline\n",
    "import matplotlib.pyplot as plt\n",
    "from matplotlib import colors\n",
    "from hydra import initialize, compose\n",
    "import pickle\n",
    "from glob import glob\n",
    "from pprint import pprint\n",
    "from tqdm import tqdm\n",
    "from lenstronomy.SimulationAPI.ObservationConfig.Roman import Roman\n",
    "from slsim.Observations.roman_speclite import configure_roman_filters\n",
    "from slsim.Observations.roman_speclite import filter_names\n",
    "import speclite.filters\n",
    "import matplotlib.patches as mpatches\n",
    "\n",
    "# set paths to various directories based on the machine this code is being executed on\n",
    "with initialize(version_base=None, config_path='config'):\n",
    "    config = compose(config_name='config.yaml')  # overrides=['machine=uzay']\n",
    "\n",
    "array_dir, data_dir, figure_dir, pickle_dir, repo_dir  = config.machine.array_dir, config.machine.data_dir, config.machine.figure_dir, config.machine.pickle_dir, config.machine.repo_dir\n",
    "\n",
    "# enable use of local modules\n",
    "if repo_dir not in sys.path:\n",
    "    sys.path.append(repo_dir)\n",
    "\n",
    "# set matplotlib style\n",
    "plt.style.use(f'{repo_dir}/mejiro/mplstyle/science.mplstyle')\n",
    "\n",
    "from mejiro.lenses.test import SampleStrongLens\n",
    "from mejiro.plots import diagnostic_plot, plot, plot_util, overplot\n",
    "from mejiro.analysis import stats\n",
    "from mejiro.utils import util\n",
    "from mejiro.helpers import gs\n",
    "from mejiro.instruments.roman import Roman as RomanInstrument"
   ]
  },
  {
   "cell_type": "code",
   "execution_count": 2,
   "metadata": {},
   "outputs": [],
   "source": [
    "def get_zeropoint_magnitude(wavelength, response, effective_area=4.5 * 1e4):\n",
    "    # effective area in cm^2\n",
    "\n",
    "    # assert that wavelength values are evenly spaced\n",
    "    assert np.allclose(np.diff(wavelength), np.diff(wavelength)[0])\n",
    "\n",
    "    dv = np.diff(wavelength)[0]\n",
    "    integral = 0\n",
    "    for wl, resp in zip(wavelength, response):\n",
    "        integral += (dv * (1 / wl) * resp)\n",
    "    \n",
    "    return 8.9 + (2.5 * np.log10(((effective_area * 1e-23) / (6.602 * 1e-27)) * integral))"
   ]
  },
  {
   "cell_type": "code",
   "execution_count": 3,
   "metadata": {},
   "outputs": [],
   "source": [
    "def get_lenstronomy_zeropoint(band):\n",
    "    if band in ['F087', 'F146']:\n",
    "        survey_mode = 'microlensing'\n",
    "    else:\n",
    "        survey_mode = 'wide_area'\n",
    "    lenstronomy_roman_config = Roman(band=band.upper(),\n",
    "                                    psf_type='PIXEL',\n",
    "                                    survey_mode=survey_mode).kwargs_single_band()\n",
    "    return lenstronomy_roman_config.get('magnitude_zero_point')"
   ]
  },
  {
   "cell_type": "code",
   "execution_count": 4,
   "metadata": {},
   "outputs": [],
   "source": [
    "def get_hounsell_et_al_zeropoint(band):\n",
    "    ab_zeropoints = {\n",
    "        'F062': 26.99,\n",
    "        'F087': 26.39,\n",
    "        'F106': 26.41,\n",
    "        'F129': 26.35,\n",
    "        'F158': 26.41,\n",
    "        'F184': 25.96\n",
    "    }\n",
    "\n",
    "    return ab_zeropoints[band]"
   ]
  },
  {
   "cell_type": "code",
   "execution_count": 5,
   "metadata": {},
   "outputs": [],
   "source": [
    "def get_og_filter_curve_zeropoint(band):\n",
    "    configure_roman_filters()\n",
    "    roman_filters = filter_names()\n",
    "    roman_filters.sort()\n",
    "    og_roman_filters = [speclite.filters.load_filter(f) for f in roman_filters[:8]]\n",
    "\n",
    "    zp_dict = {(filter.name, get_zeropoint_magnitude(filter.wavelength, filter.response)) for filter in og_roman_filters}\n",
    "    return dict(zp_dict)[f'Roman-{band}']"
   ]
  },
  {
   "cell_type": "code",
   "execution_count": 6,
   "metadata": {},
   "outputs": [],
   "source": [
    "roman_bands = ['F062', 'F087', 'F106', 'F129', 'F158', 'F184', 'F213']"
   ]
  },
  {
   "cell_type": "code",
   "execution_count": 12,
   "metadata": {},
   "outputs": [
    {
     "name": "stdout",
     "output_type": "stream",
     "text": [
      "[26.616120158162243,\n",
      " 26.300467567283775,\n",
      " 26.352821683704313,\n",
      " 26.351312274735903,\n",
      " 26.37423811453472,\n",
      " 25.91058238454279,\n",
      " 25.861508980685667]\n"
     ]
    }
   ],
   "source": [
    "# TODO calculate spread/average of SCA-specific zeropoints\n",
    "sca_names = [f'SCA{str(id).zfill(2)}' for id in range(1, 19)]\n",
    "\n",
    "instrument = RomanInstrument()\n",
    "mean_zeropoints = []\n",
    "min_zeropoints = []\n",
    "max_zeropoints = []\n",
    "for band in roman_bands:\n",
    "    band_zeropoints = []\n",
    "    for sca in sca_names:\n",
    "        band_zeropoints.append(instrument.get_zeropoint(band, sca))\n",
    "    mean_zeropoints.append(np.mean(band_zeropoints))\n",
    "    min_zeropoints.append(np.min(band_zeropoints))\n",
    "    max_zeropoints.append(np.max(band_zeropoints))\n",
    "\n",
    "pprint(mean_zeropoints)\n",
    "\n",
    "uplims = np.array(max_zeropoints) - np.array(mean_zeropoints)\n",
    "lolims = np.array(mean_zeropoints) - np.array(min_zeropoints)"
   ]
  },
  {
   "cell_type": "code",
   "execution_count": 56,
   "metadata": {},
   "outputs": [
    {
     "data": {
      "image/png": "[encoded data removed]",
      "text/plain": [
       "<Figure size 350x500 with 1 Axes>"
      ]
     },
     "metadata": {},
     "output_type": "display_data"
    }
   ],
   "source": [
    "f = plt.figure(figsize=(3.5, 5))\n",
    "plt.subplots_adjust(bottom=0.3)\n",
    "\n",
    "for band in roman_bands:\n",
    "    try:\n",
    "        plt.plot(band, get_lenstronomy_zeropoint(band), '_', color='blue', ms=10, markeredgewidth=4)\n",
    "    except:\n",
    "        pass\n",
    "\n",
    "    try:\n",
    "        plt.plot(band, get_hounsell_et_al_zeropoint(band), '_', color='green', ms=10, markeredgewidth=4)\n",
    "    except:\n",
    "        pass\n",
    "\n",
    "    try:\n",
    "        plt.plot(band, get_og_filter_curve_zeropoint(band), '_', color='red', ms=10, markeredgewidth=4)\n",
    "    except:\n",
    "        pass\n",
    "\n",
    "plt.plot('F129', 26.40, '_', color='purple', ms=10, markeredgewidth=4)\n",
    "\n",
    "# plt.plot(roman_bands, mean_zeropoints, 'o', color='black')\n",
    "plt.errorbar(roman_bands, mean_zeropoints, yerr=[uplims, lolims], fmt='.', color='black', capsize=5)\n",
    "\n",
    "patch_1 = mpatches.Patch(color='blue', label='Lenstronomy')\n",
    "patch_2 = mpatches.Patch(color='green', label='Hounsell et al. 2018')\n",
    "patch_3 = mpatches.Patch(color='red', label='Roman Technical Specification 2020')\n",
    "patch_4 = mpatches.Patch(color='black', label='Roman Technical Specification 2024')\n",
    "patch_5 = mpatches.Patch(color='purple', label='Holloway et al. 2023, Ferrami and Wyithe 2024')\n",
    "plt.legend(handles=[patch_1, patch_2, patch_3, patch_4, patch_5], bbox_to_anchor=(1,0), loc=\"lower right\", bbox_transform=f.transFigure)\n",
    "\n",
    "plt.xlabel('Band')\n",
    "plt.ylabel('Zeropoint Magnitude')\n",
    "plt.title('Zeropoint Magnitudes for Roman Bands')\n",
    "plt.savefig(os.path.join(figure_dir, 'comparing_zeropoints.png'))\n",
    "plt.show()"
   ]
  }
 ],
 "metadata": {
  "kernelspec": {
   "display_name": "mejiro",
   "language": "python",
   "name": "python3"
  },
  "language_info": {
   "codemirror_mode": {
    "name": "ipython",
    "version": 3
   },
   "file_extension": ".py",
   "mimetype": "text/x-python",
   "name": "python",
   "nbconvert_exporter": "python",
   "pygments_lexer": "ipython3",
   "version": "3.10.6"
  }
 },
 "nbformat": 4,
 "nbformat_minor": 2
}
