{
 "cells": [
  {
   "cell_type": "code",
   "execution_count": 1,
   "metadata": {},
   "outputs": [],
   "source": [
    "import os\n",
    "import sys\n",
    "\n",
    "import numpy as np\n",
    "import matplotlib\n",
    "%matplotlib inline\n",
    "import matplotlib.pyplot as plt\n",
    "from matplotlib import colors\n",
    "from hydra import initialize, compose\n",
    "import pickle\n",
    "from glob import glob\n",
    "from pprint import pprint\n",
    "import galsim\n",
    "from pyHalo.preset_models import CDM\n",
    "from copy import deepcopy\n",
    "from lenstronomy.Util.correlation import power_spectrum_1d\n",
    "from matplotlib.lines import Line2D\n",
    "from lenstronomy.Plots import plot_util as len_plot_util\n",
    "\n",
    "# set paths to various directories based on the machine this code is being executed on\n",
    "try:\n",
    "    with initialize(version_base=None, config_path='config'):  \n",
    "        config = compose(config_name='config.yaml')  # overrides=['machine=uzay']\n",
    "except:\n",
    "    with initialize(version_base=None, config_path='../../config'):  \n",
    "        config = compose(config_name='config.yaml')  # overrides=['machine=uzay']\n",
    "\n",
    "array_dir, data_dir, figure_dir, pickle_dir, repo_dir  = config.machine.array_dir, config.machine.data_dir, config.machine.figure_dir, config.machine.pickle_dir, config.machine.repo_dir\n",
    "\n",
    "# enable use of local modules\n",
    "if repo_dir not in sys.path:\n",
    "    sys.path.append(repo_dir)\n",
    "\n",
    "# set matplotlib style\n",
    "plt.style.use(f'{repo_dir}/mejiro/mplstyle/science.mplstyle')\n",
    "\n",
    "from mejiro.plots import plot_util\n",
    "from mejiro.utils import util"
   ]
  },
  {
   "cell_type": "code",
   "execution_count": 2,
   "metadata": {},
   "outputs": [],
   "source": [
    "ps_dir = os.path.join(data_dir, 'output', 'power_spectra_parallelized')\n",
    "r = np.load(os.path.join(ps_dir, 'r.npy'))"
   ]
  },
  {
   "cell_type": "markdown",
   "metadata": {},
   "source": [
    "Get subhalo mass functions"
   ]
  },
  {
   "cell_type": "code",
   "execution_count": 3,
   "metadata": {},
   "outputs": [],
   "source": [
    "wdm_realizations = util.unpickle_all(ps_dir, 'wdm_realization_', '.pkl')\n",
    "mdm_realizations = util.unpickle_all(ps_dir, 'mdm_realization_', '.pkl')\n",
    "sdm_realizations = util.unpickle_all(ps_dir, 'sdm_realization_', '.pkl')\n",
    "cdm_realizations = util.unpickle_all(ps_dir, 'cdm_realization_', '.pkl')\n",
    "\n",
    "def get_bins_mean_std(realizations, num_bins):\n",
    "    count_list = []\n",
    "\n",
    "    for realization in realizations:\n",
    "        cdm_halo_masses = [halo.mass for halo in realization.halos]\n",
    "        count, bins = np.histogram(cdm_halo_masses, bins=np.logspace(6, 11, num_bins))\n",
    "        count_list.append(count)\n",
    "\n",
    "    return bins[:-1], np.mean(count_list, axis=0), np.std(count_list, axis=0)\n",
    "\n",
    "bins_wdm_shmf, mean_wdm_shmf, std_wdm_shmf = get_bins_mean_std(wdm_realizations, 20)\n",
    "bins_mdm_shmf, mean_mdm_shmf, std_mdm_shmf = get_bins_mean_std(mdm_realizations, 20)\n",
    "bins_sdm_shmf, mean_sdm_shmf, std_sdm_shmf = get_bins_mean_std(sdm_realizations, 20)\n",
    "bins_cdm_shmf, mean_cdm_shmf, std_cdm_shmf = get_bins_mean_std(cdm_realizations, 20)"
   ]
  },
  {
   "cell_type": "markdown",
   "metadata": {},
   "source": [
    "Get power spectra of convergence maps"
   ]
  },
  {
   "cell_type": "code",
   "execution_count": 4,
   "metadata": {},
   "outputs": [],
   "source": [
    "kappa_r = np.load(os.path.join(ps_dir, 'kappa_r.npy'))\n",
    "kappa_ps_wdm = [np.load(i) for i in glob(os.path.join(ps_dir, f'ps_kappa_wdm_*.npy'))]\n",
    "kappa_ps_mdm = [np.load(i) for i in glob(os.path.join(ps_dir, f'ps_kappa_mdm_*.npy'))]\n",
    "kappa_ps_sdm = [np.load(i) for i in glob(os.path.join(ps_dir, f'ps_kappa_sdm_*.npy'))]\n",
    "kappa_ps_cdm = [np.load(i) for i in glob(os.path.join(ps_dir, f'ps_kappa_cdm_*.npy'))]\n",
    "\n",
    "stack_kappa_ps_wdm = np.vstack(kappa_ps_wdm)\n",
    "stack_kappa_ps_mdm = np.vstack(kappa_ps_mdm)\n",
    "stack_kappa_ps_sdm = np.vstack(kappa_ps_sdm)\n",
    "stack_kappa_ps_cdm = np.vstack(kappa_ps_cdm)\n",
    "\n",
    "mean_kappa_ps_wdm = np.mean(stack_kappa_ps_wdm, axis=0)\n",
    "mean_kappa_ps_mdm = np.mean(stack_kappa_ps_mdm, axis=0)\n",
    "mean_kappa_ps_sdm = np.mean(stack_kappa_ps_sdm, axis=0)\n",
    "mean_kappa_ps_cdm = np.mean(stack_kappa_ps_cdm, axis=0)\n",
    "\n",
    "std_kappa_ps_wdm = np.std(stack_kappa_ps_wdm, axis=0, ddof=1)\n",
    "std_kappa_ps_mdm = np.std(stack_kappa_ps_mdm, axis=0, ddof=1)\n",
    "std_kappa_ps_sdm = np.std(stack_kappa_ps_sdm, axis=0, ddof=1)\n",
    "std_kappa_ps_cdm = np.std(stack_kappa_ps_cdm, axis=0, ddof=1)\n",
    "\n",
    "assert mean_kappa_ps_wdm.shape == kappa_r.shape == std_kappa_ps_wdm.shape == mean_kappa_ps_mdm.shape == std_kappa_ps_mdm.shape == mean_kappa_ps_cdm.shape == std_kappa_ps_cdm.shape == mean_kappa_ps_sdm.shape == std_kappa_ps_sdm.shape"
   ]
  },
  {
   "cell_type": "markdown",
   "metadata": {},
   "source": [
    "Grab all data where we vary subhalo populations"
   ]
  },
  {
   "cell_type": "code",
   "execution_count": 5,
   "metadata": {},
   "outputs": [],
   "source": [
    "res_wdm_list = [np.load(i) for i in glob(os.path.join(ps_dir, f'res_ps_wdm_*.npy'))]\n",
    "res_mdm_list = [np.load(i) for i in glob(os.path.join(ps_dir, f'res_ps_mdm_*.npy'))]\n",
    "res_sdm_list = [np.load(i) for i in glob(os.path.join(ps_dir, f'res_ps_sdm_*.npy'))]\n",
    "\n",
    "mean_wdm = np.mean(res_wdm_list, axis=0)\n",
    "mean_mdm = np.mean(res_mdm_list, axis=0)\n",
    "mean_sdm = np.mean(res_sdm_list, axis=0)\n",
    "\n",
    "# TODO make percentile instead of std because doesn't reflect asymmetry of distribution? but unclear what percentile would mean in this context\n",
    "std_wdm = np.std(res_wdm_list, axis=0, ddof=1)\n",
    "std_mdm = np.std(res_mdm_list, axis=0, ddof=1)\n",
    "std_sdm = np.std(res_sdm_list, axis=0, ddof=1)\n",
    "\n",
    "assert mean_wdm.shape == mean_mdm.shape == std_wdm.shape == std_mdm.shape == r.shape == mean_sdm.shape == std_sdm.shape"
   ]
  },
  {
   "cell_type": "markdown",
   "metadata": {},
   "source": [
    "Grab all data where we vary detector positions"
   ]
  },
  {
   "cell_type": "code",
   "execution_count": 6,
   "metadata": {},
   "outputs": [],
   "source": [
    "# res_pos_1_list = [np.load(i) for i in glob(os.path.join(ps_dir, f'res_ps_pos_1_*.npy'))]\n",
    "# res_pos_2_list = [np.load(i) for i in glob(os.path.join(ps_dir, f'res_ps_pos_2_*.npy'))]\n",
    "# res_pos_3_list = [np.load(i) for i in glob(os.path.join(ps_dir, f'res_ps_pos_3_*.npy'))]\n",
    "\n",
    "# mean_pos_1 = np.mean(res_pos_1_list, axis=0)\n",
    "# mean_pos_2 = np.mean(res_pos_2_list, axis=0)\n",
    "# mean_pos_3 = np.mean(res_pos_3_list, axis=0)\n",
    "\n",
    "# std_pos_1 = np.std(res_pos_1_list, axis=0, ddof=1)\n",
    "# std_pos_2 = np.std(res_pos_2_list, axis=0, ddof=1)\n",
    "# std_pos_3 = np.std(res_pos_3_list, axis=0, ddof=1)"
   ]
  },
  {
   "cell_type": "markdown",
   "metadata": {},
   "source": [
    "Plot"
   ]
  },
  {
   "cell_type": "code",
   "execution_count": 7,
   "metadata": {},
   "outputs": [
    {
     "data": {
      "image/png": "[encoded data removed]",
      "text/plain": [
       "<Figure size 350x200 with 2 Axes>"
      ]
     },
     "metadata": {},
     "output_type": "display_data"
    }
   ],
   "source": [
    "f, ax = plt.subplots(1, 2, figsize=(3.5, 2), constrained_layout=True)\n",
    "std_alpha = 0.2\n",
    "\n",
    "ax[0].loglog(bins_cdm_shmf, mean_cdm_shmf, alpha=1., color='C3', label=r'$10^{6}-10^{10}$ M$_{\\odot}$')\n",
    "# ax[0].fill_between(bins_cdm_shmf, mean_cdm_shmf - std_cdm_shmf, mean_cdm_shmf + std_cdm_shmf, alpha=std_alpha, color='C3')\n",
    "ax[0].loglog(bins_sdm_shmf, mean_sdm_shmf, alpha=1., color='C2', label=r'$10^{7}-10^{10}$ M$_{\\odot}$')\n",
    "# ax[0].fill_between(bins_sdm_shmf, mean_sdm_shmf - std_sdm_shmf, mean_sdm_shmf + std_sdm_shmf, alpha=std_alpha, color='C2')\n",
    "ax[0].loglog(bins_mdm_shmf, mean_mdm_shmf, alpha=1., color='C1', label=r'$10^{8}-10^{10}$ M$_{\\odot}$')\n",
    "# ax[0].fill_between(bins_mdm_shmf, mean_mdm_shmf - std_mdm_shmf, mean_mdm_shmf + std_mdm_shmf, alpha=std_alpha, color='C1')\n",
    "ax[0].loglog(bins_wdm_shmf, mean_wdm_shmf, alpha=1., color='C0', label=r'$10^{9}-10^{10}$ M$_{\\odot}$')\n",
    "# ax[0].fill_between(bins_wdm_shmf, mean_wdm_shmf - std_wdm_shmf, mean_wdm_shmf + std_wdm_shmf, alpha=std_alpha, color='C0')\n",
    "ax[0].set_xlabel('Halo mass [' + r'$M_{\\odot}$]')\n",
    "ax[0].set_xticks([1e6, 1e8, 1e10])\n",
    "ax[0].set_ylabel('Count')\n",
    "\n",
    "ax[1].loglog(kappa_r, mean_kappa_ps_cdm, alpha=1., color='C3', label='')\n",
    "# ax[1].fill_between(kappa_r, mean_kappa_ps_cdm - std_kappa_ps_cdm, mean_kappa_ps_cdm + std_kappa_ps_cdm, alpha=std_alpha, color='C2')\n",
    "ax[1].loglog(kappa_r, mean_kappa_ps_sdm, alpha=1., color='C2', label='')\n",
    "# ax[1].fill_between(kappa_r, mean_kappa_ps_sdm - std_kappa_ps_sdm, mean_kappa_ps_sdm + std_kappa_ps_sdm, alpha=std_alpha, color='C3')\n",
    "ax[1].loglog(kappa_r, mean_kappa_ps_mdm, alpha=1., color='C1', label='')\n",
    "# ax[1].fill_between(kappa_r, mean_kappa_ps_mdm - std_kappa_ps_mdm, mean_kappa_ps_mdm + std_kappa_ps_mdm, alpha=std_alpha, color='C1')\n",
    "ax[1].loglog(kappa_r, mean_kappa_ps_wdm, alpha=1., color='C0', label='')\n",
    "# ax[1].fill_between(kappa_r, mean_kappa_ps_wdm - std_kappa_ps_wdm, mean_kappa_ps_wdm + std_kappa_ps_wdm, alpha=std_alpha, color='C0')\n",
    "ax[1].set_xlabel('Radius [pixels]')\n",
    "ax[1].set_ylabel(r'$P(\\kappa)$')\n",
    "\n",
    "handles_subs, labels_subs = ax[0].get_legend_handles_labels()\n",
    "f.legend(handles_subs, labels_subs, loc='upper center', ncols=2, bbox_to_anchor=(0.52, 1.3))\n",
    "\n",
    "plt.savefig(os.path.join(figure_dir, 'power_spectra.png'), dpi=1200)\n",
    "plt.show()"
   ]
  }
 ],
 "metadata": {
  "kernelspec": {
   "display_name": "mejiro",
   "language": "python",
   "name": "python3"
  },
  "language_info": {
   "codemirror_mode": {
    "name": "ipython",
    "version": 3
   },
   "file_extension": ".py",
   "mimetype": "text/x-python",
   "name": "python",
   "nbconvert_exporter": "python",
   "pygments_lexer": "ipython3",
   "version": "3.10.6"
  }
 },
 "nbformat": 4,
 "nbformat_minor": 2
}
